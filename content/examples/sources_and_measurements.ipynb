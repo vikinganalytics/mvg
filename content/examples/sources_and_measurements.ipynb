{
 "cells": [
  {
   "cell_type": "markdown",
   "id": "f97e031d",
   "metadata": {},
   "source": [
    "# Sources and Measurements Example\n",
    "\n",
    "This example shows how to upload measurements from an external repository into the MultiViz Analytics Engine (MVG) service and how to read this data."
   ]
  },
  {
   "cell_type": "code",
   "execution_count": 1,
   "id": "f124f59c",
   "metadata": {
    "ExecuteTime": {
     "end_time": "2021-03-18T09:54:16.678492Z",
     "start_time": "2021-03-18T09:54:16.487989Z"
    }
   },
   "outputs": [],
   "source": [
    "import json\n",
    "import os\n",
    "import sys\n",
    "import logging\n",
    "from pathlib import Path\n",
    "\n",
    "import pandas as pd\n",
    "import requests\n",
    "from requests import HTTPError\n",
    "\n",
    "# import mvg library with python bindings to mvg-API\n",
    "from mvg import MVG"
   ]
  },
  {
   "cell_type": "markdown",
   "id": "3366e309",
   "metadata": {
    "ExecuteTime": {
     "end_time": "2021-03-04T14:04:45.710183Z",
     "start_time": "2021-03-04T14:04:45.705726Z"
    }
   },
   "source": [
    "Note that the `TOKEN` is used both for authorization and authentication.\n",
    "Thus, each unique token represents a unique user and each user has their own unique database on the VA service.\n",
    "\n",
    "**You need to insert your token received from Viking Analytics here:**"
   ]
  },
  {
   "cell_type": "code",
   "execution_count": 2,
   "id": "50a502a6",
   "metadata": {
    "ExecuteTime": {
     "end_time": "2021-03-18T09:54:16.681622Z",
     "start_time": "2021-03-18T09:54:16.679684Z"
    }
   },
   "outputs": [],
   "source": [
    "# Replace by your own Token\n",
    "VALID_TOKEN = os.environ['TEST_TOKEN']"
   ]
  },
  {
   "cell_type": "markdown",
   "id": "1a35e014",
   "metadata": {},
   "source": [
    "This is Viking Analytics default logging setup which can be adapted to suit your needs.\n",
    "Log messages are printed from `mvg` library, see the source code for details."
   ]
  },
  {
   "cell_type": "code",
   "execution_count": 3,
   "id": "0321560d",
   "metadata": {
    "ExecuteTime": {
     "end_time": "2021-03-18T09:54:16.688245Z",
     "start_time": "2021-03-18T09:54:16.683121Z"
    }
   },
   "outputs": [],
   "source": [
    "root_logger = logging.getLogger()\n",
    "root_logger.setLevel(\"INFO\")\n",
    "formatter = logging.Formatter(\"%(asctime)s - %(levelname)s - %(name)s - %(message)s\")\n",
    "stream_handler = logging.StreamHandler(stream=sys.stderr)\n",
    "stream_handler.setFormatter(formatter)\n",
    "root_logger.addHandler(stream_handler)"
   ]
  },
  {
   "cell_type": "markdown",
   "id": "a87392ea",
   "metadata": {},
   "source": [
    "## Downloading the Data\n",
    "\n",
    "We pick the data from one source from our public charlie repo https://github.com/vikinganalytics/va-data-charlie.git for convenience.\n",
    "Clone that repository to get access to the data."
   ]
  },
  {
   "cell_type": "code",
   "execution_count": 4,
   "id": "301edf76",
   "metadata": {
    "ExecuteTime": {
     "end_time": "2021-03-18T09:54:16.800754Z",
     "start_time": "2021-03-18T09:54:16.689464Z"
    }
   },
   "outputs": [
    {
     "name": "stderr",
     "output_type": "stream",
     "text": [
      "fatal: destination path 'va-data-charlie' already exists and is not an empty directory.\n"
     ]
    }
   ],
   "source": [
    "!git clone https://github.com/vikinganalytics/va-data-charlie.git"
   ]
  },
  {
   "cell_type": "markdown",
   "id": "9410ef61",
   "metadata": {},
   "source": [
    "We are going to use six of the sources from the charlie dataset with IDs `u0001` to `u0006`."
   ]
  },
  {
   "cell_type": "code",
   "execution_count": 5,
   "id": "bc165c02",
   "metadata": {
    "ExecuteTime": {
     "end_time": "2021-03-18T09:54:16.804606Z",
     "start_time": "2021-03-18T09:54:16.802048Z"
    }
   },
   "outputs": [],
   "source": [
    "REF_DB_PATH = Path.cwd() / \"va-data-charlie\" / \"charlieDb\" / \"acc\"\n",
    "SOURCE_IDS = [\"u0001\", \"u0002\", \"u0003\", \"u0004\", \"u0005\", \"u0006\"]"
   ]
  },
  {
   "cell_type": "markdown",
   "id": "037bd0b2",
   "metadata": {},
   "source": [
    "## Connect to the API\n",
    "\n",
    "Instantiate a session object with mvg library a session object basically caches the endpoint and the token,\n",
    "to simplify the calls to the MVG library."
   ]
  },
  {
   "cell_type": "code",
   "execution_count": 6,
   "id": "355fd582",
   "metadata": {
    "ExecuteTime": {
     "end_time": "2021-03-18T09:54:16.957584Z",
     "start_time": "2021-03-18T09:54:16.805695Z"
    }
   },
   "outputs": [],
   "source": [
    "ENDPOINT = \"https://api.beta.multiviz.com\"\n",
    "session = MVG(ENDPOINT, VALID_TOKEN)"
   ]
  },
  {
   "cell_type": "markdown",
   "id": "e1ca7e31",
   "metadata": {},
   "source": [
    "We now check if the server is alive. The hello message contains, amongst others the API version."
   ]
  },
  {
   "cell_type": "code",
   "execution_count": 7,
   "id": "b60e1744",
   "metadata": {
    "ExecuteTime": {
     "end_time": "2021-03-18T09:54:17.111625Z",
     "start_time": "2021-03-18T09:54:16.958633Z"
    }
   },
   "outputs": [
    {
     "name": "stderr",
     "output_type": "stream",
     "text": [
      "2021-07-13 19:29:54,775 - INFO - mvg.mvg - Getting API info for: https://api.beta.multiviz.com\n"
     ]
    },
    {
     "name": "stdout",
     "output_type": "stream",
     "text": [
      "{\"api\": {\"name\": \"MultiViz Engine API\", \"version\": \"v0.1.14\", \"swagger\": \"http://api.beta.multiviz.com/docs\"}}\n"
     ]
    }
   ],
   "source": [
    "hello_message = json.dumps(session.say_hello())\n",
    "print(hello_message)"
   ]
  },
  {
   "cell_type": "markdown",
   "id": "1e49973b",
   "metadata": {},
   "source": [
    "## Check Database\n",
    "\n",
    "We start by seeing if there are any sources in the database.\n",
    "A source represents a measurement source e.g. one specific channel of a measurement sensor.\n",
    "Note that sources cannot be used to represent a sensor with several channels.\n",
    "If this is required, the client side needs to take care of it.\n",
    "\n",
    "Because we want to start at a clean slate we will list all sources (potentially none) and delete all of them"
   ]
  },
  {
   "cell_type": "code",
   "execution_count": 7,
   "id": "dbfe9991",
   "metadata": {
    "ExecuteTime": {
     "end_time": "2021-03-18T09:54:17.247583Z",
     "start_time": "2021-03-18T09:54:17.113206Z"
    }
   },
   "outputs": [
    {
     "name": "stderr",
     "output_type": "stream",
     "text": [
      "2021-06-24 11:38:17,928 - INFO - mvg.mvg - endpoint https://api.beta.multiviz.com\n",
      "2021-06-24 11:38:17,929 - INFO - mvg.mvg - listing sources\n",
      "2021-06-24 11:38:18,147 - INFO - mvg.mvg - endpoint https://api.beta.multiviz.com\n",
      "2021-06-24 11:38:18,148 - INFO - mvg.mvg - retrieving source with source id=u0001\n"
     ]
    },
    {
     "name": "stdout",
     "output_type": "stream",
     "text": [
      "Retrieved sources\n",
      "{'source_id': 'u0001', 'meta': {'assetId': 'assetA', 'measPoint': 'mloc01', 'location': 'paris'}, 'properties': {'data_class': 'waveform'}}\n",
      "Source info retrieved for one source: {'source_id': 'u0001', 'meta': {'assetId': 'assetA', 'measPoint': 'mloc01', 'location': 'paris'}, 'properties': {'data_class': 'waveform'}}\n"
     ]
    }
   ],
   "source": [
    "sources = session.list_sources()\n",
    "\n",
    "print(\"Retrieved sources\")\n",
    "for src in sources:\n",
    "    print(src)\n",
    "    # While the list returned contains all information\n",
    "    # about all known sources, it is also possible\n",
    "    # to query for a single source by its id\n",
    "    s_info = session.get_source(src['source_id'])\n",
    "    print(f\"Source info retrieved for one source: {s_info}\")"
   ]
  },
  {
   "cell_type": "markdown",
   "id": "5a366f09",
   "metadata": {},
   "source": [
    "The example below revolves around a source with source id u0001"
   ]
  },
  {
   "cell_type": "code",
   "execution_count": 8,
   "id": "e090e416",
   "metadata": {
    "ExecuteTime": {
     "end_time": "2021-03-18T09:54:17.250783Z",
     "start_time": "2021-03-18T09:54:17.248845Z"
    }
   },
   "outputs": [],
   "source": [
    "SOURCE_ID = SOURCE_IDS[0]"
   ]
  },
  {
   "cell_type": "markdown",
   "id": "810a60f3",
   "metadata": {},
   "source": [
    "To make sure we start from a clean slate we delete our resource in case it exists."
   ]
  },
  {
   "cell_type": "code",
   "execution_count": 9,
   "id": "1bba78a7",
   "metadata": {
    "ExecuteTime": {
     "end_time": "2021-03-18T09:54:17.408675Z",
     "start_time": "2021-03-18T09:54:17.252056Z"
    }
   },
   "outputs": [
    {
     "name": "stderr",
     "output_type": "stream",
     "text": [
      "2021-06-24 11:39:00,051 - INFO - mvg.mvg - endpoint https://api.beta.multiviz.com\n",
      "2021-06-24 11:39:00,053 - INFO - mvg.mvg - retrieving source with source id=u0001\n",
      "2021-06-24 11:39:00,281 - INFO - mvg.mvg - endpoint https://api.beta.multiviz.com\n",
      "2021-06-24 11:39:00,282 - INFO - mvg.mvg - deleting source with source id=u0001\n"
     ]
    },
    {
     "name": "stdout",
     "output_type": "stream",
     "text": [
      "Deleting u0001\n"
     ]
    }
   ],
   "source": [
    "try:\n",
    "    source = session.get_source(SOURCE_ID)\n",
    "    print(f\"Deleting {SOURCE_ID}\")\n",
    "    session.delete_source(SOURCE_ID)\n",
    "except HTTPError:\n",
    "    print(f\"Source {SOURCE_ID} does not exist\")"
   ]
  },
  {
   "cell_type": "markdown",
   "id": "c92a7151",
   "metadata": {},
   "source": [
    "## Build measurements\n",
    "\n",
    "Now we want to (re) build the source and the attached measurements from scratch"
   ]
  },
  {
   "cell_type": "code",
   "execution_count": 10,
   "id": "ec005c33",
   "metadata": {
    "ExecuteTime": {
     "end_time": "2021-03-18T09:54:17.413080Z",
     "start_time": "2021-03-18T09:54:17.409985Z"
    }
   },
   "outputs": [
    {
     "name": "stdout",
     "output_type": "stream",
     "text": [
      "creating\n",
      "{'assetId': 'assetA', 'measPoint': 'mloc01', 'location': 'paris'}\n"
     ]
    }
   ],
   "source": [
    "src_path = REF_DB_PATH / SOURCE_ID\n",
    "m_file_name = REF_DB_PATH / SOURCE_ID / \"meta.json\"\n",
    "with open(m_file_name, \"r\") as json_file:\n",
    "    meta = json.load(json_file)\n",
    "print(\"creating\")\n",
    "print(meta)"
   ]
  },
  {
   "cell_type": "markdown",
   "id": "132672c2",
   "metadata": {},
   "source": [
    "Create the source and check for it"
   ]
  },
  {
   "cell_type": "code",
   "execution_count": 11,
   "id": "aec13ac6",
   "metadata": {
    "ExecuteTime": {
     "end_time": "2021-03-18T09:54:17.688070Z",
     "start_time": "2021-03-18T09:54:17.414133Z"
    }
   },
   "outputs": [
    {
     "name": "stderr",
     "output_type": "stream",
     "text": [
      "2021-06-24 11:39:28,004 - INFO - mvg.mvg - endpoint https://api.beta.multiviz.com\n",
      "2021-06-24 11:39:28,006 - INFO - mvg.mvg - creating source with source id=u0001\n",
      "2021-06-24 11:39:28,008 - INFO - mvg.mvg - metadata: {'assetId': 'assetA', 'measPoint': 'mloc01', 'location': 'paris'}\n",
      "2021-06-24 11:39:28,231 - INFO - mvg.mvg - endpoint https://api.beta.multiviz.com\n",
      "2021-06-24 11:39:28,231 - INFO - mvg.mvg - retrieving source with source id=u0001\n"
     ]
    },
    {
     "name": "stdout",
     "output_type": "stream",
     "text": [
      "Retrieved\n",
      "{'source_id': 'u0001', 'meta': {'assetId': 'assetA', 'measPoint': 'mloc01', 'location': 'paris'}, 'properties': {'data_class': 'waveform'}}\n"
     ]
    }
   ],
   "source": [
    "session.create_source(SOURCE_ID, meta)  # create\n",
    "source = session.get_source(SOURCE_ID)\n",
    "print(\"Retrieved\")\n",
    "print(source)"
   ]
  },
  {
   "cell_type": "markdown",
   "id": "6486bc27",
   "metadata": {},
   "source": [
    "Update the source"
   ]
  },
  {
   "cell_type": "code",
   "execution_count": 12,
   "id": "7d525423",
   "metadata": {
    "ExecuteTime": {
     "end_time": "2021-03-18T09:54:17.983670Z",
     "start_time": "2021-03-18T09:54:17.689219Z"
    }
   },
   "outputs": [
    {
     "name": "stderr",
     "output_type": "stream",
     "text": [
      "2021-06-24 11:40:00,900 - INFO - mvg.mvg - endpoint https://api.beta.multiviz.com\n",
      "2021-06-24 11:40:00,901 - INFO - mvg.mvg - updating source with source id=u0001\n",
      "2021-06-24 11:40:00,902 - INFO - mvg.mvg - metadata: {'assetId': 'assetA', 'measPoint': 'mloc01', 'location': 'paris', 'updated': 'YES! I have been updated'}\n",
      "2021-06-24 11:40:01,117 - INFO - mvg.mvg - endpoint https://api.beta.multiviz.com\n",
      "2021-06-24 11:40:01,117 - INFO - mvg.mvg - retrieving source with source id=u0001\n"
     ]
    },
    {
     "name": "stdout",
     "output_type": "stream",
     "text": [
      "Retrieved\n",
      "{'source_id': 'u0001', 'meta': {'assetId': 'assetA', 'measPoint': 'mloc01', 'location': 'paris', 'updated': 'YES! I have been updated'}, 'properties': {'data_class': 'waveform'}}\n"
     ]
    }
   ],
   "source": [
    "meta['updated'] = \"YES! I have been updated\"\n",
    "session.update_source(SOURCE_ID, meta)  # update\n",
    "source = session.get_source(SOURCE_ID)\n",
    "print(\"Retrieved\")\n",
    "print(source)"
   ]
  },
  {
   "cell_type": "markdown",
   "id": "feb1c18e",
   "metadata": {},
   "source": [
    "Upload measurements to source. Measurements are tied to sources, they consist of\n",
    "\n",
    "- an array of floating point values\n",
    "- timestamp when the values were sampled\n",
    "- a field for the duration of the measurement\n",
    "- meta information to be stored along the measurement"
   ]
  },
  {
   "cell_type": "code",
   "execution_count": 13,
   "id": "d95b8d20",
   "metadata": {
    "ExecuteTime": {
     "end_time": "2021-03-18T09:54:17.986967Z",
     "start_time": "2021-03-18T09:54:17.984640Z"
    }
   },
   "outputs": [],
   "source": [
    "meas = {f.split(\".\")[0] for f in os.listdir(src_path)}\n",
    "meas.remove(\"meta\")"
   ]
  },
  {
   "cell_type": "markdown",
   "id": "0bdba095",
   "metadata": {},
   "source": [
    "`meas` now contains a list of timestamps representing the measurements in our repo we upload from iterate over all of them."
   ]
  },
  {
   "cell_type": "code",
   "execution_count": 14,
   "id": "3a471c2f",
   "metadata": {
    "ExecuteTime": {
     "end_time": "2021-03-18T09:55:15.657580Z",
     "start_time": "2021-03-18T09:54:17.988134Z"
    }
   },
   "outputs": [
    {
     "name": "stderr",
     "output_type": "stream",
     "text": [
      "2021-06-24 11:40:21,485 - INFO - mvg.mvg - endpoint https://api.beta.multiviz.com\n",
      "2021-06-24 11:40:21,485 - INFO - mvg.mvg - creating measurement from source id=u0001\n",
      "2021-06-24 11:40:21,486 - INFO - mvg.mvg -   duration:  2.8672073400507907\n",
      "2021-06-24 11:40:21,486 - INFO - mvg.mvg -   timestamp: 1573732860\n",
      "2021-06-24 11:40:21,487 - INFO - mvg.mvg -   meta data: {'sampling_rate': 13950.857142857141}\n"
     ]
    },
    {
     "name": "stdout",
     "output_type": "stream",
     "text": [
      "Read 40000 samples\n",
      "Read meta: {'duration': 2.8672073400507907, 'meta': {}}\n",
      "Uploading C:\\Users\\Sergio\\Documents\\GitHub\\mvg\\docs\\source\\content\\examples\\va-data-charlie\\charlieDb\\acc\\u0001\\1573732860.csv\n"
     ]
    },
    {
     "name": "stderr",
     "output_type": "stream",
     "text": [
      "2021-06-24 11:40:30,068 - INFO - mvg.mvg - endpoint https://api.beta.multiviz.com\n",
      "2021-06-24 11:40:30,068 - INFO - mvg.mvg - creating measurement from source id=u0001\n",
      "2021-06-24 11:40:30,069 - INFO - mvg.mvg -   duration:  2.8672073400507907\n",
      "2021-06-24 11:40:30,069 - INFO - mvg.mvg -   timestamp: 1571655660\n",
      "2021-06-24 11:40:30,069 - INFO - mvg.mvg -   meta data: {'sampling_rate': 13950.857142857141}\n"
     ]
    },
    {
     "name": "stdout",
     "output_type": "stream",
     "text": [
      "Read 40000 samples\n",
      "Read meta: {'duration': 2.8672073400507907, 'meta': {}}\n",
      "Uploading C:\\Users\\Sergio\\Documents\\GitHub\\mvg\\docs\\source\\content\\examples\\va-data-charlie\\charlieDb\\acc\\u0001\\1571655660.csv\n"
     ]
    },
    {
     "name": "stderr",
     "output_type": "stream",
     "text": [
      "2021-06-24 11:40:37,684 - INFO - mvg.mvg - endpoint https://api.beta.multiviz.com\n",
      "2021-06-24 11:40:37,685 - INFO - mvg.mvg - creating measurement from source id=u0001\n",
      "2021-06-24 11:40:37,685 - INFO - mvg.mvg -   duration:  2.8672073400507907\n",
      "2021-06-24 11:40:37,686 - INFO - mvg.mvg -   timestamp: 1572523260\n",
      "2021-06-24 11:40:37,686 - INFO - mvg.mvg -   meta data: {'sampling_rate': 13950.857142857141}\n"
     ]
    },
    {
     "name": "stdout",
     "output_type": "stream",
     "text": [
      "Read 40000 samples\n",
      "Read meta: {'duration': 2.8672073400507907, 'meta': {}}\n",
      "Uploading C:\\Users\\Sergio\\Documents\\GitHub\\mvg\\docs\\source\\content\\examples\\va-data-charlie\\charlieDb\\acc\\u0001\\1572523260.csv\n"
     ]
    },
    {
     "name": "stderr",
     "output_type": "stream",
     "text": [
      "2021-06-24 11:40:44,673 - INFO - mvg.mvg - endpoint https://api.beta.multiviz.com\n",
      "2021-06-24 11:40:44,673 - INFO - mvg.mvg - creating measurement from source id=u0001\n",
      "2021-06-24 11:40:44,674 - INFO - mvg.mvg -   duration:  2.8672073400507907\n",
      "2021-06-24 11:40:44,674 - INFO - mvg.mvg -   timestamp: 1571569260\n",
      "2021-06-24 11:40:44,674 - INFO - mvg.mvg -   meta data: {'sampling_rate': 13950.857142857141}\n"
     ]
    },
    {
     "name": "stdout",
     "output_type": "stream",
     "text": [
      "Read 40000 samples\n",
      "Read meta: {'duration': 2.8672073400507907, 'meta': {}}\n",
      "Uploading C:\\Users\\Sergio\\Documents\\GitHub\\mvg\\docs\\source\\content\\examples\\va-data-charlie\\charlieDb\\acc\\u0001\\1571569260.csv\n"
     ]
    },
    {
     "name": "stderr",
     "output_type": "stream",
     "text": [
      "2021-06-24 11:40:51,339 - INFO - mvg.mvg - endpoint https://api.beta.multiviz.com\n",
      "2021-06-24 11:40:51,339 - INFO - mvg.mvg - creating measurement from source id=u0001\n",
      "2021-06-24 11:40:51,340 - INFO - mvg.mvg -   duration:  2.8672073400507907\n",
      "2021-06-24 11:40:51,340 - INFO - mvg.mvg -   timestamp: 1572177660\n",
      "2021-06-24 11:40:51,341 - INFO - mvg.mvg -   meta data: {'sampling_rate': 13950.857142857141}\n"
     ]
    },
    {
     "name": "stdout",
     "output_type": "stream",
     "text": [
      "Read 40000 samples\n",
      "Read meta: {'duration': 2.8672073400507907, 'meta': {}}\n",
      "Uploading C:\\Users\\Sergio\\Documents\\GitHub\\mvg\\docs\\source\\content\\examples\\va-data-charlie\\charlieDb\\acc\\u0001\\1572177660.csv\n"
     ]
    },
    {
     "name": "stderr",
     "output_type": "stream",
     "text": [
      "2021-06-24 11:40:58,270 - INFO - mvg.mvg - endpoint https://api.beta.multiviz.com\n",
      "2021-06-24 11:40:58,271 - INFO - mvg.mvg - creating measurement from source id=u0001\n",
      "2021-06-24 11:40:58,272 - INFO - mvg.mvg -   duration:  2.8672073400507907\n",
      "2021-06-24 11:40:58,273 - INFO - mvg.mvg -   timestamp: 1570705260\n",
      "2021-06-24 11:40:58,273 - INFO - mvg.mvg -   meta data: {'sampling_rate': 13950.857142857141}\n"
     ]
    },
    {
     "name": "stdout",
     "output_type": "stream",
     "text": [
      "Read 40000 samples\n",
      "Read meta: {'duration': 2.8672073400507907, 'meta': {}}\n",
      "Uploading C:\\Users\\Sergio\\Documents\\GitHub\\mvg\\docs\\source\\content\\examples\\va-data-charlie\\charlieDb\\acc\\u0001\\1570705260.csv\n"
     ]
    },
    {
     "name": "stderr",
     "output_type": "stream",
     "text": [
      "2021-06-24 11:41:05,408 - INFO - mvg.mvg - endpoint https://api.beta.multiviz.com\n",
      "2021-06-24 11:41:05,409 - INFO - mvg.mvg - creating measurement from source id=u0001\n",
      "2021-06-24 11:41:05,410 - INFO - mvg.mvg -   duration:  2.8672073400507907\n",
      "2021-06-24 11:41:05,410 - INFO - mvg.mvg -   timestamp: 1572868860\n",
      "2021-06-24 11:41:05,411 - INFO - mvg.mvg -   meta data: {'sampling_rate': 13950.857142857141}\n"
     ]
    },
    {
     "name": "stdout",
     "output_type": "stream",
     "text": [
      "Read 40000 samples\n",
      "Read meta: {'duration': 2.8672073400507907, 'meta': {}}\n",
      "Uploading C:\\Users\\Sergio\\Documents\\GitHub\\mvg\\docs\\source\\content\\examples\\va-data-charlie\\charlieDb\\acc\\u0001\\1572868860.csv\n"
     ]
    },
    {
     "name": "stderr",
     "output_type": "stream",
     "text": [
      "2021-06-24 11:41:14,509 - INFO - mvg.mvg - endpoint https://api.beta.multiviz.com\n",
      "2021-06-24 11:41:14,509 - INFO - mvg.mvg - creating measurement from source id=u0001\n",
      "2021-06-24 11:41:14,510 - INFO - mvg.mvg -   duration:  2.8672073400507907\n",
      "2021-06-24 11:41:14,512 - INFO - mvg.mvg -   timestamp: 1570964460\n",
      "2021-06-24 11:41:14,513 - INFO - mvg.mvg -   meta data: {'sampling_rate': 13950.857142857141}\n"
     ]
    },
    {
     "name": "stdout",
     "output_type": "stream",
     "text": [
      "Read 40000 samples\n",
      "Read meta: {'duration': 2.8672073400507907, 'meta': {}}\n",
      "Uploading C:\\Users\\Sergio\\Documents\\GitHub\\mvg\\docs\\source\\content\\examples\\va-data-charlie\\charlieDb\\acc\\u0001\\1570964460.csv\n"
     ]
    },
    {
     "name": "stderr",
     "output_type": "stream",
     "text": [
      "2021-06-24 11:41:21,419 - INFO - mvg.mvg - endpoint https://api.beta.multiviz.com\n",
      "2021-06-24 11:41:21,419 - INFO - mvg.mvg - creating measurement from source id=u0001\n",
      "2021-06-24 11:41:21,420 - INFO - mvg.mvg -   duration:  2.8672073400507907\n",
      "2021-06-24 11:41:21,420 - INFO - mvg.mvg -   timestamp: 1572955260\n",
      "2021-06-24 11:41:21,421 - INFO - mvg.mvg -   meta data: {'sampling_rate': 13950.857142857141}\n"
     ]
    },
    {
     "name": "stdout",
     "output_type": "stream",
     "text": [
      "Read 40000 samples\n",
      "Read meta: {'duration': 2.8672073400507907, 'meta': {}}\n",
      "Uploading C:\\Users\\Sergio\\Documents\\GitHub\\mvg\\docs\\source\\content\\examples\\va-data-charlie\\charlieDb\\acc\\u0001\\1572955260.csv\n"
     ]
    },
    {
     "name": "stderr",
     "output_type": "stream",
     "text": [
      "2021-06-24 11:41:28,289 - INFO - mvg.mvg - endpoint https://api.beta.multiviz.com\n",
      "2021-06-24 11:41:28,290 - INFO - mvg.mvg - creating measurement from source id=u0001\n",
      "2021-06-24 11:41:28,290 - INFO - mvg.mvg -   duration:  2.8672073400507907\n",
      "2021-06-24 11:41:28,291 - INFO - mvg.mvg -   timestamp: 1571742060\n",
      "2021-06-24 11:41:28,292 - INFO - mvg.mvg -   meta data: {'sampling_rate': 13950.857142857141}\n"
     ]
    },
    {
     "name": "stdout",
     "output_type": "stream",
     "text": [
      "Read 40000 samples\n",
      "Read meta: {'duration': 2.8672073400507907, 'meta': {}}\n",
      "Uploading C:\\Users\\Sergio\\Documents\\GitHub\\mvg\\docs\\source\\content\\examples\\va-data-charlie\\charlieDb\\acc\\u0001\\1571742060.csv\n"
     ]
    },
    {
     "name": "stderr",
     "output_type": "stream",
     "text": [
      "2021-06-24 11:41:34,962 - INFO - mvg.mvg - endpoint https://api.beta.multiviz.com\n",
      "2021-06-24 11:41:34,962 - INFO - mvg.mvg - creating measurement from source id=u0001\n",
      "2021-06-24 11:41:34,963 - INFO - mvg.mvg -   duration:  2.8672073400507907\n",
      "2021-06-24 11:41:34,963 - INFO - mvg.mvg -   timestamp: 1571482860\n",
      "2021-06-24 11:41:34,964 - INFO - mvg.mvg -   meta data: {'sampling_rate': 13950.857142857141}\n"
     ]
    },
    {
     "name": "stdout",
     "output_type": "stream",
     "text": [
      "Read 40000 samples\n",
      "Read meta: {'duration': 2.8672073400507907, 'meta': {}}\n",
      "Uploading C:\\Users\\Sergio\\Documents\\GitHub\\mvg\\docs\\source\\content\\examples\\va-data-charlie\\charlieDb\\acc\\u0001\\1571482860.csv\n"
     ]
    },
    {
     "name": "stderr",
     "output_type": "stream",
     "text": [
      "2021-06-24 11:41:46,427 - INFO - mvg.mvg - endpoint https://api.beta.multiviz.com\n",
      "2021-06-24 11:41:46,428 - INFO - mvg.mvg - creating measurement from source id=u0001\n",
      "2021-06-24 11:41:46,429 - INFO - mvg.mvg -   duration:  2.8672073400507907\n",
      "2021-06-24 11:41:46,429 - INFO - mvg.mvg -   timestamp: 1574078460\n",
      "2021-06-24 11:41:46,429 - INFO - mvg.mvg -   meta data: {'sampling_rate': 13950.857142857141}\n"
     ]
    },
    {
     "name": "stdout",
     "output_type": "stream",
     "text": [
      "Read 40000 samples\n",
      "Read meta: {'duration': 2.8672073400507907, 'meta': {}}\n",
      "Uploading C:\\Users\\Sergio\\Documents\\GitHub\\mvg\\docs\\source\\content\\examples\\va-data-charlie\\charlieDb\\acc\\u0001\\1574078460.csv\n"
     ]
    },
    {
     "name": "stderr",
     "output_type": "stream",
     "text": [
      "2021-06-24 11:41:53,637 - INFO - mvg.mvg - endpoint https://api.beta.multiviz.com\n",
      "2021-06-24 11:41:53,638 - INFO - mvg.mvg - creating measurement from source id=u0001\n",
      "2021-06-24 11:41:53,638 - INFO - mvg.mvg -   duration:  2.8672073400507907\n",
      "2021-06-24 11:41:53,639 - INFO - mvg.mvg -   timestamp: 1570618860\n",
      "2021-06-24 11:41:53,639 - INFO - mvg.mvg -   meta data: {'sampling_rate': 13950.857142857141}\n"
     ]
    },
    {
     "name": "stdout",
     "output_type": "stream",
     "text": [
      "Read 40000 samples\n",
      "Read meta: {'duration': 2.8672073400507907, 'meta': {}}\n",
      "Uploading C:\\Users\\Sergio\\Documents\\GitHub\\mvg\\docs\\source\\content\\examples\\va-data-charlie\\charlieDb\\acc\\u0001\\1570618860.csv\n"
     ]
    },
    {
     "name": "stderr",
     "output_type": "stream",
     "text": [
      "2021-06-24 11:42:00,511 - INFO - mvg.mvg - endpoint https://api.beta.multiviz.com\n",
      "2021-06-24 11:42:00,511 - INFO - mvg.mvg - creating measurement from source id=u0001\n",
      "2021-06-24 11:42:00,512 - INFO - mvg.mvg -   duration:  2.8672073400507907\n",
      "2021-06-24 11:42:00,512 - INFO - mvg.mvg -   timestamp: 1572350460\n",
      "2021-06-24 11:42:00,512 - INFO - mvg.mvg -   meta data: {'sampling_rate': 13950.857142857141}\n"
     ]
    },
    {
     "name": "stdout",
     "output_type": "stream",
     "text": [
      "Read 40000 samples\n",
      "Read meta: {'duration': 2.8672073400507907, 'meta': {}}\n",
      "Uploading C:\\Users\\Sergio\\Documents\\GitHub\\mvg\\docs\\source\\content\\examples\\va-data-charlie\\charlieDb\\acc\\u0001\\1572350460.csv\n"
     ]
    },
    {
     "name": "stderr",
     "output_type": "stream",
     "text": [
      "2021-06-24 11:42:07,218 - INFO - mvg.mvg - endpoint https://api.beta.multiviz.com\n",
      "2021-06-24 11:42:07,219 - INFO - mvg.mvg - creating measurement from source id=u0001\n",
      "2021-06-24 11:42:07,220 - INFO - mvg.mvg -   duration:  2.8672073400507907\n",
      "2021-06-24 11:42:07,220 - INFO - mvg.mvg -   timestamp: 1572264060\n",
      "2021-06-24 11:42:07,221 - INFO - mvg.mvg -   meta data: {'sampling_rate': 13950.857142857141}\n"
     ]
    },
    {
     "name": "stdout",
     "output_type": "stream",
     "text": [
      "Read 40000 samples\n",
      "Read meta: {'duration': 2.8672073400507907, 'meta': {}}\n",
      "Uploading C:\\Users\\Sergio\\Documents\\GitHub\\mvg\\docs\\source\\content\\examples\\va-data-charlie\\charlieDb\\acc\\u0001\\1572264060.csv\n"
     ]
    },
    {
     "name": "stderr",
     "output_type": "stream",
     "text": [
      "2021-06-24 11:42:14,329 - INFO - mvg.mvg - endpoint https://api.beta.multiviz.com\n",
      "2021-06-24 11:42:14,330 - INFO - mvg.mvg - creating measurement from source id=u0001\n",
      "2021-06-24 11:42:14,330 - INFO - mvg.mvg -   duration:  2.8672073400507907\n",
      "2021-06-24 11:42:14,330 - INFO - mvg.mvg -   timestamp: 1573387260\n",
      "2021-06-24 11:42:14,331 - INFO - mvg.mvg -   meta data: {'sampling_rate': 13950.857142857141}\n"
     ]
    },
    {
     "name": "stdout",
     "output_type": "stream",
     "text": [
      "Read 40000 samples\n",
      "Read meta: {'duration': 2.8672073400507907, 'meta': {}}\n",
      "Uploading C:\\Users\\Sergio\\Documents\\GitHub\\mvg\\docs\\source\\content\\examples\\va-data-charlie\\charlieDb\\acc\\u0001\\1573387260.csv\n"
     ]
    },
    {
     "name": "stderr",
     "output_type": "stream",
     "text": [
      "2021-06-24 11:42:22,027 - INFO - mvg.mvg - endpoint https://api.beta.multiviz.com\n",
      "2021-06-24 11:42:22,027 - INFO - mvg.mvg - creating measurement from source id=u0001\n",
      "2021-06-24 11:42:22,028 - INFO - mvg.mvg -   duration:  2.8672073400507907\n",
      "2021-06-24 11:42:22,028 - INFO - mvg.mvg -   timestamp: 1571914860\n",
      "2021-06-24 11:42:22,028 - INFO - mvg.mvg -   meta data: {'sampling_rate': 13950.857142857141}\n"
     ]
    },
    {
     "name": "stdout",
     "output_type": "stream",
     "text": [
      "Read 40000 samples\n",
      "Read meta: {'duration': 2.8672073400507907, 'meta': {}}\n",
      "Uploading C:\\Users\\Sergio\\Documents\\GitHub\\mvg\\docs\\source\\content\\examples\\va-data-charlie\\charlieDb\\acc\\u0001\\1571914860.csv\n"
     ]
    },
    {
     "name": "stderr",
     "output_type": "stream",
     "text": [
      "2021-06-24 11:42:29,935 - INFO - mvg.mvg - endpoint https://api.beta.multiviz.com\n",
      "2021-06-24 11:42:29,935 - INFO - mvg.mvg - creating measurement from source id=u0001\n",
      "2021-06-24 11:42:29,936 - INFO - mvg.mvg -   duration:  2.8672073400507907\n",
      "2021-06-24 11:42:29,937 - INFO - mvg.mvg -   timestamp: 1570446060\n",
      "2021-06-24 11:42:29,937 - INFO - mvg.mvg -   meta data: {'sampling_rate': 13950.857142857141}\n"
     ]
    },
    {
     "name": "stdout",
     "output_type": "stream",
     "text": [
      "Read 40000 samples\n",
      "Read meta: {'duration': 2.8672073400507907, 'meta': {}}\n",
      "Uploading C:\\Users\\Sergio\\Documents\\GitHub\\mvg\\docs\\source\\content\\examples\\va-data-charlie\\charlieDb\\acc\\u0001\\1570446060.csv\n"
     ]
    },
    {
     "name": "stderr",
     "output_type": "stream",
     "text": [
      "2021-06-24 11:42:37,617 - INFO - mvg.mvg - endpoint https://api.beta.multiviz.com\n",
      "2021-06-24 11:42:37,617 - INFO - mvg.mvg - creating measurement from source id=u0001\n",
      "2021-06-24 11:42:37,618 - INFO - mvg.mvg -   duration:  2.8672073400507907\n",
      "2021-06-24 11:42:37,618 - INFO - mvg.mvg -   timestamp: 1572087660\n",
      "2021-06-24 11:42:37,619 - INFO - mvg.mvg -   meta data: {'sampling_rate': 13950.857142857141}\n"
     ]
    },
    {
     "name": "stdout",
     "output_type": "stream",
     "text": [
      "Read 40000 samples\n",
      "Read meta: {'duration': 2.8672073400507907, 'meta': {}}\n",
      "Uploading C:\\Users\\Sergio\\Documents\\GitHub\\mvg\\docs\\source\\content\\examples\\va-data-charlie\\charlieDb\\acc\\u0001\\1572087660.csv\n"
     ]
    },
    {
     "name": "stderr",
     "output_type": "stream",
     "text": [
      "2021-06-24 11:42:44,402 - INFO - mvg.mvg - endpoint https://api.beta.multiviz.com\n",
      "2021-06-24 11:42:44,402 - INFO - mvg.mvg - creating measurement from source id=u0001\n",
      "2021-06-24 11:42:44,403 - INFO - mvg.mvg -   duration:  2.8672073400507907\n",
      "2021-06-24 11:42:44,403 - INFO - mvg.mvg -   timestamp: 1573905660\n",
      "2021-06-24 11:42:44,404 - INFO - mvg.mvg -   meta data: {'sampling_rate': 13950.857142857141}\n"
     ]
    },
    {
     "name": "stdout",
     "output_type": "stream",
     "text": [
      "Read 40000 samples\n",
      "Read meta: {'duration': 2.8672073400507907, 'meta': {}}\n",
      "Uploading C:\\Users\\Sergio\\Documents\\GitHub\\mvg\\docs\\source\\content\\examples\\va-data-charlie\\charlieDb\\acc\\u0001\\1573905660.csv\n"
     ]
    },
    {
     "name": "stderr",
     "output_type": "stream",
     "text": [
      "2021-06-24 11:42:51,034 - INFO - mvg.mvg - endpoint https://api.beta.multiviz.com\n",
      "2021-06-24 11:42:51,034 - INFO - mvg.mvg - creating measurement from source id=u0001\n",
      "2021-06-24 11:42:51,035 - INFO - mvg.mvg -   duration:  2.8672073400507907\n",
      "2021-06-24 11:42:51,035 - INFO - mvg.mvg -   timestamp: 1574164860\n",
      "2021-06-24 11:42:51,035 - INFO - mvg.mvg -   meta data: {'sampling_rate': 13950.857142857141}\n"
     ]
    },
    {
     "name": "stdout",
     "output_type": "stream",
     "text": [
      "Read 40000 samples\n",
      "Read meta: {'duration': 2.8672073400507907, 'meta': {}}\n",
      "Uploading C:\\Users\\Sergio\\Documents\\GitHub\\mvg\\docs\\source\\content\\examples\\va-data-charlie\\charlieDb\\acc\\u0001\\1574164860.csv\n"
     ]
    },
    {
     "name": "stderr",
     "output_type": "stream",
     "text": [
      "2021-06-24 11:42:57,718 - INFO - mvg.mvg - endpoint https://api.beta.multiviz.com\n",
      "2021-06-24 11:42:57,719 - INFO - mvg.mvg - creating measurement from source id=u0001\n",
      "2021-06-24 11:42:57,719 - INFO - mvg.mvg -   duration:  2.8672073400507907\n",
      "2021-06-24 11:42:57,720 - INFO - mvg.mvg -   timestamp: 1573473660\n",
      "2021-06-24 11:42:57,720 - INFO - mvg.mvg -   meta data: {'sampling_rate': 13950.857142857141}\n"
     ]
    },
    {
     "name": "stdout",
     "output_type": "stream",
     "text": [
      "Read 40000 samples\n",
      "Read meta: {'duration': 2.8672073400507907, 'meta': {}}\n",
      "Uploading C:\\Users\\Sergio\\Documents\\GitHub\\mvg\\docs\\source\\content\\examples\\va-data-charlie\\charlieDb\\acc\\u0001\\1573473660.csv\n"
     ]
    },
    {
     "name": "stderr",
     "output_type": "stream",
     "text": [
      "2021-06-24 11:43:04,363 - INFO - mvg.mvg - endpoint https://api.beta.multiviz.com\n",
      "2021-06-24 11:43:04,363 - INFO - mvg.mvg - creating measurement from source id=u0001\n",
      "2021-06-24 11:43:04,363 - INFO - mvg.mvg -   duration:  2.8672073400507907\n",
      "2021-06-24 11:43:04,364 - INFO - mvg.mvg -   timestamp: 1573560060\n",
      "2021-06-24 11:43:04,364 - INFO - mvg.mvg -   meta data: {'sampling_rate': 13950.857142857141}\n"
     ]
    },
    {
     "name": "stdout",
     "output_type": "stream",
     "text": [
      "Read 40000 samples\n",
      "Read meta: {'duration': 2.8672073400507907, 'meta': {}}\n",
      "Uploading C:\\Users\\Sergio\\Documents\\GitHub\\mvg\\docs\\source\\content\\examples\\va-data-charlie\\charlieDb\\acc\\u0001\\1573560060.csv\n"
     ]
    },
    {
     "name": "stderr",
     "output_type": "stream",
     "text": [
      "2021-06-24 11:43:11,654 - INFO - mvg.mvg - endpoint https://api.beta.multiviz.com\n",
      "2021-06-24 11:43:11,654 - INFO - mvg.mvg - creating measurement from source id=u0001\n",
      "2021-06-24 11:43:11,654 - INFO - mvg.mvg -   duration:  2.8672073400507907\n",
      "2021-06-24 11:43:11,655 - INFO - mvg.mvg -   timestamp: 1570186860\n",
      "2021-06-24 11:43:11,656 - INFO - mvg.mvg -   meta data: {'sampling_rate': 13950.857142857141}\n"
     ]
    },
    {
     "name": "stdout",
     "output_type": "stream",
     "text": [
      "Read 40000 samples\n",
      "Read meta: {'duration': 2.8672073400507907, 'meta': {}}\n",
      "Uploading C:\\Users\\Sergio\\Documents\\GitHub\\mvg\\docs\\source\\content\\examples\\va-data-charlie\\charlieDb\\acc\\u0001\\1570186860.csv\n"
     ]
    },
    {
     "name": "stderr",
     "output_type": "stream",
     "text": [
      "2021-06-24 11:43:18,770 - INFO - mvg.mvg - endpoint https://api.beta.multiviz.com\n",
      "2021-06-24 11:43:18,770 - INFO - mvg.mvg - creating measurement from source id=u0001\n",
      "2021-06-24 11:43:18,771 - INFO - mvg.mvg -   duration:  2.8672073400507907\n",
      "2021-06-24 11:43:18,771 - INFO - mvg.mvg -   timestamp: 1571223660\n",
      "2021-06-24 11:43:18,771 - INFO - mvg.mvg -   meta data: {'sampling_rate': 13950.857142857141}\n"
     ]
    },
    {
     "name": "stdout",
     "output_type": "stream",
     "text": [
      "Read 40000 samples\n",
      "Read meta: {'duration': 2.8672073400507907, 'meta': {}}\n",
      "Uploading C:\\Users\\Sergio\\Documents\\GitHub\\mvg\\docs\\source\\content\\examples\\va-data-charlie\\charlieDb\\acc\\u0001\\1571223660.csv\n"
     ]
    },
    {
     "name": "stderr",
     "output_type": "stream",
     "text": [
      "2021-06-24 11:43:25,797 - INFO - mvg.mvg - endpoint https://api.beta.multiviz.com\n",
      "2021-06-24 11:43:25,797 - INFO - mvg.mvg - creating measurement from source id=u0001\n",
      "2021-06-24 11:43:25,798 - INFO - mvg.mvg -   duration:  2.8672073400507907\n",
      "2021-06-24 11:43:25,798 - INFO - mvg.mvg -   timestamp: 1572609660\n",
      "2021-06-24 11:43:25,798 - INFO - mvg.mvg -   meta data: {'sampling_rate': 13950.857142857141}\n"
     ]
    },
    {
     "name": "stdout",
     "output_type": "stream",
     "text": [
      "Read 40000 samples\n",
      "Read meta: {'duration': 2.8672073400507907, 'meta': {}}\n",
      "Uploading C:\\Users\\Sergio\\Documents\\GitHub\\mvg\\docs\\source\\content\\examples\\va-data-charlie\\charlieDb\\acc\\u0001\\1572609660.csv\n"
     ]
    },
    {
     "name": "stderr",
     "output_type": "stream",
     "text": [
      "2021-06-24 11:43:32,909 - INFO - mvg.mvg - endpoint https://api.beta.multiviz.com\n",
      "2021-06-24 11:43:32,910 - INFO - mvg.mvg - creating measurement from source id=u0001\n",
      "2021-06-24 11:43:32,910 - INFO - mvg.mvg -   duration:  2.8672073400507907\n",
      "2021-06-24 11:43:32,911 - INFO - mvg.mvg -   timestamp: 1573992060\n",
      "2021-06-24 11:43:32,912 - INFO - mvg.mvg -   meta data: {'sampling_rate': 13950.857142857141}\n"
     ]
    },
    {
     "name": "stdout",
     "output_type": "stream",
     "text": [
      "Read 40000 samples\n",
      "Read meta: {'duration': 2.8672073400507907, 'meta': {}}\n",
      "Uploading C:\\Users\\Sergio\\Documents\\GitHub\\mvg\\docs\\source\\content\\examples\\va-data-charlie\\charlieDb\\acc\\u0001\\1573992060.csv\n"
     ]
    },
    {
     "name": "stderr",
     "output_type": "stream",
     "text": [
      "2021-06-24 11:43:41,382 - INFO - mvg.mvg - endpoint https://api.beta.multiviz.com\n",
      "2021-06-24 11:43:41,383 - INFO - mvg.mvg - creating measurement from source id=u0001\n",
      "2021-06-24 11:43:41,384 - INFO - mvg.mvg -   duration:  2.8672073400507907\n",
      "2021-06-24 11:43:41,384 - INFO - mvg.mvg -   timestamp: 1574251260\n",
      "2021-06-24 11:43:41,384 - INFO - mvg.mvg -   meta data: {'sampling_rate': 13950.857142857141}\n"
     ]
    },
    {
     "name": "stdout",
     "output_type": "stream",
     "text": [
      "Read 40000 samples\n",
      "Read meta: {'duration': 2.8672073400507907, 'meta': {}}\n",
      "Uploading C:\\Users\\Sergio\\Documents\\GitHub\\mvg\\docs\\source\\content\\examples\\va-data-charlie\\charlieDb\\acc\\u0001\\1574251260.csv\n"
     ]
    },
    {
     "name": "stderr",
     "output_type": "stream",
     "text": [
      "2021-06-24 11:43:48,526 - INFO - mvg.mvg - endpoint https://api.beta.multiviz.com\n",
      "2021-06-24 11:43:48,527 - INFO - mvg.mvg - creating measurement from source id=u0001\n",
      "2021-06-24 11:43:48,527 - INFO - mvg.mvg -   duration:  2.8672073400507907\n",
      "2021-06-24 11:43:48,528 - INFO - mvg.mvg -   timestamp: 1572436860\n",
      "2021-06-24 11:43:48,529 - INFO - mvg.mvg -   meta data: {'sampling_rate': 13950.857142857141}\n"
     ]
    },
    {
     "name": "stdout",
     "output_type": "stream",
     "text": [
      "Read 40000 samples\n",
      "Read meta: {'duration': 2.8672073400507907, 'meta': {}}\n",
      "Uploading C:\\Users\\Sergio\\Documents\\GitHub\\mvg\\docs\\source\\content\\examples\\va-data-charlie\\charlieDb\\acc\\u0001\\1572436860.csv\n"
     ]
    },
    {
     "name": "stderr",
     "output_type": "stream",
     "text": [
      "2021-06-24 11:43:55,431 - INFO - mvg.mvg - endpoint https://api.beta.multiviz.com\n",
      "2021-06-24 11:43:55,432 - INFO - mvg.mvg - creating measurement from source id=u0001\n",
      "2021-06-24 11:43:55,432 - INFO - mvg.mvg -   duration:  2.8672073400507907\n",
      "2021-06-24 11:43:55,433 - INFO - mvg.mvg -   timestamp: 1573128060\n",
      "2021-06-24 11:43:55,434 - INFO - mvg.mvg -   meta data: {'sampling_rate': 13950.857142857141}\n"
     ]
    },
    {
     "name": "stdout",
     "output_type": "stream",
     "text": [
      "Read 40000 samples\n",
      "Read meta: {'duration': 2.8672073400507907, 'meta': {}}\n",
      "Uploading C:\\Users\\Sergio\\Documents\\GitHub\\mvg\\docs\\source\\content\\examples\\va-data-charlie\\charlieDb\\acc\\u0001\\1573128060.csv\n"
     ]
    },
    {
     "name": "stderr",
     "output_type": "stream",
     "text": [
      "2021-06-24 11:44:02,167 - INFO - mvg.mvg - endpoint https://api.beta.multiviz.com\n",
      "2021-06-24 11:44:02,168 - INFO - mvg.mvg - creating measurement from source id=u0001\n",
      "2021-06-24 11:44:02,168 - INFO - mvg.mvg -   duration:  2.8672073400507907\n",
      "2021-06-24 11:44:02,169 - INFO - mvg.mvg -   timestamp: 1573041660\n",
      "2021-06-24 11:44:02,169 - INFO - mvg.mvg -   meta data: {'sampling_rate': 13950.857142857141}\n"
     ]
    },
    {
     "name": "stdout",
     "output_type": "stream",
     "text": [
      "Read 40000 samples\n",
      "Read meta: {'duration': 2.8672073400507907, 'meta': {}}\n",
      "Uploading C:\\Users\\Sergio\\Documents\\GitHub\\mvg\\docs\\source\\content\\examples\\va-data-charlie\\charlieDb\\acc\\u0001\\1573041660.csv\n"
     ]
    },
    {
     "name": "stderr",
     "output_type": "stream",
     "text": [
      "2021-06-24 11:44:08,878 - INFO - mvg.mvg - endpoint https://api.beta.multiviz.com\n",
      "2021-06-24 11:44:08,879 - INFO - mvg.mvg - creating measurement from source id=u0001\n",
      "2021-06-24 11:44:08,880 - INFO - mvg.mvg -   duration:  2.8672073400507907\n",
      "2021-06-24 11:44:08,880 - INFO - mvg.mvg -   timestamp: 1573214460\n",
      "2021-06-24 11:44:08,880 - INFO - mvg.mvg -   meta data: {'sampling_rate': 13950.857142857141}\n"
     ]
    },
    {
     "name": "stdout",
     "output_type": "stream",
     "text": [
      "Read 40000 samples\n",
      "Read meta: {'duration': 2.8672073400507907, 'meta': {}}\n",
      "Uploading C:\\Users\\Sergio\\Documents\\GitHub\\mvg\\docs\\source\\content\\examples\\va-data-charlie\\charlieDb\\acc\\u0001\\1573214460.csv\n"
     ]
    },
    {
     "name": "stderr",
     "output_type": "stream",
     "text": [
      "2021-06-24 11:44:15,720 - INFO - mvg.mvg - endpoint https://api.beta.multiviz.com\n",
      "2021-06-24 11:44:15,721 - INFO - mvg.mvg - creating measurement from source id=u0001\n",
      "2021-06-24 11:44:15,722 - INFO - mvg.mvg -   duration:  2.8672073400507907\n",
      "2021-06-24 11:44:15,722 - INFO - mvg.mvg -   timestamp: 1571396460\n",
      "2021-06-24 11:44:15,723 - INFO - mvg.mvg -   meta data: {'sampling_rate': 13950.857142857141}\n"
     ]
    },
    {
     "name": "stdout",
     "output_type": "stream",
     "text": [
      "Read 40000 samples\n",
      "Read meta: {'duration': 2.8672073400507907, 'meta': {}}\n",
      "Uploading C:\\Users\\Sergio\\Documents\\GitHub\\mvg\\docs\\source\\content\\examples\\va-data-charlie\\charlieDb\\acc\\u0001\\1571396460.csv\n"
     ]
    },
    {
     "name": "stderr",
     "output_type": "stream",
     "text": [
      "2021-06-24 11:44:22,277 - INFO - mvg.mvg - endpoint https://api.beta.multiviz.com\n",
      "2021-06-24 11:44:22,277 - INFO - mvg.mvg - creating measurement from source id=u0001\n",
      "2021-06-24 11:44:22,278 - INFO - mvg.mvg -   duration:  2.8672073400507907\n",
      "2021-06-24 11:44:22,278 - INFO - mvg.mvg -   timestamp: 1573819260\n",
      "2021-06-24 11:44:22,279 - INFO - mvg.mvg -   meta data: {'sampling_rate': 13950.857142857141}\n"
     ]
    },
    {
     "name": "stdout",
     "output_type": "stream",
     "text": [
      "Read 40000 samples\n",
      "Read meta: {'duration': 2.8672073400507907, 'meta': {}}\n",
      "Uploading C:\\Users\\Sergio\\Documents\\GitHub\\mvg\\docs\\source\\content\\examples\\va-data-charlie\\charlieDb\\acc\\u0001\\1573819260.csv\n"
     ]
    },
    {
     "name": "stderr",
     "output_type": "stream",
     "text": [
      "2021-06-24 11:44:29,886 - INFO - mvg.mvg - endpoint https://api.beta.multiviz.com\n",
      "2021-06-24 11:44:29,886 - INFO - mvg.mvg - creating measurement from source id=u0001\n",
      "2021-06-24 11:44:29,887 - INFO - mvg.mvg -   duration:  2.8672073400507907\n",
      "2021-06-24 11:44:29,887 - INFO - mvg.mvg -   timestamp: 1570359660\n",
      "2021-06-24 11:44:29,888 - INFO - mvg.mvg -   meta data: {'sampling_rate': 13950.857142857141}\n"
     ]
    },
    {
     "name": "stdout",
     "output_type": "stream",
     "text": [
      "Read 40000 samples\n",
      "Read meta: {'duration': 2.8672073400507907, 'meta': {}}\n",
      "Uploading C:\\Users\\Sergio\\Documents\\GitHub\\mvg\\docs\\source\\content\\examples\\va-data-charlie\\charlieDb\\acc\\u0001\\1570359660.csv\n"
     ]
    },
    {
     "name": "stderr",
     "output_type": "stream",
     "text": [
      "2021-06-24 11:44:36,749 - INFO - mvg.mvg - endpoint https://api.beta.multiviz.com\n",
      "2021-06-24 11:44:36,749 - INFO - mvg.mvg - creating measurement from source id=u0001\n",
      "2021-06-24 11:44:36,750 - INFO - mvg.mvg -   duration:  2.8672073400507907\n",
      "2021-06-24 11:44:36,750 - INFO - mvg.mvg -   timestamp: 1572001260\n",
      "2021-06-24 11:44:36,751 - INFO - mvg.mvg -   meta data: {'sampling_rate': 13950.857142857141}\n"
     ]
    },
    {
     "name": "stdout",
     "output_type": "stream",
     "text": [
      "Read 40000 samples\n",
      "Read meta: {'duration': 2.8672073400507907, 'meta': {}}\n",
      "Uploading C:\\Users\\Sergio\\Documents\\GitHub\\mvg\\docs\\source\\content\\examples\\va-data-charlie\\charlieDb\\acc\\u0001\\1572001260.csv\n"
     ]
    },
    {
     "name": "stderr",
     "output_type": "stream",
     "text": [
      "2021-06-24 11:44:45,569 - INFO - mvg.mvg - endpoint https://api.beta.multiviz.com\n",
      "2021-06-24 11:44:45,570 - INFO - mvg.mvg - creating measurement from source id=u0001\n",
      "2021-06-24 11:44:45,571 - INFO - mvg.mvg -   duration:  2.8672073400507907\n",
      "2021-06-24 11:44:45,571 - INFO - mvg.mvg -   timestamp: 1570532460\n",
      "2021-06-24 11:44:45,572 - INFO - mvg.mvg -   meta data: {'sampling_rate': 13950.857142857141}\n"
     ]
    },
    {
     "name": "stdout",
     "output_type": "stream",
     "text": [
      "Read 40000 samples\n",
      "Read meta: {'duration': 2.8672073400507907, 'meta': {}}\n",
      "Uploading C:\\Users\\Sergio\\Documents\\GitHub\\mvg\\docs\\source\\content\\examples\\va-data-charlie\\charlieDb\\acc\\u0001\\1570532460.csv\n"
     ]
    },
    {
     "name": "stderr",
     "output_type": "stream",
     "text": [
      "2021-06-24 11:44:53,245 - INFO - mvg.mvg - endpoint https://api.beta.multiviz.com\n",
      "2021-06-24 11:44:53,245 - INFO - mvg.mvg - creating measurement from source id=u0001\n",
      "2021-06-24 11:44:53,245 - INFO - mvg.mvg -   duration:  2.8672073400507907\n",
      "2021-06-24 11:44:53,246 - INFO - mvg.mvg -   timestamp: 1572782460\n",
      "2021-06-24 11:44:53,246 - INFO - mvg.mvg -   meta data: {'sampling_rate': 13950.857142857141}\n"
     ]
    },
    {
     "name": "stdout",
     "output_type": "stream",
     "text": [
      "Read 40000 samples\n",
      "Read meta: {'duration': 2.8672073400507907, 'meta': {}}\n",
      "Uploading C:\\Users\\Sergio\\Documents\\GitHub\\mvg\\docs\\source\\content\\examples\\va-data-charlie\\charlieDb\\acc\\u0001\\1572782460.csv\n"
     ]
    },
    {
     "name": "stderr",
     "output_type": "stream",
     "text": [
      "2021-06-24 11:44:59,769 - INFO - mvg.mvg - endpoint https://api.beta.multiviz.com\n",
      "2021-06-24 11:44:59,769 - INFO - mvg.mvg - creating measurement from source id=u0001\n",
      "2021-06-24 11:44:59,769 - INFO - mvg.mvg -   duration:  2.8672073400507907\n",
      "2021-06-24 11:44:59,770 - INFO - mvg.mvg -   timestamp: 1574424060\n",
      "2021-06-24 11:44:59,771 - INFO - mvg.mvg -   meta data: {'sampling_rate': 13950.857142857141}\n"
     ]
    },
    {
     "name": "stdout",
     "output_type": "stream",
     "text": [
      "Read 40000 samples\n",
      "Read meta: {'duration': 2.8672073400507907, 'meta': {}}\n",
      "Uploading C:\\Users\\Sergio\\Documents\\GitHub\\mvg\\docs\\source\\content\\examples\\va-data-charlie\\charlieDb\\acc\\u0001\\1574424060.csv\n"
     ]
    },
    {
     "name": "stderr",
     "output_type": "stream",
     "text": [
      "2021-06-24 11:45:12,006 - INFO - mvg.mvg - endpoint https://api.beta.multiviz.com\n",
      "2021-06-24 11:45:12,007 - INFO - mvg.mvg - creating measurement from source id=u0001\n",
      "2021-06-24 11:45:12,007 - INFO - mvg.mvg -   duration:  2.8672073400507907\n",
      "2021-06-24 11:45:12,008 - INFO - mvg.mvg -   timestamp: 1571137260\n",
      "2021-06-24 11:45:12,008 - INFO - mvg.mvg -   meta data: {'sampling_rate': 13950.857142857141}\n"
     ]
    },
    {
     "name": "stdout",
     "output_type": "stream",
     "text": [
      "Read 40000 samples\n",
      "Read meta: {'duration': 2.8672073400507907, 'meta': {}}\n",
      "Uploading C:\\Users\\Sergio\\Documents\\GitHub\\mvg\\docs\\source\\content\\examples\\va-data-charlie\\charlieDb\\acc\\u0001\\1571137260.csv\n"
     ]
    },
    {
     "name": "stderr",
     "output_type": "stream",
     "text": [
      "2021-06-24 11:45:21,792 - INFO - mvg.mvg - endpoint https://api.beta.multiviz.com\n",
      "2021-06-24 11:45:21,792 - INFO - mvg.mvg - creating measurement from source id=u0001\n",
      "2021-06-24 11:45:21,793 - INFO - mvg.mvg -   duration:  2.8672073400507907\n",
      "2021-06-24 11:45:21,793 - INFO - mvg.mvg -   timestamp: 1571828460\n",
      "2021-06-24 11:45:21,794 - INFO - mvg.mvg -   meta data: {'sampling_rate': 13950.857142857141}\n"
     ]
    },
    {
     "name": "stdout",
     "output_type": "stream",
     "text": [
      "Read 40000 samples\n",
      "Read meta: {'duration': 2.8672073400507907, 'meta': {}}\n",
      "Uploading C:\\Users\\Sergio\\Documents\\GitHub\\mvg\\docs\\source\\content\\examples\\va-data-charlie\\charlieDb\\acc\\u0001\\1571828460.csv\n"
     ]
    },
    {
     "name": "stderr",
     "output_type": "stream",
     "text": [
      "2021-06-24 11:45:30,858 - INFO - mvg.mvg - endpoint https://api.beta.multiviz.com\n",
      "2021-06-24 11:45:30,859 - INFO - mvg.mvg - creating measurement from source id=u0001\n",
      "2021-06-24 11:45:30,859 - INFO - mvg.mvg -   duration:  2.8672073400507907\n",
      "2021-06-24 11:45:30,859 - INFO - mvg.mvg -   timestamp: 1574337660\n",
      "2021-06-24 11:45:30,860 - INFO - mvg.mvg -   meta data: {'sampling_rate': 13950.857142857141}\n"
     ]
    },
    {
     "name": "stdout",
     "output_type": "stream",
     "text": [
      "Read 40000 samples\n",
      "Read meta: {'duration': 2.8672073400507907, 'meta': {}}\n",
      "Uploading C:\\Users\\Sergio\\Documents\\GitHub\\mvg\\docs\\source\\content\\examples\\va-data-charlie\\charlieDb\\acc\\u0001\\1574337660.csv\n"
     ]
    },
    {
     "name": "stderr",
     "output_type": "stream",
     "text": [
      "2021-06-24 11:45:38,974 - INFO - mvg.mvg - endpoint https://api.beta.multiviz.com\n",
      "2021-06-24 11:45:38,975 - INFO - mvg.mvg - creating measurement from source id=u0001\n",
      "2021-06-24 11:45:38,976 - INFO - mvg.mvg -   duration:  2.8672073400507907\n",
      "2021-06-24 11:45:38,976 - INFO - mvg.mvg -   timestamp: 1572696060\n",
      "2021-06-24 11:45:38,977 - INFO - mvg.mvg -   meta data: {'sampling_rate': 13950.857142857141}\n"
     ]
    },
    {
     "name": "stdout",
     "output_type": "stream",
     "text": [
      "Read 40000 samples\n",
      "Read meta: {'duration': 2.8672073400507907, 'meta': {}}\n",
      "Uploading C:\\Users\\Sergio\\Documents\\GitHub\\mvg\\docs\\source\\content\\examples\\va-data-charlie\\charlieDb\\acc\\u0001\\1572696060.csv\n"
     ]
    },
    {
     "name": "stderr",
     "output_type": "stream",
     "text": [
      "2021-06-24 11:45:48,035 - INFO - mvg.mvg - endpoint https://api.beta.multiviz.com\n",
      "2021-06-24 11:45:48,036 - INFO - mvg.mvg - creating measurement from source id=u0001\n",
      "2021-06-24 11:45:48,037 - INFO - mvg.mvg -   duration:  2.8672073400507907\n",
      "2021-06-24 11:45:48,037 - INFO - mvg.mvg -   timestamp: 1573646460\n",
      "2021-06-24 11:45:48,037 - INFO - mvg.mvg -   meta data: {'sampling_rate': 13950.857142857141}\n"
     ]
    },
    {
     "name": "stdout",
     "output_type": "stream",
     "text": [
      "Read 40000 samples\n",
      "Read meta: {'duration': 2.8672073400507907, 'meta': {}}\n",
      "Uploading C:\\Users\\Sergio\\Documents\\GitHub\\mvg\\docs\\source\\content\\examples\\va-data-charlie\\charlieDb\\acc\\u0001\\1573646460.csv\n"
     ]
    },
    {
     "name": "stderr",
     "output_type": "stream",
     "text": [
      "2021-06-24 11:45:57,660 - INFO - mvg.mvg - endpoint https://api.beta.multiviz.com\n",
      "2021-06-24 11:45:57,660 - INFO - mvg.mvg - creating measurement from source id=u0001\n",
      "2021-06-24 11:45:57,661 - INFO - mvg.mvg -   duration:  2.8672073400507907\n",
      "2021-06-24 11:45:57,661 - INFO - mvg.mvg -   timestamp: 1571050860\n",
      "2021-06-24 11:45:57,662 - INFO - mvg.mvg -   meta data: {'sampling_rate': 13950.857142857141}\n"
     ]
    },
    {
     "name": "stdout",
     "output_type": "stream",
     "text": [
      "Read 40000 samples\n",
      "Read meta: {'duration': 2.8672073400507907, 'meta': {}}\n",
      "Uploading C:\\Users\\Sergio\\Documents\\GitHub\\mvg\\docs\\source\\content\\examples\\va-data-charlie\\charlieDb\\acc\\u0001\\1571050860.csv\n"
     ]
    },
    {
     "name": "stderr",
     "output_type": "stream",
     "text": [
      "2021-06-24 11:46:10,735 - INFO - mvg.mvg - endpoint https://api.beta.multiviz.com\n",
      "2021-06-24 11:46:10,735 - INFO - mvg.mvg - creating measurement from source id=u0001\n",
      "2021-06-24 11:46:10,736 - INFO - mvg.mvg -   duration:  2.8672073400507907\n",
      "2021-06-24 11:46:10,737 - INFO - mvg.mvg -   timestamp: 1570791660\n",
      "2021-06-24 11:46:10,737 - INFO - mvg.mvg -   meta data: {'sampling_rate': 13950.857142857141}\n"
     ]
    },
    {
     "name": "stdout",
     "output_type": "stream",
     "text": [
      "Read 40000 samples\n",
      "Read meta: {'duration': 2.8672073400507907, 'meta': {}}\n",
      "Uploading C:\\Users\\Sergio\\Documents\\GitHub\\mvg\\docs\\source\\content\\examples\\va-data-charlie\\charlieDb\\acc\\u0001\\1570791660.csv\n"
     ]
    },
    {
     "name": "stderr",
     "output_type": "stream",
     "text": [
      "2021-06-24 11:46:20,178 - INFO - mvg.mvg - endpoint https://api.beta.multiviz.com\n",
      "2021-06-24 11:46:20,179 - INFO - mvg.mvg - creating measurement from source id=u0001\n",
      "2021-06-24 11:46:20,180 - INFO - mvg.mvg -   duration:  2.8672073400507907\n",
      "2021-06-24 11:46:20,180 - INFO - mvg.mvg -   timestamp: 1570273260\n",
      "2021-06-24 11:46:20,180 - INFO - mvg.mvg -   meta data: {'sampling_rate': 13950.857142857141}\n"
     ]
    },
    {
     "name": "stdout",
     "output_type": "stream",
     "text": [
      "Read 40000 samples\n",
      "Read meta: {'duration': 2.8672073400507907, 'meta': {}}\n",
      "Uploading C:\\Users\\Sergio\\Documents\\GitHub\\mvg\\docs\\source\\content\\examples\\va-data-charlie\\charlieDb\\acc\\u0001\\1570273260.csv\n"
     ]
    },
    {
     "name": "stderr",
     "output_type": "stream",
     "text": [
      "2021-06-24 11:46:26,829 - INFO - mvg.mvg - endpoint https://api.beta.multiviz.com\n",
      "2021-06-24 11:46:26,830 - INFO - mvg.mvg - creating measurement from source id=u0001\n",
      "2021-06-24 11:46:26,830 - INFO - mvg.mvg -   duration:  2.8672073400507907\n",
      "2021-06-24 11:46:26,830 - INFO - mvg.mvg -   timestamp: 1573300860\n",
      "2021-06-24 11:46:26,831 - INFO - mvg.mvg -   meta data: {'sampling_rate': 13950.857142857141}\n"
     ]
    },
    {
     "name": "stdout",
     "output_type": "stream",
     "text": [
      "Read 40000 samples\n",
      "Read meta: {'duration': 2.8672073400507907, 'meta': {}}\n",
      "Uploading C:\\Users\\Sergio\\Documents\\GitHub\\mvg\\docs\\source\\content\\examples\\va-data-charlie\\charlieDb\\acc\\u0001\\1573300860.csv\n"
     ]
    },
    {
     "name": "stderr",
     "output_type": "stream",
     "text": [
      "2021-06-24 11:46:33,894 - INFO - mvg.mvg - endpoint https://api.beta.multiviz.com\n",
      "2021-06-24 11:46:33,894 - INFO - mvg.mvg - creating measurement from source id=u0001\n",
      "2021-06-24 11:46:33,895 - INFO - mvg.mvg -   duration:  2.8672073400507907\n",
      "2021-06-24 11:46:33,896 - INFO - mvg.mvg -   timestamp: 1571310060\n",
      "2021-06-24 11:46:33,896 - INFO - mvg.mvg -   meta data: {'sampling_rate': 13950.857142857141}\n"
     ]
    },
    {
     "name": "stdout",
     "output_type": "stream",
     "text": [
      "Read 40000 samples\n",
      "Read meta: {'duration': 2.8672073400507907, 'meta': {}}\n",
      "Uploading C:\\Users\\Sergio\\Documents\\GitHub\\mvg\\docs\\source\\content\\examples\\va-data-charlie\\charlieDb\\acc\\u0001\\1571310060.csv\n"
     ]
    },
    {
     "name": "stderr",
     "output_type": "stream",
     "text": [
      "2021-06-24 11:46:41,245 - INFO - mvg.mvg - endpoint https://api.beta.multiviz.com\n",
      "2021-06-24 11:46:41,246 - INFO - mvg.mvg - creating measurement from source id=u0001\n",
      "2021-06-24 11:46:41,247 - INFO - mvg.mvg -   duration:  2.8672073400507907\n",
      "2021-06-24 11:46:41,247 - INFO - mvg.mvg -   timestamp: 1570878060\n",
      "2021-06-24 11:46:41,247 - INFO - mvg.mvg -   meta data: {'sampling_rate': 13950.857142857141}\n"
     ]
    },
    {
     "name": "stdout",
     "output_type": "stream",
     "text": [
      "Read 40000 samples\n",
      "Read meta: {'duration': 2.8672073400507907, 'meta': {}}\n",
      "Uploading C:\\Users\\Sergio\\Documents\\GitHub\\mvg\\docs\\source\\content\\examples\\va-data-charlie\\charlieDb\\acc\\u0001\\1570878060.csv\n"
     ]
    }
   ],
   "source": [
    "for m in meas:\n",
    "\n",
    "    # samples file for one measurement\n",
    "    TS_MEAS = str(m) + \".csv\"  # filename\n",
    "    TS_MEAS = REF_DB_PATH / SOURCE_ID / TS_MEAS  # path to file\n",
    "    ts_df = pd.read_csv(TS_MEAS, names=['acc'])  # read csv into df\n",
    "    accs = ts_df.iloc[:, 0].tolist()  # convert to list\n",
    "    print(f\"Read {len(accs)} samples\")\n",
    "\n",
    "    # meta information file for one measurement\n",
    "    TS_META = str(m) + \".json\"  # filename\n",
    "    TS_META = REF_DB_PATH / SOURCE_ID / TS_META  # path\n",
    "    with open(TS_META, \"r\") as json_file:  # read json\n",
    "        meas_info = json.load(json_file)  # into dict\n",
    "    print(f\"Read meta: {meas_info}\")\n",
    "\n",
    "    # get duration and other meta info\n",
    "    duration = meas_info['duration']\n",
    "    meta_info = meas_info['meta']\n",
    "    # add sampling rate, not required by vibration API\n",
    "    # but may be used on client side\n",
    "    # in general any information can be stored\n",
    "    # along the actual samples\n",
    "    meta_info['sampling_rate'] = len(accs)/duration\n",
    "    # <<< end of code specific for repo\n",
    "\n",
    "    # Upload measurements\n",
    "    print(f\"Uploading {TS_MEAS}\")\n",
    "    try:\n",
    "        # see mvg for details on this call\n",
    "        session.create_measurement(sid=SOURCE_ID,\n",
    "                                   duration=duration,\n",
    "                                   timestamp=m,\n",
    "                                   data=accs,\n",
    "                                   meta=meta_info)\n",
    "    except HTTPError as exc:\n",
    "        print(\"OUCH\")\n",
    "        print(exc)"
   ]
  },
  {
   "cell_type": "markdown",
   "id": "5a97c7c3",
   "metadata": {},
   "source": [
    "## Read the Measurements"
   ]
  },
  {
   "cell_type": "markdown",
   "id": "7534edf0",
   "metadata": {},
   "source": [
    "Check if we actually created the measurements by reading them"
   ]
  },
  {
   "cell_type": "code",
   "execution_count": 16,
   "id": "e1f6043c",
   "metadata": {
    "ExecuteTime": {
     "end_time": "2021-03-18T09:55:41.728688Z",
     "start_time": "2021-03-18T09:55:15.658652Z"
    }
   },
   "outputs": [
    {
     "name": "stderr",
     "output_type": "stream",
     "text": [
      "2021-06-24 11:50:19,947 - INFO - mvg.mvg - endpoint https://api.beta.multiviz.com\n",
      "2021-06-24 11:50:19,948 - INFO - mvg.mvg - retrieving all measurements from source id=u0001\n",
      "2021-06-24 11:50:20,172 - INFO - mvg.mvg - 50 measurements in database\n"
     ]
    },
    {
     "name": "stdout",
     "output_type": "stream",
     "text": [
      "Read 50 stored measurements\n"
     ]
    }
   ],
   "source": [
    "m = session.list_measurements(SOURCE_ID)\n",
    "print(f\"Read {len(m)} stored measurements\")"
   ]
  },
  {
   "cell_type": "markdown",
   "id": "b064153c",
   "metadata": {},
   "source": [
    "It is also possible to read a specific measurement at a single timestamp.\n",
    "Let's get the timestamp of the first measurement."
   ]
  },
  {
   "cell_type": "code",
   "execution_count": 18,
   "id": "b5187a48",
   "metadata": {
    "ExecuteTime": {
     "end_time": "2021-03-18T09:55:42.225546Z",
     "start_time": "2021-03-18T09:55:41.729876Z"
    }
   },
   "outputs": [
    {
     "name": "stderr",
     "output_type": "stream",
     "text": [
      "2021-06-24 11:55:07,892 - INFO - mvg.mvg - endpoint https://api.beta.multiviz.com\n",
      "2021-06-24 11:55:07,895 - INFO - mvg.mvg - retrieving measurements from source id=u0001\n",
      "2021-06-24 11:55:07,896 - INFO - mvg.mvg - timestamp=1570186860\n"
     ]
    },
    {
     "name": "stdout",
     "output_type": "stream",
     "text": [
      "source_id: u0001\n",
      "timestamp: 1570186860\n",
      "duration:  2.8672073400507907\n",
      "meta:      {'sampling_rate': 13950.857142857141}\n",
      "data:      [0.63897705078125, -0.55078125]...\n"
     ]
    }
   ],
   "source": [
    "ts_0 = m[0]['timestamp']\n",
    "meas_0 = session.read_single_measurement(SOURCE_ID, ts_0)\n",
    "# we'll printout the returned measurement\n",
    "print(f\"source_id: {SOURCE_ID}\")\n",
    "print(f\"timestamp: {ts_0}\")\n",
    "print(f\"duration:  {meas_0['duration']}\")\n",
    "print(f\"meta:      {meas_0['meta']}\")\n",
    "print(f\"data:      {meas_0['data'][1:3]}...\")"
   ]
  },
  {
   "cell_type": "markdown",
   "id": "dd2b9551",
   "metadata": {},
   "source": [
    "We can update the meta information for a measurement at a single timestamp let's get the timestamp of the first measurement"
   ]
  },
  {
   "cell_type": "code",
   "execution_count": 19,
   "id": "b327334b",
   "metadata": {
    "ExecuteTime": {
     "end_time": "2021-03-18T09:55:42.870908Z",
     "start_time": "2021-03-18T09:55:42.226689Z"
    }
   },
   "outputs": [
    {
     "name": "stderr",
     "output_type": "stream",
     "text": [
      "2021-06-24 11:55:59,850 - INFO - mvg.mvg - endpoint https://api.beta.multiviz.com\n",
      "2021-06-24 11:55:59,852 - INFO - mvg.mvg - deleting measurement for source id=u0001\n",
      "2021-06-24 11:55:59,854 - INFO - mvg.mvg -   timestamp: 1570186860\n",
      "2021-06-24 11:56:00,073 - INFO - mvg.mvg - endpoint https://api.beta.multiviz.com\n",
      "2021-06-24 11:56:00,073 - INFO - mvg.mvg - retrieving measurements from source id=u0001\n",
      "2021-06-24 11:56:00,074 - INFO - mvg.mvg - timestamp=1570186860\n"
     ]
    },
    {
     "name": "stdout",
     "output_type": "stream",
     "text": [
      "source_id: u0001\n",
      "timestamp: 1570186860\n",
      "duration:  2.8672073400507907\n",
      "meta:      {'sampling_rate': 13950.857142857141, 'updated': 'YES!'}\n",
      "data:      [0.63897705078125, -0.55078125]...\n"
     ]
    }
   ],
   "source": [
    "ts_0 = m[0]['timestamp']\n",
    "new_meta = meas_0['meta']\n",
    "new_meta['updated'] = \"YES!\"\n",
    "session.update_measurement(SOURCE_ID, ts_0, new_meta)\n",
    "meas_0_u = session.read_single_measurement(SOURCE_ID, ts_0)\n",
    "\n",
    "# we'll printout the returned measurement\n",
    "print(f\"source_id: {SOURCE_ID}\")\n",
    "print(f\"timestamp: {ts_0}\")\n",
    "print(f\"duration:  {meas_0_u['duration']}\")\n",
    "print(f\"meta:      {meas_0_u['meta']}\")\n",
    "print(f\"data:      {meas_0_u['data'][1:3]}...\")"
   ]
  },
  {
   "cell_type": "markdown",
   "id": "c3b0c737",
   "metadata": {},
   "source": [
    "Finally we delete the measurement"
   ]
  },
  {
   "cell_type": "code",
   "execution_count": 20,
   "id": "6c2dba23",
   "metadata": {
    "ExecuteTime": {
     "end_time": "2021-03-18T09:55:43.023114Z",
     "start_time": "2021-03-18T09:55:42.872176Z"
    }
   },
   "outputs": [
    {
     "name": "stderr",
     "output_type": "stream",
     "text": [
      "2021-06-24 11:56:24,041 - INFO - mvg.mvg - endpoint https://api.beta.multiviz.com\n",
      "2021-06-24 11:56:24,041 - INFO - mvg.mvg - deleting measurement for source id=u0001\n",
      "2021-06-24 11:56:24,043 - INFO - mvg.mvg -   timestamp: 1570186860\n"
     ]
    }
   ],
   "source": [
    "session.delete_measurement(SOURCE_ID, ts_0)"
   ]
  },
  {
   "cell_type": "markdown",
   "id": "24f5e765",
   "metadata": {},
   "source": [
    "We check if it's actually deleted"
   ]
  },
  {
   "cell_type": "code",
   "execution_count": 21,
   "id": "de2e8d01",
   "metadata": {
    "ExecuteTime": {
     "end_time": "2021-03-18T09:55:43.153589Z",
     "start_time": "2021-03-18T09:55:43.024498Z"
    }
   },
   "outputs": [
    {
     "name": "stderr",
     "output_type": "stream",
     "text": [
      "2021-06-24 11:56:26,689 - INFO - mvg.mvg - endpoint https://api.beta.multiviz.com\n",
      "2021-06-24 11:56:26,691 - INFO - mvg.mvg - retrieving measurements from source id=u0001\n",
      "2021-06-24 11:56:26,692 - INFO - mvg.mvg - timestamp=1570186860\n"
     ]
    },
    {
     "name": "stdout",
     "output_type": "stream",
     "text": [
      "Previously deleted measurement does not exist\n"
     ]
    }
   ],
   "source": [
    "try:\n",
    "    meas_0 = session.read_single_measurement(SOURCE_ID, ts_0)\n",
    "except HTTPError:\n",
    "    print(\"Previously deleted measurement does not exist\")"
   ]
  },
  {
   "cell_type": "markdown",
   "id": "79774fbf",
   "metadata": {},
   "source": [
    "If all went well we end up here now.\n",
    "The source u0001 is in the database along with a number of its measurements."
   ]
  },
  {
   "cell_type": "markdown",
   "id": "7bfe0bd9",
   "metadata": {},
   "source": [
    "## Uploading additional sources\n",
    "\n",
    "Here we show how to upload additional sources in a more compact way."
   ]
  },
  {
   "cell_type": "code",
   "execution_count": 28,
   "id": "f16eb0fa",
   "metadata": {
    "ExecuteTime": {
     "end_time": "2021-03-18T09:56:43.305948Z",
     "start_time": "2021-03-18T09:55:43.154900Z"
    },
    "pycharm": {
     "name": "#%%\n"
    }
   },
   "outputs": [
    {
     "name": "stderr",
     "output_type": "stream",
     "text": [
      "2021-06-24 12:15:28,045 - INFO - mvg.mvg - endpoint https://api.beta.multiviz.com\n",
      "2021-06-24 12:15:28,046 - INFO - mvg.mvg - deleting source with source id=u0002\n"
     ]
    },
    {
     "name": "stdout",
     "output_type": "stream",
     "text": [
      "Deleting u0002\n",
      "Source u0002 does not exist\n"
     ]
    },
    {
     "name": "stderr",
     "output_type": "stream",
     "text": [
      "2021-06-24 12:15:28,257 - INFO - mvg.mvg - endpoint https://api.beta.multiviz.com\n",
      "2021-06-24 12:15:28,258 - INFO - mvg.mvg - creating source with source id=u0002\n",
      "2021-06-24 12:15:28,259 - INFO - mvg.mvg - metadata: {'assetId': 'assetB', 'measPoint': 'mloc01', 'location': 'paris'}\n",
      "2021-06-24 12:15:28,486 - INFO - mvg.mvg - endpoint https://api.beta.multiviz.com\n",
      "2021-06-24 12:15:28,487 - INFO - mvg.mvg - creating measurement from source id=u0002\n",
      "2021-06-24 12:15:28,487 - INFO - mvg.mvg -   duration:  2.8672073400507907\n",
      "2021-06-24 12:15:28,488 - INFO - mvg.mvg -   timestamp: 1573732860\n",
      "2021-06-24 12:15:28,488 - INFO - mvg.mvg -   meta data: {'sampling_rate': 13950.857142857141}\n"
     ]
    },
    {
     "name": "stdout",
     "output_type": "stream",
     "text": [
      "Read 40000 samples for u0002.\n",
      "Read u0002 meta: {'duration': 2.8672073400507907, 'meta': {}}\n",
      "Uploading C:\\Users\\Sergio\\Documents\\GitHub\\mvg\\docs\\source\\content\\examples\\va-data-charlie\\charlieDb\\acc\\u0002\\1573732860.csv\n"
     ]
    },
    {
     "name": "stderr",
     "output_type": "stream",
     "text": [
      "2021-06-24 12:15:35,605 - INFO - mvg.mvg - endpoint https://api.beta.multiviz.com\n",
      "2021-06-24 12:15:35,605 - INFO - mvg.mvg - creating measurement from source id=u0002\n",
      "2021-06-24 12:15:35,605 - INFO - mvg.mvg -   duration:  2.8672073400507907\n",
      "2021-06-24 12:15:35,606 - INFO - mvg.mvg -   timestamp: 1571655660\n",
      "2021-06-24 12:15:35,606 - INFO - mvg.mvg -   meta data: {'sampling_rate': 13950.857142857141}\n"
     ]
    },
    {
     "name": "stdout",
     "output_type": "stream",
     "text": [
      "Read 40000 samples for u0002.\n",
      "Read u0002 meta: {'duration': 2.8672073400507907, 'meta': {}}\n",
      "Uploading C:\\Users\\Sergio\\Documents\\GitHub\\mvg\\docs\\source\\content\\examples\\va-data-charlie\\charlieDb\\acc\\u0002\\1571655660.csv\n"
     ]
    },
    {
     "name": "stderr",
     "output_type": "stream",
     "text": [
      "2021-06-24 12:15:43,154 - INFO - mvg.mvg - endpoint https://api.beta.multiviz.com\n",
      "2021-06-24 12:15:43,155 - INFO - mvg.mvg - creating measurement from source id=u0002\n",
      "2021-06-24 12:15:43,156 - INFO - mvg.mvg -   duration:  2.8672073400507907\n",
      "2021-06-24 12:15:43,156 - INFO - mvg.mvg -   timestamp: 1572523260\n",
      "2021-06-24 12:15:43,157 - INFO - mvg.mvg -   meta data: {'sampling_rate': 13950.857142857141}\n"
     ]
    },
    {
     "name": "stdout",
     "output_type": "stream",
     "text": [
      "Read 40000 samples for u0002.\n",
      "Read u0002 meta: {'duration': 2.8672073400507907, 'meta': {}}\n",
      "Uploading C:\\Users\\Sergio\\Documents\\GitHub\\mvg\\docs\\source\\content\\examples\\va-data-charlie\\charlieDb\\acc\\u0002\\1572523260.csv\n"
     ]
    },
    {
     "name": "stderr",
     "output_type": "stream",
     "text": [
      "2021-06-24 12:15:49,813 - INFO - mvg.mvg - endpoint https://api.beta.multiviz.com\n",
      "2021-06-24 12:15:49,813 - INFO - mvg.mvg - creating measurement from source id=u0002\n",
      "2021-06-24 12:15:49,813 - INFO - mvg.mvg -   duration:  2.8672073400507907\n",
      "2021-06-24 12:15:49,814 - INFO - mvg.mvg -   timestamp: 1571569260\n",
      "2021-06-24 12:15:49,814 - INFO - mvg.mvg -   meta data: {'sampling_rate': 13950.857142857141}\n"
     ]
    },
    {
     "name": "stdout",
     "output_type": "stream",
     "text": [
      "Read 40000 samples for u0002.\n",
      "Read u0002 meta: {'duration': 2.8672073400507907, 'meta': {}}\n",
      "Uploading C:\\Users\\Sergio\\Documents\\GitHub\\mvg\\docs\\source\\content\\examples\\va-data-charlie\\charlieDb\\acc\\u0002\\1571569260.csv\n"
     ]
    },
    {
     "name": "stderr",
     "output_type": "stream",
     "text": [
      "2021-06-24 12:15:57,148 - INFO - mvg.mvg - endpoint https://api.beta.multiviz.com\n",
      "2021-06-24 12:15:57,148 - INFO - mvg.mvg - creating measurement from source id=u0002\n",
      "2021-06-24 12:15:57,148 - INFO - mvg.mvg -   duration:  2.8672073400507907\n",
      "2021-06-24 12:15:57,148 - INFO - mvg.mvg -   timestamp: 1572177660\n",
      "2021-06-24 12:15:57,149 - INFO - mvg.mvg -   meta data: {'sampling_rate': 13950.857142857141}\n"
     ]
    },
    {
     "name": "stdout",
     "output_type": "stream",
     "text": [
      "Read 40000 samples for u0002.\n",
      "Read u0002 meta: {'duration': 2.8672073400507907, 'meta': {}}\n",
      "Uploading C:\\Users\\Sergio\\Documents\\GitHub\\mvg\\docs\\source\\content\\examples\\va-data-charlie\\charlieDb\\acc\\u0002\\1572177660.csv\n"
     ]
    },
    {
     "name": "stderr",
     "output_type": "stream",
     "text": [
      "2021-06-24 12:16:03,624 - INFO - mvg.mvg - endpoint https://api.beta.multiviz.com\n",
      "2021-06-24 12:16:03,624 - INFO - mvg.mvg - creating measurement from source id=u0002\n",
      "2021-06-24 12:16:03,624 - INFO - mvg.mvg -   duration:  2.8672073400507907\n",
      "2021-06-24 12:16:03,625 - INFO - mvg.mvg -   timestamp: 1570705260\n",
      "2021-06-24 12:16:03,625 - INFO - mvg.mvg -   meta data: {'sampling_rate': 13950.857142857141}\n"
     ]
    },
    {
     "name": "stdout",
     "output_type": "stream",
     "text": [
      "Read 40000 samples for u0002.\n",
      "Read u0002 meta: {'duration': 2.8672073400507907, 'meta': {}}\n",
      "Uploading C:\\Users\\Sergio\\Documents\\GitHub\\mvg\\docs\\source\\content\\examples\\va-data-charlie\\charlieDb\\acc\\u0002\\1570705260.csv\n"
     ]
    },
    {
     "name": "stderr",
     "output_type": "stream",
     "text": [
      "2021-06-24 12:16:10,012 - INFO - mvg.mvg - endpoint https://api.beta.multiviz.com\n",
      "2021-06-24 12:16:10,013 - INFO - mvg.mvg - creating measurement from source id=u0002\n",
      "2021-06-24 12:16:10,014 - INFO - mvg.mvg -   duration:  2.8672073400507907\n",
      "2021-06-24 12:16:10,014 - INFO - mvg.mvg -   timestamp: 1572868860\n",
      "2021-06-24 12:16:10,014 - INFO - mvg.mvg -   meta data: {'sampling_rate': 13950.857142857141}\n"
     ]
    },
    {
     "name": "stdout",
     "output_type": "stream",
     "text": [
      "Read 40000 samples for u0002.\n",
      "Read u0002 meta: {'duration': 2.8672073400507907, 'meta': {}}\n",
      "Uploading C:\\Users\\Sergio\\Documents\\GitHub\\mvg\\docs\\source\\content\\examples\\va-data-charlie\\charlieDb\\acc\\u0002\\1572868860.csv\n"
     ]
    },
    {
     "name": "stderr",
     "output_type": "stream",
     "text": [
      "2021-06-24 12:16:16,413 - INFO - mvg.mvg - endpoint https://api.beta.multiviz.com\n",
      "2021-06-24 12:16:16,413 - INFO - mvg.mvg - creating measurement from source id=u0002\n",
      "2021-06-24 12:16:16,414 - INFO - mvg.mvg -   duration:  2.8672073400507907\n",
      "2021-06-24 12:16:16,415 - INFO - mvg.mvg -   timestamp: 1570964460\n",
      "2021-06-24 12:16:16,415 - INFO - mvg.mvg -   meta data: {'sampling_rate': 13950.857142857141}\n"
     ]
    },
    {
     "name": "stdout",
     "output_type": "stream",
     "text": [
      "Read 40000 samples for u0002.\n",
      "Read u0002 meta: {'duration': 2.8672073400507907, 'meta': {}}\n",
      "Uploading C:\\Users\\Sergio\\Documents\\GitHub\\mvg\\docs\\source\\content\\examples\\va-data-charlie\\charlieDb\\acc\\u0002\\1570964460.csv\n"
     ]
    },
    {
     "name": "stderr",
     "output_type": "stream",
     "text": [
      "2021-06-24 12:16:22,943 - INFO - mvg.mvg - endpoint https://api.beta.multiviz.com\n",
      "2021-06-24 12:16:22,943 - INFO - mvg.mvg - creating measurement from source id=u0002\n",
      "2021-06-24 12:16:22,944 - INFO - mvg.mvg -   duration:  2.8672073400507907\n",
      "2021-06-24 12:16:22,944 - INFO - mvg.mvg -   timestamp: 1572955260\n",
      "2021-06-24 12:16:22,945 - INFO - mvg.mvg -   meta data: {'sampling_rate': 13950.857142857141}\n"
     ]
    },
    {
     "name": "stdout",
     "output_type": "stream",
     "text": [
      "Read 40000 samples for u0002.\n",
      "Read u0002 meta: {'duration': 2.8672073400507907, 'meta': {}}\n",
      "Uploading C:\\Users\\Sergio\\Documents\\GitHub\\mvg\\docs\\source\\content\\examples\\va-data-charlie\\charlieDb\\acc\\u0002\\1572955260.csv\n"
     ]
    },
    {
     "name": "stderr",
     "output_type": "stream",
     "text": [
      "2021-06-24 12:16:29,638 - INFO - mvg.mvg - endpoint https://api.beta.multiviz.com\n",
      "2021-06-24 12:16:29,639 - INFO - mvg.mvg - creating measurement from source id=u0002\n",
      "2021-06-24 12:16:29,639 - INFO - mvg.mvg -   duration:  2.8672073400507907\n",
      "2021-06-24 12:16:29,640 - INFO - mvg.mvg -   timestamp: 1571742060\n",
      "2021-06-24 12:16:29,640 - INFO - mvg.mvg -   meta data: {'sampling_rate': 13950.857142857141}\n"
     ]
    },
    {
     "name": "stdout",
     "output_type": "stream",
     "text": [
      "Read 40000 samples for u0002.\n",
      "Read u0002 meta: {'duration': 2.8672073400507907, 'meta': {}}\n",
      "Uploading C:\\Users\\Sergio\\Documents\\GitHub\\mvg\\docs\\source\\content\\examples\\va-data-charlie\\charlieDb\\acc\\u0002\\1571742060.csv\n"
     ]
    },
    {
     "name": "stderr",
     "output_type": "stream",
     "text": [
      "2021-06-24 12:16:36,498 - INFO - mvg.mvg - endpoint https://api.beta.multiviz.com\n",
      "2021-06-24 12:16:36,499 - INFO - mvg.mvg - creating measurement from source id=u0002\n",
      "2021-06-24 12:16:36,499 - INFO - mvg.mvg -   duration:  2.8672073400507907\n",
      "2021-06-24 12:16:36,499 - INFO - mvg.mvg -   timestamp: 1571482860\n",
      "2021-06-24 12:16:36,500 - INFO - mvg.mvg -   meta data: {'sampling_rate': 13950.857142857141}\n"
     ]
    },
    {
     "name": "stdout",
     "output_type": "stream",
     "text": [
      "Read 40000 samples for u0002.\n",
      "Read u0002 meta: {'duration': 2.8672073400507907, 'meta': {}}\n",
      "Uploading C:\\Users\\Sergio\\Documents\\GitHub\\mvg\\docs\\source\\content\\examples\\va-data-charlie\\charlieDb\\acc\\u0002\\1571482860.csv\n"
     ]
    },
    {
     "name": "stderr",
     "output_type": "stream",
     "text": [
      "2021-06-24 12:16:44,205 - INFO - mvg.mvg - endpoint https://api.beta.multiviz.com\n",
      "2021-06-24 12:16:44,206 - INFO - mvg.mvg - creating measurement from source id=u0002\n",
      "2021-06-24 12:16:44,207 - INFO - mvg.mvg -   duration:  2.8672073400507907\n",
      "2021-06-24 12:16:44,207 - INFO - mvg.mvg -   timestamp: 1574078460\n",
      "2021-06-24 12:16:44,208 - INFO - mvg.mvg -   meta data: {'sampling_rate': 13950.857142857141}\n"
     ]
    },
    {
     "name": "stdout",
     "output_type": "stream",
     "text": [
      "Read 40000 samples for u0002.\n",
      "Read u0002 meta: {'duration': 2.8672073400507907, 'meta': {}}\n",
      "Uploading C:\\Users\\Sergio\\Documents\\GitHub\\mvg\\docs\\source\\content\\examples\\va-data-charlie\\charlieDb\\acc\\u0002\\1574078460.csv\n"
     ]
    },
    {
     "name": "stderr",
     "output_type": "stream",
     "text": [
      "2021-06-24 12:16:51,149 - INFO - mvg.mvg - endpoint https://api.beta.multiviz.com\n",
      "2021-06-24 12:16:51,149 - INFO - mvg.mvg - creating measurement from source id=u0002\n",
      "2021-06-24 12:16:51,149 - INFO - mvg.mvg -   duration:  2.8672073400507907\n",
      "2021-06-24 12:16:51,150 - INFO - mvg.mvg -   timestamp: 1570618860\n",
      "2021-06-24 12:16:51,150 - INFO - mvg.mvg -   meta data: {'sampling_rate': 13950.857142857141}\n"
     ]
    },
    {
     "name": "stdout",
     "output_type": "stream",
     "text": [
      "Read 40000 samples for u0002.\n",
      "Read u0002 meta: {'duration': 2.8672073400507907, 'meta': {}}\n",
      "Uploading C:\\Users\\Sergio\\Documents\\GitHub\\mvg\\docs\\source\\content\\examples\\va-data-charlie\\charlieDb\\acc\\u0002\\1570618860.csv\n"
     ]
    },
    {
     "name": "stderr",
     "output_type": "stream",
     "text": [
      "2021-06-24 12:16:59,483 - INFO - mvg.mvg - endpoint https://api.beta.multiviz.com\n",
      "2021-06-24 12:16:59,483 - INFO - mvg.mvg - creating measurement from source id=u0002\n",
      "2021-06-24 12:16:59,484 - INFO - mvg.mvg -   duration:  2.8672073400507907\n",
      "2021-06-24 12:16:59,485 - INFO - mvg.mvg -   timestamp: 1572350460\n",
      "2021-06-24 12:16:59,485 - INFO - mvg.mvg -   meta data: {'sampling_rate': 13950.857142857141}\n"
     ]
    },
    {
     "name": "stdout",
     "output_type": "stream",
     "text": [
      "Read 40000 samples for u0002.\n",
      "Read u0002 meta: {'duration': 2.8672073400507907, 'meta': {}}\n",
      "Uploading C:\\Users\\Sergio\\Documents\\GitHub\\mvg\\docs\\source\\content\\examples\\va-data-charlie\\charlieDb\\acc\\u0002\\1572350460.csv\n"
     ]
    },
    {
     "name": "stderr",
     "output_type": "stream",
     "text": [
      "2021-06-24 12:17:06,267 - INFO - mvg.mvg - endpoint https://api.beta.multiviz.com\n",
      "2021-06-24 12:17:06,267 - INFO - mvg.mvg - creating measurement from source id=u0002\n",
      "2021-06-24 12:17:06,268 - INFO - mvg.mvg -   duration:  2.8672073400507907\n",
      "2021-06-24 12:17:06,269 - INFO - mvg.mvg -   timestamp: 1572264060\n",
      "2021-06-24 12:17:06,269 - INFO - mvg.mvg -   meta data: {'sampling_rate': 13950.857142857141}\n"
     ]
    },
    {
     "name": "stdout",
     "output_type": "stream",
     "text": [
      "Read 40000 samples for u0002.\n",
      "Read u0002 meta: {'duration': 2.8672073400507907, 'meta': {}}\n",
      "Uploading C:\\Users\\Sergio\\Documents\\GitHub\\mvg\\docs\\source\\content\\examples\\va-data-charlie\\charlieDb\\acc\\u0002\\1572264060.csv\n"
     ]
    },
    {
     "name": "stderr",
     "output_type": "stream",
     "text": [
      "2021-06-24 12:17:12,826 - INFO - mvg.mvg - endpoint https://api.beta.multiviz.com\n",
      "2021-06-24 12:17:12,827 - INFO - mvg.mvg - creating measurement from source id=u0002\n",
      "2021-06-24 12:17:12,828 - INFO - mvg.mvg -   duration:  2.8672073400507907\n",
      "2021-06-24 12:17:12,828 - INFO - mvg.mvg -   timestamp: 1573387260\n",
      "2021-06-24 12:17:12,829 - INFO - mvg.mvg -   meta data: {'sampling_rate': 13950.857142857141}\n"
     ]
    },
    {
     "name": "stdout",
     "output_type": "stream",
     "text": [
      "Read 40000 samples for u0002.\n",
      "Read u0002 meta: {'duration': 2.8672073400507907, 'meta': {}}\n",
      "Uploading C:\\Users\\Sergio\\Documents\\GitHub\\mvg\\docs\\source\\content\\examples\\va-data-charlie\\charlieDb\\acc\\u0002\\1573387260.csv\n"
     ]
    },
    {
     "name": "stderr",
     "output_type": "stream",
     "text": [
      "2021-06-24 12:17:20,335 - INFO - mvg.mvg - endpoint https://api.beta.multiviz.com\n",
      "2021-06-24 12:17:20,336 - INFO - mvg.mvg - creating measurement from source id=u0002\n",
      "2021-06-24 12:17:20,337 - INFO - mvg.mvg -   duration:  2.8672073400507907\n",
      "2021-06-24 12:17:20,337 - INFO - mvg.mvg -   timestamp: 1571914860\n",
      "2021-06-24 12:17:20,338 - INFO - mvg.mvg -   meta data: {'sampling_rate': 13950.857142857141}\n"
     ]
    },
    {
     "name": "stdout",
     "output_type": "stream",
     "text": [
      "Read 40000 samples for u0002.\n",
      "Read u0002 meta: {'duration': 2.8672073400507907, 'meta': {}}\n",
      "Uploading C:\\Users\\Sergio\\Documents\\GitHub\\mvg\\docs\\source\\content\\examples\\va-data-charlie\\charlieDb\\acc\\u0002\\1571914860.csv\n"
     ]
    },
    {
     "name": "stderr",
     "output_type": "stream",
     "text": [
      "2021-06-24 12:17:26,991 - INFO - mvg.mvg - endpoint https://api.beta.multiviz.com\n",
      "2021-06-24 12:17:26,992 - INFO - mvg.mvg - creating measurement from source id=u0002\n",
      "2021-06-24 12:17:26,992 - INFO - mvg.mvg -   duration:  2.8672073400507907\n",
      "2021-06-24 12:17:26,993 - INFO - mvg.mvg -   timestamp: 1570446060\n",
      "2021-06-24 12:17:26,993 - INFO - mvg.mvg -   meta data: {'sampling_rate': 13950.857142857141}\n"
     ]
    },
    {
     "name": "stdout",
     "output_type": "stream",
     "text": [
      "Read 40000 samples for u0002.\n",
      "Read u0002 meta: {'duration': 2.8672073400507907, 'meta': {}}\n",
      "Uploading C:\\Users\\Sergio\\Documents\\GitHub\\mvg\\docs\\source\\content\\examples\\va-data-charlie\\charlieDb\\acc\\u0002\\1570446060.csv\n"
     ]
    },
    {
     "name": "stderr",
     "output_type": "stream",
     "text": [
      "2021-06-24 12:17:33,758 - INFO - mvg.mvg - endpoint https://api.beta.multiviz.com\n",
      "2021-06-24 12:17:33,759 - INFO - mvg.mvg - creating measurement from source id=u0002\n",
      "2021-06-24 12:17:33,759 - INFO - mvg.mvg -   duration:  2.8672073400507907\n",
      "2021-06-24 12:17:33,760 - INFO - mvg.mvg -   timestamp: 1572087660\n",
      "2021-06-24 12:17:33,761 - INFO - mvg.mvg -   meta data: {'sampling_rate': 13950.857142857141}\n"
     ]
    },
    {
     "name": "stdout",
     "output_type": "stream",
     "text": [
      "Read 40000 samples for u0002.\n",
      "Read u0002 meta: {'duration': 2.8672073400507907, 'meta': {}}\n",
      "Uploading C:\\Users\\Sergio\\Documents\\GitHub\\mvg\\docs\\source\\content\\examples\\va-data-charlie\\charlieDb\\acc\\u0002\\1572087660.csv\n"
     ]
    },
    {
     "name": "stderr",
     "output_type": "stream",
     "text": [
      "2021-06-24 12:17:41,284 - INFO - mvg.mvg - endpoint https://api.beta.multiviz.com\n",
      "2021-06-24 12:17:41,284 - INFO - mvg.mvg - creating measurement from source id=u0002\n",
      "2021-06-24 12:17:41,284 - INFO - mvg.mvg -   duration:  2.8672073400507907\n",
      "2021-06-24 12:17:41,285 - INFO - mvg.mvg -   timestamp: 1573905660\n",
      "2021-06-24 12:17:41,285 - INFO - mvg.mvg -   meta data: {'sampling_rate': 13950.857142857141}\n"
     ]
    },
    {
     "name": "stdout",
     "output_type": "stream",
     "text": [
      "Read 40000 samples for u0002.\n",
      "Read u0002 meta: {'duration': 2.8672073400507907, 'meta': {}}\n",
      "Uploading C:\\Users\\Sergio\\Documents\\GitHub\\mvg\\docs\\source\\content\\examples\\va-data-charlie\\charlieDb\\acc\\u0002\\1573905660.csv\n"
     ]
    },
    {
     "name": "stderr",
     "output_type": "stream",
     "text": [
      "2021-06-24 12:17:47,840 - INFO - mvg.mvg - endpoint https://api.beta.multiviz.com\n",
      "2021-06-24 12:17:47,840 - INFO - mvg.mvg - creating measurement from source id=u0002\n",
      "2021-06-24 12:17:47,841 - INFO - mvg.mvg -   duration:  2.8672073400507907\n",
      "2021-06-24 12:17:47,841 - INFO - mvg.mvg -   timestamp: 1574164860\n",
      "2021-06-24 12:17:47,842 - INFO - mvg.mvg -   meta data: {'sampling_rate': 13950.857142857141}\n"
     ]
    },
    {
     "name": "stdout",
     "output_type": "stream",
     "text": [
      "Read 40000 samples for u0002.\n",
      "Read u0002 meta: {'duration': 2.8672073400507907, 'meta': {}}\n",
      "Uploading C:\\Users\\Sergio\\Documents\\GitHub\\mvg\\docs\\source\\content\\examples\\va-data-charlie\\charlieDb\\acc\\u0002\\1574164860.csv\n"
     ]
    },
    {
     "name": "stderr",
     "output_type": "stream",
     "text": [
      "2021-06-24 12:17:54,511 - INFO - mvg.mvg - endpoint https://api.beta.multiviz.com\n",
      "2021-06-24 12:17:54,511 - INFO - mvg.mvg - creating measurement from source id=u0002\n",
      "2021-06-24 12:17:54,511 - INFO - mvg.mvg -   duration:  2.8672073400507907\n",
      "2021-06-24 12:17:54,512 - INFO - mvg.mvg -   timestamp: 1573473660\n",
      "2021-06-24 12:17:54,513 - INFO - mvg.mvg -   meta data: {'sampling_rate': 13950.857142857141}\n"
     ]
    },
    {
     "name": "stdout",
     "output_type": "stream",
     "text": [
      "Read 40000 samples for u0002.\n",
      "Read u0002 meta: {'duration': 2.8672073400507907, 'meta': {}}\n",
      "Uploading C:\\Users\\Sergio\\Documents\\GitHub\\mvg\\docs\\source\\content\\examples\\va-data-charlie\\charlieDb\\acc\\u0002\\1573473660.csv\n"
     ]
    },
    {
     "name": "stderr",
     "output_type": "stream",
     "text": [
      "2021-06-24 12:18:01,973 - INFO - mvg.mvg - endpoint https://api.beta.multiviz.com\n",
      "2021-06-24 12:18:01,974 - INFO - mvg.mvg - creating measurement from source id=u0002\n",
      "2021-06-24 12:18:01,974 - INFO - mvg.mvg -   duration:  2.8672073400507907\n",
      "2021-06-24 12:18:01,975 - INFO - mvg.mvg -   timestamp: 1573560060\n",
      "2021-06-24 12:18:01,976 - INFO - mvg.mvg -   meta data: {'sampling_rate': 13950.857142857141}\n"
     ]
    },
    {
     "name": "stdout",
     "output_type": "stream",
     "text": [
      "Read 40000 samples for u0002.\n",
      "Read u0002 meta: {'duration': 2.8672073400507907, 'meta': {}}\n",
      "Uploading C:\\Users\\Sergio\\Documents\\GitHub\\mvg\\docs\\source\\content\\examples\\va-data-charlie\\charlieDb\\acc\\u0002\\1573560060.csv\n"
     ]
    },
    {
     "name": "stderr",
     "output_type": "stream",
     "text": [
      "2021-06-24 12:18:08,601 - INFO - mvg.mvg - endpoint https://api.beta.multiviz.com\n",
      "2021-06-24 12:18:08,601 - INFO - mvg.mvg - creating measurement from source id=u0002\n",
      "2021-06-24 12:18:08,602 - INFO - mvg.mvg -   duration:  2.8672073400507907\n",
      "2021-06-24 12:18:08,602 - INFO - mvg.mvg -   timestamp: 1570186860\n",
      "2021-06-24 12:18:08,602 - INFO - mvg.mvg -   meta data: {'sampling_rate': 13950.857142857141}\n"
     ]
    },
    {
     "name": "stdout",
     "output_type": "stream",
     "text": [
      "Read 40000 samples for u0002.\n",
      "Read u0002 meta: {'duration': 2.8672073400507907, 'meta': {}}\n",
      "Uploading C:\\Users\\Sergio\\Documents\\GitHub\\mvg\\docs\\source\\content\\examples\\va-data-charlie\\charlieDb\\acc\\u0002\\1570186860.csv\n"
     ]
    },
    {
     "name": "stderr",
     "output_type": "stream",
     "text": [
      "2021-06-24 12:18:15,215 - INFO - mvg.mvg - endpoint https://api.beta.multiviz.com\n",
      "2021-06-24 12:18:15,216 - INFO - mvg.mvg - creating measurement from source id=u0002\n",
      "2021-06-24 12:18:15,217 - INFO - mvg.mvg -   duration:  2.8672073400507907\n",
      "2021-06-24 12:18:15,217 - INFO - mvg.mvg -   timestamp: 1571223660\n",
      "2021-06-24 12:18:15,218 - INFO - mvg.mvg -   meta data: {'sampling_rate': 13950.857142857141}\n"
     ]
    },
    {
     "name": "stdout",
     "output_type": "stream",
     "text": [
      "Read 40000 samples for u0002.\n",
      "Read u0002 meta: {'duration': 2.8672073400507907, 'meta': {}}\n",
      "Uploading C:\\Users\\Sergio\\Documents\\GitHub\\mvg\\docs\\source\\content\\examples\\va-data-charlie\\charlieDb\\acc\\u0002\\1571223660.csv\n"
     ]
    },
    {
     "name": "stderr",
     "output_type": "stream",
     "text": [
      "2021-06-24 12:18:22,851 - INFO - mvg.mvg - endpoint https://api.beta.multiviz.com\n",
      "2021-06-24 12:18:22,851 - INFO - mvg.mvg - creating measurement from source id=u0002\n",
      "2021-06-24 12:18:22,851 - INFO - mvg.mvg -   duration:  2.8672073400507907\n",
      "2021-06-24 12:18:22,852 - INFO - mvg.mvg -   timestamp: 1572609660\n",
      "2021-06-24 12:18:22,852 - INFO - mvg.mvg -   meta data: {'sampling_rate': 13950.857142857141}\n"
     ]
    },
    {
     "name": "stdout",
     "output_type": "stream",
     "text": [
      "Read 40000 samples for u0002.\n",
      "Read u0002 meta: {'duration': 2.8672073400507907, 'meta': {}}\n",
      "Uploading C:\\Users\\Sergio\\Documents\\GitHub\\mvg\\docs\\source\\content\\examples\\va-data-charlie\\charlieDb\\acc\\u0002\\1572609660.csv\n"
     ]
    },
    {
     "name": "stderr",
     "output_type": "stream",
     "text": [
      "2021-06-24 12:18:29,462 - INFO - mvg.mvg - endpoint https://api.beta.multiviz.com\n",
      "2021-06-24 12:18:29,462 - INFO - mvg.mvg - creating measurement from source id=u0002\n",
      "2021-06-24 12:18:29,463 - INFO - mvg.mvg -   duration:  2.8672073400507907\n",
      "2021-06-24 12:18:29,463 - INFO - mvg.mvg -   timestamp: 1573992060\n",
      "2021-06-24 12:18:29,464 - INFO - mvg.mvg -   meta data: {'sampling_rate': 13950.857142857141}\n"
     ]
    },
    {
     "name": "stdout",
     "output_type": "stream",
     "text": [
      "Read 40000 samples for u0002.\n",
      "Read u0002 meta: {'duration': 2.8672073400507907, 'meta': {}}\n",
      "Uploading C:\\Users\\Sergio\\Documents\\GitHub\\mvg\\docs\\source\\content\\examples\\va-data-charlie\\charlieDb\\acc\\u0002\\1573992060.csv\n"
     ]
    },
    {
     "name": "stderr",
     "output_type": "stream",
     "text": [
      "2021-06-24 12:18:38,052 - INFO - mvg.mvg - endpoint https://api.beta.multiviz.com\n",
      "2021-06-24 12:18:38,052 - INFO - mvg.mvg - creating measurement from source id=u0002\n",
      "2021-06-24 12:18:38,052 - INFO - mvg.mvg -   duration:  2.8672073400507907\n",
      "2021-06-24 12:18:38,053 - INFO - mvg.mvg -   timestamp: 1574251260\n",
      "2021-06-24 12:18:38,053 - INFO - mvg.mvg -   meta data: {'sampling_rate': 13950.857142857141}\n"
     ]
    },
    {
     "name": "stdout",
     "output_type": "stream",
     "text": [
      "Read 40000 samples for u0002.\n",
      "Read u0002 meta: {'duration': 2.8672073400507907, 'meta': {}}\n",
      "Uploading C:\\Users\\Sergio\\Documents\\GitHub\\mvg\\docs\\source\\content\\examples\\va-data-charlie\\charlieDb\\acc\\u0002\\1574251260.csv\n"
     ]
    },
    {
     "name": "stderr",
     "output_type": "stream",
     "text": [
      "2021-06-24 12:18:45,083 - INFO - mvg.mvg - endpoint https://api.beta.multiviz.com\n",
      "2021-06-24 12:18:45,084 - INFO - mvg.mvg - creating measurement from source id=u0002\n",
      "2021-06-24 12:18:45,084 - INFO - mvg.mvg -   duration:  2.8672073400507907\n",
      "2021-06-24 12:18:45,085 - INFO - mvg.mvg -   timestamp: 1572436860\n",
      "2021-06-24 12:18:45,085 - INFO - mvg.mvg -   meta data: {'sampling_rate': 13950.857142857141}\n"
     ]
    },
    {
     "name": "stdout",
     "output_type": "stream",
     "text": [
      "Read 40000 samples for u0002.\n",
      "Read u0002 meta: {'duration': 2.8672073400507907, 'meta': {}}\n",
      "Uploading C:\\Users\\Sergio\\Documents\\GitHub\\mvg\\docs\\source\\content\\examples\\va-data-charlie\\charlieDb\\acc\\u0002\\1572436860.csv\n"
     ]
    },
    {
     "name": "stderr",
     "output_type": "stream",
     "text": [
      "2021-06-24 12:18:53,322 - INFO - mvg.mvg - endpoint https://api.beta.multiviz.com\n",
      "2021-06-24 12:18:53,323 - INFO - mvg.mvg - creating measurement from source id=u0002\n",
      "2021-06-24 12:18:53,323 - INFO - mvg.mvg -   duration:  2.8672073400507907\n",
      "2021-06-24 12:18:53,324 - INFO - mvg.mvg -   timestamp: 1573128060\n",
      "2021-06-24 12:18:53,324 - INFO - mvg.mvg -   meta data: {'sampling_rate': 13950.857142857141}\n"
     ]
    },
    {
     "name": "stdout",
     "output_type": "stream",
     "text": [
      "Read 40000 samples for u0002.\n",
      "Read u0002 meta: {'duration': 2.8672073400507907, 'meta': {}}\n",
      "Uploading C:\\Users\\Sergio\\Documents\\GitHub\\mvg\\docs\\source\\content\\examples\\va-data-charlie\\charlieDb\\acc\\u0002\\1573128060.csv\n"
     ]
    },
    {
     "name": "stderr",
     "output_type": "stream",
     "text": [
      "2021-06-24 12:19:01,406 - INFO - mvg.mvg - endpoint https://api.beta.multiviz.com\n",
      "2021-06-24 12:19:01,406 - INFO - mvg.mvg - creating measurement from source id=u0002\n",
      "2021-06-24 12:19:01,406 - INFO - mvg.mvg -   duration:  2.8672073400507907\n",
      "2021-06-24 12:19:01,407 - INFO - mvg.mvg -   timestamp: 1573041660\n",
      "2021-06-24 12:19:01,408 - INFO - mvg.mvg -   meta data: {'sampling_rate': 13950.857142857141}\n"
     ]
    },
    {
     "name": "stdout",
     "output_type": "stream",
     "text": [
      "Read 40000 samples for u0002.\n",
      "Read u0002 meta: {'duration': 2.8672073400507907, 'meta': {}}\n",
      "Uploading C:\\Users\\Sergio\\Documents\\GitHub\\mvg\\docs\\source\\content\\examples\\va-data-charlie\\charlieDb\\acc\\u0002\\1573041660.csv\n"
     ]
    },
    {
     "name": "stderr",
     "output_type": "stream",
     "text": [
      "2021-06-24 12:19:08,105 - INFO - mvg.mvg - endpoint https://api.beta.multiviz.com\n",
      "2021-06-24 12:19:08,106 - INFO - mvg.mvg - creating measurement from source id=u0002\n",
      "2021-06-24 12:19:08,106 - INFO - mvg.mvg -   duration:  2.8672073400507907\n",
      "2021-06-24 12:19:08,107 - INFO - mvg.mvg -   timestamp: 1573214460\n",
      "2021-06-24 12:19:08,108 - INFO - mvg.mvg -   meta data: {'sampling_rate': 13950.857142857141}\n"
     ]
    },
    {
     "name": "stdout",
     "output_type": "stream",
     "text": [
      "Read 40000 samples for u0002.\n",
      "Read u0002 meta: {'duration': 2.8672073400507907, 'meta': {}}\n",
      "Uploading C:\\Users\\Sergio\\Documents\\GitHub\\mvg\\docs\\source\\content\\examples\\va-data-charlie\\charlieDb\\acc\\u0002\\1573214460.csv\n"
     ]
    },
    {
     "name": "stderr",
     "output_type": "stream",
     "text": [
      "2021-06-24 12:19:14,729 - INFO - mvg.mvg - endpoint https://api.beta.multiviz.com\n",
      "2021-06-24 12:19:14,730 - INFO - mvg.mvg - creating measurement from source id=u0002\n",
      "2021-06-24 12:19:14,730 - INFO - mvg.mvg -   duration:  2.8672073400507907\n",
      "2021-06-24 12:19:14,731 - INFO - mvg.mvg -   timestamp: 1571396460\n",
      "2021-06-24 12:19:14,731 - INFO - mvg.mvg -   meta data: {'sampling_rate': 13950.857142857141}\n"
     ]
    },
    {
     "name": "stdout",
     "output_type": "stream",
     "text": [
      "Read 40000 samples for u0002.\n",
      "Read u0002 meta: {'duration': 2.8672073400507907, 'meta': {}}\n",
      "Uploading C:\\Users\\Sergio\\Documents\\GitHub\\mvg\\docs\\source\\content\\examples\\va-data-charlie\\charlieDb\\acc\\u0002\\1571396460.csv\n"
     ]
    },
    {
     "name": "stderr",
     "output_type": "stream",
     "text": [
      "2021-06-24 12:19:21,234 - INFO - mvg.mvg - endpoint https://api.beta.multiviz.com\n",
      "2021-06-24 12:19:21,235 - INFO - mvg.mvg - creating measurement from source id=u0002\n",
      "2021-06-24 12:19:21,235 - INFO - mvg.mvg -   duration:  2.8672073400507907\n",
      "2021-06-24 12:19:21,236 - INFO - mvg.mvg -   timestamp: 1573819260\n",
      "2021-06-24 12:19:21,236 - INFO - mvg.mvg -   meta data: {'sampling_rate': 13950.857142857141}\n"
     ]
    },
    {
     "name": "stdout",
     "output_type": "stream",
     "text": [
      "Read 40000 samples for u0002.\n",
      "Read u0002 meta: {'duration': 2.8672073400507907, 'meta': {}}\n",
      "Uploading C:\\Users\\Sergio\\Documents\\GitHub\\mvg\\docs\\source\\content\\examples\\va-data-charlie\\charlieDb\\acc\\u0002\\1573819260.csv\n"
     ]
    },
    {
     "name": "stderr",
     "output_type": "stream",
     "text": [
      "2021-06-24 12:19:28,059 - INFO - mvg.mvg - endpoint https://api.beta.multiviz.com\n",
      "2021-06-24 12:19:28,059 - INFO - mvg.mvg - creating measurement from source id=u0002\n",
      "2021-06-24 12:19:28,060 - INFO - mvg.mvg -   duration:  2.8672073400507907\n",
      "2021-06-24 12:19:28,060 - INFO - mvg.mvg -   timestamp: 1570359660\n",
      "2021-06-24 12:19:28,061 - INFO - mvg.mvg -   meta data: {'sampling_rate': 13950.857142857141}\n"
     ]
    },
    {
     "name": "stdout",
     "output_type": "stream",
     "text": [
      "Read 40000 samples for u0002.\n",
      "Read u0002 meta: {'duration': 2.8672073400507907, 'meta': {}}\n",
      "Uploading C:\\Users\\Sergio\\Documents\\GitHub\\mvg\\docs\\source\\content\\examples\\va-data-charlie\\charlieDb\\acc\\u0002\\1570359660.csv\n"
     ]
    },
    {
     "name": "stderr",
     "output_type": "stream",
     "text": [
      "2021-06-24 12:19:35,067 - INFO - mvg.mvg - endpoint https://api.beta.multiviz.com\n",
      "2021-06-24 12:19:35,068 - INFO - mvg.mvg - creating measurement from source id=u0002\n",
      "2021-06-24 12:19:35,068 - INFO - mvg.mvg -   duration:  2.8672073400507907\n",
      "2021-06-24 12:19:35,068 - INFO - mvg.mvg -   timestamp: 1572001260\n",
      "2021-06-24 12:19:35,069 - INFO - mvg.mvg -   meta data: {'sampling_rate': 13950.857142857141}\n"
     ]
    },
    {
     "name": "stdout",
     "output_type": "stream",
     "text": [
      "Read 40000 samples for u0002.\n",
      "Read u0002 meta: {'duration': 2.8672073400507907, 'meta': {}}\n",
      "Uploading C:\\Users\\Sergio\\Documents\\GitHub\\mvg\\docs\\source\\content\\examples\\va-data-charlie\\charlieDb\\acc\\u0002\\1572001260.csv\n"
     ]
    },
    {
     "name": "stderr",
     "output_type": "stream",
     "text": [
      "2021-06-24 12:19:42,369 - INFO - mvg.mvg - endpoint https://api.beta.multiviz.com\n",
      "2021-06-24 12:19:42,370 - INFO - mvg.mvg - creating measurement from source id=u0002\n",
      "2021-06-24 12:19:42,370 - INFO - mvg.mvg -   duration:  2.8672073400507907\n",
      "2021-06-24 12:19:42,370 - INFO - mvg.mvg -   timestamp: 1570532460\n",
      "2021-06-24 12:19:42,371 - INFO - mvg.mvg -   meta data: {'sampling_rate': 13950.857142857141}\n"
     ]
    },
    {
     "name": "stdout",
     "output_type": "stream",
     "text": [
      "Read 40000 samples for u0002.\n",
      "Read u0002 meta: {'duration': 2.8672073400507907, 'meta': {}}\n",
      "Uploading C:\\Users\\Sergio\\Documents\\GitHub\\mvg\\docs\\source\\content\\examples\\va-data-charlie\\charlieDb\\acc\\u0002\\1570532460.csv\n"
     ]
    },
    {
     "name": "stderr",
     "output_type": "stream",
     "text": [
      "2021-06-24 12:19:49,370 - INFO - mvg.mvg - endpoint https://api.beta.multiviz.com\n",
      "2021-06-24 12:19:49,371 - INFO - mvg.mvg - creating measurement from source id=u0002\n",
      "2021-06-24 12:19:49,371 - INFO - mvg.mvg -   duration:  2.8672073400507907\n",
      "2021-06-24 12:19:49,372 - INFO - mvg.mvg -   timestamp: 1572782460\n",
      "2021-06-24 12:19:49,372 - INFO - mvg.mvg -   meta data: {'sampling_rate': 13950.857142857141}\n"
     ]
    },
    {
     "name": "stdout",
     "output_type": "stream",
     "text": [
      "Read 40000 samples for u0002.\n",
      "Read u0002 meta: {'duration': 2.8672073400507907, 'meta': {}}\n",
      "Uploading C:\\Users\\Sergio\\Documents\\GitHub\\mvg\\docs\\source\\content\\examples\\va-data-charlie\\charlieDb\\acc\\u0002\\1572782460.csv\n"
     ]
    },
    {
     "name": "stderr",
     "output_type": "stream",
     "text": [
      "2021-06-24 12:19:56,329 - INFO - mvg.mvg - endpoint https://api.beta.multiviz.com\n",
      "2021-06-24 12:19:56,329 - INFO - mvg.mvg - creating measurement from source id=u0002\n",
      "2021-06-24 12:19:56,330 - INFO - mvg.mvg -   duration:  2.8672073400507907\n",
      "2021-06-24 12:19:56,330 - INFO - mvg.mvg -   timestamp: 1574424060\n",
      "2021-06-24 12:19:56,331 - INFO - mvg.mvg -   meta data: {'sampling_rate': 13950.857142857141}\n"
     ]
    },
    {
     "name": "stdout",
     "output_type": "stream",
     "text": [
      "Read 40000 samples for u0002.\n",
      "Read u0002 meta: {'duration': 2.8672073400507907, 'meta': {}}\n",
      "Uploading C:\\Users\\Sergio\\Documents\\GitHub\\mvg\\docs\\source\\content\\examples\\va-data-charlie\\charlieDb\\acc\\u0002\\1574424060.csv\n"
     ]
    },
    {
     "name": "stderr",
     "output_type": "stream",
     "text": [
      "2021-06-24 12:20:04,057 - INFO - mvg.mvg - endpoint https://api.beta.multiviz.com\n",
      "2021-06-24 12:20:04,057 - INFO - mvg.mvg - creating measurement from source id=u0002\n",
      "2021-06-24 12:20:04,057 - INFO - mvg.mvg -   duration:  2.8672073400507907\n",
      "2021-06-24 12:20:04,058 - INFO - mvg.mvg -   timestamp: 1571137260\n",
      "2021-06-24 12:20:04,058 - INFO - mvg.mvg -   meta data: {'sampling_rate': 13950.857142857141}\n"
     ]
    },
    {
     "name": "stdout",
     "output_type": "stream",
     "text": [
      "Read 40000 samples for u0002.\n",
      "Read u0002 meta: {'duration': 2.8672073400507907, 'meta': {}}\n",
      "Uploading C:\\Users\\Sergio\\Documents\\GitHub\\mvg\\docs\\source\\content\\examples\\va-data-charlie\\charlieDb\\acc\\u0002\\1571137260.csv\n"
     ]
    },
    {
     "name": "stderr",
     "output_type": "stream",
     "text": [
      "2021-06-24 12:20:10,640 - INFO - mvg.mvg - endpoint https://api.beta.multiviz.com\n",
      "2021-06-24 12:20:10,641 - INFO - mvg.mvg - creating measurement from source id=u0002\n",
      "2021-06-24 12:20:10,641 - INFO - mvg.mvg -   duration:  2.8672073400507907\n",
      "2021-06-24 12:20:10,642 - INFO - mvg.mvg -   timestamp: 1571828460\n",
      "2021-06-24 12:20:10,642 - INFO - mvg.mvg -   meta data: {'sampling_rate': 13950.857142857141}\n"
     ]
    },
    {
     "name": "stdout",
     "output_type": "stream",
     "text": [
      "Read 40000 samples for u0002.\n",
      "Read u0002 meta: {'duration': 2.8672073400507907, 'meta': {}}\n",
      "Uploading C:\\Users\\Sergio\\Documents\\GitHub\\mvg\\docs\\source\\content\\examples\\va-data-charlie\\charlieDb\\acc\\u0002\\1571828460.csv\n"
     ]
    },
    {
     "name": "stderr",
     "output_type": "stream",
     "text": [
      "2021-06-24 12:20:17,134 - INFO - mvg.mvg - endpoint https://api.beta.multiviz.com\n",
      "2021-06-24 12:20:17,134 - INFO - mvg.mvg - creating measurement from source id=u0002\n",
      "2021-06-24 12:20:17,135 - INFO - mvg.mvg -   duration:  2.8672073400507907\n",
      "2021-06-24 12:20:17,135 - INFO - mvg.mvg -   timestamp: 1574337660\n",
      "2021-06-24 12:20:17,136 - INFO - mvg.mvg -   meta data: {'sampling_rate': 13950.857142857141}\n"
     ]
    },
    {
     "name": "stdout",
     "output_type": "stream",
     "text": [
      "Read 40000 samples for u0002.\n",
      "Read u0002 meta: {'duration': 2.8672073400507907, 'meta': {}}\n",
      "Uploading C:\\Users\\Sergio\\Documents\\GitHub\\mvg\\docs\\source\\content\\examples\\va-data-charlie\\charlieDb\\acc\\u0002\\1574337660.csv\n"
     ]
    },
    {
     "name": "stderr",
     "output_type": "stream",
     "text": [
      "2021-06-24 12:20:24,091 - INFO - mvg.mvg - endpoint https://api.beta.multiviz.com\n",
      "2021-06-24 12:20:24,091 - INFO - mvg.mvg - creating measurement from source id=u0002\n",
      "2021-06-24 12:20:24,092 - INFO - mvg.mvg -   duration:  2.8672073400507907\n",
      "2021-06-24 12:20:24,092 - INFO - mvg.mvg -   timestamp: 1572696060\n",
      "2021-06-24 12:20:24,093 - INFO - mvg.mvg -   meta data: {'sampling_rate': 13950.857142857141}\n"
     ]
    },
    {
     "name": "stdout",
     "output_type": "stream",
     "text": [
      "Read 40000 samples for u0002.\n",
      "Read u0002 meta: {'duration': 2.8672073400507907, 'meta': {}}\n",
      "Uploading C:\\Users\\Sergio\\Documents\\GitHub\\mvg\\docs\\source\\content\\examples\\va-data-charlie\\charlieDb\\acc\\u0002\\1572696060.csv\n"
     ]
    },
    {
     "name": "stderr",
     "output_type": "stream",
     "text": [
      "2021-06-24 12:20:30,838 - INFO - mvg.mvg - endpoint https://api.beta.multiviz.com\n",
      "2021-06-24 12:20:30,838 - INFO - mvg.mvg - creating measurement from source id=u0002\n",
      "2021-06-24 12:20:30,839 - INFO - mvg.mvg -   duration:  2.8672073400507907\n",
      "2021-06-24 12:20:30,839 - INFO - mvg.mvg -   timestamp: 1573646460\n",
      "2021-06-24 12:20:30,840 - INFO - mvg.mvg -   meta data: {'sampling_rate': 13950.857142857141}\n"
     ]
    },
    {
     "name": "stdout",
     "output_type": "stream",
     "text": [
      "Read 40000 samples for u0002.\n",
      "Read u0002 meta: {'duration': 2.8672073400507907, 'meta': {}}\n",
      "Uploading C:\\Users\\Sergio\\Documents\\GitHub\\mvg\\docs\\source\\content\\examples\\va-data-charlie\\charlieDb\\acc\\u0002\\1573646460.csv\n"
     ]
    },
    {
     "name": "stderr",
     "output_type": "stream",
     "text": [
      "2021-06-24 12:20:37,622 - INFO - mvg.mvg - endpoint https://api.beta.multiviz.com\n",
      "2021-06-24 12:20:37,623 - INFO - mvg.mvg - creating measurement from source id=u0002\n",
      "2021-06-24 12:20:37,624 - INFO - mvg.mvg -   duration:  2.8672073400507907\n",
      "2021-06-24 12:20:37,624 - INFO - mvg.mvg -   timestamp: 1571050860\n",
      "2021-06-24 12:20:37,624 - INFO - mvg.mvg -   meta data: {'sampling_rate': 13950.857142857141}\n"
     ]
    },
    {
     "name": "stdout",
     "output_type": "stream",
     "text": [
      "Read 40000 samples for u0002.\n",
      "Read u0002 meta: {'duration': 2.8672073400507907, 'meta': {}}\n",
      "Uploading C:\\Users\\Sergio\\Documents\\GitHub\\mvg\\docs\\source\\content\\examples\\va-data-charlie\\charlieDb\\acc\\u0002\\1571050860.csv\n"
     ]
    },
    {
     "name": "stderr",
     "output_type": "stream",
     "text": [
      "2021-06-24 12:20:44,164 - INFO - mvg.mvg - endpoint https://api.beta.multiviz.com\n",
      "2021-06-24 12:20:44,164 - INFO - mvg.mvg - creating measurement from source id=u0002\n",
      "2021-06-24 12:20:44,165 - INFO - mvg.mvg -   duration:  2.8672073400507907\n",
      "2021-06-24 12:20:44,165 - INFO - mvg.mvg -   timestamp: 1570791660\n",
      "2021-06-24 12:20:44,166 - INFO - mvg.mvg -   meta data: {'sampling_rate': 13950.857142857141}\n"
     ]
    },
    {
     "name": "stdout",
     "output_type": "stream",
     "text": [
      "Read 40000 samples for u0002.\n",
      "Read u0002 meta: {'duration': 2.8672073400507907, 'meta': {}}\n",
      "Uploading C:\\Users\\Sergio\\Documents\\GitHub\\mvg\\docs\\source\\content\\examples\\va-data-charlie\\charlieDb\\acc\\u0002\\1570791660.csv\n"
     ]
    },
    {
     "name": "stderr",
     "output_type": "stream",
     "text": [
      "2021-06-24 12:20:50,840 - INFO - mvg.mvg - endpoint https://api.beta.multiviz.com\n",
      "2021-06-24 12:20:50,840 - INFO - mvg.mvg - creating measurement from source id=u0002\n",
      "2021-06-24 12:20:50,841 - INFO - mvg.mvg -   duration:  2.8672073400507907\n",
      "2021-06-24 12:20:50,841 - INFO - mvg.mvg -   timestamp: 1570273260\n",
      "2021-06-24 12:20:50,841 - INFO - mvg.mvg -   meta data: {'sampling_rate': 13950.857142857141}\n"
     ]
    },
    {
     "name": "stdout",
     "output_type": "stream",
     "text": [
      "Read 40000 samples for u0002.\n",
      "Read u0002 meta: {'duration': 2.8672073400507907, 'meta': {}}\n",
      "Uploading C:\\Users\\Sergio\\Documents\\GitHub\\mvg\\docs\\source\\content\\examples\\va-data-charlie\\charlieDb\\acc\\u0002\\1570273260.csv\n"
     ]
    },
    {
     "name": "stderr",
     "output_type": "stream",
     "text": [
      "2021-06-24 12:20:57,055 - INFO - mvg.mvg - endpoint https://api.beta.multiviz.com\n",
      "2021-06-24 12:20:57,056 - INFO - mvg.mvg - creating measurement from source id=u0002\n",
      "2021-06-24 12:20:57,057 - INFO - mvg.mvg -   duration:  2.8672073400507907\n",
      "2021-06-24 12:20:57,057 - INFO - mvg.mvg -   timestamp: 1573300860\n",
      "2021-06-24 12:20:57,058 - INFO - mvg.mvg -   meta data: {'sampling_rate': 13950.857142857141}\n"
     ]
    },
    {
     "name": "stdout",
     "output_type": "stream",
     "text": [
      "Read 40000 samples for u0002.\n",
      "Read u0002 meta: {'duration': 2.8672073400507907, 'meta': {}}\n",
      "Uploading C:\\Users\\Sergio\\Documents\\GitHub\\mvg\\docs\\source\\content\\examples\\va-data-charlie\\charlieDb\\acc\\u0002\\1573300860.csv\n"
     ]
    },
    {
     "name": "stderr",
     "output_type": "stream",
     "text": [
      "2021-06-24 12:21:03,636 - INFO - mvg.mvg - endpoint https://api.beta.multiviz.com\n",
      "2021-06-24 12:21:03,637 - INFO - mvg.mvg - creating measurement from source id=u0002\n",
      "2021-06-24 12:21:03,638 - INFO - mvg.mvg -   duration:  2.8672073400507907\n",
      "2021-06-24 12:21:03,638 - INFO - mvg.mvg -   timestamp: 1571310060\n",
      "2021-06-24 12:21:03,638 - INFO - mvg.mvg -   meta data: {'sampling_rate': 13950.857142857141}\n"
     ]
    },
    {
     "name": "stdout",
     "output_type": "stream",
     "text": [
      "Read 40000 samples for u0002.\n",
      "Read u0002 meta: {'duration': 2.8672073400507907, 'meta': {}}\n",
      "Uploading C:\\Users\\Sergio\\Documents\\GitHub\\mvg\\docs\\source\\content\\examples\\va-data-charlie\\charlieDb\\acc\\u0002\\1571310060.csv\n"
     ]
    },
    {
     "name": "stderr",
     "output_type": "stream",
     "text": [
      "2021-06-24 12:21:10,074 - INFO - mvg.mvg - endpoint https://api.beta.multiviz.com\n",
      "2021-06-24 12:21:10,074 - INFO - mvg.mvg - creating measurement from source id=u0002\n",
      "2021-06-24 12:21:10,075 - INFO - mvg.mvg -   duration:  2.8672073400507907\n",
      "2021-06-24 12:21:10,075 - INFO - mvg.mvg -   timestamp: 1570878060\n",
      "2021-06-24 12:21:10,076 - INFO - mvg.mvg -   meta data: {'sampling_rate': 13950.857142857141}\n"
     ]
    },
    {
     "name": "stdout",
     "output_type": "stream",
     "text": [
      "Read 40000 samples for u0002.\n",
      "Read u0002 meta: {'duration': 2.8672073400507907, 'meta': {}}\n",
      "Uploading C:\\Users\\Sergio\\Documents\\GitHub\\mvg\\docs\\source\\content\\examples\\va-data-charlie\\charlieDb\\acc\\u0002\\1570878060.csv\n"
     ]
    },
    {
     "name": "stderr",
     "output_type": "stream",
     "text": [
      "2021-06-24 12:21:16,935 - INFO - mvg.mvg - endpoint https://api.beta.multiviz.com\n",
      "2021-06-24 12:21:16,936 - INFO - mvg.mvg - deleting source with source id=u0003\n"
     ]
    },
    {
     "name": "stdout",
     "output_type": "stream",
     "text": [
      "Deleting u0003\n"
     ]
    },
    {
     "name": "stderr",
     "output_type": "stream",
     "text": [
      "2021-06-24 12:21:17,151 - INFO - mvg.mvg - endpoint https://api.beta.multiviz.com\n",
      "2021-06-24 12:21:17,151 - INFO - mvg.mvg - creating source with source id=u0003\n",
      "2021-06-24 12:21:17,152 - INFO - mvg.mvg - metadata: {'assetId': 'assetC', 'measPoint': 'mloc01', 'location': 'milano'}\n"
     ]
    },
    {
     "name": "stdout",
     "output_type": "stream",
     "text": [
      "Source u0003 does not exist\n"
     ]
    },
    {
     "name": "stderr",
     "output_type": "stream",
     "text": [
      "2021-06-24 12:21:17,959 - INFO - mvg.mvg - endpoint https://api.beta.multiviz.com\n",
      "2021-06-24 12:21:17,959 - INFO - mvg.mvg - creating measurement from source id=u0003\n",
      "2021-06-24 12:21:17,960 - INFO - mvg.mvg -   duration:  2.8672073400507907\n",
      "2021-06-24 12:21:17,961 - INFO - mvg.mvg -   timestamp: 1573732860\n",
      "2021-06-24 12:21:17,961 - INFO - mvg.mvg -   meta data: {'sampling_rate': 13950.857142857141}\n"
     ]
    },
    {
     "name": "stdout",
     "output_type": "stream",
     "text": [
      "Read 40000 samples for u0003.\n",
      "Read u0003 meta: {'duration': 2.8672073400507907, 'meta': {}}\n",
      "Uploading C:\\Users\\Sergio\\Documents\\GitHub\\mvg\\docs\\source\\content\\examples\\va-data-charlie\\charlieDb\\acc\\u0003\\1573732860.csv\n"
     ]
    },
    {
     "name": "stderr",
     "output_type": "stream",
     "text": [
      "2021-06-24 12:21:24,570 - INFO - mvg.mvg - endpoint https://api.beta.multiviz.com\n",
      "2021-06-24 12:21:24,570 - INFO - mvg.mvg - creating measurement from source id=u0003\n",
      "2021-06-24 12:21:24,571 - INFO - mvg.mvg -   duration:  2.8672073400507907\n",
      "2021-06-24 12:21:24,571 - INFO - mvg.mvg -   timestamp: 1571655660\n",
      "2021-06-24 12:21:24,571 - INFO - mvg.mvg -   meta data: {'sampling_rate': 13950.857142857141}\n"
     ]
    },
    {
     "name": "stdout",
     "output_type": "stream",
     "text": [
      "Read 40000 samples for u0003.\n",
      "Read u0003 meta: {'duration': 2.8672073400507907, 'meta': {}}\n",
      "Uploading C:\\Users\\Sergio\\Documents\\GitHub\\mvg\\docs\\source\\content\\examples\\va-data-charlie\\charlieDb\\acc\\u0003\\1571655660.csv\n"
     ]
    },
    {
     "name": "stderr",
     "output_type": "stream",
     "text": [
      "2021-06-24 12:21:31,236 - INFO - mvg.mvg - endpoint https://api.beta.multiviz.com\n",
      "2021-06-24 12:21:31,237 - INFO - mvg.mvg - creating measurement from source id=u0003\n",
      "2021-06-24 12:21:31,238 - INFO - mvg.mvg -   duration:  2.8672073400507907\n",
      "2021-06-24 12:21:31,239 - INFO - mvg.mvg -   timestamp: 1572523260\n",
      "2021-06-24 12:21:31,239 - INFO - mvg.mvg -   meta data: {'sampling_rate': 13950.857142857141}\n"
     ]
    },
    {
     "name": "stdout",
     "output_type": "stream",
     "text": [
      "Read 40000 samples for u0003.\n",
      "Read u0003 meta: {'duration': 2.8672073400507907, 'meta': {}}\n",
      "Uploading C:\\Users\\Sergio\\Documents\\GitHub\\mvg\\docs\\source\\content\\examples\\va-data-charlie\\charlieDb\\acc\\u0003\\1572523260.csv\n"
     ]
    },
    {
     "name": "stderr",
     "output_type": "stream",
     "text": [
      "2021-06-24 12:21:38,011 - INFO - mvg.mvg - endpoint https://api.beta.multiviz.com\n",
      "2021-06-24 12:21:38,011 - INFO - mvg.mvg - creating measurement from source id=u0003\n",
      "2021-06-24 12:21:38,012 - INFO - mvg.mvg -   duration:  2.8672073400507907\n",
      "2021-06-24 12:21:38,013 - INFO - mvg.mvg -   timestamp: 1571569260\n",
      "2021-06-24 12:21:38,013 - INFO - mvg.mvg -   meta data: {'sampling_rate': 13950.857142857141}\n"
     ]
    },
    {
     "name": "stdout",
     "output_type": "stream",
     "text": [
      "Read 40000 samples for u0003.\n",
      "Read u0003 meta: {'duration': 2.8672073400507907, 'meta': {}}\n",
      "Uploading C:\\Users\\Sergio\\Documents\\GitHub\\mvg\\docs\\source\\content\\examples\\va-data-charlie\\charlieDb\\acc\\u0003\\1571569260.csv\n"
     ]
    },
    {
     "name": "stderr",
     "output_type": "stream",
     "text": [
      "2021-06-24 12:21:44,847 - INFO - mvg.mvg - endpoint https://api.beta.multiviz.com\n",
      "2021-06-24 12:21:44,848 - INFO - mvg.mvg - creating measurement from source id=u0003\n",
      "2021-06-24 12:21:44,848 - INFO - mvg.mvg -   duration:  2.8672073400507907\n",
      "2021-06-24 12:21:44,848 - INFO - mvg.mvg -   timestamp: 1572177660\n",
      "2021-06-24 12:21:44,849 - INFO - mvg.mvg -   meta data: {'sampling_rate': 13950.857142857141}\n"
     ]
    },
    {
     "name": "stdout",
     "output_type": "stream",
     "text": [
      "Read 40000 samples for u0003.\n",
      "Read u0003 meta: {'duration': 2.8672073400507907, 'meta': {}}\n",
      "Uploading C:\\Users\\Sergio\\Documents\\GitHub\\mvg\\docs\\source\\content\\examples\\va-data-charlie\\charlieDb\\acc\\u0003\\1572177660.csv\n"
     ]
    },
    {
     "name": "stderr",
     "output_type": "stream",
     "text": [
      "2021-06-24 12:21:51,797 - INFO - mvg.mvg - endpoint https://api.beta.multiviz.com\n",
      "2021-06-24 12:21:51,798 - INFO - mvg.mvg - creating measurement from source id=u0003\n",
      "2021-06-24 12:21:51,798 - INFO - mvg.mvg -   duration:  2.8672073400507907\n",
      "2021-06-24 12:21:51,799 - INFO - mvg.mvg -   timestamp: 1570705260\n",
      "2021-06-24 12:21:51,799 - INFO - mvg.mvg -   meta data: {'sampling_rate': 13950.857142857141}\n"
     ]
    },
    {
     "name": "stdout",
     "output_type": "stream",
     "text": [
      "Read 40000 samples for u0003.\n",
      "Read u0003 meta: {'duration': 2.8672073400507907, 'meta': {}}\n",
      "Uploading C:\\Users\\Sergio\\Documents\\GitHub\\mvg\\docs\\source\\content\\examples\\va-data-charlie\\charlieDb\\acc\\u0003\\1570705260.csv\n"
     ]
    },
    {
     "name": "stderr",
     "output_type": "stream",
     "text": [
      "2021-06-24 12:21:59,352 - INFO - mvg.mvg - endpoint https://api.beta.multiviz.com\n",
      "2021-06-24 12:21:59,352 - INFO - mvg.mvg - creating measurement from source id=u0003\n",
      "2021-06-24 12:21:59,353 - INFO - mvg.mvg -   duration:  2.8672073400507907\n",
      "2021-06-24 12:21:59,353 - INFO - mvg.mvg -   timestamp: 1572868860\n",
      "2021-06-24 12:21:59,354 - INFO - mvg.mvg -   meta data: {'sampling_rate': 13950.857142857141}\n"
     ]
    },
    {
     "name": "stdout",
     "output_type": "stream",
     "text": [
      "Read 40000 samples for u0003.\n",
      "Read u0003 meta: {'duration': 2.8672073400507907, 'meta': {}}\n",
      "Uploading C:\\Users\\Sergio\\Documents\\GitHub\\mvg\\docs\\source\\content\\examples\\va-data-charlie\\charlieDb\\acc\\u0003\\1572868860.csv\n"
     ]
    },
    {
     "name": "stderr",
     "output_type": "stream",
     "text": [
      "2021-06-24 12:22:06,155 - INFO - mvg.mvg - endpoint https://api.beta.multiviz.com\n",
      "2021-06-24 12:22:06,156 - INFO - mvg.mvg - creating measurement from source id=u0003\n",
      "2021-06-24 12:22:06,156 - INFO - mvg.mvg -   duration:  2.8672073400507907\n",
      "2021-06-24 12:22:06,156 - INFO - mvg.mvg -   timestamp: 1570964460\n",
      "2021-06-24 12:22:06,157 - INFO - mvg.mvg -   meta data: {'sampling_rate': 13950.857142857141}\n"
     ]
    },
    {
     "name": "stdout",
     "output_type": "stream",
     "text": [
      "Read 40000 samples for u0003.\n",
      "Read u0003 meta: {'duration': 2.8672073400507907, 'meta': {}}\n",
      "Uploading C:\\Users\\Sergio\\Documents\\GitHub\\mvg\\docs\\source\\content\\examples\\va-data-charlie\\charlieDb\\acc\\u0003\\1570964460.csv\n"
     ]
    },
    {
     "name": "stderr",
     "output_type": "stream",
     "text": [
      "2021-06-24 12:22:13,031 - INFO - mvg.mvg - endpoint https://api.beta.multiviz.com\n",
      "2021-06-24 12:22:13,032 - INFO - mvg.mvg - creating measurement from source id=u0003\n",
      "2021-06-24 12:22:13,033 - INFO - mvg.mvg -   duration:  2.8672073400507907\n",
      "2021-06-24 12:22:13,033 - INFO - mvg.mvg -   timestamp: 1572955260\n",
      "2021-06-24 12:22:13,033 - INFO - mvg.mvg -   meta data: {'sampling_rate': 13950.857142857141}\n"
     ]
    },
    {
     "name": "stdout",
     "output_type": "stream",
     "text": [
      "Read 40000 samples for u0003.\n",
      "Read u0003 meta: {'duration': 2.8672073400507907, 'meta': {}}\n",
      "Uploading C:\\Users\\Sergio\\Documents\\GitHub\\mvg\\docs\\source\\content\\examples\\va-data-charlie\\charlieDb\\acc\\u0003\\1572955260.csv\n"
     ]
    },
    {
     "name": "stderr",
     "output_type": "stream",
     "text": [
      "2021-06-24 12:22:19,768 - INFO - mvg.mvg - endpoint https://api.beta.multiviz.com\n",
      "2021-06-24 12:22:19,768 - INFO - mvg.mvg - creating measurement from source id=u0003\n",
      "2021-06-24 12:22:19,769 - INFO - mvg.mvg -   duration:  2.8672073400507907\n",
      "2021-06-24 12:22:19,769 - INFO - mvg.mvg -   timestamp: 1571742060\n",
      "2021-06-24 12:22:19,770 - INFO - mvg.mvg -   meta data: {'sampling_rate': 13950.857142857141}\n"
     ]
    },
    {
     "name": "stdout",
     "output_type": "stream",
     "text": [
      "Read 40000 samples for u0003.\n",
      "Read u0003 meta: {'duration': 2.8672073400507907, 'meta': {}}\n",
      "Uploading C:\\Users\\Sergio\\Documents\\GitHub\\mvg\\docs\\source\\content\\examples\\va-data-charlie\\charlieDb\\acc\\u0003\\1571742060.csv\n"
     ]
    },
    {
     "name": "stderr",
     "output_type": "stream",
     "text": [
      "2021-06-24 12:22:26,207 - INFO - mvg.mvg - endpoint https://api.beta.multiviz.com\n",
      "2021-06-24 12:22:26,207 - INFO - mvg.mvg - creating measurement from source id=u0003\n",
      "2021-06-24 12:22:26,208 - INFO - mvg.mvg -   duration:  2.8672073400507907\n",
      "2021-06-24 12:22:26,208 - INFO - mvg.mvg -   timestamp: 1571482860\n",
      "2021-06-24 12:22:26,208 - INFO - mvg.mvg -   meta data: {'sampling_rate': 13950.857142857141}\n"
     ]
    },
    {
     "name": "stdout",
     "output_type": "stream",
     "text": [
      "Read 40000 samples for u0003.\n",
      "Read u0003 meta: {'duration': 2.8672073400507907, 'meta': {}}\n",
      "Uploading C:\\Users\\Sergio\\Documents\\GitHub\\mvg\\docs\\source\\content\\examples\\va-data-charlie\\charlieDb\\acc\\u0003\\1571482860.csv\n"
     ]
    },
    {
     "name": "stderr",
     "output_type": "stream",
     "text": [
      "2021-06-24 12:22:33,750 - INFO - mvg.mvg - endpoint https://api.beta.multiviz.com\n",
      "2021-06-24 12:22:33,750 - INFO - mvg.mvg - creating measurement from source id=u0003\n",
      "2021-06-24 12:22:33,751 - INFO - mvg.mvg -   duration:  2.8672073400507907\n",
      "2021-06-24 12:22:33,751 - INFO - mvg.mvg -   timestamp: 1574078460\n",
      "2021-06-24 12:22:33,752 - INFO - mvg.mvg -   meta data: {'sampling_rate': 13950.857142857141}\n"
     ]
    },
    {
     "name": "stdout",
     "output_type": "stream",
     "text": [
      "Read 40000 samples for u0003.\n",
      "Read u0003 meta: {'duration': 2.8672073400507907, 'meta': {}}\n",
      "Uploading C:\\Users\\Sergio\\Documents\\GitHub\\mvg\\docs\\source\\content\\examples\\va-data-charlie\\charlieDb\\acc\\u0003\\1574078460.csv\n"
     ]
    },
    {
     "name": "stderr",
     "output_type": "stream",
     "text": [
      "2021-06-24 12:22:40,523 - INFO - mvg.mvg - endpoint https://api.beta.multiviz.com\n",
      "2021-06-24 12:22:40,524 - INFO - mvg.mvg - creating measurement from source id=u0003\n",
      "2021-06-24 12:22:40,525 - INFO - mvg.mvg -   duration:  2.8672073400507907\n",
      "2021-06-24 12:22:40,525 - INFO - mvg.mvg -   timestamp: 1570618860\n",
      "2021-06-24 12:22:40,525 - INFO - mvg.mvg -   meta data: {'sampling_rate': 13950.857142857141}\n"
     ]
    },
    {
     "name": "stdout",
     "output_type": "stream",
     "text": [
      "Read 40000 samples for u0003.\n",
      "Read u0003 meta: {'duration': 2.8672073400507907, 'meta': {}}\n",
      "Uploading C:\\Users\\Sergio\\Documents\\GitHub\\mvg\\docs\\source\\content\\examples\\va-data-charlie\\charlieDb\\acc\\u0003\\1570618860.csv\n"
     ]
    },
    {
     "name": "stderr",
     "output_type": "stream",
     "text": [
      "2021-06-24 12:22:47,257 - INFO - mvg.mvg - endpoint https://api.beta.multiviz.com\n",
      "2021-06-24 12:22:47,257 - INFO - mvg.mvg - creating measurement from source id=u0003\n",
      "2021-06-24 12:22:47,258 - INFO - mvg.mvg -   duration:  2.8672073400507907\n",
      "2021-06-24 12:22:47,258 - INFO - mvg.mvg -   timestamp: 1572350460\n",
      "2021-06-24 12:22:47,259 - INFO - mvg.mvg -   meta data: {'sampling_rate': 13950.857142857141}\n"
     ]
    },
    {
     "name": "stdout",
     "output_type": "stream",
     "text": [
      "Read 40000 samples for u0003.\n",
      "Read u0003 meta: {'duration': 2.8672073400507907, 'meta': {}}\n",
      "Uploading C:\\Users\\Sergio\\Documents\\GitHub\\mvg\\docs\\source\\content\\examples\\va-data-charlie\\charlieDb\\acc\\u0003\\1572350460.csv\n"
     ]
    },
    {
     "name": "stderr",
     "output_type": "stream",
     "text": [
      "2021-06-24 12:22:55,664 - INFO - mvg.mvg - endpoint https://api.beta.multiviz.com\n",
      "2021-06-24 12:22:55,665 - INFO - mvg.mvg - creating measurement from source id=u0003\n",
      "2021-06-24 12:22:55,665 - INFO - mvg.mvg -   duration:  2.8672073400507907\n",
      "2021-06-24 12:22:55,666 - INFO - mvg.mvg -   timestamp: 1572264060\n",
      "2021-06-24 12:22:55,666 - INFO - mvg.mvg -   meta data: {'sampling_rate': 13950.857142857141}\n"
     ]
    },
    {
     "name": "stdout",
     "output_type": "stream",
     "text": [
      "Read 40000 samples for u0003.\n",
      "Read u0003 meta: {'duration': 2.8672073400507907, 'meta': {}}\n",
      "Uploading C:\\Users\\Sergio\\Documents\\GitHub\\mvg\\docs\\source\\content\\examples\\va-data-charlie\\charlieDb\\acc\\u0003\\1572264060.csv\n"
     ]
    },
    {
     "name": "stderr",
     "output_type": "stream",
     "text": [
      "2021-06-24 12:23:02,251 - INFO - mvg.mvg - endpoint https://api.beta.multiviz.com\n",
      "2021-06-24 12:23:02,251 - INFO - mvg.mvg - creating measurement from source id=u0003\n",
      "2021-06-24 12:23:02,252 - INFO - mvg.mvg -   duration:  2.8672073400507907\n",
      "2021-06-24 12:23:02,252 - INFO - mvg.mvg -   timestamp: 1573387260\n",
      "2021-06-24 12:23:02,253 - INFO - mvg.mvg -   meta data: {'sampling_rate': 13950.857142857141}\n"
     ]
    },
    {
     "name": "stdout",
     "output_type": "stream",
     "text": [
      "Read 40000 samples for u0003.\n",
      "Read u0003 meta: {'duration': 2.8672073400507907, 'meta': {}}\n",
      "Uploading C:\\Users\\Sergio\\Documents\\GitHub\\mvg\\docs\\source\\content\\examples\\va-data-charlie\\charlieDb\\acc\\u0003\\1573387260.csv\n"
     ]
    },
    {
     "name": "stderr",
     "output_type": "stream",
     "text": [
      "2021-06-24 12:23:08,637 - INFO - mvg.mvg - endpoint https://api.beta.multiviz.com\n",
      "2021-06-24 12:23:08,637 - INFO - mvg.mvg - creating measurement from source id=u0003\n",
      "2021-06-24 12:23:08,638 - INFO - mvg.mvg -   duration:  2.8672073400507907\n",
      "2021-06-24 12:23:08,638 - INFO - mvg.mvg -   timestamp: 1571914860\n",
      "2021-06-24 12:23:08,639 - INFO - mvg.mvg -   meta data: {'sampling_rate': 13950.857142857141}\n"
     ]
    },
    {
     "name": "stdout",
     "output_type": "stream",
     "text": [
      "Read 40000 samples for u0003.\n",
      "Read u0003 meta: {'duration': 2.8672073400507907, 'meta': {}}\n",
      "Uploading C:\\Users\\Sergio\\Documents\\GitHub\\mvg\\docs\\source\\content\\examples\\va-data-charlie\\charlieDb\\acc\\u0003\\1571914860.csv\n"
     ]
    },
    {
     "name": "stderr",
     "output_type": "stream",
     "text": [
      "2021-06-24 12:23:15,124 - INFO - mvg.mvg - endpoint https://api.beta.multiviz.com\n",
      "2021-06-24 12:23:15,125 - INFO - mvg.mvg - creating measurement from source id=u0003\n",
      "2021-06-24 12:23:15,126 - INFO - mvg.mvg -   duration:  2.8672073400507907\n",
      "2021-06-24 12:23:15,127 - INFO - mvg.mvg -   timestamp: 1570446060\n",
      "2021-06-24 12:23:15,127 - INFO - mvg.mvg -   meta data: {'sampling_rate': 13950.857142857141}\n"
     ]
    },
    {
     "name": "stdout",
     "output_type": "stream",
     "text": [
      "Read 40000 samples for u0003.\n",
      "Read u0003 meta: {'duration': 2.8672073400507907, 'meta': {}}\n",
      "Uploading C:\\Users\\Sergio\\Documents\\GitHub\\mvg\\docs\\source\\content\\examples\\va-data-charlie\\charlieDb\\acc\\u0003\\1570446060.csv\n"
     ]
    },
    {
     "name": "stderr",
     "output_type": "stream",
     "text": [
      "2021-06-24 12:23:22,088 - INFO - mvg.mvg - endpoint https://api.beta.multiviz.com\n",
      "2021-06-24 12:23:22,089 - INFO - mvg.mvg - creating measurement from source id=u0003\n",
      "2021-06-24 12:23:22,090 - INFO - mvg.mvg -   duration:  2.8672073400507907\n",
      "2021-06-24 12:23:22,090 - INFO - mvg.mvg -   timestamp: 1572087660\n",
      "2021-06-24 12:23:22,090 - INFO - mvg.mvg -   meta data: {'sampling_rate': 13950.857142857141}\n"
     ]
    },
    {
     "name": "stdout",
     "output_type": "stream",
     "text": [
      "Read 40000 samples for u0003.\n",
      "Read u0003 meta: {'duration': 2.8672073400507907, 'meta': {}}\n",
      "Uploading C:\\Users\\Sergio\\Documents\\GitHub\\mvg\\docs\\source\\content\\examples\\va-data-charlie\\charlieDb\\acc\\u0003\\1572087660.csv\n"
     ]
    },
    {
     "name": "stderr",
     "output_type": "stream",
     "text": [
      "2021-06-24 12:23:28,667 - INFO - mvg.mvg - endpoint https://api.beta.multiviz.com\n",
      "2021-06-24 12:23:28,668 - INFO - mvg.mvg - creating measurement from source id=u0003\n",
      "2021-06-24 12:23:28,668 - INFO - mvg.mvg -   duration:  2.8672073400507907\n",
      "2021-06-24 12:23:28,669 - INFO - mvg.mvg -   timestamp: 1573905660\n",
      "2021-06-24 12:23:28,669 - INFO - mvg.mvg -   meta data: {'sampling_rate': 13950.857142857141}\n"
     ]
    },
    {
     "name": "stdout",
     "output_type": "stream",
     "text": [
      "Read 40000 samples for u0003.\n",
      "Read u0003 meta: {'duration': 2.8672073400507907, 'meta': {}}\n",
      "Uploading C:\\Users\\Sergio\\Documents\\GitHub\\mvg\\docs\\source\\content\\examples\\va-data-charlie\\charlieDb\\acc\\u0003\\1573905660.csv\n"
     ]
    },
    {
     "name": "stderr",
     "output_type": "stream",
     "text": [
      "2021-06-24 12:23:36,276 - INFO - mvg.mvg - endpoint https://api.beta.multiviz.com\n",
      "2021-06-24 12:23:36,276 - INFO - mvg.mvg - creating measurement from source id=u0003\n",
      "2021-06-24 12:23:36,277 - INFO - mvg.mvg -   duration:  2.8672073400507907\n",
      "2021-06-24 12:23:36,277 - INFO - mvg.mvg -   timestamp: 1574164860\n",
      "2021-06-24 12:23:36,278 - INFO - mvg.mvg -   meta data: {'sampling_rate': 13950.857142857141}\n"
     ]
    },
    {
     "name": "stdout",
     "output_type": "stream",
     "text": [
      "Read 40000 samples for u0003.\n",
      "Read u0003 meta: {'duration': 2.8672073400507907, 'meta': {}}\n",
      "Uploading C:\\Users\\Sergio\\Documents\\GitHub\\mvg\\docs\\source\\content\\examples\\va-data-charlie\\charlieDb\\acc\\u0003\\1574164860.csv\n"
     ]
    },
    {
     "name": "stderr",
     "output_type": "stream",
     "text": [
      "2021-06-24 12:23:42,700 - INFO - mvg.mvg - endpoint https://api.beta.multiviz.com\n",
      "2021-06-24 12:23:42,701 - INFO - mvg.mvg - creating measurement from source id=u0003\n",
      "2021-06-24 12:23:42,701 - INFO - mvg.mvg -   duration:  2.8672073400507907\n",
      "2021-06-24 12:23:42,702 - INFO - mvg.mvg -   timestamp: 1573473660\n",
      "2021-06-24 12:23:42,702 - INFO - mvg.mvg -   meta data: {'sampling_rate': 13950.857142857141}\n"
     ]
    },
    {
     "name": "stdout",
     "output_type": "stream",
     "text": [
      "Read 40000 samples for u0003.\n",
      "Read u0003 meta: {'duration': 2.8672073400507907, 'meta': {}}\n",
      "Uploading C:\\Users\\Sergio\\Documents\\GitHub\\mvg\\docs\\source\\content\\examples\\va-data-charlie\\charlieDb\\acc\\u0003\\1573473660.csv\n"
     ]
    },
    {
     "name": "stderr",
     "output_type": "stream",
     "text": [
      "2021-06-24 12:23:49,515 - INFO - mvg.mvg - endpoint https://api.beta.multiviz.com\n",
      "2021-06-24 12:23:49,516 - INFO - mvg.mvg - creating measurement from source id=u0003\n",
      "2021-06-24 12:23:49,517 - INFO - mvg.mvg -   duration:  2.8672073400507907\n",
      "2021-06-24 12:23:49,517 - INFO - mvg.mvg -   timestamp: 1573560060\n",
      "2021-06-24 12:23:49,518 - INFO - mvg.mvg -   meta data: {'sampling_rate': 13950.857142857141}\n"
     ]
    },
    {
     "name": "stdout",
     "output_type": "stream",
     "text": [
      "Read 40000 samples for u0003.\n",
      "Read u0003 meta: {'duration': 2.8672073400507907, 'meta': {}}\n",
      "Uploading C:\\Users\\Sergio\\Documents\\GitHub\\mvg\\docs\\source\\content\\examples\\va-data-charlie\\charlieDb\\acc\\u0003\\1573560060.csv\n"
     ]
    },
    {
     "name": "stderr",
     "output_type": "stream",
     "text": [
      "2021-06-24 12:23:56,198 - INFO - mvg.mvg - endpoint https://api.beta.multiviz.com\n",
      "2021-06-24 12:23:56,199 - INFO - mvg.mvg - creating measurement from source id=u0003\n",
      "2021-06-24 12:23:56,199 - INFO - mvg.mvg -   duration:  2.8672073400507907\n",
      "2021-06-24 12:23:56,200 - INFO - mvg.mvg -   timestamp: 1570186860\n",
      "2021-06-24 12:23:56,200 - INFO - mvg.mvg -   meta data: {'sampling_rate': 13950.857142857141}\n"
     ]
    },
    {
     "name": "stdout",
     "output_type": "stream",
     "text": [
      "Read 40000 samples for u0003.\n",
      "Read u0003 meta: {'duration': 2.8672073400507907, 'meta': {}}\n",
      "Uploading C:\\Users\\Sergio\\Documents\\GitHub\\mvg\\docs\\source\\content\\examples\\va-data-charlie\\charlieDb\\acc\\u0003\\1570186860.csv\n"
     ]
    },
    {
     "name": "stderr",
     "output_type": "stream",
     "text": [
      "2021-06-24 12:24:02,605 - INFO - mvg.mvg - endpoint https://api.beta.multiviz.com\n",
      "2021-06-24 12:24:02,606 - INFO - mvg.mvg - creating measurement from source id=u0003\n",
      "2021-06-24 12:24:02,606 - INFO - mvg.mvg -   duration:  2.8672073400507907\n",
      "2021-06-24 12:24:02,606 - INFO - mvg.mvg -   timestamp: 1571223660\n",
      "2021-06-24 12:24:02,607 - INFO - mvg.mvg -   meta data: {'sampling_rate': 13950.857142857141}\n"
     ]
    },
    {
     "name": "stdout",
     "output_type": "stream",
     "text": [
      "Read 40000 samples for u0003.\n",
      "Read u0003 meta: {'duration': 2.8672073400507907, 'meta': {}}\n",
      "Uploading C:\\Users\\Sergio\\Documents\\GitHub\\mvg\\docs\\source\\content\\examples\\va-data-charlie\\charlieDb\\acc\\u0003\\1571223660.csv\n"
     ]
    },
    {
     "name": "stderr",
     "output_type": "stream",
     "text": [
      "2021-06-24 12:24:09,669 - INFO - mvg.mvg - endpoint https://api.beta.multiviz.com\n",
      "2021-06-24 12:24:09,669 - INFO - mvg.mvg - creating measurement from source id=u0003\n",
      "2021-06-24 12:24:09,669 - INFO - mvg.mvg -   duration:  2.8672073400507907\n",
      "2021-06-24 12:24:09,670 - INFO - mvg.mvg -   timestamp: 1572609660\n",
      "2021-06-24 12:24:09,671 - INFO - mvg.mvg -   meta data: {'sampling_rate': 13950.857142857141}\n"
     ]
    },
    {
     "name": "stdout",
     "output_type": "stream",
     "text": [
      "Read 40000 samples for u0003.\n",
      "Read u0003 meta: {'duration': 2.8672073400507907, 'meta': {}}\n",
      "Uploading C:\\Users\\Sergio\\Documents\\GitHub\\mvg\\docs\\source\\content\\examples\\va-data-charlie\\charlieDb\\acc\\u0003\\1572609660.csv\n"
     ]
    },
    {
     "name": "stderr",
     "output_type": "stream",
     "text": [
      "2021-06-24 12:24:16,383 - INFO - mvg.mvg - endpoint https://api.beta.multiviz.com\n",
      "2021-06-24 12:24:16,384 - INFO - mvg.mvg - creating measurement from source id=u0003\n",
      "2021-06-24 12:24:16,385 - INFO - mvg.mvg -   duration:  2.8672073400507907\n",
      "2021-06-24 12:24:16,385 - INFO - mvg.mvg -   timestamp: 1573992060\n",
      "2021-06-24 12:24:16,386 - INFO - mvg.mvg -   meta data: {'sampling_rate': 13950.857142857141}\n"
     ]
    },
    {
     "name": "stdout",
     "output_type": "stream",
     "text": [
      "Read 40000 samples for u0003.\n",
      "Read u0003 meta: {'duration': 2.8672073400507907, 'meta': {}}\n",
      "Uploading C:\\Users\\Sergio\\Documents\\GitHub\\mvg\\docs\\source\\content\\examples\\va-data-charlie\\charlieDb\\acc\\u0003\\1573992060.csv\n"
     ]
    },
    {
     "name": "stderr",
     "output_type": "stream",
     "text": [
      "2021-06-24 12:24:23,487 - INFO - mvg.mvg - endpoint https://api.beta.multiviz.com\n",
      "2021-06-24 12:24:23,488 - INFO - mvg.mvg - creating measurement from source id=u0003\n",
      "2021-06-24 12:24:23,488 - INFO - mvg.mvg -   duration:  2.8672073400507907\n",
      "2021-06-24 12:24:23,489 - INFO - mvg.mvg -   timestamp: 1574251260\n",
      "2021-06-24 12:24:23,489 - INFO - mvg.mvg -   meta data: {'sampling_rate': 13950.857142857141}\n"
     ]
    },
    {
     "name": "stdout",
     "output_type": "stream",
     "text": [
      "Read 40000 samples for u0003.\n",
      "Read u0003 meta: {'duration': 2.8672073400507907, 'meta': {}}\n",
      "Uploading C:\\Users\\Sergio\\Documents\\GitHub\\mvg\\docs\\source\\content\\examples\\va-data-charlie\\charlieDb\\acc\\u0003\\1574251260.csv\n"
     ]
    },
    {
     "name": "stderr",
     "output_type": "stream",
     "text": [
      "2021-06-24 12:24:30,005 - INFO - mvg.mvg - endpoint https://api.beta.multiviz.com\n",
      "2021-06-24 12:24:30,005 - INFO - mvg.mvg - creating measurement from source id=u0003\n",
      "2021-06-24 12:24:30,006 - INFO - mvg.mvg -   duration:  2.8672073400507907\n",
      "2021-06-24 12:24:30,006 - INFO - mvg.mvg -   timestamp: 1572436860\n",
      "2021-06-24 12:24:30,007 - INFO - mvg.mvg -   meta data: {'sampling_rate': 13950.857142857141}\n"
     ]
    },
    {
     "name": "stdout",
     "output_type": "stream",
     "text": [
      "Read 40000 samples for u0003.\n",
      "Read u0003 meta: {'duration': 2.8672073400507907, 'meta': {}}\n",
      "Uploading C:\\Users\\Sergio\\Documents\\GitHub\\mvg\\docs\\source\\content\\examples\\va-data-charlie\\charlieDb\\acc\\u0003\\1572436860.csv\n"
     ]
    },
    {
     "name": "stderr",
     "output_type": "stream",
     "text": [
      "2021-06-24 12:24:36,719 - INFO - mvg.mvg - endpoint https://api.beta.multiviz.com\n",
      "2021-06-24 12:24:36,720 - INFO - mvg.mvg - creating measurement from source id=u0003\n",
      "2021-06-24 12:24:36,720 - INFO - mvg.mvg -   duration:  2.8672073400507907\n",
      "2021-06-24 12:24:36,720 - INFO - mvg.mvg -   timestamp: 1573128060\n",
      "2021-06-24 12:24:36,721 - INFO - mvg.mvg -   meta data: {'sampling_rate': 13950.857142857141}\n"
     ]
    },
    {
     "name": "stdout",
     "output_type": "stream",
     "text": [
      "Read 40000 samples for u0003.\n",
      "Read u0003 meta: {'duration': 2.8672073400507907, 'meta': {}}\n",
      "Uploading C:\\Users\\Sergio\\Documents\\GitHub\\mvg\\docs\\source\\content\\examples\\va-data-charlie\\charlieDb\\acc\\u0003\\1573128060.csv\n"
     ]
    },
    {
     "name": "stderr",
     "output_type": "stream",
     "text": [
      "2021-06-24 12:24:43,680 - INFO - mvg.mvg - endpoint https://api.beta.multiviz.com\n",
      "2021-06-24 12:24:43,681 - INFO - mvg.mvg - creating measurement from source id=u0003\n",
      "2021-06-24 12:24:43,682 - INFO - mvg.mvg -   duration:  2.8672073400507907\n",
      "2021-06-24 12:24:43,682 - INFO - mvg.mvg -   timestamp: 1573041660\n",
      "2021-06-24 12:24:43,682 - INFO - mvg.mvg -   meta data: {'sampling_rate': 13950.857142857141}\n"
     ]
    },
    {
     "name": "stdout",
     "output_type": "stream",
     "text": [
      "Read 40000 samples for u0003.\n",
      "Read u0003 meta: {'duration': 2.8672073400507907, 'meta': {}}\n",
      "Uploading C:\\Users\\Sergio\\Documents\\GitHub\\mvg\\docs\\source\\content\\examples\\va-data-charlie\\charlieDb\\acc\\u0003\\1573041660.csv\n"
     ]
    },
    {
     "name": "stderr",
     "output_type": "stream",
     "text": [
      "2021-06-24 12:24:50,354 - INFO - mvg.mvg - endpoint https://api.beta.multiviz.com\n",
      "2021-06-24 12:24:50,354 - INFO - mvg.mvg - creating measurement from source id=u0003\n",
      "2021-06-24 12:24:50,355 - INFO - mvg.mvg -   duration:  2.8672073400507907\n",
      "2021-06-24 12:24:50,356 - INFO - mvg.mvg -   timestamp: 1573214460\n",
      "2021-06-24 12:24:50,356 - INFO - mvg.mvg -   meta data: {'sampling_rate': 13950.857142857141}\n"
     ]
    },
    {
     "name": "stdout",
     "output_type": "stream",
     "text": [
      "Read 40000 samples for u0003.\n",
      "Read u0003 meta: {'duration': 2.8672073400507907, 'meta': {}}\n",
      "Uploading C:\\Users\\Sergio\\Documents\\GitHub\\mvg\\docs\\source\\content\\examples\\va-data-charlie\\charlieDb\\acc\\u0003\\1573214460.csv\n"
     ]
    },
    {
     "name": "stderr",
     "output_type": "stream",
     "text": [
      "2021-06-24 12:24:57,134 - INFO - mvg.mvg - endpoint https://api.beta.multiviz.com\n",
      "2021-06-24 12:24:57,135 - INFO - mvg.mvg - creating measurement from source id=u0003\n",
      "2021-06-24 12:24:57,136 - INFO - mvg.mvg -   duration:  2.8672073400507907\n",
      "2021-06-24 12:24:57,136 - INFO - mvg.mvg -   timestamp: 1571396460\n",
      "2021-06-24 12:24:57,137 - INFO - mvg.mvg -   meta data: {'sampling_rate': 13950.857142857141}\n"
     ]
    },
    {
     "name": "stdout",
     "output_type": "stream",
     "text": [
      "Read 40000 samples for u0003.\n",
      "Read u0003 meta: {'duration': 2.8672073400507907, 'meta': {}}\n",
      "Uploading C:\\Users\\Sergio\\Documents\\GitHub\\mvg\\docs\\source\\content\\examples\\va-data-charlie\\charlieDb\\acc\\u0003\\1571396460.csv\n"
     ]
    },
    {
     "name": "stderr",
     "output_type": "stream",
     "text": [
      "2021-06-24 12:25:05,131 - INFO - mvg.mvg - endpoint https://api.beta.multiviz.com\n",
      "2021-06-24 12:25:05,131 - INFO - mvg.mvg - creating measurement from source id=u0003\n",
      "2021-06-24 12:25:05,132 - INFO - mvg.mvg -   duration:  2.8672073400507907\n",
      "2021-06-24 12:25:05,132 - INFO - mvg.mvg -   timestamp: 1573819260\n",
      "2021-06-24 12:25:05,133 - INFO - mvg.mvg -   meta data: {'sampling_rate': 13950.857142857141}\n"
     ]
    },
    {
     "name": "stdout",
     "output_type": "stream",
     "text": [
      "Read 40000 samples for u0003.\n",
      "Read u0003 meta: {'duration': 2.8672073400507907, 'meta': {}}\n",
      "Uploading C:\\Users\\Sergio\\Documents\\GitHub\\mvg\\docs\\source\\content\\examples\\va-data-charlie\\charlieDb\\acc\\u0003\\1573819260.csv\n"
     ]
    },
    {
     "name": "stderr",
     "output_type": "stream",
     "text": [
      "2021-06-24 12:25:12,036 - INFO - mvg.mvg - endpoint https://api.beta.multiviz.com\n",
      "2021-06-24 12:25:12,037 - INFO - mvg.mvg - creating measurement from source id=u0003\n",
      "2021-06-24 12:25:12,037 - INFO - mvg.mvg -   duration:  2.8672073400507907\n",
      "2021-06-24 12:25:12,038 - INFO - mvg.mvg -   timestamp: 1570359660\n",
      "2021-06-24 12:25:12,038 - INFO - mvg.mvg -   meta data: {'sampling_rate': 13950.857142857141}\n"
     ]
    },
    {
     "name": "stdout",
     "output_type": "stream",
     "text": [
      "Read 40000 samples for u0003.\n",
      "Read u0003 meta: {'duration': 2.8672073400507907, 'meta': {}}\n",
      "Uploading C:\\Users\\Sergio\\Documents\\GitHub\\mvg\\docs\\source\\content\\examples\\va-data-charlie\\charlieDb\\acc\\u0003\\1570359660.csv\n"
     ]
    },
    {
     "name": "stderr",
     "output_type": "stream",
     "text": [
      "2021-06-24 12:25:19,387 - INFO - mvg.mvg - endpoint https://api.beta.multiviz.com\n",
      "2021-06-24 12:25:19,387 - INFO - mvg.mvg - creating measurement from source id=u0003\n",
      "2021-06-24 12:25:19,388 - INFO - mvg.mvg -   duration:  2.8672073400507907\n",
      "2021-06-24 12:25:19,389 - INFO - mvg.mvg -   timestamp: 1572001260\n",
      "2021-06-24 12:25:19,389 - INFO - mvg.mvg -   meta data: {'sampling_rate': 13950.857142857141}\n"
     ]
    },
    {
     "name": "stdout",
     "output_type": "stream",
     "text": [
      "Read 40000 samples for u0003.\n",
      "Read u0003 meta: {'duration': 2.8672073400507907, 'meta': {}}\n",
      "Uploading C:\\Users\\Sergio\\Documents\\GitHub\\mvg\\docs\\source\\content\\examples\\va-data-charlie\\charlieDb\\acc\\u0003\\1572001260.csv\n"
     ]
    },
    {
     "name": "stderr",
     "output_type": "stream",
     "text": [
      "2021-06-24 12:25:26,125 - INFO - mvg.mvg - endpoint https://api.beta.multiviz.com\n",
      "2021-06-24 12:25:26,125 - INFO - mvg.mvg - creating measurement from source id=u0003\n",
      "2021-06-24 12:25:26,126 - INFO - mvg.mvg -   duration:  2.8672073400507907\n",
      "2021-06-24 12:25:26,126 - INFO - mvg.mvg -   timestamp: 1570532460\n",
      "2021-06-24 12:25:26,127 - INFO - mvg.mvg -   meta data: {'sampling_rate': 13950.857142857141}\n"
     ]
    },
    {
     "name": "stdout",
     "output_type": "stream",
     "text": [
      "Read 40000 samples for u0003.\n",
      "Read u0003 meta: {'duration': 2.8672073400507907, 'meta': {}}\n",
      "Uploading C:\\Users\\Sergio\\Documents\\GitHub\\mvg\\docs\\source\\content\\examples\\va-data-charlie\\charlieDb\\acc\\u0003\\1570532460.csv\n"
     ]
    },
    {
     "name": "stderr",
     "output_type": "stream",
     "text": [
      "2021-06-24 12:25:32,837 - INFO - mvg.mvg - endpoint https://api.beta.multiviz.com\n",
      "2021-06-24 12:25:32,838 - INFO - mvg.mvg - creating measurement from source id=u0003\n",
      "2021-06-24 12:25:32,838 - INFO - mvg.mvg -   duration:  2.8672073400507907\n",
      "2021-06-24 12:25:32,839 - INFO - mvg.mvg -   timestamp: 1572782460\n",
      "2021-06-24 12:25:32,839 - INFO - mvg.mvg -   meta data: {'sampling_rate': 13950.857142857141}\n"
     ]
    },
    {
     "name": "stdout",
     "output_type": "stream",
     "text": [
      "Read 40000 samples for u0003.\n",
      "Read u0003 meta: {'duration': 2.8672073400507907, 'meta': {}}\n",
      "Uploading C:\\Users\\Sergio\\Documents\\GitHub\\mvg\\docs\\source\\content\\examples\\va-data-charlie\\charlieDb\\acc\\u0003\\1572782460.csv\n"
     ]
    },
    {
     "name": "stderr",
     "output_type": "stream",
     "text": [
      "2021-06-24 12:25:39,993 - INFO - mvg.mvg - endpoint https://api.beta.multiviz.com\n",
      "2021-06-24 12:25:39,993 - INFO - mvg.mvg - creating measurement from source id=u0003\n",
      "2021-06-24 12:25:39,994 - INFO - mvg.mvg -   duration:  2.8672073400507907\n",
      "2021-06-24 12:25:39,994 - INFO - mvg.mvg -   timestamp: 1574424060\n",
      "2021-06-24 12:25:39,995 - INFO - mvg.mvg -   meta data: {'sampling_rate': 13950.857142857141}\n"
     ]
    },
    {
     "name": "stdout",
     "output_type": "stream",
     "text": [
      "Read 40000 samples for u0003.\n",
      "Read u0003 meta: {'duration': 2.8672073400507907, 'meta': {}}\n",
      "Uploading C:\\Users\\Sergio\\Documents\\GitHub\\mvg\\docs\\source\\content\\examples\\va-data-charlie\\charlieDb\\acc\\u0003\\1574424060.csv\n"
     ]
    },
    {
     "name": "stderr",
     "output_type": "stream",
     "text": [
      "2021-06-24 12:25:46,690 - INFO - mvg.mvg - endpoint https://api.beta.multiviz.com\n",
      "2021-06-24 12:25:46,691 - INFO - mvg.mvg - creating measurement from source id=u0003\n",
      "2021-06-24 12:25:46,691 - INFO - mvg.mvg -   duration:  2.8672073400507907\n",
      "2021-06-24 12:25:46,691 - INFO - mvg.mvg -   timestamp: 1571137260\n",
      "2021-06-24 12:25:46,692 - INFO - mvg.mvg -   meta data: {'sampling_rate': 13950.857142857141}\n"
     ]
    },
    {
     "name": "stdout",
     "output_type": "stream",
     "text": [
      "Read 40000 samples for u0003.\n",
      "Read u0003 meta: {'duration': 2.8672073400507907, 'meta': {}}\n",
      "Uploading C:\\Users\\Sergio\\Documents\\GitHub\\mvg\\docs\\source\\content\\examples\\va-data-charlie\\charlieDb\\acc\\u0003\\1571137260.csv\n"
     ]
    },
    {
     "name": "stderr",
     "output_type": "stream",
     "text": [
      "2021-06-24 12:25:53,429 - INFO - mvg.mvg - endpoint https://api.beta.multiviz.com\n",
      "2021-06-24 12:25:53,430 - INFO - mvg.mvg - creating measurement from source id=u0003\n",
      "2021-06-24 12:25:53,430 - INFO - mvg.mvg -   duration:  2.8672073400507907\n",
      "2021-06-24 12:25:53,431 - INFO - mvg.mvg -   timestamp: 1571828460\n",
      "2021-06-24 12:25:53,431 - INFO - mvg.mvg -   meta data: {'sampling_rate': 13950.857142857141}\n"
     ]
    },
    {
     "name": "stdout",
     "output_type": "stream",
     "text": [
      "Read 40000 samples for u0003.\n",
      "Read u0003 meta: {'duration': 2.8672073400507907, 'meta': {}}\n",
      "Uploading C:\\Users\\Sergio\\Documents\\GitHub\\mvg\\docs\\source\\content\\examples\\va-data-charlie\\charlieDb\\acc\\u0003\\1571828460.csv\n"
     ]
    },
    {
     "name": "stderr",
     "output_type": "stream",
     "text": [
      "2021-06-24 12:26:00,173 - INFO - mvg.mvg - endpoint https://api.beta.multiviz.com\n",
      "2021-06-24 12:26:00,174 - INFO - mvg.mvg - creating measurement from source id=u0003\n",
      "2021-06-24 12:26:00,175 - INFO - mvg.mvg -   duration:  2.8672073400507907\n",
      "2021-06-24 12:26:00,175 - INFO - mvg.mvg -   timestamp: 1574337660\n",
      "2021-06-24 12:26:00,175 - INFO - mvg.mvg -   meta data: {'sampling_rate': 13950.857142857141}\n"
     ]
    },
    {
     "name": "stdout",
     "output_type": "stream",
     "text": [
      "Read 40000 samples for u0003.\n",
      "Read u0003 meta: {'duration': 2.8672073400507907, 'meta': {}}\n",
      "Uploading C:\\Users\\Sergio\\Documents\\GitHub\\mvg\\docs\\source\\content\\examples\\va-data-charlie\\charlieDb\\acc\\u0003\\1574337660.csv\n"
     ]
    },
    {
     "name": "stderr",
     "output_type": "stream",
     "text": [
      "2021-06-24 12:26:06,743 - INFO - mvg.mvg - endpoint https://api.beta.multiviz.com\n",
      "2021-06-24 12:26:06,743 - INFO - mvg.mvg - creating measurement from source id=u0003\n",
      "2021-06-24 12:26:06,743 - INFO - mvg.mvg -   duration:  2.8672073400507907\n",
      "2021-06-24 12:26:06,744 - INFO - mvg.mvg -   timestamp: 1572696060\n",
      "2021-06-24 12:26:06,744 - INFO - mvg.mvg -   meta data: {'sampling_rate': 13950.857142857141}\n"
     ]
    },
    {
     "name": "stdout",
     "output_type": "stream",
     "text": [
      "Read 40000 samples for u0003.\n",
      "Read u0003 meta: {'duration': 2.8672073400507907, 'meta': {}}\n",
      "Uploading C:\\Users\\Sergio\\Documents\\GitHub\\mvg\\docs\\source\\content\\examples\\va-data-charlie\\charlieDb\\acc\\u0003\\1572696060.csv\n"
     ]
    },
    {
     "name": "stderr",
     "output_type": "stream",
     "text": [
      "2021-06-24 12:26:13,265 - INFO - mvg.mvg - endpoint https://api.beta.multiviz.com\n",
      "2021-06-24 12:26:13,265 - INFO - mvg.mvg - creating measurement from source id=u0003\n",
      "2021-06-24 12:26:13,266 - INFO - mvg.mvg -   duration:  2.8672073400507907\n",
      "2021-06-24 12:26:13,267 - INFO - mvg.mvg -   timestamp: 1573646460\n",
      "2021-06-24 12:26:13,267 - INFO - mvg.mvg -   meta data: {'sampling_rate': 13950.857142857141}\n"
     ]
    },
    {
     "name": "stdout",
     "output_type": "stream",
     "text": [
      "Read 40000 samples for u0003.\n",
      "Read u0003 meta: {'duration': 2.8672073400507907, 'meta': {}}\n",
      "Uploading C:\\Users\\Sergio\\Documents\\GitHub\\mvg\\docs\\source\\content\\examples\\va-data-charlie\\charlieDb\\acc\\u0003\\1573646460.csv\n"
     ]
    },
    {
     "name": "stderr",
     "output_type": "stream",
     "text": [
      "2021-06-24 12:26:21,646 - INFO - mvg.mvg - endpoint https://api.beta.multiviz.com\n",
      "2021-06-24 12:26:21,647 - INFO - mvg.mvg - creating measurement from source id=u0003\n",
      "2021-06-24 12:26:21,648 - INFO - mvg.mvg -   duration:  2.8672073400507907\n",
      "2021-06-24 12:26:21,648 - INFO - mvg.mvg -   timestamp: 1571050860\n",
      "2021-06-24 12:26:21,648 - INFO - mvg.mvg -   meta data: {'sampling_rate': 13950.857142857141}\n"
     ]
    },
    {
     "name": "stdout",
     "output_type": "stream",
     "text": [
      "Read 40000 samples for u0003.\n",
      "Read u0003 meta: {'duration': 2.8672073400507907, 'meta': {}}\n",
      "Uploading C:\\Users\\Sergio\\Documents\\GitHub\\mvg\\docs\\source\\content\\examples\\va-data-charlie\\charlieDb\\acc\\u0003\\1571050860.csv\n"
     ]
    },
    {
     "name": "stderr",
     "output_type": "stream",
     "text": [
      "2021-06-24 12:26:28,098 - INFO - mvg.mvg - endpoint https://api.beta.multiviz.com\n",
      "2021-06-24 12:26:28,099 - INFO - mvg.mvg - creating measurement from source id=u0003\n",
      "2021-06-24 12:26:28,100 - INFO - mvg.mvg -   duration:  2.8672073400507907\n",
      "2021-06-24 12:26:28,100 - INFO - mvg.mvg -   timestamp: 1570791660\n",
      "2021-06-24 12:26:28,100 - INFO - mvg.mvg -   meta data: {'sampling_rate': 13950.857142857141}\n"
     ]
    },
    {
     "name": "stdout",
     "output_type": "stream",
     "text": [
      "Read 40000 samples for u0003.\n",
      "Read u0003 meta: {'duration': 2.8672073400507907, 'meta': {}}\n",
      "Uploading C:\\Users\\Sergio\\Documents\\GitHub\\mvg\\docs\\source\\content\\examples\\va-data-charlie\\charlieDb\\acc\\u0003\\1570791660.csv\n"
     ]
    },
    {
     "name": "stderr",
     "output_type": "stream",
     "text": [
      "2021-06-24 12:26:36,551 - INFO - mvg.mvg - endpoint https://api.beta.multiviz.com\n",
      "2021-06-24 12:26:36,552 - INFO - mvg.mvg - creating measurement from source id=u0003\n",
      "2021-06-24 12:26:36,552 - INFO - mvg.mvg -   duration:  2.8672073400507907\n",
      "2021-06-24 12:26:36,552 - INFO - mvg.mvg -   timestamp: 1570273260\n",
      "2021-06-24 12:26:36,553 - INFO - mvg.mvg -   meta data: {'sampling_rate': 13950.857142857141}\n"
     ]
    },
    {
     "name": "stdout",
     "output_type": "stream",
     "text": [
      "Read 40000 samples for u0003.\n",
      "Read u0003 meta: {'duration': 2.8672073400507907, 'meta': {}}\n",
      "Uploading C:\\Users\\Sergio\\Documents\\GitHub\\mvg\\docs\\source\\content\\examples\\va-data-charlie\\charlieDb\\acc\\u0003\\1570273260.csv\n"
     ]
    },
    {
     "name": "stderr",
     "output_type": "stream",
     "text": [
      "2021-06-24 12:26:43,116 - INFO - mvg.mvg - endpoint https://api.beta.multiviz.com\n",
      "2021-06-24 12:26:43,116 - INFO - mvg.mvg - creating measurement from source id=u0003\n",
      "2021-06-24 12:26:43,117 - INFO - mvg.mvg -   duration:  2.8672073400507907\n",
      "2021-06-24 12:26:43,117 - INFO - mvg.mvg -   timestamp: 1573300860\n",
      "2021-06-24 12:26:43,117 - INFO - mvg.mvg -   meta data: {'sampling_rate': 13950.857142857141}\n"
     ]
    },
    {
     "name": "stdout",
     "output_type": "stream",
     "text": [
      "Read 40000 samples for u0003.\n",
      "Read u0003 meta: {'duration': 2.8672073400507907, 'meta': {}}\n",
      "Uploading C:\\Users\\Sergio\\Documents\\GitHub\\mvg\\docs\\source\\content\\examples\\va-data-charlie\\charlieDb\\acc\\u0003\\1573300860.csv\n"
     ]
    },
    {
     "name": "stderr",
     "output_type": "stream",
     "text": [
      "2021-06-24 12:26:50,887 - INFO - mvg.mvg - endpoint https://api.beta.multiviz.com\n",
      "2021-06-24 12:26:50,887 - INFO - mvg.mvg - creating measurement from source id=u0003\n",
      "2021-06-24 12:26:50,887 - INFO - mvg.mvg -   duration:  2.8672073400507907\n",
      "2021-06-24 12:26:50,888 - INFO - mvg.mvg -   timestamp: 1571310060\n",
      "2021-06-24 12:26:50,888 - INFO - mvg.mvg -   meta data: {'sampling_rate': 13950.857142857141}\n"
     ]
    },
    {
     "name": "stdout",
     "output_type": "stream",
     "text": [
      "Read 40000 samples for u0003.\n",
      "Read u0003 meta: {'duration': 2.8672073400507907, 'meta': {}}\n",
      "Uploading C:\\Users\\Sergio\\Documents\\GitHub\\mvg\\docs\\source\\content\\examples\\va-data-charlie\\charlieDb\\acc\\u0003\\1571310060.csv\n"
     ]
    },
    {
     "name": "stderr",
     "output_type": "stream",
     "text": [
      "2021-06-24 12:26:57,368 - INFO - mvg.mvg - endpoint https://api.beta.multiviz.com\n",
      "2021-06-24 12:26:57,369 - INFO - mvg.mvg - creating measurement from source id=u0003\n",
      "2021-06-24 12:26:57,369 - INFO - mvg.mvg -   duration:  2.8672073400507907\n",
      "2021-06-24 12:26:57,370 - INFO - mvg.mvg -   timestamp: 1570878060\n",
      "2021-06-24 12:26:57,370 - INFO - mvg.mvg -   meta data: {'sampling_rate': 13950.857142857141}\n"
     ]
    },
    {
     "name": "stdout",
     "output_type": "stream",
     "text": [
      "Read 40000 samples for u0003.\n",
      "Read u0003 meta: {'duration': 2.8672073400507907, 'meta': {}}\n",
      "Uploading C:\\Users\\Sergio\\Documents\\GitHub\\mvg\\docs\\source\\content\\examples\\va-data-charlie\\charlieDb\\acc\\u0003\\1570878060.csv\n"
     ]
    },
    {
     "name": "stderr",
     "output_type": "stream",
     "text": [
      "2021-06-24 12:27:04,941 - INFO - mvg.mvg - endpoint https://api.beta.multiviz.com\n",
      "2021-06-24 12:27:04,942 - INFO - mvg.mvg - deleting source with source id=u0004\n"
     ]
    },
    {
     "name": "stdout",
     "output_type": "stream",
     "text": [
      "Deleting u0004\n",
      "Source u0004 does not exist\n"
     ]
    },
    {
     "name": "stderr",
     "output_type": "stream",
     "text": [
      "2021-06-24 12:27:05,153 - INFO - mvg.mvg - endpoint https://api.beta.multiviz.com\n",
      "2021-06-24 12:27:05,154 - INFO - mvg.mvg - creating source with source id=u0004\n",
      "2021-06-24 12:27:05,154 - INFO - mvg.mvg - metadata: {'assetId': 'assetD', 'measPoint': 'mloc01', 'location': 'milano'}\n",
      "2021-06-24 12:27:05,385 - INFO - mvg.mvg - endpoint https://api.beta.multiviz.com\n",
      "2021-06-24 12:27:05,386 - INFO - mvg.mvg - creating measurement from source id=u0004\n",
      "2021-06-24 12:27:05,387 - INFO - mvg.mvg -   duration:  2.8672073400507907\n",
      "2021-06-24 12:27:05,387 - INFO - mvg.mvg -   timestamp: 1573732860\n",
      "2021-06-24 12:27:05,388 - INFO - mvg.mvg -   meta data: {'sampling_rate': 13950.857142857141}\n"
     ]
    },
    {
     "name": "stdout",
     "output_type": "stream",
     "text": [
      "Read 40000 samples for u0004.\n",
      "Read u0004 meta: {'duration': 2.8672073400507907, 'meta': {}}\n",
      "Uploading C:\\Users\\Sergio\\Documents\\GitHub\\mvg\\docs\\source\\content\\examples\\va-data-charlie\\charlieDb\\acc\\u0004\\1573732860.csv\n"
     ]
    },
    {
     "name": "stderr",
     "output_type": "stream",
     "text": [
      "2021-06-24 12:27:12,025 - INFO - mvg.mvg - endpoint https://api.beta.multiviz.com\n",
      "2021-06-24 12:27:12,026 - INFO - mvg.mvg - creating measurement from source id=u0004\n",
      "2021-06-24 12:27:12,026 - INFO - mvg.mvg -   duration:  2.8672073400507907\n",
      "2021-06-24 12:27:12,027 - INFO - mvg.mvg -   timestamp: 1571655660\n",
      "2021-06-24 12:27:12,027 - INFO - mvg.mvg -   meta data: {'sampling_rate': 13950.857142857141}\n"
     ]
    },
    {
     "name": "stdout",
     "output_type": "stream",
     "text": [
      "Read 40000 samples for u0004.\n",
      "Read u0004 meta: {'duration': 2.8672073400507907, 'meta': {}}\n",
      "Uploading C:\\Users\\Sergio\\Documents\\GitHub\\mvg\\docs\\source\\content\\examples\\va-data-charlie\\charlieDb\\acc\\u0004\\1571655660.csv\n"
     ]
    },
    {
     "name": "stderr",
     "output_type": "stream",
     "text": [
      "2021-06-24 12:27:18,764 - INFO - mvg.mvg - endpoint https://api.beta.multiviz.com\n",
      "2021-06-24 12:27:18,764 - INFO - mvg.mvg - creating measurement from source id=u0004\n",
      "2021-06-24 12:27:18,765 - INFO - mvg.mvg -   duration:  2.8672073400507907\n",
      "2021-06-24 12:27:18,765 - INFO - mvg.mvg -   timestamp: 1572523260\n",
      "2021-06-24 12:27:18,765 - INFO - mvg.mvg -   meta data: {'sampling_rate': 13950.857142857141}\n"
     ]
    },
    {
     "name": "stdout",
     "output_type": "stream",
     "text": [
      "Read 40000 samples for u0004.\n",
      "Read u0004 meta: {'duration': 2.8672073400507907, 'meta': {}}\n",
      "Uploading C:\\Users\\Sergio\\Documents\\GitHub\\mvg\\docs\\source\\content\\examples\\va-data-charlie\\charlieDb\\acc\\u0004\\1572523260.csv\n"
     ]
    },
    {
     "name": "stderr",
     "output_type": "stream",
     "text": [
      "2021-06-24 12:27:26,610 - INFO - mvg.mvg - endpoint https://api.beta.multiviz.com\n",
      "2021-06-24 12:27:26,611 - INFO - mvg.mvg - creating measurement from source id=u0004\n",
      "2021-06-24 12:27:26,612 - INFO - mvg.mvg -   duration:  2.8672073400507907\n",
      "2021-06-24 12:27:26,612 - INFO - mvg.mvg -   timestamp: 1571569260\n",
      "2021-06-24 12:27:26,612 - INFO - mvg.mvg -   meta data: {'sampling_rate': 13950.857142857141}\n"
     ]
    },
    {
     "name": "stdout",
     "output_type": "stream",
     "text": [
      "Read 40000 samples for u0004.\n",
      "Read u0004 meta: {'duration': 2.8672073400507907, 'meta': {}}\n",
      "Uploading C:\\Users\\Sergio\\Documents\\GitHub\\mvg\\docs\\source\\content\\examples\\va-data-charlie\\charlieDb\\acc\\u0004\\1571569260.csv\n"
     ]
    },
    {
     "name": "stderr",
     "output_type": "stream",
     "text": [
      "2021-06-24 12:27:33,909 - INFO - mvg.mvg - endpoint https://api.beta.multiviz.com\n",
      "2021-06-24 12:27:33,910 - INFO - mvg.mvg - creating measurement from source id=u0004\n",
      "2021-06-24 12:27:33,910 - INFO - mvg.mvg -   duration:  2.8672073400507907\n",
      "2021-06-24 12:27:33,911 - INFO - mvg.mvg -   timestamp: 1572177660\n",
      "2021-06-24 12:27:33,911 - INFO - mvg.mvg -   meta data: {'sampling_rate': 13950.857142857141}\n"
     ]
    },
    {
     "name": "stdout",
     "output_type": "stream",
     "text": [
      "Read 40000 samples for u0004.\n",
      "Read u0004 meta: {'duration': 2.8672073400507907, 'meta': {}}\n",
      "Uploading C:\\Users\\Sergio\\Documents\\GitHub\\mvg\\docs\\source\\content\\examples\\va-data-charlie\\charlieDb\\acc\\u0004\\1572177660.csv\n"
     ]
    },
    {
     "name": "stderr",
     "output_type": "stream",
     "text": [
      "2021-06-24 12:27:40,370 - INFO - mvg.mvg - endpoint https://api.beta.multiviz.com\n",
      "2021-06-24 12:27:40,372 - INFO - mvg.mvg - creating measurement from source id=u0004\n",
      "2021-06-24 12:27:40,372 - INFO - mvg.mvg -   duration:  2.8672073400507907\n",
      "2021-06-24 12:27:40,372 - INFO - mvg.mvg -   timestamp: 1570705260\n",
      "2021-06-24 12:27:40,372 - INFO - mvg.mvg -   meta data: {'sampling_rate': 13950.857142857141}\n"
     ]
    },
    {
     "name": "stdout",
     "output_type": "stream",
     "text": [
      "Read 40000 samples for u0004.\n",
      "Read u0004 meta: {'duration': 2.8672073400507907, 'meta': {}}\n",
      "Uploading C:\\Users\\Sergio\\Documents\\GitHub\\mvg\\docs\\source\\content\\examples\\va-data-charlie\\charlieDb\\acc\\u0004\\1570705260.csv\n"
     ]
    },
    {
     "name": "stderr",
     "output_type": "stream",
     "text": [
      "2021-06-24 12:27:46,681 - INFO - mvg.mvg - endpoint https://api.beta.multiviz.com\n",
      "2021-06-24 12:27:46,682 - INFO - mvg.mvg - creating measurement from source id=u0004\n",
      "2021-06-24 12:27:46,682 - INFO - mvg.mvg -   duration:  2.8672073400507907\n",
      "2021-06-24 12:27:46,683 - INFO - mvg.mvg -   timestamp: 1572868860\n",
      "2021-06-24 12:27:46,683 - INFO - mvg.mvg -   meta data: {'sampling_rate': 13950.857142857141}\n"
     ]
    },
    {
     "name": "stdout",
     "output_type": "stream",
     "text": [
      "Read 40000 samples for u0004.\n",
      "Read u0004 meta: {'duration': 2.8672073400507907, 'meta': {}}\n",
      "Uploading C:\\Users\\Sergio\\Documents\\GitHub\\mvg\\docs\\source\\content\\examples\\va-data-charlie\\charlieDb\\acc\\u0004\\1572868860.csv\n"
     ]
    },
    {
     "name": "stderr",
     "output_type": "stream",
     "text": [
      "2021-06-24 12:27:54,324 - INFO - mvg.mvg - endpoint https://api.beta.multiviz.com\n",
      "2021-06-24 12:27:54,324 - INFO - mvg.mvg - creating measurement from source id=u0004\n",
      "2021-06-24 12:27:54,325 - INFO - mvg.mvg -   duration:  2.8672073400507907\n",
      "2021-06-24 12:27:54,325 - INFO - mvg.mvg -   timestamp: 1570964460\n",
      "2021-06-24 12:27:54,326 - INFO - mvg.mvg -   meta data: {'sampling_rate': 13950.857142857141}\n"
     ]
    },
    {
     "name": "stdout",
     "output_type": "stream",
     "text": [
      "Read 40000 samples for u0004.\n",
      "Read u0004 meta: {'duration': 2.8672073400507907, 'meta': {}}\n",
      "Uploading C:\\Users\\Sergio\\Documents\\GitHub\\mvg\\docs\\source\\content\\examples\\va-data-charlie\\charlieDb\\acc\\u0004\\1570964460.csv\n"
     ]
    },
    {
     "name": "stderr",
     "output_type": "stream",
     "text": [
      "2021-06-24 12:28:01,311 - INFO - mvg.mvg - endpoint https://api.beta.multiviz.com\n",
      "2021-06-24 12:28:01,312 - INFO - mvg.mvg - creating measurement from source id=u0004\n",
      "2021-06-24 12:28:01,312 - INFO - mvg.mvg -   duration:  2.8672073400507907\n",
      "2021-06-24 12:28:01,313 - INFO - mvg.mvg -   timestamp: 1572955260\n",
      "2021-06-24 12:28:01,313 - INFO - mvg.mvg -   meta data: {'sampling_rate': 13950.857142857141}\n"
     ]
    },
    {
     "name": "stdout",
     "output_type": "stream",
     "text": [
      "Read 40000 samples for u0004.\n",
      "Read u0004 meta: {'duration': 2.8672073400507907, 'meta': {}}\n",
      "Uploading C:\\Users\\Sergio\\Documents\\GitHub\\mvg\\docs\\source\\content\\examples\\va-data-charlie\\charlieDb\\acc\\u0004\\1572955260.csv\n"
     ]
    },
    {
     "name": "stderr",
     "output_type": "stream",
     "text": [
      "2021-06-24 12:28:07,916 - INFO - mvg.mvg - endpoint https://api.beta.multiviz.com\n",
      "2021-06-24 12:28:07,917 - INFO - mvg.mvg - creating measurement from source id=u0004\n",
      "2021-06-24 12:28:07,918 - INFO - mvg.mvg -   duration:  2.8672073400507907\n",
      "2021-06-24 12:28:07,918 - INFO - mvg.mvg -   timestamp: 1571742060\n",
      "2021-06-24 12:28:07,918 - INFO - mvg.mvg -   meta data: {'sampling_rate': 13950.857142857141}\n"
     ]
    },
    {
     "name": "stdout",
     "output_type": "stream",
     "text": [
      "Read 40000 samples for u0004.\n",
      "Read u0004 meta: {'duration': 2.8672073400507907, 'meta': {}}\n",
      "Uploading C:\\Users\\Sergio\\Documents\\GitHub\\mvg\\docs\\source\\content\\examples\\va-data-charlie\\charlieDb\\acc\\u0004\\1571742060.csv\n"
     ]
    },
    {
     "name": "stderr",
     "output_type": "stream",
     "text": [
      "2021-06-24 12:28:14,726 - INFO - mvg.mvg - endpoint https://api.beta.multiviz.com\n",
      "2021-06-24 12:28:14,727 - INFO - mvg.mvg - creating measurement from source id=u0004\n",
      "2021-06-24 12:28:14,727 - INFO - mvg.mvg -   duration:  2.8672073400507907\n",
      "2021-06-24 12:28:14,728 - INFO - mvg.mvg -   timestamp: 1571482860\n",
      "2021-06-24 12:28:14,728 - INFO - mvg.mvg -   meta data: {'sampling_rate': 13950.857142857141}\n"
     ]
    },
    {
     "name": "stdout",
     "output_type": "stream",
     "text": [
      "Read 40000 samples for u0004.\n",
      "Read u0004 meta: {'duration': 2.8672073400507907, 'meta': {}}\n",
      "Uploading C:\\Users\\Sergio\\Documents\\GitHub\\mvg\\docs\\source\\content\\examples\\va-data-charlie\\charlieDb\\acc\\u0004\\1571482860.csv\n"
     ]
    },
    {
     "name": "stderr",
     "output_type": "stream",
     "text": [
      "2021-06-24 12:28:22,180 - INFO - mvg.mvg - endpoint https://api.beta.multiviz.com\n",
      "2021-06-24 12:28:22,181 - INFO - mvg.mvg - creating measurement from source id=u0004\n",
      "2021-06-24 12:28:22,181 - INFO - mvg.mvg -   duration:  2.8672073400507907\n",
      "2021-06-24 12:28:22,182 - INFO - mvg.mvg -   timestamp: 1574078460\n",
      "2021-06-24 12:28:22,183 - INFO - mvg.mvg -   meta data: {'sampling_rate': 13950.857142857141}\n"
     ]
    },
    {
     "name": "stdout",
     "output_type": "stream",
     "text": [
      "Read 40000 samples for u0004.\n",
      "Read u0004 meta: {'duration': 2.8672073400507907, 'meta': {}}\n",
      "Uploading C:\\Users\\Sergio\\Documents\\GitHub\\mvg\\docs\\source\\content\\examples\\va-data-charlie\\charlieDb\\acc\\u0004\\1574078460.csv\n"
     ]
    },
    {
     "name": "stderr",
     "output_type": "stream",
     "text": [
      "2021-06-24 12:28:28,591 - INFO - mvg.mvg - endpoint https://api.beta.multiviz.com\n",
      "2021-06-24 12:28:28,592 - INFO - mvg.mvg - creating measurement from source id=u0004\n",
      "2021-06-24 12:28:28,593 - INFO - mvg.mvg -   duration:  2.8672073400507907\n",
      "2021-06-24 12:28:28,593 - INFO - mvg.mvg -   timestamp: 1570618860\n",
      "2021-06-24 12:28:28,594 - INFO - mvg.mvg -   meta data: {'sampling_rate': 13950.857142857141}\n"
     ]
    },
    {
     "name": "stdout",
     "output_type": "stream",
     "text": [
      "Read 40000 samples for u0004.\n",
      "Read u0004 meta: {'duration': 2.8672073400507907, 'meta': {}}\n",
      "Uploading C:\\Users\\Sergio\\Documents\\GitHub\\mvg\\docs\\source\\content\\examples\\va-data-charlie\\charlieDb\\acc\\u0004\\1570618860.csv\n"
     ]
    },
    {
     "name": "stderr",
     "output_type": "stream",
     "text": [
      "2021-06-24 12:28:35,121 - INFO - mvg.mvg - endpoint https://api.beta.multiviz.com\n",
      "2021-06-24 12:28:35,122 - INFO - mvg.mvg - creating measurement from source id=u0004\n",
      "2021-06-24 12:28:35,122 - INFO - mvg.mvg -   duration:  2.8672073400507907\n",
      "2021-06-24 12:28:35,123 - INFO - mvg.mvg -   timestamp: 1572350460\n",
      "2021-06-24 12:28:35,123 - INFO - mvg.mvg -   meta data: {'sampling_rate': 13950.857142857141}\n"
     ]
    },
    {
     "name": "stdout",
     "output_type": "stream",
     "text": [
      "Read 40000 samples for u0004.\n",
      "Read u0004 meta: {'duration': 2.8672073400507907, 'meta': {}}\n",
      "Uploading C:\\Users\\Sergio\\Documents\\GitHub\\mvg\\docs\\source\\content\\examples\\va-data-charlie\\charlieDb\\acc\\u0004\\1572350460.csv\n"
     ]
    },
    {
     "name": "stderr",
     "output_type": "stream",
     "text": [
      "2021-06-24 12:28:41,800 - INFO - mvg.mvg - endpoint https://api.beta.multiviz.com\n",
      "2021-06-24 12:28:41,800 - INFO - mvg.mvg - creating measurement from source id=u0004\n",
      "2021-06-24 12:28:41,801 - INFO - mvg.mvg -   duration:  2.8672073400507907\n",
      "2021-06-24 12:28:41,801 - INFO - mvg.mvg -   timestamp: 1572264060\n",
      "2021-06-24 12:28:41,802 - INFO - mvg.mvg -   meta data: {'sampling_rate': 13950.857142857141}\n"
     ]
    },
    {
     "name": "stdout",
     "output_type": "stream",
     "text": [
      "Read 40000 samples for u0004.\n",
      "Read u0004 meta: {'duration': 2.8672073400507907, 'meta': {}}\n",
      "Uploading C:\\Users\\Sergio\\Documents\\GitHub\\mvg\\docs\\source\\content\\examples\\va-data-charlie\\charlieDb\\acc\\u0004\\1572264060.csv\n"
     ]
    },
    {
     "name": "stderr",
     "output_type": "stream",
     "text": [
      "2021-06-24 12:28:48,335 - INFO - mvg.mvg - endpoint https://api.beta.multiviz.com\n",
      "2021-06-24 12:28:48,336 - INFO - mvg.mvg - creating measurement from source id=u0004\n",
      "2021-06-24 12:28:48,336 - INFO - mvg.mvg -   duration:  2.8672073400507907\n",
      "2021-06-24 12:28:48,337 - INFO - mvg.mvg -   timestamp: 1573387260\n",
      "2021-06-24 12:28:48,337 - INFO - mvg.mvg -   meta data: {'sampling_rate': 13950.857142857141}\n"
     ]
    },
    {
     "name": "stdout",
     "output_type": "stream",
     "text": [
      "Read 40000 samples for u0004.\n",
      "Read u0004 meta: {'duration': 2.8672073400507907, 'meta': {}}\n",
      "Uploading C:\\Users\\Sergio\\Documents\\GitHub\\mvg\\docs\\source\\content\\examples\\va-data-charlie\\charlieDb\\acc\\u0004\\1573387260.csv\n"
     ]
    },
    {
     "name": "stderr",
     "output_type": "stream",
     "text": [
      "2021-06-24 12:28:55,103 - INFO - mvg.mvg - endpoint https://api.beta.multiviz.com\n",
      "2021-06-24 12:28:55,104 - INFO - mvg.mvg - creating measurement from source id=u0004\n",
      "2021-06-24 12:28:55,105 - INFO - mvg.mvg -   duration:  2.8672073400507907\n",
      "2021-06-24 12:28:55,105 - INFO - mvg.mvg -   timestamp: 1571914860\n",
      "2021-06-24 12:28:55,105 - INFO - mvg.mvg -   meta data: {'sampling_rate': 13950.857142857141}\n"
     ]
    },
    {
     "name": "stdout",
     "output_type": "stream",
     "text": [
      "Read 40000 samples for u0004.\n",
      "Read u0004 meta: {'duration': 2.8672073400507907, 'meta': {}}\n",
      "Uploading C:\\Users\\Sergio\\Documents\\GitHub\\mvg\\docs\\source\\content\\examples\\va-data-charlie\\charlieDb\\acc\\u0004\\1571914860.csv\n"
     ]
    },
    {
     "name": "stderr",
     "output_type": "stream",
     "text": [
      "2021-06-24 12:29:01,898 - INFO - mvg.mvg - endpoint https://api.beta.multiviz.com\n",
      "2021-06-24 12:29:01,899 - INFO - mvg.mvg - creating measurement from source id=u0004\n",
      "2021-06-24 12:29:01,899 - INFO - mvg.mvg -   duration:  2.8672073400507907\n",
      "2021-06-24 12:29:01,900 - INFO - mvg.mvg -   timestamp: 1570446060\n",
      "2021-06-24 12:29:01,900 - INFO - mvg.mvg -   meta data: {'sampling_rate': 13950.857142857141}\n"
     ]
    },
    {
     "name": "stdout",
     "output_type": "stream",
     "text": [
      "Read 40000 samples for u0004.\n",
      "Read u0004 meta: {'duration': 2.8672073400507907, 'meta': {}}\n",
      "Uploading C:\\Users\\Sergio\\Documents\\GitHub\\mvg\\docs\\source\\content\\examples\\va-data-charlie\\charlieDb\\acc\\u0004\\1570446060.csv\n"
     ]
    },
    {
     "name": "stderr",
     "output_type": "stream",
     "text": [
      "2021-06-24 12:29:08,324 - INFO - mvg.mvg - endpoint https://api.beta.multiviz.com\n",
      "2021-06-24 12:29:08,325 - INFO - mvg.mvg - creating measurement from source id=u0004\n",
      "2021-06-24 12:29:08,325 - INFO - mvg.mvg -   duration:  2.8672073400507907\n",
      "2021-06-24 12:29:08,326 - INFO - mvg.mvg -   timestamp: 1572087660\n",
      "2021-06-24 12:29:08,326 - INFO - mvg.mvg -   meta data: {'sampling_rate': 13950.857142857141}\n"
     ]
    },
    {
     "name": "stdout",
     "output_type": "stream",
     "text": [
      "Read 40000 samples for u0004.\n",
      "Read u0004 meta: {'duration': 2.8672073400507907, 'meta': {}}\n",
      "Uploading C:\\Users\\Sergio\\Documents\\GitHub\\mvg\\docs\\source\\content\\examples\\va-data-charlie\\charlieDb\\acc\\u0004\\1572087660.csv\n"
     ]
    },
    {
     "name": "stderr",
     "output_type": "stream",
     "text": [
      "2021-06-24 12:29:15,505 - INFO - mvg.mvg - endpoint https://api.beta.multiviz.com\n",
      "2021-06-24 12:29:15,505 - INFO - mvg.mvg - creating measurement from source id=u0004\n",
      "2021-06-24 12:29:15,506 - INFO - mvg.mvg -   duration:  2.8672073400507907\n",
      "2021-06-24 12:29:15,506 - INFO - mvg.mvg -   timestamp: 1573905660\n",
      "2021-06-24 12:29:15,507 - INFO - mvg.mvg -   meta data: {'sampling_rate': 13950.857142857141}\n"
     ]
    },
    {
     "name": "stdout",
     "output_type": "stream",
     "text": [
      "Read 40000 samples for u0004.\n",
      "Read u0004 meta: {'duration': 2.8672073400507907, 'meta': {}}\n",
      "Uploading C:\\Users\\Sergio\\Documents\\GitHub\\mvg\\docs\\source\\content\\examples\\va-data-charlie\\charlieDb\\acc\\u0004\\1573905660.csv\n"
     ]
    },
    {
     "name": "stderr",
     "output_type": "stream",
     "text": [
      "2021-06-24 12:29:22,221 - INFO - mvg.mvg - endpoint https://api.beta.multiviz.com\n",
      "2021-06-24 12:29:22,221 - INFO - mvg.mvg - creating measurement from source id=u0004\n",
      "2021-06-24 12:29:22,222 - INFO - mvg.mvg -   duration:  2.8672073400507907\n",
      "2021-06-24 12:29:22,222 - INFO - mvg.mvg -   timestamp: 1574164860\n",
      "2021-06-24 12:29:22,223 - INFO - mvg.mvg -   meta data: {'sampling_rate': 13950.857142857141}\n"
     ]
    },
    {
     "name": "stdout",
     "output_type": "stream",
     "text": [
      "Read 40000 samples for u0004.\n",
      "Read u0004 meta: {'duration': 2.8672073400507907, 'meta': {}}\n",
      "Uploading C:\\Users\\Sergio\\Documents\\GitHub\\mvg\\docs\\source\\content\\examples\\va-data-charlie\\charlieDb\\acc\\u0004\\1574164860.csv\n"
     ]
    },
    {
     "name": "stderr",
     "output_type": "stream",
     "text": [
      "2021-06-24 12:29:29,681 - INFO - mvg.mvg - endpoint https://api.beta.multiviz.com\n",
      "2021-06-24 12:29:29,681 - INFO - mvg.mvg - creating measurement from source id=u0004\n",
      "2021-06-24 12:29:29,681 - INFO - mvg.mvg -   duration:  2.8672073400507907\n",
      "2021-06-24 12:29:29,681 - INFO - mvg.mvg -   timestamp: 1573473660\n",
      "2021-06-24 12:29:29,682 - INFO - mvg.mvg -   meta data: {'sampling_rate': 13950.857142857141}\n"
     ]
    },
    {
     "name": "stdout",
     "output_type": "stream",
     "text": [
      "Read 40000 samples for u0004.\n",
      "Read u0004 meta: {'duration': 2.8672073400507907, 'meta': {}}\n",
      "Uploading C:\\Users\\Sergio\\Documents\\GitHub\\mvg\\docs\\source\\content\\examples\\va-data-charlie\\charlieDb\\acc\\u0004\\1573473660.csv\n"
     ]
    },
    {
     "name": "stderr",
     "output_type": "stream",
     "text": [
      "2021-06-24 12:29:36,575 - INFO - mvg.mvg - endpoint https://api.beta.multiviz.com\n",
      "2021-06-24 12:29:36,575 - INFO - mvg.mvg - creating measurement from source id=u0004\n",
      "2021-06-24 12:29:36,575 - INFO - mvg.mvg -   duration:  2.8672073400507907\n",
      "2021-06-24 12:29:36,576 - INFO - mvg.mvg -   timestamp: 1573560060\n",
      "2021-06-24 12:29:36,576 - INFO - mvg.mvg -   meta data: {'sampling_rate': 13950.857142857141}\n"
     ]
    },
    {
     "name": "stdout",
     "output_type": "stream",
     "text": [
      "Read 40000 samples for u0004.\n",
      "Read u0004 meta: {'duration': 2.8672073400507907, 'meta': {}}\n",
      "Uploading C:\\Users\\Sergio\\Documents\\GitHub\\mvg\\docs\\source\\content\\examples\\va-data-charlie\\charlieDb\\acc\\u0004\\1573560060.csv\n"
     ]
    },
    {
     "name": "stderr",
     "output_type": "stream",
     "text": [
      "2021-06-24 12:29:43,999 - INFO - mvg.mvg - endpoint https://api.beta.multiviz.com\n",
      "2021-06-24 12:29:44,000 - INFO - mvg.mvg - creating measurement from source id=u0004\n",
      "2021-06-24 12:29:44,000 - INFO - mvg.mvg -   duration:  2.8672073400507907\n",
      "2021-06-24 12:29:44,001 - INFO - mvg.mvg -   timestamp: 1570186860\n",
      "2021-06-24 12:29:44,002 - INFO - mvg.mvg -   meta data: {'sampling_rate': 13950.857142857141}\n"
     ]
    },
    {
     "name": "stdout",
     "output_type": "stream",
     "text": [
      "Read 40000 samples for u0004.\n",
      "Read u0004 meta: {'duration': 2.8672073400507907, 'meta': {}}\n",
      "Uploading C:\\Users\\Sergio\\Documents\\GitHub\\mvg\\docs\\source\\content\\examples\\va-data-charlie\\charlieDb\\acc\\u0004\\1570186860.csv\n"
     ]
    },
    {
     "name": "stderr",
     "output_type": "stream",
     "text": [
      "2021-06-24 12:29:50,648 - INFO - mvg.mvg - endpoint https://api.beta.multiviz.com\n",
      "2021-06-24 12:29:50,648 - INFO - mvg.mvg - creating measurement from source id=u0004\n",
      "2021-06-24 12:29:50,649 - INFO - mvg.mvg -   duration:  2.8672073400507907\n",
      "2021-06-24 12:29:50,650 - INFO - mvg.mvg -   timestamp: 1571223660\n",
      "2021-06-24 12:29:50,650 - INFO - mvg.mvg -   meta data: {'sampling_rate': 13950.857142857141}\n"
     ]
    },
    {
     "name": "stdout",
     "output_type": "stream",
     "text": [
      "Read 40000 samples for u0004.\n",
      "Read u0004 meta: {'duration': 2.8672073400507907, 'meta': {}}\n",
      "Uploading C:\\Users\\Sergio\\Documents\\GitHub\\mvg\\docs\\source\\content\\examples\\va-data-charlie\\charlieDb\\acc\\u0004\\1571223660.csv\n"
     ]
    },
    {
     "name": "stderr",
     "output_type": "stream",
     "text": [
      "2021-06-24 12:29:57,389 - INFO - mvg.mvg - endpoint https://api.beta.multiviz.com\n",
      "2021-06-24 12:29:57,390 - INFO - mvg.mvg - creating measurement from source id=u0004\n",
      "2021-06-24 12:29:57,390 - INFO - mvg.mvg -   duration:  2.8672073400507907\n",
      "2021-06-24 12:29:57,390 - INFO - mvg.mvg -   timestamp: 1572609660\n",
      "2021-06-24 12:29:57,391 - INFO - mvg.mvg -   meta data: {'sampling_rate': 13950.857142857141}\n"
     ]
    },
    {
     "name": "stdout",
     "output_type": "stream",
     "text": [
      "Read 40000 samples for u0004.\n",
      "Read u0004 meta: {'duration': 2.8672073400507907, 'meta': {}}\n",
      "Uploading C:\\Users\\Sergio\\Documents\\GitHub\\mvg\\docs\\source\\content\\examples\\va-data-charlie\\charlieDb\\acc\\u0004\\1572609660.csv\n"
     ]
    },
    {
     "name": "stderr",
     "output_type": "stream",
     "text": [
      "2021-06-24 12:30:05,117 - INFO - mvg.mvg - endpoint https://api.beta.multiviz.com\n",
      "2021-06-24 12:30:05,118 - INFO - mvg.mvg - creating measurement from source id=u0004\n",
      "2021-06-24 12:30:05,118 - INFO - mvg.mvg -   duration:  2.8672073400507907\n",
      "2021-06-24 12:30:05,119 - INFO - mvg.mvg -   timestamp: 1573992060\n",
      "2021-06-24 12:30:05,120 - INFO - mvg.mvg -   meta data: {'sampling_rate': 13950.857142857141}\n"
     ]
    },
    {
     "name": "stdout",
     "output_type": "stream",
     "text": [
      "Read 40000 samples for u0004.\n",
      "Read u0004 meta: {'duration': 2.8672073400507907, 'meta': {}}\n",
      "Uploading C:\\Users\\Sergio\\Documents\\GitHub\\mvg\\docs\\source\\content\\examples\\va-data-charlie\\charlieDb\\acc\\u0004\\1573992060.csv\n"
     ]
    },
    {
     "name": "stderr",
     "output_type": "stream",
     "text": [
      "2021-06-24 12:30:12,147 - INFO - mvg.mvg - endpoint https://api.beta.multiviz.com\n",
      "2021-06-24 12:30:12,147 - INFO - mvg.mvg - creating measurement from source id=u0004\n",
      "2021-06-24 12:30:12,148 - INFO - mvg.mvg -   duration:  2.8672073400507907\n",
      "2021-06-24 12:30:12,148 - INFO - mvg.mvg -   timestamp: 1574251260\n",
      "2021-06-24 12:30:12,148 - INFO - mvg.mvg -   meta data: {'sampling_rate': 13950.857142857141}\n"
     ]
    },
    {
     "name": "stdout",
     "output_type": "stream",
     "text": [
      "Read 40000 samples for u0004.\n",
      "Read u0004 meta: {'duration': 2.8672073400507907, 'meta': {}}\n",
      "Uploading C:\\Users\\Sergio\\Documents\\GitHub\\mvg\\docs\\source\\content\\examples\\va-data-charlie\\charlieDb\\acc\\u0004\\1574251260.csv\n"
     ]
    },
    {
     "name": "stderr",
     "output_type": "stream",
     "text": [
      "2021-06-24 12:30:19,347 - INFO - mvg.mvg - endpoint https://api.beta.multiviz.com\n",
      "2021-06-24 12:30:19,347 - INFO - mvg.mvg - creating measurement from source id=u0004\n",
      "2021-06-24 12:30:19,348 - INFO - mvg.mvg -   duration:  2.8672073400507907\n",
      "2021-06-24 12:30:19,348 - INFO - mvg.mvg -   timestamp: 1572436860\n",
      "2021-06-24 12:30:19,349 - INFO - mvg.mvg -   meta data: {'sampling_rate': 13950.857142857141}\n"
     ]
    },
    {
     "name": "stdout",
     "output_type": "stream",
     "text": [
      "Read 40000 samples for u0004.\n",
      "Read u0004 meta: {'duration': 2.8672073400507907, 'meta': {}}\n",
      "Uploading C:\\Users\\Sergio\\Documents\\GitHub\\mvg\\docs\\source\\content\\examples\\va-data-charlie\\charlieDb\\acc\\u0004\\1572436860.csv\n"
     ]
    },
    {
     "name": "stderr",
     "output_type": "stream",
     "text": [
      "2021-06-24 12:30:26,111 - INFO - mvg.mvg - endpoint https://api.beta.multiviz.com\n",
      "2021-06-24 12:30:26,111 - INFO - mvg.mvg - creating measurement from source id=u0004\n",
      "2021-06-24 12:30:26,111 - INFO - mvg.mvg -   duration:  2.8672073400507907\n",
      "2021-06-24 12:30:26,112 - INFO - mvg.mvg -   timestamp: 1573128060\n",
      "2021-06-24 12:30:26,112 - INFO - mvg.mvg -   meta data: {'sampling_rate': 13950.857142857141}\n"
     ]
    },
    {
     "name": "stdout",
     "output_type": "stream",
     "text": [
      "Read 40000 samples for u0004.\n",
      "Read u0004 meta: {'duration': 2.8672073400507907, 'meta': {}}\n",
      "Uploading C:\\Users\\Sergio\\Documents\\GitHub\\mvg\\docs\\source\\content\\examples\\va-data-charlie\\charlieDb\\acc\\u0004\\1573128060.csv\n"
     ]
    },
    {
     "name": "stderr",
     "output_type": "stream",
     "text": [
      "2021-06-24 12:30:33,721 - INFO - mvg.mvg - endpoint https://api.beta.multiviz.com\n",
      "2021-06-24 12:30:33,721 - INFO - mvg.mvg - creating measurement from source id=u0004\n",
      "2021-06-24 12:30:33,722 - INFO - mvg.mvg -   duration:  2.8672073400507907\n",
      "2021-06-24 12:30:33,722 - INFO - mvg.mvg -   timestamp: 1573041660\n",
      "2021-06-24 12:30:33,722 - INFO - mvg.mvg -   meta data: {'sampling_rate': 13950.857142857141}\n"
     ]
    },
    {
     "name": "stdout",
     "output_type": "stream",
     "text": [
      "Read 40000 samples for u0004.\n",
      "Read u0004 meta: {'duration': 2.8672073400507907, 'meta': {}}\n",
      "Uploading C:\\Users\\Sergio\\Documents\\GitHub\\mvg\\docs\\source\\content\\examples\\va-data-charlie\\charlieDb\\acc\\u0004\\1573041660.csv\n"
     ]
    },
    {
     "name": "stderr",
     "output_type": "stream",
     "text": [
      "2021-06-24 12:30:40,347 - INFO - mvg.mvg - endpoint https://api.beta.multiviz.com\n",
      "2021-06-24 12:30:40,348 - INFO - mvg.mvg - creating measurement from source id=u0004\n",
      "2021-06-24 12:30:40,348 - INFO - mvg.mvg -   duration:  2.8672073400507907\n",
      "2021-06-24 12:30:40,349 - INFO - mvg.mvg -   timestamp: 1573214460\n",
      "2021-06-24 12:30:40,349 - INFO - mvg.mvg -   meta data: {'sampling_rate': 13950.857142857141}\n"
     ]
    },
    {
     "name": "stdout",
     "output_type": "stream",
     "text": [
      "Read 40000 samples for u0004.\n",
      "Read u0004 meta: {'duration': 2.8672073400507907, 'meta': {}}\n",
      "Uploading C:\\Users\\Sergio\\Documents\\GitHub\\mvg\\docs\\source\\content\\examples\\va-data-charlie\\charlieDb\\acc\\u0004\\1573214460.csv\n"
     ]
    },
    {
     "name": "stderr",
     "output_type": "stream",
     "text": [
      "2021-06-24 12:30:47,158 - INFO - mvg.mvg - endpoint https://api.beta.multiviz.com\n",
      "2021-06-24 12:30:47,159 - INFO - mvg.mvg - creating measurement from source id=u0004\n",
      "2021-06-24 12:30:47,159 - INFO - mvg.mvg -   duration:  2.8672073400507907\n",
      "2021-06-24 12:30:47,160 - INFO - mvg.mvg -   timestamp: 1571396460\n",
      "2021-06-24 12:30:47,160 - INFO - mvg.mvg -   meta data: {'sampling_rate': 13950.857142857141}\n"
     ]
    },
    {
     "name": "stdout",
     "output_type": "stream",
     "text": [
      "Read 40000 samples for u0004.\n",
      "Read u0004 meta: {'duration': 2.8672073400507907, 'meta': {}}\n",
      "Uploading C:\\Users\\Sergio\\Documents\\GitHub\\mvg\\docs\\source\\content\\examples\\va-data-charlie\\charlieDb\\acc\\u0004\\1571396460.csv\n"
     ]
    },
    {
     "name": "stderr",
     "output_type": "stream",
     "text": [
      "2021-06-24 12:30:54,242 - INFO - mvg.mvg - endpoint https://api.beta.multiviz.com\n",
      "2021-06-24 12:30:54,243 - INFO - mvg.mvg - creating measurement from source id=u0004\n",
      "2021-06-24 12:30:54,243 - INFO - mvg.mvg -   duration:  2.8672073400507907\n",
      "2021-06-24 12:30:54,244 - INFO - mvg.mvg -   timestamp: 1573819260\n",
      "2021-06-24 12:30:54,244 - INFO - mvg.mvg -   meta data: {'sampling_rate': 13950.857142857141}\n"
     ]
    },
    {
     "name": "stdout",
     "output_type": "stream",
     "text": [
      "Read 40000 samples for u0004.\n",
      "Read u0004 meta: {'duration': 2.8672073400507907, 'meta': {}}\n",
      "Uploading C:\\Users\\Sergio\\Documents\\GitHub\\mvg\\docs\\source\\content\\examples\\va-data-charlie\\charlieDb\\acc\\u0004\\1573819260.csv\n"
     ]
    },
    {
     "name": "stderr",
     "output_type": "stream",
     "text": [
      "2021-06-24 12:31:01,049 - INFO - mvg.mvg - endpoint https://api.beta.multiviz.com\n",
      "2021-06-24 12:31:01,050 - INFO - mvg.mvg - creating measurement from source id=u0004\n",
      "2021-06-24 12:31:01,050 - INFO - mvg.mvg -   duration:  2.8672073400507907\n",
      "2021-06-24 12:31:01,051 - INFO - mvg.mvg -   timestamp: 1570359660\n",
      "2021-06-24 12:31:01,051 - INFO - mvg.mvg -   meta data: {'sampling_rate': 13950.857142857141}\n"
     ]
    },
    {
     "name": "stdout",
     "output_type": "stream",
     "text": [
      "Read 40000 samples for u0004.\n",
      "Read u0004 meta: {'duration': 2.8672073400507907, 'meta': {}}\n",
      "Uploading C:\\Users\\Sergio\\Documents\\GitHub\\mvg\\docs\\source\\content\\examples\\va-data-charlie\\charlieDb\\acc\\u0004\\1570359660.csv\n"
     ]
    },
    {
     "name": "stderr",
     "output_type": "stream",
     "text": [
      "2021-06-24 12:31:09,467 - INFO - mvg.mvg - endpoint https://api.beta.multiviz.com\n",
      "2021-06-24 12:31:09,468 - INFO - mvg.mvg - creating measurement from source id=u0004\n",
      "2021-06-24 12:31:09,468 - INFO - mvg.mvg -   duration:  2.8672073400507907\n",
      "2021-06-24 12:31:09,468 - INFO - mvg.mvg -   timestamp: 1572001260\n",
      "2021-06-24 12:31:09,469 - INFO - mvg.mvg -   meta data: {'sampling_rate': 13950.857142857141}\n"
     ]
    },
    {
     "name": "stdout",
     "output_type": "stream",
     "text": [
      "Read 40000 samples for u0004.\n",
      "Read u0004 meta: {'duration': 2.8672073400507907, 'meta': {}}\n",
      "Uploading C:\\Users\\Sergio\\Documents\\GitHub\\mvg\\docs\\source\\content\\examples\\va-data-charlie\\charlieDb\\acc\\u0004\\1572001260.csv\n"
     ]
    },
    {
     "name": "stderr",
     "output_type": "stream",
     "text": [
      "2021-06-24 12:31:16,963 - INFO - mvg.mvg - endpoint https://api.beta.multiviz.com\n",
      "2021-06-24 12:31:16,963 - INFO - mvg.mvg - creating measurement from source id=u0004\n",
      "2021-06-24 12:31:16,964 - INFO - mvg.mvg -   duration:  2.8672073400507907\n",
      "2021-06-24 12:31:16,964 - INFO - mvg.mvg -   timestamp: 1570532460\n",
      "2021-06-24 12:31:16,965 - INFO - mvg.mvg -   meta data: {'sampling_rate': 13950.857142857141}\n"
     ]
    },
    {
     "name": "stdout",
     "output_type": "stream",
     "text": [
      "Read 40000 samples for u0004.\n",
      "Read u0004 meta: {'duration': 2.8672073400507907, 'meta': {}}\n",
      "Uploading C:\\Users\\Sergio\\Documents\\GitHub\\mvg\\docs\\source\\content\\examples\\va-data-charlie\\charlieDb\\acc\\u0004\\1570532460.csv\n"
     ]
    },
    {
     "name": "stderr",
     "output_type": "stream",
     "text": [
      "2021-06-24 12:31:23,728 - INFO - mvg.mvg - endpoint https://api.beta.multiviz.com\n",
      "2021-06-24 12:31:23,729 - INFO - mvg.mvg - creating measurement from source id=u0004\n",
      "2021-06-24 12:31:23,729 - INFO - mvg.mvg -   duration:  2.8672073400507907\n",
      "2021-06-24 12:31:23,730 - INFO - mvg.mvg -   timestamp: 1572782460\n",
      "2021-06-24 12:31:23,730 - INFO - mvg.mvg -   meta data: {'sampling_rate': 13950.857142857141}\n"
     ]
    },
    {
     "name": "stdout",
     "output_type": "stream",
     "text": [
      "Read 40000 samples for u0004.\n",
      "Read u0004 meta: {'duration': 2.8672073400507907, 'meta': {}}\n",
      "Uploading C:\\Users\\Sergio\\Documents\\GitHub\\mvg\\docs\\source\\content\\examples\\va-data-charlie\\charlieDb\\acc\\u0004\\1572782460.csv\n"
     ]
    },
    {
     "name": "stderr",
     "output_type": "stream",
     "text": [
      "2021-06-24 12:31:30,871 - INFO - mvg.mvg - endpoint https://api.beta.multiviz.com\n",
      "2021-06-24 12:31:30,872 - INFO - mvg.mvg - creating measurement from source id=u0004\n",
      "2021-06-24 12:31:30,873 - INFO - mvg.mvg -   duration:  2.8672073400507907\n",
      "2021-06-24 12:31:30,873 - INFO - mvg.mvg -   timestamp: 1574424060\n",
      "2021-06-24 12:31:30,874 - INFO - mvg.mvg -   meta data: {'sampling_rate': 13950.857142857141}\n"
     ]
    },
    {
     "name": "stdout",
     "output_type": "stream",
     "text": [
      "Read 40000 samples for u0004.\n",
      "Read u0004 meta: {'duration': 2.8672073400507907, 'meta': {}}\n",
      "Uploading C:\\Users\\Sergio\\Documents\\GitHub\\mvg\\docs\\source\\content\\examples\\va-data-charlie\\charlieDb\\acc\\u0004\\1574424060.csv\n"
     ]
    },
    {
     "name": "stderr",
     "output_type": "stream",
     "text": [
      "2021-06-24 12:31:37,674 - INFO - mvg.mvg - endpoint https://api.beta.multiviz.com\n",
      "2021-06-24 12:31:37,675 - INFO - mvg.mvg - creating measurement from source id=u0004\n",
      "2021-06-24 12:31:37,675 - INFO - mvg.mvg -   duration:  2.8672073400507907\n",
      "2021-06-24 12:31:37,676 - INFO - mvg.mvg -   timestamp: 1571137260\n",
      "2021-06-24 12:31:37,676 - INFO - mvg.mvg -   meta data: {'sampling_rate': 13950.857142857141}\n"
     ]
    },
    {
     "name": "stdout",
     "output_type": "stream",
     "text": [
      "Read 40000 samples for u0004.\n",
      "Read u0004 meta: {'duration': 2.8672073400507907, 'meta': {}}\n",
      "Uploading C:\\Users\\Sergio\\Documents\\GitHub\\mvg\\docs\\source\\content\\examples\\va-data-charlie\\charlieDb\\acc\\u0004\\1571137260.csv\n"
     ]
    },
    {
     "name": "stderr",
     "output_type": "stream",
     "text": [
      "2021-06-24 12:31:44,356 - INFO - mvg.mvg - endpoint https://api.beta.multiviz.com\n",
      "2021-06-24 12:31:44,356 - INFO - mvg.mvg - creating measurement from source id=u0004\n",
      "2021-06-24 12:31:44,357 - INFO - mvg.mvg -   duration:  2.8672073400507907\n",
      "2021-06-24 12:31:44,358 - INFO - mvg.mvg -   timestamp: 1571828460\n",
      "2021-06-24 12:31:44,358 - INFO - mvg.mvg -   meta data: {'sampling_rate': 13950.857142857141}\n"
     ]
    },
    {
     "name": "stdout",
     "output_type": "stream",
     "text": [
      "Read 40000 samples for u0004.\n",
      "Read u0004 meta: {'duration': 2.8672073400507907, 'meta': {}}\n",
      "Uploading C:\\Users\\Sergio\\Documents\\GitHub\\mvg\\docs\\source\\content\\examples\\va-data-charlie\\charlieDb\\acc\\u0004\\1571828460.csv\n"
     ]
    },
    {
     "name": "stderr",
     "output_type": "stream",
     "text": [
      "2021-06-24 12:31:51,802 - INFO - mvg.mvg - endpoint https://api.beta.multiviz.com\n",
      "2021-06-24 12:31:51,803 - INFO - mvg.mvg - creating measurement from source id=u0004\n",
      "2021-06-24 12:31:51,803 - INFO - mvg.mvg -   duration:  2.8672073400507907\n",
      "2021-06-24 12:31:51,804 - INFO - mvg.mvg -   timestamp: 1574337660\n",
      "2021-06-24 12:31:51,804 - INFO - mvg.mvg -   meta data: {'sampling_rate': 13950.857142857141}\n"
     ]
    },
    {
     "name": "stdout",
     "output_type": "stream",
     "text": [
      "Read 40000 samples for u0004.\n",
      "Read u0004 meta: {'duration': 2.8672073400507907, 'meta': {}}\n",
      "Uploading C:\\Users\\Sergio\\Documents\\GitHub\\mvg\\docs\\source\\content\\examples\\va-data-charlie\\charlieDb\\acc\\u0004\\1574337660.csv\n"
     ]
    },
    {
     "name": "stderr",
     "output_type": "stream",
     "text": [
      "2021-06-24 12:31:58,464 - INFO - mvg.mvg - endpoint https://api.beta.multiviz.com\n",
      "2021-06-24 12:31:58,464 - INFO - mvg.mvg - creating measurement from source id=u0004\n",
      "2021-06-24 12:31:58,465 - INFO - mvg.mvg -   duration:  2.8672073400507907\n",
      "2021-06-24 12:31:58,466 - INFO - mvg.mvg -   timestamp: 1572696060\n",
      "2021-06-24 12:31:58,466 - INFO - mvg.mvg -   meta data: {'sampling_rate': 13950.857142857141}\n"
     ]
    },
    {
     "name": "stdout",
     "output_type": "stream",
     "text": [
      "Read 40000 samples for u0004.\n",
      "Read u0004 meta: {'duration': 2.8672073400507907, 'meta': {}}\n",
      "Uploading C:\\Users\\Sergio\\Documents\\GitHub\\mvg\\docs\\source\\content\\examples\\va-data-charlie\\charlieDb\\acc\\u0004\\1572696060.csv\n"
     ]
    },
    {
     "name": "stderr",
     "output_type": "stream",
     "text": [
      "2021-06-24 12:32:05,096 - INFO - mvg.mvg - endpoint https://api.beta.multiviz.com\n",
      "2021-06-24 12:32:05,096 - INFO - mvg.mvg - creating measurement from source id=u0004\n",
      "2021-06-24 12:32:05,097 - INFO - mvg.mvg -   duration:  2.8672073400507907\n",
      "2021-06-24 12:32:05,097 - INFO - mvg.mvg -   timestamp: 1573646460\n",
      "2021-06-24 12:32:05,098 - INFO - mvg.mvg -   meta data: {'sampling_rate': 13950.857142857141}\n"
     ]
    },
    {
     "name": "stdout",
     "output_type": "stream",
     "text": [
      "Read 40000 samples for u0004.\n",
      "Read u0004 meta: {'duration': 2.8672073400507907, 'meta': {}}\n",
      "Uploading C:\\Users\\Sergio\\Documents\\GitHub\\mvg\\docs\\source\\content\\examples\\va-data-charlie\\charlieDb\\acc\\u0004\\1573646460.csv\n"
     ]
    },
    {
     "name": "stderr",
     "output_type": "stream",
     "text": [
      "2021-06-24 12:32:11,512 - INFO - mvg.mvg - endpoint https://api.beta.multiviz.com\n",
      "2021-06-24 12:32:11,512 - INFO - mvg.mvg - creating measurement from source id=u0004\n",
      "2021-06-24 12:32:11,513 - INFO - mvg.mvg -   duration:  2.8672073400507907\n",
      "2021-06-24 12:32:11,513 - INFO - mvg.mvg -   timestamp: 1571050860\n",
      "2021-06-24 12:32:11,514 - INFO - mvg.mvg -   meta data: {'sampling_rate': 13950.857142857141}\n"
     ]
    },
    {
     "name": "stdout",
     "output_type": "stream",
     "text": [
      "Read 40000 samples for u0004.\n",
      "Read u0004 meta: {'duration': 2.8672073400507907, 'meta': {}}\n",
      "Uploading C:\\Users\\Sergio\\Documents\\GitHub\\mvg\\docs\\source\\content\\examples\\va-data-charlie\\charlieDb\\acc\\u0004\\1571050860.csv\n"
     ]
    },
    {
     "name": "stderr",
     "output_type": "stream",
     "text": [
      "2021-06-24 12:32:18,842 - INFO - mvg.mvg - endpoint https://api.beta.multiviz.com\n",
      "2021-06-24 12:32:18,842 - INFO - mvg.mvg - creating measurement from source id=u0004\n",
      "2021-06-24 12:32:18,843 - INFO - mvg.mvg -   duration:  2.8672073400507907\n",
      "2021-06-24 12:32:18,843 - INFO - mvg.mvg -   timestamp: 1570791660\n",
      "2021-06-24 12:32:18,844 - INFO - mvg.mvg -   meta data: {'sampling_rate': 13950.857142857141}\n"
     ]
    },
    {
     "name": "stdout",
     "output_type": "stream",
     "text": [
      "Read 40000 samples for u0004.\n",
      "Read u0004 meta: {'duration': 2.8672073400507907, 'meta': {}}\n",
      "Uploading C:\\Users\\Sergio\\Documents\\GitHub\\mvg\\docs\\source\\content\\examples\\va-data-charlie\\charlieDb\\acc\\u0004\\1570791660.csv\n"
     ]
    },
    {
     "name": "stderr",
     "output_type": "stream",
     "text": [
      "2021-06-24 12:32:25,611 - INFO - mvg.mvg - endpoint https://api.beta.multiviz.com\n",
      "2021-06-24 12:32:25,612 - INFO - mvg.mvg - creating measurement from source id=u0004\n",
      "2021-06-24 12:32:25,613 - INFO - mvg.mvg -   duration:  2.8672073400507907\n",
      "2021-06-24 12:32:25,613 - INFO - mvg.mvg -   timestamp: 1570273260\n",
      "2021-06-24 12:32:25,613 - INFO - mvg.mvg -   meta data: {'sampling_rate': 13950.857142857141}\n"
     ]
    },
    {
     "name": "stdout",
     "output_type": "stream",
     "text": [
      "Read 40000 samples for u0004.\n",
      "Read u0004 meta: {'duration': 2.8672073400507907, 'meta': {}}\n",
      "Uploading C:\\Users\\Sergio\\Documents\\GitHub\\mvg\\docs\\source\\content\\examples\\va-data-charlie\\charlieDb\\acc\\u0004\\1570273260.csv\n"
     ]
    },
    {
     "name": "stderr",
     "output_type": "stream",
     "text": [
      "2021-06-24 12:32:32,215 - INFO - mvg.mvg - endpoint https://api.beta.multiviz.com\n",
      "2021-06-24 12:32:32,215 - INFO - mvg.mvg - creating measurement from source id=u0004\n",
      "2021-06-24 12:32:32,216 - INFO - mvg.mvg -   duration:  2.8672073400507907\n",
      "2021-06-24 12:32:32,216 - INFO - mvg.mvg -   timestamp: 1573300860\n",
      "2021-06-24 12:32:32,217 - INFO - mvg.mvg -   meta data: {'sampling_rate': 13950.857142857141}\n"
     ]
    },
    {
     "name": "stdout",
     "output_type": "stream",
     "text": [
      "Read 40000 samples for u0004.\n",
      "Read u0004 meta: {'duration': 2.8672073400507907, 'meta': {}}\n",
      "Uploading C:\\Users\\Sergio\\Documents\\GitHub\\mvg\\docs\\source\\content\\examples\\va-data-charlie\\charlieDb\\acc\\u0004\\1573300860.csv\n"
     ]
    },
    {
     "name": "stderr",
     "output_type": "stream",
     "text": [
      "2021-06-24 12:32:39,051 - INFO - mvg.mvg - endpoint https://api.beta.multiviz.com\n",
      "2021-06-24 12:32:39,051 - INFO - mvg.mvg - creating measurement from source id=u0004\n",
      "2021-06-24 12:32:39,052 - INFO - mvg.mvg -   duration:  2.8672073400507907\n",
      "2021-06-24 12:32:39,052 - INFO - mvg.mvg -   timestamp: 1571310060\n",
      "2021-06-24 12:32:39,053 - INFO - mvg.mvg -   meta data: {'sampling_rate': 13950.857142857141}\n"
     ]
    },
    {
     "name": "stdout",
     "output_type": "stream",
     "text": [
      "Read 40000 samples for u0004.\n",
      "Read u0004 meta: {'duration': 2.8672073400507907, 'meta': {}}\n",
      "Uploading C:\\Users\\Sergio\\Documents\\GitHub\\mvg\\docs\\source\\content\\examples\\va-data-charlie\\charlieDb\\acc\\u0004\\1571310060.csv\n"
     ]
    },
    {
     "name": "stderr",
     "output_type": "stream",
     "text": [
      "2021-06-24 12:32:46,440 - INFO - mvg.mvg - endpoint https://api.beta.multiviz.com\n",
      "2021-06-24 12:32:46,441 - INFO - mvg.mvg - creating measurement from source id=u0004\n",
      "2021-06-24 12:32:46,441 - INFO - mvg.mvg -   duration:  2.8672073400507907\n",
      "2021-06-24 12:32:46,442 - INFO - mvg.mvg -   timestamp: 1570878060\n",
      "2021-06-24 12:32:46,442 - INFO - mvg.mvg -   meta data: {'sampling_rate': 13950.857142857141}\n"
     ]
    },
    {
     "name": "stdout",
     "output_type": "stream",
     "text": [
      "Read 40000 samples for u0004.\n",
      "Read u0004 meta: {'duration': 2.8672073400507907, 'meta': {}}\n",
      "Uploading C:\\Users\\Sergio\\Documents\\GitHub\\mvg\\docs\\source\\content\\examples\\va-data-charlie\\charlieDb\\acc\\u0004\\1570878060.csv\n"
     ]
    },
    {
     "name": "stderr",
     "output_type": "stream",
     "text": [
      "2021-06-24 12:32:52,880 - INFO - mvg.mvg - endpoint https://api.beta.multiviz.com\n",
      "2021-06-24 12:32:52,881 - INFO - mvg.mvg - deleting source with source id=u0005\n"
     ]
    },
    {
     "name": "stdout",
     "output_type": "stream",
     "text": [
      "Deleting u0005\n",
      "Source u0005 does not exist\n"
     ]
    },
    {
     "name": "stderr",
     "output_type": "stream",
     "text": [
      "2021-06-24 12:32:53,090 - INFO - mvg.mvg - endpoint https://api.beta.multiviz.com\n",
      "2021-06-24 12:32:53,091 - INFO - mvg.mvg - creating source with source id=u0005\n",
      "2021-06-24 12:32:53,091 - INFO - mvg.mvg - metadata: {'assetId': 'assetE', 'measPoint': 'mloc01', 'location': 'london'}\n",
      "2021-06-24 12:32:53,318 - INFO - mvg.mvg - endpoint https://api.beta.multiviz.com\n",
      "2021-06-24 12:32:53,319 - INFO - mvg.mvg - creating measurement from source id=u0005\n",
      "2021-06-24 12:32:53,319 - INFO - mvg.mvg -   duration:  2.8672073400507907\n",
      "2021-06-24 12:32:53,320 - INFO - mvg.mvg -   timestamp: 1573732860\n",
      "2021-06-24 12:32:53,320 - INFO - mvg.mvg -   meta data: {'sampling_rate': 13950.857142857141}\n"
     ]
    },
    {
     "name": "stdout",
     "output_type": "stream",
     "text": [
      "Read 40000 samples for u0005.\n",
      "Read u0005 meta: {'duration': 2.8672073400507907, 'meta': {}}\n",
      "Uploading C:\\Users\\Sergio\\Documents\\GitHub\\mvg\\docs\\source\\content\\examples\\va-data-charlie\\charlieDb\\acc\\u0005\\1573732860.csv\n"
     ]
    },
    {
     "name": "stderr",
     "output_type": "stream",
     "text": [
      "2021-06-24 12:33:00,067 - INFO - mvg.mvg - endpoint https://api.beta.multiviz.com\n",
      "2021-06-24 12:33:00,067 - INFO - mvg.mvg - creating measurement from source id=u0005\n",
      "2021-06-24 12:33:00,068 - INFO - mvg.mvg -   duration:  2.8672073400507907\n",
      "2021-06-24 12:33:00,068 - INFO - mvg.mvg -   timestamp: 1571655660\n",
      "2021-06-24 12:33:00,069 - INFO - mvg.mvg -   meta data: {'sampling_rate': 13950.857142857141}\n"
     ]
    },
    {
     "name": "stdout",
     "output_type": "stream",
     "text": [
      "Read 40000 samples for u0005.\n",
      "Read u0005 meta: {'duration': 2.8672073400507907, 'meta': {}}\n",
      "Uploading C:\\Users\\Sergio\\Documents\\GitHub\\mvg\\docs\\source\\content\\examples\\va-data-charlie\\charlieDb\\acc\\u0005\\1571655660.csv\n"
     ]
    },
    {
     "name": "stderr",
     "output_type": "stream",
     "text": [
      "2021-06-24 12:33:06,763 - INFO - mvg.mvg - endpoint https://api.beta.multiviz.com\n",
      "2021-06-24 12:33:06,764 - INFO - mvg.mvg - creating measurement from source id=u0005\n",
      "2021-06-24 12:33:06,765 - INFO - mvg.mvg -   duration:  2.8672073400507907\n",
      "2021-06-24 12:33:06,765 - INFO - mvg.mvg -   timestamp: 1572523260\n",
      "2021-06-24 12:33:06,765 - INFO - mvg.mvg -   meta data: {'sampling_rate': 13950.857142857141}\n"
     ]
    },
    {
     "name": "stdout",
     "output_type": "stream",
     "text": [
      "Read 40000 samples for u0005.\n",
      "Read u0005 meta: {'duration': 2.8672073400507907, 'meta': {}}\n",
      "Uploading C:\\Users\\Sergio\\Documents\\GitHub\\mvg\\docs\\source\\content\\examples\\va-data-charlie\\charlieDb\\acc\\u0005\\1572523260.csv\n"
     ]
    },
    {
     "name": "stderr",
     "output_type": "stream",
     "text": [
      "2021-06-24 12:33:15,005 - INFO - mvg.mvg - endpoint https://api.beta.multiviz.com\n",
      "2021-06-24 12:33:15,005 - INFO - mvg.mvg - creating measurement from source id=u0005\n",
      "2021-06-24 12:33:15,006 - INFO - mvg.mvg -   duration:  2.8672073400507907\n",
      "2021-06-24 12:33:15,007 - INFO - mvg.mvg -   timestamp: 1571569260\n",
      "2021-06-24 12:33:15,007 - INFO - mvg.mvg -   meta data: {'sampling_rate': 13950.857142857141}\n"
     ]
    },
    {
     "name": "stdout",
     "output_type": "stream",
     "text": [
      "Read 40000 samples for u0005.\n",
      "Read u0005 meta: {'duration': 2.8672073400507907, 'meta': {}}\n",
      "Uploading C:\\Users\\Sergio\\Documents\\GitHub\\mvg\\docs\\source\\content\\examples\\va-data-charlie\\charlieDb\\acc\\u0005\\1571569260.csv\n"
     ]
    },
    {
     "name": "stderr",
     "output_type": "stream",
     "text": [
      "2021-06-24 12:33:21,450 - INFO - mvg.mvg - endpoint https://api.beta.multiviz.com\n",
      "2021-06-24 12:33:21,451 - INFO - mvg.mvg - creating measurement from source id=u0005\n",
      "2021-06-24 12:33:21,452 - INFO - mvg.mvg -   duration:  2.8672073400507907\n",
      "2021-06-24 12:33:21,452 - INFO - mvg.mvg -   timestamp: 1572177660\n",
      "2021-06-24 12:33:21,453 - INFO - mvg.mvg -   meta data: {'sampling_rate': 13950.857142857141}\n"
     ]
    },
    {
     "name": "stdout",
     "output_type": "stream",
     "text": [
      "Read 40000 samples for u0005.\n",
      "Read u0005 meta: {'duration': 2.8672073400507907, 'meta': {}}\n",
      "Uploading C:\\Users\\Sergio\\Documents\\GitHub\\mvg\\docs\\source\\content\\examples\\va-data-charlie\\charlieDb\\acc\\u0005\\1572177660.csv\n"
     ]
    },
    {
     "name": "stderr",
     "output_type": "stream",
     "text": [
      "2021-06-24 12:33:28,169 - INFO - mvg.mvg - endpoint https://api.beta.multiviz.com\n",
      "2021-06-24 12:33:28,170 - INFO - mvg.mvg - creating measurement from source id=u0005\n",
      "2021-06-24 12:33:28,170 - INFO - mvg.mvg -   duration:  2.8672073400507907\n",
      "2021-06-24 12:33:28,171 - INFO - mvg.mvg -   timestamp: 1570705260\n",
      "2021-06-24 12:33:28,171 - INFO - mvg.mvg -   meta data: {'sampling_rate': 13950.857142857141}\n"
     ]
    },
    {
     "name": "stdout",
     "output_type": "stream",
     "text": [
      "Read 40000 samples for u0005.\n",
      "Read u0005 meta: {'duration': 2.8672073400507907, 'meta': {}}\n",
      "Uploading C:\\Users\\Sergio\\Documents\\GitHub\\mvg\\docs\\source\\content\\examples\\va-data-charlie\\charlieDb\\acc\\u0005\\1570705260.csv\n"
     ]
    },
    {
     "name": "stderr",
     "output_type": "stream",
     "text": [
      "2021-06-24 12:33:35,045 - INFO - mvg.mvg - endpoint https://api.beta.multiviz.com\n",
      "2021-06-24 12:33:35,045 - INFO - mvg.mvg - creating measurement from source id=u0005\n",
      "2021-06-24 12:33:35,046 - INFO - mvg.mvg -   duration:  2.8672073400507907\n",
      "2021-06-24 12:33:35,046 - INFO - mvg.mvg -   timestamp: 1572868860\n",
      "2021-06-24 12:33:35,047 - INFO - mvg.mvg -   meta data: {'sampling_rate': 13950.857142857141}\n"
     ]
    },
    {
     "name": "stdout",
     "output_type": "stream",
     "text": [
      "Read 40000 samples for u0005.\n",
      "Read u0005 meta: {'duration': 2.8672073400507907, 'meta': {}}\n",
      "Uploading C:\\Users\\Sergio\\Documents\\GitHub\\mvg\\docs\\source\\content\\examples\\va-data-charlie\\charlieDb\\acc\\u0005\\1572868860.csv\n"
     ]
    },
    {
     "name": "stderr",
     "output_type": "stream",
     "text": [
      "2021-06-24 12:33:41,782 - INFO - mvg.mvg - endpoint https://api.beta.multiviz.com\n",
      "2021-06-24 12:33:41,782 - INFO - mvg.mvg - creating measurement from source id=u0005\n",
      "2021-06-24 12:33:41,783 - INFO - mvg.mvg -   duration:  2.8672073400507907\n",
      "2021-06-24 12:33:41,783 - INFO - mvg.mvg -   timestamp: 1570964460\n",
      "2021-06-24 12:33:41,784 - INFO - mvg.mvg -   meta data: {'sampling_rate': 13950.857142857141}\n"
     ]
    },
    {
     "name": "stdout",
     "output_type": "stream",
     "text": [
      "Read 40000 samples for u0005.\n",
      "Read u0005 meta: {'duration': 2.8672073400507907, 'meta': {}}\n",
      "Uploading C:\\Users\\Sergio\\Documents\\GitHub\\mvg\\docs\\source\\content\\examples\\va-data-charlie\\charlieDb\\acc\\u0005\\1570964460.csv\n"
     ]
    },
    {
     "name": "stderr",
     "output_type": "stream",
     "text": [
      "2021-06-24 12:33:49,492 - INFO - mvg.mvg - endpoint https://api.beta.multiviz.com\n",
      "2021-06-24 12:33:49,493 - INFO - mvg.mvg - creating measurement from source id=u0005\n",
      "2021-06-24 12:33:49,494 - INFO - mvg.mvg -   duration:  2.8672073400507907\n",
      "2021-06-24 12:33:49,494 - INFO - mvg.mvg -   timestamp: 1572955260\n",
      "2021-06-24 12:33:49,495 - INFO - mvg.mvg -   meta data: {'sampling_rate': 13950.857142857141}\n"
     ]
    },
    {
     "name": "stdout",
     "output_type": "stream",
     "text": [
      "Read 40000 samples for u0005.\n",
      "Read u0005 meta: {'duration': 2.8672073400507907, 'meta': {}}\n",
      "Uploading C:\\Users\\Sergio\\Documents\\GitHub\\mvg\\docs\\source\\content\\examples\\va-data-charlie\\charlieDb\\acc\\u0005\\1572955260.csv\n"
     ]
    },
    {
     "name": "stderr",
     "output_type": "stream",
     "text": [
      "2021-06-24 12:33:56,866 - INFO - mvg.mvg - endpoint https://api.beta.multiviz.com\n",
      "2021-06-24 12:33:56,867 - INFO - mvg.mvg - creating measurement from source id=u0005\n",
      "2021-06-24 12:33:56,867 - INFO - mvg.mvg -   duration:  2.8672073400507907\n",
      "2021-06-24 12:33:56,867 - INFO - mvg.mvg -   timestamp: 1571742060\n",
      "2021-06-24 12:33:56,868 - INFO - mvg.mvg -   meta data: {'sampling_rate': 13950.857142857141}\n"
     ]
    },
    {
     "name": "stdout",
     "output_type": "stream",
     "text": [
      "Read 40000 samples for u0005.\n",
      "Read u0005 meta: {'duration': 2.8672073400507907, 'meta': {}}\n",
      "Uploading C:\\Users\\Sergio\\Documents\\GitHub\\mvg\\docs\\source\\content\\examples\\va-data-charlie\\charlieDb\\acc\\u0005\\1571742060.csv\n"
     ]
    },
    {
     "name": "stderr",
     "output_type": "stream",
     "text": [
      "2021-06-24 12:34:03,530 - INFO - mvg.mvg - endpoint https://api.beta.multiviz.com\n",
      "2021-06-24 12:34:03,531 - INFO - mvg.mvg - creating measurement from source id=u0005\n",
      "2021-06-24 12:34:03,531 - INFO - mvg.mvg -   duration:  2.8672073400507907\n",
      "2021-06-24 12:34:03,532 - INFO - mvg.mvg -   timestamp: 1571482860\n",
      "2021-06-24 12:34:03,532 - INFO - mvg.mvg -   meta data: {'sampling_rate': 13950.857142857141}\n"
     ]
    },
    {
     "name": "stdout",
     "output_type": "stream",
     "text": [
      "Read 40000 samples for u0005.\n",
      "Read u0005 meta: {'duration': 2.8672073400507907, 'meta': {}}\n",
      "Uploading C:\\Users\\Sergio\\Documents\\GitHub\\mvg\\docs\\source\\content\\examples\\va-data-charlie\\charlieDb\\acc\\u0005\\1571482860.csv\n"
     ]
    },
    {
     "name": "stderr",
     "output_type": "stream",
     "text": [
      "2021-06-24 12:34:10,179 - INFO - mvg.mvg - endpoint https://api.beta.multiviz.com\n",
      "2021-06-24 12:34:10,180 - INFO - mvg.mvg - creating measurement from source id=u0005\n",
      "2021-06-24 12:34:10,180 - INFO - mvg.mvg -   duration:  2.8672073400507907\n",
      "2021-06-24 12:34:10,181 - INFO - mvg.mvg -   timestamp: 1574078460\n",
      "2021-06-24 12:34:10,182 - INFO - mvg.mvg -   meta data: {'sampling_rate': 13950.857142857141}\n"
     ]
    },
    {
     "name": "stdout",
     "output_type": "stream",
     "text": [
      "Read 40000 samples for u0005.\n",
      "Read u0005 meta: {'duration': 2.8672073400507907, 'meta': {}}\n",
      "Uploading C:\\Users\\Sergio\\Documents\\GitHub\\mvg\\docs\\source\\content\\examples\\va-data-charlie\\charlieDb\\acc\\u0005\\1574078460.csv\n"
     ]
    },
    {
     "name": "stderr",
     "output_type": "stream",
     "text": [
      "2021-06-24 12:34:18,593 - INFO - mvg.mvg - endpoint https://api.beta.multiviz.com\n",
      "2021-06-24 12:34:18,593 - INFO - mvg.mvg - creating measurement from source id=u0005\n",
      "2021-06-24 12:34:18,594 - INFO - mvg.mvg -   duration:  2.8672073400507907\n",
      "2021-06-24 12:34:18,594 - INFO - mvg.mvg -   timestamp: 1570618860\n",
      "2021-06-24 12:34:18,595 - INFO - mvg.mvg -   meta data: {'sampling_rate': 13950.857142857141}\n"
     ]
    },
    {
     "name": "stdout",
     "output_type": "stream",
     "text": [
      "Read 40000 samples for u0005.\n",
      "Read u0005 meta: {'duration': 2.8672073400507907, 'meta': {}}\n",
      "Uploading C:\\Users\\Sergio\\Documents\\GitHub\\mvg\\docs\\source\\content\\examples\\va-data-charlie\\charlieDb\\acc\\u0005\\1570618860.csv\n"
     ]
    },
    {
     "name": "stderr",
     "output_type": "stream",
     "text": [
      "2021-06-24 12:34:25,260 - INFO - mvg.mvg - endpoint https://api.beta.multiviz.com\n",
      "2021-06-24 12:34:25,260 - INFO - mvg.mvg - creating measurement from source id=u0005\n",
      "2021-06-24 12:34:25,261 - INFO - mvg.mvg -   duration:  2.8672073400507907\n",
      "2021-06-24 12:34:25,262 - INFO - mvg.mvg -   timestamp: 1572350460\n",
      "2021-06-24 12:34:25,262 - INFO - mvg.mvg -   meta data: {'sampling_rate': 13950.857142857141}\n"
     ]
    },
    {
     "name": "stdout",
     "output_type": "stream",
     "text": [
      "Read 40000 samples for u0005.\n",
      "Read u0005 meta: {'duration': 2.8672073400507907, 'meta': {}}\n",
      "Uploading C:\\Users\\Sergio\\Documents\\GitHub\\mvg\\docs\\source\\content\\examples\\va-data-charlie\\charlieDb\\acc\\u0005\\1572350460.csv\n"
     ]
    },
    {
     "name": "stderr",
     "output_type": "stream",
     "text": [
      "2021-06-24 12:34:31,906 - INFO - mvg.mvg - endpoint https://api.beta.multiviz.com\n",
      "2021-06-24 12:34:31,906 - INFO - mvg.mvg - creating measurement from source id=u0005\n",
      "2021-06-24 12:34:31,906 - INFO - mvg.mvg -   duration:  2.8672073400507907\n",
      "2021-06-24 12:34:31,907 - INFO - mvg.mvg -   timestamp: 1572264060\n",
      "2021-06-24 12:34:31,907 - INFO - mvg.mvg -   meta data: {'sampling_rate': 13950.857142857141}\n"
     ]
    },
    {
     "name": "stdout",
     "output_type": "stream",
     "text": [
      "Read 40000 samples for u0005.\n",
      "Read u0005 meta: {'duration': 2.8672073400507907, 'meta': {}}\n",
      "Uploading C:\\Users\\Sergio\\Documents\\GitHub\\mvg\\docs\\source\\content\\examples\\va-data-charlie\\charlieDb\\acc\\u0005\\1572264060.csv\n"
     ]
    },
    {
     "name": "stderr",
     "output_type": "stream",
     "text": [
      "2021-06-24 12:34:39,615 - INFO - mvg.mvg - endpoint https://api.beta.multiviz.com\n",
      "2021-06-24 12:34:39,615 - INFO - mvg.mvg - creating measurement from source id=u0005\n",
      "2021-06-24 12:34:39,615 - INFO - mvg.mvg -   duration:  2.8672073400507907\n",
      "2021-06-24 12:34:39,616 - INFO - mvg.mvg -   timestamp: 1573387260\n",
      "2021-06-24 12:34:39,617 - INFO - mvg.mvg -   meta data: {'sampling_rate': 13950.857142857141}\n"
     ]
    },
    {
     "name": "stdout",
     "output_type": "stream",
     "text": [
      "Read 40000 samples for u0005.\n",
      "Read u0005 meta: {'duration': 2.8672073400507907, 'meta': {}}\n",
      "Uploading C:\\Users\\Sergio\\Documents\\GitHub\\mvg\\docs\\source\\content\\examples\\va-data-charlie\\charlieDb\\acc\\u0005\\1573387260.csv\n"
     ]
    },
    {
     "name": "stderr",
     "output_type": "stream",
     "text": [
      "2021-06-24 12:34:46,360 - INFO - mvg.mvg - endpoint https://api.beta.multiviz.com\n",
      "2021-06-24 12:34:46,361 - INFO - mvg.mvg - creating measurement from source id=u0005\n",
      "2021-06-24 12:34:46,362 - INFO - mvg.mvg -   duration:  2.8672073400507907\n",
      "2021-06-24 12:34:46,362 - INFO - mvg.mvg -   timestamp: 1571914860\n",
      "2021-06-24 12:34:46,362 - INFO - mvg.mvg -   meta data: {'sampling_rate': 13950.857142857141}\n"
     ]
    },
    {
     "name": "stdout",
     "output_type": "stream",
     "text": [
      "Read 40000 samples for u0005.\n",
      "Read u0005 meta: {'duration': 2.8672073400507907, 'meta': {}}\n",
      "Uploading C:\\Users\\Sergio\\Documents\\GitHub\\mvg\\docs\\source\\content\\examples\\va-data-charlie\\charlieDb\\acc\\u0005\\1571914860.csv\n"
     ]
    },
    {
     "name": "stderr",
     "output_type": "stream",
     "text": [
      "2021-06-24 12:34:53,317 - INFO - mvg.mvg - endpoint https://api.beta.multiviz.com\n",
      "2021-06-24 12:34:53,317 - INFO - mvg.mvg - creating measurement from source id=u0005\n",
      "2021-06-24 12:34:53,318 - INFO - mvg.mvg -   duration:  2.8672073400507907\n",
      "2021-06-24 12:34:53,318 - INFO - mvg.mvg -   timestamp: 1570446060\n",
      "2021-06-24 12:34:53,319 - INFO - mvg.mvg -   meta data: {'sampling_rate': 13950.857142857141}\n"
     ]
    },
    {
     "name": "stdout",
     "output_type": "stream",
     "text": [
      "Read 40000 samples for u0005.\n",
      "Read u0005 meta: {'duration': 2.8672073400507907, 'meta': {}}\n",
      "Uploading C:\\Users\\Sergio\\Documents\\GitHub\\mvg\\docs\\source\\content\\examples\\va-data-charlie\\charlieDb\\acc\\u0005\\1570446060.csv\n"
     ]
    },
    {
     "name": "stderr",
     "output_type": "stream",
     "text": [
      "2021-06-24 12:34:59,736 - INFO - mvg.mvg - endpoint https://api.beta.multiviz.com\n",
      "2021-06-24 12:34:59,736 - INFO - mvg.mvg - creating measurement from source id=u0005\n",
      "2021-06-24 12:34:59,737 - INFO - mvg.mvg -   duration:  2.8672073400507907\n",
      "2021-06-24 12:34:59,737 - INFO - mvg.mvg -   timestamp: 1572087660\n",
      "2021-06-24 12:34:59,737 - INFO - mvg.mvg -   meta data: {'sampling_rate': 13950.857142857141}\n"
     ]
    },
    {
     "name": "stdout",
     "output_type": "stream",
     "text": [
      "Read 40000 samples for u0005.\n",
      "Read u0005 meta: {'duration': 2.8672073400507907, 'meta': {}}\n",
      "Uploading C:\\Users\\Sergio\\Documents\\GitHub\\mvg\\docs\\source\\content\\examples\\va-data-charlie\\charlieDb\\acc\\u0005\\1572087660.csv\n"
     ]
    },
    {
     "name": "stderr",
     "output_type": "stream",
     "text": [
      "2021-06-24 12:35:07,394 - INFO - mvg.mvg - endpoint https://api.beta.multiviz.com\n",
      "2021-06-24 12:35:07,395 - INFO - mvg.mvg - creating measurement from source id=u0005\n",
      "2021-06-24 12:35:07,396 - INFO - mvg.mvg -   duration:  2.8672073400507907\n",
      "2021-06-24 12:35:07,396 - INFO - mvg.mvg -   timestamp: 1573905660\n",
      "2021-06-24 12:35:07,397 - INFO - mvg.mvg -   meta data: {'sampling_rate': 13950.857142857141}\n"
     ]
    },
    {
     "name": "stdout",
     "output_type": "stream",
     "text": [
      "Read 40000 samples for u0005.\n",
      "Read u0005 meta: {'duration': 2.8672073400507907, 'meta': {}}\n",
      "Uploading C:\\Users\\Sergio\\Documents\\GitHub\\mvg\\docs\\source\\content\\examples\\va-data-charlie\\charlieDb\\acc\\u0005\\1573905660.csv\n"
     ]
    },
    {
     "name": "stderr",
     "output_type": "stream",
     "text": [
      "2021-06-24 12:35:14,314 - INFO - mvg.mvg - endpoint https://api.beta.multiviz.com\n",
      "2021-06-24 12:35:14,315 - INFO - mvg.mvg - creating measurement from source id=u0005\n",
      "2021-06-24 12:35:14,315 - INFO - mvg.mvg -   duration:  2.8672073400507907\n",
      "2021-06-24 12:35:14,316 - INFO - mvg.mvg -   timestamp: 1574164860\n",
      "2021-06-24 12:35:14,317 - INFO - mvg.mvg -   meta data: {'sampling_rate': 13950.857142857141}\n"
     ]
    },
    {
     "name": "stdout",
     "output_type": "stream",
     "text": [
      "Read 40000 samples for u0005.\n",
      "Read u0005 meta: {'duration': 2.8672073400507907, 'meta': {}}\n",
      "Uploading C:\\Users\\Sergio\\Documents\\GitHub\\mvg\\docs\\source\\content\\examples\\va-data-charlie\\charlieDb\\acc\\u0005\\1574164860.csv\n"
     ]
    },
    {
     "name": "stderr",
     "output_type": "stream",
     "text": [
      "2021-06-24 12:35:21,181 - INFO - mvg.mvg - endpoint https://api.beta.multiviz.com\n",
      "2021-06-24 12:35:21,182 - INFO - mvg.mvg - creating measurement from source id=u0005\n",
      "2021-06-24 12:35:21,182 - INFO - mvg.mvg -   duration:  2.8672073400507907\n",
      "2021-06-24 12:35:21,183 - INFO - mvg.mvg -   timestamp: 1573473660\n",
      "2021-06-24 12:35:21,183 - INFO - mvg.mvg -   meta data: {'sampling_rate': 13950.857142857141}\n"
     ]
    },
    {
     "name": "stdout",
     "output_type": "stream",
     "text": [
      "Read 40000 samples for u0005.\n",
      "Read u0005 meta: {'duration': 2.8672073400507907, 'meta': {}}\n",
      "Uploading C:\\Users\\Sergio\\Documents\\GitHub\\mvg\\docs\\source\\content\\examples\\va-data-charlie\\charlieDb\\acc\\u0005\\1573473660.csv\n"
     ]
    },
    {
     "name": "stderr",
     "output_type": "stream",
     "text": [
      "2021-06-24 12:35:29,311 - INFO - mvg.mvg - endpoint https://api.beta.multiviz.com\n",
      "2021-06-24 12:35:29,312 - INFO - mvg.mvg - creating measurement from source id=u0005\n",
      "2021-06-24 12:35:29,313 - INFO - mvg.mvg -   duration:  2.8672073400507907\n",
      "2021-06-24 12:35:29,313 - INFO - mvg.mvg -   timestamp: 1573560060\n",
      "2021-06-24 12:35:29,313 - INFO - mvg.mvg -   meta data: {'sampling_rate': 13950.857142857141}\n"
     ]
    },
    {
     "name": "stdout",
     "output_type": "stream",
     "text": [
      "Read 40000 samples for u0005.\n",
      "Read u0005 meta: {'duration': 2.8672073400507907, 'meta': {}}\n",
      "Uploading C:\\Users\\Sergio\\Documents\\GitHub\\mvg\\docs\\source\\content\\examples\\va-data-charlie\\charlieDb\\acc\\u0005\\1573560060.csv\n"
     ]
    },
    {
     "name": "stderr",
     "output_type": "stream",
     "text": [
      "2021-06-24 12:35:36,001 - INFO - mvg.mvg - endpoint https://api.beta.multiviz.com\n",
      "2021-06-24 12:35:36,001 - INFO - mvg.mvg - creating measurement from source id=u0005\n",
      "2021-06-24 12:35:36,003 - INFO - mvg.mvg -   duration:  2.8672073400507907\n",
      "2021-06-24 12:35:36,003 - INFO - mvg.mvg -   timestamp: 1570186860\n",
      "2021-06-24 12:35:36,003 - INFO - mvg.mvg -   meta data: {'sampling_rate': 13950.857142857141}\n"
     ]
    },
    {
     "name": "stdout",
     "output_type": "stream",
     "text": [
      "Read 40000 samples for u0005.\n",
      "Read u0005 meta: {'duration': 2.8672073400507907, 'meta': {}}\n",
      "Uploading C:\\Users\\Sergio\\Documents\\GitHub\\mvg\\docs\\source\\content\\examples\\va-data-charlie\\charlieDb\\acc\\u0005\\1570186860.csv\n"
     ]
    },
    {
     "name": "stderr",
     "output_type": "stream",
     "text": [
      "2021-06-24 12:35:42,721 - INFO - mvg.mvg - endpoint https://api.beta.multiviz.com\n",
      "2021-06-24 12:35:42,721 - INFO - mvg.mvg - creating measurement from source id=u0005\n",
      "2021-06-24 12:35:42,721 - INFO - mvg.mvg -   duration:  2.8672073400507907\n",
      "2021-06-24 12:35:42,721 - INFO - mvg.mvg -   timestamp: 1571223660\n",
      "2021-06-24 12:35:42,722 - INFO - mvg.mvg -   meta data: {'sampling_rate': 13950.857142857141}\n"
     ]
    },
    {
     "name": "stdout",
     "output_type": "stream",
     "text": [
      "Read 40000 samples for u0005.\n",
      "Read u0005 meta: {'duration': 2.8672073400507907, 'meta': {}}\n",
      "Uploading C:\\Users\\Sergio\\Documents\\GitHub\\mvg\\docs\\source\\content\\examples\\va-data-charlie\\charlieDb\\acc\\u0005\\1571223660.csv\n"
     ]
    },
    {
     "name": "stderr",
     "output_type": "stream",
     "text": [
      "2021-06-24 12:35:49,562 - INFO - mvg.mvg - endpoint https://api.beta.multiviz.com\n",
      "2021-06-24 12:35:49,563 - INFO - mvg.mvg - creating measurement from source id=u0005\n",
      "2021-06-24 12:35:49,564 - INFO - mvg.mvg -   duration:  2.8672073400507907\n",
      "2021-06-24 12:35:49,564 - INFO - mvg.mvg -   timestamp: 1572609660\n",
      "2021-06-24 12:35:49,565 - INFO - mvg.mvg -   meta data: {'sampling_rate': 13950.857142857141}\n"
     ]
    },
    {
     "name": "stdout",
     "output_type": "stream",
     "text": [
      "Read 40000 samples for u0005.\n",
      "Read u0005 meta: {'duration': 2.8672073400507907, 'meta': {}}\n",
      "Uploading C:\\Users\\Sergio\\Documents\\GitHub\\mvg\\docs\\source\\content\\examples\\va-data-charlie\\charlieDb\\acc\\u0005\\1572609660.csv\n"
     ]
    },
    {
     "name": "stderr",
     "output_type": "stream",
     "text": [
      "2021-06-24 12:35:56,971 - INFO - mvg.mvg - endpoint https://api.beta.multiviz.com\n",
      "2021-06-24 12:35:56,971 - INFO - mvg.mvg - creating measurement from source id=u0005\n",
      "2021-06-24 12:35:56,972 - INFO - mvg.mvg -   duration:  2.8672073400507907\n",
      "2021-06-24 12:35:56,972 - INFO - mvg.mvg -   timestamp: 1573992060\n",
      "2021-06-24 12:35:56,973 - INFO - mvg.mvg -   meta data: {'sampling_rate': 13950.857142857141}\n"
     ]
    },
    {
     "name": "stdout",
     "output_type": "stream",
     "text": [
      "Read 40000 samples for u0005.\n",
      "Read u0005 meta: {'duration': 2.8672073400507907, 'meta': {}}\n",
      "Uploading C:\\Users\\Sergio\\Documents\\GitHub\\mvg\\docs\\source\\content\\examples\\va-data-charlie\\charlieDb\\acc\\u0005\\1573992060.csv\n"
     ]
    },
    {
     "name": "stderr",
     "output_type": "stream",
     "text": [
      "2021-06-24 12:36:03,644 - INFO - mvg.mvg - endpoint https://api.beta.multiviz.com\n",
      "2021-06-24 12:36:03,645 - INFO - mvg.mvg - creating measurement from source id=u0005\n",
      "2021-06-24 12:36:03,645 - INFO - mvg.mvg -   duration:  2.8672073400507907\n",
      "2021-06-24 12:36:03,645 - INFO - mvg.mvg -   timestamp: 1574251260\n",
      "2021-06-24 12:36:03,646 - INFO - mvg.mvg -   meta data: {'sampling_rate': 13950.857142857141}\n"
     ]
    },
    {
     "name": "stdout",
     "output_type": "stream",
     "text": [
      "Read 40000 samples for u0005.\n",
      "Read u0005 meta: {'duration': 2.8672073400507907, 'meta': {}}\n",
      "Uploading C:\\Users\\Sergio\\Documents\\GitHub\\mvg\\docs\\source\\content\\examples\\va-data-charlie\\charlieDb\\acc\\u0005\\1574251260.csv\n"
     ]
    },
    {
     "name": "stderr",
     "output_type": "stream",
     "text": [
      "2021-06-24 12:36:10,920 - INFO - mvg.mvg - endpoint https://api.beta.multiviz.com\n",
      "2021-06-24 12:36:10,921 - INFO - mvg.mvg - creating measurement from source id=u0005\n",
      "2021-06-24 12:36:10,921 - INFO - mvg.mvg -   duration:  2.8672073400507907\n",
      "2021-06-24 12:36:10,922 - INFO - mvg.mvg -   timestamp: 1572436860\n",
      "2021-06-24 12:36:10,922 - INFO - mvg.mvg -   meta data: {'sampling_rate': 13950.857142857141}\n"
     ]
    },
    {
     "name": "stdout",
     "output_type": "stream",
     "text": [
      "Read 40000 samples for u0005.\n",
      "Read u0005 meta: {'duration': 2.8672073400507907, 'meta': {}}\n",
      "Uploading C:\\Users\\Sergio\\Documents\\GitHub\\mvg\\docs\\source\\content\\examples\\va-data-charlie\\charlieDb\\acc\\u0005\\1572436860.csv\n"
     ]
    },
    {
     "name": "stderr",
     "output_type": "stream",
     "text": [
      "2021-06-24 12:36:17,503 - INFO - mvg.mvg - endpoint https://api.beta.multiviz.com\n",
      "2021-06-24 12:36:17,504 - INFO - mvg.mvg - creating measurement from source id=u0005\n",
      "2021-06-24 12:36:17,505 - INFO - mvg.mvg -   duration:  2.8672073400507907\n",
      "2021-06-24 12:36:17,505 - INFO - mvg.mvg -   timestamp: 1573128060\n",
      "2021-06-24 12:36:17,505 - INFO - mvg.mvg -   meta data: {'sampling_rate': 13950.857142857141}\n"
     ]
    },
    {
     "name": "stdout",
     "output_type": "stream",
     "text": [
      "Read 40000 samples for u0005.\n",
      "Read u0005 meta: {'duration': 2.8672073400507907, 'meta': {}}\n",
      "Uploading C:\\Users\\Sergio\\Documents\\GitHub\\mvg\\docs\\source\\content\\examples\\va-data-charlie\\charlieDb\\acc\\u0005\\1573128060.csv\n"
     ]
    },
    {
     "name": "stderr",
     "output_type": "stream",
     "text": [
      "2021-06-24 12:36:24,355 - INFO - mvg.mvg - endpoint https://api.beta.multiviz.com\n",
      "2021-06-24 12:36:24,355 - INFO - mvg.mvg - creating measurement from source id=u0005\n",
      "2021-06-24 12:36:24,356 - INFO - mvg.mvg -   duration:  2.8672073400507907\n",
      "2021-06-24 12:36:24,356 - INFO - mvg.mvg -   timestamp: 1573041660\n",
      "2021-06-24 12:36:24,356 - INFO - mvg.mvg -   meta data: {'sampling_rate': 13950.857142857141}\n"
     ]
    },
    {
     "name": "stdout",
     "output_type": "stream",
     "text": [
      "Read 40000 samples for u0005.\n",
      "Read u0005 meta: {'duration': 2.8672073400507907, 'meta': {}}\n",
      "Uploading C:\\Users\\Sergio\\Documents\\GitHub\\mvg\\docs\\source\\content\\examples\\va-data-charlie\\charlieDb\\acc\\u0005\\1573041660.csv\n"
     ]
    },
    {
     "name": "stderr",
     "output_type": "stream",
     "text": [
      "2021-06-24 12:36:30,712 - INFO - mvg.mvg - endpoint https://api.beta.multiviz.com\n",
      "2021-06-24 12:36:30,712 - INFO - mvg.mvg - creating measurement from source id=u0005\n",
      "2021-06-24 12:36:30,713 - INFO - mvg.mvg -   duration:  2.8672073400507907\n",
      "2021-06-24 12:36:30,713 - INFO - mvg.mvg -   timestamp: 1573214460\n",
      "2021-06-24 12:36:30,714 - INFO - mvg.mvg -   meta data: {'sampling_rate': 13950.857142857141}\n"
     ]
    },
    {
     "name": "stdout",
     "output_type": "stream",
     "text": [
      "Read 40000 samples for u0005.\n",
      "Read u0005 meta: {'duration': 2.8672073400507907, 'meta': {}}\n",
      "Uploading C:\\Users\\Sergio\\Documents\\GitHub\\mvg\\docs\\source\\content\\examples\\va-data-charlie\\charlieDb\\acc\\u0005\\1573214460.csv\n"
     ]
    },
    {
     "name": "stderr",
     "output_type": "stream",
     "text": [
      "2021-06-24 12:36:37,526 - INFO - mvg.mvg - endpoint https://api.beta.multiviz.com\n",
      "2021-06-24 12:36:37,527 - INFO - mvg.mvg - creating measurement from source id=u0005\n",
      "2021-06-24 12:36:37,528 - INFO - mvg.mvg -   duration:  2.8672073400507907\n",
      "2021-06-24 12:36:37,528 - INFO - mvg.mvg -   timestamp: 1571396460\n",
      "2021-06-24 12:36:37,529 - INFO - mvg.mvg -   meta data: {'sampling_rate': 13950.857142857141}\n"
     ]
    },
    {
     "name": "stdout",
     "output_type": "stream",
     "text": [
      "Read 40000 samples for u0005.\n",
      "Read u0005 meta: {'duration': 2.8672073400507907, 'meta': {}}\n",
      "Uploading C:\\Users\\Sergio\\Documents\\GitHub\\mvg\\docs\\source\\content\\examples\\va-data-charlie\\charlieDb\\acc\\u0005\\1571396460.csv\n"
     ]
    },
    {
     "name": "stderr",
     "output_type": "stream",
     "text": [
      "2021-06-24 12:36:44,328 - INFO - mvg.mvg - endpoint https://api.beta.multiviz.com\n",
      "2021-06-24 12:36:44,329 - INFO - mvg.mvg - creating measurement from source id=u0005\n",
      "2021-06-24 12:36:44,329 - INFO - mvg.mvg -   duration:  2.8672073400507907\n",
      "2021-06-24 12:36:44,330 - INFO - mvg.mvg -   timestamp: 1573819260\n",
      "2021-06-24 12:36:44,330 - INFO - mvg.mvg -   meta data: {'sampling_rate': 13950.857142857141}\n"
     ]
    },
    {
     "name": "stdout",
     "output_type": "stream",
     "text": [
      "Read 40000 samples for u0005.\n",
      "Read u0005 meta: {'duration': 2.8672073400507907, 'meta': {}}\n",
      "Uploading C:\\Users\\Sergio\\Documents\\GitHub\\mvg\\docs\\source\\content\\examples\\va-data-charlie\\charlieDb\\acc\\u0005\\1573819260.csv\n"
     ]
    },
    {
     "name": "stderr",
     "output_type": "stream",
     "text": [
      "2021-06-24 12:36:51,188 - INFO - mvg.mvg - endpoint https://api.beta.multiviz.com\n",
      "2021-06-24 12:36:51,189 - INFO - mvg.mvg - creating measurement from source id=u0005\n",
      "2021-06-24 12:36:51,189 - INFO - mvg.mvg -   duration:  2.8672073400507907\n",
      "2021-06-24 12:36:51,190 - INFO - mvg.mvg -   timestamp: 1570359660\n",
      "2021-06-24 12:36:51,190 - INFO - mvg.mvg -   meta data: {'sampling_rate': 13950.857142857141}\n"
     ]
    },
    {
     "name": "stdout",
     "output_type": "stream",
     "text": [
      "Read 40000 samples for u0005.\n",
      "Read u0005 meta: {'duration': 2.8672073400507907, 'meta': {}}\n",
      "Uploading C:\\Users\\Sergio\\Documents\\GitHub\\mvg\\docs\\source\\content\\examples\\va-data-charlie\\charlieDb\\acc\\u0005\\1570359660.csv\n"
     ]
    },
    {
     "name": "stderr",
     "output_type": "stream",
     "text": [
      "2021-06-24 12:36:57,859 - INFO - mvg.mvg - endpoint https://api.beta.multiviz.com\n",
      "2021-06-24 12:36:57,860 - INFO - mvg.mvg - creating measurement from source id=u0005\n",
      "2021-06-24 12:36:57,860 - INFO - mvg.mvg -   duration:  2.8672073400507907\n",
      "2021-06-24 12:36:57,861 - INFO - mvg.mvg -   timestamp: 1572001260\n",
      "2021-06-24 12:36:57,861 - INFO - mvg.mvg -   meta data: {'sampling_rate': 13950.857142857141}\n"
     ]
    },
    {
     "name": "stdout",
     "output_type": "stream",
     "text": [
      "Read 40000 samples for u0005.\n",
      "Read u0005 meta: {'duration': 2.8672073400507907, 'meta': {}}\n",
      "Uploading C:\\Users\\Sergio\\Documents\\GitHub\\mvg\\docs\\source\\content\\examples\\va-data-charlie\\charlieDb\\acc\\u0005\\1572001260.csv\n"
     ]
    },
    {
     "name": "stderr",
     "output_type": "stream",
     "text": [
      "2021-06-24 12:37:05,371 - INFO - mvg.mvg - endpoint https://api.beta.multiviz.com\n",
      "2021-06-24 12:37:05,371 - INFO - mvg.mvg - creating measurement from source id=u0005\n",
      "2021-06-24 12:37:05,372 - INFO - mvg.mvg -   duration:  2.8672073400507907\n",
      "2021-06-24 12:37:05,372 - INFO - mvg.mvg -   timestamp: 1570532460\n",
      "2021-06-24 12:37:05,372 - INFO - mvg.mvg -   meta data: {'sampling_rate': 13950.857142857141}\n"
     ]
    },
    {
     "name": "stdout",
     "output_type": "stream",
     "text": [
      "Read 40000 samples for u0005.\n",
      "Read u0005 meta: {'duration': 2.8672073400507907, 'meta': {}}\n",
      "Uploading C:\\Users\\Sergio\\Documents\\GitHub\\mvg\\docs\\source\\content\\examples\\va-data-charlie\\charlieDb\\acc\\u0005\\1570532460.csv\n"
     ]
    },
    {
     "name": "stderr",
     "output_type": "stream",
     "text": [
      "2021-06-24 12:37:11,874 - INFO - mvg.mvg - endpoint https://api.beta.multiviz.com\n",
      "2021-06-24 12:37:11,874 - INFO - mvg.mvg - creating measurement from source id=u0005\n",
      "2021-06-24 12:37:11,875 - INFO - mvg.mvg -   duration:  2.8672073400507907\n",
      "2021-06-24 12:37:11,876 - INFO - mvg.mvg -   timestamp: 1572782460\n",
      "2021-06-24 12:37:11,876 - INFO - mvg.mvg -   meta data: {'sampling_rate': 13950.857142857141}\n"
     ]
    },
    {
     "name": "stdout",
     "output_type": "stream",
     "text": [
      "Read 40000 samples for u0005.\n",
      "Read u0005 meta: {'duration': 2.8672073400507907, 'meta': {}}\n",
      "Uploading C:\\Users\\Sergio\\Documents\\GitHub\\mvg\\docs\\source\\content\\examples\\va-data-charlie\\charlieDb\\acc\\u0005\\1572782460.csv\n"
     ]
    },
    {
     "name": "stderr",
     "output_type": "stream",
     "text": [
      "2021-06-24 12:37:18,718 - INFO - mvg.mvg - endpoint https://api.beta.multiviz.com\n",
      "2021-06-24 12:37:18,719 - INFO - mvg.mvg - creating measurement from source id=u0005\n",
      "2021-06-24 12:37:18,719 - INFO - mvg.mvg -   duration:  2.8672073400507907\n",
      "2021-06-24 12:37:18,719 - INFO - mvg.mvg -   timestamp: 1574424060\n",
      "2021-06-24 12:37:18,720 - INFO - mvg.mvg -   meta data: {'sampling_rate': 13950.857142857141}\n"
     ]
    },
    {
     "name": "stdout",
     "output_type": "stream",
     "text": [
      "Read 40000 samples for u0005.\n",
      "Read u0005 meta: {'duration': 2.8672073400507907, 'meta': {}}\n",
      "Uploading C:\\Users\\Sergio\\Documents\\GitHub\\mvg\\docs\\source\\content\\examples\\va-data-charlie\\charlieDb\\acc\\u0005\\1574424060.csv\n"
     ]
    },
    {
     "name": "stderr",
     "output_type": "stream",
     "text": [
      "2021-06-24 12:37:25,229 - INFO - mvg.mvg - endpoint https://api.beta.multiviz.com\n",
      "2021-06-24 12:37:25,229 - INFO - mvg.mvg - creating measurement from source id=u0005\n",
      "2021-06-24 12:37:25,230 - INFO - mvg.mvg -   duration:  2.8672073400507907\n",
      "2021-06-24 12:37:25,230 - INFO - mvg.mvg -   timestamp: 1571137260\n",
      "2021-06-24 12:37:25,230 - INFO - mvg.mvg -   meta data: {'sampling_rate': 13950.857142857141}\n"
     ]
    },
    {
     "name": "stdout",
     "output_type": "stream",
     "text": [
      "Read 40000 samples for u0005.\n",
      "Read u0005 meta: {'duration': 2.8672073400507907, 'meta': {}}\n",
      "Uploading C:\\Users\\Sergio\\Documents\\GitHub\\mvg\\docs\\source\\content\\examples\\va-data-charlie\\charlieDb\\acc\\u0005\\1571137260.csv\n"
     ]
    },
    {
     "name": "stderr",
     "output_type": "stream",
     "text": [
      "2021-06-24 12:37:33,125 - INFO - mvg.mvg - endpoint https://api.beta.multiviz.com\n",
      "2021-06-24 12:37:33,126 - INFO - mvg.mvg - creating measurement from source id=u0005\n",
      "2021-06-24 12:37:33,127 - INFO - mvg.mvg -   duration:  2.8672073400507907\n",
      "2021-06-24 12:37:33,127 - INFO - mvg.mvg -   timestamp: 1571828460\n",
      "2021-06-24 12:37:33,127 - INFO - mvg.mvg -   meta data: {'sampling_rate': 13950.857142857141}\n"
     ]
    },
    {
     "name": "stdout",
     "output_type": "stream",
     "text": [
      "Read 40000 samples for u0005.\n",
      "Read u0005 meta: {'duration': 2.8672073400507907, 'meta': {}}\n",
      "Uploading C:\\Users\\Sergio\\Documents\\GitHub\\mvg\\docs\\source\\content\\examples\\va-data-charlie\\charlieDb\\acc\\u0005\\1571828460.csv\n"
     ]
    },
    {
     "name": "stderr",
     "output_type": "stream",
     "text": [
      "2021-06-24 12:37:40,051 - INFO - mvg.mvg - endpoint https://api.beta.multiviz.com\n",
      "2021-06-24 12:37:40,052 - INFO - mvg.mvg - creating measurement from source id=u0005\n",
      "2021-06-24 12:37:40,053 - INFO - mvg.mvg -   duration:  2.8672073400507907\n",
      "2021-06-24 12:37:40,053 - INFO - mvg.mvg -   timestamp: 1574337660\n",
      "2021-06-24 12:37:40,054 - INFO - mvg.mvg -   meta data: {'sampling_rate': 13950.857142857141}\n"
     ]
    },
    {
     "name": "stdout",
     "output_type": "stream",
     "text": [
      "Read 40000 samples for u0005.\n",
      "Read u0005 meta: {'duration': 2.8672073400507907, 'meta': {}}\n",
      "Uploading C:\\Users\\Sergio\\Documents\\GitHub\\mvg\\docs\\source\\content\\examples\\va-data-charlie\\charlieDb\\acc\\u0005\\1574337660.csv\n"
     ]
    },
    {
     "name": "stderr",
     "output_type": "stream",
     "text": [
      "2021-06-24 12:37:47,883 - INFO - mvg.mvg - endpoint https://api.beta.multiviz.com\n",
      "2021-06-24 12:37:47,883 - INFO - mvg.mvg - creating measurement from source id=u0005\n",
      "2021-06-24 12:37:47,884 - INFO - mvg.mvg -   duration:  2.8672073400507907\n",
      "2021-06-24 12:37:47,884 - INFO - mvg.mvg -   timestamp: 1572696060\n",
      "2021-06-24 12:37:47,885 - INFO - mvg.mvg -   meta data: {'sampling_rate': 13950.857142857141}\n"
     ]
    },
    {
     "name": "stdout",
     "output_type": "stream",
     "text": [
      "Read 40000 samples for u0005.\n",
      "Read u0005 meta: {'duration': 2.8672073400507907, 'meta': {}}\n",
      "Uploading C:\\Users\\Sergio\\Documents\\GitHub\\mvg\\docs\\source\\content\\examples\\va-data-charlie\\charlieDb\\acc\\u0005\\1572696060.csv\n"
     ]
    },
    {
     "name": "stderr",
     "output_type": "stream",
     "text": [
      "2021-06-24 12:37:54,413 - INFO - mvg.mvg - endpoint https://api.beta.multiviz.com\n",
      "2021-06-24 12:37:54,413 - INFO - mvg.mvg - creating measurement from source id=u0005\n",
      "2021-06-24 12:37:54,413 - INFO - mvg.mvg -   duration:  2.8672073400507907\n",
      "2021-06-24 12:37:54,414 - INFO - mvg.mvg -   timestamp: 1573646460\n",
      "2021-06-24 12:37:54,414 - INFO - mvg.mvg -   meta data: {'sampling_rate': 13950.857142857141}\n"
     ]
    },
    {
     "name": "stdout",
     "output_type": "stream",
     "text": [
      "Read 40000 samples for u0005.\n",
      "Read u0005 meta: {'duration': 2.8672073400507907, 'meta': {}}\n",
      "Uploading C:\\Users\\Sergio\\Documents\\GitHub\\mvg\\docs\\source\\content\\examples\\va-data-charlie\\charlieDb\\acc\\u0005\\1573646460.csv\n"
     ]
    },
    {
     "name": "stderr",
     "output_type": "stream",
     "text": [
      "2021-06-24 12:38:02,025 - INFO - mvg.mvg - endpoint https://api.beta.multiviz.com\n",
      "2021-06-24 12:38:02,025 - INFO - mvg.mvg - creating measurement from source id=u0005\n",
      "2021-06-24 12:38:02,026 - INFO - mvg.mvg -   duration:  2.8672073400507907\n",
      "2021-06-24 12:38:02,026 - INFO - mvg.mvg -   timestamp: 1571050860\n",
      "2021-06-24 12:38:02,026 - INFO - mvg.mvg -   meta data: {'sampling_rate': 13950.857142857141}\n"
     ]
    },
    {
     "name": "stdout",
     "output_type": "stream",
     "text": [
      "Read 40000 samples for u0005.\n",
      "Read u0005 meta: {'duration': 2.8672073400507907, 'meta': {}}\n",
      "Uploading C:\\Users\\Sergio\\Documents\\GitHub\\mvg\\docs\\source\\content\\examples\\va-data-charlie\\charlieDb\\acc\\u0005\\1571050860.csv\n"
     ]
    },
    {
     "name": "stderr",
     "output_type": "stream",
     "text": [
      "2021-06-24 12:38:08,483 - INFO - mvg.mvg - endpoint https://api.beta.multiviz.com\n",
      "2021-06-24 12:38:08,483 - INFO - mvg.mvg - creating measurement from source id=u0005\n",
      "2021-06-24 12:38:08,484 - INFO - mvg.mvg -   duration:  2.8672073400507907\n",
      "2021-06-24 12:38:08,484 - INFO - mvg.mvg -   timestamp: 1570791660\n",
      "2021-06-24 12:38:08,485 - INFO - mvg.mvg -   meta data: {'sampling_rate': 13950.857142857141}\n"
     ]
    },
    {
     "name": "stdout",
     "output_type": "stream",
     "text": [
      "Read 40000 samples for u0005.\n",
      "Read u0005 meta: {'duration': 2.8672073400507907, 'meta': {}}\n",
      "Uploading C:\\Users\\Sergio\\Documents\\GitHub\\mvg\\docs\\source\\content\\examples\\va-data-charlie\\charlieDb\\acc\\u0005\\1570791660.csv\n"
     ]
    },
    {
     "name": "stderr",
     "output_type": "stream",
     "text": [
      "2021-06-24 12:38:15,066 - INFO - mvg.mvg - endpoint https://api.beta.multiviz.com\n",
      "2021-06-24 12:38:15,066 - INFO - mvg.mvg - creating measurement from source id=u0005\n",
      "2021-06-24 12:38:15,067 - INFO - mvg.mvg -   duration:  2.8672073400507907\n",
      "2021-06-24 12:38:15,068 - INFO - mvg.mvg -   timestamp: 1570273260\n",
      "2021-06-24 12:38:15,068 - INFO - mvg.mvg -   meta data: {'sampling_rate': 13950.857142857141}\n"
     ]
    },
    {
     "name": "stdout",
     "output_type": "stream",
     "text": [
      "Read 40000 samples for u0005.\n",
      "Read u0005 meta: {'duration': 2.8672073400507907, 'meta': {}}\n",
      "Uploading C:\\Users\\Sergio\\Documents\\GitHub\\mvg\\docs\\source\\content\\examples\\va-data-charlie\\charlieDb\\acc\\u0005\\1570273260.csv\n"
     ]
    },
    {
     "name": "stderr",
     "output_type": "stream",
     "text": [
      "2021-06-24 12:38:21,816 - INFO - mvg.mvg - endpoint https://api.beta.multiviz.com\n",
      "2021-06-24 12:38:21,816 - INFO - mvg.mvg - creating measurement from source id=u0005\n",
      "2021-06-24 12:38:21,817 - INFO - mvg.mvg -   duration:  2.8672073400507907\n",
      "2021-06-24 12:38:21,817 - INFO - mvg.mvg -   timestamp: 1573300860\n",
      "2021-06-24 12:38:21,817 - INFO - mvg.mvg -   meta data: {'sampling_rate': 13950.857142857141}\n"
     ]
    },
    {
     "name": "stdout",
     "output_type": "stream",
     "text": [
      "Read 40000 samples for u0005.\n",
      "Read u0005 meta: {'duration': 2.8672073400507907, 'meta': {}}\n",
      "Uploading C:\\Users\\Sergio\\Documents\\GitHub\\mvg\\docs\\source\\content\\examples\\va-data-charlie\\charlieDb\\acc\\u0005\\1573300860.csv\n"
     ]
    },
    {
     "name": "stderr",
     "output_type": "stream",
     "text": [
      "2021-06-24 12:38:28,190 - INFO - mvg.mvg - endpoint https://api.beta.multiviz.com\n",
      "2021-06-24 12:38:28,191 - INFO - mvg.mvg - creating measurement from source id=u0005\n",
      "2021-06-24 12:38:28,191 - INFO - mvg.mvg -   duration:  2.8672073400507907\n",
      "2021-06-24 12:38:28,192 - INFO - mvg.mvg -   timestamp: 1571310060\n",
      "2021-06-24 12:38:28,193 - INFO - mvg.mvg -   meta data: {'sampling_rate': 13950.857142857141}\n"
     ]
    },
    {
     "name": "stdout",
     "output_type": "stream",
     "text": [
      "Read 40000 samples for u0005.\n",
      "Read u0005 meta: {'duration': 2.8672073400507907, 'meta': {}}\n",
      "Uploading C:\\Users\\Sergio\\Documents\\GitHub\\mvg\\docs\\source\\content\\examples\\va-data-charlie\\charlieDb\\acc\\u0005\\1571310060.csv\n"
     ]
    },
    {
     "name": "stderr",
     "output_type": "stream",
     "text": [
      "2021-06-24 12:38:35,973 - INFO - mvg.mvg - endpoint https://api.beta.multiviz.com\n",
      "2021-06-24 12:38:35,974 - INFO - mvg.mvg - creating measurement from source id=u0005\n",
      "2021-06-24 12:38:35,974 - INFO - mvg.mvg -   duration:  2.8672073400507907\n",
      "2021-06-24 12:38:35,975 - INFO - mvg.mvg -   timestamp: 1570878060\n",
      "2021-06-24 12:38:35,975 - INFO - mvg.mvg -   meta data: {'sampling_rate': 13950.857142857141}\n"
     ]
    },
    {
     "name": "stdout",
     "output_type": "stream",
     "text": [
      "Read 40000 samples for u0005.\n",
      "Read u0005 meta: {'duration': 2.8672073400507907, 'meta': {}}\n",
      "Uploading C:\\Users\\Sergio\\Documents\\GitHub\\mvg\\docs\\source\\content\\examples\\va-data-charlie\\charlieDb\\acc\\u0005\\1570878060.csv\n"
     ]
    },
    {
     "name": "stderr",
     "output_type": "stream",
     "text": [
      "2021-06-24 12:38:42,567 - INFO - mvg.mvg - endpoint https://api.beta.multiviz.com\n",
      "2021-06-24 12:38:42,567 - INFO - mvg.mvg - deleting source with source id=u0006\n"
     ]
    },
    {
     "name": "stdout",
     "output_type": "stream",
     "text": [
      "Deleting u0006\n",
      "Source u0006 does not exist\n"
     ]
    },
    {
     "name": "stderr",
     "output_type": "stream",
     "text": [
      "2021-06-24 12:38:42,782 - INFO - mvg.mvg - endpoint https://api.beta.multiviz.com\n",
      "2021-06-24 12:38:42,782 - INFO - mvg.mvg - creating source with source id=u0006\n",
      "2021-06-24 12:38:42,783 - INFO - mvg.mvg - metadata: {'assetId': 'assetF', 'measPoint': 'mloc01', 'location': 'london'}\n",
      "2021-06-24 12:38:43,014 - INFO - mvg.mvg - endpoint https://api.beta.multiviz.com\n",
      "2021-06-24 12:38:43,014 - INFO - mvg.mvg - creating measurement from source id=u0006\n",
      "2021-06-24 12:38:43,015 - INFO - mvg.mvg -   duration:  2.8672073400507907\n",
      "2021-06-24 12:38:43,015 - INFO - mvg.mvg -   timestamp: 1573732860\n",
      "2021-06-24 12:38:43,016 - INFO - mvg.mvg -   meta data: {'sampling_rate': 13950.857142857141}\n"
     ]
    },
    {
     "name": "stdout",
     "output_type": "stream",
     "text": [
      "Read 40000 samples for u0006.\n",
      "Read u0006 meta: {'duration': 2.8672073400507907, 'meta': {}}\n",
      "Uploading C:\\Users\\Sergio\\Documents\\GitHub\\mvg\\docs\\source\\content\\examples\\va-data-charlie\\charlieDb\\acc\\u0006\\1573732860.csv\n"
     ]
    },
    {
     "name": "stderr",
     "output_type": "stream",
     "text": [
      "2021-06-24 12:38:49,589 - INFO - mvg.mvg - endpoint https://api.beta.multiviz.com\n",
      "2021-06-24 12:38:49,590 - INFO - mvg.mvg - creating measurement from source id=u0006\n",
      "2021-06-24 12:38:49,591 - INFO - mvg.mvg -   duration:  2.8672073400507907\n",
      "2021-06-24 12:38:49,591 - INFO - mvg.mvg -   timestamp: 1571655660\n",
      "2021-06-24 12:38:49,592 - INFO - mvg.mvg -   meta data: {'sampling_rate': 13950.857142857141}\n"
     ]
    },
    {
     "name": "stdout",
     "output_type": "stream",
     "text": [
      "Read 40000 samples for u0006.\n",
      "Read u0006 meta: {'duration': 2.8672073400507907, 'meta': {}}\n",
      "Uploading C:\\Users\\Sergio\\Documents\\GitHub\\mvg\\docs\\source\\content\\examples\\va-data-charlie\\charlieDb\\acc\\u0006\\1571655660.csv\n"
     ]
    },
    {
     "name": "stderr",
     "output_type": "stream",
     "text": [
      "2021-06-24 12:38:57,635 - INFO - mvg.mvg - endpoint https://api.beta.multiviz.com\n",
      "2021-06-24 12:38:57,636 - INFO - mvg.mvg - creating measurement from source id=u0006\n",
      "2021-06-24 12:38:57,637 - INFO - mvg.mvg -   duration:  2.8672073400507907\n",
      "2021-06-24 12:38:57,637 - INFO - mvg.mvg -   timestamp: 1572523260\n",
      "2021-06-24 12:38:57,638 - INFO - mvg.mvg -   meta data: {'sampling_rate': 13950.857142857141}\n"
     ]
    },
    {
     "name": "stdout",
     "output_type": "stream",
     "text": [
      "Read 40000 samples for u0006.\n",
      "Read u0006 meta: {'duration': 2.8672073400507907, 'meta': {}}\n",
      "Uploading C:\\Users\\Sergio\\Documents\\GitHub\\mvg\\docs\\source\\content\\examples\\va-data-charlie\\charlieDb\\acc\\u0006\\1572523260.csv\n"
     ]
    },
    {
     "name": "stderr",
     "output_type": "stream",
     "text": [
      "2021-06-24 12:39:04,276 - INFO - mvg.mvg - endpoint https://api.beta.multiviz.com\n",
      "2021-06-24 12:39:04,277 - INFO - mvg.mvg - creating measurement from source id=u0006\n",
      "2021-06-24 12:39:04,278 - INFO - mvg.mvg -   duration:  2.8672073400507907\n",
      "2021-06-24 12:39:04,278 - INFO - mvg.mvg -   timestamp: 1571569260\n",
      "2021-06-24 12:39:04,278 - INFO - mvg.mvg -   meta data: {'sampling_rate': 13950.857142857141}\n"
     ]
    },
    {
     "name": "stdout",
     "output_type": "stream",
     "text": [
      "Read 40000 samples for u0006.\n",
      "Read u0006 meta: {'duration': 2.8672073400507907, 'meta': {}}\n",
      "Uploading C:\\Users\\Sergio\\Documents\\GitHub\\mvg\\docs\\source\\content\\examples\\va-data-charlie\\charlieDb\\acc\\u0006\\1571569260.csv\n"
     ]
    },
    {
     "name": "stderr",
     "output_type": "stream",
     "text": [
      "2021-06-24 12:39:11,274 - INFO - mvg.mvg - endpoint https://api.beta.multiviz.com\n",
      "2021-06-24 12:39:11,274 - INFO - mvg.mvg - creating measurement from source id=u0006\n",
      "2021-06-24 12:39:11,274 - INFO - mvg.mvg -   duration:  2.8672073400507907\n",
      "2021-06-24 12:39:11,275 - INFO - mvg.mvg -   timestamp: 1572177660\n",
      "2021-06-24 12:39:11,275 - INFO - mvg.mvg -   meta data: {'sampling_rate': 13950.857142857141}\n"
     ]
    },
    {
     "name": "stdout",
     "output_type": "stream",
     "text": [
      "Read 40000 samples for u0006.\n",
      "Read u0006 meta: {'duration': 2.8672073400507907, 'meta': {}}\n",
      "Uploading C:\\Users\\Sergio\\Documents\\GitHub\\mvg\\docs\\source\\content\\examples\\va-data-charlie\\charlieDb\\acc\\u0006\\1572177660.csv\n"
     ]
    },
    {
     "name": "stderr",
     "output_type": "stream",
     "text": [
      "2021-06-24 12:39:18,119 - INFO - mvg.mvg - endpoint https://api.beta.multiviz.com\n",
      "2021-06-24 12:39:18,119 - INFO - mvg.mvg - creating measurement from source id=u0006\n",
      "2021-06-24 12:39:18,119 - INFO - mvg.mvg -   duration:  2.8672073400507907\n",
      "2021-06-24 12:39:18,120 - INFO - mvg.mvg -   timestamp: 1572868860\n",
      "2021-06-24 12:39:18,120 - INFO - mvg.mvg -   meta data: {'sampling_rate': 13950.857142857141}\n"
     ]
    },
    {
     "name": "stdout",
     "output_type": "stream",
     "text": [
      "Read 40000 samples for u0006.\n",
      "Read u0006 meta: {'duration': 2.8672073400507907, 'meta': {}}\n",
      "Uploading C:\\Users\\Sergio\\Documents\\GitHub\\mvg\\docs\\source\\content\\examples\\va-data-charlie\\charlieDb\\acc\\u0006\\1572868860.csv\n"
     ]
    },
    {
     "name": "stderr",
     "output_type": "stream",
     "text": [
      "2021-06-24 12:39:25,566 - INFO - mvg.mvg - endpoint https://api.beta.multiviz.com\n",
      "2021-06-24 12:39:25,567 - INFO - mvg.mvg - creating measurement from source id=u0006\n",
      "2021-06-24 12:39:25,567 - INFO - mvg.mvg -   duration:  2.8672073400507907\n",
      "2021-06-24 12:39:25,568 - INFO - mvg.mvg -   timestamp: 1572955260\n",
      "2021-06-24 12:39:25,569 - INFO - mvg.mvg -   meta data: {'sampling_rate': 13950.857142857141}\n"
     ]
    },
    {
     "name": "stdout",
     "output_type": "stream",
     "text": [
      "Read 40000 samples for u0006.\n",
      "Read u0006 meta: {'duration': 2.8672073400507907, 'meta': {}}\n",
      "Uploading C:\\Users\\Sergio\\Documents\\GitHub\\mvg\\docs\\source\\content\\examples\\va-data-charlie\\charlieDb\\acc\\u0006\\1572955260.csv\n"
     ]
    },
    {
     "name": "stderr",
     "output_type": "stream",
     "text": [
      "2021-06-24 12:39:32,980 - INFO - mvg.mvg - endpoint https://api.beta.multiviz.com\n",
      "2021-06-24 12:39:32,981 - INFO - mvg.mvg - creating measurement from source id=u0006\n",
      "2021-06-24 12:39:32,982 - INFO - mvg.mvg -   duration:  2.8672073400507907\n",
      "2021-06-24 12:39:32,983 - INFO - mvg.mvg -   timestamp: 1574078460\n",
      "2021-06-24 12:39:32,983 - INFO - mvg.mvg -   meta data: {'sampling_rate': 13950.857142857141}\n"
     ]
    },
    {
     "name": "stdout",
     "output_type": "stream",
     "text": [
      "Read 40000 samples for u0006.\n",
      "Read u0006 meta: {'duration': 2.8672073400507907, 'meta': {}}\n",
      "Uploading C:\\Users\\Sergio\\Documents\\GitHub\\mvg\\docs\\source\\content\\examples\\va-data-charlie\\charlieDb\\acc\\u0006\\1574078460.csv\n"
     ]
    },
    {
     "name": "stderr",
     "output_type": "stream",
     "text": [
      "2021-06-24 12:39:39,700 - INFO - mvg.mvg - endpoint https://api.beta.multiviz.com\n",
      "2021-06-24 12:39:39,701 - INFO - mvg.mvg - creating measurement from source id=u0006\n",
      "2021-06-24 12:39:39,702 - INFO - mvg.mvg -   duration:  2.8672073400507907\n",
      "2021-06-24 12:39:39,702 - INFO - mvg.mvg -   timestamp: 1571742060\n",
      "2021-06-24 12:39:39,703 - INFO - mvg.mvg -   meta data: {'sampling_rate': 13950.857142857141}\n"
     ]
    },
    {
     "name": "stdout",
     "output_type": "stream",
     "text": [
      "Read 40000 samples for u0006.\n",
      "Read u0006 meta: {'duration': 2.8672073400507907, 'meta': {}}\n",
      "Uploading C:\\Users\\Sergio\\Documents\\GitHub\\mvg\\docs\\source\\content\\examples\\va-data-charlie\\charlieDb\\acc\\u0006\\1571742060.csv\n"
     ]
    },
    {
     "name": "stderr",
     "output_type": "stream",
     "text": [
      "2021-06-24 12:39:46,859 - INFO - mvg.mvg - endpoint https://api.beta.multiviz.com\n",
      "2021-06-24 12:39:46,859 - INFO - mvg.mvg - creating measurement from source id=u0006\n",
      "2021-06-24 12:39:46,860 - INFO - mvg.mvg -   duration:  2.8672073400507907\n",
      "2021-06-24 12:39:46,860 - INFO - mvg.mvg -   timestamp: 1571482860\n",
      "2021-06-24 12:39:46,861 - INFO - mvg.mvg -   meta data: {'sampling_rate': 13950.857142857141}\n"
     ]
    },
    {
     "name": "stdout",
     "output_type": "stream",
     "text": [
      "Read 40000 samples for u0006.\n",
      "Read u0006 meta: {'duration': 2.8672073400507907, 'meta': {}}\n",
      "Uploading C:\\Users\\Sergio\\Documents\\GitHub\\mvg\\docs\\source\\content\\examples\\va-data-charlie\\charlieDb\\acc\\u0006\\1571482860.csv\n"
     ]
    },
    {
     "name": "stderr",
     "output_type": "stream",
     "text": [
      "2021-06-24 12:39:53,516 - INFO - mvg.mvg - endpoint https://api.beta.multiviz.com\n",
      "2021-06-24 12:39:53,517 - INFO - mvg.mvg - creating measurement from source id=u0006\n",
      "2021-06-24 12:39:53,517 - INFO - mvg.mvg -   duration:  2.8672073400507907\n",
      "2021-06-24 12:39:53,518 - INFO - mvg.mvg -   timestamp: 1572350460\n",
      "2021-06-24 12:39:53,518 - INFO - mvg.mvg -   meta data: {'sampling_rate': 13950.857142857141}\n"
     ]
    },
    {
     "name": "stdout",
     "output_type": "stream",
     "text": [
      "Read 40000 samples for u0006.\n",
      "Read u0006 meta: {'duration': 2.8672073400507907, 'meta': {}}\n",
      "Uploading C:\\Users\\Sergio\\Documents\\GitHub\\mvg\\docs\\source\\content\\examples\\va-data-charlie\\charlieDb\\acc\\u0006\\1572350460.csv\n"
     ]
    },
    {
     "name": "stderr",
     "output_type": "stream",
     "text": [
      "2021-06-24 12:40:01,179 - INFO - mvg.mvg - endpoint https://api.beta.multiviz.com\n",
      "2021-06-24 12:40:01,179 - INFO - mvg.mvg - creating measurement from source id=u0006\n",
      "2021-06-24 12:40:01,179 - INFO - mvg.mvg -   duration:  2.8672073400507907\n",
      "2021-06-24 12:40:01,180 - INFO - mvg.mvg -   timestamp: 1572264060\n",
      "2021-06-24 12:40:01,180 - INFO - mvg.mvg -   meta data: {'sampling_rate': 13950.857142857141}\n"
     ]
    },
    {
     "name": "stdout",
     "output_type": "stream",
     "text": [
      "Read 40000 samples for u0006.\n",
      "Read u0006 meta: {'duration': 2.8672073400507907, 'meta': {}}\n",
      "Uploading C:\\Users\\Sergio\\Documents\\GitHub\\mvg\\docs\\source\\content\\examples\\va-data-charlie\\charlieDb\\acc\\u0006\\1572264060.csv\n"
     ]
    },
    {
     "name": "stderr",
     "output_type": "stream",
     "text": [
      "2021-06-24 12:40:08,073 - INFO - mvg.mvg - endpoint https://api.beta.multiviz.com\n",
      "2021-06-24 12:40:08,073 - INFO - mvg.mvg - creating measurement from source id=u0006\n",
      "2021-06-24 12:40:08,073 - INFO - mvg.mvg -   duration:  2.8672073400507907\n",
      "2021-06-24 12:40:08,074 - INFO - mvg.mvg -   timestamp: 1573387260\n",
      "2021-06-24 12:40:08,074 - INFO - mvg.mvg -   meta data: {'sampling_rate': 13950.857142857141}\n"
     ]
    },
    {
     "name": "stdout",
     "output_type": "stream",
     "text": [
      "Read 40000 samples for u0006.\n",
      "Read u0006 meta: {'duration': 2.8672073400507907, 'meta': {}}\n",
      "Uploading C:\\Users\\Sergio\\Documents\\GitHub\\mvg\\docs\\source\\content\\examples\\va-data-charlie\\charlieDb\\acc\\u0006\\1573387260.csv\n"
     ]
    },
    {
     "name": "stderr",
     "output_type": "stream",
     "text": [
      "2021-06-24 12:40:15,443 - INFO - mvg.mvg - endpoint https://api.beta.multiviz.com\n",
      "2021-06-24 12:40:15,444 - INFO - mvg.mvg - creating measurement from source id=u0006\n",
      "2021-06-24 12:40:15,445 - INFO - mvg.mvg -   duration:  2.8672073400507907\n",
      "2021-06-24 12:40:15,445 - INFO - mvg.mvg -   timestamp: 1571914860\n",
      "2021-06-24 12:40:15,446 - INFO - mvg.mvg -   meta data: {'sampling_rate': 13950.857142857141}\n"
     ]
    },
    {
     "name": "stdout",
     "output_type": "stream",
     "text": [
      "Read 40000 samples for u0006.\n",
      "Read u0006 meta: {'duration': 2.8672073400507907, 'meta': {}}\n",
      "Uploading C:\\Users\\Sergio\\Documents\\GitHub\\mvg\\docs\\source\\content\\examples\\va-data-charlie\\charlieDb\\acc\\u0006\\1571914860.csv\n"
     ]
    },
    {
     "name": "stderr",
     "output_type": "stream",
     "text": [
      "2021-06-24 12:40:23,134 - INFO - mvg.mvg - endpoint https://api.beta.multiviz.com\n",
      "2021-06-24 12:40:23,135 - INFO - mvg.mvg - creating measurement from source id=u0006\n",
      "2021-06-24 12:40:23,135 - INFO - mvg.mvg -   duration:  2.8672073400507907\n",
      "2021-06-24 12:40:23,136 - INFO - mvg.mvg -   timestamp: 1572087660\n",
      "2021-06-24 12:40:23,136 - INFO - mvg.mvg -   meta data: {'sampling_rate': 13950.857142857141}\n"
     ]
    },
    {
     "name": "stdout",
     "output_type": "stream",
     "text": [
      "Read 40000 samples for u0006.\n",
      "Read u0006 meta: {'duration': 2.8672073400507907, 'meta': {}}\n",
      "Uploading C:\\Users\\Sergio\\Documents\\GitHub\\mvg\\docs\\source\\content\\examples\\va-data-charlie\\charlieDb\\acc\\u0006\\1572087660.csv\n"
     ]
    },
    {
     "name": "stderr",
     "output_type": "stream",
     "text": [
      "2021-06-24 12:40:30,000 - INFO - mvg.mvg - endpoint https://api.beta.multiviz.com\n",
      "2021-06-24 12:40:30,001 - INFO - mvg.mvg - creating measurement from source id=u0006\n",
      "2021-06-24 12:40:30,001 - INFO - mvg.mvg -   duration:  2.8672073400507907\n",
      "2021-06-24 12:40:30,002 - INFO - mvg.mvg -   timestamp: 1573905660\n",
      "2021-06-24 12:40:30,002 - INFO - mvg.mvg -   meta data: {'sampling_rate': 13950.857142857141}\n"
     ]
    },
    {
     "name": "stdout",
     "output_type": "stream",
     "text": [
      "Read 40000 samples for u0006.\n",
      "Read u0006 meta: {'duration': 2.8672073400507907, 'meta': {}}\n",
      "Uploading C:\\Users\\Sergio\\Documents\\GitHub\\mvg\\docs\\source\\content\\examples\\va-data-charlie\\charlieDb\\acc\\u0006\\1573905660.csv\n"
     ]
    },
    {
     "name": "stderr",
     "output_type": "stream",
     "text": [
      "2021-06-24 12:40:37,166 - INFO - mvg.mvg - endpoint https://api.beta.multiviz.com\n",
      "2021-06-24 12:40:37,167 - INFO - mvg.mvg - creating measurement from source id=u0006\n",
      "2021-06-24 12:40:37,167 - INFO - mvg.mvg -   duration:  2.8672073400507907\n",
      "2021-06-24 12:40:37,168 - INFO - mvg.mvg -   timestamp: 1574164860\n",
      "2021-06-24 12:40:37,168 - INFO - mvg.mvg -   meta data: {'sampling_rate': 13950.857142857141}\n"
     ]
    },
    {
     "name": "stdout",
     "output_type": "stream",
     "text": [
      "Read 40000 samples for u0006.\n",
      "Read u0006 meta: {'duration': 2.8672073400507907, 'meta': {}}\n",
      "Uploading C:\\Users\\Sergio\\Documents\\GitHub\\mvg\\docs\\source\\content\\examples\\va-data-charlie\\charlieDb\\acc\\u0006\\1574164860.csv\n"
     ]
    },
    {
     "name": "stderr",
     "output_type": "stream",
     "text": [
      "2021-06-24 12:40:47,341 - INFO - mvg.mvg - endpoint https://api.beta.multiviz.com\n",
      "2021-06-24 12:40:47,342 - INFO - mvg.mvg - creating measurement from source id=u0006\n",
      "2021-06-24 12:40:47,342 - INFO - mvg.mvg -   duration:  2.8672073400507907\n",
      "2021-06-24 12:40:47,343 - INFO - mvg.mvg -   timestamp: 1573473660\n",
      "2021-06-24 12:40:47,343 - INFO - mvg.mvg -   meta data: {'sampling_rate': 13950.857142857141}\n"
     ]
    },
    {
     "name": "stdout",
     "output_type": "stream",
     "text": [
      "Read 40000 samples for u0006.\n",
      "Read u0006 meta: {'duration': 2.8672073400507907, 'meta': {}}\n",
      "Uploading C:\\Users\\Sergio\\Documents\\GitHub\\mvg\\docs\\source\\content\\examples\\va-data-charlie\\charlieDb\\acc\\u0006\\1573473660.csv\n"
     ]
    },
    {
     "name": "stderr",
     "output_type": "stream",
     "text": [
      "2021-06-24 12:40:54,497 - INFO - mvg.mvg - endpoint https://api.beta.multiviz.com\n",
      "2021-06-24 12:40:54,497 - INFO - mvg.mvg - creating measurement from source id=u0006\n",
      "2021-06-24 12:40:54,497 - INFO - mvg.mvg -   duration:  2.8672073400507907\n",
      "2021-06-24 12:40:54,498 - INFO - mvg.mvg -   timestamp: 1573560060\n",
      "2021-06-24 12:40:54,498 - INFO - mvg.mvg -   meta data: {'sampling_rate': 13950.857142857141}\n"
     ]
    },
    {
     "name": "stdout",
     "output_type": "stream",
     "text": [
      "Read 40000 samples for u0006.\n",
      "Read u0006 meta: {'duration': 2.8672073400507907, 'meta': {}}\n",
      "Uploading C:\\Users\\Sergio\\Documents\\GitHub\\mvg\\docs\\source\\content\\examples\\va-data-charlie\\charlieDb\\acc\\u0006\\1573560060.csv\n"
     ]
    },
    {
     "name": "stderr",
     "output_type": "stream",
     "text": [
      "2021-06-24 12:41:01,085 - INFO - mvg.mvg - endpoint https://api.beta.multiviz.com\n",
      "2021-06-24 12:41:01,085 - INFO - mvg.mvg - creating measurement from source id=u0006\n",
      "2021-06-24 12:41:01,085 - INFO - mvg.mvg -   duration:  2.8672073400507907\n",
      "2021-06-24 12:41:01,086 - INFO - mvg.mvg -   timestamp: 1570186860\n",
      "2021-06-24 12:41:01,086 - INFO - mvg.mvg -   meta data: {'sampling_rate': 13950.857142857141}\n"
     ]
    },
    {
     "name": "stdout",
     "output_type": "stream",
     "text": [
      "Read 40000 samples for u0006.\n",
      "Read u0006 meta: {'duration': 2.8672073400507907, 'meta': {}}\n",
      "Uploading C:\\Users\\Sergio\\Documents\\GitHub\\mvg\\docs\\source\\content\\examples\\va-data-charlie\\charlieDb\\acc\\u0006\\1570186860.csv\n"
     ]
    },
    {
     "name": "stderr",
     "output_type": "stream",
     "text": [
      "2021-06-24 12:41:08,242 - INFO - mvg.mvg - endpoint https://api.beta.multiviz.com\n",
      "2021-06-24 12:41:08,243 - INFO - mvg.mvg - creating measurement from source id=u0006\n",
      "2021-06-24 12:41:08,244 - INFO - mvg.mvg -   duration:  2.8672073400507907\n",
      "2021-06-24 12:41:08,244 - INFO - mvg.mvg -   timestamp: 1571223660\n",
      "2021-06-24 12:41:08,244 - INFO - mvg.mvg -   meta data: {'sampling_rate': 13950.857142857141}\n"
     ]
    },
    {
     "name": "stdout",
     "output_type": "stream",
     "text": [
      "Read 40000 samples for u0006.\n",
      "Read u0006 meta: {'duration': 2.8672073400507907, 'meta': {}}\n",
      "Uploading C:\\Users\\Sergio\\Documents\\GitHub\\mvg\\docs\\source\\content\\examples\\va-data-charlie\\charlieDb\\acc\\u0006\\1571223660.csv\n"
     ]
    },
    {
     "name": "stderr",
     "output_type": "stream",
     "text": [
      "2021-06-24 12:41:15,138 - INFO - mvg.mvg - endpoint https://api.beta.multiviz.com\n",
      "2021-06-24 12:41:15,139 - INFO - mvg.mvg - creating measurement from source id=u0006\n",
      "2021-06-24 12:41:15,140 - INFO - mvg.mvg -   duration:  2.8672073400507907\n",
      "2021-06-24 12:41:15,140 - INFO - mvg.mvg -   timestamp: 1572609660\n",
      "2021-06-24 12:41:15,141 - INFO - mvg.mvg -   meta data: {'sampling_rate': 13950.857142857141}\n"
     ]
    },
    {
     "name": "stdout",
     "output_type": "stream",
     "text": [
      "Read 40000 samples for u0006.\n",
      "Read u0006 meta: {'duration': 2.8672073400507907, 'meta': {}}\n",
      "Uploading C:\\Users\\Sergio\\Documents\\GitHub\\mvg\\docs\\source\\content\\examples\\va-data-charlie\\charlieDb\\acc\\u0006\\1572609660.csv\n"
     ]
    },
    {
     "name": "stderr",
     "output_type": "stream",
     "text": [
      "2021-06-24 12:41:22,009 - INFO - mvg.mvg - endpoint https://api.beta.multiviz.com\n",
      "2021-06-24 12:41:22,010 - INFO - mvg.mvg - creating measurement from source id=u0006\n",
      "2021-06-24 12:41:22,010 - INFO - mvg.mvg -   duration:  2.8672073400507907\n",
      "2021-06-24 12:41:22,011 - INFO - mvg.mvg -   timestamp: 1573992060\n",
      "2021-06-24 12:41:22,011 - INFO - mvg.mvg -   meta data: {'sampling_rate': 13950.857142857141}\n"
     ]
    },
    {
     "name": "stdout",
     "output_type": "stream",
     "text": [
      "Read 40000 samples for u0006.\n",
      "Read u0006 meta: {'duration': 2.8672073400507907, 'meta': {}}\n",
      "Uploading C:\\Users\\Sergio\\Documents\\GitHub\\mvg\\docs\\source\\content\\examples\\va-data-charlie\\charlieDb\\acc\\u0006\\1573992060.csv\n"
     ]
    },
    {
     "name": "stderr",
     "output_type": "stream",
     "text": [
      "2021-06-24 12:41:28,540 - INFO - mvg.mvg - endpoint https://api.beta.multiviz.com\n",
      "2021-06-24 12:41:28,540 - INFO - mvg.mvg - creating measurement from source id=u0006\n",
      "2021-06-24 12:41:28,541 - INFO - mvg.mvg -   duration:  2.8672073400507907\n",
      "2021-06-24 12:41:28,541 - INFO - mvg.mvg -   timestamp: 1574251260\n",
      "2021-06-24 12:41:28,542 - INFO - mvg.mvg -   meta data: {'sampling_rate': 13950.857142857141}\n"
     ]
    },
    {
     "name": "stdout",
     "output_type": "stream",
     "text": [
      "Read 40000 samples for u0006.\n",
      "Read u0006 meta: {'duration': 2.8672073400507907, 'meta': {}}\n",
      "Uploading C:\\Users\\Sergio\\Documents\\GitHub\\mvg\\docs\\source\\content\\examples\\va-data-charlie\\charlieDb\\acc\\u0006\\1574251260.csv\n"
     ]
    },
    {
     "name": "stderr",
     "output_type": "stream",
     "text": [
      "2021-06-24 12:41:35,217 - INFO - mvg.mvg - endpoint https://api.beta.multiviz.com\n",
      "2021-06-24 12:41:35,217 - INFO - mvg.mvg - creating measurement from source id=u0006\n",
      "2021-06-24 12:41:35,218 - INFO - mvg.mvg -   duration:  2.8672073400507907\n",
      "2021-06-24 12:41:35,218 - INFO - mvg.mvg -   timestamp: 1572436860\n",
      "2021-06-24 12:41:35,218 - INFO - mvg.mvg -   meta data: {'sampling_rate': 13950.857142857141}\n"
     ]
    },
    {
     "name": "stdout",
     "output_type": "stream",
     "text": [
      "Read 40000 samples for u0006.\n",
      "Read u0006 meta: {'duration': 2.8672073400507907, 'meta': {}}\n",
      "Uploading C:\\Users\\Sergio\\Documents\\GitHub\\mvg\\docs\\source\\content\\examples\\va-data-charlie\\charlieDb\\acc\\u0006\\1572436860.csv\n"
     ]
    },
    {
     "name": "stderr",
     "output_type": "stream",
     "text": [
      "2021-06-24 12:41:42,222 - INFO - mvg.mvg - endpoint https://api.beta.multiviz.com\n",
      "2021-06-24 12:41:42,223 - INFO - mvg.mvg - creating measurement from source id=u0006\n",
      "2021-06-24 12:41:42,223 - INFO - mvg.mvg -   duration:  2.8672073400507907\n",
      "2021-06-24 12:41:42,224 - INFO - mvg.mvg -   timestamp: 1573128060\n",
      "2021-06-24 12:41:42,224 - INFO - mvg.mvg -   meta data: {'sampling_rate': 13950.857142857141}\n"
     ]
    },
    {
     "name": "stdout",
     "output_type": "stream",
     "text": [
      "Read 40000 samples for u0006.\n",
      "Read u0006 meta: {'duration': 2.8672073400507907, 'meta': {}}\n",
      "Uploading C:\\Users\\Sergio\\Documents\\GitHub\\mvg\\docs\\source\\content\\examples\\va-data-charlie\\charlieDb\\acc\\u0006\\1573128060.csv\n"
     ]
    },
    {
     "name": "stderr",
     "output_type": "stream",
     "text": [
      "2021-06-24 12:41:48,821 - INFO - mvg.mvg - endpoint https://api.beta.multiviz.com\n",
      "2021-06-24 12:41:48,821 - INFO - mvg.mvg - creating measurement from source id=u0006\n",
      "2021-06-24 12:41:48,821 - INFO - mvg.mvg -   duration:  2.8672073400507907\n",
      "2021-06-24 12:41:48,822 - INFO - mvg.mvg -   timestamp: 1573041660\n",
      "2021-06-24 12:41:48,823 - INFO - mvg.mvg -   meta data: {'sampling_rate': 13950.857142857141}\n"
     ]
    },
    {
     "name": "stdout",
     "output_type": "stream",
     "text": [
      "Read 40000 samples for u0006.\n",
      "Read u0006 meta: {'duration': 2.8672073400507907, 'meta': {}}\n",
      "Uploading C:\\Users\\Sergio\\Documents\\GitHub\\mvg\\docs\\source\\content\\examples\\va-data-charlie\\charlieDb\\acc\\u0006\\1573041660.csv\n"
     ]
    },
    {
     "name": "stderr",
     "output_type": "stream",
     "text": [
      "2021-06-24 12:41:55,642 - INFO - mvg.mvg - endpoint https://api.beta.multiviz.com\n",
      "2021-06-24 12:41:55,643 - INFO - mvg.mvg - creating measurement from source id=u0006\n",
      "2021-06-24 12:41:55,644 - INFO - mvg.mvg -   duration:  2.8672073400507907\n",
      "2021-06-24 12:41:55,644 - INFO - mvg.mvg -   timestamp: 1573214460\n",
      "2021-06-24 12:41:55,644 - INFO - mvg.mvg -   meta data: {'sampling_rate': 13950.857142857141}\n"
     ]
    },
    {
     "name": "stdout",
     "output_type": "stream",
     "text": [
      "Read 40000 samples for u0006.\n",
      "Read u0006 meta: {'duration': 2.8672073400507907, 'meta': {}}\n",
      "Uploading C:\\Users\\Sergio\\Documents\\GitHub\\mvg\\docs\\source\\content\\examples\\va-data-charlie\\charlieDb\\acc\\u0006\\1573214460.csv\n"
     ]
    },
    {
     "name": "stderr",
     "output_type": "stream",
     "text": [
      "2021-06-24 12:42:02,190 - INFO - mvg.mvg - endpoint https://api.beta.multiviz.com\n",
      "2021-06-24 12:42:02,190 - INFO - mvg.mvg - creating measurement from source id=u0006\n",
      "2021-06-24 12:42:02,191 - INFO - mvg.mvg -   duration:  2.8672073400507907\n",
      "2021-06-24 12:42:02,191 - INFO - mvg.mvg -   timestamp: 1571396460\n",
      "2021-06-24 12:42:02,192 - INFO - mvg.mvg -   meta data: {'sampling_rate': 13950.857142857141}\n"
     ]
    },
    {
     "name": "stdout",
     "output_type": "stream",
     "text": [
      "Read 40000 samples for u0006.\n",
      "Read u0006 meta: {'duration': 2.8672073400507907, 'meta': {}}\n",
      "Uploading C:\\Users\\Sergio\\Documents\\GitHub\\mvg\\docs\\source\\content\\examples\\va-data-charlie\\charlieDb\\acc\\u0006\\1571396460.csv\n"
     ]
    },
    {
     "name": "stderr",
     "output_type": "stream",
     "text": [
      "2021-06-24 12:42:09,935 - INFO - mvg.mvg - endpoint https://api.beta.multiviz.com\n",
      "2021-06-24 12:42:09,936 - INFO - mvg.mvg - creating measurement from source id=u0006\n",
      "2021-06-24 12:42:09,936 - INFO - mvg.mvg -   duration:  2.8672073400507907\n",
      "2021-06-24 12:42:09,937 - INFO - mvg.mvg -   timestamp: 1573819260\n",
      "2021-06-24 12:42:09,938 - INFO - mvg.mvg -   meta data: {'sampling_rate': 13950.857142857141}\n"
     ]
    },
    {
     "name": "stdout",
     "output_type": "stream",
     "text": [
      "Read 40000 samples for u0006.\n",
      "Read u0006 meta: {'duration': 2.8672073400507907, 'meta': {}}\n",
      "Uploading C:\\Users\\Sergio\\Documents\\GitHub\\mvg\\docs\\source\\content\\examples\\va-data-charlie\\charlieDb\\acc\\u0006\\1573819260.csv\n"
     ]
    },
    {
     "name": "stderr",
     "output_type": "stream",
     "text": [
      "2021-06-24 12:42:16,652 - INFO - mvg.mvg - endpoint https://api.beta.multiviz.com\n",
      "2021-06-24 12:42:16,653 - INFO - mvg.mvg - creating measurement from source id=u0006\n",
      "2021-06-24 12:42:16,653 - INFO - mvg.mvg -   duration:  2.8672073400507907\n",
      "2021-06-24 12:42:16,654 - INFO - mvg.mvg -   timestamp: 1570359660\n",
      "2021-06-24 12:42:16,654 - INFO - mvg.mvg -   meta data: {'sampling_rate': 13950.857142857141}\n"
     ]
    },
    {
     "name": "stdout",
     "output_type": "stream",
     "text": [
      "Read 40000 samples for u0006.\n",
      "Read u0006 meta: {'duration': 2.8672073400507907, 'meta': {}}\n",
      "Uploading C:\\Users\\Sergio\\Documents\\GitHub\\mvg\\docs\\source\\content\\examples\\va-data-charlie\\charlieDb\\acc\\u0006\\1570359660.csv\n"
     ]
    },
    {
     "name": "stderr",
     "output_type": "stream",
     "text": [
      "2021-06-24 12:42:23,320 - INFO - mvg.mvg - endpoint https://api.beta.multiviz.com\n",
      "2021-06-24 12:42:23,320 - INFO - mvg.mvg - creating measurement from source id=u0006\n",
      "2021-06-24 12:42:23,320 - INFO - mvg.mvg -   duration:  2.8672073400507907\n",
      "2021-06-24 12:42:23,320 - INFO - mvg.mvg -   timestamp: 1572001260\n",
      "2021-06-24 12:42:23,321 - INFO - mvg.mvg -   meta data: {'sampling_rate': 13950.857142857141}\n"
     ]
    },
    {
     "name": "stdout",
     "output_type": "stream",
     "text": [
      "Read 40000 samples for u0006.\n",
      "Read u0006 meta: {'duration': 2.8672073400507907, 'meta': {}}\n",
      "Uploading C:\\Users\\Sergio\\Documents\\GitHub\\mvg\\docs\\source\\content\\examples\\va-data-charlie\\charlieDb\\acc\\u0006\\1572001260.csv\n"
     ]
    },
    {
     "name": "stderr",
     "output_type": "stream",
     "text": [
      "2021-06-24 12:42:30,811 - INFO - mvg.mvg - endpoint https://api.beta.multiviz.com\n",
      "2021-06-24 12:42:30,812 - INFO - mvg.mvg - creating measurement from source id=u0006\n",
      "2021-06-24 12:42:30,813 - INFO - mvg.mvg -   duration:  2.8672073400507907\n",
      "2021-06-24 12:42:30,813 - INFO - mvg.mvg -   timestamp: 1572782460\n",
      "2021-06-24 12:42:30,813 - INFO - mvg.mvg -   meta data: {'sampling_rate': 13950.857142857141}\n"
     ]
    },
    {
     "name": "stdout",
     "output_type": "stream",
     "text": [
      "Read 40000 samples for u0006.\n",
      "Read u0006 meta: {'duration': 2.8672073400507907, 'meta': {}}\n",
      "Uploading C:\\Users\\Sergio\\Documents\\GitHub\\mvg\\docs\\source\\content\\examples\\va-data-charlie\\charlieDb\\acc\\u0006\\1572782460.csv\n"
     ]
    },
    {
     "name": "stderr",
     "output_type": "stream",
     "text": [
      "2021-06-24 12:42:37,514 - INFO - mvg.mvg - endpoint https://api.beta.multiviz.com\n",
      "2021-06-24 12:42:37,515 - INFO - mvg.mvg - creating measurement from source id=u0006\n",
      "2021-06-24 12:42:37,516 - INFO - mvg.mvg -   duration:  2.8672073400507907\n",
      "2021-06-24 12:42:37,516 - INFO - mvg.mvg -   timestamp: 1574424060\n",
      "2021-06-24 12:42:37,517 - INFO - mvg.mvg -   meta data: {'sampling_rate': 13950.857142857141}\n"
     ]
    },
    {
     "name": "stdout",
     "output_type": "stream",
     "text": [
      "Read 40000 samples for u0006.\n",
      "Read u0006 meta: {'duration': 2.8672073400507907, 'meta': {}}\n",
      "Uploading C:\\Users\\Sergio\\Documents\\GitHub\\mvg\\docs\\source\\content\\examples\\va-data-charlie\\charlieDb\\acc\\u0006\\1574424060.csv\n"
     ]
    },
    {
     "name": "stderr",
     "output_type": "stream",
     "text": [
      "2021-06-24 12:42:45,832 - INFO - mvg.mvg - endpoint https://api.beta.multiviz.com\n",
      "2021-06-24 12:42:45,833 - INFO - mvg.mvg - creating measurement from source id=u0006\n",
      "2021-06-24 12:42:45,833 - INFO - mvg.mvg -   duration:  2.8672073400507907\n",
      "2021-06-24 12:42:45,834 - INFO - mvg.mvg -   timestamp: 1571137260\n",
      "2021-06-24 12:42:45,834 - INFO - mvg.mvg -   meta data: {'sampling_rate': 13950.857142857141}\n"
     ]
    },
    {
     "name": "stdout",
     "output_type": "stream",
     "text": [
      "Read 40000 samples for u0006.\n",
      "Read u0006 meta: {'duration': 2.8672073400507907, 'meta': {}}\n",
      "Uploading C:\\Users\\Sergio\\Documents\\GitHub\\mvg\\docs\\source\\content\\examples\\va-data-charlie\\charlieDb\\acc\\u0006\\1571137260.csv\n"
     ]
    },
    {
     "name": "stderr",
     "output_type": "stream",
     "text": [
      "2021-06-24 12:42:54,711 - INFO - mvg.mvg - endpoint https://api.beta.multiviz.com\n",
      "2021-06-24 12:42:54,712 - INFO - mvg.mvg - creating measurement from source id=u0006\n",
      "2021-06-24 12:42:54,713 - INFO - mvg.mvg -   duration:  2.8672073400507907\n",
      "2021-06-24 12:42:54,713 - INFO - mvg.mvg -   timestamp: 1571828460\n",
      "2021-06-24 12:42:54,713 - INFO - mvg.mvg -   meta data: {'sampling_rate': 13950.857142857141}\n"
     ]
    },
    {
     "name": "stdout",
     "output_type": "stream",
     "text": [
      "Read 40000 samples for u0006.\n",
      "Read u0006 meta: {'duration': 2.8672073400507907, 'meta': {}}\n",
      "Uploading C:\\Users\\Sergio\\Documents\\GitHub\\mvg\\docs\\source\\content\\examples\\va-data-charlie\\charlieDb\\acc\\u0006\\1571828460.csv\n"
     ]
    },
    {
     "name": "stderr",
     "output_type": "stream",
     "text": [
      "2021-06-24 12:43:02,697 - INFO - mvg.mvg - endpoint https://api.beta.multiviz.com\n",
      "2021-06-24 12:43:02,698 - INFO - mvg.mvg - creating measurement from source id=u0006\n",
      "2021-06-24 12:43:02,698 - INFO - mvg.mvg -   duration:  2.8672073400507907\n",
      "2021-06-24 12:43:02,699 - INFO - mvg.mvg -   timestamp: 1574337660\n",
      "2021-06-24 12:43:02,699 - INFO - mvg.mvg -   meta data: {'sampling_rate': 13950.857142857141}\n"
     ]
    },
    {
     "name": "stdout",
     "output_type": "stream",
     "text": [
      "Read 40000 samples for u0006.\n",
      "Read u0006 meta: {'duration': 2.8672073400507907, 'meta': {}}\n",
      "Uploading C:\\Users\\Sergio\\Documents\\GitHub\\mvg\\docs\\source\\content\\examples\\va-data-charlie\\charlieDb\\acc\\u0006\\1574337660.csv\n"
     ]
    },
    {
     "name": "stderr",
     "output_type": "stream",
     "text": [
      "2021-06-24 12:43:09,937 - INFO - mvg.mvg - endpoint https://api.beta.multiviz.com\n",
      "2021-06-24 12:43:09,937 - INFO - mvg.mvg - creating measurement from source id=u0006\n",
      "2021-06-24 12:43:09,937 - INFO - mvg.mvg -   duration:  2.8672073400507907\n",
      "2021-06-24 12:43:09,938 - INFO - mvg.mvg -   timestamp: 1572696060\n",
      "2021-06-24 12:43:09,938 - INFO - mvg.mvg -   meta data: {'sampling_rate': 13950.857142857141}\n"
     ]
    },
    {
     "name": "stdout",
     "output_type": "stream",
     "text": [
      "Read 40000 samples for u0006.\n",
      "Read u0006 meta: {'duration': 2.8672073400507907, 'meta': {}}\n",
      "Uploading C:\\Users\\Sergio\\Documents\\GitHub\\mvg\\docs\\source\\content\\examples\\va-data-charlie\\charlieDb\\acc\\u0006\\1572696060.csv\n"
     ]
    },
    {
     "name": "stderr",
     "output_type": "stream",
     "text": [
      "2021-06-24 12:43:16,958 - INFO - mvg.mvg - endpoint https://api.beta.multiviz.com\n",
      "2021-06-24 12:43:16,958 - INFO - mvg.mvg - creating measurement from source id=u0006\n",
      "2021-06-24 12:43:16,959 - INFO - mvg.mvg -   duration:  2.8672073400507907\n",
      "2021-06-24 12:43:16,959 - INFO - mvg.mvg -   timestamp: 1573646460\n",
      "2021-06-24 12:43:16,959 - INFO - mvg.mvg -   meta data: {'sampling_rate': 13950.857142857141}\n"
     ]
    },
    {
     "name": "stdout",
     "output_type": "stream",
     "text": [
      "Read 40000 samples for u0006.\n",
      "Read u0006 meta: {'duration': 2.8672073400507907, 'meta': {}}\n",
      "Uploading C:\\Users\\Sergio\\Documents\\GitHub\\mvg\\docs\\source\\content\\examples\\va-data-charlie\\charlieDb\\acc\\u0006\\1573646460.csv\n"
     ]
    },
    {
     "name": "stderr",
     "output_type": "stream",
     "text": [
      "2021-06-24 12:43:23,573 - INFO - mvg.mvg - endpoint https://api.beta.multiviz.com\n",
      "2021-06-24 12:43:23,573 - INFO - mvg.mvg - creating measurement from source id=u0006\n",
      "2021-06-24 12:43:23,574 - INFO - mvg.mvg -   duration:  2.8672073400507907\n",
      "2021-06-24 12:43:23,574 - INFO - mvg.mvg -   timestamp: 1570273260\n",
      "2021-06-24 12:43:23,575 - INFO - mvg.mvg -   meta data: {'sampling_rate': 13950.857142857141}\n"
     ]
    },
    {
     "name": "stdout",
     "output_type": "stream",
     "text": [
      "Read 40000 samples for u0006.\n",
      "Read u0006 meta: {'duration': 2.8672073400507907, 'meta': {}}\n",
      "Uploading C:\\Users\\Sergio\\Documents\\GitHub\\mvg\\docs\\source\\content\\examples\\va-data-charlie\\charlieDb\\acc\\u0006\\1570273260.csv\n"
     ]
    },
    {
     "name": "stderr",
     "output_type": "stream",
     "text": [
      "2021-06-24 12:43:31,407 - INFO - mvg.mvg - endpoint https://api.beta.multiviz.com\n",
      "2021-06-24 12:43:31,407 - INFO - mvg.mvg - creating measurement from source id=u0006\n",
      "2021-06-24 12:43:31,408 - INFO - mvg.mvg -   duration:  2.8672073400507907\n",
      "2021-06-24 12:43:31,408 - INFO - mvg.mvg -   timestamp: 1573300860\n",
      "2021-06-24 12:43:31,409 - INFO - mvg.mvg -   meta data: {'sampling_rate': 13950.857142857141}\n"
     ]
    },
    {
     "name": "stdout",
     "output_type": "stream",
     "text": [
      "Read 40000 samples for u0006.\n",
      "Read u0006 meta: {'duration': 2.8672073400507907, 'meta': {}}\n",
      "Uploading C:\\Users\\Sergio\\Documents\\GitHub\\mvg\\docs\\source\\content\\examples\\va-data-charlie\\charlieDb\\acc\\u0006\\1573300860.csv\n"
     ]
    },
    {
     "name": "stderr",
     "output_type": "stream",
     "text": [
      "2021-06-24 12:43:39,010 - INFO - mvg.mvg - endpoint https://api.beta.multiviz.com\n",
      "2021-06-24 12:43:39,010 - INFO - mvg.mvg - creating measurement from source id=u0006\n",
      "2021-06-24 12:43:39,011 - INFO - mvg.mvg -   duration:  2.8672073400507907\n",
      "2021-06-24 12:43:39,011 - INFO - mvg.mvg -   timestamp: 1571310060\n",
      "2021-06-24 12:43:39,012 - INFO - mvg.mvg -   meta data: {'sampling_rate': 13950.857142857141}\n"
     ]
    },
    {
     "name": "stdout",
     "output_type": "stream",
     "text": [
      "Read 40000 samples for u0006.\n",
      "Read u0006 meta: {'duration': 2.8672073400507907, 'meta': {}}\n",
      "Uploading C:\\Users\\Sergio\\Documents\\GitHub\\mvg\\docs\\source\\content\\examples\\va-data-charlie\\charlieDb\\acc\\u0006\\1571310060.csv\n"
     ]
    }
   ],
   "source": [
    "for SOURCE_ID in SOURCE_IDS[1:]:\n",
    "\n",
    "    NEW_SOURCE = SOURCE_ID\n",
    "\n",
    "    try:\n",
    "        print(f\"Deleting {NEW_SOURCE}\")\n",
    "        session.delete_source(NEW_SOURCE)\n",
    "    except HTTPError:\n",
    "        print(f\"Source {NEW_SOURCE} does not exist\")\n",
    "    \n",
    "    src_path = REF_DB_PATH / NEW_SOURCE\n",
    "    m_file_name = REF_DB_PATH / NEW_SOURCE / \"meta.json\"\n",
    "    with open(m_file_name, \"r\") as json_file:\n",
    "        meta = json.load(json_file)\n",
    "    session.create_source(NEW_SOURCE, meta)  # create\n",
    "\n",
    "    meas = {f.split(\".\")[0] for f in os.listdir(src_path)}\n",
    "    meas.remove(\"meta\")\n",
    "\n",
    "    for m in meas:\n",
    "\n",
    "        # samples file for one measurement\n",
    "        TS_MEAS = str(m) + \".csv\"  # filename\n",
    "        TS_MEAS = REF_DB_PATH / NEW_SOURCE / TS_MEAS  # path to file\n",
    "        ts_df = pd.read_csv(TS_MEAS, names=['acc'])  # read csv into df\n",
    "        accs = ts_df.iloc[:, 0].tolist()  # convert to list\n",
    "        print(f\"Read {len(accs)} samples for {NEW_SOURCE}.\")\n",
    "\n",
    "        # meta information file for one measurement\n",
    "        TS_META = str(m) + \".json\"  # filename\n",
    "        TS_META = REF_DB_PATH / NEW_SOURCE / TS_META  # path\n",
    "        with open(TS_META, \"r\") as json_file:  # read json\n",
    "            meas_info = json.load(json_file)  # into dict\n",
    "        print(f\"Read {NEW_SOURCE} meta: {meas_info}\")\n",
    "\n",
    "        duration = meas_info['duration']\n",
    "        meta_info = meas_info['meta']\n",
    "        meta_info['sampling_rate'] = len(accs)/duration\n",
    "\n",
    "        print(f\"Uploading {TS_MEAS}\")\n",
    "        try:\n",
    "            # see mvg for details on this call\n",
    "            session.create_measurement(sid=NEW_SOURCE,\n",
    "                                       duration=duration,\n",
    "                                       timestamp=m,\n",
    "                                       data=accs,\n",
    "                                       meta=meta_info)\n",
    "        except HTTPError as exc:\n",
    "            print(exc)\n",
    "\n",
    "\n"
   ]
  },
  {
   "cell_type": "code",
   "execution_count": null,
   "id": "d794e901",
   "metadata": {
    "collapsed": false,
    "pycharm": {
     "name": "#%%\n"
    }
   },
   "outputs": [],
   "source": []
  }
 ],
 "metadata": {
  "kernelspec": {
   "display_name": "Python 3",
   "language": "python",
   "name": "python3"
  },
  "language_info": {
   "codemirror_mode": {
    "name": "ipython",
    "version": 3
   },
   "file_extension": ".py",
   "mimetype": "text/x-python",
   "name": "python",
   "nbconvert_exporter": "python",
   "pygments_lexer": "ipython3",
   "version": "3.8.2"
  },
  "toc": {
   "base_numbering": 1,
   "nav_menu": {},
   "number_sections": true,
   "sideBar": true,
   "skip_h1_title": false,
   "title_cell": "Table of Contents",
   "title_sidebar": "Contents",
   "toc_cell": false,
   "toc_position": {
    "height": "calc(100% - 180px)",
    "left": "10px",
    "top": "150px",
    "width": "384px"
   },
   "toc_section_display": true,
   "toc_window_display": true
  },
  "varInspector": {
   "cols": {
    "lenName": 16,
    "lenType": 16,
    "lenVar": 40
   },
   "kernels_config": {
    "python": {
     "delete_cmd_postfix": "",
     "delete_cmd_prefix": "del ",
     "library": "var_list.py",
     "varRefreshCmd": "print(var_dic_list())"
    },
    "r": {
     "delete_cmd_postfix": ") ",
     "delete_cmd_prefix": "rm(",
     "library": "var_list.r",
     "varRefreshCmd": "cat(var_dic_list()) "
    }
   },
   "types_to_exclude": [
    "module",
    "function",
    "builtin_function_or_method",
    "instance",
    "_Feature"
   ],
   "window_display": false
  }
 },
 "nbformat": 4,
 "nbformat_minor": 5
}

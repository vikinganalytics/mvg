{
 "cells": [
  {
   "cell_type": "markdown",
   "metadata": {},
   "source": [
    "# Labeling of Measurements and Label Propagation\n",
    "\n",
    "MVG comes with a labeling API that allows a user to store important information about a measurement.\n",
    "There are multiple reasons why you would want to label measurements and some of the benefits include\n",
    "\n",
    "1.  Additional information about modes. For example, a mode with multiple critical measurements is likely a failure mode\n",
    "2.  Improved mode detection\n",
    "3.  As personal notes for keeping track of interesting events in the data\n",
    "\n",
    "In addition, the LabelPropagation feature enables to propagate those labels to the measurements that do not contain any labels.\n",
    "\n",
    "This example will go through what a label is in MVG, how the labeling API functions, and how to utilize the LabelPropagation feature.\n",
    "\n",
    "### Prerequisites\n",
    "\n",
    "To follow this example you need to have\n",
    "\n",
    "1. Installed `mvg` package\n",
    "2. A token for API access from Viking Analytics\n",
    "3. The database needs to be populated with our example assets. This can be achieved by running the [\"Sources and Measurement\"](2-sources_and_measurements.ipynb) example.\n",
    "4. Use of the LabelPropagation feature requires the results from ModeId. We can use the results available after running the [\"Analysis and Results Visualization\"](6-analysis_visual.ipynb) example."
   ]
  },
  {
   "cell_type": "markdown",
   "metadata": {},
   "source": [
    "## Import the required packages and functions"
   ]
  },
  {
   "cell_type": "code",
   "execution_count": null,
   "outputs": [],
   "source": [
    "import os\n",
    "from mvg import MVG\n",
    "from mvg.analysis_classes import parse_results\n",
    "from mvg.plotting import plot_labels_over_time"
   ],
   "metadata": {
    "collapsed": false,
    "pycharm": {
     "name": "#%%\n",
     "is_executing": true
    }
   }
  },
  {
   "cell_type": "markdown",
   "metadata": {},
   "source": [
    "## Create a session for API access\n",
    "\n",
    "Note that the `TOKEN` is used both for authorization and authentication. Thus, each unique token represents a unique user and each user has their own unique database on the Viking Analytics MultiViz Vibration service.\n",
    "\n",
    "**You need to insert your token received from Viking Analytics here:**"
   ]
  },
  {
   "cell_type": "code",
   "execution_count": null,
   "metadata": {},
   "outputs": [],
   "source": [
    "TOKEN = os.environ[\"TEST_TOKEN\"]\n",
    "URL = \"https://api.beta.multiviz.com\"\n",
    "session = MVG(URL, TOKEN)\n",
    "\n",
    "session.check_version()"
   ]
  },
  {
   "cell_type": "markdown",
   "source": [
    "### Retrieve ModeId results\n",
    "\n",
    "Once the API session is live, we start by checking if the source `u0001` we will use is available in the database."
   ],
   "metadata": {
    "collapsed": false
   }
  },
  {
   "cell_type": "code",
   "execution_count": null,
   "outputs": [],
   "source": [
    "SOURCE_ID = \"u0001\"\n",
    "session.get_source(SOURCE_ID)"
   ],
   "metadata": {
    "collapsed": false,
    "pycharm": {
     "name": "#%%\n"
    }
   }
  },
  {
   "cell_type": "markdown",
   "source": [
    "Now that we know that the source exists we need to check its measurements to know which ones to label.\n",
    "\n",
    "In this example, the ModeId results are used to select the measurements to label and to compare with the results from the LabelPropagation feature.\n",
    "The ModeId results are NOT needed to add a label to the measurements."
   ],
   "metadata": {
    "collapsed": false
   }
  },
  {
   "cell_type": "code",
   "execution_count": null,
   "outputs": [],
   "source": [
    "ModeId_request_id = \"5649faa234642e7207fd9800481bcb6e\"\n",
    "raw_result = session.get_analysis_results(ModeId_request_id)\n",
    "result = parse_results(raw_result, \"Europe/Stockholm\", \"s\")\n",
    "u0001_df = result.to_df()\n",
    "u0001_df.head()"
   ],
   "metadata": {
    "collapsed": false,
    "pycharm": {
     "name": "#%%\n"
    }
   }
  },
  {
   "cell_type": "code",
   "execution_count": null,
   "outputs": [],
   "source": [
    "result.plot()\n"
   ],
   "metadata": {
    "collapsed": false,
    "pycharm": {
     "name": "#%%\n"
    }
   }
  },
  {
   "cell_type": "markdown",
   "metadata": {},
   "source": [
    "## Adding labels\n",
    "\n",
    "A label in MVG relates to a specific measurement, which are identifiable by the source ID and the timestamp. Each measurement can only have one label. The label itself has three components\n",
    "\n",
    "1. A label identification string\n",
    "2. A severity level number\n",
    "3. And notes\n",
    "\n",
    ".. note:: The label identification string is unique for each label and is case and spelling sensitive, i.e. `\"failure\"` and `\"Failure\"` are not interpreted as the same label. The severity level is an integer where a larger number indicates a more severe problem. They do not need to be the same for different instances of the same label. The notes exist for the end user to add extra information to a certain label and is not used by MVG in any way."
   ]
  },
  {
   "cell_type": "markdown",
   "metadata": {},
   "source": [
    "For this example, let us say that there was a bearing failure of the machine in the first measurement of the source, so we will add a label to the afflicted measurements. To do so, we use the `MVG.create_label()` method."
   ]
  },
  {
   "cell_type": "code",
   "execution_count": null,
   "metadata": {},
   "outputs": [],
   "source": [
    "first_measurement = 1570273260\n",
    "session.create_label(\n",
    "    sid=SOURCE_ID,\n",
    "    timestamp=1570273260,\n",
    "    label=\"bearing_failure\",\n",
    "    severity=3,\n",
    "    notes=\"Imaginary bearing failure\"\n",
    ")"
   ]
  },
  {
   "cell_type": "markdown",
   "source": [
    "It might be a good idea to label more than one measurement per source.\n",
    "Therefore, we proceed to attach a label to the top 3 measurements with the largest mode probability of mode from the ModeId feature results.\n",
    "First, we create a dataframe to identify these measurements."
   ],
   "metadata": {
    "collapsed": false,
    "pycharm": {
     "name": "#%% md\n"
    }
   }
  },
  {
   "cell_type": "code",
   "execution_count": null,
   "outputs": [],
   "source": [
    "Top3meas_df = u0001_df[u0001_df.groupby('labels')['mode_probability'].rank(method='dense', ascending=False) <= 3]\n",
    "Top3meas_df"
   ],
   "metadata": {
    "collapsed": false,
    "pycharm": {
     "name": "#%%\n"
    }
   }
  },
  {
   "cell_type": "markdown",
   "source": [
    "There are three modes on the ModeId results.\n",
    "We will label measurements from mode 0 as \"Healthy\", measurements from mode 1 as \"Transition\", measurements from mode 2 as \"Faulty\"."
   ],
   "metadata": {
    "collapsed": false,
    "pycharm": {
     "name": "#%% md\n"
    }
   }
  },
  {
   "cell_type": "code",
   "execution_count": null,
   "outputs": [],
   "source": [
    "modes = Top3meas_df['labels'].unique()\n",
    "mode_dfs = {mode: Top3meas_df[Top3meas_df['labels'] == mode] for mode in modes}\n",
    "\n",
    "for mode in mode_dfs:\n",
    "    if mode == 0:\n",
    "        label_to_add = \"Healthy\"\n",
    "    elif mode == 1:\n",
    "        label_to_add = \"Transition\"\n",
    "    else:\n",
    "        label_to_add = \"Faulty\"\n",
    "    case_df = mode_dfs[mode]\n",
    "\n",
    "    for index, row in case_df.iterrows():\n",
    "        session.create_label(\n",
    "            sid=SOURCE_ID,\n",
    "            timestamp=row['timestamps'],\n",
    "            label=label_to_add,\n",
    "            severity=int(mode)+1,\n",
    "            notes=\"This is a demo.\"\n",
    "        )\n"
   ],
   "metadata": {
    "collapsed": false,
    "pycharm": {
     "name": "#%%\n"
    }
   }
  },
  {
   "cell_type": "markdown",
   "metadata": {},
   "source": [
    "## Reading Labels\n",
    "\n",
    "To get a list of all the labels for a source we use the `MVG.list_labels()` method."
   ]
  },
  {
   "cell_type": "code",
   "execution_count": null,
   "metadata": {},
   "outputs": [],
   "source": [
    "session.list_labels(SOURCE_ID)"
   ]
  },
  {
   "cell_type": "markdown",
   "metadata": {},
   "source": [
    "As you can see, the measurements that we just added labels show up. To inspect the label of a specific measurement we use `MVG.get_label()`"
   ]
  },
  {
   "cell_type": "code",
   "execution_count": null,
   "metadata": {},
   "outputs": [],
   "source": [
    "session.get_label(SOURCE_ID, first_measurement)"
   ]
  },
  {
   "cell_type": "markdown",
   "metadata": {},
   "source": [
    "## Updating labels\n",
    "\n",
    "Now we realize that the label we had in the first measurement correspond to mode 0 and the label that we originally added is incorrect.\n",
    "Then we use the `session.update_label()` method to change the label."
   ]
  },
  {
   "cell_type": "code",
   "execution_count": null,
   "metadata": {},
   "outputs": [],
   "source": [
    "\n",
    "session.update_label(\n",
    "    sid=SOURCE_ID,\n",
    "    timestamp=first_measurement,\n",
    "    label=\"healthy\",\n",
    "    severity=0,\n",
    "    notes=\"This was an OK measurement\"\n",
    ")\n",
    "\n",
    "# List the labels again\n",
    "labels = session.list_labels(SOURCE_ID)\n",
    "labels"
   ]
  },
  {
   "cell_type": "markdown",
   "metadata": {},
   "source": [
    "## Plotting labels\n",
    "\n",
    "To get an overview of the data and labels it can be very good to plot the labels over time. The `plotting` module of `mvg` contains the function `plot_labels_over_time` that does just that. The plot is very similar to that of the ModeId plots, so it is easy to compare results. We can add the `include_unlabeled=True` keyword to plot the unlabeled measurements as well."
   ]
  },
  {
   "cell_type": "code",
   "execution_count": null,
   "metadata": {},
   "outputs": [],
   "source": [
    "labels = session.list_labels(SOURCE_ID, include_unlabeled=True)\n",
    "plot_labels_over_time(labels, SOURCE_ID, timeunit=\"s\")"
   ]
  },
  {
   "cell_type": "markdown",
   "metadata": {},
   "source": [
    "As you can see we only labeled a small subset of the data. The idea is not to label all the measurements, but to label a part and then use that information to make inference about the unlabeled measurements. "
   ]
  },
  {
   "cell_type": "markdown",
   "metadata": {},
   "source": [
    "## Deleting labels\n",
    "\n",
    "Now, we check the total number of existing labels in our source."
   ]
  },
  {
   "cell_type": "code",
   "execution_count": null,
   "metadata": {},
   "outputs": [],
   "source": [
    "labels = session.list_labels(SOURCE_ID)\n",
    "print(f\"Currently, there are {len(labels)} labels\")"
   ]
  },
  {
   "cell_type": "markdown",
   "source": [
    "To delete labels we use the `MVG.delete_label()` method.\n",
    "Let's use that to remove the label from the first measurement and keep only three labels per mode."
   ],
   "metadata": {
    "collapsed": false,
    "pycharm": {
     "name": "#%% md\n"
    }
   }
  },
  {
   "cell_type": "code",
   "execution_count": null,
   "outputs": [],
   "source": [
    "session.delete_label(SOURCE_ID, first_measurement)"
   ],
   "metadata": {
    "collapsed": false,
    "pycharm": {
     "name": "#%%\n"
    }
   }
  },
  {
   "cell_type": "code",
   "execution_count": null,
   "outputs": [],
   "source": [
    "labels = session.list_labels(SOURCE_ID)\n",
    "print(f\"Currently, there are {len(labels)} labels\")"
   ],
   "metadata": {
    "collapsed": false,
    "pycharm": {
     "name": "#%%\n"
    }
   }
  },
  {
   "cell_type": "markdown",
   "source": [
    "## Label Propagation\n",
    "\n",
    "Until this point, we had added labels to some of our measurements but we might be interested on adding the labels to the rest of the measurements.\n",
    "We use the [\"LabelPropagation\"](../features/label_propagation.md) feature to achieve this.\n",
    "\n",
    "The LabelPropagation feature uses the results from the ModeId feature to propagate the labels.\n",
    "However, the labels are attached to each measurement individually and not to the modes as a whole.\n",
    "\n",
    "The use the LabelPropagation feature, we need to know which source is to be used and the `request_id` that holds the results of the ModeId feature.\n",
    "Then, we can request the analysis."
   ],
   "metadata": {
    "collapsed": false,
    "pycharm": {
     "name": "#%% md\n"
    }
   }
  },
  {
   "cell_type": "code",
   "execution_count": null,
   "outputs": [],
   "source": [
    "ModeId_request_id = \"5649faa234642e7207fd9800481bcb6e\""
   ],
   "metadata": {
    "collapsed": false,
    "pycharm": {
     "name": "#%%\n"
    }
   }
  },
  {
   "cell_type": "code",
   "execution_count": null,
   "outputs": [],
   "source": [
    "params = {\"model_ref\": ModeId_request_id}\n",
    "labelProp_u0001 = session.request_analysis(SOURCE_ID, \"LabelPropagation\", params)\n",
    "labelProp_request_id = labelProp_u0001[\"request_id\"]\n",
    "labelProp_u0001"
   ],
   "metadata": {
    "collapsed": false,
    "pycharm": {
     "name": "#%%\n"
    }
   }
  },
  {
   "cell_type": "code",
   "execution_count": null,
   "outputs": [],
   "source": [
    "out_status =  session.get_analysis_status(\"a36badb8f2788c247ae193acb3eaeb3e\")\n",
    "#out_status =  session.get_analysis_status(\"5649faa234642e7207fd9800481bcb6e\")\n",
    "out_status"
   ],
   "metadata": {
    "collapsed": false,
    "pycharm": {
     "name": "#%%\n"
    }
   }
  },
  {
   "cell_type": "markdown",
   "source": [
    "Before we are able to get the analysis results, we need to wait until those analyses are successfully completed.\n",
    "Once the analysis is complete, one gets the results by calling the corresponding “request_id” for the LabelPropagation analysis.\n",
    "The raw results can be retrieved by calling the `get_analysis_results` function."
   ],
   "metadata": {
    "collapsed": false,
    "pycharm": {
     "name": "#%% md\n"
    }
   }
  },
  {
   "cell_type": "code",
   "execution_count": null,
   "outputs": [],
   "source": [
    "labelprop_output = session.get_analysis_results(request_id=labelProp_request_id)\n",
    "labelprop_output.keys()"
   ],
   "metadata": {
    "collapsed": false,
    "pycharm": {
     "name": "#%%\n"
    }
   }
  },
  {
   "cell_type": "markdown",
   "source": [
    "The output is a dictionary that contains seven key elements.\n",
    "These elements are:\n",
    "- `\"status\"` indicates if the analysis was successful.\n",
    "- `\"request_id\"` is the identifier of the requested analysis.\n",
    "- `\"feature\"` is the name of the request feature.\n",
    "- `\"results\"` includes the numeric results.\n",
    "- `\"inputs\"` includes the input information for the request analysis.\n",
    "- `\"error_info\"` includes the error information in case the analysis fails and it is empty if the analysis is successful.\n",
    "- `\"debug_info\"` includes debugging (log) information related to the failed analysis."
   ],
   "metadata": {
    "collapsed": false,
    "pycharm": {
     "name": "#%% md\n"
    }
   }
  },
  {
   "cell_type": "markdown",
   "source": [
    "To make the results more accessible, we’ll use the analysis_classes.\n",
    "The `parse_results` function will take the raw_results of (any) analysis and represent them in a python object with a number of convenience methods for plotting and exporting.\n",
    "The parse function will automatically determine the kind (feature) of analysis based on the raw_results and based on the defined timezone convert the epoch into actual dates."
   ],
   "metadata": {
    "collapsed": false
   }
  },
  {
   "cell_type": "code",
   "execution_count": null,
   "outputs": [],
   "source": [
    "labelprop_results = parse_results(labelprop_output, \"Europe/Stockholm\", \"s\")\n"
   ],
   "metadata": {
    "collapsed": false,
    "pycharm": {
     "name": "#%%\n"
    }
   }
  },
  {
   "cell_type": "markdown",
   "source": [
    "Once we had parsed the results, we can export them to a dataframe for ease of manipulation"
   ],
   "metadata": {
    "collapsed": false,
    "pycharm": {
     "name": "#%% md\n"
    }
   }
  },
  {
   "cell_type": "code",
   "execution_count": null,
   "outputs": [],
   "source": [
    "labelprop_results.to_df()\n"
   ],
   "metadata": {
    "collapsed": false,
    "pycharm": {
     "name": "#%%\n"
    }
   }
  },
  {
   "cell_type": "markdown",
   "source": [
    "We can also display the results and visualize the labels given to the different measurements."
   ],
   "metadata": {
    "collapsed": false,
    "pycharm": {
     "name": "#%% md\n"
    }
   }
  },
  {
   "cell_type": "code",
   "execution_count": null,
   "outputs": [],
   "source": [
    "labelprop_results.plot()"
   ],
   "metadata": {
    "collapsed": false,
    "pycharm": {
     "name": "#%%\n"
    }
   }
  },
  {
   "cell_type": "markdown",
   "source": [
    "As you can see from the results BLABLABLA"
   ],
   "metadata": {
    "collapsed": false,
    "pycharm": {
     "name": "#%% md\n"
    }
   }
  }
 ],
 "metadata": {
  "interpreter": {
   "hash": "a44fa91c5dfe8381243a89b49ad51245e1b4984ebdbff837585626a5fdba33e0"
  },
  "kernelspec": {
   "display_name": "Python 3",
   "language": "python",
   "name": "python3"
  },
  "language_info": {
   "codemirror_mode": {
    "name": "ipython",
    "version": 3
   },
   "file_extension": ".py",
   "mimetype": "text/x-python",
   "name": "python",
   "nbconvert_exporter": "python",
   "pygments_lexer": "ipython3",
   "version": "3.8.2"
  }
 },
 "nbformat": 4,
 "nbformat_minor": 2
}
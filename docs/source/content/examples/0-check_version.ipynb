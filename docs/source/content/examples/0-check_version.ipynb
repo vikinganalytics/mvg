{
 "cells": [
  {
   "cell_type": "markdown",
   "id": "2c837f94",
   "metadata": {},
   "source": [
    "# Check Version Example\n",
    "\n",
    "This script shows how to check for version compatibility with server side"
   ]
  },
  {
   "cell_type": "code",
   "execution_count": 1,
   "id": "b4a7f859",
   "metadata": {
    "ExecuteTime": {
     "end_time": "2021-03-18T10:13:06.090370Z",
     "start_time": "2021-03-18T10:13:06.057958Z"
    },
    "execution": {
     "iopub.execute_input": "2022-01-12T01:06:49.059516Z",
     "iopub.status.busy": "2022-01-12T01:06:49.058509Z",
     "iopub.status.idle": "2022-01-12T01:06:49.146759Z",
     "shell.execute_reply": "2022-01-12T01:06:49.145725Z"
    }
   },
   "outputs": [],
   "source": [
    "import sys\n",
    "import logging\n",
    "\n",
    "# import mvg library with python bindings to mvg-API\n",
    "from mvg import MVG"
   ]
  },
  {
   "cell_type": "code",
   "execution_count": 2,
   "id": "cbb2ca1f",
   "metadata": {
    "ExecuteTime": {
     "end_time": "2021-03-18T10:13:06.093950Z",
     "start_time": "2021-03-18T10:13:06.091527Z"
    },
    "execution": {
     "iopub.execute_input": "2022-01-12T01:06:49.150729Z",
     "iopub.status.busy": "2022-01-12T01:06:49.150729Z",
     "iopub.status.idle": "2022-01-12T01:06:49.162728Z",
     "shell.execute_reply": "2022-01-12T01:06:49.162728Z"
    }
   },
   "outputs": [],
   "source": [
    "root_logger = logging.getLogger()\n",
    "root_logger.setLevel(\"INFO\")\n",
    "stream_handler = logging.StreamHandler(stream=sys.stderr)\n",
    "root_logger.addHandler(stream_handler)"
   ]
  },
  {
   "cell_type": "code",
   "execution_count": 3,
   "id": "73cd6d39",
   "metadata": {
    "ExecuteTime": {
     "end_time": "2021-03-18T10:13:06.382877Z",
     "start_time": "2021-03-18T10:13:06.095307Z"
    },
    "execution": {
     "iopub.execute_input": "2022-01-12T01:06:49.166730Z",
     "iopub.status.busy": "2022-01-12T01:06:49.165727Z",
     "iopub.status.idle": "2022-01-12T01:06:49.305753Z",
     "shell.execute_reply": "2022-01-12T01:06:49.304734Z"
    }
   },
   "outputs": [],
   "source": [
    "TOKEN = \"NO TOKEN\"\n",
    "ENDPOINT = \"https://api.beta.multiviz.co\"\n",
    "session = MVG(ENDPOINT, TOKEN)"
   ]
  },
  {
   "cell_type": "markdown",
   "id": "243f7257",
   "metadata": {},
   "source": [
    "It is advised to always check the version of the API against the MVG version. The `check_version` method will return a dictionary with the server API version, the mvg version and the API version the MVG version it has been tested against. If there is mismatch or incompatibility it will raise an exception and if there is a newer compatible version running on the server it will raise a warning. In the latter case, you should upgrade the MVG version (but you are not required to do so)."
   ]
  },
  {
   "cell_type": "code",
   "execution_count": 4,
   "id": "44c213a0",
   "metadata": {
    "ExecuteTime": {
     "end_time": "2021-03-18T10:13:06.387884Z",
     "start_time": "2021-03-18T10:13:06.384074Z"
    },
    "execution": {
     "iopub.execute_input": "2022-01-12T01:06:49.308725Z",
     "iopub.status.busy": "2022-01-12T01:06:49.308725Z",
     "iopub.status.idle": "2022-01-12T01:06:49.321761Z",
     "shell.execute_reply": "2022-01-12T01:06:49.320725Z"
    },
    "pycharm": {
     "name": "#%%\n"
    }
   },
   "outputs": [
    {
     "name": "stderr",
     "output_type": "stream",
     "text": [
      "Checking versions for:https://api.beta.multiviz.com\n",
      "mvg version: 0.11.2\n",
      "Highest tested API version: 0.2.10\n"
     ]
    },
    {
     "data": {
      "text/plain": [
       "{'api_version': '0.2.11',\n",
       " 'mvg_highest_tested_version': '0.2.10',\n",
       " 'mvg_version': '0.11.2'}"
      ]
     },
     "execution_count": 4,
     "metadata": {},
     "output_type": "execute_result"
    }
   ],
   "source": [
    "session.check_version()"
   ]
  }
 ],
 "metadata": {
  "kernelspec": {
   "display_name": "Python 3",
   "language": "python",
   "name": "python3"
  },
  "language_info": {
   "codemirror_mode": {
    "name": "ipython",
    "version": 3
   },
   "file_extension": ".py",
   "mimetype": "text/x-python",
   "name": "python",
   "nbconvert_exporter": "python",
   "pygments_lexer": "ipython3",
   "version": "3.8.12"
  },
  "toc": {
   "base_numbering": 1,
   "nav_menu": {},
   "number_sections": true,
   "sideBar": true,
   "skip_h1_title": false,
   "title_cell": "Table of Contents",
   "title_sidebar": "Contents",
   "toc_cell": false,
   "toc_position": {},
   "toc_section_display": true,
   "toc_window_display": false
  },
  "varInspector": {
   "cols": {
    "lenName": 16,
    "lenType": 16,
    "lenVar": 40
   },
   "kernels_config": {
    "python": {
     "delete_cmd_postfix": "",
     "delete_cmd_prefix": "del ",
     "library": "var_list.py",
     "varRefreshCmd": "print(var_dic_list())"
    },
    "r": {
     "delete_cmd_postfix": ") ",
     "delete_cmd_prefix": "rm(",
     "library": "var_list.r",
     "varRefreshCmd": "cat(var_dic_list()) "
    }
   },
   "types_to_exclude": [
    "module",
    "function",
    "builtin_function_or_method",
    "instance",
    "_Feature"
   ],
   "window_display": false
  }
 },
 "nbformat": 4,
 "nbformat_minor": 5
}

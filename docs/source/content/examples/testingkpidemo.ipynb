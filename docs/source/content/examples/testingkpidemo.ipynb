{
 "cells": [
  {
   "cell_type": "markdown",
   "source": [
    "## Imports\n"
   ],
   "metadata": {
    "collapsed": false
   }
  },
  {
   "cell_type": "code",
   "execution_count": 1,
   "outputs": [],
   "source": [
    "import json\n",
    "import os\n",
    "import sys\n",
    "from pathlib import Path\n",
    "import pandas as pd\n",
    "from requests import HTTPError"
   ],
   "metadata": {
    "collapsed": false,
    "pycharm": {
     "name": "#%%\n"
    }
   }
  },
  {
   "cell_type": "code",
   "execution_count": 2,
   "outputs": [],
   "source": [
    "from mvg import MVG"
   ],
   "metadata": {
    "collapsed": false,
    "pycharm": {
     "name": "#%%\n"
    }
   }
  },
  {
   "cell_type": "code",
   "execution_count": 3,
   "outputs": [],
   "source": [
    "#ENDPOINT = \"https://api.beta.multiviz.com\"\n",
    "ENDPOINT = \"http://127.0.0.1:8000\"\n",
    "# Replace by your own Token\n",
    "VALID_TOKEN = os.environ['TEST_TOKEN']"
   ],
   "metadata": {
    "collapsed": false,
    "pycharm": {
     "name": "#%%\n"
    }
   }
  },
  {
   "cell_type": "code",
   "execution_count": 4,
   "outputs": [],
   "source": [
    "session = MVG(ENDPOINT, VALID_TOKEN)"
   ],
   "metadata": {
    "collapsed": false,
    "pycharm": {
     "name": "#%%\n"
    }
   }
  },
  {
   "cell_type": "markdown",
   "source": [
    "We now check if the server is alive.\n",
    "The hello message contains the API version:"
   ],
   "metadata": {
    "collapsed": false
   }
  },
  {
   "cell_type": "code",
   "execution_count": 5,
   "outputs": [
    {
     "data": {
      "text/plain": "'{\"api\": {\"name\": \"MultiViz Engine API\", \"version\": \"0.0.0-dev0\", \"swagger\": \"http://127.0.0.1:8000/docs\"}}'"
     },
     "execution_count": 5,
     "metadata": {},
     "output_type": "execute_result"
    }
   ],
   "source": [
    "hello_message = json.dumps(session.say_hello())\n",
    "hello_message\n"
   ],
   "metadata": {
    "collapsed": false,
    "pycharm": {
     "name": "#%%\n"
    }
   }
  },
  {
   "cell_type": "markdown",
   "source": [
    "Checking MVG version"
   ],
   "metadata": {
    "collapsed": false
   }
  },
  {
   "cell_type": "code",
   "execution_count": 6,
   "outputs": [
    {
     "name": "stderr",
     "output_type": "stream",
     "text": [
      "Using developer API: 0.0.0-dev0. You must confirm compatibility yourself.\n"
     ]
    },
    {
     "data": {
      "text/plain": "'{\"api_version\": \"0.0.0-dev0\", \"mvg_highest_tested_version\": \"0.1.15\", \"mvg_version\": \"0.8.0\"}'"
     },
     "execution_count": 6,
     "metadata": {},
     "output_type": "execute_result"
    }
   ],
   "source": [
    "hello_message = json.dumps(session.check_version())\n",
    "hello_message"
   ],
   "metadata": {
    "collapsed": false,
    "pycharm": {
     "name": "#%%\n"
    }
   }
  },
  {
   "cell_type": "markdown",
   "source": [
    "## Sources and Measurements\n",
    "\n",
    "Before we begin, we will ensure there are no previously existing sources and if there are, we will delete them."
   ],
   "metadata": {
    "collapsed": false
   }
  },
  {
   "cell_type": "code",
   "execution_count": 7,
   "outputs": [
    {
     "name": "stdout",
     "output_type": "stream",
     "text": [
      "Retrieved sources\n",
      "{'source_id': 'u0001', 'meta': {'assetId': 'assetA', 'measPoint': 'mloc01', 'location': 'paris'}, 'properties': {'data_class': 'waveform'}}\n",
      "Deleting u0001\n"
     ]
    }
   ],
   "source": [
    "sources = session.list_sources()\n",
    "\n",
    "print(\"Retrieved sources\")\n",
    "for src in sources:\n",
    "    print(src)\n",
    "    print(f\"Deleting {src['source_id']}\")\n",
    "    session.delete_source(src['source_id'])\n"
   ],
   "metadata": {
    "collapsed": false,
    "pycharm": {
     "name": "#%%\n"
    }
   }
  },
  {
   "cell_type": "code",
   "execution_count": 8,
   "outputs": [
    {
     "data": {
      "text/plain": "'u0001'"
     },
     "execution_count": 8,
     "metadata": {},
     "output_type": "execute_result"
    }
   ],
   "source": [
    "# Path to the source folder\n",
    "#REF_DB_PATH = Path.cwd() / \"va-data-charlie\" / \"charlieDb\" / \"acc\"\n",
    "REF_DB_PATH = Path.cwd() / \"test_data\" / \"mini_charlie\"\n",
    "REF_DB_PATH\n",
    "# Definition of the source_id\n",
    "SOURCE_ID = \"u0001\"\n",
    "SOURCE_ID"
   ],
   "metadata": {
    "collapsed": false,
    "pycharm": {
     "name": "#%%\n"
    }
   }
  },
  {
   "cell_type": "code",
   "execution_count": 9,
   "outputs": [
    {
     "data": {
      "text/plain": "{'source_id': 'u0001',\n 'meta': {'assetId': 'assetJ', 'measPoint': 'mloc01', 'location': 'cancun'},\n 'properties': {'data_class': 'waveform'}}"
     },
     "execution_count": 9,
     "metadata": {},
     "output_type": "execute_result"
    }
   ],
   "source": [
    "# Create source\n",
    "src_path = REF_DB_PATH / SOURCE_ID\n",
    "meta_filename = src_path / \"meta.json\"\n",
    "with open(meta_filename, \"r\") as json_file:\n",
    "    meta = json.load(json_file)\n",
    "session.create_source(SOURCE_ID, meta)\n",
    "session.get_source(SOURCE_ID)"
   ],
   "metadata": {
    "collapsed": false,
    "pycharm": {
     "name": "#%%\n"
    }
   }
  },
  {
   "cell_type": "markdown",
   "source": [
    "List sources"
   ],
   "metadata": {
    "collapsed": false
   }
  },
  {
   "cell_type": "code",
   "execution_count": 10,
   "outputs": [
    {
     "data": {
      "text/plain": "[{'source_id': 'u0001',\n  'meta': {'assetId': 'assetJ', 'measPoint': 'mloc01', 'location': 'cancun'},\n  'properties': {'data_class': 'waveform'}}]"
     },
     "execution_count": 10,
     "metadata": {},
     "output_type": "execute_result"
    }
   ],
   "source": [
    "sources = session.list_sources()\n",
    "sources"
   ],
   "metadata": {
    "collapsed": false,
    "pycharm": {
     "name": "#%%\n"
    }
   }
  },
  {
   "cell_type": "code",
   "execution_count": 11,
   "outputs": [],
   "source": [
    "# meas is a list of timestamps representing the measurements in our repo\n",
    "meas = {f.split(\".\")[0] for f in os.listdir(src_path)}\n",
    "# We remove the \"meta\" file from this list\n",
    "meas.remove(\"meta\")\n"
   ],
   "metadata": {
    "collapsed": false,
    "pycharm": {
     "name": "#%%\n"
    }
   }
  },
  {
   "cell_type": "code",
   "execution_count": 12,
   "outputs": [
    {
     "name": "stdout",
     "output_type": "stream",
     "text": [
      "Read 40000 samples\n",
      "Read meta:{'duration': 2.8672073400507907, 'meta': {}}\n",
      "Uploading C:\\Users\\Sergio\\Documents\\GitHub\\mvg\\docs\\source\\content\\examples\\test_data\\mini_charlie\\u0001\\1573214460.csv\n",
      "Read 40000 samples\n",
      "Read meta:{'duration': 2.8672073400507907, 'meta': {}}\n",
      "Uploading C:\\Users\\Sergio\\Documents\\GitHub\\mvg\\docs\\source\\content\\examples\\test_data\\mini_charlie\\u0001\\1574337660.csv\n",
      "Read 40000 samples\n",
      "Read meta:{'duration': 2.8672073400507907, 'meta': {}}\n",
      "Uploading C:\\Users\\Sergio\\Documents\\GitHub\\mvg\\docs\\source\\content\\examples\\test_data\\mini_charlie\\u0001\\1571828460.csv\n",
      "Read 40000 samples\n",
      "Read meta:{'duration': 2.8672073400507907, 'meta': {}}\n",
      "Uploading C:\\Users\\Sergio\\Documents\\GitHub\\mvg\\docs\\source\\content\\examples\\test_data\\mini_charlie\\u0001\\1573646460.csv\n",
      "Read 40000 samples\n",
      "Read meta:{'duration': 2.8672073400507907, 'meta': {}}\n",
      "Uploading C:\\Users\\Sergio\\Documents\\GitHub\\mvg\\docs\\source\\content\\examples\\test_data\\mini_charlie\\u0001\\1573300860.csv\n",
      "Read 40000 samples\n",
      "Read meta:{'duration': 2.8672073400507907, 'meta': {}}\n",
      "Uploading C:\\Users\\Sergio\\Documents\\GitHub\\mvg\\docs\\source\\content\\examples\\test_data\\mini_charlie\\u0001\\1572436860.csv\n",
      "Read 40000 samples\n",
      "Read meta:{'duration': 2.8672073400507907, 'meta': {}}\n",
      "Uploading C:\\Users\\Sergio\\Documents\\GitHub\\mvg\\docs\\source\\content\\examples\\test_data\\mini_charlie\\u0001\\1573992060.csv\n",
      "Read 40000 samples\n",
      "Read meta:{'duration': 2.8672073400507907, 'meta': {}}\n",
      "Uploading C:\\Users\\Sergio\\Documents\\GitHub\\mvg\\docs\\source\\content\\examples\\test_data\\mini_charlie\\u0001\\1571223660.csv\n",
      "Read 40000 samples\n",
      "Read meta:{'duration': 2.8672073400507907, 'meta': {}}\n",
      "Uploading C:\\Users\\Sergio\\Documents\\GitHub\\mvg\\docs\\source\\content\\examples\\test_data\\mini_charlie\\u0001\\1572350460.csv\n",
      "Read 40000 samples\n",
      "Read meta:{'duration': 2.8672073400507907, 'meta': {}}\n",
      "Uploading C:\\Users\\Sergio\\Documents\\GitHub\\mvg\\docs\\source\\content\\examples\\test_data\\mini_charlie\\u0001\\1572955260.csv\n",
      "Read 40000 samples\n",
      "Read meta:{'duration': 2.8672073400507907, 'meta': {}}\n",
      "Uploading C:\\Users\\Sergio\\Documents\\GitHub\\mvg\\docs\\source\\content\\examples\\test_data\\mini_charlie\\u0001\\1572696060.csv\n",
      "Read 40000 samples\n",
      "Read meta:{'duration': 2.8672073400507907, 'meta': {}}\n",
      "Uploading C:\\Users\\Sergio\\Documents\\GitHub\\mvg\\docs\\source\\content\\examples\\test_data\\mini_charlie\\u0001\\1573819260.csv\n",
      "Read 40000 samples\n",
      "Read meta:{'duration': 2.8672073400507907, 'meta': {}}\n",
      "Uploading C:\\Users\\Sergio\\Documents\\GitHub\\mvg\\docs\\source\\content\\examples\\test_data\\mini_charlie\\u0001\\1571137260.csv\n",
      "Read 40000 samples\n",
      "Read meta:{'duration': 2.8672073400507907, 'meta': {}}\n",
      "Uploading C:\\Users\\Sergio\\Documents\\GitHub\\mvg\\docs\\source\\content\\examples\\test_data\\mini_charlie\\u0001\\1570186860.csv\n",
      "Read 40000 samples\n",
      "Read meta:{'duration': 2.8672073400507907, 'meta': {}}\n",
      "Uploading C:\\Users\\Sergio\\Documents\\GitHub\\mvg\\docs\\source\\content\\examples\\test_data\\mini_charlie\\u0001\\1570359660.csv\n",
      "Read 40000 samples\n",
      "Read meta:{'duration': 2.8672073400507907, 'meta': {}}\n",
      "Uploading C:\\Users\\Sergio\\Documents\\GitHub\\mvg\\docs\\source\\content\\examples\\test_data\\mini_charlie\\u0001\\1573473660.csv\n",
      "Read 40000 samples\n",
      "Read meta:{'duration': 2.8672073400507907, 'meta': {}}\n",
      "Uploading C:\\Users\\Sergio\\Documents\\GitHub\\mvg\\docs\\source\\content\\examples\\test_data\\mini_charlie\\u0001\\1571914860.csv\n",
      "Read 40000 samples\n",
      "Read meta:{'duration': 2.8672073400507907, 'meta': {}}\n",
      "Uploading C:\\Users\\Sergio\\Documents\\GitHub\\mvg\\docs\\source\\content\\examples\\test_data\\mini_charlie\\u0001\\1570446060.csv\n",
      "Read 40000 samples\n",
      "Read meta:{'duration': 2.8672073400507907, 'meta': {}}\n",
      "Uploading C:\\Users\\Sergio\\Documents\\GitHub\\mvg\\docs\\source\\content\\examples\\test_data\\mini_charlie\\u0001\\1573905660.csv\n",
      "Read 40000 samples\n",
      "Read meta:{'duration': 2.8672073400507907, 'meta': {}}\n",
      "Uploading C:\\Users\\Sergio\\Documents\\GitHub\\mvg\\docs\\source\\content\\examples\\test_data\\mini_charlie\\u0001\\1574078460.csv\n",
      "Read 40000 samples\n",
      "Read meta:{'duration': 2.8672073400507907, 'meta': {}}\n",
      "Uploading C:\\Users\\Sergio\\Documents\\GitHub\\mvg\\docs\\source\\content\\examples\\test_data\\mini_charlie\\u0001\\1571310060.csv\n",
      "Read 40000 samples\n",
      "Read meta:{'duration': 2.8672073400507907, 'meta': {}}\n",
      "Uploading C:\\Users\\Sergio\\Documents\\GitHub\\mvg\\docs\\source\\content\\examples\\test_data\\mini_charlie\\u0001\\1570791660.csv\n",
      "Read 40000 samples\n",
      "Read meta:{'duration': 2.8672073400507907, 'meta': {}}\n",
      "Uploading C:\\Users\\Sergio\\Documents\\GitHub\\mvg\\docs\\source\\content\\examples\\test_data\\mini_charlie\\u0001\\1573732860.csv\n",
      "Read 40000 samples\n",
      "Read meta:{'duration': 2.8672073400507907, 'meta': {}}\n",
      "Uploading C:\\Users\\Sergio\\Documents\\GitHub\\mvg\\docs\\source\\content\\examples\\test_data\\mini_charlie\\u0001\\1574251260.csv\n",
      "Read 40000 samples\n",
      "Read meta:{'duration': 2.8672073400507907, 'meta': {}}\n",
      "Uploading C:\\Users\\Sergio\\Documents\\GitHub\\mvg\\docs\\source\\content\\examples\\test_data\\mini_charlie\\u0001\\1572868860.csv\n",
      "Read 40000 samples\n",
      "Read meta:{'duration': 2.8672073400507907, 'meta': {}}\n",
      "Uploading C:\\Users\\Sergio\\Documents\\GitHub\\mvg\\docs\\source\\content\\examples\\test_data\\mini_charlie\\u0001\\1571050860.csv\n",
      "Read 40000 samples\n",
      "Read meta:{'duration': 2.8672073400507907, 'meta': {}}\n",
      "Uploading C:\\Users\\Sergio\\Documents\\GitHub\\mvg\\docs\\source\\content\\examples\\test_data\\mini_charlie\\u0001\\1572782460.csv\n",
      "Read 40000 samples\n",
      "Read meta:{'duration': 2.8672073400507907, 'meta': {}}\n",
      "Uploading C:\\Users\\Sergio\\Documents\\GitHub\\mvg\\docs\\source\\content\\examples\\test_data\\mini_charlie\\u0001\\1570878060.csv\n",
      "Read 40000 samples\n",
      "Read meta:{'duration': 2.8672073400507907, 'meta': {}}\n",
      "Uploading C:\\Users\\Sergio\\Documents\\GitHub\\mvg\\docs\\source\\content\\examples\\test_data\\mini_charlie\\u0001\\1570705260.csv\n",
      "Read 40000 samples\n",
      "Read meta:{'duration': 2.8672073400507907, 'meta': {}}\n",
      "Uploading C:\\Users\\Sergio\\Documents\\GitHub\\mvg\\docs\\source\\content\\examples\\test_data\\mini_charlie\\u0001\\1572523260.csv\n",
      "Read 40000 samples\n",
      "Read meta:{'duration': 2.8672073400507907, 'meta': {}}\n",
      "Uploading C:\\Users\\Sergio\\Documents\\GitHub\\mvg\\docs\\source\\content\\examples\\test_data\\mini_charlie\\u0001\\1571396460.csv\n",
      "Read 40000 samples\n",
      "Read meta:{'duration': 2.8672073400507907, 'meta': {}}\n",
      "Uploading C:\\Users\\Sergio\\Documents\\GitHub\\mvg\\docs\\source\\content\\examples\\test_data\\mini_charlie\\u0001\\1572609660.csv\n",
      "Read 40000 samples\n",
      "Read meta:{'duration': 2.8672073400507907, 'meta': {}}\n",
      "Uploading C:\\Users\\Sergio\\Documents\\GitHub\\mvg\\docs\\source\\content\\examples\\test_data\\mini_charlie\\u0001\\1573128060.csv\n",
      "Read 40000 samples\n",
      "Read meta:{'duration': 2.8672073400507907, 'meta': {}}\n",
      "Uploading C:\\Users\\Sergio\\Documents\\GitHub\\mvg\\docs\\source\\content\\examples\\test_data\\mini_charlie\\u0001\\1573560060.csv\n",
      "Read 40000 samples\n",
      "Read meta:{'duration': 2.8672073400507907, 'meta': {}}\n",
      "Uploading C:\\Users\\Sergio\\Documents\\GitHub\\mvg\\docs\\source\\content\\examples\\test_data\\mini_charlie\\u0001\\1570273260.csv\n",
      "Read 40000 samples\n",
      "Read meta:{'duration': 2.8672073400507907, 'meta': {}}\n",
      "Uploading C:\\Users\\Sergio\\Documents\\GitHub\\mvg\\docs\\source\\content\\examples\\test_data\\mini_charlie\\u0001\\1570964460.csv\n",
      "Read 40000 samples\n",
      "Read meta:{'duration': 2.8672073400507907, 'meta': {}}\n",
      "Uploading C:\\Users\\Sergio\\Documents\\GitHub\\mvg\\docs\\source\\content\\examples\\test_data\\mini_charlie\\u0001\\1572087660.csv\n",
      "Read 40000 samples\n",
      "Read meta:{'duration': 2.8672073400507907, 'meta': {}}\n",
      "Uploading C:\\Users\\Sergio\\Documents\\GitHub\\mvg\\docs\\source\\content\\examples\\test_data\\mini_charlie\\u0001\\1571482860.csv\n",
      "Read 40000 samples\n",
      "Read meta:{'duration': 2.8672073400507907, 'meta': {}}\n",
      "Uploading C:\\Users\\Sergio\\Documents\\GitHub\\mvg\\docs\\source\\content\\examples\\test_data\\mini_charlie\\u0001\\1572001260.csv\n",
      "Read 40000 samples\n",
      "Read meta:{'duration': 2.8672073400507907, 'meta': {}}\n",
      "Uploading C:\\Users\\Sergio\\Documents\\GitHub\\mvg\\docs\\source\\content\\examples\\test_data\\mini_charlie\\u0001\\1574424060.csv\n",
      "Read 40000 samples\n",
      "Read meta:{'duration': 2.8672073400507907, 'meta': {}}\n",
      "Uploading C:\\Users\\Sergio\\Documents\\GitHub\\mvg\\docs\\source\\content\\examples\\test_data\\mini_charlie\\u0001\\1572177660.csv\n",
      "Read 40000 samples\n",
      "Read meta:{'duration': 2.8672073400507907, 'meta': {}}\n",
      "Uploading C:\\Users\\Sergio\\Documents\\GitHub\\mvg\\docs\\source\\content\\examples\\test_data\\mini_charlie\\u0001\\1573387260.csv\n",
      "Read 40000 samples\n",
      "Read meta:{'duration': 2.8672073400507907, 'meta': {}}\n",
      "Uploading C:\\Users\\Sergio\\Documents\\GitHub\\mvg\\docs\\source\\content\\examples\\test_data\\mini_charlie\\u0001\\1570532460.csv\n",
      "Read 40000 samples\n",
      "Read meta:{'duration': 2.8672073400507907, 'meta': {}}\n",
      "Uploading C:\\Users\\Sergio\\Documents\\GitHub\\mvg\\docs\\source\\content\\examples\\test_data\\mini_charlie\\u0001\\1570618860.csv\n",
      "Read 40000 samples\n",
      "Read meta:{'duration': 2.8672073400507907, 'meta': {}}\n",
      "Uploading C:\\Users\\Sergio\\Documents\\GitHub\\mvg\\docs\\source\\content\\examples\\test_data\\mini_charlie\\u0001\\1573041660.csv\n",
      "Read 40000 samples\n",
      "Read meta:{'duration': 2.8672073400507907, 'meta': {}}\n",
      "Uploading C:\\Users\\Sergio\\Documents\\GitHub\\mvg\\docs\\source\\content\\examples\\test_data\\mini_charlie\\u0001\\1572264060.csv\n",
      "Read 40000 samples\n",
      "Read meta:{'duration': 2.8672073400507907, 'meta': {}}\n",
      "Uploading C:\\Users\\Sergio\\Documents\\GitHub\\mvg\\docs\\source\\content\\examples\\test_data\\mini_charlie\\u0001\\1574164860.csv\n"
     ]
    }
   ],
   "source": [
    "# We iterate over all of elements in this list\n",
    "for m in meas:\n",
    "\n",
    "    # raw data per measurement\n",
    "    TS_MEAS = str(m) + \".csv\"  # filename\n",
    "    TS_MEAS = REF_DB_PATH / SOURCE_ID / TS_MEAS  # path to file\n",
    "    ts_df = pd.read_csv(TS_MEAS, names=['acc'])  # read csv into df\n",
    "    accs = ts_df.iloc[:, 0].tolist()  # convert to list\n",
    "    print(f\"Read {len(accs)} samples\")\n",
    "\n",
    "    # meta information file per measurement\n",
    "    TS_META = str(m) + \".json\"  # filename\n",
    "    TS_META = REF_DB_PATH / SOURCE_ID / TS_META  # path\n",
    "    with open(TS_META, \"r\") as json_file:  # read json\n",
    "        meas_info = json.load(json_file)  # into dict\n",
    "    print(f\"Read meta:{meas_info}\")\n",
    "\n",
    "    # get duration and other meta info\n",
    "    duration = meas_info['duration']\n",
    "    meta_info = meas_info['meta']\n",
    "\n",
    "    # Upload measurements\n",
    "    print(f\"Uploading {TS_MEAS}\")\n",
    "    try:\n",
    "        session.create_measurement(sid=SOURCE_ID,\n",
    "                                   duration=duration,\n",
    "                                   timestamp=m,\n",
    "                                   data=accs,\n",
    "                                   meta=meta_info)\n",
    "    except HTTPError as exc:\n",
    "        print(exc)\n"
   ],
   "metadata": {
    "collapsed": false,
    "pycharm": {
     "name": "#%%\n"
    }
   }
  },
  {
   "cell_type": "markdown",
   "source": [
    "Check if we actually created the measurements by reading them."
   ],
   "metadata": {
    "collapsed": false
   }
  },
  {
   "cell_type": "code",
   "execution_count": 13,
   "outputs": [
    {
     "name": "stdout",
     "output_type": "stream",
     "text": [
      "Read 47 stored measurements\n"
     ]
    }
   ],
   "source": [
    "m = session.list_measurements(SOURCE_ID)\n",
    "print(f\"Read {len(m)} stored measurements\")\n"
   ],
   "metadata": {
    "collapsed": false,
    "pycharm": {
     "name": "#%%\n"
    }
   }
  },
  {
   "cell_type": "markdown",
   "source": [
    "## Analysis\n",
    "\n",
    "We begin by listing all the features available in the service."
   ],
   "metadata": {
    "collapsed": false
   }
  },
  {
   "cell_type": "code",
   "execution_count": 14,
   "outputs": [
    {
     "data": {
      "text/plain": "{'RMS': '1.0.0', 'ModeId': '0.1.1', 'BlackSheep': '1.0.0', 'KPIDemo': '1.0.0'}"
     },
     "execution_count": 14,
     "metadata": {},
     "output_type": "execute_result"
    }
   ],
   "source": [
    "available_features = session.supported_features()\n",
    "available_features\n"
   ],
   "metadata": {
    "collapsed": false,
    "pycharm": {
     "name": "#%%\n"
    }
   }
  },
  {
   "cell_type": "markdown",
   "source": [
    "### KPIDemo"
   ],
   "metadata": {
    "collapsed": false,
    "pycharm": {
     "name": "#%% md\n"
    }
   }
  },
  {
   "cell_type": "markdown",
   "source": [
    "Request KPIDemo analysis"
   ],
   "metadata": {
    "collapsed": false
   }
  },
  {
   "cell_type": "code",
   "execution_count": 15,
   "outputs": [
    {
     "data": {
      "text/plain": "{'request_id': '45f202227d51402eb7e71efd58370415', 'request_status': 'queued'}"
     },
     "execution_count": 15,
     "metadata": {},
     "output_type": "execute_result"
    }
   ],
   "source": [
    "KPI_u0001 = session.request_analysis(SOURCE_ID, 'KPIDemo')\n",
    "KPI_u0001"
   ],
   "metadata": {
    "collapsed": false,
    "pycharm": {
     "name": "#%%\n"
    }
   }
  },
  {
   "cell_type": "code",
   "execution_count": 16,
   "outputs": [
    {
     "name": "stdout",
     "output_type": "stream",
     "text": [
      "KPIDemo Analysis: successful\n"
     ]
    }
   ],
   "source": [
    "REQUEST_ID_KPI_u0001 = KPI_u0001['request_id']\n",
    "status = session.get_analysis_status(REQUEST_ID_KPI_u0001)\n",
    "print(f\"KPIDemo Analysis: {status}\")\n"
   ],
   "metadata": {
    "collapsed": false,
    "pycharm": {
     "name": "#%%\n"
    }
   }
  },
  {
   "cell_type": "code",
   "execution_count": 17,
   "outputs": [
    {
     "data": {
      "text/plain": "dict_keys(['status', 'request_id', 'feature', 'results', 'inputs', 'error_info', 'debug_info'])"
     },
     "execution_count": 17,
     "metadata": {},
     "output_type": "execute_result"
    }
   ],
   "source": [
    "kpi_results = session.get_analysis_results(request_id=REQUEST_ID_KPI_u0001)\n",
    "\n",
    "kpi_results.keys()\n"
   ],
   "metadata": {
    "collapsed": false,
    "pycharm": {
     "name": "#%%\n"
    }
   }
  },
  {
   "cell_type": "markdown",
   "source": [
    "### Visualization"
   ],
   "metadata": {
    "collapsed": false
   }
  },
  {
   "cell_type": "code",
   "execution_count": 19,
   "outputs": [],
   "source": [
    "from mvg import analysis_classes"
   ],
   "metadata": {
    "collapsed": false,
    "pycharm": {
     "name": "#%%\n"
    }
   }
  },
  {
   "cell_type": "code",
   "execution_count": 33,
   "outputs": [],
   "source": [
    "#kpi_results_parsed = analysis_classes.parse_results(kpi_results)\n",
    "kpi_results_parsed = analysis_classes.parse_results(kpi_results, t_zone=\"Europe/Stockholm\", t_unit=\"s\")"
   ],
   "metadata": {
    "collapsed": false,
    "pycharm": {
     "name": "#%%\n"
    }
   }
  },
  {
   "cell_type": "markdown",
   "source": [
    "From here, we can call these results into a Pandas dataframe."
   ],
   "metadata": {
    "collapsed": false
   }
  },
  {
   "cell_type": "code",
   "execution_count": 34,
   "outputs": [
    {
     "data": {
      "text/plain": "        rms      peak  peak2peak  variance  crest_factor  utilization  \\\n0  0.484976  2.260088   4.586670  0.235202      4.797310            1   \n1  0.485104  2.287657   4.593750  0.235326      4.753810            1   \n2  0.485239  2.243377   4.527527  0.235457      4.707268            1   \n3  0.485225  2.332046   4.654236  0.235444      4.806110            1   \n4  0.485088  2.285862   4.603882  0.235310      4.778556            1   \n\n   dc_component  timestamps                  datetime  \n0     -0.114825  1570186860 2019-10-04 13:01:00+02:00  \n1     -0.114500  1570273260 2019-10-05 13:01:00+02:00  \n2     -0.115203  1570359660 2019-10-06 13:01:00+02:00  \n3     -0.114761  1570446060 2019-10-07 13:01:00+02:00  \n4     -0.114598  1570532460 2019-10-08 13:01:00+02:00  ",
      "text/html": "<div>\n<style scoped>\n    .dataframe tbody tr th:only-of-type {\n        vertical-align: middle;\n    }\n\n    .dataframe tbody tr th {\n        vertical-align: top;\n    }\n\n    .dataframe thead th {\n        text-align: right;\n    }\n</style>\n<table border=\"1\" class=\"dataframe\">\n  <thead>\n    <tr style=\"text-align: right;\">\n      <th></th>\n      <th>rms</th>\n      <th>peak</th>\n      <th>peak2peak</th>\n      <th>variance</th>\n      <th>crest_factor</th>\n      <th>utilization</th>\n      <th>dc_component</th>\n      <th>timestamps</th>\n      <th>datetime</th>\n    </tr>\n  </thead>\n  <tbody>\n    <tr>\n      <th>0</th>\n      <td>0.484976</td>\n      <td>2.260088</td>\n      <td>4.586670</td>\n      <td>0.235202</td>\n      <td>4.797310</td>\n      <td>1</td>\n      <td>-0.114825</td>\n      <td>1570186860</td>\n      <td>2019-10-04 13:01:00+02:00</td>\n    </tr>\n    <tr>\n      <th>1</th>\n      <td>0.485104</td>\n      <td>2.287657</td>\n      <td>4.593750</td>\n      <td>0.235326</td>\n      <td>4.753810</td>\n      <td>1</td>\n      <td>-0.114500</td>\n      <td>1570273260</td>\n      <td>2019-10-05 13:01:00+02:00</td>\n    </tr>\n    <tr>\n      <th>2</th>\n      <td>0.485239</td>\n      <td>2.243377</td>\n      <td>4.527527</td>\n      <td>0.235457</td>\n      <td>4.707268</td>\n      <td>1</td>\n      <td>-0.115203</td>\n      <td>1570359660</td>\n      <td>2019-10-06 13:01:00+02:00</td>\n    </tr>\n    <tr>\n      <th>3</th>\n      <td>0.485225</td>\n      <td>2.332046</td>\n      <td>4.654236</td>\n      <td>0.235444</td>\n      <td>4.806110</td>\n      <td>1</td>\n      <td>-0.114761</td>\n      <td>1570446060</td>\n      <td>2019-10-07 13:01:00+02:00</td>\n    </tr>\n    <tr>\n      <th>4</th>\n      <td>0.485088</td>\n      <td>2.285862</td>\n      <td>4.603882</td>\n      <td>0.235310</td>\n      <td>4.778556</td>\n      <td>1</td>\n      <td>-0.114598</td>\n      <td>1570532460</td>\n      <td>2019-10-08 13:01:00+02:00</td>\n    </tr>\n  </tbody>\n</table>\n</div>"
     },
     "execution_count": 34,
     "metadata": {},
     "output_type": "execute_result"
    }
   ],
   "source": [
    "df_rms = kpi_results_parsed.to_df()\n",
    "df_rms.head()\n"
   ],
   "metadata": {
    "collapsed": false,
    "pycharm": {
     "name": "#%%\n"
    }
   }
  },
  {
   "cell_type": "code",
   "execution_count": 22,
   "outputs": [
    {
     "name": "stdout",
     "output_type": "stream",
     "text": [
      "=== KPIDemo ===\n",
      "request_id 45f202227d51402eb7e71efd58370415\n",
      "from 1570186860 to 1574424060\n",
      "\n",
      "+-------+------------+-----------+-------------+-------------+----------------+---------------+----------------+--------------+\n",
      "|       |        rms |      peak |   peak2peak |    variance |   crest_factor |   utilization |   dc_component |   timestamps |\n",
      "|-------+------------+-----------+-------------+-------------+----------------+---------------+----------------+--------------|\n",
      "| count | 47         | 47        |   47        | 47          |       47       |     47        |   47           | 47           |\n",
      "| mean  |  0.253604  |  1.18052  |    2.3696   |  0.111436   |        4.52285 |      0.468085 |   -0.0536976   |  1.57235e+09 |\n",
      "| std   |  0.219421  |  1.04772  |    2.10471  |  0.117385   |        0.31278 |      0.504375 |    0.0578918   |  1.29009e+06 |\n",
      "| min   |  0.0496268 |  0.188155 |    0.38385  |  0.00246282 |        3.8463  |      0        |   -0.115203    |  1.57019e+09 |\n",
      "| 25%   |  0.0499496 |  0.207265 |    0.415436 |  0.00249496 |        4.28208 |      0        |   -0.114676    |  1.57118e+09 |\n",
      "| 50%   |  0.0502101 |  0.230495 |    0.451538 |  0.00252105 |        4.70727 |      0        |   -0.000432826 |  1.57244e+09 |\n",
      "| 75%   |  0.484982  |  2.28279  |    4.58701  |  0.235207   |        4.78871 |      1        |    3.13713e-05 |  1.57343e+09 |\n",
      "| max   |  0.485722  |  2.39492  |    4.6825   |  0.235926   |        4.98007 |      1        |    0.000476762 |  1.57442e+09 |\n",
      "+-------+------------+-----------+-------------+-------------+----------------+---------------+----------------+--------------+\n"
     ]
    },
    {
     "data": {
      "text/plain": "             rms       peak  peak2peak   variance  crest_factor  utilization  \\\ncount  47.000000  47.000000  47.000000  47.000000     47.000000    47.000000   \nmean    0.253604   1.180520   2.369598   0.111436      4.522848     0.468085   \nstd     0.219421   1.047721   2.104707   0.117385      0.312780     0.504375   \nmin     0.049627   0.188155   0.383850   0.002463      3.846298     0.000000   \n25%     0.049950   0.207265   0.415436   0.002495      4.282076     0.000000   \n50%     0.050210   0.230495   0.451538   0.002521      4.707268     0.000000   \n75%     0.484982   2.282787   4.587006   0.235207      4.788712     1.000000   \nmax     0.485722   2.394923   4.682495   0.235926      4.980073     1.000000   \n\n       dc_component    timestamps  \ncount     47.000000  4.700000e+01  \nmean      -0.053698  1.572347e+09  \nstd        0.057892  1.290089e+06  \nmin       -0.115203  1.570187e+09  \n25%       -0.114676  1.571180e+09  \n50%       -0.000433  1.572437e+09  \n75%        0.000031  1.573430e+09  \nmax        0.000477  1.574424e+09  ",
      "text/html": "<div>\n<style scoped>\n    .dataframe tbody tr th:only-of-type {\n        vertical-align: middle;\n    }\n\n    .dataframe tbody tr th {\n        vertical-align: top;\n    }\n\n    .dataframe thead th {\n        text-align: right;\n    }\n</style>\n<table border=\"1\" class=\"dataframe\">\n  <thead>\n    <tr style=\"text-align: right;\">\n      <th></th>\n      <th>rms</th>\n      <th>peak</th>\n      <th>peak2peak</th>\n      <th>variance</th>\n      <th>crest_factor</th>\n      <th>utilization</th>\n      <th>dc_component</th>\n      <th>timestamps</th>\n    </tr>\n  </thead>\n  <tbody>\n    <tr>\n      <th>count</th>\n      <td>47.000000</td>\n      <td>47.000000</td>\n      <td>47.000000</td>\n      <td>47.000000</td>\n      <td>47.000000</td>\n      <td>47.000000</td>\n      <td>47.000000</td>\n      <td>4.700000e+01</td>\n    </tr>\n    <tr>\n      <th>mean</th>\n      <td>0.253604</td>\n      <td>1.180520</td>\n      <td>2.369598</td>\n      <td>0.111436</td>\n      <td>4.522848</td>\n      <td>0.468085</td>\n      <td>-0.053698</td>\n      <td>1.572347e+09</td>\n    </tr>\n    <tr>\n      <th>std</th>\n      <td>0.219421</td>\n      <td>1.047721</td>\n      <td>2.104707</td>\n      <td>0.117385</td>\n      <td>0.312780</td>\n      <td>0.504375</td>\n      <td>0.057892</td>\n      <td>1.290089e+06</td>\n    </tr>\n    <tr>\n      <th>min</th>\n      <td>0.049627</td>\n      <td>0.188155</td>\n      <td>0.383850</td>\n      <td>0.002463</td>\n      <td>3.846298</td>\n      <td>0.000000</td>\n      <td>-0.115203</td>\n      <td>1.570187e+09</td>\n    </tr>\n    <tr>\n      <th>25%</th>\n      <td>0.049950</td>\n      <td>0.207265</td>\n      <td>0.415436</td>\n      <td>0.002495</td>\n      <td>4.282076</td>\n      <td>0.000000</td>\n      <td>-0.114676</td>\n      <td>1.571180e+09</td>\n    </tr>\n    <tr>\n      <th>50%</th>\n      <td>0.050210</td>\n      <td>0.230495</td>\n      <td>0.451538</td>\n      <td>0.002521</td>\n      <td>4.707268</td>\n      <td>0.000000</td>\n      <td>-0.000433</td>\n      <td>1.572437e+09</td>\n    </tr>\n    <tr>\n      <th>75%</th>\n      <td>0.484982</td>\n      <td>2.282787</td>\n      <td>4.587006</td>\n      <td>0.235207</td>\n      <td>4.788712</td>\n      <td>1.000000</td>\n      <td>0.000031</td>\n      <td>1.573430e+09</td>\n    </tr>\n    <tr>\n      <th>max</th>\n      <td>0.485722</td>\n      <td>2.394923</td>\n      <td>4.682495</td>\n      <td>0.235926</td>\n      <td>4.980073</td>\n      <td>1.000000</td>\n      <td>0.000477</td>\n      <td>1.574424e+09</td>\n    </tr>\n  </tbody>\n</table>\n</div>"
     },
     "execution_count": 22,
     "metadata": {},
     "output_type": "execute_result"
    }
   ],
   "source": [
    "kpi_results_parsed.summary()\n"
   ],
   "metadata": {
    "collapsed": false,
    "pycharm": {
     "name": "#%%\n"
    }
   }
  },
  {
   "cell_type": "markdown",
   "source": [
    "Finally, we can generate a plot that displays these results."
   ],
   "metadata": {
    "collapsed": false
   }
  },
  {
   "cell_type": "code",
   "execution_count": 23,
   "outputs": [
    {
     "data": {
      "text/plain": "<Figure size 432x288 with 1 Axes>",
      "image/png": "[encoded data removed]"
     },
     "metadata": {
      "needs_background": "light"
     },
     "output_type": "display_data"
    },
    {
     "data": {
      "text/plain": "''"
     },
     "execution_count": 23,
     "metadata": {},
     "output_type": "execute_result"
    }
   ],
   "source": [
    "#[\"rms\", \"dc\", \"utilization\"]\n",
    "kpi_results_parsed.plot()"
   ],
   "metadata": {
    "collapsed": false,
    "pycharm": {
     "name": "#%%\n"
    }
   }
  },
  {
   "cell_type": "code",
   "execution_count": 24,
   "outputs": [
    {
     "data": {
      "text/plain": "<Figure size 432x288 with 1 Axes>",
      "image/png": "[encoded data removed]"
     },
     "metadata": {
      "needs_background": "light"
     },
     "output_type": "display_data"
    },
    {
     "data": {
      "text/plain": "''"
     },
     "execution_count": 24,
     "metadata": {},
     "output_type": "execute_result"
    }
   ],
   "source": [
    "#[\"rms\", \"dc\", \"utilization\"]\n",
    "kpi_results_parsed.plot(kpi=\"peak\")"
   ],
   "metadata": {
    "collapsed": false,
    "pycharm": {
     "name": "#%%\n"
    }
   }
  },
  {
   "cell_type": "code",
   "execution_count": 25,
   "outputs": [
    {
     "data": {
      "text/plain": "<Figure size 432x288 with 1 Axes>",
      "image/png": "[encoded data removed]"
     },
     "metadata": {
      "needs_background": "light"
     },
     "output_type": "display_data"
    },
    {
     "data": {
      "text/plain": "''"
     },
     "execution_count": 25,
     "metadata": {},
     "output_type": "execute_result"
    }
   ],
   "source": [
    "#[\"rms\", \"dc\", \"utilization\"]\n",
    "kpi_results_parsed.plot(kpi=\"peak2peak\")"
   ],
   "metadata": {
    "collapsed": false,
    "pycharm": {
     "name": "#%%\n"
    }
   }
  },
  {
   "cell_type": "code",
   "execution_count": 26,
   "outputs": [
    {
     "data": {
      "text/plain": "<Figure size 432x288 with 1 Axes>",
      "image/png": "[encoded data removed]"
     },
     "metadata": {
      "needs_background": "light"
     },
     "output_type": "display_data"
    },
    {
     "data": {
      "text/plain": "''"
     },
     "execution_count": 26,
     "metadata": {},
     "output_type": "execute_result"
    }
   ],
   "source": [
    "#[\"rms\", \"dc\", \"utilization\"]\n",
    "kpi_results_parsed.plot(kpi=\"variance\")\n"
   ],
   "metadata": {
    "collapsed": false,
    "pycharm": {
     "name": "#%%\n"
    }
   }
  },
  {
   "cell_type": "code",
   "execution_count": 27,
   "outputs": [
    {
     "data": {
      "text/plain": "<Figure size 432x288 with 1 Axes>",
      "image/png": "[encoded data removed]"
     },
     "metadata": {
      "needs_background": "light"
     },
     "output_type": "display_data"
    },
    {
     "data": {
      "text/plain": "''"
     },
     "execution_count": 27,
     "metadata": {},
     "output_type": "execute_result"
    }
   ],
   "source": [
    "#[\"rms\", \"dc\", \"utilization\"]\n",
    "kpi_results_parsed.plot(kpi=\"crest_factor\")"
   ],
   "metadata": {
    "collapsed": false,
    "pycharm": {
     "name": "#%%\n"
    }
   }
  },
  {
   "cell_type": "code",
   "execution_count": 28,
   "outputs": [
    {
     "data": {
      "text/plain": "<Figure size 432x288 with 1 Axes>",
      "image/png": "[encoded data removed]"
     },
     "metadata": {
      "needs_background": "light"
     },
     "output_type": "display_data"
    },
    {
     "data": {
      "text/plain": "''"
     },
     "execution_count": 28,
     "metadata": {},
     "output_type": "execute_result"
    }
   ],
   "source": [
    "#[\"rms\", \"dc\", \"utilization\"]\n",
    "kpi_results_parsed.plot(kpi=\"dc_component\")\n"
   ],
   "metadata": {
    "collapsed": false,
    "pycharm": {
     "name": "#%%\n"
    }
   }
  },
  {
   "cell_type": "code",
   "execution_count": 29,
   "outputs": [
    {
     "data": {
      "text/plain": "<Figure size 432x288 with 1 Axes>",
      "image/png": "[encoded data removed]"
     },
     "metadata": {
      "needs_background": "light"
     },
     "output_type": "display_data"
    },
    {
     "data": {
      "text/plain": "''"
     },
     "execution_count": 29,
     "metadata": {},
     "output_type": "execute_result"
    }
   ],
   "source": [
    "kpis = [\"rms\", \"peak2peak\", \"utilization\"]\n",
    "kpi_results_parsed.plot(kpi=kpis)\n"
   ],
   "metadata": {
    "collapsed": false,
    "pycharm": {
     "name": "#%%\n"
    }
   }
  },
  {
   "cell_type": "code",
   "execution_count": 30,
   "outputs": [],
   "source": [
    "import json"
   ],
   "metadata": {
    "collapsed": false,
    "pycharm": {
     "name": "#%%\n"
    }
   }
  },
  {
   "cell_type": "code",
   "execution_count": 32,
   "outputs": [],
   "source": [
    "with open('KPIDemo_results_dict.json', 'w') as f:\n",
    "    json.dump(kpi_results, f)\n",
    "#jstr = json.dumps(kpi_results)"
   ],
   "metadata": {
    "collapsed": false,
    "pycharm": {
     "name": "#%%\n"
    }
   }
  },
  {
   "cell_type": "code",
   "execution_count": null,
   "outputs": [],
   "source": [],
   "metadata": {
    "collapsed": false,
    "pycharm": {
     "name": "#%%\n"
    }
   }
  }
 ],
 "metadata": {
  "kernelspec": {
   "display_name": "Python 3",
   "language": "python",
   "name": "python3"
  },
  "language_info": {
   "codemirror_mode": {
    "name": "ipython",
    "version": 2
   },
   "file_extension": ".py",
   "mimetype": "text/x-python",
   "name": "python",
   "nbconvert_exporter": "python",
   "pygments_lexer": "ipython2",
   "version": "2.7.6"
  }
 },
 "nbformat": 4,
 "nbformat_minor": 0
}
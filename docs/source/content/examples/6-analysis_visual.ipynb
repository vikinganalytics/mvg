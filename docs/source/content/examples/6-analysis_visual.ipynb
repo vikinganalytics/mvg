{
 "cells": [
  {
   "cell_type": "markdown",
   "id": "dc58a0a4",
   "metadata": {},
   "source": [
    "# Analysis and Results Visualization\n",
    "\n",
    "This script describes the procedure to request an analysis to the Viking Analytics' MultiViz Analytics Engine (MVG) service.\n",
    "It shows how to query for results of single-asset or asset-population analyses.\n",
    "In addition, it presents some examples of how to visualize the results available for the mode identification feature.\n",
    "\n",
    "In this example, we will describe how to access and manipulate the analysis results directly.\n",
    "The [\"Analysis Classes\"](analysis_classes.ipynb) example provides a simplified and unified interface to access these results as a pandas dataframe, along with some basic visualization of the results.\n",
    "\n",
    "## Preliminaries\n",
    "\n",
    "This procedure describes all the steps to request an analysis, get analysis results and plot those results using the functions in `plotting`.\n",
    "Local visualizations functions to create the figures are imported from `plotting`. "
   ]
  },
  {
   "cell_type": "code",
   "execution_count": 1,
   "id": "d07469d3",
   "metadata": {
    "ExecuteTime": {
     "end_time": "2021-03-18T10:00:28.735704Z",
     "start_time": "2021-03-18T10:00:28.513699Z"
    },
    "execution": {
     "iopub.execute_input": "2021-12-14T11:04:28.562696Z",
     "iopub.status.busy": "2021-12-14T11:04:28.562254Z",
     "iopub.status.idle": "2021-12-14T11:04:29.370872Z",
     "shell.execute_reply": "2021-12-14T11:04:29.370269Z"
    }
   },
   "outputs": [],
   "source": [
    "import os\n",
    "import pandas as pd\n",
    "\n",
    "# import mvg library with python bindings to mvg-API\n",
    "from mvg import MVG, plotting"
   ]
  },
  {
   "cell_type": "markdown",
   "id": "82257ec8",
   "metadata": {
    "ExecuteTime": {
     "end_time": "2021-03-04T10:59:02.619313Z",
     "start_time": "2021-03-04T10:59:02.615934Z"
    }
   },
   "source": [
    "Note that the `TOKEN` is used both for authorization and authentication. Thus, each unique token represents a unique user and each user has their own unique database on the VA vibration service.\n",
    "\n",
    "**You need to insert your token received from Viking Analytics here:"
   ]
  },
  {
   "cell_type": "code",
   "execution_count": 2,
   "id": "1c865424",
   "metadata": {
    "ExecuteTime": {
     "end_time": "2021-03-18T10:00:29.472021Z",
     "start_time": "2021-03-18T10:00:29.469799Z"
    },
    "execution": {
     "iopub.execute_input": "2021-12-14T11:04:29.374425Z",
     "iopub.status.busy": "2021-12-14T11:04:29.373987Z",
     "iopub.status.idle": "2021-12-14T11:04:29.377020Z",
     "shell.execute_reply": "2021-12-14T11:04:29.376624Z"
    }
   },
   "outputs": [],
   "source": [
    "# Replace by your own Token\n",
    "VALID_TOKEN = os.environ['TEST_TOKEN']"
   ]
  },
  {
   "cell_type": "markdown",
   "id": "ef8a4fe4",
   "metadata": {},
   "source": [
    "Instantiate a session object with MVG library.\n",
    "A session object basically caches the endpoint and the token, to simplify the calls to the MVG library."
   ]
  },
  {
   "cell_type": "code",
   "execution_count": 3,
   "id": "f26c2534",
   "metadata": {
    "ExecuteTime": {
     "end_time": "2021-03-18T10:00:30.395676Z",
     "start_time": "2021-03-18T10:00:30.214070Z"
    },
    "execution": {
     "iopub.execute_input": "2021-12-14T11:04:29.380263Z",
     "iopub.status.busy": "2021-12-14T11:04:29.379839Z",
     "iopub.status.idle": "2021-12-14T11:04:29.691599Z",
     "shell.execute_reply": "2021-12-14T11:04:29.691182Z"
    }
   },
   "outputs": [],
   "source": [
    "ENDPOINT = \"https://api.beta.multiviz.com\"\n",
    "session = MVG(ENDPOINT, VALID_TOKEN)"
   ]
  },
  {
   "cell_type": "markdown",
   "id": "34fbc54a",
   "metadata": {
    "pycharm": {
     "name": "#%% md\n"
    }
   },
   "source": [
    "## Asset Analysis\n",
    "\n",
    "In this example, we will use the sources uploaded by the [\"Sources and Measurement\"](sources_and_measurements.ipynb) example.\n",
    "We start by looking if the sources are available in the database.\n",
    "At least, sources, \"u0001\" and \"u0005\", should appear as available."
   ]
  },
  {
   "cell_type": "code",
   "execution_count": 4,
   "id": "3bc2b800",
   "metadata": {
    "execution": {
     "iopub.execute_input": "2021-12-14T11:04:29.696336Z",
     "iopub.status.busy": "2021-12-14T11:04:29.695948Z",
     "iopub.status.idle": "2021-12-14T11:04:31.851350Z",
     "shell.execute_reply": "2021-12-14T11:04:31.851652Z"
    },
    "pycharm": {
     "name": "#%%\n"
    }
   },
   "outputs": [
    {
     "name": "stdout",
     "output_type": "stream",
     "text": [
      "Source info retrieved:\n",
      "{'source_id': 'u0001', 'meta': {'assetId': 'assetA', 'measPoint': 'mloc01', 'location': 'paris', 'updated': 'YES! I have been updated'}, 'properties': {'data_class': 'waveform', 'channels': ['acc']}}\n",
      "\n",
      "Source info retrieved:\n",
      "{'source_id': 'u0002', 'meta': {'assetId': 'assetB', 'measPoint': 'mloc01', 'location': 'paris'}, 'properties': {'data_class': 'waveform', 'channels': ['acc']}}\n",
      "\n",
      "Source info retrieved:\n",
      "{'source_id': 'u0003', 'meta': {'assetId': 'assetC', 'measPoint': 'mloc01', 'location': 'milano'}, 'properties': {'data_class': 'waveform', 'channels': ['acc']}}\n",
      "\n",
      "Source info retrieved:\n",
      "{'source_id': 'u0004', 'meta': {'assetId': 'assetD', 'measPoint': 'mloc01', 'location': 'milano'}, 'properties': {'data_class': 'waveform', 'channels': ['acc']}}\n",
      "\n",
      "Source info retrieved:\n",
      "{'source_id': 'u0005', 'meta': {'assetId': 'assetE', 'measPoint': 'mloc01', 'location': 'london'}, 'properties': {'data_class': 'waveform', 'channels': ['acc']}}\n",
      "\n",
      "Source info retrieved:\n",
      "{'source_id': 'u0006', 'meta': {'assetId': 'assetF', 'measPoint': 'mloc01', 'location': 'london'}, 'properties': {'data_class': 'waveform', 'channels': ['acc']}}\n",
      "\n"
     ]
    }
   ],
   "source": [
    "sources = session.list_sources()\n",
    "\n",
    "for src in sources:\n",
    "    s_info = session.get_source(src['source_id'])\n",
    "    print(f\"Source info retrieved:\\n{s_info}\\n\")"
   ]
  },
  {
   "cell_type": "markdown",
   "id": "5c88da51",
   "metadata": {},
   "source": [
    "During our example, we will utilize sources, \"u0001\" and \"u0005\", which were previously uploaded to our database."
   ]
  },
  {
   "cell_type": "code",
   "execution_count": 5,
   "id": "df90fa03",
   "metadata": {
    "ExecuteTime": {
     "end_time": "2021-03-18T10:00:32.804304Z",
     "start_time": "2021-03-18T10:00:32.800567Z"
    },
    "execution": {
     "iopub.execute_input": "2021-12-14T11:04:31.857516Z",
     "iopub.status.busy": "2021-12-14T11:04:31.857114Z",
     "iopub.status.idle": "2021-12-14T11:04:31.861129Z",
     "shell.execute_reply": "2021-12-14T11:04:31.860750Z"
    },
    "pycharm": {
     "name": "#%%\n"
    }
   },
   "outputs": [
    {
     "data": {
      "text/plain": [
       "['u0001', 'u0005']"
      ]
     },
     "execution_count": 5,
     "metadata": {},
     "output_type": "execute_result"
    }
   ],
   "source": [
    "SOURCE_IDS = [\"u0001\", \"u0005\"]\n",
    "SOURCE_IDS"
   ]
  },
  {
   "cell_type": "markdown",
   "id": "9a604265",
   "metadata": {
    "pycharm": {
     "name": "#%% md\n"
    }
   },
   "source": [
    "The Viking Analytics Vibration service has several features available.\n",
    "We list the available features along with the version of each of them in the following way:"
   ]
  },
  {
   "cell_type": "code",
   "execution_count": 6,
   "id": "ff00c485",
   "metadata": {
    "ExecuteTime": {
     "end_time": "2021-03-18T10:00:36.152571Z",
     "start_time": "2021-03-18T10:00:35.990849Z"
    },
    "execution": {
     "iopub.execute_input": "2021-12-14T11:04:31.865217Z",
     "iopub.status.busy": "2021-12-14T11:04:31.864800Z",
     "iopub.status.idle": "2021-12-14T11:04:32.162975Z",
     "shell.execute_reply": "2021-12-14T11:04:32.163332Z"
    },
    "pycharm": {
     "name": "#%%\n"
    }
   },
   "outputs": [
    {
     "data": {
      "text/plain": [
       "{'RMS': '1.0.0',\n",
       " 'ModeId': '0.1.1',\n",
       " 'BlackSheep': '1.0.0',\n",
       " 'KPIDemo': '1.0.0',\n",
       " 'LabelPropagation': '0.1.0'}"
      ]
     },
     "execution_count": 6,
     "metadata": {},
     "output_type": "execute_result"
    }
   ],
   "source": [
    "available_features = session.supported_features()\n",
    "available_features"
   ]
  },
  {
   "cell_type": "markdown",
   "id": "35d35781",
   "metadata": {
    "pycharm": {
     "name": "#%% md\n"
    }
   },
   "source": [
    "Once the source and measurements had been uploaded in the database, we can request an analysis to the VA Vibration service.\n",
    "When we request an analysis, we need to say which source is to be used in the analysis and the feature to be applied.\n",
    "\n",
    "The requested analysis will return a dictionary object with two elements.\n",
    "The first element is a `\"request_id\"` that can be used to retrieve the results after.\n",
    "The second element is `\"request_status\"` that provides the status right after placing the analysis request. \n",
    "\n",
    "Here, we will request the \"KPIDemo\" feature from our source \"u0001\"."
   ]
  },
  {
   "cell_type": "code",
   "execution_count": 7,
   "id": "39f3297d",
   "metadata": {
    "ExecuteTime": {
     "end_time": "2021-03-18T10:00:37.584243Z",
     "start_time": "2021-03-18T10:00:37.457555Z"
    },
    "execution": {
     "iopub.execute_input": "2021-12-14T11:04:32.169064Z",
     "iopub.status.busy": "2021-12-14T11:04:32.166805Z",
     "iopub.status.idle": "2021-12-14T11:04:32.475606Z",
     "shell.execute_reply": "2021-12-14T11:04:32.475173Z"
    },
    "pycharm": {
     "name": "#%%\n"
    }
   },
   "outputs": [
    {
     "data": {
      "text/plain": [
       "{'request_id': '89b8f004c976ff8991f476be33c198d1', 'request_status': 'queued'}"
      ]
     },
     "execution_count": 7,
     "metadata": {},
     "output_type": "execute_result"
    }
   ],
   "source": [
    "SOURCE_ID = SOURCE_IDS[0]\n",
    "KPI_u0001 = session.request_analysis(SOURCE_ID, 'KPIDemo')\n",
    "KPI_u0001 "
   ]
  },
  {
   "cell_type": "markdown",
   "id": "04d7db38",
   "metadata": {
    "pycharm": {
     "name": "#%% md\n"
    }
   },
   "source": [
    "Now, we proceed to request the \"ModeId\" feature for the same source."
   ]
  },
  {
   "cell_type": "code",
   "execution_count": 8,
   "id": "1c861f88",
   "metadata": {
    "ExecuteTime": {
     "end_time": "2021-03-18T10:00:38.637859Z",
     "start_time": "2021-03-18T10:00:38.499851Z"
    },
    "execution": {
     "iopub.execute_input": "2021-12-14T11:04:32.480095Z",
     "iopub.status.busy": "2021-12-14T11:04:32.478822Z",
     "iopub.status.idle": "2021-12-14T11:04:32.996130Z",
     "shell.execute_reply": "2021-12-14T11:04:32.996722Z"
    },
    "pycharm": {
     "name": "#%%\n"
    }
   },
   "outputs": [
    {
     "data": {
      "text/plain": [
       "{'request_id': '6a3635aef7b01e858c3da0d546c1e5eb', 'request_status': 'queued'}"
      ]
     },
     "execution_count": 8,
     "metadata": {},
     "output_type": "execute_result"
    }
   ],
   "source": [
    "ModeId_u0001 = session.request_analysis(SOURCE_ID, 'ModeId')\n",
    "ModeId_u0001 "
   ]
  },
  {
   "cell_type": "markdown",
   "id": "da3782be",
   "metadata": {
    "pycharm": {
     "name": "#%% md\n"
    }
   },
   "source": [
    "Before we are able to get the analysis results, we need to wait until those analyses are successfully completed.\n",
    "\n",
    "We can query for the status of our requested analyses.\n",
    "The possible status are:\n",
    "- Queued: The analysis has not started in the remote server and it is in the queue to begin.\n",
    "- Ongoing: The analysis is been processed at this time.\n",
    "- Failed: The analysis is complete and failed to produce a result.\n",
    "- Successful: The analysis is complete and it produced a successful result."
   ]
  },
  {
   "cell_type": "code",
   "execution_count": 9,
   "id": "feb12854",
   "metadata": {
    "ExecuteTime": {
     "end_time": "2021-03-18T10:00:43.435603Z",
     "start_time": "2021-03-18T10:00:43.172181Z"
    },
    "execution": {
     "iopub.execute_input": "2021-12-14T11:04:33.002140Z",
     "iopub.status.busy": "2021-12-14T11:04:33.001709Z",
     "iopub.status.idle": "2021-12-14T11:08:44.725642Z",
     "shell.execute_reply": "2021-12-14T11:08:44.726224Z"
    },
    "pycharm": {
     "name": "#%%\n"
    }
   },
   "outputs": [
    {
     "name": "stdout",
     "output_type": "stream",
     "text": [
      "KPI Analysis: successful\n",
      "ModeId Analysis: successful\n"
     ]
    }
   ],
   "source": [
    "REQUEST_IDS_u0001 = [KPI_u0001['request_id'], ModeId_u0001['request_id']]\n",
    "status = session.get_analysis_status(REQUEST_IDS_u0001[0])\n",
    "print(f\"KPI Analysis: {status}\")\n",
    "status = session.get_analysis_status(REQUEST_IDS_u0001[1])\n",
    "print(f\"ModeId Analysis: {status}\")"
   ]
  },
  {
   "cell_type": "markdown",
   "id": "1831154d",
   "metadata": {
    "pycharm": {
     "name": "#%% md\n"
    }
   },
   "source": [
    "The similar procedure is repeated to request the \"RMS\" and \"ModeId\" for our source \"u0005\"."
   ]
  },
  {
   "cell_type": "code",
   "execution_count": 10,
   "id": "74eb4d14",
   "metadata": {
    "ExecuteTime": {
     "end_time": "2021-03-18T10:00:44.400481Z",
     "start_time": "2021-03-18T10:00:44.261231Z"
    },
    "execution": {
     "iopub.execute_input": "2021-12-14T11:08:44.730686Z",
     "iopub.status.busy": "2021-12-14T11:08:44.729261Z",
     "iopub.status.idle": "2021-12-14T11:08:45.041939Z",
     "shell.execute_reply": "2021-12-14T11:08:45.042347Z"
    },
    "pycharm": {
     "name": "#%%\n"
    }
   },
   "outputs": [
    {
     "data": {
      "text/plain": [
       "{'request_id': '1247756254716ed33bac1c470aa09eb1', 'request_status': 'queued'}"
      ]
     },
     "execution_count": 10,
     "metadata": {},
     "output_type": "execute_result"
    }
   ],
   "source": [
    "SOURCE_ID = SOURCE_IDS[1]\n",
    "KPI_u0005 = session.request_analysis(SOURCE_ID, 'KPIDemo')\n",
    "KPI_u0005"
   ]
  },
  {
   "cell_type": "code",
   "execution_count": 11,
   "id": "613067fd",
   "metadata": {
    "ExecuteTime": {
     "end_time": "2021-03-18T10:00:44.815607Z",
     "start_time": "2021-03-18T10:00:44.676422Z"
    },
    "execution": {
     "iopub.execute_input": "2021-12-14T11:08:45.047140Z",
     "iopub.status.busy": "2021-12-14T11:08:45.046396Z",
     "iopub.status.idle": "2021-12-14T11:08:45.556518Z",
     "shell.execute_reply": "2021-12-14T11:08:45.557133Z"
    },
    "pycharm": {
     "name": "#%%\n"
    }
   },
   "outputs": [
    {
     "data": {
      "text/plain": [
       "{'request_id': 'de4474095fc5b53c9a6059ce2c685366', 'request_status': 'queued'}"
      ]
     },
     "execution_count": 11,
     "metadata": {},
     "output_type": "execute_result"
    }
   ],
   "source": [
    "SOURCE_ID = SOURCE_IDS[1]\n",
    "ModeId_u0005 = session.request_analysis(SOURCE_ID, 'ModeId')\n",
    "ModeId_u0005"
   ]
  },
  {
   "cell_type": "markdown",
   "id": "86f416a9",
   "metadata": {
    "pycharm": {
     "name": "#%% md\n"
    }
   },
   "source": [
    "Also, we check the status of our analysis for source \"u0005\" to confirm they had been completed successfully."
   ]
  },
  {
   "cell_type": "code",
   "execution_count": 12,
   "id": "733491e7",
   "metadata": {
    "ExecuteTime": {
     "end_time": "2021-03-18T10:00:48.331542Z",
     "start_time": "2021-03-18T10:00:47.324848Z"
    },
    "execution": {
     "iopub.execute_input": "2021-12-14T11:08:45.562953Z",
     "iopub.status.busy": "2021-12-14T11:08:45.562466Z",
     "iopub.status.idle": "2021-12-14T11:21:29.008269Z",
     "shell.execute_reply": "2021-12-14T11:21:29.007584Z"
    },
    "pycharm": {
     "name": "#%%\n"
    }
   },
   "outputs": [
    {
     "name": "stdout",
     "output_type": "stream",
     "text": [
      "KPI Analysis: successful\n",
      "ModeId Analysis: successful\n"
     ]
    }
   ],
   "source": [
    "REQUEST_IDS_u0005 = [KPI_u0005['request_id'], ModeId_u0005['request_id']]\n",
    "status = session.get_analysis_status(REQUEST_IDS_u0005[0])\n",
    "print(f\"KPI Analysis: {status}\")\n",
    "status = session.get_analysis_status(REQUEST_IDS_u0005[1])\n",
    "print(f\"ModeId Analysis: {status}\")"
   ]
  },
  {
   "cell_type": "markdown",
   "id": "8de5db30",
   "metadata": {},
   "source": [
    "## Visualization\n",
    "\n",
    "Once the analysis is complete, one get the results by calling the corresponding \"request_id\" for each analysis.\n",
    "\n",
    "First, let's check all existing \"request_id\" in the database for each source and feature."
   ]
  },
  {
   "cell_type": "code",
   "execution_count": 13,
   "id": "8717030b",
   "metadata": {
    "ExecuteTime": {
     "end_time": "2021-03-18T10:00:51.412234Z",
     "start_time": "2021-03-18T10:00:50.909661Z"
    },
    "execution": {
     "iopub.execute_input": "2021-12-14T11:21:29.013630Z",
     "iopub.status.busy": "2021-12-14T11:21:29.013250Z",
     "iopub.status.idle": "2021-12-14T11:21:30.263337Z",
     "shell.execute_reply": "2021-12-14T11:21:30.262879Z"
    },
    "pycharm": {
     "name": "#%%\n"
    }
   },
   "outputs": [
    {
     "name": "stdout",
     "output_type": "stream",
     "text": [
      "The KPI analysis of u0001 has request_id ['1e87505977a4a4f0ebef1e47fe2e07de', '6dad3d5f0088688dc255e568f490755f', '89b8f004c976ff8991f476be33c198d1'].\n",
      "The KPI analysis of u0005 has request_id ['1247756254716ed33bac1c470aa09eb1'].\n",
      "The ModeId analysis of u0001 has request_id ['57b816d91decda67355da0ad160f0016', '535be882dd271d03c26bef8257ae03ec', 'e0ee3ad6935947f70a9d455f37da4c48', 'e176f4928372a627e743222eb2de0690', '25bdf3a393c5c166ae230ef98911606c', '9cced936d101c436eb32e7f8dc379796', 'd34f7e8f0a5b01a8471f1a5df23e1923', 'a089f212b2eda4eb79fc569b00c74659', 'ba1202a3c210c9e388a980913cda3640', '2c2bfebdbda7f75000f3c6e5128d3efc', '7b3aae14f266697da1d140410627a6b6', 'd132fb68a652104c678acdd6fe514de5', '30f136353e213b0d4e090f8a7724f65a', 'b9d566e83b71e8c21aa927e15148978c', 'b436d607166ccc8c183305105e198f48', 'fc66d902840d7eb3fdd1d1147dacf417', '7b688623d9e6cf5ea63aaf2ce0318962', 'c1a1dc59c94e9a6a7f810cf802cb9d78', '011781f6412daaf48640fbc5bd85a0e4', '8270d75575d4c53b5520a04d59a9475b', '1f4776106002e29f393c75f0327824b9', '6a3635aef7b01e858c3da0d546c1e5eb'].\n",
      "The ModeId analysis of u0005 has request_id ['ff5392230521bd4bdcc5c36491eeefe5', '99934e2c5fd0858a90836ae3ec02cd52', '51d92e031290b7e28dd094faf01ea6ea', '4a76979f8d731606eb2cf03e9a6fd221', '849bfc8a74289625b331f3ea0f882ef3', '585717bff62ed23bafbcff559011100c', 'de4474095fc5b53c9a6059ce2c685366'].\n"
     ]
    }
   ],
   "source": [
    "REQUEST_IDS_RMS = [session.list_analyses(SOURCE_IDS[0], \"KPIDemo\"), session.list_analyses(SOURCE_IDS[1], \"KPIDemo\")]\n",
    "print(f\"The KPI analysis of {SOURCE_IDS[0]} has request_id {REQUEST_IDS_RMS[0]}.\")\n",
    "print(f\"The KPI analysis of {SOURCE_IDS[1]} has request_id {REQUEST_IDS_RMS[1]}.\")\n",
    "REQUEST_IDS_MODEID = [session.list_analyses(SOURCE_IDS[0], \"ModeId\"), session.list_analyses(SOURCE_IDS[1], \"ModeId\")]\n",
    "print(f\"The ModeId analysis of {SOURCE_IDS[0]} has request_id {REQUEST_IDS_MODEID[0]}.\")\n",
    "print(f\"The ModeId analysis of {SOURCE_IDS[1]} has request_id {REQUEST_IDS_MODEID[1]}.\")"
   ]
  },
  {
   "cell_type": "markdown",
   "id": "2077f662",
   "metadata": {
    "pycharm": {
     "name": "#%% md\n"
    }
   },
   "source": [
    "The following step is to retrieve the results by calling each one of the \"request_id\".\n",
    "\n",
    "The output of the `\"get_analysis_results\"` function is a dictionary.\n",
    "We show the keys of one those dictionaries.\n",
    "The keys are the same for all features."
   ]
  },
  {
   "cell_type": "code",
   "execution_count": 14,
   "id": "fdf1118b",
   "metadata": {
    "ExecuteTime": {
     "end_time": "2021-03-18T10:00:53.012148Z",
     "start_time": "2021-03-18T10:00:52.486345Z"
    },
    "execution": {
     "iopub.execute_input": "2021-12-14T11:21:30.269086Z",
     "iopub.status.busy": "2021-12-14T11:21:30.268670Z",
     "iopub.status.idle": "2021-12-14T11:21:32.814925Z",
     "shell.execute_reply": "2021-12-14T11:21:32.814587Z"
    }
   },
   "outputs": [
    {
     "data": {
      "text/plain": [
       "dict_keys(['status', 'request_id', 'feature', 'results', 'inputs', 'error_info', 'debug_info'])"
      ]
     },
     "execution_count": 14,
     "metadata": {},
     "output_type": "execute_result"
    }
   ],
   "source": [
    "session.wait_for_analyses(REQUEST_IDS_u0001 + REQUEST_IDS_u0005)\n",
    "\n",
    "kpi_output1 = session.get_analysis_results(request_id=REQUEST_IDS_u0001[0])\n",
    "mode_output1 = session.get_analysis_results(request_id=REQUEST_IDS_u0001[1])\n",
    "kpi_output5 = session.get_analysis_results(request_id=REQUEST_IDS_u0005[0])\n",
    "mode_output5 = session.get_analysis_results(request_id=REQUEST_IDS_u0005[1])\n",
    "\n",
    "kpi_output1.keys()"
   ]
  },
  {
   "cell_type": "markdown",
   "id": "495cff18",
   "metadata": {},
   "source": [
    "Each dictionary contains seven key elements.\n",
    "These elements are:\n",
    "- `\"status\"` indicates if the analysis was successful.\n",
    "- `\"request_id\"` is the identifier of the requested analysis.\n",
    "- `\"feature\"` is the name of the request feature.\n",
    "- `\"results\"` includes the numeric results.\n",
    "- `\"inputs\"` includes the input information for the request analysis.\n",
    "- `\"error_info\"` includes the error information in case the analysis fails and it is empty if the analysis is successful.\n",
    "- `\"debug_info\"` includes debugging (log) information related to the failed analysis.\n"
   ]
  },
  {
   "cell_type": "markdown",
   "id": "a92ba4a1",
   "metadata": {
    "pycharm": {
     "name": "#%% md\n"
    }
   },
   "source": [
    "The `\"results\"` of the \"KPIDemo\" feature is a list per channel defined in the source. Each channel is formed by eight lists.\n",
    "These lists are:\n",
    "- rms: rms value for each measurement.\n",
    "- peak: peak value for each measurement.\n",
    "- peak2peak: peak-to-peak value for each measurement.\n",
    "- variance: variance value for each measurement.\n",
    "- crest_factor: crest factor value for each measurement.\n",
    "- utilization: boolean indicating whether the measurement was used for the rms calculation.\n",
    "- dc_component: DC component value for each measurement.\n",
    "- timestamps: epoch (in seconds for this example) of the measurements.\n",
    "\n",
    "\n",
    "These lists can be converted into a dataframe for ease of manipulation.\n",
    "In this example, we will show how to access the dictionary results information and convert it into a Pandas dataframe.\n",
    "Please check the [\"Analysis Classes\"](analysis_classes.ipynb) example for directly getting a results Pandas dataframe.\n",
    "In addition, the \"timestamp\" column is converted to a timestamp object in a column called \"Date\"."
   ]
  },
  {
   "cell_type": "code",
   "execution_count": 15,
   "id": "4d32edab",
   "metadata": {
    "ExecuteTime": {
     "end_time": "2021-03-18T10:00:55.411186Z",
     "start_time": "2021-03-18T10:00:55.402365Z"
    },
    "execution": {
     "iopub.execute_input": "2021-12-14T11:21:32.822613Z",
     "iopub.status.busy": "2021-12-14T11:21:32.821806Z",
     "iopub.status.idle": "2021-12-14T11:21:32.832723Z",
     "shell.execute_reply": "2021-12-14T11:21:32.833244Z"
    },
    "pycharm": {
     "name": "#%%\n"
    }
   },
   "outputs": [
    {
     "data": {
      "text/html": [
       "<div>\n",
       "<style scoped>\n",
       "    .dataframe tbody tr th:only-of-type {\n",
       "        vertical-align: middle;\n",
       "    }\n",
       "\n",
       "    .dataframe tbody tr th {\n",
       "        vertical-align: top;\n",
       "    }\n",
       "\n",
       "    .dataframe thead th {\n",
       "        text-align: right;\n",
       "    }\n",
       "</style>\n",
       "<table border=\"1\" class=\"dataframe\">\n",
       "  <thead>\n",
       "    <tr style=\"text-align: right;\">\n",
       "      <th></th>\n",
       "      <th>rms</th>\n",
       "      <th>peak</th>\n",
       "      <th>peak2peak</th>\n",
       "      <th>variance</th>\n",
       "      <th>crest_factor</th>\n",
       "      <th>utilization</th>\n",
       "      <th>dc_component</th>\n",
       "      <th>timestamps</th>\n",
       "      <th>Date</th>\n",
       "    </tr>\n",
       "  </thead>\n",
       "  <tbody>\n",
       "    <tr>\n",
       "      <th>0</th>\n",
       "      <td>0.647123</td>\n",
       "      <td>2.691750</td>\n",
       "      <td>5.367004</td>\n",
       "      <td>0.418769</td>\n",
       "      <td>4.159563</td>\n",
       "      <td>1</td>\n",
       "      <td>-0.140420</td>\n",
       "      <td>1570273260</td>\n",
       "      <td>2019-10-05 11:01:00</td>\n",
       "    </tr>\n",
       "    <tr>\n",
       "      <th>1</th>\n",
       "      <td>0.646619</td>\n",
       "      <td>2.715251</td>\n",
       "      <td>5.414856</td>\n",
       "      <td>0.418116</td>\n",
       "      <td>4.199152</td>\n",
       "      <td>1</td>\n",
       "      <td>-0.140239</td>\n",
       "      <td>1570359660</td>\n",
       "      <td>2019-10-06 11:01:00</td>\n",
       "    </tr>\n",
       "    <tr>\n",
       "      <th>2</th>\n",
       "      <td>0.646873</td>\n",
       "      <td>2.685147</td>\n",
       "      <td>5.351562</td>\n",
       "      <td>0.418445</td>\n",
       "      <td>4.150966</td>\n",
       "      <td>1</td>\n",
       "      <td>-0.140347</td>\n",
       "      <td>1570446060</td>\n",
       "      <td>2019-10-07 11:01:00</td>\n",
       "    </tr>\n",
       "    <tr>\n",
       "      <th>3</th>\n",
       "      <td>0.646643</td>\n",
       "      <td>2.726605</td>\n",
       "      <td>5.395325</td>\n",
       "      <td>0.418147</td>\n",
       "      <td>4.216556</td>\n",
       "      <td>1</td>\n",
       "      <td>-0.140423</td>\n",
       "      <td>1570532460</td>\n",
       "      <td>2019-10-08 11:01:00</td>\n",
       "    </tr>\n",
       "    <tr>\n",
       "      <th>4</th>\n",
       "      <td>0.646717</td>\n",
       "      <td>2.697001</td>\n",
       "      <td>5.310974</td>\n",
       "      <td>0.418243</td>\n",
       "      <td>4.170294</td>\n",
       "      <td>1</td>\n",
       "      <td>-0.140055</td>\n",
       "      <td>1570618860</td>\n",
       "      <td>2019-10-09 11:01:00</td>\n",
       "    </tr>\n",
       "  </tbody>\n",
       "</table>\n",
       "</div>"
      ],
      "text/plain": [
       "        rms      peak  peak2peak  variance  crest_factor  utilization  \\\n",
       "0  0.647123  2.691750   5.367004  0.418769      4.159563            1   \n",
       "1  0.646619  2.715251   5.414856  0.418116      4.199152            1   \n",
       "2  0.646873  2.685147   5.351562  0.418445      4.150966            1   \n",
       "3  0.646643  2.726605   5.395325  0.418147      4.216556            1   \n",
       "4  0.646717  2.697001   5.310974  0.418243      4.170294            1   \n",
       "\n",
       "   dc_component  timestamps                Date  \n",
       "0     -0.140420  1570273260 2019-10-05 11:01:00  \n",
       "1     -0.140239  1570359660 2019-10-06 11:01:00  \n",
       "2     -0.140347  1570446060 2019-10-07 11:01:00  \n",
       "3     -0.140423  1570532460 2019-10-08 11:01:00  \n",
       "4     -0.140055  1570618860 2019-10-09 11:01:00  "
      ]
     },
     "execution_count": 15,
     "metadata": {},
     "output_type": "execute_result"
    }
   ],
   "source": [
    "df_kpi1 = pd.DataFrame(kpi_output1[\"results\"][\"acc\"])\n",
    "df_kpi1[\"timestamps\"] = kpi_output1[\"results\"]['timestamps']\n",
    "df_kpi1['Date'] = pd.to_datetime(df_kpi1['timestamps'], unit=\"s\")\n",
    "df_kpi1.head()"
   ]
  },
  {
   "cell_type": "markdown",
   "id": "9fc8a281",
   "metadata": {
    "pycharm": {
     "name": "#%% md\n"
    }
   },
   "source": [
    "The `\"results\"` of the \"ModeId\" feature are four lists and one dictionary:\n",
    "- The first list is the measurement epoch in the same unit as the measurement was uploaded, which is seconds for this example.\n",
    "- The second list corresponds to the mode label given to the timestamp.\n",
    "- The third list is a boolean to indicate the uncertainty of label.\n",
    "- The fourth list corresponds to the mode probability of each mode label.\n",
    "\n",
    "The dictionary, called 'model_info', contains the \"Emerging modes\" results.\n",
    "\n",
    "\"Emerging modes\" is an additional output of the analysis results that describes the first appearance of each one of the identified modes.\n",
    "\n",
    "We pass all the lists to a dataframe for ease of manipulation.\n",
    "Similarly to the RMS feature, we will show how to access the dictionary results information and convert it into a Pandas dataframe.\n",
    "Please check the [\"Analysis Classes\"](analysis_classes.ipynb) example for directly getting a results Pandas dataframe.\n",
    "In addition, the \"timestamp\" column is converted to a timestamp object in a column called \"Date\"."
   ]
  },
  {
   "cell_type": "code",
   "execution_count": 16,
   "id": "d1b97b73",
   "metadata": {
    "ExecuteTime": {
     "end_time": "2021-03-18T10:00:57.673176Z",
     "start_time": "2021-03-18T10:00:57.664766Z"
    },
    "execution": {
     "iopub.execute_input": "2021-12-14T11:21:32.837645Z",
     "iopub.status.busy": "2021-12-14T11:21:32.837268Z",
     "iopub.status.idle": "2021-12-14T11:21:32.844123Z",
     "shell.execute_reply": "2021-12-14T11:21:32.844408Z"
    },
    "scrolled": true
   },
   "outputs": [
    {
     "data": {
      "text/html": [
       "<div>\n",
       "<style scoped>\n",
       "    .dataframe tbody tr th:only-of-type {\n",
       "        vertical-align: middle;\n",
       "    }\n",
       "\n",
       "    .dataframe tbody tr th {\n",
       "        vertical-align: top;\n",
       "    }\n",
       "\n",
       "    .dataframe thead th {\n",
       "        text-align: right;\n",
       "    }\n",
       "</style>\n",
       "<table border=\"1\" class=\"dataframe\">\n",
       "  <thead>\n",
       "    <tr style=\"text-align: right;\">\n",
       "      <th></th>\n",
       "      <th>timestamps</th>\n",
       "      <th>labels</th>\n",
       "      <th>uncertain</th>\n",
       "      <th>mode_probability</th>\n",
       "      <th>Date</th>\n",
       "    </tr>\n",
       "  </thead>\n",
       "  <tbody>\n",
       "    <tr>\n",
       "      <th>0</th>\n",
       "      <td>1570273260</td>\n",
       "      <td>2</td>\n",
       "      <td>False</td>\n",
       "      <td>0.955361</td>\n",
       "      <td>2019-10-05 11:01:00</td>\n",
       "    </tr>\n",
       "    <tr>\n",
       "      <th>1</th>\n",
       "      <td>1570359660</td>\n",
       "      <td>2</td>\n",
       "      <td>False</td>\n",
       "      <td>0.945646</td>\n",
       "      <td>2019-10-06 11:01:00</td>\n",
       "    </tr>\n",
       "    <tr>\n",
       "      <th>2</th>\n",
       "      <td>1570446060</td>\n",
       "      <td>2</td>\n",
       "      <td>False</td>\n",
       "      <td>0.994171</td>\n",
       "      <td>2019-10-07 11:01:00</td>\n",
       "    </tr>\n",
       "    <tr>\n",
       "      <th>3</th>\n",
       "      <td>1570532460</td>\n",
       "      <td>2</td>\n",
       "      <td>False</td>\n",
       "      <td>0.934523</td>\n",
       "      <td>2019-10-08 11:01:00</td>\n",
       "    </tr>\n",
       "    <tr>\n",
       "      <th>4</th>\n",
       "      <td>1570618860</td>\n",
       "      <td>2</td>\n",
       "      <td>False</td>\n",
       "      <td>0.904197</td>\n",
       "      <td>2019-10-09 11:01:00</td>\n",
       "    </tr>\n",
       "  </tbody>\n",
       "</table>\n",
       "</div>"
      ],
      "text/plain": [
       "   timestamps  labels  uncertain  mode_probability                Date\n",
       "0  1570273260       2      False          0.955361 2019-10-05 11:01:00\n",
       "1  1570359660       2      False          0.945646 2019-10-06 11:01:00\n",
       "2  1570446060       2      False          0.994171 2019-10-07 11:01:00\n",
       "3  1570532460       2      False          0.934523 2019-10-08 11:01:00\n",
       "4  1570618860       2      False          0.904197 2019-10-09 11:01:00"
      ]
     },
     "execution_count": 16,
     "metadata": {},
     "output_type": "execute_result"
    }
   ],
   "source": [
    "mode_all1 = mode_output1[\"results\"].copy()\n",
    "mode_probabilities1 = mode_all1.pop(\"mode_probabilities\")\n",
    "mode_emerging1 = mode_all1.pop(\"mode_info\")\n",
    "\n",
    "# Conversion to dataframe of the full mode labels table\n",
    "df_mode1 = pd.DataFrame(mode_all1)\n",
    "df_mode1['Date'] = pd.to_datetime(df_mode1['timestamps'], unit=\"s\")\n",
    "df_mode1.head()"
   ]
  },
  {
   "cell_type": "code",
   "execution_count": 17,
   "id": "da4265e9",
   "metadata": {
    "execution": {
     "iopub.execute_input": "2021-12-14T11:21:32.852050Z",
     "iopub.status.busy": "2021-12-14T11:21:32.849046Z",
     "iopub.status.idle": "2021-12-14T11:21:32.854777Z",
     "shell.execute_reply": "2021-12-14T11:21:32.854467Z"
    },
    "pycharm": {
     "name": "#%%\n"
    }
   },
   "outputs": [
    {
     "data": {
      "text/html": [
       "<div>\n",
       "<style scoped>\n",
       "    .dataframe tbody tr th:only-of-type {\n",
       "        vertical-align: middle;\n",
       "    }\n",
       "\n",
       "    .dataframe tbody tr th {\n",
       "        vertical-align: top;\n",
       "    }\n",
       "\n",
       "    .dataframe thead th {\n",
       "        text-align: right;\n",
       "    }\n",
       "</style>\n",
       "<table border=\"1\" class=\"dataframe\">\n",
       "  <thead>\n",
       "    <tr style=\"text-align: right;\">\n",
       "      <th></th>\n",
       "      <th>modes</th>\n",
       "      <th>emerging_time</th>\n",
       "      <th>max_prob_time</th>\n",
       "      <th>max_probability</th>\n",
       "      <th>emerging_Date</th>\n",
       "    </tr>\n",
       "  </thead>\n",
       "  <tbody>\n",
       "    <tr>\n",
       "      <th>0</th>\n",
       "      <td>2</td>\n",
       "      <td>1570273260</td>\n",
       "      <td>1570446060</td>\n",
       "      <td>0.994171</td>\n",
       "      <td>2019-10-05 11:01:00</td>\n",
       "    </tr>\n",
       "    <tr>\n",
       "      <th>1</th>\n",
       "      <td>1</td>\n",
       "      <td>1571655660</td>\n",
       "      <td>1571742060</td>\n",
       "      <td>0.997687</td>\n",
       "      <td>2019-10-21 11:01:00</td>\n",
       "    </tr>\n",
       "    <tr>\n",
       "      <th>2</th>\n",
       "      <td>0</td>\n",
       "      <td>1572350460</td>\n",
       "      <td>1573041660</td>\n",
       "      <td>0.999065</td>\n",
       "      <td>2019-10-29 12:01:00</td>\n",
       "    </tr>\n",
       "  </tbody>\n",
       "</table>\n",
       "</div>"
      ],
      "text/plain": [
       "   modes  emerging_time  max_prob_time  max_probability       emerging_Date\n",
       "0      2     1570273260     1570446060         0.994171 2019-10-05 11:01:00\n",
       "1      1     1571655660     1571742060         0.997687 2019-10-21 11:01:00\n",
       "2      0     1572350460     1573041660         0.999065 2019-10-29 12:01:00"
      ]
     },
     "execution_count": 17,
     "metadata": {},
     "output_type": "execute_result"
    }
   ],
   "source": [
    "# Conversion to dataframe of the emerging modes table\n",
    "df_emerging1 = pd.DataFrame(mode_emerging1)\n",
    "df_emerging1['emerging_Date'] = pd.to_datetime(df_emerging1['emerging_time'], unit=\"s\")\n",
    "df_emerging1.head()"
   ]
  },
  {
   "cell_type": "markdown",
   "id": "4c5ecba9",
   "metadata": {
    "pycharm": {
     "name": "#%% md\n"
    }
   },
   "source": [
    "For the purpose of demonstration of our visualization functions, we will merge the dataframes of the \"RMS\" results and the \"ModeId\" results into a single dataframe."
   ]
  },
  {
   "cell_type": "code",
   "execution_count": 18,
   "id": "5aa3981c",
   "metadata": {
    "ExecuteTime": {
     "end_time": "2021-03-18T10:00:58.990587Z",
     "start_time": "2021-03-18T10:00:58.980233Z"
    },
    "execution": {
     "iopub.execute_input": "2021-12-14T11:21:32.861002Z",
     "iopub.status.busy": "2021-12-14T11:21:32.857856Z",
     "iopub.status.idle": "2021-12-14T11:21:32.869867Z",
     "shell.execute_reply": "2021-12-14T11:21:32.869559Z"
    },
    "pycharm": {
     "name": "#%%\n"
    }
   },
   "outputs": [
    {
     "data": {
      "text/html": [
       "<div>\n",
       "<style scoped>\n",
       "    .dataframe tbody tr th:only-of-type {\n",
       "        vertical-align: middle;\n",
       "    }\n",
       "\n",
       "    .dataframe tbody tr th {\n",
       "        vertical-align: top;\n",
       "    }\n",
       "\n",
       "    .dataframe thead th {\n",
       "        text-align: right;\n",
       "    }\n",
       "</style>\n",
       "<table border=\"1\" class=\"dataframe\">\n",
       "  <thead>\n",
       "    <tr style=\"text-align: right;\">\n",
       "      <th></th>\n",
       "      <th>rms</th>\n",
       "      <th>peak</th>\n",
       "      <th>peak2peak</th>\n",
       "      <th>variance</th>\n",
       "      <th>crest_factor</th>\n",
       "      <th>utilization</th>\n",
       "      <th>dc_component</th>\n",
       "      <th>timestamps</th>\n",
       "      <th>Date</th>\n",
       "      <th>labels</th>\n",
       "      <th>uncertain</th>\n",
       "      <th>mode_probability</th>\n",
       "    </tr>\n",
       "  </thead>\n",
       "  <tbody>\n",
       "    <tr>\n",
       "      <th>0</th>\n",
       "      <td>0.647123</td>\n",
       "      <td>2.691750</td>\n",
       "      <td>5.367004</td>\n",
       "      <td>0.418769</td>\n",
       "      <td>4.159563</td>\n",
       "      <td>1</td>\n",
       "      <td>-0.140420</td>\n",
       "      <td>1570273260</td>\n",
       "      <td>2019-10-05 11:01:00</td>\n",
       "      <td>2</td>\n",
       "      <td>False</td>\n",
       "      <td>0.955361</td>\n",
       "    </tr>\n",
       "    <tr>\n",
       "      <th>1</th>\n",
       "      <td>0.646619</td>\n",
       "      <td>2.715251</td>\n",
       "      <td>5.414856</td>\n",
       "      <td>0.418116</td>\n",
       "      <td>4.199152</td>\n",
       "      <td>1</td>\n",
       "      <td>-0.140239</td>\n",
       "      <td>1570359660</td>\n",
       "      <td>2019-10-06 11:01:00</td>\n",
       "      <td>2</td>\n",
       "      <td>False</td>\n",
       "      <td>0.945646</td>\n",
       "    </tr>\n",
       "    <tr>\n",
       "      <th>2</th>\n",
       "      <td>0.646873</td>\n",
       "      <td>2.685147</td>\n",
       "      <td>5.351562</td>\n",
       "      <td>0.418445</td>\n",
       "      <td>4.150966</td>\n",
       "      <td>1</td>\n",
       "      <td>-0.140347</td>\n",
       "      <td>1570446060</td>\n",
       "      <td>2019-10-07 11:01:00</td>\n",
       "      <td>2</td>\n",
       "      <td>False</td>\n",
       "      <td>0.994171</td>\n",
       "    </tr>\n",
       "    <tr>\n",
       "      <th>3</th>\n",
       "      <td>0.646643</td>\n",
       "      <td>2.726605</td>\n",
       "      <td>5.395325</td>\n",
       "      <td>0.418147</td>\n",
       "      <td>4.216556</td>\n",
       "      <td>1</td>\n",
       "      <td>-0.140423</td>\n",
       "      <td>1570532460</td>\n",
       "      <td>2019-10-08 11:01:00</td>\n",
       "      <td>2</td>\n",
       "      <td>False</td>\n",
       "      <td>0.934523</td>\n",
       "    </tr>\n",
       "    <tr>\n",
       "      <th>4</th>\n",
       "      <td>0.646717</td>\n",
       "      <td>2.697001</td>\n",
       "      <td>5.310974</td>\n",
       "      <td>0.418243</td>\n",
       "      <td>4.170294</td>\n",
       "      <td>1</td>\n",
       "      <td>-0.140055</td>\n",
       "      <td>1570618860</td>\n",
       "      <td>2019-10-09 11:01:00</td>\n",
       "      <td>2</td>\n",
       "      <td>False</td>\n",
       "      <td>0.904197</td>\n",
       "    </tr>\n",
       "  </tbody>\n",
       "</table>\n",
       "</div>"
      ],
      "text/plain": [
       "        rms      peak  peak2peak  variance  crest_factor  utilization  \\\n",
       "0  0.647123  2.691750   5.367004  0.418769      4.159563            1   \n",
       "1  0.646619  2.715251   5.414856  0.418116      4.199152            1   \n",
       "2  0.646873  2.685147   5.351562  0.418445      4.150966            1   \n",
       "3  0.646643  2.726605   5.395325  0.418147      4.216556            1   \n",
       "4  0.646717  2.697001   5.310974  0.418243      4.170294            1   \n",
       "\n",
       "   dc_component  timestamps                Date  labels  uncertain  \\\n",
       "0     -0.140420  1570273260 2019-10-05 11:01:00       2      False   \n",
       "1     -0.140239  1570359660 2019-10-06 11:01:00       2      False   \n",
       "2     -0.140347  1570446060 2019-10-07 11:01:00       2      False   \n",
       "3     -0.140423  1570532460 2019-10-08 11:01:00       2      False   \n",
       "4     -0.140055  1570618860 2019-10-09 11:01:00       2      False   \n",
       "\n",
       "   mode_probability  \n",
       "0          0.955361  \n",
       "1          0.945646  \n",
       "2          0.994171  \n",
       "3          0.934523  \n",
       "4          0.904197  "
      ]
     },
     "execution_count": 18,
     "metadata": {},
     "output_type": "execute_result"
    }
   ],
   "source": [
    "df_u0001 =  pd.merge_asof(df_kpi1, df_mode1, on=\"timestamps\", by=\"Date\")\n",
    "df_u0001.head()"
   ]
  },
  {
   "cell_type": "markdown",
   "id": "edfaf359",
   "metadata": {
    "pycharm": {
     "name": "#%% md\n"
    }
   },
   "source": [
    "We repeat the same procedure of converting the results to a dataframe for source \"u0005\"."
   ]
  },
  {
   "cell_type": "code",
   "execution_count": 19,
   "id": "e5c15e75",
   "metadata": {
    "ExecuteTime": {
     "end_time": "2021-03-18T10:01:01.536419Z",
     "start_time": "2021-03-18T10:01:01.523935Z"
    },
    "execution": {
     "iopub.execute_input": "2021-12-14T11:21:32.886851Z",
     "iopub.status.busy": "2021-12-14T11:21:32.878155Z",
     "iopub.status.idle": "2021-12-14T11:21:32.890603Z",
     "shell.execute_reply": "2021-12-14T11:21:32.890281Z"
    },
    "pycharm": {
     "name": "#%%\n"
    }
   },
   "outputs": [
    {
     "data": {
      "text/html": [
       "<div>\n",
       "<style scoped>\n",
       "    .dataframe tbody tr th:only-of-type {\n",
       "        vertical-align: middle;\n",
       "    }\n",
       "\n",
       "    .dataframe tbody tr th {\n",
       "        vertical-align: top;\n",
       "    }\n",
       "\n",
       "    .dataframe thead th {\n",
       "        text-align: right;\n",
       "    }\n",
       "</style>\n",
       "<table border=\"1\" class=\"dataframe\">\n",
       "  <thead>\n",
       "    <tr style=\"text-align: right;\">\n",
       "      <th></th>\n",
       "      <th>rms</th>\n",
       "      <th>peak</th>\n",
       "      <th>peak2peak</th>\n",
       "      <th>variance</th>\n",
       "      <th>crest_factor</th>\n",
       "      <th>utilization</th>\n",
       "      <th>dc_component</th>\n",
       "      <th>timestamps</th>\n",
       "      <th>Date</th>\n",
       "      <th>labels</th>\n",
       "      <th>uncertain</th>\n",
       "      <th>mode_probability</th>\n",
       "    </tr>\n",
       "  </thead>\n",
       "  <tbody>\n",
       "    <tr>\n",
       "      <th>0</th>\n",
       "      <td>0.646887</td>\n",
       "      <td>2.753406</td>\n",
       "      <td>5.352417</td>\n",
       "      <td>0.418462</td>\n",
       "      <td>4.256397</td>\n",
       "      <td>1</td>\n",
       "      <td>-0.140491</td>\n",
       "      <td>1570186860</td>\n",
       "      <td>2019-10-04 11:01:00</td>\n",
       "      <td>1</td>\n",
       "      <td>False</td>\n",
       "      <td>0.941903</td>\n",
       "    </tr>\n",
       "    <tr>\n",
       "      <th>1</th>\n",
       "      <td>0.646963</td>\n",
       "      <td>2.784282</td>\n",
       "      <td>5.446289</td>\n",
       "      <td>0.418562</td>\n",
       "      <td>4.303615</td>\n",
       "      <td>1</td>\n",
       "      <td>-0.140056</td>\n",
       "      <td>1570273260</td>\n",
       "      <td>2019-10-05 11:01:00</td>\n",
       "      <td>1</td>\n",
       "      <td>False</td>\n",
       "      <td>0.829873</td>\n",
       "    </tr>\n",
       "    <tr>\n",
       "      <th>2</th>\n",
       "      <td>0.646905</td>\n",
       "      <td>2.767685</td>\n",
       "      <td>5.388000</td>\n",
       "      <td>0.418485</td>\n",
       "      <td>4.278352</td>\n",
       "      <td>1</td>\n",
       "      <td>-0.140244</td>\n",
       "      <td>1570359660</td>\n",
       "      <td>2019-10-06 11:01:00</td>\n",
       "      <td>1</td>\n",
       "      <td>False</td>\n",
       "      <td>0.934453</td>\n",
       "    </tr>\n",
       "    <tr>\n",
       "      <th>3</th>\n",
       "      <td>0.647395</td>\n",
       "      <td>2.838854</td>\n",
       "      <td>5.481140</td>\n",
       "      <td>0.419120</td>\n",
       "      <td>4.385044</td>\n",
       "      <td>1</td>\n",
       "      <td>-0.140124</td>\n",
       "      <td>1570446060</td>\n",
       "      <td>2019-10-07 11:01:00</td>\n",
       "      <td>1</td>\n",
       "      <td>False</td>\n",
       "      <td>0.962266</td>\n",
       "    </tr>\n",
       "    <tr>\n",
       "      <th>4</th>\n",
       "      <td>0.647057</td>\n",
       "      <td>2.748442</td>\n",
       "      <td>5.371582</td>\n",
       "      <td>0.418683</td>\n",
       "      <td>4.247603</td>\n",
       "      <td>1</td>\n",
       "      <td>-0.140165</td>\n",
       "      <td>1570532460</td>\n",
       "      <td>2019-10-08 11:01:00</td>\n",
       "      <td>1</td>\n",
       "      <td>False</td>\n",
       "      <td>0.950216</td>\n",
       "    </tr>\n",
       "  </tbody>\n",
       "</table>\n",
       "</div>"
      ],
      "text/plain": [
       "        rms      peak  peak2peak  variance  crest_factor  utilization  \\\n",
       "0  0.646887  2.753406   5.352417  0.418462      4.256397            1   \n",
       "1  0.646963  2.784282   5.446289  0.418562      4.303615            1   \n",
       "2  0.646905  2.767685   5.388000  0.418485      4.278352            1   \n",
       "3  0.647395  2.838854   5.481140  0.419120      4.385044            1   \n",
       "4  0.647057  2.748442   5.371582  0.418683      4.247603            1   \n",
       "\n",
       "   dc_component  timestamps                Date  labels  uncertain  \\\n",
       "0     -0.140491  1570186860 2019-10-04 11:01:00       1      False   \n",
       "1     -0.140056  1570273260 2019-10-05 11:01:00       1      False   \n",
       "2     -0.140244  1570359660 2019-10-06 11:01:00       1      False   \n",
       "3     -0.140124  1570446060 2019-10-07 11:01:00       1      False   \n",
       "4     -0.140165  1570532460 2019-10-08 11:01:00       1      False   \n",
       "\n",
       "   mode_probability  \n",
       "0          0.941903  \n",
       "1          0.829873  \n",
       "2          0.934453  \n",
       "3          0.962266  \n",
       "4          0.950216  "
      ]
     },
     "execution_count": 19,
     "metadata": {},
     "output_type": "execute_result"
    }
   ],
   "source": [
    "#RMS\n",
    "df_rms5 = pd.DataFrame(kpi_output5[\"results\"][\"acc\"])\n",
    "df_rms5[\"timestamps\"] = kpi_output5[\"results\"]['timestamps']\n",
    "df_rms5['Date'] = pd.to_datetime(df_rms5['timestamps'], unit=\"s\")\n",
    "#MODE_ID (full)\n",
    "mode_all5 = mode_output5[\"results\"].copy()\n",
    "mode_probabilities5 = mode_all5.pop(\"mode_probabilities\")\n",
    "mode_emerging5 = mode_all5.pop(\"mode_info\")\n",
    "df_mode5 = pd.DataFrame(mode_all5)\n",
    "df_mode5['Date'] = pd.to_datetime(df_mode5['timestamps'], unit=\"s\")\n",
    "#Merging dataframes\n",
    "df_u0005 = pd.merge_asof(df_rms5, df_mode5, on=\"timestamps\", by=\"Date\")\n",
    "df_u0005.head()"
   ]
  },
  {
   "cell_type": "markdown",
   "id": "d4ad8e3b",
   "metadata": {},
   "source": [
    "We can call the individual boxplot for one source and display the boxplot of the \"RMS\" for each one of the operating modes.\n",
    "Here, we use results for source \"u0001\"."
   ]
  },
  {
   "cell_type": "code",
   "execution_count": 20,
   "id": "9fdeb193",
   "metadata": {
    "ExecuteTime": {
     "end_time": "2021-03-18T10:01:07.727375Z",
     "start_time": "2021-03-18T10:01:07.628927Z"
    },
    "execution": {
     "iopub.execute_input": "2021-12-14T11:21:32.896360Z",
     "iopub.status.busy": "2021-12-14T11:21:32.895991Z",
     "iopub.status.idle": "2021-12-14T11:21:33.006827Z",
     "shell.execute_reply": "2021-12-14T11:21:33.007410Z"
    }
   },
   "outputs": [
    {
     "name": "stderr",
     "output_type": "stream",
     "text": [
      "/home/runner/.local/lib/python3.8/site-packages/pandas/core/arrays/categorical.py:2631: FutureWarning: The `inplace` parameter in pandas.Categorical.set_categories is deprecated and will be removed in a future version. Removing unused categories will always return a new Categorical object.\n",
      "  res = method(*args, **kwargs)\n"
     ]
    },
    {
     "data": {
      "image/png": "[encoded data removed]",
      "text/plain": [
       "<Figure size 576x216 with 1 Axes>"
      ]
     },
     "metadata": {
      "needs_background": "light"
     },
     "output_type": "display_data"
    }
   ],
   "source": [
    "image_boxplot = plotting.modes_boxplot(df_u0001, \"rms\", SOURCE_IDS[0])"
   ]
  },
  {
   "cell_type": "markdown",
   "id": "59166912",
   "metadata": {},
   "source": [
    "We create a list with all the sources dataframes for the \"ModeId\" feature and display the \"RMS\" boxplot across the different modes."
   ]
  },
  {
   "cell_type": "code",
   "execution_count": 21,
   "id": "284ea1d6",
   "metadata": {
    "ExecuteTime": {
     "end_time": "2021-03-18T10:01:11.059225Z",
     "start_time": "2021-03-18T10:01:10.915230Z"
    },
    "execution": {
     "iopub.execute_input": "2021-12-14T11:21:33.010114Z",
     "iopub.status.busy": "2021-12-14T11:21:33.009396Z",
     "iopub.status.idle": "2021-12-14T11:21:33.199109Z",
     "shell.execute_reply": "2021-12-14T11:21:33.198777Z"
    },
    "scrolled": true
   },
   "outputs": [
    {
     "name": "stderr",
     "output_type": "stream",
     "text": [
      "/home/runner/.local/lib/python3.8/site-packages/pandas/core/arrays/categorical.py:2631: FutureWarning: The `inplace` parameter in pandas.Categorical.set_categories is deprecated and will be removed in a future version. Removing unused categories will always return a new Categorical object.\n",
      "  res = method(*args, **kwargs)\n",
      "/home/runner/.local/lib/python3.8/site-packages/pandas/core/arrays/categorical.py:2631: FutureWarning: The `inplace` parameter in pandas.Categorical.set_categories is deprecated and will be removed in a future version. Removing unused categories will always return a new Categorical object.\n",
      "  res = method(*args, **kwargs)\n"
     ]
    },
    {
     "data": {
      "image/png": "[encoded data removed]",
      "text/plain": [
       "<Figure size 432x432 with 2 Axes>"
      ]
     },
     "metadata": {
      "needs_background": "light"
     },
     "output_type": "display_data"
    }
   ],
   "source": [
    "plotting.modes_group_boxplot([df_u0001, df_u0005], \"rms\", SOURCE_IDS)"
   ]
  },
  {
   "cell_type": "markdown",
   "id": "bbe13570",
   "metadata": {},
   "source": [
    "We call the display over time of an individual source and identify all its operating modes.\n",
    "We define the parameter \"timeunit\" given that the default unit in the function is milliseconds and the epochs in our data is seconds."
   ]
  },
  {
   "cell_type": "code",
   "execution_count": 22,
   "id": "6f3976f9",
   "metadata": {
    "ExecuteTime": {
     "end_time": "2021-03-18T10:01:16.615916Z",
     "start_time": "2021-03-18T10:01:16.510745Z"
    },
    "execution": {
     "iopub.execute_input": "2021-12-14T11:21:33.210304Z",
     "iopub.status.busy": "2021-12-14T11:21:33.200924Z",
     "iopub.status.idle": "2021-12-14T11:21:33.281533Z",
     "shell.execute_reply": "2021-12-14T11:21:33.282111Z"
    }
   },
   "outputs": [
    {
     "data": {
      "image/png": "[encoded data removed]",
      "text/plain": [
       "<Figure size 720x216 with 1 Axes>"
      ]
     },
     "metadata": {
      "needs_background": "light"
     },
     "output_type": "display_data"
    }
   ],
   "source": [
    "image_modes = plotting.modes_over_time(df_u0001, SOURCE_IDS[0], timeunit=\"s\")"
   ]
  },
  {
   "cell_type": "markdown",
   "id": "3fececbd",
   "metadata": {},
   "source": [
    "Uncertain areas appear as a gray rectangle above the corresponding periods in the modes plot.\n",
    "If there are not uncertain areas, the space is white.\n",
    "\n",
    "We create a list with all the sources dataframes and display the modes over time for all."
   ]
  },
  {
   "cell_type": "code",
   "execution_count": 23,
   "id": "afac2234",
   "metadata": {
    "ExecuteTime": {
     "end_time": "2021-03-18T10:01:17.917436Z",
     "start_time": "2021-03-18T10:01:17.618543Z"
    },
    "execution": {
     "iopub.execute_input": "2021-12-14T11:21:33.293687Z",
     "iopub.status.busy": "2021-12-14T11:21:33.284109Z",
     "iopub.status.idle": "2021-12-14T11:21:33.491585Z",
     "shell.execute_reply": "2021-12-14T11:21:33.490816Z"
    },
    "pycharm": {
     "name": "#%%\n"
    }
   },
   "outputs": [
    {
     "data": {
      "image/png": "[encoded data removed]",
      "text/plain": [
       "<Figure size 648x432 with 2 Axes>"
      ]
     },
     "metadata": {
      "needs_background": "light"
     },
     "output_type": "display_data"
    }
   ],
   "source": [
    "plotting.modes_over_time_group([df_u0001, df_u0005], SOURCE_IDS, timeunit=\"s\")"
   ]
  },
  {
   "cell_type": "markdown",
   "id": "9c99ad36",
   "metadata": {
    "pycharm": {
     "name": "#%% md\n"
    }
   },
   "source": [
    "## Population Analysis\n",
    "\n",
    "Another feature is \"BlackSheep\", which targets a group of assets and aims to identify the atypical assets within a population.  \n",
    "\n",
    "During our example, we will utilize all sources previously uploaded to our database."
   ]
  },
  {
   "cell_type": "code",
   "execution_count": 24,
   "id": "d6dc6cba",
   "metadata": {
    "execution": {
     "iopub.execute_input": "2021-12-14T11:21:33.496369Z",
     "iopub.status.busy": "2021-12-14T11:21:33.495572Z",
     "iopub.status.idle": "2021-12-14T11:21:33.500244Z",
     "shell.execute_reply": "2021-12-14T11:21:33.499658Z"
    },
    "pycharm": {
     "name": "#%%\n"
    }
   },
   "outputs": [
    {
     "data": {
      "text/plain": [
       "['u0001', 'u0002', 'u0003', 'u0004', 'u0005', 'u0006']"
      ]
     },
     "execution_count": 24,
     "metadata": {},
     "output_type": "execute_result"
    }
   ],
   "source": [
    "SOURCE_ID_ALL = [\"u0001\", \"u0002\", \"u0003\", \"u0004\", \"u0005\", \"u0006\"]\n",
    "SOURCE_ID_ALL"
   ]
  },
  {
   "cell_type": "markdown",
   "id": "804d00bd",
   "metadata": {},
   "source": [
    "Similar to single asset feature, the requested population analysis will return a dictionary object with two elements.\n",
    "The first element is a `\"request_id\"` that can be used to retrieve the results after.\n",
    "The second element is `\"request_status\"` that provides the status right after placing the analysis request. \n",
    "\n",
    "Here, we will request the \"BlackSheep\" feature for all our sources.\n",
    "In addition, we show how to pass additional parameters into the analysis request.\n",
    "When we want to pass an additional parameter request, this needs to be in the form of a dictionary.\n",
    "In this particular analysis, we had relaxed the `\"atypical_threshold\"` parameter from the default value of 0.05 to 0.10 to discover a larger number of assets as atypical."
   ]
  },
  {
   "cell_type": "code",
   "execution_count": 25,
   "id": "2d5a9c09",
   "metadata": {
    "execution": {
     "iopub.execute_input": "2021-12-14T11:21:33.504640Z",
     "iopub.status.busy": "2021-12-14T11:21:33.503102Z",
     "iopub.status.idle": "2021-12-14T11:21:33.859296Z",
     "shell.execute_reply": "2021-12-14T11:21:33.858890Z"
    },
    "pycharm": {
     "name": "#%%\n"
    }
   },
   "outputs": [
    {
     "data": {
      "text/plain": [
       "{'request_id': 'c7d72653de4c1af2cb5b965f70ccad1c', 'request_status': 'queued'}"
      ]
     },
     "execution_count": 25,
     "metadata": {},
     "output_type": "execute_result"
    }
   ],
   "source": [
    "params = {\"atypical_threshold\": 0.1}\n",
    "BS_ALL = session.request_population_analysis(SOURCE_ID_ALL, 'BlackSheep', parameters = params)\n",
    "BS_ALL"
   ]
  },
  {
   "cell_type": "markdown",
   "id": "7a856216",
   "metadata": {},
   "source": [
    "Similarly, we can query for the status of our requested analysis, where the different status options remain the same."
   ]
  },
  {
   "cell_type": "code",
   "execution_count": 26,
   "id": "65d04f09",
   "metadata": {
    "execution": {
     "iopub.execute_input": "2021-12-14T11:21:33.863973Z",
     "iopub.status.busy": "2021-12-14T11:21:33.862582Z",
     "iopub.status.idle": "2021-12-14T11:23:06.431106Z",
     "shell.execute_reply": "2021-12-14T11:23:06.431479Z"
    },
    "pycharm": {
     "name": "#%%\n"
    }
   },
   "outputs": [
    {
     "name": "stdout",
     "output_type": "stream",
     "text": [
      "BlackSheep Analysis: successful\n"
     ]
    }
   ],
   "source": [
    "REQUEST_ID_ALL = BS_ALL['request_id']\n",
    "status = session.get_analysis_status(REQUEST_ID_ALL)\n",
    "print(f\"BlackSheep Analysis: {status}\")"
   ]
  },
  {
   "cell_type": "markdown",
   "id": "0994c913",
   "metadata": {},
   "source": [
    "The next step is to retrieve the results by calling the \"request_id\".\n",
    "\n",
    "The output of the `\"get_analysis_results\"` function is similar to single asset features.\n",
    "These seven elements are:\n",
    "- `\"status\"` indicates if the analysis was successful.\n",
    "- `\"request_id\"` is the identifier of the requested analysis.\n",
    "- `\"feature\"` is the name of the request feature.\n",
    "- `\"results\"` includes the numeric results.\n",
    "- `\"inputs\"` includes the input information for the request analysis.\n",
    "- `\"error_info\"` includes the error information in case the analysis fails and it is empty if the analysis is successful.\n",
    "- `\"debug_info\"` includes debugging (log) information related to the failed analysis."
   ]
  },
  {
   "cell_type": "code",
   "execution_count": 27,
   "id": "9195ad40",
   "metadata": {
    "execution": {
     "iopub.execute_input": "2021-12-14T11:23:06.436631Z",
     "iopub.status.busy": "2021-12-14T11:23:06.435043Z",
     "iopub.status.idle": "2021-12-14T11:23:07.071174Z",
     "shell.execute_reply": "2021-12-14T11:23:07.070730Z"
    },
    "pycharm": {
     "name": "#%%\n"
    }
   },
   "outputs": [
    {
     "data": {
      "text/plain": [
       "dict_keys(['status', 'request_id', 'feature', 'results', 'inputs', 'error_info', 'debug_info'])"
      ]
     },
     "execution_count": 27,
     "metadata": {},
     "output_type": "execute_result"
    }
   ],
   "source": [
    "session.wait_for_analyses([REQUEST_ID_ALL])\n",
    "blacksheep_table = session.get_analysis_results(request_id=REQUEST_ID_ALL)\n",
    "blacksheep_table.keys()"
   ]
  },
  {
   "cell_type": "markdown",
   "id": "efb3d789",
   "metadata": {},
   "source": [
    "The `\"results\"` of the \"BlackSheep\" indicates the atypical assets.\n",
    "`\"results\"` is a dictionary with a key element labelled `\"atypical_assets\"`.\n",
    "`\"atypical_assets\"` is a list and the length of the list indicates the number of atypical assets.\n",
    "Each element on this list is a dictionary.\n",
    "The dictionary includes the source_id of the atypical assets, a list with all the measurement timestamps and the corresponding list with a boolean indicating whether the measurement is atypical.\n",
    "\n",
    "Here, we show the number of atypical assets and the atypical order of these assets."
   ]
  },
  {
   "cell_type": "code",
   "execution_count": 28,
   "id": "dda7350d",
   "metadata": {
    "execution": {
     "iopub.execute_input": "2021-12-14T11:23:07.075320Z",
     "iopub.status.busy": "2021-12-14T11:23:07.074906Z",
     "iopub.status.idle": "2021-12-14T11:23:07.077752Z",
     "shell.execute_reply": "2021-12-14T11:23:07.077447Z"
    },
    "pycharm": {
     "name": "#%%\n"
    }
   },
   "outputs": [
    {
     "name": "stdout",
     "output_type": "stream",
     "text": [
      "There is a total of 2 atypical assets in this analysis.\n"
     ]
    }
   ],
   "source": [
    "atypical_output = blacksheep_table[\"results\"]\n",
    "atypical = atypical_output[\"atypical_assets\"]\n",
    "\n",
    "print(f\"There is a total of {len(atypical)} atypical assets in this analysis.\")"
   ]
  },
  {
   "cell_type": "code",
   "execution_count": 29,
   "id": "e34d33dc",
   "metadata": {
    "execution": {
     "iopub.execute_input": "2021-12-14T11:23:07.080835Z",
     "iopub.status.busy": "2021-12-14T11:23:07.079323Z",
     "iopub.status.idle": "2021-12-14T11:23:07.083210Z",
     "shell.execute_reply": "2021-12-14T11:23:07.082823Z"
    },
    "pycharm": {
     "name": "#%%\n"
    }
   },
   "outputs": [
    {
     "name": "stdout",
     "output_type": "stream",
     "text": [
      "The 1st blacksheep is u0004\n",
      "The 2nd blacksheep is u0002\n"
     ]
    }
   ],
   "source": [
    "atypical1 = atypical[0]\n",
    "atypical2 = atypical[1]\n",
    "print(f\"The 1st blacksheep is {atypical1['source_id']}\")\n",
    "print(f\"The 2nd blacksheep is {atypical2['source_id']}\")"
   ]
  },
  {
   "cell_type": "markdown",
   "id": "d5afc6e8",
   "metadata": {
    "pycharm": {
     "name": "#%% md\n"
    }
   },
   "source": [
    "Please check the [\"Analysis Classes\"](analysis_classes.ipynb) example for some of the visualization options of the blacksheep results.\n"
   ]
  }
 ],
 "metadata": {
  "kernelspec": {
   "display_name": "Python 3",
   "language": "python",
   "name": "python3"
  },
  "language_info": {
   "codemirror_mode": {
    "name": "ipython",
    "version": 3
   },
   "file_extension": ".py",
   "mimetype": "text/x-python",
   "name": "python",
   "nbconvert_exporter": "python",
   "pygments_lexer": "ipython3",
   "version": "3.8.10"
  },
  "toc": {
   "base_numbering": 1,
   "nav_menu": {},
   "number_sections": true,
   "sideBar": true,
   "skip_h1_title": false,
   "title_cell": "Table of Contents",
   "title_sidebar": "Contents",
   "toc_cell": false,
   "toc_position": {},
   "toc_section_display": true,
   "toc_window_display": false
  },
  "varInspector": {
   "cols": {
    "lenName": 16,
    "lenType": 16,
    "lenVar": 40
   },
   "kernels_config": {
    "python": {
     "delete_cmd_postfix": "",
     "delete_cmd_prefix": "del ",
     "library": "var_list.py",
     "varRefreshCmd": "print(var_dic_list())"
    },
    "r": {
     "delete_cmd_postfix": ") ",
     "delete_cmd_prefix": "rm(",
     "library": "var_list.r",
     "varRefreshCmd": "cat(var_dic_list()) "
    }
   },
   "types_to_exclude": [
    "module",
    "function",
    "builtin_function_or_method",
    "instance",
    "_Feature"
   ],
   "window_display": false
  }
 },
 "nbformat": 4,
 "nbformat_minor": 5
}

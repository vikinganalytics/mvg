{
 "cells": [
  {
   "cell_type": "markdown",
   "metadata": {},
   "source": [
    "# Working with Tabular Data\n",
    "\n",
    "Although Vibium was designed with vibration waveform data in mind, it still works wonderfully well with non-vibration or KPI data. We refer to this as tabular timeseries data. Each measurement consists of one or more variables captured at the same time. This is different from the vibration waveform data, where each measurement is a short measurement sample from one vibration sensor.\n",
    "\n",
    "In this example, we will show how to work with tabular sources and measurements, and how to create an analysis. If you have seen any of the previous examples, much of this one will be familiar to you.\n",
    "\n",
    "## Imports\n",
    "\n",
    "Beyond importing `MVG` and the `ModeId` analysis class we want to use `pandas` for loading and processing the data before the analysis."
   ]
  },
  {
   "cell_type": "code",
   "execution_count": 1,
   "metadata": {},
   "outputs": [],
   "source": [
    "from pprint import pprint\n",
    "from pathlib import Path\n",
    "\n",
    "import pandas as pd\n",
    "\n",
    "from mvg import MVG\n",
    "from mvg.analysis_classes import ModeId"
   ]
  },
  {
   "cell_type": "markdown",
   "metadata": {},
   "source": [
    "After importing we create the `MVG` session that let's us communicate with the Vibium server. For that we need an endpoint url and a valid token. If you do not have a token, you can get one [here](https://vikinganalytics.se/multiviz-vibration-api/).\n",
    "\n",
    ".. note:: Each token is used for Authorization AND Authentication. Thus, each unique token represents a unique user, each user has it own, unique database on the VA vibration' service."
   ]
  },
  {
   "cell_type": "code",
   "execution_count": 2,
   "metadata": {},
   "outputs": [],
   "source": [
    "ENDPOINT = \"http://api.beta.multiviz.com\n",
    "TOKEN = \"\"\n",
    "session = MVG(ENDPOINT, TOKEN)"
   ]
  },
  {
   "cell_type": "markdown",
   "metadata": {},
   "source": [
    "We will use a dataset that is collected from a heat pump in the cellar of one of the employees at Viking Analytics. The data is available in [this git repository](https://github.com/vikinganalytics/tabular-example-data). We clone the repository to get access it. If you don't have git you can download the data from the link.\n"
   ]
  },
  {
   "cell_type": "code",
   "execution_count": 3,
   "metadata": {},
   "outputs": [
    {
     "name": "stdout",
     "output_type": "stream",
     "text": [
      "Cloning into 'tabular-example-data'...\n",
      "remote: Enumerating objects: 7, done.\u001b[K\n",
      "remote: Counting objects: 100% (7/7), done.\u001b[K\n",
      "remote: Compressing objects: 100% (7/7), done.\u001b[K\n",
      "remote: Total 7 (delta 1), reused 3 (delta 0), pack-reused 0\u001b[K\n",
      "Unpacking objects: 100% (7/7), 259.88 KiB | 2.65 MiB/s, done.\n"
     ]
    }
   ],
   "source": [
    "!git clone https://github.com/vikinganalytics/tabular-example-data.git"
   ]
  },
  {
   "cell_type": "code",
   "execution_count": 4,
   "metadata": {},
   "outputs": [
    {
     "data": {
      "text/html": [
       "<div>\n",
       "<style scoped>\n",
       "    .dataframe tbody tr th:only-of-type {\n",
       "        vertical-align: middle;\n",
       "    }\n",
       "\n",
       "    .dataframe tbody tr th {\n",
       "        vertical-align: top;\n",
       "    }\n",
       "\n",
       "    .dataframe thead th {\n",
       "        text-align: right;\n",
       "    }\n",
       "</style>\n",
       "<table border=\"1\" class=\"dataframe\">\n",
       "  <thead>\n",
       "    <tr style=\"text-align: right;\">\n",
       "      <th></th>\n",
       "      <th>timestamp</th>\n",
       "      <th>T_out</th>\n",
       "      <th>T_down</th>\n",
       "      <th>T_kitchen</th>\n",
       "      <th>WATT</th>\n",
       "      <th>T_up</th>\n",
       "      <th>T_brine_in</th>\n",
       "      <th>T_brine_out</th>\n",
       "      <th>T_cellar</th>\n",
       "    </tr>\n",
       "  </thead>\n",
       "  <tbody>\n",
       "    <tr>\n",
       "      <th>0</th>\n",
       "      <td>2018-02-01T00:00:00Z</td>\n",
       "      <td>1.976053</td>\n",
       "      <td>38.367181</td>\n",
       "      <td>20.512105</td>\n",
       "      <td>2.780167</td>\n",
       "      <td>40.028018</td>\n",
       "      <td>3.690000</td>\n",
       "      <td>2.068514</td>\n",
       "      <td>10.965206</td>\n",
       "    </tr>\n",
       "    <tr>\n",
       "      <th>1</th>\n",
       "      <td>2018-02-01T01:40:00Z</td>\n",
       "      <td>2.380000</td>\n",
       "      <td>36.940000</td>\n",
       "      <td>20.190000</td>\n",
       "      <td>3.045333</td>\n",
       "      <td>39.060000</td>\n",
       "      <td>3.560000</td>\n",
       "      <td>1.991486</td>\n",
       "      <td>10.924431</td>\n",
       "    </tr>\n",
       "    <tr>\n",
       "      <th>2</th>\n",
       "      <td>2018-02-01T03:25:00Z</td>\n",
       "      <td>2.211223</td>\n",
       "      <td>37.715920</td>\n",
       "      <td>20.190000</td>\n",
       "      <td>3.060000</td>\n",
       "      <td>39.840240</td>\n",
       "      <td>3.598392</td>\n",
       "      <td>1.961608</td>\n",
       "      <td>10.982982</td>\n",
       "    </tr>\n",
       "    <tr>\n",
       "      <th>3</th>\n",
       "      <td>2018-02-01T05:10:00Z</td>\n",
       "      <td>1.964956</td>\n",
       "      <td>37.940000</td>\n",
       "      <td>20.250000</td>\n",
       "      <td>3.151579</td>\n",
       "      <td>40.023789</td>\n",
       "      <td>3.611330</td>\n",
       "      <td>2.068670</td>\n",
       "      <td>10.888049</td>\n",
       "    </tr>\n",
       "    <tr>\n",
       "      <th>4</th>\n",
       "      <td>2018-02-01T06:55:00Z</td>\n",
       "      <td>0.349134</td>\n",
       "      <td>37.551293</td>\n",
       "      <td>20.406457</td>\n",
       "      <td>3.257167</td>\n",
       "      <td>39.856860</td>\n",
       "      <td>3.690000</td>\n",
       "      <td>2.120000</td>\n",
       "      <td>10.941380</td>\n",
       "    </tr>\n",
       "  </tbody>\n",
       "</table>\n",
       "</div>"
      ],
      "text/plain": [
       "              timestamp     T_out     T_down  T_kitchen      WATT       T_up  \\\n",
       "0  2018-02-01T00:00:00Z  1.976053  38.367181  20.512105  2.780167  40.028018   \n",
       "1  2018-02-01T01:40:00Z  2.380000  36.940000  20.190000  3.045333  39.060000   \n",
       "2  2018-02-01T03:25:00Z  2.211223  37.715920  20.190000  3.060000  39.840240   \n",
       "3  2018-02-01T05:10:00Z  1.964956  37.940000  20.250000  3.151579  40.023789   \n",
       "4  2018-02-01T06:55:00Z  0.349134  37.551293  20.406457  3.257167  39.856860   \n",
       "\n",
       "   T_brine_in  T_brine_out   T_cellar  \n",
       "0    3.690000     2.068514  10.965206  \n",
       "1    3.560000     1.991486  10.924431  \n",
       "2    3.598392     1.961608  10.982982  \n",
       "3    3.611330     2.068670  10.888049  \n",
       "4    3.690000     2.120000  10.941380  "
      ]
     },
     "execution_count": 4,
     "metadata": {},
     "output_type": "execute_result"
    }
   ],
   "source": [
    "data_path = Path.cwd() / \"tabular-example-data\" / \"heatpump.csv\"\n",
    "data_df = pd.read_csv(data_path)\n",
    "data_df.head()"
   ]
  },
  {
   "cell_type": "markdown",
   "metadata": {},
   "source": [
    "We loaded the `.csv` file into a dataframe object and printed out the first five rows. The timestamp was read as string timestamps, but for the Vibium API we need the timestamps to be in milliseconds since EPOCH. So we need to do some data wrangling in order to get it to the correct data type.\n",
    "\n",
    "We can use the function `pandas.to_datetime()` to convert a column into datetime objects. Then we can convert the timestamps into integers, which will automatically get converted to nanoseconds since EPOCH. By dividing by 1e6 we get the same time in milliseconds. We can see that the conversion was successful by printing the first five rows again."
   ]
  },
  {
   "cell_type": "code",
   "execution_count": 5,
   "metadata": {},
   "outputs": [
    {
     "data": {
      "text/html": [
       "<div>\n",
       "<style scoped>\n",
       "    .dataframe tbody tr th:only-of-type {\n",
       "        vertical-align: middle;\n",
       "    }\n",
       "\n",
       "    .dataframe tbody tr th {\n",
       "        vertical-align: top;\n",
       "    }\n",
       "\n",
       "    .dataframe thead th {\n",
       "        text-align: right;\n",
       "    }\n",
       "</style>\n",
       "<table border=\"1\" class=\"dataframe\">\n",
       "  <thead>\n",
       "    <tr style=\"text-align: right;\">\n",
       "      <th></th>\n",
       "      <th>timestamp</th>\n",
       "      <th>T_out</th>\n",
       "      <th>T_down</th>\n",
       "      <th>T_kitchen</th>\n",
       "      <th>WATT</th>\n",
       "      <th>T_up</th>\n",
       "      <th>T_brine_in</th>\n",
       "      <th>T_brine_out</th>\n",
       "      <th>T_cellar</th>\n",
       "    </tr>\n",
       "  </thead>\n",
       "  <tbody>\n",
       "    <tr>\n",
       "      <th>0</th>\n",
       "      <td>1517443200000</td>\n",
       "      <td>1.976053</td>\n",
       "      <td>38.367181</td>\n",
       "      <td>20.512105</td>\n",
       "      <td>2.780167</td>\n",
       "      <td>40.028018</td>\n",
       "      <td>3.690000</td>\n",
       "      <td>2.068514</td>\n",
       "      <td>10.965206</td>\n",
       "    </tr>\n",
       "    <tr>\n",
       "      <th>1</th>\n",
       "      <td>1517449200000</td>\n",
       "      <td>2.380000</td>\n",
       "      <td>36.940000</td>\n",
       "      <td>20.190000</td>\n",
       "      <td>3.045333</td>\n",
       "      <td>39.060000</td>\n",
       "      <td>3.560000</td>\n",
       "      <td>1.991486</td>\n",
       "      <td>10.924431</td>\n",
       "    </tr>\n",
       "    <tr>\n",
       "      <th>2</th>\n",
       "      <td>1517455500000</td>\n",
       "      <td>2.211223</td>\n",
       "      <td>37.715920</td>\n",
       "      <td>20.190000</td>\n",
       "      <td>3.060000</td>\n",
       "      <td>39.840240</td>\n",
       "      <td>3.598392</td>\n",
       "      <td>1.961608</td>\n",
       "      <td>10.982982</td>\n",
       "    </tr>\n",
       "    <tr>\n",
       "      <th>3</th>\n",
       "      <td>1517461800000</td>\n",
       "      <td>1.964956</td>\n",
       "      <td>37.940000</td>\n",
       "      <td>20.250000</td>\n",
       "      <td>3.151579</td>\n",
       "      <td>40.023789</td>\n",
       "      <td>3.611330</td>\n",
       "      <td>2.068670</td>\n",
       "      <td>10.888049</td>\n",
       "    </tr>\n",
       "    <tr>\n",
       "      <th>4</th>\n",
       "      <td>1517468100000</td>\n",
       "      <td>0.349134</td>\n",
       "      <td>37.551293</td>\n",
       "      <td>20.406457</td>\n",
       "      <td>3.257167</td>\n",
       "      <td>39.856860</td>\n",
       "      <td>3.690000</td>\n",
       "      <td>2.120000</td>\n",
       "      <td>10.941380</td>\n",
       "    </tr>\n",
       "  </tbody>\n",
       "</table>\n",
       "</div>"
      ],
      "text/plain": [
       "       timestamp     T_out     T_down  T_kitchen      WATT       T_up  \\\n",
       "0  1517443200000  1.976053  38.367181  20.512105  2.780167  40.028018   \n",
       "1  1517449200000  2.380000  36.940000  20.190000  3.045333  39.060000   \n",
       "2  1517455500000  2.211223  37.715920  20.190000  3.060000  39.840240   \n",
       "3  1517461800000  1.964956  37.940000  20.250000  3.151579  40.023789   \n",
       "4  1517468100000  0.349134  37.551293  20.406457  3.257167  39.856860   \n",
       "\n",
       "   T_brine_in  T_brine_out   T_cellar  \n",
       "0    3.690000     2.068514  10.965206  \n",
       "1    3.560000     1.991486  10.924431  \n",
       "2    3.598392     1.961608  10.982982  \n",
       "3    3.611330     2.068670  10.888049  \n",
       "4    3.690000     2.120000  10.941380  "
      ]
     },
     "execution_count": 5,
     "metadata": {},
     "output_type": "execute_result"
    }
   ],
   "source": [
    "data_df[\"timestamp\"] = pd.to_datetime(data_df[\"timestamp\"]).astype(\"int64\") // 1000000\n",
    "data_df.head()"
   ]
  },
  {
   "cell_type": "markdown",
   "metadata": {},
   "source": [
    "To upload the data to the API we need to convert the dataframe into a dictionary on the format {column: values}. Fortunately, dataframes have a method to do just that, called `to_dict()`. It has an argument for changing the orientation of the resulting dictionary. By using `to_dict(\"list\")` we will get it on the correct format. \n",
    "\n",
    ".. note:: The dictionary must have a `\"timestamp\"` key and at least one more column, corresponding to a tracked variable. The `to_dict(\"list\")` method will not include the index, so it is important to have the timestamp as a column in the data and not as an index."
   ]
  },
  {
   "cell_type": "code",
   "execution_count": 6,
   "metadata": {},
   "outputs": [],
   "source": [
    "data_dict = data_df.to_dict(\"list\")\n"
   ]
  },
  {
   "cell_type": "markdown",
   "metadata": {},
   "source": [
    "Now that the data has been converted to the correct format we are ready to create the source and upload some measurements. When creating a tabular source, you must define the columns that the data will contain ahead of time. This is to prevent arbitrary data to be uploaded to the source. Besides the columns argument, creating a tabular source works the exact same way as creating a waveform source."
   ]
  },
  {
   "cell_type": "code",
   "execution_count": 7,
   "metadata": {},
   "outputs": [],
   "source": [
    "session.create_tabular_source(\n",
    "    sid=\"heatpump\",\n",
    "    meta={\"location\": \"Molnlycke\"},\n",
    "    columns=data_df.columns.tolist()\n",
    ")"
   ]
  },
  {
   "cell_type": "markdown",
   "metadata": {},
   "source": [
    "We can check that the source was uploaded correctly by getting the source information."
   ]
  },
  {
   "cell_type": "code",
   "execution_count": 8,
   "metadata": {},
   "outputs": [
    {
     "name": "stdout",
     "output_type": "stream",
     "text": [
      "{'meta': {'location': 'Molnlycke'},\n",
      " 'properties': {'columns': ['T_out',\n",
      "                            'T_down',\n",
      "                            'T_kitchen',\n",
      "                            'WATT',\n",
      "                            'T_up',\n",
      "                            'T_brine_in',\n",
      "                            'T_brine_out',\n",
      "                            'T_cellar'],\n",
      "                'data_class': 'tabular'},\n",
      " 'source_id': 'heatpump'}\n"
     ]
    }
   ],
   "source": [
    "source = session.get_source(\"heatpump\")\n",
    "pprint(source)"
   ]
  },
  {
   "cell_type": "markdown",
   "metadata": {},
   "source": [
    "Next, let's upload the data we prepared to the source"
   ]
  },
  {
   "cell_type": "code",
   "execution_count": null,
   "metadata": {},
   "outputs": [],
   "source": [
    "session.create_tabular_measurement(\n",
    "    sid=\"heatpump\",\n",
    "    data=data_dict\n",
    ")"
   ]
  },
  {
   "cell_type": "markdown",
   "metadata": {},
   "source": [
    "Now that we have a source with measurements we can request an analysis of the data from the server. Requesting analyses for tabular data works the same way as it does for waveform data. Although not all features will work for tabular data. The RMS feature for example will only work with waveform data. Another thing to keep in mind is that when requesting population analyses, all sources to be analyzed simultaneously must have the same data class.\n",
    "\n",
    "For now we will simply run the mode identification algorithm"
   ]
  },
  {
   "cell_type": "code",
   "execution_count": null,
   "metadata": {},
   "outputs": [],
   "source": [
    "response = session.request_analysis(\n",
    "    sid=\"heatpump\",\n",
    "    feature=\"ModeId\",\n",
    ")\n",
    "request_id = response[\"request_id\"]"
   ]
  },
  {
   "cell_type": "markdown",
   "metadata": {},
   "source": [
    "To make the results easier to work with we can load them into an analysis class. There exists one for each analysis feature. Once the analysis is finished and we have received the results, we can instatiate the analysis class with the results dictionary."
   ]
  },
  {
   "cell_type": "code",
   "execution_count": null,
   "metadata": {
    "tags": []
   },
   "outputs": [],
   "source": [
    "session.wait_for_analyses([request_id])\n",
    "results = session.get_analysis_results(request_id)\n",
    "analysis = ModeId(results)"
   ]
  },
  {
   "cell_type": "markdown",
   "metadata": {},
   "source": [
    "\n",
    "The analysis class makes it very convenient to view the results. Let's use the `ModeId.plot()` method to get an overview of the results."
   ]
  },
  {
   "cell_type": "code",
   "execution_count": null,
   "metadata": {},
   "outputs": [],
   "source": [
    "analysis.plot()"
   ]
  },
  {
   "cell_type": "markdown",
   "metadata": {},
   "source": [
    ".. note:: Gray stripes in the plot correspond to gaps in measurements and not a third mode.\n",
    "\n",
    "When you are finished with the example you can go ahead and delete the source"
   ]
  },
  {
   "cell_type": "code",
   "execution_count": null,
   "metadata": {},
   "outputs": [],
   "source": [
    "session.delete_source(\"heatpump\")"
   ]
  }
 ],
 "metadata": {
  "interpreter": {
   "hash": "ee585b89b750dc1146ba89a2fe8627247123d548cada017644b010d09cffe3df"
  },
  "kernelspec": {
   "display_name": "Python 3.8.5  ('env': venv)",
   "name": "python3"
  },
  "language_info": {
   "codemirror_mode": {
    "name": "ipython",
    "version": 3
   },
   "file_extension": ".py",
   "mimetype": "text/x-python",
   "name": "python",
   "nbconvert_exporter": "python",
   "pygments_lexer": "ipython3",
   "version": "3.8.5"
  }
 },
 "nbformat": 4,
 "nbformat_minor": 2
}

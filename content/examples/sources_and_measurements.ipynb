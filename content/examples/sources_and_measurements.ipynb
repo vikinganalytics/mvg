{
 "cells": [
  {
   "cell_type": "markdown",
   "id": "occupational-australian",
   "metadata": {},
   "source": [
    "# Sources and Measurements Example\n",
    "\n",
    "This example shows how to upload measurements from an external repository into the Viking Analytics Vibration service and how to read this data."
   ]
  },
  {
   "cell_type": "code",
   "execution_count": 1,
   "id": "printable-tolerance",
   "metadata": {
    "ExecuteTime": {
     "end_time": "2021-03-18T09:54:16.678492Z",
     "start_time": "2021-03-18T09:54:16.487989Z"
    },
    "pycharm": {
     "is_executing": false
    }
   },
   "outputs": [],
   "source": [
    "import json\n",
    "import os\n",
    "import sys\n",
    "import logging\n",
    "from pathlib import Path\n",
    "\n",
    "import pandas as pd\n",
    "import requests\n",
    "from requests import HTTPError\n",
    "\n",
    "# import mvg library with python bindings to mvg-API\n",
    "from mvg import MVG"
   ]
  },
  {
   "cell_type": "markdown",
   "id": "major-affiliate",
   "metadata": {
    "ExecuteTime": {
     "end_time": "2021-03-04T14:04:45.710183Z",
     "start_time": "2021-03-04T14:04:45.705726Z"
    }
   },
   "source": [
    "Note that the `TOKEN` is used both for authorization and authentication. Thus, each unique token represents a unique user and each user has their own unique database on the VA vibration service.\n",
    "\n",
    "**You need to insert your token received from Viking Analytics here:**"
   ]
  },
  {
   "cell_type": "code",
   "execution_count": 2,
   "id": "communist-listing",
   "metadata": {
    "ExecuteTime": {
     "end_time": "2021-03-18T09:54:16.681622Z",
     "start_time": "2021-03-18T09:54:16.679684Z"
    },
    "pycharm": {
     "is_executing": false
    }
   },
   "outputs": [],
   "source": [
    "# Replace by your own Token\n",
    "VALID_TOKEN = \"Add token here\""
   ]
  },
  {
   "cell_type": "markdown",
   "id": "ahead-sphere",
   "metadata": {},
   "source": [
    "This is Viking Analytics default logging setup which can be adapted to suit your needs. Log messages are printed from `mvg` library, see the source code for details."
   ]
  },
  {
   "cell_type": "code",
   "execution_count": 3,
   "id": "novel-characteristic",
   "metadata": {
    "ExecuteTime": {
     "end_time": "2021-03-18T09:54:16.688245Z",
     "start_time": "2021-03-18T09:54:16.683121Z"
    },
    "pycharm": {
     "is_executing": false
    }
   },
   "outputs": [],
   "source": [
    "root_logger = logging.getLogger()\n",
    "root_logger.setLevel(\"INFO\")\n",
    "formatter = logging.Formatter(\"%(asctime)s - %(levelname)s - %(name)s - %(message)s\")\n",
    "stream_handler = logging.StreamHandler(stream=sys.stderr)\n",
    "stream_handler.setFormatter(formatter)\n",
    "root_logger.addHandler(stream_handler)"
   ]
  },
  {
   "cell_type": "markdown",
   "id": "accessible-japanese",
   "metadata": {},
   "source": [
    "## Downloading the Data\n",
    "\n",
    "We pick the data from one source from our public charlie repo https://github.com/vikinganalytics/va-data-charlie.git for convenience. Clone that repository to get access to the data."
   ]
  },
  {
   "cell_type": "code",
   "execution_count": 4,
   "id": "surrounded-pennsylvania",
   "metadata": {
    "ExecuteTime": {
     "end_time": "2021-03-18T09:54:16.800754Z",
     "start_time": "2021-03-18T09:54:16.689464Z"
    },
    "pycharm": {
     "is_executing": false
    }
   },
   "outputs": [
    {
     "name": "stdout",
     "output_type": "stream",
     "text": [
      "fatal: destination path 'va-data-charlie' already exists and is not an empty directory.\r\n"
     ]
    }
   ],
   "source": [
    "!git clone https://github.com/vikinganalytics/va-data-charlie.git"
   ]
  },
  {
   "cell_type": "markdown",
   "id": "removed-armstrong",
   "metadata": {},
   "source": [
    "We are going to use two of the sources from the charlie dataset with IDs `u0001` and `u0005`"
   ]
  },
  {
   "cell_type": "code",
   "execution_count": 5,
   "id": "adjacent-uganda",
   "metadata": {
    "ExecuteTime": {
     "end_time": "2021-03-18T09:54:16.804606Z",
     "start_time": "2021-03-18T09:54:16.802048Z"
    },
    "pycharm": {
     "is_executing": false
    }
   },
   "outputs": [],
   "source": [
    "REF_DB_PATH = Path.cwd() / \"va-data-charlie\" / \"charlieDb\" / \"acc\"\n",
    "SOURCE_IDS = [\"u0001\", \"u0005\"]"
   ]
  },
  {
   "cell_type": "markdown",
   "id": "alike-tuesday",
   "metadata": {},
   "source": [
    "## Connect to the API\n",
    "\n",
    "Instantiate a session object with mvg library a session object basically caches the endpoint and the token, to simplify the the calls to the mvg library."
   ]
  },
  {
   "cell_type": "code",
   "execution_count": 6,
   "id": "brief-traffic",
   "metadata": {
    "ExecuteTime": {
     "end_time": "2021-03-18T09:54:16.957584Z",
     "start_time": "2021-03-18T09:54:16.805695Z"
    },
    "pycharm": {
     "is_executing": false
    }
   },
   "outputs": [],
   "source": [
    "ENDPOINT = \"https://api.beta.multiviz.com\"\n",
    "session = MVG(ENDPOINT, VALID_TOKEN)"
   ]
  },
  {
   "cell_type": "markdown",
   "id": "portuguese-hepatitis",
   "metadata": {},
   "source": [
    "We now check if the server is alive. The hello message contains, amongst others the API version."
   ]
  },
  {
   "cell_type": "code",
   "execution_count": 7,
   "id": "marine-convenience",
   "metadata": {
    "ExecuteTime": {
     "end_time": "2021-03-18T09:54:17.111625Z",
     "start_time": "2021-03-18T09:54:16.958633Z"
    },
    "pycharm": {
     "is_executing": false
    }
   },
   "outputs": [
    {
     "name": "stderr",
     "output_type": "stream",
     "text": [
      "2021-03-18 10:54:16,959 - INFO - mvg.mvg - Getting API info for: https://api.beta.multiviz.com\n"
     ]
    },
    {
     "name": "stdout",
     "output_type": "stream",
     "text": [
      "{\"api\": {\"name\": \"MultiViz Engine API\", \"version\": \"v0.0.13\"}, \"features\": {\"mode_id\": true, \"blacksheep\": false, \"emerging_mode\": false, \"on_off\": false, \"asset_type\": false, \"indicator_arrow\": false}, \"request_status\": [\"initialized\", \"accepted\", \"queued\", \"ongoing\", \"failed\", \"ready\"], \"traffic_limit\": 10000000, \"max_source_id_length\": 255, \"max_meta_size\": 50000, \"max_number_of_samples\": 400000, \"max_number_of_sources\": 100, \"max_number_of_measurements\": 1000, \"db_version\": \"1.0.0\"}\n"
     ]
    }
   ],
   "source": [
    "hello_message = json.dumps(session.say_hello())\n",
    "print(hello_message)"
   ]
  },
  {
   "cell_type": "markdown",
   "id": "instrumental-piece",
   "metadata": {},
   "source": [
    "## Check Database\n",
    "\n",
    "We start by seeing if there are any sources in the database. A source represents a measurement source e.g. one specific channel of a measurement sensor. Note that sources cannot be used to represent a sensor with several channels. If this is required, the client side needs to take care of it.\n",
    "\n",
    "Because we want to start at a clean slate we will list all sources (potentially none) and delete all of them"
   ]
  },
  {
   "cell_type": "code",
   "execution_count": 8,
   "id": "consecutive-frame",
   "metadata": {
    "ExecuteTime": {
     "end_time": "2021-03-18T09:54:17.247583Z",
     "start_time": "2021-03-18T09:54:17.113206Z"
    },
    "pycharm": {
     "is_executing": false
    }
   },
   "outputs": [
    {
     "name": "stderr",
     "output_type": "stream",
     "text": [
      "2021-03-18 10:54:17,113 - INFO - mvg.mvg - endpoint https://api.beta.multiviz.com\n",
      "2021-03-18 10:54:17,114 - INFO - mvg.mvg - listing sources\n"
     ]
    },
    {
     "name": "stdout",
     "output_type": "stream",
     "text": [
      "Retrieved sources\n"
     ]
    }
   ],
   "source": [
    "sources = session.list_sources()\n",
    "\n",
    "print(\"Retrieved sources\")\n",
    "for src in sources:\n",
    "    print(src)\n",
    "    # While the list returned contains all information\n",
    "    # about all known sources, it is also possible\n",
    "    # to query for a single source by its id\n",
    "    s_info = session.get_source(src['source_id'])\n",
    "    print(f\"Source info retrieved for one source: {s_info}\")"
   ]
  },
  {
   "cell_type": "markdown",
   "id": "verified-communist",
   "metadata": {},
   "source": [
    "The example below revolves around a source with source id u0001"
   ]
  },
  {
   "cell_type": "code",
   "execution_count": 9,
   "id": "aging-suffering",
   "metadata": {
    "ExecuteTime": {
     "end_time": "2021-03-18T09:54:17.250783Z",
     "start_time": "2021-03-18T09:54:17.248845Z"
    },
    "pycharm": {
     "is_executing": false
    }
   },
   "outputs": [],
   "source": [
    "SOURCE_ID = SOURCE_IDS[0]"
   ]
  },
  {
   "cell_type": "markdown",
   "id": "three-theory",
   "metadata": {},
   "source": [
    "To make sure we start from a clean slate we delete our resource in case it exists. All information including measurements and analysis results will be removed"
   ]
  },
  {
   "cell_type": "code",
   "execution_count": 10,
   "id": "behind-australian",
   "metadata": {
    "ExecuteTime": {
     "end_time": "2021-03-18T09:54:17.408675Z",
     "start_time": "2021-03-18T09:54:17.252056Z"
    },
    "pycharm": {
     "is_executing": false
    }
   },
   "outputs": [
    {
     "name": "stderr",
     "output_type": "stream",
     "text": [
      "2021-03-18 10:54:17,256 - INFO - mvg.mvg - endpoint https://api.beta.multiviz.com\n",
      "2021-03-18 10:54:17,257 - INFO - mvg.mvg - retrieving source with source id=u0001\n"
     ]
    },
    {
     "name": "stdout",
     "output_type": "stream",
     "text": [
      "Source u0001 does not exist\n"
     ]
    }
   ],
   "source": [
    "try:\n",
    "    source = session.get_source(SOURCE_ID)\n",
    "    print(f\"Deleting {SOURCE_ID}\")\n",
    "    session.delete_source(SOURCE_ID)\n",
    "except HTTPError:\n",
    "    print(f\"Source {SOURCE_ID} does not exist\")"
   ]
  },
  {
   "cell_type": "markdown",
   "id": "several-multiple",
   "metadata": {},
   "source": [
    "## Build measurements\n",
    "\n",
    "Now we want to (re) build the source and the attached measurements from scratch"
   ]
  },
  {
   "cell_type": "code",
   "execution_count": 11,
   "id": "finite-field",
   "metadata": {
    "ExecuteTime": {
     "end_time": "2021-03-18T09:54:17.413080Z",
     "start_time": "2021-03-18T09:54:17.409985Z"
    },
    "pycharm": {
     "is_executing": false
    }
   },
   "outputs": [
    {
     "name": "stdout",
     "output_type": "stream",
     "text": [
      "creating\n",
      "{'assetId': 'assetA', 'measPoint': 'mloc01', 'location': 'paris'}\n"
     ]
    }
   ],
   "source": [
    "src_path = REF_DB_PATH / SOURCE_ID\n",
    "m_file_name = REF_DB_PATH / SOURCE_ID / \"meta.json\"\n",
    "with open(m_file_name, \"r\") as json_file:\n",
    "    meta = json.load(json_file)\n",
    "print(\"creating\")\n",
    "print(meta)"
   ]
  },
  {
   "cell_type": "markdown",
   "id": "aboriginal-photograph",
   "metadata": {},
   "source": [
    "Create the source and check for it"
   ]
  },
  {
   "cell_type": "code",
   "execution_count": 12,
   "id": "continental-ending",
   "metadata": {
    "ExecuteTime": {
     "end_time": "2021-03-18T09:54:17.688070Z",
     "start_time": "2021-03-18T09:54:17.414133Z"
    },
    "pycharm": {
     "is_executing": false
    }
   },
   "outputs": [
    {
     "name": "stderr",
     "output_type": "stream",
     "text": [
      "2021-03-18 10:54:17,418 - INFO - mvg.mvg - endpoint https://api.beta.multiviz.com\n",
      "2021-03-18 10:54:17,418 - INFO - mvg.mvg - creating source with source id=u0001\n",
      "2021-03-18 10:54:17,419 - INFO - mvg.mvg - metadata: {'assetId': 'assetA', 'measPoint': 'mloc01', 'location': 'paris'}\n",
      "2021-03-18 10:54:17,552 - INFO - mvg.mvg - endpoint https://api.beta.multiviz.com\n",
      "2021-03-18 10:54:17,553 - INFO - mvg.mvg - retrieving source with source id=u0001\n"
     ]
    },
    {
     "name": "stdout",
     "output_type": "stream",
     "text": [
      "Retrieved\n",
      "{'source_id': 'u0001', 'meta': {'assetId': 'assetA', 'measPoint': 'mloc01', 'location': 'paris'}}\n"
     ]
    }
   ],
   "source": [
    "session.create_source(SOURCE_ID, meta)  # create\n",
    "source = session.get_source(SOURCE_ID)\n",
    "print(\"Retrieved\")\n",
    "print(source)"
   ]
  },
  {
   "cell_type": "markdown",
   "id": "saving-browser",
   "metadata": {},
   "source": [
    "Update the source"
   ]
  },
  {
   "cell_type": "code",
   "execution_count": 13,
   "id": "global-agreement",
   "metadata": {
    "ExecuteTime": {
     "end_time": "2021-03-18T09:54:17.983670Z",
     "start_time": "2021-03-18T09:54:17.689219Z"
    },
    "pycharm": {
     "is_executing": false
    }
   },
   "outputs": [
    {
     "name": "stderr",
     "output_type": "stream",
     "text": [
      "2021-03-18 10:54:17,689 - INFO - mvg.mvg - endpoint https://api.beta.multiviz.com\n",
      "2021-03-18 10:54:17,690 - INFO - mvg.mvg - updating source with source id=u0001\n",
      "2021-03-18 10:54:17,691 - INFO - mvg.mvg - metadata: {'assetId': 'assetA', 'measPoint': 'mloc01', 'location': 'paris', 'updated': 'YES! I have been updated'}\n",
      "2021-03-18 10:54:17,831 - INFO - mvg.mvg - endpoint https://api.beta.multiviz.com\n",
      "2021-03-18 10:54:17,831 - INFO - mvg.mvg - retrieving source with source id=u0001\n"
     ]
    },
    {
     "name": "stdout",
     "output_type": "stream",
     "text": [
      "Retrieved\n",
      "{'source_id': 'u0001', 'meta': {'assetId': 'assetA', 'measPoint': 'mloc01', 'location': 'paris', 'updated': 'YES! I have been updated'}}\n"
     ]
    }
   ],
   "source": [
    "meta['updated'] = \"YES! I have been updated\"\n",
    "session.update_source(SOURCE_ID, meta)  # update\n",
    "source = session.get_source(SOURCE_ID)\n",
    "print(\"Retrieved\")\n",
    "print(source)"
   ]
  },
  {
   "cell_type": "markdown",
   "id": "trying-shower",
   "metadata": {},
   "source": [
    "Upload measurements to source. Measurements are tied to sources, they consist of\n",
    "\n",
    "- an array of floating point values\n",
    "- timestamp when the values were sampled\n",
    "- a field for the duration of the measurement\n",
    "- meta information to be stored along the measurement"
   ]
  },
  {
   "cell_type": "code",
   "execution_count": 14,
   "id": "infectious-venice",
   "metadata": {
    "ExecuteTime": {
     "end_time": "2021-03-18T09:54:17.986967Z",
     "start_time": "2021-03-18T09:54:17.984640Z"
    },
    "pycharm": {
     "is_executing": false
    }
   },
   "outputs": [],
   "source": [
    "meas = {f.split(\".\")[0] for f in os.listdir(src_path)}\n",
    "meas.remove(\"meta\")"
   ]
  },
  {
   "cell_type": "markdown",
   "id": "threatened-trance",
   "metadata": {},
   "source": [
    "`meas` now contains a list of timestamps representing the measurements in our repo we upload from iterate over all of them"
   ]
  },
  {
   "cell_type": "code",
   "execution_count": 15,
   "id": "marine-casino",
   "metadata": {
    "ExecuteTime": {
     "end_time": "2021-03-18T09:55:15.657580Z",
     "start_time": "2021-03-18T09:54:17.988134Z"
    },
    "pycharm": {
     "is_executing": false
    }
   },
   "outputs": [
    {
     "name": "stderr",
     "output_type": "stream",
     "text": [
      "2021-03-18 10:54:17,999 - INFO - mvg.mvg - endpoint https://api.beta.multiviz.com\n",
      "2021-03-18 10:54:18,000 - INFO - mvg.mvg - creating measurement from source id=u0001\n",
      "2021-03-18 10:54:18,000 - INFO - mvg.mvg -   duration:  2.8672073400507907\n",
      "2021-03-18 10:54:18,001 - INFO - mvg.mvg -   timestamp: 1572609660\n",
      "2021-03-18 10:54:18,001 - INFO - mvg.mvg -   meta data: {'sampling_rate': 13950.857142857141}\n"
     ]
    },
    {
     "name": "stdout",
     "output_type": "stream",
     "text": [
      "Read 40000 samples\n",
      "Read meta: {'duration': 2.8672073400507907, 'meta': {}}\n",
      "Uploading /home/oskar/viking_unix/mvg/docs/source/content/examples/va-data-charlie/charlieDb/acc/u0001/1572609660.csv\n"
     ]
    },
    {
     "name": "stderr",
     "output_type": "stream",
     "text": [
      "2021-03-18 10:54:19,166 - INFO - mvg.mvg - endpoint https://api.beta.multiviz.com\n",
      "2021-03-18 10:54:19,167 - INFO - mvg.mvg - creating measurement from source id=u0001\n",
      "2021-03-18 10:54:19,167 - INFO - mvg.mvg -   duration:  2.8672073400507907\n",
      "2021-03-18 10:54:19,168 - INFO - mvg.mvg -   timestamp: 1572955260\n",
      "2021-03-18 10:54:19,168 - INFO - mvg.mvg -   meta data: {'sampling_rate': 13950.857142857141}\n"
     ]
    },
    {
     "name": "stdout",
     "output_type": "stream",
     "text": [
      "Read 40000 samples\n",
      "Read meta: {'duration': 2.8672073400507907, 'meta': {}}\n",
      "Uploading /home/oskar/viking_unix/mvg/docs/source/content/examples/va-data-charlie/charlieDb/acc/u0001/1572955260.csv\n"
     ]
    },
    {
     "name": "stderr",
     "output_type": "stream",
     "text": [
      "2021-03-18 10:54:20,411 - INFO - mvg.mvg - endpoint https://api.beta.multiviz.com\n",
      "2021-03-18 10:54:20,411 - INFO - mvg.mvg - creating measurement from source id=u0001\n",
      "2021-03-18 10:54:20,412 - INFO - mvg.mvg -   duration:  2.8672073400507907\n",
      "2021-03-18 10:54:20,413 - INFO - mvg.mvg -   timestamp: 1574164860\n",
      "2021-03-18 10:54:20,413 - INFO - mvg.mvg -   meta data: {'sampling_rate': 13950.857142857141}\n"
     ]
    },
    {
     "name": "stdout",
     "output_type": "stream",
     "text": [
      "Read 40000 samples\n",
      "Read meta: {'duration': 2.8672073400507907, 'meta': {}}\n",
      "Uploading /home/oskar/viking_unix/mvg/docs/source/content/examples/va-data-charlie/charlieDb/acc/u0001/1574164860.csv\n"
     ]
    },
    {
     "name": "stderr",
     "output_type": "stream",
     "text": [
      "2021-03-18 10:54:21,721 - INFO - mvg.mvg - endpoint https://api.beta.multiviz.com\n",
      "2021-03-18 10:54:21,722 - INFO - mvg.mvg - creating measurement from source id=u0001\n",
      "2021-03-18 10:54:21,723 - INFO - mvg.mvg -   duration:  2.8672073400507907\n",
      "2021-03-18 10:54:21,723 - INFO - mvg.mvg -   timestamp: 1570878060\n",
      "2021-03-18 10:54:21,724 - INFO - mvg.mvg -   meta data: {'sampling_rate': 13950.857142857141}\n"
     ]
    },
    {
     "name": "stdout",
     "output_type": "stream",
     "text": [
      "Read 40000 samples\n",
      "Read meta: {'duration': 2.8672073400507907, 'meta': {}}\n",
      "Uploading /home/oskar/viking_unix/mvg/docs/source/content/examples/va-data-charlie/charlieDb/acc/u0001/1570878060.csv\n"
     ]
    },
    {
     "name": "stderr",
     "output_type": "stream",
     "text": [
      "2021-03-18 10:54:22,826 - INFO - mvg.mvg - endpoint https://api.beta.multiviz.com\n",
      "2021-03-18 10:54:22,826 - INFO - mvg.mvg - creating measurement from source id=u0001\n",
      "2021-03-18 10:54:22,827 - INFO - mvg.mvg -   duration:  2.8672073400507907\n",
      "2021-03-18 10:54:22,827 - INFO - mvg.mvg -   timestamp: 1572868860\n",
      "2021-03-18 10:54:22,828 - INFO - mvg.mvg -   meta data: {'sampling_rate': 13950.857142857141}\n"
     ]
    },
    {
     "name": "stdout",
     "output_type": "stream",
     "text": [
      "Read 40000 samples\n",
      "Read meta: {'duration': 2.8672073400507907, 'meta': {}}\n",
      "Uploading /home/oskar/viking_unix/mvg/docs/source/content/examples/va-data-charlie/charlieDb/acc/u0001/1572868860.csv\n"
     ]
    },
    {
     "name": "stderr",
     "output_type": "stream",
     "text": [
      "2021-03-18 10:54:24,098 - INFO - mvg.mvg - endpoint https://api.beta.multiviz.com\n",
      "2021-03-18 10:54:24,098 - INFO - mvg.mvg - creating measurement from source id=u0001\n",
      "2021-03-18 10:54:24,099 - INFO - mvg.mvg -   duration:  2.8672073400507907\n",
      "2021-03-18 10:54:24,100 - INFO - mvg.mvg -   timestamp: 1574337660\n",
      "2021-03-18 10:54:24,100 - INFO - mvg.mvg -   meta data: {'sampling_rate': 13950.857142857141}\n"
     ]
    },
    {
     "name": "stdout",
     "output_type": "stream",
     "text": [
      "Read 40000 samples\n",
      "Read meta: {'duration': 2.8672073400507907, 'meta': {}}\n",
      "Uploading /home/oskar/viking_unix/mvg/docs/source/content/examples/va-data-charlie/charlieDb/acc/u0001/1574337660.csv\n"
     ]
    },
    {
     "name": "stderr",
     "output_type": "stream",
     "text": [
      "2021-03-18 10:54:25,302 - INFO - mvg.mvg - endpoint https://api.beta.multiviz.com\n",
      "2021-03-18 10:54:25,302 - INFO - mvg.mvg - creating measurement from source id=u0001\n",
      "2021-03-18 10:54:25,302 - INFO - mvg.mvg -   duration:  2.8672073400507907\n",
      "2021-03-18 10:54:25,303 - INFO - mvg.mvg -   timestamp: 1573128060\n",
      "2021-03-18 10:54:25,303 - INFO - mvg.mvg -   meta data: {'sampling_rate': 13950.857142857141}\n"
     ]
    },
    {
     "name": "stdout",
     "output_type": "stream",
     "text": [
      "Read 40000 samples\n",
      "Read meta: {'duration': 2.8672073400507907, 'meta': {}}\n",
      "Uploading /home/oskar/viking_unix/mvg/docs/source/content/examples/va-data-charlie/charlieDb/acc/u0001/1573128060.csv\n"
     ]
    },
    {
     "name": "stderr",
     "output_type": "stream",
     "text": [
      "2021-03-18 10:54:26,515 - INFO - mvg.mvg - endpoint https://api.beta.multiviz.com\n",
      "2021-03-18 10:54:26,516 - INFO - mvg.mvg - creating measurement from source id=u0001\n",
      "2021-03-18 10:54:26,516 - INFO - mvg.mvg -   duration:  2.8672073400507907\n",
      "2021-03-18 10:54:26,517 - INFO - mvg.mvg -   timestamp: 1570532460\n",
      "2021-03-18 10:54:26,517 - INFO - mvg.mvg -   meta data: {'sampling_rate': 13950.857142857141}\n"
     ]
    },
    {
     "name": "stdout",
     "output_type": "stream",
     "text": [
      "Read 40000 samples\n",
      "Read meta: {'duration': 2.8672073400507907, 'meta': {}}\n",
      "Uploading /home/oskar/viking_unix/mvg/docs/source/content/examples/va-data-charlie/charlieDb/acc/u0001/1570532460.csv\n"
     ]
    },
    {
     "name": "stderr",
     "output_type": "stream",
     "text": [
      "2021-03-18 10:54:27,538 - INFO - mvg.mvg - endpoint https://api.beta.multiviz.com\n",
      "2021-03-18 10:54:27,538 - INFO - mvg.mvg - creating measurement from source id=u0001\n",
      "2021-03-18 10:54:27,539 - INFO - mvg.mvg -   duration:  2.8672073400507907\n",
      "2021-03-18 10:54:27,539 - INFO - mvg.mvg -   timestamp: 1571137260\n",
      "2021-03-18 10:54:27,540 - INFO - mvg.mvg -   meta data: {'sampling_rate': 13950.857142857141}\n"
     ]
    },
    {
     "name": "stdout",
     "output_type": "stream",
     "text": [
      "Read 40000 samples\n",
      "Read meta: {'duration': 2.8672073400507907, 'meta': {}}\n",
      "Uploading /home/oskar/viking_unix/mvg/docs/source/content/examples/va-data-charlie/charlieDb/acc/u0001/1571137260.csv\n"
     ]
    },
    {
     "name": "stderr",
     "output_type": "stream",
     "text": [
      "2021-03-18 10:54:28,953 - INFO - mvg.mvg - endpoint https://api.beta.multiviz.com\n",
      "2021-03-18 10:54:28,953 - INFO - mvg.mvg - creating measurement from source id=u0001\n",
      "2021-03-18 10:54:28,954 - INFO - mvg.mvg -   duration:  2.8672073400507907\n",
      "2021-03-18 10:54:28,955 - INFO - mvg.mvg -   timestamp: 1573732860\n",
      "2021-03-18 10:54:28,955 - INFO - mvg.mvg -   meta data: {'sampling_rate': 13950.857142857141}\n"
     ]
    },
    {
     "name": "stdout",
     "output_type": "stream",
     "text": [
      "Read 40000 samples\n",
      "Read meta: {'duration': 2.8672073400507907, 'meta': {}}\n",
      "Uploading /home/oskar/viking_unix/mvg/docs/source/content/examples/va-data-charlie/charlieDb/acc/u0001/1573732860.csv\n"
     ]
    },
    {
     "name": "stderr",
     "output_type": "stream",
     "text": [
      "2021-03-18 10:54:30,035 - INFO - mvg.mvg - endpoint https://api.beta.multiviz.com\n",
      "2021-03-18 10:54:30,036 - INFO - mvg.mvg - creating measurement from source id=u0001\n",
      "2021-03-18 10:54:30,036 - INFO - mvg.mvg -   duration:  2.8672073400507907\n",
      "2021-03-18 10:54:30,037 - INFO - mvg.mvg -   timestamp: 1573819260\n",
      "2021-03-18 10:54:30,038 - INFO - mvg.mvg -   meta data: {'sampling_rate': 13950.857142857141}\n"
     ]
    },
    {
     "name": "stdout",
     "output_type": "stream",
     "text": [
      "Read 40000 samples\n",
      "Read meta: {'duration': 2.8672073400507907, 'meta': {}}\n",
      "Uploading /home/oskar/viking_unix/mvg/docs/source/content/examples/va-data-charlie/charlieDb/acc/u0001/1573819260.csv\n"
     ]
    },
    {
     "name": "stderr",
     "output_type": "stream",
     "text": [
      "2021-03-18 10:54:31,196 - INFO - mvg.mvg - endpoint https://api.beta.multiviz.com\n",
      "2021-03-18 10:54:31,197 - INFO - mvg.mvg - creating measurement from source id=u0001\n",
      "2021-03-18 10:54:31,198 - INFO - mvg.mvg -   duration:  2.8672073400507907\n",
      "2021-03-18 10:54:31,198 - INFO - mvg.mvg -   timestamp: 1573905660\n",
      "2021-03-18 10:54:31,199 - INFO - mvg.mvg -   meta data: {'sampling_rate': 13950.857142857141}\n"
     ]
    },
    {
     "name": "stdout",
     "output_type": "stream",
     "text": [
      "Read 40000 samples\n",
      "Read meta: {'duration': 2.8672073400507907, 'meta': {}}\n",
      "Uploading /home/oskar/viking_unix/mvg/docs/source/content/examples/va-data-charlie/charlieDb/acc/u0001/1573905660.csv\n"
     ]
    },
    {
     "name": "stderr",
     "output_type": "stream",
     "text": [
      "2021-03-18 10:54:32,201 - INFO - mvg.mvg - endpoint https://api.beta.multiviz.com\n",
      "2021-03-18 10:54:32,201 - INFO - mvg.mvg - creating measurement from source id=u0001\n",
      "2021-03-18 10:54:32,202 - INFO - mvg.mvg -   duration:  2.8672073400507907\n",
      "2021-03-18 10:54:32,202 - INFO - mvg.mvg -   timestamp: 1570273260\n",
      "2021-03-18 10:54:32,203 - INFO - mvg.mvg -   meta data: {'sampling_rate': 13950.857142857141}\n"
     ]
    },
    {
     "name": "stdout",
     "output_type": "stream",
     "text": [
      "Read 40000 samples\n",
      "Read meta: {'duration': 2.8672073400507907, 'meta': {}}\n",
      "Uploading /home/oskar/viking_unix/mvg/docs/source/content/examples/va-data-charlie/charlieDb/acc/u0001/1570273260.csv\n"
     ]
    },
    {
     "name": "stderr",
     "output_type": "stream",
     "text": [
      "2021-03-18 10:54:33,491 - INFO - mvg.mvg - endpoint https://api.beta.multiviz.com\n",
      "2021-03-18 10:54:33,492 - INFO - mvg.mvg - creating measurement from source id=u0001\n",
      "2021-03-18 10:54:33,492 - INFO - mvg.mvg -   duration:  2.8672073400507907\n",
      "2021-03-18 10:54:33,493 - INFO - mvg.mvg -   timestamp: 1570791660\n",
      "2021-03-18 10:54:33,493 - INFO - mvg.mvg -   meta data: {'sampling_rate': 13950.857142857141}\n"
     ]
    },
    {
     "name": "stdout",
     "output_type": "stream",
     "text": [
      "Read 40000 samples\n",
      "Read meta: {'duration': 2.8672073400507907, 'meta': {}}\n",
      "Uploading /home/oskar/viking_unix/mvg/docs/source/content/examples/va-data-charlie/charlieDb/acc/u0001/1570791660.csv\n"
     ]
    },
    {
     "name": "stderr",
     "output_type": "stream",
     "text": [
      "2021-03-18 10:54:34,576 - INFO - mvg.mvg - endpoint https://api.beta.multiviz.com\n",
      "2021-03-18 10:54:34,576 - INFO - mvg.mvg - creating measurement from source id=u0001\n",
      "2021-03-18 10:54:34,577 - INFO - mvg.mvg -   duration:  2.8672073400507907\n",
      "2021-03-18 10:54:34,577 - INFO - mvg.mvg -   timestamp: 1574251260\n",
      "2021-03-18 10:54:34,578 - INFO - mvg.mvg -   meta data: {'sampling_rate': 13950.857142857141}\n"
     ]
    },
    {
     "name": "stdout",
     "output_type": "stream",
     "text": [
      "Read 40000 samples\n",
      "Read meta: {'duration': 2.8672073400507907, 'meta': {}}\n",
      "Uploading /home/oskar/viking_unix/mvg/docs/source/content/examples/va-data-charlie/charlieDb/acc/u0001/1574251260.csv\n"
     ]
    },
    {
     "name": "stderr",
     "output_type": "stream",
     "text": [
      "2021-03-18 10:54:35,904 - INFO - mvg.mvg - endpoint https://api.beta.multiviz.com\n",
      "2021-03-18 10:54:35,904 - INFO - mvg.mvg - creating measurement from source id=u0001\n",
      "2021-03-18 10:54:35,905 - INFO - mvg.mvg -   duration:  2.8672073400507907\n",
      "2021-03-18 10:54:35,905 - INFO - mvg.mvg -   timestamp: 1573473660\n",
      "2021-03-18 10:54:35,906 - INFO - mvg.mvg -   meta data: {'sampling_rate': 13950.857142857141}\n"
     ]
    },
    {
     "name": "stdout",
     "output_type": "stream",
     "text": [
      "Read 40000 samples\n",
      "Read meta: {'duration': 2.8672073400507907, 'meta': {}}\n",
      "Uploading /home/oskar/viking_unix/mvg/docs/source/content/examples/va-data-charlie/charlieDb/acc/u0001/1573473660.csv\n"
     ]
    },
    {
     "name": "stderr",
     "output_type": "stream",
     "text": [
      "2021-03-18 10:54:37,139 - INFO - mvg.mvg - endpoint https://api.beta.multiviz.com\n",
      "2021-03-18 10:54:37,140 - INFO - mvg.mvg - creating measurement from source id=u0001\n",
      "2021-03-18 10:54:37,140 - INFO - mvg.mvg -   duration:  2.8672073400507907\n",
      "2021-03-18 10:54:37,141 - INFO - mvg.mvg -   timestamp: 1571742060\n",
      "2021-03-18 10:54:37,141 - INFO - mvg.mvg -   meta data: {'sampling_rate': 13950.857142857141}\n"
     ]
    },
    {
     "name": "stdout",
     "output_type": "stream",
     "text": [
      "Read 40000 samples\n",
      "Read meta: {'duration': 2.8672073400507907, 'meta': {}}\n",
      "Uploading /home/oskar/viking_unix/mvg/docs/source/content/examples/va-data-charlie/charlieDb/acc/u0001/1571742060.csv\n"
     ]
    },
    {
     "name": "stderr",
     "output_type": "stream",
     "text": [
      "2021-03-18 10:54:38,190 - INFO - mvg.mvg - endpoint https://api.beta.multiviz.com\n",
      "2021-03-18 10:54:38,191 - INFO - mvg.mvg - creating measurement from source id=u0001\n",
      "2021-03-18 10:54:38,192 - INFO - mvg.mvg -   duration:  2.8672073400507907\n",
      "2021-03-18 10:54:38,192 - INFO - mvg.mvg -   timestamp: 1573992060\n",
      "2021-03-18 10:54:38,193 - INFO - mvg.mvg -   meta data: {'sampling_rate': 13950.857142857141}\n"
     ]
    },
    {
     "name": "stdout",
     "output_type": "stream",
     "text": [
      "Read 40000 samples\n",
      "Read meta: {'duration': 2.8672073400507907, 'meta': {}}\n",
      "Uploading /home/oskar/viking_unix/mvg/docs/source/content/examples/va-data-charlie/charlieDb/acc/u0001/1573992060.csv\n"
     ]
    },
    {
     "name": "stderr",
     "output_type": "stream",
     "text": [
      "2021-03-18 10:54:39,326 - INFO - mvg.mvg - endpoint https://api.beta.multiviz.com\n",
      "2021-03-18 10:54:39,327 - INFO - mvg.mvg - creating measurement from source id=u0001\n",
      "2021-03-18 10:54:39,327 - INFO - mvg.mvg -   duration:  2.8672073400507907\n",
      "2021-03-18 10:54:39,328 - INFO - mvg.mvg -   timestamp: 1573300860\n",
      "2021-03-18 10:54:39,328 - INFO - mvg.mvg -   meta data: {'sampling_rate': 13950.857142857141}\n"
     ]
    },
    {
     "name": "stdout",
     "output_type": "stream",
     "text": [
      "Read 40000 samples\n",
      "Read meta: {'duration': 2.8672073400507907, 'meta': {}}\n",
      "Uploading /home/oskar/viking_unix/mvg/docs/source/content/examples/va-data-charlie/charlieDb/acc/u0001/1573300860.csv\n"
     ]
    },
    {
     "name": "stderr",
     "output_type": "stream",
     "text": [
      "2021-03-18 10:54:40,379 - INFO - mvg.mvg - endpoint https://api.beta.multiviz.com\n",
      "2021-03-18 10:54:40,380 - INFO - mvg.mvg - creating measurement from source id=u0001\n",
      "2021-03-18 10:54:40,380 - INFO - mvg.mvg -   duration:  2.8672073400507907\n",
      "2021-03-18 10:54:40,380 - INFO - mvg.mvg -   timestamp: 1572782460\n",
      "2021-03-18 10:54:40,381 - INFO - mvg.mvg -   meta data: {'sampling_rate': 13950.857142857141}\n"
     ]
    },
    {
     "name": "stdout",
     "output_type": "stream",
     "text": [
      "Read 40000 samples\n",
      "Read meta: {'duration': 2.8672073400507907, 'meta': {}}\n",
      "Uploading /home/oskar/viking_unix/mvg/docs/source/content/examples/va-data-charlie/charlieDb/acc/u0001/1572782460.csv\n"
     ]
    },
    {
     "name": "stderr",
     "output_type": "stream",
     "text": [
      "2021-03-18 10:54:41,819 - INFO - mvg.mvg - endpoint https://api.beta.multiviz.com\n",
      "2021-03-18 10:54:41,820 - INFO - mvg.mvg - creating measurement from source id=u0001\n",
      "2021-03-18 10:54:41,820 - INFO - mvg.mvg -   duration:  2.8672073400507907\n",
      "2021-03-18 10:54:41,820 - INFO - mvg.mvg -   timestamp: 1572350460\n",
      "2021-03-18 10:54:41,821 - INFO - mvg.mvg -   meta data: {'sampling_rate': 13950.857142857141}\n"
     ]
    },
    {
     "name": "stdout",
     "output_type": "stream",
     "text": [
      "Read 40000 samples\n",
      "Read meta: {'duration': 2.8672073400507907, 'meta': {}}\n",
      "Uploading /home/oskar/viking_unix/mvg/docs/source/content/examples/va-data-charlie/charlieDb/acc/u0001/1572350460.csv\n"
     ]
    },
    {
     "name": "stderr",
     "output_type": "stream",
     "text": [
      "2021-03-18 10:54:43,219 - INFO - mvg.mvg - endpoint https://api.beta.multiviz.com\n",
      "2021-03-18 10:54:43,220 - INFO - mvg.mvg - creating measurement from source id=u0001\n",
      "2021-03-18 10:54:43,220 - INFO - mvg.mvg -   duration:  2.8672073400507907\n",
      "2021-03-18 10:54:43,221 - INFO - mvg.mvg -   timestamp: 1570964460\n",
      "2021-03-18 10:54:43,222 - INFO - mvg.mvg -   meta data: {'sampling_rate': 13950.857142857141}\n"
     ]
    },
    {
     "name": "stdout",
     "output_type": "stream",
     "text": [
      "Read 40000 samples\n",
      "Read meta: {'duration': 2.8672073400507907, 'meta': {}}\n",
      "Uploading /home/oskar/viking_unix/mvg/docs/source/content/examples/va-data-charlie/charlieDb/acc/u0001/1570964460.csv\n"
     ]
    },
    {
     "name": "stderr",
     "output_type": "stream",
     "text": [
      "2021-03-18 10:54:44,321 - INFO - mvg.mvg - endpoint https://api.beta.multiviz.com\n",
      "2021-03-18 10:54:44,322 - INFO - mvg.mvg - creating measurement from source id=u0001\n",
      "2021-03-18 10:54:44,322 - INFO - mvg.mvg -   duration:  2.8672073400507907\n",
      "2021-03-18 10:54:44,323 - INFO - mvg.mvg -   timestamp: 1571482860\n",
      "2021-03-18 10:54:44,323 - INFO - mvg.mvg -   meta data: {'sampling_rate': 13950.857142857141}\n"
     ]
    },
    {
     "name": "stdout",
     "output_type": "stream",
     "text": [
      "Read 40000 samples\n",
      "Read meta: {'duration': 2.8672073400507907, 'meta': {}}\n",
      "Uploading /home/oskar/viking_unix/mvg/docs/source/content/examples/va-data-charlie/charlieDb/acc/u0001/1571482860.csv\n"
     ]
    },
    {
     "name": "stderr",
     "output_type": "stream",
     "text": [
      "2021-03-18 10:54:45,610 - INFO - mvg.mvg - endpoint https://api.beta.multiviz.com\n",
      "2021-03-18 10:54:45,611 - INFO - mvg.mvg - creating measurement from source id=u0001\n",
      "2021-03-18 10:54:45,611 - INFO - mvg.mvg -   duration:  2.8672073400507907\n",
      "2021-03-18 10:54:45,612 - INFO - mvg.mvg -   timestamp: 1570359660\n",
      "2021-03-18 10:54:45,612 - INFO - mvg.mvg -   meta data: {'sampling_rate': 13950.857142857141}\n"
     ]
    },
    {
     "name": "stdout",
     "output_type": "stream",
     "text": [
      "Read 40000 samples\n",
      "Read meta: {'duration': 2.8672073400507907, 'meta': {}}\n",
      "Uploading /home/oskar/viking_unix/mvg/docs/source/content/examples/va-data-charlie/charlieDb/acc/u0001/1570359660.csv\n"
     ]
    },
    {
     "name": "stderr",
     "output_type": "stream",
     "text": [
      "2021-03-18 10:54:46,620 - INFO - mvg.mvg - endpoint https://api.beta.multiviz.com\n",
      "2021-03-18 10:54:46,620 - INFO - mvg.mvg - creating measurement from source id=u0001\n",
      "2021-03-18 10:54:46,621 - INFO - mvg.mvg -   duration:  2.8672073400507907\n",
      "2021-03-18 10:54:46,621 - INFO - mvg.mvg -   timestamp: 1572001260\n",
      "2021-03-18 10:54:46,622 - INFO - mvg.mvg -   meta data: {'sampling_rate': 13950.857142857141}\n"
     ]
    },
    {
     "name": "stdout",
     "output_type": "stream",
     "text": [
      "Read 40000 samples\n",
      "Read meta: {'duration': 2.8672073400507907, 'meta': {}}\n",
      "Uploading /home/oskar/viking_unix/mvg/docs/source/content/examples/va-data-charlie/charlieDb/acc/u0001/1572001260.csv\n"
     ]
    },
    {
     "name": "stderr",
     "output_type": "stream",
     "text": [
      "2021-03-18 10:54:47,590 - INFO - mvg.mvg - endpoint https://api.beta.multiviz.com\n",
      "2021-03-18 10:54:47,590 - INFO - mvg.mvg - creating measurement from source id=u0001\n",
      "2021-03-18 10:54:47,590 - INFO - mvg.mvg -   duration:  2.8672073400507907\n",
      "2021-03-18 10:54:47,591 - INFO - mvg.mvg -   timestamp: 1573041660\n",
      "2021-03-18 10:54:47,591 - INFO - mvg.mvg -   meta data: {'sampling_rate': 13950.857142857141}\n"
     ]
    },
    {
     "name": "stdout",
     "output_type": "stream",
     "text": [
      "Read 40000 samples\n",
      "Read meta: {'duration': 2.8672073400507907, 'meta': {}}\n",
      "Uploading /home/oskar/viking_unix/mvg/docs/source/content/examples/va-data-charlie/charlieDb/acc/u0001/1573041660.csv\n"
     ]
    },
    {
     "name": "stderr",
     "output_type": "stream",
     "text": [
      "2021-03-18 10:54:48,602 - INFO - mvg.mvg - endpoint https://api.beta.multiviz.com\n",
      "2021-03-18 10:54:48,603 - INFO - mvg.mvg - creating measurement from source id=u0001\n",
      "2021-03-18 10:54:48,603 - INFO - mvg.mvg -   duration:  2.8672073400507907\n",
      "2021-03-18 10:54:48,604 - INFO - mvg.mvg -   timestamp: 1573214460\n",
      "2021-03-18 10:54:48,604 - INFO - mvg.mvg -   meta data: {'sampling_rate': 13950.857142857141}\n"
     ]
    },
    {
     "name": "stdout",
     "output_type": "stream",
     "text": [
      "Read 40000 samples\n",
      "Read meta: {'duration': 2.8672073400507907, 'meta': {}}\n",
      "Uploading /home/oskar/viking_unix/mvg/docs/source/content/examples/va-data-charlie/charlieDb/acc/u0001/1573214460.csv\n"
     ]
    },
    {
     "name": "stderr",
     "output_type": "stream",
     "text": [
      "2021-03-18 10:54:49,861 - INFO - mvg.mvg - endpoint https://api.beta.multiviz.com\n",
      "2021-03-18 10:54:49,862 - INFO - mvg.mvg - creating measurement from source id=u0001\n",
      "2021-03-18 10:54:49,862 - INFO - mvg.mvg -   duration:  2.8672073400507907\n",
      "2021-03-18 10:54:49,863 - INFO - mvg.mvg -   timestamp: 1570618860\n",
      "2021-03-18 10:54:49,864 - INFO - mvg.mvg -   meta data: {'sampling_rate': 13950.857142857141}\n"
     ]
    },
    {
     "name": "stdout",
     "output_type": "stream",
     "text": [
      "Read 40000 samples\n",
      "Read meta: {'duration': 2.8672073400507907, 'meta': {}}\n",
      "Uploading /home/oskar/viking_unix/mvg/docs/source/content/examples/va-data-charlie/charlieDb/acc/u0001/1570618860.csv\n"
     ]
    },
    {
     "name": "stderr",
     "output_type": "stream",
     "text": [
      "2021-03-18 10:54:50,864 - INFO - mvg.mvg - endpoint https://api.beta.multiviz.com\n",
      "2021-03-18 10:54:50,865 - INFO - mvg.mvg - creating measurement from source id=u0001\n",
      "2021-03-18 10:54:50,865 - INFO - mvg.mvg -   duration:  2.8672073400507907\n",
      "2021-03-18 10:54:50,865 - INFO - mvg.mvg -   timestamp: 1571655660\n",
      "2021-03-18 10:54:50,866 - INFO - mvg.mvg -   meta data: {'sampling_rate': 13950.857142857141}\n"
     ]
    },
    {
     "name": "stdout",
     "output_type": "stream",
     "text": [
      "Read 40000 samples\n",
      "Read meta: {'duration': 2.8672073400507907, 'meta': {}}\n",
      "Uploading /home/oskar/viking_unix/mvg/docs/source/content/examples/va-data-charlie/charlieDb/acc/u0001/1571655660.csv\n"
     ]
    },
    {
     "name": "stderr",
     "output_type": "stream",
     "text": [
      "2021-03-18 10:54:51,946 - INFO - mvg.mvg - endpoint https://api.beta.multiviz.com\n",
      "2021-03-18 10:54:51,946 - INFO - mvg.mvg - creating measurement from source id=u0001\n",
      "2021-03-18 10:54:51,947 - INFO - mvg.mvg -   duration:  2.8672073400507907\n",
      "2021-03-18 10:54:51,947 - INFO - mvg.mvg -   timestamp: 1573560060\n",
      "2021-03-18 10:54:51,948 - INFO - mvg.mvg -   meta data: {'sampling_rate': 13950.857142857141}\n"
     ]
    },
    {
     "name": "stdout",
     "output_type": "stream",
     "text": [
      "Read 40000 samples\n",
      "Read meta: {'duration': 2.8672073400507907, 'meta': {}}\n",
      "Uploading /home/oskar/viking_unix/mvg/docs/source/content/examples/va-data-charlie/charlieDb/acc/u0001/1573560060.csv\n"
     ]
    },
    {
     "name": "stderr",
     "output_type": "stream",
     "text": [
      "2021-03-18 10:54:53,009 - INFO - mvg.mvg - endpoint https://api.beta.multiviz.com\n",
      "2021-03-18 10:54:53,010 - INFO - mvg.mvg - creating measurement from source id=u0001\n",
      "2021-03-18 10:54:53,010 - INFO - mvg.mvg -   duration:  2.8672073400507907\n",
      "2021-03-18 10:54:53,011 - INFO - mvg.mvg -   timestamp: 1571396460\n",
      "2021-03-18 10:54:53,011 - INFO - mvg.mvg -   meta data: {'sampling_rate': 13950.857142857141}\n"
     ]
    },
    {
     "name": "stdout",
     "output_type": "stream",
     "text": [
      "Read 40000 samples\n",
      "Read meta: {'duration': 2.8672073400507907, 'meta': {}}\n",
      "Uploading /home/oskar/viking_unix/mvg/docs/source/content/examples/va-data-charlie/charlieDb/acc/u0001/1571396460.csv\n"
     ]
    },
    {
     "name": "stderr",
     "output_type": "stream",
     "text": [
      "2021-03-18 10:54:53,939 - INFO - mvg.mvg - endpoint https://api.beta.multiviz.com\n",
      "2021-03-18 10:54:53,940 - INFO - mvg.mvg - creating measurement from source id=u0001\n",
      "2021-03-18 10:54:53,941 - INFO - mvg.mvg -   duration:  2.8672073400507907\n",
      "2021-03-18 10:54:53,942 - INFO - mvg.mvg -   timestamp: 1570186860\n",
      "2021-03-18 10:54:53,942 - INFO - mvg.mvg -   meta data: {'sampling_rate': 13950.857142857141}\n"
     ]
    },
    {
     "name": "stdout",
     "output_type": "stream",
     "text": [
      "Read 40000 samples\n",
      "Read meta: {'duration': 2.8672073400507907, 'meta': {}}\n",
      "Uploading /home/oskar/viking_unix/mvg/docs/source/content/examples/va-data-charlie/charlieDb/acc/u0001/1570186860.csv\n"
     ]
    },
    {
     "name": "stderr",
     "output_type": "stream",
     "text": [
      "2021-03-18 10:54:55,031 - INFO - mvg.mvg - endpoint https://api.beta.multiviz.com\n",
      "2021-03-18 10:54:55,031 - INFO - mvg.mvg - creating measurement from source id=u0001\n",
      "2021-03-18 10:54:55,032 - INFO - mvg.mvg -   duration:  2.8672073400507907\n",
      "2021-03-18 10:54:55,032 - INFO - mvg.mvg -   timestamp: 1570446060\n",
      "2021-03-18 10:54:55,033 - INFO - mvg.mvg -   meta data: {'sampling_rate': 13950.857142857141}\n"
     ]
    },
    {
     "name": "stdout",
     "output_type": "stream",
     "text": [
      "Read 40000 samples\n",
      "Read meta: {'duration': 2.8672073400507907, 'meta': {}}\n",
      "Uploading /home/oskar/viking_unix/mvg/docs/source/content/examples/va-data-charlie/charlieDb/acc/u0001/1570446060.csv\n"
     ]
    },
    {
     "name": "stderr",
     "output_type": "stream",
     "text": [
      "2021-03-18 10:54:56,179 - INFO - mvg.mvg - endpoint https://api.beta.multiviz.com\n",
      "2021-03-18 10:54:56,179 - INFO - mvg.mvg - creating measurement from source id=u0001\n",
      "2021-03-18 10:54:56,180 - INFO - mvg.mvg -   duration:  2.8672073400507907\n",
      "2021-03-18 10:54:56,181 - INFO - mvg.mvg -   timestamp: 1574078460\n",
      "2021-03-18 10:54:56,181 - INFO - mvg.mvg -   meta data: {'sampling_rate': 13950.857142857141}\n"
     ]
    },
    {
     "name": "stdout",
     "output_type": "stream",
     "text": [
      "Read 40000 samples\n",
      "Read meta: {'duration': 2.8672073400507907, 'meta': {}}\n",
      "Uploading /home/oskar/viking_unix/mvg/docs/source/content/examples/va-data-charlie/charlieDb/acc/u0001/1574078460.csv\n"
     ]
    },
    {
     "name": "stderr",
     "output_type": "stream",
     "text": [
      "2021-03-18 10:54:57,132 - INFO - mvg.mvg - endpoint https://api.beta.multiviz.com\n",
      "2021-03-18 10:54:57,133 - INFO - mvg.mvg - creating measurement from source id=u0001\n",
      "2021-03-18 10:54:57,133 - INFO - mvg.mvg -   duration:  2.8672073400507907\n",
      "2021-03-18 10:54:57,134 - INFO - mvg.mvg -   timestamp: 1572436860\n",
      "2021-03-18 10:54:57,134 - INFO - mvg.mvg -   meta data: {'sampling_rate': 13950.857142857141}\n"
     ]
    },
    {
     "name": "stdout",
     "output_type": "stream",
     "text": [
      "Read 40000 samples\n",
      "Read meta: {'duration': 2.8672073400507907, 'meta': {}}\n",
      "Uploading /home/oskar/viking_unix/mvg/docs/source/content/examples/va-data-charlie/charlieDb/acc/u0001/1572436860.csv\n"
     ]
    },
    {
     "name": "stderr",
     "output_type": "stream",
     "text": [
      "2021-03-18 10:54:58,269 - INFO - mvg.mvg - endpoint https://api.beta.multiviz.com\n",
      "2021-03-18 10:54:58,270 - INFO - mvg.mvg - creating measurement from source id=u0001\n",
      "2021-03-18 10:54:58,271 - INFO - mvg.mvg -   duration:  2.8672073400507907\n",
      "2021-03-18 10:54:58,271 - INFO - mvg.mvg -   timestamp: 1573646460\n",
      "2021-03-18 10:54:58,272 - INFO - mvg.mvg -   meta data: {'sampling_rate': 13950.857142857141}\n"
     ]
    },
    {
     "name": "stdout",
     "output_type": "stream",
     "text": [
      "Read 40000 samples\n",
      "Read meta: {'duration': 2.8672073400507907, 'meta': {}}\n",
      "Uploading /home/oskar/viking_unix/mvg/docs/source/content/examples/va-data-charlie/charlieDb/acc/u0001/1573646460.csv\n"
     ]
    },
    {
     "name": "stderr",
     "output_type": "stream",
     "text": [
      "2021-03-18 10:54:59,535 - INFO - mvg.mvg - endpoint https://api.beta.multiviz.com\n",
      "2021-03-18 10:54:59,536 - INFO - mvg.mvg - creating measurement from source id=u0001\n",
      "2021-03-18 10:54:59,536 - INFO - mvg.mvg -   duration:  2.8672073400507907\n",
      "2021-03-18 10:54:59,537 - INFO - mvg.mvg -   timestamp: 1573387260\n",
      "2021-03-18 10:54:59,537 - INFO - mvg.mvg -   meta data: {'sampling_rate': 13950.857142857141}\n"
     ]
    },
    {
     "name": "stdout",
     "output_type": "stream",
     "text": [
      "Read 40000 samples\n",
      "Read meta: {'duration': 2.8672073400507907, 'meta': {}}\n",
      "Uploading /home/oskar/viking_unix/mvg/docs/source/content/examples/va-data-charlie/charlieDb/acc/u0001/1573387260.csv\n"
     ]
    },
    {
     "name": "stderr",
     "output_type": "stream",
     "text": [
      "2021-03-18 10:55:00,709 - INFO - mvg.mvg - endpoint https://api.beta.multiviz.com\n",
      "2021-03-18 10:55:00,710 - INFO - mvg.mvg - creating measurement from source id=u0001\n",
      "2021-03-18 10:55:00,710 - INFO - mvg.mvg -   duration:  2.8672073400507907\n",
      "2021-03-18 10:55:00,711 - INFO - mvg.mvg -   timestamp: 1571050860\n",
      "2021-03-18 10:55:00,711 - INFO - mvg.mvg -   meta data: {'sampling_rate': 13950.857142857141}\n"
     ]
    },
    {
     "name": "stdout",
     "output_type": "stream",
     "text": [
      "Read 40000 samples\n",
      "Read meta: {'duration': 2.8672073400507907, 'meta': {}}\n",
      "Uploading /home/oskar/viking_unix/mvg/docs/source/content/examples/va-data-charlie/charlieDb/acc/u0001/1571050860.csv\n"
     ]
    },
    {
     "name": "stderr",
     "output_type": "stream",
     "text": [
      "2021-03-18 10:55:01,994 - INFO - mvg.mvg - endpoint https://api.beta.multiviz.com\n",
      "2021-03-18 10:55:01,994 - INFO - mvg.mvg - creating measurement from source id=u0001\n",
      "2021-03-18 10:55:01,995 - INFO - mvg.mvg -   duration:  2.8672073400507907\n",
      "2021-03-18 10:55:01,996 - INFO - mvg.mvg -   timestamp: 1571223660\n",
      "2021-03-18 10:55:01,996 - INFO - mvg.mvg -   meta data: {'sampling_rate': 13950.857142857141}\n"
     ]
    },
    {
     "name": "stdout",
     "output_type": "stream",
     "text": [
      "Read 40000 samples\n",
      "Read meta: {'duration': 2.8672073400507907, 'meta': {}}\n",
      "Uploading /home/oskar/viking_unix/mvg/docs/source/content/examples/va-data-charlie/charlieDb/acc/u0001/1571223660.csv\n"
     ]
    },
    {
     "name": "stderr",
     "output_type": "stream",
     "text": [
      "2021-03-18 10:55:03,119 - INFO - mvg.mvg - endpoint https://api.beta.multiviz.com\n",
      "2021-03-18 10:55:03,119 - INFO - mvg.mvg - creating measurement from source id=u0001\n",
      "2021-03-18 10:55:03,120 - INFO - mvg.mvg -   duration:  2.8672073400507907\n",
      "2021-03-18 10:55:03,121 - INFO - mvg.mvg -   timestamp: 1572264060\n",
      "2021-03-18 10:55:03,121 - INFO - mvg.mvg -   meta data: {'sampling_rate': 13950.857142857141}\n"
     ]
    },
    {
     "name": "stdout",
     "output_type": "stream",
     "text": [
      "Read 40000 samples\n",
      "Read meta: {'duration': 2.8672073400507907, 'meta': {}}\n",
      "Uploading /home/oskar/viking_unix/mvg/docs/source/content/examples/va-data-charlie/charlieDb/acc/u0001/1572264060.csv\n"
     ]
    },
    {
     "name": "stderr",
     "output_type": "stream",
     "text": [
      "2021-03-18 10:55:04,323 - INFO - mvg.mvg - endpoint https://api.beta.multiviz.com\n",
      "2021-03-18 10:55:04,324 - INFO - mvg.mvg - creating measurement from source id=u0001\n",
      "2021-03-18 10:55:04,324 - INFO - mvg.mvg -   duration:  2.8672073400507907\n",
      "2021-03-18 10:55:04,324 - INFO - mvg.mvg -   timestamp: 1571828460\n",
      "2021-03-18 10:55:04,325 - INFO - mvg.mvg -   meta data: {'sampling_rate': 13950.857142857141}\n"
     ]
    },
    {
     "name": "stdout",
     "output_type": "stream",
     "text": [
      "Read 40000 samples\n",
      "Read meta: {'duration': 2.8672073400507907, 'meta': {}}\n",
      "Uploading /home/oskar/viking_unix/mvg/docs/source/content/examples/va-data-charlie/charlieDb/acc/u0001/1571828460.csv\n"
     ]
    },
    {
     "name": "stderr",
     "output_type": "stream",
     "text": [
      "2021-03-18 10:55:05,388 - INFO - mvg.mvg - endpoint https://api.beta.multiviz.com\n",
      "2021-03-18 10:55:05,388 - INFO - mvg.mvg - creating measurement from source id=u0001\n",
      "2021-03-18 10:55:05,388 - INFO - mvg.mvg -   duration:  2.8672073400507907\n",
      "2021-03-18 10:55:05,389 - INFO - mvg.mvg -   timestamp: 1571310060\n",
      "2021-03-18 10:55:05,389 - INFO - mvg.mvg -   meta data: {'sampling_rate': 13950.857142857141}\n"
     ]
    },
    {
     "name": "stdout",
     "output_type": "stream",
     "text": [
      "Read 40000 samples\n",
      "Read meta: {'duration': 2.8672073400507907, 'meta': {}}\n",
      "Uploading /home/oskar/viking_unix/mvg/docs/source/content/examples/va-data-charlie/charlieDb/acc/u0001/1571310060.csv\n"
     ]
    },
    {
     "name": "stderr",
     "output_type": "stream",
     "text": [
      "2021-03-18 10:55:06,547 - INFO - mvg.mvg - endpoint https://api.beta.multiviz.com\n",
      "2021-03-18 10:55:06,548 - INFO - mvg.mvg - creating measurement from source id=u0001\n",
      "2021-03-18 10:55:06,549 - INFO - mvg.mvg -   duration:  2.8672073400507907\n",
      "2021-03-18 10:55:06,549 - INFO - mvg.mvg -   timestamp: 1571569260\n",
      "2021-03-18 10:55:06,550 - INFO - mvg.mvg -   meta data: {'sampling_rate': 13950.857142857141}\n"
     ]
    },
    {
     "name": "stdout",
     "output_type": "stream",
     "text": [
      "Read 40000 samples\n",
      "Read meta: {'duration': 2.8672073400507907, 'meta': {}}\n",
      "Uploading /home/oskar/viking_unix/mvg/docs/source/content/examples/va-data-charlie/charlieDb/acc/u0001/1571569260.csv\n"
     ]
    },
    {
     "name": "stderr",
     "output_type": "stream",
     "text": [
      "2021-03-18 10:55:07,587 - INFO - mvg.mvg - endpoint https://api.beta.multiviz.com\n",
      "2021-03-18 10:55:07,587 - INFO - mvg.mvg - creating measurement from source id=u0001\n",
      "2021-03-18 10:55:07,588 - INFO - mvg.mvg -   duration:  2.8672073400507907\n",
      "2021-03-18 10:55:07,588 - INFO - mvg.mvg -   timestamp: 1574424060\n",
      "2021-03-18 10:55:07,589 - INFO - mvg.mvg -   meta data: {'sampling_rate': 13950.857142857141}\n"
     ]
    },
    {
     "name": "stdout",
     "output_type": "stream",
     "text": [
      "Read 40000 samples\n",
      "Read meta: {'duration': 2.8672073400507907, 'meta': {}}\n",
      "Uploading /home/oskar/viking_unix/mvg/docs/source/content/examples/va-data-charlie/charlieDb/acc/u0001/1574424060.csv\n"
     ]
    },
    {
     "name": "stderr",
     "output_type": "stream",
     "text": [
      "2021-03-18 10:55:08,671 - INFO - mvg.mvg - endpoint https://api.beta.multiviz.com\n",
      "2021-03-18 10:55:08,672 - INFO - mvg.mvg - creating measurement from source id=u0001\n",
      "2021-03-18 10:55:08,672 - INFO - mvg.mvg -   duration:  2.8672073400507907\n",
      "2021-03-18 10:55:08,673 - INFO - mvg.mvg -   timestamp: 1572696060\n",
      "2021-03-18 10:55:08,673 - INFO - mvg.mvg -   meta data: {'sampling_rate': 13950.857142857141}\n"
     ]
    },
    {
     "name": "stdout",
     "output_type": "stream",
     "text": [
      "Read 40000 samples\n",
      "Read meta: {'duration': 2.8672073400507907, 'meta': {}}\n",
      "Uploading /home/oskar/viking_unix/mvg/docs/source/content/examples/va-data-charlie/charlieDb/acc/u0001/1572696060.csv\n"
     ]
    },
    {
     "name": "stderr",
     "output_type": "stream",
     "text": [
      "2021-03-18 10:55:09,972 - INFO - mvg.mvg - endpoint https://api.beta.multiviz.com\n",
      "2021-03-18 10:55:09,973 - INFO - mvg.mvg - creating measurement from source id=u0001\n",
      "2021-03-18 10:55:09,973 - INFO - mvg.mvg -   duration:  2.8672073400507907\n",
      "2021-03-18 10:55:09,974 - INFO - mvg.mvg -   timestamp: 1570705260\n",
      "2021-03-18 10:55:09,974 - INFO - mvg.mvg -   meta data: {'sampling_rate': 13950.857142857141}\n"
     ]
    },
    {
     "name": "stdout",
     "output_type": "stream",
     "text": [
      "Read 40000 samples\n",
      "Read meta: {'duration': 2.8672073400507907, 'meta': {}}\n",
      "Uploading /home/oskar/viking_unix/mvg/docs/source/content/examples/va-data-charlie/charlieDb/acc/u0001/1570705260.csv\n"
     ]
    },
    {
     "name": "stderr",
     "output_type": "stream",
     "text": [
      "2021-03-18 10:55:11,232 - INFO - mvg.mvg - endpoint https://api.beta.multiviz.com\n",
      "2021-03-18 10:55:11,233 - INFO - mvg.mvg - creating measurement from source id=u0001\n",
      "2021-03-18 10:55:11,233 - INFO - mvg.mvg -   duration:  2.8672073400507907\n",
      "2021-03-18 10:55:11,234 - INFO - mvg.mvg -   timestamp: 1571914860\n",
      "2021-03-18 10:55:11,234 - INFO - mvg.mvg -   meta data: {'sampling_rate': 13950.857142857141}\n"
     ]
    },
    {
     "name": "stdout",
     "output_type": "stream",
     "text": [
      "Read 40000 samples\n",
      "Read meta: {'duration': 2.8672073400507907, 'meta': {}}\n",
      "Uploading /home/oskar/viking_unix/mvg/docs/source/content/examples/va-data-charlie/charlieDb/acc/u0001/1571914860.csv\n"
     ]
    },
    {
     "name": "stderr",
     "output_type": "stream",
     "text": [
      "2021-03-18 10:55:12,382 - INFO - mvg.mvg - endpoint https://api.beta.multiviz.com\n",
      "2021-03-18 10:55:12,383 - INFO - mvg.mvg - creating measurement from source id=u0001\n",
      "2021-03-18 10:55:12,383 - INFO - mvg.mvg -   duration:  2.8672073400507907\n",
      "2021-03-18 10:55:12,384 - INFO - mvg.mvg -   timestamp: 1572523260\n",
      "2021-03-18 10:55:12,384 - INFO - mvg.mvg -   meta data: {'sampling_rate': 13950.857142857141}\n"
     ]
    },
    {
     "name": "stdout",
     "output_type": "stream",
     "text": [
      "Read 40000 samples\n",
      "Read meta: {'duration': 2.8672073400507907, 'meta': {}}\n",
      "Uploading /home/oskar/viking_unix/mvg/docs/source/content/examples/va-data-charlie/charlieDb/acc/u0001/1572523260.csv\n"
     ]
    },
    {
     "name": "stderr",
     "output_type": "stream",
     "text": [
      "2021-03-18 10:55:13,448 - INFO - mvg.mvg - endpoint https://api.beta.multiviz.com\n",
      "2021-03-18 10:55:13,449 - INFO - mvg.mvg - creating measurement from source id=u0001\n",
      "2021-03-18 10:55:13,449 - INFO - mvg.mvg -   duration:  2.8672073400507907\n",
      "2021-03-18 10:55:13,450 - INFO - mvg.mvg -   timestamp: 1572177660\n",
      "2021-03-18 10:55:13,451 - INFO - mvg.mvg -   meta data: {'sampling_rate': 13950.857142857141}\n"
     ]
    },
    {
     "name": "stdout",
     "output_type": "stream",
     "text": [
      "Read 40000 samples\n",
      "Read meta: {'duration': 2.8672073400507907, 'meta': {}}\n",
      "Uploading /home/oskar/viking_unix/mvg/docs/source/content/examples/va-data-charlie/charlieDb/acc/u0001/1572177660.csv\n"
     ]
    },
    {
     "name": "stderr",
     "output_type": "stream",
     "text": [
      "2021-03-18 10:55:14,425 - INFO - mvg.mvg - endpoint https://api.beta.multiviz.com\n",
      "2021-03-18 10:55:14,426 - INFO - mvg.mvg - creating measurement from source id=u0001\n",
      "2021-03-18 10:55:14,427 - INFO - mvg.mvg -   duration:  2.8672073400507907\n",
      "2021-03-18 10:55:14,427 - INFO - mvg.mvg -   timestamp: 1572087660\n",
      "2021-03-18 10:55:14,428 - INFO - mvg.mvg -   meta data: {'sampling_rate': 13950.857142857141}\n"
     ]
    },
    {
     "name": "stdout",
     "output_type": "stream",
     "text": [
      "Read 40000 samples\n",
      "Read meta: {'duration': 2.8672073400507907, 'meta': {}}\n",
      "Uploading /home/oskar/viking_unix/mvg/docs/source/content/examples/va-data-charlie/charlieDb/acc/u0001/1572087660.csv\n"
     ]
    }
   ],
   "source": [
    "for m in meas:\n",
    "\n",
    "    # samples file for one measurement\n",
    "    TS_MEAS = str(m) + \".csv\"  # filename\n",
    "    TS_MEAS = REF_DB_PATH / SOURCE_ID / TS_MEAS  # path to file\n",
    "    ts_df = pd.read_csv(TS_MEAS, names=['acc'])  # read csv into df\n",
    "    accs = ts_df.iloc[:, 0].tolist()  # convert to list\n",
    "    print(f\"Read {len(accs)} samples\")\n",
    "\n",
    "    # meta information file for one measurement\n",
    "    TS_META = str(m) + \".json\"  # filename\n",
    "    TS_META = REF_DB_PATH / SOURCE_ID / TS_META  # path\n",
    "    with open(TS_META, \"r\") as json_file:  # read json\n",
    "        meas_info = json.load(json_file)  # into dict\n",
    "    print(f\"Read meta: {meas_info}\")\n",
    "\n",
    "    # get duration and other meta info\n",
    "    duration = meas_info['duration']\n",
    "    meta_info = meas_info['meta']\n",
    "    # add sampling rate, not required by vibration API\n",
    "    # but may be used on client side\n",
    "    # in general any information can be stored\n",
    "    # along the actual samples\n",
    "    meta_info['sampling_rate'] = len(accs)/duration\n",
    "    # <<< end of code specific for repo\n",
    "\n",
    "    # Upload measurements\n",
    "    print(f\"Uploading {TS_MEAS}\")\n",
    "    try:\n",
    "        # see mvg for details on this call\n",
    "        session.create_measurement(sid=SOURCE_ID,\n",
    "                                   duration=duration,\n",
    "                                   timestamp=m,\n",
    "                                   data=accs,\n",
    "                                   meta=meta_info)\n",
    "    except HTTPError as exc:\n",
    "        print(\"OUCH\")\n",
    "        print(exc)"
   ]
  },
  {
   "cell_type": "markdown",
   "id": "noted-happening",
   "metadata": {},
   "source": [
    "## Read the Measurements"
   ]
  },
  {
   "cell_type": "markdown",
   "id": "excited-clerk",
   "metadata": {},
   "source": [
    "Check if we actually created the measurements by reading them"
   ]
  },
  {
   "cell_type": "code",
   "execution_count": 16,
   "id": "transsexual-continent",
   "metadata": {
    "ExecuteTime": {
     "end_time": "2021-03-18T09:55:41.728688Z",
     "start_time": "2021-03-18T09:55:15.658652Z"
    },
    "pycharm": {
     "is_executing": false
    }
   },
   "outputs": [
    {
     "name": "stderr",
     "output_type": "stream",
     "text": [
      "2021-03-18 10:55:15,659 - INFO - mvg.mvg - endpoint https://api.beta.multiviz.com\n",
      "2021-03-18 10:55:15,660 - INFO - mvg.mvg - retrieving all measurements from source id=u0001\n",
      "2021-03-18 10:55:15,824 - INFO - mvg.mvg - 50 measurements in database\n",
      "2021-03-18 10:55:15,824 - INFO - mvg.mvg - endpoint https://api.beta.multiviz.com\n",
      "2021-03-18 10:55:15,825 - INFO - mvg.mvg - retrieving measurements from source id=u0001\n",
      "2021-03-18 10:55:15,825 - INFO - mvg.mvg - timestamp=1570186860\n",
      "2021-03-18 10:55:16,294 - INFO - mvg.mvg - endpoint https://api.beta.multiviz.com\n",
      "2021-03-18 10:55:16,295 - INFO - mvg.mvg - retrieving measurements from source id=u0001\n",
      "2021-03-18 10:55:16,295 - INFO - mvg.mvg - timestamp=1570273260\n",
      "2021-03-18 10:55:16,825 - INFO - mvg.mvg - endpoint https://api.beta.multiviz.com\n",
      "2021-03-18 10:55:16,826 - INFO - mvg.mvg - retrieving measurements from source id=u0001\n",
      "2021-03-18 10:55:16,826 - INFO - mvg.mvg - timestamp=1570359660\n",
      "2021-03-18 10:55:17,304 - INFO - mvg.mvg - endpoint https://api.beta.multiviz.com\n",
      "2021-03-18 10:55:17,304 - INFO - mvg.mvg - retrieving measurements from source id=u0001\n",
      "2021-03-18 10:55:17,305 - INFO - mvg.mvg - timestamp=1570446060\n",
      "2021-03-18 10:55:17,810 - INFO - mvg.mvg - endpoint https://api.beta.multiviz.com\n",
      "2021-03-18 10:55:17,810 - INFO - mvg.mvg - retrieving measurements from source id=u0001\n",
      "2021-03-18 10:55:17,811 - INFO - mvg.mvg - timestamp=1570532460\n",
      "2021-03-18 10:55:18,307 - INFO - mvg.mvg - endpoint https://api.beta.multiviz.com\n",
      "2021-03-18 10:55:18,307 - INFO - mvg.mvg - retrieving measurements from source id=u0001\n",
      "2021-03-18 10:55:18,308 - INFO - mvg.mvg - timestamp=1570618860\n",
      "2021-03-18 10:55:18,850 - INFO - mvg.mvg - endpoint https://api.beta.multiviz.com\n",
      "2021-03-18 10:55:18,850 - INFO - mvg.mvg - retrieving measurements from source id=u0001\n",
      "2021-03-18 10:55:18,851 - INFO - mvg.mvg - timestamp=1570705260\n",
      "2021-03-18 10:55:19,331 - INFO - mvg.mvg - endpoint https://api.beta.multiviz.com\n",
      "2021-03-18 10:55:19,331 - INFO - mvg.mvg - retrieving measurements from source id=u0001\n",
      "2021-03-18 10:55:19,332 - INFO - mvg.mvg - timestamp=1570791660\n",
      "2021-03-18 10:55:19,807 - INFO - mvg.mvg - endpoint https://api.beta.multiviz.com\n",
      "2021-03-18 10:55:19,808 - INFO - mvg.mvg - retrieving measurements from source id=u0001\n",
      "2021-03-18 10:55:19,808 - INFO - mvg.mvg - timestamp=1570878060\n",
      "2021-03-18 10:55:20,280 - INFO - mvg.mvg - endpoint https://api.beta.multiviz.com\n",
      "2021-03-18 10:55:20,280 - INFO - mvg.mvg - retrieving measurements from source id=u0001\n",
      "2021-03-18 10:55:20,281 - INFO - mvg.mvg - timestamp=1570964460\n",
      "2021-03-18 10:55:20,771 - INFO - mvg.mvg - endpoint https://api.beta.multiviz.com\n",
      "2021-03-18 10:55:20,771 - INFO - mvg.mvg - retrieving measurements from source id=u0001\n",
      "2021-03-18 10:55:20,772 - INFO - mvg.mvg - timestamp=1571050860\n",
      "2021-03-18 10:55:21,255 - INFO - mvg.mvg - endpoint https://api.beta.multiviz.com\n",
      "2021-03-18 10:55:21,255 - INFO - mvg.mvg - retrieving measurements from source id=u0001\n",
      "2021-03-18 10:55:21,255 - INFO - mvg.mvg - timestamp=1571137260\n",
      "2021-03-18 10:55:21,732 - INFO - mvg.mvg - endpoint https://api.beta.multiviz.com\n",
      "2021-03-18 10:55:21,732 - INFO - mvg.mvg - retrieving measurements from source id=u0001\n",
      "2021-03-18 10:55:21,733 - INFO - mvg.mvg - timestamp=1571223660\n",
      "2021-03-18 10:55:22,186 - INFO - mvg.mvg - endpoint https://api.beta.multiviz.com\n",
      "2021-03-18 10:55:22,187 - INFO - mvg.mvg - retrieving measurements from source id=u0001\n",
      "2021-03-18 10:55:22,187 - INFO - mvg.mvg - timestamp=1571310060\n",
      "2021-03-18 10:55:22,675 - INFO - mvg.mvg - endpoint https://api.beta.multiviz.com\n",
      "2021-03-18 10:55:22,675 - INFO - mvg.mvg - retrieving measurements from source id=u0001\n",
      "2021-03-18 10:55:22,676 - INFO - mvg.mvg - timestamp=1571396460\n",
      "2021-03-18 10:55:23,230 - INFO - mvg.mvg - endpoint https://api.beta.multiviz.com\n",
      "2021-03-18 10:55:23,231 - INFO - mvg.mvg - retrieving measurements from source id=u0001\n",
      "2021-03-18 10:55:23,231 - INFO - mvg.mvg - timestamp=1571482860\n",
      "2021-03-18 10:55:23,724 - INFO - mvg.mvg - endpoint https://api.beta.multiviz.com\n",
      "2021-03-18 10:55:23,725 - INFO - mvg.mvg - retrieving measurements from source id=u0001\n",
      "2021-03-18 10:55:23,725 - INFO - mvg.mvg - timestamp=1571569260\n",
      "2021-03-18 10:55:24,232 - INFO - mvg.mvg - endpoint https://api.beta.multiviz.com\n",
      "2021-03-18 10:55:24,233 - INFO - mvg.mvg - retrieving measurements from source id=u0001\n",
      "2021-03-18 10:55:24,233 - INFO - mvg.mvg - timestamp=1571655660\n",
      "2021-03-18 10:55:24,724 - INFO - mvg.mvg - endpoint https://api.beta.multiviz.com\n",
      "2021-03-18 10:55:24,724 - INFO - mvg.mvg - retrieving measurements from source id=u0001\n",
      "2021-03-18 10:55:24,725 - INFO - mvg.mvg - timestamp=1571742060\n",
      "2021-03-18 10:55:25,235 - INFO - mvg.mvg - endpoint https://api.beta.multiviz.com\n",
      "2021-03-18 10:55:25,236 - INFO - mvg.mvg - retrieving measurements from source id=u0001\n",
      "2021-03-18 10:55:25,236 - INFO - mvg.mvg - timestamp=1571828460\n",
      "2021-03-18 10:55:25,734 - INFO - mvg.mvg - endpoint https://api.beta.multiviz.com\n",
      "2021-03-18 10:55:25,735 - INFO - mvg.mvg - retrieving measurements from source id=u0001\n",
      "2021-03-18 10:55:25,735 - INFO - mvg.mvg - timestamp=1571914860\n",
      "2021-03-18 10:55:26,294 - INFO - mvg.mvg - endpoint https://api.beta.multiviz.com\n",
      "2021-03-18 10:55:26,294 - INFO - mvg.mvg - retrieving measurements from source id=u0001\n",
      "2021-03-18 10:55:26,295 - INFO - mvg.mvg - timestamp=1572001260\n",
      "2021-03-18 10:55:26,816 - INFO - mvg.mvg - endpoint https://api.beta.multiviz.com\n",
      "2021-03-18 10:55:26,817 - INFO - mvg.mvg - retrieving measurements from source id=u0001\n",
      "2021-03-18 10:55:26,817 - INFO - mvg.mvg - timestamp=1572087660\n",
      "2021-03-18 10:55:27,303 - INFO - mvg.mvg - endpoint https://api.beta.multiviz.com\n",
      "2021-03-18 10:55:27,304 - INFO - mvg.mvg - retrieving measurements from source id=u0001\n",
      "2021-03-18 10:55:27,304 - INFO - mvg.mvg - timestamp=1572177660\n",
      "2021-03-18 10:55:27,794 - INFO - mvg.mvg - endpoint https://api.beta.multiviz.com\n",
      "2021-03-18 10:55:27,794 - INFO - mvg.mvg - retrieving measurements from source id=u0001\n",
      "2021-03-18 10:55:27,794 - INFO - mvg.mvg - timestamp=1572264060\n",
      "2021-03-18 10:55:28,299 - INFO - mvg.mvg - endpoint https://api.beta.multiviz.com\n",
      "2021-03-18 10:55:28,300 - INFO - mvg.mvg - retrieving measurements from source id=u0001\n",
      "2021-03-18 10:55:28,300 - INFO - mvg.mvg - timestamp=1572350460\n",
      "2021-03-18 10:55:28,769 - INFO - mvg.mvg - endpoint https://api.beta.multiviz.com\n",
      "2021-03-18 10:55:28,770 - INFO - mvg.mvg - retrieving measurements from source id=u0001\n",
      "2021-03-18 10:55:28,770 - INFO - mvg.mvg - timestamp=1572436860\n",
      "2021-03-18 10:55:29,319 - INFO - mvg.mvg - endpoint https://api.beta.multiviz.com\n",
      "2021-03-18 10:55:29,320 - INFO - mvg.mvg - retrieving measurements from source id=u0001\n",
      "2021-03-18 10:55:29,320 - INFO - mvg.mvg - timestamp=1572523260\n",
      "2021-03-18 10:55:29,827 - INFO - mvg.mvg - endpoint https://api.beta.multiviz.com\n",
      "2021-03-18 10:55:29,827 - INFO - mvg.mvg - retrieving measurements from source id=u0001\n",
      "2021-03-18 10:55:29,828 - INFO - mvg.mvg - timestamp=1572609660\n",
      "2021-03-18 10:55:30,326 - INFO - mvg.mvg - endpoint https://api.beta.multiviz.com\n",
      "2021-03-18 10:55:30,327 - INFO - mvg.mvg - retrieving measurements from source id=u0001\n",
      "2021-03-18 10:55:30,328 - INFO - mvg.mvg - timestamp=1572696060\n",
      "2021-03-18 10:55:30,842 - INFO - mvg.mvg - endpoint https://api.beta.multiviz.com\n",
      "2021-03-18 10:55:30,843 - INFO - mvg.mvg - retrieving measurements from source id=u0001\n",
      "2021-03-18 10:55:30,843 - INFO - mvg.mvg - timestamp=1572782460\n",
      "2021-03-18 10:55:31,326 - INFO - mvg.mvg - endpoint https://api.beta.multiviz.com\n",
      "2021-03-18 10:55:31,327 - INFO - mvg.mvg - retrieving measurements from source id=u0001\n",
      "2021-03-18 10:55:31,327 - INFO - mvg.mvg - timestamp=1572868860\n",
      "2021-03-18 10:55:31,799 - INFO - mvg.mvg - endpoint https://api.beta.multiviz.com\n",
      "2021-03-18 10:55:31,799 - INFO - mvg.mvg - retrieving measurements from source id=u0001\n",
      "2021-03-18 10:55:31,800 - INFO - mvg.mvg - timestamp=1572955260\n",
      "2021-03-18 10:55:32,316 - INFO - mvg.mvg - endpoint https://api.beta.multiviz.com\n",
      "2021-03-18 10:55:32,317 - INFO - mvg.mvg - retrieving measurements from source id=u0001\n",
      "2021-03-18 10:55:32,317 - INFO - mvg.mvg - timestamp=1573041660\n"
     ]
    },
    {
     "name": "stderr",
     "output_type": "stream",
     "text": [
      "2021-03-18 10:55:32,800 - INFO - mvg.mvg - endpoint https://api.beta.multiviz.com\n",
      "2021-03-18 10:55:32,801 - INFO - mvg.mvg - retrieving measurements from source id=u0001\n",
      "2021-03-18 10:55:32,801 - INFO - mvg.mvg - timestamp=1573128060\n",
      "2021-03-18 10:55:33,277 - INFO - mvg.mvg - endpoint https://api.beta.multiviz.com\n",
      "2021-03-18 10:55:33,277 - INFO - mvg.mvg - retrieving measurements from source id=u0001\n",
      "2021-03-18 10:55:33,278 - INFO - mvg.mvg - timestamp=1573214460\n",
      "2021-03-18 10:55:33,791 - INFO - mvg.mvg - endpoint https://api.beta.multiviz.com\n",
      "2021-03-18 10:55:33,791 - INFO - mvg.mvg - retrieving measurements from source id=u0001\n",
      "2021-03-18 10:55:33,792 - INFO - mvg.mvg - timestamp=1573300860\n",
      "2021-03-18 10:55:34,257 - INFO - mvg.mvg - endpoint https://api.beta.multiviz.com\n",
      "2021-03-18 10:55:34,258 - INFO - mvg.mvg - retrieving measurements from source id=u0001\n",
      "2021-03-18 10:55:34,259 - INFO - mvg.mvg - timestamp=1573387260\n",
      "2021-03-18 10:55:35,820 - INFO - mvg.mvg - endpoint https://api.beta.multiviz.com\n",
      "2021-03-18 10:55:35,821 - INFO - mvg.mvg - retrieving measurements from source id=u0001\n",
      "2021-03-18 10:55:35,821 - INFO - mvg.mvg - timestamp=1573473660\n",
      "2021-03-18 10:55:36,317 - INFO - mvg.mvg - endpoint https://api.beta.multiviz.com\n",
      "2021-03-18 10:55:36,317 - INFO - mvg.mvg - retrieving measurements from source id=u0001\n",
      "2021-03-18 10:55:36,318 - INFO - mvg.mvg - timestamp=1573560060\n",
      "2021-03-18 10:55:36,830 - INFO - mvg.mvg - endpoint https://api.beta.multiviz.com\n",
      "2021-03-18 10:55:36,831 - INFO - mvg.mvg - retrieving measurements from source id=u0001\n",
      "2021-03-18 10:55:36,831 - INFO - mvg.mvg - timestamp=1573646460\n",
      "2021-03-18 10:55:37,328 - INFO - mvg.mvg - endpoint https://api.beta.multiviz.com\n",
      "2021-03-18 10:55:37,329 - INFO - mvg.mvg - retrieving measurements from source id=u0001\n",
      "2021-03-18 10:55:37,329 - INFO - mvg.mvg - timestamp=1573732860\n",
      "2021-03-18 10:55:37,791 - INFO - mvg.mvg - endpoint https://api.beta.multiviz.com\n",
      "2021-03-18 10:55:37,791 - INFO - mvg.mvg - retrieving measurements from source id=u0001\n",
      "2021-03-18 10:55:37,792 - INFO - mvg.mvg - timestamp=1573819260\n",
      "2021-03-18 10:55:38,278 - INFO - mvg.mvg - endpoint https://api.beta.multiviz.com\n",
      "2021-03-18 10:55:38,279 - INFO - mvg.mvg - retrieving measurements from source id=u0001\n",
      "2021-03-18 10:55:38,279 - INFO - mvg.mvg - timestamp=1573905660\n",
      "2021-03-18 10:55:38,790 - INFO - mvg.mvg - endpoint https://api.beta.multiviz.com\n",
      "2021-03-18 10:55:38,790 - INFO - mvg.mvg - retrieving measurements from source id=u0001\n",
      "2021-03-18 10:55:38,791 - INFO - mvg.mvg - timestamp=1573992060\n",
      "2021-03-18 10:55:39,278 - INFO - mvg.mvg - endpoint https://api.beta.multiviz.com\n",
      "2021-03-18 10:55:39,279 - INFO - mvg.mvg - retrieving measurements from source id=u0001\n",
      "2021-03-18 10:55:39,279 - INFO - mvg.mvg - timestamp=1574078460\n",
      "2021-03-18 10:55:39,739 - INFO - mvg.mvg - endpoint https://api.beta.multiviz.com\n",
      "2021-03-18 10:55:39,739 - INFO - mvg.mvg - retrieving measurements from source id=u0001\n",
      "2021-03-18 10:55:39,740 - INFO - mvg.mvg - timestamp=1574164860\n",
      "2021-03-18 10:55:40,224 - INFO - mvg.mvg - endpoint https://api.beta.multiviz.com\n",
      "2021-03-18 10:55:40,225 - INFO - mvg.mvg - retrieving measurements from source id=u0001\n",
      "2021-03-18 10:55:40,225 - INFO - mvg.mvg - timestamp=1574251260\n",
      "2021-03-18 10:55:40,693 - INFO - mvg.mvg - endpoint https://api.beta.multiviz.com\n",
      "2021-03-18 10:55:40,693 - INFO - mvg.mvg - retrieving measurements from source id=u0001\n",
      "2021-03-18 10:55:40,694 - INFO - mvg.mvg - timestamp=1574337660\n",
      "2021-03-18 10:55:41,192 - INFO - mvg.mvg - endpoint https://api.beta.multiviz.com\n",
      "2021-03-18 10:55:41,193 - INFO - mvg.mvg - retrieving measurements from source id=u0001\n",
      "2021-03-18 10:55:41,193 - INFO - mvg.mvg - timestamp=1574424060\n"
     ]
    },
    {
     "name": "stdout",
     "output_type": "stream",
     "text": [
      "Read 50 stored measurements\n"
     ]
    }
   ],
   "source": [
    "m = session.read_measurements(SOURCE_ID)\n",
    "print(f\"Read {len(m)} stored measurements\")"
   ]
  },
  {
   "cell_type": "markdown",
   "id": "suburban-shark",
   "metadata": {},
   "source": [
    "It is also possible to read a specific measurement at a single timestamp let's get the timestamp of the first measurement"
   ]
  },
  {
   "cell_type": "code",
   "execution_count": 17,
   "id": "refined-regulation",
   "metadata": {
    "ExecuteTime": {
     "end_time": "2021-03-18T09:55:42.225546Z",
     "start_time": "2021-03-18T09:55:41.729876Z"
    },
    "pycharm": {
     "is_executing": false
    }
   },
   "outputs": [
    {
     "name": "stderr",
     "output_type": "stream",
     "text": [
      "2021-03-18 10:55:41,730 - INFO - mvg.mvg - endpoint https://api.beta.multiviz.com\n",
      "2021-03-18 10:55:41,731 - INFO - mvg.mvg - retrieving measurements from source id=u0001\n",
      "2021-03-18 10:55:41,732 - INFO - mvg.mvg - timestamp=1570186860\n"
     ]
    },
    {
     "name": "stdout",
     "output_type": "stream",
     "text": [
      "source_id: u0001\n",
      "timestamp: 1570186860\n",
      "duration:  2.8672073400507907\n",
      "meta:      {'sampling_rate': 13950.857142857141}\n",
      "data:      [0.63897705078125, -0.55078125]...\n"
     ]
    }
   ],
   "source": [
    "ts_0 = m[0]['timestamp']\n",
    "meas_0 = session.read_single_measurement(SOURCE_ID, ts_0)\n",
    "# we'll printout the returned measurement\n",
    "print(f\"source_id: {meas_0['source_id']}\")\n",
    "print(f\"timestamp: {meas_0['timestamp']}\")\n",
    "print(f\"duration:  {meas_0['duration']}\")\n",
    "print(f\"meta:      {meas_0['meta']}\")\n",
    "print(f\"data:      {meas_0['data'][1:3]}...\")"
   ]
  },
  {
   "cell_type": "markdown",
   "id": "employed-wheel",
   "metadata": {},
   "source": [
    "We can update the meta information for a measurement at a single timestamp let's get the timestamp of the first measurement"
   ]
  },
  {
   "cell_type": "code",
   "execution_count": 18,
   "id": "hungry-brown",
   "metadata": {
    "ExecuteTime": {
     "end_time": "2021-03-18T09:55:42.870908Z",
     "start_time": "2021-03-18T09:55:42.226689Z"
    },
    "pycharm": {
     "is_executing": false
    }
   },
   "outputs": [
    {
     "name": "stderr",
     "output_type": "stream",
     "text": [
      "2021-03-18 10:55:42,227 - INFO - mvg.mvg - endpoint https://api.beta.multiviz.com\n",
      "2021-03-18 10:55:42,228 - INFO - mvg.mvg - deleting measurement for source id=u0001\n",
      "2021-03-18 10:55:42,229 - INFO - mvg.mvg -   timestamp: 1570186860\n",
      "2021-03-18 10:55:42,360 - INFO - mvg.mvg - endpoint https://api.beta.multiviz.com\n",
      "2021-03-18 10:55:42,360 - INFO - mvg.mvg - retrieving measurements from source id=u0001\n",
      "2021-03-18 10:55:42,360 - INFO - mvg.mvg - timestamp=1570186860\n"
     ]
    },
    {
     "name": "stdout",
     "output_type": "stream",
     "text": [
      "source_id: u0001\n",
      "timestamp: 1570186860\n",
      "duration:  2.8672073400507907\n",
      "meta:      {'sampling_rate': 13950.857142857141, 'updated': 'YES!'}\n",
      "data:      [0.63897705078125, -0.55078125]...\n"
     ]
    }
   ],
   "source": [
    "ts_0 = m[0]['timestamp']\n",
    "new_meta = meas_0['meta']\n",
    "new_meta['updated'] = \"YES!\"\n",
    "session.update_measurement(SOURCE_ID, ts_0, new_meta)\n",
    "meas_0_u = session.read_single_measurement(SOURCE_ID, ts_0)\n",
    "\n",
    "# we'll printout the returned measurement\n",
    "print(f\"source_id: {meas_0_u['source_id']}\")\n",
    "print(f\"timestamp: {meas_0_u['timestamp']}\")\n",
    "print(f\"duration:  {meas_0_u['duration']}\")\n",
    "print(f\"meta:      {meas_0_u['meta']}\")\n",
    "print(f\"data:      {meas_0_u['data'][1:3]}...\")"
   ]
  },
  {
   "cell_type": "markdown",
   "id": "promotional-apparatus",
   "metadata": {},
   "source": [
    "Finally we delete the measurement"
   ]
  },
  {
   "cell_type": "code",
   "execution_count": 19,
   "id": "portuguese-intensity",
   "metadata": {
    "ExecuteTime": {
     "end_time": "2021-03-18T09:55:43.023114Z",
     "start_time": "2021-03-18T09:55:42.872176Z"
    },
    "pycharm": {
     "is_executing": false
    }
   },
   "outputs": [
    {
     "name": "stderr",
     "output_type": "stream",
     "text": [
      "2021-03-18 10:55:42,872 - INFO - mvg.mvg - endpoint https://api.beta.multiviz.com\n",
      "2021-03-18 10:55:42,874 - INFO - mvg.mvg - deleting measurement for source id=u0001\n",
      "2021-03-18 10:55:42,874 - INFO - mvg.mvg -   timestamp: 1570186860\n"
     ]
    }
   ],
   "source": [
    "session.delete_measurement(SOURCE_ID, ts_0)"
   ]
  },
  {
   "cell_type": "markdown",
   "id": "original-nigeria",
   "metadata": {},
   "source": [
    "We check if it's actually deleted"
   ]
  },
  {
   "cell_type": "code",
   "execution_count": 20,
   "id": "worth-dining",
   "metadata": {
    "ExecuteTime": {
     "end_time": "2021-03-18T09:55:43.153589Z",
     "start_time": "2021-03-18T09:55:43.024498Z"
    },
    "pycharm": {
     "is_executing": false
    }
   },
   "outputs": [
    {
     "name": "stderr",
     "output_type": "stream",
     "text": [
      "2021-03-18 10:55:43,025 - INFO - mvg.mvg - endpoint https://api.beta.multiviz.com\n",
      "2021-03-18 10:55:43,025 - INFO - mvg.mvg - retrieving measurements from source id=u0001\n",
      "2021-03-18 10:55:43,026 - INFO - mvg.mvg - timestamp=1570186860\n"
     ]
    },
    {
     "name": "stdout",
     "output_type": "stream",
     "text": [
      "Previously deleted measurement does not exist\n"
     ]
    }
   ],
   "source": [
    "try:\n",
    "    meas_0 = session.read_single_measurement(SOURCE_ID, ts_0)\n",
    "except HTTPError:\n",
    "    print(\"Previously deleted measurement does not exist\")"
   ]
  },
  {
   "cell_type": "markdown",
   "id": "white-applicant",
   "metadata": {},
   "source": [
    "If all went well we end up here now the source u0001 is in the database along with a number measurements"
   ]
  },
  {
   "cell_type": "markdown",
   "id": "caring-cinema",
   "metadata": {},
   "source": [
    "## Uploading another source\n",
    "\n",
    "Here we show how to upload another source in a more compact way."
   ]
  },
  {
   "cell_type": "code",
   "execution_count": 21,
   "id": "found-separate",
   "metadata": {
    "ExecuteTime": {
     "end_time": "2021-03-18T09:56:43.305948Z",
     "start_time": "2021-03-18T09:55:43.154900Z"
    },
    "pycharm": {
     "is_executing": false,
     "name": "#%%\n"
    }
   },
   "outputs": [
    {
     "name": "stderr",
     "output_type": "stream",
     "text": [
      "2021-03-18 10:55:43,170 - INFO - mvg.mvg - endpoint https://api.beta.multiviz.com\n",
      "2021-03-18 10:55:43,170 - INFO - mvg.mvg - deleting source with source id=u0005\n",
      "2021-03-18 10:55:43,315 - INFO - mvg.mvg - endpoint https://api.beta.multiviz.com\n",
      "2021-03-18 10:55:43,315 - INFO - mvg.mvg - creating source with source id=u0005\n",
      "2021-03-18 10:55:43,316 - INFO - mvg.mvg - metadata: {'assetId': 'assetE', 'measPoint': 'mloc01', 'location': 'london'}\n"
     ]
    },
    {
     "name": "stdout",
     "output_type": "stream",
     "text": [
      "Deleting u0005\n",
      "Source u0005 does not exist\n"
     ]
    },
    {
     "name": "stderr",
     "output_type": "stream",
     "text": [
      "2021-03-18 10:55:43,459 - INFO - mvg.mvg - endpoint https://api.beta.multiviz.com\n",
      "2021-03-18 10:55:43,459 - INFO - mvg.mvg - creating measurement from source id=u0005\n",
      "2021-03-18 10:55:43,460 - INFO - mvg.mvg -   duration:  2.8672073400507907\n",
      "2021-03-18 10:55:43,460 - INFO - mvg.mvg -   timestamp: 1572609660\n",
      "2021-03-18 10:55:43,460 - INFO - mvg.mvg -   meta data: {'sampling_rate': 13950.857142857141}\n"
     ]
    },
    {
     "name": "stdout",
     "output_type": "stream",
     "text": [
      "Read 40000 samples\n",
      "Read meta: {'duration': 2.8672073400507907, 'meta': {}}\n",
      "Uploading /home/oskar/viking_unix/mvg/docs/source/content/examples/va-data-charlie/charlieDb/acc/u0005/1572609660.csv\n"
     ]
    },
    {
     "name": "stderr",
     "output_type": "stream",
     "text": [
      "2021-03-18 10:55:44,660 - INFO - mvg.mvg - endpoint https://api.beta.multiviz.com\n",
      "2021-03-18 10:55:44,661 - INFO - mvg.mvg - creating measurement from source id=u0005\n",
      "2021-03-18 10:55:44,661 - INFO - mvg.mvg -   duration:  2.8672073400507907\n",
      "2021-03-18 10:55:44,662 - INFO - mvg.mvg -   timestamp: 1572955260\n",
      "2021-03-18 10:55:44,663 - INFO - mvg.mvg -   meta data: {'sampling_rate': 13950.857142857141}\n"
     ]
    },
    {
     "name": "stdout",
     "output_type": "stream",
     "text": [
      "Read 40000 samples\n",
      "Read meta: {'duration': 2.8672073400507907, 'meta': {}}\n",
      "Uploading /home/oskar/viking_unix/mvg/docs/source/content/examples/va-data-charlie/charlieDb/acc/u0005/1572955260.csv\n"
     ]
    },
    {
     "name": "stderr",
     "output_type": "stream",
     "text": [
      "2021-03-18 10:55:45,708 - INFO - mvg.mvg - endpoint https://api.beta.multiviz.com\n",
      "2021-03-18 10:55:45,709 - INFO - mvg.mvg - creating measurement from source id=u0005\n",
      "2021-03-18 10:55:45,710 - INFO - mvg.mvg -   duration:  2.8672073400507907\n",
      "2021-03-18 10:55:45,710 - INFO - mvg.mvg -   timestamp: 1574164860\n",
      "2021-03-18 10:55:45,711 - INFO - mvg.mvg -   meta data: {'sampling_rate': 13950.857142857141}\n"
     ]
    },
    {
     "name": "stdout",
     "output_type": "stream",
     "text": [
      "Read 40000 samples\n",
      "Read meta: {'duration': 2.8672073400507907, 'meta': {}}\n",
      "Uploading /home/oskar/viking_unix/mvg/docs/source/content/examples/va-data-charlie/charlieDb/acc/u0005/1574164860.csv\n"
     ]
    },
    {
     "name": "stderr",
     "output_type": "stream",
     "text": [
      "2021-03-18 10:55:46,949 - INFO - mvg.mvg - endpoint https://api.beta.multiviz.com\n",
      "2021-03-18 10:55:46,949 - INFO - mvg.mvg - creating measurement from source id=u0005\n",
      "2021-03-18 10:55:46,950 - INFO - mvg.mvg -   duration:  2.8672073400507907\n",
      "2021-03-18 10:55:46,951 - INFO - mvg.mvg -   timestamp: 1570878060\n",
      "2021-03-18 10:55:46,952 - INFO - mvg.mvg -   meta data: {'sampling_rate': 13950.857142857141}\n"
     ]
    },
    {
     "name": "stdout",
     "output_type": "stream",
     "text": [
      "Read 40000 samples\n",
      "Read meta: {'duration': 2.8672073400507907, 'meta': {}}\n",
      "Uploading /home/oskar/viking_unix/mvg/docs/source/content/examples/va-data-charlie/charlieDb/acc/u0005/1570878060.csv\n"
     ]
    },
    {
     "name": "stderr",
     "output_type": "stream",
     "text": [
      "2021-03-18 10:55:48,552 - INFO - mvg.mvg - endpoint https://api.beta.multiviz.com\n",
      "2021-03-18 10:55:48,553 - INFO - mvg.mvg - creating measurement from source id=u0005\n",
      "2021-03-18 10:55:48,553 - INFO - mvg.mvg -   duration:  2.8672073400507907\n",
      "2021-03-18 10:55:48,554 - INFO - mvg.mvg -   timestamp: 1572868860\n",
      "2021-03-18 10:55:48,554 - INFO - mvg.mvg -   meta data: {'sampling_rate': 13950.857142857141}\n"
     ]
    },
    {
     "name": "stdout",
     "output_type": "stream",
     "text": [
      "Read 40000 samples\n",
      "Read meta: {'duration': 2.8672073400507907, 'meta': {}}\n",
      "Uploading /home/oskar/viking_unix/mvg/docs/source/content/examples/va-data-charlie/charlieDb/acc/u0005/1572868860.csv\n"
     ]
    },
    {
     "name": "stderr",
     "output_type": "stream",
     "text": [
      "2021-03-18 10:55:49,704 - INFO - mvg.mvg - endpoint https://api.beta.multiviz.com\n",
      "2021-03-18 10:55:49,705 - INFO - mvg.mvg - creating measurement from source id=u0005\n",
      "2021-03-18 10:55:49,705 - INFO - mvg.mvg -   duration:  2.8672073400507907\n",
      "2021-03-18 10:55:49,705 - INFO - mvg.mvg -   timestamp: 1574337660\n",
      "2021-03-18 10:55:49,706 - INFO - mvg.mvg -   meta data: {'sampling_rate': 13950.857142857141}\n"
     ]
    },
    {
     "name": "stdout",
     "output_type": "stream",
     "text": [
      "Read 40000 samples\n",
      "Read meta: {'duration': 2.8672073400507907, 'meta': {}}\n",
      "Uploading /home/oskar/viking_unix/mvg/docs/source/content/examples/va-data-charlie/charlieDb/acc/u0005/1574337660.csv\n"
     ]
    },
    {
     "name": "stderr",
     "output_type": "stream",
     "text": [
      "2021-03-18 10:55:51,092 - INFO - mvg.mvg - endpoint https://api.beta.multiviz.com\n",
      "2021-03-18 10:55:51,092 - INFO - mvg.mvg - creating measurement from source id=u0005\n",
      "2021-03-18 10:55:51,093 - INFO - mvg.mvg -   duration:  2.8672073400507907\n",
      "2021-03-18 10:55:51,093 - INFO - mvg.mvg -   timestamp: 1573128060\n",
      "2021-03-18 10:55:51,093 - INFO - mvg.mvg -   meta data: {'sampling_rate': 13950.857142857141}\n"
     ]
    },
    {
     "name": "stdout",
     "output_type": "stream",
     "text": [
      "Read 40000 samples\n",
      "Read meta: {'duration': 2.8672073400507907, 'meta': {}}\n",
      "Uploading /home/oskar/viking_unix/mvg/docs/source/content/examples/va-data-charlie/charlieDb/acc/u0005/1573128060.csv\n"
     ]
    },
    {
     "name": "stderr",
     "output_type": "stream",
     "text": [
      "2021-03-18 10:55:52,334 - INFO - mvg.mvg - endpoint https://api.beta.multiviz.com\n",
      "2021-03-18 10:55:52,334 - INFO - mvg.mvg - creating measurement from source id=u0005\n",
      "2021-03-18 10:55:52,335 - INFO - mvg.mvg -   duration:  2.8672073400507907\n",
      "2021-03-18 10:55:52,335 - INFO - mvg.mvg -   timestamp: 1570532460\n",
      "2021-03-18 10:55:52,335 - INFO - mvg.mvg -   meta data: {'sampling_rate': 13950.857142857141}\n"
     ]
    },
    {
     "name": "stdout",
     "output_type": "stream",
     "text": [
      "Read 40000 samples\n",
      "Read meta: {'duration': 2.8672073400507907, 'meta': {}}\n",
      "Uploading /home/oskar/viking_unix/mvg/docs/source/content/examples/va-data-charlie/charlieDb/acc/u0005/1570532460.csv\n"
     ]
    },
    {
     "name": "stderr",
     "output_type": "stream",
     "text": [
      "2021-03-18 10:55:53,586 - INFO - mvg.mvg - endpoint https://api.beta.multiviz.com\n",
      "2021-03-18 10:55:53,587 - INFO - mvg.mvg - creating measurement from source id=u0005\n",
      "2021-03-18 10:55:53,587 - INFO - mvg.mvg -   duration:  2.8672073400507907\n",
      "2021-03-18 10:55:53,588 - INFO - mvg.mvg -   timestamp: 1571137260\n",
      "2021-03-18 10:55:53,588 - INFO - mvg.mvg -   meta data: {'sampling_rate': 13950.857142857141}\n"
     ]
    },
    {
     "name": "stdout",
     "output_type": "stream",
     "text": [
      "Read 40000 samples\n",
      "Read meta: {'duration': 2.8672073400507907, 'meta': {}}\n",
      "Uploading /home/oskar/viking_unix/mvg/docs/source/content/examples/va-data-charlie/charlieDb/acc/u0005/1571137260.csv\n"
     ]
    },
    {
     "name": "stderr",
     "output_type": "stream",
     "text": [
      "2021-03-18 10:55:54,594 - INFO - mvg.mvg - endpoint https://api.beta.multiviz.com\n",
      "2021-03-18 10:55:54,595 - INFO - mvg.mvg - creating measurement from source id=u0005\n",
      "2021-03-18 10:55:54,595 - INFO - mvg.mvg -   duration:  2.8672073400507907\n",
      "2021-03-18 10:55:54,596 - INFO - mvg.mvg -   timestamp: 1573732860\n",
      "2021-03-18 10:55:54,597 - INFO - mvg.mvg -   meta data: {'sampling_rate': 13950.857142857141}\n"
     ]
    },
    {
     "name": "stdout",
     "output_type": "stream",
     "text": [
      "Read 40000 samples\n",
      "Read meta: {'duration': 2.8672073400507907, 'meta': {}}\n",
      "Uploading /home/oskar/viking_unix/mvg/docs/source/content/examples/va-data-charlie/charlieDb/acc/u0005/1573732860.csv\n"
     ]
    },
    {
     "name": "stderr",
     "output_type": "stream",
     "text": [
      "2021-03-18 10:55:55,712 - INFO - mvg.mvg - endpoint https://api.beta.multiviz.com\n",
      "2021-03-18 10:55:55,712 - INFO - mvg.mvg - creating measurement from source id=u0005\n",
      "2021-03-18 10:55:55,713 - INFO - mvg.mvg -   duration:  2.8672073400507907\n",
      "2021-03-18 10:55:55,713 - INFO - mvg.mvg -   timestamp: 1573819260\n",
      "2021-03-18 10:55:55,714 - INFO - mvg.mvg -   meta data: {'sampling_rate': 13950.857142857141}\n"
     ]
    },
    {
     "name": "stdout",
     "output_type": "stream",
     "text": [
      "Read 40000 samples\n",
      "Read meta: {'duration': 2.8672073400507907, 'meta': {}}\n",
      "Uploading /home/oskar/viking_unix/mvg/docs/source/content/examples/va-data-charlie/charlieDb/acc/u0005/1573819260.csv\n"
     ]
    },
    {
     "name": "stderr",
     "output_type": "stream",
     "text": [
      "2021-03-18 10:55:57,031 - INFO - mvg.mvg - endpoint https://api.beta.multiviz.com\n",
      "2021-03-18 10:55:57,031 - INFO - mvg.mvg - creating measurement from source id=u0005\n",
      "2021-03-18 10:55:57,032 - INFO - mvg.mvg -   duration:  2.8672073400507907\n",
      "2021-03-18 10:55:57,033 - INFO - mvg.mvg -   timestamp: 1573905660\n",
      "2021-03-18 10:55:57,033 - INFO - mvg.mvg -   meta data: {'sampling_rate': 13950.857142857141}\n"
     ]
    },
    {
     "name": "stdout",
     "output_type": "stream",
     "text": [
      "Read 40000 samples\n",
      "Read meta: {'duration': 2.8672073400507907, 'meta': {}}\n",
      "Uploading /home/oskar/viking_unix/mvg/docs/source/content/examples/va-data-charlie/charlieDb/acc/u0005/1573905660.csv\n"
     ]
    },
    {
     "name": "stderr",
     "output_type": "stream",
     "text": [
      "2021-03-18 10:55:58,301 - INFO - mvg.mvg - endpoint https://api.beta.multiviz.com\n",
      "2021-03-18 10:55:58,301 - INFO - mvg.mvg - creating measurement from source id=u0005\n",
      "2021-03-18 10:55:58,301 - INFO - mvg.mvg -   duration:  2.8672073400507907\n",
      "2021-03-18 10:55:58,302 - INFO - mvg.mvg -   timestamp: 1570273260\n",
      "2021-03-18 10:55:58,303 - INFO - mvg.mvg -   meta data: {'sampling_rate': 13950.857142857141}\n"
     ]
    },
    {
     "name": "stdout",
     "output_type": "stream",
     "text": [
      "Read 40000 samples\n",
      "Read meta: {'duration': 2.8672073400507907, 'meta': {}}\n",
      "Uploading /home/oskar/viking_unix/mvg/docs/source/content/examples/va-data-charlie/charlieDb/acc/u0005/1570273260.csv\n"
     ]
    },
    {
     "name": "stderr",
     "output_type": "stream",
     "text": [
      "2021-03-18 10:55:59,644 - INFO - mvg.mvg - endpoint https://api.beta.multiviz.com\n",
      "2021-03-18 10:55:59,645 - INFO - mvg.mvg - creating measurement from source id=u0005\n",
      "2021-03-18 10:55:59,645 - INFO - mvg.mvg -   duration:  2.8672073400507907\n",
      "2021-03-18 10:55:59,646 - INFO - mvg.mvg -   timestamp: 1570791660\n",
      "2021-03-18 10:55:59,647 - INFO - mvg.mvg -   meta data: {'sampling_rate': 13950.857142857141}\n"
     ]
    },
    {
     "name": "stdout",
     "output_type": "stream",
     "text": [
      "Read 40000 samples\n",
      "Read meta: {'duration': 2.8672073400507907, 'meta': {}}\n",
      "Uploading /home/oskar/viking_unix/mvg/docs/source/content/examples/va-data-charlie/charlieDb/acc/u0005/1570791660.csv\n"
     ]
    },
    {
     "name": "stderr",
     "output_type": "stream",
     "text": [
      "2021-03-18 10:56:00,842 - INFO - mvg.mvg - endpoint https://api.beta.multiviz.com\n",
      "2021-03-18 10:56:00,843 - INFO - mvg.mvg - creating measurement from source id=u0005\n",
      "2021-03-18 10:56:00,844 - INFO - mvg.mvg -   duration:  2.8672073400507907\n",
      "2021-03-18 10:56:00,844 - INFO - mvg.mvg -   timestamp: 1574251260\n",
      "2021-03-18 10:56:00,844 - INFO - mvg.mvg -   meta data: {'sampling_rate': 13950.857142857141}\n"
     ]
    },
    {
     "name": "stdout",
     "output_type": "stream",
     "text": [
      "Read 40000 samples\n",
      "Read meta: {'duration': 2.8672073400507907, 'meta': {}}\n",
      "Uploading /home/oskar/viking_unix/mvg/docs/source/content/examples/va-data-charlie/charlieDb/acc/u0005/1574251260.csv\n"
     ]
    },
    {
     "name": "stderr",
     "output_type": "stream",
     "text": [
      "2021-03-18 10:56:01,962 - INFO - mvg.mvg - endpoint https://api.beta.multiviz.com\n",
      "2021-03-18 10:56:01,963 - INFO - mvg.mvg - creating measurement from source id=u0005\n",
      "2021-03-18 10:56:01,964 - INFO - mvg.mvg -   duration:  2.8672073400507907\n",
      "2021-03-18 10:56:01,964 - INFO - mvg.mvg -   timestamp: 1573473660\n",
      "2021-03-18 10:56:01,965 - INFO - mvg.mvg -   meta data: {'sampling_rate': 13950.857142857141}\n"
     ]
    },
    {
     "name": "stdout",
     "output_type": "stream",
     "text": [
      "Read 40000 samples\n",
      "Read meta: {'duration': 2.8672073400507907, 'meta': {}}\n",
      "Uploading /home/oskar/viking_unix/mvg/docs/source/content/examples/va-data-charlie/charlieDb/acc/u0005/1573473660.csv\n"
     ]
    },
    {
     "name": "stderr",
     "output_type": "stream",
     "text": [
      "2021-03-18 10:56:03,045 - INFO - mvg.mvg - endpoint https://api.beta.multiviz.com\n",
      "2021-03-18 10:56:03,046 - INFO - mvg.mvg - creating measurement from source id=u0005\n",
      "2021-03-18 10:56:03,046 - INFO - mvg.mvg -   duration:  2.8672073400507907\n",
      "2021-03-18 10:56:03,047 - INFO - mvg.mvg -   timestamp: 1571742060\n",
      "2021-03-18 10:56:03,048 - INFO - mvg.mvg -   meta data: {'sampling_rate': 13950.857142857141}\n"
     ]
    },
    {
     "name": "stdout",
     "output_type": "stream",
     "text": [
      "Read 40000 samples\n",
      "Read meta: {'duration': 2.8672073400507907, 'meta': {}}\n",
      "Uploading /home/oskar/viking_unix/mvg/docs/source/content/examples/va-data-charlie/charlieDb/acc/u0005/1571742060.csv\n"
     ]
    },
    {
     "name": "stderr",
     "output_type": "stream",
     "text": [
      "2021-03-18 10:56:04,234 - INFO - mvg.mvg - endpoint https://api.beta.multiviz.com\n",
      "2021-03-18 10:56:04,235 - INFO - mvg.mvg - creating measurement from source id=u0005\n",
      "2021-03-18 10:56:04,235 - INFO - mvg.mvg -   duration:  2.8672073400507907\n",
      "2021-03-18 10:56:04,236 - INFO - mvg.mvg -   timestamp: 1573992060\n",
      "2021-03-18 10:56:04,236 - INFO - mvg.mvg -   meta data: {'sampling_rate': 13950.857142857141}\n"
     ]
    },
    {
     "name": "stdout",
     "output_type": "stream",
     "text": [
      "Read 40000 samples\n",
      "Read meta: {'duration': 2.8672073400507907, 'meta': {}}\n",
      "Uploading /home/oskar/viking_unix/mvg/docs/source/content/examples/va-data-charlie/charlieDb/acc/u0005/1573992060.csv\n"
     ]
    },
    {
     "name": "stderr",
     "output_type": "stream",
     "text": [
      "2021-03-18 10:56:05,269 - INFO - mvg.mvg - endpoint https://api.beta.multiviz.com\n",
      "2021-03-18 10:56:05,269 - INFO - mvg.mvg - creating measurement from source id=u0005\n",
      "2021-03-18 10:56:05,270 - INFO - mvg.mvg -   duration:  2.8672073400507907\n",
      "2021-03-18 10:56:05,270 - INFO - mvg.mvg -   timestamp: 1573300860\n",
      "2021-03-18 10:56:05,271 - INFO - mvg.mvg -   meta data: {'sampling_rate': 13950.857142857141}\n"
     ]
    },
    {
     "name": "stdout",
     "output_type": "stream",
     "text": [
      "Read 40000 samples\n",
      "Read meta: {'duration': 2.8672073400507907, 'meta': {}}\n",
      "Uploading /home/oskar/viking_unix/mvg/docs/source/content/examples/va-data-charlie/charlieDb/acc/u0005/1573300860.csv\n"
     ]
    },
    {
     "name": "stderr",
     "output_type": "stream",
     "text": [
      "2021-03-18 10:56:06,276 - INFO - mvg.mvg - endpoint https://api.beta.multiviz.com\n",
      "2021-03-18 10:56:06,277 - INFO - mvg.mvg - creating measurement from source id=u0005\n",
      "2021-03-18 10:56:06,277 - INFO - mvg.mvg -   duration:  2.8672073400507907\n",
      "2021-03-18 10:56:06,278 - INFO - mvg.mvg -   timestamp: 1572782460\n",
      "2021-03-18 10:56:06,278 - INFO - mvg.mvg -   meta data: {'sampling_rate': 13950.857142857141}\n"
     ]
    },
    {
     "name": "stdout",
     "output_type": "stream",
     "text": [
      "Read 40000 samples\n",
      "Read meta: {'duration': 2.8672073400507907, 'meta': {}}\n",
      "Uploading /home/oskar/viking_unix/mvg/docs/source/content/examples/va-data-charlie/charlieDb/acc/u0005/1572782460.csv\n"
     ]
    },
    {
     "name": "stderr",
     "output_type": "stream",
     "text": [
      "2021-03-18 10:56:07,663 - INFO - mvg.mvg - endpoint https://api.beta.multiviz.com\n",
      "2021-03-18 10:56:07,664 - INFO - mvg.mvg - creating measurement from source id=u0005\n",
      "2021-03-18 10:56:07,664 - INFO - mvg.mvg -   duration:  2.8672073400507907\n",
      "2021-03-18 10:56:07,664 - INFO - mvg.mvg -   timestamp: 1572350460\n",
      "2021-03-18 10:56:07,665 - INFO - mvg.mvg -   meta data: {'sampling_rate': 13950.857142857141}\n"
     ]
    },
    {
     "name": "stdout",
     "output_type": "stream",
     "text": [
      "Read 40000 samples\n",
      "Read meta: {'duration': 2.8672073400507907, 'meta': {}}\n",
      "Uploading /home/oskar/viking_unix/mvg/docs/source/content/examples/va-data-charlie/charlieDb/acc/u0005/1572350460.csv\n"
     ]
    },
    {
     "name": "stderr",
     "output_type": "stream",
     "text": [
      "2021-03-18 10:56:09,086 - INFO - mvg.mvg - endpoint https://api.beta.multiviz.com\n",
      "2021-03-18 10:56:09,086 - INFO - mvg.mvg - creating measurement from source id=u0005\n",
      "2021-03-18 10:56:09,087 - INFO - mvg.mvg -   duration:  2.8672073400507907\n",
      "2021-03-18 10:56:09,087 - INFO - mvg.mvg -   timestamp: 1570964460\n",
      "2021-03-18 10:56:09,088 - INFO - mvg.mvg -   meta data: {'sampling_rate': 13950.857142857141}\n"
     ]
    },
    {
     "name": "stdout",
     "output_type": "stream",
     "text": [
      "Read 40000 samples\n",
      "Read meta: {'duration': 2.8672073400507907, 'meta': {}}\n",
      "Uploading /home/oskar/viking_unix/mvg/docs/source/content/examples/va-data-charlie/charlieDb/acc/u0005/1570964460.csv\n"
     ]
    },
    {
     "name": "stderr",
     "output_type": "stream",
     "text": [
      "2021-03-18 10:56:10,269 - INFO - mvg.mvg - endpoint https://api.beta.multiviz.com\n",
      "2021-03-18 10:56:10,270 - INFO - mvg.mvg - creating measurement from source id=u0005\n",
      "2021-03-18 10:56:10,270 - INFO - mvg.mvg -   duration:  2.8672073400507907\n",
      "2021-03-18 10:56:10,271 - INFO - mvg.mvg -   timestamp: 1571482860\n",
      "2021-03-18 10:56:10,271 - INFO - mvg.mvg -   meta data: {'sampling_rate': 13950.857142857141}\n"
     ]
    },
    {
     "name": "stdout",
     "output_type": "stream",
     "text": [
      "Read 40000 samples\n",
      "Read meta: {'duration': 2.8672073400507907, 'meta': {}}\n",
      "Uploading /home/oskar/viking_unix/mvg/docs/source/content/examples/va-data-charlie/charlieDb/acc/u0005/1571482860.csv\n"
     ]
    },
    {
     "name": "stderr",
     "output_type": "stream",
     "text": [
      "2021-03-18 10:56:11,466 - INFO - mvg.mvg - endpoint https://api.beta.multiviz.com\n",
      "2021-03-18 10:56:11,467 - INFO - mvg.mvg - creating measurement from source id=u0005\n",
      "2021-03-18 10:56:11,467 - INFO - mvg.mvg -   duration:  2.8672073400507907\n",
      "2021-03-18 10:56:11,468 - INFO - mvg.mvg -   timestamp: 1570359660\n",
      "2021-03-18 10:56:11,469 - INFO - mvg.mvg -   meta data: {'sampling_rate': 13950.857142857141}\n"
     ]
    },
    {
     "name": "stdout",
     "output_type": "stream",
     "text": [
      "Read 40000 samples\n",
      "Read meta: {'duration': 2.8672073400507907, 'meta': {}}\n",
      "Uploading /home/oskar/viking_unix/mvg/docs/source/content/examples/va-data-charlie/charlieDb/acc/u0005/1570359660.csv\n"
     ]
    },
    {
     "name": "stderr",
     "output_type": "stream",
     "text": [
      "2021-03-18 10:56:12,896 - INFO - mvg.mvg - endpoint https://api.beta.multiviz.com\n",
      "2021-03-18 10:56:12,896 - INFO - mvg.mvg - creating measurement from source id=u0005\n",
      "2021-03-18 10:56:12,897 - INFO - mvg.mvg -   duration:  2.8672073400507907\n",
      "2021-03-18 10:56:12,898 - INFO - mvg.mvg -   timestamp: 1572001260\n",
      "2021-03-18 10:56:12,898 - INFO - mvg.mvg -   meta data: {'sampling_rate': 13950.857142857141}\n"
     ]
    },
    {
     "name": "stdout",
     "output_type": "stream",
     "text": [
      "Read 40000 samples\n",
      "Read meta: {'duration': 2.8672073400507907, 'meta': {}}\n",
      "Uploading /home/oskar/viking_unix/mvg/docs/source/content/examples/va-data-charlie/charlieDb/acc/u0005/1572001260.csv\n"
     ]
    },
    {
     "name": "stderr",
     "output_type": "stream",
     "text": [
      "2021-03-18 10:56:14,235 - INFO - mvg.mvg - endpoint https://api.beta.multiviz.com\n",
      "2021-03-18 10:56:14,235 - INFO - mvg.mvg - creating measurement from source id=u0005\n",
      "2021-03-18 10:56:14,236 - INFO - mvg.mvg -   duration:  2.8672073400507907\n",
      "2021-03-18 10:56:14,236 - INFO - mvg.mvg -   timestamp: 1573041660\n",
      "2021-03-18 10:56:14,237 - INFO - mvg.mvg -   meta data: {'sampling_rate': 13950.857142857141}\n"
     ]
    },
    {
     "name": "stdout",
     "output_type": "stream",
     "text": [
      "Read 40000 samples\n",
      "Read meta: {'duration': 2.8672073400507907, 'meta': {}}\n",
      "Uploading /home/oskar/viking_unix/mvg/docs/source/content/examples/va-data-charlie/charlieDb/acc/u0005/1573041660.csv\n"
     ]
    },
    {
     "name": "stderr",
     "output_type": "stream",
     "text": [
      "2021-03-18 10:56:15,504 - INFO - mvg.mvg - endpoint https://api.beta.multiviz.com\n",
      "2021-03-18 10:56:15,505 - INFO - mvg.mvg - creating measurement from source id=u0005\n",
      "2021-03-18 10:56:15,506 - INFO - mvg.mvg -   duration:  2.8672073400507907\n",
      "2021-03-18 10:56:15,506 - INFO - mvg.mvg -   timestamp: 1573214460\n",
      "2021-03-18 10:56:15,507 - INFO - mvg.mvg -   meta data: {'sampling_rate': 13950.857142857141}\n"
     ]
    },
    {
     "name": "stdout",
     "output_type": "stream",
     "text": [
      "Read 40000 samples\n",
      "Read meta: {'duration': 2.8672073400507907, 'meta': {}}\n",
      "Uploading /home/oskar/viking_unix/mvg/docs/source/content/examples/va-data-charlie/charlieDb/acc/u0005/1573214460.csv\n"
     ]
    },
    {
     "name": "stderr",
     "output_type": "stream",
     "text": [
      "2021-03-18 10:56:16,625 - INFO - mvg.mvg - endpoint https://api.beta.multiviz.com\n",
      "2021-03-18 10:56:16,625 - INFO - mvg.mvg - creating measurement from source id=u0005\n",
      "2021-03-18 10:56:16,626 - INFO - mvg.mvg -   duration:  2.8672073400507907\n",
      "2021-03-18 10:56:16,627 - INFO - mvg.mvg -   timestamp: 1570618860\n",
      "2021-03-18 10:56:16,627 - INFO - mvg.mvg -   meta data: {'sampling_rate': 13950.857142857141}\n"
     ]
    },
    {
     "name": "stdout",
     "output_type": "stream",
     "text": [
      "Read 40000 samples\n",
      "Read meta: {'duration': 2.8672073400507907, 'meta': {}}\n",
      "Uploading /home/oskar/viking_unix/mvg/docs/source/content/examples/va-data-charlie/charlieDb/acc/u0005/1570618860.csv\n"
     ]
    },
    {
     "name": "stderr",
     "output_type": "stream",
     "text": [
      "2021-03-18 10:56:17,698 - INFO - mvg.mvg - endpoint https://api.beta.multiviz.com\n",
      "2021-03-18 10:56:17,699 - INFO - mvg.mvg - creating measurement from source id=u0005\n",
      "2021-03-18 10:56:17,699 - INFO - mvg.mvg -   duration:  2.8672073400507907\n",
      "2021-03-18 10:56:17,700 - INFO - mvg.mvg -   timestamp: 1571655660\n",
      "2021-03-18 10:56:17,700 - INFO - mvg.mvg -   meta data: {'sampling_rate': 13950.857142857141}\n"
     ]
    },
    {
     "name": "stdout",
     "output_type": "stream",
     "text": [
      "Read 40000 samples\n",
      "Read meta: {'duration': 2.8672073400507907, 'meta': {}}\n",
      "Uploading /home/oskar/viking_unix/mvg/docs/source/content/examples/va-data-charlie/charlieDb/acc/u0005/1571655660.csv\n"
     ]
    },
    {
     "name": "stderr",
     "output_type": "stream",
     "text": [
      "2021-03-18 10:56:18,979 - INFO - mvg.mvg - endpoint https://api.beta.multiviz.com\n",
      "2021-03-18 10:56:18,979 - INFO - mvg.mvg - creating measurement from source id=u0005\n",
      "2021-03-18 10:56:18,980 - INFO - mvg.mvg -   duration:  2.8672073400507907\n",
      "2021-03-18 10:56:18,980 - INFO - mvg.mvg -   timestamp: 1573560060\n",
      "2021-03-18 10:56:18,980 - INFO - mvg.mvg -   meta data: {'sampling_rate': 13950.857142857141}\n"
     ]
    },
    {
     "name": "stdout",
     "output_type": "stream",
     "text": [
      "Read 40000 samples\n",
      "Read meta: {'duration': 2.8672073400507907, 'meta': {}}\n",
      "Uploading /home/oskar/viking_unix/mvg/docs/source/content/examples/va-data-charlie/charlieDb/acc/u0005/1573560060.csv\n"
     ]
    },
    {
     "name": "stderr",
     "output_type": "stream",
     "text": [
      "2021-03-18 10:56:20,460 - INFO - mvg.mvg - endpoint https://api.beta.multiviz.com\n",
      "2021-03-18 10:56:20,461 - INFO - mvg.mvg - creating measurement from source id=u0005\n",
      "2021-03-18 10:56:20,461 - INFO - mvg.mvg -   duration:  2.8672073400507907\n",
      "2021-03-18 10:56:20,461 - INFO - mvg.mvg -   timestamp: 1571396460\n",
      "2021-03-18 10:56:20,462 - INFO - mvg.mvg -   meta data: {'sampling_rate': 13950.857142857141}\n"
     ]
    },
    {
     "name": "stdout",
     "output_type": "stream",
     "text": [
      "Read 40000 samples\n",
      "Read meta: {'duration': 2.8672073400507907, 'meta': {}}\n",
      "Uploading /home/oskar/viking_unix/mvg/docs/source/content/examples/va-data-charlie/charlieDb/acc/u0005/1571396460.csv\n"
     ]
    },
    {
     "name": "stderr",
     "output_type": "stream",
     "text": [
      "2021-03-18 10:56:21,500 - INFO - mvg.mvg - endpoint https://api.beta.multiviz.com\n",
      "2021-03-18 10:56:21,500 - INFO - mvg.mvg - creating measurement from source id=u0005\n",
      "2021-03-18 10:56:21,501 - INFO - mvg.mvg -   duration:  2.8672073400507907\n",
      "2021-03-18 10:56:21,501 - INFO - mvg.mvg -   timestamp: 1570186860\n",
      "2021-03-18 10:56:21,502 - INFO - mvg.mvg -   meta data: {'sampling_rate': 13950.857142857141}\n"
     ]
    },
    {
     "name": "stdout",
     "output_type": "stream",
     "text": [
      "Read 40000 samples\n",
      "Read meta: {'duration': 2.8672073400507907, 'meta': {}}\n",
      "Uploading /home/oskar/viking_unix/mvg/docs/source/content/examples/va-data-charlie/charlieDb/acc/u0005/1570186860.csv\n"
     ]
    },
    {
     "name": "stderr",
     "output_type": "stream",
     "text": [
      "2021-03-18 10:56:22,699 - INFO - mvg.mvg - endpoint https://api.beta.multiviz.com\n",
      "2021-03-18 10:56:22,699 - INFO - mvg.mvg - creating measurement from source id=u0005\n",
      "2021-03-18 10:56:22,700 - INFO - mvg.mvg -   duration:  2.8672073400507907\n",
      "2021-03-18 10:56:22,701 - INFO - mvg.mvg -   timestamp: 1570446060\n",
      "2021-03-18 10:56:22,701 - INFO - mvg.mvg -   meta data: {'sampling_rate': 13950.857142857141}\n"
     ]
    },
    {
     "name": "stdout",
     "output_type": "stream",
     "text": [
      "Read 40000 samples\n",
      "Read meta: {'duration': 2.8672073400507907, 'meta': {}}\n",
      "Uploading /home/oskar/viking_unix/mvg/docs/source/content/examples/va-data-charlie/charlieDb/acc/u0005/1570446060.csv\n"
     ]
    },
    {
     "name": "stderr",
     "output_type": "stream",
     "text": [
      "2021-03-18 10:56:23,853 - INFO - mvg.mvg - endpoint https://api.beta.multiviz.com\n",
      "2021-03-18 10:56:23,854 - INFO - mvg.mvg - creating measurement from source id=u0005\n",
      "2021-03-18 10:56:23,855 - INFO - mvg.mvg -   duration:  2.8672073400507907\n",
      "2021-03-18 10:56:23,855 - INFO - mvg.mvg -   timestamp: 1574078460\n",
      "2021-03-18 10:56:23,855 - INFO - mvg.mvg -   meta data: {'sampling_rate': 13950.857142857141}\n"
     ]
    },
    {
     "name": "stdout",
     "output_type": "stream",
     "text": [
      "Read 40000 samples\n",
      "Read meta: {'duration': 2.8672073400507907, 'meta': {}}\n",
      "Uploading /home/oskar/viking_unix/mvg/docs/source/content/examples/va-data-charlie/charlieDb/acc/u0005/1574078460.csv\n"
     ]
    },
    {
     "name": "stderr",
     "output_type": "stream",
     "text": [
      "2021-03-18 10:56:24,938 - INFO - mvg.mvg - endpoint https://api.beta.multiviz.com\n",
      "2021-03-18 10:56:24,938 - INFO - mvg.mvg - creating measurement from source id=u0005\n",
      "2021-03-18 10:56:24,939 - INFO - mvg.mvg -   duration:  2.8672073400507907\n",
      "2021-03-18 10:56:24,939 - INFO - mvg.mvg -   timestamp: 1572436860\n",
      "2021-03-18 10:56:24,940 - INFO - mvg.mvg -   meta data: {'sampling_rate': 13950.857142857141}\n"
     ]
    },
    {
     "name": "stdout",
     "output_type": "stream",
     "text": [
      "Read 40000 samples\n",
      "Read meta: {'duration': 2.8672073400507907, 'meta': {}}\n",
      "Uploading /home/oskar/viking_unix/mvg/docs/source/content/examples/va-data-charlie/charlieDb/acc/u0005/1572436860.csv\n"
     ]
    },
    {
     "name": "stderr",
     "output_type": "stream",
     "text": [
      "2021-03-18 10:56:26,196 - INFO - mvg.mvg - endpoint https://api.beta.multiviz.com\n",
      "2021-03-18 10:56:26,196 - INFO - mvg.mvg - creating measurement from source id=u0005\n",
      "2021-03-18 10:56:26,197 - INFO - mvg.mvg -   duration:  2.8672073400507907\n",
      "2021-03-18 10:56:26,197 - INFO - mvg.mvg -   timestamp: 1573646460\n",
      "2021-03-18 10:56:26,198 - INFO - mvg.mvg -   meta data: {'sampling_rate': 13950.857142857141}\n"
     ]
    },
    {
     "name": "stdout",
     "output_type": "stream",
     "text": [
      "Read 40000 samples\n",
      "Read meta: {'duration': 2.8672073400507907, 'meta': {}}\n",
      "Uploading /home/oskar/viking_unix/mvg/docs/source/content/examples/va-data-charlie/charlieDb/acc/u0005/1573646460.csv\n"
     ]
    },
    {
     "name": "stderr",
     "output_type": "stream",
     "text": [
      "2021-03-18 10:56:27,550 - INFO - mvg.mvg - endpoint https://api.beta.multiviz.com\n",
      "2021-03-18 10:56:27,550 - INFO - mvg.mvg - creating measurement from source id=u0005\n",
      "2021-03-18 10:56:27,551 - INFO - mvg.mvg -   duration:  2.8672073400507907\n",
      "2021-03-18 10:56:27,551 - INFO - mvg.mvg -   timestamp: 1573387260\n",
      "2021-03-18 10:56:27,552 - INFO - mvg.mvg -   meta data: {'sampling_rate': 13950.857142857141}\n"
     ]
    },
    {
     "name": "stdout",
     "output_type": "stream",
     "text": [
      "Read 40000 samples\n",
      "Read meta: {'duration': 2.8672073400507907, 'meta': {}}\n",
      "Uploading /home/oskar/viking_unix/mvg/docs/source/content/examples/va-data-charlie/charlieDb/acc/u0005/1573387260.csv\n"
     ]
    },
    {
     "name": "stderr",
     "output_type": "stream",
     "text": [
      "2021-03-18 10:56:28,689 - INFO - mvg.mvg - endpoint https://api.beta.multiviz.com\n",
      "2021-03-18 10:56:28,690 - INFO - mvg.mvg - creating measurement from source id=u0005\n",
      "2021-03-18 10:56:28,691 - INFO - mvg.mvg -   duration:  2.8672073400507907\n",
      "2021-03-18 10:56:28,691 - INFO - mvg.mvg -   timestamp: 1571050860\n",
      "2021-03-18 10:56:28,691 - INFO - mvg.mvg -   meta data: {'sampling_rate': 13950.857142857141}\n"
     ]
    },
    {
     "name": "stdout",
     "output_type": "stream",
     "text": [
      "Read 40000 samples\n",
      "Read meta: {'duration': 2.8672073400507907, 'meta': {}}\n",
      "Uploading /home/oskar/viking_unix/mvg/docs/source/content/examples/va-data-charlie/charlieDb/acc/u0005/1571050860.csv\n"
     ]
    },
    {
     "name": "stderr",
     "output_type": "stream",
     "text": [
      "2021-03-18 10:56:29,893 - INFO - mvg.mvg - endpoint https://api.beta.multiviz.com\n",
      "2021-03-18 10:56:29,894 - INFO - mvg.mvg - creating measurement from source id=u0005\n",
      "2021-03-18 10:56:29,895 - INFO - mvg.mvg -   duration:  2.8672073400507907\n",
      "2021-03-18 10:56:29,895 - INFO - mvg.mvg -   timestamp: 1571223660\n",
      "2021-03-18 10:56:29,896 - INFO - mvg.mvg -   meta data: {'sampling_rate': 13950.857142857141}\n"
     ]
    },
    {
     "name": "stdout",
     "output_type": "stream",
     "text": [
      "Read 40000 samples\n",
      "Read meta: {'duration': 2.8672073400507907, 'meta': {}}\n",
      "Uploading /home/oskar/viking_unix/mvg/docs/source/content/examples/va-data-charlie/charlieDb/acc/u0005/1571223660.csv\n"
     ]
    },
    {
     "name": "stderr",
     "output_type": "stream",
     "text": [
      "2021-03-18 10:56:31,081 - INFO - mvg.mvg - endpoint https://api.beta.multiviz.com\n",
      "2021-03-18 10:56:31,081 - INFO - mvg.mvg - creating measurement from source id=u0005\n",
      "2021-03-18 10:56:31,082 - INFO - mvg.mvg -   duration:  2.8672073400507907\n",
      "2021-03-18 10:56:31,082 - INFO - mvg.mvg -   timestamp: 1572264060\n",
      "2021-03-18 10:56:31,082 - INFO - mvg.mvg -   meta data: {'sampling_rate': 13950.857142857141}\n"
     ]
    },
    {
     "name": "stdout",
     "output_type": "stream",
     "text": [
      "Read 40000 samples\n",
      "Read meta: {'duration': 2.8672073400507907, 'meta': {}}\n",
      "Uploading /home/oskar/viking_unix/mvg/docs/source/content/examples/va-data-charlie/charlieDb/acc/u0005/1572264060.csv\n"
     ]
    },
    {
     "name": "stderr",
     "output_type": "stream",
     "text": [
      "2021-03-18 10:56:32,097 - INFO - mvg.mvg - endpoint https://api.beta.multiviz.com\n",
      "2021-03-18 10:56:32,098 - INFO - mvg.mvg - creating measurement from source id=u0005\n",
      "2021-03-18 10:56:32,099 - INFO - mvg.mvg -   duration:  2.8672073400507907\n",
      "2021-03-18 10:56:32,099 - INFO - mvg.mvg -   timestamp: 1571828460\n",
      "2021-03-18 10:56:32,100 - INFO - mvg.mvg -   meta data: {'sampling_rate': 13950.857142857141}\n"
     ]
    },
    {
     "name": "stdout",
     "output_type": "stream",
     "text": [
      "Read 40000 samples\n",
      "Read meta: {'duration': 2.8672073400507907, 'meta': {}}\n",
      "Uploading /home/oskar/viking_unix/mvg/docs/source/content/examples/va-data-charlie/charlieDb/acc/u0005/1571828460.csv\n"
     ]
    },
    {
     "name": "stderr",
     "output_type": "stream",
     "text": [
      "2021-03-18 10:56:33,114 - INFO - mvg.mvg - endpoint https://api.beta.multiviz.com\n",
      "2021-03-18 10:56:33,115 - INFO - mvg.mvg - creating measurement from source id=u0005\n",
      "2021-03-18 10:56:33,115 - INFO - mvg.mvg -   duration:  2.8672073400507907\n",
      "2021-03-18 10:56:33,116 - INFO - mvg.mvg -   timestamp: 1571310060\n",
      "2021-03-18 10:56:33,116 - INFO - mvg.mvg -   meta data: {'sampling_rate': 13950.857142857141}\n"
     ]
    },
    {
     "name": "stdout",
     "output_type": "stream",
     "text": [
      "Read 40000 samples\n",
      "Read meta: {'duration': 2.8672073400507907, 'meta': {}}\n",
      "Uploading /home/oskar/viking_unix/mvg/docs/source/content/examples/va-data-charlie/charlieDb/acc/u0005/1571310060.csv\n"
     ]
    },
    {
     "name": "stderr",
     "output_type": "stream",
     "text": [
      "2021-03-18 10:56:34,181 - INFO - mvg.mvg - endpoint https://api.beta.multiviz.com\n",
      "2021-03-18 10:56:34,182 - INFO - mvg.mvg - creating measurement from source id=u0005\n",
      "2021-03-18 10:56:34,182 - INFO - mvg.mvg -   duration:  2.8672073400507907\n",
      "2021-03-18 10:56:34,183 - INFO - mvg.mvg -   timestamp: 1571569260\n",
      "2021-03-18 10:56:34,184 - INFO - mvg.mvg -   meta data: {'sampling_rate': 13950.857142857141}\n"
     ]
    },
    {
     "name": "stdout",
     "output_type": "stream",
     "text": [
      "Read 40000 samples\n",
      "Read meta: {'duration': 2.8672073400507907, 'meta': {}}\n",
      "Uploading /home/oskar/viking_unix/mvg/docs/source/content/examples/va-data-charlie/charlieDb/acc/u0005/1571569260.csv\n"
     ]
    },
    {
     "name": "stderr",
     "output_type": "stream",
     "text": [
      "2021-03-18 10:56:35,200 - INFO - mvg.mvg - endpoint https://api.beta.multiviz.com\n",
      "2021-03-18 10:56:35,201 - INFO - mvg.mvg - creating measurement from source id=u0005\n",
      "2021-03-18 10:56:35,201 - INFO - mvg.mvg -   duration:  2.8672073400507907\n",
      "2021-03-18 10:56:35,201 - INFO - mvg.mvg -   timestamp: 1574424060\n",
      "2021-03-18 10:56:35,202 - INFO - mvg.mvg -   meta data: {'sampling_rate': 13950.857142857141}\n"
     ]
    },
    {
     "name": "stdout",
     "output_type": "stream",
     "text": [
      "Read 40000 samples\n",
      "Read meta: {'duration': 2.8672073400507907, 'meta': {}}\n",
      "Uploading /home/oskar/viking_unix/mvg/docs/source/content/examples/va-data-charlie/charlieDb/acc/u0005/1574424060.csv\n"
     ]
    },
    {
     "name": "stderr",
     "output_type": "stream",
     "text": [
      "2021-03-18 10:56:36,425 - INFO - mvg.mvg - endpoint https://api.beta.multiviz.com\n",
      "2021-03-18 10:56:36,425 - INFO - mvg.mvg - creating measurement from source id=u0005\n",
      "2021-03-18 10:56:36,426 - INFO - mvg.mvg -   duration:  2.8672073400507907\n",
      "2021-03-18 10:56:36,426 - INFO - mvg.mvg -   timestamp: 1572696060\n",
      "2021-03-18 10:56:36,427 - INFO - mvg.mvg -   meta data: {'sampling_rate': 13950.857142857141}\n"
     ]
    },
    {
     "name": "stdout",
     "output_type": "stream",
     "text": [
      "Read 40000 samples\n",
      "Read meta: {'duration': 2.8672073400507907, 'meta': {}}\n",
      "Uploading /home/oskar/viking_unix/mvg/docs/source/content/examples/va-data-charlie/charlieDb/acc/u0005/1572696060.csv\n"
     ]
    },
    {
     "name": "stderr",
     "output_type": "stream",
     "text": [
      "2021-03-18 10:56:37,620 - INFO - mvg.mvg - endpoint https://api.beta.multiviz.com\n",
      "2021-03-18 10:56:37,620 - INFO - mvg.mvg - creating measurement from source id=u0005\n",
      "2021-03-18 10:56:37,621 - INFO - mvg.mvg -   duration:  2.8672073400507907\n",
      "2021-03-18 10:56:37,621 - INFO - mvg.mvg -   timestamp: 1570705260\n",
      "2021-03-18 10:56:37,622 - INFO - mvg.mvg -   meta data: {'sampling_rate': 13950.857142857141}\n"
     ]
    },
    {
     "name": "stdout",
     "output_type": "stream",
     "text": [
      "Read 40000 samples\n",
      "Read meta: {'duration': 2.8672073400507907, 'meta': {}}\n",
      "Uploading /home/oskar/viking_unix/mvg/docs/source/content/examples/va-data-charlie/charlieDb/acc/u0005/1570705260.csv\n"
     ]
    },
    {
     "name": "stderr",
     "output_type": "stream",
     "text": [
      "2021-03-18 10:56:38,883 - INFO - mvg.mvg - endpoint https://api.beta.multiviz.com\n",
      "2021-03-18 10:56:38,883 - INFO - mvg.mvg - creating measurement from source id=u0005\n",
      "2021-03-18 10:56:38,884 - INFO - mvg.mvg -   duration:  2.8672073400507907\n",
      "2021-03-18 10:56:38,884 - INFO - mvg.mvg -   timestamp: 1571914860\n",
      "2021-03-18 10:56:38,885 - INFO - mvg.mvg -   meta data: {'sampling_rate': 13950.857142857141}\n"
     ]
    },
    {
     "name": "stdout",
     "output_type": "stream",
     "text": [
      "Read 40000 samples\n",
      "Read meta: {'duration': 2.8672073400507907, 'meta': {}}\n",
      "Uploading /home/oskar/viking_unix/mvg/docs/source/content/examples/va-data-charlie/charlieDb/acc/u0005/1571914860.csv\n"
     ]
    },
    {
     "name": "stderr",
     "output_type": "stream",
     "text": [
      "2021-03-18 10:56:40,041 - INFO - mvg.mvg - endpoint https://api.beta.multiviz.com\n",
      "2021-03-18 10:56:40,042 - INFO - mvg.mvg - creating measurement from source id=u0005\n",
      "2021-03-18 10:56:40,042 - INFO - mvg.mvg -   duration:  2.8672073400507907\n",
      "2021-03-18 10:56:40,043 - INFO - mvg.mvg -   timestamp: 1572523260\n",
      "2021-03-18 10:56:40,043 - INFO - mvg.mvg -   meta data: {'sampling_rate': 13950.857142857141}\n"
     ]
    },
    {
     "name": "stdout",
     "output_type": "stream",
     "text": [
      "Read 40000 samples\n",
      "Read meta: {'duration': 2.8672073400507907, 'meta': {}}\n",
      "Uploading /home/oskar/viking_unix/mvg/docs/source/content/examples/va-data-charlie/charlieDb/acc/u0005/1572523260.csv\n"
     ]
    },
    {
     "name": "stderr",
     "output_type": "stream",
     "text": [
      "2021-03-18 10:56:41,005 - INFO - mvg.mvg - endpoint https://api.beta.multiviz.com\n",
      "2021-03-18 10:56:41,005 - INFO - mvg.mvg - creating measurement from source id=u0005\n",
      "2021-03-18 10:56:41,006 - INFO - mvg.mvg -   duration:  2.8672073400507907\n",
      "2021-03-18 10:56:41,006 - INFO - mvg.mvg -   timestamp: 1572177660\n",
      "2021-03-18 10:56:41,007 - INFO - mvg.mvg -   meta data: {'sampling_rate': 13950.857142857141}\n"
     ]
    },
    {
     "name": "stdout",
     "output_type": "stream",
     "text": [
      "Read 40000 samples\n",
      "Read meta: {'duration': 2.8672073400507907, 'meta': {}}\n",
      "Uploading /home/oskar/viking_unix/mvg/docs/source/content/examples/va-data-charlie/charlieDb/acc/u0005/1572177660.csv\n"
     ]
    },
    {
     "name": "stderr",
     "output_type": "stream",
     "text": [
      "2021-03-18 10:56:42,316 - INFO - mvg.mvg - endpoint https://api.beta.multiviz.com\n",
      "2021-03-18 10:56:42,317 - INFO - mvg.mvg - creating measurement from source id=u0005\n",
      "2021-03-18 10:56:42,317 - INFO - mvg.mvg -   duration:  2.8672073400507907\n",
      "2021-03-18 10:56:42,318 - INFO - mvg.mvg -   timestamp: 1572087660\n",
      "2021-03-18 10:56:42,319 - INFO - mvg.mvg -   meta data: {'sampling_rate': 13950.857142857141}\n"
     ]
    },
    {
     "name": "stdout",
     "output_type": "stream",
     "text": [
      "Read 40000 samples\n",
      "Read meta: {'duration': 2.8672073400507907, 'meta': {}}\n",
      "Uploading /home/oskar/viking_unix/mvg/docs/source/content/examples/va-data-charlie/charlieDb/acc/u0005/1572087660.csv\n"
     ]
    }
   ],
   "source": [
    "NEW_SOURCE = SOURCE_IDS[1]\n",
    "\n",
    "try:\n",
    "    print(f\"Deleting {NEW_SOURCE}\")\n",
    "    session.delete_source(NEW_SOURCE)\n",
    "except HTTPError:\n",
    "    print(f\"Source {NEW_SOURCE} does not exist\")\n",
    "    \n",
    "src_path = REF_DB_PATH / NEW_SOURCE\n",
    "m_file_name = REF_DB_PATH / NEW_SOURCE / \"meta.json\"\n",
    "with open(m_file_name, \"r\") as json_file:\n",
    "    meta = json.load(json_file)\n",
    "session.create_source(NEW_SOURCE, meta)  # create\n",
    "\n",
    "meas = {f.split(\".\")[0] for f in os.listdir(src_path)}\n",
    "meas.remove(\"meta\")\n",
    "\n",
    "for m in meas:\n",
    "\n",
    "    # samples file for one measurement\n",
    "    TS_MEAS = str(m) + \".csv\"  # filename\n",
    "    TS_MEAS = REF_DB_PATH / NEW_SOURCE / TS_MEAS  # path to file\n",
    "    ts_df = pd.read_csv(TS_MEAS, names=['acc'])  # read csv into df\n",
    "    accs = ts_df.iloc[:, 0].tolist()  # convert to list\n",
    "    print(f\"Read {len(accs)} samples\")\n",
    "\n",
    "    # meta information file for one measurement\n",
    "    TS_META = str(m) + \".json\"  # filename\n",
    "    TS_META = REF_DB_PATH / NEW_SOURCE / TS_META  # path\n",
    "    with open(TS_META, \"r\") as json_file:  # read json\n",
    "        meas_info = json.load(json_file)  # into dict\n",
    "    print(f\"Read meta: {meas_info}\")\n",
    "\n",
    "    duration = meas_info['duration']\n",
    "    meta_info = meas_info['meta']\n",
    "    meta_info['sampling_rate'] = len(accs)/duration\n",
    "\n",
    "    print(f\"Uploading {TS_MEAS}\")\n",
    "    try:\n",
    "        # see mvg for details on this call\n",
    "        session.create_measurement(sid=NEW_SOURCE,\n",
    "                                   duration=duration,\n",
    "                                   timestamp=m,\n",
    "                                   data=accs,\n",
    "                                   meta=meta_info)\n",
    "    except HTTPError as exc:\n",
    "        print(exc)\n",
    "\n"
   ]
  }
 ],
 "metadata": {
  "kernelspec": {
   "display_name": "Python 3",
   "language": "python",
   "name": "python3"
  },
  "language_info": {
   "codemirror_mode": {
    "name": "ipython",
    "version": 3
   },
   "file_extension": ".py",
   "mimetype": "text/x-python",
   "name": "python",
   "nbconvert_exporter": "python",
   "pygments_lexer": "ipython3",
   "version": "3.8.5"
  },
  "pycharm": {
   "stem_cell": {
    "cell_type": "raw",
    "metadata": {
     "collapsed": false
    },
    "source": []
   }
  },
  "toc": {
   "base_numbering": 1,
   "nav_menu": {},
   "number_sections": true,
   "sideBar": true,
   "skip_h1_title": false,
   "title_cell": "Table of Contents",
   "title_sidebar": "Contents",
   "toc_cell": false,
   "toc_position": {
    "height": "calc(100% - 180px)",
    "left": "10px",
    "top": "150px",
    "width": "384px"
   },
   "toc_section_display": true,
   "toc_window_display": true
  },
  "varInspector": {
   "cols": {
    "lenName": 16,
    "lenType": 16,
    "lenVar": 40
   },
   "kernels_config": {
    "python": {
     "delete_cmd_postfix": "",
     "delete_cmd_prefix": "del ",
     "library": "var_list.py",
     "varRefreshCmd": "print(var_dic_list())"
    },
    "r": {
     "delete_cmd_postfix": ") ",
     "delete_cmd_prefix": "rm(",
     "library": "var_list.r",
     "varRefreshCmd": "cat(var_dic_list()) "
    }
   },
   "types_to_exclude": [
    "module",
    "function",
    "builtin_function_or_method",
    "instance",
    "_Feature"
   ],
   "window_display": false
  }
 },
 "nbformat": 4,
 "nbformat_minor": 5
}

{
 "cells": [
  {
   "cell_type": "markdown",
   "source": [
    "## Imports\n"
   ],
   "metadata": {
    "collapsed": false
   }
  },
  {
   "cell_type": "code",
   "execution_count": 1,
   "outputs": [],
   "source": [
    "import json\n",
    "import os\n",
    "import sys\n",
    "from pathlib import Path\n",
    "import pandas as pd\n",
    "from requests import HTTPError"
   ],
   "metadata": {
    "collapsed": false,
    "pycharm": {
     "name": "#%%\n"
    }
   }
  },
  {
   "cell_type": "code",
   "execution_count": 2,
   "outputs": [],
   "source": [
    "from mvg import MVG"
   ],
   "metadata": {
    "collapsed": false,
    "pycharm": {
     "name": "#%%\n"
    }
   }
  },
  {
   "cell_type": "code",
   "execution_count": 3,
   "outputs": [],
   "source": [
    "#ENDPOINT = \"https://api.beta.multiviz.com\"\n",
    "ENDPOINT = \"http://127.0.0.1:8000\"\n",
    "# Replace by your own Token\n",
    "VALID_TOKEN = os.environ['TEST_TOKEN']"
   ],
   "metadata": {
    "collapsed": false,
    "pycharm": {
     "name": "#%%\n"
    }
   }
  },
  {
   "cell_type": "code",
   "execution_count": 4,
   "outputs": [],
   "source": [
    "session = MVG(ENDPOINT, VALID_TOKEN)"
   ],
   "metadata": {
    "collapsed": false,
    "pycharm": {
     "name": "#%%\n"
    }
   }
  },
  {
   "cell_type": "markdown",
   "source": [
    "We now check if the server is alive.\n",
    "The hello message contains the API version:"
   ],
   "metadata": {
    "collapsed": false
   }
  },
  {
   "cell_type": "code",
   "execution_count": 5,
   "outputs": [
    {
     "data": {
      "text/plain": "'{\"api\": {\"name\": \"MultiViz Engine API\", \"version\": \"0.0.0-dev0\", \"swagger\": \"http://127.0.0.1:8000/docs\"}}'"
     },
     "execution_count": 5,
     "metadata": {},
     "output_type": "execute_result"
    }
   ],
   "source": [
    "hello_message = json.dumps(session.say_hello())\n",
    "hello_message\n"
   ],
   "metadata": {
    "collapsed": false,
    "pycharm": {
     "name": "#%%\n"
    }
   }
  },
  {
   "cell_type": "markdown",
   "source": [
    "Checking MVG version"
   ],
   "metadata": {
    "collapsed": false
   }
  },
  {
   "cell_type": "code",
   "execution_count": 6,
   "outputs": [
    {
     "name": "stderr",
     "output_type": "stream",
     "text": [
      "Using developer API: 0.0.0-dev0. You must confirm compatibility yourself.\n"
     ]
    },
    {
     "data": {
      "text/plain": "'{\"api_version\": \"0.0.0-dev0\", \"mvg_highest_tested_version\": \"0.1.15\", \"mvg_version\": \"0.8.0\"}'"
     },
     "execution_count": 6,
     "metadata": {},
     "output_type": "execute_result"
    }
   ],
   "source": [
    "hello_message = json.dumps(session.check_version())\n",
    "hello_message"
   ],
   "metadata": {
    "collapsed": false,
    "pycharm": {
     "name": "#%%\n"
    }
   }
  },
  {
   "cell_type": "markdown",
   "source": [
    "## Sources and Measurements\n",
    "\n",
    "Before we begin, we will ensure there are no previously existing sources and if there are, we will delete them."
   ],
   "metadata": {
    "collapsed": false
   }
  },
  {
   "cell_type": "code",
   "execution_count": 7,
   "outputs": [
    {
     "name": "stdout",
     "output_type": "stream",
     "text": [
      "Retrieved sources\n",
      "{'source_id': 'u0001', 'meta': {'assetId': 'assetA', 'measPoint': 'mloc01', 'location': 'paris'}, 'properties': {'data_class': 'waveform'}}\n",
      "Deleting u0001\n"
     ]
    }
   ],
   "source": [
    "sources = session.list_sources()\n",
    "\n",
    "print(\"Retrieved sources\")\n",
    "for src in sources:\n",
    "    print(src)\n",
    "    print(f\"Deleting {src['source_id']}\")\n",
    "    #session.delete_source(src['source_id'])\n"
   ],
   "metadata": {
    "collapsed": false,
    "pycharm": {
     "name": "#%%\n"
    }
   }
  },
  {
   "cell_type": "code",
   "execution_count": 8,
   "outputs": [
    {
     "data": {
      "text/plain": "'u0001'"
     },
     "execution_count": 8,
     "metadata": {},
     "output_type": "execute_result"
    }
   ],
   "source": [
    "# Path to the source folder\n",
    "REF_DB_PATH = Path.cwd() / \"va-data-charlie\" / \"charlieDb\" / \"acc\"\n",
    "REF_DB_PATH\n",
    "# Definition of the source_id\n",
    "SOURCE_ID = \"u0001\"\n",
    "SOURCE_ID"
   ],
   "metadata": {
    "collapsed": false,
    "pycharm": {
     "name": "#%%\n"
    }
   }
  },
  {
   "cell_type": "code",
   "execution_count": 9,
   "outputs": [
    {
     "ename": "HTTPError",
     "evalue": "409 Client Error: Conflict for url: http://127.0.0.1:8000/sources/",
     "output_type": "error",
     "traceback": [
      "\u001B[1;31m---------------------------------------------------------------------------\u001B[0m",
      "\u001B[1;31mHTTPError\u001B[0m                                 Traceback (most recent call last)",
      "\u001B[1;32m<ipython-input-9-d4897cda3c13>\u001B[0m in \u001B[0;36m<module>\u001B[1;34m\u001B[0m\n\u001B[0;32m      4\u001B[0m \u001B[1;32mwith\u001B[0m \u001B[0mopen\u001B[0m\u001B[1;33m(\u001B[0m\u001B[0mmeta_filename\u001B[0m\u001B[1;33m,\u001B[0m \u001B[1;34m\"r\"\u001B[0m\u001B[1;33m)\u001B[0m \u001B[1;32mas\u001B[0m \u001B[0mjson_file\u001B[0m\u001B[1;33m:\u001B[0m\u001B[1;33m\u001B[0m\u001B[1;33m\u001B[0m\u001B[0m\n\u001B[0;32m      5\u001B[0m     \u001B[0mmeta\u001B[0m \u001B[1;33m=\u001B[0m \u001B[0mjson\u001B[0m\u001B[1;33m.\u001B[0m\u001B[0mload\u001B[0m\u001B[1;33m(\u001B[0m\u001B[0mjson_file\u001B[0m\u001B[1;33m)\u001B[0m\u001B[1;33m\u001B[0m\u001B[1;33m\u001B[0m\u001B[0m\n\u001B[1;32m----> 6\u001B[1;33m \u001B[0msession\u001B[0m\u001B[1;33m.\u001B[0m\u001B[0mcreate_source\u001B[0m\u001B[1;33m(\u001B[0m\u001B[0mSOURCE_ID\u001B[0m\u001B[1;33m,\u001B[0m \u001B[0mmeta\u001B[0m\u001B[1;33m)\u001B[0m\u001B[1;33m\u001B[0m\u001B[1;33m\u001B[0m\u001B[0m\n\u001B[0m\u001B[0;32m      7\u001B[0m \u001B[0msession\u001B[0m\u001B[1;33m.\u001B[0m\u001B[0mget_source\u001B[0m\u001B[1;33m(\u001B[0m\u001B[0mSOURCE_ID\u001B[0m\u001B[1;33m)\u001B[0m\u001B[1;33m\u001B[0m\u001B[1;33m\u001B[0m\u001B[0m\n\u001B[0;32m      8\u001B[0m \u001B[1;33m\u001B[0m\u001B[0m\n",
      "\u001B[1;32m~\\Documents\\GitHub\\mvg\\mvg\\mvg.py\u001B[0m in \u001B[0;36mcreate_source\u001B[1;34m(self, sid, meta, exist_ok)\u001B[0m\n\u001B[0;32m    260\u001B[0m         \u001B[1;31m# Package info to be submitted to db\u001B[0m\u001B[1;33m\u001B[0m\u001B[1;33m\u001B[0m\u001B[1;33m\u001B[0m\u001B[0m\n\u001B[0;32m    261\u001B[0m         \u001B[0msource_info\u001B[0m \u001B[1;33m=\u001B[0m \u001B[1;33m{\u001B[0m\u001B[1;34m\"source_id\"\u001B[0m\u001B[1;33m:\u001B[0m \u001B[0msid\u001B[0m\u001B[1;33m,\u001B[0m \u001B[1;34m\"meta\"\u001B[0m\u001B[1;33m:\u001B[0m \u001B[0mmeta\u001B[0m\u001B[1;33m}\u001B[0m\u001B[1;33m\u001B[0m\u001B[1;33m\u001B[0m\u001B[0m\n\u001B[1;32m--> 262\u001B[1;33m         \u001B[0mself\u001B[0m\u001B[1;33m.\u001B[0m\u001B[0m_request\u001B[0m\u001B[1;33m(\u001B[0m\u001B[1;34m\"post\"\u001B[0m\u001B[1;33m,\u001B[0m \u001B[1;34m\"/sources/\"\u001B[0m\u001B[1;33m,\u001B[0m \u001B[0mdo_not_raise\u001B[0m\u001B[1;33m,\u001B[0m \u001B[0mjson\u001B[0m\u001B[1;33m=\u001B[0m\u001B[0msource_info\u001B[0m\u001B[1;33m)\u001B[0m\u001B[1;33m\u001B[0m\u001B[1;33m\u001B[0m\u001B[0m\n\u001B[0m\u001B[0;32m    263\u001B[0m \u001B[1;33m\u001B[0m\u001B[0m\n\u001B[0;32m    264\u001B[0m     def create_tabular_source(\n",
      "\u001B[1;32m~\\Documents\\GitHub\\mvg\\mvg\\mvg.py\u001B[0m in \u001B[0;36m_request\u001B[1;34m(self, method, path, do_not_raise, **kwargs)\u001B[0m\n\u001B[0;32m    102\u001B[0m             \u001B[0mlogger\u001B[0m\u001B[1;33m.\u001B[0m\u001B[0minfo\u001B[0m\u001B[1;33m(\u001B[0m\u001B[1;34mf\"Ignoring error {response.status_code} - {response.text}\"\u001B[0m\u001B[1;33m)\u001B[0m\u001B[1;33m\u001B[0m\u001B[1;33m\u001B[0m\u001B[0m\n\u001B[0;32m    103\u001B[0m         \u001B[1;32melse\u001B[0m\u001B[1;33m:\u001B[0m\u001B[1;33m\u001B[0m\u001B[1;33m\u001B[0m\u001B[0m\n\u001B[1;32m--> 104\u001B[1;33m             \u001B[0mresponse\u001B[0m\u001B[1;33m.\u001B[0m\u001B[0mraise_for_status\u001B[0m\u001B[1;33m(\u001B[0m\u001B[1;33m)\u001B[0m\u001B[1;33m\u001B[0m\u001B[1;33m\u001B[0m\u001B[0m\n\u001B[0m\u001B[0;32m    105\u001B[0m \u001B[1;33m\u001B[0m\u001B[0m\n\u001B[0;32m    106\u001B[0m         \u001B[1;32mreturn\u001B[0m \u001B[0mresponse\u001B[0m\u001B[1;33m\u001B[0m\u001B[1;33m\u001B[0m\u001B[0m\n",
      "\u001B[1;32mc:\\users\\sergio\\appdata\\local\\programs\\python\\python38\\lib\\site-packages\\requests\\models.py\u001B[0m in \u001B[0;36mraise_for_status\u001B[1;34m(self)\u001B[0m\n\u001B[0;32m    939\u001B[0m \u001B[1;33m\u001B[0m\u001B[0m\n\u001B[0;32m    940\u001B[0m         \u001B[1;32mif\u001B[0m \u001B[0mhttp_error_msg\u001B[0m\u001B[1;33m:\u001B[0m\u001B[1;33m\u001B[0m\u001B[1;33m\u001B[0m\u001B[0m\n\u001B[1;32m--> 941\u001B[1;33m             \u001B[1;32mraise\u001B[0m \u001B[0mHTTPError\u001B[0m\u001B[1;33m(\u001B[0m\u001B[0mhttp_error_msg\u001B[0m\u001B[1;33m,\u001B[0m \u001B[0mresponse\u001B[0m\u001B[1;33m=\u001B[0m\u001B[0mself\u001B[0m\u001B[1;33m)\u001B[0m\u001B[1;33m\u001B[0m\u001B[1;33m\u001B[0m\u001B[0m\n\u001B[0m\u001B[0;32m    942\u001B[0m \u001B[1;33m\u001B[0m\u001B[0m\n\u001B[0;32m    943\u001B[0m     \u001B[1;32mdef\u001B[0m \u001B[0mclose\u001B[0m\u001B[1;33m(\u001B[0m\u001B[0mself\u001B[0m\u001B[1;33m)\u001B[0m\u001B[1;33m:\u001B[0m\u001B[1;33m\u001B[0m\u001B[1;33m\u001B[0m\u001B[0m\n",
      "\u001B[1;31mHTTPError\u001B[0m: 409 Client Error: Conflict for url: http://127.0.0.1:8000/sources/"
     ]
    }
   ],
   "source": [
    "# Create source\n",
    "src_path = REF_DB_PATH / SOURCE_ID\n",
    "meta_filename = src_path / \"meta.json\"\n",
    "with open(meta_filename, \"r\") as json_file:\n",
    "    meta = json.load(json_file)\n",
    "session.create_source(SOURCE_ID, meta)\n",
    "session.get_source(SOURCE_ID)"
   ],
   "metadata": {
    "collapsed": false,
    "pycharm": {
     "name": "#%%\n"
    }
   }
  },
  {
   "cell_type": "markdown",
   "source": [
    "List sources"
   ],
   "metadata": {
    "collapsed": false
   }
  },
  {
   "cell_type": "code",
   "execution_count": 10,
   "outputs": [
    {
     "data": {
      "text/plain": "[{'source_id': 'u0001',\n  'meta': {'assetId': 'assetA', 'measPoint': 'mloc01', 'location': 'paris'},\n  'properties': {'data_class': 'waveform'}}]"
     },
     "execution_count": 10,
     "metadata": {},
     "output_type": "execute_result"
    }
   ],
   "source": [
    "sources = session.list_sources()\n",
    "sources"
   ],
   "metadata": {
    "collapsed": false,
    "pycharm": {
     "name": "#%%\n"
    }
   }
  },
  {
   "cell_type": "code",
   "execution_count": 12,
   "outputs": [],
   "source": [
    "# meas is a list of timestamps representing the measurements in our repo\n",
    "meas = {f.split(\".\")[0] for f in os.listdir(src_path)}\n",
    "# We remove the \"meta\" file from this list\n",
    "meas.remove(\"meta\")\n"
   ],
   "metadata": {
    "collapsed": false,
    "pycharm": {
     "name": "#%%\n"
    }
   }
  },
  {
   "cell_type": "code",
   "execution_count": 13,
   "outputs": [
    {
     "name": "stdout",
     "output_type": "stream",
     "text": [
      "Read 40000 samples\n",
      "Read meta:{'duration': 2.8672073400507907, 'meta': {}}\n",
      "Uploading C:\\Users\\Sergio\\Documents\\GitHub\\mvg\\docs\\source\\content\\examples\\va-data-charlie\\charlieDb\\acc\\u0001\\1571482860.csv\n",
      "Read 40000 samples\n",
      "Read meta:{'duration': 2.8672073400507907, 'meta': {}}\n",
      "Uploading C:\\Users\\Sergio\\Documents\\GitHub\\mvg\\docs\\source\\content\\examples\\va-data-charlie\\charlieDb\\acc\\u0001\\1572350460.csv\n",
      "Read 40000 samples\n",
      "Read meta:{'duration': 2.8672073400507907, 'meta': {}}\n",
      "Uploading C:\\Users\\Sergio\\Documents\\GitHub\\mvg\\docs\\source\\content\\examples\\va-data-charlie\\charlieDb\\acc\\u0001\\1572523260.csv\n",
      "Read 40000 samples\n",
      "Read meta:{'duration': 2.8672073400507907, 'meta': {}}\n",
      "Uploading C:\\Users\\Sergio\\Documents\\GitHub\\mvg\\docs\\source\\content\\examples\\va-data-charlie\\charlieDb\\acc\\u0001\\1571137260.csv\n",
      "Read 40000 samples\n",
      "Read meta:{'duration': 2.8672073400507907, 'meta': {}}\n",
      "Uploading C:\\Users\\Sergio\\Documents\\GitHub\\mvg\\docs\\source\\content\\examples\\va-data-charlie\\charlieDb\\acc\\u0001\\1573905660.csv\n",
      "Read 40000 samples\n",
      "Read meta:{'duration': 2.8672073400507907, 'meta': {}}\n",
      "Uploading C:\\Users\\Sergio\\Documents\\GitHub\\mvg\\docs\\source\\content\\examples\\va-data-charlie\\charlieDb\\acc\\u0001\\1570273260.csv\n",
      "Read 40000 samples\n",
      "Read meta:{'duration': 2.8672073400507907, 'meta': {}}\n",
      "Uploading C:\\Users\\Sergio\\Documents\\GitHub\\mvg\\docs\\source\\content\\examples\\va-data-charlie\\charlieDb\\acc\\u0001\\1571310060.csv\n",
      "Read 40000 samples\n",
      "Read meta:{'duration': 2.8672073400507907, 'meta': {}}\n",
      "Uploading C:\\Users\\Sergio\\Documents\\GitHub\\mvg\\docs\\source\\content\\examples\\va-data-charlie\\charlieDb\\acc\\u0001\\1572609660.csv\n",
      "Read 40000 samples\n",
      "Read meta:{'duration': 2.8672073400507907, 'meta': {}}\n",
      "Uploading C:\\Users\\Sergio\\Documents\\GitHub\\mvg\\docs\\source\\content\\examples\\va-data-charlie\\charlieDb\\acc\\u0001\\1570532460.csv\n",
      "Read 40000 samples\n",
      "Read meta:{'duration': 2.8672073400507907, 'meta': {}}\n",
      "Uploading C:\\Users\\Sergio\\Documents\\GitHub\\mvg\\docs\\source\\content\\examples\\va-data-charlie\\charlieDb\\acc\\u0001\\1572177660.csv\n",
      "Read 40000 samples\n",
      "Read meta:{'duration': 2.8672073400507907, 'meta': {}}\n",
      "Uploading C:\\Users\\Sergio\\Documents\\GitHub\\mvg\\docs\\source\\content\\examples\\va-data-charlie\\charlieDb\\acc\\u0001\\1573646460.csv\n",
      "Read 40000 samples\n",
      "Read meta:{'duration': 2.8672073400507907, 'meta': {}}\n",
      "Uploading C:\\Users\\Sergio\\Documents\\GitHub\\mvg\\docs\\source\\content\\examples\\va-data-charlie\\charlieDb\\acc\\u0001\\1574078460.csv\n",
      "Read 40000 samples\n",
      "Read meta:{'duration': 2.8672073400507907, 'meta': {}}\n",
      "Uploading C:\\Users\\Sergio\\Documents\\GitHub\\mvg\\docs\\source\\content\\examples\\va-data-charlie\\charlieDb\\acc\\u0001\\1573473660.csv\n",
      "Read 40000 samples\n",
      "Read meta:{'duration': 2.8672073400507907, 'meta': {}}\n",
      "Uploading C:\\Users\\Sergio\\Documents\\GitHub\\mvg\\docs\\source\\content\\examples\\va-data-charlie\\charlieDb\\acc\\u0001\\1572087660.csv\n",
      "Read 40000 samples\n",
      "Read meta:{'duration': 2.8672073400507907, 'meta': {}}\n",
      "Uploading C:\\Users\\Sergio\\Documents\\GitHub\\mvg\\docs\\source\\content\\examples\\va-data-charlie\\charlieDb\\acc\\u0001\\1570705260.csv\n",
      "Read 40000 samples\n",
      "Read meta:{'duration': 2.8672073400507907, 'meta': {}}\n",
      "Uploading C:\\Users\\Sergio\\Documents\\GitHub\\mvg\\docs\\source\\content\\examples\\va-data-charlie\\charlieDb\\acc\\u0001\\1571223660.csv\n",
      "Read 40000 samples\n",
      "Read meta:{'duration': 2.8672073400507907, 'meta': {}}\n",
      "Uploading C:\\Users\\Sergio\\Documents\\GitHub\\mvg\\docs\\source\\content\\examples\\va-data-charlie\\charlieDb\\acc\\u0001\\1573819260.csv\n",
      "Read 40000 samples\n",
      "Read meta:{'duration': 2.8672073400507907, 'meta': {}}\n",
      "Uploading C:\\Users\\Sergio\\Documents\\GitHub\\mvg\\docs\\source\\content\\examples\\va-data-charlie\\charlieDb\\acc\\u0001\\1573214460.csv\n",
      "Read 40000 samples\n",
      "Read meta:{'duration': 2.8672073400507907, 'meta': {}}\n",
      "Uploading C:\\Users\\Sergio\\Documents\\GitHub\\mvg\\docs\\source\\content\\examples\\va-data-charlie\\charlieDb\\acc\\u0001\\1571569260.csv\n",
      "Read 40000 samples\n",
      "Read meta:{'duration': 2.8672073400507907, 'meta': {}}\n",
      "Uploading C:\\Users\\Sergio\\Documents\\GitHub\\mvg\\docs\\source\\content\\examples\\va-data-charlie\\charlieDb\\acc\\u0001\\1571828460.csv\n",
      "Read 40000 samples\n",
      "Read meta:{'duration': 2.8672073400507907, 'meta': {}}\n",
      "Uploading C:\\Users\\Sergio\\Documents\\GitHub\\mvg\\docs\\source\\content\\examples\\va-data-charlie\\charlieDb\\acc\\u0001\\1570359660.csv\n",
      "Read 40000 samples\n",
      "Read meta:{'duration': 2.8672073400507907, 'meta': {}}\n",
      "Uploading C:\\Users\\Sergio\\Documents\\GitHub\\mvg\\docs\\source\\content\\examples\\va-data-charlie\\charlieDb\\acc\\u0001\\1571742060.csv\n",
      "Read 40000 samples\n",
      "Read meta:{'duration': 2.8672073400507907, 'meta': {}}\n",
      "Uploading C:\\Users\\Sergio\\Documents\\GitHub\\mvg\\docs\\source\\content\\examples\\va-data-charlie\\charlieDb\\acc\\u0001\\1571914860.csv\n",
      "Read 40000 samples\n",
      "Read meta:{'duration': 2.8672073400507907, 'meta': {}}\n",
      "Uploading C:\\Users\\Sergio\\Documents\\GitHub\\mvg\\docs\\source\\content\\examples\\va-data-charlie\\charlieDb\\acc\\u0001\\1570186860.csv\n",
      "Read 40000 samples\n",
      "Read meta:{'duration': 2.8672073400507907, 'meta': {}}\n",
      "Uploading C:\\Users\\Sergio\\Documents\\GitHub\\mvg\\docs\\source\\content\\examples\\va-data-charlie\\charlieDb\\acc\\u0001\\1572001260.csv\n",
      "Read 40000 samples\n",
      "Read meta:{'duration': 2.8672073400507907, 'meta': {}}\n",
      "Uploading C:\\Users\\Sergio\\Documents\\GitHub\\mvg\\docs\\source\\content\\examples\\va-data-charlie\\charlieDb\\acc\\u0001\\1572264060.csv\n",
      "Read 40000 samples\n",
      "Read meta:{'duration': 2.8672073400507907, 'meta': {}}\n",
      "Uploading C:\\Users\\Sergio\\Documents\\GitHub\\mvg\\docs\\source\\content\\examples\\va-data-charlie\\charlieDb\\acc\\u0001\\1572868860.csv\n",
      "Read 40000 samples\n",
      "Read meta:{'duration': 2.8672073400507907, 'meta': {}}\n",
      "Uploading C:\\Users\\Sergio\\Documents\\GitHub\\mvg\\docs\\source\\content\\examples\\va-data-charlie\\charlieDb\\acc\\u0001\\1573387260.csv\n",
      "Read 40000 samples\n",
      "Read meta:{'duration': 2.8672073400507907, 'meta': {}}\n",
      "Uploading C:\\Users\\Sergio\\Documents\\GitHub\\mvg\\docs\\source\\content\\examples\\va-data-charlie\\charlieDb\\acc\\u0001\\1571396460.csv\n",
      "Read 40000 samples\n",
      "Read meta:{'duration': 2.8672073400507907, 'meta': {}}\n",
      "Uploading C:\\Users\\Sergio\\Documents\\GitHub\\mvg\\docs\\source\\content\\examples\\va-data-charlie\\charlieDb\\acc\\u0001\\1572436860.csv\n",
      "Read 40000 samples\n",
      "Read meta:{'duration': 2.8672073400507907, 'meta': {}}\n",
      "Uploading C:\\Users\\Sergio\\Documents\\GitHub\\mvg\\docs\\source\\content\\examples\\va-data-charlie\\charlieDb\\acc\\u0001\\1572696060.csv\n",
      "Read 40000 samples\n",
      "Read meta:{'duration': 2.8672073400507907, 'meta': {}}\n",
      "Uploading C:\\Users\\Sergio\\Documents\\GitHub\\mvg\\docs\\source\\content\\examples\\va-data-charlie\\charlieDb\\acc\\u0001\\1573992060.csv\n",
      "Read 40000 samples\n",
      "Read meta:{'duration': 2.8672073400507907, 'meta': {}}\n",
      "Uploading C:\\Users\\Sergio\\Documents\\GitHub\\mvg\\docs\\source\\content\\examples\\va-data-charlie\\charlieDb\\acc\\u0001\\1570446060.csv\n",
      "Read 40000 samples\n",
      "Read meta:{'duration': 2.8672073400507907, 'meta': {}}\n",
      "Uploading C:\\Users\\Sergio\\Documents\\GitHub\\mvg\\docs\\source\\content\\examples\\va-data-charlie\\charlieDb\\acc\\u0001\\1570618860.csv\n",
      "Read 40000 samples\n",
      "Read meta:{'duration': 2.8672073400507907, 'meta': {}}\n",
      "Uploading C:\\Users\\Sergio\\Documents\\GitHub\\mvg\\docs\\source\\content\\examples\\va-data-charlie\\charlieDb\\acc\\u0001\\1570964460.csv\n",
      "Read 40000 samples\n",
      "Read meta:{'duration': 2.8672073400507907, 'meta': {}}\n",
      "Uploading C:\\Users\\Sergio\\Documents\\GitHub\\mvg\\docs\\source\\content\\examples\\va-data-charlie\\charlieDb\\acc\\u0001\\1573041660.csv\n",
      "Read 40000 samples\n",
      "Read meta:{'duration': 2.8672073400507907, 'meta': {}}\n",
      "Uploading C:\\Users\\Sergio\\Documents\\GitHub\\mvg\\docs\\source\\content\\examples\\va-data-charlie\\charlieDb\\acc\\u0001\\1573300860.csv\n",
      "Read 40000 samples\n",
      "Read meta:{'duration': 2.8672073400507907, 'meta': {}}\n",
      "Uploading C:\\Users\\Sergio\\Documents\\GitHub\\mvg\\docs\\source\\content\\examples\\va-data-charlie\\charlieDb\\acc\\u0001\\1572955260.csv\n",
      "Read 40000 samples\n",
      "Read meta:{'duration': 2.8672073400507907, 'meta': {}}\n",
      "Uploading C:\\Users\\Sergio\\Documents\\GitHub\\mvg\\docs\\source\\content\\examples\\va-data-charlie\\charlieDb\\acc\\u0001\\1574164860.csv\n",
      "Read 40000 samples\n",
      "Read meta:{'duration': 2.8672073400507907, 'meta': {}}\n",
      "Uploading C:\\Users\\Sergio\\Documents\\GitHub\\mvg\\docs\\source\\content\\examples\\va-data-charlie\\charlieDb\\acc\\u0001\\1573128060.csv\n",
      "Read 40000 samples\n",
      "Read meta:{'duration': 2.8672073400507907, 'meta': {}}\n",
      "Uploading C:\\Users\\Sergio\\Documents\\GitHub\\mvg\\docs\\source\\content\\examples\\va-data-charlie\\charlieDb\\acc\\u0001\\1570791660.csv\n",
      "Read 40000 samples\n",
      "Read meta:{'duration': 2.8672073400507907, 'meta': {}}\n",
      "Uploading C:\\Users\\Sergio\\Documents\\GitHub\\mvg\\docs\\source\\content\\examples\\va-data-charlie\\charlieDb\\acc\\u0001\\1573560060.csv\n",
      "Read 40000 samples\n",
      "Read meta:{'duration': 2.8672073400507907, 'meta': {}}\n",
      "Uploading C:\\Users\\Sergio\\Documents\\GitHub\\mvg\\docs\\source\\content\\examples\\va-data-charlie\\charlieDb\\acc\\u0001\\1574424060.csv\n",
      "Read 40000 samples\n",
      "Read meta:{'duration': 2.8672073400507907, 'meta': {}}\n",
      "Uploading C:\\Users\\Sergio\\Documents\\GitHub\\mvg\\docs\\source\\content\\examples\\va-data-charlie\\charlieDb\\acc\\u0001\\1572782460.csv\n",
      "Read 40000 samples\n",
      "Read meta:{'duration': 2.8672073400507907, 'meta': {}}\n",
      "Uploading C:\\Users\\Sergio\\Documents\\GitHub\\mvg\\docs\\source\\content\\examples\\va-data-charlie\\charlieDb\\acc\\u0001\\1574337660.csv\n",
      "Read 40000 samples\n",
      "Read meta:{'duration': 2.8672073400507907, 'meta': {}}\n",
      "Uploading C:\\Users\\Sergio\\Documents\\GitHub\\mvg\\docs\\source\\content\\examples\\va-data-charlie\\charlieDb\\acc\\u0001\\1574251260.csv\n",
      "Read 40000 samples\n",
      "Read meta:{'duration': 2.8672073400507907, 'meta': {}}\n",
      "Uploading C:\\Users\\Sergio\\Documents\\GitHub\\mvg\\docs\\source\\content\\examples\\va-data-charlie\\charlieDb\\acc\\u0001\\1570878060.csv\n",
      "Read 40000 samples\n",
      "Read meta:{'duration': 2.8672073400507907, 'meta': {}}\n",
      "Uploading C:\\Users\\Sergio\\Documents\\GitHub\\mvg\\docs\\source\\content\\examples\\va-data-charlie\\charlieDb\\acc\\u0001\\1571655660.csv\n",
      "Read 40000 samples\n",
      "Read meta:{'duration': 2.8672073400507907, 'meta': {}}\n",
      "Uploading C:\\Users\\Sergio\\Documents\\GitHub\\mvg\\docs\\source\\content\\examples\\va-data-charlie\\charlieDb\\acc\\u0001\\1571050860.csv\n",
      "Read 40000 samples\n",
      "Read meta:{'duration': 2.8672073400507907, 'meta': {}}\n",
      "Uploading C:\\Users\\Sergio\\Documents\\GitHub\\mvg\\docs\\source\\content\\examples\\va-data-charlie\\charlieDb\\acc\\u0001\\1573732860.csv\n"
     ]
    }
   ],
   "source": [
    "# We iterate over all of elements in this list\n",
    "for m in meas:\n",
    "\n",
    "    # raw data per measurement\n",
    "    TS_MEAS = str(m) + \".csv\"  # filename\n",
    "    TS_MEAS = REF_DB_PATH / SOURCE_ID / TS_MEAS  # path to file\n",
    "    ts_df = pd.read_csv(TS_MEAS, names=['acc'])  # read csv into df\n",
    "    accs = ts_df.iloc[:, 0].tolist()  # convert to list\n",
    "    print(f\"Read {len(accs)} samples\")\n",
    "\n",
    "    # meta information file per measurement\n",
    "    TS_META = str(m) + \".json\"  # filename\n",
    "    TS_META = REF_DB_PATH / SOURCE_ID / TS_META  # path\n",
    "    with open(TS_META, \"r\") as json_file:  # read json\n",
    "        meas_info = json.load(json_file)  # into dict\n",
    "    print(f\"Read meta:{meas_info}\")\n",
    "\n",
    "    # get duration and other meta info\n",
    "    duration = meas_info['duration']\n",
    "    meta_info = meas_info['meta']\n",
    "\n",
    "    # Upload measurements\n",
    "    print(f\"Uploading {TS_MEAS}\")\n",
    "    try:\n",
    "        session.create_measurement(sid=SOURCE_ID,\n",
    "                                   duration=duration,\n",
    "                                   timestamp=m,\n",
    "                                   data=accs,\n",
    "                                   meta=meta_info)\n",
    "    except HTTPError as exc:\n",
    "        print(exc)\n"
   ],
   "metadata": {
    "collapsed": false,
    "pycharm": {
     "name": "#%%\n"
    }
   }
  },
  {
   "cell_type": "markdown",
   "source": [
    "Check if we actually created the measurements by reading them."
   ],
   "metadata": {
    "collapsed": false
   }
  },
  {
   "cell_type": "code",
   "execution_count": 11,
   "outputs": [
    {
     "name": "stdout",
     "output_type": "stream",
     "text": [
      "Read 50 stored measurements\n"
     ]
    }
   ],
   "source": [
    "m = session.list_measurements(SOURCE_ID)\n",
    "print(f\"Read {len(m)} stored measurements\")\n"
   ],
   "metadata": {
    "collapsed": false,
    "pycharm": {
     "name": "#%%\n"
    }
   }
  },
  {
   "cell_type": "markdown",
   "source": [
    "## Analysis\n",
    "\n",
    "We begin by listing all the features available in the service."
   ],
   "metadata": {
    "collapsed": false
   }
  },
  {
   "cell_type": "code",
   "execution_count": 12,
   "outputs": [
    {
     "data": {
      "text/plain": "{'RMS': '1.0.0', 'ModeId': '0.1.1', 'BlackSheep': '1.0.0', 'KPIDemo': '1.0.0'}"
     },
     "execution_count": 12,
     "metadata": {},
     "output_type": "execute_result"
    }
   ],
   "source": [
    "available_features = session.supported_features()\n",
    "available_features"
   ],
   "metadata": {
    "collapsed": false,
    "pycharm": {
     "name": "#%%\n"
    }
   }
  },
  {
   "cell_type": "markdown",
   "source": [
    "Request RMS analysis"
   ],
   "metadata": {
    "collapsed": false
   }
  },
  {
   "cell_type": "code",
   "execution_count": 13,
   "outputs": [
    {
     "data": {
      "text/plain": "{'request_id': '40c9c61f738869d68132ab1d7d32dd1e', 'request_status': 'queued'}"
     },
     "execution_count": 13,
     "metadata": {},
     "output_type": "execute_result"
    }
   ],
   "source": [
    "RMS_u0001 = session.request_analysis(SOURCE_ID, 'RMS')\n",
    "RMS_u0001"
   ],
   "metadata": {
    "collapsed": false,
    "pycharm": {
     "name": "#%%\n"
    }
   }
  },
  {
   "cell_type": "code",
   "execution_count": 15,
   "outputs": [
    {
     "name": "stdout",
     "output_type": "stream",
     "text": [
      "RMS Analysis: successful\n"
     ]
    }
   ],
   "source": [
    "REQUEST_ID_RMS_u0001 = RMS_u0001['request_id']\n",
    "status = session.get_analysis_status(REQUEST_ID_RMS_u0001)\n",
    "print(f\"RMS Analysis: {status}\")\n"
   ],
   "metadata": {
    "collapsed": false,
    "pycharm": {
     "name": "#%%\n"
    }
   }
  },
  {
   "cell_type": "code",
   "execution_count": 16,
   "outputs": [
    {
     "data": {
      "text/plain": "dict_keys(['status', 'request_id', 'feature', 'results', 'inputs', 'error_info', 'debug_info'])"
     },
     "execution_count": 16,
     "metadata": {},
     "output_type": "execute_result"
    }
   ],
   "source": [
    "rms_results = session.get_analysis_results(request_id=REQUEST_ID_RMS_u0001)\n",
    "\n",
    "rms_results.keys()\n"
   ],
   "metadata": {
    "collapsed": false,
    "pycharm": {
     "name": "#%%\n"
    }
   }
  },
  {
   "cell_type": "markdown",
   "source": [
    "### Visualization"
   ],
   "metadata": {
    "collapsed": false
   }
  },
  {
   "cell_type": "code",
   "execution_count": 17,
   "outputs": [],
   "source": [
    "from mvg import analysis_classes"
   ],
   "metadata": {
    "collapsed": false,
    "pycharm": {
     "name": "#%%\n"
    }
   }
  },
  {
   "cell_type": "code",
   "execution_count": 18,
   "outputs": [],
   "source": [
    "rms_results_parsed = analysis_classes.parse_results(rms_results)"
   ],
   "metadata": {
    "collapsed": false,
    "pycharm": {
     "name": "#%%\n"
    }
   }
  },
  {
   "cell_type": "markdown",
   "source": [
    "From here, we can call these results into a Pandas dataframe."
   ],
   "metadata": {
    "collapsed": false
   }
  },
  {
   "cell_type": "code",
   "execution_count": 19,
   "outputs": [
    {
     "data": {
      "text/plain": "   timestamps       rms    rms_dc        dc  utilization\n0  1570186860  0.647086  0.662108 -0.140237            1\n1  1570273260  0.647123  0.662183 -0.140420            1\n2  1570359660  0.646619  0.661652 -0.140239            1\n3  1570446060  0.646873  0.661923 -0.140347            1\n4  1570532460  0.646643  0.661714 -0.140423            1",
      "text/html": "<div>\n<style scoped>\n    .dataframe tbody tr th:only-of-type {\n        vertical-align: middle;\n    }\n\n    .dataframe tbody tr th {\n        vertical-align: top;\n    }\n\n    .dataframe thead th {\n        text-align: right;\n    }\n</style>\n<table border=\"1\" class=\"dataframe\">\n  <thead>\n    <tr style=\"text-align: right;\">\n      <th></th>\n      <th>timestamps</th>\n      <th>rms</th>\n      <th>rms_dc</th>\n      <th>dc</th>\n      <th>utilization</th>\n    </tr>\n  </thead>\n  <tbody>\n    <tr>\n      <th>0</th>\n      <td>1570186860</td>\n      <td>0.647086</td>\n      <td>0.662108</td>\n      <td>-0.140237</td>\n      <td>1</td>\n    </tr>\n    <tr>\n      <th>1</th>\n      <td>1570273260</td>\n      <td>0.647123</td>\n      <td>0.662183</td>\n      <td>-0.140420</td>\n      <td>1</td>\n    </tr>\n    <tr>\n      <th>2</th>\n      <td>1570359660</td>\n      <td>0.646619</td>\n      <td>0.661652</td>\n      <td>-0.140239</td>\n      <td>1</td>\n    </tr>\n    <tr>\n      <th>3</th>\n      <td>1570446060</td>\n      <td>0.646873</td>\n      <td>0.661923</td>\n      <td>-0.140347</td>\n      <td>1</td>\n    </tr>\n    <tr>\n      <th>4</th>\n      <td>1570532460</td>\n      <td>0.646643</td>\n      <td>0.661714</td>\n      <td>-0.140423</td>\n      <td>1</td>\n    </tr>\n  </tbody>\n</table>\n</div>"
     },
     "execution_count": 19,
     "metadata": {},
     "output_type": "execute_result"
    }
   ],
   "source": [
    "df_rms = rms_results_parsed.to_df()\n",
    "df_rms.head()\n"
   ],
   "metadata": {
    "collapsed": false,
    "pycharm": {
     "name": "#%%\n"
    }
   }
  },
  {
   "cell_type": "code",
   "execution_count": 20,
   "outputs": [
    {
     "name": "stdout",
     "output_type": "stream",
     "text": [
      "=== RMS ===\n",
      "request_id 40c9c61f738869d68132ab1d7d32dd1e\n",
      "from 1570186860 to 1574424060\n",
      "\n",
      "+-------+--------------+------------+------------+------------+---------------+\n",
      "|       |   timestamps |        rms |     rms_dc |         dc |   utilization |\n",
      "|-------+--------------+------------+------------+------------+---------------|\n",
      "| count | 50           | 50         | 50         | 50         |            50 |\n",
      "| mean  |  1.57231e+09 |  0.611691  |  0.623692  | -0.120874  |             1 |\n",
      "| std   |  1.26105e+06 |  0.0565414 |  0.0563824 |  0.0141936 |             0 |\n",
      "| min   |  1.57019e+09 |  0.484564  |  0.497987  | -0.140524  |             1 |\n",
      "| 25%   |  1.57125e+09 |  0.627912  |  0.637381  | -0.140196  |             1 |\n",
      "| 50%   |  1.57231e+09 |  0.628307  |  0.6378    | -0.112316  |             1 |\n",
      "| 75%   |  1.57337e+09 |  0.64684   |  0.661892  | -0.10966   |             1 |\n",
      "| max   |  1.57442e+09 |  0.647694  |  0.662754  | -0.109065  |             1 |\n",
      "+-------+--------------+------------+------------+------------+---------------+\n"
     ]
    },
    {
     "data": {
      "text/plain": "         timestamps        rms     rms_dc         dc  utilization\ncount  5.000000e+01  50.000000  50.000000  50.000000         50.0\nmean   1.572306e+09   0.611691   0.623692  -0.120874          1.0\nstd    1.261051e+06   0.056541   0.056382   0.014194          0.0\nmin    1.570187e+09   0.484564   0.497987  -0.140524          1.0\n25%    1.571245e+09   0.627912   0.637381  -0.140196          1.0\n50%    1.572307e+09   0.628307   0.637800  -0.112316          1.0\n75%    1.573366e+09   0.646840   0.661892  -0.109660          1.0\nmax    1.574424e+09   0.647694   0.662754  -0.109065          1.0",
      "text/html": "<div>\n<style scoped>\n    .dataframe tbody tr th:only-of-type {\n        vertical-align: middle;\n    }\n\n    .dataframe tbody tr th {\n        vertical-align: top;\n    }\n\n    .dataframe thead th {\n        text-align: right;\n    }\n</style>\n<table border=\"1\" class=\"dataframe\">\n  <thead>\n    <tr style=\"text-align: right;\">\n      <th></th>\n      <th>timestamps</th>\n      <th>rms</th>\n      <th>rms_dc</th>\n      <th>dc</th>\n      <th>utilization</th>\n    </tr>\n  </thead>\n  <tbody>\n    <tr>\n      <th>count</th>\n      <td>5.000000e+01</td>\n      <td>50.000000</td>\n      <td>50.000000</td>\n      <td>50.000000</td>\n      <td>50.0</td>\n    </tr>\n    <tr>\n      <th>mean</th>\n      <td>1.572306e+09</td>\n      <td>0.611691</td>\n      <td>0.623692</td>\n      <td>-0.120874</td>\n      <td>1.0</td>\n    </tr>\n    <tr>\n      <th>std</th>\n      <td>1.261051e+06</td>\n      <td>0.056541</td>\n      <td>0.056382</td>\n      <td>0.014194</td>\n      <td>0.0</td>\n    </tr>\n    <tr>\n      <th>min</th>\n      <td>1.570187e+09</td>\n      <td>0.484564</td>\n      <td>0.497987</td>\n      <td>-0.140524</td>\n      <td>1.0</td>\n    </tr>\n    <tr>\n      <th>25%</th>\n      <td>1.571245e+09</td>\n      <td>0.627912</td>\n      <td>0.637381</td>\n      <td>-0.140196</td>\n      <td>1.0</td>\n    </tr>\n    <tr>\n      <th>50%</th>\n      <td>1.572307e+09</td>\n      <td>0.628307</td>\n      <td>0.637800</td>\n      <td>-0.112316</td>\n      <td>1.0</td>\n    </tr>\n    <tr>\n      <th>75%</th>\n      <td>1.573366e+09</td>\n      <td>0.646840</td>\n      <td>0.661892</td>\n      <td>-0.109660</td>\n      <td>1.0</td>\n    </tr>\n    <tr>\n      <th>max</th>\n      <td>1.574424e+09</td>\n      <td>0.647694</td>\n      <td>0.662754</td>\n      <td>-0.109065</td>\n      <td>1.0</td>\n    </tr>\n  </tbody>\n</table>\n</div>"
     },
     "execution_count": 20,
     "metadata": {},
     "output_type": "execute_result"
    }
   ],
   "source": [
    "rms_results_parsed.summary()\n"
   ],
   "metadata": {
    "collapsed": false,
    "pycharm": {
     "name": "#%%\n"
    }
   }
  },
  {
   "cell_type": "markdown",
   "source": [
    "Finally, we can generate a plot that displays these results."
   ],
   "metadata": {
    "collapsed": false
   }
  },
  {
   "cell_type": "code",
   "execution_count": 21,
   "outputs": [
    {
     "data": {
      "text/plain": "<Figure size 432x288 with 1 Axes>",
      "image/png": "[encoded data removed]"
     },
     "metadata": {
      "needs_background": "light"
     },
     "output_type": "display_data"
    },
    {
     "data": {
      "text/plain": "''"
     },
     "execution_count": 21,
     "metadata": {},
     "output_type": "execute_result"
    }
   ],
   "source": [
    "rms_results_parsed.plot()"
   ],
   "metadata": {
    "collapsed": false,
    "pycharm": {
     "name": "#%%\n"
    }
   }
  },
  {
   "cell_type": "markdown",
   "source": [
    "### KPIDemo"
   ],
   "metadata": {
    "collapsed": false,
    "pycharm": {
     "name": "#%% md\n"
    }
   }
  },
  {
   "cell_type": "markdown",
   "source": [
    "Request KPIDemo analysis"
   ],
   "metadata": {
    "collapsed": false
   }
  },
  {
   "cell_type": "code",
   "execution_count": 22,
   "outputs": [
    {
     "data": {
      "text/plain": "{'request_id': 'ddabda66bf6c74a5d9910595d52abd89', 'request_status': 'queued'}"
     },
     "execution_count": 22,
     "metadata": {},
     "output_type": "execute_result"
    }
   ],
   "source": [
    "KPI_u0001 = session.request_analysis(SOURCE_ID, 'KPIDemo')\n",
    "KPI_u0001"
   ],
   "metadata": {
    "collapsed": false,
    "pycharm": {
     "name": "#%%\n"
    }
   }
  },
  {
   "cell_type": "code",
   "execution_count": 23,
   "outputs": [
    {
     "name": "stdout",
     "output_type": "stream",
     "text": [
      "KPIDemo Analysis: successful\n"
     ]
    }
   ],
   "source": [
    "REQUEST_ID_KPI_u0001 = KPI_u0001['request_id']\n",
    "status = session.get_analysis_status(REQUEST_ID_KPI_u0001)\n",
    "print(f\"KPIDemo Analysis: {status}\")\n"
   ],
   "metadata": {
    "collapsed": false,
    "pycharm": {
     "name": "#%%\n"
    }
   }
  },
  {
   "cell_type": "code",
   "execution_count": 24,
   "outputs": [
    {
     "data": {
      "text/plain": "dict_keys(['status', 'request_id', 'feature', 'results', 'inputs', 'error_info', 'debug_info'])"
     },
     "execution_count": 24,
     "metadata": {},
     "output_type": "execute_result"
    }
   ],
   "source": [
    "kpi_results = session.get_analysis_results(request_id=REQUEST_ID_KPI_u0001)\n",
    "\n",
    "kpi_results.keys()\n"
   ],
   "metadata": {
    "collapsed": false,
    "pycharm": {
     "name": "#%%\n"
    }
   }
  },
  {
   "cell_type": "markdown",
   "source": [
    "### Visualization\n"
   ],
   "metadata": {
    "collapsed": false
   }
  },
  {
   "cell_type": "code",
   "execution_count": 25,
   "outputs": [],
   "source": [
    "kpi_results_parsed = analysis_classes.parse_results(kpi_results)"
   ],
   "metadata": {
    "collapsed": false,
    "pycharm": {
     "name": "#%%\n"
    }
   }
  },
  {
   "cell_type": "markdown",
   "source": [
    "From here, we can call these results into a Pandas dataframe."
   ],
   "metadata": {
    "collapsed": false
   }
  },
  {
   "cell_type": "code",
   "execution_count": 26,
   "outputs": [
    {
     "data": {
      "text/plain": "        rms      peak  peak2peak  variance  crest_factor  utilization  \\\n0  0.647086  2.686563   5.313293  0.418720      4.151786            1   \n1  0.647123  2.691750   5.367004  0.418769      4.159563            1   \n2  0.646619  2.715251   5.414856  0.418116      4.199152            1   \n3  0.646873  2.685147   5.351562  0.418445      4.150966            1   \n4  0.646643  2.726605   5.395325  0.418147      4.216556            1   \n\n   dc_component  timestamps  \n0     -0.140237  1570186860  \n1     -0.140420  1570273260  \n2     -0.140239  1570359660  \n3     -0.140347  1570446060  \n4     -0.140423  1570532460  ",
      "text/html": "<div>\n<style scoped>\n    .dataframe tbody tr th:only-of-type {\n        vertical-align: middle;\n    }\n\n    .dataframe tbody tr th {\n        vertical-align: top;\n    }\n\n    .dataframe thead th {\n        text-align: right;\n    }\n</style>\n<table border=\"1\" class=\"dataframe\">\n  <thead>\n    <tr style=\"text-align: right;\">\n      <th></th>\n      <th>rms</th>\n      <th>peak</th>\n      <th>peak2peak</th>\n      <th>variance</th>\n      <th>crest_factor</th>\n      <th>utilization</th>\n      <th>dc_component</th>\n      <th>timestamps</th>\n    </tr>\n  </thead>\n  <tbody>\n    <tr>\n      <th>0</th>\n      <td>0.647086</td>\n      <td>2.686563</td>\n      <td>5.313293</td>\n      <td>0.418720</td>\n      <td>4.151786</td>\n      <td>1</td>\n      <td>-0.140237</td>\n      <td>1570186860</td>\n    </tr>\n    <tr>\n      <th>1</th>\n      <td>0.647123</td>\n      <td>2.691750</td>\n      <td>5.367004</td>\n      <td>0.418769</td>\n      <td>4.159563</td>\n      <td>1</td>\n      <td>-0.140420</td>\n      <td>1570273260</td>\n    </tr>\n    <tr>\n      <th>2</th>\n      <td>0.646619</td>\n      <td>2.715251</td>\n      <td>5.414856</td>\n      <td>0.418116</td>\n      <td>4.199152</td>\n      <td>1</td>\n      <td>-0.140239</td>\n      <td>1570359660</td>\n    </tr>\n    <tr>\n      <th>3</th>\n      <td>0.646873</td>\n      <td>2.685147</td>\n      <td>5.351562</td>\n      <td>0.418445</td>\n      <td>4.150966</td>\n      <td>1</td>\n      <td>-0.140347</td>\n      <td>1570446060</td>\n    </tr>\n    <tr>\n      <th>4</th>\n      <td>0.646643</td>\n      <td>2.726605</td>\n      <td>5.395325</td>\n      <td>0.418147</td>\n      <td>4.216556</td>\n      <td>1</td>\n      <td>-0.140423</td>\n      <td>1570532460</td>\n    </tr>\n  </tbody>\n</table>\n</div>"
     },
     "execution_count": 26,
     "metadata": {},
     "output_type": "execute_result"
    }
   ],
   "source": [
    "df_rms = kpi_results_parsed.to_df()\n",
    "df_rms.head()\n"
   ],
   "metadata": {
    "collapsed": false,
    "pycharm": {
     "name": "#%%\n"
    }
   }
  },
  {
   "cell_type": "code",
   "execution_count": 27,
   "outputs": [
    {
     "name": "stdout",
     "output_type": "stream",
     "text": [
      "=== KPIDemo ===\n",
      "request_id ddabda66bf6c74a5d9910595d52abd89\n",
      "from 1570186860 to 1574424060\n",
      "\n",
      "+-------+------------+-----------+-------------+------------+----------------+---------------+----------------+--------------+\n",
      "|       |        rms |      peak |   peak2peak |   variance |   crest_factor |   utilization |   dc_component |   timestamps |\n",
      "|-------+------------+-----------+-------------+------------+----------------+---------------+----------------+--------------|\n",
      "| count | 50         | 50        |   50        | 50         |      50        |            50 |     50         | 50           |\n",
      "| mean  |  0.611691  |  2.81764  |    5.40059  |  0.377299  |       4.62976  |             1 |     -0.120874  |  1.57231e+09 |\n",
      "| std   |  0.0565414 |  0.278079 |    0.378225 |  0.0636172 |       0.333367 |             0 |      0.0141936 |  1.26105e+06 |\n",
      "| min   |  0.484564  |  2.26056  |    4.55438  |  0.234802  |       4.12339  |             1 |     -0.140524  |  1.57019e+09 |\n",
      "| 25%   |  0.627912  |  2.68338  |    5.31364  |  0.394273  |       4.20402  |             1 |     -0.140196  |  1.57125e+09 |\n",
      "| 50%   |  0.628307  |  2.84999  |    5.52634  |  0.39477   |       4.80641  |             1 |     -0.112316  |  1.57231e+09 |\n",
      "| 75%   |  0.64684   |  3.06661  |    5.69377  |  0.418402  |       4.89065  |             1 |     -0.10966   |  1.57337e+09 |\n",
      "| max   |  0.647694  |  3.13609  |    5.79639  |  0.419507  |       4.99256  |             1 |     -0.109065  |  1.57442e+09 |\n",
      "+-------+------------+-----------+-------------+------------+----------------+---------------+----------------+--------------+\n"
     ]
    },
    {
     "data": {
      "text/plain": "             rms       peak  peak2peak   variance  crest_factor  utilization  \\\ncount  50.000000  50.000000  50.000000  50.000000     50.000000         50.0   \nmean    0.611691   2.817641   5.400591   0.377299      4.629763          1.0   \nstd     0.056541   0.278079   0.378225   0.063617      0.333367          0.0   \nmin     0.484564   2.260560   4.554382   0.234802      4.123387          1.0   \n25%     0.627912   2.683375   5.313644   0.394273      4.204021          1.0   \n50%     0.628307   2.849990   5.526337   0.394770      4.806408          1.0   \n75%     0.646840   3.066612   5.693771   0.418402      4.890653          1.0   \nmax     0.647694   3.136087   5.796387   0.419507      4.992559          1.0   \n\n       dc_component    timestamps  \ncount     50.000000  5.000000e+01  \nmean      -0.120874  1.572306e+09  \nstd        0.014194  1.261051e+06  \nmin       -0.140524  1.570187e+09  \n25%       -0.140196  1.571245e+09  \n50%       -0.112316  1.572307e+09  \n75%       -0.109660  1.573366e+09  \nmax       -0.109065  1.574424e+09  ",
      "text/html": "<div>\n<style scoped>\n    .dataframe tbody tr th:only-of-type {\n        vertical-align: middle;\n    }\n\n    .dataframe tbody tr th {\n        vertical-align: top;\n    }\n\n    .dataframe thead th {\n        text-align: right;\n    }\n</style>\n<table border=\"1\" class=\"dataframe\">\n  <thead>\n    <tr style=\"text-align: right;\">\n      <th></th>\n      <th>rms</th>\n      <th>peak</th>\n      <th>peak2peak</th>\n      <th>variance</th>\n      <th>crest_factor</th>\n      <th>utilization</th>\n      <th>dc_component</th>\n      <th>timestamps</th>\n    </tr>\n  </thead>\n  <tbody>\n    <tr>\n      <th>count</th>\n      <td>50.000000</td>\n      <td>50.000000</td>\n      <td>50.000000</td>\n      <td>50.000000</td>\n      <td>50.000000</td>\n      <td>50.0</td>\n      <td>50.000000</td>\n      <td>5.000000e+01</td>\n    </tr>\n    <tr>\n      <th>mean</th>\n      <td>0.611691</td>\n      <td>2.817641</td>\n      <td>5.400591</td>\n      <td>0.377299</td>\n      <td>4.629763</td>\n      <td>1.0</td>\n      <td>-0.120874</td>\n      <td>1.572306e+09</td>\n    </tr>\n    <tr>\n      <th>std</th>\n      <td>0.056541</td>\n      <td>0.278079</td>\n      <td>0.378225</td>\n      <td>0.063617</td>\n      <td>0.333367</td>\n      <td>0.0</td>\n      <td>0.014194</td>\n      <td>1.261051e+06</td>\n    </tr>\n    <tr>\n      <th>min</th>\n      <td>0.484564</td>\n      <td>2.260560</td>\n      <td>4.554382</td>\n      <td>0.234802</td>\n      <td>4.123387</td>\n      <td>1.0</td>\n      <td>-0.140524</td>\n      <td>1.570187e+09</td>\n    </tr>\n    <tr>\n      <th>25%</th>\n      <td>0.627912</td>\n      <td>2.683375</td>\n      <td>5.313644</td>\n      <td>0.394273</td>\n      <td>4.204021</td>\n      <td>1.0</td>\n      <td>-0.140196</td>\n      <td>1.571245e+09</td>\n    </tr>\n    <tr>\n      <th>50%</th>\n      <td>0.628307</td>\n      <td>2.849990</td>\n      <td>5.526337</td>\n      <td>0.394770</td>\n      <td>4.806408</td>\n      <td>1.0</td>\n      <td>-0.112316</td>\n      <td>1.572307e+09</td>\n    </tr>\n    <tr>\n      <th>75%</th>\n      <td>0.646840</td>\n      <td>3.066612</td>\n      <td>5.693771</td>\n      <td>0.418402</td>\n      <td>4.890653</td>\n      <td>1.0</td>\n      <td>-0.109660</td>\n      <td>1.573366e+09</td>\n    </tr>\n    <tr>\n      <th>max</th>\n      <td>0.647694</td>\n      <td>3.136087</td>\n      <td>5.796387</td>\n      <td>0.419507</td>\n      <td>4.992559</td>\n      <td>1.0</td>\n      <td>-0.109065</td>\n      <td>1.574424e+09</td>\n    </tr>\n  </tbody>\n</table>\n</div>"
     },
     "execution_count": 27,
     "metadata": {},
     "output_type": "execute_result"
    }
   ],
   "source": [
    "kpi_results_parsed.summary()\n"
   ],
   "metadata": {
    "collapsed": false,
    "pycharm": {
     "name": "#%%\n"
    }
   }
  },
  {
   "cell_type": "markdown",
   "source": [
    "Finally, we can generate a plot that displays these results."
   ],
   "metadata": {
    "collapsed": false
   }
  },
  {
   "cell_type": "code",
   "execution_count": 28,
   "outputs": [
    {
     "data": {
      "text/plain": "<Figure size 432x288 with 1 Axes>",
      "image/png": "[encoded data removed]"
     },
     "metadata": {
      "needs_background": "light"
     },
     "output_type": "display_data"
    },
    {
     "data": {
      "text/plain": "''"
     },
     "execution_count": 28,
     "metadata": {},
     "output_type": "execute_result"
    }
   ],
   "source": [
    "#[\"rms\", \"dc\", \"utilization\"]\n",
    "kpi_results_parsed.plot()"
   ],
   "metadata": {
    "collapsed": false,
    "pycharm": {
     "name": "#%%\n"
    }
   }
  },
  {
   "cell_type": "code",
   "execution_count": 29,
   "outputs": [
    {
     "data": {
      "text/plain": "<Figure size 432x288 with 1 Axes>",
      "image/png": "[encoded data removed]"
     },
     "metadata": {
      "needs_background": "light"
     },
     "output_type": "display_data"
    },
    {
     "data": {
      "text/plain": "''"
     },
     "execution_count": 29,
     "metadata": {},
     "output_type": "execute_result"
    }
   ],
   "source": [
    "#[\"rms\", \"dc\", \"utilization\"]\n",
    "kpi_results_parsed.plot(kpi=\"peak\")"
   ],
   "metadata": {
    "collapsed": false,
    "pycharm": {
     "name": "#%%\n"
    }
   }
  },
  {
   "cell_type": "code",
   "execution_count": 30,
   "outputs": [
    {
     "data": {
      "text/plain": "<Figure size 432x288 with 1 Axes>",
      "image/png": "[encoded data removed]"
     },
     "metadata": {
      "needs_background": "light"
     },
     "output_type": "display_data"
    },
    {
     "data": {
      "text/plain": "''"
     },
     "execution_count": 30,
     "metadata": {},
     "output_type": "execute_result"
    }
   ],
   "source": [
    "#[\"rms\", \"dc\", \"utilization\"]\n",
    "kpi_results_parsed.plot(kpi=\"peak2peak\")"
   ],
   "metadata": {
    "collapsed": false,
    "pycharm": {
     "name": "#%%\n"
    }
   }
  },
  {
   "cell_type": "code",
   "execution_count": 31,
   "outputs": [
    {
     "data": {
      "text/plain": "<Figure size 432x288 with 1 Axes>",
      "image/png": "[encoded data removed]"
     },
     "metadata": {
      "needs_background": "light"
     },
     "output_type": "display_data"
    },
    {
     "data": {
      "text/plain": "''"
     },
     "execution_count": 31,
     "metadata": {},
     "output_type": "execute_result"
    }
   ],
   "source": [
    "#[\"rms\", \"dc\", \"utilization\"]\n",
    "kpi_results_parsed.plot(kpi=\"variance\")\n"
   ],
   "metadata": {
    "collapsed": false,
    "pycharm": {
     "name": "#%%\n"
    }
   }
  },
  {
   "cell_type": "code",
   "execution_count": 32,
   "outputs": [
    {
     "data": {
      "text/plain": "<Figure size 432x288 with 1 Axes>",
      "image/png": "[encoded data removed]"
     },
     "metadata": {
      "needs_background": "light"
     },
     "output_type": "display_data"
    },
    {
     "data": {
      "text/plain": "''"
     },
     "execution_count": 32,
     "metadata": {},
     "output_type": "execute_result"
    }
   ],
   "source": [
    "#[\"rms\", \"dc\", \"utilization\"]\n",
    "kpi_results_parsed.plot(kpi=\"crest_factor\")"
   ],
   "metadata": {
    "collapsed": false,
    "pycharm": {
     "name": "#%%\n"
    }
   }
  },
  {
   "cell_type": "code",
   "execution_count": 33,
   "outputs": [
    {
     "data": {
      "text/plain": "<Figure size 432x288 with 1 Axes>",
      "image/png": "[encoded data removed]"
     },
     "metadata": {
      "needs_background": "light"
     },
     "output_type": "display_data"
    },
    {
     "data": {
      "text/plain": "''"
     },
     "execution_count": 33,
     "metadata": {},
     "output_type": "execute_result"
    }
   ],
   "source": [
    "#[\"rms\", \"dc\", \"utilization\"]\n",
    "kpi_results_parsed.plot(kpi=\"dc_component\")\n"
   ],
   "metadata": {
    "collapsed": false,
    "pycharm": {
     "name": "#%%\n"
    }
   }
  },
  {
   "cell_type": "code",
   "execution_count": 34,
   "outputs": [
    {
     "data": {
      "text/plain": "<Figure size 432x288 with 1 Axes>",
      "image/png": "[encoded data removed]"
     },
     "metadata": {
      "needs_background": "light"
     },
     "output_type": "display_data"
    },
    {
     "data": {
      "text/plain": "''"
     },
     "execution_count": 34,
     "metadata": {},
     "output_type": "execute_result"
    }
   ],
   "source": [
    "kpis = [\"rms\", \"peak2peak\", \"utilization\"]\n",
    "kpi_results_parsed.plot(kpi=kpis)\n"
   ],
   "metadata": {
    "collapsed": false,
    "pycharm": {
     "name": "#%%\n"
    }
   }
  },
  {
   "cell_type": "code",
   "execution_count": null,
   "outputs": [],
   "source": [],
   "metadata": {
    "collapsed": false,
    "pycharm": {
     "name": "#%%\n"
    }
   }
  }
 ],
 "metadata": {
  "kernelspec": {
   "display_name": "Python 3",
   "language": "python",
   "name": "python3"
  },
  "language_info": {
   "codemirror_mode": {
    "name": "ipython",
    "version": 2
   },
   "file_extension": ".py",
   "mimetype": "text/x-python",
   "name": "python",
   "nbconvert_exporter": "python",
   "pygments_lexer": "ipython2",
   "version": "2.7.6"
  }
 },
 "nbformat": 4,
 "nbformat_minor": 0
}
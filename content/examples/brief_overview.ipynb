{
 "cells": [
  {
   "cell_type": "markdown",
   "metadata": {},
   "source": [
    "# Brief Overview on How to Use the MultiViz Analytics Engine (MVG) Library"
   ]
  },
  {
   "cell_type": "markdown",
   "metadata": {},
   "source": [
    "## Introduction\n",
    "\n",
    "The MultiViz Analytics Engine (MVG) Library is a Python library that enables the use of\n",
    "Viking Analytics's MVG Analytics Service.\n",
    "To access this service, Viking Analytics (VA) provides a REST API towards its analytics server.\n",
    "The simplification of access to this service is enabled by the VA-MVG Python package,\n",
    "which allows interaction with the service via regular python calls.\n",
    "\n",
    "This interactive document shall show the whole flow working with the service from\n",
    "Python, from data upload to retrieval of analysis results for the analysis of vibration signals.\n",
    "\n",
    "### Signing up for the service\n",
    "\n",
    "For commercial use of the service, you will need to acquire a token from Viking Analytics.\n",
    "For the example here, we use a built-in token for demo.\n",
    "Please contact us for a free trial and provide you with your token.\n",
    "\n",
    "\n",
    "### Python Pre-requisites\n",
    "\n",
    "1. Make sure you have Python 3.6 or higher installed.\n",
    "2. Install the MVG package from [\"https://pypi.org/project/va-mvg/\"](https://pypi.org/project/va-mvg/)\n",
    "3. Make sure you have the following packages installed (json, matplotlib...)\n",
    "\n",
    "In the following section we will walk through the code needed for the API interaction"
   ]
  },
  {
   "cell_type": "markdown",
   "metadata": {},
   "source": [
    "## Imports"
   ]
  },
  {
   "cell_type": "markdown",
   "metadata": {},
   "source": [
    "First, we begin with the general imports of Python libraries that are needed as part of this project."
   ]
  },
  {
   "cell_type": "code",
   "execution_count": 1,
   "metadata": {
    "ExecuteTime": {
     "end_time": "2021-03-18T10:20:48.441851Z",
     "start_time": "2021-03-18T10:20:48.257468Z"
    },
    "pycharm": {
     "name": "#%%\n"
    }
   },
   "outputs": [],
   "source": [
    "import json\n",
    "import os\n",
    "import sys\n",
    "from pathlib import Path\n",
    "import pandas as pd\n",
    "from requests import HTTPError"
   ]
  },
  {
   "cell_type": "markdown",
   "metadata": {},
   "source": [
    "We proceed by installing the MVG library in our project."
   ]
  },
  {
   "cell_type": "code",
   "execution_count": 2,
   "metadata": {
    "ExecuteTime": {
     "end_time": "2021-03-18T10:20:49.156431Z",
     "start_time": "2021-03-18T10:20:48.443076Z"
    },
    "pycharm": {
     "name": "#%%\n"
    }
   },
   "outputs": [
    {
     "name": "stdout",
     "output_type": "stream",
     "text": [
      "/usr/lib/python3/dist-packages/secretstorage/dhcrypto.py:15: CryptographyDeprecationWarning: int_from_bytes is deprecated, use int.from_bytes instead\n",
      "  from cryptography.utils import int_from_bytes\n",
      "/usr/lib/python3/dist-packages/secretstorage/util.py:19: CryptographyDeprecationWarning: int_from_bytes is deprecated, use int.from_bytes instead\n",
      "  from cryptography.utils import int_from_bytes\n",
      "Requirement already satisfied: va-mvg in /home/tuix/.local/lib/python3.8/site-packages (0.0.0.dev0)\n",
      "Requirement already satisfied: pandas in /home/tuix/.local/lib/python3.8/site-packages (from va-mvg) (1.2.4)\n",
      "Requirement already satisfied: numpy in /home/tuix/.local/lib/python3.8/site-packages (from va-mvg) (1.20.2)\n",
      "Requirement already satisfied: typer in /home/tuix/.local/lib/python3.8/site-packages (from va-mvg) (0.3.2)\n",
      "Requirement already satisfied: requests in /home/tuix/.local/lib/python3.8/site-packages (from va-mvg) (2.25.1)\n",
      "Requirement already satisfied: semver in /home/tuix/.local/lib/python3.8/site-packages (from va-mvg) (2.13.0)\n",
      "Requirement already satisfied: tabulate in /home/tuix/.local/lib/python3.8/site-packages (from va-mvg) (0.8.9)\n",
      "Requirement already satisfied: matplotlib in /home/tuix/.local/lib/python3.8/site-packages (from va-mvg) (3.4.2)\n",
      "Requirement already satisfied: kiwisolver>=1.0.1 in /home/tuix/.local/lib/python3.8/site-packages (from matplotlib->va-mvg) (1.3.1)\n",
      "Requirement already satisfied: pyparsing>=2.2.1 in /home/tuix/.local/lib/python3.8/site-packages (from matplotlib->va-mvg) (2.4.7)\n",
      "Requirement already satisfied: python-dateutil>=2.7 in /home/tuix/.local/lib/python3.8/site-packages (from matplotlib->va-mvg) (2.8.1)\n",
      "Requirement already satisfied: cycler>=0.10 in /home/tuix/.local/lib/python3.8/site-packages (from matplotlib->va-mvg) (0.10.0)\n",
      "Requirement already satisfied: pillow>=6.2.0 in /home/tuix/.local/lib/python3.8/site-packages (from matplotlib->va-mvg) (8.1.0)\n",
      "Requirement already satisfied: six in /usr/lib/python3/dist-packages (from cycler>=0.10->matplotlib->va-mvg) (1.14.0)\n",
      "Requirement already satisfied: pytz>=2017.3 in /home/tuix/.local/lib/python3.8/site-packages (from pandas->va-mvg) (2020.5)\n",
      "Requirement already satisfied: urllib3<1.27,>=1.21.1 in /usr/lib/python3/dist-packages (from requests->va-mvg) (1.25.8)\n",
      "Requirement already satisfied: chardet<5,>=3.0.2 in /usr/lib/python3/dist-packages (from requests->va-mvg) (3.0.4)\n",
      "Requirement already satisfied: idna<3,>=2.5 in /usr/lib/python3/dist-packages (from requests->va-mvg) (2.8)\n",
      "Requirement already satisfied: certifi>=2017.4.17 in /usr/lib/python3/dist-packages (from requests->va-mvg) (2019.11.28)\n",
      "Requirement already satisfied: click<7.2.0,>=7.1.1 in /home/tuix/.local/lib/python3.8/site-packages (from typer->va-mvg) (7.1.2)\n"
     ]
    }
   ],
   "source": [
    "!{sys.executable} -m pip install --user va-mvg"
   ]
  },
  {
   "cell_type": "markdown",
   "metadata": {},
   "source": [
    "We follow by importing the MVG library.\n",
    "\n",
    "The library documentation is available at [https://vikinganalytics.github.io/mvg/index.html](https://vikinganalytics.github.io/mvg/index.html)."
   ]
  },
  {
   "cell_type": "code",
   "execution_count": 3,
   "metadata": {
    "ExecuteTime": {
     "end_time": "2021-03-18T10:20:49.162159Z",
     "start_time": "2021-03-18T10:20:49.157902Z"
    },
    "pycharm": {
     "name": "#%%\n"
    }
   },
   "outputs": [],
   "source": [
    "from mvg import MVG"
   ]
  },
  {
   "cell_type": "markdown",
   "metadata": {},
   "source": [
    "We begin by instantiating a \"session\" object with the MVG library.\n",
    "A session object basically caches the endpoint and the token, to simplify the calls to the MVG library.\n",
    "\n",
    "NOTE: Each TOKEN is used for Authorization AND Authentication.\n",
    "Thus, each unique token represents a unique user, each user has it own, unique database on the VA-MVG' service."
   ]
  },
  {
   "cell_type": "code",
   "execution_count": 4,
   "metadata": {
    "ExecuteTime": {
     "end_time": "2021-03-18T10:20:49.166821Z",
     "start_time": "2021-03-18T10:20:49.163443Z"
    },
    "pycharm": {
     "name": "#%%\n"
    }
   },
   "outputs": [],
   "source": [
    "ENDPOINT = \"https://api.beta.multiviz.com\"\n",
    "# Replace by your own Token\n",
    "VALID_TOKEN = os.environ['TEST_TOKEN']"
   ]
  },
  {
   "cell_type": "code",
   "execution_count": 5,
   "metadata": {
    "ExecuteTime": {
     "end_time": "2021-03-18T10:20:49.308364Z",
     "start_time": "2021-03-18T10:20:49.167982Z"
    },
    "pycharm": {
     "name": "#%%\n"
    }
   },
   "outputs": [],
   "source": [
    "session = MVG(ENDPOINT, VALID_TOKEN)"
   ]
  },
  {
   "cell_type": "markdown",
   "metadata": {},
   "source": [
    "We now check if the server is alive.\n",
    "The hello message contains the API version:"
   ]
  },
  {
   "cell_type": "code",
   "execution_count": 6,
   "metadata": {
    "ExecuteTime": {
     "end_time": "2021-03-18T10:20:49.437898Z",
     "start_time": "2021-03-18T10:20:49.309506Z"
    },
    "pycharm": {
     "name": "#%%\n"
    }
   },
   "outputs": [
    {
     "data": {
      "text/plain": [
       "'{\"api\": {\"name\": \"MultiViz Engine API\", \"version\": \"v0.2.0\", \"swagger\": \"http://api.beta.multiviz.com/docs\"}}'"
      ]
     },
     "execution_count": 6,
     "metadata": {},
     "output_type": "execute_result"
    }
   ],
   "source": [
    "hello_message = json.dumps(session.say_hello())\n",
    "hello_message\n"
   ]
  },
  {
   "cell_type": "markdown",
   "metadata": {},
   "source": [
    "## Sources and Measurements\n",
    "\n",
    "Before we begin, we will ensure there are no previously existing sources and if there are, we will delete them."
   ]
  },
  {
   "cell_type": "code",
   "execution_count": 7,
   "metadata": {
    "ExecuteTime": {
     "end_time": "2021-03-18T10:20:49.715201Z",
     "start_time": "2021-03-18T10:20:49.439018Z"
    },
    "pycharm": {
     "name": "#%%\n"
    }
   },
   "outputs": [
    {
     "name": "stdout",
     "output_type": "stream",
     "text": [
      "Retrieved sources\n"
     ]
    }
   ],
   "source": [
    "sources = session.list_sources()\n",
    "\n",
    "print(\"Retrieved sources\")\n",
    "for src in sources:\n",
    "    print(src)\n",
    "    print(f\"Deleting {src['source_id']}\")\n",
    "    session.delete_source(src['source_id'])"
   ]
  },
  {
   "cell_type": "markdown",
   "metadata": {
    "pycharm": {
     "name": "#%% md\n"
    }
   },
   "source": [
    "The example below revolves around a sources with source_id \"u0001\".\n",
    "\n",
    "For convenience, this source and its measurements are available with the package distribution.\n",
    "\n",
    "You can retrieve the data from our public charlie repo https://github.com/vikinganalytics/va-data-charlie.git"
   ]
  },
  {
   "cell_type": "code",
   "execution_count": 8,
   "metadata": {
    "ExecuteTime": {
     "end_time": "2021-03-18T10:20:49.825082Z",
     "start_time": "2021-03-18T10:20:49.717137Z"
    },
    "pycharm": {
     "name": "#%%\n"
    }
   },
   "outputs": [
    {
     "name": "stdout",
     "output_type": "stream",
     "text": [
      "Cloning into 'va-data-charlie'...\n",
      "remote: Enumerating objects: 494, done.\u001b[K\n",
      "remote: Counting objects: 100% (494/494), done.\u001b[K\n",
      "remote: Compressing objects: 100% (403/403), done.\u001b[K\n",
      "remote: Total 494 (delta 96), reused 434 (delta 87), pack-reused 0\u001b[K\n",
      "Receiving objects: 100% (494/494), 70.52 MiB | 1.91 MiB/s, done.\n",
      "Resolving deltas: 100% (96/96), done.\n",
      "Updating files: 100% (955/955), done.\n"
     ]
    }
   ],
   "source": [
    "!git clone --depth=1 https://github.com/vikinganalytics/va-data-charlie.git"
   ]
  },
  {
   "cell_type": "code",
   "execution_count": 9,
   "metadata": {
    "ExecuteTime": {
     "end_time": "2021-03-18T10:20:49.830068Z",
     "start_time": "2021-03-18T10:20:49.826632Z"
    },
    "pycharm": {
     "name": "#%%\n"
    }
   },
   "outputs": [
    {
     "data": {
      "text/plain": [
       "'u0001'"
      ]
     },
     "execution_count": 9,
     "metadata": {},
     "output_type": "execute_result"
    }
   ],
   "source": [
    "# Path to the source folder\n",
    "REF_DB_PATH = Path.cwd() / \"va-data-charlie\" / \"charlieDb\" / \"acc\"\n",
    "REF_DB_PATH\n",
    "# Definition of the source_id\n",
    "SOURCE_ID = \"u0001\"\n",
    "SOURCE_ID\n"
   ]
  },
  {
   "cell_type": "markdown",
   "metadata": {},
   "source": [
    "### Creating a Source\n",
    "\n",
    "A source represents a vibration data source, typically a vibration sensor.\n",
    "Internally, in the analytics engine and data storage, all vibration data is stored under its source. \n",
    "In essence, a source is an identifier formed by\n",
    " - the source ID\n",
    " - metadata with required fields\n",
    " - optional arbitrary customer specific 'free form' data belonging to the source.\n",
    " \n",
    "The vibration service will only rely on the required fields.\n",
    "The free form data is a possibility for the client side to keep together source information, measurements and metadata which may be interesting for the analytics built-in features in the service.\n",
    "Examples of the free form data include location of sensor or the name of the asset which is mounted on.\n",
    "As we will see later, timestamps are internally represented as milliseconds since EPOCH (Jan 1st 1970), for that reason it is good practice to include the timezone where the measurement originated in the metadata.\n",
    "\n",
    "There are two ways to create a source:"
   ]
  },
  {
   "cell_type": "code",
   "execution_count": 10,
   "metadata": {
    "ExecuteTime": {
     "end_time": "2021-03-18T10:20:50.251327Z",
     "start_time": "2021-03-18T10:20:49.831109Z"
    },
    "pycharm": {
     "name": "#%%\n"
    }
   },
   "outputs": [],
   "source": [
    "# OPTION 1: Writing the meta-data directly when creating the source\n",
    "SOURCE_IDP = \"u001\"\n",
    "meta_information = {'assetId': 'assetJ', 'measPoint': 'mloc01', 'location': 'cancun', 'timezone': 'Europe/Stockholm'}\n",
    "session.create_source(SOURCE_IDP, meta=meta_information, channels=[\"acc\"])\n",
    "session.get_source(SOURCE_IDP)\n",
    "# We delete this first example source to show the second option\n",
    "session.delete_source(SOURCE_IDP)"
   ]
  },
  {
   "cell_type": "code",
   "execution_count": 11,
   "metadata": {
    "ExecuteTime": {
     "end_time": "2021-03-18T10:20:50.537310Z",
     "start_time": "2021-03-18T10:20:50.252679Z"
    },
    "pycharm": {
     "name": "#%%\n"
    }
   },
   "outputs": [
    {
     "data": {
      "text/plain": [
       "{'source_id': 'u0001',\n",
       " 'meta': {'assetId': 'assetA', 'measPoint': 'mloc01', 'location': 'paris'},\n",
       " 'properties': {'data_class': 'waveform', 'channels': ['acc']}}"
      ]
     },
     "execution_count": 11,
     "metadata": {},
     "output_type": "execute_result"
    }
   ],
   "source": [
    "# OPTION 2: Uploading the metadata from a json file\n",
    "src_path = REF_DB_PATH / SOURCE_ID\n",
    "meta_filename = src_path / \"meta.json\"\n",
    "with open(meta_filename, \"r\") as json_file:\n",
    "    meta = json.load(json_file)\n",
    "session.create_source(SOURCE_ID, meta=meta, channels=[\"acc\"])\n",
    "session.get_source(SOURCE_ID)"
   ]
  },
  {
   "cell_type": "markdown",
   "metadata": {},
   "source": [
    "List sources\n",
    "\n",
    "We can now check if our source actually has been created, by listing all the sources in the database.\n",
    "This function provides all the existing information about the source."
   ]
  },
  {
   "cell_type": "code",
   "execution_count": 12,
   "metadata": {
    "ExecuteTime": {
     "end_time": "2021-03-18T10:20:50.666517Z",
     "start_time": "2021-03-18T10:20:50.538383Z"
    },
    "pycharm": {
     "name": "#%%\n"
    }
   },
   "outputs": [
    {
     "data": {
      "text/plain": [
       "[{'source_id': 'u0001',\n",
       "  'meta': {'assetId': 'assetA', 'measPoint': 'mloc01', 'location': 'paris'},\n",
       "  'properties': {'data_class': 'waveform', 'channels': ['acc']}}]"
      ]
     },
     "execution_count": 12,
     "metadata": {},
     "output_type": "execute_result"
    }
   ],
   "source": [
    "sources = session.list_sources()\n",
    "sources"
   ]
  },
  {
   "cell_type": "markdown",
   "metadata": {},
   "source": [
    "### Uploading a Measurement\n",
    "\n",
    "Now that we have created a source, we can upload vibration measurements related to the source. \n",
    "The information needed to create a measurement consists of\n",
    "- sid: name of the source ID to associate the measurement with a source.\n",
    "- duration: float value that represent the duration, in seconds, of the measurement to estimate the sampling frequency.\n",
    "- timestamp: integer representing the milliseconds since EPOCH of when the measurement was taken.\n",
    "- data: list of floating point values representing the raw data of the vibration measurement.\n",
    "- meta: additional meta information for later use by the client but not to be processed by the analytics engine.\n",
    "\n",
    "In this example, all the measurement data is stored as csv and json files, where the timestamp is the name of each of these files."
   ]
  },
  {
   "cell_type": "code",
   "execution_count": 13,
   "metadata": {
    "ExecuteTime": {
     "end_time": "2021-03-18T10:20:50.670011Z",
     "start_time": "2021-03-18T10:20:50.667593Z"
    },
    "pycharm": {
     "name": "#%%\n"
    }
   },
   "outputs": [],
   "source": [
    "# meas is a list of timestamps representing the measurements in our repo\n",
    "meas = [f.stem for f in Path(src_path).glob(\"*.csv\")]"
   ]
  },
  {
   "cell_type": "code",
   "execution_count": 14,
   "metadata": {
    "ExecuteTime": {
     "end_time": "2021-03-18T10:21:50.347959Z",
     "start_time": "2021-03-18T10:20:50.671104Z"
    },
    "pycharm": {
     "name": "#%%\n"
    }
   },
   "outputs": [
    {
     "name": "stdout",
     "output_type": "stream",
     "text": [
      "Read 40000 samples\n",
      "Read meta:{'duration': 2.8672073400507907, 'meta': {}}\n",
      "Uploading ~/mvg/docs/source/content/examples/va-data-charlie/charlieDb/acc/u0001/1570186860.csv\n",
      "Read 40000 samples\n",
      "Read meta:{'duration': 2.8672073400507907, 'meta': {}}\n",
      "Uploading ~/mvg/docs/source/content/examples/va-data-charlie/charlieDb/acc/u0001/1570273260.csv\n",
      "Read 40000 samples\n",
      "Read meta:{'duration': 2.8672073400507907, 'meta': {}}\n",
      "Uploading ~/mvg/docs/source/content/examples/va-data-charlie/charlieDb/acc/u0001/1570359660.csv\n",
      "Read 40000 samples\n",
      "Read meta:{'duration': 2.8672073400507907, 'meta': {}}\n",
      "Uploading ~/mvg/docs/source/content/examples/va-data-charlie/charlieDb/acc/u0001/1570446060.csv\n",
      "Read 40000 samples\n",
      "Read meta:{'duration': 2.8672073400507907, 'meta': {}}\n",
      "Uploading ~/mvg/docs/source/content/examples/va-data-charlie/charlieDb/acc/u0001/1570532460.csv\n",
      "Read 40000 samples\n",
      "Read meta:{'duration': 2.8672073400507907, 'meta': {}}\n",
      "Uploading ~/mvg/docs/source/content/examples/va-data-charlie/charlieDb/acc/u0001/1570618860.csv\n",
      "Read 40000 samples\n",
      "Read meta:{'duration': 2.8672073400507907, 'meta': {}}\n",
      "Uploading ~/mvg/docs/source/content/examples/va-data-charlie/charlieDb/acc/u0001/1570705260.csv\n",
      "Read 40000 samples\n",
      "Read meta:{'duration': 2.8672073400507907, 'meta': {}}\n",
      "Uploading ~/mvg/docs/source/content/examples/va-data-charlie/charlieDb/acc/u0001/1570791660.csv\n",
      "Read 40000 samples\n",
      "Read meta:{'duration': 2.8672073400507907, 'meta': {}}\n",
      "Uploading ~/mvg/docs/source/content/examples/va-data-charlie/charlieDb/acc/u0001/1570878060.csv\n",
      "Read 40000 samples\n",
      "Read meta:{'duration': 2.8672073400507907, 'meta': {}}\n",
      "Uploading ~/mvg/docs/source/content/examples/va-data-charlie/charlieDb/acc/u0001/1570964460.csv\n",
      "Read 40000 samples\n",
      "Read meta:{'duration': 2.8672073400507907, 'meta': {}}\n",
      "Uploading ~/mvg/docs/source/content/examples/va-data-charlie/charlieDb/acc/u0001/1571050860.csv\n",
      "Read 40000 samples\n",
      "Read meta:{'duration': 2.8672073400507907, 'meta': {}}\n",
      "Uploading ~/mvg/docs/source/content/examples/va-data-charlie/charlieDb/acc/u0001/1571137260.csv\n",
      "Read 40000 samples\n",
      "Read meta:{'duration': 2.8672073400507907, 'meta': {}}\n",
      "Uploading ~/mvg/docs/source/content/examples/va-data-charlie/charlieDb/acc/u0001/1571223660.csv\n",
      "Read 40000 samples\n",
      "Read meta:{'duration': 2.8672073400507907, 'meta': {}}\n",
      "Uploading ~/mvg/docs/source/content/examples/va-data-charlie/charlieDb/acc/u0001/1571310060.csv\n",
      "Read 40000 samples\n",
      "Read meta:{'duration': 2.8672073400507907, 'meta': {}}\n",
      "Uploading ~/mvg/docs/source/content/examples/va-data-charlie/charlieDb/acc/u0001/1571396460.csv\n",
      "Read 40000 samples\n",
      "Read meta:{'duration': 2.8672073400507907, 'meta': {}}\n",
      "Uploading ~/mvg/docs/source/content/examples/va-data-charlie/charlieDb/acc/u0001/1571482860.csv\n",
      "Read 40000 samples\n",
      "Read meta:{'duration': 2.8672073400507907, 'meta': {}}\n",
      "Uploading ~/mvg/docs/source/content/examples/va-data-charlie/charlieDb/acc/u0001/1571569260.csv\n",
      "Read 40000 samples\n",
      "Read meta:{'duration': 2.8672073400507907, 'meta': {}}\n",
      "Uploading ~/mvg/docs/source/content/examples/va-data-charlie/charlieDb/acc/u0001/1571655660.csv\n",
      "Read 40000 samples\n",
      "Read meta:{'duration': 2.8672073400507907, 'meta': {}}\n",
      "Uploading ~/mvg/docs/source/content/examples/va-data-charlie/charlieDb/acc/u0001/1571742060.csv\n",
      "Read 40000 samples\n",
      "Read meta:{'duration': 2.8672073400507907, 'meta': {}}\n",
      "Uploading ~/mvg/docs/source/content/examples/va-data-charlie/charlieDb/acc/u0001/1571828460.csv\n",
      "Read 40000 samples\n",
      "Read meta:{'duration': 2.8672073400507907, 'meta': {}}\n",
      "Uploading ~/mvg/docs/source/content/examples/va-data-charlie/charlieDb/acc/u0001/1571914860.csv\n",
      "Read 40000 samples\n",
      "Read meta:{'duration': 2.8672073400507907, 'meta': {}}\n",
      "Uploading ~/mvg/docs/source/content/examples/va-data-charlie/charlieDb/acc/u0001/1572001260.csv\n",
      "Read 40000 samples\n",
      "Read meta:{'duration': 2.8672073400507907, 'meta': {}}\n",
      "Uploading ~/mvg/docs/source/content/examples/va-data-charlie/charlieDb/acc/u0001/1572087660.csv\n",
      "Read 40000 samples\n",
      "Read meta:{'duration': 2.8672073400507907, 'meta': {}}\n",
      "Uploading ~/mvg/docs/source/content/examples/va-data-charlie/charlieDb/acc/u0001/1572177660.csv\n",
      "Read 40000 samples\n",
      "Read meta:{'duration': 2.8672073400507907, 'meta': {}}\n",
      "Uploading ~/mvg/docs/source/content/examples/va-data-charlie/charlieDb/acc/u0001/1572264060.csv\n",
      "Read 40000 samples\n",
      "Read meta:{'duration': 2.8672073400507907, 'meta': {}}\n",
      "Uploading ~/mvg/docs/source/content/examples/va-data-charlie/charlieDb/acc/u0001/1572350460.csv\n",
      "Read 40000 samples\n",
      "Read meta:{'duration': 2.8672073400507907, 'meta': {}}\n",
      "Uploading ~/mvg/docs/source/content/examples/va-data-charlie/charlieDb/acc/u0001/1572436860.csv\n",
      "Read 40000 samples\n",
      "Read meta:{'duration': 2.8672073400507907, 'meta': {}}\n",
      "Uploading ~/mvg/docs/source/content/examples/va-data-charlie/charlieDb/acc/u0001/1572523260.csv\n",
      "Read 40000 samples\n",
      "Read meta:{'duration': 2.8672073400507907, 'meta': {}}\n",
      "Uploading ~/mvg/docs/source/content/examples/va-data-charlie/charlieDb/acc/u0001/1572609660.csv\n",
      "Read 40000 samples\n",
      "Read meta:{'duration': 2.8672073400507907, 'meta': {}}\n",
      "Uploading ~/mvg/docs/source/content/examples/va-data-charlie/charlieDb/acc/u0001/1572696060.csv\n",
      "Read 40000 samples\n",
      "Read meta:{'duration': 2.8672073400507907, 'meta': {}}\n",
      "Uploading ~/mvg/docs/source/content/examples/va-data-charlie/charlieDb/acc/u0001/1572782460.csv\n",
      "Read 40000 samples\n",
      "Read meta:{'duration': 2.8672073400507907, 'meta': {}}\n",
      "Uploading ~/mvg/docs/source/content/examples/va-data-charlie/charlieDb/acc/u0001/1572868860.csv\n",
      "Read 40000 samples\n",
      "Read meta:{'duration': 2.8672073400507907, 'meta': {}}\n",
      "Uploading ~/mvg/docs/source/content/examples/va-data-charlie/charlieDb/acc/u0001/1572955260.csv\n",
      "Read 40000 samples\n",
      "Read meta:{'duration': 2.8672073400507907, 'meta': {}}\n",
      "Uploading ~/mvg/docs/source/content/examples/va-data-charlie/charlieDb/acc/u0001/1573041660.csv\n",
      "Read 40000 samples\n",
      "Read meta:{'duration': 2.8672073400507907, 'meta': {}}\n",
      "Uploading ~/mvg/docs/source/content/examples/va-data-charlie/charlieDb/acc/u0001/1573128060.csv\n",
      "Read 40000 samples\n",
      "Read meta:{'duration': 2.8672073400507907, 'meta': {}}\n",
      "Uploading ~/mvg/docs/source/content/examples/va-data-charlie/charlieDb/acc/u0001/1573214460.csv\n",
      "Read 40000 samples\n",
      "Read meta:{'duration': 2.8672073400507907, 'meta': {}}\n",
      "Uploading ~/mvg/docs/source/content/examples/va-data-charlie/charlieDb/acc/u0001/1573300860.csv\n",
      "Read 40000 samples\n",
      "Read meta:{'duration': 2.8672073400507907, 'meta': {}}\n",
      "Uploading ~/mvg/docs/source/content/examples/va-data-charlie/charlieDb/acc/u0001/1573387260.csv\n",
      "Read 40000 samples\n",
      "Read meta:{'duration': 2.8672073400507907, 'meta': {}}\n",
      "Uploading ~/mvg/docs/source/content/examples/va-data-charlie/charlieDb/acc/u0001/1573473660.csv\n",
      "Read 40000 samples\n",
      "Read meta:{'duration': 2.8672073400507907, 'meta': {}}\n",
      "Uploading ~/mvg/docs/source/content/examples/va-data-charlie/charlieDb/acc/u0001/1573560060.csv\n",
      "Read 40000 samples\n",
      "Read meta:{'duration': 2.8672073400507907, 'meta': {}}\n",
      "Uploading ~/mvg/docs/source/content/examples/va-data-charlie/charlieDb/acc/u0001/1573646460.csv\n"
     ]
    },
    {
     "name": "stdout",
     "output_type": "stream",
     "text": [
      "Read 40000 samples\n",
      "Read meta:{'duration': 2.8672073400507907, 'meta': {}}\n",
      "Uploading ~/mvg/docs/source/content/examples/va-data-charlie/charlieDb/acc/u0001/1573732860.csv\n",
      "Read 40000 samples\n",
      "Read meta:{'duration': 2.8672073400507907, 'meta': {}}\n",
      "Uploading ~/mvg/docs/source/content/examples/va-data-charlie/charlieDb/acc/u0001/1573819260.csv\n",
      "Read 40000 samples\n",
      "Read meta:{'duration': 2.8672073400507907, 'meta': {}}\n",
      "Uploading ~/mvg/docs/source/content/examples/va-data-charlie/charlieDb/acc/u0001/1573905660.csv\n",
      "Read 40000 samples\n",
      "Read meta:{'duration': 2.8672073400507907, 'meta': {}}\n",
      "Uploading ~/mvg/docs/source/content/examples/va-data-charlie/charlieDb/acc/u0001/1573992060.csv\n",
      "Read 40000 samples\n",
      "Read meta:{'duration': 2.8672073400507907, 'meta': {}}\n",
      "Uploading ~/mvg/docs/source/content/examples/va-data-charlie/charlieDb/acc/u0001/1574078460.csv\n",
      "Read 40000 samples\n",
      "Read meta:{'duration': 2.8672073400507907, 'meta': {}}\n",
      "Uploading ~/mvg/docs/source/content/examples/va-data-charlie/charlieDb/acc/u0001/1574164860.csv\n",
      "Read 40000 samples\n",
      "Read meta:{'duration': 2.8672073400507907, 'meta': {}}\n",
      "Uploading ~/mvg/docs/source/content/examples/va-data-charlie/charlieDb/acc/u0001/1574251260.csv\n",
      "Read 40000 samples\n",
      "Read meta:{'duration': 2.8672073400507907, 'meta': {}}\n",
      "Uploading ~/mvg/docs/source/content/examples/va-data-charlie/charlieDb/acc/u0001/1574337660.csv\n",
      "Read 40000 samples\n",
      "Read meta:{'duration': 2.8672073400507907, 'meta': {}}\n",
      "Uploading ~/mvg/docs/source/content/examples/va-data-charlie/charlieDb/acc/u0001/1574424060.csv\n"
     ]
    }
   ],
   "source": [
    "# We iterate over all of elements in this list\n",
    "for m in meas:\n",
    "\n",
    "    # raw data per measurement\n",
    "    TS_MEAS = str(m) + \".csv\"  # filename\n",
    "    TS_MEAS = REF_DB_PATH / SOURCE_ID / TS_MEAS  # path to file\n",
    "    ts_df = pd.read_csv(TS_MEAS)  # read csv into df\n",
    "    accs = ts_df.to_dict(\"list\")  # convert to list\n",
    "    print(f\"Read {len(ts_df)} samples\")\n",
    "\n",
    "    # meta information file per measurement\n",
    "    TS_META = str(m) + \".json\"  # filename\n",
    "    TS_META = REF_DB_PATH / SOURCE_ID / TS_META  # path\n",
    "    with open(TS_META, \"r\") as json_file:  # read json\n",
    "        meas_info = json.load(json_file)  # into dict\n",
    "    print(f\"Read meta:{meas_info}\")\n",
    "\n",
    "    # get duration and other meta info\n",
    "    duration = meas_info['duration']\n",
    "    meta_info = meas_info['meta']\n",
    "\n",
    "    # Upload measurements\n",
    "    print(f\"Uploading {TS_MEAS}\")\n",
    "    try:\n",
    "        session.create_measurement(sid=SOURCE_ID, \n",
    "                                   duration=duration, \n",
    "                                   timestamp=m, \n",
    "                                   data=accs, \n",
    "                                   meta=meta_info)\n",
    "    except HTTPError as exc:\n",
    "        print(exc)"
   ]
  },
  {
   "cell_type": "markdown",
   "metadata": {},
   "source": [
    "Check if we actually created the measurements by reading them."
   ]
  },
  {
   "cell_type": "code",
   "execution_count": 15,
   "metadata": {
    "ExecuteTime": {
     "end_time": "2021-03-18T10:22:16.187529Z",
     "start_time": "2021-03-18T10:21:50.349197Z"
    },
    "pycharm": {
     "name": "#%%\n"
    }
   },
   "outputs": [
    {
     "name": "stdout",
     "output_type": "stream",
     "text": [
      "Read 50 stored measurements\n"
     ]
    }
   ],
   "source": [
    "m = session.list_measurements(SOURCE_ID)\n",
    "print(f\"Read {len(m)} stored measurements\")\n"
   ]
  },
  {
   "cell_type": "markdown",
   "metadata": {},
   "source": [
    "## Analysis\n",
    "\n",
    "We begin by listing all the features available in the service."
   ]
  },
  {
   "cell_type": "code",
   "execution_count": 16,
   "metadata": {
    "ExecuteTime": {
     "end_time": "2021-03-18T10:22:16.319506Z",
     "start_time": "2021-03-18T10:22:16.188820Z"
    },
    "pycharm": {
     "name": "#%%\n"
    }
   },
   "outputs": [
    {
     "data": {
      "text/plain": [
       "{'RMS': '1.0.0', 'ModeId': '0.1.1', 'BlackSheep': '1.0.0', 'KPIDemo': '1.0.0'}"
      ]
     },
     "execution_count": 16,
     "metadata": {},
     "output_type": "execute_result"
    }
   ],
   "source": [
    "available_features = session.supported_features()\n",
    "available_features"
   ]
  },
  {
   "cell_type": "markdown",
   "metadata": {},
   "source": [
    "In this example, we will show how to request the RMS and ModeId features to be applied to the previously defined SOURCE_ID.\n",
    "The BlackSheep feature is aimed to population analytics.\n",
    "You can read about how to use it in the [\"Analysis and Results Visualization\"](analysis_visual.ipynb) example.\n",
    "\n",
    "We will begin with the 'RMS' feature, which provides the RMS for each signal.\n",
    "We proceed to request the analysis to the MVG service."
   ]
  },
  {
   "cell_type": "code",
   "execution_count": 17,
   "metadata": {
    "ExecuteTime": {
     "end_time": "2021-03-18T10:22:16.439918Z",
     "start_time": "2021-03-18T10:22:16.320611Z"
    },
    "pycharm": {
     "name": "#%%\n"
    }
   },
   "outputs": [
    {
     "data": {
      "text/plain": [
       "{'request_id': 'bc4ea1194b4929764a08e97c60360cb6', 'request_status': 'queued'}"
      ]
     },
     "execution_count": 17,
     "metadata": {},
     "output_type": "execute_result"
    }
   ],
   "source": [
    "RMS_u0001 = session.request_analysis(SOURCE_ID, 'RMS')\n",
    "RMS_u0001"
   ]
  },
  {
   "cell_type": "markdown",
   "metadata": {
    "pycharm": {
     "name": "#%% md\n"
    }
   },
   "source": [
    "The requested analysis will return a dictionary object with two elements.\n",
    "The first element is a `\"request_id\"` that can be used to retrieve the results after.\n",
    "The second element is `\"request_status\"` that provides the status right after placing the analysis request. \n",
    "\n",
    "Before we are able to get the analysis results, we need to wait until those results are successfully completed.\n",
    "\n",
    "We can query for the status of our requested analysis.\n",
    "The possible status are:\n",
    "- Queued: The analysis has not started in the remote server and it is in the queue to begin.\n",
    "- Ongoing: The analysis is been processed at this time.\n",
    "- Failed: The analysis is complete and failed to produce a result.\n",
    "- Successful: The analysis is complete and it successfully produced a result."
   ]
  },
  {
   "cell_type": "code",
   "execution_count": 18,
   "metadata": {
    "ExecuteTime": {
     "end_time": "2021-03-18T10:22:16.571418Z",
     "start_time": "2021-03-18T10:22:16.440996Z"
    },
    "pycharm": {
     "name": "#%%\n"
    }
   },
   "outputs": [
    {
     "name": "stdout",
     "output_type": "stream",
     "text": [
      "RMS Analysis: successful\n"
     ]
    }
   ],
   "source": [
    "REQUEST_ID_RMS_u0001 = RMS_u0001['request_id']\n",
    "status = session.get_analysis_status(REQUEST_ID_RMS_u0001)\n",
    "print(f\"RMS Analysis: {status}\")"
   ]
  },
  {
   "cell_type": "markdown",
   "metadata": {
    "pycharm": {
     "name": "#%% md\n"
    }
   },
   "source": [
    "The next feature is 'ModeId'.\n",
    "The 'ModeId' feature displays all the operating modes over time of an individual asset. \n",
    "The similar procedure is repeated to request the analysis of the \"ModeId\" feature for our source \"u0001\"."
   ]
  },
  {
   "cell_type": "code",
   "execution_count": 19,
   "metadata": {
    "ExecuteTime": {
     "end_time": "2021-03-18T10:22:16.716298Z",
     "start_time": "2021-03-18T10:22:16.572585Z"
    },
    "pycharm": {
     "name": "#%%\n"
    }
   },
   "outputs": [
    {
     "data": {
      "text/plain": [
       "{'request_id': 'fae66b2396b7dde3039a2f58e287686a', 'request_status': 'queued'}"
      ]
     },
     "execution_count": 19,
     "metadata": {},
     "output_type": "execute_result"
    }
   ],
   "source": [
    "ModeId_u0001 = session.request_analysis(SOURCE_ID, 'ModeId')\n",
    "ModeId_u0001 "
   ]
  },
  {
   "cell_type": "markdown",
   "metadata": {},
   "source": [
    "We also check the status for our second feature."
   ]
  },
  {
   "cell_type": "code",
   "execution_count": 20,
   "metadata": {
    "ExecuteTime": {
     "end_time": "2021-03-18T10:22:16.881788Z",
     "start_time": "2021-03-18T10:22:16.717429Z"
    },
    "pycharm": {
     "name": "#%%\n"
    }
   },
   "outputs": [
    {
     "name": "stdout",
     "output_type": "stream",
     "text": [
      "ModeId Analysis: successful\n"
     ]
    }
   ],
   "source": [
    "REQUEST_ID_ModeId_u0001 = ModeId_u0001['request_id']\n",
    "status = session.get_analysis_status(REQUEST_ID_ModeId_u0001)\n",
    "print(f\"ModeId Analysis: {status}\")"
   ]
  },
  {
   "cell_type": "markdown",
   "metadata": {
    "pycharm": {
     "name": "#%% md\n"
    }
   },
   "source": [
    "We can proceed to get the results by calling the corresponding requestIds for the feature of each source.\n",
    "\n",
    "The output of the get_analysis_results function is a dictionary and we show the keys of one those dictionaries.\n",
    "The keys are the same for all features and contains seven elements.\n",
    "These elements are:\n",
    "- `\"status\"` indicates if the analysis was successful.\n",
    "- `\"request_id\"` is the identifier of the requested analysis.\n",
    "- `\"feature\"` is the name of the request feature.\n",
    "- `\"results\"` includes the numeric results.\n",
    "- `\"inputs\"` includes the input information for the request analysis.\n",
    "- `\"error_info\"` includes the error information in case the analysis fails and it is empty if the analysis is successful.\n",
    "- `\"debug_info\"` includes debuging (log) information related to the failed analysis."
   ]
  },
  {
   "cell_type": "code",
   "execution_count": 21,
   "metadata": {
    "ExecuteTime": {
     "end_time": "2021-03-18T10:22:17.505749Z",
     "start_time": "2021-03-18T10:22:16.882964Z"
    },
    "pycharm": {
     "name": "#%%\n"
    }
   },
   "outputs": [
    {
     "data": {
      "text/plain": [
       "dict_keys(['status', 'request_id', 'feature', 'results', 'inputs', 'error_info', 'debug_info'])"
      ]
     },
     "execution_count": 21,
     "metadata": {},
     "output_type": "execute_result"
    }
   ],
   "source": [
    "rms_results = session.get_analysis_results(request_id=REQUEST_ID_RMS_u0001)\n",
    "mode_results = session.get_analysis_results(request_id=REQUEST_ID_ModeId_u0001)\n",
    "\n",
    "rms_results.keys()\n"
   ]
  },
  {
   "cell_type": "markdown",
   "metadata": {},
   "source": [
    "### Visualization\n",
    "\n",
    "The MVG Library incorporates a module that facilitates the handling of the results and its visualization.\n",
    "Using this module, it becomes easier to convert the results into a Pandas dataframe for ease of manipulation.\n",
    "In addition, it enables to quickly evaluate the results by getting a summary of them or visualize them.\n",
    "\n",
    "The name of this module is `\"analysis_classes\"` and we begin by calling it."
   ]
  },
  {
   "cell_type": "code",
   "execution_count": 22,
   "metadata": {
    "pycharm": {
     "name": "#%%\n"
    }
   },
   "outputs": [],
   "source": [
    "from mvg import analysis_classes"
   ]
  },
  {
   "cell_type": "markdown",
   "metadata": {
    "pycharm": {
     "name": "#%% md\n"
    }
   },
   "source": [
    "The first step requires parsing the results available from the analysis.\n",
    "We begin by showing how to do this with the RMS feature."
   ]
  },
  {
   "cell_type": "code",
   "execution_count": 23,
   "metadata": {
    "pycharm": {
     "name": "#%%\n"
    }
   },
   "outputs": [],
   "source": [
    "rms_results_parsed = analysis_classes.parse_results(rms_results)"
   ]
  },
  {
   "cell_type": "markdown",
   "metadata": {
    "pycharm": {
     "name": "#%% md\n"
    }
   },
   "source": [
    "From here, we can call these results into a Pandas dataframe."
   ]
  },
  {
   "cell_type": "code",
   "execution_count": 24,
   "metadata": {
    "pycharm": {
     "name": "#%%\n"
    }
   },
   "outputs": [
    {
     "data": {
      "text/html": [
       "<div>\n",
       "<style scoped>\n",
       "    .dataframe tbody tr th:only-of-type {\n",
       "        vertical-align: middle;\n",
       "    }\n",
       "\n",
       "    .dataframe tbody tr th {\n",
       "        vertical-align: top;\n",
       "    }\n",
       "\n",
       "    .dataframe thead th {\n",
       "        text-align: right;\n",
       "    }\n",
       "</style>\n",
       "<table border=\"1\" class=\"dataframe\">\n",
       "  <thead>\n",
       "    <tr style=\"text-align: right;\">\n",
       "      <th></th>\n",
       "      <th>timestamps</th>\n",
       "      <th>rms</th>\n",
       "      <th>rms_dc</th>\n",
       "      <th>dc</th>\n",
       "      <th>utilization</th>\n",
       "    </tr>\n",
       "  </thead>\n",
       "  <tbody>\n",
       "    <tr>\n",
       "      <th>0</th>\n",
       "      <td>1570186860</td>\n",
       "      <td>0.647086</td>\n",
       "      <td>0.662108</td>\n",
       "      <td>-0.140237</td>\n",
       "      <td>1</td>\n",
       "    </tr>\n",
       "    <tr>\n",
       "      <th>1</th>\n",
       "      <td>1570273260</td>\n",
       "      <td>0.647123</td>\n",
       "      <td>0.662183</td>\n",
       "      <td>-0.140420</td>\n",
       "      <td>1</td>\n",
       "    </tr>\n",
       "    <tr>\n",
       "      <th>2</th>\n",
       "      <td>1570359660</td>\n",
       "      <td>0.646619</td>\n",
       "      <td>0.661652</td>\n",
       "      <td>-0.140239</td>\n",
       "      <td>1</td>\n",
       "    </tr>\n",
       "    <tr>\n",
       "      <th>3</th>\n",
       "      <td>1570446060</td>\n",
       "      <td>0.646873</td>\n",
       "      <td>0.661923</td>\n",
       "      <td>-0.140347</td>\n",
       "      <td>1</td>\n",
       "    </tr>\n",
       "    <tr>\n",
       "      <th>4</th>\n",
       "      <td>1570532460</td>\n",
       "      <td>0.646643</td>\n",
       "      <td>0.661714</td>\n",
       "      <td>-0.140423</td>\n",
       "      <td>1</td>\n",
       "    </tr>\n",
       "  </tbody>\n",
       "</table>\n",
       "</div>"
      ],
      "text/plain": [
       "   timestamps       rms    rms_dc        dc  utilization\n",
       "0  1570186860  0.647086  0.662108 -0.140237            1\n",
       "1  1570273260  0.647123  0.662183 -0.140420            1\n",
       "2  1570359660  0.646619  0.661652 -0.140239            1\n",
       "3  1570446060  0.646873  0.661923 -0.140347            1\n",
       "4  1570532460  0.646643  0.661714 -0.140423            1"
      ]
     },
     "execution_count": 24,
     "metadata": {},
     "output_type": "execute_result"
    }
   ],
   "source": [
    "df_rms = rms_results_parsed.to_df()\n",
    "df_rms.head()\n"
   ]
  },
  {
   "cell_type": "markdown",
   "metadata": {
    "pycharm": {
     "name": "#%% md\n"
    }
   },
   "source": [
    "From the results, we can see that the RMS feature provides the rms value, the dc component and\n",
    "the rms without the dc component.\n",
    "All this is available for each timestamp.\n",
    "\n",
    "We can request to display a summary of the results."
   ]
  },
  {
   "cell_type": "code",
   "execution_count": 25,
   "metadata": {
    "pycharm": {
     "name": "#%%\n"
    }
   },
   "outputs": [
    {
     "name": "stdout",
     "output_type": "stream",
     "text": [
      "=== RMS ===\n",
      "request_id bc4ea1194b4929764a08e97c60360cb6\n",
      "from 1570186860 to 1574424060\n",
      "\n",
      "+-------+--------------+------------+------------+------------+---------------+\n",
      "|       |   timestamps |        rms |     rms_dc |         dc |   utilization |\n",
      "|-------+--------------+------------+------------+------------+---------------|\n",
      "| count | 50           | 50         | 50         | 50         |            50 |\n",
      "| mean  |  1.57231e+09 |  0.611691  |  0.623692  | -0.120874  |             1 |\n",
      "| std   |  1.26105e+06 |  0.0565414 |  0.0563824 |  0.0141936 |             0 |\n",
      "| min   |  1.57019e+09 |  0.484564  |  0.497987  | -0.140524  |             1 |\n",
      "| 25%   |  1.57125e+09 |  0.627912  |  0.637381  | -0.140196  |             1 |\n",
      "| 50%   |  1.57231e+09 |  0.628307  |  0.6378    | -0.112316  |             1 |\n",
      "| 75%   |  1.57337e+09 |  0.64684   |  0.661892  | -0.10966   |             1 |\n",
      "| max   |  1.57442e+09 |  0.647694  |  0.662754  | -0.109065  |             1 |\n",
      "+-------+--------------+------------+------------+------------+---------------+\n"
     ]
    },
    {
     "data": {
      "text/html": [
       "<div>\n",
       "<style scoped>\n",
       "    .dataframe tbody tr th:only-of-type {\n",
       "        vertical-align: middle;\n",
       "    }\n",
       "\n",
       "    .dataframe tbody tr th {\n",
       "        vertical-align: top;\n",
       "    }\n",
       "\n",
       "    .dataframe thead th {\n",
       "        text-align: right;\n",
       "    }\n",
       "</style>\n",
       "<table border=\"1\" class=\"dataframe\">\n",
       "  <thead>\n",
       "    <tr style=\"text-align: right;\">\n",
       "      <th></th>\n",
       "      <th>timestamps</th>\n",
       "      <th>rms</th>\n",
       "      <th>rms_dc</th>\n",
       "      <th>dc</th>\n",
       "      <th>utilization</th>\n",
       "    </tr>\n",
       "  </thead>\n",
       "  <tbody>\n",
       "    <tr>\n",
       "      <th>count</th>\n",
       "      <td>5.000000e+01</td>\n",
       "      <td>50.000000</td>\n",
       "      <td>50.000000</td>\n",
       "      <td>50.000000</td>\n",
       "      <td>50.0</td>\n",
       "    </tr>\n",
       "    <tr>\n",
       "      <th>mean</th>\n",
       "      <td>1.572306e+09</td>\n",
       "      <td>0.611691</td>\n",
       "      <td>0.623692</td>\n",
       "      <td>-0.120874</td>\n",
       "      <td>1.0</td>\n",
       "    </tr>\n",
       "    <tr>\n",
       "      <th>std</th>\n",
       "      <td>1.261051e+06</td>\n",
       "      <td>0.056541</td>\n",
       "      <td>0.056382</td>\n",
       "      <td>0.014194</td>\n",
       "      <td>0.0</td>\n",
       "    </tr>\n",
       "    <tr>\n",
       "      <th>min</th>\n",
       "      <td>1.570187e+09</td>\n",
       "      <td>0.484564</td>\n",
       "      <td>0.497987</td>\n",
       "      <td>-0.140524</td>\n",
       "      <td>1.0</td>\n",
       "    </tr>\n",
       "    <tr>\n",
       "      <th>25%</th>\n",
       "      <td>1.571245e+09</td>\n",
       "      <td>0.627912</td>\n",
       "      <td>0.637381</td>\n",
       "      <td>-0.140196</td>\n",
       "      <td>1.0</td>\n",
       "    </tr>\n",
       "    <tr>\n",
       "      <th>50%</th>\n",
       "      <td>1.572307e+09</td>\n",
       "      <td>0.628307</td>\n",
       "      <td>0.637800</td>\n",
       "      <td>-0.112316</td>\n",
       "      <td>1.0</td>\n",
       "    </tr>\n",
       "    <tr>\n",
       "      <th>75%</th>\n",
       "      <td>1.573366e+09</td>\n",
       "      <td>0.646840</td>\n",
       "      <td>0.661892</td>\n",
       "      <td>-0.109660</td>\n",
       "      <td>1.0</td>\n",
       "    </tr>\n",
       "    <tr>\n",
       "      <th>max</th>\n",
       "      <td>1.574424e+09</td>\n",
       "      <td>0.647694</td>\n",
       "      <td>0.662754</td>\n",
       "      <td>-0.109065</td>\n",
       "      <td>1.0</td>\n",
       "    </tr>\n",
       "  </tbody>\n",
       "</table>\n",
       "</div>"
      ],
      "text/plain": [
       "         timestamps        rms     rms_dc         dc  utilization\n",
       "count  5.000000e+01  50.000000  50.000000  50.000000         50.0\n",
       "mean   1.572306e+09   0.611691   0.623692  -0.120874          1.0\n",
       "std    1.261051e+06   0.056541   0.056382   0.014194          0.0\n",
       "min    1.570187e+09   0.484564   0.497987  -0.140524          1.0\n",
       "25%    1.571245e+09   0.627912   0.637381  -0.140196          1.0\n",
       "50%    1.572307e+09   0.628307   0.637800  -0.112316          1.0\n",
       "75%    1.573366e+09   0.646840   0.661892  -0.109660          1.0\n",
       "max    1.574424e+09   0.647694   0.662754  -0.109065          1.0"
      ]
     },
     "execution_count": 25,
     "metadata": {},
     "output_type": "execute_result"
    }
   ],
   "source": [
    "rms_results_parsed.summary()\n"
   ]
  },
  {
   "cell_type": "markdown",
   "metadata": {
    "pycharm": {
     "name": "#%% md\n"
    }
   },
   "source": [
    "Finally, we can generate a plot that displays these results."
   ]
  },
  {
   "cell_type": "code",
   "execution_count": 26,
   "metadata": {
    "pycharm": {
     "name": "#%%\n"
    }
   },
   "outputs": [
    {
     "data": {
      "image/png": "[encoded data removed]",
      "text/plain": [
       "<Figure size 432x288 with 1 Axes>"
      ]
     },
     "metadata": {
      "needs_background": "light"
     },
     "output_type": "display_data"
    },
    {
     "data": {
      "text/plain": [
       "''"
      ]
     },
     "execution_count": 26,
     "metadata": {},
     "output_type": "execute_result"
    }
   ],
   "source": [
    "rms_results_parsed.plot()"
   ]
  },
  {
   "cell_type": "markdown",
   "metadata": {
    "pycharm": {
     "name": "#%% md\n"
    }
   },
   "source": [
    "All these functions are available for the ModeId feature as well.\n",
    "We proceed to repeat the same procedure for this other feature.\n",
    "\n",
    "We begin by parsing the results.\n",
    "In this particular case, we need to define the unit of time to perform the epoch conversion to datetime.\n",
    "The default unit is milliseconds, but we need seconds now.\n",
    "The timezone can also be defined, to increase the precision of these results."
   ]
  },
  {
   "cell_type": "code",
   "execution_count": 27,
   "metadata": {
    "pycharm": {
     "name": "#%%\n"
    }
   },
   "outputs": [],
   "source": [
    "mode_results_parsed = analysis_classes.parse_results(mode_results, t_unit=\"s\")\n"
   ]
  },
  {
   "cell_type": "markdown",
   "metadata": {
    "pycharm": {
     "name": "#%% md\n"
    }
   },
   "source": [
    "First, we generate the pandas dataframe of ModeId results."
   ]
  },
  {
   "cell_type": "code",
   "execution_count": 28,
   "metadata": {
    "pycharm": {
     "name": "#%%\n"
    }
   },
   "outputs": [
    {
     "data": {
      "text/html": [
       "<div>\n",
       "<style scoped>\n",
       "    .dataframe tbody tr th:only-of-type {\n",
       "        vertical-align: middle;\n",
       "    }\n",
       "\n",
       "    .dataframe tbody tr th {\n",
       "        vertical-align: top;\n",
       "    }\n",
       "\n",
       "    .dataframe thead th {\n",
       "        text-align: right;\n",
       "    }\n",
       "</style>\n",
       "<table border=\"1\" class=\"dataframe\">\n",
       "  <thead>\n",
       "    <tr style=\"text-align: right;\">\n",
       "      <th></th>\n",
       "      <th>timestamps</th>\n",
       "      <th>labels</th>\n",
       "      <th>uncertain</th>\n",
       "      <th>mode_probability</th>\n",
       "    </tr>\n",
       "  </thead>\n",
       "  <tbody>\n",
       "    <tr>\n",
       "      <th>0</th>\n",
       "      <td>1570186860</td>\n",
       "      <td>0</td>\n",
       "      <td>False</td>\n",
       "      <td>0.001262</td>\n",
       "    </tr>\n",
       "    <tr>\n",
       "      <th>1</th>\n",
       "      <td>1570273260</td>\n",
       "      <td>0</td>\n",
       "      <td>False</td>\n",
       "      <td>0.001833</td>\n",
       "    </tr>\n",
       "    <tr>\n",
       "      <th>2</th>\n",
       "      <td>1570359660</td>\n",
       "      <td>0</td>\n",
       "      <td>False</td>\n",
       "      <td>0.000154</td>\n",
       "    </tr>\n",
       "    <tr>\n",
       "      <th>3</th>\n",
       "      <td>1570446060</td>\n",
       "      <td>0</td>\n",
       "      <td>False</td>\n",
       "      <td>0.000546</td>\n",
       "    </tr>\n",
       "    <tr>\n",
       "      <th>4</th>\n",
       "      <td>1570532460</td>\n",
       "      <td>0</td>\n",
       "      <td>False</td>\n",
       "      <td>0.000025</td>\n",
       "    </tr>\n",
       "  </tbody>\n",
       "</table>\n",
       "</div>"
      ],
      "text/plain": [
       "   timestamps  labels  uncertain  mode_probability\n",
       "0  1570186860       0      False          0.001262\n",
       "1  1570273260       0      False          0.001833\n",
       "2  1570359660       0      False          0.000154\n",
       "3  1570446060       0      False          0.000546\n",
       "4  1570532460       0      False          0.000025"
      ]
     },
     "execution_count": 28,
     "metadata": {},
     "output_type": "execute_result"
    }
   ],
   "source": [
    "df_mode = mode_results_parsed.to_df()\n",
    "df_mode.head()"
   ]
  },
  {
   "cell_type": "markdown",
   "metadata": {},
   "source": [
    "From the results, we can see that the ModeId feature provides a mode label for each timestamp, together with a boolean\n",
    "describing the certainty around this mode label and its probability.\n",
    "\n",
    "\n",
    "We can also request to display a summary of the results."
   ]
  },
  {
   "cell_type": "code",
   "execution_count": 29,
   "metadata": {
    "pycharm": {
     "name": "#%%\n"
    }
   },
   "outputs": [
    {
     "name": "stdout",
     "output_type": "stream",
     "text": [
      "=== ModeId ===\n",
      "request_id fae66b2396b7dde3039a2f58e287686a\n",
      "from 1570186860 to 1574424060\n",
      "\n",
      "Labels\n",
      "+----------+----------+-----------+--------------------+\n",
      "|   labels |   counts |   portion |   mode_probability |\n",
      "|----------+----------+-----------+--------------------|\n",
      "|        0 |       17 |        34 |                 17 |\n",
      "|        1 |        8 |        16 |                  8 |\n",
      "|        2 |       25 |        50 |                 25 |\n",
      "+----------+----------+-----------+--------------------+\n",
      "\n",
      "Lables & uncertain labels\n",
      "+------------+-----------+--------------------+----------+\n",
      "|            |   portion |   mode_probability |   counts |\n",
      "|------------+-----------+--------------------+----------|\n",
      "| (0, False) |        34 |                 17 |       17 |\n",
      "| (1, False) |        16 |                  8 |        8 |\n",
      "| (2, False) |        50 |                 25 |       25 |\n",
      "+------------+-----------+--------------------+----------+\n",
      "\n",
      "Emerging Modes\n",
      "+----+---------+-----------------+-----------------+-------------------+\n",
      "|    |   modes |   emerging_time |   max_prob_time |   max_probability |\n",
      "|----+---------+-----------------+-----------------+-------------------|\n",
      "|  0 |       0 |     1.57019e+09 |     1.57114e+09 |        0.00727616 |\n",
      "|  1 |       1 |     1.57166e+09 |     1.57166e+09 |        0.0230245  |\n",
      "|  2 |       2 |     1.57235e+09 |     1.57442e+09 |        0.0109123  |\n",
      "+----+---------+-----------------+-----------------+-------------------+\n"
     ]
    },
    {
     "data": {
      "text/plain": [
       "[        counts  portion  mode_probability\n",
       " labels                                   \n",
       " 0           17     34.0              17.0\n",
       " 1            8     16.0               8.0\n",
       " 2           25     50.0              25.0,\n",
       "                   portion  mode_probability  counts\n",
       " labels uncertain                                   \n",
       " 0      False         34.0              17.0      17\n",
       " 1      False         16.0               8.0       8\n",
       " 2      False         50.0              25.0      25,\n",
       "    modes  emerging_time  max_prob_time  max_probability\n",
       " 0      0     1570186860     1571137260         0.007276\n",
       " 1      1     1571655660     1571655660         0.023025\n",
       " 2      2     1572350460     1574424060         0.010912]"
      ]
     },
     "execution_count": 29,
     "metadata": {},
     "output_type": "execute_result"
    }
   ],
   "source": [
    "mode_results_parsed.summary()"
   ]
  },
  {
   "cell_type": "markdown",
   "metadata": {},
   "source": [
    "The summary of the results describes the number of timestamps for each mode and how many of these timestamps are uncertain.\n",
    "Uncertain areas appear as a gray rectangle above the corresponding periods in the modes plot.\n",
    "\n",
    "In addition, it provides information on the emerging modes.\n",
    "Emerging modes describes the time (timestamp) each one of the modes first appeared.\n",
    "This information can be useful to identify if a new mode is affecting or appearing in the asset.\n",
    "\n",
    "Finally, we can generate a plot that displays display the different modes over time."
   ]
  },
  {
   "cell_type": "code",
   "execution_count": 30,
   "metadata": {
    "pycharm": {
     "name": "#%%\n"
    }
   },
   "outputs": [
    {
     "data": {
      "image/png": "[encoded data removed]",
      "text/plain": [
       "<Figure size 720x216 with 1 Axes>"
      ]
     },
     "metadata": {
      "needs_background": "light"
     },
     "output_type": "display_data"
    },
    {
     "data": {
      "text/plain": [
       "''"
      ]
     },
     "execution_count": 30,
     "metadata": {},
     "output_type": "execute_result"
    }
   ],
   "source": [
    "mode_results_parsed.plot()"
   ]
  },
  {
   "cell_type": "markdown",
   "metadata": {
    "pycharm": {
     "name": "#%% md\n"
    }
   },
   "source": [
    "Lastly, we can combine the information from the RMS and ModeId features to display a boxplot of the \"RMS\" for each one of the operating modes.\n",
    "\n",
    "First, we merge the \"RMS\" and \"ModeId\" dataframes."
   ]
  },
  {
   "cell_type": "code",
   "execution_count": 31,
   "metadata": {
    "pycharm": {
     "name": "#%%\n"
    }
   },
   "outputs": [
    {
     "data": {
      "text/html": [
       "<div>\n",
       "<style scoped>\n",
       "    .dataframe tbody tr th:only-of-type {\n",
       "        vertical-align: middle;\n",
       "    }\n",
       "\n",
       "    .dataframe tbody tr th {\n",
       "        vertical-align: top;\n",
       "    }\n",
       "\n",
       "    .dataframe thead th {\n",
       "        text-align: right;\n",
       "    }\n",
       "</style>\n",
       "<table border=\"1\" class=\"dataframe\">\n",
       "  <thead>\n",
       "    <tr style=\"text-align: right;\">\n",
       "      <th></th>\n",
       "      <th>timestamps</th>\n",
       "      <th>rms</th>\n",
       "      <th>rms_dc</th>\n",
       "      <th>dc</th>\n",
       "      <th>utilization</th>\n",
       "      <th>labels</th>\n",
       "      <th>uncertain</th>\n",
       "      <th>mode_probability</th>\n",
       "      <th>Date</th>\n",
       "    </tr>\n",
       "  </thead>\n",
       "  <tbody>\n",
       "    <tr>\n",
       "      <th>0</th>\n",
       "      <td>1570186860</td>\n",
       "      <td>0.647086</td>\n",
       "      <td>0.662108</td>\n",
       "      <td>-0.140237</td>\n",
       "      <td>1</td>\n",
       "      <td>0</td>\n",
       "      <td>False</td>\n",
       "      <td>0.001262</td>\n",
       "      <td>2019-10-04 11:01:00</td>\n",
       "    </tr>\n",
       "    <tr>\n",
       "      <th>1</th>\n",
       "      <td>1570273260</td>\n",
       "      <td>0.647123</td>\n",
       "      <td>0.662183</td>\n",
       "      <td>-0.140420</td>\n",
       "      <td>1</td>\n",
       "      <td>0</td>\n",
       "      <td>False</td>\n",
       "      <td>0.001833</td>\n",
       "      <td>2019-10-05 11:01:00</td>\n",
       "    </tr>\n",
       "    <tr>\n",
       "      <th>2</th>\n",
       "      <td>1570359660</td>\n",
       "      <td>0.646619</td>\n",
       "      <td>0.661652</td>\n",
       "      <td>-0.140239</td>\n",
       "      <td>1</td>\n",
       "      <td>0</td>\n",
       "      <td>False</td>\n",
       "      <td>0.000154</td>\n",
       "      <td>2019-10-06 11:01:00</td>\n",
       "    </tr>\n",
       "    <tr>\n",
       "      <th>3</th>\n",
       "      <td>1570446060</td>\n",
       "      <td>0.646873</td>\n",
       "      <td>0.661923</td>\n",
       "      <td>-0.140347</td>\n",
       "      <td>1</td>\n",
       "      <td>0</td>\n",
       "      <td>False</td>\n",
       "      <td>0.000546</td>\n",
       "      <td>2019-10-07 11:01:00</td>\n",
       "    </tr>\n",
       "    <tr>\n",
       "      <th>4</th>\n",
       "      <td>1570532460</td>\n",
       "      <td>0.646643</td>\n",
       "      <td>0.661714</td>\n",
       "      <td>-0.140423</td>\n",
       "      <td>1</td>\n",
       "      <td>0</td>\n",
       "      <td>False</td>\n",
       "      <td>0.000025</td>\n",
       "      <td>2019-10-08 11:01:00</td>\n",
       "    </tr>\n",
       "  </tbody>\n",
       "</table>\n",
       "</div>"
      ],
      "text/plain": [
       "   timestamps       rms    rms_dc        dc  utilization  labels  uncertain  \\\n",
       "0  1570186860  0.647086  0.662108 -0.140237            1       0      False   \n",
       "1  1570273260  0.647123  0.662183 -0.140420            1       0      False   \n",
       "2  1570359660  0.646619  0.661652 -0.140239            1       0      False   \n",
       "3  1570446060  0.646873  0.661923 -0.140347            1       0      False   \n",
       "4  1570532460  0.646643  0.661714 -0.140423            1       0      False   \n",
       "\n",
       "   mode_probability                Date  \n",
       "0          0.001262 2019-10-04 11:01:00  \n",
       "1          0.001833 2019-10-05 11:01:00  \n",
       "2          0.000154 2019-10-06 11:01:00  \n",
       "3          0.000546 2019-10-07 11:01:00  \n",
       "4          0.000025 2019-10-08 11:01:00  "
      ]
     },
     "execution_count": 31,
     "metadata": {},
     "output_type": "execute_result"
    }
   ],
   "source": [
    "df_u0001 =  pd.merge_asof(df_rms, df_mode, on=\"timestamps\")\n",
    "df_u0001.head()"
   ]
  },
  {
   "cell_type": "markdown",
   "metadata": {
    "pycharm": {
     "name": "#%% md\n"
    }
   },
   "source": [
    "The MVG library provides additional visualization functions that can help towards this goal.\n",
    "Thus, we import the visualization module"
   ]
  },
  {
   "cell_type": "code",
   "execution_count": 32,
   "metadata": {
    "ExecuteTime": {
     "end_time": "2021-03-18T10:22:17.670019Z",
     "start_time": "2021-03-18T10:22:17.530333Z"
    },
    "pycharm": {
     "name": "#%%\n"
    }
   },
   "outputs": [],
   "source": [
    "from mvg import plotting"
   ]
  },
  {
   "cell_type": "markdown",
   "metadata": {
    "pycharm": {
     "name": "#%% md\n"
    }
   },
   "source": [
    "Now, we can proceed to plot the boxplot."
   ]
  },
  {
   "cell_type": "code",
   "execution_count": 33,
   "metadata": {
    "ExecuteTime": {
     "end_time": "2021-03-18T10:22:17.902871Z",
     "start_time": "2021-03-18T10:22:17.815292Z"
    },
    "pycharm": {
     "name": "#%%\n"
    }
   },
   "outputs": [
    {
     "data": {
      "text/plain": [
       "<AxesSubplot:title={'center':'Boxplot for u0001'}, xlabel='Modes', ylabel='rms'>"
      ]
     },
     "execution_count": 33,
     "metadata": {},
     "output_type": "execute_result"
    },
    {
     "data": {
      "image/png": "[encoded data removed]",
      "text/plain": [
       "<Figure size 576x216 with 1 Axes>"
      ]
     },
     "metadata": {
      "needs_background": "light"
     },
     "output_type": "display_data"
    }
   ],
   "source": [
    "plotting.modes_boxplot(df_u0001, \"rms\", SOURCE_ID)"
   ]
  },
  {
   "cell_type": "markdown",
   "metadata": {},
   "source": [
    "Here we conclude our brief overview to begin using the MultiViz Analytics Engine (MVG) Library."
   ]
  }
 ],
 "metadata": {
  "kernelspec": {
   "display_name": "Python 3",
   "language": "python",
   "name": "python3"
  },
  "language_info": {
   "codemirror_mode": {
    "name": "ipython",
    "version": 3
   },
   "file_extension": ".py",
   "mimetype": "text/x-python",
   "name": "python",
   "nbconvert_exporter": "python",
   "pygments_lexer": "ipython3",
   "version": "3.8.10"
  },
  "toc": {
   "base_numbering": 1,
   "nav_menu": {},
   "number_sections": true,
   "sideBar": true,
   "skip_h1_title": false,
   "title_cell": "Table of Contents",
   "title_sidebar": "Contents",
   "toc_cell": false,
   "toc_position": {},
   "toc_section_display": true,
   "toc_window_display": true
  },
  "varInspector": {
   "cols": {
    "lenName": 16,
    "lenType": 16,
    "lenVar": 40
   },
   "kernels_config": {
    "python": {
     "delete_cmd_postfix": "",
     "delete_cmd_prefix": "del ",
     "library": "var_list.py",
     "varRefreshCmd": "print(var_dic_list())"
    },
    "r": {
     "delete_cmd_postfix": ") ",
     "delete_cmd_prefix": "rm(",
     "library": "var_list.r",
     "varRefreshCmd": "cat(var_dic_list()) "
    }
   },
   "types_to_exclude": [
    "module",
    "function",
    "builtin_function_or_method",
    "instance",
    "_Feature"
   ],
   "window_display": false
  }
 },
 "nbformat": 4,
 "nbformat_minor": 1
}

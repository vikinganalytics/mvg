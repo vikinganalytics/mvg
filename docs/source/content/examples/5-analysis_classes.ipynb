{
 "cells": [
  {
   "cell_type": "markdown",
   "id": "skilled-premium",
   "metadata": {},
   "source": [
    "# Analysis Classes - Unified Interface to Analysis Results\n",
    "\n",
    "MVG comes with a set of analysis classes which provide a unified interface to analysis results *irrespective of the specific feature*.\n",
    "Note that the analysis classes are helper classes, as such the mvg class does *not* depend on them.\n",
    "\n",
    "Except for step (1) requesting the specific feature analysis, the following generic workflow holds:\n",
    "\n",
    "1. Request a specific analysis\n",
    "2. Retrieve results and parse them into an analysis_class object\n",
    "3. Use generic methods like plot(), summary() or to_df()\n",
    "\n",
    "One application is to use the analysis classes interactively from a Python REPL session.\n",
    "\n",
    "### Or in (pseudo) code\n",
    "```python\n",
    "result = parse_results(session.get_analysis_results(request_id))  # call API to get results\n",
    "result.plot() # plot results\n",
    "result.summary() # print summary table\n",
    "df = result.to_df() # convert to DataFrame\n",
    "result.save_pkl() # save to pickle file\n",
    "```\n",
    "\n",
    "### Prerequisites\n",
    "For running the examples in this notebook:\n",
    "\n",
    "1. Installed mvg package\n",
    "2. A token for API access from Viking Analytics\n",
    "3. The database needs to be populated with our example assets. This can be achieved by running the [\"Sources and Measurement\"](2-sources_and_measurements.ipynb) example."
   ]
  },
  {
   "cell_type": "markdown",
   "id": "concerned-vienna",
   "metadata": {},
   "source": [
    "\n",
    "### Importing the required packages, classes and functions"
   ]
  },
  {
   "cell_type": "code",
   "execution_count": 1,
   "id": "disturbed-friendly",
   "metadata": {
    "ExecuteTime": {
     "end_time": "2021-03-18T10:00:28.735704Z",
     "start_time": "2021-03-18T10:00:28.513699Z"
    }
   },
   "outputs": [],
   "source": [
    "import os\n",
    "\n",
    "from mvg import MVG, analysis_classes  # mvg library with python bindings to mvg-API\n",
    "from mvg.analysis_classes import parse_results  # analysis classes"
   ]
  },
  {
   "cell_type": "markdown",
   "id": "accomplished-mechanics",
   "metadata": {
    "ExecuteTime": {
     "end_time": "2021-03-04T10:59:02.619313Z",
     "start_time": "2021-03-04T10:59:02.615934Z"
    }
   },
   "source": [
    "### Create a Session and test API access\n",
    "\n",
    ".. note:: Each token is used for Authorization AND Authentication. Thus, each unique token represents a unique user, each user has it own, unique database on the VA-MVG' service.\n",
    "\n",
    "**You need to insert your token received from Viking Analytics here:**\n",
    "Just replace `\"os.environ['TEST_TOKEN']\"` by your token as a string."
   ]
  },
  {
   "cell_type": "code",
   "execution_count": 2,
   "id": "honey-growing",
   "metadata": {
    "tags": [
     "parameters"
    ]
   },
   "outputs": [],
   "source": [
    "# Replace by your own Token\n",
    "TOKEN = os.environ[\"TEST_TOKEN\"] # use our own token\n",
    "ENDPOINT = \"https://api.beta.multiviz.com\""
   ]
  },
  {
   "cell_type": "code",
   "execution_count": 3,
   "id": "persistent-dublin",
   "metadata": {
    "ExecuteTime": {
     "end_time": "2021-03-18T10:00:29.472021Z",
     "start_time": "2021-03-18T10:00:29.469799Z"
    }
   },
   "outputs": [
    {
     "data": {
      "text/plain": "{'api_version': '0.3.2',\n 'mvg_highest_tested_version': '0.3.2',\n 'mvg_version': '0.12.2'}"
     },
     "execution_count": 3,
     "metadata": {},
     "output_type": "execute_result"
    }
   ],
   "source": [
    "session = MVG(ENDPOINT, TOKEN)\n",
    "session.check_version() # Check if API is accessible"
   ]
  },
  {
   "cell_type": "markdown",
   "id": "neural-anniversary",
   "metadata": {
    "pycharm": {
     "name": "#%% md\n"
    }
   },
   "source": [
    "## Request an analysis\n",
    "\n",
    "Once the API session is live, we start by checking if the source u0001 we will use is available in the database:"
   ]
  },
  {
   "cell_type": "code",
   "execution_count": 4,
   "id": "universal-trace",
   "metadata": {
    "ExecuteTime": {
     "end_time": "2021-03-18T10:00:32.804304Z",
     "start_time": "2021-03-18T10:00:32.800567Z"
    },
    "pycharm": {
     "name": "#%%\n"
    }
   },
   "outputs": [
    {
     "data": {
      "text/plain": "{'source_id': 'u0001',\n 'meta': {'assetId': 'assetA',\n  'measPoint': 'mloc01',\n  'location': 'paris',\n  'updated': 'YES! I have been updated'},\n 'properties': {'data_class': 'waveform', 'channels': ['acc']}}"
     },
     "execution_count": 4,
     "metadata": {},
     "output_type": "execute_result"
    }
   ],
   "source": [
    "SOURCE_ID = \"u0001\"\n",
    "session.get_source(SOURCE_ID)"
   ]
  },
  {
   "cell_type": "markdown",
   "id": "relative-niagara",
   "metadata": {
    "pycharm": {
     "name": "#%% md\n"
    }
   },
   "source": [
    "We will now request an analysis (first two lines, uncomment one of them) and wait for the results to become available. \n",
    "\n",
    "The results as returned will be stored in a dictionary named `raw_result`. The raw results are shown in the results cell, mainly to show that they are not optimized for readability or interpretation."
   ]
  },
  {
   "cell_type": "code",
   "execution_count": 5,
   "id": "accompanied-basement",
   "metadata": {
    "ExecuteTime": {
     "end_time": "2021-03-18T10:00:37.584243Z",
     "start_time": "2021-03-18T10:00:37.457555Z"
    },
    "pycharm": {
     "name": "#%%\n"
    }
   },
   "outputs": [
    {
     "name": "stdout",
     "output_type": "stream",
     "text": [
      "Waiting for {'request_id': '5b5b56f88631f4f37df5a6c970fe9662', 'request_status': 'queued'}\n"
     ]
    }
   ],
   "source": [
    "# Specifc part : Select one of two analysis here by un/commenting\n",
    "selected_feature = \"KPIDemo\"\n",
    "# selected_feature = \"ModeId\"\n",
    "\n",
    "# Generic Part: request analysis and wait for results\n",
    "analysis_request = session.request_analysis(SOURCE_ID, selected_feature)\n",
    "print(f\"Waiting for {analysis_request}\")\n",
    "session.wait_for_analyses([analysis_request[\"request_id\"]])\n",
    "\n",
    "# Generic Part: Retrieve unparsed results\n",
    "raw_result = session.get_analysis_results(analysis_request[\"request_id\"])\n"
   ]
  },
  {
   "cell_type": "markdown",
   "id": "suited-journal",
   "metadata": {
    "pycharm": {
     "name": "#%% md\n"
    }
   },
   "source": [
    "## Parse Results\n",
    "\n",
    "### Showing and Browsing the results using analysis_classes\n",
    "To make the results more accessible, we'll use the analysis_classes.\n",
    "The parse_results function will take the raw_results of (any) analysis and represent them in a python object with a number of convenience methods for summarising, plotting and exporting.\n",
    "For the full list of provided methods check __[the documentation](https://vikinganalytics.github.io/mvg/content/utilities_reference/analysis_classes.html)__.\n",
    "\n",
    "The parse function will automatically determine the kind (feature) of analysis based on the raw_results.\n",
    "Once the results are parsed, we can summarize them using the summary() method *irrespective of which analysis they stem from*.\n",
    "To verify this you can rerun the cell above by selecting another feature for the analysis.\n",
    "\n",
    "### Timestamps\n",
    "The Vibration API requires timestamps to be represented in EPOCH time.\n",
    "To display human interpertable timestamps, one needs a timezone and a time unit (specifying if the timestamps are seconds 's' or milliseconds 'ms' from EPOCH).\n",
    "This information can be given in the parse_results calls (2nd and 3rd argument).\n",
    "If they are left blank EPOCH times are kept.\n",
    "When exporting the results to a DataFrame, a column called \"datetime\" will be appended to show the human interpretable times."
   ]
  },
  {
   "cell_type": "code",
   "execution_count": 6,
   "id": "creative-elevation",
   "metadata": {
    "ExecuteTime": {
     "end_time": "2021-03-18T10:00:38.637859Z",
     "start_time": "2021-03-18T10:00:38.499851Z"
    },
    "pycharm": {
     "name": "#%%\n"
    },
    "scrolled": true
   },
   "outputs": [
    {
     "name": "stdout",
     "output_type": "stream",
     "text": [
      "=== KPIDemo ===\n",
      "request_id 5b5b56f88631f4f37df5a6c970fe9662\n",
      "from 20191004-13:01.00 to 20191122-13:01.00\n",
      "\n",
      "+-------+--------------+------------+------------+-----------------+----------------+--------------------+-------------------+--------------------+\n",
      "|       |   timestamps |    rms_acc |   peak_acc |   peak2peak_acc |   variance_acc |   crest_factor_acc |   utilization_acc |   dc_component_acc |\n",
      "|-------+--------------+------------+------------+-----------------+----------------+--------------------+-------------------+--------------------|\n",
      "| count | 50           | 50         |  50        |       50        |     50         |          50        |                50 |         50         |\n",
      "| mean  |  1.57231e+09 |  0.611691  |   2.81764  |        5.40059  |      0.377299  |           4.62976  |                 1 |         -0.120874  |\n",
      "| std   |  1.26105e+06 |  0.0565414 |   0.278079 |        0.378225 |      0.0636172 |           0.333367 |                 0 |          0.0141936 |\n",
      "| min   |  1.57019e+09 |  0.484564  |   2.26056  |        4.55438  |      0.234802  |           4.12339  |                 1 |         -0.140524  |\n",
      "| 25%   |  1.57125e+09 |  0.627912  |   2.68338  |        5.31364  |      0.394273  |           4.20402  |                 1 |         -0.140196  |\n",
      "| 50%   |  1.57231e+09 |  0.628307  |   2.84999  |        5.52634  |      0.39477   |           4.80641  |                 1 |         -0.112316  |\n",
      "| 75%   |  1.57337e+09 |  0.64684   |   3.06661  |        5.69377  |      0.418402  |           4.89065  |                 1 |         -0.10966   |\n",
      "| max   |  1.57442e+09 |  0.647694  |   3.13609  |        5.79639  |      0.419507  |           4.99256  |                 1 |         -0.109065  |\n",
      "+-------+--------------+------------+------------+-----------------+----------------+--------------------+-------------------+--------------------+\n"
     ]
    }
   ],
   "source": [
    "# Parse\n",
    "result = parse_results(raw_result, \"Europe/Stockholm\", \"s\")\n",
    "# result = parse_results(raw_result) # show only raw timestamps\n",
    "# Show summary\n",
    "summary = result.summary()"
   ]
  },
  {
   "cell_type": "markdown",
   "id": "global-prediction",
   "metadata": {},
   "source": [
    "## Use Generic Methods\n",
    "\n",
    "### Plotting\n",
    "For visual representation of the results, there is the 'plot' method.\n",
    "\n",
    "Please not that when plotting the results for the KPIDemo feature, one selects the KPI to be displayed by passing the parameter `\"kpi\"`.\n",
    "If this parameter is not included, the plot function will display the results of the first column after the timestamps, which is the RMS value of the first channel."
   ]
  },
  {
   "cell_type": "code",
   "execution_count": 7,
   "id": "joint-dryer",
   "metadata": {
    "ExecuteTime": {
     "end_time": "2021-03-18T10:00:43.435603Z",
     "start_time": "2021-03-18T10:00:43.172181Z"
    },
    "pycharm": {
     "name": "#%%\n"
    },
    "scrolled": true
   },
   "outputs": [
    {
     "data": {
      "text/plain": "<Figure size 432x288 with 1 Axes>",
      "image/png": "[encoded data removed]"
     },
     "metadata": {
      "needs_background": "light"
     },
     "output_type": "display_data"
    },
    {
     "data": {
      "text/plain": "''"
     },
     "execution_count": 7,
     "metadata": {},
     "output_type": "execute_result"
    }
   ],
   "source": [
    "result.plot()"
   ]
  },
  {
   "cell_type": "markdown",
   "id": "alone-array",
   "metadata": {
    "pycharm": {
     "name": "#%% md\n"
    }
   },
   "source": [
    "### Export results to DataFrame\n",
    "The to_df() method will export results to a DataFrame.\n",
    "Note that the format of the DataFrame depends on the specific analysis and that not all of the results can be represented as a data frame."
   ]
  },
  {
   "cell_type": "code",
   "execution_count": 8,
   "id": "improved-carroll",
   "metadata": {
    "ExecuteTime": {
     "end_time": "2021-03-18T10:00:44.400481Z",
     "start_time": "2021-03-18T10:00:44.261231Z"
    },
    "pycharm": {
     "name": "#%%\n"
    }
   },
   "outputs": [
    {
     "data": {
      "text/plain": "    timestamps   rms_acc  peak_acc  peak2peak_acc  variance_acc  \\\n0   1570186860  0.647086  2.686563       5.313293      0.418720   \n1   1570273260  0.647123  2.691750       5.367004      0.418769   \n2   1570359660  0.646619  2.715251       5.414856      0.418116   \n3   1570446060  0.646873  2.685147       5.351562      0.418445   \n4   1570532460  0.646643  2.726605       5.395325      0.418147   \n5   1570618860  0.646717  2.697001       5.310974      0.418243   \n6   1570705260  0.647093  2.711733       5.314697      0.418729   \n7   1570791660  0.647422  2.681256       5.325928      0.419155   \n8   1570878060  0.646890  2.667379       5.271362      0.418467   \n9   1570964460  0.647694  2.678755       5.379150      0.419507   \n10  1571050860  0.647081  2.722979       5.499878      0.418714   \n11  1571137260  0.647205  2.682736       5.299072      0.418874   \n12  1571223660  0.646743  2.682785       5.278564      0.418276   \n13  1571310060  0.647322  2.700798       5.424622      0.419026   \n14  1571396460  0.647434  2.721002       5.374634      0.419170   \n15  1571482860  0.647621  2.738182       5.366699      0.419413   \n16  1571569260  0.647111  2.692440       5.362610      0.418753   \n17  1571655660  0.484892  2.372010       4.607971      0.235120   \n18  1571742060  0.484841  2.273428       4.554382      0.235071   \n19  1571828460  0.484752  2.356562       4.664490      0.234984   \n20  1571914860  0.484564  2.367471       4.701599      0.234802   \n21  1572001260  0.485001  2.260560       4.652771      0.235226   \n22  1572087660  0.485013  2.301963       4.591980      0.235237   \n23  1572177660  0.485254  2.260858       4.618774      0.235472   \n24  1572264060  0.485157  2.336525       4.584412      0.235377   \n25  1572350460  0.627895  3.037107       5.601013      0.394252   \n26  1572436860  0.628139  3.069790       5.720886      0.394559   \n27  1572523260  0.628308  3.103501       5.754272      0.394771   \n28  1572609660  0.628020  3.032668       5.694519      0.394409   \n29  1572696060  0.628019  2.969318       5.649292      0.394408   \n30  1572782460  0.628283  3.029716       5.675476      0.394740   \n31  1572868860  0.628152  3.136087       5.711792      0.394575   \n32  1572955260  0.627966  3.123363       5.723633      0.394341   \n33  1573041660  0.627735  3.047385       5.654846      0.394052   \n34  1573128060  0.627870  3.134621       5.796387      0.394221   \n35  1573214460  0.628681  3.098128       5.695251      0.395239   \n36  1573300860  0.628127  3.069387       5.691528      0.394543   \n37  1573387260  0.628122  2.961798       5.575195      0.394537   \n38  1573473660  0.627780  3.072126       5.696533      0.394108   \n39  1573560060  0.627846  3.011650       5.716858      0.394191   \n40  1573646460  0.628536  2.978442       5.552795      0.395058   \n41  1573732860  0.628397  3.106778       5.705566      0.394883   \n42  1573819260  0.628307  3.093943       5.683105      0.394769   \n43  1573905660  0.628142  2.996528       5.589905      0.394563   \n44  1573992060  0.628540  3.012680       5.602417      0.395063   \n45  1574078460  0.628118  3.103921       5.717590      0.394532   \n46  1574164860  0.628429  3.058288       5.590271      0.394922   \n47  1574251260  0.628441  3.085465       5.767273      0.394938   \n48  1574337660  0.628601  3.049571       5.659180      0.395139   \n49  1574424060  0.627963  3.088068       5.777344      0.394337   \n\n    crest_factor_acc  utilization_acc  dc_component_acc  \\\n0           4.151786                1         -0.140237   \n1           4.159563                1         -0.140420   \n2           4.199152                1         -0.140239   \n3           4.150966                1         -0.140347   \n4           4.216556                1         -0.140423   \n5           4.170294                1         -0.140055   \n6           4.190640                1         -0.140505   \n7           4.141435                1         -0.140363   \n8           4.123387                1         -0.140524   \n9           4.169247                1         -0.140486   \n10          4.291424                1         -0.139850   \n11          4.145110                1         -0.140317   \n12          4.148148                1         -0.140365   \n13          4.207834                1         -0.140312   \n14          4.202750                1         -0.140069   \n15          4.228060                1         -0.140403   \n16          4.160706                1         -0.140071   \n17          4.891831                1         -0.114442   \n18          4.704542                1         -0.114736   \n19          4.861379                1         -0.114924   \n20          4.885779                1         -0.114846   \n21          4.932384                1         -0.114624   \n22          4.746192                1         -0.114586   \n23          4.859134                1         -0.114862   \n24          4.816021                1         -0.114540   \n25          4.836969                1         -0.109921   \n26          4.887119                1         -0.110074   \n27          4.939456                1         -0.109604   \n28          4.828938                1         -0.109878   \n29          4.728068                1         -0.109149   \n30          4.822214                1         -0.109794   \n31          4.992559                1         -0.109659   \n32          4.973780                1         -0.109508   \n33          4.854570                1         -0.110191   \n34          4.992468                1         -0.109597   \n35          4.927984                1         -0.109786   \n36          4.886571                1         -0.109670   \n37          4.715324                1         -0.110052   \n38          4.893636                1         -0.109663   \n39          4.796795                1         -0.109611   \n40          4.738696                1         -0.109851   \n41          4.943972                1         -0.109341   \n42          4.924257                1         -0.109263   \n43          4.770460                1         -0.109992   \n44          4.793137                1         -0.110092   \n45          4.941623                1         -0.109658   \n46          4.866564                1         -0.109374   \n47          4.909715                1         -0.109269   \n48          4.851366                1         -0.109081   \n49          4.917596                1         -0.109065   \n\n                    datetime  \n0  2019-10-04 13:01:00+02:00  \n1  2019-10-05 13:01:00+02:00  \n2  2019-10-06 13:01:00+02:00  \n3  2019-10-07 13:01:00+02:00  \n4  2019-10-08 13:01:00+02:00  \n5  2019-10-09 13:01:00+02:00  \n6  2019-10-10 13:01:00+02:00  \n7  2019-10-11 13:01:00+02:00  \n8  2019-10-12 13:01:00+02:00  \n9  2019-10-13 13:01:00+02:00  \n10 2019-10-14 13:01:00+02:00  \n11 2019-10-15 13:01:00+02:00  \n12 2019-10-16 13:01:00+02:00  \n13 2019-10-17 13:01:00+02:00  \n14 2019-10-18 13:01:00+02:00  \n15 2019-10-19 13:01:00+02:00  \n16 2019-10-20 13:01:00+02:00  \n17 2019-10-21 13:01:00+02:00  \n18 2019-10-22 13:01:00+02:00  \n19 2019-10-23 13:01:00+02:00  \n20 2019-10-24 13:01:00+02:00  \n21 2019-10-25 13:01:00+02:00  \n22 2019-10-26 13:01:00+02:00  \n23 2019-10-27 13:01:00+01:00  \n24 2019-10-28 13:01:00+01:00  \n25 2019-10-29 13:01:00+01:00  \n26 2019-10-30 13:01:00+01:00  \n27 2019-10-31 13:01:00+01:00  \n28 2019-11-01 13:01:00+01:00  \n29 2019-11-02 13:01:00+01:00  \n30 2019-11-03 13:01:00+01:00  \n31 2019-11-04 13:01:00+01:00  \n32 2019-11-05 13:01:00+01:00  \n33 2019-11-06 13:01:00+01:00  \n34 2019-11-07 13:01:00+01:00  \n35 2019-11-08 13:01:00+01:00  \n36 2019-11-09 13:01:00+01:00  \n37 2019-11-10 13:01:00+01:00  \n38 2019-11-11 13:01:00+01:00  \n39 2019-11-12 13:01:00+01:00  \n40 2019-11-13 13:01:00+01:00  \n41 2019-11-14 13:01:00+01:00  \n42 2019-11-15 13:01:00+01:00  \n43 2019-11-16 13:01:00+01:00  \n44 2019-11-17 13:01:00+01:00  \n45 2019-11-18 13:01:00+01:00  \n46 2019-11-19 13:01:00+01:00  \n47 2019-11-20 13:01:00+01:00  \n48 2019-11-21 13:01:00+01:00  \n49 2019-11-22 13:01:00+01:00  ",
      "text/html": "<div>\n<style scoped>\n    .dataframe tbody tr th:only-of-type {\n        vertical-align: middle;\n    }\n\n    .dataframe tbody tr th {\n        vertical-align: top;\n    }\n\n    .dataframe thead th {\n        text-align: right;\n    }\n</style>\n<table border=\"1\" class=\"dataframe\">\n  <thead>\n    <tr style=\"text-align: right;\">\n      <th></th>\n      <th>timestamps</th>\n      <th>rms_acc</th>\n      <th>peak_acc</th>\n      <th>peak2peak_acc</th>\n      <th>variance_acc</th>\n      <th>crest_factor_acc</th>\n      <th>utilization_acc</th>\n      <th>dc_component_acc</th>\n      <th>datetime</th>\n    </tr>\n  </thead>\n  <tbody>\n    <tr>\n      <th>0</th>\n      <td>1570186860</td>\n      <td>0.647086</td>\n      <td>2.686563</td>\n      <td>5.313293</td>\n      <td>0.418720</td>\n      <td>4.151786</td>\n      <td>1</td>\n      <td>-0.140237</td>\n      <td>2019-10-04 13:01:00+02:00</td>\n    </tr>\n    <tr>\n      <th>1</th>\n      <td>1570273260</td>\n      <td>0.647123</td>\n      <td>2.691750</td>\n      <td>5.367004</td>\n      <td>0.418769</td>\n      <td>4.159563</td>\n      <td>1</td>\n      <td>-0.140420</td>\n      <td>2019-10-05 13:01:00+02:00</td>\n    </tr>\n    <tr>\n      <th>2</th>\n      <td>1570359660</td>\n      <td>0.646619</td>\n      <td>2.715251</td>\n      <td>5.414856</td>\n      <td>0.418116</td>\n      <td>4.199152</td>\n      <td>1</td>\n      <td>-0.140239</td>\n      <td>2019-10-06 13:01:00+02:00</td>\n    </tr>\n    <tr>\n      <th>3</th>\n      <td>1570446060</td>\n      <td>0.646873</td>\n      <td>2.685147</td>\n      <td>5.351562</td>\n      <td>0.418445</td>\n      <td>4.150966</td>\n      <td>1</td>\n      <td>-0.140347</td>\n      <td>2019-10-07 13:01:00+02:00</td>\n    </tr>\n    <tr>\n      <th>4</th>\n      <td>1570532460</td>\n      <td>0.646643</td>\n      <td>2.726605</td>\n      <td>5.395325</td>\n      <td>0.418147</td>\n      <td>4.216556</td>\n      <td>1</td>\n      <td>-0.140423</td>\n      <td>2019-10-08 13:01:00+02:00</td>\n    </tr>\n    <tr>\n      <th>5</th>\n      <td>1570618860</td>\n      <td>0.646717</td>\n      <td>2.697001</td>\n      <td>5.310974</td>\n      <td>0.418243</td>\n      <td>4.170294</td>\n      <td>1</td>\n      <td>-0.140055</td>\n      <td>2019-10-09 13:01:00+02:00</td>\n    </tr>\n    <tr>\n      <th>6</th>\n      <td>1570705260</td>\n      <td>0.647093</td>\n      <td>2.711733</td>\n      <td>5.314697</td>\n      <td>0.418729</td>\n      <td>4.190640</td>\n      <td>1</td>\n      <td>-0.140505</td>\n      <td>2019-10-10 13:01:00+02:00</td>\n    </tr>\n    <tr>\n      <th>7</th>\n      <td>1570791660</td>\n      <td>0.647422</td>\n      <td>2.681256</td>\n      <td>5.325928</td>\n      <td>0.419155</td>\n      <td>4.141435</td>\n      <td>1</td>\n      <td>-0.140363</td>\n      <td>2019-10-11 13:01:00+02:00</td>\n    </tr>\n    <tr>\n      <th>8</th>\n      <td>1570878060</td>\n      <td>0.646890</td>\n      <td>2.667379</td>\n      <td>5.271362</td>\n      <td>0.418467</td>\n      <td>4.123387</td>\n      <td>1</td>\n      <td>-0.140524</td>\n      <td>2019-10-12 13:01:00+02:00</td>\n    </tr>\n    <tr>\n      <th>9</th>\n      <td>1570964460</td>\n      <td>0.647694</td>\n      <td>2.678755</td>\n      <td>5.379150</td>\n      <td>0.419507</td>\n      <td>4.169247</td>\n      <td>1</td>\n      <td>-0.140486</td>\n      <td>2019-10-13 13:01:00+02:00</td>\n    </tr>\n    <tr>\n      <th>10</th>\n      <td>1571050860</td>\n      <td>0.647081</td>\n      <td>2.722979</td>\n      <td>5.499878</td>\n      <td>0.418714</td>\n      <td>4.291424</td>\n      <td>1</td>\n      <td>-0.139850</td>\n      <td>2019-10-14 13:01:00+02:00</td>\n    </tr>\n    <tr>\n      <th>11</th>\n      <td>1571137260</td>\n      <td>0.647205</td>\n      <td>2.682736</td>\n      <td>5.299072</td>\n      <td>0.418874</td>\n      <td>4.145110</td>\n      <td>1</td>\n      <td>-0.140317</td>\n      <td>2019-10-15 13:01:00+02:00</td>\n    </tr>\n    <tr>\n      <th>12</th>\n      <td>1571223660</td>\n      <td>0.646743</td>\n      <td>2.682785</td>\n      <td>5.278564</td>\n      <td>0.418276</td>\n      <td>4.148148</td>\n      <td>1</td>\n      <td>-0.140365</td>\n      <td>2019-10-16 13:01:00+02:00</td>\n    </tr>\n    <tr>\n      <th>13</th>\n      <td>1571310060</td>\n      <td>0.647322</td>\n      <td>2.700798</td>\n      <td>5.424622</td>\n      <td>0.419026</td>\n      <td>4.207834</td>\n      <td>1</td>\n      <td>-0.140312</td>\n      <td>2019-10-17 13:01:00+02:00</td>\n    </tr>\n    <tr>\n      <th>14</th>\n      <td>1571396460</td>\n      <td>0.647434</td>\n      <td>2.721002</td>\n      <td>5.374634</td>\n      <td>0.419170</td>\n      <td>4.202750</td>\n      <td>1</td>\n      <td>-0.140069</td>\n      <td>2019-10-18 13:01:00+02:00</td>\n    </tr>\n    <tr>\n      <th>15</th>\n      <td>1571482860</td>\n      <td>0.647621</td>\n      <td>2.738182</td>\n      <td>5.366699</td>\n      <td>0.419413</td>\n      <td>4.228060</td>\n      <td>1</td>\n      <td>-0.140403</td>\n      <td>2019-10-19 13:01:00+02:00</td>\n    </tr>\n    <tr>\n      <th>16</th>\n      <td>1571569260</td>\n      <td>0.647111</td>\n      <td>2.692440</td>\n      <td>5.362610</td>\n      <td>0.418753</td>\n      <td>4.160706</td>\n      <td>1</td>\n      <td>-0.140071</td>\n      <td>2019-10-20 13:01:00+02:00</td>\n    </tr>\n    <tr>\n      <th>17</th>\n      <td>1571655660</td>\n      <td>0.484892</td>\n      <td>2.372010</td>\n      <td>4.607971</td>\n      <td>0.235120</td>\n      <td>4.891831</td>\n      <td>1</td>\n      <td>-0.114442</td>\n      <td>2019-10-21 13:01:00+02:00</td>\n    </tr>\n    <tr>\n      <th>18</th>\n      <td>1571742060</td>\n      <td>0.484841</td>\n      <td>2.273428</td>\n      <td>4.554382</td>\n      <td>0.235071</td>\n      <td>4.704542</td>\n      <td>1</td>\n      <td>-0.114736</td>\n      <td>2019-10-22 13:01:00+02:00</td>\n    </tr>\n    <tr>\n      <th>19</th>\n      <td>1571828460</td>\n      <td>0.484752</td>\n      <td>2.356562</td>\n      <td>4.664490</td>\n      <td>0.234984</td>\n      <td>4.861379</td>\n      <td>1</td>\n      <td>-0.114924</td>\n      <td>2019-10-23 13:01:00+02:00</td>\n    </tr>\n    <tr>\n      <th>20</th>\n      <td>1571914860</td>\n      <td>0.484564</td>\n      <td>2.367471</td>\n      <td>4.701599</td>\n      <td>0.234802</td>\n      <td>4.885779</td>\n      <td>1</td>\n      <td>-0.114846</td>\n      <td>2019-10-24 13:01:00+02:00</td>\n    </tr>\n    <tr>\n      <th>21</th>\n      <td>1572001260</td>\n      <td>0.485001</td>\n      <td>2.260560</td>\n      <td>4.652771</td>\n      <td>0.235226</td>\n      <td>4.932384</td>\n      <td>1</td>\n      <td>-0.114624</td>\n      <td>2019-10-25 13:01:00+02:00</td>\n    </tr>\n    <tr>\n      <th>22</th>\n      <td>1572087660</td>\n      <td>0.485013</td>\n      <td>2.301963</td>\n      <td>4.591980</td>\n      <td>0.235237</td>\n      <td>4.746192</td>\n      <td>1</td>\n      <td>-0.114586</td>\n      <td>2019-10-26 13:01:00+02:00</td>\n    </tr>\n    <tr>\n      <th>23</th>\n      <td>1572177660</td>\n      <td>0.485254</td>\n      <td>2.260858</td>\n      <td>4.618774</td>\n      <td>0.235472</td>\n      <td>4.859134</td>\n      <td>1</td>\n      <td>-0.114862</td>\n      <td>2019-10-27 13:01:00+01:00</td>\n    </tr>\n    <tr>\n      <th>24</th>\n      <td>1572264060</td>\n      <td>0.485157</td>\n      <td>2.336525</td>\n      <td>4.584412</td>\n      <td>0.235377</td>\n      <td>4.816021</td>\n      <td>1</td>\n      <td>-0.114540</td>\n      <td>2019-10-28 13:01:00+01:00</td>\n    </tr>\n    <tr>\n      <th>25</th>\n      <td>1572350460</td>\n      <td>0.627895</td>\n      <td>3.037107</td>\n      <td>5.601013</td>\n      <td>0.394252</td>\n      <td>4.836969</td>\n      <td>1</td>\n      <td>-0.109921</td>\n      <td>2019-10-29 13:01:00+01:00</td>\n    </tr>\n    <tr>\n      <th>26</th>\n      <td>1572436860</td>\n      <td>0.628139</td>\n      <td>3.069790</td>\n      <td>5.720886</td>\n      <td>0.394559</td>\n      <td>4.887119</td>\n      <td>1</td>\n      <td>-0.110074</td>\n      <td>2019-10-30 13:01:00+01:00</td>\n    </tr>\n    <tr>\n      <th>27</th>\n      <td>1572523260</td>\n      <td>0.628308</td>\n      <td>3.103501</td>\n      <td>5.754272</td>\n      <td>0.394771</td>\n      <td>4.939456</td>\n      <td>1</td>\n      <td>-0.109604</td>\n      <td>2019-10-31 13:01:00+01:00</td>\n    </tr>\n    <tr>\n      <th>28</th>\n      <td>1572609660</td>\n      <td>0.628020</td>\n      <td>3.032668</td>\n      <td>5.694519</td>\n      <td>0.394409</td>\n      <td>4.828938</td>\n      <td>1</td>\n      <td>-0.109878</td>\n      <td>2019-11-01 13:01:00+01:00</td>\n    </tr>\n    <tr>\n      <th>29</th>\n      <td>1572696060</td>\n      <td>0.628019</td>\n      <td>2.969318</td>\n      <td>5.649292</td>\n      <td>0.394408</td>\n      <td>4.728068</td>\n      <td>1</td>\n      <td>-0.109149</td>\n      <td>2019-11-02 13:01:00+01:00</td>\n    </tr>\n    <tr>\n      <th>30</th>\n      <td>1572782460</td>\n      <td>0.628283</td>\n      <td>3.029716</td>\n      <td>5.675476</td>\n      <td>0.394740</td>\n      <td>4.822214</td>\n      <td>1</td>\n      <td>-0.109794</td>\n      <td>2019-11-03 13:01:00+01:00</td>\n    </tr>\n    <tr>\n      <th>31</th>\n      <td>1572868860</td>\n      <td>0.628152</td>\n      <td>3.136087</td>\n      <td>5.711792</td>\n      <td>0.394575</td>\n      <td>4.992559</td>\n      <td>1</td>\n      <td>-0.109659</td>\n      <td>2019-11-04 13:01:00+01:00</td>\n    </tr>\n    <tr>\n      <th>32</th>\n      <td>1572955260</td>\n      <td>0.627966</td>\n      <td>3.123363</td>\n      <td>5.723633</td>\n      <td>0.394341</td>\n      <td>4.973780</td>\n      <td>1</td>\n      <td>-0.109508</td>\n      <td>2019-11-05 13:01:00+01:00</td>\n    </tr>\n    <tr>\n      <th>33</th>\n      <td>1573041660</td>\n      <td>0.627735</td>\n      <td>3.047385</td>\n      <td>5.654846</td>\n      <td>0.394052</td>\n      <td>4.854570</td>\n      <td>1</td>\n      <td>-0.110191</td>\n      <td>2019-11-06 13:01:00+01:00</td>\n    </tr>\n    <tr>\n      <th>34</th>\n      <td>1573128060</td>\n      <td>0.627870</td>\n      <td>3.134621</td>\n      <td>5.796387</td>\n      <td>0.394221</td>\n      <td>4.992468</td>\n      <td>1</td>\n      <td>-0.109597</td>\n      <td>2019-11-07 13:01:00+01:00</td>\n    </tr>\n    <tr>\n      <th>35</th>\n      <td>1573214460</td>\n      <td>0.628681</td>\n      <td>3.098128</td>\n      <td>5.695251</td>\n      <td>0.395239</td>\n      <td>4.927984</td>\n      <td>1</td>\n      <td>-0.109786</td>\n      <td>2019-11-08 13:01:00+01:00</td>\n    </tr>\n    <tr>\n      <th>36</th>\n      <td>1573300860</td>\n      <td>0.628127</td>\n      <td>3.069387</td>\n      <td>5.691528</td>\n      <td>0.394543</td>\n      <td>4.886571</td>\n      <td>1</td>\n      <td>-0.109670</td>\n      <td>2019-11-09 13:01:00+01:00</td>\n    </tr>\n    <tr>\n      <th>37</th>\n      <td>1573387260</td>\n      <td>0.628122</td>\n      <td>2.961798</td>\n      <td>5.575195</td>\n      <td>0.394537</td>\n      <td>4.715324</td>\n      <td>1</td>\n      <td>-0.110052</td>\n      <td>2019-11-10 13:01:00+01:00</td>\n    </tr>\n    <tr>\n      <th>38</th>\n      <td>1573473660</td>\n      <td>0.627780</td>\n      <td>3.072126</td>\n      <td>5.696533</td>\n      <td>0.394108</td>\n      <td>4.893636</td>\n      <td>1</td>\n      <td>-0.109663</td>\n      <td>2019-11-11 13:01:00+01:00</td>\n    </tr>\n    <tr>\n      <th>39</th>\n      <td>1573560060</td>\n      <td>0.627846</td>\n      <td>3.011650</td>\n      <td>5.716858</td>\n      <td>0.394191</td>\n      <td>4.796795</td>\n      <td>1</td>\n      <td>-0.109611</td>\n      <td>2019-11-12 13:01:00+01:00</td>\n    </tr>\n    <tr>\n      <th>40</th>\n      <td>1573646460</td>\n      <td>0.628536</td>\n      <td>2.978442</td>\n      <td>5.552795</td>\n      <td>0.395058</td>\n      <td>4.738696</td>\n      <td>1</td>\n      <td>-0.109851</td>\n      <td>2019-11-13 13:01:00+01:00</td>\n    </tr>\n    <tr>\n      <th>41</th>\n      <td>1573732860</td>\n      <td>0.628397</td>\n      <td>3.106778</td>\n      <td>5.705566</td>\n      <td>0.394883</td>\n      <td>4.943972</td>\n      <td>1</td>\n      <td>-0.109341</td>\n      <td>2019-11-14 13:01:00+01:00</td>\n    </tr>\n    <tr>\n      <th>42</th>\n      <td>1573819260</td>\n      <td>0.628307</td>\n      <td>3.093943</td>\n      <td>5.683105</td>\n      <td>0.394769</td>\n      <td>4.924257</td>\n      <td>1</td>\n      <td>-0.109263</td>\n      <td>2019-11-15 13:01:00+01:00</td>\n    </tr>\n    <tr>\n      <th>43</th>\n      <td>1573905660</td>\n      <td>0.628142</td>\n      <td>2.996528</td>\n      <td>5.589905</td>\n      <td>0.394563</td>\n      <td>4.770460</td>\n      <td>1</td>\n      <td>-0.109992</td>\n      <td>2019-11-16 13:01:00+01:00</td>\n    </tr>\n    <tr>\n      <th>44</th>\n      <td>1573992060</td>\n      <td>0.628540</td>\n      <td>3.012680</td>\n      <td>5.602417</td>\n      <td>0.395063</td>\n      <td>4.793137</td>\n      <td>1</td>\n      <td>-0.110092</td>\n      <td>2019-11-17 13:01:00+01:00</td>\n    </tr>\n    <tr>\n      <th>45</th>\n      <td>1574078460</td>\n      <td>0.628118</td>\n      <td>3.103921</td>\n      <td>5.717590</td>\n      <td>0.394532</td>\n      <td>4.941623</td>\n      <td>1</td>\n      <td>-0.109658</td>\n      <td>2019-11-18 13:01:00+01:00</td>\n    </tr>\n    <tr>\n      <th>46</th>\n      <td>1574164860</td>\n      <td>0.628429</td>\n      <td>3.058288</td>\n      <td>5.590271</td>\n      <td>0.394922</td>\n      <td>4.866564</td>\n      <td>1</td>\n      <td>-0.109374</td>\n      <td>2019-11-19 13:01:00+01:00</td>\n    </tr>\n    <tr>\n      <th>47</th>\n      <td>1574251260</td>\n      <td>0.628441</td>\n      <td>3.085465</td>\n      <td>5.767273</td>\n      <td>0.394938</td>\n      <td>4.909715</td>\n      <td>1</td>\n      <td>-0.109269</td>\n      <td>2019-11-20 13:01:00+01:00</td>\n    </tr>\n    <tr>\n      <th>48</th>\n      <td>1574337660</td>\n      <td>0.628601</td>\n      <td>3.049571</td>\n      <td>5.659180</td>\n      <td>0.395139</td>\n      <td>4.851366</td>\n      <td>1</td>\n      <td>-0.109081</td>\n      <td>2019-11-21 13:01:00+01:00</td>\n    </tr>\n    <tr>\n      <th>49</th>\n      <td>1574424060</td>\n      <td>0.627963</td>\n      <td>3.088068</td>\n      <td>5.777344</td>\n      <td>0.394337</td>\n      <td>4.917596</td>\n      <td>1</td>\n      <td>-0.109065</td>\n      <td>2019-11-22 13:01:00+01:00</td>\n    </tr>\n  </tbody>\n</table>\n</div>"
     },
     "execution_count": 8,
     "metadata": {},
     "output_type": "execute_result"
    }
   ],
   "source": [
    "result.to_df()"
   ]
  },
  {
   "cell_type": "markdown",
   "id": "accredited-council",
   "metadata": {
    "pycharm": {
     "name": "#%% md\n"
    }
   },
   "source": [
    "### Full results\n",
    "In case the full server results are needed in the raw form they were returned, we can obtain them with the results() method:"
   ]
  },
  {
   "cell_type": "code",
   "execution_count": 10,
   "id": "retained-halloween",
   "metadata": {
    "ExecuteTime": {
     "end_time": "2021-03-18T10:00:48.331542Z",
     "start_time": "2021-03-18T10:00:47.324848Z"
    },
    "pycharm": {
     "name": "#%%\n"
    }
   },
   "outputs": [],
   "source": [
    "result.results();"
   ]
  },
  {
   "cell_type": "markdown",
   "id": "rural-consistency",
   "metadata": {},
   "source": [
    "## Black Sheep Analysis example\n",
    "\n",
    "The BlackSheep is a population analysis and has a somewhat different call signature as it requires a number of assets to be submitted to analysis."
   ]
  },
  {
   "cell_type": "code",
   "execution_count": 11,
   "id": "structural-acting",
   "metadata": {
    "ExecuteTime": {
     "end_time": "2021-03-18T10:00:51.412234Z",
     "start_time": "2021-03-18T10:00:50.909661Z"
    },
    "pycharm": {
     "name": "#%%\n"
    }
   },
   "outputs": [
    {
     "name": "stdout",
     "output_type": "stream",
     "text": [
      "Waiting for {'request_id': '9895be09684f27257096bd9d517a9680', 'request_status': 'queued'}\n"
     ]
    }
   ],
   "source": [
    "# Specific signature for BlackSheep\n",
    "POPULATION_SOURCES = [\"u0001\",\"u0001\",\"u0001\",\"u0001\",\"u0001\",\"u0001\",\"u0001\",\"u0001\",\"u0001\",\"u0004\",\"u0002\",\"u0003\",\"u0001\"]\n",
    "analysis_request = session.request_population_analysis(POPULATION_SOURCES, \"BlackSheep\", parameters={\"atypical_threshold\": 0.15})\n",
    "\n",
    "# Generic part to request analysis, same as above\n",
    "print(f\"Waiting for {analysis_request}\")\n",
    "session.wait_for_analyses([analysis_request[\"request_id\"]])\n",
    "raw_result = session.get_analysis_results(analysis_request[\"request_id\"])"
   ]
  },
  {
   "cell_type": "markdown",
   "id": "stunning-device",
   "metadata": {
    "pycharm": {
     "name": "#%% md\n"
    }
   },
   "source": [
    "### Using the analysis classes\n",
    "We use exactly the same code as above to inspect the results:"
   ]
  },
  {
   "cell_type": "code",
   "execution_count": 12,
   "id": "departmental-letters",
   "metadata": {
    "ExecuteTime": {
     "end_time": "2021-03-18T10:00:53.012148Z",
     "start_time": "2021-03-18T10:00:52.486345Z"
    }
   },
   "outputs": [
    {
     "name": "stdout",
     "output_type": "stream",
     "text": [
      "=== BlackSheep ===\n",
      "request_id 9895be09684f27257096bd9d517a9680\n",
      "\n",
      "+----+----------+------------+\n",
      "|    | source   | atypical   |\n",
      "|----+----------+------------|\n",
      "|  0 | u0001    | True       |\n",
      "|  1 | u0001    | True       |\n",
      "|  2 | u0001    | True       |\n",
      "|  3 | u0001    | True       |\n",
      "|  4 | u0001    | True       |\n",
      "|  5 | u0001    | True       |\n",
      "|  6 | u0001    | True       |\n",
      "|  7 | u0001    | True       |\n",
      "|  8 | u0001    | True       |\n",
      "|  9 | u0004    | True       |\n",
      "| 10 | u0002    | True       |\n",
      "| 11 | u0003    | True       |\n",
      "| 12 | u0001    | True       |\n",
      "+----+----------+------------+\n",
      "\n",
      "+------------+-----+\n",
      "| atypical   |   N |\n",
      "|------------+-----|\n",
      "| True       |  13 |\n",
      "+------------+-----+\n"
     ]
    },
    {
     "data": {
      "text/plain": "<Figure size 432x288 with 1 Axes>",
      "image/png": "[encoded data removed]"
     },
     "metadata": {
      "needs_background": "light"
     },
     "output_type": "display_data"
    },
    {
     "data": {
      "text/plain": "''"
     },
     "execution_count": 12,
     "metadata": {},
     "output_type": "execute_result"
    }
   ],
   "source": [
    "# Parse\n",
    "blacksheep_result = analysis_classes.parse_results(raw_result, \"Europe/Stockholm\", \"s\")\n",
    "# Show summary\n",
    "blacksheep_result.summary()\n",
    "blacksheep_result.plot()"
   ]
  },
  {
   "cell_type": "markdown",
   "id": "convinced-louis",
   "metadata": {},
   "source": [
    "### Serializing\n",
    "Finally, we can save the object including the results to pickle.\n",
    "If no name is given it is saved under the name `\"<request_id>.pkl\"`."
   ]
  },
  {
   "cell_type": "code",
   "execution_count": 13,
   "id": "foster-disaster",
   "metadata": {
    "pycharm": {
     "name": "#%%\n"
    }
   },
   "outputs": [
    {
     "name": "stdout",
     "output_type": "stream",
     "text": [
      "Saving BlackSheep object to 9895be09684f27257096bd9d517a9680.pkl\n"
     ]
    },
    {
     "data": {
      "text/plain": "'9895be09684f27257096bd9d517a9680.pkl'"
     },
     "execution_count": 13,
     "metadata": {},
     "output_type": "execute_result"
    }
   ],
   "source": [
    "blacksheep_result.save_pkl()\n"
   ]
  }
 ],
 "metadata": {
  "celltoolbar": "Tags",
  "interpreter": {
   "hash": "3e082f03f9b308c2eff9c6e1d6622ba5a80b88607e08f1bd210e546296deb595"
  },
  "kernelspec": {
   "display_name": "Python 3",
   "language": "python",
   "name": "python3"
  },
  "language_info": {
   "codemirror_mode": {
    "name": "ipython",
    "version": 3
   },
   "file_extension": ".py",
   "mimetype": "text/x-python",
   "name": "python",
   "nbconvert_exporter": "python",
   "pygments_lexer": "ipython3",
   "version": "3.8.10"
  },
  "toc": {
   "base_numbering": 1,
   "nav_menu": {},
   "number_sections": true,
   "sideBar": true,
   "skip_h1_title": false,
   "title_cell": "Table of Contents",
   "title_sidebar": "Contents",
   "toc_cell": false,
   "toc_position": {},
   "toc_section_display": true,
   "toc_window_display": false
  },
  "varInspector": {
   "cols": {
    "lenName": 16,
    "lenType": 16,
    "lenVar": 40
   },
   "kernels_config": {
    "python": {
     "delete_cmd_postfix": "",
     "delete_cmd_prefix": "del ",
     "library": "var_list.py",
     "varRefreshCmd": "print(var_dic_list())"
    },
    "r": {
     "delete_cmd_postfix": ") ",
     "delete_cmd_prefix": "rm(",
     "library": "var_list.r",
     "varRefreshCmd": "cat(var_dic_list()) "
    }
   },
   "types_to_exclude": [
    "module",
    "function",
    "builtin_function_or_method",
    "instance",
    "_Feature"
   ],
   "window_display": false
  }
 },
 "nbformat": 4,
 "nbformat_minor": 5
}
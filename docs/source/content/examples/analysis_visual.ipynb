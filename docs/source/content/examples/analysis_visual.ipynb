{
 "cells": [
  {
   "cell_type": "markdown",
   "id": "touched-percentage",
   "metadata": {},
   "source": [
    "# Analysis and Results Visualization\n",
    "\n",
    "This script describes the procedure to request an analysis to the Viking Analytics Vibration service and how to query for the results of such analysis.\n",
    "In addition, it shows some examples of how to visualize the results available after for the mode identification feature.\n",
    "\n",
    "## Preliminaries\n",
    "\n",
    "This procedure describes all the steps to request an analysis, get analysis results and plot those results using the functions in mvg_viz.\n",
    "Local visualizations functions to create the figures are imported from mvg_viz. "
   ]
  },
  {
   "cell_type": "code",
   "execution_count": 1,
   "id": "diagnostic-vacation",
   "metadata": {
    "ExecuteTime": {
     "end_time": "2021-03-18T10:00:28.735704Z",
     "start_time": "2021-03-18T10:00:28.513699Z"
    },
    "pycharm": {
     "is_executing": false
    }
   },
   "outputs": [],
   "source": [
    "import pandas as pd\n",
    "import matplotlib.pyplot as plt\n",
    "from requests import HTTPError\n",
    "\n",
    "# import mvg library with python bindings to mvg-API\n",
    "from mvg import MVG, plotting"
   ]
  },
  {
   "cell_type": "markdown",
   "id": "interracial-reference",
   "metadata": {
    "ExecuteTime": {
     "end_time": "2021-03-04T10:59:02.619313Z",
     "start_time": "2021-03-04T10:59:02.615934Z"
    }
   },
   "source": [
    "Note that the `TOKEN` is used both for authorization and authentication. Thus, each unique token represents a unique user and each user has their own unique database on the VA vibration service.\n",
    "\n",
    "**You need to insert your token received from Viking Analytics here:**git"
   ]
  },
  {
   "cell_type": "code",
   "execution_count": 2,
   "id": "iraqi-sacrifice",
   "metadata": {
    "ExecuteTime": {
     "end_time": "2021-03-18T10:00:29.472021Z",
     "start_time": "2021-03-18T10:00:29.469799Z"
    },
    "pycharm": {
     "is_executing": false
    }
   },
   "outputs": [],
   "source": [
    "# Replace by your own Token\n",
    "VALID_TOKEN = \"Add token here\""
   ]
  },
  {
   "cell_type": "markdown",
   "id": "thrown-country",
   "metadata": {},
   "source": [
    "Instantiate a session object with mvg library a session object basically caches the endpoint and the token, to simplify the the calls to the mvg library."
   ]
  },
  {
   "cell_type": "code",
   "execution_count": 3,
   "id": "effective-upper",
   "metadata": {
    "ExecuteTime": {
     "end_time": "2021-03-18T10:00:30.395676Z",
     "start_time": "2021-03-18T10:00:30.214070Z"
    },
    "pycharm": {
     "is_executing": false
    }
   },
   "outputs": [],
   "source": [
    "ENDPOINT = \"https://api.beta.multiviz.com\"\n",
    "session = MVG(ENDPOINT, VALID_TOKEN)"
   ]
  },
  {
   "cell_type": "markdown",
   "id": "biological-custody",
   "metadata": {
    "pycharm": {
     "name": "#%% md\n"
    }
   },
   "source": [
    "## Analysis\n",
    "\n",
    "In this example, we will use the sources uploaded by the \"Sources and Measurement\" example.\n",
    "We start by seeing if the sources are available in the database.\n",
    "Two sources \"u0001\" and \"u0005\" should appear as available.\n",
    "\n",
    "NOTE: Include an hyperlink in the documentation to the [\"Sources and Measurement\"](sources_and_measurements.ipynb) example."
   ]
  },
  {
   "cell_type": "code",
   "execution_count": 4,
   "id": "dated-clarity",
   "metadata": {
    "ExecuteTime": {
     "end_time": "2021-03-18T10:00:31.750093Z",
     "start_time": "2021-03-18T10:00:31.329135Z"
    },
    "pycharm": {
     "is_executing": false,
     "name": "#%%\n"
    }
   },
   "outputs": [
    {
     "name": "stdout",
     "output_type": "stream",
     "text": [
      "Retrieved sources\n",
      "{'source_id': 'u0001', 'meta': {'assetId': 'assetA', 'measPoint': 'mloc01', 'location': 'paris', 'updated': 'YES! I have been updated'}}\n",
      "Source info retrieved for one source: {'source_id': 'u0001', 'meta': {'assetId': 'assetA', 'measPoint': 'mloc01', 'location': 'paris', 'updated': 'YES! I have been updated'}}\n",
      "{'source_id': 'u0005', 'meta': {'assetId': 'assetE', 'measPoint': 'mloc01', 'location': 'london'}}\n",
      "Source info retrieved for one source: {'source_id': 'u0005', 'meta': {'assetId': 'assetE', 'measPoint': 'mloc01', 'location': 'london'}}\n"
     ]
    }
   ],
   "source": [
    "sources = session.list_sources()\n",
    "\n",
    "print(\"Retrieved sources\")\n",
    "for src in sources:\n",
    "    print(src)\n",
    "    s_info = session.get_source(src['source_id'])\n",
    "    print(f\"Source info retrieved for one source: {s_info}\")"
   ]
  },
  {
   "cell_type": "markdown",
   "id": "revised-square",
   "metadata": {},
   "source": [
    "During our example, we will utilize the two sources previously uploaded to our database."
   ]
  },
  {
   "cell_type": "code",
   "execution_count": 5,
   "id": "thick-lithuania",
   "metadata": {
    "ExecuteTime": {
     "end_time": "2021-03-18T10:00:32.804304Z",
     "start_time": "2021-03-18T10:00:32.800567Z"
    },
    "pycharm": {
     "is_executing": false,
     "name": "#%%\n"
    }
   },
   "outputs": [
    {
     "data": {
      "text/plain": [
       "['u0001', 'u0005']"
      ]
     },
     "execution_count": 5,
     "metadata": {},
     "output_type": "execute_result"
    }
   ],
   "source": [
    "SOURCE_IDS = [\"u0001\", \"u0005\"]\n",
    "SOURCE_IDS"
   ]
  },
  {
   "cell_type": "markdown",
   "id": "automatic-somalia",
   "metadata": {
    "pycharm": {
     "name": "#%% md\n"
    }
   },
   "source": [
    "The Viking Analytics Vibration service has several features available.\n",
    "We list the available features along with the version of each of them in the following way:"
   ]
  },
  {
   "cell_type": "code",
   "execution_count": 6,
   "id": "reliable-judge",
   "metadata": {
    "ExecuteTime": {
     "end_time": "2021-03-18T10:00:36.152571Z",
     "start_time": "2021-03-18T10:00:35.990849Z"
    },
    "pycharm": {
     "is_executing": false,
     "name": "#%%\n"
    }
   },
   "outputs": [
    {
     "data": {
      "text/plain": [
       "{'RMS': '0.0.1', 'ModeId': '0.1.0'}"
      ]
     },
     "execution_count": 6,
     "metadata": {},
     "output_type": "execute_result"
    }
   ],
   "source": [
    "available_features = session.supported_features()\n",
    "available_features"
   ]
  },
  {
   "cell_type": "markdown",
   "id": "level-dealer",
   "metadata": {
    "pycharm": {
     "name": "#%% md\n"
    }
   },
   "source": [
    "Once the source and measurements had been uploaded in the database, we can request an analysis to the VA Vibration service.\n",
    "When we request an analysis, we need to say the source to be used in the analysis and the feature to be applied.\n",
    "\n",
    "The requested analysis will return a dictionary object with two elements.\n",
    "The first element is a `\"request_id\"` that can be used to retrieve the results after.\n",
    "The second element is `\"request_status\"` that provides the status right after placing the analysis request. \n",
    "\n",
    "Here, we will request the \"RMS\" feature from our source \"u0001\"."
   ]
  },
  {
   "cell_type": "code",
   "execution_count": 7,
   "id": "entitled-linux",
   "metadata": {
    "ExecuteTime": {
     "end_time": "2021-03-18T10:00:37.584243Z",
     "start_time": "2021-03-18T10:00:37.457555Z"
    },
    "pycharm": {
     "is_executing": false,
     "name": "#%%\n"
    }
   },
   "outputs": [
    {
     "data": {
      "text/plain": [
       "{'request_id': '5e7247f92736679567684a5f67ab328e', 'request_status': 'ongoing'}"
      ]
     },
     "execution_count": 7,
     "metadata": {},
     "output_type": "execute_result"
    }
   ],
   "source": [
    "SOURCE_ID = SOURCE_IDS[0]\n",
    "RMS_u0001 = session.request_analysis(SOURCE_ID, 'RMS')\n",
    "RMS_u0001 "
   ]
  },
  {
   "cell_type": "markdown",
   "id": "genuine-marine",
   "metadata": {
    "pycharm": {
     "name": "#%% md\n"
    }
   },
   "source": [
    "Now, we proceed to request the \"ModeId\" feature for the same source."
   ]
  },
  {
   "cell_type": "code",
   "execution_count": 8,
   "id": "communist-thesaurus",
   "metadata": {
    "ExecuteTime": {
     "end_time": "2021-03-18T10:00:38.637859Z",
     "start_time": "2021-03-18T10:00:38.499851Z"
    },
    "pycharm": {
     "is_executing": false,
     "name": "#%%\n"
    }
   },
   "outputs": [
    {
     "data": {
      "text/plain": [
       "{'request_id': '5fc9f92540d1547ae9558563ca62b4a9', 'request_status': 'queued'}"
      ]
     },
     "execution_count": 8,
     "metadata": {},
     "output_type": "execute_result"
    }
   ],
   "source": [
    "ModeId_u0001 = session.request_analysis(SOURCE_ID, 'ModeId')\n",
    "ModeId_u0001 "
   ]
  },
  {
   "cell_type": "markdown",
   "id": "confidential-domestic",
   "metadata": {
    "pycharm": {
     "name": "#%% md\n"
    }
   },
   "source": [
    "Before we are able to get the analysis results, we need to wait until those results are successfully completed.\n",
    "\n",
    "We can query for the status of our requested analysis.\n",
    "The possible status are:\n",
    "- Queued: The analysis has not started in the remote server and it is in the queue to begin.\n",
    "- Ongoing: The analysis is been processed at this time.\n",
    "- Failed: The analysis is complete and failed to produce a result.\n",
    "- Successful: The analysis is complete and it successfully produced a result."
   ]
  },
  {
   "cell_type": "code",
   "execution_count": 9,
   "id": "chemical-lecture",
   "metadata": {
    "ExecuteTime": {
     "end_time": "2021-03-18T10:00:43.435603Z",
     "start_time": "2021-03-18T10:00:43.172181Z"
    },
    "pycharm": {
     "is_executing": false,
     "name": "#%%\n"
    }
   },
   "outputs": [
    {
     "name": "stdout",
     "output_type": "stream",
     "text": [
      "RMS Analysis: successful\n",
      "ModeId Analysis: successful\n"
     ]
    }
   ],
   "source": [
    "REQUEST_IDS_u0001 = [RMS_u0001['request_id'], ModeId_u0001['request_id']]\n",
    "status = session.get_analysis_status(REQUEST_IDS_u0001[0])\n",
    "print(f\"RMS Analysis: {status}\")\n",
    "status = session.get_analysis_status(REQUEST_IDS_u0001[1])\n",
    "print(f\"ModeId Analysis: {status}\")"
   ]
  },
  {
   "cell_type": "markdown",
   "id": "cellular-pulse",
   "metadata": {
    "pycharm": {
     "name": "#%% md\n"
    }
   },
   "source": [
    "The similar procedure is repeated to request the \"RMS\" and \"ModeId\" for our second source \"u0005\"."
   ]
  },
  {
   "cell_type": "code",
   "execution_count": 10,
   "id": "indirect-massage",
   "metadata": {
    "ExecuteTime": {
     "end_time": "2021-03-18T10:00:44.400481Z",
     "start_time": "2021-03-18T10:00:44.261231Z"
    },
    "pycharm": {
     "is_executing": false,
     "name": "#%%\n"
    }
   },
   "outputs": [
    {
     "data": {
      "text/plain": [
       "{'request_id': '8c06b98ea9b008a8e45f7b3c2483e74c', 'request_status': 'ongoing'}"
      ]
     },
     "execution_count": 10,
     "metadata": {},
     "output_type": "execute_result"
    }
   ],
   "source": [
    "SOURCE_ID = SOURCE_IDS[1]\n",
    "RMS_u0005 = session.request_analysis(SOURCE_ID, 'RMS')\n",
    "RMS_u0005"
   ]
  },
  {
   "cell_type": "code",
   "execution_count": 11,
   "id": "acceptable-hometown",
   "metadata": {
    "ExecuteTime": {
     "end_time": "2021-03-18T10:00:44.815607Z",
     "start_time": "2021-03-18T10:00:44.676422Z"
    },
    "pycharm": {
     "is_executing": false,
     "name": "#%%\n"
    }
   },
   "outputs": [
    {
     "data": {
      "text/plain": [
       "{'request_id': '82c10d8d051f71cd3488e66565776c24', 'request_status': 'ongoing'}"
      ]
     },
     "execution_count": 11,
     "metadata": {},
     "output_type": "execute_result"
    }
   ],
   "source": [
    "SOURCE_ID = SOURCE_IDS[1]\n",
    "ModeId_u0005 = session.request_analysis(SOURCE_ID, 'ModeId')\n",
    "ModeId_u0005"
   ]
  },
  {
   "cell_type": "markdown",
   "id": "perceived-personal",
   "metadata": {
    "pycharm": {
     "name": "#%% md\n"
    }
   },
   "source": [
    "Also, we check the status of our analysis for source \"u0005\" to confirm they had been completed successfully."
   ]
  },
  {
   "cell_type": "code",
   "execution_count": 12,
   "id": "single-greene",
   "metadata": {
    "ExecuteTime": {
     "end_time": "2021-03-18T10:00:48.331542Z",
     "start_time": "2021-03-18T10:00:47.324848Z"
    },
    "pycharm": {
     "is_executing": false,
     "name": "#%%\n"
    }
   },
   "outputs": [
    {
     "name": "stdout",
     "output_type": "stream",
     "text": [
      "RMS Analysis: successful\n",
      "ModeId Analysis: ongoing\n"
     ]
    }
   ],
   "source": [
    "REQUEST_IDS_u0005 = [RMS_u0005['request_id'], ModeId_u0005['request_id']]\n",
    "status = session.get_analysis_status(REQUEST_IDS_u0005[0])\n",
    "print(f\"RMS Analysis: {status}\")\n",
    "status = session.get_analysis_status(REQUEST_IDS_u0005[1])\n",
    "print(f\"ModeId Analysis: {status}\")"
   ]
  },
  {
   "cell_type": "markdown",
   "id": "supposed-visit",
   "metadata": {},
   "source": [
    "## Visualization\n",
    "\n",
    "Once the analysis is complete, one get the results by calling the corresponding \"request_id\" for each analysis.\n",
    "\n",
    "First, let's check all existing \"request_id\" in the database for each source and feature."
   ]
  },
  {
   "cell_type": "code",
   "execution_count": 13,
   "id": "extended-thomson",
   "metadata": {
    "ExecuteTime": {
     "end_time": "2021-03-18T10:00:51.412234Z",
     "start_time": "2021-03-18T10:00:50.909661Z"
    },
    "pycharm": {
     "is_executing": false,
     "name": "#%%\n"
    }
   },
   "outputs": [
    {
     "name": "stdout",
     "output_type": "stream",
     "text": [
      "The RMS analysis of u0001 has request_id ['e4596c662ec5b1b14f4ef8dd6bb8cca1', '5e7247f92736679567684a5f67ab328e'].\n",
      "The RMS analysis of u0005 has request_id ['8c06b98ea9b008a8e45f7b3c2483e74c'].\n",
      "The ModeId analysis of u0001 has request_id ['5fc9f92540d1547ae9558563ca62b4a9', 'f24218d91686771fd12c13590df49fe5', '9c99a0fa8b26f8c6409fc4233f35b688', '8a6c8cb6973fd74330e6b973101702b6', '61ab854c386646e8c12a856858afaa53'].\n",
      "The ModeId analysis of u0005 has request_id ['82c10d8d051f71cd3488e66565776c24', '81d216689c53c4ea67127e90902e26d9', 'db98be46d2994c15ab3bdbbe38ae2536', '731cea8729f0f06816356066ec023294'].\n"
     ]
    }
   ],
   "source": [
    "REQUEST_IDS_RMS = [session.list_analyses(SOURCE_IDS[0], \"RMS\"), session.list_analyses(SOURCE_IDS[1], \"RMS\")]\n",
    "print(f\"The RMS analysis of {SOURCE_IDS[0]} has request_id {REQUEST_IDS_RMS[0]}.\")\n",
    "print(f\"The RMS analysis of {SOURCE_IDS[1]} has request_id {REQUEST_IDS_RMS[1]}.\")\n",
    "REQUEST_IDS_MODEID = [session.list_analyses(SOURCE_IDS[0], \"ModeId\"), session.list_analyses(SOURCE_IDS[1], \"ModeId\")]\n",
    "print(f\"The ModeId analysis of {SOURCE_IDS[0]} has request_id {REQUEST_IDS_MODEID[0]}.\")\n",
    "print(f\"The ModeId analysis of {SOURCE_IDS[1]} has request_id {REQUEST_IDS_MODEID[1]}.\")"
   ]
  },
  {
   "cell_type": "markdown",
   "id": "german-armor",
   "metadata": {
    "pycharm": {
     "name": "#%% md\n"
    }
   },
   "source": [
    "The following step is to retrieve the results by calling each one of the \"request_id\".\n",
    "\n",
    "The output of the `\"get_analysis_results\"` function is a dictionary and we show the keys of one those dictionaries.\n",
    "The keys are the same for all features."
   ]
  },
  {
   "cell_type": "code",
   "execution_count": 14,
   "id": "intellectual-slovakia",
   "metadata": {
    "ExecuteTime": {
     "end_time": "2021-03-18T10:00:53.012148Z",
     "start_time": "2021-03-18T10:00:52.486345Z"
    },
    "pycharm": {
     "is_executing": false
    }
   },
   "outputs": [
    {
     "data": {
      "text/plain": [
       "dict_keys(['status', 'results'])"
      ]
     },
     "execution_count": 14,
     "metadata": {},
     "output_type": "execute_result"
    }
   ],
   "source": [
    "rms_table1 = session.get_analysis_results(jobid=REQUEST_IDS_u0001[0])\n",
    "mode_table1 = session.get_analysis_results(jobid=REQUEST_IDS_u0001[1])\n",
    "rms_table5 = session.get_analysis_results(jobid=REQUEST_IDS_u0005[0])\n",
    "mode_table5 = session.get_analysis_results(jobid=REQUEST_IDS_u0005[1])\n",
    "\n",
    "rms_table1.keys()"
   ]
  },
  {
   "cell_type": "markdown",
   "id": "catholic-mount",
   "metadata": {},
   "source": [
    "Each dictionary contains two key elements.\n",
    "The first key `\"status\"` indicates if the analysis was succesful.\n",
    "The second key `\"results\"` includes the numeric results."
   ]
  },
  {
   "cell_type": "markdown",
   "id": "massive-texas",
   "metadata": {
    "pycharm": {
     "name": "#%% md\n"
    }
   },
   "source": [
    "The `\"results\"` of the \"RMS\" feature are two lists.\n",
    "One list corresponds to the timestamp of a measurement and the other list contains the rms value for the measurement.\n",
    "\n",
    "These lists can be converted into a dataframe for ease of manipulation.\n",
    "In addition, the \"timestamp\" column is converted to a timestamp object."
   ]
  },
  {
   "cell_type": "code",
   "execution_count": 15,
   "id": "herbal-middle",
   "metadata": {
    "ExecuteTime": {
     "end_time": "2021-03-18T10:00:55.411186Z",
     "start_time": "2021-03-18T10:00:55.402365Z"
    },
    "pycharm": {
     "is_executing": false,
     "name": "#%%\n"
    }
   },
   "outputs": [
    {
     "data": {
      "text/html": [
       "<div>\n",
       "<style scoped>\n",
       "    .dataframe tbody tr th:only-of-type {\n",
       "        vertical-align: middle;\n",
       "    }\n",
       "\n",
       "    .dataframe tbody tr th {\n",
       "        vertical-align: top;\n",
       "    }\n",
       "\n",
       "    .dataframe thead th {\n",
       "        text-align: right;\n",
       "    }\n",
       "</style>\n",
       "<table border=\"1\" class=\"dataframe\">\n",
       "  <thead>\n",
       "    <tr style=\"text-align: right;\">\n",
       "      <th></th>\n",
       "      <th>Timestamp</th>\n",
       "      <th>rms</th>\n",
       "    </tr>\n",
       "  </thead>\n",
       "  <tbody>\n",
       "    <tr>\n",
       "      <th>0</th>\n",
       "      <td>2019-10-05 11:01:00</td>\n",
       "      <td>0.662183</td>\n",
       "    </tr>\n",
       "    <tr>\n",
       "      <th>1</th>\n",
       "      <td>2019-10-06 11:01:00</td>\n",
       "      <td>0.661652</td>\n",
       "    </tr>\n",
       "    <tr>\n",
       "      <th>2</th>\n",
       "      <td>2019-10-07 11:01:00</td>\n",
       "      <td>0.661923</td>\n",
       "    </tr>\n",
       "    <tr>\n",
       "      <th>3</th>\n",
       "      <td>2019-10-08 11:01:00</td>\n",
       "      <td>0.661714</td>\n",
       "    </tr>\n",
       "    <tr>\n",
       "      <th>4</th>\n",
       "      <td>2019-10-09 11:01:00</td>\n",
       "      <td>0.661709</td>\n",
       "    </tr>\n",
       "  </tbody>\n",
       "</table>\n",
       "</div>"
      ],
      "text/plain": [
       "            Timestamp       rms\n",
       "0 2019-10-05 11:01:00  0.662183\n",
       "1 2019-10-06 11:01:00  0.661652\n",
       "2 2019-10-07 11:01:00  0.661923\n",
       "3 2019-10-08 11:01:00  0.661714\n",
       "4 2019-10-09 11:01:00  0.661709"
      ]
     },
     "execution_count": 15,
     "metadata": {},
     "output_type": "execute_result"
    }
   ],
   "source": [
    "df_rms1 = pd.DataFrame(rms_table1[\"results\"])\n",
    "df_rms1['Timestamp'] = pd.to_datetime(df_rms1['Timestamp'], format='%Y-%m-%d %H:%M:%S')\n",
    "df_rms1.head()"
   ]
  },
  {
   "cell_type": "markdown",
   "id": "overhead-income",
   "metadata": {
    "pycharm": {
     "name": "#%% md\n"
    }
   },
   "source": [
    "The `\"results\"` of the \"ModeId\" feature is a dictionary and two lists.\n",
    "The dictionary contains the timestamps, where an index value represents the key and the timestamp is the dictionary value.\n",
    "The first list corresponds to the mode label given to the timestamp.\n",
    "The second list is a boolean to indicate the uncertainty of label.\n",
    "\n",
    "We extract the timestamp values into a list, which will be later converted to a timestamp object.\n",
    "We pass all the lists to a dataframe for ease of manipulation. "
   ]
  },
  {
   "cell_type": "code",
   "execution_count": 16,
   "id": "boolean-water",
   "metadata": {
    "ExecuteTime": {
     "end_time": "2021-03-18T10:00:57.673176Z",
     "start_time": "2021-03-18T10:00:57.664766Z"
    },
    "pycharm": {
     "is_executing": false
    },
    "scrolled": true
   },
   "outputs": [
    {
     "data": {
      "text/html": [
       "<div>\n",
       "<style scoped>\n",
       "    .dataframe tbody tr th:only-of-type {\n",
       "        vertical-align: middle;\n",
       "    }\n",
       "\n",
       "    .dataframe tbody tr th {\n",
       "        vertical-align: top;\n",
       "    }\n",
       "\n",
       "    .dataframe thead th {\n",
       "        text-align: right;\n",
       "    }\n",
       "</style>\n",
       "<table border=\"1\" class=\"dataframe\">\n",
       "  <thead>\n",
       "    <tr style=\"text-align: right;\">\n",
       "      <th></th>\n",
       "      <th>timestamps</th>\n",
       "      <th>labels</th>\n",
       "      <th>uncertain</th>\n",
       "    </tr>\n",
       "  </thead>\n",
       "  <tbody>\n",
       "    <tr>\n",
       "      <th>0</th>\n",
       "      <td>2019-10-04 11:01:00</td>\n",
       "      <td>1</td>\n",
       "      <td>False</td>\n",
       "    </tr>\n",
       "    <tr>\n",
       "      <th>1</th>\n",
       "      <td>2019-10-05 11:01:00</td>\n",
       "      <td>1</td>\n",
       "      <td>False</td>\n",
       "    </tr>\n",
       "    <tr>\n",
       "      <th>2</th>\n",
       "      <td>2019-10-06 11:01:00</td>\n",
       "      <td>1</td>\n",
       "      <td>False</td>\n",
       "    </tr>\n",
       "    <tr>\n",
       "      <th>3</th>\n",
       "      <td>2019-10-07 11:01:00</td>\n",
       "      <td>1</td>\n",
       "      <td>False</td>\n",
       "    </tr>\n",
       "    <tr>\n",
       "      <th>4</th>\n",
       "      <td>2019-10-08 11:01:00</td>\n",
       "      <td>1</td>\n",
       "      <td>False</td>\n",
       "    </tr>\n",
       "  </tbody>\n",
       "</table>\n",
       "</div>"
      ],
      "text/plain": [
       "           timestamps  labels  uncertain\n",
       "0 2019-10-04 11:01:00       1      False\n",
       "1 2019-10-05 11:01:00       1      False\n",
       "2 2019-10-06 11:01:00       1      False\n",
       "3 2019-10-07 11:01:00       1      False\n",
       "4 2019-10-08 11:01:00       1      False"
      ]
     },
     "execution_count": 16,
     "metadata": {},
     "output_type": "execute_result"
    }
   ],
   "source": [
    "mode_results = mode_table1[\"results\"] \n",
    "column_heads = list(mode_results.keys())\n",
    "timestamp_list = list(mode_results['timestamps'].values())\n",
    "\n",
    "df_mode1 = pd.DataFrame({column_heads[0] : timestamp_list, column_heads[1] : mode_results['labels'], column_heads[2] : mode_results['uncertain']})\n",
    "df_mode1['timestamps'] = pd.to_datetime(df_mode1['timestamps'], format='%Y-%m-%d %H:%M:%S')\n",
    "\n",
    "df_mode1.head()"
   ]
  },
  {
   "cell_type": "markdown",
   "id": "specific-saint",
   "metadata": {
    "pycharm": {
     "name": "#%% md\n"
    }
   },
   "source": [
    "For the purpose of demonstration of our visualization functions, we will merge the dataframes of the \"RMS\" results and the \"ModeId\" results into a single dataframe."
   ]
  },
  {
   "cell_type": "code",
   "execution_count": 17,
   "id": "virtual-district",
   "metadata": {
    "ExecuteTime": {
     "end_time": "2021-03-18T10:00:58.990587Z",
     "start_time": "2021-03-18T10:00:58.980233Z"
    },
    "pycharm": {
     "is_executing": false,
     "name": "#%%\n"
    }
   },
   "outputs": [
    {
     "data": {
      "text/html": [
       "<div>\n",
       "<style scoped>\n",
       "    .dataframe tbody tr th:only-of-type {\n",
       "        vertical-align: middle;\n",
       "    }\n",
       "\n",
       "    .dataframe tbody tr th {\n",
       "        vertical-align: top;\n",
       "    }\n",
       "\n",
       "    .dataframe thead th {\n",
       "        text-align: right;\n",
       "    }\n",
       "</style>\n",
       "<table border=\"1\" class=\"dataframe\">\n",
       "  <thead>\n",
       "    <tr style=\"text-align: right;\">\n",
       "      <th></th>\n",
       "      <th>Timestamp</th>\n",
       "      <th>rms</th>\n",
       "      <th>timestamps</th>\n",
       "      <th>labels</th>\n",
       "      <th>uncertain</th>\n",
       "    </tr>\n",
       "  </thead>\n",
       "  <tbody>\n",
       "    <tr>\n",
       "      <th>0</th>\n",
       "      <td>2019-10-05 11:01:00</td>\n",
       "      <td>0.662183</td>\n",
       "      <td>2019-10-05 11:01:00</td>\n",
       "      <td>1</td>\n",
       "      <td>False</td>\n",
       "    </tr>\n",
       "    <tr>\n",
       "      <th>1</th>\n",
       "      <td>2019-10-06 11:01:00</td>\n",
       "      <td>0.661652</td>\n",
       "      <td>2019-10-06 11:01:00</td>\n",
       "      <td>1</td>\n",
       "      <td>False</td>\n",
       "    </tr>\n",
       "    <tr>\n",
       "      <th>2</th>\n",
       "      <td>2019-10-07 11:01:00</td>\n",
       "      <td>0.661923</td>\n",
       "      <td>2019-10-07 11:01:00</td>\n",
       "      <td>1</td>\n",
       "      <td>False</td>\n",
       "    </tr>\n",
       "    <tr>\n",
       "      <th>3</th>\n",
       "      <td>2019-10-08 11:01:00</td>\n",
       "      <td>0.661714</td>\n",
       "      <td>2019-10-08 11:01:00</td>\n",
       "      <td>1</td>\n",
       "      <td>False</td>\n",
       "    </tr>\n",
       "    <tr>\n",
       "      <th>4</th>\n",
       "      <td>2019-10-09 11:01:00</td>\n",
       "      <td>0.661709</td>\n",
       "      <td>2019-10-09 11:01:00</td>\n",
       "      <td>1</td>\n",
       "      <td>False</td>\n",
       "    </tr>\n",
       "  </tbody>\n",
       "</table>\n",
       "</div>"
      ],
      "text/plain": [
       "            Timestamp       rms          timestamps  labels  uncertain\n",
       "0 2019-10-05 11:01:00  0.662183 2019-10-05 11:01:00       1      False\n",
       "1 2019-10-06 11:01:00  0.661652 2019-10-06 11:01:00       1      False\n",
       "2 2019-10-07 11:01:00  0.661923 2019-10-07 11:01:00       1      False\n",
       "3 2019-10-08 11:01:00  0.661714 2019-10-08 11:01:00       1      False\n",
       "4 2019-10-09 11:01:00  0.661709 2019-10-09 11:01:00       1      False"
      ]
     },
     "execution_count": 17,
     "metadata": {},
     "output_type": "execute_result"
    }
   ],
   "source": [
    "df_u0001 =  pd.merge_asof(df_rms1, df_mode1, left_on=\"Timestamp\", right_on=\"timestamps\")\n",
    "df_u0001.head()"
   ]
  },
  {
   "cell_type": "markdown",
   "id": "female-scottish",
   "metadata": {
    "pycharm": {
     "name": "#%% md\n"
    }
   },
   "source": [
    "We repeat the same procedure of converting the results to dataframe for source \"u0005\"."
   ]
  },
  {
   "cell_type": "code",
   "execution_count": 18,
   "id": "pleasant-raise",
   "metadata": {
    "ExecuteTime": {
     "end_time": "2021-03-18T10:01:01.536419Z",
     "start_time": "2021-03-18T10:01:01.523935Z"
    },
    "pycharm": {
     "is_executing": false,
     "name": "#%%\n"
    }
   },
   "outputs": [
    {
     "data": {
      "text/html": [
       "<div>\n",
       "<style scoped>\n",
       "    .dataframe tbody tr th:only-of-type {\n",
       "        vertical-align: middle;\n",
       "    }\n",
       "\n",
       "    .dataframe tbody tr th {\n",
       "        vertical-align: top;\n",
       "    }\n",
       "\n",
       "    .dataframe thead th {\n",
       "        text-align: right;\n",
       "    }\n",
       "</style>\n",
       "<table border=\"1\" class=\"dataframe\">\n",
       "  <thead>\n",
       "    <tr style=\"text-align: right;\">\n",
       "      <th></th>\n",
       "      <th>Timestamp</th>\n",
       "      <th>rms</th>\n",
       "      <th>timestamps</th>\n",
       "      <th>labels</th>\n",
       "      <th>uncertain</th>\n",
       "    </tr>\n",
       "  </thead>\n",
       "  <tbody>\n",
       "    <tr>\n",
       "      <th>0</th>\n",
       "      <td>2019-10-04 11:01:00</td>\n",
       "      <td>0.661967</td>\n",
       "      <td>2019-10-04 11:01:00</td>\n",
       "      <td>0</td>\n",
       "      <td>False</td>\n",
       "    </tr>\n",
       "    <tr>\n",
       "      <th>1</th>\n",
       "      <td>2019-10-05 11:01:00</td>\n",
       "      <td>0.661950</td>\n",
       "      <td>2019-10-05 11:01:00</td>\n",
       "      <td>0</td>\n",
       "      <td>False</td>\n",
       "    </tr>\n",
       "    <tr>\n",
       "      <th>2</th>\n",
       "      <td>2019-10-06 11:01:00</td>\n",
       "      <td>0.661932</td>\n",
       "      <td>2019-10-06 11:01:00</td>\n",
       "      <td>0</td>\n",
       "      <td>False</td>\n",
       "    </tr>\n",
       "    <tr>\n",
       "      <th>3</th>\n",
       "      <td>2019-10-07 11:01:00</td>\n",
       "      <td>0.662385</td>\n",
       "      <td>2019-10-07 11:01:00</td>\n",
       "      <td>0</td>\n",
       "      <td>False</td>\n",
       "    </tr>\n",
       "    <tr>\n",
       "      <th>4</th>\n",
       "      <td>2019-10-08 11:01:00</td>\n",
       "      <td>0.662064</td>\n",
       "      <td>2019-10-08 11:01:00</td>\n",
       "      <td>0</td>\n",
       "      <td>False</td>\n",
       "    </tr>\n",
       "  </tbody>\n",
       "</table>\n",
       "</div>"
      ],
      "text/plain": [
       "            Timestamp       rms          timestamps  labels  uncertain\n",
       "0 2019-10-04 11:01:00  0.661967 2019-10-04 11:01:00       0      False\n",
       "1 2019-10-05 11:01:00  0.661950 2019-10-05 11:01:00       0      False\n",
       "2 2019-10-06 11:01:00  0.661932 2019-10-06 11:01:00       0      False\n",
       "3 2019-10-07 11:01:00  0.662385 2019-10-07 11:01:00       0      False\n",
       "4 2019-10-08 11:01:00  0.662064 2019-10-08 11:01:00       0      False"
      ]
     },
     "execution_count": 18,
     "metadata": {},
     "output_type": "execute_result"
    }
   ],
   "source": [
    "#RMS\n",
    "df_rms5 = pd.DataFrame(rms_table5[\"results\"])\n",
    "df_rms5['Timestamp'] = pd.to_datetime(df_rms5['Timestamp'], format='%Y-%m-%d %H:%M:%S')\n",
    "#MODE_ID\n",
    "mode_results = mode_table5[\"results\"] \n",
    "column_heads = list(mode_results.keys())\n",
    "timestamp_list = list(mode_results['timestamps'].values())\n",
    "df_mode5 = pd.DataFrame({column_heads[0] : timestamp_list, column_heads[1] : mode_results['labels'], column_heads[2] : mode_results['uncertain']})\n",
    "df_mode5['timestamps'] = pd.to_datetime(df_mode5['timestamps'], format='%Y-%m-%d %H:%M:%S')\n",
    "#Merging dataframes\n",
    "df_u0005 =  pd.merge_asof(df_rms5, df_mode5, left_on=\"Timestamp\", right_on=\"timestamps\")\n",
    "df_u0005.head()"
   ]
  },
  {
   "cell_type": "markdown",
   "id": "latter-county",
   "metadata": {},
   "source": [
    "We call the individual boxplot for one source and display the boxplot of the \"RMS\" for each one of the operating modes.\n",
    "Here, we use results for source \"u0001\"."
   ]
  },
  {
   "cell_type": "code",
   "execution_count": 19,
   "id": "small-andrews",
   "metadata": {
    "ExecuteTime": {
     "end_time": "2021-03-18T10:01:07.727375Z",
     "start_time": "2021-03-18T10:01:07.628927Z"
    },
    "pycharm": {
     "is_executing": false
    }
   },
   "outputs": [
    {
     "data": {
      "image/png": "[encoded data removed]",
      "text/plain": [
       "<Figure size 576x216 with 1 Axes>"
      ]
     },
     "metadata": {
      "needs_background": "light"
     },
     "output_type": "display_data"
    }
   ],
   "source": [
    "image_boxplot = plotting.modes_boxplot(df_u0001, \"rms\", SOURCE_IDS[0])"
   ]
  },
  {
   "cell_type": "markdown",
   "id": "strange-pakistan",
   "metadata": {},
   "source": [
    "We create a list with all the sources dataframes for the \"ModeId\" feature and display the \"RMS\" boxplot across the different modes."
   ]
  },
  {
   "cell_type": "code",
   "execution_count": 20,
   "id": "right-survival",
   "metadata": {
    "ExecuteTime": {
     "end_time": "2021-03-18T10:01:11.059225Z",
     "start_time": "2021-03-18T10:01:10.915230Z"
    },
    "pycharm": {
     "is_executing": false
    },
    "scrolled": true
   },
   "outputs": [
    {
     "data": {
      "image/png": "[encoded data removed]",
      "text/plain": [
       "<Figure size 432x432 with 2 Axes>"
      ]
     },
     "metadata": {
      "needs_background": "light"
     },
     "output_type": "display_data"
    }
   ],
   "source": [
    "plotting.modes_group_boxplot([df_u0001, df_u0005], \"rms\", SOURCE_IDS)"
   ]
  },
  {
   "cell_type": "markdown",
   "id": "forced-processing",
   "metadata": {},
   "source": [
    "We call the display over time of an individual source and identify all its operating modes."
   ]
  },
  {
   "cell_type": "code",
   "execution_count": 21,
   "id": "arranged-phone",
   "metadata": {
    "ExecuteTime": {
     "end_time": "2021-03-18T10:01:16.615916Z",
     "start_time": "2021-03-18T10:01:16.510745Z"
    },
    "pycharm": {
     "is_executing": false
    }
   },
   "outputs": [
    {
     "data": {
      "image/png": "[encoded data removed]",
      "text/plain": [
       "<Figure size 720x216 with 1 Axes>"
      ]
     },
     "metadata": {
      "needs_background": "light"
     },
     "output_type": "display_data"
    }
   ],
   "source": [
    "image_modes = plotting.modes_over_time(df_u0001, SOURCE_IDS[0])"
   ]
  },
  {
   "cell_type": "markdown",
   "id": "seventh-price",
   "metadata": {},
   "source": [
    "We create a list with all the sources dataframes and display the modes over time for all."
   ]
  },
  {
   "cell_type": "code",
   "execution_count": 22,
   "id": "emotional-thanksgiving",
   "metadata": {
    "ExecuteTime": {
     "end_time": "2021-03-18T10:01:17.917436Z",
     "start_time": "2021-03-18T10:01:17.618543Z"
    },
    "pycharm": {
     "is_executing": false
    }
   },
   "outputs": [
    {
     "data": {
      "image/png": "[encoded data removed]",
      "text/plain": [
       "<Figure size 648x432 with 2 Axes>"
      ]
     },
     "metadata": {
      "needs_background": "light"
     },
     "output_type": "display_data"
    }
   ],
   "source": [
    "plotting.modes_over_time_group([df_u0001, df_u0005], SOURCE_IDS)"
   ]
  }
 ],
 "metadata": {
  "kernelspec": {
   "display_name": "Python 3",
   "language": "python",
   "name": "python3"
  },
  "language_info": {
   "codemirror_mode": {
    "name": "ipython",
    "version": 3
   },
   "file_extension": ".py",
   "mimetype": "text/x-python",
   "name": "python",
   "nbconvert_exporter": "python",
   "pygments_lexer": "ipython3",
   "version": "3.8.5"
  },
  "pycharm": {
   "stem_cell": {
    "cell_type": "raw",
    "metadata": {
     "collapsed": false
    },
    "source": []
   }
  },
  "toc": {
   "base_numbering": 1,
   "nav_menu": {},
   "number_sections": true,
   "sideBar": true,
   "skip_h1_title": false,
   "title_cell": "Table of Contents",
   "title_sidebar": "Contents",
   "toc_cell": false,
   "toc_position": {},
   "toc_section_display": true,
   "toc_window_display": false
  },
  "varInspector": {
   "cols": {
    "lenName": 16,
    "lenType": 16,
    "lenVar": 40
   },
   "kernels_config": {
    "python": {
     "delete_cmd_postfix": "",
     "delete_cmd_prefix": "del ",
     "library": "var_list.py",
     "varRefreshCmd": "print(var_dic_list())"
    },
    "r": {
     "delete_cmd_postfix": ") ",
     "delete_cmd_prefix": "rm(",
     "library": "var_list.r",
     "varRefreshCmd": "cat(var_dic_list()) "
    }
   },
   "types_to_exclude": [
    "module",
    "function",
    "builtin_function_or_method",
    "instance",
    "_Feature"
   ],
   "window_display": false
  }
 },
 "nbformat": 4,
 "nbformat_minor": 5
}

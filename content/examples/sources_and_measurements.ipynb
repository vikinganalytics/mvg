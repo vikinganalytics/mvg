{
 "cells": [
  {
   "cell_type": "markdown",
   "id": "knowing-literacy",
   "metadata": {},
   "source": [
    "# Sources and Measurements Example\n",
    "\n",
    "This example shows how to upload measurements from an external repository into the MultiViz Analytics Engine (MVG) service and how to read this data."
   ]
  },
  {
   "cell_type": "code",
   "execution_count": 1,
   "id": "front-height",
   "metadata": {
    "ExecuteTime": {
     "end_time": "2021-03-18T09:54:16.678492Z",
     "start_time": "2021-03-18T09:54:16.487989Z"
    }
   },
   "outputs": [],
   "source": [
    "import json\n",
    "import os\n",
    "import sys\n",
    "import logging\n",
    "from pathlib import Path\n",
    "\n",
    "import pandas as pd\n",
    "import requests\n",
    "from requests import HTTPError\n",
    "\n",
    "# import mvg library with python bindings to mvg-API\n",
    "from mvg import MVG"
   ]
  },
  {
   "cell_type": "markdown",
   "id": "subsequent-guinea",
   "metadata": {
    "ExecuteTime": {
     "end_time": "2021-03-04T14:04:45.710183Z",
     "start_time": "2021-03-04T14:04:45.705726Z"
    }
   },
   "source": [
    "Note that the `TOKEN` is used both for authorization and authentication.\n",
    "Thus, each unique token represents a unique user and each user has their own unique database on the VA service.\n",
    "\n",
    "**You need to insert your token received from Viking Analytics here:**"
   ]
  },
  {
   "cell_type": "code",
   "execution_count": 2,
   "id": "national-gallery",
   "metadata": {
    "ExecuteTime": {
     "end_time": "2021-03-18T09:54:16.681622Z",
     "start_time": "2021-03-18T09:54:16.679684Z"
    }
   },
   "outputs": [],
   "source": [
    "# Replace by your own Token\n",
    "VALID_TOKEN = os.environ['TEST_TOKEN']"
   ]
  },
  {
   "cell_type": "markdown",
   "id": "illegal-great",
   "metadata": {},
   "source": [
    "This is Viking Analytics default logging setup which can be adapted to suit your needs.\n",
    "Log messages are printed from `mvg` library, see the source code for details."
   ]
  },
  {
   "cell_type": "code",
   "execution_count": 3,
   "id": "meaning-backing",
   "metadata": {
    "ExecuteTime": {
     "end_time": "2021-03-18T09:54:16.688245Z",
     "start_time": "2021-03-18T09:54:16.683121Z"
    }
   },
   "outputs": [],
   "source": [
    "root_logger = logging.getLogger()\n",
    "root_logger.setLevel(\"INFO\")\n",
    "formatter = logging.Formatter(\"%(asctime)s - %(levelname)s - %(name)s - %(message)s\")\n",
    "stream_handler = logging.StreamHandler(stream=sys.stderr)\n",
    "stream_handler.setFormatter(formatter)\n",
    "root_logger.addHandler(stream_handler)"
   ]
  },
  {
   "cell_type": "markdown",
   "id": "awful-graduation",
   "metadata": {},
   "source": [
    "## Downloading the Data\n",
    "\n",
    "We pick the data from one source from our public charlie repo https://github.com/vikinganalytics/va-data-charlie.git for convenience.\n",
    "Clone that repository to get access to the data."
   ]
  },
  {
   "cell_type": "code",
   "execution_count": 4,
   "id": "cubic-infection",
   "metadata": {
    "ExecuteTime": {
     "end_time": "2021-03-18T09:54:16.800754Z",
     "start_time": "2021-03-18T09:54:16.689464Z"
    }
   },
   "outputs": [
    {
     "name": "stdout",
     "output_type": "stream",
     "text": [
      "fatal: destination path 'va-data-charlie' already exists and is not an empty directory.\r\n"
     ]
    }
   ],
   "source": [
    "!git clone https://github.com/vikinganalytics/va-data-charlie.git"
   ]
  },
  {
   "cell_type": "markdown",
   "id": "ordered-experience",
   "metadata": {},
   "source": [
    "We are going to use six of the sources from the charlie dataset with IDs `u0001` to `u0006`."
   ]
  },
  {
   "cell_type": "code",
   "execution_count": 5,
   "id": "occupational-paradise",
   "metadata": {
    "ExecuteTime": {
     "end_time": "2021-03-18T09:54:16.804606Z",
     "start_time": "2021-03-18T09:54:16.802048Z"
    }
   },
   "outputs": [],
   "source": [
    "REF_DB_PATH = Path.cwd() / \"va-data-charlie\" / \"charlieDb\" / \"acc\"\n",
    "SOURCE_IDS = [\"u0001\", \"u0002\", \"u0003\", \"u0004\", \"u0005\", \"u0006\"]"
   ]
  },
  {
   "cell_type": "markdown",
   "id": "governmental-biodiversity",
   "metadata": {},
   "source": [
    "## Connect to the API\n",
    "\n",
    "Instantiate a session object with mvg library a session object basically caches the endpoint and the token,\n",
    "to simplify the calls to the MVG library."
   ]
  },
  {
   "cell_type": "code",
   "execution_count": 6,
   "id": "gross-tribune",
   "metadata": {
    "ExecuteTime": {
     "end_time": "2021-03-18T09:54:16.957584Z",
     "start_time": "2021-03-18T09:54:16.805695Z"
    }
   },
   "outputs": [],
   "source": [
    "ENDPOINT = \"https://api.beta.multiviz.com\"\n",
    "session = MVG(ENDPOINT, VALID_TOKEN)"
   ]
  },
  {
   "cell_type": "markdown",
   "id": "vulnerable-costume",
   "metadata": {},
   "source": [
    "We now check if the server is alive. The hello message contains, amongst others the API version."
   ]
  },
  {
   "cell_type": "code",
   "execution_count": 7,
   "id": "pressing-product",
   "metadata": {
    "ExecuteTime": {
     "end_time": "2021-03-18T09:54:17.111625Z",
     "start_time": "2021-03-18T09:54:16.958633Z"
    }
   },
   "outputs": [
    {
     "name": "stderr",
     "output_type": "stream",
     "text": [
      "2021-09-22 20:11:08,132 - INFO - mvg.mvg - Getting API info for: https://api.beta.multiviz.com\n"
     ]
    },
    {
     "name": "stdout",
     "output_type": "stream",
     "text": [
      "{\"api\": {\"name\": \"MultiViz Engine API\", \"version\": \"v0.2.0\", \"swagger\": \"http://api.beta.multiviz.com/docs\"}}\n"
     ]
    }
   ],
   "source": [
    "hello_message = json.dumps(session.say_hello())\n",
    "print(hello_message)"
   ]
  },
  {
   "cell_type": "markdown",
   "id": "assumed-radical",
   "metadata": {},
   "source": [
    "## Check Database\n",
    "\n",
    "We start by seeing if there are any sources in the database.\n",
    "A source represents a measurement source e.g. one specific channel of a measurement sensor.\n",
    "Note that sources cannot be used to represent a sensor with several channels.\n",
    "If this is required, the client side needs to take care of it.\n",
    "\n",
    "Because we want to start at a clean slate we will list all sources (potentially none) and delete all of them"
   ]
  },
  {
   "cell_type": "code",
   "execution_count": 8,
   "id": "timely-template",
   "metadata": {
    "ExecuteTime": {
     "end_time": "2021-03-18T09:54:17.247583Z",
     "start_time": "2021-03-18T09:54:17.113206Z"
    }
   },
   "outputs": [
    {
     "name": "stderr",
     "output_type": "stream",
     "text": [
      "2021-09-22 20:11:08,315 - INFO - mvg.mvg - endpoint https://api.beta.multiviz.com\n",
      "2021-09-22 20:11:08,318 - INFO - mvg.mvg - listing sources\n",
      "2021-09-22 20:11:08,490 - INFO - mvg.mvg - endpoint https://api.beta.multiviz.com\n",
      "2021-09-22 20:11:08,491 - INFO - mvg.mvg - retrieving source with source id=u0001\n"
     ]
    },
    {
     "name": "stdout",
     "output_type": "stream",
     "text": [
      "Retrieved sources\n",
      "{'source_id': 'u0001', 'meta': {'assetId': 'assetA', 'measPoint': 'mloc01', 'location': 'paris', 'updated': 'YES! I have been updated'}, 'properties': {'data_class': 'waveform', 'channels': ['acc']}}\n",
      "Source info retrieved for one source: {'source_id': 'u0001', 'meta': {'assetId': 'assetA', 'measPoint': 'mloc01', 'location': 'paris', 'updated': 'YES! I have been updated'}, 'properties': {'data_class': 'waveform', 'channels': ['acc']}}\n"
     ]
    }
   ],
   "source": [
    "sources = session.list_sources()\n",
    "\n",
    "print(\"Retrieved sources\")\n",
    "for src in sources:\n",
    "    print(src)\n",
    "    # While the list returned contains all information\n",
    "    # about all known sources, it is also possible\n",
    "    # to query for a single source by its id\n",
    "    s_info = session.get_source(src['source_id'])\n",
    "    print(f\"Source info retrieved for one source: {s_info}\")"
   ]
  },
  {
   "cell_type": "markdown",
   "id": "capital-aviation",
   "metadata": {},
   "source": [
    "The example below revolves around a source with source id u0001"
   ]
  },
  {
   "cell_type": "code",
   "execution_count": 9,
   "id": "preceding-utilization",
   "metadata": {
    "ExecuteTime": {
     "end_time": "2021-03-18T09:54:17.250783Z",
     "start_time": "2021-03-18T09:54:17.248845Z"
    }
   },
   "outputs": [],
   "source": [
    "SOURCE_ID = SOURCE_IDS[0]"
   ]
  },
  {
   "cell_type": "markdown",
   "id": "informative-creature",
   "metadata": {},
   "source": [
    "To make sure we start from a clean slate we delete our resource in case it exists."
   ]
  },
  {
   "cell_type": "code",
   "execution_count": 10,
   "id": "sorted-nothing",
   "metadata": {
    "ExecuteTime": {
     "end_time": "2021-03-18T09:54:17.408675Z",
     "start_time": "2021-03-18T09:54:17.252056Z"
    }
   },
   "outputs": [
    {
     "name": "stderr",
     "output_type": "stream",
     "text": [
      "2021-09-22 20:11:08,690 - INFO - mvg.mvg - endpoint https://api.beta.multiviz.com\n",
      "2021-09-22 20:11:08,691 - INFO - mvg.mvg - retrieving source with source id=u0001\n",
      "2021-09-22 20:11:08,881 - INFO - mvg.mvg - endpoint https://api.beta.multiviz.com\n",
      "2021-09-22 20:11:08,881 - INFO - mvg.mvg - deleting source with source id=u0001\n"
     ]
    },
    {
     "name": "stdout",
     "output_type": "stream",
     "text": [
      "Deleting u0001\n"
     ]
    }
   ],
   "source": [
    "try:\n",
    "    source = session.get_source(SOURCE_ID)\n",
    "    print(f\"Deleting {SOURCE_ID}\")\n",
    "    session.delete_source(SOURCE_ID)\n",
    "except HTTPError:\n",
    "    print(f\"Source {SOURCE_ID} does not exist\")"
   ]
  },
  {
   "cell_type": "markdown",
   "id": "clinical-detective",
   "metadata": {},
   "source": [
    "## Build measurements\n",
    "\n",
    "Now we want to (re) build the source and the attached measurements from scratch"
   ]
  },
  {
   "cell_type": "code",
   "execution_count": 11,
   "id": "private-support",
   "metadata": {
    "ExecuteTime": {
     "end_time": "2021-03-18T09:54:17.413080Z",
     "start_time": "2021-03-18T09:54:17.409985Z"
    }
   },
   "outputs": [
    {
     "name": "stdout",
     "output_type": "stream",
     "text": [
      "creating\n",
      "{'assetId': 'assetA', 'measPoint': 'mloc01', 'location': 'paris'}\n"
     ]
    }
   ],
   "source": [
    "src_path = REF_DB_PATH / SOURCE_ID\n",
    "m_file_name = REF_DB_PATH / SOURCE_ID / \"meta.json\"\n",
    "with open(m_file_name, \"r\") as json_file:\n",
    "    meta = json.load(json_file)\n",
    "print(\"creating\")\n",
    "print(meta)"
   ]
  },
  {
   "cell_type": "markdown",
   "id": "assured-monroe",
   "metadata": {},
   "source": [
    "Create the source and check for it"
   ]
  },
  {
   "cell_type": "code",
   "execution_count": 12,
   "id": "hairy-latin",
   "metadata": {
    "ExecuteTime": {
     "end_time": "2021-03-18T09:54:17.688070Z",
     "start_time": "2021-03-18T09:54:17.414133Z"
    }
   },
   "outputs": [
    {
     "name": "stderr",
     "output_type": "stream",
     "text": [
      "2021-09-22 20:11:09,108 - INFO - mvg.mvg - endpoint https://api.beta.multiviz.com\n",
      "2021-09-22 20:11:09,110 - INFO - mvg.mvg - creating source with source id=u0001\n",
      "2021-09-22 20:11:09,111 - INFO - mvg.mvg - metadata: {'assetId': 'assetA', 'measPoint': 'mloc01', 'location': 'paris'}\n",
      "2021-09-22 20:11:09,288 - INFO - mvg.mvg - endpoint https://api.beta.multiviz.com\n",
      "2021-09-22 20:11:09,289 - INFO - mvg.mvg - retrieving source with source id=u0001\n"
     ]
    },
    {
     "name": "stdout",
     "output_type": "stream",
     "text": [
      "Retrieved\n",
      "{'source_id': 'u0001', 'meta': {'assetId': 'assetA', 'measPoint': 'mloc01', 'location': 'paris'}, 'properties': {'data_class': 'waveform', 'channels': ['acc']}}\n"
     ]
    }
   ],
   "source": [
    "session.create_source(SOURCE_ID, meta, channels=[\"acc\"])  # create\n",
    "source = session.get_source(SOURCE_ID)\n",
    "print(\"Retrieved\")\n",
    "print(source)"
   ]
  },
  {
   "cell_type": "markdown",
   "id": "standing-league",
   "metadata": {},
   "source": [
    "Update the source"
   ]
  },
  {
   "cell_type": "code",
   "execution_count": 13,
   "id": "blocked-fairy",
   "metadata": {
    "ExecuteTime": {
     "end_time": "2021-03-18T09:54:17.983670Z",
     "start_time": "2021-03-18T09:54:17.689219Z"
    }
   },
   "outputs": [
    {
     "name": "stderr",
     "output_type": "stream",
     "text": [
      "2021-09-22 20:11:09,473 - INFO - mvg.mvg - endpoint https://api.beta.multiviz.com\n",
      "2021-09-22 20:11:09,475 - INFO - mvg.mvg - updating source with source id=u0001\n",
      "2021-09-22 20:11:09,476 - INFO - mvg.mvg - metadata: {'assetId': 'assetA', 'measPoint': 'mloc01', 'location': 'paris', 'updated': 'YES! I have been updated'}\n",
      "2021-09-22 20:11:09,654 - INFO - mvg.mvg - endpoint https://api.beta.multiviz.com\n",
      "2021-09-22 20:11:09,655 - INFO - mvg.mvg - retrieving source with source id=u0001\n"
     ]
    },
    {
     "name": "stdout",
     "output_type": "stream",
     "text": [
      "Retrieved\n",
      "{'source_id': 'u0001', 'meta': {'assetId': 'assetA', 'measPoint': 'mloc01', 'location': 'paris', 'updated': 'YES! I have been updated'}, 'properties': {'data_class': 'waveform', 'channels': ['acc']}}\n"
     ]
    }
   ],
   "source": [
    "meta['updated'] = \"YES! I have been updated\"\n",
    "session.update_source(SOURCE_ID, meta)  # update\n",
    "source = session.get_source(SOURCE_ID)\n",
    "print(\"Retrieved\")\n",
    "print(source)"
   ]
  },
  {
   "cell_type": "markdown",
   "id": "considered-former",
   "metadata": {},
   "source": [
    "Upload measurements to source. Measurements are tied to sources, they consist of\n",
    "\n",
    "- an array of floating point values\n",
    "- timestamp when the values were sampled\n",
    "- a field for the duration of the measurement\n",
    "- meta information to be stored along the measurement"
   ]
  },
  {
   "cell_type": "code",
   "execution_count": 14,
   "id": "original-colombia",
   "metadata": {
    "ExecuteTime": {
     "end_time": "2021-03-18T09:54:17.986967Z",
     "start_time": "2021-03-18T09:54:17.984640Z"
    }
   },
   "outputs": [],
   "source": [
    "meas = [f.stem for f in Path(src_path).glob(\"*.csv\")]"
   ]
  },
  {
   "cell_type": "markdown",
   "id": "friendly-mustang",
   "metadata": {},
   "source": [
    "`meas` now contains a list of timestamps representing the measurements in our repo we upload from iterate over all of them."
   ]
  },
  {
   "cell_type": "code",
   "execution_count": 15,
   "id": "endangered-beaver",
   "metadata": {
    "ExecuteTime": {
     "end_time": "2021-03-18T09:55:15.657580Z",
     "start_time": "2021-03-18T09:54:17.988134Z"
    }
   },
   "outputs": [
    {
     "name": "stderr",
     "output_type": "stream",
     "text": [
      "2021-09-22 20:11:09,897 - INFO - mvg.mvg - endpoint https://api.beta.multiviz.com\n",
      "2021-09-22 20:11:09,898 - INFO - mvg.mvg - creating measurement from source id=u0001\n",
      "2021-09-22 20:11:09,899 - INFO - mvg.mvg -   duration:  2.8672073400507907\n",
      "2021-09-22 20:11:09,900 - INFO - mvg.mvg -   timestamp: 1570186860\n",
      "2021-09-22 20:11:09,901 - INFO - mvg.mvg -   meta data: {'sampling_rate': 13950.857142857141}\n"
     ]
    },
    {
     "name": "stdout",
     "output_type": "stream",
     "text": [
      "Read 40000 samples\n",
      "Read meta: {'duration': 2.8672073400507907, 'meta': {}}\n",
      "Uploading ~/mvg/docs/source/content/examples/va-data-charlie/charlieDb/acc/u0001/1570186860.csv\n"
     ]
    },
    {
     "name": "stderr",
     "output_type": "stream",
     "text": [
      "2021-09-22 20:11:10,840 - INFO - mvg.mvg - endpoint https://api.beta.multiviz.com\n",
      "2021-09-22 20:11:10,841 - INFO - mvg.mvg - creating measurement from source id=u0001\n",
      "2021-09-22 20:11:10,842 - INFO - mvg.mvg -   duration:  2.8672073400507907\n",
      "2021-09-22 20:11:10,842 - INFO - mvg.mvg -   timestamp: 1570273260\n",
      "2021-09-22 20:11:10,843 - INFO - mvg.mvg -   meta data: {'sampling_rate': 13950.857142857141}\n"
     ]
    },
    {
     "name": "stdout",
     "output_type": "stream",
     "text": [
      "Read 40000 samples\n",
      "Read meta: {'duration': 2.8672073400507907, 'meta': {}}\n",
      "Uploading ~/mvg/docs/source/content/examples/va-data-charlie/charlieDb/acc/u0001/1570273260.csv\n"
     ]
    },
    {
     "name": "stderr",
     "output_type": "stream",
     "text": [
      "2021-09-22 20:11:11,835 - INFO - mvg.mvg - endpoint https://api.beta.multiviz.com\n",
      "2021-09-22 20:11:11,836 - INFO - mvg.mvg - creating measurement from source id=u0001\n",
      "2021-09-22 20:11:11,837 - INFO - mvg.mvg -   duration:  2.8672073400507907\n",
      "2021-09-22 20:11:11,837 - INFO - mvg.mvg -   timestamp: 1570359660\n",
      "2021-09-22 20:11:11,838 - INFO - mvg.mvg -   meta data: {'sampling_rate': 13950.857142857141}\n"
     ]
    },
    {
     "name": "stdout",
     "output_type": "stream",
     "text": [
      "Read 40000 samples\n",
      "Read meta: {'duration': 2.8672073400507907, 'meta': {}}\n",
      "Uploading ~/mvg/docs/source/content/examples/va-data-charlie/charlieDb/acc/u0001/1570359660.csv\n"
     ]
    },
    {
     "name": "stderr",
     "output_type": "stream",
     "text": [
      "2021-09-22 20:11:12,961 - INFO - mvg.mvg - endpoint https://api.beta.multiviz.com\n",
      "2021-09-22 20:11:12,962 - INFO - mvg.mvg - creating measurement from source id=u0001\n",
      "2021-09-22 20:11:12,962 - INFO - mvg.mvg -   duration:  2.8672073400507907\n",
      "2021-09-22 20:11:12,963 - INFO - mvg.mvg -   timestamp: 1570446060\n",
      "2021-09-22 20:11:12,964 - INFO - mvg.mvg -   meta data: {'sampling_rate': 13950.857142857141}\n"
     ]
    },
    {
     "name": "stdout",
     "output_type": "stream",
     "text": [
      "Read 40000 samples\n",
      "Read meta: {'duration': 2.8672073400507907, 'meta': {}}\n",
      "Uploading ~/mvg/docs/source/content/examples/va-data-charlie/charlieDb/acc/u0001/1570446060.csv\n"
     ]
    },
    {
     "name": "stderr",
     "output_type": "stream",
     "text": [
      "2021-09-22 20:11:13,965 - INFO - mvg.mvg - endpoint https://api.beta.multiviz.com\n",
      "2021-09-22 20:11:13,967 - INFO - mvg.mvg - creating measurement from source id=u0001\n",
      "2021-09-22 20:11:13,968 - INFO - mvg.mvg -   duration:  2.8672073400507907\n",
      "2021-09-22 20:11:13,969 - INFO - mvg.mvg -   timestamp: 1570532460\n",
      "2021-09-22 20:11:13,970 - INFO - mvg.mvg -   meta data: {'sampling_rate': 13950.857142857141}\n"
     ]
    },
    {
     "name": "stdout",
     "output_type": "stream",
     "text": [
      "Read 40000 samples\n",
      "Read meta: {'duration': 2.8672073400507907, 'meta': {}}\n",
      "Uploading ~/mvg/docs/source/content/examples/va-data-charlie/charlieDb/acc/u0001/1570532460.csv\n"
     ]
    },
    {
     "name": "stderr",
     "output_type": "stream",
     "text": [
      "2021-09-22 20:11:15,265 - INFO - mvg.mvg - endpoint https://api.beta.multiviz.com\n",
      "2021-09-22 20:11:15,266 - INFO - mvg.mvg - creating measurement from source id=u0001\n",
      "2021-09-22 20:11:15,266 - INFO - mvg.mvg -   duration:  2.8672073400507907\n",
      "2021-09-22 20:11:15,267 - INFO - mvg.mvg -   timestamp: 1570618860\n",
      "2021-09-22 20:11:15,268 - INFO - mvg.mvg -   meta data: {'sampling_rate': 13950.857142857141}\n"
     ]
    },
    {
     "name": "stdout",
     "output_type": "stream",
     "text": [
      "Read 40000 samples\n",
      "Read meta: {'duration': 2.8672073400507907, 'meta': {}}\n",
      "Uploading ~/mvg/docs/source/content/examples/va-data-charlie/charlieDb/acc/u0001/1570618860.csv\n"
     ]
    },
    {
     "name": "stderr",
     "output_type": "stream",
     "text": [
      "2021-09-22 20:11:16,233 - INFO - mvg.mvg - endpoint https://api.beta.multiviz.com\n",
      "2021-09-22 20:11:16,234 - INFO - mvg.mvg - creating measurement from source id=u0001\n",
      "2021-09-22 20:11:16,234 - INFO - mvg.mvg -   duration:  2.8672073400507907\n",
      "2021-09-22 20:11:16,235 - INFO - mvg.mvg -   timestamp: 1570705260\n",
      "2021-09-22 20:11:16,236 - INFO - mvg.mvg -   meta data: {'sampling_rate': 13950.857142857141}\n"
     ]
    },
    {
     "name": "stdout",
     "output_type": "stream",
     "text": [
      "Read 40000 samples\n",
      "Read meta: {'duration': 2.8672073400507907, 'meta': {}}\n",
      "Uploading ~/mvg/docs/source/content/examples/va-data-charlie/charlieDb/acc/u0001/1570705260.csv\n"
     ]
    },
    {
     "name": "stderr",
     "output_type": "stream",
     "text": [
      "2021-09-22 20:11:17,404 - INFO - mvg.mvg - endpoint https://api.beta.multiviz.com\n",
      "2021-09-22 20:11:17,405 - INFO - mvg.mvg - creating measurement from source id=u0001\n",
      "2021-09-22 20:11:17,405 - INFO - mvg.mvg -   duration:  2.8672073400507907\n",
      "2021-09-22 20:11:17,406 - INFO - mvg.mvg -   timestamp: 1570791660\n",
      "2021-09-22 20:11:17,407 - INFO - mvg.mvg -   meta data: {'sampling_rate': 13950.857142857141}\n"
     ]
    },
    {
     "name": "stdout",
     "output_type": "stream",
     "text": [
      "Read 40000 samples\n",
      "Read meta: {'duration': 2.8672073400507907, 'meta': {}}\n",
      "Uploading ~/mvg/docs/source/content/examples/va-data-charlie/charlieDb/acc/u0001/1570791660.csv\n"
     ]
    },
    {
     "name": "stderr",
     "output_type": "stream",
     "text": [
      "2021-09-22 20:11:18,439 - INFO - mvg.mvg - endpoint https://api.beta.multiviz.com\n",
      "2021-09-22 20:11:18,440 - INFO - mvg.mvg - creating measurement from source id=u0001\n",
      "2021-09-22 20:11:18,440 - INFO - mvg.mvg -   duration:  2.8672073400507907\n",
      "2021-09-22 20:11:18,441 - INFO - mvg.mvg -   timestamp: 1570878060\n",
      "2021-09-22 20:11:18,442 - INFO - mvg.mvg -   meta data: {'sampling_rate': 13950.857142857141}\n"
     ]
    },
    {
     "name": "stdout",
     "output_type": "stream",
     "text": [
      "Read 40000 samples\n",
      "Read meta: {'duration': 2.8672073400507907, 'meta': {}}\n",
      "Uploading ~/mvg/docs/source/content/examples/va-data-charlie/charlieDb/acc/u0001/1570878060.csv\n"
     ]
    },
    {
     "name": "stderr",
     "output_type": "stream",
     "text": [
      "2021-09-22 20:11:19,614 - INFO - mvg.mvg - endpoint https://api.beta.multiviz.com\n",
      "2021-09-22 20:11:19,615 - INFO - mvg.mvg - creating measurement from source id=u0001\n",
      "2021-09-22 20:11:19,616 - INFO - mvg.mvg -   duration:  2.8672073400507907\n",
      "2021-09-22 20:11:19,616 - INFO - mvg.mvg -   timestamp: 1570964460\n",
      "2021-09-22 20:11:19,617 - INFO - mvg.mvg -   meta data: {'sampling_rate': 13950.857142857141}\n"
     ]
    },
    {
     "name": "stdout",
     "output_type": "stream",
     "text": [
      "Read 40000 samples\n",
      "Read meta: {'duration': 2.8672073400507907, 'meta': {}}\n",
      "Uploading ~/mvg/docs/source/content/examples/va-data-charlie/charlieDb/acc/u0001/1570964460.csv\n"
     ]
    },
    {
     "name": "stderr",
     "output_type": "stream",
     "text": [
      "2021-09-22 20:11:20,683 - INFO - mvg.mvg - endpoint https://api.beta.multiviz.com\n",
      "2021-09-22 20:11:20,683 - INFO - mvg.mvg - creating measurement from source id=u0001\n",
      "2021-09-22 20:11:20,684 - INFO - mvg.mvg -   duration:  2.8672073400507907\n",
      "2021-09-22 20:11:20,685 - INFO - mvg.mvg -   timestamp: 1571050860\n",
      "2021-09-22 20:11:20,685 - INFO - mvg.mvg -   meta data: {'sampling_rate': 13950.857142857141}\n"
     ]
    },
    {
     "name": "stdout",
     "output_type": "stream",
     "text": [
      "Read 40000 samples\n",
      "Read meta: {'duration': 2.8672073400507907, 'meta': {}}\n",
      "Uploading ~/mvg/docs/source/content/examples/va-data-charlie/charlieDb/acc/u0001/1571050860.csv\n"
     ]
    },
    {
     "name": "stderr",
     "output_type": "stream",
     "text": [
      "2021-09-22 20:11:21,619 - INFO - mvg.mvg - endpoint https://api.beta.multiviz.com\n",
      "2021-09-22 20:11:21,620 - INFO - mvg.mvg - creating measurement from source id=u0001\n",
      "2021-09-22 20:11:21,621 - INFO - mvg.mvg -   duration:  2.8672073400507907\n",
      "2021-09-22 20:11:21,621 - INFO - mvg.mvg -   timestamp: 1571137260\n",
      "2021-09-22 20:11:21,623 - INFO - mvg.mvg -   meta data: {'sampling_rate': 13950.857142857141}\n"
     ]
    },
    {
     "name": "stdout",
     "output_type": "stream",
     "text": [
      "Read 40000 samples\n",
      "Read meta: {'duration': 2.8672073400507907, 'meta': {}}\n",
      "Uploading ~/mvg/docs/source/content/examples/va-data-charlie/charlieDb/acc/u0001/1571137260.csv\n"
     ]
    },
    {
     "name": "stderr",
     "output_type": "stream",
     "text": [
      "2021-09-22 20:11:22,552 - INFO - mvg.mvg - endpoint https://api.beta.multiviz.com\n",
      "2021-09-22 20:11:22,553 - INFO - mvg.mvg - creating measurement from source id=u0001\n",
      "2021-09-22 20:11:22,553 - INFO - mvg.mvg -   duration:  2.8672073400507907\n",
      "2021-09-22 20:11:22,554 - INFO - mvg.mvg -   timestamp: 1571223660\n",
      "2021-09-22 20:11:22,555 - INFO - mvg.mvg -   meta data: {'sampling_rate': 13950.857142857141}\n"
     ]
    },
    {
     "name": "stdout",
     "output_type": "stream",
     "text": [
      "Read 40000 samples\n",
      "Read meta: {'duration': 2.8672073400507907, 'meta': {}}\n",
      "Uploading ~/mvg/docs/source/content/examples/va-data-charlie/charlieDb/acc/u0001/1571223660.csv\n"
     ]
    },
    {
     "name": "stderr",
     "output_type": "stream",
     "text": [
      "2021-09-22 20:11:23,502 - INFO - mvg.mvg - endpoint https://api.beta.multiviz.com\n",
      "2021-09-22 20:11:23,503 - INFO - mvg.mvg - creating measurement from source id=u0001\n",
      "2021-09-22 20:11:23,503 - INFO - mvg.mvg -   duration:  2.8672073400507907\n",
      "2021-09-22 20:11:23,504 - INFO - mvg.mvg -   timestamp: 1571310060\n",
      "2021-09-22 20:11:23,505 - INFO - mvg.mvg -   meta data: {'sampling_rate': 13950.857142857141}\n"
     ]
    },
    {
     "name": "stdout",
     "output_type": "stream",
     "text": [
      "Read 40000 samples\n",
      "Read meta: {'duration': 2.8672073400507907, 'meta': {}}\n",
      "Uploading ~/mvg/docs/source/content/examples/va-data-charlie/charlieDb/acc/u0001/1571310060.csv\n"
     ]
    },
    {
     "name": "stderr",
     "output_type": "stream",
     "text": [
      "2021-09-22 20:11:24,447 - INFO - mvg.mvg - endpoint https://api.beta.multiviz.com\n",
      "2021-09-22 20:11:24,447 - INFO - mvg.mvg - creating measurement from source id=u0001\n",
      "2021-09-22 20:11:24,448 - INFO - mvg.mvg -   duration:  2.8672073400507907\n",
      "2021-09-22 20:11:24,449 - INFO - mvg.mvg -   timestamp: 1571396460\n",
      "2021-09-22 20:11:24,450 - INFO - mvg.mvg -   meta data: {'sampling_rate': 13950.857142857141}\n"
     ]
    },
    {
     "name": "stdout",
     "output_type": "stream",
     "text": [
      "Read 40000 samples\n",
      "Read meta: {'duration': 2.8672073400507907, 'meta': {}}\n",
      "Uploading ~/mvg/docs/source/content/examples/va-data-charlie/charlieDb/acc/u0001/1571396460.csv\n"
     ]
    },
    {
     "name": "stderr",
     "output_type": "stream",
     "text": [
      "2021-09-22 20:11:25,399 - INFO - mvg.mvg - endpoint https://api.beta.multiviz.com\n",
      "2021-09-22 20:11:25,400 - INFO - mvg.mvg - creating measurement from source id=u0001\n",
      "2021-09-22 20:11:25,401 - INFO - mvg.mvg -   duration:  2.8672073400507907\n",
      "2021-09-22 20:11:25,402 - INFO - mvg.mvg -   timestamp: 1571482860\n",
      "2021-09-22 20:11:25,404 - INFO - mvg.mvg -   meta data: {'sampling_rate': 13950.857142857141}\n"
     ]
    },
    {
     "name": "stdout",
     "output_type": "stream",
     "text": [
      "Read 40000 samples\n",
      "Read meta: {'duration': 2.8672073400507907, 'meta': {}}\n",
      "Uploading ~/mvg/docs/source/content/examples/va-data-charlie/charlieDb/acc/u0001/1571482860.csv\n"
     ]
    },
    {
     "name": "stderr",
     "output_type": "stream",
     "text": [
      "2021-09-22 20:11:26,359 - INFO - mvg.mvg - endpoint https://api.beta.multiviz.com\n",
      "2021-09-22 20:11:26,360 - INFO - mvg.mvg - creating measurement from source id=u0001\n",
      "2021-09-22 20:11:26,361 - INFO - mvg.mvg -   duration:  2.8672073400507907\n",
      "2021-09-22 20:11:26,362 - INFO - mvg.mvg -   timestamp: 1571569260\n",
      "2021-09-22 20:11:26,363 - INFO - mvg.mvg -   meta data: {'sampling_rate': 13950.857142857141}\n"
     ]
    },
    {
     "name": "stdout",
     "output_type": "stream",
     "text": [
      "Read 40000 samples\n",
      "Read meta: {'duration': 2.8672073400507907, 'meta': {}}\n",
      "Uploading ~/mvg/docs/source/content/examples/va-data-charlie/charlieDb/acc/u0001/1571569260.csv\n"
     ]
    },
    {
     "name": "stderr",
     "output_type": "stream",
     "text": [
      "2021-09-22 20:11:27,298 - INFO - mvg.mvg - endpoint https://api.beta.multiviz.com\n",
      "2021-09-22 20:11:27,299 - INFO - mvg.mvg - creating measurement from source id=u0001\n",
      "2021-09-22 20:11:27,299 - INFO - mvg.mvg -   duration:  2.8672073400507907\n",
      "2021-09-22 20:11:27,300 - INFO - mvg.mvg -   timestamp: 1571655660\n",
      "2021-09-22 20:11:27,301 - INFO - mvg.mvg -   meta data: {'sampling_rate': 13950.857142857141}\n"
     ]
    },
    {
     "name": "stdout",
     "output_type": "stream",
     "text": [
      "Read 40000 samples\n",
      "Read meta: {'duration': 2.8672073400507907, 'meta': {}}\n",
      "Uploading ~/mvg/docs/source/content/examples/va-data-charlie/charlieDb/acc/u0001/1571655660.csv\n"
     ]
    },
    {
     "name": "stderr",
     "output_type": "stream",
     "text": [
      "2021-09-22 20:11:28,243 - INFO - mvg.mvg - endpoint https://api.beta.multiviz.com\n",
      "2021-09-22 20:11:28,244 - INFO - mvg.mvg - creating measurement from source id=u0001\n",
      "2021-09-22 20:11:28,245 - INFO - mvg.mvg -   duration:  2.8672073400507907\n",
      "2021-09-22 20:11:28,246 - INFO - mvg.mvg -   timestamp: 1571742060\n",
      "2021-09-22 20:11:28,247 - INFO - mvg.mvg -   meta data: {'sampling_rate': 13950.857142857141}\n"
     ]
    },
    {
     "name": "stdout",
     "output_type": "stream",
     "text": [
      "Read 40000 samples\n",
      "Read meta: {'duration': 2.8672073400507907, 'meta': {}}\n",
      "Uploading ~/mvg/docs/source/content/examples/va-data-charlie/charlieDb/acc/u0001/1571742060.csv\n"
     ]
    },
    {
     "name": "stderr",
     "output_type": "stream",
     "text": [
      "2021-09-22 20:11:29,173 - INFO - mvg.mvg - endpoint https://api.beta.multiviz.com\n",
      "2021-09-22 20:11:29,173 - INFO - mvg.mvg - creating measurement from source id=u0001\n",
      "2021-09-22 20:11:29,174 - INFO - mvg.mvg -   duration:  2.8672073400507907\n",
      "2021-09-22 20:11:29,175 - INFO - mvg.mvg -   timestamp: 1571828460\n",
      "2021-09-22 20:11:29,175 - INFO - mvg.mvg -   meta data: {'sampling_rate': 13950.857142857141}\n"
     ]
    },
    {
     "name": "stdout",
     "output_type": "stream",
     "text": [
      "Read 40000 samples\n",
      "Read meta: {'duration': 2.8672073400507907, 'meta': {}}\n",
      "Uploading ~/mvg/docs/source/content/examples/va-data-charlie/charlieDb/acc/u0001/1571828460.csv\n"
     ]
    },
    {
     "name": "stderr",
     "output_type": "stream",
     "text": [
      "2021-09-22 20:11:30,173 - INFO - mvg.mvg - endpoint https://api.beta.multiviz.com\n",
      "2021-09-22 20:11:30,174 - INFO - mvg.mvg - creating measurement from source id=u0001\n",
      "2021-09-22 20:11:30,174 - INFO - mvg.mvg -   duration:  2.8672073400507907\n",
      "2021-09-22 20:11:30,175 - INFO - mvg.mvg -   timestamp: 1571914860\n",
      "2021-09-22 20:11:30,176 - INFO - mvg.mvg -   meta data: {'sampling_rate': 13950.857142857141}\n"
     ]
    },
    {
     "name": "stdout",
     "output_type": "stream",
     "text": [
      "Read 40000 samples\n",
      "Read meta: {'duration': 2.8672073400507907, 'meta': {}}\n",
      "Uploading ~/mvg/docs/source/content/examples/va-data-charlie/charlieDb/acc/u0001/1571914860.csv\n"
     ]
    },
    {
     "name": "stderr",
     "output_type": "stream",
     "text": [
      "2021-09-22 20:11:31,123 - INFO - mvg.mvg - endpoint https://api.beta.multiviz.com\n",
      "2021-09-22 20:11:31,124 - INFO - mvg.mvg - creating measurement from source id=u0001\n",
      "2021-09-22 20:11:31,124 - INFO - mvg.mvg -   duration:  2.8672073400507907\n",
      "2021-09-22 20:11:31,125 - INFO - mvg.mvg -   timestamp: 1572001260\n",
      "2021-09-22 20:11:31,126 - INFO - mvg.mvg -   meta data: {'sampling_rate': 13950.857142857141}\n"
     ]
    },
    {
     "name": "stdout",
     "output_type": "stream",
     "text": [
      "Read 40000 samples\n",
      "Read meta: {'duration': 2.8672073400507907, 'meta': {}}\n",
      "Uploading ~/mvg/docs/source/content/examples/va-data-charlie/charlieDb/acc/u0001/1572001260.csv\n"
     ]
    },
    {
     "name": "stderr",
     "output_type": "stream",
     "text": [
      "2021-09-22 20:11:32,150 - INFO - mvg.mvg - endpoint https://api.beta.multiviz.com\n",
      "2021-09-22 20:11:32,151 - INFO - mvg.mvg - creating measurement from source id=u0001\n",
      "2021-09-22 20:11:32,152 - INFO - mvg.mvg -   duration:  2.8672073400507907\n",
      "2021-09-22 20:11:32,154 - INFO - mvg.mvg -   timestamp: 1572087660\n",
      "2021-09-22 20:11:32,156 - INFO - mvg.mvg -   meta data: {'sampling_rate': 13950.857142857141}\n"
     ]
    },
    {
     "name": "stdout",
     "output_type": "stream",
     "text": [
      "Read 40000 samples\n",
      "Read meta: {'duration': 2.8672073400507907, 'meta': {}}\n",
      "Uploading ~/mvg/docs/source/content/examples/va-data-charlie/charlieDb/acc/u0001/1572087660.csv\n"
     ]
    },
    {
     "name": "stderr",
     "output_type": "stream",
     "text": [
      "2021-09-22 20:11:33,118 - INFO - mvg.mvg - endpoint https://api.beta.multiviz.com\n",
      "2021-09-22 20:11:33,119 - INFO - mvg.mvg - creating measurement from source id=u0001\n",
      "2021-09-22 20:11:33,120 - INFO - mvg.mvg -   duration:  2.8672073400507907\n",
      "2021-09-22 20:11:33,120 - INFO - mvg.mvg -   timestamp: 1572177660\n",
      "2021-09-22 20:11:33,121 - INFO - mvg.mvg -   meta data: {'sampling_rate': 13950.857142857141}\n"
     ]
    },
    {
     "name": "stdout",
     "output_type": "stream",
     "text": [
      "Read 40000 samples\n",
      "Read meta: {'duration': 2.8672073400507907, 'meta': {}}\n",
      "Uploading ~/mvg/docs/source/content/examples/va-data-charlie/charlieDb/acc/u0001/1572177660.csv\n"
     ]
    },
    {
     "name": "stderr",
     "output_type": "stream",
     "text": [
      "2021-09-22 20:11:34,063 - INFO - mvg.mvg - endpoint https://api.beta.multiviz.com\n",
      "2021-09-22 20:11:34,064 - INFO - mvg.mvg - creating measurement from source id=u0001\n",
      "2021-09-22 20:11:34,064 - INFO - mvg.mvg -   duration:  2.8672073400507907\n",
      "2021-09-22 20:11:34,065 - INFO - mvg.mvg -   timestamp: 1572264060\n",
      "2021-09-22 20:11:34,066 - INFO - mvg.mvg -   meta data: {'sampling_rate': 13950.857142857141}\n"
     ]
    },
    {
     "name": "stdout",
     "output_type": "stream",
     "text": [
      "Read 40000 samples\n",
      "Read meta: {'duration': 2.8672073400507907, 'meta': {}}\n",
      "Uploading ~/mvg/docs/source/content/examples/va-data-charlie/charlieDb/acc/u0001/1572264060.csv\n"
     ]
    },
    {
     "name": "stderr",
     "output_type": "stream",
     "text": [
      "2021-09-22 20:11:35,042 - INFO - mvg.mvg - endpoint https://api.beta.multiviz.com\n",
      "2021-09-22 20:11:35,043 - INFO - mvg.mvg - creating measurement from source id=u0001\n",
      "2021-09-22 20:11:35,045 - INFO - mvg.mvg -   duration:  2.8672073400507907\n",
      "2021-09-22 20:11:35,046 - INFO - mvg.mvg -   timestamp: 1572350460\n",
      "2021-09-22 20:11:35,048 - INFO - mvg.mvg -   meta data: {'sampling_rate': 13950.857142857141}\n"
     ]
    },
    {
     "name": "stdout",
     "output_type": "stream",
     "text": [
      "Read 40000 samples\n",
      "Read meta: {'duration': 2.8672073400507907, 'meta': {}}\n",
      "Uploading ~/mvg/docs/source/content/examples/va-data-charlie/charlieDb/acc/u0001/1572350460.csv\n"
     ]
    },
    {
     "name": "stderr",
     "output_type": "stream",
     "text": [
      "2021-09-22 20:11:36,416 - INFO - mvg.mvg - endpoint https://api.beta.multiviz.com\n",
      "2021-09-22 20:11:36,417 - INFO - mvg.mvg - creating measurement from source id=u0001\n",
      "2021-09-22 20:11:36,418 - INFO - mvg.mvg -   duration:  2.8672073400507907\n",
      "2021-09-22 20:11:36,418 - INFO - mvg.mvg -   timestamp: 1572436860\n",
      "2021-09-22 20:11:36,419 - INFO - mvg.mvg -   meta data: {'sampling_rate': 13950.857142857141}\n"
     ]
    },
    {
     "name": "stdout",
     "output_type": "stream",
     "text": [
      "Read 40000 samples\n",
      "Read meta: {'duration': 2.8672073400507907, 'meta': {}}\n",
      "Uploading ~/mvg/docs/source/content/examples/va-data-charlie/charlieDb/acc/u0001/1572436860.csv\n"
     ]
    },
    {
     "name": "stderr",
     "output_type": "stream",
     "text": [
      "2021-09-22 20:11:37,339 - INFO - mvg.mvg - endpoint https://api.beta.multiviz.com\n",
      "2021-09-22 20:11:37,339 - INFO - mvg.mvg - creating measurement from source id=u0001\n",
      "2021-09-22 20:11:37,340 - INFO - mvg.mvg -   duration:  2.8672073400507907\n",
      "2021-09-22 20:11:37,341 - INFO - mvg.mvg -   timestamp: 1572523260\n",
      "2021-09-22 20:11:37,341 - INFO - mvg.mvg -   meta data: {'sampling_rate': 13950.857142857141}\n"
     ]
    },
    {
     "name": "stdout",
     "output_type": "stream",
     "text": [
      "Read 40000 samples\n",
      "Read meta: {'duration': 2.8672073400507907, 'meta': {}}\n",
      "Uploading ~/mvg/docs/source/content/examples/va-data-charlie/charlieDb/acc/u0001/1572523260.csv\n"
     ]
    },
    {
     "name": "stderr",
     "output_type": "stream",
     "text": [
      "2021-09-22 20:11:38,403 - INFO - mvg.mvg - endpoint https://api.beta.multiviz.com\n",
      "2021-09-22 20:11:38,403 - INFO - mvg.mvg - creating measurement from source id=u0001\n",
      "2021-09-22 20:11:38,404 - INFO - mvg.mvg -   duration:  2.8672073400507907\n",
      "2021-09-22 20:11:38,405 - INFO - mvg.mvg -   timestamp: 1572609660\n",
      "2021-09-22 20:11:38,405 - INFO - mvg.mvg -   meta data: {'sampling_rate': 13950.857142857141}\n"
     ]
    },
    {
     "name": "stdout",
     "output_type": "stream",
     "text": [
      "Read 40000 samples\n",
      "Read meta: {'duration': 2.8672073400507907, 'meta': {}}\n",
      "Uploading ~/mvg/docs/source/content/examples/va-data-charlie/charlieDb/acc/u0001/1572609660.csv\n"
     ]
    },
    {
     "name": "stderr",
     "output_type": "stream",
     "text": [
      "2021-09-22 20:11:39,654 - INFO - mvg.mvg - endpoint https://api.beta.multiviz.com\n",
      "2021-09-22 20:11:39,655 - INFO - mvg.mvg - creating measurement from source id=u0001\n",
      "2021-09-22 20:11:39,656 - INFO - mvg.mvg -   duration:  2.8672073400507907\n",
      "2021-09-22 20:11:39,657 - INFO - mvg.mvg -   timestamp: 1572696060\n",
      "2021-09-22 20:11:39,657 - INFO - mvg.mvg -   meta data: {'sampling_rate': 13950.857142857141}\n"
     ]
    },
    {
     "name": "stdout",
     "output_type": "stream",
     "text": [
      "Read 40000 samples\n",
      "Read meta: {'duration': 2.8672073400507907, 'meta': {}}\n",
      "Uploading ~/mvg/docs/source/content/examples/va-data-charlie/charlieDb/acc/u0001/1572696060.csv\n"
     ]
    },
    {
     "name": "stderr",
     "output_type": "stream",
     "text": [
      "2021-09-22 20:11:40,611 - INFO - mvg.mvg - endpoint https://api.beta.multiviz.com\n",
      "2021-09-22 20:11:40,612 - INFO - mvg.mvg - creating measurement from source id=u0001\n",
      "2021-09-22 20:11:40,613 - INFO - mvg.mvg -   duration:  2.8672073400507907\n",
      "2021-09-22 20:11:40,615 - INFO - mvg.mvg -   timestamp: 1572782460\n",
      "2021-09-22 20:11:40,617 - INFO - mvg.mvg -   meta data: {'sampling_rate': 13950.857142857141}\n"
     ]
    },
    {
     "name": "stdout",
     "output_type": "stream",
     "text": [
      "Read 40000 samples\n",
      "Read meta: {'duration': 2.8672073400507907, 'meta': {}}\n",
      "Uploading ~/mvg/docs/source/content/examples/va-data-charlie/charlieDb/acc/u0001/1572782460.csv\n"
     ]
    },
    {
     "name": "stderr",
     "output_type": "stream",
     "text": [
      "2021-09-22 20:11:41,597 - INFO - mvg.mvg - endpoint https://api.beta.multiviz.com\n",
      "2021-09-22 20:11:41,598 - INFO - mvg.mvg - creating measurement from source id=u0001\n",
      "2021-09-22 20:11:41,599 - INFO - mvg.mvg -   duration:  2.8672073400507907\n",
      "2021-09-22 20:11:41,599 - INFO - mvg.mvg -   timestamp: 1572868860\n",
      "2021-09-22 20:11:41,600 - INFO - mvg.mvg -   meta data: {'sampling_rate': 13950.857142857141}\n"
     ]
    },
    {
     "name": "stdout",
     "output_type": "stream",
     "text": [
      "Read 40000 samples\n",
      "Read meta: {'duration': 2.8672073400507907, 'meta': {}}\n",
      "Uploading ~/mvg/docs/source/content/examples/va-data-charlie/charlieDb/acc/u0001/1572868860.csv\n"
     ]
    },
    {
     "name": "stderr",
     "output_type": "stream",
     "text": [
      "2021-09-22 20:11:42,534 - INFO - mvg.mvg - endpoint https://api.beta.multiviz.com\n",
      "2021-09-22 20:11:42,534 - INFO - mvg.mvg - creating measurement from source id=u0001\n",
      "2021-09-22 20:11:42,535 - INFO - mvg.mvg -   duration:  2.8672073400507907\n",
      "2021-09-22 20:11:42,536 - INFO - mvg.mvg -   timestamp: 1572955260\n",
      "2021-09-22 20:11:42,537 - INFO - mvg.mvg -   meta data: {'sampling_rate': 13950.857142857141}\n"
     ]
    },
    {
     "name": "stdout",
     "output_type": "stream",
     "text": [
      "Read 40000 samples\n",
      "Read meta: {'duration': 2.8672073400507907, 'meta': {}}\n",
      "Uploading ~/mvg/docs/source/content/examples/va-data-charlie/charlieDb/acc/u0001/1572955260.csv\n"
     ]
    },
    {
     "name": "stderr",
     "output_type": "stream",
     "text": [
      "2021-09-22 20:11:43,463 - INFO - mvg.mvg - endpoint https://api.beta.multiviz.com\n",
      "2021-09-22 20:11:43,464 - INFO - mvg.mvg - creating measurement from source id=u0001\n",
      "2021-09-22 20:11:43,465 - INFO - mvg.mvg -   duration:  2.8672073400507907\n",
      "2021-09-22 20:11:43,465 - INFO - mvg.mvg -   timestamp: 1573041660\n",
      "2021-09-22 20:11:43,466 - INFO - mvg.mvg -   meta data: {'sampling_rate': 13950.857142857141}\n"
     ]
    },
    {
     "name": "stdout",
     "output_type": "stream",
     "text": [
      "Read 40000 samples\n",
      "Read meta: {'duration': 2.8672073400507907, 'meta': {}}\n",
      "Uploading ~/mvg/docs/source/content/examples/va-data-charlie/charlieDb/acc/u0001/1573041660.csv\n"
     ]
    },
    {
     "name": "stderr",
     "output_type": "stream",
     "text": [
      "2021-09-22 20:11:44,414 - INFO - mvg.mvg - endpoint https://api.beta.multiviz.com\n",
      "2021-09-22 20:11:44,414 - INFO - mvg.mvg - creating measurement from source id=u0001\n",
      "2021-09-22 20:11:44,415 - INFO - mvg.mvg -   duration:  2.8672073400507907\n",
      "2021-09-22 20:11:44,416 - INFO - mvg.mvg -   timestamp: 1573128060\n",
      "2021-09-22 20:11:44,417 - INFO - mvg.mvg -   meta data: {'sampling_rate': 13950.857142857141}\n"
     ]
    },
    {
     "name": "stdout",
     "output_type": "stream",
     "text": [
      "Read 40000 samples\n",
      "Read meta: {'duration': 2.8672073400507907, 'meta': {}}\n",
      "Uploading ~/mvg/docs/source/content/examples/va-data-charlie/charlieDb/acc/u0001/1573128060.csv\n"
     ]
    },
    {
     "name": "stderr",
     "output_type": "stream",
     "text": [
      "2021-09-22 20:11:45,348 - INFO - mvg.mvg - endpoint https://api.beta.multiviz.com\n",
      "2021-09-22 20:11:45,348 - INFO - mvg.mvg - creating measurement from source id=u0001\n",
      "2021-09-22 20:11:45,349 - INFO - mvg.mvg -   duration:  2.8672073400507907\n",
      "2021-09-22 20:11:45,349 - INFO - mvg.mvg -   timestamp: 1573214460\n",
      "2021-09-22 20:11:45,350 - INFO - mvg.mvg -   meta data: {'sampling_rate': 13950.857142857141}\n"
     ]
    },
    {
     "name": "stdout",
     "output_type": "stream",
     "text": [
      "Read 40000 samples\n",
      "Read meta: {'duration': 2.8672073400507907, 'meta': {}}\n",
      "Uploading ~/mvg/docs/source/content/examples/va-data-charlie/charlieDb/acc/u0001/1573214460.csv\n"
     ]
    },
    {
     "name": "stderr",
     "output_type": "stream",
     "text": [
      "2021-09-22 20:11:46,315 - INFO - mvg.mvg - endpoint https://api.beta.multiviz.com\n",
      "2021-09-22 20:11:46,316 - INFO - mvg.mvg - creating measurement from source id=u0001\n",
      "2021-09-22 20:11:46,317 - INFO - mvg.mvg -   duration:  2.8672073400507907\n",
      "2021-09-22 20:11:46,318 - INFO - mvg.mvg -   timestamp: 1573300860\n",
      "2021-09-22 20:11:46,319 - INFO - mvg.mvg -   meta data: {'sampling_rate': 13950.857142857141}\n"
     ]
    },
    {
     "name": "stdout",
     "output_type": "stream",
     "text": [
      "Read 40000 samples\n",
      "Read meta: {'duration': 2.8672073400507907, 'meta': {}}\n",
      "Uploading ~/mvg/docs/source/content/examples/va-data-charlie/charlieDb/acc/u0001/1573300860.csv\n"
     ]
    },
    {
     "name": "stderr",
     "output_type": "stream",
     "text": [
      "2021-09-22 20:11:47,265 - INFO - mvg.mvg - endpoint https://api.beta.multiviz.com\n",
      "2021-09-22 20:11:47,266 - INFO - mvg.mvg - creating measurement from source id=u0001\n",
      "2021-09-22 20:11:47,267 - INFO - mvg.mvg -   duration:  2.8672073400507907\n",
      "2021-09-22 20:11:47,267 - INFO - mvg.mvg -   timestamp: 1573387260\n",
      "2021-09-22 20:11:47,268 - INFO - mvg.mvg -   meta data: {'sampling_rate': 13950.857142857141}\n"
     ]
    },
    {
     "name": "stdout",
     "output_type": "stream",
     "text": [
      "Read 40000 samples\n",
      "Read meta: {'duration': 2.8672073400507907, 'meta': {}}\n",
      "Uploading ~/mvg/docs/source/content/examples/va-data-charlie/charlieDb/acc/u0001/1573387260.csv\n"
     ]
    },
    {
     "name": "stderr",
     "output_type": "stream",
     "text": [
      "2021-09-22 20:11:48,197 - INFO - mvg.mvg - endpoint https://api.beta.multiviz.com\n",
      "2021-09-22 20:11:48,197 - INFO - mvg.mvg - creating measurement from source id=u0001\n",
      "2021-09-22 20:11:48,198 - INFO - mvg.mvg -   duration:  2.8672073400507907\n",
      "2021-09-22 20:11:48,199 - INFO - mvg.mvg -   timestamp: 1573473660\n",
      "2021-09-22 20:11:48,199 - INFO - mvg.mvg -   meta data: {'sampling_rate': 13950.857142857141}\n"
     ]
    },
    {
     "name": "stdout",
     "output_type": "stream",
     "text": [
      "Read 40000 samples\n",
      "Read meta: {'duration': 2.8672073400507907, 'meta': {}}\n",
      "Uploading ~/mvg/docs/source/content/examples/va-data-charlie/charlieDb/acc/u0001/1573473660.csv\n"
     ]
    },
    {
     "name": "stderr",
     "output_type": "stream",
     "text": [
      "2021-09-22 20:11:49,133 - INFO - mvg.mvg - endpoint https://api.beta.multiviz.com\n",
      "2021-09-22 20:11:49,134 - INFO - mvg.mvg - creating measurement from source id=u0001\n",
      "2021-09-22 20:11:49,134 - INFO - mvg.mvg -   duration:  2.8672073400507907\n",
      "2021-09-22 20:11:49,135 - INFO - mvg.mvg -   timestamp: 1573560060\n",
      "2021-09-22 20:11:49,136 - INFO - mvg.mvg -   meta data: {'sampling_rate': 13950.857142857141}\n"
     ]
    },
    {
     "name": "stdout",
     "output_type": "stream",
     "text": [
      "Read 40000 samples\n",
      "Read meta: {'duration': 2.8672073400507907, 'meta': {}}\n",
      "Uploading ~/mvg/docs/source/content/examples/va-data-charlie/charlieDb/acc/u0001/1573560060.csv\n"
     ]
    },
    {
     "name": "stderr",
     "output_type": "stream",
     "text": [
      "2021-09-22 20:11:50,062 - INFO - mvg.mvg - endpoint https://api.beta.multiviz.com\n",
      "2021-09-22 20:11:50,063 - INFO - mvg.mvg - creating measurement from source id=u0001\n",
      "2021-09-22 20:11:50,064 - INFO - mvg.mvg -   duration:  2.8672073400507907\n",
      "2021-09-22 20:11:50,065 - INFO - mvg.mvg -   timestamp: 1573646460\n",
      "2021-09-22 20:11:50,066 - INFO - mvg.mvg -   meta data: {'sampling_rate': 13950.857142857141}\n"
     ]
    },
    {
     "name": "stdout",
     "output_type": "stream",
     "text": [
      "Read 40000 samples\n",
      "Read meta: {'duration': 2.8672073400507907, 'meta': {}}\n",
      "Uploading ~/mvg/docs/source/content/examples/va-data-charlie/charlieDb/acc/u0001/1573646460.csv\n"
     ]
    },
    {
     "name": "stderr",
     "output_type": "stream",
     "text": [
      "2021-09-22 20:11:50,989 - INFO - mvg.mvg - endpoint https://api.beta.multiviz.com\n",
      "2021-09-22 20:11:50,990 - INFO - mvg.mvg - creating measurement from source id=u0001\n",
      "2021-09-22 20:11:50,991 - INFO - mvg.mvg -   duration:  2.8672073400507907\n",
      "2021-09-22 20:11:50,992 - INFO - mvg.mvg -   timestamp: 1573732860\n",
      "2021-09-22 20:11:50,993 - INFO - mvg.mvg -   meta data: {'sampling_rate': 13950.857142857141}\n"
     ]
    },
    {
     "name": "stdout",
     "output_type": "stream",
     "text": [
      "Read 40000 samples\n",
      "Read meta: {'duration': 2.8672073400507907, 'meta': {}}\n",
      "Uploading ~/mvg/docs/source/content/examples/va-data-charlie/charlieDb/acc/u0001/1573732860.csv\n"
     ]
    },
    {
     "name": "stderr",
     "output_type": "stream",
     "text": [
      "2021-09-22 20:11:51,919 - INFO - mvg.mvg - endpoint https://api.beta.multiviz.com\n",
      "2021-09-22 20:11:51,920 - INFO - mvg.mvg - creating measurement from source id=u0001\n",
      "2021-09-22 20:11:51,920 - INFO - mvg.mvg -   duration:  2.8672073400507907\n",
      "2021-09-22 20:11:51,921 - INFO - mvg.mvg -   timestamp: 1573819260\n",
      "2021-09-22 20:11:51,922 - INFO - mvg.mvg -   meta data: {'sampling_rate': 13950.857142857141}\n"
     ]
    },
    {
     "name": "stdout",
     "output_type": "stream",
     "text": [
      "Read 40000 samples\n",
      "Read meta: {'duration': 2.8672073400507907, 'meta': {}}\n",
      "Uploading ~/mvg/docs/source/content/examples/va-data-charlie/charlieDb/acc/u0001/1573819260.csv\n"
     ]
    },
    {
     "name": "stderr",
     "output_type": "stream",
     "text": [
      "2021-09-22 20:11:52,852 - INFO - mvg.mvg - endpoint https://api.beta.multiviz.com\n",
      "2021-09-22 20:11:52,852 - INFO - mvg.mvg - creating measurement from source id=u0001\n",
      "2021-09-22 20:11:52,853 - INFO - mvg.mvg -   duration:  2.8672073400507907\n",
      "2021-09-22 20:11:52,853 - INFO - mvg.mvg -   timestamp: 1573905660\n",
      "2021-09-22 20:11:52,854 - INFO - mvg.mvg -   meta data: {'sampling_rate': 13950.857142857141}\n"
     ]
    },
    {
     "name": "stdout",
     "output_type": "stream",
     "text": [
      "Read 40000 samples\n",
      "Read meta: {'duration': 2.8672073400507907, 'meta': {}}\n",
      "Uploading ~/mvg/docs/source/content/examples/va-data-charlie/charlieDb/acc/u0001/1573905660.csv\n"
     ]
    },
    {
     "name": "stderr",
     "output_type": "stream",
     "text": [
      "2021-09-22 20:11:53,792 - INFO - mvg.mvg - endpoint https://api.beta.multiviz.com\n",
      "2021-09-22 20:11:53,793 - INFO - mvg.mvg - creating measurement from source id=u0001\n",
      "2021-09-22 20:11:53,793 - INFO - mvg.mvg -   duration:  2.8672073400507907\n",
      "2021-09-22 20:11:53,794 - INFO - mvg.mvg -   timestamp: 1573992060\n",
      "2021-09-22 20:11:53,795 - INFO - mvg.mvg -   meta data: {'sampling_rate': 13950.857142857141}\n"
     ]
    },
    {
     "name": "stdout",
     "output_type": "stream",
     "text": [
      "Read 40000 samples\n",
      "Read meta: {'duration': 2.8672073400507907, 'meta': {}}\n",
      "Uploading ~/mvg/docs/source/content/examples/va-data-charlie/charlieDb/acc/u0001/1573992060.csv\n"
     ]
    },
    {
     "name": "stderr",
     "output_type": "stream",
     "text": [
      "2021-09-22 20:11:54,781 - INFO - mvg.mvg - endpoint https://api.beta.multiviz.com\n",
      "2021-09-22 20:11:54,781 - INFO - mvg.mvg - creating measurement from source id=u0001\n",
      "2021-09-22 20:11:54,782 - INFO - mvg.mvg -   duration:  2.8672073400507907\n",
      "2021-09-22 20:11:54,783 - INFO - mvg.mvg -   timestamp: 1574078460\n",
      "2021-09-22 20:11:54,783 - INFO - mvg.mvg -   meta data: {'sampling_rate': 13950.857142857141}\n"
     ]
    },
    {
     "name": "stdout",
     "output_type": "stream",
     "text": [
      "Read 40000 samples\n",
      "Read meta: {'duration': 2.8672073400507907, 'meta': {}}\n",
      "Uploading ~/mvg/docs/source/content/examples/va-data-charlie/charlieDb/acc/u0001/1574078460.csv\n"
     ]
    },
    {
     "name": "stderr",
     "output_type": "stream",
     "text": [
      "2021-09-22 20:11:55,723 - INFO - mvg.mvg - endpoint https://api.beta.multiviz.com\n",
      "2021-09-22 20:11:55,723 - INFO - mvg.mvg - creating measurement from source id=u0001\n",
      "2021-09-22 20:11:55,724 - INFO - mvg.mvg -   duration:  2.8672073400507907\n",
      "2021-09-22 20:11:55,724 - INFO - mvg.mvg -   timestamp: 1574164860\n",
      "2021-09-22 20:11:55,725 - INFO - mvg.mvg -   meta data: {'sampling_rate': 13950.857142857141}\n"
     ]
    },
    {
     "name": "stdout",
     "output_type": "stream",
     "text": [
      "Read 40000 samples\n",
      "Read meta: {'duration': 2.8672073400507907, 'meta': {}}\n",
      "Uploading ~/mvg/docs/source/content/examples/va-data-charlie/charlieDb/acc/u0001/1574164860.csv\n"
     ]
    },
    {
     "name": "stderr",
     "output_type": "stream",
     "text": [
      "2021-09-22 20:11:56,655 - INFO - mvg.mvg - endpoint https://api.beta.multiviz.com\n",
      "2021-09-22 20:11:56,655 - INFO - mvg.mvg - creating measurement from source id=u0001\n",
      "2021-09-22 20:11:56,656 - INFO - mvg.mvg -   duration:  2.8672073400507907\n",
      "2021-09-22 20:11:56,657 - INFO - mvg.mvg -   timestamp: 1574251260\n",
      "2021-09-22 20:11:56,657 - INFO - mvg.mvg -   meta data: {'sampling_rate': 13950.857142857141}\n"
     ]
    },
    {
     "name": "stdout",
     "output_type": "stream",
     "text": [
      "Read 40000 samples\n",
      "Read meta: {'duration': 2.8672073400507907, 'meta': {}}\n",
      "Uploading ~/mvg/docs/source/content/examples/va-data-charlie/charlieDb/acc/u0001/1574251260.csv\n"
     ]
    },
    {
     "name": "stderr",
     "output_type": "stream",
     "text": [
      "2021-09-22 20:11:57,599 - INFO - mvg.mvg - endpoint https://api.beta.multiviz.com\n",
      "2021-09-22 20:11:57,600 - INFO - mvg.mvg - creating measurement from source id=u0001\n",
      "2021-09-22 20:11:57,600 - INFO - mvg.mvg -   duration:  2.8672073400507907\n",
      "2021-09-22 20:11:57,601 - INFO - mvg.mvg -   timestamp: 1574337660\n",
      "2021-09-22 20:11:57,601 - INFO - mvg.mvg -   meta data: {'sampling_rate': 13950.857142857141}\n"
     ]
    },
    {
     "name": "stdout",
     "output_type": "stream",
     "text": [
      "Read 40000 samples\n",
      "Read meta: {'duration': 2.8672073400507907, 'meta': {}}\n",
      "Uploading ~/mvg/docs/source/content/examples/va-data-charlie/charlieDb/acc/u0001/1574337660.csv\n"
     ]
    },
    {
     "name": "stderr",
     "output_type": "stream",
     "text": [
      "2021-09-22 20:11:59,114 - INFO - mvg.mvg - endpoint https://api.beta.multiviz.com\n",
      "2021-09-22 20:11:59,115 - INFO - mvg.mvg - creating measurement from source id=u0001\n",
      "2021-09-22 20:11:59,117 - INFO - mvg.mvg -   duration:  2.8672073400507907\n",
      "2021-09-22 20:11:59,118 - INFO - mvg.mvg -   timestamp: 1574424060\n",
      "2021-09-22 20:11:59,119 - INFO - mvg.mvg -   meta data: {'sampling_rate': 13950.857142857141}\n"
     ]
    },
    {
     "name": "stdout",
     "output_type": "stream",
     "text": [
      "Read 40000 samples\n",
      "Read meta: {'duration': 2.8672073400507907, 'meta': {}}\n",
      "Uploading ~/mvg/docs/source/content/examples/va-data-charlie/charlieDb/acc/u0001/1574424060.csv\n"
     ]
    }
   ],
   "source": [
    "for m in meas:\n",
    "\n",
    "    # samples file for one measurement\n",
    "    TS_MEAS = str(m) + \".csv\"  # filename\n",
    "    TS_MEAS = REF_DB_PATH / SOURCE_ID / TS_MEAS  # path to file\n",
    "    ts_df = pd.read_csv(TS_MEAS)  # read csv into df\n",
    "    accs = ts_df.iloc[:, 0].tolist()  # convert to list\n",
    "    print(f\"Read {len(accs)} samples\")\n",
    "\n",
    "    # meta information file for one measurement\n",
    "    TS_META = str(m) + \".json\"  # filename\n",
    "    TS_META = REF_DB_PATH / SOURCE_ID / TS_META  # path\n",
    "    with open(TS_META, \"r\") as json_file:  # read json\n",
    "        meas_info = json.load(json_file)  # into dict\n",
    "    print(f\"Read meta: {meas_info}\")\n",
    "\n",
    "    # get duration and other meta info\n",
    "    duration = meas_info['duration']\n",
    "    meta_info = meas_info['meta']\n",
    "    # add sampling rate, not required by vibration API\n",
    "    # but may be used on client side\n",
    "    # in general any information can be stored\n",
    "    # along the actual samples\n",
    "    meta_info['sampling_rate'] = len(accs)/duration\n",
    "    # <<< end of code specific for repo\n",
    "\n",
    "    # Upload measurements\n",
    "    print(f\"Uploading {TS_MEAS}\")\n",
    "    try:\n",
    "        # see mvg for details on this call\n",
    "        session.create_measurement(sid=SOURCE_ID,\n",
    "                                   duration=duration,\n",
    "                                   timestamp=m,\n",
    "                                   data={\"acc\": accs},\n",
    "                                   meta=meta_info)\n",
    "    except HTTPError as exc:\n",
    "        print(\"OUCH\")\n",
    "        print(exc)"
   ]
  },
  {
   "cell_type": "markdown",
   "id": "fatty-certification",
   "metadata": {},
   "source": [
    "## Read the Measurements"
   ]
  },
  {
   "cell_type": "markdown",
   "id": "vanilla-illustration",
   "metadata": {},
   "source": [
    "Check if we actually created the measurements by reading them"
   ]
  },
  {
   "cell_type": "code",
   "execution_count": 16,
   "id": "undefined-annual",
   "metadata": {
    "ExecuteTime": {
     "end_time": "2021-03-18T09:55:41.728688Z",
     "start_time": "2021-03-18T09:55:15.658652Z"
    }
   },
   "outputs": [
    {
     "name": "stderr",
     "output_type": "stream",
     "text": [
      "2021-09-22 20:12:00,034 - INFO - mvg.mvg - endpoint https://api.beta.multiviz.com\n",
      "2021-09-22 20:12:00,036 - INFO - mvg.mvg - retrieving all measurements from source id=u0001\n",
      "2021-09-22 20:12:00,236 - INFO - mvg.mvg - 50 measurements in database\n"
     ]
    },
    {
     "name": "stdout",
     "output_type": "stream",
     "text": [
      "Read 50 stored measurements\n"
     ]
    }
   ],
   "source": [
    "m = session.list_measurements(SOURCE_ID)\n",
    "print(f\"Read {len(m)} stored measurements\")"
   ]
  },
  {
   "cell_type": "markdown",
   "id": "further-freeware",
   "metadata": {},
   "source": [
    "It is also possible to read a specific measurement at a single timestamp.\n",
    "Let's get the timestamp of the first measurement."
   ]
  },
  {
   "cell_type": "code",
   "execution_count": 19,
   "id": "unknown-catering",
   "metadata": {
    "ExecuteTime": {
     "end_time": "2021-03-18T09:55:42.225546Z",
     "start_time": "2021-03-18T09:55:41.729876Z"
    }
   },
   "outputs": [
    {
     "name": "stderr",
     "output_type": "stream",
     "text": [
      "2021-09-22 20:13:04,777 - INFO - mvg.mvg - endpoint https://api.beta.multiviz.com\n",
      "2021-09-22 20:13:04,779 - INFO - mvg.mvg - retrieving measurements from source id=u0001\n",
      "2021-09-22 20:13:04,779 - INFO - mvg.mvg - timestamp=1570186860\n"
     ]
    },
    {
     "name": "stdout",
     "output_type": "stream",
     "text": [
      "source_id: u0001\n",
      "timestamp: 1570186860\n",
      "duration:  2.8672073400507907\n",
      "meta:      {'sampling_rate': 13950.857142857141}\n",
      "data:      [0.63897705078125, -0.55078125]...\n"
     ]
    }
   ],
   "source": [
    "ts_0 = m[0]['timestamp']\n",
    "meas_0 = session.read_single_measurement(SOURCE_ID, ts_0)\n",
    "# we'll printout the returned measurement\n",
    "print(f\"source_id: {SOURCE_ID}\")\n",
    "print(f\"timestamp: {ts_0}\")\n",
    "print(f\"duration:  {meas_0['duration']}\")\n",
    "print(f\"meta:      {meas_0['meta']}\")\n",
    "print(f\"data:      {meas_0['data']['acc'][1:3]}...\")"
   ]
  },
  {
   "cell_type": "markdown",
   "id": "renewable-subdivision",
   "metadata": {},
   "source": [
    "We can update the meta information for a measurement at a single timestamp let's get the timestamp of the first measurement"
   ]
  },
  {
   "cell_type": "code",
   "execution_count": 21,
   "id": "ancient-baking",
   "metadata": {
    "ExecuteTime": {
     "end_time": "2021-03-18T09:55:42.870908Z",
     "start_time": "2021-03-18T09:55:42.226689Z"
    }
   },
   "outputs": [
    {
     "name": "stderr",
     "output_type": "stream",
     "text": [
      "2021-09-22 20:13:29,345 - INFO - mvg.mvg - endpoint https://api.beta.multiviz.com\n",
      "2021-09-22 20:13:29,346 - INFO - mvg.mvg - deleting measurement for source id=u0001\n",
      "2021-09-22 20:13:29,347 - INFO - mvg.mvg -   timestamp: 1570186860\n",
      "2021-09-22 20:13:29,531 - INFO - mvg.mvg - endpoint https://api.beta.multiviz.com\n",
      "2021-09-22 20:13:29,532 - INFO - mvg.mvg - retrieving measurements from source id=u0001\n",
      "2021-09-22 20:13:29,533 - INFO - mvg.mvg - timestamp=1570186860\n"
     ]
    },
    {
     "name": "stdout",
     "output_type": "stream",
     "text": [
      "source_id: u0001\n",
      "timestamp: 1570186860\n",
      "duration:  2.8672073400507907\n",
      "meta:      {'sampling_rate': 13950.857142857141, 'updated': 'YES!'}\n",
      "data:      [0.63897705078125, -0.55078125]...\n"
     ]
    }
   ],
   "source": [
    "ts_0 = m[0]['timestamp']\n",
    "new_meta = meas_0['meta']\n",
    "new_meta['updated'] = \"YES!\"\n",
    "session.update_measurement(SOURCE_ID, ts_0, new_meta)\n",
    "meas_0_u = session.read_single_measurement(SOURCE_ID, ts_0)\n",
    "\n",
    "# we'll printout the returned measurement\n",
    "print(f\"source_id: {SOURCE_ID}\")\n",
    "print(f\"timestamp: {ts_0}\")\n",
    "print(f\"duration:  {meas_0_u['duration']}\")\n",
    "print(f\"meta:      {meas_0_u['meta']}\")\n",
    "print(f\"data:      {meas_0_u['data']['acc'][1:3]}...\")"
   ]
  },
  {
   "cell_type": "markdown",
   "id": "posted-adjustment",
   "metadata": {},
   "source": [
    "Finally we delete the measurement"
   ]
  },
  {
   "cell_type": "code",
   "execution_count": 22,
   "id": "homeless-revelation",
   "metadata": {
    "ExecuteTime": {
     "end_time": "2021-03-18T09:55:43.023114Z",
     "start_time": "2021-03-18T09:55:42.872176Z"
    }
   },
   "outputs": [
    {
     "name": "stderr",
     "output_type": "stream",
     "text": [
      "2021-09-22 20:13:34,597 - INFO - mvg.mvg - endpoint https://api.beta.multiviz.com\n",
      "2021-09-22 20:13:34,599 - INFO - mvg.mvg - deleting measurement for source id=u0001\n",
      "2021-09-22 20:13:34,599 - INFO - mvg.mvg -   timestamp: 1570186860\n"
     ]
    }
   ],
   "source": [
    "session.delete_measurement(SOURCE_ID, ts_0)"
   ]
  },
  {
   "cell_type": "markdown",
   "id": "nearby-methodology",
   "metadata": {},
   "source": [
    "We check if it's actually deleted"
   ]
  },
  {
   "cell_type": "code",
   "execution_count": 23,
   "id": "resident-singapore",
   "metadata": {
    "ExecuteTime": {
     "end_time": "2021-03-18T09:55:43.153589Z",
     "start_time": "2021-03-18T09:55:43.024498Z"
    }
   },
   "outputs": [
    {
     "name": "stderr",
     "output_type": "stream",
     "text": [
      "2021-09-22 20:13:38,561 - INFO - mvg.mvg - endpoint https://api.beta.multiviz.com\n",
      "2021-09-22 20:13:38,563 - INFO - mvg.mvg - retrieving measurements from source id=u0001\n",
      "2021-09-22 20:13:38,564 - INFO - mvg.mvg - timestamp=1570186860\n"
     ]
    },
    {
     "name": "stdout",
     "output_type": "stream",
     "text": [
      "Previously deleted measurement does not exist\n"
     ]
    }
   ],
   "source": [
    "try:\n",
    "    meas_0 = session.read_single_measurement(SOURCE_ID, ts_0)\n",
    "except HTTPError:\n",
    "    print(\"Previously deleted measurement does not exist\")"
   ]
  },
  {
   "cell_type": "markdown",
   "id": "practical-murder",
   "metadata": {},
   "source": [
    "If all went well we end up here now.\n",
    "The source u0001 is in the database along with a number of its measurements."
   ]
  },
  {
   "cell_type": "markdown",
   "id": "dimensional-ethnic",
   "metadata": {},
   "source": [
    "## Uploading additional sources\n",
    "\n",
    "Here we show how to upload additional sources in a more compact way."
   ]
  },
  {
   "cell_type": "code",
   "execution_count": 26,
   "id": "compatible-insurance",
   "metadata": {
    "ExecuteTime": {
     "end_time": "2021-03-18T09:56:43.305948Z",
     "start_time": "2021-03-18T09:55:43.154900Z"
    },
    "pycharm": {
     "name": "#%%\n"
    }
   },
   "outputs": [
    {
     "name": "stderr",
     "output_type": "stream",
     "text": [
      "2021-09-22 20:52:39,692 - INFO - mvg.mvg - endpoint https://api.beta.multiviz.com\n",
      "2021-09-22 20:52:39,696 - INFO - mvg.mvg - deleting source with source id=u0002\n"
     ]
    },
    {
     "name": "stdout",
     "output_type": "stream",
     "text": [
      "Deleting u0002\n"
     ]
    },
    {
     "name": "stderr",
     "output_type": "stream",
     "text": [
      "2021-09-22 20:52:39,956 - INFO - mvg.mvg - endpoint https://api.beta.multiviz.com\n",
      "2021-09-22 20:52:39,958 - INFO - mvg.mvg - creating source with source id=u0002\n",
      "2021-09-22 20:52:39,959 - INFO - mvg.mvg - metadata: {'assetId': 'assetB', 'measPoint': 'mloc01', 'location': 'paris'}\n",
      "2021-09-22 20:52:40,179 - INFO - mvg.mvg - endpoint https://api.beta.multiviz.com\n",
      "2021-09-22 20:52:40,180 - INFO - mvg.mvg - creating measurement from source id=u0002\n",
      "2021-09-22 20:52:40,181 - INFO - mvg.mvg -   duration:  2.8672073400507907\n",
      "2021-09-22 20:52:40,182 - INFO - mvg.mvg -   timestamp: 1570186860\n",
      "2021-09-22 20:52:40,183 - INFO - mvg.mvg -   meta data: {'sampling_rate': 13950.857142857141}\n"
     ]
    },
    {
     "name": "stdout",
     "output_type": "stream",
     "text": [
      "Read 40000 samples for u0002.\n",
      "Read u0002 meta: {'duration': 2.8672073400507907, 'meta': {}}\n",
      "Uploading ~/mvg/docs/source/content/examples/va-data-charlie/charlieDb/acc/u0002/1570186860.csv\n"
     ]
    },
    {
     "name": "stderr",
     "output_type": "stream",
     "text": [
      "2021-09-22 20:52:41,154 - INFO - mvg.mvg - endpoint https://api.beta.multiviz.com\n",
      "2021-09-22 20:52:41,155 - INFO - mvg.mvg - creating measurement from source id=u0002\n",
      "2021-09-22 20:52:41,156 - INFO - mvg.mvg -   duration:  2.8672073400507907\n",
      "2021-09-22 20:52:41,157 - INFO - mvg.mvg -   timestamp: 1570273260\n",
      "2021-09-22 20:52:41,158 - INFO - mvg.mvg -   meta data: {'sampling_rate': 13950.857142857141}\n"
     ]
    },
    {
     "name": "stdout",
     "output_type": "stream",
     "text": [
      "Read 40000 samples for u0002.\n",
      "Read u0002 meta: {'duration': 2.8672073400507907, 'meta': {}}\n",
      "Uploading ~/mvg/docs/source/content/examples/va-data-charlie/charlieDb/acc/u0002/1570273260.csv\n"
     ]
    },
    {
     "name": "stderr",
     "output_type": "stream",
     "text": [
      "2021-09-22 20:52:42,184 - INFO - mvg.mvg - endpoint https://api.beta.multiviz.com\n",
      "2021-09-22 20:52:42,185 - INFO - mvg.mvg - creating measurement from source id=u0002\n",
      "2021-09-22 20:52:42,186 - INFO - mvg.mvg -   duration:  2.8672073400507907\n",
      "2021-09-22 20:52:42,187 - INFO - mvg.mvg -   timestamp: 1570359660\n",
      "2021-09-22 20:52:42,188 - INFO - mvg.mvg -   meta data: {'sampling_rate': 13950.857142857141}\n"
     ]
    },
    {
     "name": "stdout",
     "output_type": "stream",
     "text": [
      "Read 40000 samples for u0002.\n",
      "Read u0002 meta: {'duration': 2.8672073400507907, 'meta': {}}\n",
      "Uploading ~/mvg/docs/source/content/examples/va-data-charlie/charlieDb/acc/u0002/1570359660.csv\n"
     ]
    },
    {
     "name": "stderr",
     "output_type": "stream",
     "text": [
      "2021-09-22 20:52:43,113 - INFO - mvg.mvg - endpoint https://api.beta.multiviz.com\n",
      "2021-09-22 20:52:43,114 - INFO - mvg.mvg - creating measurement from source id=u0002\n",
      "2021-09-22 20:52:43,115 - INFO - mvg.mvg -   duration:  2.8672073400507907\n",
      "2021-09-22 20:52:43,116 - INFO - mvg.mvg -   timestamp: 1570446060\n",
      "2021-09-22 20:52:43,117 - INFO - mvg.mvg -   meta data: {'sampling_rate': 13950.857142857141}\n"
     ]
    },
    {
     "name": "stdout",
     "output_type": "stream",
     "text": [
      "Read 40000 samples for u0002.\n",
      "Read u0002 meta: {'duration': 2.8672073400507907, 'meta': {}}\n",
      "Uploading ~/mvg/docs/source/content/examples/va-data-charlie/charlieDb/acc/u0002/1570446060.csv\n"
     ]
    },
    {
     "name": "stderr",
     "output_type": "stream",
     "text": [
      "2021-09-22 20:52:44,039 - INFO - mvg.mvg - endpoint https://api.beta.multiviz.com\n",
      "2021-09-22 20:52:44,040 - INFO - mvg.mvg - creating measurement from source id=u0002\n",
      "2021-09-22 20:52:44,041 - INFO - mvg.mvg -   duration:  2.8672073400507907\n",
      "2021-09-22 20:52:44,041 - INFO - mvg.mvg -   timestamp: 1570532460\n",
      "2021-09-22 20:52:44,042 - INFO - mvg.mvg -   meta data: {'sampling_rate': 13950.857142857141}\n"
     ]
    },
    {
     "name": "stdout",
     "output_type": "stream",
     "text": [
      "Read 40000 samples for u0002.\n",
      "Read u0002 meta: {'duration': 2.8672073400507907, 'meta': {}}\n",
      "Uploading ~/mvg/docs/source/content/examples/va-data-charlie/charlieDb/acc/u0002/1570532460.csv\n"
     ]
    },
    {
     "name": "stderr",
     "output_type": "stream",
     "text": [
      "2021-09-22 20:52:45,001 - INFO - mvg.mvg - endpoint https://api.beta.multiviz.com\n",
      "2021-09-22 20:52:45,002 - INFO - mvg.mvg - creating measurement from source id=u0002\n",
      "2021-09-22 20:52:45,003 - INFO - mvg.mvg -   duration:  2.8672073400507907\n",
      "2021-09-22 20:52:45,005 - INFO - mvg.mvg -   timestamp: 1570618860\n",
      "2021-09-22 20:52:45,007 - INFO - mvg.mvg -   meta data: {'sampling_rate': 13950.857142857141}\n"
     ]
    },
    {
     "name": "stdout",
     "output_type": "stream",
     "text": [
      "Read 40000 samples for u0002.\n",
      "Read u0002 meta: {'duration': 2.8672073400507907, 'meta': {}}\n",
      "Uploading ~/mvg/docs/source/content/examples/va-data-charlie/charlieDb/acc/u0002/1570618860.csv\n"
     ]
    },
    {
     "name": "stderr",
     "output_type": "stream",
     "text": [
      "2021-09-22 20:52:46,033 - INFO - mvg.mvg - endpoint https://api.beta.multiviz.com\n",
      "2021-09-22 20:52:46,034 - INFO - mvg.mvg - creating measurement from source id=u0002\n",
      "2021-09-22 20:52:46,035 - INFO - mvg.mvg -   duration:  2.8672073400507907\n",
      "2021-09-22 20:52:46,036 - INFO - mvg.mvg -   timestamp: 1570705260\n",
      "2021-09-22 20:52:46,037 - INFO - mvg.mvg -   meta data: {'sampling_rate': 13950.857142857141}\n"
     ]
    },
    {
     "name": "stdout",
     "output_type": "stream",
     "text": [
      "Read 40000 samples for u0002.\n",
      "Read u0002 meta: {'duration': 2.8672073400507907, 'meta': {}}\n",
      "Uploading ~/mvg/docs/source/content/examples/va-data-charlie/charlieDb/acc/u0002/1570705260.csv\n"
     ]
    },
    {
     "name": "stderr",
     "output_type": "stream",
     "text": [
      "2021-09-22 20:52:47,026 - INFO - mvg.mvg - endpoint https://api.beta.multiviz.com\n",
      "2021-09-22 20:52:47,027 - INFO - mvg.mvg - creating measurement from source id=u0002\n",
      "2021-09-22 20:52:47,027 - INFO - mvg.mvg -   duration:  2.8672073400507907\n",
      "2021-09-22 20:52:47,028 - INFO - mvg.mvg -   timestamp: 1570791660\n",
      "2021-09-22 20:52:47,031 - INFO - mvg.mvg -   meta data: {'sampling_rate': 13950.857142857141}\n"
     ]
    },
    {
     "name": "stdout",
     "output_type": "stream",
     "text": [
      "Read 40000 samples for u0002.\n",
      "Read u0002 meta: {'duration': 2.8672073400507907, 'meta': {}}\n",
      "Uploading ~/mvg/docs/source/content/examples/va-data-charlie/charlieDb/acc/u0002/1570791660.csv\n"
     ]
    },
    {
     "name": "stderr",
     "output_type": "stream",
     "text": [
      "2021-09-22 20:52:47,988 - INFO - mvg.mvg - endpoint https://api.beta.multiviz.com\n",
      "2021-09-22 20:52:47,988 - INFO - mvg.mvg - creating measurement from source id=u0002\n",
      "2021-09-22 20:52:47,989 - INFO - mvg.mvg -   duration:  2.8672073400507907\n",
      "2021-09-22 20:52:47,990 - INFO - mvg.mvg -   timestamp: 1570878060\n",
      "2021-09-22 20:52:47,991 - INFO - mvg.mvg -   meta data: {'sampling_rate': 13950.857142857141}\n"
     ]
    },
    {
     "name": "stdout",
     "output_type": "stream",
     "text": [
      "Read 40000 samples for u0002.\n",
      "Read u0002 meta: {'duration': 2.8672073400507907, 'meta': {}}\n",
      "Uploading ~/mvg/docs/source/content/examples/va-data-charlie/charlieDb/acc/u0002/1570878060.csv\n"
     ]
    },
    {
     "name": "stderr",
     "output_type": "stream",
     "text": [
      "2021-09-22 20:52:48,922 - INFO - mvg.mvg - endpoint https://api.beta.multiviz.com\n",
      "2021-09-22 20:52:48,923 - INFO - mvg.mvg - creating measurement from source id=u0002\n",
      "2021-09-22 20:52:48,924 - INFO - mvg.mvg -   duration:  2.8672073400507907\n",
      "2021-09-22 20:52:48,925 - INFO - mvg.mvg -   timestamp: 1570964460\n",
      "2021-09-22 20:52:48,926 - INFO - mvg.mvg -   meta data: {'sampling_rate': 13950.857142857141}\n"
     ]
    },
    {
     "name": "stdout",
     "output_type": "stream",
     "text": [
      "Read 40000 samples for u0002.\n",
      "Read u0002 meta: {'duration': 2.8672073400507907, 'meta': {}}\n",
      "Uploading ~/mvg/docs/source/content/examples/va-data-charlie/charlieDb/acc/u0002/1570964460.csv\n"
     ]
    },
    {
     "name": "stderr",
     "output_type": "stream",
     "text": [
      "2021-09-22 20:52:49,870 - INFO - mvg.mvg - endpoint https://api.beta.multiviz.com\n",
      "2021-09-22 20:52:49,870 - INFO - mvg.mvg - creating measurement from source id=u0002\n",
      "2021-09-22 20:52:49,872 - INFO - mvg.mvg -   duration:  2.8672073400507907\n",
      "2021-09-22 20:52:49,873 - INFO - mvg.mvg -   timestamp: 1571050860\n",
      "2021-09-22 20:52:49,874 - INFO - mvg.mvg -   meta data: {'sampling_rate': 13950.857142857141}\n"
     ]
    },
    {
     "name": "stdout",
     "output_type": "stream",
     "text": [
      "Read 40000 samples for u0002.\n",
      "Read u0002 meta: {'duration': 2.8672073400507907, 'meta': {}}\n",
      "Uploading ~/mvg/docs/source/content/examples/va-data-charlie/charlieDb/acc/u0002/1571050860.csv\n"
     ]
    },
    {
     "name": "stderr",
     "output_type": "stream",
     "text": [
      "2021-09-22 20:52:50,827 - INFO - mvg.mvg - endpoint https://api.beta.multiviz.com\n",
      "2021-09-22 20:52:50,828 - INFO - mvg.mvg - creating measurement from source id=u0002\n",
      "2021-09-22 20:52:50,829 - INFO - mvg.mvg -   duration:  2.8672073400507907\n",
      "2021-09-22 20:52:50,830 - INFO - mvg.mvg -   timestamp: 1571137260\n",
      "2021-09-22 20:52:50,831 - INFO - mvg.mvg -   meta data: {'sampling_rate': 13950.857142857141}\n"
     ]
    },
    {
     "name": "stdout",
     "output_type": "stream",
     "text": [
      "Read 40000 samples for u0002.\n",
      "Read u0002 meta: {'duration': 2.8672073400507907, 'meta': {}}\n",
      "Uploading ~/mvg/docs/source/content/examples/va-data-charlie/charlieDb/acc/u0002/1571137260.csv\n"
     ]
    },
    {
     "name": "stderr",
     "output_type": "stream",
     "text": [
      "2021-09-22 20:52:51,764 - INFO - mvg.mvg - endpoint https://api.beta.multiviz.com\n",
      "2021-09-22 20:52:51,765 - INFO - mvg.mvg - creating measurement from source id=u0002\n",
      "2021-09-22 20:52:51,766 - INFO - mvg.mvg -   duration:  2.8672073400507907\n",
      "2021-09-22 20:52:51,768 - INFO - mvg.mvg -   timestamp: 1571223660\n",
      "2021-09-22 20:52:51,769 - INFO - mvg.mvg -   meta data: {'sampling_rate': 13950.857142857141}\n"
     ]
    },
    {
     "name": "stdout",
     "output_type": "stream",
     "text": [
      "Read 40000 samples for u0002.\n",
      "Read u0002 meta: {'duration': 2.8672073400507907, 'meta': {}}\n",
      "Uploading ~/mvg/docs/source/content/examples/va-data-charlie/charlieDb/acc/u0002/1571223660.csv\n"
     ]
    },
    {
     "name": "stderr",
     "output_type": "stream",
     "text": [
      "2021-09-22 20:52:52,709 - INFO - mvg.mvg - endpoint https://api.beta.multiviz.com\n",
      "2021-09-22 20:52:52,710 - INFO - mvg.mvg - creating measurement from source id=u0002\n",
      "2021-09-22 20:52:52,711 - INFO - mvg.mvg -   duration:  2.8672073400507907\n",
      "2021-09-22 20:52:52,712 - INFO - mvg.mvg -   timestamp: 1571310060\n",
      "2021-09-22 20:52:52,713 - INFO - mvg.mvg -   meta data: {'sampling_rate': 13950.857142857141}\n"
     ]
    },
    {
     "name": "stdout",
     "output_type": "stream",
     "text": [
      "Read 40000 samples for u0002.\n",
      "Read u0002 meta: {'duration': 2.8672073400507907, 'meta': {}}\n",
      "Uploading ~/mvg/docs/source/content/examples/va-data-charlie/charlieDb/acc/u0002/1571310060.csv\n"
     ]
    },
    {
     "name": "stderr",
     "output_type": "stream",
     "text": [
      "2021-09-22 20:52:54,567 - INFO - mvg.mvg - endpoint https://api.beta.multiviz.com\n",
      "2021-09-22 20:52:54,568 - INFO - mvg.mvg - creating measurement from source id=u0002\n",
      "2021-09-22 20:52:54,569 - INFO - mvg.mvg -   duration:  2.8672073400507907\n",
      "2021-09-22 20:52:54,570 - INFO - mvg.mvg -   timestamp: 1571396460\n",
      "2021-09-22 20:52:54,571 - INFO - mvg.mvg -   meta data: {'sampling_rate': 13950.857142857141}\n"
     ]
    },
    {
     "name": "stdout",
     "output_type": "stream",
     "text": [
      "Read 40000 samples for u0002.\n",
      "Read u0002 meta: {'duration': 2.8672073400507907, 'meta': {}}\n",
      "Uploading ~/mvg/docs/source/content/examples/va-data-charlie/charlieDb/acc/u0002/1571396460.csv\n"
     ]
    },
    {
     "name": "stderr",
     "output_type": "stream",
     "text": [
      "2021-09-22 20:52:55,521 - INFO - mvg.mvg - endpoint https://api.beta.multiviz.com\n",
      "2021-09-22 20:52:55,521 - INFO - mvg.mvg - creating measurement from source id=u0002\n",
      "2021-09-22 20:52:55,524 - INFO - mvg.mvg -   duration:  2.8672073400507907\n",
      "2021-09-22 20:52:55,525 - INFO - mvg.mvg -   timestamp: 1571482860\n",
      "2021-09-22 20:52:55,526 - INFO - mvg.mvg -   meta data: {'sampling_rate': 13950.857142857141}\n"
     ]
    },
    {
     "name": "stdout",
     "output_type": "stream",
     "text": [
      "Read 40000 samples for u0002.\n",
      "Read u0002 meta: {'duration': 2.8672073400507907, 'meta': {}}\n",
      "Uploading ~/mvg/docs/source/content/examples/va-data-charlie/charlieDb/acc/u0002/1571482860.csv\n"
     ]
    },
    {
     "name": "stderr",
     "output_type": "stream",
     "text": [
      "2021-09-22 20:52:56,465 - INFO - mvg.mvg - endpoint https://api.beta.multiviz.com\n",
      "2021-09-22 20:52:56,466 - INFO - mvg.mvg - creating measurement from source id=u0002\n",
      "2021-09-22 20:52:56,467 - INFO - mvg.mvg -   duration:  2.8672073400507907\n",
      "2021-09-22 20:52:56,469 - INFO - mvg.mvg -   timestamp: 1571569260\n",
      "2021-09-22 20:52:56,471 - INFO - mvg.mvg -   meta data: {'sampling_rate': 13950.857142857141}\n"
     ]
    },
    {
     "name": "stdout",
     "output_type": "stream",
     "text": [
      "Read 40000 samples for u0002.\n",
      "Read u0002 meta: {'duration': 2.8672073400507907, 'meta': {}}\n",
      "Uploading ~/mvg/docs/source/content/examples/va-data-charlie/charlieDb/acc/u0002/1571569260.csv\n"
     ]
    },
    {
     "name": "stderr",
     "output_type": "stream",
     "text": [
      "2021-09-22 20:52:57,412 - INFO - mvg.mvg - endpoint https://api.beta.multiviz.com\n",
      "2021-09-22 20:52:57,413 - INFO - mvg.mvg - creating measurement from source id=u0002\n",
      "2021-09-22 20:52:57,414 - INFO - mvg.mvg -   duration:  2.8672073400507907\n",
      "2021-09-22 20:52:57,415 - INFO - mvg.mvg -   timestamp: 1571655660\n",
      "2021-09-22 20:52:57,416 - INFO - mvg.mvg -   meta data: {'sampling_rate': 13950.857142857141}\n"
     ]
    },
    {
     "name": "stdout",
     "output_type": "stream",
     "text": [
      "Read 40000 samples for u0002.\n",
      "Read u0002 meta: {'duration': 2.8672073400507907, 'meta': {}}\n",
      "Uploading ~/mvg/docs/source/content/examples/va-data-charlie/charlieDb/acc/u0002/1571655660.csv\n"
     ]
    },
    {
     "name": "stderr",
     "output_type": "stream",
     "text": [
      "2021-09-22 20:52:58,369 - INFO - mvg.mvg - endpoint https://api.beta.multiviz.com\n",
      "2021-09-22 20:52:58,371 - INFO - mvg.mvg - creating measurement from source id=u0002\n",
      "2021-09-22 20:52:58,373 - INFO - mvg.mvg -   duration:  2.8672073400507907\n",
      "2021-09-22 20:52:58,374 - INFO - mvg.mvg -   timestamp: 1571742060\n",
      "2021-09-22 20:52:58,375 - INFO - mvg.mvg -   meta data: {'sampling_rate': 13950.857142857141}\n"
     ]
    },
    {
     "name": "stdout",
     "output_type": "stream",
     "text": [
      "Read 40000 samples for u0002.\n",
      "Read u0002 meta: {'duration': 2.8672073400507907, 'meta': {}}\n",
      "Uploading ~/mvg/docs/source/content/examples/va-data-charlie/charlieDb/acc/u0002/1571742060.csv\n"
     ]
    },
    {
     "name": "stderr",
     "output_type": "stream",
     "text": [
      "2021-09-22 20:52:59,327 - INFO - mvg.mvg - endpoint https://api.beta.multiviz.com\n",
      "2021-09-22 20:52:59,328 - INFO - mvg.mvg - creating measurement from source id=u0002\n",
      "2021-09-22 20:52:59,329 - INFO - mvg.mvg -   duration:  2.8672073400507907\n",
      "2021-09-22 20:52:59,332 - INFO - mvg.mvg -   timestamp: 1571828460\n",
      "2021-09-22 20:52:59,333 - INFO - mvg.mvg -   meta data: {'sampling_rate': 13950.857142857141}\n"
     ]
    },
    {
     "name": "stdout",
     "output_type": "stream",
     "text": [
      "Read 40000 samples for u0002.\n",
      "Read u0002 meta: {'duration': 2.8672073400507907, 'meta': {}}\n",
      "Uploading ~/mvg/docs/source/content/examples/va-data-charlie/charlieDb/acc/u0002/1571828460.csv\n"
     ]
    },
    {
     "name": "stderr",
     "output_type": "stream",
     "text": [
      "2021-09-22 20:53:00,280 - INFO - mvg.mvg - endpoint https://api.beta.multiviz.com\n",
      "2021-09-22 20:53:00,282 - INFO - mvg.mvg - creating measurement from source id=u0002\n",
      "2021-09-22 20:53:00,282 - INFO - mvg.mvg -   duration:  2.8672073400507907\n",
      "2021-09-22 20:53:00,284 - INFO - mvg.mvg -   timestamp: 1571914860\n",
      "2021-09-22 20:53:00,285 - INFO - mvg.mvg -   meta data: {'sampling_rate': 13950.857142857141}\n"
     ]
    },
    {
     "name": "stdout",
     "output_type": "stream",
     "text": [
      "Read 40000 samples for u0002.\n",
      "Read u0002 meta: {'duration': 2.8672073400507907, 'meta': {}}\n",
      "Uploading ~/mvg/docs/source/content/examples/va-data-charlie/charlieDb/acc/u0002/1571914860.csv\n"
     ]
    },
    {
     "name": "stderr",
     "output_type": "stream",
     "text": [
      "2021-09-22 20:53:01,228 - INFO - mvg.mvg - endpoint https://api.beta.multiviz.com\n",
      "2021-09-22 20:53:01,230 - INFO - mvg.mvg - creating measurement from source id=u0002\n",
      "2021-09-22 20:53:01,231 - INFO - mvg.mvg -   duration:  2.8672073400507907\n",
      "2021-09-22 20:53:01,232 - INFO - mvg.mvg -   timestamp: 1572001260\n",
      "2021-09-22 20:53:01,233 - INFO - mvg.mvg -   meta data: {'sampling_rate': 13950.857142857141}\n"
     ]
    },
    {
     "name": "stdout",
     "output_type": "stream",
     "text": [
      "Read 40000 samples for u0002.\n",
      "Read u0002 meta: {'duration': 2.8672073400507907, 'meta': {}}\n",
      "Uploading ~/mvg/docs/source/content/examples/va-data-charlie/charlieDb/acc/u0002/1572001260.csv\n"
     ]
    },
    {
     "name": "stderr",
     "output_type": "stream",
     "text": [
      "2021-09-22 20:53:02,201 - INFO - mvg.mvg - endpoint https://api.beta.multiviz.com\n",
      "2021-09-22 20:53:02,202 - INFO - mvg.mvg - creating measurement from source id=u0002\n",
      "2021-09-22 20:53:02,203 - INFO - mvg.mvg -   duration:  2.8672073400507907\n",
      "2021-09-22 20:53:02,206 - INFO - mvg.mvg -   timestamp: 1572087660\n",
      "2021-09-22 20:53:02,207 - INFO - mvg.mvg -   meta data: {'sampling_rate': 13950.857142857141}\n"
     ]
    },
    {
     "name": "stdout",
     "output_type": "stream",
     "text": [
      "Read 40000 samples for u0002.\n",
      "Read u0002 meta: {'duration': 2.8672073400507907, 'meta': {}}\n",
      "Uploading ~/mvg/docs/source/content/examples/va-data-charlie/charlieDb/acc/u0002/1572087660.csv\n"
     ]
    },
    {
     "name": "stderr",
     "output_type": "stream",
     "text": [
      "2021-09-22 20:53:03,147 - INFO - mvg.mvg - endpoint https://api.beta.multiviz.com\n",
      "2021-09-22 20:53:03,148 - INFO - mvg.mvg - creating measurement from source id=u0002\n",
      "2021-09-22 20:53:03,149 - INFO - mvg.mvg -   duration:  2.8672073400507907\n",
      "2021-09-22 20:53:03,150 - INFO - mvg.mvg -   timestamp: 1572177660\n",
      "2021-09-22 20:53:03,151 - INFO - mvg.mvg -   meta data: {'sampling_rate': 13950.857142857141}\n"
     ]
    },
    {
     "name": "stdout",
     "output_type": "stream",
     "text": [
      "Read 40000 samples for u0002.\n",
      "Read u0002 meta: {'duration': 2.8672073400507907, 'meta': {}}\n",
      "Uploading ~/mvg/docs/source/content/examples/va-data-charlie/charlieDb/acc/u0002/1572177660.csv\n"
     ]
    },
    {
     "name": "stderr",
     "output_type": "stream",
     "text": [
      "2021-09-22 20:53:04,098 - INFO - mvg.mvg - endpoint https://api.beta.multiviz.com\n",
      "2021-09-22 20:53:04,100 - INFO - mvg.mvg - creating measurement from source id=u0002\n",
      "2021-09-22 20:53:04,101 - INFO - mvg.mvg -   duration:  2.8672073400507907\n",
      "2021-09-22 20:53:04,102 - INFO - mvg.mvg -   timestamp: 1572264060\n",
      "2021-09-22 20:53:04,103 - INFO - mvg.mvg -   meta data: {'sampling_rate': 13950.857142857141}\n"
     ]
    },
    {
     "name": "stdout",
     "output_type": "stream",
     "text": [
      "Read 40000 samples for u0002.\n",
      "Read u0002 meta: {'duration': 2.8672073400507907, 'meta': {}}\n",
      "Uploading ~/mvg/docs/source/content/examples/va-data-charlie/charlieDb/acc/u0002/1572264060.csv\n"
     ]
    },
    {
     "name": "stderr",
     "output_type": "stream",
     "text": [
      "2021-09-22 20:53:05,041 - INFO - mvg.mvg - endpoint https://api.beta.multiviz.com\n",
      "2021-09-22 20:53:05,042 - INFO - mvg.mvg - creating measurement from source id=u0002\n",
      "2021-09-22 20:53:05,043 - INFO - mvg.mvg -   duration:  2.8672073400507907\n",
      "2021-09-22 20:53:05,044 - INFO - mvg.mvg -   timestamp: 1572350460\n",
      "2021-09-22 20:53:05,045 - INFO - mvg.mvg -   meta data: {'sampling_rate': 13950.857142857141}\n"
     ]
    },
    {
     "name": "stdout",
     "output_type": "stream",
     "text": [
      "Read 40000 samples for u0002.\n",
      "Read u0002 meta: {'duration': 2.8672073400507907, 'meta': {}}\n",
      "Uploading ~/mvg/docs/source/content/examples/va-data-charlie/charlieDb/acc/u0002/1572350460.csv\n"
     ]
    },
    {
     "name": "stderr",
     "output_type": "stream",
     "text": [
      "2021-09-22 20:53:05,998 - INFO - mvg.mvg - endpoint https://api.beta.multiviz.com\n",
      "2021-09-22 20:53:06,000 - INFO - mvg.mvg - creating measurement from source id=u0002\n",
      "2021-09-22 20:53:06,000 - INFO - mvg.mvg -   duration:  2.8672073400507907\n",
      "2021-09-22 20:53:06,002 - INFO - mvg.mvg -   timestamp: 1572436860\n",
      "2021-09-22 20:53:06,003 - INFO - mvg.mvg -   meta data: {'sampling_rate': 13950.857142857141}\n"
     ]
    },
    {
     "name": "stdout",
     "output_type": "stream",
     "text": [
      "Read 40000 samples for u0002.\n",
      "Read u0002 meta: {'duration': 2.8672073400507907, 'meta': {}}\n",
      "Uploading ~/mvg/docs/source/content/examples/va-data-charlie/charlieDb/acc/u0002/1572436860.csv\n"
     ]
    },
    {
     "name": "stderr",
     "output_type": "stream",
     "text": [
      "2021-09-22 20:53:06,971 - INFO - mvg.mvg - endpoint https://api.beta.multiviz.com\n",
      "2021-09-22 20:53:06,971 - INFO - mvg.mvg - creating measurement from source id=u0002\n",
      "2021-09-22 20:53:06,972 - INFO - mvg.mvg -   duration:  2.8672073400507907\n",
      "2021-09-22 20:53:06,973 - INFO - mvg.mvg -   timestamp: 1572523260\n",
      "2021-09-22 20:53:06,974 - INFO - mvg.mvg -   meta data: {'sampling_rate': 13950.857142857141}\n"
     ]
    },
    {
     "name": "stdout",
     "output_type": "stream",
     "text": [
      "Read 40000 samples for u0002.\n",
      "Read u0002 meta: {'duration': 2.8672073400507907, 'meta': {}}\n",
      "Uploading ~/mvg/docs/source/content/examples/va-data-charlie/charlieDb/acc/u0002/1572523260.csv\n"
     ]
    },
    {
     "name": "stderr",
     "output_type": "stream",
     "text": [
      "2021-09-22 20:53:07,896 - INFO - mvg.mvg - endpoint https://api.beta.multiviz.com\n",
      "2021-09-22 20:53:07,896 - INFO - mvg.mvg - creating measurement from source id=u0002\n",
      "2021-09-22 20:53:07,897 - INFO - mvg.mvg -   duration:  2.8672073400507907\n",
      "2021-09-22 20:53:07,898 - INFO - mvg.mvg -   timestamp: 1572609660\n",
      "2021-09-22 20:53:07,900 - INFO - mvg.mvg -   meta data: {'sampling_rate': 13950.857142857141}\n"
     ]
    },
    {
     "name": "stdout",
     "output_type": "stream",
     "text": [
      "Read 40000 samples for u0002.\n",
      "Read u0002 meta: {'duration': 2.8672073400507907, 'meta': {}}\n",
      "Uploading ~/mvg/docs/source/content/examples/va-data-charlie/charlieDb/acc/u0002/1572609660.csv\n"
     ]
    },
    {
     "name": "stderr",
     "output_type": "stream",
     "text": [
      "2021-09-22 20:53:08,899 - INFO - mvg.mvg - endpoint https://api.beta.multiviz.com\n",
      "2021-09-22 20:53:08,900 - INFO - mvg.mvg - creating measurement from source id=u0002\n",
      "2021-09-22 20:53:08,901 - INFO - mvg.mvg -   duration:  2.8672073400507907\n",
      "2021-09-22 20:53:08,902 - INFO - mvg.mvg -   timestamp: 1572696060\n",
      "2021-09-22 20:53:08,903 - INFO - mvg.mvg -   meta data: {'sampling_rate': 13950.857142857141}\n"
     ]
    },
    {
     "name": "stdout",
     "output_type": "stream",
     "text": [
      "Read 40000 samples for u0002.\n",
      "Read u0002 meta: {'duration': 2.8672073400507907, 'meta': {}}\n",
      "Uploading ~/mvg/docs/source/content/examples/va-data-charlie/charlieDb/acc/u0002/1572696060.csv\n"
     ]
    },
    {
     "name": "stderr",
     "output_type": "stream",
     "text": [
      "2021-09-22 20:53:09,837 - INFO - mvg.mvg - endpoint https://api.beta.multiviz.com\n",
      "2021-09-22 20:53:09,839 - INFO - mvg.mvg - creating measurement from source id=u0002\n",
      "2021-09-22 20:53:09,839 - INFO - mvg.mvg -   duration:  2.8672073400507907\n",
      "2021-09-22 20:53:09,840 - INFO - mvg.mvg -   timestamp: 1572782460\n",
      "2021-09-22 20:53:09,841 - INFO - mvg.mvg -   meta data: {'sampling_rate': 13950.857142857141}\n"
     ]
    },
    {
     "name": "stdout",
     "output_type": "stream",
     "text": [
      "Read 40000 samples for u0002.\n",
      "Read u0002 meta: {'duration': 2.8672073400507907, 'meta': {}}\n",
      "Uploading ~/mvg/docs/source/content/examples/va-data-charlie/charlieDb/acc/u0002/1572782460.csv\n"
     ]
    },
    {
     "name": "stderr",
     "output_type": "stream",
     "text": [
      "2021-09-22 20:53:10,787 - INFO - mvg.mvg - endpoint https://api.beta.multiviz.com\n",
      "2021-09-22 20:53:10,788 - INFO - mvg.mvg - creating measurement from source id=u0002\n",
      "2021-09-22 20:53:10,789 - INFO - mvg.mvg -   duration:  2.8672073400507907\n",
      "2021-09-22 20:53:10,790 - INFO - mvg.mvg -   timestamp: 1572868860\n",
      "2021-09-22 20:53:10,791 - INFO - mvg.mvg -   meta data: {'sampling_rate': 13950.857142857141}\n"
     ]
    },
    {
     "name": "stdout",
     "output_type": "stream",
     "text": [
      "Read 40000 samples for u0002.\n",
      "Read u0002 meta: {'duration': 2.8672073400507907, 'meta': {}}\n",
      "Uploading ~/mvg/docs/source/content/examples/va-data-charlie/charlieDb/acc/u0002/1572868860.csv\n"
     ]
    },
    {
     "name": "stderr",
     "output_type": "stream",
     "text": [
      "2021-09-22 20:53:11,735 - INFO - mvg.mvg - endpoint https://api.beta.multiviz.com\n",
      "2021-09-22 20:53:11,736 - INFO - mvg.mvg - creating measurement from source id=u0002\n",
      "2021-09-22 20:53:11,736 - INFO - mvg.mvg -   duration:  2.8672073400507907\n",
      "2021-09-22 20:53:11,737 - INFO - mvg.mvg -   timestamp: 1572955260\n",
      "2021-09-22 20:53:11,738 - INFO - mvg.mvg -   meta data: {'sampling_rate': 13950.857142857141}\n"
     ]
    },
    {
     "name": "stdout",
     "output_type": "stream",
     "text": [
      "Read 40000 samples for u0002.\n",
      "Read u0002 meta: {'duration': 2.8672073400507907, 'meta': {}}\n",
      "Uploading ~/mvg/docs/source/content/examples/va-data-charlie/charlieDb/acc/u0002/1572955260.csv\n"
     ]
    },
    {
     "name": "stderr",
     "output_type": "stream",
     "text": [
      "2021-09-22 20:53:12,701 - INFO - mvg.mvg - endpoint https://api.beta.multiviz.com\n",
      "2021-09-22 20:53:12,701 - INFO - mvg.mvg - creating measurement from source id=u0002\n",
      "2021-09-22 20:53:12,702 - INFO - mvg.mvg -   duration:  2.8672073400507907\n",
      "2021-09-22 20:53:12,703 - INFO - mvg.mvg -   timestamp: 1573041660\n",
      "2021-09-22 20:53:12,703 - INFO - mvg.mvg -   meta data: {'sampling_rate': 13950.857142857141}\n"
     ]
    },
    {
     "name": "stdout",
     "output_type": "stream",
     "text": [
      "Read 40000 samples for u0002.\n",
      "Read u0002 meta: {'duration': 2.8672073400507907, 'meta': {}}\n",
      "Uploading ~/mvg/docs/source/content/examples/va-data-charlie/charlieDb/acc/u0002/1573041660.csv\n"
     ]
    },
    {
     "name": "stderr",
     "output_type": "stream",
     "text": [
      "2021-09-22 20:53:13,646 - INFO - mvg.mvg - endpoint https://api.beta.multiviz.com\n",
      "2021-09-22 20:53:13,646 - INFO - mvg.mvg - creating measurement from source id=u0002\n",
      "2021-09-22 20:53:13,648 - INFO - mvg.mvg -   duration:  2.8672073400507907\n",
      "2021-09-22 20:53:13,649 - INFO - mvg.mvg -   timestamp: 1573128060\n",
      "2021-09-22 20:53:13,652 - INFO - mvg.mvg -   meta data: {'sampling_rate': 13950.857142857141}\n"
     ]
    },
    {
     "name": "stdout",
     "output_type": "stream",
     "text": [
      "Read 40000 samples for u0002.\n",
      "Read u0002 meta: {'duration': 2.8672073400507907, 'meta': {}}\n",
      "Uploading ~/mvg/docs/source/content/examples/va-data-charlie/charlieDb/acc/u0002/1573128060.csv\n"
     ]
    },
    {
     "name": "stderr",
     "output_type": "stream",
     "text": [
      "2021-09-22 20:53:14,602 - INFO - mvg.mvg - endpoint https://api.beta.multiviz.com\n",
      "2021-09-22 20:53:14,603 - INFO - mvg.mvg - creating measurement from source id=u0002\n",
      "2021-09-22 20:53:14,603 - INFO - mvg.mvg -   duration:  2.8672073400507907\n",
      "2021-09-22 20:53:14,604 - INFO - mvg.mvg -   timestamp: 1573214460\n",
      "2021-09-22 20:53:14,605 - INFO - mvg.mvg -   meta data: {'sampling_rate': 13950.857142857141}\n"
     ]
    },
    {
     "name": "stdout",
     "output_type": "stream",
     "text": [
      "Read 40000 samples for u0002.\n",
      "Read u0002 meta: {'duration': 2.8672073400507907, 'meta': {}}\n",
      "Uploading ~/mvg/docs/source/content/examples/va-data-charlie/charlieDb/acc/u0002/1573214460.csv\n"
     ]
    },
    {
     "name": "stderr",
     "output_type": "stream",
     "text": [
      "2021-09-22 20:53:15,535 - INFO - mvg.mvg - endpoint https://api.beta.multiviz.com\n",
      "2021-09-22 20:53:15,536 - INFO - mvg.mvg - creating measurement from source id=u0002\n",
      "2021-09-22 20:53:15,536 - INFO - mvg.mvg -   duration:  2.8672073400507907\n",
      "2021-09-22 20:53:15,537 - INFO - mvg.mvg -   timestamp: 1573300860\n",
      "2021-09-22 20:53:15,538 - INFO - mvg.mvg -   meta data: {'sampling_rate': 13950.857142857141}\n"
     ]
    },
    {
     "name": "stdout",
     "output_type": "stream",
     "text": [
      "Read 40000 samples for u0002.\n",
      "Read u0002 meta: {'duration': 2.8672073400507907, 'meta': {}}\n",
      "Uploading ~/mvg/docs/source/content/examples/va-data-charlie/charlieDb/acc/u0002/1573300860.csv\n"
     ]
    },
    {
     "name": "stderr",
     "output_type": "stream",
     "text": [
      "2021-09-22 20:53:16,484 - INFO - mvg.mvg - endpoint https://api.beta.multiviz.com\n",
      "2021-09-22 20:53:16,484 - INFO - mvg.mvg - creating measurement from source id=u0002\n",
      "2021-09-22 20:53:16,486 - INFO - mvg.mvg -   duration:  2.8672073400507907\n",
      "2021-09-22 20:53:16,487 - INFO - mvg.mvg -   timestamp: 1573387260\n",
      "2021-09-22 20:53:16,488 - INFO - mvg.mvg -   meta data: {'sampling_rate': 13950.857142857141}\n"
     ]
    },
    {
     "name": "stdout",
     "output_type": "stream",
     "text": [
      "Read 40000 samples for u0002.\n",
      "Read u0002 meta: {'duration': 2.8672073400507907, 'meta': {}}\n",
      "Uploading ~/mvg/docs/source/content/examples/va-data-charlie/charlieDb/acc/u0002/1573387260.csv\n"
     ]
    },
    {
     "name": "stderr",
     "output_type": "stream",
     "text": [
      "2021-09-22 20:53:17,436 - INFO - mvg.mvg - endpoint https://api.beta.multiviz.com\n",
      "2021-09-22 20:53:17,437 - INFO - mvg.mvg - creating measurement from source id=u0002\n",
      "2021-09-22 20:53:17,438 - INFO - mvg.mvg -   duration:  2.8672073400507907\n",
      "2021-09-22 20:53:17,439 - INFO - mvg.mvg -   timestamp: 1573473660\n",
      "2021-09-22 20:53:17,441 - INFO - mvg.mvg -   meta data: {'sampling_rate': 13950.857142857141}\n"
     ]
    },
    {
     "name": "stdout",
     "output_type": "stream",
     "text": [
      "Read 40000 samples for u0002.\n",
      "Read u0002 meta: {'duration': 2.8672073400507907, 'meta': {}}\n",
      "Uploading ~/mvg/docs/source/content/examples/va-data-charlie/charlieDb/acc/u0002/1573473660.csv\n"
     ]
    },
    {
     "name": "stderr",
     "output_type": "stream",
     "text": [
      "2021-09-22 20:53:18,387 - INFO - mvg.mvg - endpoint https://api.beta.multiviz.com\n",
      "2021-09-22 20:53:18,388 - INFO - mvg.mvg - creating measurement from source id=u0002\n",
      "2021-09-22 20:53:18,388 - INFO - mvg.mvg -   duration:  2.8672073400507907\n",
      "2021-09-22 20:53:18,389 - INFO - mvg.mvg -   timestamp: 1573560060\n",
      "2021-09-22 20:53:18,390 - INFO - mvg.mvg -   meta data: {'sampling_rate': 13950.857142857141}\n"
     ]
    },
    {
     "name": "stdout",
     "output_type": "stream",
     "text": [
      "Read 40000 samples for u0002.\n",
      "Read u0002 meta: {'duration': 2.8672073400507907, 'meta': {}}\n",
      "Uploading ~/mvg/docs/source/content/examples/va-data-charlie/charlieDb/acc/u0002/1573560060.csv\n"
     ]
    },
    {
     "name": "stderr",
     "output_type": "stream",
     "text": [
      "2021-09-22 20:53:19,347 - INFO - mvg.mvg - endpoint https://api.beta.multiviz.com\n",
      "2021-09-22 20:53:19,348 - INFO - mvg.mvg - creating measurement from source id=u0002\n",
      "2021-09-22 20:53:19,348 - INFO - mvg.mvg -   duration:  2.8672073400507907\n",
      "2021-09-22 20:53:19,349 - INFO - mvg.mvg -   timestamp: 1573646460\n",
      "2021-09-22 20:53:19,350 - INFO - mvg.mvg -   meta data: {'sampling_rate': 13950.857142857141}\n"
     ]
    },
    {
     "name": "stdout",
     "output_type": "stream",
     "text": [
      "Read 40000 samples for u0002.\n",
      "Read u0002 meta: {'duration': 2.8672073400507907, 'meta': {}}\n",
      "Uploading ~/mvg/docs/source/content/examples/va-data-charlie/charlieDb/acc/u0002/1573646460.csv\n"
     ]
    },
    {
     "name": "stderr",
     "output_type": "stream",
     "text": [
      "2021-09-22 20:53:20,314 - INFO - mvg.mvg - endpoint https://api.beta.multiviz.com\n",
      "2021-09-22 20:53:20,315 - INFO - mvg.mvg - creating measurement from source id=u0002\n",
      "2021-09-22 20:53:20,316 - INFO - mvg.mvg -   duration:  2.8672073400507907\n",
      "2021-09-22 20:53:20,317 - INFO - mvg.mvg -   timestamp: 1573732860\n",
      "2021-09-22 20:53:20,318 - INFO - mvg.mvg -   meta data: {'sampling_rate': 13950.857142857141}\n"
     ]
    },
    {
     "name": "stdout",
     "output_type": "stream",
     "text": [
      "Read 40000 samples for u0002.\n",
      "Read u0002 meta: {'duration': 2.8672073400507907, 'meta': {}}\n",
      "Uploading ~/mvg/docs/source/content/examples/va-data-charlie/charlieDb/acc/u0002/1573732860.csv\n"
     ]
    },
    {
     "name": "stderr",
     "output_type": "stream",
     "text": [
      "2021-09-22 20:53:21,267 - INFO - mvg.mvg - endpoint https://api.beta.multiviz.com\n",
      "2021-09-22 20:53:21,267 - INFO - mvg.mvg - creating measurement from source id=u0002\n",
      "2021-09-22 20:53:21,269 - INFO - mvg.mvg -   duration:  2.8672073400507907\n",
      "2021-09-22 20:53:21,270 - INFO - mvg.mvg -   timestamp: 1573819260\n",
      "2021-09-22 20:53:21,271 - INFO - mvg.mvg -   meta data: {'sampling_rate': 13950.857142857141}\n"
     ]
    },
    {
     "name": "stdout",
     "output_type": "stream",
     "text": [
      "Read 40000 samples for u0002.\n",
      "Read u0002 meta: {'duration': 2.8672073400507907, 'meta': {}}\n",
      "Uploading ~/mvg/docs/source/content/examples/va-data-charlie/charlieDb/acc/u0002/1573819260.csv\n"
     ]
    },
    {
     "name": "stderr",
     "output_type": "stream",
     "text": [
      "2021-09-22 20:53:22,201 - INFO - mvg.mvg - endpoint https://api.beta.multiviz.com\n",
      "2021-09-22 20:53:22,202 - INFO - mvg.mvg - creating measurement from source id=u0002\n",
      "2021-09-22 20:53:22,203 - INFO - mvg.mvg -   duration:  2.8672073400507907\n",
      "2021-09-22 20:53:22,203 - INFO - mvg.mvg -   timestamp: 1573905660\n",
      "2021-09-22 20:53:22,204 - INFO - mvg.mvg -   meta data: {'sampling_rate': 13950.857142857141}\n"
     ]
    },
    {
     "name": "stdout",
     "output_type": "stream",
     "text": [
      "Read 40000 samples for u0002.\n",
      "Read u0002 meta: {'duration': 2.8672073400507907, 'meta': {}}\n",
      "Uploading ~/mvg/docs/source/content/examples/va-data-charlie/charlieDb/acc/u0002/1573905660.csv\n"
     ]
    },
    {
     "name": "stderr",
     "output_type": "stream",
     "text": [
      "2021-09-22 20:53:23,150 - INFO - mvg.mvg - endpoint https://api.beta.multiviz.com\n",
      "2021-09-22 20:53:23,151 - INFO - mvg.mvg - creating measurement from source id=u0002\n",
      "2021-09-22 20:53:23,152 - INFO - mvg.mvg -   duration:  2.8672073400507907\n",
      "2021-09-22 20:53:23,153 - INFO - mvg.mvg -   timestamp: 1573992060\n",
      "2021-09-22 20:53:23,154 - INFO - mvg.mvg -   meta data: {'sampling_rate': 13950.857142857141}\n"
     ]
    },
    {
     "name": "stdout",
     "output_type": "stream",
     "text": [
      "Read 40000 samples for u0002.\n",
      "Read u0002 meta: {'duration': 2.8672073400507907, 'meta': {}}\n",
      "Uploading ~/mvg/docs/source/content/examples/va-data-charlie/charlieDb/acc/u0002/1573992060.csv\n"
     ]
    },
    {
     "name": "stderr",
     "output_type": "stream",
     "text": [
      "2021-09-22 20:53:24,131 - INFO - mvg.mvg - endpoint https://api.beta.multiviz.com\n",
      "2021-09-22 20:53:24,132 - INFO - mvg.mvg - creating measurement from source id=u0002\n",
      "2021-09-22 20:53:24,133 - INFO - mvg.mvg -   duration:  2.8672073400507907\n",
      "2021-09-22 20:53:24,134 - INFO - mvg.mvg -   timestamp: 1574078460\n",
      "2021-09-22 20:53:24,135 - INFO - mvg.mvg -   meta data: {'sampling_rate': 13950.857142857141}\n"
     ]
    },
    {
     "name": "stdout",
     "output_type": "stream",
     "text": [
      "Read 40000 samples for u0002.\n",
      "Read u0002 meta: {'duration': 2.8672073400507907, 'meta': {}}\n",
      "Uploading ~/mvg/docs/source/content/examples/va-data-charlie/charlieDb/acc/u0002/1574078460.csv\n"
     ]
    },
    {
     "name": "stderr",
     "output_type": "stream",
     "text": [
      "2021-09-22 20:53:25,100 - INFO - mvg.mvg - endpoint https://api.beta.multiviz.com\n",
      "2021-09-22 20:53:25,101 - INFO - mvg.mvg - creating measurement from source id=u0002\n",
      "2021-09-22 20:53:25,103 - INFO - mvg.mvg -   duration:  2.8672073400507907\n",
      "2021-09-22 20:53:25,104 - INFO - mvg.mvg -   timestamp: 1574164860\n",
      "2021-09-22 20:53:25,105 - INFO - mvg.mvg -   meta data: {'sampling_rate': 13950.857142857141}\n"
     ]
    },
    {
     "name": "stdout",
     "output_type": "stream",
     "text": [
      "Read 40000 samples for u0002.\n",
      "Read u0002 meta: {'duration': 2.8672073400507907, 'meta': {}}\n",
      "Uploading ~/mvg/docs/source/content/examples/va-data-charlie/charlieDb/acc/u0002/1574164860.csv\n"
     ]
    },
    {
     "name": "stderr",
     "output_type": "stream",
     "text": [
      "2021-09-22 20:53:26,051 - INFO - mvg.mvg - endpoint https://api.beta.multiviz.com\n",
      "2021-09-22 20:53:26,052 - INFO - mvg.mvg - creating measurement from source id=u0002\n",
      "2021-09-22 20:53:26,053 - INFO - mvg.mvg -   duration:  2.8672073400507907\n",
      "2021-09-22 20:53:26,054 - INFO - mvg.mvg -   timestamp: 1574251260\n",
      "2021-09-22 20:53:26,055 - INFO - mvg.mvg -   meta data: {'sampling_rate': 13950.857142857141}\n"
     ]
    },
    {
     "name": "stdout",
     "output_type": "stream",
     "text": [
      "Read 40000 samples for u0002.\n",
      "Read u0002 meta: {'duration': 2.8672073400507907, 'meta': {}}\n",
      "Uploading ~/mvg/docs/source/content/examples/va-data-charlie/charlieDb/acc/u0002/1574251260.csv\n"
     ]
    },
    {
     "name": "stderr",
     "output_type": "stream",
     "text": [
      "2021-09-22 20:53:26,991 - INFO - mvg.mvg - endpoint https://api.beta.multiviz.com\n",
      "2021-09-22 20:53:26,992 - INFO - mvg.mvg - creating measurement from source id=u0002\n",
      "2021-09-22 20:53:26,993 - INFO - mvg.mvg -   duration:  2.8672073400507907\n",
      "2021-09-22 20:53:26,993 - INFO - mvg.mvg -   timestamp: 1574337660\n",
      "2021-09-22 20:53:26,994 - INFO - mvg.mvg -   meta data: {'sampling_rate': 13950.857142857141}\n"
     ]
    },
    {
     "name": "stdout",
     "output_type": "stream",
     "text": [
      "Read 40000 samples for u0002.\n",
      "Read u0002 meta: {'duration': 2.8672073400507907, 'meta': {}}\n",
      "Uploading ~/mvg/docs/source/content/examples/va-data-charlie/charlieDb/acc/u0002/1574337660.csv\n"
     ]
    },
    {
     "name": "stderr",
     "output_type": "stream",
     "text": [
      "2021-09-22 20:53:27,938 - INFO - mvg.mvg - endpoint https://api.beta.multiviz.com\n",
      "2021-09-22 20:53:27,939 - INFO - mvg.mvg - creating measurement from source id=u0002\n",
      "2021-09-22 20:53:27,940 - INFO - mvg.mvg -   duration:  2.8672073400507907\n",
      "2021-09-22 20:53:27,940 - INFO - mvg.mvg -   timestamp: 1574424060\n",
      "2021-09-22 20:53:27,941 - INFO - mvg.mvg -   meta data: {'sampling_rate': 13950.857142857141}\n"
     ]
    },
    {
     "name": "stdout",
     "output_type": "stream",
     "text": [
      "Read 40000 samples for u0002.\n",
      "Read u0002 meta: {'duration': 2.8672073400507907, 'meta': {}}\n",
      "Uploading ~/mvg/docs/source/content/examples/va-data-charlie/charlieDb/acc/u0002/1574424060.csv\n"
     ]
    },
    {
     "name": "stderr",
     "output_type": "stream",
     "text": [
      "2021-09-22 20:53:28,847 - INFO - mvg.mvg - endpoint https://api.beta.multiviz.com\n",
      "2021-09-22 20:53:28,848 - INFO - mvg.mvg - deleting source with source id=u0003\n",
      "2021-09-22 20:53:29,035 - INFO - mvg.mvg - endpoint https://api.beta.multiviz.com\n",
      "2021-09-22 20:53:29,036 - INFO - mvg.mvg - creating source with source id=u0003\n",
      "2021-09-22 20:53:29,036 - INFO - mvg.mvg - metadata: {'assetId': 'assetC', 'measPoint': 'mloc01', 'location': 'milano'}\n"
     ]
    },
    {
     "name": "stdout",
     "output_type": "stream",
     "text": [
      "Deleting u0003\n",
      "Source u0003 does not exist\n"
     ]
    },
    {
     "name": "stderr",
     "output_type": "stream",
     "text": [
      "2021-09-22 20:53:29,275 - INFO - mvg.mvg - endpoint https://api.beta.multiviz.com\n",
      "2021-09-22 20:53:29,276 - INFO - mvg.mvg - creating measurement from source id=u0003\n",
      "2021-09-22 20:53:29,277 - INFO - mvg.mvg -   duration:  2.8672073400507907\n",
      "2021-09-22 20:53:29,279 - INFO - mvg.mvg -   timestamp: 1570186860\n",
      "2021-09-22 20:53:29,280 - INFO - mvg.mvg -   meta data: {'sampling_rate': 13950.857142857141}\n"
     ]
    },
    {
     "name": "stdout",
     "output_type": "stream",
     "text": [
      "Read 40000 samples for u0003.\n",
      "Read u0003 meta: {'duration': 2.8672073400507907, 'meta': {}}\n",
      "Uploading ~/mvg/docs/source/content/examples/va-data-charlie/charlieDb/acc/u0003/1570186860.csv\n"
     ]
    },
    {
     "name": "stderr",
     "output_type": "stream",
     "text": [
      "2021-09-22 20:53:30,216 - INFO - mvg.mvg - endpoint https://api.beta.multiviz.com\n",
      "2021-09-22 20:53:30,217 - INFO - mvg.mvg - creating measurement from source id=u0003\n",
      "2021-09-22 20:53:30,217 - INFO - mvg.mvg -   duration:  2.8672073400507907\n",
      "2021-09-22 20:53:30,218 - INFO - mvg.mvg -   timestamp: 1570273260\n",
      "2021-09-22 20:53:30,220 - INFO - mvg.mvg -   meta data: {'sampling_rate': 13950.857142857141}\n"
     ]
    },
    {
     "name": "stdout",
     "output_type": "stream",
     "text": [
      "Read 40000 samples for u0003.\n",
      "Read u0003 meta: {'duration': 2.8672073400507907, 'meta': {}}\n",
      "Uploading ~/mvg/docs/source/content/examples/va-data-charlie/charlieDb/acc/u0003/1570273260.csv\n"
     ]
    },
    {
     "name": "stderr",
     "output_type": "stream",
     "text": [
      "2021-09-22 20:53:31,172 - INFO - mvg.mvg - endpoint https://api.beta.multiviz.com\n",
      "2021-09-22 20:53:31,173 - INFO - mvg.mvg - creating measurement from source id=u0003\n",
      "2021-09-22 20:53:31,174 - INFO - mvg.mvg -   duration:  2.8672073400507907\n",
      "2021-09-22 20:53:31,175 - INFO - mvg.mvg -   timestamp: 1570359660\n",
      "2021-09-22 20:53:31,176 - INFO - mvg.mvg -   meta data: {'sampling_rate': 13950.857142857141}\n"
     ]
    },
    {
     "name": "stdout",
     "output_type": "stream",
     "text": [
      "Read 40000 samples for u0003.\n",
      "Read u0003 meta: {'duration': 2.8672073400507907, 'meta': {}}\n",
      "Uploading ~/mvg/docs/source/content/examples/va-data-charlie/charlieDb/acc/u0003/1570359660.csv\n"
     ]
    },
    {
     "name": "stderr",
     "output_type": "stream",
     "text": [
      "2021-09-22 20:53:32,125 - INFO - mvg.mvg - endpoint https://api.beta.multiviz.com\n",
      "2021-09-22 20:53:32,127 - INFO - mvg.mvg - creating measurement from source id=u0003\n",
      "2021-09-22 20:53:32,128 - INFO - mvg.mvg -   duration:  2.8672073400507907\n",
      "2021-09-22 20:53:32,130 - INFO - mvg.mvg -   timestamp: 1570446060\n",
      "2021-09-22 20:53:32,131 - INFO - mvg.mvg -   meta data: {'sampling_rate': 13950.857142857141}\n"
     ]
    },
    {
     "name": "stdout",
     "output_type": "stream",
     "text": [
      "Read 40000 samples for u0003.\n",
      "Read u0003 meta: {'duration': 2.8672073400507907, 'meta': {}}\n",
      "Uploading ~/mvg/docs/source/content/examples/va-data-charlie/charlieDb/acc/u0003/1570446060.csv\n"
     ]
    },
    {
     "name": "stderr",
     "output_type": "stream",
     "text": [
      "2021-09-22 20:53:33,122 - INFO - mvg.mvg - endpoint https://api.beta.multiviz.com\n",
      "2021-09-22 20:53:33,123 - INFO - mvg.mvg - creating measurement from source id=u0003\n",
      "2021-09-22 20:53:33,124 - INFO - mvg.mvg -   duration:  2.8672073400507907\n",
      "2021-09-22 20:53:33,125 - INFO - mvg.mvg -   timestamp: 1570532460\n",
      "2021-09-22 20:53:33,126 - INFO - mvg.mvg -   meta data: {'sampling_rate': 13950.857142857141}\n"
     ]
    },
    {
     "name": "stdout",
     "output_type": "stream",
     "text": [
      "Read 40000 samples for u0003.\n",
      "Read u0003 meta: {'duration': 2.8672073400507907, 'meta': {}}\n",
      "Uploading ~/mvg/docs/source/content/examples/va-data-charlie/charlieDb/acc/u0003/1570532460.csv\n"
     ]
    },
    {
     "name": "stderr",
     "output_type": "stream",
     "text": [
      "2021-09-22 20:53:34,068 - INFO - mvg.mvg - endpoint https://api.beta.multiviz.com\n",
      "2021-09-22 20:53:34,068 - INFO - mvg.mvg - creating measurement from source id=u0003\n",
      "2021-09-22 20:53:34,069 - INFO - mvg.mvg -   duration:  2.8672073400507907\n",
      "2021-09-22 20:53:34,070 - INFO - mvg.mvg -   timestamp: 1570618860\n",
      "2021-09-22 20:53:34,072 - INFO - mvg.mvg -   meta data: {'sampling_rate': 13950.857142857141}\n"
     ]
    },
    {
     "name": "stdout",
     "output_type": "stream",
     "text": [
      "Read 40000 samples for u0003.\n",
      "Read u0003 meta: {'duration': 2.8672073400507907, 'meta': {}}\n",
      "Uploading ~/mvg/docs/source/content/examples/va-data-charlie/charlieDb/acc/u0003/1570618860.csv\n"
     ]
    },
    {
     "name": "stderr",
     "output_type": "stream",
     "text": [
      "2021-09-22 20:53:35,032 - INFO - mvg.mvg - endpoint https://api.beta.multiviz.com\n",
      "2021-09-22 20:53:35,033 - INFO - mvg.mvg - creating measurement from source id=u0003\n",
      "2021-09-22 20:53:35,034 - INFO - mvg.mvg -   duration:  2.8672073400507907\n",
      "2021-09-22 20:53:35,035 - INFO - mvg.mvg -   timestamp: 1570705260\n",
      "2021-09-22 20:53:35,038 - INFO - mvg.mvg -   meta data: {'sampling_rate': 13950.857142857141}\n"
     ]
    },
    {
     "name": "stdout",
     "output_type": "stream",
     "text": [
      "Read 40000 samples for u0003.\n",
      "Read u0003 meta: {'duration': 2.8672073400507907, 'meta': {}}\n",
      "Uploading ~/mvg/docs/source/content/examples/va-data-charlie/charlieDb/acc/u0003/1570705260.csv\n"
     ]
    },
    {
     "name": "stderr",
     "output_type": "stream",
     "text": [
      "2021-09-22 20:53:35,995 - INFO - mvg.mvg - endpoint https://api.beta.multiviz.com\n",
      "2021-09-22 20:53:35,996 - INFO - mvg.mvg - creating measurement from source id=u0003\n",
      "2021-09-22 20:53:35,997 - INFO - mvg.mvg -   duration:  2.8672073400507907\n",
      "2021-09-22 20:53:35,998 - INFO - mvg.mvg -   timestamp: 1570791660\n",
      "2021-09-22 20:53:35,999 - INFO - mvg.mvg -   meta data: {'sampling_rate': 13950.857142857141}\n"
     ]
    },
    {
     "name": "stdout",
     "output_type": "stream",
     "text": [
      "Read 40000 samples for u0003.\n",
      "Read u0003 meta: {'duration': 2.8672073400507907, 'meta': {}}\n",
      "Uploading ~/mvg/docs/source/content/examples/va-data-charlie/charlieDb/acc/u0003/1570791660.csv\n"
     ]
    },
    {
     "name": "stderr",
     "output_type": "stream",
     "text": [
      "2021-09-22 20:53:36,942 - INFO - mvg.mvg - endpoint https://api.beta.multiviz.com\n",
      "2021-09-22 20:53:36,943 - INFO - mvg.mvg - creating measurement from source id=u0003\n",
      "2021-09-22 20:53:36,944 - INFO - mvg.mvg -   duration:  2.8672073400507907\n",
      "2021-09-22 20:53:36,945 - INFO - mvg.mvg -   timestamp: 1570878060\n",
      "2021-09-22 20:53:36,946 - INFO - mvg.mvg -   meta data: {'sampling_rate': 13950.857142857141}\n"
     ]
    },
    {
     "name": "stdout",
     "output_type": "stream",
     "text": [
      "Read 40000 samples for u0003.\n",
      "Read u0003 meta: {'duration': 2.8672073400507907, 'meta': {}}\n",
      "Uploading ~/mvg/docs/source/content/examples/va-data-charlie/charlieDb/acc/u0003/1570878060.csv\n"
     ]
    },
    {
     "name": "stderr",
     "output_type": "stream",
     "text": [
      "2021-09-22 20:53:37,906 - INFO - mvg.mvg - endpoint https://api.beta.multiviz.com\n",
      "2021-09-22 20:53:37,906 - INFO - mvg.mvg - creating measurement from source id=u0003\n",
      "2021-09-22 20:53:37,907 - INFO - mvg.mvg -   duration:  2.8672073400507907\n",
      "2021-09-22 20:53:37,908 - INFO - mvg.mvg -   timestamp: 1570964460\n",
      "2021-09-22 20:53:37,909 - INFO - mvg.mvg -   meta data: {'sampling_rate': 13950.857142857141}\n"
     ]
    },
    {
     "name": "stdout",
     "output_type": "stream",
     "text": [
      "Read 40000 samples for u0003.\n",
      "Read u0003 meta: {'duration': 2.8672073400507907, 'meta': {}}\n",
      "Uploading ~/mvg/docs/source/content/examples/va-data-charlie/charlieDb/acc/u0003/1570964460.csv\n"
     ]
    },
    {
     "name": "stderr",
     "output_type": "stream",
     "text": [
      "2021-09-22 20:53:38,846 - INFO - mvg.mvg - endpoint https://api.beta.multiviz.com\n",
      "2021-09-22 20:53:38,847 - INFO - mvg.mvg - creating measurement from source id=u0003\n",
      "2021-09-22 20:53:38,848 - INFO - mvg.mvg -   duration:  2.8672073400507907\n",
      "2021-09-22 20:53:38,849 - INFO - mvg.mvg -   timestamp: 1571050860\n",
      "2021-09-22 20:53:38,850 - INFO - mvg.mvg -   meta data: {'sampling_rate': 13950.857142857141}\n"
     ]
    },
    {
     "name": "stdout",
     "output_type": "stream",
     "text": [
      "Read 40000 samples for u0003.\n",
      "Read u0003 meta: {'duration': 2.8672073400507907, 'meta': {}}\n",
      "Uploading ~/mvg/docs/source/content/examples/va-data-charlie/charlieDb/acc/u0003/1571050860.csv\n"
     ]
    },
    {
     "name": "stderr",
     "output_type": "stream",
     "text": [
      "2021-09-22 20:53:39,793 - INFO - mvg.mvg - endpoint https://api.beta.multiviz.com\n",
      "2021-09-22 20:53:39,795 - INFO - mvg.mvg - creating measurement from source id=u0003\n",
      "2021-09-22 20:53:39,795 - INFO - mvg.mvg -   duration:  2.8672073400507907\n",
      "2021-09-22 20:53:39,796 - INFO - mvg.mvg -   timestamp: 1571137260\n",
      "2021-09-22 20:53:39,797 - INFO - mvg.mvg -   meta data: {'sampling_rate': 13950.857142857141}\n"
     ]
    },
    {
     "name": "stdout",
     "output_type": "stream",
     "text": [
      "Read 40000 samples for u0003.\n",
      "Read u0003 meta: {'duration': 2.8672073400507907, 'meta': {}}\n",
      "Uploading ~/mvg/docs/source/content/examples/va-data-charlie/charlieDb/acc/u0003/1571137260.csv\n"
     ]
    },
    {
     "name": "stderr",
     "output_type": "stream",
     "text": [
      "2021-09-22 20:53:40,786 - INFO - mvg.mvg - endpoint https://api.beta.multiviz.com\n",
      "2021-09-22 20:53:40,787 - INFO - mvg.mvg - creating measurement from source id=u0003\n",
      "2021-09-22 20:53:40,788 - INFO - mvg.mvg -   duration:  2.8672073400507907\n",
      "2021-09-22 20:53:40,788 - INFO - mvg.mvg -   timestamp: 1571223660\n",
      "2021-09-22 20:53:40,789 - INFO - mvg.mvg -   meta data: {'sampling_rate': 13950.857142857141}\n"
     ]
    },
    {
     "name": "stdout",
     "output_type": "stream",
     "text": [
      "Read 40000 samples for u0003.\n",
      "Read u0003 meta: {'duration': 2.8672073400507907, 'meta': {}}\n",
      "Uploading ~/mvg/docs/source/content/examples/va-data-charlie/charlieDb/acc/u0003/1571223660.csv\n"
     ]
    },
    {
     "name": "stderr",
     "output_type": "stream",
     "text": [
      "2021-09-22 20:53:41,733 - INFO - mvg.mvg - endpoint https://api.beta.multiviz.com\n",
      "2021-09-22 20:53:41,734 - INFO - mvg.mvg - creating measurement from source id=u0003\n",
      "2021-09-22 20:53:41,735 - INFO - mvg.mvg -   duration:  2.8672073400507907\n",
      "2021-09-22 20:53:41,736 - INFO - mvg.mvg -   timestamp: 1571310060\n",
      "2021-09-22 20:53:41,737 - INFO - mvg.mvg -   meta data: {'sampling_rate': 13950.857142857141}\n"
     ]
    },
    {
     "name": "stdout",
     "output_type": "stream",
     "text": [
      "Read 40000 samples for u0003.\n",
      "Read u0003 meta: {'duration': 2.8672073400507907, 'meta': {}}\n",
      "Uploading ~/mvg/docs/source/content/examples/va-data-charlie/charlieDb/acc/u0003/1571310060.csv\n"
     ]
    },
    {
     "name": "stderr",
     "output_type": "stream",
     "text": [
      "2021-09-22 20:53:42,676 - INFO - mvg.mvg - endpoint https://api.beta.multiviz.com\n",
      "2021-09-22 20:53:42,677 - INFO - mvg.mvg - creating measurement from source id=u0003\n",
      "2021-09-22 20:53:42,678 - INFO - mvg.mvg -   duration:  2.8672073400507907\n",
      "2021-09-22 20:53:42,679 - INFO - mvg.mvg -   timestamp: 1571396460\n",
      "2021-09-22 20:53:42,679 - INFO - mvg.mvg -   meta data: {'sampling_rate': 13950.857142857141}\n"
     ]
    },
    {
     "name": "stdout",
     "output_type": "stream",
     "text": [
      "Read 40000 samples for u0003.\n",
      "Read u0003 meta: {'duration': 2.8672073400507907, 'meta': {}}\n",
      "Uploading ~/mvg/docs/source/content/examples/va-data-charlie/charlieDb/acc/u0003/1571396460.csv\n"
     ]
    },
    {
     "name": "stderr",
     "output_type": "stream",
     "text": [
      "2021-09-22 20:53:43,638 - INFO - mvg.mvg - endpoint https://api.beta.multiviz.com\n",
      "2021-09-22 20:53:43,638 - INFO - mvg.mvg - creating measurement from source id=u0003\n",
      "2021-09-22 20:53:43,639 - INFO - mvg.mvg -   duration:  2.8672073400507907\n",
      "2021-09-22 20:53:43,640 - INFO - mvg.mvg -   timestamp: 1571482860\n",
      "2021-09-22 20:53:43,641 - INFO - mvg.mvg -   meta data: {'sampling_rate': 13950.857142857141}\n"
     ]
    },
    {
     "name": "stdout",
     "output_type": "stream",
     "text": [
      "Read 40000 samples for u0003.\n",
      "Read u0003 meta: {'duration': 2.8672073400507907, 'meta': {}}\n",
      "Uploading ~/mvg/docs/source/content/examples/va-data-charlie/charlieDb/acc/u0003/1571482860.csv\n"
     ]
    },
    {
     "name": "stderr",
     "output_type": "stream",
     "text": [
      "2021-09-22 20:53:44,877 - INFO - mvg.mvg - endpoint https://api.beta.multiviz.com\n",
      "2021-09-22 20:53:44,878 - INFO - mvg.mvg - creating measurement from source id=u0003\n",
      "2021-09-22 20:53:44,879 - INFO - mvg.mvg -   duration:  2.8672073400507907\n",
      "2021-09-22 20:53:44,880 - INFO - mvg.mvg -   timestamp: 1571569260\n",
      "2021-09-22 20:53:44,881 - INFO - mvg.mvg -   meta data: {'sampling_rate': 13950.857142857141}\n"
     ]
    },
    {
     "name": "stdout",
     "output_type": "stream",
     "text": [
      "Read 40000 samples for u0003.\n",
      "Read u0003 meta: {'duration': 2.8672073400507907, 'meta': {}}\n",
      "Uploading ~/mvg/docs/source/content/examples/va-data-charlie/charlieDb/acc/u0003/1571569260.csv\n"
     ]
    },
    {
     "name": "stderr",
     "output_type": "stream",
     "text": [
      "2021-09-22 20:53:45,822 - INFO - mvg.mvg - endpoint https://api.beta.multiviz.com\n",
      "2021-09-22 20:53:45,823 - INFO - mvg.mvg - creating measurement from source id=u0003\n",
      "2021-09-22 20:53:45,824 - INFO - mvg.mvg -   duration:  2.8672073400507907\n",
      "2021-09-22 20:53:45,826 - INFO - mvg.mvg -   timestamp: 1571655660\n",
      "2021-09-22 20:53:45,827 - INFO - mvg.mvg -   meta data: {'sampling_rate': 13950.857142857141}\n"
     ]
    },
    {
     "name": "stdout",
     "output_type": "stream",
     "text": [
      "Read 40000 samples for u0003.\n",
      "Read u0003 meta: {'duration': 2.8672073400507907, 'meta': {}}\n",
      "Uploading ~/mvg/docs/source/content/examples/va-data-charlie/charlieDb/acc/u0003/1571655660.csv\n"
     ]
    },
    {
     "name": "stderr",
     "output_type": "stream",
     "text": [
      "2021-09-22 20:53:46,783 - INFO - mvg.mvg - endpoint https://api.beta.multiviz.com\n",
      "2021-09-22 20:53:46,784 - INFO - mvg.mvg - creating measurement from source id=u0003\n",
      "2021-09-22 20:53:46,785 - INFO - mvg.mvg -   duration:  2.8672073400507907\n",
      "2021-09-22 20:53:46,785 - INFO - mvg.mvg -   timestamp: 1571742060\n",
      "2021-09-22 20:53:46,786 - INFO - mvg.mvg -   meta data: {'sampling_rate': 13950.857142857141}\n"
     ]
    },
    {
     "name": "stdout",
     "output_type": "stream",
     "text": [
      "Read 40000 samples for u0003.\n",
      "Read u0003 meta: {'duration': 2.8672073400507907, 'meta': {}}\n",
      "Uploading ~/mvg/docs/source/content/examples/va-data-charlie/charlieDb/acc/u0003/1571742060.csv\n"
     ]
    },
    {
     "name": "stderr",
     "output_type": "stream",
     "text": [
      "2021-09-22 20:53:47,751 - INFO - mvg.mvg - endpoint https://api.beta.multiviz.com\n",
      "2021-09-22 20:53:47,752 - INFO - mvg.mvg - creating measurement from source id=u0003\n",
      "2021-09-22 20:53:47,754 - INFO - mvg.mvg -   duration:  2.8672073400507907\n",
      "2021-09-22 20:53:47,755 - INFO - mvg.mvg -   timestamp: 1571828460\n",
      "2021-09-22 20:53:47,756 - INFO - mvg.mvg -   meta data: {'sampling_rate': 13950.857142857141}\n"
     ]
    },
    {
     "name": "stdout",
     "output_type": "stream",
     "text": [
      "Read 40000 samples for u0003.\n",
      "Read u0003 meta: {'duration': 2.8672073400507907, 'meta': {}}\n",
      "Uploading ~/mvg/docs/source/content/examples/va-data-charlie/charlieDb/acc/u0003/1571828460.csv\n"
     ]
    },
    {
     "name": "stderr",
     "output_type": "stream",
     "text": [
      "2021-09-22 20:53:48,707 - INFO - mvg.mvg - endpoint https://api.beta.multiviz.com\n",
      "2021-09-22 20:53:48,708 - INFO - mvg.mvg - creating measurement from source id=u0003\n",
      "2021-09-22 20:53:48,709 - INFO - mvg.mvg -   duration:  2.8672073400507907\n",
      "2021-09-22 20:53:48,710 - INFO - mvg.mvg -   timestamp: 1571914860\n",
      "2021-09-22 20:53:48,711 - INFO - mvg.mvg -   meta data: {'sampling_rate': 13950.857142857141}\n"
     ]
    },
    {
     "name": "stdout",
     "output_type": "stream",
     "text": [
      "Read 40000 samples for u0003.\n",
      "Read u0003 meta: {'duration': 2.8672073400507907, 'meta': {}}\n",
      "Uploading ~/mvg/docs/source/content/examples/va-data-charlie/charlieDb/acc/u0003/1571914860.csv\n"
     ]
    },
    {
     "name": "stderr",
     "output_type": "stream",
     "text": [
      "2021-09-22 20:53:49,674 - INFO - mvg.mvg - endpoint https://api.beta.multiviz.com\n",
      "2021-09-22 20:53:49,676 - INFO - mvg.mvg - creating measurement from source id=u0003\n",
      "2021-09-22 20:53:49,677 - INFO - mvg.mvg -   duration:  2.8672073400507907\n",
      "2021-09-22 20:53:49,677 - INFO - mvg.mvg -   timestamp: 1572001260\n",
      "2021-09-22 20:53:49,678 - INFO - mvg.mvg -   meta data: {'sampling_rate': 13950.857142857141}\n"
     ]
    },
    {
     "name": "stdout",
     "output_type": "stream",
     "text": [
      "Read 40000 samples for u0003.\n",
      "Read u0003 meta: {'duration': 2.8672073400507907, 'meta': {}}\n",
      "Uploading ~/mvg/docs/source/content/examples/va-data-charlie/charlieDb/acc/u0003/1572001260.csv\n"
     ]
    },
    {
     "name": "stderr",
     "output_type": "stream",
     "text": [
      "2021-09-22 20:53:50,619 - INFO - mvg.mvg - endpoint https://api.beta.multiviz.com\n",
      "2021-09-22 20:53:50,620 - INFO - mvg.mvg - creating measurement from source id=u0003\n",
      "2021-09-22 20:53:50,620 - INFO - mvg.mvg -   duration:  2.8672073400507907\n",
      "2021-09-22 20:53:50,621 - INFO - mvg.mvg -   timestamp: 1572087660\n",
      "2021-09-22 20:53:50,623 - INFO - mvg.mvg -   meta data: {'sampling_rate': 13950.857142857141}\n"
     ]
    },
    {
     "name": "stdout",
     "output_type": "stream",
     "text": [
      "Read 40000 samples for u0003.\n",
      "Read u0003 meta: {'duration': 2.8672073400507907, 'meta': {}}\n",
      "Uploading ~/mvg/docs/source/content/examples/va-data-charlie/charlieDb/acc/u0003/1572087660.csv\n"
     ]
    },
    {
     "name": "stderr",
     "output_type": "stream",
     "text": [
      "2021-09-22 20:53:51,614 - INFO - mvg.mvg - endpoint https://api.beta.multiviz.com\n",
      "2021-09-22 20:53:51,615 - INFO - mvg.mvg - creating measurement from source id=u0003\n",
      "2021-09-22 20:53:51,616 - INFO - mvg.mvg -   duration:  2.8672073400507907\n",
      "2021-09-22 20:53:51,617 - INFO - mvg.mvg -   timestamp: 1572177660\n",
      "2021-09-22 20:53:51,618 - INFO - mvg.mvg -   meta data: {'sampling_rate': 13950.857142857141}\n"
     ]
    },
    {
     "name": "stdout",
     "output_type": "stream",
     "text": [
      "Read 40000 samples for u0003.\n",
      "Read u0003 meta: {'duration': 2.8672073400507907, 'meta': {}}\n",
      "Uploading ~/mvg/docs/source/content/examples/va-data-charlie/charlieDb/acc/u0003/1572177660.csv\n"
     ]
    },
    {
     "name": "stderr",
     "output_type": "stream",
     "text": [
      "2021-09-22 20:53:52,711 - INFO - mvg.mvg - endpoint https://api.beta.multiviz.com\n",
      "2021-09-22 20:53:52,712 - INFO - mvg.mvg - creating measurement from source id=u0003\n",
      "2021-09-22 20:53:52,712 - INFO - mvg.mvg -   duration:  2.8672073400507907\n",
      "2021-09-22 20:53:52,713 - INFO - mvg.mvg -   timestamp: 1572264060\n",
      "2021-09-22 20:53:52,714 - INFO - mvg.mvg -   meta data: {'sampling_rate': 13950.857142857141}\n"
     ]
    },
    {
     "name": "stdout",
     "output_type": "stream",
     "text": [
      "Read 40000 samples for u0003.\n",
      "Read u0003 meta: {'duration': 2.8672073400507907, 'meta': {}}\n",
      "Uploading ~/mvg/docs/source/content/examples/va-data-charlie/charlieDb/acc/u0003/1572264060.csv\n"
     ]
    },
    {
     "name": "stderr",
     "output_type": "stream",
     "text": [
      "2021-09-22 20:53:53,664 - INFO - mvg.mvg - endpoint https://api.beta.multiviz.com\n",
      "2021-09-22 20:53:53,664 - INFO - mvg.mvg - creating measurement from source id=u0003\n",
      "2021-09-22 20:53:53,665 - INFO - mvg.mvg -   duration:  2.8672073400507907\n",
      "2021-09-22 20:53:53,666 - INFO - mvg.mvg -   timestamp: 1572350460\n",
      "2021-09-22 20:53:53,667 - INFO - mvg.mvg -   meta data: {'sampling_rate': 13950.857142857141}\n"
     ]
    },
    {
     "name": "stdout",
     "output_type": "stream",
     "text": [
      "Read 40000 samples for u0003.\n",
      "Read u0003 meta: {'duration': 2.8672073400507907, 'meta': {}}\n",
      "Uploading ~/mvg/docs/source/content/examples/va-data-charlie/charlieDb/acc/u0003/1572350460.csv\n"
     ]
    },
    {
     "name": "stderr",
     "output_type": "stream",
     "text": [
      "2021-09-22 20:53:54,605 - INFO - mvg.mvg - endpoint https://api.beta.multiviz.com\n",
      "2021-09-22 20:53:54,606 - INFO - mvg.mvg - creating measurement from source id=u0003\n",
      "2021-09-22 20:53:54,607 - INFO - mvg.mvg -   duration:  2.8672073400507907\n",
      "2021-09-22 20:53:54,608 - INFO - mvg.mvg -   timestamp: 1572436860\n",
      "2021-09-22 20:53:54,609 - INFO - mvg.mvg -   meta data: {'sampling_rate': 13950.857142857141}\n"
     ]
    },
    {
     "name": "stdout",
     "output_type": "stream",
     "text": [
      "Read 40000 samples for u0003.\n",
      "Read u0003 meta: {'duration': 2.8672073400507907, 'meta': {}}\n",
      "Uploading ~/mvg/docs/source/content/examples/va-data-charlie/charlieDb/acc/u0003/1572436860.csv\n"
     ]
    },
    {
     "name": "stderr",
     "output_type": "stream",
     "text": [
      "2021-09-22 20:53:55,561 - INFO - mvg.mvg - endpoint https://api.beta.multiviz.com\n",
      "2021-09-22 20:53:55,562 - INFO - mvg.mvg - creating measurement from source id=u0003\n",
      "2021-09-22 20:53:55,563 - INFO - mvg.mvg -   duration:  2.8672073400507907\n",
      "2021-09-22 20:53:55,566 - INFO - mvg.mvg -   timestamp: 1572523260\n",
      "2021-09-22 20:53:55,567 - INFO - mvg.mvg -   meta data: {'sampling_rate': 13950.857142857141}\n"
     ]
    },
    {
     "name": "stdout",
     "output_type": "stream",
     "text": [
      "Read 40000 samples for u0003.\n",
      "Read u0003 meta: {'duration': 2.8672073400507907, 'meta': {}}\n",
      "Uploading ~/mvg/docs/source/content/examples/va-data-charlie/charlieDb/acc/u0003/1572523260.csv\n"
     ]
    },
    {
     "name": "stderr",
     "output_type": "stream",
     "text": [
      "2021-09-22 20:53:56,519 - INFO - mvg.mvg - endpoint https://api.beta.multiviz.com\n",
      "2021-09-22 20:53:56,520 - INFO - mvg.mvg - creating measurement from source id=u0003\n",
      "2021-09-22 20:53:56,521 - INFO - mvg.mvg -   duration:  2.8672073400507907\n",
      "2021-09-22 20:53:56,522 - INFO - mvg.mvg -   timestamp: 1572609660\n",
      "2021-09-22 20:53:56,523 - INFO - mvg.mvg -   meta data: {'sampling_rate': 13950.857142857141}\n"
     ]
    },
    {
     "name": "stdout",
     "output_type": "stream",
     "text": [
      "Read 40000 samples for u0003.\n",
      "Read u0003 meta: {'duration': 2.8672073400507907, 'meta': {}}\n",
      "Uploading ~/mvg/docs/source/content/examples/va-data-charlie/charlieDb/acc/u0003/1572609660.csv\n"
     ]
    },
    {
     "name": "stderr",
     "output_type": "stream",
     "text": [
      "2021-09-22 20:53:57,475 - INFO - mvg.mvg - endpoint https://api.beta.multiviz.com\n",
      "2021-09-22 20:53:57,476 - INFO - mvg.mvg - creating measurement from source id=u0003\n",
      "2021-09-22 20:53:57,476 - INFO - mvg.mvg -   duration:  2.8672073400507907\n",
      "2021-09-22 20:53:57,477 - INFO - mvg.mvg -   timestamp: 1572696060\n",
      "2021-09-22 20:53:57,478 - INFO - mvg.mvg -   meta data: {'sampling_rate': 13950.857142857141}\n"
     ]
    },
    {
     "name": "stdout",
     "output_type": "stream",
     "text": [
      "Read 40000 samples for u0003.\n",
      "Read u0003 meta: {'duration': 2.8672073400507907, 'meta': {}}\n",
      "Uploading ~/mvg/docs/source/content/examples/va-data-charlie/charlieDb/acc/u0003/1572696060.csv\n"
     ]
    },
    {
     "name": "stderr",
     "output_type": "stream",
     "text": [
      "2021-09-22 20:53:58,432 - INFO - mvg.mvg - endpoint https://api.beta.multiviz.com\n",
      "2021-09-22 20:53:58,433 - INFO - mvg.mvg - creating measurement from source id=u0003\n",
      "2021-09-22 20:53:58,433 - INFO - mvg.mvg -   duration:  2.8672073400507907\n",
      "2021-09-22 20:53:58,435 - INFO - mvg.mvg -   timestamp: 1572782460\n",
      "2021-09-22 20:53:58,436 - INFO - mvg.mvg -   meta data: {'sampling_rate': 13950.857142857141}\n"
     ]
    },
    {
     "name": "stdout",
     "output_type": "stream",
     "text": [
      "Read 40000 samples for u0003.\n",
      "Read u0003 meta: {'duration': 2.8672073400507907, 'meta': {}}\n",
      "Uploading ~/mvg/docs/source/content/examples/va-data-charlie/charlieDb/acc/u0003/1572782460.csv\n"
     ]
    },
    {
     "name": "stderr",
     "output_type": "stream",
     "text": [
      "2021-09-22 20:53:59,421 - INFO - mvg.mvg - endpoint https://api.beta.multiviz.com\n",
      "2021-09-22 20:53:59,422 - INFO - mvg.mvg - creating measurement from source id=u0003\n",
      "2021-09-22 20:53:59,423 - INFO - mvg.mvg -   duration:  2.8672073400507907\n",
      "2021-09-22 20:53:59,424 - INFO - mvg.mvg -   timestamp: 1572868860\n",
      "2021-09-22 20:53:59,425 - INFO - mvg.mvg -   meta data: {'sampling_rate': 13950.857142857141}\n"
     ]
    },
    {
     "name": "stdout",
     "output_type": "stream",
     "text": [
      "Read 40000 samples for u0003.\n",
      "Read u0003 meta: {'duration': 2.8672073400507907, 'meta': {}}\n",
      "Uploading ~/mvg/docs/source/content/examples/va-data-charlie/charlieDb/acc/u0003/1572868860.csv\n"
     ]
    },
    {
     "name": "stderr",
     "output_type": "stream",
     "text": [
      "2021-09-22 20:54:00,373 - INFO - mvg.mvg - endpoint https://api.beta.multiviz.com\n",
      "2021-09-22 20:54:00,373 - INFO - mvg.mvg - creating measurement from source id=u0003\n",
      "2021-09-22 20:54:00,375 - INFO - mvg.mvg -   duration:  2.8672073400507907\n",
      "2021-09-22 20:54:00,376 - INFO - mvg.mvg -   timestamp: 1572955260\n",
      "2021-09-22 20:54:00,377 - INFO - mvg.mvg -   meta data: {'sampling_rate': 13950.857142857141}\n"
     ]
    },
    {
     "name": "stdout",
     "output_type": "stream",
     "text": [
      "Read 40000 samples for u0003.\n",
      "Read u0003 meta: {'duration': 2.8672073400507907, 'meta': {}}\n",
      "Uploading ~/mvg/docs/source/content/examples/va-data-charlie/charlieDb/acc/u0003/1572955260.csv\n"
     ]
    },
    {
     "name": "stderr",
     "output_type": "stream",
     "text": [
      "2021-09-22 20:54:01,385 - INFO - mvg.mvg - endpoint https://api.beta.multiviz.com\n",
      "2021-09-22 20:54:01,386 - INFO - mvg.mvg - creating measurement from source id=u0003\n",
      "2021-09-22 20:54:01,387 - INFO - mvg.mvg -   duration:  2.8672073400507907\n",
      "2021-09-22 20:54:01,387 - INFO - mvg.mvg -   timestamp: 1573041660\n",
      "2021-09-22 20:54:01,388 - INFO - mvg.mvg -   meta data: {'sampling_rate': 13950.857142857141}\n"
     ]
    },
    {
     "name": "stdout",
     "output_type": "stream",
     "text": [
      "Read 40000 samples for u0003.\n",
      "Read u0003 meta: {'duration': 2.8672073400507907, 'meta': {}}\n",
      "Uploading ~/mvg/docs/source/content/examples/va-data-charlie/charlieDb/acc/u0003/1573041660.csv\n"
     ]
    },
    {
     "name": "stderr",
     "output_type": "stream",
     "text": [
      "2021-09-22 20:54:02,329 - INFO - mvg.mvg - endpoint https://api.beta.multiviz.com\n",
      "2021-09-22 20:54:02,330 - INFO - mvg.mvg - creating measurement from source id=u0003\n",
      "2021-09-22 20:54:02,331 - INFO - mvg.mvg -   duration:  2.8672073400507907\n",
      "2021-09-22 20:54:02,332 - INFO - mvg.mvg -   timestamp: 1573128060\n",
      "2021-09-22 20:54:02,333 - INFO - mvg.mvg -   meta data: {'sampling_rate': 13950.857142857141}\n"
     ]
    },
    {
     "name": "stdout",
     "output_type": "stream",
     "text": [
      "Read 40000 samples for u0003.\n",
      "Read u0003 meta: {'duration': 2.8672073400507907, 'meta': {}}\n",
      "Uploading ~/mvg/docs/source/content/examples/va-data-charlie/charlieDb/acc/u0003/1573128060.csv\n"
     ]
    },
    {
     "name": "stderr",
     "output_type": "stream",
     "text": [
      "2021-09-22 20:54:03,283 - INFO - mvg.mvg - endpoint https://api.beta.multiviz.com\n",
      "2021-09-22 20:54:03,284 - INFO - mvg.mvg - creating measurement from source id=u0003\n",
      "2021-09-22 20:54:03,285 - INFO - mvg.mvg -   duration:  2.8672073400507907\n",
      "2021-09-22 20:54:03,285 - INFO - mvg.mvg -   timestamp: 1573214460\n",
      "2021-09-22 20:54:03,286 - INFO - mvg.mvg -   meta data: {'sampling_rate': 13950.857142857141}\n"
     ]
    },
    {
     "name": "stdout",
     "output_type": "stream",
     "text": [
      "Read 40000 samples for u0003.\n",
      "Read u0003 meta: {'duration': 2.8672073400507907, 'meta': {}}\n",
      "Uploading ~/mvg/docs/source/content/examples/va-data-charlie/charlieDb/acc/u0003/1573214460.csv\n"
     ]
    },
    {
     "name": "stderr",
     "output_type": "stream",
     "text": [
      "2021-09-22 20:54:04,218 - INFO - mvg.mvg - endpoint https://api.beta.multiviz.com\n",
      "2021-09-22 20:54:04,219 - INFO - mvg.mvg - creating measurement from source id=u0003\n",
      "2021-09-22 20:54:04,220 - INFO - mvg.mvg -   duration:  2.8672073400507907\n",
      "2021-09-22 20:54:04,221 - INFO - mvg.mvg -   timestamp: 1573300860\n",
      "2021-09-22 20:54:04,222 - INFO - mvg.mvg -   meta data: {'sampling_rate': 13950.857142857141}\n"
     ]
    },
    {
     "name": "stdout",
     "output_type": "stream",
     "text": [
      "Read 40000 samples for u0003.\n",
      "Read u0003 meta: {'duration': 2.8672073400507907, 'meta': {}}\n",
      "Uploading ~/mvg/docs/source/content/examples/va-data-charlie/charlieDb/acc/u0003/1573300860.csv\n"
     ]
    },
    {
     "name": "stderr",
     "output_type": "stream",
     "text": [
      "2021-09-22 20:54:05,186 - INFO - mvg.mvg - endpoint https://api.beta.multiviz.com\n",
      "2021-09-22 20:54:05,187 - INFO - mvg.mvg - creating measurement from source id=u0003\n",
      "2021-09-22 20:54:05,189 - INFO - mvg.mvg -   duration:  2.8672073400507907\n",
      "2021-09-22 20:54:05,190 - INFO - mvg.mvg -   timestamp: 1573387260\n",
      "2021-09-22 20:54:05,192 - INFO - mvg.mvg -   meta data: {'sampling_rate': 13950.857142857141}\n"
     ]
    },
    {
     "name": "stdout",
     "output_type": "stream",
     "text": [
      "Read 40000 samples for u0003.\n",
      "Read u0003 meta: {'duration': 2.8672073400507907, 'meta': {}}\n",
      "Uploading ~/mvg/docs/source/content/examples/va-data-charlie/charlieDb/acc/u0003/1573387260.csv\n"
     ]
    },
    {
     "name": "stderr",
     "output_type": "stream",
     "text": [
      "2021-09-22 20:54:06,169 - INFO - mvg.mvg - endpoint https://api.beta.multiviz.com\n",
      "2021-09-22 20:54:06,170 - INFO - mvg.mvg - creating measurement from source id=u0003\n",
      "2021-09-22 20:54:06,170 - INFO - mvg.mvg -   duration:  2.8672073400507907\n",
      "2021-09-22 20:54:06,171 - INFO - mvg.mvg -   timestamp: 1573473660\n",
      "2021-09-22 20:54:06,172 - INFO - mvg.mvg -   meta data: {'sampling_rate': 13950.857142857141}\n"
     ]
    },
    {
     "name": "stdout",
     "output_type": "stream",
     "text": [
      "Read 40000 samples for u0003.\n",
      "Read u0003 meta: {'duration': 2.8672073400507907, 'meta': {}}\n",
      "Uploading ~/mvg/docs/source/content/examples/va-data-charlie/charlieDb/acc/u0003/1573473660.csv\n"
     ]
    },
    {
     "name": "stderr",
     "output_type": "stream",
     "text": [
      "2021-09-22 20:54:07,141 - INFO - mvg.mvg - endpoint https://api.beta.multiviz.com\n",
      "2021-09-22 20:54:07,142 - INFO - mvg.mvg - creating measurement from source id=u0003\n",
      "2021-09-22 20:54:07,144 - INFO - mvg.mvg -   duration:  2.8672073400507907\n",
      "2021-09-22 20:54:07,145 - INFO - mvg.mvg -   timestamp: 1573560060\n",
      "2021-09-22 20:54:07,146 - INFO - mvg.mvg -   meta data: {'sampling_rate': 13950.857142857141}\n"
     ]
    },
    {
     "name": "stdout",
     "output_type": "stream",
     "text": [
      "Read 40000 samples for u0003.\n",
      "Read u0003 meta: {'duration': 2.8672073400507907, 'meta': {}}\n",
      "Uploading ~/mvg/docs/source/content/examples/va-data-charlie/charlieDb/acc/u0003/1573560060.csv\n"
     ]
    },
    {
     "name": "stderr",
     "output_type": "stream",
     "text": [
      "2021-09-22 20:54:08,103 - INFO - mvg.mvg - endpoint https://api.beta.multiviz.com\n",
      "2021-09-22 20:54:08,104 - INFO - mvg.mvg - creating measurement from source id=u0003\n",
      "2021-09-22 20:54:08,106 - INFO - mvg.mvg -   duration:  2.8672073400507907\n",
      "2021-09-22 20:54:08,107 - INFO - mvg.mvg -   timestamp: 1573646460\n",
      "2021-09-22 20:54:08,108 - INFO - mvg.mvg -   meta data: {'sampling_rate': 13950.857142857141}\n"
     ]
    },
    {
     "name": "stdout",
     "output_type": "stream",
     "text": [
      "Read 40000 samples for u0003.\n",
      "Read u0003 meta: {'duration': 2.8672073400507907, 'meta': {}}\n",
      "Uploading ~/mvg/docs/source/content/examples/va-data-charlie/charlieDb/acc/u0003/1573646460.csv\n"
     ]
    },
    {
     "name": "stderr",
     "output_type": "stream",
     "text": [
      "2021-09-22 20:54:09,060 - INFO - mvg.mvg - endpoint https://api.beta.multiviz.com\n",
      "2021-09-22 20:54:09,061 - INFO - mvg.mvg - creating measurement from source id=u0003\n",
      "2021-09-22 20:54:09,061 - INFO - mvg.mvg -   duration:  2.8672073400507907\n",
      "2021-09-22 20:54:09,062 - INFO - mvg.mvg -   timestamp: 1573732860\n",
      "2021-09-22 20:54:09,063 - INFO - mvg.mvg -   meta data: {'sampling_rate': 13950.857142857141}\n"
     ]
    },
    {
     "name": "stdout",
     "output_type": "stream",
     "text": [
      "Read 40000 samples for u0003.\n",
      "Read u0003 meta: {'duration': 2.8672073400507907, 'meta': {}}\n",
      "Uploading ~/mvg/docs/source/content/examples/va-data-charlie/charlieDb/acc/u0003/1573732860.csv\n"
     ]
    },
    {
     "name": "stderr",
     "output_type": "stream",
     "text": [
      "2021-09-22 20:54:10,046 - INFO - mvg.mvg - endpoint https://api.beta.multiviz.com\n",
      "2021-09-22 20:54:10,046 - INFO - mvg.mvg - creating measurement from source id=u0003\n",
      "2021-09-22 20:54:10,047 - INFO - mvg.mvg -   duration:  2.8672073400507907\n",
      "2021-09-22 20:54:10,047 - INFO - mvg.mvg -   timestamp: 1573819260\n",
      "2021-09-22 20:54:10,048 - INFO - mvg.mvg -   meta data: {'sampling_rate': 13950.857142857141}\n"
     ]
    },
    {
     "name": "stdout",
     "output_type": "stream",
     "text": [
      "Read 40000 samples for u0003.\n",
      "Read u0003 meta: {'duration': 2.8672073400507907, 'meta': {}}\n",
      "Uploading ~/mvg/docs/source/content/examples/va-data-charlie/charlieDb/acc/u0003/1573819260.csv\n"
     ]
    },
    {
     "name": "stderr",
     "output_type": "stream",
     "text": [
      "2021-09-22 20:54:10,998 - INFO - mvg.mvg - endpoint https://api.beta.multiviz.com\n",
      "2021-09-22 20:54:10,999 - INFO - mvg.mvg - creating measurement from source id=u0003\n",
      "2021-09-22 20:54:11,000 - INFO - mvg.mvg -   duration:  2.8672073400507907\n",
      "2021-09-22 20:54:11,001 - INFO - mvg.mvg -   timestamp: 1573905660\n",
      "2021-09-22 20:54:11,002 - INFO - mvg.mvg -   meta data: {'sampling_rate': 13950.857142857141}\n"
     ]
    },
    {
     "name": "stdout",
     "output_type": "stream",
     "text": [
      "Read 40000 samples for u0003.\n",
      "Read u0003 meta: {'duration': 2.8672073400507907, 'meta': {}}\n",
      "Uploading ~/mvg/docs/source/content/examples/va-data-charlie/charlieDb/acc/u0003/1573905660.csv\n"
     ]
    },
    {
     "name": "stderr",
     "output_type": "stream",
     "text": [
      "2021-09-22 20:54:11,954 - INFO - mvg.mvg - endpoint https://api.beta.multiviz.com\n",
      "2021-09-22 20:54:11,955 - INFO - mvg.mvg - creating measurement from source id=u0003\n",
      "2021-09-22 20:54:11,956 - INFO - mvg.mvg -   duration:  2.8672073400507907\n",
      "2021-09-22 20:54:11,957 - INFO - mvg.mvg -   timestamp: 1573992060\n",
      "2021-09-22 20:54:11,958 - INFO - mvg.mvg -   meta data: {'sampling_rate': 13950.857142857141}\n"
     ]
    },
    {
     "name": "stdout",
     "output_type": "stream",
     "text": [
      "Read 40000 samples for u0003.\n",
      "Read u0003 meta: {'duration': 2.8672073400507907, 'meta': {}}\n",
      "Uploading ~/mvg/docs/source/content/examples/va-data-charlie/charlieDb/acc/u0003/1573992060.csv\n"
     ]
    },
    {
     "name": "stderr",
     "output_type": "stream",
     "text": [
      "2021-09-22 20:54:12,910 - INFO - mvg.mvg - endpoint https://api.beta.multiviz.com\n",
      "2021-09-22 20:54:12,911 - INFO - mvg.mvg - creating measurement from source id=u0003\n",
      "2021-09-22 20:54:12,911 - INFO - mvg.mvg -   duration:  2.8672073400507907\n",
      "2021-09-22 20:54:12,913 - INFO - mvg.mvg -   timestamp: 1574078460\n",
      "2021-09-22 20:54:12,915 - INFO - mvg.mvg -   meta data: {'sampling_rate': 13950.857142857141}\n"
     ]
    },
    {
     "name": "stdout",
     "output_type": "stream",
     "text": [
      "Read 40000 samples for u0003.\n",
      "Read u0003 meta: {'duration': 2.8672073400507907, 'meta': {}}\n",
      "Uploading ~/mvg/docs/source/content/examples/va-data-charlie/charlieDb/acc/u0003/1574078460.csv\n"
     ]
    },
    {
     "name": "stderr",
     "output_type": "stream",
     "text": [
      "2021-09-22 20:54:14,843 - INFO - mvg.mvg - endpoint https://api.beta.multiviz.com\n",
      "2021-09-22 20:54:14,844 - INFO - mvg.mvg - creating measurement from source id=u0003\n",
      "2021-09-22 20:54:14,845 - INFO - mvg.mvg -   duration:  2.8672073400507907\n",
      "2021-09-22 20:54:14,845 - INFO - mvg.mvg -   timestamp: 1574164860\n",
      "2021-09-22 20:54:14,846 - INFO - mvg.mvg -   meta data: {'sampling_rate': 13950.857142857141}\n"
     ]
    },
    {
     "name": "stdout",
     "output_type": "stream",
     "text": [
      "Read 40000 samples for u0003.\n",
      "Read u0003 meta: {'duration': 2.8672073400507907, 'meta': {}}\n",
      "Uploading ~/mvg/docs/source/content/examples/va-data-charlie/charlieDb/acc/u0003/1574164860.csv\n"
     ]
    },
    {
     "name": "stderr",
     "output_type": "stream",
     "text": [
      "2021-09-22 20:54:15,790 - INFO - mvg.mvg - endpoint https://api.beta.multiviz.com\n",
      "2021-09-22 20:54:15,791 - INFO - mvg.mvg - creating measurement from source id=u0003\n",
      "2021-09-22 20:54:15,791 - INFO - mvg.mvg -   duration:  2.8672073400507907\n",
      "2021-09-22 20:54:15,792 - INFO - mvg.mvg -   timestamp: 1574251260\n",
      "2021-09-22 20:54:15,793 - INFO - mvg.mvg -   meta data: {'sampling_rate': 13950.857142857141}\n"
     ]
    },
    {
     "name": "stdout",
     "output_type": "stream",
     "text": [
      "Read 40000 samples for u0003.\n",
      "Read u0003 meta: {'duration': 2.8672073400507907, 'meta': {}}\n",
      "Uploading ~/mvg/docs/source/content/examples/va-data-charlie/charlieDb/acc/u0003/1574251260.csv\n"
     ]
    },
    {
     "name": "stderr",
     "output_type": "stream",
     "text": [
      "2021-09-22 20:54:16,724 - INFO - mvg.mvg - endpoint https://api.beta.multiviz.com\n",
      "2021-09-22 20:54:16,725 - INFO - mvg.mvg - creating measurement from source id=u0003\n",
      "2021-09-22 20:54:16,725 - INFO - mvg.mvg -   duration:  2.8672073400507907\n",
      "2021-09-22 20:54:16,726 - INFO - mvg.mvg -   timestamp: 1574337660\n",
      "2021-09-22 20:54:16,727 - INFO - mvg.mvg -   meta data: {'sampling_rate': 13950.857142857141}\n"
     ]
    },
    {
     "name": "stdout",
     "output_type": "stream",
     "text": [
      "Read 40000 samples for u0003.\n",
      "Read u0003 meta: {'duration': 2.8672073400507907, 'meta': {}}\n",
      "Uploading ~/mvg/docs/source/content/examples/va-data-charlie/charlieDb/acc/u0003/1574337660.csv\n"
     ]
    },
    {
     "name": "stderr",
     "output_type": "stream",
     "text": [
      "2021-09-22 20:54:18,010 - INFO - mvg.mvg - endpoint https://api.beta.multiviz.com\n",
      "2021-09-22 20:54:18,010 - INFO - mvg.mvg - creating measurement from source id=u0003\n",
      "2021-09-22 20:54:18,011 - INFO - mvg.mvg -   duration:  2.8672073400507907\n",
      "2021-09-22 20:54:18,012 - INFO - mvg.mvg -   timestamp: 1574424060\n",
      "2021-09-22 20:54:18,012 - INFO - mvg.mvg -   meta data: {'sampling_rate': 13950.857142857141}\n"
     ]
    },
    {
     "name": "stdout",
     "output_type": "stream",
     "text": [
      "Read 40000 samples for u0003.\n",
      "Read u0003 meta: {'duration': 2.8672073400507907, 'meta': {}}\n",
      "Uploading ~/mvg/docs/source/content/examples/va-data-charlie/charlieDb/acc/u0003/1574424060.csv\n"
     ]
    },
    {
     "name": "stderr",
     "output_type": "stream",
     "text": [
      "2021-09-22 20:54:18,920 - INFO - mvg.mvg - endpoint https://api.beta.multiviz.com\n",
      "2021-09-22 20:54:18,921 - INFO - mvg.mvg - deleting source with source id=u0004\n",
      "2021-09-22 20:54:19,102 - INFO - mvg.mvg - endpoint https://api.beta.multiviz.com\n",
      "2021-09-22 20:54:19,103 - INFO - mvg.mvg - creating source with source id=u0004\n",
      "2021-09-22 20:54:19,103 - INFO - mvg.mvg - metadata: {'assetId': 'assetD', 'measPoint': 'mloc01', 'location': 'milano'}\n"
     ]
    },
    {
     "name": "stdout",
     "output_type": "stream",
     "text": [
      "Deleting u0004\n",
      "Source u0004 does not exist\n"
     ]
    },
    {
     "name": "stderr",
     "output_type": "stream",
     "text": [
      "2021-09-22 20:54:19,320 - INFO - mvg.mvg - endpoint https://api.beta.multiviz.com\n",
      "2021-09-22 20:54:19,321 - INFO - mvg.mvg - creating measurement from source id=u0004\n",
      "2021-09-22 20:54:19,322 - INFO - mvg.mvg -   duration:  2.8672073400507907\n",
      "2021-09-22 20:54:19,324 - INFO - mvg.mvg -   timestamp: 1570186860\n",
      "2021-09-22 20:54:19,326 - INFO - mvg.mvg -   meta data: {'sampling_rate': 13950.857142857141}\n"
     ]
    },
    {
     "name": "stdout",
     "output_type": "stream",
     "text": [
      "Read 40000 samples for u0004.\n",
      "Read u0004 meta: {'duration': 2.8672073400507907, 'meta': {}}\n",
      "Uploading ~/mvg/docs/source/content/examples/va-data-charlie/charlieDb/acc/u0004/1570186860.csv\n"
     ]
    },
    {
     "name": "stderr",
     "output_type": "stream",
     "text": [
      "2021-09-22 20:54:20,265 - INFO - mvg.mvg - endpoint https://api.beta.multiviz.com\n",
      "2021-09-22 20:54:20,265 - INFO - mvg.mvg - creating measurement from source id=u0004\n",
      "2021-09-22 20:54:20,267 - INFO - mvg.mvg -   duration:  2.8672073400507907\n",
      "2021-09-22 20:54:20,268 - INFO - mvg.mvg -   timestamp: 1570273260\n",
      "2021-09-22 20:54:20,269 - INFO - mvg.mvg -   meta data: {'sampling_rate': 13950.857142857141}\n"
     ]
    },
    {
     "name": "stdout",
     "output_type": "stream",
     "text": [
      "Read 40000 samples for u0004.\n",
      "Read u0004 meta: {'duration': 2.8672073400507907, 'meta': {}}\n",
      "Uploading ~/mvg/docs/source/content/examples/va-data-charlie/charlieDb/acc/u0004/1570273260.csv\n"
     ]
    },
    {
     "name": "stderr",
     "output_type": "stream",
     "text": [
      "2021-09-22 20:54:21,219 - INFO - mvg.mvg - endpoint https://api.beta.multiviz.com\n",
      "2021-09-22 20:54:21,221 - INFO - mvg.mvg - creating measurement from source id=u0004\n",
      "2021-09-22 20:54:21,222 - INFO - mvg.mvg -   duration:  2.8672073400507907\n",
      "2021-09-22 20:54:21,223 - INFO - mvg.mvg -   timestamp: 1570359660\n",
      "2021-09-22 20:54:21,225 - INFO - mvg.mvg -   meta data: {'sampling_rate': 13950.857142857141}\n"
     ]
    },
    {
     "name": "stdout",
     "output_type": "stream",
     "text": [
      "Read 40000 samples for u0004.\n",
      "Read u0004 meta: {'duration': 2.8672073400507907, 'meta': {}}\n",
      "Uploading ~/mvg/docs/source/content/examples/va-data-charlie/charlieDb/acc/u0004/1570359660.csv\n"
     ]
    },
    {
     "name": "stderr",
     "output_type": "stream",
     "text": [
      "2021-09-22 20:54:22,181 - INFO - mvg.mvg - endpoint https://api.beta.multiviz.com\n",
      "2021-09-22 20:54:22,182 - INFO - mvg.mvg - creating measurement from source id=u0004\n",
      "2021-09-22 20:54:22,184 - INFO - mvg.mvg -   duration:  2.8672073400507907\n",
      "2021-09-22 20:54:22,184 - INFO - mvg.mvg -   timestamp: 1570446060\n",
      "2021-09-22 20:54:22,186 - INFO - mvg.mvg -   meta data: {'sampling_rate': 13950.857142857141}\n"
     ]
    },
    {
     "name": "stdout",
     "output_type": "stream",
     "text": [
      "Read 40000 samples for u0004.\n",
      "Read u0004 meta: {'duration': 2.8672073400507907, 'meta': {}}\n",
      "Uploading ~/mvg/docs/source/content/examples/va-data-charlie/charlieDb/acc/u0004/1570446060.csv\n"
     ]
    },
    {
     "name": "stderr",
     "output_type": "stream",
     "text": [
      "2021-09-22 20:54:23,125 - INFO - mvg.mvg - endpoint https://api.beta.multiviz.com\n",
      "2021-09-22 20:54:23,126 - INFO - mvg.mvg - creating measurement from source id=u0004\n",
      "2021-09-22 20:54:23,127 - INFO - mvg.mvg -   duration:  2.8672073400507907\n",
      "2021-09-22 20:54:23,127 - INFO - mvg.mvg -   timestamp: 1570532460\n",
      "2021-09-22 20:54:23,128 - INFO - mvg.mvg -   meta data: {'sampling_rate': 13950.857142857141}\n"
     ]
    },
    {
     "name": "stdout",
     "output_type": "stream",
     "text": [
      "Read 40000 samples for u0004.\n",
      "Read u0004 meta: {'duration': 2.8672073400507907, 'meta': {}}\n",
      "Uploading ~/mvg/docs/source/content/examples/va-data-charlie/charlieDb/acc/u0004/1570532460.csv\n"
     ]
    },
    {
     "name": "stderr",
     "output_type": "stream",
     "text": [
      "2021-09-22 20:54:24,060 - INFO - mvg.mvg - endpoint https://api.beta.multiviz.com\n",
      "2021-09-22 20:54:24,060 - INFO - mvg.mvg - creating measurement from source id=u0004\n",
      "2021-09-22 20:54:24,061 - INFO - mvg.mvg -   duration:  2.8672073400507907\n",
      "2021-09-22 20:54:24,062 - INFO - mvg.mvg -   timestamp: 1570618860\n",
      "2021-09-22 20:54:24,063 - INFO - mvg.mvg -   meta data: {'sampling_rate': 13950.857142857141}\n"
     ]
    },
    {
     "name": "stdout",
     "output_type": "stream",
     "text": [
      "Read 40000 samples for u0004.\n",
      "Read u0004 meta: {'duration': 2.8672073400507907, 'meta': {}}\n",
      "Uploading ~/mvg/docs/source/content/examples/va-data-charlie/charlieDb/acc/u0004/1570618860.csv\n"
     ]
    },
    {
     "name": "stderr",
     "output_type": "stream",
     "text": [
      "2021-09-22 20:54:25,011 - INFO - mvg.mvg - endpoint https://api.beta.multiviz.com\n",
      "2021-09-22 20:54:25,012 - INFO - mvg.mvg - creating measurement from source id=u0004\n",
      "2021-09-22 20:54:25,013 - INFO - mvg.mvg -   duration:  2.8672073400507907\n",
      "2021-09-22 20:54:25,014 - INFO - mvg.mvg -   timestamp: 1570705260\n",
      "2021-09-22 20:54:25,015 - INFO - mvg.mvg -   meta data: {'sampling_rate': 13950.857142857141}\n"
     ]
    },
    {
     "name": "stdout",
     "output_type": "stream",
     "text": [
      "Read 40000 samples for u0004.\n",
      "Read u0004 meta: {'duration': 2.8672073400507907, 'meta': {}}\n",
      "Uploading ~/mvg/docs/source/content/examples/va-data-charlie/charlieDb/acc/u0004/1570705260.csv\n"
     ]
    },
    {
     "name": "stderr",
     "output_type": "stream",
     "text": [
      "2021-09-22 20:54:25,949 - INFO - mvg.mvg - endpoint https://api.beta.multiviz.com\n",
      "2021-09-22 20:54:25,950 - INFO - mvg.mvg - creating measurement from source id=u0004\n",
      "2021-09-22 20:54:25,950 - INFO - mvg.mvg -   duration:  2.8672073400507907\n",
      "2021-09-22 20:54:25,951 - INFO - mvg.mvg -   timestamp: 1570791660\n",
      "2021-09-22 20:54:25,952 - INFO - mvg.mvg -   meta data: {'sampling_rate': 13950.857142857141}\n"
     ]
    },
    {
     "name": "stdout",
     "output_type": "stream",
     "text": [
      "Read 40000 samples for u0004.\n",
      "Read u0004 meta: {'duration': 2.8672073400507907, 'meta': {}}\n",
      "Uploading ~/mvg/docs/source/content/examples/va-data-charlie/charlieDb/acc/u0004/1570791660.csv\n"
     ]
    },
    {
     "name": "stderr",
     "output_type": "stream",
     "text": [
      "2021-09-22 20:54:26,896 - INFO - mvg.mvg - endpoint https://api.beta.multiviz.com\n",
      "2021-09-22 20:54:26,896 - INFO - mvg.mvg - creating measurement from source id=u0004\n",
      "2021-09-22 20:54:26,897 - INFO - mvg.mvg -   duration:  2.8672073400507907\n",
      "2021-09-22 20:54:26,898 - INFO - mvg.mvg -   timestamp: 1570878060\n",
      "2021-09-22 20:54:26,900 - INFO - mvg.mvg -   meta data: {'sampling_rate': 13950.857142857141}\n"
     ]
    },
    {
     "name": "stdout",
     "output_type": "stream",
     "text": [
      "Read 40000 samples for u0004.\n",
      "Read u0004 meta: {'duration': 2.8672073400507907, 'meta': {}}\n",
      "Uploading ~/mvg/docs/source/content/examples/va-data-charlie/charlieDb/acc/u0004/1570878060.csv\n"
     ]
    },
    {
     "name": "stderr",
     "output_type": "stream",
     "text": [
      "2021-09-22 20:54:27,888 - INFO - mvg.mvg - endpoint https://api.beta.multiviz.com\n",
      "2021-09-22 20:54:27,890 - INFO - mvg.mvg - creating measurement from source id=u0004\n",
      "2021-09-22 20:54:27,891 - INFO - mvg.mvg -   duration:  2.8672073400507907\n",
      "2021-09-22 20:54:27,892 - INFO - mvg.mvg -   timestamp: 1570964460\n",
      "2021-09-22 20:54:27,893 - INFO - mvg.mvg -   meta data: {'sampling_rate': 13950.857142857141}\n"
     ]
    },
    {
     "name": "stdout",
     "output_type": "stream",
     "text": [
      "Read 40000 samples for u0004.\n",
      "Read u0004 meta: {'duration': 2.8672073400507907, 'meta': {}}\n",
      "Uploading ~/mvg/docs/source/content/examples/va-data-charlie/charlieDb/acc/u0004/1570964460.csv\n"
     ]
    },
    {
     "name": "stderr",
     "output_type": "stream",
     "text": [
      "2021-09-22 20:54:28,862 - INFO - mvg.mvg - endpoint https://api.beta.multiviz.com\n",
      "2021-09-22 20:54:28,863 - INFO - mvg.mvg - creating measurement from source id=u0004\n",
      "2021-09-22 20:54:28,864 - INFO - mvg.mvg -   duration:  2.8672073400507907\n",
      "2021-09-22 20:54:28,864 - INFO - mvg.mvg -   timestamp: 1571050860\n",
      "2021-09-22 20:54:28,866 - INFO - mvg.mvg -   meta data: {'sampling_rate': 13950.857142857141}\n"
     ]
    },
    {
     "name": "stdout",
     "output_type": "stream",
     "text": [
      "Read 40000 samples for u0004.\n",
      "Read u0004 meta: {'duration': 2.8672073400507907, 'meta': {}}\n",
      "Uploading ~/mvg/docs/source/content/examples/va-data-charlie/charlieDb/acc/u0004/1571050860.csv\n"
     ]
    },
    {
     "name": "stderr",
     "output_type": "stream",
     "text": [
      "2021-09-22 20:54:29,800 - INFO - mvg.mvg - endpoint https://api.beta.multiviz.com\n",
      "2021-09-22 20:54:29,801 - INFO - mvg.mvg - creating measurement from source id=u0004\n",
      "2021-09-22 20:54:29,802 - INFO - mvg.mvg -   duration:  2.8672073400507907\n",
      "2021-09-22 20:54:29,804 - INFO - mvg.mvg -   timestamp: 1571137260\n",
      "2021-09-22 20:54:29,805 - INFO - mvg.mvg -   meta data: {'sampling_rate': 13950.857142857141}\n"
     ]
    },
    {
     "name": "stdout",
     "output_type": "stream",
     "text": [
      "Read 40000 samples for u0004.\n",
      "Read u0004 meta: {'duration': 2.8672073400507907, 'meta': {}}\n",
      "Uploading ~/mvg/docs/source/content/examples/va-data-charlie/charlieDb/acc/u0004/1571137260.csv\n"
     ]
    },
    {
     "name": "stderr",
     "output_type": "stream",
     "text": [
      "2021-09-22 20:54:30,768 - INFO - mvg.mvg - endpoint https://api.beta.multiviz.com\n",
      "2021-09-22 20:54:30,769 - INFO - mvg.mvg - creating measurement from source id=u0004\n",
      "2021-09-22 20:54:30,770 - INFO - mvg.mvg -   duration:  2.8672073400507907\n",
      "2021-09-22 20:54:30,771 - INFO - mvg.mvg -   timestamp: 1571223660\n",
      "2021-09-22 20:54:30,773 - INFO - mvg.mvg -   meta data: {'sampling_rate': 13950.857142857141}\n"
     ]
    },
    {
     "name": "stdout",
     "output_type": "stream",
     "text": [
      "Read 40000 samples for u0004.\n",
      "Read u0004 meta: {'duration': 2.8672073400507907, 'meta': {}}\n",
      "Uploading ~/mvg/docs/source/content/examples/va-data-charlie/charlieDb/acc/u0004/1571223660.csv\n"
     ]
    },
    {
     "name": "stderr",
     "output_type": "stream",
     "text": [
      "2021-09-22 20:54:31,753 - INFO - mvg.mvg - endpoint https://api.beta.multiviz.com\n",
      "2021-09-22 20:54:31,754 - INFO - mvg.mvg - creating measurement from source id=u0004\n",
      "2021-09-22 20:54:31,754 - INFO - mvg.mvg -   duration:  2.8672073400507907\n",
      "2021-09-22 20:54:31,755 - INFO - mvg.mvg -   timestamp: 1571310060\n",
      "2021-09-22 20:54:31,756 - INFO - mvg.mvg -   meta data: {'sampling_rate': 13950.857142857141}\n"
     ]
    },
    {
     "name": "stdout",
     "output_type": "stream",
     "text": [
      "Read 40000 samples for u0004.\n",
      "Read u0004 meta: {'duration': 2.8672073400507907, 'meta': {}}\n",
      "Uploading ~/mvg/docs/source/content/examples/va-data-charlie/charlieDb/acc/u0004/1571310060.csv\n"
     ]
    },
    {
     "name": "stderr",
     "output_type": "stream",
     "text": [
      "2021-09-22 20:54:32,697 - INFO - mvg.mvg - endpoint https://api.beta.multiviz.com\n",
      "2021-09-22 20:54:32,698 - INFO - mvg.mvg - creating measurement from source id=u0004\n",
      "2021-09-22 20:54:32,700 - INFO - mvg.mvg -   duration:  2.8672073400507907\n",
      "2021-09-22 20:54:32,700 - INFO - mvg.mvg -   timestamp: 1571396460\n",
      "2021-09-22 20:54:32,702 - INFO - mvg.mvg -   meta data: {'sampling_rate': 13950.857142857141}\n"
     ]
    },
    {
     "name": "stdout",
     "output_type": "stream",
     "text": [
      "Read 40000 samples for u0004.\n",
      "Read u0004 meta: {'duration': 2.8672073400507907, 'meta': {}}\n",
      "Uploading ~/mvg/docs/source/content/examples/va-data-charlie/charlieDb/acc/u0004/1571396460.csv\n"
     ]
    },
    {
     "name": "stderr",
     "output_type": "stream",
     "text": [
      "2021-09-22 20:54:33,656 - INFO - mvg.mvg - endpoint https://api.beta.multiviz.com\n",
      "2021-09-22 20:54:33,657 - INFO - mvg.mvg - creating measurement from source id=u0004\n",
      "2021-09-22 20:54:33,658 - INFO - mvg.mvg -   duration:  2.8672073400507907\n",
      "2021-09-22 20:54:33,659 - INFO - mvg.mvg -   timestamp: 1571482860\n",
      "2021-09-22 20:54:33,660 - INFO - mvg.mvg -   meta data: {'sampling_rate': 13950.857142857141}\n"
     ]
    },
    {
     "name": "stdout",
     "output_type": "stream",
     "text": [
      "Read 40000 samples for u0004.\n",
      "Read u0004 meta: {'duration': 2.8672073400507907, 'meta': {}}\n",
      "Uploading ~/mvg/docs/source/content/examples/va-data-charlie/charlieDb/acc/u0004/1571482860.csv\n"
     ]
    },
    {
     "name": "stderr",
     "output_type": "stream",
     "text": [
      "2021-09-22 20:54:34,625 - INFO - mvg.mvg - endpoint https://api.beta.multiviz.com\n",
      "2021-09-22 20:54:34,626 - INFO - mvg.mvg - creating measurement from source id=u0004\n",
      "2021-09-22 20:54:34,627 - INFO - mvg.mvg -   duration:  2.8672073400507907\n",
      "2021-09-22 20:54:34,628 - INFO - mvg.mvg -   timestamp: 1571569260\n",
      "2021-09-22 20:54:34,629 - INFO - mvg.mvg -   meta data: {'sampling_rate': 13950.857142857141}\n"
     ]
    },
    {
     "name": "stdout",
     "output_type": "stream",
     "text": [
      "Read 40000 samples for u0004.\n",
      "Read u0004 meta: {'duration': 2.8672073400507907, 'meta': {}}\n",
      "Uploading ~/mvg/docs/source/content/examples/va-data-charlie/charlieDb/acc/u0004/1571569260.csv\n"
     ]
    },
    {
     "name": "stderr",
     "output_type": "stream",
     "text": [
      "2021-09-22 20:54:35,604 - INFO - mvg.mvg - endpoint https://api.beta.multiviz.com\n",
      "2021-09-22 20:54:35,605 - INFO - mvg.mvg - creating measurement from source id=u0004\n",
      "2021-09-22 20:54:35,605 - INFO - mvg.mvg -   duration:  2.8672073400507907\n",
      "2021-09-22 20:54:35,606 - INFO - mvg.mvg -   timestamp: 1571655660\n",
      "2021-09-22 20:54:35,607 - INFO - mvg.mvg -   meta data: {'sampling_rate': 13950.857142857141}\n"
     ]
    },
    {
     "name": "stdout",
     "output_type": "stream",
     "text": [
      "Read 40000 samples for u0004.\n",
      "Read u0004 meta: {'duration': 2.8672073400507907, 'meta': {}}\n",
      "Uploading ~/mvg/docs/source/content/examples/va-data-charlie/charlieDb/acc/u0004/1571655660.csv\n"
     ]
    },
    {
     "name": "stderr",
     "output_type": "stream",
     "text": [
      "2021-09-22 20:54:36,561 - INFO - mvg.mvg - endpoint https://api.beta.multiviz.com\n",
      "2021-09-22 20:54:36,562 - INFO - mvg.mvg - creating measurement from source id=u0004\n",
      "2021-09-22 20:54:36,563 - INFO - mvg.mvg -   duration:  2.8672073400507907\n",
      "2021-09-22 20:54:36,563 - INFO - mvg.mvg -   timestamp: 1571742060\n",
      "2021-09-22 20:54:36,564 - INFO - mvg.mvg -   meta data: {'sampling_rate': 13950.857142857141}\n"
     ]
    },
    {
     "name": "stdout",
     "output_type": "stream",
     "text": [
      "Read 40000 samples for u0004.\n",
      "Read u0004 meta: {'duration': 2.8672073400507907, 'meta': {}}\n",
      "Uploading ~/mvg/docs/source/content/examples/va-data-charlie/charlieDb/acc/u0004/1571742060.csv\n"
     ]
    },
    {
     "name": "stderr",
     "output_type": "stream",
     "text": [
      "2021-09-22 20:54:37,494 - INFO - mvg.mvg - endpoint https://api.beta.multiviz.com\n",
      "2021-09-22 20:54:37,495 - INFO - mvg.mvg - creating measurement from source id=u0004\n",
      "2021-09-22 20:54:37,495 - INFO - mvg.mvg -   duration:  2.8672073400507907\n",
      "2021-09-22 20:54:37,496 - INFO - mvg.mvg -   timestamp: 1571828460\n",
      "2021-09-22 20:54:37,497 - INFO - mvg.mvg -   meta data: {'sampling_rate': 13950.857142857141}\n"
     ]
    },
    {
     "name": "stdout",
     "output_type": "stream",
     "text": [
      "Read 40000 samples for u0004.\n",
      "Read u0004 meta: {'duration': 2.8672073400507907, 'meta': {}}\n",
      "Uploading ~/mvg/docs/source/content/examples/va-data-charlie/charlieDb/acc/u0004/1571828460.csv\n"
     ]
    },
    {
     "name": "stderr",
     "output_type": "stream",
     "text": [
      "2021-09-22 20:54:38,457 - INFO - mvg.mvg - endpoint https://api.beta.multiviz.com\n",
      "2021-09-22 20:54:38,458 - INFO - mvg.mvg - creating measurement from source id=u0004\n",
      "2021-09-22 20:54:38,459 - INFO - mvg.mvg -   duration:  2.8672073400507907\n",
      "2021-09-22 20:54:38,460 - INFO - mvg.mvg -   timestamp: 1571914860\n",
      "2021-09-22 20:54:38,461 - INFO - mvg.mvg -   meta data: {'sampling_rate': 13950.857142857141}\n"
     ]
    },
    {
     "name": "stdout",
     "output_type": "stream",
     "text": [
      "Read 40000 samples for u0004.\n",
      "Read u0004 meta: {'duration': 2.8672073400507907, 'meta': {}}\n",
      "Uploading ~/mvg/docs/source/content/examples/va-data-charlie/charlieDb/acc/u0004/1571914860.csv\n"
     ]
    },
    {
     "name": "stderr",
     "output_type": "stream",
     "text": [
      "2021-09-22 20:54:39,417 - INFO - mvg.mvg - endpoint https://api.beta.multiviz.com\n",
      "2021-09-22 20:54:39,419 - INFO - mvg.mvg - creating measurement from source id=u0004\n",
      "2021-09-22 20:54:39,420 - INFO - mvg.mvg -   duration:  2.8672073400507907\n",
      "2021-09-22 20:54:39,421 - INFO - mvg.mvg -   timestamp: 1572001260\n",
      "2021-09-22 20:54:39,421 - INFO - mvg.mvg -   meta data: {'sampling_rate': 13950.857142857141}\n"
     ]
    },
    {
     "name": "stdout",
     "output_type": "stream",
     "text": [
      "Read 40000 samples for u0004.\n",
      "Read u0004 meta: {'duration': 2.8672073400507907, 'meta': {}}\n",
      "Uploading ~/mvg/docs/source/content/examples/va-data-charlie/charlieDb/acc/u0004/1572001260.csv\n"
     ]
    },
    {
     "name": "stderr",
     "output_type": "stream",
     "text": [
      "2021-09-22 20:54:40,380 - INFO - mvg.mvg - endpoint https://api.beta.multiviz.com\n",
      "2021-09-22 20:54:40,381 - INFO - mvg.mvg - creating measurement from source id=u0004\n",
      "2021-09-22 20:54:40,382 - INFO - mvg.mvg -   duration:  2.8672073400507907\n",
      "2021-09-22 20:54:40,383 - INFO - mvg.mvg -   timestamp: 1572087660\n",
      "2021-09-22 20:54:40,384 - INFO - mvg.mvg -   meta data: {'sampling_rate': 13950.857142857141}\n"
     ]
    },
    {
     "name": "stdout",
     "output_type": "stream",
     "text": [
      "Read 40000 samples for u0004.\n",
      "Read u0004 meta: {'duration': 2.8672073400507907, 'meta': {}}\n",
      "Uploading ~/mvg/docs/source/content/examples/va-data-charlie/charlieDb/acc/u0004/1572087660.csv\n"
     ]
    },
    {
     "name": "stderr",
     "output_type": "stream",
     "text": [
      "2021-09-22 20:54:41,397 - INFO - mvg.mvg - endpoint https://api.beta.multiviz.com\n",
      "2021-09-22 20:54:41,397 - INFO - mvg.mvg - creating measurement from source id=u0004\n",
      "2021-09-22 20:54:41,398 - INFO - mvg.mvg -   duration:  2.8672073400507907\n",
      "2021-09-22 20:54:41,399 - INFO - mvg.mvg -   timestamp: 1572177660\n",
      "2021-09-22 20:54:41,401 - INFO - mvg.mvg -   meta data: {'sampling_rate': 13950.857142857141}\n"
     ]
    },
    {
     "name": "stdout",
     "output_type": "stream",
     "text": [
      "Read 40000 samples for u0004.\n",
      "Read u0004 meta: {'duration': 2.8672073400507907, 'meta': {}}\n",
      "Uploading ~/mvg/docs/source/content/examples/va-data-charlie/charlieDb/acc/u0004/1572177660.csv\n"
     ]
    },
    {
     "name": "stderr",
     "output_type": "stream",
     "text": [
      "2021-09-22 20:54:42,348 - INFO - mvg.mvg - endpoint https://api.beta.multiviz.com\n",
      "2021-09-22 20:54:42,348 - INFO - mvg.mvg - creating measurement from source id=u0004\n",
      "2021-09-22 20:54:42,349 - INFO - mvg.mvg -   duration:  2.8672073400507907\n",
      "2021-09-22 20:54:42,350 - INFO - mvg.mvg -   timestamp: 1572264060\n",
      "2021-09-22 20:54:42,351 - INFO - mvg.mvg -   meta data: {'sampling_rate': 13950.857142857141}\n"
     ]
    },
    {
     "name": "stdout",
     "output_type": "stream",
     "text": [
      "Read 40000 samples for u0004.\n",
      "Read u0004 meta: {'duration': 2.8672073400507907, 'meta': {}}\n",
      "Uploading ~/mvg/docs/source/content/examples/va-data-charlie/charlieDb/acc/u0004/1572264060.csv\n"
     ]
    },
    {
     "name": "stderr",
     "output_type": "stream",
     "text": [
      "2021-09-22 20:54:43,295 - INFO - mvg.mvg - endpoint https://api.beta.multiviz.com\n",
      "2021-09-22 20:54:43,296 - INFO - mvg.mvg - creating measurement from source id=u0004\n",
      "2021-09-22 20:54:43,296 - INFO - mvg.mvg -   duration:  2.8672073400507907\n",
      "2021-09-22 20:54:43,297 - INFO - mvg.mvg -   timestamp: 1572350460\n",
      "2021-09-22 20:54:43,299 - INFO - mvg.mvg -   meta data: {'sampling_rate': 13950.857142857141}\n"
     ]
    },
    {
     "name": "stdout",
     "output_type": "stream",
     "text": [
      "Read 40000 samples for u0004.\n",
      "Read u0004 meta: {'duration': 2.8672073400507907, 'meta': {}}\n",
      "Uploading ~/mvg/docs/source/content/examples/va-data-charlie/charlieDb/acc/u0004/1572350460.csv\n"
     ]
    },
    {
     "name": "stderr",
     "output_type": "stream",
     "text": [
      "2021-09-22 20:54:44,237 - INFO - mvg.mvg - endpoint https://api.beta.multiviz.com\n",
      "2021-09-22 20:54:44,237 - INFO - mvg.mvg - creating measurement from source id=u0004\n",
      "2021-09-22 20:54:44,238 - INFO - mvg.mvg -   duration:  2.8672073400507907\n",
      "2021-09-22 20:54:44,239 - INFO - mvg.mvg -   timestamp: 1572436860\n",
      "2021-09-22 20:54:44,240 - INFO - mvg.mvg -   meta data: {'sampling_rate': 13950.857142857141}\n"
     ]
    },
    {
     "name": "stdout",
     "output_type": "stream",
     "text": [
      "Read 40000 samples for u0004.\n",
      "Read u0004 meta: {'duration': 2.8672073400507907, 'meta': {}}\n",
      "Uploading ~/mvg/docs/source/content/examples/va-data-charlie/charlieDb/acc/u0004/1572436860.csv\n"
     ]
    },
    {
     "name": "stderr",
     "output_type": "stream",
     "text": [
      "2021-09-22 20:54:45,195 - INFO - mvg.mvg - endpoint https://api.beta.multiviz.com\n",
      "2021-09-22 20:54:45,196 - INFO - mvg.mvg - creating measurement from source id=u0004\n",
      "2021-09-22 20:54:45,198 - INFO - mvg.mvg -   duration:  2.8672073400507907\n",
      "2021-09-22 20:54:45,199 - INFO - mvg.mvg -   timestamp: 1572523260\n",
      "2021-09-22 20:54:45,200 - INFO - mvg.mvg -   meta data: {'sampling_rate': 13950.857142857141}\n"
     ]
    },
    {
     "name": "stdout",
     "output_type": "stream",
     "text": [
      "Read 40000 samples for u0004.\n",
      "Read u0004 meta: {'duration': 2.8672073400507907, 'meta': {}}\n",
      "Uploading ~/mvg/docs/source/content/examples/va-data-charlie/charlieDb/acc/u0004/1572523260.csv\n"
     ]
    },
    {
     "name": "stderr",
     "output_type": "stream",
     "text": [
      "2021-09-22 20:54:46,146 - INFO - mvg.mvg - endpoint https://api.beta.multiviz.com\n",
      "2021-09-22 20:54:46,146 - INFO - mvg.mvg - creating measurement from source id=u0004\n",
      "2021-09-22 20:54:46,147 - INFO - mvg.mvg -   duration:  2.8672073400507907\n",
      "2021-09-22 20:54:46,148 - INFO - mvg.mvg -   timestamp: 1572609660\n",
      "2021-09-22 20:54:46,149 - INFO - mvg.mvg -   meta data: {'sampling_rate': 13950.857142857141}\n"
     ]
    },
    {
     "name": "stdout",
     "output_type": "stream",
     "text": [
      "Read 40000 samples for u0004.\n",
      "Read u0004 meta: {'duration': 2.8672073400507907, 'meta': {}}\n",
      "Uploading ~/mvg/docs/source/content/examples/va-data-charlie/charlieDb/acc/u0004/1572609660.csv\n"
     ]
    },
    {
     "name": "stderr",
     "output_type": "stream",
     "text": [
      "2021-09-22 20:54:47,082 - INFO - mvg.mvg - endpoint https://api.beta.multiviz.com\n",
      "2021-09-22 20:54:47,083 - INFO - mvg.mvg - creating measurement from source id=u0004\n",
      "2021-09-22 20:54:47,083 - INFO - mvg.mvg -   duration:  2.8672073400507907\n",
      "2021-09-22 20:54:47,084 - INFO - mvg.mvg -   timestamp: 1572696060\n",
      "2021-09-22 20:54:47,085 - INFO - mvg.mvg -   meta data: {'sampling_rate': 13950.857142857141}\n"
     ]
    },
    {
     "name": "stdout",
     "output_type": "stream",
     "text": [
      "Read 40000 samples for u0004.\n",
      "Read u0004 meta: {'duration': 2.8672073400507907, 'meta': {}}\n",
      "Uploading ~/mvg/docs/source/content/examples/va-data-charlie/charlieDb/acc/u0004/1572696060.csv\n"
     ]
    },
    {
     "name": "stderr",
     "output_type": "stream",
     "text": [
      "2021-09-22 20:54:48,037 - INFO - mvg.mvg - endpoint https://api.beta.multiviz.com\n",
      "2021-09-22 20:54:48,037 - INFO - mvg.mvg - creating measurement from source id=u0004\n",
      "2021-09-22 20:54:48,038 - INFO - mvg.mvg -   duration:  2.8672073400507907\n",
      "2021-09-22 20:54:48,039 - INFO - mvg.mvg -   timestamp: 1572782460\n",
      "2021-09-22 20:54:48,040 - INFO - mvg.mvg -   meta data: {'sampling_rate': 13950.857142857141}\n"
     ]
    },
    {
     "name": "stdout",
     "output_type": "stream",
     "text": [
      "Read 40000 samples for u0004.\n",
      "Read u0004 meta: {'duration': 2.8672073400507907, 'meta': {}}\n",
      "Uploading ~/mvg/docs/source/content/examples/va-data-charlie/charlieDb/acc/u0004/1572782460.csv\n"
     ]
    },
    {
     "name": "stderr",
     "output_type": "stream",
     "text": [
      "2021-09-22 20:54:48,984 - INFO - mvg.mvg - endpoint https://api.beta.multiviz.com\n",
      "2021-09-22 20:54:48,985 - INFO - mvg.mvg - creating measurement from source id=u0004\n",
      "2021-09-22 20:54:48,986 - INFO - mvg.mvg -   duration:  2.8672073400507907\n",
      "2021-09-22 20:54:48,988 - INFO - mvg.mvg -   timestamp: 1572868860\n",
      "2021-09-22 20:54:48,990 - INFO - mvg.mvg -   meta data: {'sampling_rate': 13950.857142857141}\n"
     ]
    },
    {
     "name": "stdout",
     "output_type": "stream",
     "text": [
      "Read 40000 samples for u0004.\n",
      "Read u0004 meta: {'duration': 2.8672073400507907, 'meta': {}}\n",
      "Uploading ~/mvg/docs/source/content/examples/va-data-charlie/charlieDb/acc/u0004/1572868860.csv\n"
     ]
    },
    {
     "name": "stderr",
     "output_type": "stream",
     "text": [
      "2021-09-22 20:54:49,972 - INFO - mvg.mvg - endpoint https://api.beta.multiviz.com\n",
      "2021-09-22 20:54:49,973 - INFO - mvg.mvg - creating measurement from source id=u0004\n",
      "2021-09-22 20:54:49,974 - INFO - mvg.mvg -   duration:  2.8672073400507907\n",
      "2021-09-22 20:54:49,974 - INFO - mvg.mvg -   timestamp: 1572955260\n",
      "2021-09-22 20:54:49,975 - INFO - mvg.mvg -   meta data: {'sampling_rate': 13950.857142857141}\n"
     ]
    },
    {
     "name": "stdout",
     "output_type": "stream",
     "text": [
      "Read 40000 samples for u0004.\n",
      "Read u0004 meta: {'duration': 2.8672073400507907, 'meta': {}}\n",
      "Uploading ~/mvg/docs/source/content/examples/va-data-charlie/charlieDb/acc/u0004/1572955260.csv\n"
     ]
    },
    {
     "name": "stderr",
     "output_type": "stream",
     "text": [
      "2021-09-22 20:54:50,948 - INFO - mvg.mvg - endpoint https://api.beta.multiviz.com\n",
      "2021-09-22 20:54:50,949 - INFO - mvg.mvg - creating measurement from source id=u0004\n",
      "2021-09-22 20:54:50,950 - INFO - mvg.mvg -   duration:  2.8672073400507907\n",
      "2021-09-22 20:54:50,950 - INFO - mvg.mvg -   timestamp: 1573041660\n",
      "2021-09-22 20:54:50,951 - INFO - mvg.mvg -   meta data: {'sampling_rate': 13950.857142857141}\n"
     ]
    },
    {
     "name": "stdout",
     "output_type": "stream",
     "text": [
      "Read 40000 samples for u0004.\n",
      "Read u0004 meta: {'duration': 2.8672073400507907, 'meta': {}}\n",
      "Uploading ~/mvg/docs/source/content/examples/va-data-charlie/charlieDb/acc/u0004/1573041660.csv\n"
     ]
    },
    {
     "name": "stderr",
     "output_type": "stream",
     "text": [
      "2021-09-22 20:54:51,883 - INFO - mvg.mvg - endpoint https://api.beta.multiviz.com\n",
      "2021-09-22 20:54:51,883 - INFO - mvg.mvg - creating measurement from source id=u0004\n",
      "2021-09-22 20:54:51,884 - INFO - mvg.mvg -   duration:  2.8672073400507907\n",
      "2021-09-22 20:54:51,885 - INFO - mvg.mvg -   timestamp: 1573128060\n",
      "2021-09-22 20:54:51,886 - INFO - mvg.mvg -   meta data: {'sampling_rate': 13950.857142857141}\n"
     ]
    },
    {
     "name": "stdout",
     "output_type": "stream",
     "text": [
      "Read 40000 samples for u0004.\n",
      "Read u0004 meta: {'duration': 2.8672073400507907, 'meta': {}}\n",
      "Uploading ~/mvg/docs/source/content/examples/va-data-charlie/charlieDb/acc/u0004/1573128060.csv\n"
     ]
    },
    {
     "name": "stderr",
     "output_type": "stream",
     "text": [
      "2021-09-22 20:54:52,859 - INFO - mvg.mvg - endpoint https://api.beta.multiviz.com\n",
      "2021-09-22 20:54:52,860 - INFO - mvg.mvg - creating measurement from source id=u0004\n",
      "2021-09-22 20:54:52,861 - INFO - mvg.mvg -   duration:  2.8672073400507907\n",
      "2021-09-22 20:54:52,862 - INFO - mvg.mvg -   timestamp: 1573214460\n",
      "2021-09-22 20:54:52,863 - INFO - mvg.mvg -   meta data: {'sampling_rate': 13950.857142857141}\n"
     ]
    },
    {
     "name": "stdout",
     "output_type": "stream",
     "text": [
      "Read 40000 samples for u0004.\n",
      "Read u0004 meta: {'duration': 2.8672073400507907, 'meta': {}}\n",
      "Uploading ~/mvg/docs/source/content/examples/va-data-charlie/charlieDb/acc/u0004/1573214460.csv\n"
     ]
    },
    {
     "name": "stderr",
     "output_type": "stream",
     "text": [
      "2021-09-22 20:54:54,178 - INFO - mvg.mvg - endpoint https://api.beta.multiviz.com\n",
      "2021-09-22 20:54:54,179 - INFO - mvg.mvg - creating measurement from source id=u0004\n",
      "2021-09-22 20:54:54,180 - INFO - mvg.mvg -   duration:  2.8672073400507907\n",
      "2021-09-22 20:54:54,181 - INFO - mvg.mvg -   timestamp: 1573300860\n",
      "2021-09-22 20:54:54,181 - INFO - mvg.mvg -   meta data: {'sampling_rate': 13950.857142857141}\n"
     ]
    },
    {
     "name": "stdout",
     "output_type": "stream",
     "text": [
      "Read 40000 samples for u0004.\n",
      "Read u0004 meta: {'duration': 2.8672073400507907, 'meta': {}}\n",
      "Uploading ~/mvg/docs/source/content/examples/va-data-charlie/charlieDb/acc/u0004/1573300860.csv\n"
     ]
    },
    {
     "name": "stderr",
     "output_type": "stream",
     "text": [
      "2021-09-22 20:54:55,162 - INFO - mvg.mvg - endpoint https://api.beta.multiviz.com\n",
      "2021-09-22 20:54:55,163 - INFO - mvg.mvg - creating measurement from source id=u0004\n",
      "2021-09-22 20:54:55,164 - INFO - mvg.mvg -   duration:  2.8672073400507907\n",
      "2021-09-22 20:54:55,165 - INFO - mvg.mvg -   timestamp: 1573387260\n",
      "2021-09-22 20:54:55,166 - INFO - mvg.mvg -   meta data: {'sampling_rate': 13950.857142857141}\n"
     ]
    },
    {
     "name": "stdout",
     "output_type": "stream",
     "text": [
      "Read 40000 samples for u0004.\n",
      "Read u0004 meta: {'duration': 2.8672073400507907, 'meta': {}}\n",
      "Uploading ~/mvg/docs/source/content/examples/va-data-charlie/charlieDb/acc/u0004/1573387260.csv\n"
     ]
    },
    {
     "name": "stderr",
     "output_type": "stream",
     "text": [
      "2021-09-22 20:54:56,151 - INFO - mvg.mvg - endpoint https://api.beta.multiviz.com\n",
      "2021-09-22 20:54:56,153 - INFO - mvg.mvg - creating measurement from source id=u0004\n",
      "2021-09-22 20:54:56,154 - INFO - mvg.mvg -   duration:  2.8672073400507907\n",
      "2021-09-22 20:54:56,156 - INFO - mvg.mvg -   timestamp: 1573473660\n",
      "2021-09-22 20:54:56,157 - INFO - mvg.mvg -   meta data: {'sampling_rate': 13950.857142857141}\n"
     ]
    },
    {
     "name": "stdout",
     "output_type": "stream",
     "text": [
      "Read 40000 samples for u0004.\n",
      "Read u0004 meta: {'duration': 2.8672073400507907, 'meta': {}}\n",
      "Uploading ~/mvg/docs/source/content/examples/va-data-charlie/charlieDb/acc/u0004/1573473660.csv\n"
     ]
    },
    {
     "name": "stderr",
     "output_type": "stream",
     "text": [
      "2021-09-22 20:54:57,119 - INFO - mvg.mvg - endpoint https://api.beta.multiviz.com\n",
      "2021-09-22 20:54:57,120 - INFO - mvg.mvg - creating measurement from source id=u0004\n",
      "2021-09-22 20:54:57,122 - INFO - mvg.mvg -   duration:  2.8672073400507907\n",
      "2021-09-22 20:54:57,123 - INFO - mvg.mvg -   timestamp: 1573560060\n",
      "2021-09-22 20:54:57,127 - INFO - mvg.mvg -   meta data: {'sampling_rate': 13950.857142857141}\n"
     ]
    },
    {
     "name": "stdout",
     "output_type": "stream",
     "text": [
      "Read 40000 samples for u0004.\n",
      "Read u0004 meta: {'duration': 2.8672073400507907, 'meta': {}}\n",
      "Uploading ~/mvg/docs/source/content/examples/va-data-charlie/charlieDb/acc/u0004/1573560060.csv\n"
     ]
    },
    {
     "name": "stderr",
     "output_type": "stream",
     "text": [
      "2021-09-22 20:54:58,079 - INFO - mvg.mvg - endpoint https://api.beta.multiviz.com\n",
      "2021-09-22 20:54:58,079 - INFO - mvg.mvg - creating measurement from source id=u0004\n",
      "2021-09-22 20:54:58,080 - INFO - mvg.mvg -   duration:  2.8672073400507907\n",
      "2021-09-22 20:54:58,081 - INFO - mvg.mvg -   timestamp: 1573646460\n",
      "2021-09-22 20:54:58,082 - INFO - mvg.mvg -   meta data: {'sampling_rate': 13950.857142857141}\n"
     ]
    },
    {
     "name": "stdout",
     "output_type": "stream",
     "text": [
      "Read 40000 samples for u0004.\n",
      "Read u0004 meta: {'duration': 2.8672073400507907, 'meta': {}}\n",
      "Uploading ~/mvg/docs/source/content/examples/va-data-charlie/charlieDb/acc/u0004/1573646460.csv\n"
     ]
    },
    {
     "name": "stderr",
     "output_type": "stream",
     "text": [
      "2021-09-22 20:55:00,095 - INFO - mvg.mvg - endpoint https://api.beta.multiviz.com\n",
      "2021-09-22 20:55:00,096 - INFO - mvg.mvg - creating measurement from source id=u0004\n",
      "2021-09-22 20:55:00,097 - INFO - mvg.mvg -   duration:  2.8672073400507907\n",
      "2021-09-22 20:55:00,098 - INFO - mvg.mvg -   timestamp: 1573732860\n",
      "2021-09-22 20:55:00,099 - INFO - mvg.mvg -   meta data: {'sampling_rate': 13950.857142857141}\n"
     ]
    },
    {
     "name": "stdout",
     "output_type": "stream",
     "text": [
      "Read 40000 samples for u0004.\n",
      "Read u0004 meta: {'duration': 2.8672073400507907, 'meta': {}}\n",
      "Uploading ~/mvg/docs/source/content/examples/va-data-charlie/charlieDb/acc/u0004/1573732860.csv\n"
     ]
    },
    {
     "name": "stderr",
     "output_type": "stream",
     "text": [
      "2021-09-22 20:55:01,061 - INFO - mvg.mvg - endpoint https://api.beta.multiviz.com\n",
      "2021-09-22 20:55:01,062 - INFO - mvg.mvg - creating measurement from source id=u0004\n",
      "2021-09-22 20:55:01,063 - INFO - mvg.mvg -   duration:  2.8672073400507907\n",
      "2021-09-22 20:55:01,064 - INFO - mvg.mvg -   timestamp: 1573819260\n",
      "2021-09-22 20:55:01,064 - INFO - mvg.mvg -   meta data: {'sampling_rate': 13950.857142857141}\n"
     ]
    },
    {
     "name": "stdout",
     "output_type": "stream",
     "text": [
      "Read 40000 samples for u0004.\n",
      "Read u0004 meta: {'duration': 2.8672073400507907, 'meta': {}}\n",
      "Uploading ~/mvg/docs/source/content/examples/va-data-charlie/charlieDb/acc/u0004/1573819260.csv\n"
     ]
    },
    {
     "name": "stderr",
     "output_type": "stream",
     "text": [
      "2021-09-22 20:55:02,036 - INFO - mvg.mvg - endpoint https://api.beta.multiviz.com\n",
      "2021-09-22 20:55:02,037 - INFO - mvg.mvg - creating measurement from source id=u0004\n",
      "2021-09-22 20:55:02,038 - INFO - mvg.mvg -   duration:  2.8672073400507907\n",
      "2021-09-22 20:55:02,040 - INFO - mvg.mvg -   timestamp: 1573905660\n",
      "2021-09-22 20:55:02,041 - INFO - mvg.mvg -   meta data: {'sampling_rate': 13950.857142857141}\n"
     ]
    },
    {
     "name": "stdout",
     "output_type": "stream",
     "text": [
      "Read 40000 samples for u0004.\n",
      "Read u0004 meta: {'duration': 2.8672073400507907, 'meta': {}}\n",
      "Uploading ~/mvg/docs/source/content/examples/va-data-charlie/charlieDb/acc/u0004/1573905660.csv\n"
     ]
    },
    {
     "name": "stderr",
     "output_type": "stream",
     "text": [
      "2021-09-22 20:55:03,199 - INFO - mvg.mvg - endpoint https://api.beta.multiviz.com\n",
      "2021-09-22 20:55:03,201 - INFO - mvg.mvg - creating measurement from source id=u0004\n",
      "2021-09-22 20:55:03,201 - INFO - mvg.mvg -   duration:  2.8672073400507907\n",
      "2021-09-22 20:55:03,203 - INFO - mvg.mvg -   timestamp: 1573992060\n",
      "2021-09-22 20:55:03,204 - INFO - mvg.mvg -   meta data: {'sampling_rate': 13950.857142857141}\n"
     ]
    },
    {
     "name": "stdout",
     "output_type": "stream",
     "text": [
      "Read 40000 samples for u0004.\n",
      "Read u0004 meta: {'duration': 2.8672073400507907, 'meta': {}}\n",
      "Uploading ~/mvg/docs/source/content/examples/va-data-charlie/charlieDb/acc/u0004/1573992060.csv\n"
     ]
    },
    {
     "name": "stderr",
     "output_type": "stream",
     "text": [
      "2021-09-22 20:55:04,136 - INFO - mvg.mvg - endpoint https://api.beta.multiviz.com\n",
      "2021-09-22 20:55:04,137 - INFO - mvg.mvg - creating measurement from source id=u0004\n",
      "2021-09-22 20:55:04,138 - INFO - mvg.mvg -   duration:  2.8672073400507907\n",
      "2021-09-22 20:55:04,139 - INFO - mvg.mvg -   timestamp: 1574078460\n",
      "2021-09-22 20:55:04,140 - INFO - mvg.mvg -   meta data: {'sampling_rate': 13950.857142857141}\n"
     ]
    },
    {
     "name": "stdout",
     "output_type": "stream",
     "text": [
      "Read 40000 samples for u0004.\n",
      "Read u0004 meta: {'duration': 2.8672073400507907, 'meta': {}}\n",
      "Uploading ~/mvg/docs/source/content/examples/va-data-charlie/charlieDb/acc/u0004/1574078460.csv\n"
     ]
    },
    {
     "name": "stderr",
     "output_type": "stream",
     "text": [
      "2021-09-22 20:55:05,072 - INFO - mvg.mvg - endpoint https://api.beta.multiviz.com\n",
      "2021-09-22 20:55:05,073 - INFO - mvg.mvg - creating measurement from source id=u0004\n",
      "2021-09-22 20:55:05,074 - INFO - mvg.mvg -   duration:  2.8672073400507907\n",
      "2021-09-22 20:55:05,076 - INFO - mvg.mvg -   timestamp: 1574164860\n",
      "2021-09-22 20:55:05,077 - INFO - mvg.mvg -   meta data: {'sampling_rate': 13950.857142857141}\n"
     ]
    },
    {
     "name": "stdout",
     "output_type": "stream",
     "text": [
      "Read 40000 samples for u0004.\n",
      "Read u0004 meta: {'duration': 2.8672073400507907, 'meta': {}}\n",
      "Uploading ~/mvg/docs/source/content/examples/va-data-charlie/charlieDb/acc/u0004/1574164860.csv\n"
     ]
    },
    {
     "name": "stderr",
     "output_type": "stream",
     "text": [
      "2021-09-22 20:55:06,015 - INFO - mvg.mvg - endpoint https://api.beta.multiviz.com\n",
      "2021-09-22 20:55:06,016 - INFO - mvg.mvg - creating measurement from source id=u0004\n",
      "2021-09-22 20:55:06,017 - INFO - mvg.mvg -   duration:  2.8672073400507907\n",
      "2021-09-22 20:55:06,017 - INFO - mvg.mvg -   timestamp: 1574251260\n",
      "2021-09-22 20:55:06,018 - INFO - mvg.mvg -   meta data: {'sampling_rate': 13950.857142857141}\n"
     ]
    },
    {
     "name": "stdout",
     "output_type": "stream",
     "text": [
      "Read 40000 samples for u0004.\n",
      "Read u0004 meta: {'duration': 2.8672073400507907, 'meta': {}}\n",
      "Uploading ~/mvg/docs/source/content/examples/va-data-charlie/charlieDb/acc/u0004/1574251260.csv\n"
     ]
    },
    {
     "name": "stderr",
     "output_type": "stream",
     "text": [
      "2021-09-22 20:55:06,967 - INFO - mvg.mvg - endpoint https://api.beta.multiviz.com\n",
      "2021-09-22 20:55:06,968 - INFO - mvg.mvg - creating measurement from source id=u0004\n",
      "2021-09-22 20:55:06,969 - INFO - mvg.mvg -   duration:  2.8672073400507907\n",
      "2021-09-22 20:55:06,969 - INFO - mvg.mvg -   timestamp: 1574337660\n",
      "2021-09-22 20:55:06,970 - INFO - mvg.mvg -   meta data: {'sampling_rate': 13950.857142857141}\n"
     ]
    },
    {
     "name": "stdout",
     "output_type": "stream",
     "text": [
      "Read 40000 samples for u0004.\n",
      "Read u0004 meta: {'duration': 2.8672073400507907, 'meta': {}}\n",
      "Uploading ~/mvg/docs/source/content/examples/va-data-charlie/charlieDb/acc/u0004/1574337660.csv\n"
     ]
    },
    {
     "name": "stderr",
     "output_type": "stream",
     "text": [
      "2021-09-22 20:55:07,911 - INFO - mvg.mvg - endpoint https://api.beta.multiviz.com\n",
      "2021-09-22 20:55:07,911 - INFO - mvg.mvg - creating measurement from source id=u0004\n",
      "2021-09-22 20:55:07,912 - INFO - mvg.mvg -   duration:  2.8672073400507907\n",
      "2021-09-22 20:55:07,913 - INFO - mvg.mvg -   timestamp: 1574424060\n",
      "2021-09-22 20:55:07,914 - INFO - mvg.mvg -   meta data: {'sampling_rate': 13950.857142857141}\n"
     ]
    },
    {
     "name": "stdout",
     "output_type": "stream",
     "text": [
      "Read 40000 samples for u0004.\n",
      "Read u0004 meta: {'duration': 2.8672073400507907, 'meta': {}}\n",
      "Uploading ~/mvg/docs/source/content/examples/va-data-charlie/charlieDb/acc/u0004/1574424060.csv\n"
     ]
    },
    {
     "name": "stderr",
     "output_type": "stream",
     "text": [
      "2021-09-22 20:55:08,828 - INFO - mvg.mvg - endpoint https://api.beta.multiviz.com\n",
      "2021-09-22 20:55:08,829 - INFO - mvg.mvg - deleting source with source id=u0005\n"
     ]
    },
    {
     "name": "stdout",
     "output_type": "stream",
     "text": [
      "Deleting u0005\n",
      "Source u0005 does not exist\n"
     ]
    },
    {
     "name": "stderr",
     "output_type": "stream",
     "text": [
      "2021-09-22 20:55:09,041 - INFO - mvg.mvg - endpoint https://api.beta.multiviz.com\n",
      "2021-09-22 20:55:09,041 - INFO - mvg.mvg - creating source with source id=u0005\n",
      "2021-09-22 20:55:09,042 - INFO - mvg.mvg - metadata: {'assetId': 'assetE', 'measPoint': 'mloc01', 'location': 'london'}\n",
      "2021-09-22 20:55:09,286 - INFO - mvg.mvg - endpoint https://api.beta.multiviz.com\n",
      "2021-09-22 20:55:09,287 - INFO - mvg.mvg - creating measurement from source id=u0005\n",
      "2021-09-22 20:55:09,287 - INFO - mvg.mvg -   duration:  2.8672073400507907\n",
      "2021-09-22 20:55:09,288 - INFO - mvg.mvg -   timestamp: 1570186860\n",
      "2021-09-22 20:55:09,289 - INFO - mvg.mvg -   meta data: {'sampling_rate': 13950.857142857141}\n"
     ]
    },
    {
     "name": "stdout",
     "output_type": "stream",
     "text": [
      "Read 40000 samples for u0005.\n",
      "Read u0005 meta: {'duration': 2.8672073400507907, 'meta': {}}\n",
      "Uploading ~/mvg/docs/source/content/examples/va-data-charlie/charlieDb/acc/u0005/1570186860.csv\n"
     ]
    },
    {
     "name": "stderr",
     "output_type": "stream",
     "text": [
      "2021-09-22 20:55:10,239 - INFO - mvg.mvg - endpoint https://api.beta.multiviz.com\n",
      "2021-09-22 20:55:10,239 - INFO - mvg.mvg - creating measurement from source id=u0005\n",
      "2021-09-22 20:55:10,240 - INFO - mvg.mvg -   duration:  2.8672073400507907\n",
      "2021-09-22 20:55:10,241 - INFO - mvg.mvg -   timestamp: 1570273260\n",
      "2021-09-22 20:55:10,242 - INFO - mvg.mvg -   meta data: {'sampling_rate': 13950.857142857141}\n"
     ]
    },
    {
     "name": "stdout",
     "output_type": "stream",
     "text": [
      "Read 40000 samples for u0005.\n",
      "Read u0005 meta: {'duration': 2.8672073400507907, 'meta': {}}\n",
      "Uploading ~/mvg/docs/source/content/examples/va-data-charlie/charlieDb/acc/u0005/1570273260.csv\n"
     ]
    },
    {
     "name": "stderr",
     "output_type": "stream",
     "text": [
      "2021-09-22 20:55:11,238 - INFO - mvg.mvg - endpoint https://api.beta.multiviz.com\n",
      "2021-09-22 20:55:11,239 - INFO - mvg.mvg - creating measurement from source id=u0005\n",
      "2021-09-22 20:55:11,240 - INFO - mvg.mvg -   duration:  2.8672073400507907\n",
      "2021-09-22 20:55:11,241 - INFO - mvg.mvg -   timestamp: 1570359660\n",
      "2021-09-22 20:55:11,242 - INFO - mvg.mvg -   meta data: {'sampling_rate': 13950.857142857141}\n"
     ]
    },
    {
     "name": "stdout",
     "output_type": "stream",
     "text": [
      "Read 40000 samples for u0005.\n",
      "Read u0005 meta: {'duration': 2.8672073400507907, 'meta': {}}\n",
      "Uploading ~/mvg/docs/source/content/examples/va-data-charlie/charlieDb/acc/u0005/1570359660.csv\n"
     ]
    },
    {
     "name": "stderr",
     "output_type": "stream",
     "text": [
      "2021-09-22 20:55:12,173 - INFO - mvg.mvg - endpoint https://api.beta.multiviz.com\n",
      "2021-09-22 20:55:12,174 - INFO - mvg.mvg - creating measurement from source id=u0005\n",
      "2021-09-22 20:55:12,175 - INFO - mvg.mvg -   duration:  2.8672073400507907\n",
      "2021-09-22 20:55:12,176 - INFO - mvg.mvg -   timestamp: 1570446060\n",
      "2021-09-22 20:55:12,177 - INFO - mvg.mvg -   meta data: {'sampling_rate': 13950.857142857141}\n"
     ]
    },
    {
     "name": "stdout",
     "output_type": "stream",
     "text": [
      "Read 40000 samples for u0005.\n",
      "Read u0005 meta: {'duration': 2.8672073400507907, 'meta': {}}\n",
      "Uploading ~/mvg/docs/source/content/examples/va-data-charlie/charlieDb/acc/u0005/1570446060.csv\n"
     ]
    },
    {
     "name": "stderr",
     "output_type": "stream",
     "text": [
      "2021-09-22 20:55:13,122 - INFO - mvg.mvg - endpoint https://api.beta.multiviz.com\n",
      "2021-09-22 20:55:13,123 - INFO - mvg.mvg - creating measurement from source id=u0005\n",
      "2021-09-22 20:55:13,124 - INFO - mvg.mvg -   duration:  2.8672073400507907\n",
      "2021-09-22 20:55:13,125 - INFO - mvg.mvg -   timestamp: 1570532460\n",
      "2021-09-22 20:55:13,126 - INFO - mvg.mvg -   meta data: {'sampling_rate': 13950.857142857141}\n"
     ]
    },
    {
     "name": "stdout",
     "output_type": "stream",
     "text": [
      "Read 40000 samples for u0005.\n",
      "Read u0005 meta: {'duration': 2.8672073400507907, 'meta': {}}\n",
      "Uploading ~/mvg/docs/source/content/examples/va-data-charlie/charlieDb/acc/u0005/1570532460.csv\n"
     ]
    },
    {
     "name": "stderr",
     "output_type": "stream",
     "text": [
      "2021-09-22 20:55:14,104 - INFO - mvg.mvg - endpoint https://api.beta.multiviz.com\n",
      "2021-09-22 20:55:14,105 - INFO - mvg.mvg - creating measurement from source id=u0005\n",
      "2021-09-22 20:55:14,105 - INFO - mvg.mvg -   duration:  2.8672073400507907\n",
      "2021-09-22 20:55:14,106 - INFO - mvg.mvg -   timestamp: 1570618860\n",
      "2021-09-22 20:55:14,107 - INFO - mvg.mvg -   meta data: {'sampling_rate': 13950.857142857141}\n"
     ]
    },
    {
     "name": "stdout",
     "output_type": "stream",
     "text": [
      "Read 40000 samples for u0005.\n",
      "Read u0005 meta: {'duration': 2.8672073400507907, 'meta': {}}\n",
      "Uploading ~/mvg/docs/source/content/examples/va-data-charlie/charlieDb/acc/u0005/1570618860.csv\n"
     ]
    },
    {
     "name": "stderr",
     "output_type": "stream",
     "text": [
      "2021-09-22 20:55:15,059 - INFO - mvg.mvg - endpoint https://api.beta.multiviz.com\n",
      "2021-09-22 20:55:15,060 - INFO - mvg.mvg - creating measurement from source id=u0005\n",
      "2021-09-22 20:55:15,061 - INFO - mvg.mvg -   duration:  2.8672073400507907\n",
      "2021-09-22 20:55:15,061 - INFO - mvg.mvg -   timestamp: 1570705260\n",
      "2021-09-22 20:55:15,063 - INFO - mvg.mvg -   meta data: {'sampling_rate': 13950.857142857141}\n"
     ]
    },
    {
     "name": "stdout",
     "output_type": "stream",
     "text": [
      "Read 40000 samples for u0005.\n",
      "Read u0005 meta: {'duration': 2.8672073400507907, 'meta': {}}\n",
      "Uploading ~/mvg/docs/source/content/examples/va-data-charlie/charlieDb/acc/u0005/1570705260.csv\n"
     ]
    },
    {
     "name": "stderr",
     "output_type": "stream",
     "text": [
      "2021-09-22 20:55:16,087 - INFO - mvg.mvg - endpoint https://api.beta.multiviz.com\n",
      "2021-09-22 20:55:16,087 - INFO - mvg.mvg - creating measurement from source id=u0005\n",
      "2021-09-22 20:55:16,088 - INFO - mvg.mvg -   duration:  2.8672073400507907\n",
      "2021-09-22 20:55:16,088 - INFO - mvg.mvg -   timestamp: 1570791660\n",
      "2021-09-22 20:55:16,089 - INFO - mvg.mvg -   meta data: {'sampling_rate': 13950.857142857141}\n"
     ]
    },
    {
     "name": "stdout",
     "output_type": "stream",
     "text": [
      "Read 40000 samples for u0005.\n",
      "Read u0005 meta: {'duration': 2.8672073400507907, 'meta': {}}\n",
      "Uploading ~/mvg/docs/source/content/examples/va-data-charlie/charlieDb/acc/u0005/1570791660.csv\n"
     ]
    },
    {
     "name": "stderr",
     "output_type": "stream",
     "text": [
      "2021-09-22 20:55:17,018 - INFO - mvg.mvg - endpoint https://api.beta.multiviz.com\n",
      "2021-09-22 20:55:17,019 - INFO - mvg.mvg - creating measurement from source id=u0005\n",
      "2021-09-22 20:55:17,020 - INFO - mvg.mvg -   duration:  2.8672073400507907\n",
      "2021-09-22 20:55:17,022 - INFO - mvg.mvg -   timestamp: 1570878060\n",
      "2021-09-22 20:55:17,023 - INFO - mvg.mvg -   meta data: {'sampling_rate': 13950.857142857141}\n"
     ]
    },
    {
     "name": "stdout",
     "output_type": "stream",
     "text": [
      "Read 40000 samples for u0005.\n",
      "Read u0005 meta: {'duration': 2.8672073400507907, 'meta': {}}\n",
      "Uploading ~/mvg/docs/source/content/examples/va-data-charlie/charlieDb/acc/u0005/1570878060.csv\n"
     ]
    },
    {
     "name": "stderr",
     "output_type": "stream",
     "text": [
      "2021-09-22 20:55:17,983 - INFO - mvg.mvg - endpoint https://api.beta.multiviz.com\n",
      "2021-09-22 20:55:17,984 - INFO - mvg.mvg - creating measurement from source id=u0005\n",
      "2021-09-22 20:55:17,985 - INFO - mvg.mvg -   duration:  2.8672073400507907\n",
      "2021-09-22 20:55:17,986 - INFO - mvg.mvg -   timestamp: 1570964460\n",
      "2021-09-22 20:55:17,987 - INFO - mvg.mvg -   meta data: {'sampling_rate': 13950.857142857141}\n"
     ]
    },
    {
     "name": "stdout",
     "output_type": "stream",
     "text": [
      "Read 40000 samples for u0005.\n",
      "Read u0005 meta: {'duration': 2.8672073400507907, 'meta': {}}\n",
      "Uploading ~/mvg/docs/source/content/examples/va-data-charlie/charlieDb/acc/u0005/1570964460.csv\n"
     ]
    },
    {
     "name": "stderr",
     "output_type": "stream",
     "text": [
      "2021-09-22 20:55:18,950 - INFO - mvg.mvg - endpoint https://api.beta.multiviz.com\n",
      "2021-09-22 20:55:18,951 - INFO - mvg.mvg - creating measurement from source id=u0005\n",
      "2021-09-22 20:55:18,952 - INFO - mvg.mvg -   duration:  2.8672073400507907\n",
      "2021-09-22 20:55:18,953 - INFO - mvg.mvg -   timestamp: 1571050860\n",
      "2021-09-22 20:55:18,957 - INFO - mvg.mvg -   meta data: {'sampling_rate': 13950.857142857141}\n"
     ]
    },
    {
     "name": "stdout",
     "output_type": "stream",
     "text": [
      "Read 40000 samples for u0005.\n",
      "Read u0005 meta: {'duration': 2.8672073400507907, 'meta': {}}\n",
      "Uploading ~/mvg/docs/source/content/examples/va-data-charlie/charlieDb/acc/u0005/1571050860.csv\n"
     ]
    },
    {
     "name": "stderr",
     "output_type": "stream",
     "text": [
      "2021-09-22 20:55:19,897 - INFO - mvg.mvg - endpoint https://api.beta.multiviz.com\n",
      "2021-09-22 20:55:19,899 - INFO - mvg.mvg - creating measurement from source id=u0005\n",
      "2021-09-22 20:55:19,899 - INFO - mvg.mvg -   duration:  2.8672073400507907\n",
      "2021-09-22 20:55:19,900 - INFO - mvg.mvg -   timestamp: 1571137260\n",
      "2021-09-22 20:55:19,901 - INFO - mvg.mvg -   meta data: {'sampling_rate': 13950.857142857141}\n"
     ]
    },
    {
     "name": "stdout",
     "output_type": "stream",
     "text": [
      "Read 40000 samples for u0005.\n",
      "Read u0005 meta: {'duration': 2.8672073400507907, 'meta': {}}\n",
      "Uploading ~/mvg/docs/source/content/examples/va-data-charlie/charlieDb/acc/u0005/1571137260.csv\n"
     ]
    },
    {
     "name": "stderr",
     "output_type": "stream",
     "text": [
      "2021-09-22 20:55:20,820 - INFO - mvg.mvg - endpoint https://api.beta.multiviz.com\n",
      "2021-09-22 20:55:20,821 - INFO - mvg.mvg - creating measurement from source id=u0005\n",
      "2021-09-22 20:55:20,822 - INFO - mvg.mvg -   duration:  2.8672073400507907\n",
      "2021-09-22 20:55:20,822 - INFO - mvg.mvg -   timestamp: 1571223660\n",
      "2021-09-22 20:55:20,823 - INFO - mvg.mvg -   meta data: {'sampling_rate': 13950.857142857141}\n"
     ]
    },
    {
     "name": "stdout",
     "output_type": "stream",
     "text": [
      "Read 40000 samples for u0005.\n",
      "Read u0005 meta: {'duration': 2.8672073400507907, 'meta': {}}\n",
      "Uploading ~/mvg/docs/source/content/examples/va-data-charlie/charlieDb/acc/u0005/1571223660.csv\n"
     ]
    },
    {
     "name": "stderr",
     "output_type": "stream",
     "text": [
      "2021-09-22 20:55:21,984 - INFO - mvg.mvg - endpoint https://api.beta.multiviz.com\n",
      "2021-09-22 20:55:21,985 - INFO - mvg.mvg - creating measurement from source id=u0005\n",
      "2021-09-22 20:55:21,986 - INFO - mvg.mvg -   duration:  2.8672073400507907\n",
      "2021-09-22 20:55:21,986 - INFO - mvg.mvg -   timestamp: 1571310060\n",
      "2021-09-22 20:55:21,987 - INFO - mvg.mvg -   meta data: {'sampling_rate': 13950.857142857141}\n"
     ]
    },
    {
     "name": "stdout",
     "output_type": "stream",
     "text": [
      "Read 40000 samples for u0005.\n",
      "Read u0005 meta: {'duration': 2.8672073400507907, 'meta': {}}\n",
      "Uploading ~/mvg/docs/source/content/examples/va-data-charlie/charlieDb/acc/u0005/1571310060.csv\n"
     ]
    },
    {
     "name": "stderr",
     "output_type": "stream",
     "text": [
      "2021-09-22 20:55:22,929 - INFO - mvg.mvg - endpoint https://api.beta.multiviz.com\n",
      "2021-09-22 20:55:22,930 - INFO - mvg.mvg - creating measurement from source id=u0005\n",
      "2021-09-22 20:55:22,930 - INFO - mvg.mvg -   duration:  2.8672073400507907\n",
      "2021-09-22 20:55:22,931 - INFO - mvg.mvg -   timestamp: 1571396460\n",
      "2021-09-22 20:55:22,932 - INFO - mvg.mvg -   meta data: {'sampling_rate': 13950.857142857141}\n"
     ]
    },
    {
     "name": "stdout",
     "output_type": "stream",
     "text": [
      "Read 40000 samples for u0005.\n",
      "Read u0005 meta: {'duration': 2.8672073400507907, 'meta': {}}\n",
      "Uploading ~/mvg/docs/source/content/examples/va-data-charlie/charlieDb/acc/u0005/1571396460.csv\n"
     ]
    },
    {
     "name": "stderr",
     "output_type": "stream",
     "text": [
      "2021-09-22 20:55:23,915 - INFO - mvg.mvg - endpoint https://api.beta.multiviz.com\n",
      "2021-09-22 20:55:23,915 - INFO - mvg.mvg - creating measurement from source id=u0005\n",
      "2021-09-22 20:55:23,916 - INFO - mvg.mvg -   duration:  2.8672073400507907\n",
      "2021-09-22 20:55:23,917 - INFO - mvg.mvg -   timestamp: 1571482860\n",
      "2021-09-22 20:55:23,918 - INFO - mvg.mvg -   meta data: {'sampling_rate': 13950.857142857141}\n"
     ]
    },
    {
     "name": "stdout",
     "output_type": "stream",
     "text": [
      "Read 40000 samples for u0005.\n",
      "Read u0005 meta: {'duration': 2.8672073400507907, 'meta': {}}\n",
      "Uploading ~/mvg/docs/source/content/examples/va-data-charlie/charlieDb/acc/u0005/1571482860.csv\n"
     ]
    },
    {
     "name": "stderr",
     "output_type": "stream",
     "text": [
      "2021-09-22 20:55:25,704 - INFO - mvg.mvg - endpoint https://api.beta.multiviz.com\n",
      "2021-09-22 20:55:25,706 - INFO - mvg.mvg - creating measurement from source id=u0005\n",
      "2021-09-22 20:55:25,706 - INFO - mvg.mvg -   duration:  2.8672073400507907\n",
      "2021-09-22 20:55:25,707 - INFO - mvg.mvg -   timestamp: 1571569260\n",
      "2021-09-22 20:55:25,708 - INFO - mvg.mvg -   meta data: {'sampling_rate': 13950.857142857141}\n"
     ]
    },
    {
     "name": "stdout",
     "output_type": "stream",
     "text": [
      "Read 40000 samples for u0005.\n",
      "Read u0005 meta: {'duration': 2.8672073400507907, 'meta': {}}\n",
      "Uploading ~/mvg/docs/source/content/examples/va-data-charlie/charlieDb/acc/u0005/1571569260.csv\n"
     ]
    },
    {
     "name": "stderr",
     "output_type": "stream",
     "text": [
      "2021-09-22 20:55:27,025 - INFO - mvg.mvg - endpoint https://api.beta.multiviz.com\n",
      "2021-09-22 20:55:27,027 - INFO - mvg.mvg - creating measurement from source id=u0005\n",
      "2021-09-22 20:55:27,028 - INFO - mvg.mvg -   duration:  2.8672073400507907\n",
      "2021-09-22 20:55:27,030 - INFO - mvg.mvg -   timestamp: 1571655660\n",
      "2021-09-22 20:55:27,031 - INFO - mvg.mvg -   meta data: {'sampling_rate': 13950.857142857141}\n"
     ]
    },
    {
     "name": "stdout",
     "output_type": "stream",
     "text": [
      "Read 40000 samples for u0005.\n",
      "Read u0005 meta: {'duration': 2.8672073400507907, 'meta': {}}\n",
      "Uploading ~/mvg/docs/source/content/examples/va-data-charlie/charlieDb/acc/u0005/1571655660.csv\n"
     ]
    },
    {
     "name": "stderr",
     "output_type": "stream",
     "text": [
      "2021-09-22 20:55:28,444 - INFO - mvg.mvg - endpoint https://api.beta.multiviz.com\n",
      "2021-09-22 20:55:28,445 - INFO - mvg.mvg - creating measurement from source id=u0005\n",
      "2021-09-22 20:55:28,447 - INFO - mvg.mvg -   duration:  2.8672073400507907\n",
      "2021-09-22 20:55:28,448 - INFO - mvg.mvg -   timestamp: 1571742060\n",
      "2021-09-22 20:55:28,449 - INFO - mvg.mvg -   meta data: {'sampling_rate': 13950.857142857141}\n"
     ]
    },
    {
     "name": "stdout",
     "output_type": "stream",
     "text": [
      "Read 40000 samples for u0005.\n",
      "Read u0005 meta: {'duration': 2.8672073400507907, 'meta': {}}\n",
      "Uploading ~/mvg/docs/source/content/examples/va-data-charlie/charlieDb/acc/u0005/1571742060.csv\n"
     ]
    },
    {
     "name": "stderr",
     "output_type": "stream",
     "text": [
      "2021-09-22 20:55:30,104 - INFO - mvg.mvg - endpoint https://api.beta.multiviz.com\n",
      "2021-09-22 20:55:30,105 - INFO - mvg.mvg - creating measurement from source id=u0005\n",
      "2021-09-22 20:55:30,107 - INFO - mvg.mvg -   duration:  2.8672073400507907\n",
      "2021-09-22 20:55:30,108 - INFO - mvg.mvg -   timestamp: 1571828460\n",
      "2021-09-22 20:55:30,110 - INFO - mvg.mvg -   meta data: {'sampling_rate': 13950.857142857141}\n"
     ]
    },
    {
     "name": "stdout",
     "output_type": "stream",
     "text": [
      "Read 40000 samples for u0005.\n",
      "Read u0005 meta: {'duration': 2.8672073400507907, 'meta': {}}\n",
      "Uploading ~/mvg/docs/source/content/examples/va-data-charlie/charlieDb/acc/u0005/1571828460.csv\n"
     ]
    },
    {
     "name": "stderr",
     "output_type": "stream",
     "text": [
      "2021-09-22 20:55:31,843 - INFO - mvg.mvg - endpoint https://api.beta.multiviz.com\n",
      "2021-09-22 20:55:31,843 - INFO - mvg.mvg - creating measurement from source id=u0005\n",
      "2021-09-22 20:55:31,844 - INFO - mvg.mvg -   duration:  2.8672073400507907\n",
      "2021-09-22 20:55:31,845 - INFO - mvg.mvg -   timestamp: 1571914860\n",
      "2021-09-22 20:55:31,846 - INFO - mvg.mvg -   meta data: {'sampling_rate': 13950.857142857141}\n"
     ]
    },
    {
     "name": "stdout",
     "output_type": "stream",
     "text": [
      "Read 40000 samples for u0005.\n",
      "Read u0005 meta: {'duration': 2.8672073400507907, 'meta': {}}\n",
      "Uploading ~/mvg/docs/source/content/examples/va-data-charlie/charlieDb/acc/u0005/1571914860.csv\n"
     ]
    },
    {
     "name": "stderr",
     "output_type": "stream",
     "text": [
      "2021-09-22 20:55:34,716 - INFO - mvg.mvg - endpoint https://api.beta.multiviz.com\n",
      "2021-09-22 20:55:34,717 - INFO - mvg.mvg - creating measurement from source id=u0005\n",
      "2021-09-22 20:55:34,718 - INFO - mvg.mvg -   duration:  2.8672073400507907\n",
      "2021-09-22 20:55:34,721 - INFO - mvg.mvg -   timestamp: 1572001260\n",
      "2021-09-22 20:55:34,722 - INFO - mvg.mvg -   meta data: {'sampling_rate': 13950.857142857141}\n"
     ]
    },
    {
     "name": "stdout",
     "output_type": "stream",
     "text": [
      "Read 40000 samples for u0005.\n",
      "Read u0005 meta: {'duration': 2.8672073400507907, 'meta': {}}\n",
      "Uploading ~/mvg/docs/source/content/examples/va-data-charlie/charlieDb/acc/u0005/1572001260.csv\n"
     ]
    },
    {
     "name": "stderr",
     "output_type": "stream",
     "text": [
      "2021-09-22 20:55:35,679 - INFO - mvg.mvg - endpoint https://api.beta.multiviz.com\n",
      "2021-09-22 20:55:35,679 - INFO - mvg.mvg - creating measurement from source id=u0005\n",
      "2021-09-22 20:55:35,680 - INFO - mvg.mvg -   duration:  2.8672073400507907\n",
      "2021-09-22 20:55:35,682 - INFO - mvg.mvg -   timestamp: 1572087660\n",
      "2021-09-22 20:55:35,683 - INFO - mvg.mvg -   meta data: {'sampling_rate': 13950.857142857141}\n"
     ]
    },
    {
     "name": "stdout",
     "output_type": "stream",
     "text": [
      "Read 40000 samples for u0005.\n",
      "Read u0005 meta: {'duration': 2.8672073400507907, 'meta': {}}\n",
      "Uploading ~/mvg/docs/source/content/examples/va-data-charlie/charlieDb/acc/u0005/1572087660.csv\n"
     ]
    },
    {
     "name": "stderr",
     "output_type": "stream",
     "text": [
      "2021-09-22 20:55:36,609 - INFO - mvg.mvg - endpoint https://api.beta.multiviz.com\n",
      "2021-09-22 20:55:36,610 - INFO - mvg.mvg - creating measurement from source id=u0005\n",
      "2021-09-22 20:55:36,611 - INFO - mvg.mvg -   duration:  2.8672073400507907\n",
      "2021-09-22 20:55:36,612 - INFO - mvg.mvg -   timestamp: 1572177660\n",
      "2021-09-22 20:55:36,613 - INFO - mvg.mvg -   meta data: {'sampling_rate': 13950.857142857141}\n"
     ]
    },
    {
     "name": "stdout",
     "output_type": "stream",
     "text": [
      "Read 40000 samples for u0005.\n",
      "Read u0005 meta: {'duration': 2.8672073400507907, 'meta': {}}\n",
      "Uploading ~/mvg/docs/source/content/examples/va-data-charlie/charlieDb/acc/u0005/1572177660.csv\n"
     ]
    },
    {
     "name": "stderr",
     "output_type": "stream",
     "text": [
      "2021-09-22 20:55:37,557 - INFO - mvg.mvg - endpoint https://api.beta.multiviz.com\n",
      "2021-09-22 20:55:37,558 - INFO - mvg.mvg - creating measurement from source id=u0005\n",
      "2021-09-22 20:55:37,560 - INFO - mvg.mvg -   duration:  2.8672073400507907\n",
      "2021-09-22 20:55:37,561 - INFO - mvg.mvg -   timestamp: 1572264060\n",
      "2021-09-22 20:55:37,563 - INFO - mvg.mvg -   meta data: {'sampling_rate': 13950.857142857141}\n"
     ]
    },
    {
     "name": "stdout",
     "output_type": "stream",
     "text": [
      "Read 40000 samples for u0005.\n",
      "Read u0005 meta: {'duration': 2.8672073400507907, 'meta': {}}\n",
      "Uploading ~/mvg/docs/source/content/examples/va-data-charlie/charlieDb/acc/u0005/1572264060.csv\n"
     ]
    },
    {
     "name": "stderr",
     "output_type": "stream",
     "text": [
      "2021-09-22 20:55:38,507 - INFO - mvg.mvg - endpoint https://api.beta.multiviz.com\n",
      "2021-09-22 20:55:38,508 - INFO - mvg.mvg - creating measurement from source id=u0005\n",
      "2021-09-22 20:55:38,510 - INFO - mvg.mvg -   duration:  2.8672073400507907\n",
      "2021-09-22 20:55:38,511 - INFO - mvg.mvg -   timestamp: 1572350460\n",
      "2021-09-22 20:55:38,512 - INFO - mvg.mvg -   meta data: {'sampling_rate': 13950.857142857141}\n"
     ]
    },
    {
     "name": "stdout",
     "output_type": "stream",
     "text": [
      "Read 40000 samples for u0005.\n",
      "Read u0005 meta: {'duration': 2.8672073400507907, 'meta': {}}\n",
      "Uploading ~/mvg/docs/source/content/examples/va-data-charlie/charlieDb/acc/u0005/1572350460.csv\n"
     ]
    },
    {
     "name": "stderr",
     "output_type": "stream",
     "text": [
      "2021-09-22 20:55:39,464 - INFO - mvg.mvg - endpoint https://api.beta.multiviz.com\n",
      "2021-09-22 20:55:39,465 - INFO - mvg.mvg - creating measurement from source id=u0005\n",
      "2021-09-22 20:55:39,466 - INFO - mvg.mvg -   duration:  2.8672073400507907\n",
      "2021-09-22 20:55:39,467 - INFO - mvg.mvg -   timestamp: 1572436860\n",
      "2021-09-22 20:55:39,468 - INFO - mvg.mvg -   meta data: {'sampling_rate': 13950.857142857141}\n"
     ]
    },
    {
     "name": "stdout",
     "output_type": "stream",
     "text": [
      "Read 40000 samples for u0005.\n",
      "Read u0005 meta: {'duration': 2.8672073400507907, 'meta': {}}\n",
      "Uploading ~/mvg/docs/source/content/examples/va-data-charlie/charlieDb/acc/u0005/1572436860.csv\n"
     ]
    },
    {
     "name": "stderr",
     "output_type": "stream",
     "text": [
      "2021-09-22 20:55:40,398 - INFO - mvg.mvg - endpoint https://api.beta.multiviz.com\n",
      "2021-09-22 20:55:40,399 - INFO - mvg.mvg - creating measurement from source id=u0005\n",
      "2021-09-22 20:55:40,400 - INFO - mvg.mvg -   duration:  2.8672073400507907\n",
      "2021-09-22 20:55:40,401 - INFO - mvg.mvg -   timestamp: 1572523260\n",
      "2021-09-22 20:55:40,402 - INFO - mvg.mvg -   meta data: {'sampling_rate': 13950.857142857141}\n"
     ]
    },
    {
     "name": "stdout",
     "output_type": "stream",
     "text": [
      "Read 40000 samples for u0005.\n",
      "Read u0005 meta: {'duration': 2.8672073400507907, 'meta': {}}\n",
      "Uploading ~/mvg/docs/source/content/examples/va-data-charlie/charlieDb/acc/u0005/1572523260.csv\n"
     ]
    },
    {
     "name": "stderr",
     "output_type": "stream",
     "text": [
      "2021-09-22 20:55:41,342 - INFO - mvg.mvg - endpoint https://api.beta.multiviz.com\n",
      "2021-09-22 20:55:41,344 - INFO - mvg.mvg - creating measurement from source id=u0005\n",
      "2021-09-22 20:55:41,344 - INFO - mvg.mvg -   duration:  2.8672073400507907\n",
      "2021-09-22 20:55:41,345 - INFO - mvg.mvg -   timestamp: 1572609660\n",
      "2021-09-22 20:55:41,348 - INFO - mvg.mvg -   meta data: {'sampling_rate': 13950.857142857141}\n"
     ]
    },
    {
     "name": "stdout",
     "output_type": "stream",
     "text": [
      "Read 40000 samples for u0005.\n",
      "Read u0005 meta: {'duration': 2.8672073400507907, 'meta': {}}\n",
      "Uploading ~/mvg/docs/source/content/examples/va-data-charlie/charlieDb/acc/u0005/1572609660.csv\n"
     ]
    },
    {
     "name": "stderr",
     "output_type": "stream",
     "text": [
      "2021-09-22 20:55:42,278 - INFO - mvg.mvg - endpoint https://api.beta.multiviz.com\n",
      "2021-09-22 20:55:42,278 - INFO - mvg.mvg - creating measurement from source id=u0005\n",
      "2021-09-22 20:55:42,279 - INFO - mvg.mvg -   duration:  2.8672073400507907\n",
      "2021-09-22 20:55:42,280 - INFO - mvg.mvg -   timestamp: 1572696060\n",
      "2021-09-22 20:55:42,281 - INFO - mvg.mvg -   meta data: {'sampling_rate': 13950.857142857141}\n"
     ]
    },
    {
     "name": "stdout",
     "output_type": "stream",
     "text": [
      "Read 40000 samples for u0005.\n",
      "Read u0005 meta: {'duration': 2.8672073400507907, 'meta': {}}\n",
      "Uploading ~/mvg/docs/source/content/examples/va-data-charlie/charlieDb/acc/u0005/1572696060.csv\n"
     ]
    },
    {
     "name": "stderr",
     "output_type": "stream",
     "text": [
      "2021-09-22 20:55:43,212 - INFO - mvg.mvg - endpoint https://api.beta.multiviz.com\n",
      "2021-09-22 20:55:43,212 - INFO - mvg.mvg - creating measurement from source id=u0005\n",
      "2021-09-22 20:55:43,213 - INFO - mvg.mvg -   duration:  2.8672073400507907\n",
      "2021-09-22 20:55:43,214 - INFO - mvg.mvg -   timestamp: 1572782460\n",
      "2021-09-22 20:55:43,214 - INFO - mvg.mvg -   meta data: {'sampling_rate': 13950.857142857141}\n"
     ]
    },
    {
     "name": "stdout",
     "output_type": "stream",
     "text": [
      "Read 40000 samples for u0005.\n",
      "Read u0005 meta: {'duration': 2.8672073400507907, 'meta': {}}\n",
      "Uploading ~/mvg/docs/source/content/examples/va-data-charlie/charlieDb/acc/u0005/1572782460.csv\n"
     ]
    },
    {
     "name": "stderr",
     "output_type": "stream",
     "text": [
      "2021-09-22 20:55:44,138 - INFO - mvg.mvg - endpoint https://api.beta.multiviz.com\n",
      "2021-09-22 20:55:44,139 - INFO - mvg.mvg - creating measurement from source id=u0005\n",
      "2021-09-22 20:55:44,139 - INFO - mvg.mvg -   duration:  2.8672073400507907\n",
      "2021-09-22 20:55:44,140 - INFO - mvg.mvg -   timestamp: 1572868860\n",
      "2021-09-22 20:55:44,141 - INFO - mvg.mvg -   meta data: {'sampling_rate': 13950.857142857141}\n"
     ]
    },
    {
     "name": "stdout",
     "output_type": "stream",
     "text": [
      "Read 40000 samples for u0005.\n",
      "Read u0005 meta: {'duration': 2.8672073400507907, 'meta': {}}\n",
      "Uploading ~/mvg/docs/source/content/examples/va-data-charlie/charlieDb/acc/u0005/1572868860.csv\n"
     ]
    },
    {
     "name": "stderr",
     "output_type": "stream",
     "text": [
      "2021-09-22 20:55:45,115 - INFO - mvg.mvg - endpoint https://api.beta.multiviz.com\n",
      "2021-09-22 20:55:45,116 - INFO - mvg.mvg - creating measurement from source id=u0005\n",
      "2021-09-22 20:55:45,117 - INFO - mvg.mvg -   duration:  2.8672073400507907\n",
      "2021-09-22 20:55:45,118 - INFO - mvg.mvg -   timestamp: 1572955260\n",
      "2021-09-22 20:55:45,119 - INFO - mvg.mvg -   meta data: {'sampling_rate': 13950.857142857141}\n"
     ]
    },
    {
     "name": "stdout",
     "output_type": "stream",
     "text": [
      "Read 40000 samples for u0005.\n",
      "Read u0005 meta: {'duration': 2.8672073400507907, 'meta': {}}\n",
      "Uploading ~/mvg/docs/source/content/examples/va-data-charlie/charlieDb/acc/u0005/1572955260.csv\n"
     ]
    },
    {
     "name": "stderr",
     "output_type": "stream",
     "text": [
      "2021-09-22 20:55:46,067 - INFO - mvg.mvg - endpoint https://api.beta.multiviz.com\n",
      "2021-09-22 20:55:46,067 - INFO - mvg.mvg - creating measurement from source id=u0005\n",
      "2021-09-22 20:55:46,068 - INFO - mvg.mvg -   duration:  2.8672073400507907\n",
      "2021-09-22 20:55:46,069 - INFO - mvg.mvg -   timestamp: 1573041660\n",
      "2021-09-22 20:55:46,070 - INFO - mvg.mvg -   meta data: {'sampling_rate': 13950.857142857141}\n"
     ]
    },
    {
     "name": "stdout",
     "output_type": "stream",
     "text": [
      "Read 40000 samples for u0005.\n",
      "Read u0005 meta: {'duration': 2.8672073400507907, 'meta': {}}\n",
      "Uploading ~/mvg/docs/source/content/examples/va-data-charlie/charlieDb/acc/u0005/1573041660.csv\n"
     ]
    },
    {
     "name": "stderr",
     "output_type": "stream",
     "text": [
      "2021-09-22 20:55:47,027 - INFO - mvg.mvg - endpoint https://api.beta.multiviz.com\n",
      "2021-09-22 20:55:47,027 - INFO - mvg.mvg - creating measurement from source id=u0005\n",
      "2021-09-22 20:55:47,028 - INFO - mvg.mvg -   duration:  2.8672073400507907\n",
      "2021-09-22 20:55:47,029 - INFO - mvg.mvg -   timestamp: 1573128060\n",
      "2021-09-22 20:55:47,030 - INFO - mvg.mvg -   meta data: {'sampling_rate': 13950.857142857141}\n"
     ]
    },
    {
     "name": "stdout",
     "output_type": "stream",
     "text": [
      "Read 40000 samples for u0005.\n",
      "Read u0005 meta: {'duration': 2.8672073400507907, 'meta': {}}\n",
      "Uploading ~/mvg/docs/source/content/examples/va-data-charlie/charlieDb/acc/u0005/1573128060.csv\n"
     ]
    },
    {
     "name": "stderr",
     "output_type": "stream",
     "text": [
      "2021-09-22 20:55:48,022 - INFO - mvg.mvg - endpoint https://api.beta.multiviz.com\n",
      "2021-09-22 20:55:48,024 - INFO - mvg.mvg - creating measurement from source id=u0005\n",
      "2021-09-22 20:55:48,024 - INFO - mvg.mvg -   duration:  2.8672073400507907\n",
      "2021-09-22 20:55:48,025 - INFO - mvg.mvg -   timestamp: 1573214460\n",
      "2021-09-22 20:55:48,026 - INFO - mvg.mvg -   meta data: {'sampling_rate': 13950.857142857141}\n"
     ]
    },
    {
     "name": "stdout",
     "output_type": "stream",
     "text": [
      "Read 40000 samples for u0005.\n",
      "Read u0005 meta: {'duration': 2.8672073400507907, 'meta': {}}\n",
      "Uploading ~/mvg/docs/source/content/examples/va-data-charlie/charlieDb/acc/u0005/1573214460.csv\n"
     ]
    },
    {
     "name": "stderr",
     "output_type": "stream",
     "text": [
      "2021-09-22 20:55:49,116 - INFO - mvg.mvg - endpoint https://api.beta.multiviz.com\n",
      "2021-09-22 20:55:49,118 - INFO - mvg.mvg - creating measurement from source id=u0005\n",
      "2021-09-22 20:55:49,119 - INFO - mvg.mvg -   duration:  2.8672073400507907\n",
      "2021-09-22 20:55:49,120 - INFO - mvg.mvg -   timestamp: 1573300860\n",
      "2021-09-22 20:55:49,121 - INFO - mvg.mvg -   meta data: {'sampling_rate': 13950.857142857141}\n"
     ]
    },
    {
     "name": "stdout",
     "output_type": "stream",
     "text": [
      "Read 40000 samples for u0005.\n",
      "Read u0005 meta: {'duration': 2.8672073400507907, 'meta': {}}\n",
      "Uploading ~/mvg/docs/source/content/examples/va-data-charlie/charlieDb/acc/u0005/1573300860.csv\n"
     ]
    },
    {
     "name": "stderr",
     "output_type": "stream",
     "text": [
      "2021-09-22 20:55:50,058 - INFO - mvg.mvg - endpoint https://api.beta.multiviz.com\n",
      "2021-09-22 20:55:50,059 - INFO - mvg.mvg - creating measurement from source id=u0005\n",
      "2021-09-22 20:55:50,060 - INFO - mvg.mvg -   duration:  2.8672073400507907\n",
      "2021-09-22 20:55:50,061 - INFO - mvg.mvg -   timestamp: 1573387260\n",
      "2021-09-22 20:55:50,062 - INFO - mvg.mvg -   meta data: {'sampling_rate': 13950.857142857141}\n"
     ]
    },
    {
     "name": "stdout",
     "output_type": "stream",
     "text": [
      "Read 40000 samples for u0005.\n",
      "Read u0005 meta: {'duration': 2.8672073400507907, 'meta': {}}\n",
      "Uploading ~/mvg/docs/source/content/examples/va-data-charlie/charlieDb/acc/u0005/1573387260.csv\n"
     ]
    },
    {
     "name": "stderr",
     "output_type": "stream",
     "text": [
      "2021-09-22 20:55:51,013 - INFO - mvg.mvg - endpoint https://api.beta.multiviz.com\n",
      "2021-09-22 20:55:51,014 - INFO - mvg.mvg - creating measurement from source id=u0005\n",
      "2021-09-22 20:55:51,015 - INFO - mvg.mvg -   duration:  2.8672073400507907\n",
      "2021-09-22 20:55:51,018 - INFO - mvg.mvg -   timestamp: 1573473660\n",
      "2021-09-22 20:55:51,019 - INFO - mvg.mvg -   meta data: {'sampling_rate': 13950.857142857141}\n"
     ]
    },
    {
     "name": "stdout",
     "output_type": "stream",
     "text": [
      "Read 40000 samples for u0005.\n",
      "Read u0005 meta: {'duration': 2.8672073400507907, 'meta': {}}\n",
      "Uploading ~/mvg/docs/source/content/examples/va-data-charlie/charlieDb/acc/u0005/1573473660.csv\n"
     ]
    },
    {
     "name": "stderr",
     "output_type": "stream",
     "text": [
      "2021-09-22 20:55:51,954 - INFO - mvg.mvg - endpoint https://api.beta.multiviz.com\n",
      "2021-09-22 20:55:51,955 - INFO - mvg.mvg - creating measurement from source id=u0005\n",
      "2021-09-22 20:55:51,956 - INFO - mvg.mvg -   duration:  2.8672073400507907\n",
      "2021-09-22 20:55:51,957 - INFO - mvg.mvg -   timestamp: 1573560060\n",
      "2021-09-22 20:55:51,958 - INFO - mvg.mvg -   meta data: {'sampling_rate': 13950.857142857141}\n"
     ]
    },
    {
     "name": "stdout",
     "output_type": "stream",
     "text": [
      "Read 40000 samples for u0005.\n",
      "Read u0005 meta: {'duration': 2.8672073400507907, 'meta': {}}\n",
      "Uploading ~/mvg/docs/source/content/examples/va-data-charlie/charlieDb/acc/u0005/1573560060.csv\n"
     ]
    },
    {
     "name": "stderr",
     "output_type": "stream",
     "text": [
      "2021-09-22 20:55:52,906 - INFO - mvg.mvg - endpoint https://api.beta.multiviz.com\n",
      "2021-09-22 20:55:52,907 - INFO - mvg.mvg - creating measurement from source id=u0005\n",
      "2021-09-22 20:55:52,908 - INFO - mvg.mvg -   duration:  2.8672073400507907\n",
      "2021-09-22 20:55:52,908 - INFO - mvg.mvg -   timestamp: 1573646460\n",
      "2021-09-22 20:55:52,910 - INFO - mvg.mvg -   meta data: {'sampling_rate': 13950.857142857141}\n"
     ]
    },
    {
     "name": "stdout",
     "output_type": "stream",
     "text": [
      "Read 40000 samples for u0005.\n",
      "Read u0005 meta: {'duration': 2.8672073400507907, 'meta': {}}\n",
      "Uploading ~/mvg/docs/source/content/examples/va-data-charlie/charlieDb/acc/u0005/1573646460.csv\n"
     ]
    },
    {
     "name": "stderr",
     "output_type": "stream",
     "text": [
      "2021-09-22 20:55:53,917 - INFO - mvg.mvg - endpoint https://api.beta.multiviz.com\n",
      "2021-09-22 20:55:53,917 - INFO - mvg.mvg - creating measurement from source id=u0005\n",
      "2021-09-22 20:55:53,919 - INFO - mvg.mvg -   duration:  2.8672073400507907\n",
      "2021-09-22 20:55:53,919 - INFO - mvg.mvg -   timestamp: 1573732860\n",
      "2021-09-22 20:55:53,921 - INFO - mvg.mvg -   meta data: {'sampling_rate': 13950.857142857141}\n"
     ]
    },
    {
     "name": "stdout",
     "output_type": "stream",
     "text": [
      "Read 40000 samples for u0005.\n",
      "Read u0005 meta: {'duration': 2.8672073400507907, 'meta': {}}\n",
      "Uploading ~/mvg/docs/source/content/examples/va-data-charlie/charlieDb/acc/u0005/1573732860.csv\n"
     ]
    },
    {
     "name": "stderr",
     "output_type": "stream",
     "text": [
      "2021-09-22 20:55:54,909 - INFO - mvg.mvg - endpoint https://api.beta.multiviz.com\n",
      "2021-09-22 20:55:54,910 - INFO - mvg.mvg - creating measurement from source id=u0005\n",
      "2021-09-22 20:55:54,911 - INFO - mvg.mvg -   duration:  2.8672073400507907\n",
      "2021-09-22 20:55:54,911 - INFO - mvg.mvg -   timestamp: 1573819260\n",
      "2021-09-22 20:55:54,912 - INFO - mvg.mvg -   meta data: {'sampling_rate': 13950.857142857141}\n"
     ]
    },
    {
     "name": "stdout",
     "output_type": "stream",
     "text": [
      "Read 40000 samples for u0005.\n",
      "Read u0005 meta: {'duration': 2.8672073400507907, 'meta': {}}\n",
      "Uploading ~/mvg/docs/source/content/examples/va-data-charlie/charlieDb/acc/u0005/1573819260.csv\n"
     ]
    },
    {
     "name": "stderr",
     "output_type": "stream",
     "text": [
      "2021-09-22 20:55:55,857 - INFO - mvg.mvg - endpoint https://api.beta.multiviz.com\n",
      "2021-09-22 20:55:55,857 - INFO - mvg.mvg - creating measurement from source id=u0005\n",
      "2021-09-22 20:55:55,859 - INFO - mvg.mvg -   duration:  2.8672073400507907\n",
      "2021-09-22 20:55:55,859 - INFO - mvg.mvg -   timestamp: 1573905660\n",
      "2021-09-22 20:55:55,860 - INFO - mvg.mvg -   meta data: {'sampling_rate': 13950.857142857141}\n"
     ]
    },
    {
     "name": "stdout",
     "output_type": "stream",
     "text": [
      "Read 40000 samples for u0005.\n",
      "Read u0005 meta: {'duration': 2.8672073400507907, 'meta': {}}\n",
      "Uploading ~/mvg/docs/source/content/examples/va-data-charlie/charlieDb/acc/u0005/1573905660.csv\n"
     ]
    },
    {
     "name": "stderr",
     "output_type": "stream",
     "text": [
      "2021-09-22 20:55:56,807 - INFO - mvg.mvg - endpoint https://api.beta.multiviz.com\n",
      "2021-09-22 20:55:56,808 - INFO - mvg.mvg - creating measurement from source id=u0005\n",
      "2021-09-22 20:55:56,809 - INFO - mvg.mvg -   duration:  2.8672073400507907\n",
      "2021-09-22 20:55:56,810 - INFO - mvg.mvg -   timestamp: 1573992060\n",
      "2021-09-22 20:55:56,811 - INFO - mvg.mvg -   meta data: {'sampling_rate': 13950.857142857141}\n"
     ]
    },
    {
     "name": "stdout",
     "output_type": "stream",
     "text": [
      "Read 40000 samples for u0005.\n",
      "Read u0005 meta: {'duration': 2.8672073400507907, 'meta': {}}\n",
      "Uploading ~/mvg/docs/source/content/examples/va-data-charlie/charlieDb/acc/u0005/1573992060.csv\n"
     ]
    },
    {
     "name": "stderr",
     "output_type": "stream",
     "text": [
      "2021-09-22 20:55:57,779 - INFO - mvg.mvg - endpoint https://api.beta.multiviz.com\n",
      "2021-09-22 20:55:57,779 - INFO - mvg.mvg - creating measurement from source id=u0005\n",
      "2021-09-22 20:55:57,780 - INFO - mvg.mvg -   duration:  2.8672073400507907\n",
      "2021-09-22 20:55:57,781 - INFO - mvg.mvg -   timestamp: 1574078460\n",
      "2021-09-22 20:55:57,781 - INFO - mvg.mvg -   meta data: {'sampling_rate': 13950.857142857141}\n"
     ]
    },
    {
     "name": "stdout",
     "output_type": "stream",
     "text": [
      "Read 40000 samples for u0005.\n",
      "Read u0005 meta: {'duration': 2.8672073400507907, 'meta': {}}\n",
      "Uploading ~/mvg/docs/source/content/examples/va-data-charlie/charlieDb/acc/u0005/1574078460.csv\n"
     ]
    },
    {
     "name": "stderr",
     "output_type": "stream",
     "text": [
      "2021-09-22 20:55:58,716 - INFO - mvg.mvg - endpoint https://api.beta.multiviz.com\n",
      "2021-09-22 20:55:58,716 - INFO - mvg.mvg - creating measurement from source id=u0005\n",
      "2021-09-22 20:55:58,717 - INFO - mvg.mvg -   duration:  2.8672073400507907\n",
      "2021-09-22 20:55:58,718 - INFO - mvg.mvg -   timestamp: 1574164860\n",
      "2021-09-22 20:55:58,719 - INFO - mvg.mvg -   meta data: {'sampling_rate': 13950.857142857141}\n"
     ]
    },
    {
     "name": "stdout",
     "output_type": "stream",
     "text": [
      "Read 40000 samples for u0005.\n",
      "Read u0005 meta: {'duration': 2.8672073400507907, 'meta': {}}\n",
      "Uploading ~/mvg/docs/source/content/examples/va-data-charlie/charlieDb/acc/u0005/1574164860.csv\n"
     ]
    },
    {
     "name": "stderr",
     "output_type": "stream",
     "text": [
      "2021-09-22 20:55:59,694 - INFO - mvg.mvg - endpoint https://api.beta.multiviz.com\n",
      "2021-09-22 20:55:59,695 - INFO - mvg.mvg - creating measurement from source id=u0005\n",
      "2021-09-22 20:55:59,696 - INFO - mvg.mvg -   duration:  2.8672073400507907\n",
      "2021-09-22 20:55:59,697 - INFO - mvg.mvg -   timestamp: 1574251260\n",
      "2021-09-22 20:55:59,698 - INFO - mvg.mvg -   meta data: {'sampling_rate': 13950.857142857141}\n"
     ]
    },
    {
     "name": "stdout",
     "output_type": "stream",
     "text": [
      "Read 40000 samples for u0005.\n",
      "Read u0005 meta: {'duration': 2.8672073400507907, 'meta': {}}\n",
      "Uploading ~/mvg/docs/source/content/examples/va-data-charlie/charlieDb/acc/u0005/1574251260.csv\n"
     ]
    },
    {
     "name": "stderr",
     "output_type": "stream",
     "text": [
      "2021-09-22 20:56:00,626 - INFO - mvg.mvg - endpoint https://api.beta.multiviz.com\n",
      "2021-09-22 20:56:00,628 - INFO - mvg.mvg - creating measurement from source id=u0005\n",
      "2021-09-22 20:56:00,628 - INFO - mvg.mvg -   duration:  2.8672073400507907\n",
      "2021-09-22 20:56:00,629 - INFO - mvg.mvg -   timestamp: 1574337660\n",
      "2021-09-22 20:56:00,630 - INFO - mvg.mvg -   meta data: {'sampling_rate': 13950.857142857141}\n"
     ]
    },
    {
     "name": "stdout",
     "output_type": "stream",
     "text": [
      "Read 40000 samples for u0005.\n",
      "Read u0005 meta: {'duration': 2.8672073400507907, 'meta': {}}\n",
      "Uploading ~/mvg/docs/source/content/examples/va-data-charlie/charlieDb/acc/u0005/1574337660.csv\n"
     ]
    },
    {
     "name": "stderr",
     "output_type": "stream",
     "text": [
      "2021-09-22 20:56:01,598 - INFO - mvg.mvg - endpoint https://api.beta.multiviz.com\n",
      "2021-09-22 20:56:01,599 - INFO - mvg.mvg - creating measurement from source id=u0005\n",
      "2021-09-22 20:56:01,600 - INFO - mvg.mvg -   duration:  2.8672073400507907\n",
      "2021-09-22 20:56:01,601 - INFO - mvg.mvg -   timestamp: 1574424060\n",
      "2021-09-22 20:56:01,602 - INFO - mvg.mvg -   meta data: {'sampling_rate': 13950.857142857141}\n"
     ]
    },
    {
     "name": "stdout",
     "output_type": "stream",
     "text": [
      "Read 40000 samples for u0005.\n",
      "Read u0005 meta: {'duration': 2.8672073400507907, 'meta': {}}\n",
      "Uploading ~/mvg/docs/source/content/examples/va-data-charlie/charlieDb/acc/u0005/1574424060.csv\n"
     ]
    },
    {
     "name": "stderr",
     "output_type": "stream",
     "text": [
      "2021-09-22 20:56:02,503 - INFO - mvg.mvg - endpoint https://api.beta.multiviz.com\n",
      "2021-09-22 20:56:02,505 - INFO - mvg.mvg - deleting source with source id=u0006\n"
     ]
    },
    {
     "name": "stdout",
     "output_type": "stream",
     "text": [
      "Deleting u0006\n",
      "Source u0006 does not exist\n"
     ]
    },
    {
     "name": "stderr",
     "output_type": "stream",
     "text": [
      "2021-09-22 20:56:02,710 - INFO - mvg.mvg - endpoint https://api.beta.multiviz.com\n",
      "2021-09-22 20:56:02,712 - INFO - mvg.mvg - creating source with source id=u0006\n",
      "2021-09-22 20:56:02,712 - INFO - mvg.mvg - metadata: {'assetId': 'assetF', 'measPoint': 'mloc01', 'location': 'london'}\n",
      "2021-09-22 20:56:02,936 - INFO - mvg.mvg - endpoint https://api.beta.multiviz.com\n",
      "2021-09-22 20:56:02,936 - INFO - mvg.mvg - creating measurement from source id=u0006\n",
      "2021-09-22 20:56:02,938 - INFO - mvg.mvg -   duration:  2.8672073400507907\n",
      "2021-09-22 20:56:02,940 - INFO - mvg.mvg -   timestamp: 1570186860\n",
      "2021-09-22 20:56:02,942 - INFO - mvg.mvg -   meta data: {'sampling_rate': 13950.857142857141}\n"
     ]
    },
    {
     "name": "stdout",
     "output_type": "stream",
     "text": [
      "Read 40000 samples for u0006.\n",
      "Read u0006 meta: {'duration': 2.8672073400507907, 'meta': {}}\n",
      "Uploading ~/mvg/docs/source/content/examples/va-data-charlie/charlieDb/acc/u0006/1570186860.csv\n"
     ]
    },
    {
     "name": "stderr",
     "output_type": "stream",
     "text": [
      "2021-09-22 20:56:03,878 - INFO - mvg.mvg - endpoint https://api.beta.multiviz.com\n",
      "2021-09-22 20:56:03,880 - INFO - mvg.mvg - creating measurement from source id=u0006\n",
      "2021-09-22 20:56:03,881 - INFO - mvg.mvg -   duration:  2.8672073400507907\n",
      "2021-09-22 20:56:03,882 - INFO - mvg.mvg -   timestamp: 1570273260\n",
      "2021-09-22 20:56:03,883 - INFO - mvg.mvg -   meta data: {'sampling_rate': 13950.857142857141}\n"
     ]
    },
    {
     "name": "stdout",
     "output_type": "stream",
     "text": [
      "Read 40000 samples for u0006.\n",
      "Read u0006 meta: {'duration': 2.8672073400507907, 'meta': {}}\n",
      "Uploading ~/mvg/docs/source/content/examples/va-data-charlie/charlieDb/acc/u0006/1570273260.csv\n"
     ]
    },
    {
     "name": "stderr",
     "output_type": "stream",
     "text": [
      "2021-09-22 20:56:04,824 - INFO - mvg.mvg - endpoint https://api.beta.multiviz.com\n",
      "2021-09-22 20:56:04,825 - INFO - mvg.mvg - creating measurement from source id=u0006\n",
      "2021-09-22 20:56:04,826 - INFO - mvg.mvg -   duration:  2.8672073400507907\n",
      "2021-09-22 20:56:04,827 - INFO - mvg.mvg -   timestamp: 1570359660\n",
      "2021-09-22 20:56:04,828 - INFO - mvg.mvg -   meta data: {'sampling_rate': 13950.857142857141}\n"
     ]
    },
    {
     "name": "stdout",
     "output_type": "stream",
     "text": [
      "Read 40000 samples for u0006.\n",
      "Read u0006 meta: {'duration': 2.8672073400507907, 'meta': {}}\n",
      "Uploading ~/mvg/docs/source/content/examples/va-data-charlie/charlieDb/acc/u0006/1570359660.csv\n"
     ]
    },
    {
     "name": "stderr",
     "output_type": "stream",
     "text": [
      "2021-09-22 20:56:05,787 - INFO - mvg.mvg - endpoint https://api.beta.multiviz.com\n",
      "2021-09-22 20:56:05,788 - INFO - mvg.mvg - creating measurement from source id=u0006\n",
      "2021-09-22 20:56:05,789 - INFO - mvg.mvg -   duration:  2.8672073400507907\n",
      "2021-09-22 20:56:05,789 - INFO - mvg.mvg -   timestamp: 1571137260\n",
      "2021-09-22 20:56:05,792 - INFO - mvg.mvg -   meta data: {'sampling_rate': 13950.857142857141}\n"
     ]
    },
    {
     "name": "stdout",
     "output_type": "stream",
     "text": [
      "Read 40000 samples for u0006.\n",
      "Read u0006 meta: {'duration': 2.8672073400507907, 'meta': {}}\n",
      "Uploading ~/mvg/docs/source/content/examples/va-data-charlie/charlieDb/acc/u0006/1571137260.csv\n"
     ]
    },
    {
     "name": "stderr",
     "output_type": "stream",
     "text": [
      "2021-09-22 20:56:06,749 - INFO - mvg.mvg - endpoint https://api.beta.multiviz.com\n",
      "2021-09-22 20:56:06,750 - INFO - mvg.mvg - creating measurement from source id=u0006\n",
      "2021-09-22 20:56:06,751 - INFO - mvg.mvg -   duration:  2.8672073400507907\n",
      "2021-09-22 20:56:06,752 - INFO - mvg.mvg -   timestamp: 1571223660\n",
      "2021-09-22 20:56:06,753 - INFO - mvg.mvg -   meta data: {'sampling_rate': 13950.857142857141}\n"
     ]
    },
    {
     "name": "stdout",
     "output_type": "stream",
     "text": [
      "Read 40000 samples for u0006.\n",
      "Read u0006 meta: {'duration': 2.8672073400507907, 'meta': {}}\n",
      "Uploading ~/mvg/docs/source/content/examples/va-data-charlie/charlieDb/acc/u0006/1571223660.csv\n"
     ]
    },
    {
     "name": "stderr",
     "output_type": "stream",
     "text": [
      "2021-09-22 20:56:07,718 - INFO - mvg.mvg - endpoint https://api.beta.multiviz.com\n",
      "2021-09-22 20:56:07,719 - INFO - mvg.mvg - creating measurement from source id=u0006\n",
      "2021-09-22 20:56:07,719 - INFO - mvg.mvg -   duration:  2.8672073400507907\n",
      "2021-09-22 20:56:07,722 - INFO - mvg.mvg -   timestamp: 1571310060\n",
      "2021-09-22 20:56:07,723 - INFO - mvg.mvg -   meta data: {'sampling_rate': 13950.857142857141}\n"
     ]
    },
    {
     "name": "stdout",
     "output_type": "stream",
     "text": [
      "Read 40000 samples for u0006.\n",
      "Read u0006 meta: {'duration': 2.8672073400507907, 'meta': {}}\n",
      "Uploading ~/mvg/docs/source/content/examples/va-data-charlie/charlieDb/acc/u0006/1571310060.csv\n"
     ]
    },
    {
     "name": "stderr",
     "output_type": "stream",
     "text": [
      "2021-09-22 20:56:08,697 - INFO - mvg.mvg - endpoint https://api.beta.multiviz.com\n",
      "2021-09-22 20:56:08,699 - INFO - mvg.mvg - creating measurement from source id=u0006\n",
      "2021-09-22 20:56:08,699 - INFO - mvg.mvg -   duration:  2.8672073400507907\n",
      "2021-09-22 20:56:08,700 - INFO - mvg.mvg -   timestamp: 1571396460\n",
      "2021-09-22 20:56:08,701 - INFO - mvg.mvg -   meta data: {'sampling_rate': 13950.857142857141}\n"
     ]
    },
    {
     "name": "stdout",
     "output_type": "stream",
     "text": [
      "Read 40000 samples for u0006.\n",
      "Read u0006 meta: {'duration': 2.8672073400507907, 'meta': {}}\n",
      "Uploading ~/mvg/docs/source/content/examples/va-data-charlie/charlieDb/acc/u0006/1571396460.csv\n"
     ]
    },
    {
     "name": "stderr",
     "output_type": "stream",
     "text": [
      "2021-09-22 20:56:09,668 - INFO - mvg.mvg - endpoint https://api.beta.multiviz.com\n",
      "2021-09-22 20:56:09,669 - INFO - mvg.mvg - creating measurement from source id=u0006\n",
      "2021-09-22 20:56:09,670 - INFO - mvg.mvg -   duration:  2.8672073400507907\n",
      "2021-09-22 20:56:09,671 - INFO - mvg.mvg -   timestamp: 1571482860\n",
      "2021-09-22 20:56:09,672 - INFO - mvg.mvg -   meta data: {'sampling_rate': 13950.857142857141}\n"
     ]
    },
    {
     "name": "stdout",
     "output_type": "stream",
     "text": [
      "Read 40000 samples for u0006.\n",
      "Read u0006 meta: {'duration': 2.8672073400507907, 'meta': {}}\n",
      "Uploading ~/mvg/docs/source/content/examples/va-data-charlie/charlieDb/acc/u0006/1571482860.csv\n"
     ]
    },
    {
     "name": "stderr",
     "output_type": "stream",
     "text": [
      "2021-09-22 20:56:10,606 - INFO - mvg.mvg - endpoint https://api.beta.multiviz.com\n",
      "2021-09-22 20:56:10,607 - INFO - mvg.mvg - creating measurement from source id=u0006\n",
      "2021-09-22 20:56:10,607 - INFO - mvg.mvg -   duration:  2.8672073400507907\n",
      "2021-09-22 20:56:10,608 - INFO - mvg.mvg -   timestamp: 1571569260\n",
      "2021-09-22 20:56:10,609 - INFO - mvg.mvg -   meta data: {'sampling_rate': 13950.857142857141}\n"
     ]
    },
    {
     "name": "stdout",
     "output_type": "stream",
     "text": [
      "Read 40000 samples for u0006.\n",
      "Read u0006 meta: {'duration': 2.8672073400507907, 'meta': {}}\n",
      "Uploading ~/mvg/docs/source/content/examples/va-data-charlie/charlieDb/acc/u0006/1571569260.csv\n"
     ]
    },
    {
     "name": "stderr",
     "output_type": "stream",
     "text": [
      "2021-09-22 20:56:11,547 - INFO - mvg.mvg - endpoint https://api.beta.multiviz.com\n",
      "2021-09-22 20:56:11,548 - INFO - mvg.mvg - creating measurement from source id=u0006\n",
      "2021-09-22 20:56:11,549 - INFO - mvg.mvg -   duration:  2.8672073400507907\n",
      "2021-09-22 20:56:11,549 - INFO - mvg.mvg -   timestamp: 1571655660\n",
      "2021-09-22 20:56:11,550 - INFO - mvg.mvg -   meta data: {'sampling_rate': 13950.857142857141}\n"
     ]
    },
    {
     "name": "stdout",
     "output_type": "stream",
     "text": [
      "Read 40000 samples for u0006.\n",
      "Read u0006 meta: {'duration': 2.8672073400507907, 'meta': {}}\n",
      "Uploading ~/mvg/docs/source/content/examples/va-data-charlie/charlieDb/acc/u0006/1571655660.csv\n"
     ]
    },
    {
     "name": "stderr",
     "output_type": "stream",
     "text": [
      "2021-09-22 20:56:12,495 - INFO - mvg.mvg - endpoint https://api.beta.multiviz.com\n",
      "2021-09-22 20:56:12,496 - INFO - mvg.mvg - creating measurement from source id=u0006\n",
      "2021-09-22 20:56:12,497 - INFO - mvg.mvg -   duration:  2.8672073400507907\n",
      "2021-09-22 20:56:12,498 - INFO - mvg.mvg -   timestamp: 1571742060\n",
      "2021-09-22 20:56:12,499 - INFO - mvg.mvg -   meta data: {'sampling_rate': 13950.857142857141}\n"
     ]
    },
    {
     "name": "stdout",
     "output_type": "stream",
     "text": [
      "Read 40000 samples for u0006.\n",
      "Read u0006 meta: {'duration': 2.8672073400507907, 'meta': {}}\n",
      "Uploading ~/mvg/docs/source/content/examples/va-data-charlie/charlieDb/acc/u0006/1571742060.csv\n"
     ]
    },
    {
     "name": "stderr",
     "output_type": "stream",
     "text": [
      "2021-09-22 20:56:13,436 - INFO - mvg.mvg - endpoint https://api.beta.multiviz.com\n",
      "2021-09-22 20:56:13,437 - INFO - mvg.mvg - creating measurement from source id=u0006\n",
      "2021-09-22 20:56:13,439 - INFO - mvg.mvg -   duration:  2.8672073400507907\n",
      "2021-09-22 20:56:13,440 - INFO - mvg.mvg -   timestamp: 1571828460\n",
      "2021-09-22 20:56:13,441 - INFO - mvg.mvg -   meta data: {'sampling_rate': 13950.857142857141}\n"
     ]
    },
    {
     "name": "stdout",
     "output_type": "stream",
     "text": [
      "Read 40000 samples for u0006.\n",
      "Read u0006 meta: {'duration': 2.8672073400507907, 'meta': {}}\n",
      "Uploading ~/mvg/docs/source/content/examples/va-data-charlie/charlieDb/acc/u0006/1571828460.csv\n"
     ]
    },
    {
     "name": "stderr",
     "output_type": "stream",
     "text": [
      "2021-09-22 20:56:14,385 - INFO - mvg.mvg - endpoint https://api.beta.multiviz.com\n",
      "2021-09-22 20:56:14,386 - INFO - mvg.mvg - creating measurement from source id=u0006\n",
      "2021-09-22 20:56:14,386 - INFO - mvg.mvg -   duration:  2.8672073400507907\n",
      "2021-09-22 20:56:14,387 - INFO - mvg.mvg -   timestamp: 1571914860\n",
      "2021-09-22 20:56:14,388 - INFO - mvg.mvg -   meta data: {'sampling_rate': 13950.857142857141}\n"
     ]
    },
    {
     "name": "stdout",
     "output_type": "stream",
     "text": [
      "Read 40000 samples for u0006.\n",
      "Read u0006 meta: {'duration': 2.8672073400507907, 'meta': {}}\n",
      "Uploading ~/mvg/docs/source/content/examples/va-data-charlie/charlieDb/acc/u0006/1571914860.csv\n"
     ]
    },
    {
     "name": "stderr",
     "output_type": "stream",
     "text": [
      "2021-09-22 20:56:15,406 - INFO - mvg.mvg - endpoint https://api.beta.multiviz.com\n",
      "2021-09-22 20:56:15,407 - INFO - mvg.mvg - creating measurement from source id=u0006\n",
      "2021-09-22 20:56:15,408 - INFO - mvg.mvg -   duration:  2.8672073400507907\n",
      "2021-09-22 20:56:15,408 - INFO - mvg.mvg -   timestamp: 1572001260\n",
      "2021-09-22 20:56:15,409 - INFO - mvg.mvg -   meta data: {'sampling_rate': 13950.857142857141}\n"
     ]
    },
    {
     "name": "stdout",
     "output_type": "stream",
     "text": [
      "Read 40000 samples for u0006.\n",
      "Read u0006 meta: {'duration': 2.8672073400507907, 'meta': {}}\n",
      "Uploading ~/mvg/docs/source/content/examples/va-data-charlie/charlieDb/acc/u0006/1572001260.csv\n"
     ]
    },
    {
     "name": "stderr",
     "output_type": "stream",
     "text": [
      "2021-09-22 20:56:16,361 - INFO - mvg.mvg - endpoint https://api.beta.multiviz.com\n",
      "2021-09-22 20:56:16,362 - INFO - mvg.mvg - creating measurement from source id=u0006\n",
      "2021-09-22 20:56:16,362 - INFO - mvg.mvg -   duration:  2.8672073400507907\n",
      "2021-09-22 20:56:16,363 - INFO - mvg.mvg -   timestamp: 1572087660\n",
      "2021-09-22 20:56:16,364 - INFO - mvg.mvg -   meta data: {'sampling_rate': 13950.857142857141}\n"
     ]
    },
    {
     "name": "stdout",
     "output_type": "stream",
     "text": [
      "Read 40000 samples for u0006.\n",
      "Read u0006 meta: {'duration': 2.8672073400507907, 'meta': {}}\n",
      "Uploading ~/mvg/docs/source/content/examples/va-data-charlie/charlieDb/acc/u0006/1572087660.csv\n"
     ]
    },
    {
     "name": "stderr",
     "output_type": "stream",
     "text": [
      "2021-09-22 20:56:18,939 - INFO - mvg.mvg - endpoint https://api.beta.multiviz.com\n",
      "2021-09-22 20:56:18,940 - INFO - mvg.mvg - creating measurement from source id=u0006\n",
      "2021-09-22 20:56:18,940 - INFO - mvg.mvg -   duration:  2.8672073400507907\n",
      "2021-09-22 20:56:18,941 - INFO - mvg.mvg -   timestamp: 1572177660\n",
      "2021-09-22 20:56:18,942 - INFO - mvg.mvg -   meta data: {'sampling_rate': 13950.857142857141}\n"
     ]
    },
    {
     "name": "stdout",
     "output_type": "stream",
     "text": [
      "Read 40000 samples for u0006.\n",
      "Read u0006 meta: {'duration': 2.8672073400507907, 'meta': {}}\n",
      "Uploading ~/mvg/docs/source/content/examples/va-data-charlie/charlieDb/acc/u0006/1572177660.csv\n"
     ]
    },
    {
     "name": "stderr",
     "output_type": "stream",
     "text": [
      "2021-09-22 20:56:19,920 - INFO - mvg.mvg - endpoint https://api.beta.multiviz.com\n",
      "2021-09-22 20:56:19,922 - INFO - mvg.mvg - creating measurement from source id=u0006\n",
      "2021-09-22 20:56:19,923 - INFO - mvg.mvg -   duration:  2.8672073400507907\n",
      "2021-09-22 20:56:19,924 - INFO - mvg.mvg -   timestamp: 1572264060\n",
      "2021-09-22 20:56:19,926 - INFO - mvg.mvg -   meta data: {'sampling_rate': 13950.857142857141}\n"
     ]
    },
    {
     "name": "stdout",
     "output_type": "stream",
     "text": [
      "Read 40000 samples for u0006.\n",
      "Read u0006 meta: {'duration': 2.8672073400507907, 'meta': {}}\n",
      "Uploading ~/mvg/docs/source/content/examples/va-data-charlie/charlieDb/acc/u0006/1572264060.csv\n"
     ]
    },
    {
     "name": "stderr",
     "output_type": "stream",
     "text": [
      "2021-09-22 20:56:20,879 - INFO - mvg.mvg - endpoint https://api.beta.multiviz.com\n",
      "2021-09-22 20:56:20,881 - INFO - mvg.mvg - creating measurement from source id=u0006\n",
      "2021-09-22 20:56:20,881 - INFO - mvg.mvg -   duration:  2.8672073400507907\n",
      "2021-09-22 20:56:20,882 - INFO - mvg.mvg -   timestamp: 1572350460\n",
      "2021-09-22 20:56:20,885 - INFO - mvg.mvg -   meta data: {'sampling_rate': 13950.857142857141}\n"
     ]
    },
    {
     "name": "stdout",
     "output_type": "stream",
     "text": [
      "Read 40000 samples for u0006.\n",
      "Read u0006 meta: {'duration': 2.8672073400507907, 'meta': {}}\n",
      "Uploading ~/mvg/docs/source/content/examples/va-data-charlie/charlieDb/acc/u0006/1572350460.csv\n"
     ]
    },
    {
     "name": "stderr",
     "output_type": "stream",
     "text": [
      "2021-09-22 20:56:21,810 - INFO - mvg.mvg - endpoint https://api.beta.multiviz.com\n",
      "2021-09-22 20:56:21,811 - INFO - mvg.mvg - creating measurement from source id=u0006\n",
      "2021-09-22 20:56:21,812 - INFO - mvg.mvg -   duration:  2.8672073400507907\n",
      "2021-09-22 20:56:21,812 - INFO - mvg.mvg -   timestamp: 1572436860\n",
      "2021-09-22 20:56:21,814 - INFO - mvg.mvg -   meta data: {'sampling_rate': 13950.857142857141}\n"
     ]
    },
    {
     "name": "stdout",
     "output_type": "stream",
     "text": [
      "Read 40000 samples for u0006.\n",
      "Read u0006 meta: {'duration': 2.8672073400507907, 'meta': {}}\n",
      "Uploading ~/mvg/docs/source/content/examples/va-data-charlie/charlieDb/acc/u0006/1572436860.csv\n"
     ]
    },
    {
     "name": "stderr",
     "output_type": "stream",
     "text": [
      "2021-09-22 20:56:22,754 - INFO - mvg.mvg - endpoint https://api.beta.multiviz.com\n",
      "2021-09-22 20:56:22,756 - INFO - mvg.mvg - creating measurement from source id=u0006\n",
      "2021-09-22 20:56:22,757 - INFO - mvg.mvg -   duration:  2.8672073400507907\n",
      "2021-09-22 20:56:22,758 - INFO - mvg.mvg -   timestamp: 1572523260\n",
      "2021-09-22 20:56:22,759 - INFO - mvg.mvg -   meta data: {'sampling_rate': 13950.857142857141}\n"
     ]
    },
    {
     "name": "stdout",
     "output_type": "stream",
     "text": [
      "Read 40000 samples for u0006.\n",
      "Read u0006 meta: {'duration': 2.8672073400507907, 'meta': {}}\n",
      "Uploading ~/mvg/docs/source/content/examples/va-data-charlie/charlieDb/acc/u0006/1572523260.csv\n"
     ]
    },
    {
     "name": "stderr",
     "output_type": "stream",
     "text": [
      "2021-09-22 20:56:23,749 - INFO - mvg.mvg - endpoint https://api.beta.multiviz.com\n",
      "2021-09-22 20:56:23,750 - INFO - mvg.mvg - creating measurement from source id=u0006\n",
      "2021-09-22 20:56:23,751 - INFO - mvg.mvg -   duration:  2.8672073400507907\n",
      "2021-09-22 20:56:23,751 - INFO - mvg.mvg -   timestamp: 1572609660\n",
      "2021-09-22 20:56:23,753 - INFO - mvg.mvg -   meta data: {'sampling_rate': 13950.857142857141}\n"
     ]
    },
    {
     "name": "stdout",
     "output_type": "stream",
     "text": [
      "Read 40000 samples for u0006.\n",
      "Read u0006 meta: {'duration': 2.8672073400507907, 'meta': {}}\n",
      "Uploading ~/mvg/docs/source/content/examples/va-data-charlie/charlieDb/acc/u0006/1572609660.csv\n"
     ]
    },
    {
     "name": "stderr",
     "output_type": "stream",
     "text": [
      "2021-09-22 20:56:24,730 - INFO - mvg.mvg - endpoint https://api.beta.multiviz.com\n",
      "2021-09-22 20:56:24,731 - INFO - mvg.mvg - creating measurement from source id=u0006\n",
      "2021-09-22 20:56:24,732 - INFO - mvg.mvg -   duration:  2.8672073400507907\n",
      "2021-09-22 20:56:24,733 - INFO - mvg.mvg -   timestamp: 1572696060\n",
      "2021-09-22 20:56:24,734 - INFO - mvg.mvg -   meta data: {'sampling_rate': 13950.857142857141}\n"
     ]
    },
    {
     "name": "stdout",
     "output_type": "stream",
     "text": [
      "Read 40000 samples for u0006.\n",
      "Read u0006 meta: {'duration': 2.8672073400507907, 'meta': {}}\n",
      "Uploading ~/mvg/docs/source/content/examples/va-data-charlie/charlieDb/acc/u0006/1572696060.csv\n"
     ]
    },
    {
     "name": "stderr",
     "output_type": "stream",
     "text": [
      "2021-09-22 20:56:25,682 - INFO - mvg.mvg - endpoint https://api.beta.multiviz.com\n",
      "2021-09-22 20:56:25,682 - INFO - mvg.mvg - creating measurement from source id=u0006\n",
      "2021-09-22 20:56:25,683 - INFO - mvg.mvg -   duration:  2.8672073400507907\n",
      "2021-09-22 20:56:25,684 - INFO - mvg.mvg -   timestamp: 1572782460\n",
      "2021-09-22 20:56:25,685 - INFO - mvg.mvg -   meta data: {'sampling_rate': 13950.857142857141}\n"
     ]
    },
    {
     "name": "stdout",
     "output_type": "stream",
     "text": [
      "Read 40000 samples for u0006.\n",
      "Read u0006 meta: {'duration': 2.8672073400507907, 'meta': {}}\n",
      "Uploading ~/mvg/docs/source/content/examples/va-data-charlie/charlieDb/acc/u0006/1572782460.csv\n"
     ]
    },
    {
     "name": "stderr",
     "output_type": "stream",
     "text": [
      "2021-09-22 20:56:26,644 - INFO - mvg.mvg - endpoint https://api.beta.multiviz.com\n",
      "2021-09-22 20:56:26,645 - INFO - mvg.mvg - creating measurement from source id=u0006\n",
      "2021-09-22 20:56:26,646 - INFO - mvg.mvg -   duration:  2.8672073400507907\n",
      "2021-09-22 20:56:26,647 - INFO - mvg.mvg -   timestamp: 1572868860\n",
      "2021-09-22 20:56:26,648 - INFO - mvg.mvg -   meta data: {'sampling_rate': 13950.857142857141}\n"
     ]
    },
    {
     "name": "stdout",
     "output_type": "stream",
     "text": [
      "Read 40000 samples for u0006.\n",
      "Read u0006 meta: {'duration': 2.8672073400507907, 'meta': {}}\n",
      "Uploading ~/mvg/docs/source/content/examples/va-data-charlie/charlieDb/acc/u0006/1572868860.csv\n"
     ]
    },
    {
     "name": "stderr",
     "output_type": "stream",
     "text": [
      "2021-09-22 20:56:27,666 - INFO - mvg.mvg - endpoint https://api.beta.multiviz.com\n",
      "2021-09-22 20:56:27,667 - INFO - mvg.mvg - creating measurement from source id=u0006\n",
      "2021-09-22 20:56:27,668 - INFO - mvg.mvg -   duration:  2.8672073400507907\n",
      "2021-09-22 20:56:27,669 - INFO - mvg.mvg -   timestamp: 1572955260\n",
      "2021-09-22 20:56:27,669 - INFO - mvg.mvg -   meta data: {'sampling_rate': 13950.857142857141}\n"
     ]
    },
    {
     "name": "stdout",
     "output_type": "stream",
     "text": [
      "Read 40000 samples for u0006.\n",
      "Read u0006 meta: {'duration': 2.8672073400507907, 'meta': {}}\n",
      "Uploading ~/mvg/docs/source/content/examples/va-data-charlie/charlieDb/acc/u0006/1572955260.csv\n"
     ]
    },
    {
     "name": "stderr",
     "output_type": "stream",
     "text": [
      "2021-09-22 20:56:28,620 - INFO - mvg.mvg - endpoint https://api.beta.multiviz.com\n",
      "2021-09-22 20:56:28,620 - INFO - mvg.mvg - creating measurement from source id=u0006\n",
      "2021-09-22 20:56:28,621 - INFO - mvg.mvg -   duration:  2.8672073400507907\n",
      "2021-09-22 20:56:28,622 - INFO - mvg.mvg -   timestamp: 1573041660\n",
      "2021-09-22 20:56:28,623 - INFO - mvg.mvg -   meta data: {'sampling_rate': 13950.857142857141}\n"
     ]
    },
    {
     "name": "stdout",
     "output_type": "stream",
     "text": [
      "Read 40000 samples for u0006.\n",
      "Read u0006 meta: {'duration': 2.8672073400507907, 'meta': {}}\n",
      "Uploading ~/mvg/docs/source/content/examples/va-data-charlie/charlieDb/acc/u0006/1573041660.csv\n"
     ]
    },
    {
     "name": "stderr",
     "output_type": "stream",
     "text": [
      "2021-09-22 20:56:29,613 - INFO - mvg.mvg - endpoint https://api.beta.multiviz.com\n",
      "2021-09-22 20:56:29,614 - INFO - mvg.mvg - creating measurement from source id=u0006\n",
      "2021-09-22 20:56:29,615 - INFO - mvg.mvg -   duration:  2.8672073400507907\n",
      "2021-09-22 20:56:29,616 - INFO - mvg.mvg -   timestamp: 1573128060\n",
      "2021-09-22 20:56:29,617 - INFO - mvg.mvg -   meta data: {'sampling_rate': 13950.857142857141}\n"
     ]
    },
    {
     "name": "stdout",
     "output_type": "stream",
     "text": [
      "Read 40000 samples for u0006.\n",
      "Read u0006 meta: {'duration': 2.8672073400507907, 'meta': {}}\n",
      "Uploading ~/mvg/docs/source/content/examples/va-data-charlie/charlieDb/acc/u0006/1573128060.csv\n"
     ]
    },
    {
     "name": "stderr",
     "output_type": "stream",
     "text": [
      "2021-09-22 20:56:30,703 - INFO - mvg.mvg - endpoint https://api.beta.multiviz.com\n",
      "2021-09-22 20:56:30,703 - INFO - mvg.mvg - creating measurement from source id=u0006\n",
      "2021-09-22 20:56:30,704 - INFO - mvg.mvg -   duration:  2.8672073400507907\n",
      "2021-09-22 20:56:30,705 - INFO - mvg.mvg -   timestamp: 1573214460\n",
      "2021-09-22 20:56:30,706 - INFO - mvg.mvg -   meta data: {'sampling_rate': 13950.857142857141}\n"
     ]
    },
    {
     "name": "stdout",
     "output_type": "stream",
     "text": [
      "Read 40000 samples for u0006.\n",
      "Read u0006 meta: {'duration': 2.8672073400507907, 'meta': {}}\n",
      "Uploading ~/mvg/docs/source/content/examples/va-data-charlie/charlieDb/acc/u0006/1573214460.csv\n"
     ]
    },
    {
     "name": "stderr",
     "output_type": "stream",
     "text": [
      "2021-09-22 20:56:31,696 - INFO - mvg.mvg - endpoint https://api.beta.multiviz.com\n",
      "2021-09-22 20:56:31,698 - INFO - mvg.mvg - creating measurement from source id=u0006\n",
      "2021-09-22 20:56:31,699 - INFO - mvg.mvg -   duration:  2.8672073400507907\n",
      "2021-09-22 20:56:31,701 - INFO - mvg.mvg -   timestamp: 1573300860\n",
      "2021-09-22 20:56:31,703 - INFO - mvg.mvg -   meta data: {'sampling_rate': 13950.857142857141}\n"
     ]
    },
    {
     "name": "stdout",
     "output_type": "stream",
     "text": [
      "Read 40000 samples for u0006.\n",
      "Read u0006 meta: {'duration': 2.8672073400507907, 'meta': {}}\n",
      "Uploading ~/mvg/docs/source/content/examples/va-data-charlie/charlieDb/acc/u0006/1573300860.csv\n"
     ]
    },
    {
     "name": "stderr",
     "output_type": "stream",
     "text": [
      "2021-09-22 20:56:32,665 - INFO - mvg.mvg - endpoint https://api.beta.multiviz.com\n",
      "2021-09-22 20:56:32,666 - INFO - mvg.mvg - creating measurement from source id=u0006\n",
      "2021-09-22 20:56:32,667 - INFO - mvg.mvg -   duration:  2.8672073400507907\n",
      "2021-09-22 20:56:32,667 - INFO - mvg.mvg -   timestamp: 1573387260\n",
      "2021-09-22 20:56:32,668 - INFO - mvg.mvg -   meta data: {'sampling_rate': 13950.857142857141}\n"
     ]
    },
    {
     "name": "stdout",
     "output_type": "stream",
     "text": [
      "Read 40000 samples for u0006.\n",
      "Read u0006 meta: {'duration': 2.8672073400507907, 'meta': {}}\n",
      "Uploading ~/mvg/docs/source/content/examples/va-data-charlie/charlieDb/acc/u0006/1573387260.csv\n"
     ]
    },
    {
     "name": "stderr",
     "output_type": "stream",
     "text": [
      "2021-09-22 20:56:33,618 - INFO - mvg.mvg - endpoint https://api.beta.multiviz.com\n",
      "2021-09-22 20:56:33,620 - INFO - mvg.mvg - creating measurement from source id=u0006\n",
      "2021-09-22 20:56:33,621 - INFO - mvg.mvg -   duration:  2.8672073400507907\n",
      "2021-09-22 20:56:33,622 - INFO - mvg.mvg -   timestamp: 1573473660\n",
      "2021-09-22 20:56:33,624 - INFO - mvg.mvg -   meta data: {'sampling_rate': 13950.857142857141}\n"
     ]
    },
    {
     "name": "stdout",
     "output_type": "stream",
     "text": [
      "Read 40000 samples for u0006.\n",
      "Read u0006 meta: {'duration': 2.8672073400507907, 'meta': {}}\n",
      "Uploading ~/mvg/docs/source/content/examples/va-data-charlie/charlieDb/acc/u0006/1573473660.csv\n"
     ]
    },
    {
     "name": "stderr",
     "output_type": "stream",
     "text": [
      "2021-09-22 20:56:34,578 - INFO - mvg.mvg - endpoint https://api.beta.multiviz.com\n",
      "2021-09-22 20:56:34,579 - INFO - mvg.mvg - creating measurement from source id=u0006\n",
      "2021-09-22 20:56:34,581 - INFO - mvg.mvg -   duration:  2.8672073400507907\n",
      "2021-09-22 20:56:34,582 - INFO - mvg.mvg -   timestamp: 1573560060\n",
      "2021-09-22 20:56:34,584 - INFO - mvg.mvg -   meta data: {'sampling_rate': 13950.857142857141}\n"
     ]
    },
    {
     "name": "stdout",
     "output_type": "stream",
     "text": [
      "Read 40000 samples for u0006.\n",
      "Read u0006 meta: {'duration': 2.8672073400507907, 'meta': {}}\n",
      "Uploading ~/mvg/docs/source/content/examples/va-data-charlie/charlieDb/acc/u0006/1573560060.csv\n"
     ]
    },
    {
     "name": "stderr",
     "output_type": "stream",
     "text": [
      "2021-09-22 20:56:35,529 - INFO - mvg.mvg - endpoint https://api.beta.multiviz.com\n",
      "2021-09-22 20:56:35,529 - INFO - mvg.mvg - creating measurement from source id=u0006\n",
      "2021-09-22 20:56:35,530 - INFO - mvg.mvg -   duration:  2.8672073400507907\n",
      "2021-09-22 20:56:35,531 - INFO - mvg.mvg -   timestamp: 1573646460\n",
      "2021-09-22 20:56:35,533 - INFO - mvg.mvg -   meta data: {'sampling_rate': 13950.857142857141}\n"
     ]
    },
    {
     "name": "stdout",
     "output_type": "stream",
     "text": [
      "Read 40000 samples for u0006.\n",
      "Read u0006 meta: {'duration': 2.8672073400507907, 'meta': {}}\n",
      "Uploading ~/mvg/docs/source/content/examples/va-data-charlie/charlieDb/acc/u0006/1573646460.csv\n"
     ]
    },
    {
     "name": "stderr",
     "output_type": "stream",
     "text": [
      "2021-09-22 20:56:36,473 - INFO - mvg.mvg - endpoint https://api.beta.multiviz.com\n",
      "2021-09-22 20:56:36,474 - INFO - mvg.mvg - creating measurement from source id=u0006\n",
      "2021-09-22 20:56:36,475 - INFO - mvg.mvg -   duration:  2.8672073400507907\n",
      "2021-09-22 20:56:36,476 - INFO - mvg.mvg -   timestamp: 1573732860\n",
      "2021-09-22 20:56:36,477 - INFO - mvg.mvg -   meta data: {'sampling_rate': 13950.857142857141}\n"
     ]
    },
    {
     "name": "stdout",
     "output_type": "stream",
     "text": [
      "Read 40000 samples for u0006.\n",
      "Read u0006 meta: {'duration': 2.8672073400507907, 'meta': {}}\n",
      "Uploading ~/mvg/docs/source/content/examples/va-data-charlie/charlieDb/acc/u0006/1573732860.csv\n"
     ]
    },
    {
     "name": "stderr",
     "output_type": "stream",
     "text": [
      "2021-09-22 20:56:37,423 - INFO - mvg.mvg - endpoint https://api.beta.multiviz.com\n",
      "2021-09-22 20:56:37,424 - INFO - mvg.mvg - creating measurement from source id=u0006\n",
      "2021-09-22 20:56:37,425 - INFO - mvg.mvg -   duration:  2.8672073400507907\n",
      "2021-09-22 20:56:37,426 - INFO - mvg.mvg -   timestamp: 1573819260\n",
      "2021-09-22 20:56:37,427 - INFO - mvg.mvg -   meta data: {'sampling_rate': 13950.857142857141}\n"
     ]
    },
    {
     "name": "stdout",
     "output_type": "stream",
     "text": [
      "Read 40000 samples for u0006.\n",
      "Read u0006 meta: {'duration': 2.8672073400507907, 'meta': {}}\n",
      "Uploading ~/mvg/docs/source/content/examples/va-data-charlie/charlieDb/acc/u0006/1573819260.csv\n"
     ]
    },
    {
     "name": "stderr",
     "output_type": "stream",
     "text": [
      "2021-09-22 20:56:38,367 - INFO - mvg.mvg - endpoint https://api.beta.multiviz.com\n",
      "2021-09-22 20:56:38,369 - INFO - mvg.mvg - creating measurement from source id=u0006\n",
      "2021-09-22 20:56:38,369 - INFO - mvg.mvg -   duration:  2.8672073400507907\n",
      "2021-09-22 20:56:38,370 - INFO - mvg.mvg -   timestamp: 1573905660\n",
      "2021-09-22 20:56:38,371 - INFO - mvg.mvg -   meta data: {'sampling_rate': 13950.857142857141}\n"
     ]
    },
    {
     "name": "stdout",
     "output_type": "stream",
     "text": [
      "Read 40000 samples for u0006.\n",
      "Read u0006 meta: {'duration': 2.8672073400507907, 'meta': {}}\n",
      "Uploading ~/mvg/docs/source/content/examples/va-data-charlie/charlieDb/acc/u0006/1573905660.csv\n"
     ]
    },
    {
     "name": "stderr",
     "output_type": "stream",
     "text": [
      "2021-09-22 20:56:39,307 - INFO - mvg.mvg - endpoint https://api.beta.multiviz.com\n",
      "2021-09-22 20:56:39,308 - INFO - mvg.mvg - creating measurement from source id=u0006\n",
      "2021-09-22 20:56:39,310 - INFO - mvg.mvg -   duration:  2.8672073400507907\n",
      "2021-09-22 20:56:39,313 - INFO - mvg.mvg -   timestamp: 1573992060\n",
      "2021-09-22 20:56:39,314 - INFO - mvg.mvg -   meta data: {'sampling_rate': 13950.857142857141}\n"
     ]
    },
    {
     "name": "stdout",
     "output_type": "stream",
     "text": [
      "Read 40000 samples for u0006.\n",
      "Read u0006 meta: {'duration': 2.8672073400507907, 'meta': {}}\n",
      "Uploading ~/mvg/docs/source/content/examples/va-data-charlie/charlieDb/acc/u0006/1573992060.csv\n"
     ]
    },
    {
     "name": "stderr",
     "output_type": "stream",
     "text": [
      "2021-09-22 20:56:40,283 - INFO - mvg.mvg - endpoint https://api.beta.multiviz.com\n",
      "2021-09-22 20:56:40,284 - INFO - mvg.mvg - creating measurement from source id=u0006\n",
      "2021-09-22 20:56:40,285 - INFO - mvg.mvg -   duration:  2.8672073400507907\n",
      "2021-09-22 20:56:40,286 - INFO - mvg.mvg -   timestamp: 1574078460\n",
      "2021-09-22 20:56:40,287 - INFO - mvg.mvg -   meta data: {'sampling_rate': 13950.857142857141}\n"
     ]
    },
    {
     "name": "stdout",
     "output_type": "stream",
     "text": [
      "Read 40000 samples for u0006.\n",
      "Read u0006 meta: {'duration': 2.8672073400507907, 'meta': {}}\n",
      "Uploading ~/mvg/docs/source/content/examples/va-data-charlie/charlieDb/acc/u0006/1574078460.csv\n"
     ]
    },
    {
     "name": "stderr",
     "output_type": "stream",
     "text": [
      "2021-09-22 20:56:41,232 - INFO - mvg.mvg - endpoint https://api.beta.multiviz.com\n",
      "2021-09-22 20:56:41,234 - INFO - mvg.mvg - creating measurement from source id=u0006\n",
      "2021-09-22 20:56:41,234 - INFO - mvg.mvg -   duration:  2.8672073400507907\n",
      "2021-09-22 20:56:41,236 - INFO - mvg.mvg -   timestamp: 1574164860\n",
      "2021-09-22 20:56:41,237 - INFO - mvg.mvg -   meta data: {'sampling_rate': 13950.857142857141}\n"
     ]
    },
    {
     "name": "stdout",
     "output_type": "stream",
     "text": [
      "Read 40000 samples for u0006.\n",
      "Read u0006 meta: {'duration': 2.8672073400507907, 'meta': {}}\n",
      "Uploading ~/mvg/docs/source/content/examples/va-data-charlie/charlieDb/acc/u0006/1574164860.csv\n"
     ]
    },
    {
     "name": "stderr",
     "output_type": "stream",
     "text": [
      "2021-09-22 20:56:42,181 - INFO - mvg.mvg - endpoint https://api.beta.multiviz.com\n",
      "2021-09-22 20:56:42,182 - INFO - mvg.mvg - creating measurement from source id=u0006\n",
      "2021-09-22 20:56:42,183 - INFO - mvg.mvg -   duration:  2.8672073400507907\n",
      "2021-09-22 20:56:42,183 - INFO - mvg.mvg -   timestamp: 1574251260\n",
      "2021-09-22 20:56:42,184 - INFO - mvg.mvg -   meta data: {'sampling_rate': 13950.857142857141}\n"
     ]
    },
    {
     "name": "stdout",
     "output_type": "stream",
     "text": [
      "Read 40000 samples for u0006.\n",
      "Read u0006 meta: {'duration': 2.8672073400507907, 'meta': {}}\n",
      "Uploading ~/mvg/docs/source/content/examples/va-data-charlie/charlieDb/acc/u0006/1574251260.csv\n"
     ]
    },
    {
     "name": "stderr",
     "output_type": "stream",
     "text": [
      "2021-09-22 20:56:43,111 - INFO - mvg.mvg - endpoint https://api.beta.multiviz.com\n",
      "2021-09-22 20:56:43,112 - INFO - mvg.mvg - creating measurement from source id=u0006\n",
      "2021-09-22 20:56:43,113 - INFO - mvg.mvg -   duration:  2.8672073400507907\n",
      "2021-09-22 20:56:43,115 - INFO - mvg.mvg -   timestamp: 1574337660\n",
      "2021-09-22 20:56:43,116 - INFO - mvg.mvg -   meta data: {'sampling_rate': 13950.857142857141}\n"
     ]
    },
    {
     "name": "stdout",
     "output_type": "stream",
     "text": [
      "Read 40000 samples for u0006.\n",
      "Read u0006 meta: {'duration': 2.8672073400507907, 'meta': {}}\n",
      "Uploading ~/mvg/docs/source/content/examples/va-data-charlie/charlieDb/acc/u0006/1574337660.csv\n"
     ]
    },
    {
     "name": "stderr",
     "output_type": "stream",
     "text": [
      "2021-09-22 20:56:44,057 - INFO - mvg.mvg - endpoint https://api.beta.multiviz.com\n",
      "2021-09-22 20:56:44,058 - INFO - mvg.mvg - creating measurement from source id=u0006\n",
      "2021-09-22 20:56:44,060 - INFO - mvg.mvg -   duration:  2.8672073400507907\n",
      "2021-09-22 20:56:44,060 - INFO - mvg.mvg -   timestamp: 1574424060\n",
      "2021-09-22 20:56:44,062 - INFO - mvg.mvg -   meta data: {'sampling_rate': 13950.857142857141}\n"
     ]
    },
    {
     "name": "stdout",
     "output_type": "stream",
     "text": [
      "Read 40000 samples for u0006.\n",
      "Read u0006 meta: {'duration': 2.8672073400507907, 'meta': {}}\n",
      "Uploading ~/mvg/docs/source/content/examples/va-data-charlie/charlieDb/acc/u0006/1574424060.csv\n"
     ]
    }
   ],
   "source": [
    "for SOURCE_ID in SOURCE_IDS[1:]:\n",
    "\n",
    "    NEW_SOURCE = SOURCE_ID\n",
    "\n",
    "    try:\n",
    "        print(f\"Deleting {NEW_SOURCE}\")\n",
    "        session.delete_source(NEW_SOURCE)\n",
    "    except HTTPError:\n",
    "        print(f\"Source {NEW_SOURCE} does not exist\")\n",
    "    \n",
    "    src_path = REF_DB_PATH / NEW_SOURCE\n",
    "    m_file_name = REF_DB_PATH / NEW_SOURCE / \"meta.json\"\n",
    "    with open(m_file_name, \"r\") as json_file:\n",
    "        meta = json.load(json_file)\n",
    "    session.create_source(NEW_SOURCE, meta, channels=[\"acc\"])  # create\n",
    "\n",
    "    meas = [f.stem for f in Path(src_path).glob(\"*.csv\")]\n",
    "\n",
    "    for m in meas:\n",
    "\n",
    "        # samples file for one measurement\n",
    "        TS_MEAS = str(m) + \".csv\"  # filename\n",
    "        TS_MEAS = REF_DB_PATH / NEW_SOURCE / TS_MEAS  # path to file\n",
    "        ts_df = pd.read_csv(TS_MEAS)  # read csv into df\n",
    "        accs = ts_df.iloc[:, 0].tolist()  # convert to list\n",
    "        print(f\"Read {len(accs)} samples for {NEW_SOURCE}.\")\n",
    "\n",
    "        # meta information file for one measurement\n",
    "        TS_META = str(m) + \".json\"  # filename\n",
    "        TS_META = REF_DB_PATH / NEW_SOURCE / TS_META  # path\n",
    "        with open(TS_META, \"r\") as json_file:  # read json\n",
    "            meas_info = json.load(json_file)  # into dict\n",
    "        print(f\"Read {NEW_SOURCE} meta: {meas_info}\")\n",
    "\n",
    "        duration = meas_info['duration']\n",
    "        meta_info = meas_info['meta']\n",
    "        meta_info['sampling_rate'] = len(accs)/duration\n",
    "\n",
    "        print(f\"Uploading {TS_MEAS}\")\n",
    "        try:\n",
    "            # see mvg for details on this call\n",
    "            session.create_measurement(sid=NEW_SOURCE,\n",
    "                                       duration=duration,\n",
    "                                       timestamp=m,\n",
    "                                       data={\"acc\": accs},\n",
    "                                       meta=meta_info)\n",
    "        except HTTPError as exc:\n",
    "            print(exc)\n",
    "\n",
    "\n"
   ]
  }
 ],
 "metadata": {
  "kernelspec": {
   "display_name": "Python 3",
   "language": "python",
   "name": "python3"
  },
  "language_info": {
   "codemirror_mode": {
    "name": "ipython",
    "version": 3
   },
   "file_extension": ".py",
   "mimetype": "text/x-python",
   "name": "python",
   "nbconvert_exporter": "python",
   "pygments_lexer": "ipython3",
   "version": "3.8.10"
  },
  "toc": {
   "base_numbering": 1,
   "nav_menu": {},
   "number_sections": true,
   "sideBar": true,
   "skip_h1_title": false,
   "title_cell": "Table of Contents",
   "title_sidebar": "Contents",
   "toc_cell": false,
   "toc_position": {
    "height": "calc(100% - 180px)",
    "left": "10px",
    "top": "150px",
    "width": "384px"
   },
   "toc_section_display": true,
   "toc_window_display": true
  },
  "varInspector": {
   "cols": {
    "lenName": 16,
    "lenType": 16,
    "lenVar": 40
   },
   "kernels_config": {
    "python": {
     "delete_cmd_postfix": "",
     "delete_cmd_prefix": "del ",
     "library": "var_list.py",
     "varRefreshCmd": "print(var_dic_list())"
    },
    "r": {
     "delete_cmd_postfix": ") ",
     "delete_cmd_prefix": "rm(",
     "library": "var_list.r",
     "varRefreshCmd": "cat(var_dic_list()) "
    }
   },
   "types_to_exclude": [
    "module",
    "function",
    "builtin_function_or_method",
    "instance",
    "_Feature"
   ],
   "window_display": false
  }
 },
 "nbformat": 4,
 "nbformat_minor": 5
}

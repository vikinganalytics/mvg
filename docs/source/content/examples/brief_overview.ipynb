{
 "cells": [
  {
   "cell_type": "markdown",
   "metadata": {},
   "source": [
    "# Brief Overview on How to Use the MultiViz Analytics Engine Library"
   ]
  },
  {
   "cell_type": "markdown",
   "metadata": {},
   "source": [
    "## Introduction\n",
    "\n",
    "The MultiViz Vibration Service is an analytics service based on the MultiViz Vibration Engine.\n",
    "To access it Viking Analytics provides a REST API towards its analytics server.\n",
    "To simplify the access of the Vibration service, Viking Analytics provides a Python Package\n",
    "called MVG, which allows to interact with the vibration service via regular python calls.\n",
    "\n",
    "This interactive document shall show the whole flow working with the vibration service from\n",
    "Python, from data upload to retrieval of analysis results.\n",
    "\n",
    "### Signing up for the service\n",
    "\n",
    "For commercial use of the services you will need to acquire a token from Viking Analytics.\n",
    "For the example here, we use a built in token for demo.\n",
    "Please contact us for a free trial and provide you with your token.\n",
    "\n",
    "\n",
    "### Python Pre-requisites\n",
    "\n",
    "1. Make sure you have Python 3.6 or higher installed.\n",
    "2. Install the MVG package from [\"https://pypi.org/project/va-mvg/\"](https://pypi.org/project/va-mvg/)\n",
    "3. Make sure you have the following packages installed (json, matplotlib...)\n",
    "\n",
    "In the following section we will walk through the code needed for the API interaction"
   ]
  },
  {
   "cell_type": "markdown",
   "metadata": {},
   "source": [
    "## Imports"
   ]
  },
  {
   "cell_type": "markdown",
   "metadata": {},
   "source": [
    "First, we begin with the general imports of Python libraries that are needed as part of this project."
   ]
  },
  {
   "cell_type": "code",
   "execution_count": 1,
   "metadata": {
    "ExecuteTime": {
     "end_time": "2021-03-18T10:20:48.441851Z",
     "start_time": "2021-03-18T10:20:48.257468Z"
    },
    "pycharm": {
     "is_executing": false,
     "name": "#%%\n"
    }
   },
   "outputs": [],
   "source": [
    "import json\n",
    "import os\n",
    "import sys\n",
    "from pathlib import Path\n",
    "import pandas as pd\n",
    "from requests import HTTPError"
   ]
  },
  {
   "cell_type": "markdown",
   "metadata": {},
   "source": [
    "We proceed by installing the MVG library in our project"
   ]
  },
  {
   "cell_type": "code",
   "execution_count": 2,
   "metadata": {
    "ExecuteTime": {
     "end_time": "2021-03-18T10:20:49.156431Z",
     "start_time": "2021-03-18T10:20:48.443076Z"
    },
    "pycharm": {
     "is_executing": false,
     "name": "#%%\n"
    }
   },
   "outputs": [
    {
     "name": "stdout",
     "output_type": "stream",
     "text": [
      "\u001b[31mERROR: Can not perform a '--user' install. User site-packages are not visible in this virtualenv.\u001b[0m\r\n"
     ]
    }
   ],
   "source": [
    "!{sys.executable} -m pip install --user va-mvg"
   ]
  },
  {
   "cell_type": "markdown",
   "metadata": {},
   "source": [
    "We follow by importing MVG library.\n",
    "\n",
    "The library documentation is available at [https://vikinganalytics.github.io/mvg/index.html](https://vikinganalytics.github.io/mvg/index.html)"
   ]
  },
  {
   "cell_type": "code",
   "execution_count": 2,
   "metadata": {
    "ExecuteTime": {
     "end_time": "2021-03-18T10:20:49.162159Z",
     "start_time": "2021-03-18T10:20:49.157902Z"
    },
    "pycharm": {
     "is_executing": false,
     "name": "#%%\n"
    }
   },
   "outputs": [],
   "source": [
    "from mvg import MVG"
   ]
  },
  {
   "cell_type": "markdown",
   "metadata": {},
   "source": [
    "We begin by instantiating a \"session\" object with the mvg library.\n",
    "A session object basically caches the endpoint and the token, to simplify the the calls to the mvg library.\n",
    "\n",
    "NOTE: Each TOKEN is used for Authorization AND Authentication.\n",
    "Thus, each unique token represents a unique user, each user has it own, unique database on the VA vibration' service."
   ]
  },
  {
   "cell_type": "code",
   "execution_count": 20,
   "metadata": {
    "ExecuteTime": {
     "end_time": "2021-03-18T10:20:49.166821Z",
     "start_time": "2021-03-18T10:20:49.163443Z"
    },
    "pycharm": {
     "is_executing": false,
     "name": "#%%\n"
    }
   },
   "outputs": [],
   "source": [
    "ENDPOINT = \"https://api.beta.multiviz.com\"\n",
    "# Replace by your own Token\n",
    "VALID_TOKEN = \"Add token here\""
   ]
  },
  {
   "cell_type": "code",
   "execution_count": 4,
   "metadata": {
    "ExecuteTime": {
     "end_time": "2021-03-18T10:20:49.308364Z",
     "start_time": "2021-03-18T10:20:49.167982Z"
    },
    "pycharm": {
     "is_executing": false,
     "name": "#%%\n"
    }
   },
   "outputs": [],
   "source": [
    "session = MVG(ENDPOINT, VALID_TOKEN)"
   ]
  },
  {
   "cell_type": "markdown",
   "metadata": {},
   "source": [
    "We now check if the server is alive.\n",
    "The hello message contains the API version:"
   ]
  },
  {
   "cell_type": "code",
   "execution_count": 5,
   "metadata": {
    "ExecuteTime": {
     "end_time": "2021-03-18T10:20:49.437898Z",
     "start_time": "2021-03-18T10:20:49.309506Z"
    },
    "pycharm": {
     "is_executing": false,
     "name": "#%%\n"
    }
   },
   "outputs": [
    {
     "data": {
      "text/plain": [
       "'{\"api\": {\"name\": \"MultiViz Engine API\", \"version\": \"v0.1.1\", \"swagger\": \"http://api.beta.multiviz.com/docs\"}}'"
      ]
     },
     "execution_count": 5,
     "metadata": {},
     "output_type": "execute_result"
    }
   ],
   "source": [
    "hello_message = json.dumps(session.say_hello())\n",
    "hello_message"
   ]
  },
  {
   "cell_type": "markdown",
   "metadata": {},
   "source": [
    "## Sources and Measurements\n",
    "\n",
    "Before we begin, we will ensure there are no  previously existing sources and if there are, we will delete them."
   ]
  },
  {
   "cell_type": "code",
   "execution_count": 7,
   "metadata": {
    "ExecuteTime": {
     "end_time": "2021-03-18T10:20:49.715201Z",
     "start_time": "2021-03-18T10:20:49.439018Z"
    },
    "pycharm": {
     "is_executing": false,
     "name": "#%%\n"
    }
   },
   "outputs": [
    {
     "name": "stdout",
     "output_type": "stream",
     "text": [
      "Retrieved sources\n",
      "{'source_id': 'u0001', 'meta': {'assetId': 'assetA', 'measPoint': 'mloc01', 'location': 'paris'}}\n",
      "Deleting u0001\n"
     ]
    }
   ],
   "source": [
    "sources = session.list_sources()\n",
    "\n",
    "print(\"Retrieved sources\")\n",
    "for src in sources:\n",
    "    print(src)\n",
    "    print(f\"Deleting {src['source_id']}\")\n",
    "    session.delete_source(src['source_id'])"
   ]
  },
  {
   "cell_type": "markdown",
   "metadata": {
    "pycharm": {
     "name": "#%% md\n"
    }
   },
   "source": [
    "The example below revolves around a sources with source_id \"u0001\".\n",
    "\n",
    "For convenience, this source and its measurements are available with the package distribution.\n",
    "\n",
    "You can retrieve the data from our public charlie repo https://github.com/vikinganalytics/va-data-charlie.git"
   ]
  },
  {
   "cell_type": "code",
   "execution_count": 8,
   "metadata": {
    "ExecuteTime": {
     "end_time": "2021-03-18T10:20:49.825082Z",
     "start_time": "2021-03-18T10:20:49.717137Z"
    },
    "pycharm": {
     "is_executing": false,
     "name": "#%%\n"
    }
   },
   "outputs": [
    {
     "name": "stdout",
     "output_type": "stream",
     "text": [
      "fatal: destination path 'va-data-charlie' already exists and is not an empty directory.\r\n"
     ]
    }
   ],
   "source": [
    "!git clone https://github.com/vikinganalytics/va-data-charlie.git"
   ]
  },
  {
   "cell_type": "code",
   "execution_count": 8,
   "metadata": {
    "ExecuteTime": {
     "end_time": "2021-03-18T10:20:49.830068Z",
     "start_time": "2021-03-18T10:20:49.826632Z"
    },
    "pycharm": {
     "is_executing": false,
     "name": "#%%\n"
    }
   },
   "outputs": [
    {
     "data": {
      "text/plain": [
       "'u0001'"
      ]
     },
     "execution_count": 8,
     "metadata": {},
     "output_type": "execute_result"
    }
   ],
   "source": [
    "# Path to the source folder\n",
    "REF_DB_PATH = Path.cwd() / \"va-data-charlie\" / \"charlieDb\" / \"acc\"\n",
    "REF_DB_PATH\n",
    "# Definition of the source_id\n",
    "SOURCE_ID = \"u0001\"\n",
    "SOURCE_ID\n"
   ]
  },
  {
   "cell_type": "markdown",
   "metadata": {},
   "source": [
    "### Creating a Source\n",
    "\n",
    "A source represents a vibration data source, typically a vibration sensor.\n",
    "Internally, in the analytics engine and data storage, all vibration data is stored under its source. \n",
    "In essence, a source is an identifier formed by\n",
    " - the source ID\n",
    " - meta data with required fields\n",
    " - optional arbitrary customer specific 'free form' data belonging to the source.\n",
    " \n",
    "The vibration service will only rely on the required fields.\n",
    "The free form data is a possibility for the client side to keep together source information, measurements and meta data which may be interesting for the analytics built-in features in the service.\n",
    "Examples of the free form data include location of sensor or the asset which it is mounted on.\n",
    "As we will see later, timestamps are internally represented as millisconds since EPOCH (Jan 1st 1970), for that reason it is good practice to include the timezone where the measurement originated in the meta data.\n",
    "\n",
    "There are two ways to create a source:"
   ]
  },
  {
   "cell_type": "code",
   "execution_count": 10,
   "metadata": {
    "ExecuteTime": {
     "end_time": "2021-03-18T10:20:50.251327Z",
     "start_time": "2021-03-18T10:20:49.831109Z"
    },
    "pycharm": {
     "is_executing": false,
     "name": "#%%\n"
    }
   },
   "outputs": [],
   "source": [
    "# OPTION 1: Writing the meta-data directly when creating the source\n",
    "SOURCE_IDP = \"u001\"\n",
    "meta_information = {'assetId': 'assetJ', 'measPoint': 'mloc01', 'location': 'cancun', 'timezone': 'Europe/Stockholm'}\n",
    "session.create_source(SOURCE_IDP, meta_information)\n",
    "session.get_source(SOURCE_IDP)\n",
    "session.delete_source(SOURCE_IDP)"
   ]
  },
  {
   "cell_type": "code",
   "execution_count": 11,
   "metadata": {
    "ExecuteTime": {
     "end_time": "2021-03-18T10:20:50.537310Z",
     "start_time": "2021-03-18T10:20:50.252679Z"
    },
    "pycharm": {
     "is_executing": false,
     "name": "#%%\n"
    }
   },
   "outputs": [
    {
     "data": {
      "text/plain": [
       "{'source_id': 'u0001',\n",
       " 'meta': {'assetId': 'assetA', 'measPoint': 'mloc01', 'location': 'paris'}}"
      ]
     },
     "execution_count": 11,
     "metadata": {},
     "output_type": "execute_result"
    }
   ],
   "source": [
    "# OPTION 2: Uploading the meta-data from a json file\n",
    "src_path = REF_DB_PATH / SOURCE_ID\n",
    "meta_filename = src_path / \"meta.json\"\n",
    "with open(meta_filename, \"r\") as json_file:\n",
    "    meta = json.load(json_file)\n",
    "session.create_source(SOURCE_ID, meta)\n",
    "session.get_source(SOURCE_ID)"
   ]
  },
  {
   "cell_type": "markdown",
   "metadata": {},
   "source": [
    "List sources\n",
    "\n",
    "We can now check if our source actually has been created, by listing all the sources in the database."
   ]
  },
  {
   "cell_type": "code",
   "execution_count": 12,
   "metadata": {
    "ExecuteTime": {
     "end_time": "2021-03-18T10:20:50.666517Z",
     "start_time": "2021-03-18T10:20:50.538383Z"
    },
    "pycharm": {
     "is_executing": false,
     "name": "#%%\n"
    }
   },
   "outputs": [
    {
     "data": {
      "text/plain": [
       "[{'source_id': 'u0001',\n",
       "  'meta': {'assetId': 'assetA', 'measPoint': 'mloc01', 'location': 'paris'}}]"
      ]
     },
     "execution_count": 12,
     "metadata": {},
     "output_type": "execute_result"
    }
   ],
   "source": [
    "sources = session.list_sources()\n",
    "sources"
   ]
  },
  {
   "cell_type": "markdown",
   "metadata": {},
   "source": [
    "### Uploading a Measurement\n",
    "\n",
    "Now that we have created a source, we can upload vibration measurements related to the source. \n",
    "The information needed to create a measurement consists of\n",
    "- sid: name of the source ID to associate the measurement with a source.\n",
    "- duration: float value that represent the duration, in seconds, of the measurement to estimate the sampling frequency.\n",
    "- timestamp: integer representing the milliseconds since EPOCH of when the measurement was taken.\n",
    "- data: list of floating point values representing the raw data of the vibration measurement.\n",
    "- meta: additional meta information for later use by the client but not to be processed by the analytics engine.\n",
    "\n",
    "In this example, all the measurement data is stored as csv and json files, where the timestamp is the name of each of these files."
   ]
  },
  {
   "cell_type": "code",
   "execution_count": 13,
   "metadata": {
    "ExecuteTime": {
     "end_time": "2021-03-18T10:20:50.670011Z",
     "start_time": "2021-03-18T10:20:50.667593Z"
    },
    "pycharm": {
     "is_executing": false,
     "name": "#%%\n"
    }
   },
   "outputs": [],
   "source": [
    "# meas is a list of timestamps representing the measurements in our repo\n",
    "meas = {f.split(\".\")[0] for f in os.listdir(src_path)}\n",
    "# We remove the \"meta\" file from this list\n",
    "meas.remove(\"meta\")\n"
   ]
  },
  {
   "cell_type": "code",
   "execution_count": 14,
   "metadata": {
    "ExecuteTime": {
     "end_time": "2021-03-18T10:21:50.347959Z",
     "start_time": "2021-03-18T10:20:50.671104Z"
    },
    "pycharm": {
     "is_executing": false,
     "name": "#%%\n"
    }
   },
   "outputs": [
    {
     "name": "stdout",
     "output_type": "stream",
     "text": [
      "Read 40000 samples\n",
      "Read meta:{'duration': 2.8672073400507907, 'meta': {}}\n",
      "Uploading /home/oskar/viking_unix/mvg/docs/source/content/examples/va-data-charlie/charlieDb/acc/u0001/1570359660.csv\n",
      "Read 40000 samples\n",
      "Read meta:{'duration': 2.8672073400507907, 'meta': {}}\n",
      "Uploading /home/oskar/viking_unix/mvg/docs/source/content/examples/va-data-charlie/charlieDb/acc/u0001/1571050860.csv\n",
      "Read 40000 samples\n",
      "Read meta:{'duration': 2.8672073400507907, 'meta': {}}\n",
      "Uploading /home/oskar/viking_unix/mvg/docs/source/content/examples/va-data-charlie/charlieDb/acc/u0001/1573041660.csv\n",
      "Read 40000 samples\n",
      "Read meta:{'duration': 2.8672073400507907, 'meta': {}}\n",
      "Uploading /home/oskar/viking_unix/mvg/docs/source/content/examples/va-data-charlie/charlieDb/acc/u0001/1570273260.csv\n",
      "Read 40000 samples\n",
      "Read meta:{'duration': 2.8672073400507907, 'meta': {}}\n",
      "Uploading /home/oskar/viking_unix/mvg/docs/source/content/examples/va-data-charlie/charlieDb/acc/u0001/1571223660.csv\n",
      "Read 40000 samples\n",
      "Read meta:{'duration': 2.8672073400507907, 'meta': {}}\n",
      "Uploading /home/oskar/viking_unix/mvg/docs/source/content/examples/va-data-charlie/charlieDb/acc/u0001/1570618860.csv\n",
      "Read 40000 samples\n",
      "Read meta:{'duration': 2.8672073400507907, 'meta': {}}\n",
      "Uploading /home/oskar/viking_unix/mvg/docs/source/content/examples/va-data-charlie/charlieDb/acc/u0001/1573646460.csv\n",
      "Read 40000 samples\n",
      "Read meta:{'duration': 2.8672073400507907, 'meta': {}}\n",
      "Uploading /home/oskar/viking_unix/mvg/docs/source/content/examples/va-data-charlie/charlieDb/acc/u0001/1571137260.csv\n",
      "Read 40000 samples\n",
      "Read meta:{'duration': 2.8672073400507907, 'meta': {}}\n",
      "Uploading /home/oskar/viking_unix/mvg/docs/source/content/examples/va-data-charlie/charlieDb/acc/u0001/1573732860.csv\n",
      "Read 40000 samples\n",
      "Read meta:{'duration': 2.8672073400507907, 'meta': {}}\n",
      "Uploading /home/oskar/viking_unix/mvg/docs/source/content/examples/va-data-charlie/charlieDb/acc/u0001/1572782460.csv\n",
      "Read 40000 samples\n",
      "Read meta:{'duration': 2.8672073400507907, 'meta': {}}\n",
      "Uploading /home/oskar/viking_unix/mvg/docs/source/content/examples/va-data-charlie/charlieDb/acc/u0001/1570705260.csv\n",
      "Read 40000 samples\n",
      "Read meta:{'duration': 2.8672073400507907, 'meta': {}}\n",
      "Uploading /home/oskar/viking_unix/mvg/docs/source/content/examples/va-data-charlie/charlieDb/acc/u0001/1573992060.csv\n",
      "Read 40000 samples\n",
      "Read meta:{'duration': 2.8672073400507907, 'meta': {}}\n",
      "Uploading /home/oskar/viking_unix/mvg/docs/source/content/examples/va-data-charlie/charlieDb/acc/u0001/1571914860.csv\n",
      "Read 40000 samples\n",
      "Read meta:{'duration': 2.8672073400507907, 'meta': {}}\n",
      "Uploading /home/oskar/viking_unix/mvg/docs/source/content/examples/va-data-charlie/charlieDb/acc/u0001/1572436860.csv\n",
      "Read 40000 samples\n",
      "Read meta:{'duration': 2.8672073400507907, 'meta': {}}\n",
      "Uploading /home/oskar/viking_unix/mvg/docs/source/content/examples/va-data-charlie/charlieDb/acc/u0001/1571396460.csv\n",
      "Read 40000 samples\n",
      "Read meta:{'duration': 2.8672073400507907, 'meta': {}}\n",
      "Uploading /home/oskar/viking_unix/mvg/docs/source/content/examples/va-data-charlie/charlieDb/acc/u0001/1570186860.csv\n",
      "Read 40000 samples\n",
      "Read meta:{'duration': 2.8672073400507907, 'meta': {}}\n",
      "Uploading /home/oskar/viking_unix/mvg/docs/source/content/examples/va-data-charlie/charlieDb/acc/u0001/1572868860.csv\n",
      "Read 40000 samples\n",
      "Read meta:{'duration': 2.8672073400507907, 'meta': {}}\n",
      "Uploading /home/oskar/viking_unix/mvg/docs/source/content/examples/va-data-charlie/charlieDb/acc/u0001/1573819260.csv\n",
      "Read 40000 samples\n",
      "Read meta:{'duration': 2.8672073400507907, 'meta': {}}\n",
      "Uploading /home/oskar/viking_unix/mvg/docs/source/content/examples/va-data-charlie/charlieDb/acc/u0001/1570791660.csv\n",
      "Read 40000 samples\n",
      "Read meta:{'duration': 2.8672073400507907, 'meta': {}}\n",
      "Uploading /home/oskar/viking_unix/mvg/docs/source/content/examples/va-data-charlie/charlieDb/acc/u0001/1572087660.csv\n",
      "Read 40000 samples\n",
      "Read meta:{'duration': 2.8672073400507907, 'meta': {}}\n",
      "Uploading /home/oskar/viking_unix/mvg/docs/source/content/examples/va-data-charlie/charlieDb/acc/u0001/1573905660.csv\n",
      "Read 40000 samples\n",
      "Read meta:{'duration': 2.8672073400507907, 'meta': {}}\n",
      "Uploading /home/oskar/viking_unix/mvg/docs/source/content/examples/va-data-charlie/charlieDb/acc/u0001/1572264060.csv\n",
      "Read 40000 samples\n",
      "Read meta:{'duration': 2.8672073400507907, 'meta': {}}\n",
      "Uploading /home/oskar/viking_unix/mvg/docs/source/content/examples/va-data-charlie/charlieDb/acc/u0001/1573214460.csv\n",
      "Read 40000 samples\n",
      "Read meta:{'duration': 2.8672073400507907, 'meta': {}}\n",
      "Uploading /home/oskar/viking_unix/mvg/docs/source/content/examples/va-data-charlie/charlieDb/acc/u0001/1570446060.csv\n",
      "Read 40000 samples\n",
      "Read meta:{'duration': 2.8672073400507907, 'meta': {}}\n",
      "Uploading /home/oskar/viking_unix/mvg/docs/source/content/examples/va-data-charlie/charlieDb/acc/u0001/1571655660.csv\n",
      "Read 40000 samples\n",
      "Read meta:{'duration': 2.8672073400507907, 'meta': {}}\n",
      "Uploading /home/oskar/viking_unix/mvg/docs/source/content/examples/va-data-charlie/charlieDb/acc/u0001/1573300860.csv\n",
      "Read 40000 samples\n",
      "Read meta:{'duration': 2.8672073400507907, 'meta': {}}\n",
      "Uploading /home/oskar/viking_unix/mvg/docs/source/content/examples/va-data-charlie/charlieDb/acc/u0001/1571569260.csv\n",
      "Read 40000 samples\n",
      "Read meta:{'duration': 2.8672073400507907, 'meta': {}}\n",
      "Uploading /home/oskar/viking_unix/mvg/docs/source/content/examples/va-data-charlie/charlieDb/acc/u0001/1572955260.csv\n",
      "Read 40000 samples\n",
      "Read meta:{'duration': 2.8672073400507907, 'meta': {}}\n",
      "Uploading /home/oskar/viking_unix/mvg/docs/source/content/examples/va-data-charlie/charlieDb/acc/u0001/1574164860.csv\n",
      "Read 40000 samples\n",
      "Read meta:{'duration': 2.8672073400507907, 'meta': {}}\n",
      "Uploading /home/oskar/viking_unix/mvg/docs/source/content/examples/va-data-charlie/charlieDb/acc/u0001/1571828460.csv\n",
      "Read 40000 samples\n",
      "Read meta:{'duration': 2.8672073400507907, 'meta': {}}\n",
      "Uploading /home/oskar/viking_unix/mvg/docs/source/content/examples/va-data-charlie/charlieDb/acc/u0001/1574337660.csv\n",
      "Read 40000 samples\n",
      "Read meta:{'duration': 2.8672073400507907, 'meta': {}}\n",
      "Uploading /home/oskar/viking_unix/mvg/docs/source/content/examples/va-data-charlie/charlieDb/acc/u0001/1572609660.csv\n",
      "Read 40000 samples\n",
      "Read meta:{'duration': 2.8672073400507907, 'meta': {}}\n",
      "Uploading /home/oskar/viking_unix/mvg/docs/source/content/examples/va-data-charlie/charlieDb/acc/u0001/1570964460.csv\n",
      "Read 40000 samples\n",
      "Read meta:{'duration': 2.8672073400507907, 'meta': {}}\n",
      "Uploading /home/oskar/viking_unix/mvg/docs/source/content/examples/va-data-charlie/charlieDb/acc/u0001/1571310060.csv\n",
      "Read 40000 samples\n",
      "Read meta:{'duration': 2.8672073400507907, 'meta': {}}\n",
      "Uploading /home/oskar/viking_unix/mvg/docs/source/content/examples/va-data-charlie/charlieDb/acc/u0001/1573387260.csv\n",
      "Read 40000 samples\n",
      "Read meta:{'duration': 2.8672073400507907, 'meta': {}}\n",
      "Uploading /home/oskar/viking_unix/mvg/docs/source/content/examples/va-data-charlie/charlieDb/acc/u0001/1572001260.csv\n",
      "Read 40000 samples\n",
      "Read meta:{'duration': 2.8672073400507907, 'meta': {}}\n",
      "Uploading /home/oskar/viking_unix/mvg/docs/source/content/examples/va-data-charlie/charlieDb/acc/u0001/1574251260.csv\n",
      "Read 40000 samples\n",
      "Read meta:{'duration': 2.8672073400507907, 'meta': {}}\n",
      "Uploading /home/oskar/viking_unix/mvg/docs/source/content/examples/va-data-charlie/charlieDb/acc/u0001/1570878060.csv\n",
      "Read 40000 samples\n",
      "Read meta:{'duration': 2.8672073400507907, 'meta': {}}\n",
      "Uploading /home/oskar/viking_unix/mvg/docs/source/content/examples/va-data-charlie/charlieDb/acc/u0001/1574078460.csv\n",
      "Read 40000 samples\n",
      "Read meta:{'duration': 2.8672073400507907, 'meta': {}}\n",
      "Uploading /home/oskar/viking_unix/mvg/docs/source/content/examples/va-data-charlie/charlieDb/acc/u0001/1571482860.csv\n",
      "Read 40000 samples\n",
      "Read meta:{'duration': 2.8672073400507907, 'meta': {}}\n",
      "Uploading /home/oskar/viking_unix/mvg/docs/source/content/examples/va-data-charlie/charlieDb/acc/u0001/1573560060.csv\n",
      "Read 40000 samples\n",
      "Read meta:{'duration': 2.8672073400507907, 'meta': {}}\n",
      "Uploading /home/oskar/viking_unix/mvg/docs/source/content/examples/va-data-charlie/charlieDb/acc/u0001/1572177660.csv\n",
      "Read 40000 samples\n",
      "Read meta:{'duration': 2.8672073400507907, 'meta': {}}\n",
      "Uploading /home/oskar/viking_unix/mvg/docs/source/content/examples/va-data-charlie/charlieDb/acc/u0001/1572696060.csv\n"
     ]
    },
    {
     "name": "stdout",
     "output_type": "stream",
     "text": [
      "Read 40000 samples\n",
      "Read meta:{'duration': 2.8672073400507907, 'meta': {}}\n",
      "Uploading /home/oskar/viking_unix/mvg/docs/source/content/examples/va-data-charlie/charlieDb/acc/u0001/1570532460.csv\n",
      "Read 40000 samples\n",
      "Read meta:{'duration': 2.8672073400507907, 'meta': {}}\n",
      "Uploading /home/oskar/viking_unix/mvg/docs/source/content/examples/va-data-charlie/charlieDb/acc/u0001/1573128060.csv\n",
      "Read 40000 samples\n",
      "Read meta:{'duration': 2.8672073400507907, 'meta': {}}\n",
      "Uploading /home/oskar/viking_unix/mvg/docs/source/content/examples/va-data-charlie/charlieDb/acc/u0001/1572523260.csv\n",
      "Read 40000 samples\n",
      "Read meta:{'duration': 2.8672073400507907, 'meta': {}}\n",
      "Uploading /home/oskar/viking_unix/mvg/docs/source/content/examples/va-data-charlie/charlieDb/acc/u0001/1573473660.csv\n",
      "Read 40000 samples\n",
      "Read meta:{'duration': 2.8672073400507907, 'meta': {}}\n",
      "Uploading /home/oskar/viking_unix/mvg/docs/source/content/examples/va-data-charlie/charlieDb/acc/u0001/1571742060.csv\n",
      "Read 40000 samples\n",
      "Read meta:{'duration': 2.8672073400507907, 'meta': {}}\n",
      "Uploading /home/oskar/viking_unix/mvg/docs/source/content/examples/va-data-charlie/charlieDb/acc/u0001/1574424060.csv\n",
      "Read 40000 samples\n",
      "Read meta:{'duration': 2.8672073400507907, 'meta': {}}\n",
      "Uploading /home/oskar/viking_unix/mvg/docs/source/content/examples/va-data-charlie/charlieDb/acc/u0001/1572350460.csv\n"
     ]
    }
   ],
   "source": [
    "# We iterate over all of elements in this list\n",
    "for m in meas:\n",
    "\n",
    "    # raw data per measurement\n",
    "    TS_MEAS = str(m) + \".csv\"  # filename\n",
    "    TS_MEAS = REF_DB_PATH / SOURCE_ID / TS_MEAS  # path to file\n",
    "    ts_df = pd.read_csv(TS_MEAS, names=['acc'])  # read csv into df\n",
    "    accs = ts_df.iloc[:, 0].tolist()  # convert to list\n",
    "    print(f\"Read {len(accs)} samples\")\n",
    "\n",
    "    # meta information file per measurement\n",
    "    TS_META = str(m) + \".json\"  # filename\n",
    "    TS_META = REF_DB_PATH / SOURCE_ID / TS_META  # path\n",
    "    with open(TS_META, \"r\") as json_file:  # read json\n",
    "        meas_info = json.load(json_file)  # into dict\n",
    "    print(f\"Read meta:{meas_info}\")\n",
    "\n",
    "    # get duration and other meta info\n",
    "    duration = meas_info['duration']\n",
    "    meta_info = meas_info['meta']\n",
    "\n",
    "    # Upload measurements\n",
    "    print(f\"Uploading {TS_MEAS}\")\n",
    "    try:\n",
    "        session.create_measurement(sid=SOURCE_ID, \n",
    "                                   duration=duration, \n",
    "                                   timestamp=m, \n",
    "                                   data=accs, \n",
    "                                   meta=meta_info)\n",
    "    except HTTPError as exc:\n",
    "        print(exc)"
   ]
  },
  {
   "cell_type": "markdown",
   "metadata": {},
   "source": [
    "Check if we actually created the measurements by reading them."
   ]
  },
  {
   "cell_type": "code",
   "execution_count": 15,
   "metadata": {
    "ExecuteTime": {
     "end_time": "2021-03-18T10:22:16.187529Z",
     "start_time": "2021-03-18T10:21:50.349197Z"
    },
    "pycharm": {
     "is_executing": false,
     "name": "#%%\n"
    }
   },
   "outputs": [
    {
     "name": "stdout",
     "output_type": "stream",
     "text": [
      "Read 50 stored measurements\n"
     ]
    }
   ],
   "source": [
    "m = session.read_measurements(SOURCE_ID)\n",
    "print(f\"Read {len(m)} stored measurements\")"
   ]
  },
  {
   "cell_type": "markdown",
   "metadata": {},
   "source": [
    "## Analysis\n",
    "\n",
    "We begin by listing all the features available in the service"
   ]
  },
  {
   "cell_type": "code",
   "execution_count": 7,
   "metadata": {
    "ExecuteTime": {
     "end_time": "2021-03-18T10:22:16.319506Z",
     "start_time": "2021-03-18T10:22:16.188820Z"
    },
    "pycharm": {
     "is_executing": false,
     "name": "#%%\n"
    }
   },
   "outputs": [
    {
     "data": {
      "text/plain": [
       "{'RMS': '0.0.1', 'ModeId': '0.1.0', 'BlackSheep': '0.1.0'}"
      ]
     },
     "execution_count": 7,
     "metadata": {},
     "output_type": "execute_result"
    }
   ],
   "source": [
    "available_features = session.supported_features()\n",
    "available_features"
   ]
  },
  {
   "cell_type": "markdown",
   "metadata": {},
   "source": [
    "In this example, we will request both features to be applied to the previously defined SOURCE_ID.\n",
    "\n",
    "We will begin with the 'RMS' feature, which provides the RMS for each signal.\n",
    "Thus, we proceed to request the analysis to the VA Vibration service."
   ]
  },
  {
   "cell_type": "code",
   "execution_count": 9,
   "metadata": {
    "ExecuteTime": {
     "end_time": "2021-03-18T10:22:16.439918Z",
     "start_time": "2021-03-18T10:22:16.320611Z"
    },
    "pycharm": {
     "is_executing": false,
     "name": "#%%\n"
    }
   },
   "outputs": [
    {
     "data": {
      "text/plain": [
       "{'request_id': 'de9562802a3248a9723ce4a8950c9a00', 'request_status': 'queued'}"
      ]
     },
     "execution_count": 9,
     "metadata": {},
     "output_type": "execute_result"
    }
   ],
   "source": [
    "RMS_u0001 = session.request_analysis(SOURCE_ID, 'RMS')\n",
    "RMS_u0001"
   ]
  },
  {
   "cell_type": "markdown",
   "metadata": {
    "pycharm": {
     "name": "#%% md\n"
    }
   },
   "source": [
    "The requested analysis will return a dictionary object with two elements.\n",
    "The first element is a `\"request_id\"` that can be used to retrieve the results after.\n",
    "The second element is `\"request_status\"` that provides the status right after placing the analysis request. \n",
    "\n",
    "Before we are able to get the analysis results, we need to wait until those results are successfully completed.\n",
    "\n",
    "We can query for the status of our requested analysis.\n",
    "The possible status are:\n",
    "- Queued: The analysis has not started in the remote server and it is in the queue to begin.\n",
    "- Ongoing: The analysis is been processed at this time.\n",
    "- Failed: The analysis is complete and failed to produce a result.\n",
    "- Successful: The analysis is complete and it successfully produced a result."
   ]
  },
  {
   "cell_type": "code",
   "execution_count": 10,
   "metadata": {
    "ExecuteTime": {
     "end_time": "2021-03-18T10:22:16.571418Z",
     "start_time": "2021-03-18T10:22:16.440996Z"
    },
    "pycharm": {
     "is_executing": false,
     "name": "#%%\n"
    }
   },
   "outputs": [
    {
     "name": "stdout",
     "output_type": "stream",
     "text": [
      "RMS Analysis: successful\n"
     ]
    }
   ],
   "source": [
    "REQUEST_ID_RMS_u0001 = RMS_u0001['request_id']\n",
    "status = session.get_analysis_status(REQUEST_ID_RMS_u0001)\n",
    "print(f\"RMS Analysis: {status}\")"
   ]
  },
  {
   "cell_type": "markdown",
   "metadata": {
    "pycharm": {
     "name": "#%% md\n"
    }
   },
   "source": [
    "The next feature is 'ModeId'.\n",
    "The 'ModeId' feature displays all the operating modes over time of an individual asset. \n",
    "The similar procedure is repeated to request the analysis of the \"ModeId\" feature for our source \"u0001\"."
   ]
  },
  {
   "cell_type": "code",
   "execution_count": 11,
   "metadata": {
    "ExecuteTime": {
     "end_time": "2021-03-18T10:22:16.716298Z",
     "start_time": "2021-03-18T10:22:16.572585Z"
    },
    "pycharm": {
     "is_executing": false,
     "name": "#%%\n"
    }
   },
   "outputs": [
    {
     "data": {
      "text/plain": [
       "{'request_id': '9cced936d101c436eb32e7f8dc379796', 'request_status': 'queued'}"
      ]
     },
     "execution_count": 11,
     "metadata": {},
     "output_type": "execute_result"
    }
   ],
   "source": [
    "ModeId_u0001 = session.request_analysis(SOURCE_ID, 'ModeId')\n",
    "ModeId_u0001 "
   ]
  },
  {
   "cell_type": "markdown",
   "metadata": {},
   "source": [
    "We also check the status for our second source."
   ]
  },
  {
   "cell_type": "code",
   "execution_count": 12,
   "metadata": {
    "ExecuteTime": {
     "end_time": "2021-03-18T10:22:16.881788Z",
     "start_time": "2021-03-18T10:22:16.717429Z"
    },
    "pycharm": {
     "is_executing": false,
     "name": "#%%\n"
    }
   },
   "outputs": [
    {
     "name": "stdout",
     "output_type": "stream",
     "text": [
      "ModeId Analysis: successful\n"
     ]
    }
   ],
   "source": [
    "REQUEST_ID_ModeId_u0001 = ModeId_u0001['request_id']\n",
    "status = session.get_analysis_status(REQUEST_ID_ModeId_u0001)\n",
    "print(f\"ModeId Analysis: {status}\")"
   ]
  },
  {
   "cell_type": "markdown",
   "metadata": {
    "pycharm": {
     "name": "#%% md\n"
    }
   },
   "source": [
    "We can proceed to get the results by calling the corresponding requestIds for the feature of each source.\n",
    "\n",
    "The output of the get_analysis_results function is a dictionary and we show the keys of one those dictionaries.\n",
    "The keys are the same for all features and contains two elements.\n",
    "The first key `\"status\"` indicates if the analysis was succesful.\n",
    "The second key `\"results\"` includes the numeric results."
   ]
  },
  {
   "cell_type": "code",
   "execution_count": 13,
   "metadata": {
    "ExecuteTime": {
     "end_time": "2021-03-18T10:22:17.505749Z",
     "start_time": "2021-03-18T10:22:16.882964Z"
    },
    "pycharm": {
     "is_executing": false,
     "name": "#%%\n"
    }
   },
   "outputs": [
    {
     "data": {
      "text/plain": [
       "dict_keys(['status', 'results'])"
      ]
     },
     "execution_count": 13,
     "metadata": {},
     "output_type": "execute_result"
    }
   ],
   "source": [
    "rms_table = session.get_analysis_results(jobid=REQUEST_ID_RMS_u0001)\n",
    "mode_table = session.get_analysis_results(jobid=REQUEST_ID_ModeId_u0001)\n",
    "\n",
    "rms_table.keys()"
   ]
  },
  {
   "cell_type": "markdown",
   "metadata": {},
   "source": [
    "The `\"results\"` of the \"RMS\" feature are two lists.\n",
    "One list corresponds to the epoch (in seconds) of the measurement and the other list contains the rms value for the measurement.\n",
    "\n",
    "These lists can be converted into a dataframe for ease of manipulation.\n",
    "In addition, the \"timestamp\" column is converted to a timestamp object in a column called \"Date\"."
   ]
  },
  {
   "cell_type": "code",
   "execution_count": 14,
   "metadata": {
    "ExecuteTime": {
     "end_time": "2021-03-18T10:22:17.516758Z",
     "start_time": "2021-03-18T10:22:17.507109Z"
    },
    "pycharm": {
     "is_executing": false,
     "name": "#%%\n"
    }
   },
   "outputs": [
    {
     "data": {
      "text/html": [
       "<div>\n",
       "<style scoped>\n",
       "    .dataframe tbody tr th:only-of-type {\n",
       "        vertical-align: middle;\n",
       "    }\n",
       "\n",
       "    .dataframe tbody tr th {\n",
       "        vertical-align: top;\n",
       "    }\n",
       "\n",
       "    .dataframe thead th {\n",
       "        text-align: right;\n",
       "    }\n",
       "</style>\n",
       "<table border=\"1\" class=\"dataframe\">\n",
       "  <thead>\n",
       "    <tr style=\"text-align: right;\">\n",
       "      <th></th>\n",
       "      <th>timestamps</th>\n",
       "      <th>rms</th>\n",
       "      <th>Date</th>\n",
       "    </tr>\n",
       "  </thead>\n",
       "  <tbody>\n",
       "    <tr>\n",
       "      <th>0</th>\n",
       "      <td>1570273260</td>\n",
       "      <td>0.662183</td>\n",
       "      <td>2019-10-05 11:01:00</td>\n",
       "    </tr>\n",
       "    <tr>\n",
       "      <th>1</th>\n",
       "      <td>1570359660</td>\n",
       "      <td>0.661652</td>\n",
       "      <td>2019-10-06 11:01:00</td>\n",
       "    </tr>\n",
       "    <tr>\n",
       "      <th>2</th>\n",
       "      <td>1570446060</td>\n",
       "      <td>0.661923</td>\n",
       "      <td>2019-10-07 11:01:00</td>\n",
       "    </tr>\n",
       "    <tr>\n",
       "      <th>3</th>\n",
       "      <td>1570532460</td>\n",
       "      <td>0.661714</td>\n",
       "      <td>2019-10-08 11:01:00</td>\n",
       "    </tr>\n",
       "    <tr>\n",
       "      <th>4</th>\n",
       "      <td>1570618860</td>\n",
       "      <td>0.661709</td>\n",
       "      <td>2019-10-09 11:01:00</td>\n",
       "    </tr>\n",
       "  </tbody>\n",
       "</table>\n",
       "</div>"
      ],
      "text/plain": [
       "   timestamps       rms                Date\n",
       "0  1570273260  0.662183 2019-10-05 11:01:00\n",
       "1  1570359660  0.661652 2019-10-06 11:01:00\n",
       "2  1570446060  0.661923 2019-10-07 11:01:00\n",
       "3  1570532460  0.661714 2019-10-08 11:01:00\n",
       "4  1570618860  0.661709 2019-10-09 11:01:00"
      ]
     },
     "execution_count": 14,
     "metadata": {},
     "output_type": "execute_result"
    }
   ],
   "source": [
    "df_rms = pd.DataFrame(rms_table[\"results\"])\n",
    "df_rms['Date'] = pd.to_datetime(df_rms['timestamps'], unit=\"s\")\n",
    "df_rms.head()"
   ]
  },
  {
   "cell_type": "markdown",
   "metadata": {},
   "source": [
    "The `\"results\"` of the \"ModeId\" feature are three lists:\n",
    "- The first list is the measurement epoch (in seconds).\n",
    "- The second list corresponds to the mode label given to the timestamp.\n",
    "- The third list is a boolean to indicate the uncertainty of label.\n",
    "\n",
    "We pass all the lists to a dataframe for ease of manipulation. \n",
    "Similarly to the \"RMS\" feature, the \"timestamp\" column is converted to a timestamp object in a column called \"Date\"."
   ]
  },
  {
   "cell_type": "code",
   "execution_count": 15,
   "metadata": {
    "ExecuteTime": {
     "end_time": "2021-03-18T10:22:17.528586Z",
     "start_time": "2021-03-18T10:22:17.519849Z"
    },
    "pycharm": {
     "is_executing": false,
     "name": "#%%\n"
    }
   },
   "outputs": [
    {
     "data": {
      "text/html": [
       "<div>\n",
       "<style scoped>\n",
       "    .dataframe tbody tr th:only-of-type {\n",
       "        vertical-align: middle;\n",
       "    }\n",
       "\n",
       "    .dataframe tbody tr th {\n",
       "        vertical-align: top;\n",
       "    }\n",
       "\n",
       "    .dataframe thead th {\n",
       "        text-align: right;\n",
       "    }\n",
       "</style>\n",
       "<table border=\"1\" class=\"dataframe\">\n",
       "  <thead>\n",
       "    <tr style=\"text-align: right;\">\n",
       "      <th></th>\n",
       "      <th>timestamps</th>\n",
       "      <th>labels</th>\n",
       "      <th>uncertain</th>\n",
       "      <th>Date</th>\n",
       "    </tr>\n",
       "  </thead>\n",
       "  <tbody>\n",
       "    <tr>\n",
       "      <th>0</th>\n",
       "      <td>1570273260</td>\n",
       "      <td>0</td>\n",
       "      <td>False</td>\n",
       "      <td>2019-10-05 11:01:00</td>\n",
       "    </tr>\n",
       "    <tr>\n",
       "      <th>1</th>\n",
       "      <td>1570359660</td>\n",
       "      <td>0</td>\n",
       "      <td>False</td>\n",
       "      <td>2019-10-06 11:01:00</td>\n",
       "    </tr>\n",
       "    <tr>\n",
       "      <th>2</th>\n",
       "      <td>1570446060</td>\n",
       "      <td>0</td>\n",
       "      <td>False</td>\n",
       "      <td>2019-10-07 11:01:00</td>\n",
       "    </tr>\n",
       "    <tr>\n",
       "      <th>3</th>\n",
       "      <td>1570532460</td>\n",
       "      <td>0</td>\n",
       "      <td>False</td>\n",
       "      <td>2019-10-08 11:01:00</td>\n",
       "    </tr>\n",
       "    <tr>\n",
       "      <th>4</th>\n",
       "      <td>1570618860</td>\n",
       "      <td>0</td>\n",
       "      <td>False</td>\n",
       "      <td>2019-10-09 11:01:00</td>\n",
       "    </tr>\n",
       "  </tbody>\n",
       "</table>\n",
       "</div>"
      ],
      "text/plain": [
       "   timestamps  labels  uncertain                Date\n",
       "0  1570273260       0      False 2019-10-05 11:01:00\n",
       "1  1570359660       0      False 2019-10-06 11:01:00\n",
       "2  1570446060       0      False 2019-10-07 11:01:00\n",
       "3  1570532460       0      False 2019-10-08 11:01:00\n",
       "4  1570618860       0      False 2019-10-09 11:01:00"
      ]
     },
     "execution_count": 15,
     "metadata": {},
     "output_type": "execute_result"
    }
   ],
   "source": [
    "df_mode = pd.DataFrame(mode_table[\"results\"])\n",
    "df_mode['Date'] = pd.to_datetime(df_mode['timestamps'], unit=\"s\")\n",
    "df_mode.head()"
   ]
  },
  {
   "cell_type": "markdown",
   "metadata": {},
   "source": [
    "### Visualization\n",
    "\n",
    "We can use those results to generate some plots that may ease the visualization.\n",
    "\n",
    "The MVG framework provides some visualization functions that can help towards this goal.\n",
    "We begin by importing the visualization module"
   ]
  },
  {
   "cell_type": "code",
   "execution_count": 16,
   "metadata": {
    "ExecuteTime": {
     "end_time": "2021-03-18T10:22:17.670019Z",
     "start_time": "2021-03-18T10:22:17.530333Z"
    },
    "pycharm": {
     "is_executing": false,
     "name": "#%%\n"
    }
   },
   "outputs": [],
   "source": [
    "from mvg import plotting\n",
    "%matplotlib inline"
   ]
  },
  {
   "cell_type": "markdown",
   "metadata": {},
   "source": [
    "One of the provided functions enable to display the different modes over time.\n",
    "This way we can identify all its modes.\n",
    "When we call the function, we define the parameter \"timeunit\" given that the default unit in the function is milliseconds and the epochs in our data is seconds."
   ]
  },
  {
   "cell_type": "code",
   "execution_count": 17,
   "metadata": {
    "ExecuteTime": {
     "end_time": "2021-03-18T10:22:17.803520Z",
     "start_time": "2021-03-18T10:22:17.671110Z"
    },
    "pycharm": {
     "is_executing": false,
     "name": "#%%\n"
    }
   },
   "outputs": [
    {
     "data": {
      "image/png": "[encoded data removed]",
      "text/plain": [
       "<Figure size 720x216 with 1 Axes>"
      ]
     },
     "metadata": {
      "needs_background": "light"
     },
     "output_type": "display_data"
    }
   ],
   "source": [
    "image_modes = plotting.modes_over_time(df_mode, SOURCE_ID, timeunit=\"s\")"
   ]
  },
  {
   "cell_type": "markdown",
   "metadata": {},
   "source": [
    "We can call the individual boxplot for one source and display the boxplot of the \"RMS\" for each one of the operating modes.\n",
    "However, we need to merge the \"RMS\" and \"ModeId\" dataframes first."
   ]
  },
  {
   "cell_type": "code",
   "execution_count": 18,
   "metadata": {
    "ExecuteTime": {
     "end_time": "2021-03-18T10:22:17.814161Z",
     "start_time": "2021-03-18T10:22:17.804679Z"
    },
    "pycharm": {
     "is_executing": false,
     "name": "#%%\n"
    }
   },
   "outputs": [
    {
     "data": {
      "text/html": [
       "<div>\n",
       "<style scoped>\n",
       "    .dataframe tbody tr th:only-of-type {\n",
       "        vertical-align: middle;\n",
       "    }\n",
       "\n",
       "    .dataframe tbody tr th {\n",
       "        vertical-align: top;\n",
       "    }\n",
       "\n",
       "    .dataframe thead th {\n",
       "        text-align: right;\n",
       "    }\n",
       "</style>\n",
       "<table border=\"1\" class=\"dataframe\">\n",
       "  <thead>\n",
       "    <tr style=\"text-align: right;\">\n",
       "      <th></th>\n",
       "      <th>timestamps</th>\n",
       "      <th>rms</th>\n",
       "      <th>Date</th>\n",
       "      <th>labels</th>\n",
       "      <th>uncertain</th>\n",
       "    </tr>\n",
       "  </thead>\n",
       "  <tbody>\n",
       "    <tr>\n",
       "      <th>0</th>\n",
       "      <td>1570273260</td>\n",
       "      <td>0.662183</td>\n",
       "      <td>2019-10-05 11:01:00</td>\n",
       "      <td>0</td>\n",
       "      <td>False</td>\n",
       "    </tr>\n",
       "    <tr>\n",
       "      <th>1</th>\n",
       "      <td>1570359660</td>\n",
       "      <td>0.661652</td>\n",
       "      <td>2019-10-06 11:01:00</td>\n",
       "      <td>0</td>\n",
       "      <td>False</td>\n",
       "    </tr>\n",
       "    <tr>\n",
       "      <th>2</th>\n",
       "      <td>1570446060</td>\n",
       "      <td>0.661923</td>\n",
       "      <td>2019-10-07 11:01:00</td>\n",
       "      <td>0</td>\n",
       "      <td>False</td>\n",
       "    </tr>\n",
       "    <tr>\n",
       "      <th>3</th>\n",
       "      <td>1570532460</td>\n",
       "      <td>0.661714</td>\n",
       "      <td>2019-10-08 11:01:00</td>\n",
       "      <td>0</td>\n",
       "      <td>False</td>\n",
       "    </tr>\n",
       "    <tr>\n",
       "      <th>4</th>\n",
       "      <td>1570618860</td>\n",
       "      <td>0.661709</td>\n",
       "      <td>2019-10-09 11:01:00</td>\n",
       "      <td>0</td>\n",
       "      <td>False</td>\n",
       "    </tr>\n",
       "  </tbody>\n",
       "</table>\n",
       "</div>"
      ],
      "text/plain": [
       "   timestamps       rms                Date  labels  uncertain\n",
       "0  1570273260  0.662183 2019-10-05 11:01:00       0      False\n",
       "1  1570359660  0.661652 2019-10-06 11:01:00       0      False\n",
       "2  1570446060  0.661923 2019-10-07 11:01:00       0      False\n",
       "3  1570532460  0.661714 2019-10-08 11:01:00       0      False\n",
       "4  1570618860  0.661709 2019-10-09 11:01:00       0      False"
      ]
     },
     "execution_count": 18,
     "metadata": {},
     "output_type": "execute_result"
    }
   ],
   "source": [
    "df_u0001 =  pd.merge_asof(df_rms, df_mode, on=\"timestamps\", by=\"Date\")\n",
    "df_u0001.head()"
   ]
  },
  {
   "cell_type": "markdown",
   "metadata": {
    "pycharm": {
     "name": "#%% md\n"
    }
   },
   "source": [
    "Now, we can proceed to plot the boxplot."
   ]
  },
  {
   "cell_type": "code",
   "execution_count": 19,
   "metadata": {
    "ExecuteTime": {
     "end_time": "2021-03-18T10:22:17.902871Z",
     "start_time": "2021-03-18T10:22:17.815292Z"
    },
    "pycharm": {
     "is_executing": false,
     "name": "#%%\n"
    }
   },
   "outputs": [
    {
     "data": {
      "text/plain": [
       "<matplotlib.axes._subplots.AxesSubplot at 0x2bc6b19f640>"
      ]
     },
     "execution_count": 19,
     "metadata": {},
     "output_type": "execute_result"
    },
    {
     "data": {
      "image/png": "[encoded data removed]",
      "text/plain": [
       "<Figure size 576x216 with 1 Axes>"
      ]
     },
     "metadata": {
      "needs_background": "light"
     },
     "output_type": "display_data"
    }
   ],
   "source": [
    "plotting.modes_boxplot(df_u0001, \"rms\", SOURCE_ID)"
   ]
  },
  {
   "cell_type": "markdown",
   "metadata": {},
   "source": [
    "Here we conclude our brief overview to begin using the MultiViz Vibration Service."
   ]
  }
 ],
 "metadata": {
  "kernelspec": {
   "display_name": "Python 3",
   "language": "python",
   "name": "python3"
  },
  "language_info": {
   "codemirror_mode": {
    "name": "ipython",
    "version": 3
   },
   "file_extension": ".py",
   "mimetype": "text/x-python",
   "name": "python",
   "nbconvert_exporter": "python",
   "pygments_lexer": "ipython3",
   "version": "3.8.2"
  },
  "pycharm": {
   "stem_cell": {
    "cell_type": "raw",
    "metadata": {
     "collapsed": false
    },
    "source": []
   }
  },
  "toc": {
   "base_numbering": 1,
   "nav_menu": {},
   "number_sections": true,
   "sideBar": true,
   "skip_h1_title": false,
   "title_cell": "Table of Contents",
   "title_sidebar": "Contents",
   "toc_cell": false,
   "toc_position": {},
   "toc_section_display": true,
   "toc_window_display": true
  },
  "varInspector": {
   "cols": {
    "lenName": 16,
    "lenType": 16,
    "lenVar": 40
   },
   "kernels_config": {
    "python": {
     "delete_cmd_postfix": "",
     "delete_cmd_prefix": "del ",
     "library": "var_list.py",
     "varRefreshCmd": "print(var_dic_list())"
    },
    "r": {
     "delete_cmd_postfix": ") ",
     "delete_cmd_prefix": "rm(",
     "library": "var_list.r",
     "varRefreshCmd": "cat(var_dic_list()) "
    }
   },
   "types_to_exclude": [
    "module",
    "function",
    "builtin_function_or_method",
    "instance",
    "_Feature"
   ],
   "window_display": false
  }
 },
 "nbformat": 4,
 "nbformat_minor": 1
}

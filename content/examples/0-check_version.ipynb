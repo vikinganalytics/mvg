{
 "cells": [
  {
   "cell_type": "markdown",
   "id": "invalid-silence",
   "metadata": {},
   "source": [
    "# Check Version\n",
    "\n",
    "This script shows how to check for version compatibility with server side"
   ]
  },
  {
   "cell_type": "code",
   "execution_count": 1,
   "id": "great-friday",
   "metadata": {
    "ExecuteTime": {
     "end_time": "2021-03-18T10:13:06.090370Z",
     "start_time": "2021-03-18T10:13:06.057958Z"
    }
   },
   "outputs": [],
   "source": [
    "import sys\n",
    "import logging\n",
    "\n",
    "# import mvg library with python bindings to mvg-API\n",
    "from mvg import MVG"
   ]
  },
  {
   "cell_type": "code",
   "execution_count": 2,
   "id": "nutritional-substance",
   "metadata": {
    "ExecuteTime": {
     "end_time": "2021-03-18T10:13:06.093950Z",
     "start_time": "2021-03-18T10:13:06.091527Z"
    }
   },
   "outputs": [],
   "source": [
    "root_logger = logging.getLogger()\n",
    "root_logger.setLevel(\"INFO\")\n",
    "stream_handler = logging.StreamHandler(stream=sys.stderr)\n",
    "root_logger.addHandler(stream_handler)"
   ]
  },
  {
   "cell_type": "code",
   "execution_count": 3,
   "id": "marine-nurse",
   "metadata": {
    "ExecuteTime": {
     "end_time": "2021-03-18T10:13:06.382877Z",
     "start_time": "2021-03-18T10:13:06.095307Z"
    },
    "tags": [
     "parameters"
    ]
   },
   "outputs": [],
   "source": [
    "TOKEN = \"NO TOKEN\"\n",
    "ENDPOINT = \"https://api.beta.multiviz.com\""
   ]
  },
  {
   "cell_type": "code",
   "execution_count": 4,
   "id": "sexual-joining",
   "metadata": {},
   "outputs": [],
   "source": [
    "session = MVG(ENDPOINT, TOKEN)"
   ]
  },
  {
   "cell_type": "markdown",
   "id": "cheap-tender",
   "metadata": {},
   "source": [
    "It is advised to always check the version of the API against the MVG version.\n",
    "The `check_version` method will return a dictionary with the server API version, the MVG version, and the API version the MVG version it has been tested against.\n",
    "If there is mismatch or incompatibility it will raise an exception and if there is a newer compatible version running on the server it will raise a warning.\n",
    "In the latter case, you should upgrade the MVG version (but you are not required to do so)."
   ]
  },
  {
   "cell_type": "code",
   "execution_count": 5,
   "id": "loved-moment",
   "metadata": {
    "ExecuteTime": {
     "end_time": "2021-03-18T10:13:06.387884Z",
     "start_time": "2021-03-18T10:13:06.384074Z"
    },
    "pycharm": {
     "name": "#%%\n"
    }
   },
   "outputs": [
    {
     "name": "stderr",
     "output_type": "stream",
     "text": [
      "Checking versions for:https://api.beta.multiviz.com\n",
      "mvg version: 0.12.2\n",
      "Highest tested API version: 0.3.2\n"
     ]
    },
    {
     "data": {
      "text/plain": [
       "{'api_version': '0.3.2',\n",
       " 'mvg_highest_tested_version': '0.3.2',\n",
       " 'mvg_version': '0.12.2'}"
      ]
     },
     "execution_count": 5,
     "metadata": {},
     "output_type": "execute_result"
    }
   ],
   "source": [
    "session.check_version()"
   ]
  },
  {
   "cell_type": "code",
   "execution_count": null,
   "id": "ea2d503a",
   "metadata": {
    "collapsed": false,
    "pycharm": {
     "name": "#%%\n"
    }
   },
   "outputs": [],
   "source": []
  }
 ],
 "metadata": {
  "celltoolbar": "Tags",
  "kernelspec": {
   "display_name": "Python 3",
   "language": "python",
   "name": "python3"
  },
  "language_info": {
   "codemirror_mode": {
    "name": "ipython",
    "version": 3
   },
   "file_extension": ".py",
   "mimetype": "text/x-python",
   "name": "python",
   "nbconvert_exporter": "python",
   "pygments_lexer": "ipython3",
   "version": "3.8.10"
  },
  "toc": {
   "base_numbering": 1,
   "nav_menu": {},
   "number_sections": true,
   "sideBar": true,
   "skip_h1_title": false,
   "title_cell": "Table of Contents",
   "title_sidebar": "Contents",
   "toc_cell": false,
   "toc_position": {},
   "toc_section_display": true,
   "toc_window_display": false
  },
  "varInspector": {
   "cols": {
    "lenName": 16,
    "lenType": 16,
    "lenVar": 40
   },
   "kernels_config": {
    "python": {
     "delete_cmd_postfix": "",
     "delete_cmd_prefix": "del ",
     "library": "var_list.py",
     "varRefreshCmd": "print(var_dic_list())"
    },
    "r": {
     "delete_cmd_postfix": ") ",
     "delete_cmd_prefix": "rm(",
     "library": "var_list.r",
     "varRefreshCmd": "cat(var_dic_list()) "
    }
   },
   "types_to_exclude": [
    "module",
    "function",
    "builtin_function_or_method",
    "instance",
    "_Feature"
   ],
   "window_display": false
  }
 },
 "nbformat": 4,
 "nbformat_minor": 5
}

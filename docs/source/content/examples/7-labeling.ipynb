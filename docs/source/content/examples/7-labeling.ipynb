{
 "cells": [
  {
   "cell_type": "markdown",
   "metadata": {},
   "source": [
    "# Labeling of Measurements and Label Propagation\n",
    "\n",
    "MVG comes with a labeling API that allows a user to store important information about a measurement.\n",
    "There are multiple reasons why you would want to label measurements and some of the benefits include:\n",
    "\n",
    "1.  Additional information about modes. For example, a mode with multiple critical measurements is likely a failure mode.\n",
    "2.  Improved mode detection.\n",
    "3.  As personal notes for keeping track of interesting events in the data.\n",
    "\n",
    "In addition, the LabelPropagation feature enables to propagate those labels to the measurements that do not contain any labels.\n",
    "\n",
    "This example will go through what a label is in MVG, how the labeling API functions, and how to utilize the LabelPropagation feature.\n",
    "\n",
    "### Prerequisites\n",
    "\n",
    "To follow this example you need to have:\n",
    "\n",
    "1. Installed `mvg` package\n",
    "2. A token for API access from Viking Analytics\n",
    "3. The database needs to be populated with our example assets. This can be achieved by running the [\"Sources and Measurement\"](2-sources_and_measurements.ipynb) example.\n",
    "4. Use of the LabelPropagation feature requires the results from ModeId. We can use the results available after running the [\"Analysis and Results Visualization\"](6-analysis_visual.ipynb) example."
   ]
  },
  {
   "cell_type": "markdown",
   "metadata": {},
   "source": [
    "### Import the required packages and functions"
   ]
  },
  {
   "cell_type": "code",
   "execution_count": 1,
   "metadata": {
    "pycharm": {
     "name": "#%%\n"
    }
   },
   "outputs": [],
   "source": [
    "import os\n",
    "from mvg import MVG\n",
    "from mvg.analysis_classes import parse_results\n",
    "from mvg.plotting import plot_labels_over_time"
   ]
  },
  {
   "cell_type": "markdown",
   "metadata": {},
   "source": [
    "### Create a session for API access\n",
    "\n",
    ".. note:: Each token is used for Authorization AND Authentication. Thus, each unique token represents a unique user, each user has it own, unique database on the VA-MVG' service.\n",
    "\n",
    "**You need to insert your token received from Viking Analytics here:**\n",
    "Just replace `\"os.environ['TEST_TOKEN']\"` by your token as a string."
   ]
  },
  {
   "cell_type": "code",
   "execution_count": 2,
   "metadata": {
    "tags": [
     "parameters"
    ]
   },
   "outputs": [],
   "source": [
    "TOKEN = os.environ[\"TEST_TOKEN\"]\n",
    "ENDPOINT = \"https://api.beta.multiviz.com\""
   ]
  },
  {
   "cell_type": "code",
   "execution_count": 3,
   "metadata": {},
   "outputs": [
    {
     "data": {
      "text/plain": [
       "{'api_version': '0.4.0',\n",
       " 'mvg_highest_tested_version': '0.4.0',\n",
       " 'mvg_version': '0.13.0'}"
      ]
     },
     "execution_count": 3,
     "metadata": {},
     "output_type": "execute_result"
    }
   ],
   "source": [
    "session = MVG(ENDPOINT, TOKEN)\n",
    "session.check_version()"
   ]
  },
  {
   "cell_type": "markdown",
   "metadata": {},
   "source": [
    "## Retrieve ModeId results\n",
    "\n",
    "Once the API session is live, we start by checking if the source `u0001` we will use is available in the database."
   ]
  },
  {
   "cell_type": "code",
   "execution_count": 4,
   "metadata": {
    "pycharm": {
     "name": "#%%\n"
    }
   },
   "outputs": [
    {
     "data": {
      "text/plain": [
       "{'source_id': 'u0001',\n",
       " 'meta': {'assetId': 'assetA',\n",
       "  'measPoint': 'mloc01',\n",
       "  'location': 'paris',\n",
       "  'updated': 'YES! I have been updated'},\n",
       " 'properties': {'data_class': 'waveform', 'channels': ['acc']}}"
      ]
     },
     "execution_count": 4,
     "metadata": {},
     "output_type": "execute_result"
    }
   ],
   "source": [
    "SOURCE_ID = \"u0001\"\n",
    "session.get_source(SOURCE_ID)"
   ]
  },
  {
   "cell_type": "markdown",
   "metadata": {},
   "source": [
    "Now that we know that the source exists we need to check its measurements to know which ones to label.\n",
    "\n",
    "In this example, the ModeId results are used to select the measurements to label and to compare with the results from the LabelPropagation feature.\n",
    "The ModeId results are NOT needed to add a label to the measurements."
   ]
  },
  {
   "cell_type": "code",
   "execution_count": 5,
   "metadata": {
    "pycharm": {
     "name": "#%%\n"
    }
   },
   "outputs": [
    {
     "data": {
      "text/html": [
       "<div>\n",
       "<style scoped>\n",
       "    .dataframe tbody tr th:only-of-type {\n",
       "        vertical-align: middle;\n",
       "    }\n",
       "\n",
       "    .dataframe tbody tr th {\n",
       "        vertical-align: top;\n",
       "    }\n",
       "\n",
       "    .dataframe thead th {\n",
       "        text-align: right;\n",
       "    }\n",
       "</style>\n",
       "<table border=\"1\" class=\"dataframe\">\n",
       "  <thead>\n",
       "    <tr style=\"text-align: right;\">\n",
       "      <th></th>\n",
       "      <th>datetime</th>\n",
       "      <th>timestamps</th>\n",
       "      <th>labels</th>\n",
       "      <th>uncertain</th>\n",
       "      <th>mode_probability</th>\n",
       "    </tr>\n",
       "  </thead>\n",
       "  <tbody>\n",
       "    <tr>\n",
       "      <th>0</th>\n",
       "      <td>2019-10-05 13:01:00+02:00</td>\n",
       "      <td>1570273260</td>\n",
       "      <td>0</td>\n",
       "      <td>False</td>\n",
       "      <td>0.966994</td>\n",
       "    </tr>\n",
       "    <tr>\n",
       "      <th>1</th>\n",
       "      <td>2019-10-06 13:01:00+02:00</td>\n",
       "      <td>1570359660</td>\n",
       "      <td>0</td>\n",
       "      <td>False</td>\n",
       "      <td>0.931219</td>\n",
       "    </tr>\n",
       "    <tr>\n",
       "      <th>2</th>\n",
       "      <td>2019-10-07 13:01:00+02:00</td>\n",
       "      <td>1570446060</td>\n",
       "      <td>0</td>\n",
       "      <td>False</td>\n",
       "      <td>0.999575</td>\n",
       "    </tr>\n",
       "    <tr>\n",
       "      <th>3</th>\n",
       "      <td>2019-10-08 13:01:00+02:00</td>\n",
       "      <td>1570532460</td>\n",
       "      <td>0</td>\n",
       "      <td>False</td>\n",
       "      <td>0.979806</td>\n",
       "    </tr>\n",
       "    <tr>\n",
       "      <th>4</th>\n",
       "      <td>2019-10-09 13:01:00+02:00</td>\n",
       "      <td>1570618860</td>\n",
       "      <td>0</td>\n",
       "      <td>False</td>\n",
       "      <td>0.885940</td>\n",
       "    </tr>\n",
       "  </tbody>\n",
       "</table>\n",
       "</div>"
      ],
      "text/plain": [
       "                   datetime  timestamps  labels  uncertain  mode_probability\n",
       "0 2019-10-05 13:01:00+02:00  1570273260       0      False          0.966994\n",
       "1 2019-10-06 13:01:00+02:00  1570359660       0      False          0.931219\n",
       "2 2019-10-07 13:01:00+02:00  1570446060       0      False          0.999575\n",
       "3 2019-10-08 13:01:00+02:00  1570532460       0      False          0.979806\n",
       "4 2019-10-09 13:01:00+02:00  1570618860       0      False          0.885940"
      ]
     },
     "execution_count": 5,
     "metadata": {},
     "output_type": "execute_result"
    }
   ],
   "source": [
    "ModeId_request_id = session.list_analyses(sid=SOURCE_ID, feature=\"ModeId\")[-1]\n",
    "raw_result = session.get_analysis_results(ModeId_request_id)\n",
    "result = parse_results(raw_result, \"Europe/Stockholm\", \"s\")\n",
    "u0001_df = result.to_df()\n",
    "u0001_df.head()"
   ]
  },
  {
   "cell_type": "code",
   "execution_count": 6,
   "metadata": {
    "pycharm": {
     "name": "#%%\n"
    }
   },
   "outputs": [
    {
     "data": {
      "image/png": "[encoded data removed]",
      "text/plain": [
       "<Figure size 720x216 with 1 Axes>"
      ]
     },
     "metadata": {
      "needs_background": "light"
     },
     "output_type": "display_data"
    },
    {
     "data": {
      "text/plain": [
       "''"
      ]
     },
     "execution_count": 6,
     "metadata": {},
     "output_type": "execute_result"
    }
   ],
   "source": [
    "result.plot()\n"
   ]
  },
  {
   "cell_type": "markdown",
   "metadata": {},
   "source": [
    "## Adding labels\n",
    "\n",
    "A label in MVG relates to a specific measurement, which are identifiable by the source ID and the timestamp.\n",
    "Each measurement can only have one label.\n",
    "The label itself has three components:\n",
    "\n",
    "1. A label identification string\n",
    "2. A severity level number\n",
    "3. Notes\n",
    "\n",
    ".. note:: The label identification string is unique for each label and is case and spelling sensitive, i.e. `\"failure\"` and `\"Failure\"` are not interpreted as the same label. The severity level is an integer where a larger number indicates a more severe problem. They do not need to be the same for different instances of the same label. The notes exist for the end user to add extra information to a certain label and is not used by MVG in any way."
   ]
  },
  {
   "cell_type": "markdown",
   "metadata": {},
   "source": [
    "For this example, let us say that there was a bearing failure of the machine in the first measurement of the source, so we will add a label to the afflicted measurements. To do so, we use the `MVG.create_label()` method."
   ]
  },
  {
   "cell_type": "code",
   "execution_count": 7,
   "metadata": {},
   "outputs": [],
   "source": [
    "first_measurement = 1570273260\n",
    "session.create_label(\n",
    "    sid=SOURCE_ID,\n",
    "    timestamp=1570273260,\n",
    "    label=\"bearing_failure\",\n",
    "    severity=3,\n",
    "    notes=\"Imaginary bearing failure\"\n",
    ")"
   ]
  },
  {
   "cell_type": "markdown",
   "metadata": {
    "pycharm": {
     "name": "#%% md\n"
    }
   },
   "source": [
    "We just added one label to one of the measurements of the source.\n",
    "However, just one label for the entire source might not be enough especially if the modeId results show more than one mode.\n",
    "Therefore, it might be a good idea to add more labels.\n",
    "Thus, we proceed to attach a label to the top 3 measurements with the largest mode probability of mode from the ModeId feature results.\n",
    "First, we create a dataframe to identify these measurements."
   ]
  },
  {
   "cell_type": "code",
   "execution_count": 8,
   "metadata": {
    "pycharm": {
     "name": "#%%\n"
    }
   },
   "outputs": [
    {
     "data": {
      "text/html": [
       "<div>\n",
       "<style scoped>\n",
       "    .dataframe tbody tr th:only-of-type {\n",
       "        vertical-align: middle;\n",
       "    }\n",
       "\n",
       "    .dataframe tbody tr th {\n",
       "        vertical-align: top;\n",
       "    }\n",
       "\n",
       "    .dataframe thead th {\n",
       "        text-align: right;\n",
       "    }\n",
       "</style>\n",
       "<table border=\"1\" class=\"dataframe\">\n",
       "  <thead>\n",
       "    <tr style=\"text-align: right;\">\n",
       "      <th></th>\n",
       "      <th>datetime</th>\n",
       "      <th>timestamps</th>\n",
       "      <th>labels</th>\n",
       "      <th>uncertain</th>\n",
       "      <th>mode_probability</th>\n",
       "    </tr>\n",
       "  </thead>\n",
       "  <tbody>\n",
       "    <tr>\n",
       "      <th>2</th>\n",
       "      <td>2019-10-07 13:01:00+02:00</td>\n",
       "      <td>1570446060</td>\n",
       "      <td>0</td>\n",
       "      <td>False</td>\n",
       "      <td>0.999575</td>\n",
       "    </tr>\n",
       "    <tr>\n",
       "      <th>7</th>\n",
       "      <td>2019-10-12 13:01:00+02:00</td>\n",
       "      <td>1570878060</td>\n",
       "      <td>0</td>\n",
       "      <td>False</td>\n",
       "      <td>0.996115</td>\n",
       "    </tr>\n",
       "    <tr>\n",
       "      <th>8</th>\n",
       "      <td>2019-10-13 13:01:00+02:00</td>\n",
       "      <td>1570964460</td>\n",
       "      <td>0</td>\n",
       "      <td>False</td>\n",
       "      <td>0.980702</td>\n",
       "    </tr>\n",
       "    <tr>\n",
       "      <th>17</th>\n",
       "      <td>2019-10-22 13:01:00+02:00</td>\n",
       "      <td>1571742060</td>\n",
       "      <td>1</td>\n",
       "      <td>False</td>\n",
       "      <td>0.996703</td>\n",
       "    </tr>\n",
       "    <tr>\n",
       "      <th>22</th>\n",
       "      <td>2019-10-27 13:01:00+01:00</td>\n",
       "      <td>1572177660</td>\n",
       "      <td>1</td>\n",
       "      <td>False</td>\n",
       "      <td>0.996604</td>\n",
       "    </tr>\n",
       "    <tr>\n",
       "      <th>23</th>\n",
       "      <td>2019-10-28 13:01:00+01:00</td>\n",
       "      <td>1572264060</td>\n",
       "      <td>1</td>\n",
       "      <td>False</td>\n",
       "      <td>0.996323</td>\n",
       "    </tr>\n",
       "    <tr>\n",
       "      <th>32</th>\n",
       "      <td>2019-11-06 13:01:00+01:00</td>\n",
       "      <td>1573041660</td>\n",
       "      <td>2</td>\n",
       "      <td>False</td>\n",
       "      <td>0.999899</td>\n",
       "    </tr>\n",
       "    <tr>\n",
       "      <th>36</th>\n",
       "      <td>2019-11-10 13:01:00+01:00</td>\n",
       "      <td>1573387260</td>\n",
       "      <td>2</td>\n",
       "      <td>False</td>\n",
       "      <td>0.999897</td>\n",
       "    </tr>\n",
       "    <tr>\n",
       "      <th>39</th>\n",
       "      <td>2019-11-13 13:01:00+01:00</td>\n",
       "      <td>1573646460</td>\n",
       "      <td>2</td>\n",
       "      <td>False</td>\n",
       "      <td>0.999187</td>\n",
       "    </tr>\n",
       "  </tbody>\n",
       "</table>\n",
       "</div>"
      ],
      "text/plain": [
       "                    datetime  timestamps  labels  uncertain  mode_probability\n",
       "2  2019-10-07 13:01:00+02:00  1570446060       0      False          0.999575\n",
       "7  2019-10-12 13:01:00+02:00  1570878060       0      False          0.996115\n",
       "8  2019-10-13 13:01:00+02:00  1570964460       0      False          0.980702\n",
       "17 2019-10-22 13:01:00+02:00  1571742060       1      False          0.996703\n",
       "22 2019-10-27 13:01:00+01:00  1572177660       1      False          0.996604\n",
       "23 2019-10-28 13:01:00+01:00  1572264060       1      False          0.996323\n",
       "32 2019-11-06 13:01:00+01:00  1573041660       2      False          0.999899\n",
       "36 2019-11-10 13:01:00+01:00  1573387260       2      False          0.999897\n",
       "39 2019-11-13 13:01:00+01:00  1573646460       2      False          0.999187"
      ]
     },
     "execution_count": 8,
     "metadata": {},
     "output_type": "execute_result"
    }
   ],
   "source": [
    "Top3meas_df = u0001_df[u0001_df.groupby('labels')['mode_probability'].rank(method='dense', ascending=False) <= 3]\n",
    "Top3meas_df"
   ]
  },
  {
   "cell_type": "markdown",
   "metadata": {
    "pycharm": {
     "name": "#%% md\n"
    }
   },
   "source": [
    "There are three modes on the ModeId results.\n",
    "We will label measurements from mode 0 as \"Healthy\", measurements from mode 1 as \"Transition\", measurements from mode 2 as \"Faulty\"."
   ]
  },
  {
   "cell_type": "code",
   "execution_count": 9,
   "metadata": {
    "pycharm": {
     "name": "#%%\n"
    }
   },
   "outputs": [],
   "source": [
    "modes = Top3meas_df['labels'].unique()\n",
    "mode_dfs = {mode: Top3meas_df[Top3meas_df['labels'] == mode] for mode in modes}\n",
    "\n",
    "for mode in mode_dfs:\n",
    "    if mode == 0:\n",
    "        label_to_add = \"Healthy\"\n",
    "    elif mode == 1:\n",
    "        label_to_add = \"Transition\"\n",
    "    else:\n",
    "        label_to_add = \"Faulty\"\n",
    "    case_df = mode_dfs[mode]\n",
    "\n",
    "    for index, row in case_df.iterrows():\n",
    "        session.create_label(\n",
    "            sid=SOURCE_ID,\n",
    "            timestamp=row['timestamps'],\n",
    "            label=label_to_add,\n",
    "            severity=int(mode)+1,\n",
    "            notes=\"This is a demo.\"\n",
    "        )\n"
   ]
  },
  {
   "cell_type": "markdown",
   "metadata": {},
   "source": [
    "### Reading Labels\n",
    "\n",
    "To get a list of all the labels for a source we use the `MVG.list_labels()` method."
   ]
  },
  {
   "cell_type": "code",
   "execution_count": 10,
   "metadata": {},
   "outputs": [
    {
     "data": {
      "text/plain": [
       "{'timestamp': [1570273260,\n",
       "  1570446060,\n",
       "  1570878060,\n",
       "  1570964460,\n",
       "  1571742060,\n",
       "  1572177660,\n",
       "  1572264060,\n",
       "  1573041660,\n",
       "  1573387260,\n",
       "  1573646460],\n",
       " 'label': ['bearing_failure',\n",
       "  'Healthy',\n",
       "  'Healthy',\n",
       "  'Healthy',\n",
       "  'Transition',\n",
       "  'Transition',\n",
       "  'Transition',\n",
       "  'Faulty',\n",
       "  'Faulty',\n",
       "  'Faulty'],\n",
       " 'severity': [3, 1, 1, 1, 2, 2, 2, 3, 3, 3],\n",
       " 'notes': ['Imaginary bearing failure',\n",
       "  'This is a demo.',\n",
       "  'This is a demo.',\n",
       "  'This is a demo.',\n",
       "  'This is a demo.',\n",
       "  'This is a demo.',\n",
       "  'This is a demo.',\n",
       "  'This is a demo.',\n",
       "  'This is a demo.',\n",
       "  'This is a demo.'],\n",
       " 'label_timestamp': ['2022-05-10 10:15:56',\n",
       "  '2022-05-10 10:15:56',\n",
       "  '2022-05-10 10:15:56',\n",
       "  '2022-05-10 10:15:56',\n",
       "  '2022-05-10 10:15:56',\n",
       "  '2022-05-10 10:15:57',\n",
       "  '2022-05-10 10:15:57',\n",
       "  '2022-05-10 10:15:57',\n",
       "  '2022-05-10 10:15:57',\n",
       "  '2022-05-10 10:15:57']}"
      ]
     },
     "execution_count": 10,
     "metadata": {},
     "output_type": "execute_result"
    }
   ],
   "source": [
    "session.list_labels(SOURCE_ID)"
   ]
  },
  {
   "cell_type": "markdown",
   "metadata": {},
   "source": [
    "As you can see, the measurements that we just added labels show up.\n",
    "To inspect the label of a specific measurement we use `MVG.get_label()`"
   ]
  },
  {
   "cell_type": "code",
   "execution_count": 11,
   "metadata": {},
   "outputs": [
    {
     "data": {
      "text/plain": [
       "{'label': 'bearing_failure',\n",
       " 'severity': 3,\n",
       " 'notes': 'Imaginary bearing failure',\n",
       " 'label_timestamp': '2022-05-10 10:15:56'}"
      ]
     },
     "execution_count": 11,
     "metadata": {},
     "output_type": "execute_result"
    }
   ],
   "source": [
    "session.get_label(SOURCE_ID, first_measurement)"
   ]
  },
  {
   "cell_type": "markdown",
   "metadata": {},
   "source": [
    "### Updating labels\n",
    "\n",
    "Now we realize that the label we had in the first measurement correspond to mode 0 and the label that we originally added is incorrect.\n",
    "Then we use the `session.update_label()` method to change the label."
   ]
  },
  {
   "cell_type": "code",
   "execution_count": 12,
   "metadata": {},
   "outputs": [
    {
     "data": {
      "text/plain": [
       "{'timestamp': [1570273260,\n",
       "  1570446060,\n",
       "  1570878060,\n",
       "  1570964460,\n",
       "  1571742060,\n",
       "  1572177660,\n",
       "  1572264060,\n",
       "  1573041660,\n",
       "  1573387260,\n",
       "  1573646460],\n",
       " 'label': ['healthy',\n",
       "  'Healthy',\n",
       "  'Healthy',\n",
       "  'Healthy',\n",
       "  'Transition',\n",
       "  'Transition',\n",
       "  'Transition',\n",
       "  'Faulty',\n",
       "  'Faulty',\n",
       "  'Faulty'],\n",
       " 'severity': [0, 1, 1, 1, 2, 2, 2, 3, 3, 3],\n",
       " 'notes': ['This was an OK measurement',\n",
       "  'This is a demo.',\n",
       "  'This is a demo.',\n",
       "  'This is a demo.',\n",
       "  'This is a demo.',\n",
       "  'This is a demo.',\n",
       "  'This is a demo.',\n",
       "  'This is a demo.',\n",
       "  'This is a demo.',\n",
       "  'This is a demo.'],\n",
       " 'label_timestamp': ['2022-05-10 10:15:56',\n",
       "  '2022-05-10 10:15:56',\n",
       "  '2022-05-10 10:15:56',\n",
       "  '2022-05-10 10:15:56',\n",
       "  '2022-05-10 10:15:56',\n",
       "  '2022-05-10 10:15:57',\n",
       "  '2022-05-10 10:15:57',\n",
       "  '2022-05-10 10:15:57',\n",
       "  '2022-05-10 10:15:57',\n",
       "  '2022-05-10 10:15:57']}"
      ]
     },
     "execution_count": 12,
     "metadata": {},
     "output_type": "execute_result"
    }
   ],
   "source": [
    "session.update_label(\n",
    "    sid=SOURCE_ID,\n",
    "    timestamp=first_measurement,\n",
    "    label=\"healthy\",\n",
    "    severity=0,\n",
    "    notes=\"This was an OK measurement\"\n",
    ")\n",
    "\n",
    "# List the labels again\n",
    "labels = session.list_labels(SOURCE_ID)\n",
    "labels"
   ]
  },
  {
   "cell_type": "markdown",
   "metadata": {},
   "source": [
    "### Plotting labels\n",
    "\n",
    "To get an overview of the data and labels it can be very good to plot the labels over time.\n",
    "The `plotting` module of `mvg` contains the function `plot_labels_over_time` that does just that.\n",
    "The plot is very similar to that of the ModeId plots, so it is easy to compare results.\n",
    "We can add the `include_unlabeled=True` keyword to plot the unlabeled measurements as well.\n",
    "Please note how \"healthy\" and \"Healthy\" was interpreted as two different labels."
   ]
  },
  {
   "cell_type": "code",
   "execution_count": 13,
   "metadata": {},
   "outputs": [
    {
     "data": {
      "text/plain": [
       "[]"
      ]
     },
     "execution_count": 13,
     "metadata": {},
     "output_type": "execute_result"
    },
    {
     "data": {
      "image/png": "[encoded data removed]",
      "text/plain": [
       "<Figure size 720x216 with 1 Axes>"
      ]
     },
     "metadata": {
      "needs_background": "light"
     },
     "output_type": "display_data"
    }
   ],
   "source": [
    "labels = session.list_labels(SOURCE_ID, include_unlabeled=True)\n",
    "plot_labels_over_time(labels, SOURCE_ID, timeunit=\"s\")"
   ]
  },
  {
   "cell_type": "markdown",
   "metadata": {},
   "source": [
    "As you can see we only labeled a small subset of the data.\n",
    "The idea is not to label all the measurements, but to label a part and then use that information to make inference about the unlabeled measurements."
   ]
  },
  {
   "cell_type": "markdown",
   "metadata": {},
   "source": [
    "### Deleting labels\n",
    "\n",
    "Now, we check the total number of existing labels in our source."
   ]
  },
  {
   "cell_type": "code",
   "execution_count": 14,
   "metadata": {},
   "outputs": [
    {
     "name": "stdout",
     "output_type": "stream",
     "text": [
      "Currently, there are 5 labels\n"
     ]
    }
   ],
   "source": [
    "labels = session.list_labels(SOURCE_ID)\n",
    "print(f\"Currently, there are {len(labels)} labels\")"
   ]
  },
  {
   "cell_type": "markdown",
   "metadata": {
    "pycharm": {
     "name": "#%% md\n"
    }
   },
   "source": [
    "To delete labels we use the `MVG.delete_label()` method.\n",
    "Let's use that to remove the label from the first measurement and keep only three labels per mode."
   ]
  },
  {
   "cell_type": "code",
   "execution_count": 15,
   "metadata": {
    "pycharm": {
     "name": "#%%\n"
    }
   },
   "outputs": [],
   "source": [
    "session.delete_label(SOURCE_ID, first_measurement)"
   ]
  },
  {
   "cell_type": "code",
   "execution_count": 16,
   "metadata": {
    "pycharm": {
     "name": "#%%\n"
    }
   },
   "outputs": [
    {
     "name": "stdout",
     "output_type": "stream",
     "text": [
      "Currently, there are 5 labels\n"
     ]
    }
   ],
   "source": [
    "labels = session.list_labels(SOURCE_ID)\n",
    "print(f\"Currently, there are {len(labels)} labels\")"
   ]
  },
  {
   "cell_type": "markdown",
   "metadata": {
    "pycharm": {
     "name": "#%% md\n"
    }
   },
   "source": [
    "## Label Propagation\n",
    "\n",
    "Until this point, we had added labels to some of our measurements but we might be interested on adding the labels to the rest of the measurements.\n",
    "We use the [\"LabelPropagation\"](../features/label_propagation.md) feature to achieve this.\n",
    "\n",
    "The `LabelPropagation` feature uses the results from the ModeId feature to propagate the labels.\n",
    "However, the labels are attached to each measurement individually and not to the modes as a whole.\n",
    "\n",
    "To use the `LabelPropagation` feature, we need to know which source is to be used and the `request_id` that holds the results of the ModeId feature.\n",
    "Then, we can request the analysis.\n"
   ]
  },
  {
   "cell_type": "code",
   "execution_count": 17,
   "metadata": {
    "pycharm": {
     "name": "#%%\n"
    }
   },
   "outputs": [
    {
     "data": {
      "text/plain": [
       "{'request_id': 'e28ef3d9560bb88b5b70db685b8b8d8b', 'request_status': 'queued'}"
      ]
     },
     "execution_count": 17,
     "metadata": {},
     "output_type": "execute_result"
    }
   ],
   "source": [
    "params = {\"model_ref\": ModeId_request_id}\n",
    "labelProp_u0001 = session.request_analysis(SOURCE_ID, \"LabelPropagation\", params)\n",
    "labelProp_request_id = labelProp_u0001[\"request_id\"]\n",
    "labelProp_u0001"
   ]
  },
  {
   "cell_type": "markdown",
   "metadata": {
    "pycharm": {
     "name": "#%% md\n"
    }
   },
   "source": [
    "We check the status of the analysis to ensure the analysis is finished."
   ]
  },
  {
   "cell_type": "code",
   "execution_count": 18,
   "metadata": {
    "pycharm": {
     "name": "#%%\n"
    }
   },
   "outputs": [
    {
     "data": {
      "text/plain": [
       "'successful'"
      ]
     },
     "execution_count": 18,
     "metadata": {},
     "output_type": "execute_result"
    }
   ],
   "source": [
    "session.wait_for_analyses([labelProp_request_id])\n",
    "out_status =  session.get_analysis_status(labelProp_request_id)\n",
    "out_status"
   ]
  },
  {
   "cell_type": "markdown",
   "metadata": {
    "pycharm": {
     "name": "#%% md\n"
    }
   },
   "source": [
    "Before we are able to get the analysis results, we need to wait until those analyses are successfully completed.\n",
    "Once the analysis is complete, one gets the results by calling the corresponding “request_id” for the LabelPropagation analysis.\n",
    "The raw results can be retrieved by calling the `get_analysis_results` function."
   ]
  },
  {
   "cell_type": "code",
   "execution_count": 19,
   "metadata": {
    "pycharm": {
     "name": "#%%\n"
    }
   },
   "outputs": [
    {
     "data": {
      "text/plain": [
       "dict_keys(['status', 'request_id', 'feature', 'results', 'inputs', 'error_info', 'debug_info'])"
      ]
     },
     "execution_count": 19,
     "metadata": {},
     "output_type": "execute_result"
    }
   ],
   "source": [
    "labelprop_output = session.get_analysis_results(request_id=labelProp_request_id)\n",
    "labelprop_output.keys()"
   ]
  },
  {
   "cell_type": "markdown",
   "metadata": {
    "pycharm": {
     "name": "#%% md\n"
    }
   },
   "source": [
    "The output is a dictionary that contains seven key elements.\n",
    "These elements are:\n",
    "\n",
    "* `\"status\"` indicates if the analysis was successful.\n",
    "\n",
    "* `\"request_id\"` is the identifier of the requested analysis.\n",
    "\n",
    "* `\"feature\"` is the name of the request feature.\n",
    "\n",
    "* `\"results\"` includes the numeric results.\n",
    "\n",
    "* `\"inputs\"` includes the input information for the request analysis.\n",
    "\n",
    "* `\"error_info\"` includes the error information in case the analysis fails and it is empty if the analysis is successful.\n",
    "\n",
    "* `\"debug_info\"` includes debugging (log) information related to the failed analysis."
   ]
  },
  {
   "cell_type": "markdown",
   "metadata": {},
   "source": [
    "To make the results more accessible, we’ll use the analysis_classes.\n",
    "The `parse_results` function will take the raw_results of (any) analysis and represent them in a python object with a number of convenience methods for plotting and exporting.\n",
    "The parse function will automatically determine the kind (feature) of analysis based on the raw_results and based on the defined timezone convert the epoch into actual dates."
   ]
  },
  {
   "cell_type": "code",
   "execution_count": 20,
   "metadata": {
    "pycharm": {
     "name": "#%%\n"
    }
   },
   "outputs": [],
   "source": [
    "labelprop_results = parse_results(labelprop_output, \"Europe/Stockholm\", \"s\")\n"
   ]
  },
  {
   "cell_type": "markdown",
   "metadata": {
    "pycharm": {
     "name": "#%% md\n"
    }
   },
   "source": [
    "Once we had parsed the results, we can export them to a dataframe for ease of manipulation"
   ]
  },
  {
   "cell_type": "code",
   "execution_count": 21,
   "metadata": {
    "pycharm": {
     "name": "#%%\n"
    }
   },
   "outputs": [
    {
     "data": {
      "text/html": [
       "<div>\n",
       "<style scoped>\n",
       "    .dataframe tbody tr th:only-of-type {\n",
       "        vertical-align: middle;\n",
       "    }\n",
       "\n",
       "    .dataframe tbody tr th {\n",
       "        vertical-align: top;\n",
       "    }\n",
       "\n",
       "    .dataframe thead th {\n",
       "        text-align: right;\n",
       "    }\n",
       "</style>\n",
       "<table border=\"1\" class=\"dataframe\">\n",
       "  <thead>\n",
       "    <tr style=\"text-align: right;\">\n",
       "      <th></th>\n",
       "      <th>label</th>\n",
       "      <th>severity</th>\n",
       "      <th>notes</th>\n",
       "      <th>label_timestamp</th>\n",
       "      <th>datetime</th>\n",
       "      <th>timestamp</th>\n",
       "      <th>certainty_level</th>\n",
       "    </tr>\n",
       "  </thead>\n",
       "  <tbody>\n",
       "    <tr>\n",
       "      <th>0</th>\n",
       "      <td>Healthy</td>\n",
       "      <td>-1</td>\n",
       "      <td>Added by label propagation</td>\n",
       "      <td>2022-05-10 10:16:12</td>\n",
       "      <td>2019-10-05 13:01:00+02:00</td>\n",
       "      <td>1570273260</td>\n",
       "      <td>1.0</td>\n",
       "    </tr>\n",
       "    <tr>\n",
       "      <th>1</th>\n",
       "      <td>Healthy</td>\n",
       "      <td>-1</td>\n",
       "      <td>Added by label propagation</td>\n",
       "      <td>2022-05-10 10:16:12</td>\n",
       "      <td>2019-10-06 13:01:00+02:00</td>\n",
       "      <td>1570359660</td>\n",
       "      <td>1.0</td>\n",
       "    </tr>\n",
       "    <tr>\n",
       "      <th>2</th>\n",
       "      <td>Healthy</td>\n",
       "      <td>1</td>\n",
       "      <td>This is a demo.</td>\n",
       "      <td>2022-05-10 10:15:56</td>\n",
       "      <td>2019-10-07 13:01:00+02:00</td>\n",
       "      <td>1570446060</td>\n",
       "      <td>1.0</td>\n",
       "    </tr>\n",
       "    <tr>\n",
       "      <th>3</th>\n",
       "      <td>Healthy</td>\n",
       "      <td>-1</td>\n",
       "      <td>Added by label propagation</td>\n",
       "      <td>2022-05-10 10:16:12</td>\n",
       "      <td>2019-10-08 13:01:00+02:00</td>\n",
       "      <td>1570532460</td>\n",
       "      <td>1.0</td>\n",
       "    </tr>\n",
       "    <tr>\n",
       "      <th>4</th>\n",
       "      <td>Healthy</td>\n",
       "      <td>-1</td>\n",
       "      <td>Added by label propagation</td>\n",
       "      <td>2022-05-10 10:16:12</td>\n",
       "      <td>2019-10-09 13:01:00+02:00</td>\n",
       "      <td>1570618860</td>\n",
       "      <td>1.0</td>\n",
       "    </tr>\n",
       "    <tr>\n",
       "      <th>5</th>\n",
       "      <td>Healthy</td>\n",
       "      <td>-1</td>\n",
       "      <td>Added by label propagation</td>\n",
       "      <td>2022-05-10 10:16:12</td>\n",
       "      <td>2019-10-10 13:01:00+02:00</td>\n",
       "      <td>1570705260</td>\n",
       "      <td>1.0</td>\n",
       "    </tr>\n",
       "    <tr>\n",
       "      <th>6</th>\n",
       "      <td>Healthy</td>\n",
       "      <td>-1</td>\n",
       "      <td>Added by label propagation</td>\n",
       "      <td>2022-05-10 10:16:12</td>\n",
       "      <td>2019-10-11 13:01:00+02:00</td>\n",
       "      <td>1570791660</td>\n",
       "      <td>1.0</td>\n",
       "    </tr>\n",
       "    <tr>\n",
       "      <th>7</th>\n",
       "      <td>Healthy</td>\n",
       "      <td>1</td>\n",
       "      <td>This is a demo.</td>\n",
       "      <td>2022-05-10 10:15:56</td>\n",
       "      <td>2019-10-12 13:01:00+02:00</td>\n",
       "      <td>1570878060</td>\n",
       "      <td>1.0</td>\n",
       "    </tr>\n",
       "    <tr>\n",
       "      <th>8</th>\n",
       "      <td>Healthy</td>\n",
       "      <td>1</td>\n",
       "      <td>This is a demo.</td>\n",
       "      <td>2022-05-10 10:15:56</td>\n",
       "      <td>2019-10-13 13:01:00+02:00</td>\n",
       "      <td>1570964460</td>\n",
       "      <td>1.0</td>\n",
       "    </tr>\n",
       "    <tr>\n",
       "      <th>9</th>\n",
       "      <td>Healthy</td>\n",
       "      <td>-1</td>\n",
       "      <td>Added by label propagation</td>\n",
       "      <td>2022-05-10 10:16:12</td>\n",
       "      <td>2019-10-14 13:01:00+02:00</td>\n",
       "      <td>1571050860</td>\n",
       "      <td>1.0</td>\n",
       "    </tr>\n",
       "    <tr>\n",
       "      <th>10</th>\n",
       "      <td>Healthy</td>\n",
       "      <td>-1</td>\n",
       "      <td>Added by label propagation</td>\n",
       "      <td>2022-05-10 10:16:12</td>\n",
       "      <td>2019-10-15 13:01:00+02:00</td>\n",
       "      <td>1571137260</td>\n",
       "      <td>1.0</td>\n",
       "    </tr>\n",
       "    <tr>\n",
       "      <th>11</th>\n",
       "      <td>Healthy</td>\n",
       "      <td>-1</td>\n",
       "      <td>Added by label propagation</td>\n",
       "      <td>2022-05-10 10:16:12</td>\n",
       "      <td>2019-10-16 13:01:00+02:00</td>\n",
       "      <td>1571223660</td>\n",
       "      <td>1.0</td>\n",
       "    </tr>\n",
       "    <tr>\n",
       "      <th>12</th>\n",
       "      <td>Healthy</td>\n",
       "      <td>-1</td>\n",
       "      <td>Added by label propagation</td>\n",
       "      <td>2022-05-10 10:16:12</td>\n",
       "      <td>2019-10-17 13:01:00+02:00</td>\n",
       "      <td>1571310060</td>\n",
       "      <td>1.0</td>\n",
       "    </tr>\n",
       "    <tr>\n",
       "      <th>13</th>\n",
       "      <td>Healthy</td>\n",
       "      <td>-1</td>\n",
       "      <td>Added by label propagation</td>\n",
       "      <td>2022-05-10 10:16:12</td>\n",
       "      <td>2019-10-18 13:01:00+02:00</td>\n",
       "      <td>1571396460</td>\n",
       "      <td>1.0</td>\n",
       "    </tr>\n",
       "    <tr>\n",
       "      <th>14</th>\n",
       "      <td>Healthy</td>\n",
       "      <td>-1</td>\n",
       "      <td>Added by label propagation</td>\n",
       "      <td>2022-05-10 10:16:12</td>\n",
       "      <td>2019-10-19 13:01:00+02:00</td>\n",
       "      <td>1571482860</td>\n",
       "      <td>1.0</td>\n",
       "    </tr>\n",
       "    <tr>\n",
       "      <th>15</th>\n",
       "      <td>Healthy</td>\n",
       "      <td>-1</td>\n",
       "      <td>Added by label propagation</td>\n",
       "      <td>2022-05-10 10:16:12</td>\n",
       "      <td>2019-10-20 13:01:00+02:00</td>\n",
       "      <td>1571569260</td>\n",
       "      <td>1.0</td>\n",
       "    </tr>\n",
       "    <tr>\n",
       "      <th>16</th>\n",
       "      <td>Transition</td>\n",
       "      <td>-1</td>\n",
       "      <td>Added by label propagation</td>\n",
       "      <td>2022-05-10 10:16:12</td>\n",
       "      <td>2019-10-21 13:01:00+02:00</td>\n",
       "      <td>1571655660</td>\n",
       "      <td>1.0</td>\n",
       "    </tr>\n",
       "    <tr>\n",
       "      <th>17</th>\n",
       "      <td>Transition</td>\n",
       "      <td>2</td>\n",
       "      <td>This is a demo.</td>\n",
       "      <td>2022-05-10 10:15:56</td>\n",
       "      <td>2019-10-22 13:01:00+02:00</td>\n",
       "      <td>1571742060</td>\n",
       "      <td>1.0</td>\n",
       "    </tr>\n",
       "    <tr>\n",
       "      <th>18</th>\n",
       "      <td>Transition</td>\n",
       "      <td>-1</td>\n",
       "      <td>Added by label propagation</td>\n",
       "      <td>2022-05-10 10:16:12</td>\n",
       "      <td>2019-10-23 13:01:00+02:00</td>\n",
       "      <td>1571828460</td>\n",
       "      <td>1.0</td>\n",
       "    </tr>\n",
       "    <tr>\n",
       "      <th>19</th>\n",
       "      <td>Transition</td>\n",
       "      <td>-1</td>\n",
       "      <td>Added by label propagation</td>\n",
       "      <td>2022-05-10 10:16:12</td>\n",
       "      <td>2019-10-24 13:01:00+02:00</td>\n",
       "      <td>1571914860</td>\n",
       "      <td>1.0</td>\n",
       "    </tr>\n",
       "    <tr>\n",
       "      <th>20</th>\n",
       "      <td>Transition</td>\n",
       "      <td>-1</td>\n",
       "      <td>Added by label propagation</td>\n",
       "      <td>2022-05-10 10:16:12</td>\n",
       "      <td>2019-10-25 13:01:00+02:00</td>\n",
       "      <td>1572001260</td>\n",
       "      <td>1.0</td>\n",
       "    </tr>\n",
       "    <tr>\n",
       "      <th>21</th>\n",
       "      <td>Transition</td>\n",
       "      <td>-1</td>\n",
       "      <td>Added by label propagation</td>\n",
       "      <td>2022-05-10 10:16:12</td>\n",
       "      <td>2019-10-26 13:01:00+02:00</td>\n",
       "      <td>1572087660</td>\n",
       "      <td>1.0</td>\n",
       "    </tr>\n",
       "    <tr>\n",
       "      <th>22</th>\n",
       "      <td>Transition</td>\n",
       "      <td>2</td>\n",
       "      <td>This is a demo.</td>\n",
       "      <td>2022-05-10 10:15:57</td>\n",
       "      <td>2019-10-27 13:01:00+01:00</td>\n",
       "      <td>1572177660</td>\n",
       "      <td>1.0</td>\n",
       "    </tr>\n",
       "    <tr>\n",
       "      <th>23</th>\n",
       "      <td>Transition</td>\n",
       "      <td>2</td>\n",
       "      <td>This is a demo.</td>\n",
       "      <td>2022-05-10 10:15:57</td>\n",
       "      <td>2019-10-28 13:01:00+01:00</td>\n",
       "      <td>1572264060</td>\n",
       "      <td>1.0</td>\n",
       "    </tr>\n",
       "    <tr>\n",
       "      <th>24</th>\n",
       "      <td>Faulty</td>\n",
       "      <td>-1</td>\n",
       "      <td>Added by label propagation</td>\n",
       "      <td>2022-05-10 10:16:12</td>\n",
       "      <td>2019-10-29 13:01:00+01:00</td>\n",
       "      <td>1572350460</td>\n",
       "      <td>1.0</td>\n",
       "    </tr>\n",
       "    <tr>\n",
       "      <th>25</th>\n",
       "      <td>Faulty</td>\n",
       "      <td>-1</td>\n",
       "      <td>Added by label propagation</td>\n",
       "      <td>2022-05-10 10:16:12</td>\n",
       "      <td>2019-10-30 13:01:00+01:00</td>\n",
       "      <td>1572436860</td>\n",
       "      <td>1.0</td>\n",
       "    </tr>\n",
       "    <tr>\n",
       "      <th>26</th>\n",
       "      <td>Faulty</td>\n",
       "      <td>-1</td>\n",
       "      <td>Added by label propagation</td>\n",
       "      <td>2022-05-10 10:16:12</td>\n",
       "      <td>2019-10-31 13:01:00+01:00</td>\n",
       "      <td>1572523260</td>\n",
       "      <td>1.0</td>\n",
       "    </tr>\n",
       "    <tr>\n",
       "      <th>27</th>\n",
       "      <td>Faulty</td>\n",
       "      <td>-1</td>\n",
       "      <td>Added by label propagation</td>\n",
       "      <td>2022-05-10 10:16:12</td>\n",
       "      <td>2019-11-01 13:01:00+01:00</td>\n",
       "      <td>1572609660</td>\n",
       "      <td>1.0</td>\n",
       "    </tr>\n",
       "    <tr>\n",
       "      <th>28</th>\n",
       "      <td>Faulty</td>\n",
       "      <td>-1</td>\n",
       "      <td>Added by label propagation</td>\n",
       "      <td>2022-05-10 10:16:12</td>\n",
       "      <td>2019-11-02 13:01:00+01:00</td>\n",
       "      <td>1572696060</td>\n",
       "      <td>1.0</td>\n",
       "    </tr>\n",
       "    <tr>\n",
       "      <th>29</th>\n",
       "      <td>Faulty</td>\n",
       "      <td>-1</td>\n",
       "      <td>Added by label propagation</td>\n",
       "      <td>2022-05-10 10:16:12</td>\n",
       "      <td>2019-11-03 13:01:00+01:00</td>\n",
       "      <td>1572782460</td>\n",
       "      <td>1.0</td>\n",
       "    </tr>\n",
       "    <tr>\n",
       "      <th>30</th>\n",
       "      <td>Faulty</td>\n",
       "      <td>-1</td>\n",
       "      <td>Added by label propagation</td>\n",
       "      <td>2022-05-10 10:16:12</td>\n",
       "      <td>2019-11-04 13:01:00+01:00</td>\n",
       "      <td>1572868860</td>\n",
       "      <td>1.0</td>\n",
       "    </tr>\n",
       "    <tr>\n",
       "      <th>31</th>\n",
       "      <td>Faulty</td>\n",
       "      <td>-1</td>\n",
       "      <td>Added by label propagation</td>\n",
       "      <td>2022-05-10 10:16:12</td>\n",
       "      <td>2019-11-05 13:01:00+01:00</td>\n",
       "      <td>1572955260</td>\n",
       "      <td>1.0</td>\n",
       "    </tr>\n",
       "    <tr>\n",
       "      <th>32</th>\n",
       "      <td>Faulty</td>\n",
       "      <td>3</td>\n",
       "      <td>This is a demo.</td>\n",
       "      <td>2022-05-10 10:15:57</td>\n",
       "      <td>2019-11-06 13:01:00+01:00</td>\n",
       "      <td>1573041660</td>\n",
       "      <td>1.0</td>\n",
       "    </tr>\n",
       "    <tr>\n",
       "      <th>33</th>\n",
       "      <td>Faulty</td>\n",
       "      <td>-1</td>\n",
       "      <td>Added by label propagation</td>\n",
       "      <td>2022-05-10 10:16:12</td>\n",
       "      <td>2019-11-07 13:01:00+01:00</td>\n",
       "      <td>1573128060</td>\n",
       "      <td>1.0</td>\n",
       "    </tr>\n",
       "    <tr>\n",
       "      <th>34</th>\n",
       "      <td>Faulty</td>\n",
       "      <td>-1</td>\n",
       "      <td>Added by label propagation</td>\n",
       "      <td>2022-05-10 10:16:12</td>\n",
       "      <td>2019-11-08 13:01:00+01:00</td>\n",
       "      <td>1573214460</td>\n",
       "      <td>1.0</td>\n",
       "    </tr>\n",
       "    <tr>\n",
       "      <th>35</th>\n",
       "      <td>Faulty</td>\n",
       "      <td>-1</td>\n",
       "      <td>Added by label propagation</td>\n",
       "      <td>2022-05-10 10:16:12</td>\n",
       "      <td>2019-11-09 13:01:00+01:00</td>\n",
       "      <td>1573300860</td>\n",
       "      <td>1.0</td>\n",
       "    </tr>\n",
       "    <tr>\n",
       "      <th>36</th>\n",
       "      <td>Faulty</td>\n",
       "      <td>3</td>\n",
       "      <td>This is a demo.</td>\n",
       "      <td>2022-05-10 10:15:57</td>\n",
       "      <td>2019-11-10 13:01:00+01:00</td>\n",
       "      <td>1573387260</td>\n",
       "      <td>1.0</td>\n",
       "    </tr>\n",
       "    <tr>\n",
       "      <th>37</th>\n",
       "      <td>Faulty</td>\n",
       "      <td>-1</td>\n",
       "      <td>Added by label propagation</td>\n",
       "      <td>2022-05-10 10:16:12</td>\n",
       "      <td>2019-11-11 13:01:00+01:00</td>\n",
       "      <td>1573473660</td>\n",
       "      <td>1.0</td>\n",
       "    </tr>\n",
       "    <tr>\n",
       "      <th>38</th>\n",
       "      <td>Faulty</td>\n",
       "      <td>-1</td>\n",
       "      <td>Added by label propagation</td>\n",
       "      <td>2022-05-10 10:16:12</td>\n",
       "      <td>2019-11-12 13:01:00+01:00</td>\n",
       "      <td>1573560060</td>\n",
       "      <td>1.0</td>\n",
       "    </tr>\n",
       "    <tr>\n",
       "      <th>39</th>\n",
       "      <td>Faulty</td>\n",
       "      <td>3</td>\n",
       "      <td>This is a demo.</td>\n",
       "      <td>2022-05-10 10:15:57</td>\n",
       "      <td>2019-11-13 13:01:00+01:00</td>\n",
       "      <td>1573646460</td>\n",
       "      <td>1.0</td>\n",
       "    </tr>\n",
       "    <tr>\n",
       "      <th>40</th>\n",
       "      <td>Faulty</td>\n",
       "      <td>-1</td>\n",
       "      <td>Added by label propagation</td>\n",
       "      <td>2022-05-10 10:16:12</td>\n",
       "      <td>2019-11-14 13:01:00+01:00</td>\n",
       "      <td>1573732860</td>\n",
       "      <td>1.0</td>\n",
       "    </tr>\n",
       "    <tr>\n",
       "      <th>41</th>\n",
       "      <td>Faulty</td>\n",
       "      <td>-1</td>\n",
       "      <td>Added by label propagation</td>\n",
       "      <td>2022-05-10 10:16:12</td>\n",
       "      <td>2019-11-15 13:01:00+01:00</td>\n",
       "      <td>1573819260</td>\n",
       "      <td>1.0</td>\n",
       "    </tr>\n",
       "    <tr>\n",
       "      <th>42</th>\n",
       "      <td>Faulty</td>\n",
       "      <td>-1</td>\n",
       "      <td>Added by label propagation</td>\n",
       "      <td>2022-05-10 10:16:12</td>\n",
       "      <td>2019-11-16 13:01:00+01:00</td>\n",
       "      <td>1573905660</td>\n",
       "      <td>1.0</td>\n",
       "    </tr>\n",
       "    <tr>\n",
       "      <th>43</th>\n",
       "      <td>Faulty</td>\n",
       "      <td>-1</td>\n",
       "      <td>Added by label propagation</td>\n",
       "      <td>2022-05-10 10:16:12</td>\n",
       "      <td>2019-11-17 13:01:00+01:00</td>\n",
       "      <td>1573992060</td>\n",
       "      <td>1.0</td>\n",
       "    </tr>\n",
       "    <tr>\n",
       "      <th>44</th>\n",
       "      <td>Faulty</td>\n",
       "      <td>-1</td>\n",
       "      <td>Added by label propagation</td>\n",
       "      <td>2022-05-10 10:16:12</td>\n",
       "      <td>2019-11-18 13:01:00+01:00</td>\n",
       "      <td>1574078460</td>\n",
       "      <td>1.0</td>\n",
       "    </tr>\n",
       "    <tr>\n",
       "      <th>45</th>\n",
       "      <td>Faulty</td>\n",
       "      <td>-1</td>\n",
       "      <td>Added by label propagation</td>\n",
       "      <td>2022-05-10 10:16:12</td>\n",
       "      <td>2019-11-19 13:01:00+01:00</td>\n",
       "      <td>1574164860</td>\n",
       "      <td>1.0</td>\n",
       "    </tr>\n",
       "    <tr>\n",
       "      <th>46</th>\n",
       "      <td>Faulty</td>\n",
       "      <td>-1</td>\n",
       "      <td>Added by label propagation</td>\n",
       "      <td>2022-05-10 10:16:12</td>\n",
       "      <td>2019-11-20 13:01:00+01:00</td>\n",
       "      <td>1574251260</td>\n",
       "      <td>1.0</td>\n",
       "    </tr>\n",
       "    <tr>\n",
       "      <th>47</th>\n",
       "      <td>Faulty</td>\n",
       "      <td>-1</td>\n",
       "      <td>Added by label propagation</td>\n",
       "      <td>2022-05-10 10:16:12</td>\n",
       "      <td>2019-11-21 13:01:00+01:00</td>\n",
       "      <td>1574337660</td>\n",
       "      <td>1.0</td>\n",
       "    </tr>\n",
       "    <tr>\n",
       "      <th>48</th>\n",
       "      <td>Faulty</td>\n",
       "      <td>-1</td>\n",
       "      <td>Added by label propagation</td>\n",
       "      <td>2022-05-10 10:16:12</td>\n",
       "      <td>2019-11-22 13:01:00+01:00</td>\n",
       "      <td>1574424060</td>\n",
       "      <td>1.0</td>\n",
       "    </tr>\n",
       "  </tbody>\n",
       "</table>\n",
       "</div>"
      ],
      "text/plain": [
       "         label  severity                       notes      label_timestamp  \\\n",
       "0      Healthy        -1  Added by label propagation  2022-05-10 10:16:12   \n",
       "1      Healthy        -1  Added by label propagation  2022-05-10 10:16:12   \n",
       "2      Healthy         1             This is a demo.  2022-05-10 10:15:56   \n",
       "3      Healthy        -1  Added by label propagation  2022-05-10 10:16:12   \n",
       "4      Healthy        -1  Added by label propagation  2022-05-10 10:16:12   \n",
       "5      Healthy        -1  Added by label propagation  2022-05-10 10:16:12   \n",
       "6      Healthy        -1  Added by label propagation  2022-05-10 10:16:12   \n",
       "7      Healthy         1             This is a demo.  2022-05-10 10:15:56   \n",
       "8      Healthy         1             This is a demo.  2022-05-10 10:15:56   \n",
       "9      Healthy        -1  Added by label propagation  2022-05-10 10:16:12   \n",
       "10     Healthy        -1  Added by label propagation  2022-05-10 10:16:12   \n",
       "11     Healthy        -1  Added by label propagation  2022-05-10 10:16:12   \n",
       "12     Healthy        -1  Added by label propagation  2022-05-10 10:16:12   \n",
       "13     Healthy        -1  Added by label propagation  2022-05-10 10:16:12   \n",
       "14     Healthy        -1  Added by label propagation  2022-05-10 10:16:12   \n",
       "15     Healthy        -1  Added by label propagation  2022-05-10 10:16:12   \n",
       "16  Transition        -1  Added by label propagation  2022-05-10 10:16:12   \n",
       "17  Transition         2             This is a demo.  2022-05-10 10:15:56   \n",
       "18  Transition        -1  Added by label propagation  2022-05-10 10:16:12   \n",
       "19  Transition        -1  Added by label propagation  2022-05-10 10:16:12   \n",
       "20  Transition        -1  Added by label propagation  2022-05-10 10:16:12   \n",
       "21  Transition        -1  Added by label propagation  2022-05-10 10:16:12   \n",
       "22  Transition         2             This is a demo.  2022-05-10 10:15:57   \n",
       "23  Transition         2             This is a demo.  2022-05-10 10:15:57   \n",
       "24      Faulty        -1  Added by label propagation  2022-05-10 10:16:12   \n",
       "25      Faulty        -1  Added by label propagation  2022-05-10 10:16:12   \n",
       "26      Faulty        -1  Added by label propagation  2022-05-10 10:16:12   \n",
       "27      Faulty        -1  Added by label propagation  2022-05-10 10:16:12   \n",
       "28      Faulty        -1  Added by label propagation  2022-05-10 10:16:12   \n",
       "29      Faulty        -1  Added by label propagation  2022-05-10 10:16:12   \n",
       "30      Faulty        -1  Added by label propagation  2022-05-10 10:16:12   \n",
       "31      Faulty        -1  Added by label propagation  2022-05-10 10:16:12   \n",
       "32      Faulty         3             This is a demo.  2022-05-10 10:15:57   \n",
       "33      Faulty        -1  Added by label propagation  2022-05-10 10:16:12   \n",
       "34      Faulty        -1  Added by label propagation  2022-05-10 10:16:12   \n",
       "35      Faulty        -1  Added by label propagation  2022-05-10 10:16:12   \n",
       "36      Faulty         3             This is a demo.  2022-05-10 10:15:57   \n",
       "37      Faulty        -1  Added by label propagation  2022-05-10 10:16:12   \n",
       "38      Faulty        -1  Added by label propagation  2022-05-10 10:16:12   \n",
       "39      Faulty         3             This is a demo.  2022-05-10 10:15:57   \n",
       "40      Faulty        -1  Added by label propagation  2022-05-10 10:16:12   \n",
       "41      Faulty        -1  Added by label propagation  2022-05-10 10:16:12   \n",
       "42      Faulty        -1  Added by label propagation  2022-05-10 10:16:12   \n",
       "43      Faulty        -1  Added by label propagation  2022-05-10 10:16:12   \n",
       "44      Faulty        -1  Added by label propagation  2022-05-10 10:16:12   \n",
       "45      Faulty        -1  Added by label propagation  2022-05-10 10:16:12   \n",
       "46      Faulty        -1  Added by label propagation  2022-05-10 10:16:12   \n",
       "47      Faulty        -1  Added by label propagation  2022-05-10 10:16:12   \n",
       "48      Faulty        -1  Added by label propagation  2022-05-10 10:16:12   \n",
       "\n",
       "                    datetime   timestamp  certainty_level  \n",
       "0  2019-10-05 13:01:00+02:00  1570273260              1.0  \n",
       "1  2019-10-06 13:01:00+02:00  1570359660              1.0  \n",
       "2  2019-10-07 13:01:00+02:00  1570446060              1.0  \n",
       "3  2019-10-08 13:01:00+02:00  1570532460              1.0  \n",
       "4  2019-10-09 13:01:00+02:00  1570618860              1.0  \n",
       "5  2019-10-10 13:01:00+02:00  1570705260              1.0  \n",
       "6  2019-10-11 13:01:00+02:00  1570791660              1.0  \n",
       "7  2019-10-12 13:01:00+02:00  1570878060              1.0  \n",
       "8  2019-10-13 13:01:00+02:00  1570964460              1.0  \n",
       "9  2019-10-14 13:01:00+02:00  1571050860              1.0  \n",
       "10 2019-10-15 13:01:00+02:00  1571137260              1.0  \n",
       "11 2019-10-16 13:01:00+02:00  1571223660              1.0  \n",
       "12 2019-10-17 13:01:00+02:00  1571310060              1.0  \n",
       "13 2019-10-18 13:01:00+02:00  1571396460              1.0  \n",
       "14 2019-10-19 13:01:00+02:00  1571482860              1.0  \n",
       "15 2019-10-20 13:01:00+02:00  1571569260              1.0  \n",
       "16 2019-10-21 13:01:00+02:00  1571655660              1.0  \n",
       "17 2019-10-22 13:01:00+02:00  1571742060              1.0  \n",
       "18 2019-10-23 13:01:00+02:00  1571828460              1.0  \n",
       "19 2019-10-24 13:01:00+02:00  1571914860              1.0  \n",
       "20 2019-10-25 13:01:00+02:00  1572001260              1.0  \n",
       "21 2019-10-26 13:01:00+02:00  1572087660              1.0  \n",
       "22 2019-10-27 13:01:00+01:00  1572177660              1.0  \n",
       "23 2019-10-28 13:01:00+01:00  1572264060              1.0  \n",
       "24 2019-10-29 13:01:00+01:00  1572350460              1.0  \n",
       "25 2019-10-30 13:01:00+01:00  1572436860              1.0  \n",
       "26 2019-10-31 13:01:00+01:00  1572523260              1.0  \n",
       "27 2019-11-01 13:01:00+01:00  1572609660              1.0  \n",
       "28 2019-11-02 13:01:00+01:00  1572696060              1.0  \n",
       "29 2019-11-03 13:01:00+01:00  1572782460              1.0  \n",
       "30 2019-11-04 13:01:00+01:00  1572868860              1.0  \n",
       "31 2019-11-05 13:01:00+01:00  1572955260              1.0  \n",
       "32 2019-11-06 13:01:00+01:00  1573041660              1.0  \n",
       "33 2019-11-07 13:01:00+01:00  1573128060              1.0  \n",
       "34 2019-11-08 13:01:00+01:00  1573214460              1.0  \n",
       "35 2019-11-09 13:01:00+01:00  1573300860              1.0  \n",
       "36 2019-11-10 13:01:00+01:00  1573387260              1.0  \n",
       "37 2019-11-11 13:01:00+01:00  1573473660              1.0  \n",
       "38 2019-11-12 13:01:00+01:00  1573560060              1.0  \n",
       "39 2019-11-13 13:01:00+01:00  1573646460              1.0  \n",
       "40 2019-11-14 13:01:00+01:00  1573732860              1.0  \n",
       "41 2019-11-15 13:01:00+01:00  1573819260              1.0  \n",
       "42 2019-11-16 13:01:00+01:00  1573905660              1.0  \n",
       "43 2019-11-17 13:01:00+01:00  1573992060              1.0  \n",
       "44 2019-11-18 13:01:00+01:00  1574078460              1.0  \n",
       "45 2019-11-19 13:01:00+01:00  1574164860              1.0  \n",
       "46 2019-11-20 13:01:00+01:00  1574251260              1.0  \n",
       "47 2019-11-21 13:01:00+01:00  1574337660              1.0  \n",
       "48 2019-11-22 13:01:00+01:00  1574424060              1.0  "
      ]
     },
     "execution_count": 21,
     "metadata": {},
     "output_type": "execute_result"
    }
   ],
   "source": [
    "labelprop_results.to_df()\n"
   ]
  },
  {
   "cell_type": "markdown",
   "metadata": {
    "pycharm": {
     "name": "#%% md\n"
    }
   },
   "source": [
    "We can also display the results and visualize the labels given to the different measurements."
   ]
  },
  {
   "cell_type": "code",
   "execution_count": 22,
   "metadata": {
    "pycharm": {
     "name": "#%%\n"
    }
   },
   "outputs": [
    {
     "data": {
      "image/png": "[encoded data removed]",
      "text/plain": [
       "<Figure size 720x216 with 1 Axes>"
      ]
     },
     "metadata": {
      "needs_background": "light"
     },
     "output_type": "display_data"
    },
    {
     "data": {
      "text/plain": [
       "''"
      ]
     },
     "execution_count": 22,
     "metadata": {},
     "output_type": "execute_result"
    }
   ],
   "source": [
    "labelprop_results.plot()"
   ]
  },
  {
   "cell_type": "markdown",
   "metadata": {
    "pycharm": {
     "name": "#%% md\n"
    }
   },
   "source": [
    "As you can see from the results, it is easier to appreciate now which measurements have a healthy behavior, which measurements have a faulty behavior and which measurements have a transition behavior from healthy to faulty.\n"
   ]
  }
 ],
 "metadata": {
  "celltoolbar": "Tags",
  "interpreter": {
   "hash": "a44fa91c5dfe8381243a89b49ad51245e1b4984ebdbff837585626a5fdba33e0"
  },
  "kernelspec": {
   "display_name": "Python 3",
   "language": "python",
   "name": "python3"
  },
  "language_info": {
   "codemirror_mode": {
    "name": "ipython",
    "version": 3
   },
   "file_extension": ".py",
   "mimetype": "text/x-python",
   "name": "python",
   "nbconvert_exporter": "python",
   "pygments_lexer": "ipython3",
   "version": "3.9.5"
  }
 },
 "nbformat": 4,
 "nbformat_minor": 2
}

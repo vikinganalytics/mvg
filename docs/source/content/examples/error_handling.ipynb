{
 "cells": [
  {
   "cell_type": "markdown",
   "metadata": {},
   "source": [
    "# Error Handling Example\n",
    "\n",
    "This script shows how handle errors occurring\n",
    "during API calls to the\n",
    "Vibration service\n",
    "\n",
    "The mvg design principle is that\n",
    "the client application using the MVG\n",
    "API is responsible for error handling"
   ]
  },
  {
   "cell_type": "code",
   "execution_count": 1,
   "metadata": {
    "ExecuteTime": {
     "end_time": "2021-03-18T10:13:43.989073Z",
     "start_time": "2021-03-18T10:13:43.956943Z"
    }
   },
   "outputs": [],
   "source": [
    "import json\n",
    "import sys\n",
    "import logging\n",
    "from requests import HTTPError\n",
    "\n",
    "# import mvg library with python bindings to mvg-API\n",
    "from mvg import MVG"
   ]
  },
  {
   "cell_type": "markdown",
   "metadata": {},
   "source": [
    "Note that the `TOKEN` is used both for authorization and authentication. Thus, each unique token represents a unique user and each user has their own unique database on the VA vibration service.\n",
    "\n",
    "**You need to insert your token received from Viking Analytics here:**"
   ]
  },
  {
   "cell_type": "code",
   "execution_count": 2,
   "metadata": {
    "ExecuteTime": {
     "end_time": "2021-03-18T10:13:43.992485Z",
     "start_time": "2021-03-18T10:13:43.990383Z"
    }
   },
   "outputs": [],
   "source": [
    "TOKEN = \"NO TOKEN\"  # replace with your token"
   ]
  },
  {
   "cell_type": "markdown",
   "metadata": {},
   "source": [
    "This is Viking Analytics default logging setup and can be adapted to suit your needs. Log messages are printed from `mvg` library, see the source code for details."
   ]
  },
  {
   "cell_type": "code",
   "execution_count": 3,
   "metadata": {
    "ExecuteTime": {
     "end_time": "2021-03-18T10:13:43.998630Z",
     "start_time": "2021-03-18T10:13:43.993934Z"
    }
   },
   "outputs": [],
   "source": [
    "root_logger = logging.getLogger()\n",
    "root_logger.setLevel(\"INFO\")\n",
    "formatter = logging.Formatter(\"%(asctime)s - %(levelname)s - %(name)s - %(message)s\")\n",
    "stream_handler = logging.StreamHandler(stream=sys.stderr)\n",
    "stream_handler.setFormatter(formatter)\n",
    "root_logger.addHandler(stream_handler)"
   ]
  },
  {
   "cell_type": "markdown",
   "metadata": {},
   "source": [
    "As we are interested in error handling we set the logger level to `logging.DEBUG`. That will trace out the detailed information on exceptions provided by the server.\n",
    "\n",
    "\n",
    "Set log level to `logging.ERROR` to just see the results of proper error handling in the code `root_logger.setLevel(logging.ERROR)`"
   ]
  },
  {
   "cell_type": "code",
   "execution_count": 4,
   "metadata": {
    "ExecuteTime": {
     "end_time": "2021-03-18T10:13:44.004007Z",
     "start_time": "2021-03-18T10:13:44.000159Z"
    }
   },
   "outputs": [],
   "source": [
    "root_logger.setLevel(logging.DEBUG)"
   ]
  },
  {
   "cell_type": "markdown",
   "metadata": {},
   "source": [
    "Instantiate a session object with mvg library a session object basically caches the endpoint and the token, to simplify the the calls to the mvg library."
   ]
  },
  {
   "cell_type": "code",
   "execution_count": 5,
   "metadata": {
    "ExecuteTime": {
     "end_time": "2021-03-18T10:13:44.140140Z",
     "start_time": "2021-03-18T10:13:44.005184Z"
    }
   },
   "outputs": [
    {
     "name": "stderr",
     "output_type": "stream",
     "text": [
      "2021-03-18 11:13:44,009 - DEBUG - urllib3.connectionpool - Starting new HTTPS connection (1): api.beta.multiviz.com:443\n",
      "2021-03-18 11:13:44,137 - DEBUG - urllib3.connectionpool - https://api.beta.multiviz.com:443 \"GET / HTTP/1.1\" 200 465\n"
     ]
    }
   ],
   "source": [
    "ENDPOINT = \"https://api.beta.multiviz.com\"\n",
    "session = MVG(ENDPOINT, TOKEN)"
   ]
  },
  {
   "cell_type": "markdown",
   "metadata": {
    "ExecuteTime": {
     "end_time": "2021-03-04T10:21:42.359990Z",
     "start_time": "2021-03-04T10:21:42.356703Z"
    }
   },
   "source": [
    "We now check if the server is alive. The hello message contains, amongst others the API version."
   ]
  },
  {
   "cell_type": "code",
   "execution_count": 6,
   "metadata": {
    "ExecuteTime": {
     "end_time": "2021-03-18T10:13:44.272280Z",
     "start_time": "2021-03-18T10:13:44.141278Z"
    }
   },
   "outputs": [
    {
     "name": "stderr",
     "output_type": "stream",
     "text": [
      "2021-03-18 11:13:44,141 - INFO - mvg.mvg - Getting API info for: https://api.beta.multiviz.com\n",
      "2021-03-18 11:13:44,143 - DEBUG - urllib3.connectionpool - Starting new HTTPS connection (1): api.beta.multiviz.com:443\n",
      "2021-03-18 11:13:44,269 - DEBUG - urllib3.connectionpool - https://api.beta.multiviz.com:443 \"GET / HTTP/1.1\" 200 465\n"
     ]
    },
    {
     "name": "stdout",
     "output_type": "stream",
     "text": [
      "{\"api\": {\"name\": \"MultiViz Engine API\", \"version\": \"v0.0.13\"}, \"features\": {\"mode_id\": true, \"blacksheep\": false, \"emerging_mode\": false, \"on_off\": false, \"asset_type\": false, \"indicator_arrow\": false}, \"request_status\": [\"initialized\", \"accepted\", \"queued\", \"ongoing\", \"failed\", \"ready\"], \"traffic_limit\": 10000000, \"max_source_id_length\": 255, \"max_meta_size\": 50000, \"max_number_of_samples\": 400000, \"max_number_of_sources\": 100, \"max_number_of_measurements\": 1000, \"db_version\": \"1.0.0\"}\n"
     ]
    }
   ],
   "source": [
    "hello_message = json.dumps(session.say_hello())\n",
    "print(hello_message)"
   ]
  },
  {
   "cell_type": "markdown",
   "metadata": {},
   "source": [
    "## Invalid Token\n",
    "\n",
    "Lets provoke an error by creating a session with a non-valid token."
   ]
  },
  {
   "cell_type": "code",
   "execution_count": 7,
   "metadata": {
    "ExecuteTime": {
     "end_time": "2021-03-18T10:13:44.395787Z",
     "start_time": "2021-03-18T10:13:44.273408Z"
    }
   },
   "outputs": [
    {
     "name": "stderr",
     "output_type": "stream",
     "text": [
      "2021-03-18 11:13:44,274 - DEBUG - urllib3.connectionpool - Starting new HTTPS connection (1): api.beta.multiviz.com:443\n",
      "2021-03-18 11:13:44,393 - DEBUG - urllib3.connectionpool - https://api.beta.multiviz.com:443 \"GET / HTTP/1.1\" 200 465\n"
     ]
    }
   ],
   "source": [
    "unauth_session = MVG(ENDPOINT, \"PASSKEY\")"
   ]
  },
  {
   "cell_type": "markdown",
   "metadata": {
    "ExecuteTime": {
     "end_time": "2021-03-04T10:23:13.744955Z",
     "start_time": "2021-03-04T10:23:13.741660Z"
    }
   },
   "source": [
    "We need to call a method requiring authentication. Check http://endpoint/docs to see which methods require authentication, they have a lock icon."
   ]
  },
  {
   "cell_type": "code",
   "execution_count": 8,
   "metadata": {
    "ExecuteTime": {
     "end_time": "2021-03-18T10:13:44.549088Z",
     "start_time": "2021-03-18T10:13:44.397650Z"
    }
   },
   "outputs": [
    {
     "name": "stderr",
     "output_type": "stream",
     "text": [
      "2021-03-18 11:13:44,398 - INFO - mvg.mvg - endpoint https://api.beta.multiviz.com\n",
      "2021-03-18 11:13:44,399 - INFO - mvg.mvg - listing sources\n",
      "2021-03-18 11:13:44,400 - DEBUG - urllib3.connectionpool - Starting new HTTPS connection (1): api.beta.multiviz.com:443\n"
     ]
    },
    {
     "name": "stdout",
     "output_type": "stream",
     "text": [
      ">>> Provoke Unathorized call\n"
     ]
    },
    {
     "name": "stderr",
     "output_type": "stream",
     "text": [
      "2021-03-18 11:13:44,544 - DEBUG - urllib3.connectionpool - https://api.beta.multiviz.com:443 \"GET /sources/ HTTP/1.1\" 401 25\n",
      "2021-03-18 11:13:44,546 - DEBUG - mvg.mvg - 401 Client Error: Unauthorized for url: https://api.beta.multiviz.com/sources/\n",
      "2021-03-18 11:13:44,546 - DEBUG - mvg.mvg - {\"detail\":\"Unauthorized\"}\n"
     ]
    },
    {
     "name": "stdout",
     "output_type": "stream",
     "text": [
      "OUCH\n",
      "401 Client Error: Unauthorized for url: https://api.beta.multiviz.com/sources/\n"
     ]
    }
   ],
   "source": [
    "try:\n",
    "    print(\">>> Provoke Unathorized call\")\n",
    "    sources = unauth_session.list_sources()\n",
    "except HTTPError as exc:\n",
    "    # As we have rouge token\n",
    "    # We'll end up here\n",
    "    print(\"OUCH\")\n",
    "    # The exception will be risen by\n",
    "    # raise_for_status from the requests\n",
    "    # We'll print it and see that it\n",
    "    # states an authorization error (401)\n",
    "    print(exc)"
   ]
  },
  {
   "cell_type": "markdown",
   "metadata": {},
   "source": [
    "We'll now return to the original session and show how to get details when the server internally rejected a request for other reasons.\n",
    "\n",
    "## Illegal source_id\n",
    "\n",
    "We provoke the service using an illegal string for the `source_id`"
   ]
  },
  {
   "cell_type": "code",
   "execution_count": 9,
   "metadata": {
    "ExecuteTime": {
     "end_time": "2021-03-18T10:13:44.686993Z",
     "start_time": "2021-03-18T10:13:44.550372Z"
    },
    "scrolled": true
   },
   "outputs": [
    {
     "name": "stderr",
     "output_type": "stream",
     "text": [
      "2021-03-18 11:13:44,551 - INFO - mvg.mvg - endpoint https://api.beta.multiviz.com\n",
      "2021-03-18 11:13:44,551 - INFO - mvg.mvg - creating source with source id=illegal%name\n",
      "2021-03-18 11:13:44,552 - INFO - mvg.mvg - metadata: {}\n",
      "2021-03-18 11:13:44,553 - DEBUG - urllib3.connectionpool - Starting new HTTPS connection (1): api.beta.multiviz.com:443\n"
     ]
    },
    {
     "name": "stdout",
     "output_type": "stream",
     "text": [
      ">>> Provoke illegal source Id name\n"
     ]
    },
    {
     "name": "stderr",
     "output_type": "stream",
     "text": [
      "2021-03-18 11:13:44,683 - DEBUG - urllib3.connectionpool - https://api.beta.multiviz.com:443 \"POST /sources/ HTTP/1.1\" 401 25\n",
      "2021-03-18 11:13:44,684 - DEBUG - mvg.mvg - 401 Client Error: Unauthorized for url: https://api.beta.multiviz.com/sources/\n",
      "2021-03-18 11:13:44,685 - DEBUG - mvg.mvg - {\"detail\":\"Unauthorized\"}\n"
     ]
    },
    {
     "name": "stdout",
     "output_type": "stream",
     "text": [
      "OUCH\n",
      "401 Client Error: Unauthorized for url: https://api.beta.multiviz.com/sources/\n"
     ]
    }
   ],
   "source": [
    "try:\n",
    "    print(\">>> Provoke illegal source Id name\")\n",
    "    session.create_source(\"illegal%name\", {})\n",
    "except HTTPError as exc:\n",
    "    # As we have rouge token\n",
    "    # We'll end up here\n",
    "    print(\"OUCH\")\n",
    "    # The exception will be risen by\n",
    "    # raise_for_status from the requests\n",
    "    # We'll print it and see that it\n",
    "    # states an authorization error (401)\n",
    "    print(exc)"
   ]
  },
  {
   "cell_type": "markdown",
   "metadata": {},
   "source": [
    "We'll show a couple of examples what can go wrong when creating a measurement\n",
    "\n",
    "## Non-existing Source\n",
    "\n",
    "In some cases where there is detailed information provided by the server, we can retrieve it by inspecting the exception object `exc`, which actually contains all information about the request."
   ]
  },
  {
   "cell_type": "code",
   "execution_count": 10,
   "metadata": {
    "ExecuteTime": {
     "end_time": "2021-03-18T10:13:44.829817Z",
     "start_time": "2021-03-18T10:13:44.688134Z"
    }
   },
   "outputs": [
    {
     "name": "stderr",
     "output_type": "stream",
     "text": [
      "2021-03-18 11:13:44,689 - INFO - mvg.mvg - endpoint https://api.beta.multiviz.com\n",
      "2021-03-18 11:13:44,689 - INFO - mvg.mvg - creating measurement from source id=\n",
      "2021-03-18 11:13:44,690 - INFO - mvg.mvg -   duration:  -3\n",
      "2021-03-18 11:13:44,690 - INFO - mvg.mvg -   timestamp: -5\n",
      "2021-03-18 11:13:44,691 - INFO - mvg.mvg -   meta data: {}\n",
      "2021-03-18 11:13:44,692 - DEBUG - urllib3.connectionpool - Starting new HTTPS connection (1): api.beta.multiviz.com:443\n"
     ]
    },
    {
     "name": "stdout",
     "output_type": "stream",
     "text": [
      ">>> Non existing source\n"
     ]
    },
    {
     "name": "stderr",
     "output_type": "stream",
     "text": [
      "2021-03-18 11:13:44,825 - DEBUG - urllib3.connectionpool - https://api.beta.multiviz.com:443 \"POST /sources//measurements HTTP/1.1\" 404 22\n",
      "2021-03-18 11:13:44,826 - DEBUG - mvg.mvg - 404 Client Error: Not Found for url: https://api.beta.multiviz.com/sources//measurements\n",
      "2021-03-18 11:13:44,827 - DEBUG - mvg.mvg - {\"detail\":\"Not Found\"}\n"
     ]
    },
    {
     "name": "stdout",
     "output_type": "stream",
     "text": [
      "404 Client Error: Not Found for url: https://api.beta.multiviz.com/sources//measurements\n",
      "Details on error\n",
      "{'detail': 'Not Found'}\n"
     ]
    }
   ],
   "source": [
    "try:\n",
    "    print(\">>> Non existing source\")\n",
    "    d = [1, 2, 3]\n",
    "    session.create_measurement(sid=\"\",\n",
    "                               duration=-3,\n",
    "                               timestamp=-5,\n",
    "                               data=d,\n",
    "                               meta={})\n",
    "except HTTPError as exc:\n",
    "    print(exc)\n",
    "    print(\"Details on error\")\n",
    "    print(exc.response.json())"
   ]
  },
  {
   "cell_type": "markdown",
   "metadata": {
    "ExecuteTime": {
     "end_time": "2021-03-04T10:29:35.106386Z",
     "start_time": "2021-03-04T10:29:35.104168Z"
    }
   },
   "source": [
    "## Parameter Value Out of Range"
   ]
  },
  {
   "cell_type": "code",
   "execution_count": 11,
   "metadata": {
    "ExecuteTime": {
     "end_time": "2021-03-18T10:13:44.968553Z",
     "start_time": "2021-03-18T10:13:44.831079Z"
    }
   },
   "outputs": [
    {
     "name": "stderr",
     "output_type": "stream",
     "text": [
      "2021-03-18 11:13:44,832 - INFO - mvg.mvg - endpoint https://api.beta.multiviz.com\n",
      "2021-03-18 11:13:44,832 - INFO - mvg.mvg - creating measurement from source id=u0001\n",
      "2021-03-18 11:13:44,833 - INFO - mvg.mvg -   duration:  -3\n",
      "2021-03-18 11:13:44,833 - INFO - mvg.mvg -   timestamp: -5\n",
      "2021-03-18 11:13:44,834 - INFO - mvg.mvg -   meta data: {}\n",
      "2021-03-18 11:13:44,835 - DEBUG - urllib3.connectionpool - Starting new HTTPS connection (1): api.beta.multiviz.com:443\n"
     ]
    },
    {
     "name": "stdout",
     "output_type": "stream",
     "text": [
      ">>> Parameter value out of range\n"
     ]
    },
    {
     "name": "stderr",
     "output_type": "stream",
     "text": [
      "2021-03-18 11:13:44,964 - DEBUG - urllib3.connectionpool - https://api.beta.multiviz.com:443 \"POST /sources/u0001/measurements HTTP/1.1\" 401 25\n",
      "2021-03-18 11:13:44,966 - DEBUG - mvg.mvg - 401 Client Error: Unauthorized for url: https://api.beta.multiviz.com/sources/u0001/measurements\n",
      "2021-03-18 11:13:44,966 - DEBUG - mvg.mvg - {\"detail\":\"Unauthorized\"}\n"
     ]
    },
    {
     "name": "stdout",
     "output_type": "stream",
     "text": [
      "401 Client Error: Unauthorized for url: https://api.beta.multiviz.com/sources/u0001/measurements\n",
      "Details on error\n",
      "{'detail': 'Unauthorized'}\n"
     ]
    }
   ],
   "source": [
    "try:\n",
    "    print(\">>> Parameter value out of range\")\n",
    "    d = [1, 2, 3]\n",
    "    session.create_measurement(sid=\"u0001\",\n",
    "                               duration=-3,\n",
    "                               timestamp=-5,\n",
    "                               data=d,\n",
    "                               meta={})\n",
    "except HTTPError as exc:\n",
    "    print(exc)\n",
    "    # Retrieve details\n",
    "    print(\"Details on error\")\n",
    "    print(exc.response.json())"
   ]
  },
  {
   "cell_type": "markdown",
   "metadata": {},
   "source": [
    "## Missing Parameter\n",
    "\n",
    "In this case we have an error on the client side. This means that the data is never sent to the server so we do not get an `HTTPError`, but a `TypeError` instead. Only the `HTTPError` contains any details from the server, so to be on the safe side we should catch them separately."
   ]
  },
  {
   "cell_type": "code",
   "execution_count": 12,
   "metadata": {
    "ExecuteTime": {
     "end_time": "2021-03-18T10:13:44.972731Z",
     "start_time": "2021-03-18T10:13:44.969677Z"
    }
   },
   "outputs": [
    {
     "name": "stdout",
     "output_type": "stream",
     "text": [
      ">>> Parameter missing in mvg call\n",
      "TypeError: create_measurement() missing 1 required positional argument: 'data'\n",
      "No details from server available\n"
     ]
    }
   ],
   "source": [
    "try:\n",
    "    print(\">>> Parameter missing in mvg call\")\n",
    "    session.create_measurement(sid=\"u0001\",\n",
    "                               duration=-3,\n",
    "                               timestamp=-5,\n",
    "                               meta={})\n",
    "except HTTPError as exc:\n",
    "    print(exc)\n",
    "    print(\"Details on error\")\n",
    "    print(exc.response.json())\n",
    "except Exception as exc:\n",
    "    print(f\"{type(exc).__name__}: {exc}\")\n",
    "    print(\"No details from server available\")"
   ]
  }
 ],
 "metadata": {
  "kernelspec": {
   "display_name": "Python 3",
   "language": "python",
   "name": "python3"
  },
  "language_info": {
   "codemirror_mode": {
    "name": "ipython",
    "version": 3
   },
   "file_extension": ".py",
   "mimetype": "text/x-python",
   "name": "python",
   "nbconvert_exporter": "python",
   "pygments_lexer": "ipython3",
   "version": "3.8.5"
  },
  "toc": {
   "base_numbering": 1,
   "nav_menu": {},
   "number_sections": false,
   "sideBar": true,
   "skip_h1_title": false,
   "title_cell": "Table of Contents",
   "title_sidebar": "Contents",
   "toc_cell": false,
   "toc_position": {},
   "toc_section_display": true,
   "toc_window_display": true
  },
  "varInspector": {
   "cols": {
    "lenName": 16,
    "lenType": 16,
    "lenVar": 40
   },
   "kernels_config": {
    "python": {
     "delete_cmd_postfix": "",
     "delete_cmd_prefix": "del ",
     "library": "var_list.py",
     "varRefreshCmd": "print(var_dic_list())"
    },
    "r": {
     "delete_cmd_postfix": ") ",
     "delete_cmd_prefix": "rm(",
     "library": "var_list.r",
     "varRefreshCmd": "cat(var_dic_list()) "
    }
   },
   "types_to_exclude": [
    "module",
    "function",
    "builtin_function_or_method",
    "instance",
    "_Feature"
   ],
   "window_display": false
  }
 },
 "nbformat": 4,
 "nbformat_minor": 2
}

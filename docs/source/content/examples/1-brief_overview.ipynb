{
 "cells": [
  {
   "cell_type": "markdown",
   "metadata": {},
   "source": [
    "# Brief Overview on How to Use the MultiViz Analytics Engine (MVG) Library"
   ]
  },
  {
   "cell_type": "markdown",
   "metadata": {},
   "source": [
    "## Introduction\n",
    "\n",
    "The MultiViz Analytics Engine (MVG) Library is a Python library that enables the use of\n",
    "Viking Analytics's MVG Analytics Service.\n",
    "To access this service, Viking Analytics (VA) provides a REST API towards its analytics server.\n",
    "The simplification of access to this service is enabled by the VA-MVG Python package,\n",
    "which allows interaction with the service via regular python calls.\n",
    "\n",
    "This interactive document shall show the whole flow working with the service from\n",
    "Python, from data upload to retrieval of analysis results for the analysis of vibration signals.\n",
    "\n",
    "### Signing up for the service\n",
    "\n",
    "For commercial use of the service, you will need to acquire a token from Viking Analytics.\n",
    "For the example here, we use a built-in token for demo.\n",
    "Please contact us for a free trial and provide you with your token.\n",
    "\n",
    "\n",
    "### Python Pre-requisites\n",
    "\n",
    "1. Make sure you have Python 3.6 or higher installed.\n",
    "\n",
    "In the following section we will walk through the code needed for the API interaction"
   ]
  },
  {
   "cell_type": "markdown",
   "metadata": {},
   "source": [
    "## Imports"
   ]
  },
  {
   "cell_type": "markdown",
   "metadata": {},
   "source": [
    "First, we begin with the general imports of Python libraries that are needed as part of this project."
   ]
  },
  {
   "cell_type": "code",
   "execution_count": 1,
   "metadata": {
    "ExecuteTime": {
     "end_time": "2021-03-18T10:20:48.441851Z",
     "start_time": "2021-03-18T10:20:48.257468Z"
    },
    "pycharm": {
     "name": "#%%\n"
    }
   },
   "outputs": [],
   "source": [
    "import json\n",
    "import os\n",
    "import sys\n",
    "from pathlib import Path\n",
    "\n",
    "import pandas as pd"
   ]
  },
  {
   "cell_type": "markdown",
   "metadata": {},
   "source": [
    "We proceed by installing the MVG library in our project."
   ]
  },
  {
   "cell_type": "code",
   "execution_count": null,
   "metadata": {
    "ExecuteTime": {
     "end_time": "2021-03-18T10:20:49.156431Z",
     "start_time": "2021-03-18T10:20:48.443076Z"
    },
    "pycharm": {
     "name": "#%%\n"
    }
   },
   "outputs": [],
   "source": [
    "!{sys.executable} -m pip install va-mvg"
   ]
  },
  {
   "cell_type": "markdown",
   "metadata": {},
   "source": [
    "We follow by importing the MVG library.\n",
    "\n",
    "The library documentation is available at [https://vikinganalytics.github.io/mvg/index.html](https://vikinganalytics.github.io/mvg/index.html)."
   ]
  },
  {
   "cell_type": "code",
   "execution_count": 2,
   "metadata": {
    "ExecuteTime": {
     "end_time": "2021-03-18T10:20:49.162159Z",
     "start_time": "2021-03-18T10:20:49.157902Z"
    },
    "pycharm": {
     "name": "#%%\n"
    }
   },
   "outputs": [],
   "source": [
    "from mvg import MVG\n",
    "from mvg.exceptions import MVGAPIError"
   ]
  },
  {
   "cell_type": "markdown",
   "metadata": {},
   "source": [
    "We begin by instantiating a \"session\" object with the MVG library.\n",
    "A session object basically caches the endpoint and the token, to simplify the calls to the MVG library.\n",
    "\n",
    "NOTE: Each TOKEN is used for Authorization AND Authentication.\n",
    "Thus, each unique token represents a unique user, each user has it own, unique database on the VA-MVG' service."
   ]
  },
  {
   "cell_type": "code",
   "execution_count": 3,
   "metadata": {
    "ExecuteTime": {
     "end_time": "2021-03-18T10:20:49.166821Z",
     "start_time": "2021-03-18T10:20:49.163443Z"
    },
    "pycharm": {
     "name": "#%%\n"
    }
   },
   "outputs": [],
   "source": [
    "ENDPOINT = \"https://api.beta.multiviz.com\"\n",
    "# Replace by your own Token\n",
    "VALID_TOKEN = os.environ['TEST_TOKEN']"
   ]
  },
  {
   "cell_type": "code",
   "execution_count": 4,
   "metadata": {
    "ExecuteTime": {
     "end_time": "2021-03-18T10:20:49.308364Z",
     "start_time": "2021-03-18T10:20:49.167982Z"
    },
    "pycharm": {
     "name": "#%%\n"
    }
   },
   "outputs": [],
   "source": [
    "session = MVG(ENDPOINT, VALID_TOKEN)"
   ]
  },
  {
   "cell_type": "markdown",
   "metadata": {},
   "source": [
    "We now check if the server is alive.\n",
    "The hello message contains the API version:"
   ]
  },
  {
   "cell_type": "code",
   "execution_count": 5,
   "metadata": {
    "ExecuteTime": {
     "end_time": "2021-03-18T10:20:49.437898Z",
     "start_time": "2021-03-18T10:20:49.309506Z"
    },
    "pycharm": {
     "name": "#%%\n"
    }
   },
   "outputs": [
    {
     "data": {
      "text/plain": [
       "{'api': {'name': 'MultiViz Engine API',\n",
       "  'version': '0.0.0-dev0',\n",
       "  'swagger': 'http://localhost:8000/docs'}}"
      ]
     },
     "execution_count": 5,
     "metadata": {},
     "output_type": "execute_result"
    }
   ],
   "source": [
    "session.say_hello()"
   ]
  },
  {
   "cell_type": "markdown",
   "metadata": {},
   "source": [
    "## Sources and Measurements\n",
    "\n",
    "Before we begin, we will ensure there are no previously existing sources and if there are, we will delete them."
   ]
  },
  {
   "cell_type": "code",
   "execution_count": 6,
   "metadata": {
    "ExecuteTime": {
     "end_time": "2021-03-18T10:20:49.715201Z",
     "start_time": "2021-03-18T10:20:49.439018Z"
    },
    "pycharm": {
     "name": "#%%\n"
    }
   },
   "outputs": [
    {
     "name": "stdout",
     "output_type": "stream",
     "text": [
      "Deleting 625d56104ea711ec943c00155da2e1da\n",
      "Deleting string\n",
      "Deleting test_source_1\n",
      "Deleting test_tab_1\n",
      "Deleting u0001\n",
      "Deleting zeros\n"
     ]
    }
   ],
   "source": [
    "sources = session.list_sources()\n",
    "\n",
    "for src in sources:\n",
    "    print(f\"Deleting {src['source_id']}\")\n",
    "    session.delete_source(src['source_id'])"
   ]
  },
  {
   "cell_type": "markdown",
   "metadata": {
    "pycharm": {
     "name": "#%% md\n"
    }
   },
   "source": [
    "The example below revolves around a sources with source_id \"u0001\".\n",
    "\n",
    "For convenience, this source and its measurements are available with the package distribution.\n",
    "\n",
    "You can retrieve the data from our public charlie repo https://github.com/vikinganalytics/va-data-charlie.git"
   ]
  },
  {
   "cell_type": "code",
   "execution_count": null,
   "metadata": {
    "ExecuteTime": {
     "end_time": "2021-03-18T10:20:49.825082Z",
     "start_time": "2021-03-18T10:20:49.717137Z"
    },
    "pycharm": {
     "name": "#%%\n"
    }
   },
   "outputs": [],
   "source": [
    "!git clone --depth=1 https://github.com/vikinganalytics/va-data-charlie.git"
   ]
  },
  {
   "cell_type": "code",
   "execution_count": 7,
   "metadata": {
    "ExecuteTime": {
     "end_time": "2021-03-18T10:20:49.830068Z",
     "start_time": "2021-03-18T10:20:49.826632Z"
    },
    "pycharm": {
     "name": "#%%\n"
    }
   },
   "outputs": [
    {
     "data": {
      "text/plain": [
       "'u0001'"
      ]
     },
     "execution_count": 7,
     "metadata": {},
     "output_type": "execute_result"
    }
   ],
   "source": [
    "# Path to the source folder\n",
    "REF_DB_PATH = Path.cwd() / \"va-data-charlie\" / \"charlieDb\" / \"acc\"\n",
    "REF_DB_PATH\n",
    "# Definition of the source_id\n",
    "SOURCE_ID = \"u0001\"\n",
    "SOURCE_ID\n"
   ]
  },
  {
   "cell_type": "markdown",
   "metadata": {},
   "source": [
    "### Creating a Source\n",
    "\n",
    "A source represents a vibration data source, typically a vibration sensor.\n",
    "Internally, in the analytics engine and data storage, all vibration data is stored under its source. \n",
    "In essence, a source is an identifier formed by\n",
    " - the source ID\n",
    " - metadata with required fields\n",
    " - optional arbitrary customer specific 'free form' data belonging to the source.\n",
    " - channel definition as a list\n",
    " \n",
    "The vibration service will only rely on the required fields.\n",
    "The free form data is a possibility for the client side to keep together source information, measurements and metadata which may be interesting for the analytics built-in features in the service.\n",
    "Examples of the free form data include location of sensor or the name of the asset which is mounted on.\n",
    "As we will see later, timestamps are internally represented as milliseconds since EPOCH (Jan 1st 1970), for that reason it is good practice to include the timezone where the measurement originated in the metadata. In addition, we provide the channel definition that contains the waveform data. Each channel represents a waveform. Thus, if the sensor only have one channel, we need to provide only the name given to the raw waveform for that channel. If the sensor has two or more channels, like ina tri-axial sensor, one needs to provide the name of the channels corresponding to the different waveforms that will be available in the measurements."
   ]
  },
  {
   "cell_type": "code",
   "execution_count": 8,
   "metadata": {
    "ExecuteTime": {
     "end_time": "2021-03-18T10:20:50.251327Z",
     "start_time": "2021-03-18T10:20:49.831109Z"
    },
    "pycharm": {
     "name": "#%%\n"
    }
   },
   "outputs": [
    {
     "data": {
      "text/plain": [
       "{'source_id': 'u0001',\n",
       " 'meta': {'assetId': 'assetJ',\n",
       "  'measPoint': 'mloc01',\n",
       "  'location': 'cancun',\n",
       "  'timezone': 'Europe/Stockholm'},\n",
       " 'properties': {'data_class': 'waveform', 'channels': ['acc']}}"
      ]
     },
     "execution_count": 8,
     "metadata": {},
     "output_type": "execute_result"
    }
   ],
   "source": [
    "meta_information = {'assetId': 'assetJ', 'measPoint': 'mloc01', 'location': 'cancun', 'timezone': 'Europe/Stockholm'}\n",
    "session.create_source(SOURCE_ID, meta=meta_information, channels=[\"acc\"])\n",
    "session.get_source(SOURCE_ID)"
   ]
  },
  {
   "cell_type": "markdown",
   "metadata": {},
   "source": [
    "List sources\n",
    "\n",
    "We can now check if our source actually has been created, by listing all the sources in the database.\n",
    "This function provides all the existing information about the source. Notice how in the source properties, one can see that the type of data to be uploaded for the source will be a waveform given that when one passes a channel definition to the source. The server interprets this as expecting for each measurement to be waveform data with the names of channels listed by the channel variable."
   ]
  },
  {
   "cell_type": "code",
   "execution_count": 9,
   "metadata": {
    "ExecuteTime": {
     "end_time": "2021-03-18T10:20:50.666517Z",
     "start_time": "2021-03-18T10:20:50.538383Z"
    },
    "pycharm": {
     "name": "#%%\n"
    }
   },
   "outputs": [
    {
     "data": {
      "text/plain": [
       "[{'source_id': 'u0001',\n",
       "  'meta': {'assetId': 'assetJ',\n",
       "   'measPoint': 'mloc01',\n",
       "   'location': 'cancun',\n",
       "   'timezone': 'Europe/Stockholm'},\n",
       "  'properties': {'data_class': 'waveform', 'channels': ['acc']}}]"
      ]
     },
     "execution_count": 9,
     "metadata": {},
     "output_type": "execute_result"
    }
   ],
   "source": [
    "session.list_sources()"
   ]
  },
  {
   "cell_type": "markdown",
   "metadata": {},
   "source": [
    "### Uploading Measurements\n",
    "\n",
    "Now that we have created a source, we can upload vibration measurements related to the source. \n",
    "The information needed to create a measurement consists of\n",
    "- sid: name of the source ID to associate the measurement with a source.\n",
    "- duration: float value that represent the duration, in seconds, of the measurement to estimate the sampling frequency.\n",
    "- timestamp: integer representing the milliseconds since EPOCH of when the measurement was taken.\n",
    "- data: list of floating point values representing the raw data of the vibration measurement.\n",
    "- meta: additional meta information for later use by the client but not to be processed by the analytics engine.\n",
    "\n",
    "In this example, all the measurement data is stored as csv and json files, where the timestamp is the name of each of these files. On the csv file, the header of the colum of data corresponds to the channel name."
   ]
  },
  {
   "cell_type": "code",
   "execution_count": 10,
   "metadata": {
    "ExecuteTime": {
     "end_time": "2021-03-18T10:20:50.670011Z",
     "start_time": "2021-03-18T10:20:50.667593Z"
    },
    "pycharm": {
     "name": "#%%\n"
    }
   },
   "outputs": [],
   "source": [
    "# meas is a list of timestamps representing the measurements in our repo\n",
    "src_path = REF_DB_PATH / SOURCE_ID\n",
    "meas = [f.stem for f in Path(src_path).glob(\"*.csv\")]"
   ]
  },
  {
   "cell_type": "code",
   "execution_count": 11,
   "metadata": {
    "ExecuteTime": {
     "end_time": "2021-03-18T10:21:50.347959Z",
     "start_time": "2021-03-18T10:20:50.671104Z"
    },
    "pycharm": {
     "name": "#%%\n"
    }
   },
   "outputs": [
    {
     "name": "stdout",
     "output_type": "stream",
     "text": [
      "Read 39999 samples\n",
      "Read meta:{'duration': 2.8672073400507907, 'meta': {}}\n",
      "Uploading /home/oskar/viking_unix/mvg/docs/source/content/examples/va-data-charlie/charlieDb/acc/u0001/1573646460.csv\n",
      "Read 39999 samples\n",
      "Read meta:{'duration': 2.8672073400507907, 'meta': {}}\n",
      "Uploading /home/oskar/viking_unix/mvg/docs/source/content/examples/va-data-charlie/charlieDb/acc/u0001/1570273260.csv\n",
      "Read 39999 samples\n",
      "Read meta:{'duration': 2.8672073400507907, 'meta': {}}\n",
      "Uploading /home/oskar/viking_unix/mvg/docs/source/content/examples/va-data-charlie/charlieDb/acc/u0001/1571482860.csv\n",
      "Read 39999 samples\n",
      "Read meta:{'duration': 2.8672073400507907, 'meta': {}}\n",
      "Uploading /home/oskar/viking_unix/mvg/docs/source/content/examples/va-data-charlie/charlieDb/acc/u0001/1574251260.csv\n",
      "Read 39999 samples\n",
      "Read meta:{'duration': 2.8672073400507907, 'meta': {}}\n",
      "Uploading /home/oskar/viking_unix/mvg/docs/source/content/examples/va-data-charlie/charlieDb/acc/u0001/1571050860.csv\n",
      "Read 39999 samples\n",
      "Read meta:{'duration': 2.8672073400507907, 'meta': {}}\n",
      "Uploading /home/oskar/viking_unix/mvg/docs/source/content/examples/va-data-charlie/charlieDb/acc/u0001/1574164860.csv\n",
      "Read 39999 samples\n",
      "Read meta:{'duration': 2.8672073400507907, 'meta': {}}\n",
      "Uploading /home/oskar/viking_unix/mvg/docs/source/content/examples/va-data-charlie/charlieDb/acc/u0001/1573387260.csv\n",
      "Read 39999 samples\n",
      "Read meta:{'duration': 2.8672073400507907, 'meta': {}}\n",
      "Uploading /home/oskar/viking_unix/mvg/docs/source/content/examples/va-data-charlie/charlieDb/acc/u0001/1570446060.csv\n",
      "Read 39999 samples\n",
      "Read meta:{'duration': 2.8672073400507907, 'meta': {}}\n",
      "Uploading /home/oskar/viking_unix/mvg/docs/source/content/examples/va-data-charlie/charlieDb/acc/u0001/1572350460.csv\n",
      "Read 39999 samples\n",
      "Read meta:{'duration': 2.8672073400507907, 'meta': {}}\n",
      "Uploading /home/oskar/viking_unix/mvg/docs/source/content/examples/va-data-charlie/charlieDb/acc/u0001/1573041660.csv\n",
      "Read 39999 samples\n",
      "Read meta:{'duration': 2.8672073400507907, 'meta': {}}\n",
      "Uploading /home/oskar/viking_unix/mvg/docs/source/content/examples/va-data-charlie/charlieDb/acc/u0001/1573905660.csv\n",
      "Read 39999 samples\n",
      "Read meta:{'duration': 2.8672073400507907, 'meta': {}}\n",
      "Uploading /home/oskar/viking_unix/mvg/docs/source/content/examples/va-data-charlie/charlieDb/acc/u0001/1570964460.csv\n",
      "Read 39999 samples\n",
      "Read meta:{'duration': 2.8672073400507907, 'meta': {}}\n",
      "Uploading /home/oskar/viking_unix/mvg/docs/source/content/examples/va-data-charlie/charlieDb/acc/u0001/1573819260.csv\n",
      "Read 39999 samples\n",
      "Read meta:{'duration': 2.8672073400507907, 'meta': {}}\n",
      "Uploading /home/oskar/viking_unix/mvg/docs/source/content/examples/va-data-charlie/charlieDb/acc/u0001/1573128060.csv\n",
      "Read 39999 samples\n",
      "Read meta:{'duration': 2.8672073400507907, 'meta': {}}\n",
      "Uploading /home/oskar/viking_unix/mvg/docs/source/content/examples/va-data-charlie/charlieDb/acc/u0001/1573300860.csv\n",
      "Read 39999 samples\n",
      "Read meta:{'duration': 2.8672073400507907, 'meta': {}}\n",
      "Uploading /home/oskar/viking_unix/mvg/docs/source/content/examples/va-data-charlie/charlieDb/acc/u0001/1573732860.csv\n",
      "Read 39999 samples\n",
      "Read meta:{'duration': 2.8672073400507907, 'meta': {}}\n",
      "Uploading /home/oskar/viking_unix/mvg/docs/source/content/examples/va-data-charlie/charlieDb/acc/u0001/1571310060.csv\n",
      "Read 39999 samples\n",
      "Read meta:{'duration': 2.8672073400507907, 'meta': {}}\n",
      "Uploading /home/oskar/viking_unix/mvg/docs/source/content/examples/va-data-charlie/charlieDb/acc/u0001/1570878060.csv\n",
      "Read 39999 samples\n",
      "Read meta:{'duration': 2.8672073400507907, 'meta': {}}\n",
      "Uploading /home/oskar/viking_unix/mvg/docs/source/content/examples/va-data-charlie/charlieDb/acc/u0001/1573560060.csv\n",
      "Read 39999 samples\n",
      "Read meta:{'duration': 2.8672073400507907, 'meta': {}}\n",
      "Uploading /home/oskar/viking_unix/mvg/docs/source/content/examples/va-data-charlie/charlieDb/acc/u0001/1572696060.csv\n",
      "Read 39999 samples\n",
      "Read meta:{'duration': 2.8672073400507907, 'meta': {}}\n",
      "Uploading /home/oskar/viking_unix/mvg/docs/source/content/examples/va-data-charlie/charlieDb/acc/u0001/1572782460.csv\n",
      "Read 39999 samples\n",
      "Read meta:{'duration': 2.8672073400507907, 'meta': {}}\n",
      "Uploading /home/oskar/viking_unix/mvg/docs/source/content/examples/va-data-charlie/charlieDb/acc/u0001/1574078460.csv\n",
      "Read 39999 samples\n",
      "Read meta:{'duration': 2.8672073400507907, 'meta': {}}\n",
      "Uploading /home/oskar/viking_unix/mvg/docs/source/content/examples/va-data-charlie/charlieDb/acc/u0001/1571655660.csv\n",
      "Read 39999 samples\n",
      "Read meta:{'duration': 2.8672073400507907, 'meta': {}}\n",
      "Uploading /home/oskar/viking_unix/mvg/docs/source/content/examples/va-data-charlie/charlieDb/acc/u0001/1572001260.csv\n",
      "Read 39999 samples\n",
      "Read meta:{'duration': 2.8672073400507907, 'meta': {}}\n",
      "Uploading /home/oskar/viking_unix/mvg/docs/source/content/examples/va-data-charlie/charlieDb/acc/u0001/1571569260.csv\n",
      "Read 39999 samples\n",
      "Read meta:{'duration': 2.8672073400507907, 'meta': {}}\n",
      "Uploading /home/oskar/viking_unix/mvg/docs/source/content/examples/va-data-charlie/charlieDb/acc/u0001/1571223660.csv\n",
      "Read 39999 samples\n",
      "Read meta:{'duration': 2.8672073400507907, 'meta': {}}\n",
      "Uploading /home/oskar/viking_unix/mvg/docs/source/content/examples/va-data-charlie/charlieDb/acc/u0001/1570618860.csv\n",
      "Read 39999 samples\n",
      "Read meta:{'duration': 2.8672073400507907, 'meta': {}}\n",
      "Uploading /home/oskar/viking_unix/mvg/docs/source/content/examples/va-data-charlie/charlieDb/acc/u0001/1570186860.csv\n",
      "Read 39999 samples\n",
      "Read meta:{'duration': 2.8672073400507907, 'meta': {}}\n",
      "Uploading /home/oskar/viking_unix/mvg/docs/source/content/examples/va-data-charlie/charlieDb/acc/u0001/1571914860.csv\n",
      "Read 39999 samples\n",
      "Read meta:{'duration': 2.8672073400507907, 'meta': {}}\n",
      "Uploading /home/oskar/viking_unix/mvg/docs/source/content/examples/va-data-charlie/charlieDb/acc/u0001/1570532460.csv\n",
      "Read 39999 samples\n",
      "Read meta:{'duration': 2.8672073400507907, 'meta': {}}\n",
      "Uploading /home/oskar/viking_unix/mvg/docs/source/content/examples/va-data-charlie/charlieDb/acc/u0001/1574337660.csv\n",
      "Read 39999 samples\n",
      "Read meta:{'duration': 2.8672073400507907, 'meta': {}}\n",
      "Uploading /home/oskar/viking_unix/mvg/docs/source/content/examples/va-data-charlie/charlieDb/acc/u0001/1570791660.csv\n",
      "Read 39999 samples\n",
      "Read meta:{'duration': 2.8672073400507907, 'meta': {}}\n",
      "Uploading /home/oskar/viking_unix/mvg/docs/source/content/examples/va-data-charlie/charlieDb/acc/u0001/1572609660.csv\n",
      "Read 39999 samples\n",
      "Read meta:{'duration': 2.8672073400507907, 'meta': {}}\n",
      "Uploading /home/oskar/viking_unix/mvg/docs/source/content/examples/va-data-charlie/charlieDb/acc/u0001/1572177660.csv\n",
      "Read 39999 samples\n",
      "Read meta:{'duration': 2.8672073400507907, 'meta': {}}\n",
      "Uploading /home/oskar/viking_unix/mvg/docs/source/content/examples/va-data-charlie/charlieDb/acc/u0001/1572264060.csv\n",
      "Read 39999 samples\n",
      "Read meta:{'duration': 2.8672073400507907, 'meta': {}}\n",
      "Uploading /home/oskar/viking_unix/mvg/docs/source/content/examples/va-data-charlie/charlieDb/acc/u0001/1572868860.csv\n",
      "Read 39999 samples\n",
      "Read meta:{'duration': 2.8672073400507907, 'meta': {}}\n",
      "Uploading /home/oskar/viking_unix/mvg/docs/source/content/examples/va-data-charlie/charlieDb/acc/u0001/1572955260.csv\n",
      "Read 39999 samples\n",
      "Read meta:{'duration': 2.8672073400507907, 'meta': {}}\n",
      "Uploading /home/oskar/viking_unix/mvg/docs/source/content/examples/va-data-charlie/charlieDb/acc/u0001/1571828460.csv\n",
      "Read 39999 samples\n",
      "Read meta:{'duration': 2.8672073400507907, 'meta': {}}\n",
      "Uploading /home/oskar/viking_unix/mvg/docs/source/content/examples/va-data-charlie/charlieDb/acc/u0001/1572523260.csv\n",
      "Read 39999 samples\n",
      "Read meta:{'duration': 2.8672073400507907, 'meta': {}}\n",
      "Uploading /home/oskar/viking_unix/mvg/docs/source/content/examples/va-data-charlie/charlieDb/acc/u0001/1570705260.csv\n",
      "Read 39999 samples\n",
      "Read meta:{'duration': 2.8672073400507907, 'meta': {}}\n",
      "Uploading /home/oskar/viking_unix/mvg/docs/source/content/examples/va-data-charlie/charlieDb/acc/u0001/1571742060.csv\n",
      "Read 39999 samples\n",
      "Read meta:{'duration': 2.8672073400507907, 'meta': {}}\n",
      "Uploading /home/oskar/viking_unix/mvg/docs/source/content/examples/va-data-charlie/charlieDb/acc/u0001/1571137260.csv\n",
      "Read 39999 samples\n",
      "Read meta:{'duration': 2.8672073400507907, 'meta': {}}\n",
      "Uploading /home/oskar/viking_unix/mvg/docs/source/content/examples/va-data-charlie/charlieDb/acc/u0001/1570359660.csv\n",
      "Read 39999 samples\n",
      "Read meta:{'duration': 2.8672073400507907, 'meta': {}}\n",
      "Uploading /home/oskar/viking_unix/mvg/docs/source/content/examples/va-data-charlie/charlieDb/acc/u0001/1574424060.csv\n",
      "Read 39999 samples\n",
      "Read meta:{'duration': 2.8672073400507907, 'meta': {}}\n",
      "Uploading /home/oskar/viking_unix/mvg/docs/source/content/examples/va-data-charlie/charlieDb/acc/u0001/1572436860.csv\n",
      "Read 39999 samples\n",
      "Read meta:{'duration': 2.8672073400507907, 'meta': {}}\n",
      "Uploading /home/oskar/viking_unix/mvg/docs/source/content/examples/va-data-charlie/charlieDb/acc/u0001/1573473660.csv\n",
      "Read 39999 samples\n",
      "Read meta:{'duration': 2.8672073400507907, 'meta': {}}\n",
      "Uploading /home/oskar/viking_unix/mvg/docs/source/content/examples/va-data-charlie/charlieDb/acc/u0001/1571396460.csv\n",
      "Read 39999 samples\n",
      "Read meta:{'duration': 2.8672073400507907, 'meta': {}}\n",
      "Uploading /home/oskar/viking_unix/mvg/docs/source/content/examples/va-data-charlie/charlieDb/acc/u0001/1573992060.csv\n",
      "Read 39999 samples\n",
      "Read meta:{'duration': 2.8672073400507907, 'meta': {}}\n",
      "Uploading /home/oskar/viking_unix/mvg/docs/source/content/examples/va-data-charlie/charlieDb/acc/u0001/1572087660.csv\n",
      "Read 39999 samples\n",
      "Read meta:{'duration': 2.8672073400507907, 'meta': {}}\n",
      "Uploading /home/oskar/viking_unix/mvg/docs/source/content/examples/va-data-charlie/charlieDb/acc/u0001/1573214460.csv\n"
     ]
    }
   ],
   "source": [
    "# We iterate over all of elements in this list\n",
    "for m in meas:\n",
    "\n",
    "    # raw data per measurement\n",
    "    TS_MEAS = str(m) + \".csv\"  # filename\n",
    "    TS_MEAS = REF_DB_PATH / SOURCE_ID / TS_MEAS  # path to file\n",
    "    ts_df = pd.read_csv(TS_MEAS)  # read csv into df\n",
    "    accs = ts_df.iloc[:, 0].tolist()  # convert to list\n",
    "    print(f\"Read {len(ts_df)} samples\")\n",
    "\n",
    "    # meta information file per measurement\n",
    "    TS_META = str(m) + \".json\"  # filename\n",
    "    TS_META = REF_DB_PATH / SOURCE_ID / TS_META  # path\n",
    "    with open(TS_META, \"r\") as json_file:  # read json\n",
    "        meas_info = json.load(json_file)  # into dict\n",
    "    print(f\"Read meta:{meas_info}\")\n",
    "\n",
    "    # get duration and other meta info\n",
    "    duration = meas_info['duration']\n",
    "    meta_info = meas_info['meta']\n",
    "\n",
    "    # Upload measurements\n",
    "    print(f\"Uploading {TS_MEAS}\")\n",
    "    try:\n",
    "        session.create_measurement(sid=SOURCE_ID, \n",
    "                                   duration=duration, \n",
    "                                   timestamp=int(m), \n",
    "                                   data={\"acc\": accs}, \n",
    "                                   meta=meta_info)\n",
    "    except MVGAPIError as exc:\n",
    "        print(str(exc))"
   ]
  },
  {
   "cell_type": "markdown",
   "metadata": {},
   "source": [
    "Check if we actually created the measurements by reading them."
   ]
  },
  {
   "cell_type": "code",
   "execution_count": 12,
   "metadata": {
    "ExecuteTime": {
     "end_time": "2021-03-18T10:22:16.187529Z",
     "start_time": "2021-03-18T10:21:50.349197Z"
    },
    "pycharm": {
     "name": "#%%\n"
    }
   },
   "outputs": [
    {
     "name": "stdout",
     "output_type": "stream",
     "text": [
      "Read 50 stored measurements\n"
     ]
    }
   ],
   "source": [
    "measurements = session.list_measurements(SOURCE_ID)\n",
    "print(f\"Read {len(measurements)} stored measurements\")"
   ]
  },
  {
   "cell_type": "markdown",
   "metadata": {},
   "source": [
    "## Analysis\n",
    "\n",
    "We begin by listing all the features available in the service."
   ]
  },
  {
   "cell_type": "code",
   "execution_count": 14,
   "metadata": {
    "ExecuteTime": {
     "end_time": "2021-03-18T10:22:16.319506Z",
     "start_time": "2021-03-18T10:22:16.188820Z"
    },
    "pycharm": {
     "name": "#%%\n"
    }
   },
   "outputs": [
    {
     "data": {
      "text/plain": [
       "{'ModeId': '0.1.1',\n",
       " 'BlackSheep': '1.0.0',\n",
       " 'KPIDemo': '1.0.0',\n",
       " 'LabelPropagation': '0.1.0'}"
      ]
     },
     "execution_count": 14,
     "metadata": {},
     "output_type": "execute_result"
    }
   ],
   "source": [
    "available_features = session.supported_features()\n",
    "available_features"
   ]
  },
  {
   "cell_type": "markdown",
   "metadata": {},
   "source": [
    "In this example, we will show how to request the KPIDemo and ModeId features to be applied to the previously defined SOURCE_ID.\n",
    "The BlackSheep feature is aimed to population analytics.\n",
    "You can read about how to use it in the [\"Analysis and Results Visualization\"](6-analysis_visual.ipynb) example.\n",
    "\n",
    "We will begin with the 'KPIDemo' feature, which provides KPIs, such as RMS, for each vibration measurement.\n",
    "We proceed to request the analysis to the MVG service."
   ]
  },
  {
   "cell_type": "code",
   "execution_count": 15,
   "metadata": {
    "ExecuteTime": {
     "end_time": "2021-03-18T10:22:16.439918Z",
     "start_time": "2021-03-18T10:22:16.320611Z"
    },
    "pycharm": {
     "name": "#%%\n"
    }
   },
   "outputs": [
    {
     "data": {
      "text/plain": [
       "{'request_id': '75fc046d1b6ca741cf442552f506f95b', 'request_status': 'queued'}"
      ]
     },
     "execution_count": 15,
     "metadata": {},
     "output_type": "execute_result"
    }
   ],
   "source": [
    "KPI_u0001 = session.request_analysis(SOURCE_ID, 'KPIDemo')\n",
    "KPI_u0001"
   ]
  },
  {
   "cell_type": "markdown",
   "metadata": {
    "pycharm": {
     "name": "#%% md\n"
    }
   },
   "source": [
    "The requested analysis will return a dictionary object with two elements.\n",
    "The first element is a `\"request_id\"` that can be used to retrieve the results after.\n",
    "The second element is `\"request_status\"` that provides the status right after placing the analysis request. \n",
    "\n",
    "Before we are able to get the analysis results, we need to wait until those results are successfully completed.\n",
    "\n",
    "We can query for the status of our requested analysis.\n",
    "The possible status are:\n",
    "- Queued: The analysis has not started in the remote server and it is in the queue to begin.\n",
    "- Ongoing: The analysis is been processed at this time.\n",
    "- Failed: The analysis is complete and failed to produce a result.\n",
    "- Successful: The analysis is complete and it successfully produced a result."
   ]
  },
  {
   "cell_type": "code",
   "execution_count": 16,
   "metadata": {
    "ExecuteTime": {
     "end_time": "2021-03-18T10:22:16.571418Z",
     "start_time": "2021-03-18T10:22:16.440996Z"
    },
    "pycharm": {
     "name": "#%%\n"
    }
   },
   "outputs": [
    {
     "name": "stdout",
     "output_type": "stream",
     "text": [
      "KPI Analysis: successful\n"
     ]
    }
   ],
   "source": [
    "REQUEST_ID_KPI_u0001 = KPI_u0001['request_id']\n",
    "status = session.get_analysis_status(REQUEST_ID_KPI_u0001)\n",
    "print(f\"KPI Analysis: {status}\")"
   ]
  },
  {
   "cell_type": "markdown",
   "metadata": {
    "pycharm": {
     "name": "#%% md\n"
    }
   },
   "source": [
    "The next feature is 'ModeId'.\n",
    "The 'ModeId' feature displays all the operating modes over time of an individual asset. \n",
    "The similar procedure is repeated to request the analysis of the \"ModeId\" feature for our source \"u0001\"."
   ]
  },
  {
   "cell_type": "code",
   "execution_count": 17,
   "metadata": {
    "ExecuteTime": {
     "end_time": "2021-03-18T10:22:16.716298Z",
     "start_time": "2021-03-18T10:22:16.572585Z"
    },
    "pycharm": {
     "name": "#%%\n"
    }
   },
   "outputs": [
    {
     "data": {
      "text/plain": [
       "{'request_id': '09fa086e2bcf4d25b2ad39a442d2c5ad', 'request_status': 'queued'}"
      ]
     },
     "execution_count": 17,
     "metadata": {},
     "output_type": "execute_result"
    }
   ],
   "source": [
    "ModeId_u0001 = session.request_analysis(SOURCE_ID, 'ModeId')\n",
    "ModeId_u0001"
   ]
  },
  {
   "cell_type": "markdown",
   "metadata": {},
   "source": [
    "We also check the status for our second feature."
   ]
  },
  {
   "cell_type": "code",
   "execution_count": 18,
   "metadata": {
    "ExecuteTime": {
     "end_time": "2021-03-18T10:22:16.881788Z",
     "start_time": "2021-03-18T10:22:16.717429Z"
    },
    "pycharm": {
     "name": "#%%\n"
    }
   },
   "outputs": [
    {
     "name": "stdout",
     "output_type": "stream",
     "text": [
      "ModeId Analysis: queued\n"
     ]
    }
   ],
   "source": [
    "REQUEST_ID_ModeId_u0001 = ModeId_u0001['request_id']\n",
    "status = session.get_analysis_status(REQUEST_ID_ModeId_u0001)\n",
    "print(f\"ModeId Analysis: {status}\")"
   ]
  },
  {
   "cell_type": "markdown",
   "metadata": {
    "pycharm": {
     "name": "#%% md\n"
    }
   },
   "source": [
    "We can proceed to get the results by calling the corresponding requestIds for the feature of each source.\n",
    "\n",
    "The output of the get_analysis_results function is a dictionary and we show the keys of one those dictionaries.\n",
    "The keys are the same for all features and contains seven elements.\n",
    "These elements are:\n",
    "- `\"status\"` indicates if the analysis was successful.\n",
    "- `\"request_id\"` is the identifier of the requested analysis.\n",
    "- `\"feature\"` is the name of the requested feature.\n",
    "- `\"results\"` includes the numeric results.\n",
    "- `\"inputs\"` includes the input information for the request analysis.\n",
    "- `\"error_info\"` includes the error information in case the analysis fails and it is empty if the analysis is successful.\n",
    "- `\"debug_info\"` includes debuging (log) information related to the failed analysis."
   ]
  },
  {
   "cell_type": "code",
   "execution_count": 19,
   "metadata": {
    "ExecuteTime": {
     "end_time": "2021-03-18T10:22:17.505749Z",
     "start_time": "2021-03-18T10:22:16.882964Z"
    },
    "pycharm": {
     "name": "#%%\n"
    }
   },
   "outputs": [
    {
     "data": {
      "text/plain": [
       "dict_keys(['status', 'request_id', 'feature', 'results', 'inputs', 'error_info', 'debug_info'])"
      ]
     },
     "execution_count": 19,
     "metadata": {},
     "output_type": "execute_result"
    }
   ],
   "source": [
    "session.wait_for_analyses([REQUEST_ID_ModeId_u0001, REQUEST_ID_KPI_u0001])\n",
    "kpi_results = session.get_analysis_results(request_id=REQUEST_ID_KPI_u0001)\n",
    "mode_results = session.get_analysis_results(request_id=REQUEST_ID_ModeId_u0001)\n",
    "\n",
    "kpi_results.keys()"
   ]
  },
  {
   "cell_type": "markdown",
   "metadata": {},
   "source": [
    "### Visualization\n",
    "\n",
    "The MVG Library incorporates a module that facilitates the handling of the results and its visualization.\n",
    "Using this module, it becomes easier to convert the results into a Pandas dataframe for ease of manipulation.\n",
    "In addition, it enables to quickly evaluate the results by getting a summary of them or visualize them.\n",
    "\n",
    "The name of this module is `\"analysis_classes\"` and we begin by calling it."
   ]
  },
  {
   "cell_type": "code",
   "execution_count": 20,
   "metadata": {
    "pycharm": {
     "name": "#%%\n"
    }
   },
   "outputs": [],
   "source": [
    "from mvg import analysis_classes"
   ]
  },
  {
   "cell_type": "markdown",
   "metadata": {
    "pycharm": {
     "name": "#%% md\n"
    }
   },
   "source": [
    "The first step requires parsing the results available from the analysis.\n",
    "We begin by showing how to do this with the KPIDemo feature."
   ]
  },
  {
   "cell_type": "code",
   "execution_count": 21,
   "metadata": {
    "pycharm": {
     "name": "#%%\n"
    }
   },
   "outputs": [],
   "source": [
    "kpi_results_parsed = analysis_classes.parse_results(kpi_results)"
   ]
  },
  {
   "cell_type": "markdown",
   "metadata": {
    "pycharm": {
     "name": "#%% md\n"
    }
   },
   "source": [
    "From here, we can call these results into a Pandas dataframe."
   ]
  },
  {
   "cell_type": "code",
   "execution_count": 22,
   "metadata": {
    "pycharm": {
     "name": "#%%\n"
    }
   },
   "outputs": [
    {
     "data": {
      "text/html": [
       "<div>\n",
       "<style scoped>\n",
       "    .dataframe tbody tr th:only-of-type {\n",
       "        vertical-align: middle;\n",
       "    }\n",
       "\n",
       "    .dataframe tbody tr th {\n",
       "        vertical-align: top;\n",
       "    }\n",
       "\n",
       "    .dataframe thead th {\n",
       "        text-align: right;\n",
       "    }\n",
       "</style>\n",
       "<table border=\"1\" class=\"dataframe\">\n",
       "  <thead>\n",
       "    <tr style=\"text-align: right;\">\n",
       "      <th></th>\n",
       "      <th>timestamps</th>\n",
       "      <th>rms_acc</th>\n",
       "      <th>peak_acc</th>\n",
       "      <th>peak2peak_acc</th>\n",
       "      <th>variance_acc</th>\n",
       "      <th>crest_factor_acc</th>\n",
       "      <th>utilization_acc</th>\n",
       "      <th>dc_component_acc</th>\n",
       "      <th>datetime</th>\n",
       "    </tr>\n",
       "  </thead>\n",
       "  <tbody>\n",
       "    <tr>\n",
       "      <th>0</th>\n",
       "      <td>1570186860</td>\n",
       "      <td>0.647094</td>\n",
       "      <td>2.686565</td>\n",
       "      <td>5.313293</td>\n",
       "      <td>0.418730</td>\n",
       "      <td>4.151739</td>\n",
       "      <td>1</td>\n",
       "      <td>-0.140239</td>\n",
       "      <td>1970-01-19 04:09:46.860000+00:00</td>\n",
       "    </tr>\n",
       "    <tr>\n",
       "      <th>1</th>\n",
       "      <td>1570273260</td>\n",
       "      <td>0.647131</td>\n",
       "      <td>2.691755</td>\n",
       "      <td>5.367004</td>\n",
       "      <td>0.418778</td>\n",
       "      <td>4.159523</td>\n",
       "      <td>1</td>\n",
       "      <td>-0.140425</td>\n",
       "      <td>1970-01-19 04:11:13.260000+00:00</td>\n",
       "    </tr>\n",
       "    <tr>\n",
       "      <th>2</th>\n",
       "      <td>1570359660</td>\n",
       "      <td>0.646627</td>\n",
       "      <td>2.715255</td>\n",
       "      <td>5.414856</td>\n",
       "      <td>0.418126</td>\n",
       "      <td>4.199108</td>\n",
       "      <td>1</td>\n",
       "      <td>-0.140243</td>\n",
       "      <td>1970-01-19 04:12:39.660000+00:00</td>\n",
       "    </tr>\n",
       "    <tr>\n",
       "      <th>3</th>\n",
       "      <td>1570446060</td>\n",
       "      <td>0.646881</td>\n",
       "      <td>2.685151</td>\n",
       "      <td>5.351562</td>\n",
       "      <td>0.418455</td>\n",
       "      <td>4.150921</td>\n",
       "      <td>1</td>\n",
       "      <td>-0.140351</td>\n",
       "      <td>1970-01-19 04:14:06.060000+00:00</td>\n",
       "    </tr>\n",
       "    <tr>\n",
       "      <th>4</th>\n",
       "      <td>1570532460</td>\n",
       "      <td>0.646649</td>\n",
       "      <td>2.726611</td>\n",
       "      <td>5.395325</td>\n",
       "      <td>0.418155</td>\n",
       "      <td>4.216521</td>\n",
       "      <td>1</td>\n",
       "      <td>-0.140429</td>\n",
       "      <td>1970-01-19 04:15:32.460000+00:00</td>\n",
       "    </tr>\n",
       "  </tbody>\n",
       "</table>\n",
       "</div>"
      ],
      "text/plain": [
       "   timestamps   rms_acc  peak_acc  peak2peak_acc  variance_acc  \\\n",
       "0  1570186860  0.647094  2.686565       5.313293      0.418730   \n",
       "1  1570273260  0.647131  2.691755       5.367004      0.418778   \n",
       "2  1570359660  0.646627  2.715255       5.414856      0.418126   \n",
       "3  1570446060  0.646881  2.685151       5.351562      0.418455   \n",
       "4  1570532460  0.646649  2.726611       5.395325      0.418155   \n",
       "\n",
       "   crest_factor_acc  utilization_acc  dc_component_acc  \\\n",
       "0          4.151739                1         -0.140239   \n",
       "1          4.159523                1         -0.140425   \n",
       "2          4.199108                1         -0.140243   \n",
       "3          4.150921                1         -0.140351   \n",
       "4          4.216521                1         -0.140429   \n",
       "\n",
       "                          datetime  \n",
       "0 1970-01-19 04:09:46.860000+00:00  \n",
       "1 1970-01-19 04:11:13.260000+00:00  \n",
       "2 1970-01-19 04:12:39.660000+00:00  \n",
       "3 1970-01-19 04:14:06.060000+00:00  \n",
       "4 1970-01-19 04:15:32.460000+00:00  "
      ]
     },
     "execution_count": 22,
     "metadata": {},
     "output_type": "execute_result"
    }
   ],
   "source": [
    "df_kpi = kpi_results_parsed.to_df()\n",
    "df_kpi.head()"
   ]
  },
  {
   "cell_type": "markdown",
   "metadata": {
    "pycharm": {
     "name": "#%% md\n"
    }
   },
   "source": [
    "From the results, we can see that the KPIDemo feature provides some KPIs, e.g. rms and peak-to-peak.\n",
    "All this is available for each measurement.\n",
    "\n",
    "We can request to display a summary of the results."
   ]
  },
  {
   "cell_type": "code",
   "execution_count": 23,
   "metadata": {
    "pycharm": {
     "name": "#%%\n"
    }
   },
   "outputs": [
    {
     "name": "stdout",
     "output_type": "stream",
     "text": [
      "=== KPIDemo ===\n",
      "request_id 75fc046d1b6ca741cf442552f506f95b\n",
      "from 19700119-04:09.46 to 19700119-05:20.24\n",
      "\n",
      "+-------+--------------+-----------+------------+-----------------+----------------+--------------------+-------------------+--------------------+\n",
      "|       |   timestamps |   rms_acc |   peak_acc |   peak2peak_acc |   variance_acc |   crest_factor_acc |   utilization_acc |   dc_component_acc |\n",
      "|-------+--------------+-----------+------------+-----------------+----------------+--------------------+-------------------+--------------------|\n",
      "| count | 50           | 50        |  50        |       50        |     50         |          50        |                50 |         50         |\n",
      "| mean  |  1.57231e+09 |  0.611699 |   2.81764  |        5.40059  |      0.377308  |           4.62971  |                 1 |         -0.120877  |\n",
      "| std   |  1.26105e+06 |  0.056542 |   0.278079 |        0.378225 |      0.0636187 |           0.333362 |                 0 |          0.0141939 |\n",
      "| min   |  1.57019e+09 |  0.484569 |   2.26056  |        4.55438  |      0.234808  |           4.12335  |                 1 |         -0.140529  |\n",
      "| 25%   |  1.57125e+09 |  0.627919 |   2.68338  |        5.31364  |      0.394283  |           4.20398  |                 1 |         -0.140198  |\n",
      "| 50%   |  1.57231e+09 |  0.628315 |   2.84999  |        5.52634  |      0.39478   |           4.80636  |                 1 |         -0.112321  |\n",
      "| 75%   |  1.57337e+09 |  0.646848 |   3.06662  |        5.69377  |      0.418413  |           4.8906   |                 1 |         -0.109663  |\n",
      "| max   |  1.57442e+09 |  0.647702 |   3.13609  |        5.79639  |      0.419518  |           4.9925   |                 1 |         -0.109068  |\n",
      "+-------+--------------+-----------+------------+-----------------+----------------+--------------------+-------------------+--------------------+\n"
     ]
    },
    {
     "data": {
      "text/html": [
       "<div>\n",
       "<style scoped>\n",
       "    .dataframe tbody tr th:only-of-type {\n",
       "        vertical-align: middle;\n",
       "    }\n",
       "\n",
       "    .dataframe tbody tr th {\n",
       "        vertical-align: top;\n",
       "    }\n",
       "\n",
       "    .dataframe thead th {\n",
       "        text-align: right;\n",
       "    }\n",
       "</style>\n",
       "<table border=\"1\" class=\"dataframe\">\n",
       "  <thead>\n",
       "    <tr style=\"text-align: right;\">\n",
       "      <th></th>\n",
       "      <th>timestamps</th>\n",
       "      <th>rms_acc</th>\n",
       "      <th>peak_acc</th>\n",
       "      <th>peak2peak_acc</th>\n",
       "      <th>variance_acc</th>\n",
       "      <th>crest_factor_acc</th>\n",
       "      <th>utilization_acc</th>\n",
       "      <th>dc_component_acc</th>\n",
       "    </tr>\n",
       "  </thead>\n",
       "  <tbody>\n",
       "    <tr>\n",
       "      <th>count</th>\n",
       "      <td>5.000000e+01</td>\n",
       "      <td>50.000000</td>\n",
       "      <td>50.000000</td>\n",
       "      <td>50.000000</td>\n",
       "      <td>50.000000</td>\n",
       "      <td>50.000000</td>\n",
       "      <td>50.0</td>\n",
       "      <td>50.000000</td>\n",
       "    </tr>\n",
       "    <tr>\n",
       "      <th>mean</th>\n",
       "      <td>1.572306e+09</td>\n",
       "      <td>0.611699</td>\n",
       "      <td>2.817644</td>\n",
       "      <td>5.400591</td>\n",
       "      <td>0.377308</td>\n",
       "      <td>4.629712</td>\n",
       "      <td>1.0</td>\n",
       "      <td>-0.120877</td>\n",
       "    </tr>\n",
       "    <tr>\n",
       "      <th>std</th>\n",
       "      <td>1.261051e+06</td>\n",
       "      <td>0.056542</td>\n",
       "      <td>0.278079</td>\n",
       "      <td>0.378225</td>\n",
       "      <td>0.063619</td>\n",
       "      <td>0.333362</td>\n",
       "      <td>0.0</td>\n",
       "      <td>0.014194</td>\n",
       "    </tr>\n",
       "    <tr>\n",
       "      <th>min</th>\n",
       "      <td>1.570187e+09</td>\n",
       "      <td>0.484569</td>\n",
       "      <td>2.260563</td>\n",
       "      <td>4.554382</td>\n",
       "      <td>0.234808</td>\n",
       "      <td>4.123347</td>\n",
       "      <td>1.0</td>\n",
       "      <td>-0.140529</td>\n",
       "    </tr>\n",
       "    <tr>\n",
       "      <th>25%</th>\n",
       "      <td>1.571245e+09</td>\n",
       "      <td>0.627919</td>\n",
       "      <td>2.683378</td>\n",
       "      <td>5.313644</td>\n",
       "      <td>0.394283</td>\n",
       "      <td>4.203977</td>\n",
       "      <td>1.0</td>\n",
       "      <td>-0.140198</td>\n",
       "    </tr>\n",
       "    <tr>\n",
       "      <th>50%</th>\n",
       "      <td>1.572307e+09</td>\n",
       "      <td>0.628315</td>\n",
       "      <td>2.849992</td>\n",
       "      <td>5.526337</td>\n",
       "      <td>0.394780</td>\n",
       "      <td>4.806361</td>\n",
       "      <td>1.0</td>\n",
       "      <td>-0.112321</td>\n",
       "    </tr>\n",
       "    <tr>\n",
       "      <th>75%</th>\n",
       "      <td>1.573366e+09</td>\n",
       "      <td>0.646848</td>\n",
       "      <td>3.066616</td>\n",
       "      <td>5.693771</td>\n",
       "      <td>0.418413</td>\n",
       "      <td>4.890599</td>\n",
       "      <td>1.0</td>\n",
       "      <td>-0.109663</td>\n",
       "    </tr>\n",
       "    <tr>\n",
       "      <th>max</th>\n",
       "      <td>1.574424e+09</td>\n",
       "      <td>0.647702</td>\n",
       "      <td>3.136088</td>\n",
       "      <td>5.796387</td>\n",
       "      <td>0.419518</td>\n",
       "      <td>4.992498</td>\n",
       "      <td>1.0</td>\n",
       "      <td>-0.109068</td>\n",
       "    </tr>\n",
       "  </tbody>\n",
       "</table>\n",
       "</div>"
      ],
      "text/plain": [
       "         timestamps    rms_acc   peak_acc  peak2peak_acc  variance_acc  \\\n",
       "count  5.000000e+01  50.000000  50.000000      50.000000     50.000000   \n",
       "mean   1.572306e+09   0.611699   2.817644       5.400591      0.377308   \n",
       "std    1.261051e+06   0.056542   0.278079       0.378225      0.063619   \n",
       "min    1.570187e+09   0.484569   2.260563       4.554382      0.234808   \n",
       "25%    1.571245e+09   0.627919   2.683378       5.313644      0.394283   \n",
       "50%    1.572307e+09   0.628315   2.849992       5.526337      0.394780   \n",
       "75%    1.573366e+09   0.646848   3.066616       5.693771      0.418413   \n",
       "max    1.574424e+09   0.647702   3.136088       5.796387      0.419518   \n",
       "\n",
       "       crest_factor_acc  utilization_acc  dc_component_acc  \n",
       "count         50.000000             50.0         50.000000  \n",
       "mean           4.629712              1.0         -0.120877  \n",
       "std            0.333362              0.0          0.014194  \n",
       "min            4.123347              1.0         -0.140529  \n",
       "25%            4.203977              1.0         -0.140198  \n",
       "50%            4.806361              1.0         -0.112321  \n",
       "75%            4.890599              1.0         -0.109663  \n",
       "max            4.992498              1.0         -0.109068  "
      ]
     },
     "execution_count": 23,
     "metadata": {},
     "output_type": "execute_result"
    }
   ],
   "source": [
    "kpi_results_parsed.summary()"
   ]
  },
  {
   "cell_type": "markdown",
   "metadata": {
    "pycharm": {
     "name": "#%% md\n"
    }
   },
   "source": [
    "Finally, we can generate a plot that displays these results. When plotting the results for the KPIDemo feature, one selects the KPI to be displayed by passing the parameter `\"kpi\"`. If this parameter is not included, the plot function will display the results of the first KPI after the timestamps, which is the RMS value."
   ]
  },
  {
   "cell_type": "code",
   "execution_count": 24,
   "metadata": {
    "pycharm": {
     "name": "#%%\n"
    }
   },
   "outputs": [
    {
     "data": {
      "image/png": "[encoded data removed]",
      "text/plain": [
       "<Figure size 432x288 with 1 Axes>"
      ]
     },
     "metadata": {
      "needs_background": "light"
     },
     "output_type": "display_data"
    },
    {
     "data": {
      "text/plain": [
       "''"
      ]
     },
     "execution_count": 24,
     "metadata": {},
     "output_type": "execute_result"
    }
   ],
   "source": [
    "kpi_results_parsed.plot()"
   ]
  },
  {
   "cell_type": "markdown",
   "metadata": {
    "pycharm": {
     "name": "#%% md\n"
    }
   },
   "source": [
    "All these functions are available for the ModeId feature as well.\n",
    "We proceed to repeat the same procedure for this other feature.\n",
    "\n",
    "We begin by parsing the results.\n",
    "In this particular case, we need to define the unit of time to perform the epoch conversion to datetime.\n",
    "The default unit is milliseconds, but we need seconds now.\n",
    "The timezone can also be defined, to increase the precision of these results."
   ]
  },
  {
   "cell_type": "code",
   "execution_count": 25,
   "metadata": {
    "pycharm": {
     "name": "#%%\n"
    }
   },
   "outputs": [],
   "source": [
    "mode_results_parsed = analysis_classes.parse_results(mode_results, t_unit=\"s\")"
   ]
  },
  {
   "cell_type": "markdown",
   "metadata": {
    "pycharm": {
     "name": "#%% md\n"
    }
   },
   "source": [
    "First, we generate the pandas dataframe of ModeId results."
   ]
  },
  {
   "cell_type": "code",
   "execution_count": 26,
   "metadata": {
    "pycharm": {
     "name": "#%%\n"
    }
   },
   "outputs": [
    {
     "data": {
      "text/html": [
       "<div>\n",
       "<style scoped>\n",
       "    .dataframe tbody tr th:only-of-type {\n",
       "        vertical-align: middle;\n",
       "    }\n",
       "\n",
       "    .dataframe tbody tr th {\n",
       "        vertical-align: top;\n",
       "    }\n",
       "\n",
       "    .dataframe thead th {\n",
       "        text-align: right;\n",
       "    }\n",
       "</style>\n",
       "<table border=\"1\" class=\"dataframe\">\n",
       "  <thead>\n",
       "    <tr style=\"text-align: right;\">\n",
       "      <th></th>\n",
       "      <th>timestamps</th>\n",
       "      <th>labels</th>\n",
       "      <th>uncertain</th>\n",
       "      <th>mode_probability</th>\n",
       "      <th>datetime</th>\n",
       "    </tr>\n",
       "  </thead>\n",
       "  <tbody>\n",
       "    <tr>\n",
       "      <th>0</th>\n",
       "      <td>1570186860</td>\n",
       "      <td>2</td>\n",
       "      <td>False</td>\n",
       "      <td>0.939155</td>\n",
       "      <td>2019-10-04 11:01:00+00:00</td>\n",
       "    </tr>\n",
       "    <tr>\n",
       "      <th>1</th>\n",
       "      <td>1570273260</td>\n",
       "      <td>2</td>\n",
       "      <td>False</td>\n",
       "      <td>0.872610</td>\n",
       "      <td>2019-10-05 11:01:00+00:00</td>\n",
       "    </tr>\n",
       "    <tr>\n",
       "      <th>2</th>\n",
       "      <td>1570359660</td>\n",
       "      <td>2</td>\n",
       "      <td>False</td>\n",
       "      <td>0.982989</td>\n",
       "      <td>2019-10-06 11:01:00+00:00</td>\n",
       "    </tr>\n",
       "    <tr>\n",
       "      <th>3</th>\n",
       "      <td>1570446060</td>\n",
       "      <td>2</td>\n",
       "      <td>False</td>\n",
       "      <td>0.996053</td>\n",
       "      <td>2019-10-07 11:01:00+00:00</td>\n",
       "    </tr>\n",
       "    <tr>\n",
       "      <th>4</th>\n",
       "      <td>1570532460</td>\n",
       "      <td>2</td>\n",
       "      <td>False</td>\n",
       "      <td>0.921091</td>\n",
       "      <td>2019-10-08 11:01:00+00:00</td>\n",
       "    </tr>\n",
       "  </tbody>\n",
       "</table>\n",
       "</div>"
      ],
      "text/plain": [
       "   timestamps  labels  uncertain  mode_probability                  datetime\n",
       "0  1570186860       2      False          0.939155 2019-10-04 11:01:00+00:00\n",
       "1  1570273260       2      False          0.872610 2019-10-05 11:01:00+00:00\n",
       "2  1570359660       2      False          0.982989 2019-10-06 11:01:00+00:00\n",
       "3  1570446060       2      False          0.996053 2019-10-07 11:01:00+00:00\n",
       "4  1570532460       2      False          0.921091 2019-10-08 11:01:00+00:00"
      ]
     },
     "execution_count": 26,
     "metadata": {},
     "output_type": "execute_result"
    }
   ],
   "source": [
    "df_mode = mode_results_parsed.to_df()\n",
    "df_mode.head()"
   ]
  },
  {
   "cell_type": "markdown",
   "metadata": {},
   "source": [
    "From the results, we can see that the ModeId feature provides a mode label for each timestamp, together with a boolean\n",
    "describing the certainty around this mode label and its probability.\n",
    "\n",
    "\n",
    "We can also request to display a summary of the results."
   ]
  },
  {
   "cell_type": "code",
   "execution_count": 27,
   "metadata": {
    "pycharm": {
     "name": "#%%\n"
    }
   },
   "outputs": [
    {
     "name": "stdout",
     "output_type": "stream",
     "text": [
      "=== ModeId ===\n",
      "request_id 09fa086e2bcf4d25b2ad39a442d2c5ad\n",
      "from 20191004-11:01.00 to 20191122-12:01.00\n",
      "\n",
      "Labels\n",
      "+----------+----------+-----------+--------------------+------------+\n",
      "|   labels |   counts |   portion |   mode_probability |   datetime |\n",
      "|----------+----------+-----------+--------------------+------------|\n",
      "|        0 |        8 |        16 |                  8 |          8 |\n",
      "|        1 |       25 |        50 |                 25 |         25 |\n",
      "|        2 |       17 |        34 |                 17 |         17 |\n",
      "+----------+----------+-----------+--------------------+------------+\n",
      "\n",
      "Lables & uncertain labels\n",
      "+------------+-----------+--------------------+------------+----------+\n",
      "|            |   portion |   mode_probability |   datetime |   counts |\n",
      "|------------+-----------+--------------------+------------+----------|\n",
      "| (0, False) |        16 |                  8 |          8 |        8 |\n",
      "| (1, False) |        50 |                 25 |         25 |       25 |\n",
      "| (2, False) |        34 |                 17 |         17 |       17 |\n",
      "+------------+-----------+--------------------+------------+----------+\n",
      "\n",
      "Emerging Modes\n",
      "+----+---------+-----------------+-----------------+-------------------+---------------------------+\n",
      "|    |   modes |   emerging_time |   max_prob_time |   max_probability | datetime                  |\n",
      "|----+---------+-----------------+-----------------+-------------------+---------------------------|\n",
      "|  0 |       2 |      1570186860 |      1570446060 |          0.996053 | 2019-10-04 11:01:00+00:00 |\n",
      "|  1 |       0 |      1571655660 |      1572264060 |          0.997885 | 2019-10-21 11:01:00+00:00 |\n",
      "|  2 |       1 |      1572350460 |      1573646460 |          0.989592 | 2019-10-29 12:01:00+00:00 |\n",
      "+----+---------+-----------------+-----------------+-------------------+---------------------------+\n"
     ]
    },
    {
     "data": {
      "text/plain": [
       "[        counts  portion  mode_probability  datetime\n",
       " labels                                             \n",
       " 0            8     16.0                 8         8\n",
       " 1           25     50.0                25        25\n",
       " 2           17     34.0                17        17,\n",
       "                   portion  mode_probability  datetime  counts\n",
       " labels uncertain                                             \n",
       " 0      False         16.0                 8         8       8\n",
       " 1      False         50.0                25        25      25\n",
       " 2      False         34.0                17        17      17,\n",
       "    modes  emerging_time  max_prob_time  max_probability  \\\n",
       " 0      2     1570186860     1570446060         0.996053   \n",
       " 1      0     1571655660     1572264060         0.997885   \n",
       " 2      1     1572350460     1573646460         0.989592   \n",
       " \n",
       "                    datetime  \n",
       " 0 2019-10-04 11:01:00+00:00  \n",
       " 1 2019-10-21 11:01:00+00:00  \n",
       " 2 2019-10-29 12:01:00+00:00  ]"
      ]
     },
     "execution_count": 27,
     "metadata": {},
     "output_type": "execute_result"
    }
   ],
   "source": [
    "mode_results_parsed.summary()"
   ]
  },
  {
   "cell_type": "markdown",
   "metadata": {},
   "source": [
    "The summary of the results describes the number of timestamps for each mode and how many of these timestamps are uncertain.\n",
    "Uncertain areas appear as a gray rectangle above the corresponding periods in the modes plot.\n",
    "\n",
    "In addition, it provides information on the emerging modes.\n",
    "Emerging modes describes the time (timestamp) each one of the modes first appeared.\n",
    "This information can be useful to identify if a new mode is affecting or appearing in the asset.\n",
    "\n",
    "Finally, we can generate a plot that displays display the different modes over time."
   ]
  },
  {
   "cell_type": "code",
   "execution_count": 28,
   "metadata": {
    "pycharm": {
     "name": "#%%\n"
    }
   },
   "outputs": [
    {
     "data": {
      "image/png": "[encoded data removed]",
      "text/plain": [
       "<Figure size 720x216 with 1 Axes>"
      ]
     },
     "metadata": {
      "needs_background": "light"
     },
     "output_type": "display_data"
    },
    {
     "data": {
      "text/plain": [
       "''"
      ]
     },
     "execution_count": 28,
     "metadata": {},
     "output_type": "execute_result"
    }
   ],
   "source": [
    "mode_results_parsed.plot()"
   ]
  },
  {
   "cell_type": "markdown",
   "metadata": {
    "pycharm": {
     "name": "#%% md\n"
    }
   },
   "source": [
    "Lastly, we can combine the information from the KPIDemo and ModeId features to display a boxplot of the \"RMS\" for each one of the operating modes.\n",
    "\n",
    "First, we merge the \"KPI\" and \"ModeId\" dataframes."
   ]
  },
  {
   "cell_type": "code",
   "execution_count": 29,
   "metadata": {
    "pycharm": {
     "name": "#%%\n"
    }
   },
   "outputs": [
    {
     "data": {
      "text/html": [
       "<div>\n",
       "<style scoped>\n",
       "    .dataframe tbody tr th:only-of-type {\n",
       "        vertical-align: middle;\n",
       "    }\n",
       "\n",
       "    .dataframe tbody tr th {\n",
       "        vertical-align: top;\n",
       "    }\n",
       "\n",
       "    .dataframe thead th {\n",
       "        text-align: right;\n",
       "    }\n",
       "</style>\n",
       "<table border=\"1\" class=\"dataframe\">\n",
       "  <thead>\n",
       "    <tr style=\"text-align: right;\">\n",
       "      <th></th>\n",
       "      <th>timestamps</th>\n",
       "      <th>rms_acc</th>\n",
       "      <th>peak_acc</th>\n",
       "      <th>peak2peak_acc</th>\n",
       "      <th>variance_acc</th>\n",
       "      <th>crest_factor_acc</th>\n",
       "      <th>utilization_acc</th>\n",
       "      <th>dc_component_acc</th>\n",
       "      <th>datetime_x</th>\n",
       "      <th>labels</th>\n",
       "      <th>uncertain</th>\n",
       "      <th>mode_probability</th>\n",
       "      <th>datetime_y</th>\n",
       "    </tr>\n",
       "  </thead>\n",
       "  <tbody>\n",
       "    <tr>\n",
       "      <th>0</th>\n",
       "      <td>1570186860</td>\n",
       "      <td>0.647094</td>\n",
       "      <td>2.686565</td>\n",
       "      <td>5.313293</td>\n",
       "      <td>0.418730</td>\n",
       "      <td>4.151739</td>\n",
       "      <td>1</td>\n",
       "      <td>-0.140239</td>\n",
       "      <td>1970-01-19 04:09:46.860000+00:00</td>\n",
       "      <td>2</td>\n",
       "      <td>False</td>\n",
       "      <td>0.939155</td>\n",
       "      <td>2019-10-04 11:01:00+00:00</td>\n",
       "    </tr>\n",
       "    <tr>\n",
       "      <th>1</th>\n",
       "      <td>1570273260</td>\n",
       "      <td>0.647131</td>\n",
       "      <td>2.691755</td>\n",
       "      <td>5.367004</td>\n",
       "      <td>0.418778</td>\n",
       "      <td>4.159523</td>\n",
       "      <td>1</td>\n",
       "      <td>-0.140425</td>\n",
       "      <td>1970-01-19 04:11:13.260000+00:00</td>\n",
       "      <td>2</td>\n",
       "      <td>False</td>\n",
       "      <td>0.872610</td>\n",
       "      <td>2019-10-05 11:01:00+00:00</td>\n",
       "    </tr>\n",
       "    <tr>\n",
       "      <th>2</th>\n",
       "      <td>1570359660</td>\n",
       "      <td>0.646627</td>\n",
       "      <td>2.715255</td>\n",
       "      <td>5.414856</td>\n",
       "      <td>0.418126</td>\n",
       "      <td>4.199108</td>\n",
       "      <td>1</td>\n",
       "      <td>-0.140243</td>\n",
       "      <td>1970-01-19 04:12:39.660000+00:00</td>\n",
       "      <td>2</td>\n",
       "      <td>False</td>\n",
       "      <td>0.982989</td>\n",
       "      <td>2019-10-06 11:01:00+00:00</td>\n",
       "    </tr>\n",
       "    <tr>\n",
       "      <th>3</th>\n",
       "      <td>1570446060</td>\n",
       "      <td>0.646881</td>\n",
       "      <td>2.685151</td>\n",
       "      <td>5.351562</td>\n",
       "      <td>0.418455</td>\n",
       "      <td>4.150921</td>\n",
       "      <td>1</td>\n",
       "      <td>-0.140351</td>\n",
       "      <td>1970-01-19 04:14:06.060000+00:00</td>\n",
       "      <td>2</td>\n",
       "      <td>False</td>\n",
       "      <td>0.996053</td>\n",
       "      <td>2019-10-07 11:01:00+00:00</td>\n",
       "    </tr>\n",
       "    <tr>\n",
       "      <th>4</th>\n",
       "      <td>1570532460</td>\n",
       "      <td>0.646649</td>\n",
       "      <td>2.726611</td>\n",
       "      <td>5.395325</td>\n",
       "      <td>0.418155</td>\n",
       "      <td>4.216521</td>\n",
       "      <td>1</td>\n",
       "      <td>-0.140429</td>\n",
       "      <td>1970-01-19 04:15:32.460000+00:00</td>\n",
       "      <td>2</td>\n",
       "      <td>False</td>\n",
       "      <td>0.921091</td>\n",
       "      <td>2019-10-08 11:01:00+00:00</td>\n",
       "    </tr>\n",
       "  </tbody>\n",
       "</table>\n",
       "</div>"
      ],
      "text/plain": [
       "   timestamps   rms_acc  peak_acc  peak2peak_acc  variance_acc  \\\n",
       "0  1570186860  0.647094  2.686565       5.313293      0.418730   \n",
       "1  1570273260  0.647131  2.691755       5.367004      0.418778   \n",
       "2  1570359660  0.646627  2.715255       5.414856      0.418126   \n",
       "3  1570446060  0.646881  2.685151       5.351562      0.418455   \n",
       "4  1570532460  0.646649  2.726611       5.395325      0.418155   \n",
       "\n",
       "   crest_factor_acc  utilization_acc  dc_component_acc  \\\n",
       "0          4.151739                1         -0.140239   \n",
       "1          4.159523                1         -0.140425   \n",
       "2          4.199108                1         -0.140243   \n",
       "3          4.150921                1         -0.140351   \n",
       "4          4.216521                1         -0.140429   \n",
       "\n",
       "                        datetime_x  labels  uncertain  mode_probability  \\\n",
       "0 1970-01-19 04:09:46.860000+00:00       2      False          0.939155   \n",
       "1 1970-01-19 04:11:13.260000+00:00       2      False          0.872610   \n",
       "2 1970-01-19 04:12:39.660000+00:00       2      False          0.982989   \n",
       "3 1970-01-19 04:14:06.060000+00:00       2      False          0.996053   \n",
       "4 1970-01-19 04:15:32.460000+00:00       2      False          0.921091   \n",
       "\n",
       "                 datetime_y  \n",
       "0 2019-10-04 11:01:00+00:00  \n",
       "1 2019-10-05 11:01:00+00:00  \n",
       "2 2019-10-06 11:01:00+00:00  \n",
       "3 2019-10-07 11:01:00+00:00  \n",
       "4 2019-10-08 11:01:00+00:00  "
      ]
     },
     "execution_count": 29,
     "metadata": {},
     "output_type": "execute_result"
    }
   ],
   "source": [
    "df_u0001 =  pd.merge_asof(df_kpi, df_mode, on=\"timestamps\")\n",
    "df_u0001.head()"
   ]
  },
  {
   "cell_type": "markdown",
   "metadata": {
    "pycharm": {
     "name": "#%% md\n"
    }
   },
   "source": [
    "The MVG library provides additional visualization functions that can help towards this goal.\n",
    "Thus, we import the visualization module"
   ]
  },
  {
   "cell_type": "code",
   "execution_count": 30,
   "metadata": {
    "ExecuteTime": {
     "end_time": "2021-03-18T10:22:17.670019Z",
     "start_time": "2021-03-18T10:22:17.530333Z"
    },
    "pycharm": {
     "name": "#%%\n"
    }
   },
   "outputs": [],
   "source": [
    "from mvg import plotting"
   ]
  },
  {
   "cell_type": "markdown",
   "metadata": {
    "pycharm": {
     "name": "#%% md\n"
    }
   },
   "source": [
    "Now, we can proceed to plot the boxplot."
   ]
  },
  {
   "cell_type": "code",
   "execution_count": 31,
   "metadata": {
    "ExecuteTime": {
     "end_time": "2021-03-18T10:22:17.902871Z",
     "start_time": "2021-03-18T10:22:17.815292Z"
    },
    "pycharm": {
     "name": "#%%\n"
    }
   },
   "outputs": [
    {
     "name": "stderr",
     "output_type": "stream",
     "text": [
      "/home/oskar/viking_unix/mvg/env/lib/python3.8/site-packages/pandas/core/arrays/categorical.py:2630: FutureWarning: The `inplace` parameter in pandas.Categorical.set_categories is deprecated and will be removed in a future version. Removing unused categories will always return a new Categorical object.\n",
      "  res = method(*args, **kwargs)\n"
     ]
    },
    {
     "data": {
      "text/plain": [
       "<AxesSubplot:title={'center':'Boxplot for u0001'}, xlabel='Modes', ylabel='rms_acc'>"
      ]
     },
     "execution_count": 31,
     "metadata": {},
     "output_type": "execute_result"
    },
    {
     "data": {
      "image/png": "[encoded data removed]",
      "text/plain": [
       "<Figure size 576x216 with 1 Axes>"
      ]
     },
     "metadata": {
      "needs_background": "light"
     },
     "output_type": "display_data"
    }
   ],
   "source": [
    "plotting.modes_boxplot(df_u0001, \"rms_acc\", SOURCE_ID)"
   ]
  },
  {
   "cell_type": "markdown",
   "metadata": {},
   "source": [
    "Here we conclude our brief overview to begin using the MultiViz Analytics Engine (MVG) Library."
   ]
  }
 ],
 "metadata": {
  "kernelspec": {
   "display_name": "Python 3",
   "language": "python",
   "name": "python3"
  },
  "language_info": {
   "codemirror_mode": {
    "name": "ipython",
    "version": 3
   },
   "file_extension": ".py",
   "mimetype": "text/x-python",
   "name": "python",
   "nbconvert_exporter": "python",
   "pygments_lexer": "ipython3",
   "version": "3.8.5"
  },
  "toc": {
   "base_numbering": 1,
   "nav_menu": {},
   "number_sections": true,
   "sideBar": true,
   "skip_h1_title": false,
   "title_cell": "Table of Contents",
   "title_sidebar": "Contents",
   "toc_cell": false,
   "toc_position": {},
   "toc_section_display": true,
   "toc_window_display": true
  },
  "varInspector": {
   "cols": {
    "lenName": 16,
    "lenType": 16,
    "lenVar": 40
   },
   "kernels_config": {
    "python": {
     "delete_cmd_postfix": "",
     "delete_cmd_prefix": "del ",
     "library": "var_list.py",
     "varRefreshCmd": "print(var_dic_list())"
    },
    "r": {
     "delete_cmd_postfix": ") ",
     "delete_cmd_prefix": "rm(",
     "library": "var_list.r",
     "varRefreshCmd": "cat(var_dic_list()) "
    }
   },
   "types_to_exclude": [
    "module",
    "function",
    "builtin_function_or_method",
    "instance",
    "_Feature"
   ],
   "window_display": false
  }
 },
 "nbformat": 4,
 "nbformat_minor": 1
}

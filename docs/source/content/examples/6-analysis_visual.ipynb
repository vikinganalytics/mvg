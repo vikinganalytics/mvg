{
 "cells": [
  {
   "cell_type": "markdown",
   "id": "marine-feelings",
   "metadata": {},
   "source": [
    "# Analysis and Results Visualization\n",
    "\n",
    "This script describes the procedure to request an analysis to the Viking Analytics' MultiViz Analytics Engine (MVG) service.\n",
    "It shows how to query for results of single-asset or asset-population analyses.\n",
    "In addition, it presents some examples of how to visualize the results available for the [\"mode identification\"](../features/ModeId.md) feature.\n",
    "\n",
    "In this example, we will describe how to access and manipulate the analysis results directly.\n",
    "The [\"Analysis Classes\"](5-analysis_classes.ipynb) example provides a simplified and unified interface to access these results as a pandas dataframe, along with some basic visualization of the results.\n",
    "\n",
    "### Preliminaries\n",
    "\n",
    "This procedure describes all the steps to request an analysis, get analysis results, and plot those results using the functions in `plotting`.\n",
    "Local visualizations functions to create the figures are imported from `plotting`. "
   ]
  },
  {
   "cell_type": "code",
   "execution_count": 1,
   "id": "sized-agency",
   "metadata": {
    "ExecuteTime": {
     "end_time": "2021-03-18T10:00:28.735704Z",
     "start_time": "2021-03-18T10:00:28.513699Z"
    }
   },
   "outputs": [],
   "source": [
    "import os\n",
    "import pandas as pd\n",
    "\n",
    "# import mvg library with python bindings to mvg-API\n",
    "from mvg import MVG, plotting, analysis_classes"
   ]
  },
  {
   "cell_type": "markdown",
   "id": "incomplete-radar",
   "metadata": {
    "ExecuteTime": {
     "end_time": "2021-03-04T10:59:02.619313Z",
     "start_time": "2021-03-04T10:59:02.615934Z"
    }
   },
   "source": [
    ".. note:: Each token is used for Authorization AND Authentication. Thus, each unique token represents a unique user, each user has it own, unique database on the VA-MVG' service.\n",
    "\n",
    "**You need to insert your token received from Viking Analytics here:**\n",
    "Just replace `\"os.environ['TEST_TOKEN']\"` by your token as a string."
   ]
  },
  {
   "cell_type": "code",
   "execution_count": 2,
   "id": "prescription-diesel",
   "metadata": {
    "ExecuteTime": {
     "end_time": "2021-03-18T10:00:29.472021Z",
     "start_time": "2021-03-18T10:00:29.469799Z"
    },
    "tags": [
     "parameters"
    ]
   },
   "outputs": [],
   "source": [
    "# Replace by your own Token\n",
    "VALID_TOKEN = os.environ['TEST_TOKEN']\n",
    "ENDPOINT = \"https://api.beta.multiviz.com\""
   ]
  },
  {
   "cell_type": "markdown",
   "id": "unable-medicine",
   "metadata": {},
   "source": [
    "Instantiate a session object with MVG library.\n",
    "A session object basically catches the endpoint and the token, which is used to simplify the calls to the MVG library."
   ]
  },
  {
   "cell_type": "code",
   "execution_count": 3,
   "id": "funded-catalog",
   "metadata": {
    "ExecuteTime": {
     "end_time": "2021-03-18T10:00:30.395676Z",
     "start_time": "2021-03-18T10:00:30.214070Z"
    }
   },
   "outputs": [],
   "source": [
    "session = MVG(ENDPOINT, VALID_TOKEN)"
   ]
  },
  {
   "cell_type": "markdown",
   "id": "selective-kitchen",
   "metadata": {
    "pycharm": {
     "name": "#%% md\n"
    }
   },
   "source": [
    "## Asset Analysis\n",
    "\n",
    "In this example, we will use the sources uploaded by the [\"Sources and Measurement\"](2-sources_and_measurements.ipynb) example.\n",
    "We start by looking if the sources are available in the database.\n",
    "At least, sources, \"u0001\" and \"u0005\", should appear as available."
   ]
  },
  {
   "cell_type": "code",
   "execution_count": 4,
   "id": "thermal-mentor",
   "metadata": {
    "pycharm": {
     "name": "#%%\n"
    }
   },
   "outputs": [
    {
     "name": "stdout",
     "output_type": "stream",
     "text": [
      "Source info retrieved:\n",
      "{'source_id': 'u0001', 'meta': {'assetId': 'assetA', 'measPoint': 'mloc01', 'location': 'paris', 'updated': 'YES! I have been updated'}, 'properties': {'data_class': 'waveform', 'channels': ['acc']}}\n",
      "\n",
      "Source info retrieved:\n",
      "{'source_id': 'u0002', 'meta': {'assetId': 'assetB', 'measPoint': 'mloc01', 'location': 'paris'}, 'properties': {'data_class': 'waveform', 'channels': ['acc']}}\n",
      "\n",
      "Source info retrieved:\n",
      "{'source_id': 'u0003', 'meta': {'assetId': 'assetC', 'measPoint': 'mloc01', 'location': 'milano'}, 'properties': {'data_class': 'waveform', 'channels': ['acc']}}\n",
      "\n",
      "Source info retrieved:\n",
      "{'source_id': 'u0004', 'meta': {'assetId': 'assetD', 'measPoint': 'mloc01', 'location': 'milano'}, 'properties': {'data_class': 'waveform', 'channels': ['acc']}}\n",
      "\n",
      "Source info retrieved:\n",
      "{'source_id': 'u0005', 'meta': {'assetId': 'assetE', 'measPoint': 'mloc01', 'location': 'london'}, 'properties': {'data_class': 'waveform', 'channels': ['acc']}}\n",
      "\n",
      "Source info retrieved:\n",
      "{'source_id': 'u0006', 'meta': {'assetId': 'assetF', 'measPoint': 'mloc01', 'location': 'london'}, 'properties': {'data_class': 'waveform', 'channels': ['acc']}}\n",
      "\n"
     ]
    }
   ],
   "source": [
    "sources = session.list_sources()\n",
    "\n",
    "for src in sources:\n",
    "    s_info = session.get_source(src['source_id'])\n",
    "    print(f\"Source info retrieved:\\n{s_info}\\n\")"
   ]
  },
  {
   "cell_type": "markdown",
   "id": "vulnerable-loading",
   "metadata": {},
   "source": [
    "During our example, we will utilize sources, \"u0001\" and \"u0005\", which were previously uploaded to our database."
   ]
  },
  {
   "cell_type": "code",
   "execution_count": 5,
   "id": "attractive-annual",
   "metadata": {
    "ExecuteTime": {
     "end_time": "2021-03-18T10:00:32.804304Z",
     "start_time": "2021-03-18T10:00:32.800567Z"
    },
    "pycharm": {
     "name": "#%%\n"
    }
   },
   "outputs": [
    {
     "data": {
      "text/plain": "['u0001', 'u0005']"
     },
     "execution_count": 5,
     "metadata": {},
     "output_type": "execute_result"
    }
   ],
   "source": [
    "SOURCE_IDS = [\"u0001\", \"u0005\"]\n",
    "SOURCE_IDS"
   ]
  },
  {
   "cell_type": "markdown",
   "id": "loose-windows",
   "metadata": {
    "pycharm": {
     "name": "#%% md\n"
    }
   },
   "source": [
    "The Viking Analytics Vibration service has several features available.\n",
    "We list the available features along with the version of each of them in the following way:"
   ]
  },
  {
   "cell_type": "code",
   "execution_count": 6,
   "id": "angry-toronto",
   "metadata": {
    "ExecuteTime": {
     "end_time": "2021-03-18T10:00:36.152571Z",
     "start_time": "2021-03-18T10:00:35.990849Z"
    },
    "pycharm": {
     "name": "#%%\n"
    }
   },
   "outputs": [
    {
     "data": {
      "text/plain": "{'RMS': '1.0.0',\n 'ModeId': '0.1.1',\n 'BlackSheep': '1.0.0',\n 'KPIDemo': '1.0.0',\n 'ApplyModel': '0.1.0',\n 'LabelPropagation': '0.1.0'}"
     },
     "execution_count": 6,
     "metadata": {},
     "output_type": "execute_result"
    }
   ],
   "source": [
    "available_features = session.supported_features()\n",
    "available_features"
   ]
  },
  {
   "cell_type": "markdown",
   "id": "olympic-information",
   "metadata": {
    "pycharm": {
     "name": "#%% md\n"
    }
   },
   "source": [
    "Once the source and measurements had been uploaded in the database, we can request an analysis to the VA Vibration service.\n",
    "When we request an analysis, we need to say which source is to be used in the analysis and the feature to be applied.\n",
    "\n",
    "The requested analysis will return a dictionary object with two elements.\n",
    "The first element is a `\"request_id\"` that can be used to retrieve the results after.\n",
    "The second element is `\"request_status\"` that provides the status right after placing the analysis request. \n",
    "\n",
    "Here, we will request the \"KPIDemo\" feature from our source \"u0001\"."
   ]
  },
  {
   "cell_type": "code",
   "execution_count": 7,
   "id": "supposed-blood",
   "metadata": {
    "ExecuteTime": {
     "end_time": "2021-03-18T10:00:37.584243Z",
     "start_time": "2021-03-18T10:00:37.457555Z"
    },
    "pycharm": {
     "name": "#%%\n"
    }
   },
   "outputs": [
    {
     "data": {
      "text/plain": "{'request_id': '5b5b56f88631f4f37df5a6c970fe9662', 'request_status': 'queued'}"
     },
     "execution_count": 7,
     "metadata": {},
     "output_type": "execute_result"
    }
   ],
   "source": [
    "SOURCE_ID = SOURCE_IDS[0]\n",
    "KPI_u0001 = session.request_analysis(SOURCE_ID, 'KPIDemo')\n",
    "KPI_u0001 "
   ]
  },
  {
   "cell_type": "markdown",
   "id": "elder-difficulty",
   "metadata": {
    "pycharm": {
     "name": "#%% md\n"
    }
   },
   "source": [
    "Now, we proceed to request the \"ModeId\" feature for the same source."
   ]
  },
  {
   "cell_type": "code",
   "execution_count": 8,
   "id": "primary-copying",
   "metadata": {
    "ExecuteTime": {
     "end_time": "2021-03-18T10:00:38.637859Z",
     "start_time": "2021-03-18T10:00:38.499851Z"
    },
    "pycharm": {
     "name": "#%%\n"
    }
   },
   "outputs": [
    {
     "data": {
      "text/plain": "{'request_id': 'eada01781126076501677ff842633110', 'request_status': 'queued'}"
     },
     "execution_count": 8,
     "metadata": {},
     "output_type": "execute_result"
    }
   ],
   "source": [
    "ModeId_u0001 = session.request_analysis(SOURCE_ID, 'ModeId')\n",
    "ModeId_u0001 "
   ]
  },
  {
   "cell_type": "markdown",
   "id": "institutional-exposure",
   "metadata": {
    "pycharm": {
     "name": "#%% md\n"
    }
   },
   "source": [
    "Before we are able to get the analysis results, we need to wait until those analyses are successfully completed.\n",
    "\n",
    "We can query for the status of our requested analyses.\n",
    "The possible status are:\n",
    "\n",
    "* Queued: The analysis has not started in the remote server and it is in the queue to begin.\n",
    "\n",
    "* Ongoing: The analysis is been processed at this time.\n",
    "\n",
    "* Failed: The analysis is complete and failed to produce a result.\n",
    "\n",
    "* Successful: The analysis is complete and it produced a successful result."
   ]
  },
  {
   "cell_type": "code",
   "execution_count": 9,
   "id": "sporting-proposal",
   "metadata": {
    "ExecuteTime": {
     "end_time": "2021-03-18T10:00:43.435603Z",
     "start_time": "2021-03-18T10:00:43.172181Z"
    },
    "pycharm": {
     "name": "#%%\n"
    }
   },
   "outputs": [
    {
     "name": "stdout",
     "output_type": "stream",
     "text": [
      "KPI Analysis: successful\n",
      "ModeId Analysis: successful\n"
     ]
    }
   ],
   "source": [
    "REQUEST_IDS_u0001 = [KPI_u0001['request_id'], ModeId_u0001['request_id']]\n",
    "status = session.get_analysis_status(REQUEST_IDS_u0001[0])\n",
    "print(f\"KPI Analysis: {status}\")\n",
    "status = session.get_analysis_status(REQUEST_IDS_u0001[1])\n",
    "print(f\"ModeId Analysis: {status}\")"
   ]
  },
  {
   "cell_type": "markdown",
   "id": "prerequisite-integral",
   "metadata": {
    "pycharm": {
     "name": "#%% md\n"
    }
   },
   "source": [
    "The similar procedure is repeated to request the \"RMS\" and \"ModeId\" for our source \"u0005\"."
   ]
  },
  {
   "cell_type": "code",
   "execution_count": 10,
   "id": "amateur-chuck",
   "metadata": {
    "ExecuteTime": {
     "end_time": "2021-03-18T10:00:44.400481Z",
     "start_time": "2021-03-18T10:00:44.261231Z"
    },
    "pycharm": {
     "name": "#%%\n"
    }
   },
   "outputs": [
    {
     "data": {
      "text/plain": "{'request_id': '7a668b2c2a6412711bdc468ef24de17e', 'request_status': 'queued'}"
     },
     "execution_count": 10,
     "metadata": {},
     "output_type": "execute_result"
    }
   ],
   "source": [
    "SOURCE_ID = SOURCE_IDS[1]\n",
    "KPI_u0005 = session.request_analysis(SOURCE_ID, 'KPIDemo')\n",
    "KPI_u0005"
   ]
  },
  {
   "cell_type": "code",
   "execution_count": 11,
   "id": "coastal-consequence",
   "metadata": {
    "ExecuteTime": {
     "end_time": "2021-03-18T10:00:44.815607Z",
     "start_time": "2021-03-18T10:00:44.676422Z"
    },
    "pycharm": {
     "name": "#%%\n"
    }
   },
   "outputs": [
    {
     "data": {
      "text/plain": "{'request_id': '146406538759c7be71259fe57a2ca44b', 'request_status': 'queued'}"
     },
     "execution_count": 11,
     "metadata": {},
     "output_type": "execute_result"
    }
   ],
   "source": [
    "SOURCE_ID = SOURCE_IDS[1]\n",
    "ModeId_u0005 = session.request_analysis(SOURCE_ID, 'ModeId')\n",
    "ModeId_u0005"
   ]
  },
  {
   "cell_type": "markdown",
   "id": "sound-parcel",
   "metadata": {
    "pycharm": {
     "name": "#%% md\n"
    }
   },
   "source": [
    "Also, we check the status of our analysis for source \"u0005\" to confirm they had been completed successfully."
   ]
  },
  {
   "cell_type": "code",
   "execution_count": 12,
   "id": "otherwise-awareness",
   "metadata": {
    "ExecuteTime": {
     "end_time": "2021-03-18T10:00:48.331542Z",
     "start_time": "2021-03-18T10:00:47.324848Z"
    },
    "pycharm": {
     "name": "#%%\n"
    }
   },
   "outputs": [
    {
     "name": "stdout",
     "output_type": "stream",
     "text": [
      "KPI Analysis: successful\n",
      "ModeId Analysis: successful\n"
     ]
    }
   ],
   "source": [
    "REQUEST_IDS_u0005 = [KPI_u0005['request_id'], ModeId_u0005['request_id']]\n",
    "status = session.get_analysis_status(REQUEST_IDS_u0005[0])\n",
    "print(f\"KPI Analysis: {status}\")\n",
    "status = session.get_analysis_status(REQUEST_IDS_u0005[1])\n",
    "print(f\"ModeId Analysis: {status}\")"
   ]
  },
  {
   "cell_type": "markdown",
   "id": "synthetic-italic",
   "metadata": {},
   "source": [
    "## Visualization\n",
    "\n",
    "Once the analysis is complete, one get the results by calling the corresponding \"request_id\" for each analysis.\n",
    "\n",
    "First, let's check all existing \"request_id\" in the database for each source and feature."
   ]
  },
  {
   "cell_type": "code",
   "execution_count": 14,
   "id": "coordinated-invasion",
   "metadata": {
    "ExecuteTime": {
     "end_time": "2021-03-18T10:00:51.412234Z",
     "start_time": "2021-03-18T10:00:50.909661Z"
    },
    "pycharm": {
     "name": "#%%\n"
    }
   },
   "outputs": [
    {
     "name": "stdout",
     "output_type": "stream",
     "text": [
      "The KPI analysis of u0001 has request_id 5b5b56f88631f4f37df5a6c970fe9662.\n",
      "The KPI analysis of u0005 has request_id 7a668b2c2a6412711bdc468ef24de17e.\n",
      "The ModeId analysis of u0001 has request_id eada01781126076501677ff842633110.\n",
      "The ModeId analysis of u0005 has request_id 146406538759c7be71259fe57a2ca44b.\n"
     ]
    }
   ],
   "source": [
    "REQUEST_IDS_RMS = [session.list_analyses(SOURCE_IDS[0], \"KPIDemo\")[-1], session.list_analyses(SOURCE_IDS[1], \"KPIDemo\")[-1]]\n",
    "print(f\"The KPI analysis of {SOURCE_IDS[0]} has request_id {REQUEST_IDS_RMS[0]}.\")\n",
    "print(f\"The KPI analysis of {SOURCE_IDS[1]} has request_id {REQUEST_IDS_RMS[1]}.\")\n",
    "REQUEST_IDS_MODEID = [session.list_analyses(SOURCE_IDS[0], \"ModeId\")[-1], session.list_analyses(SOURCE_IDS[1], \"ModeId\")[-1]]\n",
    "print(f\"The ModeId analysis of {SOURCE_IDS[0]} has request_id {REQUEST_IDS_MODEID[0]}.\")\n",
    "print(f\"The ModeId analysis of {SOURCE_IDS[1]} has request_id {REQUEST_IDS_MODEID[1]}.\")"
   ]
  },
  {
   "cell_type": "markdown",
   "id": "unauthorized-youth",
   "metadata": {
    "pycharm": {
     "name": "#%% md\n"
    }
   },
   "source": [
    "The following step is to retrieve the results by calling each one of the \"request_id\".\n",
    "\n",
    "The output of the `\"get_analysis_results\"` function is a dictionary.\n",
    "We show the keys of one those dictionaries.\n",
    "The keys are the same for all features."
   ]
  },
  {
   "cell_type": "code",
   "execution_count": 15,
   "id": "naval-patrol",
   "metadata": {
    "ExecuteTime": {
     "end_time": "2021-03-18T10:00:53.012148Z",
     "start_time": "2021-03-18T10:00:52.486345Z"
    }
   },
   "outputs": [
    {
     "data": {
      "text/plain": "dict_keys(['status', 'request_id', 'feature', 'results', 'inputs', 'error_info', 'debug_info'])"
     },
     "execution_count": 15,
     "metadata": {},
     "output_type": "execute_result"
    }
   ],
   "source": [
    "session.wait_for_analyses(REQUEST_IDS_u0001 + REQUEST_IDS_u0005)\n",
    "\n",
    "kpi_output1 = session.get_analysis_results(request_id=REQUEST_IDS_u0001[0])\n",
    "mode_output1 = session.get_analysis_results(request_id=REQUEST_IDS_u0001[1])\n",
    "kpi_output5 = session.get_analysis_results(request_id=REQUEST_IDS_u0005[0])\n",
    "mode_output5 = session.get_analysis_results(request_id=REQUEST_IDS_u0005[1])\n",
    "\n",
    "kpi_output1.keys()"
   ]
  },
  {
   "cell_type": "markdown",
   "id": "certified-hybrid",
   "metadata": {},
   "source": [
    "Each dictionary contains seven key elements.\n",
    "These elements are:\n",
    "\n",
    "* `\"status\"` indicates if the analysis was successful.\n",
    "\n",
    "* `\"request_id\"` is the identifier of the requested analysis.\n",
    "\n",
    "* `\"feature\"` is the name of the request feature.\n",
    "\n",
    "* `\"results\"` includes the numeric results.\n",
    "\n",
    "* `\"inputs\"` includes the input information for the request analysis.\n",
    "\n",
    "* `\"error_info\"` includes the error information in case the analysis fails and it is empty if the analysis is successful.\n",
    "\n",
    "* `\"debug_info\"` includes debugging (log) information related to the failed analysis.\n"
   ]
  },
  {
   "cell_type": "markdown",
   "id": "private-things",
   "metadata": {
    "pycharm": {
     "name": "#%% md\n"
    }
   },
   "source": [
    "The `\"results\"` of the \"KPIDemo\" feature is a list per channel defined in the source.\n",
    "Each channel is formed by eight lists.\n",
    "These lists are:\n",
    "* rms: rms value for each measurement.\n",
    "\n",
    "* peak: peak value for each measurement.\n",
    "\n",
    "* peak2peak: peak-to-peak value for each measurement.\n",
    "\n",
    "* variance: variance value for each measurement.\n",
    "\n",
    "* crest_factor: crest factor value for each measurement.\n",
    "\n",
    "* utilization: boolean indicating whether the measurement was used for the rms calculation.\n",
    "\n",
    "* dc_component: DC component value for each measurement.\n",
    "\n",
    "* timestamps: epoch (in seconds for this example) of the measurements.\n",
    "\n",
    "\n",
    "These lists can be converted into a dataframe for ease of manipulation.\n",
    "In this example, we will show how to access the dictionary results information and convert it into a Pandas dataframe.\n",
    "Please check the [\"Analysis Classes\"](5-analysis_classes.ipynb) example for directly getting a results Pandas dataframe.\n",
    "In addition, the \"timestamp\" column is converted to a timestamp object in a column called \"Date\"."
   ]
  },
  {
   "cell_type": "code",
   "execution_count": 16,
   "id": "imposed-variety",
   "metadata": {
    "ExecuteTime": {
     "end_time": "2021-03-18T10:00:55.411186Z",
     "start_time": "2021-03-18T10:00:55.402365Z"
    },
    "pycharm": {
     "name": "#%%\n"
    }
   },
   "outputs": [
    {
     "data": {
      "text/plain": "        rms      peak  peak2peak  variance  crest_factor  utilization  \\\n0  0.647086  2.686563   5.313293  0.418720      4.151786            1   \n1  0.647123  2.691750   5.367004  0.418769      4.159563            1   \n2  0.646619  2.715251   5.414856  0.418116      4.199152            1   \n3  0.646873  2.685147   5.351562  0.418445      4.150966            1   \n4  0.646643  2.726605   5.395325  0.418147      4.216556            1   \n\n   dc_component  timestamps                Date  \n0     -0.140237  1570186860 2019-10-04 11:01:00  \n1     -0.140420  1570273260 2019-10-05 11:01:00  \n2     -0.140239  1570359660 2019-10-06 11:01:00  \n3     -0.140347  1570446060 2019-10-07 11:01:00  \n4     -0.140423  1570532460 2019-10-08 11:01:00  ",
      "text/html": "<div>\n<style scoped>\n    .dataframe tbody tr th:only-of-type {\n        vertical-align: middle;\n    }\n\n    .dataframe tbody tr th {\n        vertical-align: top;\n    }\n\n    .dataframe thead th {\n        text-align: right;\n    }\n</style>\n<table border=\"1\" class=\"dataframe\">\n  <thead>\n    <tr style=\"text-align: right;\">\n      <th></th>\n      <th>rms</th>\n      <th>peak</th>\n      <th>peak2peak</th>\n      <th>variance</th>\n      <th>crest_factor</th>\n      <th>utilization</th>\n      <th>dc_component</th>\n      <th>timestamps</th>\n      <th>Date</th>\n    </tr>\n  </thead>\n  <tbody>\n    <tr>\n      <th>0</th>\n      <td>0.647086</td>\n      <td>2.686563</td>\n      <td>5.313293</td>\n      <td>0.418720</td>\n      <td>4.151786</td>\n      <td>1</td>\n      <td>-0.140237</td>\n      <td>1570186860</td>\n      <td>2019-10-04 11:01:00</td>\n    </tr>\n    <tr>\n      <th>1</th>\n      <td>0.647123</td>\n      <td>2.691750</td>\n      <td>5.367004</td>\n      <td>0.418769</td>\n      <td>4.159563</td>\n      <td>1</td>\n      <td>-0.140420</td>\n      <td>1570273260</td>\n      <td>2019-10-05 11:01:00</td>\n    </tr>\n    <tr>\n      <th>2</th>\n      <td>0.646619</td>\n      <td>2.715251</td>\n      <td>5.414856</td>\n      <td>0.418116</td>\n      <td>4.199152</td>\n      <td>1</td>\n      <td>-0.140239</td>\n      <td>1570359660</td>\n      <td>2019-10-06 11:01:00</td>\n    </tr>\n    <tr>\n      <th>3</th>\n      <td>0.646873</td>\n      <td>2.685147</td>\n      <td>5.351562</td>\n      <td>0.418445</td>\n      <td>4.150966</td>\n      <td>1</td>\n      <td>-0.140347</td>\n      <td>1570446060</td>\n      <td>2019-10-07 11:01:00</td>\n    </tr>\n    <tr>\n      <th>4</th>\n      <td>0.646643</td>\n      <td>2.726605</td>\n      <td>5.395325</td>\n      <td>0.418147</td>\n      <td>4.216556</td>\n      <td>1</td>\n      <td>-0.140423</td>\n      <td>1570532460</td>\n      <td>2019-10-08 11:01:00</td>\n    </tr>\n  </tbody>\n</table>\n</div>"
     },
     "execution_count": 16,
     "metadata": {},
     "output_type": "execute_result"
    }
   ],
   "source": [
    "df_kpi1 = pd.DataFrame(kpi_output1[\"results\"][\"acc\"])\n",
    "df_kpi1[\"timestamps\"] = kpi_output1[\"results\"]['timestamps']\n",
    "df_kpi1['Date'] = pd.to_datetime(df_kpi1['timestamps'], unit=\"s\")\n",
    "df_kpi1.head()"
   ]
  },
  {
   "cell_type": "markdown",
   "id": "chicken-appliance",
   "metadata": {
    "pycharm": {
     "name": "#%% md\n"
    }
   },
   "source": [
    "The `\"results\"` of the \"ModeId\" feature are four lists and one dictionary:\n",
    "\n",
    "* The first list is the measurement epoch in the same unit as the measurement was uploaded, which is seconds for this example.\n",
    "\n",
    "* The second list corresponds to the mode label given to the timestamp.\n",
    "\n",
    "* The third list is a boolean to indicate the uncertainty of label.\n",
    "\n",
    "* The fourth list corresponds to the mode probability of each mode label.\n",
    "\n",
    "The dictionary, called 'model_info', contains the \"Emerging modes\" results.\n",
    "\n",
    "\"Emerging modes\" is an additional output of the analysis results that describes the first appearance of each one of the identified modes.\n",
    "\n",
    "We pass all the lists to a dataframe for ease of manipulation.\n",
    "Similarly to the RMS feature, we will show how to access the dictionary results information and convert it into a Pandas dataframe.\n",
    "Please check the [\"Analysis Classes\"](5-analysis_classes.ipynb) example for directly getting a results Pandas dataframe.\n",
    "In addition, the \"timestamp\" column is converted to a timestamp object in a column called \"Date\"."
   ]
  },
  {
   "cell_type": "code",
   "execution_count": 17,
   "id": "talented-characteristic",
   "metadata": {
    "ExecuteTime": {
     "end_time": "2021-03-18T10:00:57.673176Z",
     "start_time": "2021-03-18T10:00:57.664766Z"
    },
    "scrolled": true
   },
   "outputs": [
    {
     "data": {
      "text/plain": "   timestamps  labels  uncertain  mode_probability                Date\n0  1570186860       0      False          0.912743 2019-10-04 11:01:00\n1  1570273260       0      False          0.972841 2019-10-05 11:01:00\n2  1570359660       0      False          0.929741 2019-10-06 11:01:00\n3  1570446060       0      False          0.999620 2019-10-07 11:01:00\n4  1570532460       0      False          0.978940 2019-10-08 11:01:00",
      "text/html": "<div>\n<style scoped>\n    .dataframe tbody tr th:only-of-type {\n        vertical-align: middle;\n    }\n\n    .dataframe tbody tr th {\n        vertical-align: top;\n    }\n\n    .dataframe thead th {\n        text-align: right;\n    }\n</style>\n<table border=\"1\" class=\"dataframe\">\n  <thead>\n    <tr style=\"text-align: right;\">\n      <th></th>\n      <th>timestamps</th>\n      <th>labels</th>\n      <th>uncertain</th>\n      <th>mode_probability</th>\n      <th>Date</th>\n    </tr>\n  </thead>\n  <tbody>\n    <tr>\n      <th>0</th>\n      <td>1570186860</td>\n      <td>0</td>\n      <td>False</td>\n      <td>0.912743</td>\n      <td>2019-10-04 11:01:00</td>\n    </tr>\n    <tr>\n      <th>1</th>\n      <td>1570273260</td>\n      <td>0</td>\n      <td>False</td>\n      <td>0.972841</td>\n      <td>2019-10-05 11:01:00</td>\n    </tr>\n    <tr>\n      <th>2</th>\n      <td>1570359660</td>\n      <td>0</td>\n      <td>False</td>\n      <td>0.929741</td>\n      <td>2019-10-06 11:01:00</td>\n    </tr>\n    <tr>\n      <th>3</th>\n      <td>1570446060</td>\n      <td>0</td>\n      <td>False</td>\n      <td>0.999620</td>\n      <td>2019-10-07 11:01:00</td>\n    </tr>\n    <tr>\n      <th>4</th>\n      <td>1570532460</td>\n      <td>0</td>\n      <td>False</td>\n      <td>0.978940</td>\n      <td>2019-10-08 11:01:00</td>\n    </tr>\n  </tbody>\n</table>\n</div>"
     },
     "execution_count": 17,
     "metadata": {},
     "output_type": "execute_result"
    }
   ],
   "source": [
    "mode_all1 = mode_output1[\"results\"].copy()\n",
    "mode_probabilities1 = mode_all1.pop(\"mode_probabilities\")\n",
    "mode_emerging1 = mode_all1.pop(\"mode_info\")\n",
    "\n",
    "# Conversion to dataframe of the full mode labels table\n",
    "df_mode1 = pd.DataFrame(mode_all1)\n",
    "df_mode1['Date'] = pd.to_datetime(df_mode1['timestamps'], unit=\"s\")\n",
    "df_mode1.head()"
   ]
  },
  {
   "cell_type": "code",
   "execution_count": 18,
   "id": "proud-chuck",
   "metadata": {
    "pycharm": {
     "name": "#%%\n"
    }
   },
   "outputs": [
    {
     "data": {
      "text/plain": "   modes  emerging_time  max_prob_time  max_probability       emerging_Date\n0      0     1570186860     1570446060         0.999620 2019-10-04 11:01:00\n1      1     1571655660     1571742060         0.997126 2019-10-21 11:01:00\n2      2     1572350460     1573041660         0.999948 2019-10-29 12:01:00",
      "text/html": "<div>\n<style scoped>\n    .dataframe tbody tr th:only-of-type {\n        vertical-align: middle;\n    }\n\n    .dataframe tbody tr th {\n        vertical-align: top;\n    }\n\n    .dataframe thead th {\n        text-align: right;\n    }\n</style>\n<table border=\"1\" class=\"dataframe\">\n  <thead>\n    <tr style=\"text-align: right;\">\n      <th></th>\n      <th>modes</th>\n      <th>emerging_time</th>\n      <th>max_prob_time</th>\n      <th>max_probability</th>\n      <th>emerging_Date</th>\n    </tr>\n  </thead>\n  <tbody>\n    <tr>\n      <th>0</th>\n      <td>0</td>\n      <td>1570186860</td>\n      <td>1570446060</td>\n      <td>0.999620</td>\n      <td>2019-10-04 11:01:00</td>\n    </tr>\n    <tr>\n      <th>1</th>\n      <td>1</td>\n      <td>1571655660</td>\n      <td>1571742060</td>\n      <td>0.997126</td>\n      <td>2019-10-21 11:01:00</td>\n    </tr>\n    <tr>\n      <th>2</th>\n      <td>2</td>\n      <td>1572350460</td>\n      <td>1573041660</td>\n      <td>0.999948</td>\n      <td>2019-10-29 12:01:00</td>\n    </tr>\n  </tbody>\n</table>\n</div>"
     },
     "execution_count": 18,
     "metadata": {},
     "output_type": "execute_result"
    }
   ],
   "source": [
    "# Conversion to dataframe of the emerging modes table\n",
    "df_emerging1 = pd.DataFrame(mode_emerging1)\n",
    "df_emerging1['emerging_Date'] = pd.to_datetime(df_emerging1['emerging_time'], unit=\"s\")\n",
    "df_emerging1.head()"
   ]
  },
  {
   "cell_type": "markdown",
   "id": "touched-giant",
   "metadata": {
    "pycharm": {
     "name": "#%% md\n"
    }
   },
   "source": [
    "For the purpose of demonstration of our visualization functions, we will merge the dataframes of the \"RMS\" results and the \"ModeId\" results into a single dataframe."
   ]
  },
  {
   "cell_type": "code",
   "execution_count": 19,
   "id": "defined-utilization",
   "metadata": {
    "ExecuteTime": {
     "end_time": "2021-03-18T10:00:58.990587Z",
     "start_time": "2021-03-18T10:00:58.980233Z"
    },
    "pycharm": {
     "name": "#%%\n"
    }
   },
   "outputs": [
    {
     "data": {
      "text/plain": "        rms      peak  peak2peak  variance  crest_factor  utilization  \\\n0  0.647086  2.686563   5.313293  0.418720      4.151786            1   \n1  0.647123  2.691750   5.367004  0.418769      4.159563            1   \n2  0.646619  2.715251   5.414856  0.418116      4.199152            1   \n3  0.646873  2.685147   5.351562  0.418445      4.150966            1   \n4  0.646643  2.726605   5.395325  0.418147      4.216556            1   \n\n   dc_component  timestamps                Date  labels  uncertain  \\\n0     -0.140237  1570186860 2019-10-04 11:01:00       0      False   \n1     -0.140420  1570273260 2019-10-05 11:01:00       0      False   \n2     -0.140239  1570359660 2019-10-06 11:01:00       0      False   \n3     -0.140347  1570446060 2019-10-07 11:01:00       0      False   \n4     -0.140423  1570532460 2019-10-08 11:01:00       0      False   \n\n   mode_probability  \n0          0.912743  \n1          0.972841  \n2          0.929741  \n3          0.999620  \n4          0.978940  ",
      "text/html": "<div>\n<style scoped>\n    .dataframe tbody tr th:only-of-type {\n        vertical-align: middle;\n    }\n\n    .dataframe tbody tr th {\n        vertical-align: top;\n    }\n\n    .dataframe thead th {\n        text-align: right;\n    }\n</style>\n<table border=\"1\" class=\"dataframe\">\n  <thead>\n    <tr style=\"text-align: right;\">\n      <th></th>\n      <th>rms</th>\n      <th>peak</th>\n      <th>peak2peak</th>\n      <th>variance</th>\n      <th>crest_factor</th>\n      <th>utilization</th>\n      <th>dc_component</th>\n      <th>timestamps</th>\n      <th>Date</th>\n      <th>labels</th>\n      <th>uncertain</th>\n      <th>mode_probability</th>\n    </tr>\n  </thead>\n  <tbody>\n    <tr>\n      <th>0</th>\n      <td>0.647086</td>\n      <td>2.686563</td>\n      <td>5.313293</td>\n      <td>0.418720</td>\n      <td>4.151786</td>\n      <td>1</td>\n      <td>-0.140237</td>\n      <td>1570186860</td>\n      <td>2019-10-04 11:01:00</td>\n      <td>0</td>\n      <td>False</td>\n      <td>0.912743</td>\n    </tr>\n    <tr>\n      <th>1</th>\n      <td>0.647123</td>\n      <td>2.691750</td>\n      <td>5.367004</td>\n      <td>0.418769</td>\n      <td>4.159563</td>\n      <td>1</td>\n      <td>-0.140420</td>\n      <td>1570273260</td>\n      <td>2019-10-05 11:01:00</td>\n      <td>0</td>\n      <td>False</td>\n      <td>0.972841</td>\n    </tr>\n    <tr>\n      <th>2</th>\n      <td>0.646619</td>\n      <td>2.715251</td>\n      <td>5.414856</td>\n      <td>0.418116</td>\n      <td>4.199152</td>\n      <td>1</td>\n      <td>-0.140239</td>\n      <td>1570359660</td>\n      <td>2019-10-06 11:01:00</td>\n      <td>0</td>\n      <td>False</td>\n      <td>0.929741</td>\n    </tr>\n    <tr>\n      <th>3</th>\n      <td>0.646873</td>\n      <td>2.685147</td>\n      <td>5.351562</td>\n      <td>0.418445</td>\n      <td>4.150966</td>\n      <td>1</td>\n      <td>-0.140347</td>\n      <td>1570446060</td>\n      <td>2019-10-07 11:01:00</td>\n      <td>0</td>\n      <td>False</td>\n      <td>0.999620</td>\n    </tr>\n    <tr>\n      <th>4</th>\n      <td>0.646643</td>\n      <td>2.726605</td>\n      <td>5.395325</td>\n      <td>0.418147</td>\n      <td>4.216556</td>\n      <td>1</td>\n      <td>-0.140423</td>\n      <td>1570532460</td>\n      <td>2019-10-08 11:01:00</td>\n      <td>0</td>\n      <td>False</td>\n      <td>0.978940</td>\n    </tr>\n  </tbody>\n</table>\n</div>"
     },
     "execution_count": 19,
     "metadata": {},
     "output_type": "execute_result"
    }
   ],
   "source": [
    "df_u0001 =  pd.merge_asof(df_kpi1, df_mode1, on=\"timestamps\", by=\"Date\")\n",
    "df_u0001.head()"
   ]
  },
  {
   "cell_type": "markdown",
   "id": "handmade-stretch",
   "metadata": {
    "pycharm": {
     "name": "#%% md\n"
    }
   },
   "source": [
    "We repeat the same procedure of converting the results to a dataframe for source \"u0005\"."
   ]
  },
  {
   "cell_type": "code",
   "execution_count": 20,
   "id": "grave-accounting",
   "metadata": {
    "ExecuteTime": {
     "end_time": "2021-03-18T10:01:01.536419Z",
     "start_time": "2021-03-18T10:01:01.523935Z"
    },
    "pycharm": {
     "name": "#%%\n"
    }
   },
   "outputs": [
    {
     "data": {
      "text/plain": "        rms      peak  peak2peak  variance  crest_factor  utilization  \\\n0  0.646887  2.753406   5.352417  0.418462      4.256397            1   \n1  0.646963  2.784282   5.446289  0.418562      4.303615            1   \n2  0.646905  2.767685   5.388000  0.418485      4.278352            1   \n3  0.647395  2.838854   5.481140  0.419120      4.385044            1   \n4  0.647057  2.748442   5.371582  0.418683      4.247603            1   \n\n   dc_component  timestamps                Date  labels  uncertain  \\\n0     -0.140491  1570186860 2019-10-04 11:01:00       0      False   \n1     -0.140056  1570273260 2019-10-05 11:01:00       0      False   \n2     -0.140244  1570359660 2019-10-06 11:01:00       0      False   \n3     -0.140124  1570446060 2019-10-07 11:01:00       0      False   \n4     -0.140165  1570532460 2019-10-08 11:01:00       0      False   \n\n   mode_probability  \n0          0.989035  \n1          0.973626  \n2          0.981236  \n3          0.997068  \n4          0.990411  ",
      "text/html": "<div>\n<style scoped>\n    .dataframe tbody tr th:only-of-type {\n        vertical-align: middle;\n    }\n\n    .dataframe tbody tr th {\n        vertical-align: top;\n    }\n\n    .dataframe thead th {\n        text-align: right;\n    }\n</style>\n<table border=\"1\" class=\"dataframe\">\n  <thead>\n    <tr style=\"text-align: right;\">\n      <th></th>\n      <th>rms</th>\n      <th>peak</th>\n      <th>peak2peak</th>\n      <th>variance</th>\n      <th>crest_factor</th>\n      <th>utilization</th>\n      <th>dc_component</th>\n      <th>timestamps</th>\n      <th>Date</th>\n      <th>labels</th>\n      <th>uncertain</th>\n      <th>mode_probability</th>\n    </tr>\n  </thead>\n  <tbody>\n    <tr>\n      <th>0</th>\n      <td>0.646887</td>\n      <td>2.753406</td>\n      <td>5.352417</td>\n      <td>0.418462</td>\n      <td>4.256397</td>\n      <td>1</td>\n      <td>-0.140491</td>\n      <td>1570186860</td>\n      <td>2019-10-04 11:01:00</td>\n      <td>0</td>\n      <td>False</td>\n      <td>0.989035</td>\n    </tr>\n    <tr>\n      <th>1</th>\n      <td>0.646963</td>\n      <td>2.784282</td>\n      <td>5.446289</td>\n      <td>0.418562</td>\n      <td>4.303615</td>\n      <td>1</td>\n      <td>-0.140056</td>\n      <td>1570273260</td>\n      <td>2019-10-05 11:01:00</td>\n      <td>0</td>\n      <td>False</td>\n      <td>0.973626</td>\n    </tr>\n    <tr>\n      <th>2</th>\n      <td>0.646905</td>\n      <td>2.767685</td>\n      <td>5.388000</td>\n      <td>0.418485</td>\n      <td>4.278352</td>\n      <td>1</td>\n      <td>-0.140244</td>\n      <td>1570359660</td>\n      <td>2019-10-06 11:01:00</td>\n      <td>0</td>\n      <td>False</td>\n      <td>0.981236</td>\n    </tr>\n    <tr>\n      <th>3</th>\n      <td>0.647395</td>\n      <td>2.838854</td>\n      <td>5.481140</td>\n      <td>0.419120</td>\n      <td>4.385044</td>\n      <td>1</td>\n      <td>-0.140124</td>\n      <td>1570446060</td>\n      <td>2019-10-07 11:01:00</td>\n      <td>0</td>\n      <td>False</td>\n      <td>0.997068</td>\n    </tr>\n    <tr>\n      <th>4</th>\n      <td>0.647057</td>\n      <td>2.748442</td>\n      <td>5.371582</td>\n      <td>0.418683</td>\n      <td>4.247603</td>\n      <td>1</td>\n      <td>-0.140165</td>\n      <td>1570532460</td>\n      <td>2019-10-08 11:01:00</td>\n      <td>0</td>\n      <td>False</td>\n      <td>0.990411</td>\n    </tr>\n  </tbody>\n</table>\n</div>"
     },
     "execution_count": 20,
     "metadata": {},
     "output_type": "execute_result"
    }
   ],
   "source": [
    "#RMS\n",
    "df_rms5 = pd.DataFrame(kpi_output5[\"results\"][\"acc\"])\n",
    "df_rms5[\"timestamps\"] = kpi_output5[\"results\"]['timestamps']\n",
    "df_rms5['Date'] = pd.to_datetime(df_rms5['timestamps'], unit=\"s\")\n",
    "#MODE_ID (full)\n",
    "mode_all5 = mode_output5[\"results\"].copy()\n",
    "mode_probabilities5 = mode_all5.pop(\"mode_probabilities\")\n",
    "mode_emerging5 = mode_all5.pop(\"mode_info\")\n",
    "df_mode5 = pd.DataFrame(mode_all5)\n",
    "df_mode5['Date'] = pd.to_datetime(df_mode5['timestamps'], unit=\"s\")\n",
    "#Merging dataframes\n",
    "df_u0005 = pd.merge_asof(df_rms5, df_mode5, on=\"timestamps\", by=\"Date\")\n",
    "df_u0005.head()"
   ]
  },
  {
   "cell_type": "markdown",
   "id": "injured-student",
   "metadata": {},
   "source": [
    "We can call the individual boxplot for one source and display the boxplot of the \"RMS\" for each one of the operating modes.\n",
    "Here, we use results for source \"u0001\"."
   ]
  },
  {
   "cell_type": "code",
   "execution_count": 21,
   "id": "first-influence",
   "metadata": {
    "ExecuteTime": {
     "end_time": "2021-03-18T10:01:07.727375Z",
     "start_time": "2021-03-18T10:01:07.628927Z"
    }
   },
   "outputs": [
    {
     "name": "stderr",
     "output_type": "stream",
     "text": [
      "c:\\users\\sergio\\appdata\\local\\programs\\python\\python38\\lib\\site-packages\\numpy\\core\\_asarray.py:102: VisibleDeprecationWarning: Creating an ndarray from ragged nested sequences (which is a list-or-tuple of lists-or-tuples-or ndarrays with different lengths or shapes) is deprecated. If you meant to do this, you must specify 'dtype=object' when creating the ndarray.\n",
      "  return array(a, dtype, copy=False, order=order)\n"
     ]
    },
    {
     "data": {
      "text/plain": "<Figure size 576x216 with 1 Axes>",
      "image/png": "[encoded data removed]"
     },
     "metadata": {
      "needs_background": "light"
     },
     "output_type": "display_data"
    }
   ],
   "source": [
    "image_boxplot = plotting.modes_boxplot(df_u0001, \"rms\", SOURCE_IDS[0])"
   ]
  },
  {
   "cell_type": "markdown",
   "id": "desperate-consultancy",
   "metadata": {},
   "source": [
    "We create a list with all the sources dataframes for the \"ModeId\" feature and display the \"RMS\" boxplot across the different modes."
   ]
  },
  {
   "cell_type": "code",
   "execution_count": 22,
   "id": "israeli-sympathy",
   "metadata": {
    "ExecuteTime": {
     "end_time": "2021-03-18T10:01:11.059225Z",
     "start_time": "2021-03-18T10:01:10.915230Z"
    },
    "scrolled": true
   },
   "outputs": [
    {
     "name": "stderr",
     "output_type": "stream",
     "text": [
      "c:\\users\\sergio\\appdata\\local\\programs\\python\\python38\\lib\\site-packages\\numpy\\core\\_asarray.py:102: VisibleDeprecationWarning: Creating an ndarray from ragged nested sequences (which is a list-or-tuple of lists-or-tuples-or ndarrays with different lengths or shapes) is deprecated. If you meant to do this, you must specify 'dtype=object' when creating the ndarray.\n",
      "  return array(a, dtype, copy=False, order=order)\n",
      "c:\\users\\sergio\\appdata\\local\\programs\\python\\python38\\lib\\site-packages\\numpy\\core\\_asarray.py:102: VisibleDeprecationWarning: Creating an ndarray from ragged nested sequences (which is a list-or-tuple of lists-or-tuples-or ndarrays with different lengths or shapes) is deprecated. If you meant to do this, you must specify 'dtype=object' when creating the ndarray.\n",
      "  return array(a, dtype, copy=False, order=order)\n"
     ]
    },
    {
     "data": {
      "text/plain": "<Figure size 432x432 with 2 Axes>",
      "image/png": "[encoded data removed]"
     },
     "metadata": {
      "needs_background": "light"
     },
     "output_type": "display_data"
    }
   ],
   "source": [
    "plotting.modes_group_boxplot([df_u0001, df_u0005], \"rms\", SOURCE_IDS)"
   ]
  },
  {
   "cell_type": "markdown",
   "id": "paperback-persian",
   "metadata": {},
   "source": [
    "We call the display over time of an individual source and identify all its operating modes.\n",
    "We define the parameter \"timeunit\" given that the default unit in the function is milliseconds and the epochs in our data are seconds."
   ]
  },
  {
   "cell_type": "code",
   "execution_count": 23,
   "id": "polished-recycling",
   "metadata": {
    "ExecuteTime": {
     "end_time": "2021-03-18T10:01:16.615916Z",
     "start_time": "2021-03-18T10:01:16.510745Z"
    }
   },
   "outputs": [
    {
     "data": {
      "text/plain": "<Figure size 720x216 with 1 Axes>",
      "image/png": "[encoded data removed]"
     },
     "metadata": {
      "needs_background": "light"
     },
     "output_type": "display_data"
    }
   ],
   "source": [
    "image_modes = plotting.modes_over_time(df_u0001, SOURCE_IDS[0], timeunit=\"s\")"
   ]
  },
  {
   "cell_type": "markdown",
   "id": "sustainable-invention",
   "metadata": {},
   "source": [
    "Uncertain areas appear as a gray rectangle above the corresponding periods in the modes plot.\n",
    "If there are not uncertain areas, the space is white.\n",
    "\n",
    "We create a list with all the sources dataframes and display the modes over time for all."
   ]
  },
  {
   "cell_type": "code",
   "execution_count": 24,
   "id": "orange-consciousness",
   "metadata": {
    "ExecuteTime": {
     "end_time": "2021-03-18T10:01:17.917436Z",
     "start_time": "2021-03-18T10:01:17.618543Z"
    },
    "pycharm": {
     "name": "#%%\n"
    }
   },
   "outputs": [
    {
     "data": {
      "text/plain": "<Figure size 648x432 with 2 Axes>",
      "image/png": "[encoded data removed]"
     },
     "metadata": {
      "needs_background": "light"
     },
     "output_type": "display_data"
    }
   ],
   "source": [
    "plotting.modes_over_time_group([df_u0001, df_u0005], SOURCE_IDS, timeunit=\"s\")"
   ]
  },
  {
   "cell_type": "markdown",
   "id": "e4ed39d7",
   "metadata": {},
   "source": [
    "Apart from visualization of modes over time, we can also visualize the probability of occurrence of every mode over time.\n",
    "The plot can be generated using the `\"plot_probabilities\"` method of the \"ModeId\" feature class.\n",
    "As a first step, the raw mode results needs to be parsed into a python object representing the \"ModeId\" feature class.\n",
    "The method `\"plot_probabilities\"` makes use of the instance variable, `\"probabilities\"`, which is a matrix of probability of occurrence of each mode for over each timestamp.\n",
    "For a more focused plot, one can use the method's `\"selected_modes\"` parameter to only consider a subset of modes."
   ]
  },
  {
   "cell_type": "code",
   "execution_count": 25,
   "id": "3bee115a",
   "metadata": {},
   "outputs": [
    {
     "data": {
      "text/plain": "<Figure size 864x288 with 1 Axes>",
      "image/png": "[encoded data removed]"
     },
     "metadata": {
      "needs_background": "light"
     },
     "output_type": "display_data"
    },
    {
     "data": {
      "text/plain": "''"
     },
     "execution_count": 25,
     "metadata": {},
     "output_type": "execute_result"
    }
   ],
   "source": [
    "mode_results_parsed = analysis_classes.parse_results(mode_output1, t_unit=\"s\")\n",
    "mode_results_parsed.plot_probabilities()"
   ]
  },
  {
   "cell_type": "markdown",
   "id": "south-acting",
   "metadata": {
    "pycharm": {
     "name": "#%% md\n"
    }
   },
   "source": [
    "## Population Analysis\n",
    "\n",
    "Another feature is \"BlackSheep\", which targets a group of assets and aims to identify the atypical assets within a population.  \n",
    "\n",
    "During our example, we will utilize all sources previously uploaded to our database."
   ]
  },
  {
   "cell_type": "code",
   "execution_count": 26,
   "id": "compressed-mexico",
   "metadata": {
    "pycharm": {
     "name": "#%%\n"
    }
   },
   "outputs": [
    {
     "data": {
      "text/plain": "['u0001', 'u0002', 'u0003', 'u0004', 'u0005', 'u0006']"
     },
     "execution_count": 26,
     "metadata": {},
     "output_type": "execute_result"
    }
   ],
   "source": [
    "SOURCE_ID_ALL = [\"u0001\", \"u0002\", \"u0003\", \"u0004\", \"u0005\", \"u0006\"]\n",
    "SOURCE_ID_ALL"
   ]
  },
  {
   "cell_type": "markdown",
   "id": "joined-russia",
   "metadata": {},
   "source": [
    "Similar to single asset feature, the requested population analysis will return a dictionary object with two elements.\n",
    "The first element is a `\"request_id\"` that can be used to retrieve the results after.\n",
    "The second element is `\"request_status\"` that provides the status right after placing the analysis request. \n",
    "\n",
    "Here, we will request the \"BlackSheep\" feature for all our sources.\n",
    "In addition, we show how to pass additional parameters into the analysis request.\n",
    "When we want to pass an additional parameter request, this needs to be in the form of a dictionary.\n",
    "In this particular analysis, we had relaxed the `\"atypical_threshold\"` parameter from the default value of 0.05 to 0.10 to discover a larger number of assets as atypical."
   ]
  },
  {
   "cell_type": "code",
   "execution_count": 27,
   "id": "chemical-helmet",
   "metadata": {
    "pycharm": {
     "name": "#%%\n"
    }
   },
   "outputs": [
    {
     "data": {
      "text/plain": "{'request_id': 'cdb27ac2ef5d4d635287de9421a2977a', 'request_status': 'queued'}"
     },
     "execution_count": 27,
     "metadata": {},
     "output_type": "execute_result"
    }
   ],
   "source": [
    "params = {\"atypical_threshold\": 0.1}\n",
    "BS_ALL = session.request_population_analysis(SOURCE_ID_ALL, 'BlackSheep', parameters = params)\n",
    "BS_ALL"
   ]
  },
  {
   "cell_type": "markdown",
   "id": "great-gender",
   "metadata": {},
   "source": [
    "Similarly, we can query for the status of our requested analysis, where the different status options remain the same."
   ]
  },
  {
   "cell_type": "code",
   "execution_count": 28,
   "id": "hourly-homework",
   "metadata": {
    "pycharm": {
     "name": "#%%\n"
    }
   },
   "outputs": [
    {
     "name": "stdout",
     "output_type": "stream",
     "text": [
      "BlackSheep Analysis: successful\n"
     ]
    }
   ],
   "source": [
    "REQUEST_ID_ALL = BS_ALL['request_id']\n",
    "status = session.get_analysis_status(REQUEST_ID_ALL)\n",
    "print(f\"BlackSheep Analysis: {status}\")"
   ]
  },
  {
   "cell_type": "markdown",
   "id": "voluntary-regression",
   "metadata": {},
   "source": [
    "The next step is to retrieve the results by calling the \"request_id\".\n",
    "\n",
    "The output of the `\"get_analysis_results\"` function is similar to single asset features.\n",
    "These seven elements are:\n",
    "\n",
    "* `\"status\"` indicates if the analysis was successful.\n",
    "\n",
    "* `\"request_id\"` is the identifier of the requested analysis.\n",
    "\n",
    "* `\"feature\"` is the name of the request feature.\n",
    "\n",
    "* `\"results\"` includes the numeric results.\n",
    "\n",
    "* `\"inputs\"` includes the input information for the request analysis.\n",
    "\n",
    "* `\"error_info\"` includes the error information in case the analysis fails and it is empty if the analysis is successful.\n",
    "\n",
    "* `\"debug_info\"` includes debugging (log) information related to the failed analysis."
   ]
  },
  {
   "cell_type": "code",
   "execution_count": 29,
   "id": "innocent-dictionary",
   "metadata": {
    "pycharm": {
     "name": "#%%\n"
    }
   },
   "outputs": [
    {
     "data": {
      "text/plain": "dict_keys(['status', 'request_id', 'feature', 'results', 'inputs', 'error_info', 'debug_info'])"
     },
     "execution_count": 29,
     "metadata": {},
     "output_type": "execute_result"
    }
   ],
   "source": [
    "session.wait_for_analyses([REQUEST_ID_ALL])\n",
    "blacksheep_table = session.get_analysis_results(request_id=REQUEST_ID_ALL)\n",
    "blacksheep_table.keys()"
   ]
  },
  {
   "cell_type": "markdown",
   "id": "related-probe",
   "metadata": {},
   "source": [
    "The `\"results\"` of the \"BlackSheep\" indicates the atypical assets.\n",
    "`\"results\"` is a dictionary with a key element labelled `\"atypical_assets\"`.\n",
    "`\"atypical_assets\"` is a list and the length of the list indicates the number of atypical assets.\n",
    "Each element on this list is a dictionary.\n",
    "The dictionary includes the source_id of the atypical assets, a list with all the measurement timestamps, and the corresponding list with a boolean indicating whether the measurement is atypical.\n",
    "\n",
    "Here, we show the number of atypical assets and the atypical order of these assets."
   ]
  },
  {
   "cell_type": "code",
   "execution_count": 30,
   "id": "clean-agreement",
   "metadata": {
    "pycharm": {
     "name": "#%%\n"
    }
   },
   "outputs": [
    {
     "name": "stdout",
     "output_type": "stream",
     "text": [
      "There is a total of 2 atypical assets in this analysis.\n"
     ]
    }
   ],
   "source": [
    "atypical_output = blacksheep_table[\"results\"]\n",
    "atypical = atypical_output[\"atypical_assets\"]\n",
    "\n",
    "print(f\"There is a total of {len(atypical)} atypical assets in this analysis.\")"
   ]
  },
  {
   "cell_type": "code",
   "execution_count": 31,
   "id": "eight-cargo",
   "metadata": {
    "pycharm": {
     "name": "#%%\n"
    }
   },
   "outputs": [
    {
     "name": "stdout",
     "output_type": "stream",
     "text": [
      "The 1st blacksheep is u0004\n",
      "The 2nd blacksheep is u0002\n"
     ]
    }
   ],
   "source": [
    "atypical1 = atypical[0]\n",
    "atypical2 = atypical[1]\n",
    "print(f\"The 1st blacksheep is {atypical1['source_id']}\")\n",
    "print(f\"The 2nd blacksheep is {atypical2['source_id']}\")"
   ]
  },
  {
   "cell_type": "markdown",
   "id": "swiss-owner",
   "metadata": {
    "pycharm": {
     "name": "#%% md\n"
    }
   },
   "source": [
    "Please check the [\"Analysis Classes\"](5-analysis_classes.ipynb) example for some of the visualization options of the blacksheep results.\n"
   ]
  }
 ],
 "metadata": {
  "celltoolbar": "Tags",
  "kernelspec": {
   "display_name": "Python 3",
   "language": "python",
   "name": "python3"
  },
  "language_info": {
   "codemirror_mode": {
    "name": "ipython",
    "version": 3
   },
   "file_extension": ".py",
   "mimetype": "text/x-python",
   "name": "python",
   "nbconvert_exporter": "python",
   "pygments_lexer": "ipython3",
   "version": "3.8.10"
  },
  "toc": {
   "base_numbering": 1,
   "nav_menu": {},
   "number_sections": true,
   "sideBar": true,
   "skip_h1_title": false,
   "title_cell": "Table of Contents",
   "title_sidebar": "Contents",
   "toc_cell": false,
   "toc_position": {},
   "toc_section_display": true,
   "toc_window_display": false
  },
  "varInspector": {
   "cols": {
    "lenName": 16,
    "lenType": 16,
    "lenVar": 40
   },
   "kernels_config": {
    "python": {
     "delete_cmd_postfix": "",
     "delete_cmd_prefix": "del ",
     "library": "var_list.py",
     "varRefreshCmd": "print(var_dic_list())"
    },
    "r": {
     "delete_cmd_postfix": ") ",
     "delete_cmd_prefix": "rm(",
     "library": "var_list.r",
     "varRefreshCmd": "cat(var_dic_list()) "
    }
   },
   "types_to_exclude": [
    "module",
    "function",
    "builtin_function_or_method",
    "instance",
    "_Feature"
   ],
   "window_display": false
  }
 },
 "nbformat": 4,
 "nbformat_minor": 5
}
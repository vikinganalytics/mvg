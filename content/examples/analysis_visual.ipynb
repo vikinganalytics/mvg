{
 "cells": [
  {
   "cell_type": "markdown",
   "id": "2858da30",
   "metadata": {},
   "source": [
    "# Analysis and Results Visualization\n",
    "\n",
    "This script describes the procedure to request an analysis to the Viking Analytics' MultiViz Analytics Engine (MVG) service.\n",
    "It shows how to query for results of single-asset or asset-population analysis.\n",
    "In addition, it presents some examples of how to visualize the results available for the mode identification feature.\n",
    "\n",
    "In this example, we will describe how to access and manipulate the analysis results directly.\n",
    "The [\"Analysis Classes\"](analysis_classes.ipynb) example provides a simplified and unified interface to access these results as a pandas dataframe, along with some basic visualization of the results.\n",
    "\n",
    "## Preliminaries\n",
    "\n",
    "This procedure describes all the steps to request an analysis, get analysis results and plot those results using the functions in `plotting`.\n",
    "Local visualizations functions to create the figures are imported from `plotting`. "
   ]
  },
  {
   "cell_type": "code",
   "execution_count": 1,
   "id": "99a56dce",
   "metadata": {
    "ExecuteTime": {
     "end_time": "2021-03-18T10:00:28.735704Z",
     "start_time": "2021-03-18T10:00:28.513699Z"
    }
   },
   "outputs": [],
   "source": [
    "import os\n",
    "import pandas as pd\n",
    "import matplotlib.pyplot as plt\n",
    "from requests import HTTPError\n",
    "\n",
    "# import mvg library with python bindings to mvg-API\n",
    "from mvg import MVG, plotting"
   ]
  },
  {
   "cell_type": "markdown",
   "id": "bcbe73b7",
   "metadata": {
    "ExecuteTime": {
     "end_time": "2021-03-04T10:59:02.619313Z",
     "start_time": "2021-03-04T10:59:02.615934Z"
    }
   },
   "source": [
    "Note that the `TOKEN` is used both for authorization and authentication. Thus, each unique token represents a unique user and each user has their own unique database on the VA vibration service.\n",
    "\n",
    "**You need to insert your token received from Viking Analytics here:"
   ]
  },
  {
   "cell_type": "code",
   "execution_count": 2,
   "id": "373345ac",
   "metadata": {
    "ExecuteTime": {
     "end_time": "2021-03-18T10:00:29.472021Z",
     "start_time": "2021-03-18T10:00:29.469799Z"
    }
   },
   "outputs": [],
   "source": [
    "# Replace by your own Token\n",
    "VALID_TOKEN = os.environ['TEST_TOKEN']"
   ]
  },
  {
   "cell_type": "markdown",
   "id": "0caaedc5",
   "metadata": {},
   "source": [
    "Instantiate a session object with MVG library.\n",
    "A session object basically caches the endpoint and the token, to simplify the calls to the MVG library."
   ]
  },
  {
   "cell_type": "code",
   "execution_count": 3,
   "id": "29f5a2e3",
   "metadata": {
    "ExecuteTime": {
     "end_time": "2021-03-18T10:00:30.395676Z",
     "start_time": "2021-03-18T10:00:30.214070Z"
    }
   },
   "outputs": [],
   "source": [
    "ENDPOINT = \"https://api.beta.multiviz.com\"\n",
    "session = MVG(ENDPOINT, VALID_TOKEN)"
   ]
  },
  {
   "cell_type": "markdown",
   "id": "c7f26ecd",
   "metadata": {
    "pycharm": {
     "name": "#%% md\n"
    }
   },
   "source": [
    "## Asset Analysis\n",
    "\n",
    "In this example, we will use the sources uploaded by the [\"Sources and Measurement\"](sources_and_measurements.ipynb) example.\n",
    "We start by looking if the sources are available in the database.\n",
    "At least, sources, \"u0001\" and \"u0005\", should appear as available."
   ]
  },
  {
   "cell_type": "code",
   "execution_count": 4,
   "id": "05e2b87b",
   "metadata": {
    "pycharm": {
     "name": "#%%\n"
    }
   },
   "outputs": [
    {
     "name": "stdout",
     "output_type": "stream",
     "text": [
      "Retrieved sources\n",
      "{'source_id': 'u0001', 'meta': {'assetId': 'assetA', 'measPoint': 'mloc01', 'location': 'paris'}, 'properties': {'data_class': 'waveform'}}\n",
      "Source info retrieved for one source: {'source_id': 'u0001', 'meta': {'assetId': 'assetA', 'measPoint': 'mloc01', 'location': 'paris'}, 'properties': {'data_class': 'waveform'}}\n",
      "{'source_id': 'u0002', 'meta': {'assetId': 'assetB', 'measPoint': 'mloc01', 'location': 'paris'}, 'properties': {'data_class': 'waveform'}}\n",
      "Source info retrieved for one source: {'source_id': 'u0002', 'meta': {'assetId': 'assetB', 'measPoint': 'mloc01', 'location': 'paris'}, 'properties': {'data_class': 'waveform'}}\n",
      "{'source_id': 'u0003', 'meta': {'assetId': 'assetC', 'measPoint': 'mloc01', 'location': 'milano'}, 'properties': {'data_class': 'waveform'}}\n",
      "Source info retrieved for one source: {'source_id': 'u0003', 'meta': {'assetId': 'assetC', 'measPoint': 'mloc01', 'location': 'milano'}, 'properties': {'data_class': 'waveform'}}\n",
      "{'source_id': 'u0004', 'meta': {'assetId': 'assetD', 'measPoint': 'mloc01', 'location': 'milano'}, 'properties': {'data_class': 'waveform'}}\n",
      "Source info retrieved for one source: {'source_id': 'u0004', 'meta': {'assetId': 'assetD', 'measPoint': 'mloc01', 'location': 'milano'}, 'properties': {'data_class': 'waveform'}}\n",
      "{'source_id': 'u0005', 'meta': {'assetId': 'assetE', 'measPoint': 'mloc01', 'location': 'london'}, 'properties': {'data_class': 'waveform'}}\n",
      "Source info retrieved for one source: {'source_id': 'u0005', 'meta': {'assetId': 'assetE', 'measPoint': 'mloc01', 'location': 'london'}, 'properties': {'data_class': 'waveform'}}\n",
      "{'source_id': 'u0006', 'meta': {'assetId': 'assetF', 'measPoint': 'mloc01', 'location': 'london'}, 'properties': {'data_class': 'waveform'}}\n",
      "Source info retrieved for one source: {'source_id': 'u0006', 'meta': {'assetId': 'assetF', 'measPoint': 'mloc01', 'location': 'london'}, 'properties': {'data_class': 'waveform'}}\n"
     ]
    }
   ],
   "source": [
    "sources = session.list_sources()\n",
    "\n",
    "print(\"Retrieved sources\")\n",
    "for src in sources:\n",
    "    print(src)\n",
    "    s_info = session.get_source(src['source_id'])\n",
    "    print(f\"Source info retrieved for one source: {s_info}\")"
   ]
  },
  {
   "cell_type": "markdown",
   "id": "bfbd15ea",
   "metadata": {},
   "source": [
    "During our example, we will utilize sources, \"u0001\" and \"u0005\", which were previously uploaded to our database."
   ]
  },
  {
   "cell_type": "code",
   "execution_count": 5,
   "id": "67e41ac3",
   "metadata": {
    "ExecuteTime": {
     "end_time": "2021-03-18T10:00:32.804304Z",
     "start_time": "2021-03-18T10:00:32.800567Z"
    },
    "pycharm": {
     "name": "#%%\n"
    }
   },
   "outputs": [
    {
     "data": {
      "text/plain": [
       "['u0001', 'u0005']"
      ]
     },
     "execution_count": 5,
     "metadata": {},
     "output_type": "execute_result"
    }
   ],
   "source": [
    "SOURCE_IDS = [\"u0001\", \"u0005\"]\n",
    "SOURCE_IDS"
   ]
  },
  {
   "cell_type": "markdown",
   "id": "080de630",
   "metadata": {
    "pycharm": {
     "name": "#%% md\n"
    }
   },
   "source": [
    "The Viking Analytics Vibration service has several features available.\n",
    "We list the available features along with the version of each of them in the following way:"
   ]
  },
  {
   "cell_type": "code",
   "execution_count": 6,
   "id": "8028ff5c",
   "metadata": {
    "ExecuteTime": {
     "end_time": "2021-03-18T10:00:36.152571Z",
     "start_time": "2021-03-18T10:00:35.990849Z"
    },
    "pycharm": {
     "name": "#%%\n"
    }
   },
   "outputs": [
    {
     "data": {
      "text/plain": [
       "{'RMS': '1.0.0', 'ModeId': '0.1.1', 'BlackSheep': '1.0.0'}"
      ]
     },
     "execution_count": 6,
     "metadata": {},
     "output_type": "execute_result"
    }
   ],
   "source": [
    "available_features = session.supported_features()\n",
    "available_features"
   ]
  },
  {
   "cell_type": "markdown",
   "id": "92ec3758",
   "metadata": {
    "pycharm": {
     "name": "#%% md\n"
    }
   },
   "source": [
    "Once the source and measurements had been uploaded in the database, we can request an analysis to the VA Vibration service.\n",
    "When we request an analysis, we need to say which source is to be used in the analysis and the feature to be applied.\n",
    "\n",
    "The requested analysis will return a dictionary object with two elements.\n",
    "The first element is a `\"request_id\"` that can be used to retrieve the results after.\n",
    "The second element is `\"request_status\"` that provides the status right after placing the analysis request. \n",
    "\n",
    "Here, we will request the \"RMS\" feature from our source \"u0001\"."
   ]
  },
  {
   "cell_type": "code",
   "execution_count": 7,
   "id": "337bb224",
   "metadata": {
    "ExecuteTime": {
     "end_time": "2021-03-18T10:00:37.584243Z",
     "start_time": "2021-03-18T10:00:37.457555Z"
    },
    "pycharm": {
     "name": "#%%\n"
    }
   },
   "outputs": [
    {
     "data": {
      "text/plain": [
       "{'request_id': 'bd831c060faf3d6ca5332be3f17c5c10', 'request_status': 'queued'}"
      ]
     },
     "execution_count": 7,
     "metadata": {},
     "output_type": "execute_result"
    }
   ],
   "source": [
    "SOURCE_ID = SOURCE_IDS[0]\n",
    "RMS_u0001 = session.request_analysis(SOURCE_ID, 'RMS')\n",
    "RMS_u0001 "
   ]
  },
  {
   "cell_type": "markdown",
   "id": "68792692",
   "metadata": {
    "pycharm": {
     "name": "#%% md\n"
    }
   },
   "source": [
    "Now, we proceed to request the \"ModeId\" feature for the same source."
   ]
  },
  {
   "cell_type": "code",
   "execution_count": 8,
   "id": "52b73cb7",
   "metadata": {
    "ExecuteTime": {
     "end_time": "2021-03-18T10:00:38.637859Z",
     "start_time": "2021-03-18T10:00:38.499851Z"
    },
    "pycharm": {
     "name": "#%%\n"
    }
   },
   "outputs": [
    {
     "data": {
      "text/plain": [
       "{'request_id': 'c1a1dc59c94e9a6a7f810cf802cb9d78', 'request_status': 'queued'}"
      ]
     },
     "execution_count": 8,
     "metadata": {},
     "output_type": "execute_result"
    }
   ],
   "source": [
    "ModeId_u0001 = session.request_analysis(SOURCE_ID, 'ModeId')\n",
    "ModeId_u0001 "
   ]
  },
  {
   "cell_type": "markdown",
   "id": "636b6d60",
   "metadata": {
    "pycharm": {
     "name": "#%% md\n"
    }
   },
   "source": [
    "Before we are able to get the analysis results, we need to wait until those analyses are successfully completed.\n",
    "\n",
    "We can query for the status of our requested analyses.\n",
    "The possible status are:\n",
    "- Queued: The analysis has not started in the remote server and it is in the queue to begin.\n",
    "- Ongoing: The analysis is been processed at this time.\n",
    "- Failed: The analysis is complete and failed to produce a result.\n",
    "- Successful: The analysis is complete and it produced a successful result."
   ]
  },
  {
   "cell_type": "code",
   "execution_count": 9,
   "id": "279ec317",
   "metadata": {
    "ExecuteTime": {
     "end_time": "2021-03-18T10:00:43.435603Z",
     "start_time": "2021-03-18T10:00:43.172181Z"
    },
    "pycharm": {
     "name": "#%%\n"
    }
   },
   "outputs": [
    {
     "name": "stdout",
     "output_type": "stream",
     "text": [
      "RMS Analysis: successful\n",
      "ModeId Analysis: successful\n"
     ]
    }
   ],
   "source": [
    "REQUEST_IDS_u0001 = [RMS_u0001['request_id'], ModeId_u0001['request_id']]\n",
    "status = session.get_analysis_status(REQUEST_IDS_u0001[0])\n",
    "print(f\"RMS Analysis: {status}\")\n",
    "status = session.get_analysis_status(REQUEST_IDS_u0001[1])\n",
    "print(f\"ModeId Analysis: {status}\")"
   ]
  },
  {
   "cell_type": "markdown",
   "id": "ee0994b3",
   "metadata": {
    "pycharm": {
     "name": "#%% md\n"
    }
   },
   "source": [
    "The similar procedure is repeated to request the \"RMS\" and \"ModeId\" for our source \"u0005\"."
   ]
  },
  {
   "cell_type": "code",
   "execution_count": 10,
   "id": "64c39aef",
   "metadata": {
    "ExecuteTime": {
     "end_time": "2021-03-18T10:00:44.400481Z",
     "start_time": "2021-03-18T10:00:44.261231Z"
    },
    "pycharm": {
     "name": "#%%\n"
    }
   },
   "outputs": [
    {
     "data": {
      "text/plain": [
       "{'request_id': 'e069ffd9e9178443af405f0c2f27894f', 'request_status': 'queued'}"
      ]
     },
     "execution_count": 10,
     "metadata": {},
     "output_type": "execute_result"
    }
   ],
   "source": [
    "SOURCE_ID = SOURCE_IDS[1]\n",
    "RMS_u0005 = session.request_analysis(SOURCE_ID, 'RMS')\n",
    "RMS_u0005"
   ]
  },
  {
   "cell_type": "code",
   "execution_count": 11,
   "id": "8947661d",
   "metadata": {
    "ExecuteTime": {
     "end_time": "2021-03-18T10:00:44.815607Z",
     "start_time": "2021-03-18T10:00:44.676422Z"
    },
    "pycharm": {
     "name": "#%%\n"
    }
   },
   "outputs": [
    {
     "data": {
      "text/plain": [
       "{'request_id': '849bfc8a74289625b331f3ea0f882ef3', 'request_status': 'queued'}"
      ]
     },
     "execution_count": 11,
     "metadata": {},
     "output_type": "execute_result"
    }
   ],
   "source": [
    "SOURCE_ID = SOURCE_IDS[1]\n",
    "ModeId_u0005 = session.request_analysis(SOURCE_ID, 'ModeId')\n",
    "ModeId_u0005"
   ]
  },
  {
   "cell_type": "markdown",
   "id": "f580564a",
   "metadata": {
    "pycharm": {
     "name": "#%% md\n"
    }
   },
   "source": [
    "Also, we check the status of our analysis for source \"u0005\" to confirm they had been completed successfully."
   ]
  },
  {
   "cell_type": "code",
   "execution_count": 12,
   "id": "1cd411c5",
   "metadata": {
    "ExecuteTime": {
     "end_time": "2021-03-18T10:00:48.331542Z",
     "start_time": "2021-03-18T10:00:47.324848Z"
    },
    "pycharm": {
     "name": "#%%\n"
    }
   },
   "outputs": [
    {
     "name": "stdout",
     "output_type": "stream",
     "text": [
      "RMS Analysis: successful\n",
      "ModeId Analysis: successful\n"
     ]
    }
   ],
   "source": [
    "REQUEST_IDS_u0005 = [RMS_u0005['request_id'], ModeId_u0005['request_id']]\n",
    "status = session.get_analysis_status(REQUEST_IDS_u0005[0])\n",
    "print(f\"RMS Analysis: {status}\")\n",
    "status = session.get_analysis_status(REQUEST_IDS_u0005[1])\n",
    "print(f\"ModeId Analysis: {status}\")"
   ]
  },
  {
   "cell_type": "markdown",
   "id": "c8d8e740",
   "metadata": {},
   "source": [
    "## Visualization\n",
    "\n",
    "Once the analysis is complete, one get the results by calling the corresponding \"request_id\" for each analysis.\n",
    "\n",
    "First, let's check all existing \"request_id\" in the database for each source and feature."
   ]
  },
  {
   "cell_type": "code",
   "execution_count": 13,
   "id": "85464a25",
   "metadata": {
    "ExecuteTime": {
     "end_time": "2021-03-18T10:00:51.412234Z",
     "start_time": "2021-03-18T10:00:50.909661Z"
    },
    "pycharm": {
     "name": "#%%\n"
    }
   },
   "outputs": [
    {
     "name": "stdout",
     "output_type": "stream",
     "text": [
      "The RMS analysis of u0001 has request_id ['5cf800607f127ebbca7b90c3b51c506a', 'de9562802a3248a9723ce4a8950c9a00', '2398c778dfe8625264fcfe952ead21b7', '78077ee974f2b5d17290c982d22b915a', '1a12f0e88c388eed298245bf122d7565', '2f8ef4370ca6f16ee30a71cf55645b02', 'bd831c060faf3d6ca5332be3f17c5c10'].\n",
      "The RMS analysis of u0005 has request_id ['9b0673ec9ee86fd9069cd33b4f917a4a', '2a0a12ff777aaefe7401fdc8b93e288d', 'e069ffd9e9178443af405f0c2f27894f'].\n",
      "The ModeId analysis of u0001 has request_id ['e176f4928372a627e743222eb2de0690', '535be882dd271d03c26bef8257ae03ec', '57b816d91decda67355da0ad160f0016', '25bdf3a393c5c166ae230ef98911606c', '9cced936d101c436eb32e7f8dc379796', 'd34f7e8f0a5b01a8471f1a5df23e1923', 'ba1202a3c210c9e388a980913cda3640', 'a089f212b2eda4eb79fc569b00c74659', 'e0ee3ad6935947f70a9d455f37da4c48', '7b3aae14f266697da1d140410627a6b6', '2c2bfebdbda7f75000f3c6e5128d3efc', 'd132fb68a652104c678acdd6fe514de5', '7b688623d9e6cf5ea63aaf2ce0318962', 'c1a1dc59c94e9a6a7f810cf802cb9d78'].\n",
      "The ModeId analysis of u0005 has request_id ['ff5392230521bd4bdcc5c36491eeefe5', '99934e2c5fd0858a90836ae3ec02cd52', '51d92e031290b7e28dd094faf01ea6ea', '4a76979f8d731606eb2cf03e9a6fd221', '849bfc8a74289625b331f3ea0f882ef3'].\n"
     ]
    }
   ],
   "source": [
    "REQUEST_IDS_RMS = [session.list_analyses(SOURCE_IDS[0], \"RMS\"), session.list_analyses(SOURCE_IDS[1], \"RMS\")]\n",
    "print(f\"The RMS analysis of {SOURCE_IDS[0]} has request_id {REQUEST_IDS_RMS[0]}.\")\n",
    "print(f\"The RMS analysis of {SOURCE_IDS[1]} has request_id {REQUEST_IDS_RMS[1]}.\")\n",
    "REQUEST_IDS_MODEID = [session.list_analyses(SOURCE_IDS[0], \"ModeId\"), session.list_analyses(SOURCE_IDS[1], \"ModeId\")]\n",
    "print(f\"The ModeId analysis of {SOURCE_IDS[0]} has request_id {REQUEST_IDS_MODEID[0]}.\")\n",
    "print(f\"The ModeId analysis of {SOURCE_IDS[1]} has request_id {REQUEST_IDS_MODEID[1]}.\")"
   ]
  },
  {
   "cell_type": "markdown",
   "id": "f43d5613",
   "metadata": {
    "pycharm": {
     "name": "#%% md\n"
    }
   },
   "source": [
    "The following step is to retrieve the results by calling each one of the \"request_id\".\n",
    "\n",
    "The output of the `\"get_analysis_results\"` function is a dictionary.\n",
    "We show the keys of one those dictionaries.\n",
    "The keys are the same for all features."
   ]
  },
  {
   "cell_type": "code",
   "execution_count": 14,
   "id": "164db8a1",
   "metadata": {
    "ExecuteTime": {
     "end_time": "2021-03-18T10:00:53.012148Z",
     "start_time": "2021-03-18T10:00:52.486345Z"
    }
   },
   "outputs": [
    {
     "data": {
      "text/plain": [
       "dict_keys(['status', 'request_id', 'feature', 'results', 'inputs', 'error_info', 'debug_info'])"
      ]
     },
     "execution_count": 14,
     "metadata": {},
     "output_type": "execute_result"
    }
   ],
   "source": [
    "rms_output1 = session.get_analysis_results(request_id=REQUEST_IDS_u0001[0])\n",
    "mode_output1 = session.get_analysis_results(request_id=REQUEST_IDS_u0001[1])\n",
    "rms_output5 = session.get_analysis_results(request_id=REQUEST_IDS_u0005[0])\n",
    "mode_output5 = session.get_analysis_results(request_id=REQUEST_IDS_u0005[1])\n",
    "\n",
    "rms_output1.keys()"
   ]
  },
  {
   "cell_type": "markdown",
   "id": "42d5bdae",
   "metadata": {},
   "source": [
    "Each dictionary contains seven key elements.\n",
    "These elements are:\n",
    "- `\"status\"` indicates if the analysis was successful.\n",
    "- `\"request_id\"` is the identifier of the requested analysis.\n",
    "- `\"feature\"` is the name of the request feature.\n",
    "- `\"results\"` includes the numeric results.\n",
    "- `\"inputs\"` includes the input information for the request analysis.\n",
    "- `\"error_info\"` includes the error information in case the analysis fails and it is empty if the analysis is successful.\n",
    "- `\"debug_info\"` includes debugging (log) information related to the failed analysis.\n"
   ]
  },
  {
   "cell_type": "markdown",
   "id": "8626cd9c",
   "metadata": {
    "pycharm": {
     "name": "#%% md\n"
    }
   },
   "source": [
    "The `\"results\"` of the \"RMS\" feature are five lists.\n",
    "These lists are:\n",
    "- timestamps: epoch (in seconds for this example) of the measurements.\n",
    "- rms: rms value for each measurement.\n",
    "- rms_dc: rms value without the dc component for each measurement.\n",
    "- dc: dc component value for each measurement.\n",
    "- utilization: boolean indicating whether the measurement was used for the rms calculation.\n",
    "\n",
    "\n",
    "These lists can be converted into a dataframe for ease of manipulation.\n",
    "In this example, we will show how to access the dictionary results information and convert it into a Pandas dataframe.\n",
    "Please check the [\"Analysis Classes\"](analysis_classes.ipynb) example for directly getting a results Pandas dataframe.\n",
    "In addition, the \"timestamp\" column is converted to a timestamp object in a column called \"Date\"."
   ]
  },
  {
   "cell_type": "code",
   "execution_count": 15,
   "id": "2c681b26",
   "metadata": {
    "ExecuteTime": {
     "end_time": "2021-03-18T10:00:55.411186Z",
     "start_time": "2021-03-18T10:00:55.402365Z"
    },
    "pycharm": {
     "name": "#%%\n"
    }
   },
   "outputs": [
    {
     "data": {
      "text/html": [
       "<div>\n",
       "<style scoped>\n",
       "    .dataframe tbody tr th:only-of-type {\n",
       "        vertical-align: middle;\n",
       "    }\n",
       "\n",
       "    .dataframe tbody tr th {\n",
       "        vertical-align: top;\n",
       "    }\n",
       "\n",
       "    .dataframe thead th {\n",
       "        text-align: right;\n",
       "    }\n",
       "</style>\n",
       "<table border=\"1\" class=\"dataframe\">\n",
       "  <thead>\n",
       "    <tr style=\"text-align: right;\">\n",
       "      <th></th>\n",
       "      <th>timestamps</th>\n",
       "      <th>rms</th>\n",
       "      <th>rms_dc</th>\n",
       "      <th>dc</th>\n",
       "      <th>utilization</th>\n",
       "      <th>Date</th>\n",
       "    </tr>\n",
       "  </thead>\n",
       "  <tbody>\n",
       "    <tr>\n",
       "      <th>0</th>\n",
       "      <td>1570186860</td>\n",
       "      <td>0.647086</td>\n",
       "      <td>0.662108</td>\n",
       "      <td>-0.140237</td>\n",
       "      <td>1</td>\n",
       "      <td>2019-10-04 11:01:00</td>\n",
       "    </tr>\n",
       "    <tr>\n",
       "      <th>1</th>\n",
       "      <td>1570273260</td>\n",
       "      <td>0.647123</td>\n",
       "      <td>0.662183</td>\n",
       "      <td>-0.140420</td>\n",
       "      <td>1</td>\n",
       "      <td>2019-10-05 11:01:00</td>\n",
       "    </tr>\n",
       "    <tr>\n",
       "      <th>2</th>\n",
       "      <td>1570359660</td>\n",
       "      <td>0.646619</td>\n",
       "      <td>0.661652</td>\n",
       "      <td>-0.140239</td>\n",
       "      <td>1</td>\n",
       "      <td>2019-10-06 11:01:00</td>\n",
       "    </tr>\n",
       "    <tr>\n",
       "      <th>3</th>\n",
       "      <td>1570446060</td>\n",
       "      <td>0.646873</td>\n",
       "      <td>0.661923</td>\n",
       "      <td>-0.140347</td>\n",
       "      <td>1</td>\n",
       "      <td>2019-10-07 11:01:00</td>\n",
       "    </tr>\n",
       "    <tr>\n",
       "      <th>4</th>\n",
       "      <td>1570532460</td>\n",
       "      <td>0.646643</td>\n",
       "      <td>0.661714</td>\n",
       "      <td>-0.140423</td>\n",
       "      <td>1</td>\n",
       "      <td>2019-10-08 11:01:00</td>\n",
       "    </tr>\n",
       "  </tbody>\n",
       "</table>\n",
       "</div>"
      ],
      "text/plain": [
       "   timestamps       rms    rms_dc        dc  utilization                Date\n",
       "0  1570186860  0.647086  0.662108 -0.140237            1 2019-10-04 11:01:00\n",
       "1  1570273260  0.647123  0.662183 -0.140420            1 2019-10-05 11:01:00\n",
       "2  1570359660  0.646619  0.661652 -0.140239            1 2019-10-06 11:01:00\n",
       "3  1570446060  0.646873  0.661923 -0.140347            1 2019-10-07 11:01:00\n",
       "4  1570532460  0.646643  0.661714 -0.140423            1 2019-10-08 11:01:00"
      ]
     },
     "execution_count": 15,
     "metadata": {},
     "output_type": "execute_result"
    }
   ],
   "source": [
    "df_rms1 = pd.DataFrame(rms_output1[\"results\"])\n",
    "df_rms1['Date'] = pd.to_datetime(df_rms1['timestamps'], unit=\"s\")\n",
    "df_rms1.head()"
   ]
  },
  {
   "cell_type": "markdown",
   "id": "24b86cfc",
   "metadata": {
    "pycharm": {
     "name": "#%% md\n"
    }
   },
   "source": [
    "The `\"results\"` of the \"ModeId\" feature are four lists and one dictionary:\n",
    "- The first list is the measurement epoch in the same unit as the measurement was uploaded, which is seconds for this example.\n",
    "- The second list corresponds to the mode label given to the timestamp.\n",
    "- The third list is a boolean to indicate the uncertainty of label.\n",
    "- The fourth list corresponds to the mode probability of each mode label.\n",
    "The dictionary, called 'model_info', contains the \"Emerging modes\" results.\n",
    "\n",
    "\"Emerging modes\" is an additional output of the analysis results that describes the first appearance of each one of the identified modes.\n",
    "\n",
    "We pass all the lists to a dataframe for ease of manipulation.\n",
    "Similarly to the RMS feature, we will show how to access the dictionary results information and convert it into a Pandas dataframe.\n",
    "Please check the [\"Analysis Classes\"](analysis_classes.ipynb) example for directly getting a results Pandas dataframe.\n",
    "In addition, the \"timestamp\" column is converted to a timestamp object in a column called \"Date\"."
   ]
  },
  {
   "cell_type": "code",
   "execution_count": 16,
   "id": "4fe86523",
   "metadata": {
    "ExecuteTime": {
     "end_time": "2021-03-18T10:00:57.673176Z",
     "start_time": "2021-03-18T10:00:57.664766Z"
    },
    "scrolled": true
   },
   "outputs": [
    {
     "data": {
      "text/html": [
       "<div>\n",
       "<style scoped>\n",
       "    .dataframe tbody tr th:only-of-type {\n",
       "        vertical-align: middle;\n",
       "    }\n",
       "\n",
       "    .dataframe tbody tr th {\n",
       "        vertical-align: top;\n",
       "    }\n",
       "\n",
       "    .dataframe thead th {\n",
       "        text-align: right;\n",
       "    }\n",
       "</style>\n",
       "<table border=\"1\" class=\"dataframe\">\n",
       "  <thead>\n",
       "    <tr style=\"text-align: right;\">\n",
       "      <th></th>\n",
       "      <th>timestamps</th>\n",
       "      <th>labels</th>\n",
       "      <th>uncertain</th>\n",
       "      <th>mode_probability</th>\n",
       "      <th>Date</th>\n",
       "    </tr>\n",
       "  </thead>\n",
       "  <tbody>\n",
       "    <tr>\n",
       "      <th>0</th>\n",
       "      <td>1570186860</td>\n",
       "      <td>0</td>\n",
       "      <td>False</td>\n",
       "      <td>0.001262</td>\n",
       "      <td>2019-10-04 11:01:00</td>\n",
       "    </tr>\n",
       "    <tr>\n",
       "      <th>1</th>\n",
       "      <td>1570273260</td>\n",
       "      <td>0</td>\n",
       "      <td>False</td>\n",
       "      <td>0.001833</td>\n",
       "      <td>2019-10-05 11:01:00</td>\n",
       "    </tr>\n",
       "    <tr>\n",
       "      <th>2</th>\n",
       "      <td>1570359660</td>\n",
       "      <td>0</td>\n",
       "      <td>False</td>\n",
       "      <td>0.000154</td>\n",
       "      <td>2019-10-06 11:01:00</td>\n",
       "    </tr>\n",
       "    <tr>\n",
       "      <th>3</th>\n",
       "      <td>1570446060</td>\n",
       "      <td>0</td>\n",
       "      <td>False</td>\n",
       "      <td>0.000546</td>\n",
       "      <td>2019-10-07 11:01:00</td>\n",
       "    </tr>\n",
       "    <tr>\n",
       "      <th>4</th>\n",
       "      <td>1570532460</td>\n",
       "      <td>0</td>\n",
       "      <td>False</td>\n",
       "      <td>0.000025</td>\n",
       "      <td>2019-10-08 11:01:00</td>\n",
       "    </tr>\n",
       "  </tbody>\n",
       "</table>\n",
       "</div>"
      ],
      "text/plain": [
       "   timestamps  labels  uncertain  mode_probability                Date\n",
       "0  1570186860       0      False          0.001262 2019-10-04 11:01:00\n",
       "1  1570273260       0      False          0.001833 2019-10-05 11:01:00\n",
       "2  1570359660       0      False          0.000154 2019-10-06 11:01:00\n",
       "3  1570446060       0      False          0.000546 2019-10-07 11:01:00\n",
       "4  1570532460       0      False          0.000025 2019-10-08 11:01:00"
      ]
     },
     "execution_count": 16,
     "metadata": {},
     "output_type": "execute_result"
    }
   ],
   "source": [
    "mode_all1 = mode_output1[\"results\"].copy()\n",
    "mode_emerging1 = mode_all1.pop(\"mode_info\")\n",
    "\n",
    "# Conversion to dataframe of the full mode labels table\n",
    "df_mode1 = pd.DataFrame(mode_all1)\n",
    "df_mode1['Date'] = pd.to_datetime(df_mode1['timestamps'], unit=\"s\")\n",
    "df_mode1.head()"
   ]
  },
  {
   "cell_type": "code",
   "execution_count": 17,
   "id": "0e702f2a",
   "metadata": {
    "collapsed": false,
    "pycharm": {
     "name": "#%%\n"
    }
   },
   "outputs": [
    {
     "data": {
      "text/html": [
       "<div>\n",
       "<style scoped>\n",
       "    .dataframe tbody tr th:only-of-type {\n",
       "        vertical-align: middle;\n",
       "    }\n",
       "\n",
       "    .dataframe tbody tr th {\n",
       "        vertical-align: top;\n",
       "    }\n",
       "\n",
       "    .dataframe thead th {\n",
       "        text-align: right;\n",
       "    }\n",
       "</style>\n",
       "<table border=\"1\" class=\"dataframe\">\n",
       "  <thead>\n",
       "    <tr style=\"text-align: right;\">\n",
       "      <th></th>\n",
       "      <th>modes</th>\n",
       "      <th>emerging_time</th>\n",
       "      <th>max_prob_time</th>\n",
       "      <th>max_probability</th>\n",
       "      <th>emerging_Date</th>\n",
       "    </tr>\n",
       "  </thead>\n",
       "  <tbody>\n",
       "    <tr>\n",
       "      <th>0</th>\n",
       "      <td>0</td>\n",
       "      <td>1570186860</td>\n",
       "      <td>1571137260</td>\n",
       "      <td>0.007276</td>\n",
       "      <td>2019-10-04 11:01:00</td>\n",
       "    </tr>\n",
       "    <tr>\n",
       "      <th>1</th>\n",
       "      <td>1</td>\n",
       "      <td>1571655660</td>\n",
       "      <td>1571655660</td>\n",
       "      <td>0.023025</td>\n",
       "      <td>2019-10-21 11:01:00</td>\n",
       "    </tr>\n",
       "    <tr>\n",
       "      <th>2</th>\n",
       "      <td>2</td>\n",
       "      <td>1572350460</td>\n",
       "      <td>1574424060</td>\n",
       "      <td>0.010912</td>\n",
       "      <td>2019-10-29 12:01:00</td>\n",
       "    </tr>\n",
       "  </tbody>\n",
       "</table>\n",
       "</div>"
      ],
      "text/plain": [
       "   modes  emerging_time  max_prob_time  max_probability       emerging_Date\n",
       "0      0     1570186860     1571137260         0.007276 2019-10-04 11:01:00\n",
       "1      1     1571655660     1571655660         0.023025 2019-10-21 11:01:00\n",
       "2      2     1572350460     1574424060         0.010912 2019-10-29 12:01:00"
      ]
     },
     "execution_count": 17,
     "metadata": {},
     "output_type": "execute_result"
    }
   ],
   "source": [
    "# Conversion to dataframe of the emerging modes table\n",
    "df_emerging1 = pd.DataFrame(mode_emerging1)\n",
    "df_emerging1['emerging_Date'] = pd.to_datetime(df_emerging1['emerging_time'], unit=\"s\")\n",
    "df_emerging1.head()"
   ]
  },
  {
   "cell_type": "markdown",
   "id": "22ae0e7a",
   "metadata": {
    "pycharm": {
     "name": "#%% md\n"
    }
   },
   "source": [
    "For the purpose of demonstration of our visualization functions, we will merge the dataframes of the \"RMS\" results and the \"ModeId\" results into a single dataframe."
   ]
  },
  {
   "cell_type": "code",
   "execution_count": 18,
   "id": "39f6dbdf",
   "metadata": {
    "ExecuteTime": {
     "end_time": "2021-03-18T10:00:58.990587Z",
     "start_time": "2021-03-18T10:00:58.980233Z"
    },
    "pycharm": {
     "name": "#%%\n"
    }
   },
   "outputs": [
    {
     "data": {
      "text/html": [
       "<div>\n",
       "<style scoped>\n",
       "    .dataframe tbody tr th:only-of-type {\n",
       "        vertical-align: middle;\n",
       "    }\n",
       "\n",
       "    .dataframe tbody tr th {\n",
       "        vertical-align: top;\n",
       "    }\n",
       "\n",
       "    .dataframe thead th {\n",
       "        text-align: right;\n",
       "    }\n",
       "</style>\n",
       "<table border=\"1\" class=\"dataframe\">\n",
       "  <thead>\n",
       "    <tr style=\"text-align: right;\">\n",
       "      <th></th>\n",
       "      <th>timestamps</th>\n",
       "      <th>rms</th>\n",
       "      <th>rms_dc</th>\n",
       "      <th>dc</th>\n",
       "      <th>utilization</th>\n",
       "      <th>Date</th>\n",
       "      <th>labels</th>\n",
       "      <th>uncertain</th>\n",
       "      <th>mode_probability</th>\n",
       "    </tr>\n",
       "  </thead>\n",
       "  <tbody>\n",
       "    <tr>\n",
       "      <th>0</th>\n",
       "      <td>1570186860</td>\n",
       "      <td>0.647086</td>\n",
       "      <td>0.662108</td>\n",
       "      <td>-0.140237</td>\n",
       "      <td>1</td>\n",
       "      <td>2019-10-04 11:01:00</td>\n",
       "      <td>0</td>\n",
       "      <td>False</td>\n",
       "      <td>0.001262</td>\n",
       "    </tr>\n",
       "    <tr>\n",
       "      <th>1</th>\n",
       "      <td>1570273260</td>\n",
       "      <td>0.647123</td>\n",
       "      <td>0.662183</td>\n",
       "      <td>-0.140420</td>\n",
       "      <td>1</td>\n",
       "      <td>2019-10-05 11:01:00</td>\n",
       "      <td>0</td>\n",
       "      <td>False</td>\n",
       "      <td>0.001833</td>\n",
       "    </tr>\n",
       "    <tr>\n",
       "      <th>2</th>\n",
       "      <td>1570359660</td>\n",
       "      <td>0.646619</td>\n",
       "      <td>0.661652</td>\n",
       "      <td>-0.140239</td>\n",
       "      <td>1</td>\n",
       "      <td>2019-10-06 11:01:00</td>\n",
       "      <td>0</td>\n",
       "      <td>False</td>\n",
       "      <td>0.000154</td>\n",
       "    </tr>\n",
       "    <tr>\n",
       "      <th>3</th>\n",
       "      <td>1570446060</td>\n",
       "      <td>0.646873</td>\n",
       "      <td>0.661923</td>\n",
       "      <td>-0.140347</td>\n",
       "      <td>1</td>\n",
       "      <td>2019-10-07 11:01:00</td>\n",
       "      <td>0</td>\n",
       "      <td>False</td>\n",
       "      <td>0.000546</td>\n",
       "    </tr>\n",
       "    <tr>\n",
       "      <th>4</th>\n",
       "      <td>1570532460</td>\n",
       "      <td>0.646643</td>\n",
       "      <td>0.661714</td>\n",
       "      <td>-0.140423</td>\n",
       "      <td>1</td>\n",
       "      <td>2019-10-08 11:01:00</td>\n",
       "      <td>0</td>\n",
       "      <td>False</td>\n",
       "      <td>0.000025</td>\n",
       "    </tr>\n",
       "  </tbody>\n",
       "</table>\n",
       "</div>"
      ],
      "text/plain": [
       "   timestamps       rms    rms_dc        dc  utilization                Date  \\\n",
       "0  1570186860  0.647086  0.662108 -0.140237            1 2019-10-04 11:01:00   \n",
       "1  1570273260  0.647123  0.662183 -0.140420            1 2019-10-05 11:01:00   \n",
       "2  1570359660  0.646619  0.661652 -0.140239            1 2019-10-06 11:01:00   \n",
       "3  1570446060  0.646873  0.661923 -0.140347            1 2019-10-07 11:01:00   \n",
       "4  1570532460  0.646643  0.661714 -0.140423            1 2019-10-08 11:01:00   \n",
       "\n",
       "   labels  uncertain  mode_probability  \n",
       "0       0      False          0.001262  \n",
       "1       0      False          0.001833  \n",
       "2       0      False          0.000154  \n",
       "3       0      False          0.000546  \n",
       "4       0      False          0.000025  "
      ]
     },
     "execution_count": 18,
     "metadata": {},
     "output_type": "execute_result"
    }
   ],
   "source": [
    "df_u0001 =  pd.merge_asof(df_rms1, df_mode1, on=\"timestamps\", by=\"Date\")\n",
    "df_u0001.head()"
   ]
  },
  {
   "cell_type": "markdown",
   "id": "8561ab25",
   "metadata": {
    "pycharm": {
     "name": "#%% md\n"
    }
   },
   "source": [
    "We repeat the same procedure of converting the results to a dataframe for source \"u0005\"."
   ]
  },
  {
   "cell_type": "code",
   "execution_count": 19,
   "id": "d28510df",
   "metadata": {
    "ExecuteTime": {
     "end_time": "2021-03-18T10:01:01.536419Z",
     "start_time": "2021-03-18T10:01:01.523935Z"
    },
    "pycharm": {
     "name": "#%%\n"
    }
   },
   "outputs": [
    {
     "data": {
      "text/html": [
       "<div>\n",
       "<style scoped>\n",
       "    .dataframe tbody tr th:only-of-type {\n",
       "        vertical-align: middle;\n",
       "    }\n",
       "\n",
       "    .dataframe tbody tr th {\n",
       "        vertical-align: top;\n",
       "    }\n",
       "\n",
       "    .dataframe thead th {\n",
       "        text-align: right;\n",
       "    }\n",
       "</style>\n",
       "<table border=\"1\" class=\"dataframe\">\n",
       "  <thead>\n",
       "    <tr style=\"text-align: right;\">\n",
       "      <th></th>\n",
       "      <th>timestamps</th>\n",
       "      <th>rms</th>\n",
       "      <th>rms_dc</th>\n",
       "      <th>dc</th>\n",
       "      <th>utilization</th>\n",
       "      <th>Date</th>\n",
       "      <th>labels</th>\n",
       "      <th>uncertain</th>\n",
       "      <th>mode_probability</th>\n",
       "    </tr>\n",
       "  </thead>\n",
       "  <tbody>\n",
       "    <tr>\n",
       "      <th>0</th>\n",
       "      <td>1570186860</td>\n",
       "      <td>0.646887</td>\n",
       "      <td>0.661967</td>\n",
       "      <td>-0.140491</td>\n",
       "      <td>1</td>\n",
       "      <td>2019-10-04 11:01:00</td>\n",
       "      <td>0</td>\n",
       "      <td>False</td>\n",
       "      <td>0.000008</td>\n",
       "    </tr>\n",
       "    <tr>\n",
       "      <th>1</th>\n",
       "      <td>1570273260</td>\n",
       "      <td>0.646963</td>\n",
       "      <td>0.661950</td>\n",
       "      <td>-0.140056</td>\n",
       "      <td>1</td>\n",
       "      <td>2019-10-05 11:01:00</td>\n",
       "      <td>0</td>\n",
       "      <td>False</td>\n",
       "      <td>0.000001</td>\n",
       "    </tr>\n",
       "    <tr>\n",
       "      <th>2</th>\n",
       "      <td>1570359660</td>\n",
       "      <td>0.646905</td>\n",
       "      <td>0.661932</td>\n",
       "      <td>-0.140244</td>\n",
       "      <td>1</td>\n",
       "      <td>2019-10-06 11:01:00</td>\n",
       "      <td>0</td>\n",
       "      <td>False</td>\n",
       "      <td>0.000002</td>\n",
       "    </tr>\n",
       "    <tr>\n",
       "      <th>3</th>\n",
       "      <td>1570446060</td>\n",
       "      <td>0.647395</td>\n",
       "      <td>0.662385</td>\n",
       "      <td>-0.140124</td>\n",
       "      <td>1</td>\n",
       "      <td>2019-10-07 11:01:00</td>\n",
       "      <td>0</td>\n",
       "      <td>False</td>\n",
       "      <td>0.000046</td>\n",
       "    </tr>\n",
       "    <tr>\n",
       "      <th>4</th>\n",
       "      <td>1570532460</td>\n",
       "      <td>0.647057</td>\n",
       "      <td>0.662064</td>\n",
       "      <td>-0.140165</td>\n",
       "      <td>1</td>\n",
       "      <td>2019-10-08 11:01:00</td>\n",
       "      <td>0</td>\n",
       "      <td>False</td>\n",
       "      <td>0.000004</td>\n",
       "    </tr>\n",
       "  </tbody>\n",
       "</table>\n",
       "</div>"
      ],
      "text/plain": [
       "   timestamps       rms    rms_dc        dc  utilization                Date  \\\n",
       "0  1570186860  0.646887  0.661967 -0.140491            1 2019-10-04 11:01:00   \n",
       "1  1570273260  0.646963  0.661950 -0.140056            1 2019-10-05 11:01:00   \n",
       "2  1570359660  0.646905  0.661932 -0.140244            1 2019-10-06 11:01:00   \n",
       "3  1570446060  0.647395  0.662385 -0.140124            1 2019-10-07 11:01:00   \n",
       "4  1570532460  0.647057  0.662064 -0.140165            1 2019-10-08 11:01:00   \n",
       "\n",
       "   labels  uncertain  mode_probability  \n",
       "0       0      False          0.000008  \n",
       "1       0      False          0.000001  \n",
       "2       0      False          0.000002  \n",
       "3       0      False          0.000046  \n",
       "4       0      False          0.000004  "
      ]
     },
     "execution_count": 19,
     "metadata": {},
     "output_type": "execute_result"
    }
   ],
   "source": [
    "#RMS\n",
    "df_rms5 = pd.DataFrame(rms_output5[\"results\"])\n",
    "df_rms5['Date'] = pd.to_datetime(df_rms5['timestamps'], unit=\"s\")\n",
    "#MODE_ID (full)\n",
    "mode_all5 = mode_output5[\"results\"].copy()\n",
    "mode_emerging5 = mode_all5.pop(\"mode_info\")\n",
    "df_mode5 = pd.DataFrame(mode_all5)\n",
    "df_mode5['Date'] = pd.to_datetime(df_mode5['timestamps'], unit=\"s\")\n",
    "#Merging dataframes\n",
    "df_u0005 = pd.merge_asof(df_rms5, df_mode5, on=\"timestamps\", by=\"Date\")\n",
    "df_u0005.head()"
   ]
  },
  {
   "cell_type": "markdown",
   "id": "034abdc3",
   "metadata": {},
   "source": [
    "We can call the individual boxplot for one source and display the boxplot of the \"RMS\" for each one of the operating modes.\n",
    "Here, we use results for source \"u0001\"."
   ]
  },
  {
   "cell_type": "code",
   "execution_count": 20,
   "id": "92a15313",
   "metadata": {
    "ExecuteTime": {
     "end_time": "2021-03-18T10:01:07.727375Z",
     "start_time": "2021-03-18T10:01:07.628927Z"
    }
   },
   "outputs": [
    {
     "data": {
      "image/png": "[encoded data removed]",
      "text/plain": [
       "<Figure size 576x216 with 1 Axes>"
      ]
     },
     "metadata": {
      "needs_background": "light"
     },
     "output_type": "display_data"
    }
   ],
   "source": [
    "image_boxplot = plotting.modes_boxplot(df_u0001, \"rms\", SOURCE_IDS[0])"
   ]
  },
  {
   "cell_type": "markdown",
   "id": "c1b9d66d",
   "metadata": {},
   "source": [
    "We create a list with all the sources dataframes for the \"ModeId\" feature and display the \"RMS\" boxplot across the different modes."
   ]
  },
  {
   "cell_type": "code",
   "execution_count": 21,
   "id": "93b31b0a",
   "metadata": {
    "ExecuteTime": {
     "end_time": "2021-03-18T10:01:11.059225Z",
     "start_time": "2021-03-18T10:01:10.915230Z"
    },
    "scrolled": true
   },
   "outputs": [
    {
     "data": {
      "image/png": "[encoded data removed]",
      "text/plain": [
       "<Figure size 432x432 with 2 Axes>"
      ]
     },
     "metadata": {
      "needs_background": "light"
     },
     "output_type": "display_data"
    }
   ],
   "source": [
    "plotting.modes_group_boxplot([df_u0001, df_u0005], \"rms\", SOURCE_IDS)"
   ]
  },
  {
   "cell_type": "markdown",
   "id": "fa175212",
   "metadata": {},
   "source": [
    "We call the display over time of an individual source and identify all its operating modes.\n",
    "We define the parameter \"timeunit\" given that the default unit in the function is milliseconds and the epochs in our data is seconds."
   ]
  },
  {
   "cell_type": "code",
   "execution_count": 22,
   "id": "96f43d16",
   "metadata": {
    "ExecuteTime": {
     "end_time": "2021-03-18T10:01:16.615916Z",
     "start_time": "2021-03-18T10:01:16.510745Z"
    }
   },
   "outputs": [
    {
     "data": {
      "image/png": "[encoded data removed]",
      "text/plain": [
       "<Figure size 720x216 with 1 Axes>"
      ]
     },
     "metadata": {
      "needs_background": "light"
     },
     "output_type": "display_data"
    }
   ],
   "source": [
    "image_modes = plotting.modes_over_time(df_u0001, SOURCE_IDS[0], timeunit=\"s\")"
   ]
  },
  {
   "cell_type": "markdown",
   "id": "eb2df8bb",
   "metadata": {},
   "source": [
    "Uncertain areas appear as a gray rectangle above the corresponding periods in the modes plot.\n",
    "If there are not uncertain areas, the space is white.\n",
    "\n",
    "We create a list with all the sources dataframes and display the modes over time for all."
   ]
  },
  {
   "cell_type": "code",
   "execution_count": 23,
   "id": "f843a3db",
   "metadata": {
    "ExecuteTime": {
     "end_time": "2021-03-18T10:01:17.917436Z",
     "start_time": "2021-03-18T10:01:17.618543Z"
    },
    "pycharm": {
     "name": "#%%\n"
    }
   },
   "outputs": [
    {
     "data": {
      "image/png": "[encoded data removed]",
      "text/plain": [
       "<Figure size 648x432 with 2 Axes>"
      ]
     },
     "metadata": {
      "needs_background": "light"
     },
     "output_type": "display_data"
    }
   ],
   "source": [
    "plotting.modes_over_time_group([df_u0001, df_u0005], SOURCE_IDS, timeunit=\"s\")"
   ]
  },
  {
   "cell_type": "markdown",
   "id": "e9a8ef7b",
   "metadata": {
    "pycharm": {
     "name": "#%% md\n"
    }
   },
   "source": [
    "## Population Analysis\n",
    "\n",
    "Another feature is \"BlackSheep\", which targets a group of assets and aims to identify the atypical assets within a population.  \n",
    "\n",
    "During our example, we will utilize all sources previously uploaded to our database."
   ]
  },
  {
   "cell_type": "code",
   "execution_count": 24,
   "id": "22dd5a23",
   "metadata": {
    "pycharm": {
     "name": "#%%\n"
    }
   },
   "outputs": [
    {
     "data": {
      "text/plain": [
       "['u0001', 'u0002', 'u0003', 'u0004', 'u0005', 'u0006']"
      ]
     },
     "execution_count": 24,
     "metadata": {},
     "output_type": "execute_result"
    }
   ],
   "source": [
    "SOURCE_ID_ALL = [\"u0001\", \"u0002\", \"u0003\", \"u0004\", \"u0005\", \"u0006\"]\n",
    "SOURCE_ID_ALL"
   ]
  },
  {
   "cell_type": "markdown",
   "id": "a841078c",
   "metadata": {},
   "source": [
    "Similar to single asset feature, the requested population analysis will return a dictionary object with two elements.\n",
    "The first element is a `\"request_id\"` that can be used to retrieve the results after.\n",
    "The second element is `\"request_status\"` that provides the status right after placing the analysis request. \n",
    "\n",
    "Here, we will request the \"BlackSheep\" feature for all our sources.\n",
    "In addition, we show how to pass additional parameters into the analysis request.\n",
    "When we want to pass an additional parameter request, this needs to be in the form of a dictionary.\n",
    "In this particular analysis, we had relaxed the `\"atypical_threshold\"` parameter from the default value of 0.05 to 0.10 to discover a larger number of assets as atypical."
   ]
  },
  {
   "cell_type": "code",
   "execution_count": 25,
   "id": "0d8d7060",
   "metadata": {
    "pycharm": {
     "name": "#%%\n"
    }
   },
   "outputs": [
    {
     "data": {
      "text/plain": [
       "{'request_id': 'f50aac753e019955cdeddda5be29012b', 'request_status': 'queued'}"
      ]
     },
     "execution_count": 25,
     "metadata": {},
     "output_type": "execute_result"
    }
   ],
   "source": [
    "params = {\"atypical_threshold\": 0.1}\n",
    "BS_ALL = session.request_population_analysis(SOURCE_ID_ALL, 'BlackSheep', parameters = params)\n",
    "BS_ALL"
   ]
  },
  {
   "cell_type": "markdown",
   "id": "87138705",
   "metadata": {},
   "source": [
    "Similarly, we can query for the status of our requested analysis, where the different status options remain the same."
   ]
  },
  {
   "cell_type": "code",
   "execution_count": 26,
   "id": "cfd759be",
   "metadata": {
    "pycharm": {
     "name": "#%%\n"
    }
   },
   "outputs": [
    {
     "name": "stdout",
     "output_type": "stream",
     "text": [
      "BlackSheep Analysis: successful\n"
     ]
    }
   ],
   "source": [
    "REQUEST_ID_ALL = BS_ALL['request_id']\n",
    "status = session.get_analysis_status(REQUEST_ID_ALL)\n",
    "print(f\"BlackSheep Analysis: {status}\")"
   ]
  },
  {
   "cell_type": "markdown",
   "id": "038cd016",
   "metadata": {},
   "source": [
    "The next step is to retrieve the results by calling the \"request_id\".\n",
    "\n",
    "The output of the `\"get_analysis_results\"` function is similar to single asset features.\n",
    "These seven elements are:\n",
    "- `\"status\"` indicates if the analysis was successful.\n",
    "- `\"request_id\"` is the identifier of the requested analysis.\n",
    "- `\"feature\"` is the name of the request feature.\n",
    "- `\"results\"` includes the numeric results.\n",
    "- `\"inputs\"` includes the input information for the request analysis.\n",
    "- `\"error_info\"` includes the error information in case the analysis fails and it is empty if the analysis is successful.\n",
    "- `\"debug_info\"` includes debugging (log) information related to the failed analysis."
   ]
  },
  {
   "cell_type": "code",
   "execution_count": 27,
   "id": "20351cca",
   "metadata": {
    "pycharm": {
     "name": "#%%\n"
    }
   },
   "outputs": [
    {
     "data": {
      "text/plain": [
       "dict_keys(['status', 'request_id', 'feature', 'results', 'inputs', 'error_info', 'debug_info'])"
      ]
     },
     "execution_count": 27,
     "metadata": {},
     "output_type": "execute_result"
    }
   ],
   "source": [
    "blacksheep_table = session.get_analysis_results(request_id=REQUEST_ID_ALL)\n",
    "blacksheep_table.keys()"
   ]
  },
  {
   "cell_type": "markdown",
   "id": "cc032e00",
   "metadata": {},
   "source": [
    "The `\"results\"` of the \"BlackSheep\" indicates the atypical assets.\n",
    "`\"results\"` is a dictionary with a key element labelled `\"atypical_assets\"`.\n",
    "`\"atypical_assets\"` is a list and the length of the list indicates the number of atypical assets.\n",
    "Each element on this list is a dictionary.\n",
    "The dictionary includes the source_id of the atypical assets, a list with all the measurement timestamps and the corresponding list with a boolean indicating whether the measurement is atypical.\n",
    "\n",
    "Here, we show the number of atypical assets and the atypical order of these assets."
   ]
  },
  {
   "cell_type": "code",
   "execution_count": 28,
   "id": "b039d863",
   "metadata": {
    "pycharm": {
     "name": "#%%\n"
    }
   },
   "outputs": [
    {
     "name": "stdout",
     "output_type": "stream",
     "text": [
      "There is a total of 2 atypical assets in this analysis.\n"
     ]
    }
   ],
   "source": [
    "atypical_output = blacksheep_table[\"results\"]\n",
    "atypical = atypical_output[\"atypical_assets\"]\n",
    "\n",
    "print(f\"There is a total of {len(atypical)} atypical assets in this analysis.\")"
   ]
  },
  {
   "cell_type": "code",
   "execution_count": 29,
   "id": "33015497",
   "metadata": {
    "collapsed": false,
    "pycharm": {
     "name": "#%%\n"
    }
   },
   "outputs": [
    {
     "name": "stdout",
     "output_type": "stream",
     "text": [
      "The 1st blacksheep is u0003\n",
      "The 2nd blacksheep is u0002\n"
     ]
    }
   ],
   "source": [
    "atypical1 = atypical[0]\n",
    "atypical2 = atypical[1]\n",
    "print(f\"The 1st blacksheep is {atypical1['source_id']}\")\n",
    "print(f\"The 2nd blacksheep is {atypical2['source_id']}\")"
   ]
  },
  {
   "cell_type": "markdown",
   "id": "eb6585e8",
   "metadata": {
    "collapsed": false,
    "pycharm": {
     "name": "#%% md\n"
    }
   },
   "source": [
    "Please check the [\"Analysis Classes\"](analysis_classes.ipynb) example for some of the visualization options of the blacksheep results.\n"
   ]
  }
 ],
 "metadata": {
  "kernelspec": {
   "display_name": "Python 3",
   "language": "python",
   "name": "python3"
  },
  "language_info": {
   "codemirror_mode": {
    "name": "ipython",
    "version": 3
   },
   "file_extension": ".py",
   "mimetype": "text/x-python",
   "name": "python",
   "nbconvert_exporter": "python",
   "pygments_lexer": "ipython3",
   "version": "3.8.2"
  },
  "toc": {
   "base_numbering": 1,
   "nav_menu": {},
   "number_sections": true,
   "sideBar": true,
   "skip_h1_title": false,
   "title_cell": "Table of Contents",
   "title_sidebar": "Contents",
   "toc_cell": false,
   "toc_position": {},
   "toc_section_display": true,
   "toc_window_display": false
  },
  "varInspector": {
   "cols": {
    "lenName": 16,
    "lenType": 16,
    "lenVar": 40
   },
   "kernels_config": {
    "python": {
     "delete_cmd_postfix": "",
     "delete_cmd_prefix": "del ",
     "library": "var_list.py",
     "varRefreshCmd": "print(var_dic_list())"
    },
    "r": {
     "delete_cmd_postfix": ") ",
     "delete_cmd_prefix": "rm(",
     "library": "var_list.r",
     "varRefreshCmd": "cat(var_dic_list()) "
    }
   },
   "types_to_exclude": [
    "module",
    "function",
    "builtin_function_or_method",
    "instance",
    "_Feature"
   ],
   "window_display": false
  }
 },
 "nbformat": 4,
 "nbformat_minor": 5
}

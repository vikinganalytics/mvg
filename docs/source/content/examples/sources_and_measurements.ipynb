{
 "cells": [
  {
   "cell_type": "markdown",
   "id": "c65a13c4",
   "metadata": {},
   "source": [
    "# Sources and Measurements Example\n",
    "\n",
    "This example shows how to upload measurements from an external repository into the MultiViz Analytics Engine (MVG) service and how to read this data."
   ]
  },
  {
   "cell_type": "code",
   "execution_count": 1,
   "id": "e6a18316",
   "metadata": {
    "ExecuteTime": {
     "end_time": "2021-03-18T09:54:16.678492Z",
     "start_time": "2021-03-18T09:54:16.487989Z"
    },
    "execution": {
     "iopub.execute_input": "2021-12-14T10:55:17.601710Z",
     "iopub.status.busy": "2021-12-14T10:55:17.601249Z",
     "iopub.status.idle": "2021-12-14T10:55:17.920601Z",
     "shell.execute_reply": "2021-12-14T10:55:17.919709Z"
    }
   },
   "outputs": [],
   "source": [
    "import json\n",
    "import os\n",
    "from pathlib import Path\n",
    "\n",
    "from tqdm.notebook import tqdm\n",
    "import pandas as pd\n",
    "\n",
    "# import mvg library with python bindings to mvg-API\n",
    "from mvg import MVG\n",
    "from mvg.exceptions import MVGAPIError"
   ]
  },
  {
   "cell_type": "markdown",
   "id": "30e77195",
   "metadata": {
    "ExecuteTime": {
     "end_time": "2021-03-04T14:04:45.710183Z",
     "start_time": "2021-03-04T14:04:45.705726Z"
    }
   },
   "source": [
    "Note that the `TOKEN` is used both for authorization and authentication.\n",
    "Thus, each unique token represents a unique user and each user has their own unique database on the VA service.\n",
    "\n",
    "**You need to insert your token received from Viking Analytics here:**"
   ]
  },
  {
   "cell_type": "code",
   "execution_count": 2,
   "id": "c24d35fb",
   "metadata": {
    "ExecuteTime": {
     "end_time": "2021-03-18T09:54:16.681622Z",
     "start_time": "2021-03-18T09:54:16.679684Z"
    },
    "execution": {
     "iopub.execute_input": "2021-12-14T10:55:17.924073Z",
     "iopub.status.busy": "2021-12-14T10:55:17.923678Z",
     "iopub.status.idle": "2021-12-14T10:55:17.926271Z",
     "shell.execute_reply": "2021-12-14T10:55:17.926566Z"
    }
   },
   "outputs": [],
   "source": [
    "# Replace by your own Token\n",
    "VALID_TOKEN = os.environ['TEST_TOKEN']"
   ]
  },
  {
   "cell_type": "markdown",
   "id": "5e5e3202",
   "metadata": {},
   "source": [
    "## Downloading the Data\n",
    "\n",
    "We pick the data from one source from our public charlie repo https://github.com/vikinganalytics/va-data-charlie.git for convenience.\n",
    "Clone that repository to get access to the data."
   ]
  },
  {
   "cell_type": "code",
   "execution_count": 3,
   "id": "e4ac4bde",
   "metadata": {
    "ExecuteTime": {
     "end_time": "2021-03-18T09:54:16.800754Z",
     "start_time": "2021-03-18T09:54:16.689464Z"
    },
    "execution": {
     "iopub.execute_input": "2021-12-14T10:55:17.929921Z",
     "iopub.status.busy": "2021-12-14T10:55:17.929549Z",
     "iopub.status.idle": "2021-12-14T10:55:18.071144Z",
     "shell.execute_reply": "2021-12-14T10:55:18.070658Z"
    }
   },
   "outputs": [
    {
     "name": "stdout",
     "output_type": "stream",
     "text": [
      "fatal: destination path 'va-data-charlie' already exists and is not an empty directory.\r\n"
     ]
    }
   ],
   "source": [
    "!git clone https://github.com/vikinganalytics/va-data-charlie.git"
   ]
  },
  {
   "cell_type": "markdown",
   "id": "1884c091",
   "metadata": {},
   "source": [
    "We are going to use six of the sources from the charlie dataset with IDs `u0001` to `u0006`."
   ]
  },
  {
   "cell_type": "code",
   "execution_count": 4,
   "id": "0a906c5d",
   "metadata": {
    "ExecuteTime": {
     "end_time": "2021-03-18T09:54:16.804606Z",
     "start_time": "2021-03-18T09:54:16.802048Z"
    },
    "execution": {
     "iopub.execute_input": "2021-12-14T10:55:18.076041Z",
     "iopub.status.busy": "2021-12-14T10:55:18.075544Z",
     "iopub.status.idle": "2021-12-14T10:55:18.078741Z",
     "shell.execute_reply": "2021-12-14T10:55:18.078380Z"
    }
   },
   "outputs": [],
   "source": [
    "REF_DB_PATH = Path.cwd() / \"va-data-charlie\" / \"charlieDb\" / \"acc\"\n",
    "SOURCE_IDS = [\"u0001\", \"u0002\", \"u0003\", \"u0004\", \"u0005\", \"u0006\"]"
   ]
  },
  {
   "cell_type": "markdown",
   "id": "e25fac8d",
   "metadata": {},
   "source": [
    "## Connect to the API\n",
    "\n",
    "Instantiate a session object with mvg library a session object basically caches the endpoint and the token,\n",
    "to simplify the calls to the MVG library."
   ]
  },
  {
   "cell_type": "code",
   "execution_count": 5,
   "id": "a2956343",
   "metadata": {
    "ExecuteTime": {
     "end_time": "2021-03-18T09:54:16.957584Z",
     "start_time": "2021-03-18T09:54:16.805695Z"
    },
    "execution": {
     "iopub.execute_input": "2021-12-14T10:55:18.082690Z",
     "iopub.status.busy": "2021-12-14T10:55:18.082300Z",
     "iopub.status.idle": "2021-12-14T10:55:18.383245Z",
     "shell.execute_reply": "2021-12-14T10:55:18.382377Z"
    }
   },
   "outputs": [],
   "source": [
    "ENDPOINT = \"https://api.beta.multiviz.com\"\n",
    "session = MVG(ENDPOINT, VALID_TOKEN)"
   ]
  },
  {
   "cell_type": "markdown",
   "id": "285b7967",
   "metadata": {},
   "source": [
    "We now check if the server is alive. The hello message contains, amongst others the API version."
   ]
  },
  {
   "cell_type": "code",
   "execution_count": 6,
   "id": "eeff903c",
   "metadata": {
    "ExecuteTime": {
     "end_time": "2021-03-18T09:54:17.111625Z",
     "start_time": "2021-03-18T09:54:16.958633Z"
    },
    "execution": {
     "iopub.execute_input": "2021-12-14T10:55:18.387835Z",
     "iopub.status.busy": "2021-12-14T10:55:18.387428Z",
     "iopub.status.idle": "2021-12-14T10:55:18.774991Z",
     "shell.execute_reply": "2021-12-14T10:55:18.775289Z"
    }
   },
   "outputs": [
    {
     "data": {
      "text/plain": [
       "{'api': {'name': 'MultiViz Engine API',\n",
       "  'version': 'v0.2.10',\n",
       "  'swagger': 'http://api.beta.multiviz.com/docs'}}"
      ]
     },
     "execution_count": 6,
     "metadata": {},
     "output_type": "execute_result"
    }
   ],
   "source": [
    "session.say_hello()"
   ]
  },
  {
   "cell_type": "markdown",
   "id": "dba2b7a4",
   "metadata": {},
   "source": [
    "## Check Database\n",
    "\n",
    "We start by seeing if there are any sources in the database.\n",
    "A source represents a measurement source e.g. one specific channel of a measurement sensor.\n",
    "Note that sources cannot be used to represent a sensor with several channels.\n",
    "If this is required, the client side needs to take care of it.\n",
    "\n",
    "Because we want to start at a clean slate we will list all sources (potentially none) and delete all of them"
   ]
  },
  {
   "cell_type": "code",
   "execution_count": 7,
   "id": "b5a32b9e",
   "metadata": {
    "ExecuteTime": {
     "end_time": "2021-03-18T09:54:17.247583Z",
     "start_time": "2021-03-18T09:54:17.113206Z"
    },
    "execution": {
     "iopub.execute_input": "2021-12-14T10:55:18.780705Z",
     "iopub.status.busy": "2021-12-14T10:55:18.780296Z",
     "iopub.status.idle": "2021-12-14T10:55:19.377984Z",
     "shell.execute_reply": "2021-12-14T10:55:19.377528Z"
    }
   },
   "outputs": [
    {
     "name": "stdout",
     "output_type": "stream",
     "text": [
      "Source info retrieved:\n",
      "{'source_id': 'u0001', 'meta': {'assetId': 'assetJ', 'measPoint': 'mloc01', 'location': 'cancun', 'timezone': 'Europe/Stockholm'}, 'properties': {'data_class': 'waveform', 'channels': ['acc']}}\n",
      "\n"
     ]
    }
   ],
   "source": [
    "sources = session.list_sources()\n",
    "\n",
    "for src in sources:\n",
    "    # While the list returned contains all information\n",
    "    # about all known sources, it is also possible\n",
    "    # to query for a single source by its id\n",
    "    s_info = session.get_source(src['source_id'])\n",
    "    print(f\"Source info retrieved:\\n{s_info}\\n\")"
   ]
  },
  {
   "cell_type": "markdown",
   "id": "c27750d9",
   "metadata": {},
   "source": [
    "The example below revolves around a source with source id u0001"
   ]
  },
  {
   "cell_type": "code",
   "execution_count": 8,
   "id": "d0bcb6fe",
   "metadata": {
    "ExecuteTime": {
     "end_time": "2021-03-18T09:54:17.250783Z",
     "start_time": "2021-03-18T09:54:17.248845Z"
    },
    "execution": {
     "iopub.execute_input": "2021-12-14T10:55:19.381859Z",
     "iopub.status.busy": "2021-12-14T10:55:19.381211Z",
     "iopub.status.idle": "2021-12-14T10:55:19.383442Z",
     "shell.execute_reply": "2021-12-14T10:55:19.382871Z"
    }
   },
   "outputs": [],
   "source": [
    "SOURCE_ID = SOURCE_IDS[0]"
   ]
  },
  {
   "cell_type": "markdown",
   "id": "27b7038d",
   "metadata": {},
   "source": [
    "To make sure we start from a clean slate we delete our resource in case it exists."
   ]
  },
  {
   "cell_type": "code",
   "execution_count": 9,
   "id": "e742a208",
   "metadata": {
    "ExecuteTime": {
     "end_time": "2021-03-18T09:54:17.408675Z",
     "start_time": "2021-03-18T09:54:17.252056Z"
    },
    "execution": {
     "iopub.execute_input": "2021-12-14T10:55:19.388526Z",
     "iopub.status.busy": "2021-12-14T10:55:19.387886Z",
     "iopub.status.idle": "2021-12-14T10:55:19.991108Z",
     "shell.execute_reply": "2021-12-14T10:55:19.991494Z"
    }
   },
   "outputs": [
    {
     "name": "stdout",
     "output_type": "stream",
     "text": [
      "Source u0001 deleted\n"
     ]
    }
   ],
   "source": [
    "try:\n",
    "    source = session.get_source(SOURCE_ID)\n",
    "    session.delete_source(SOURCE_ID)\n",
    "    print(f\"Source {SOURCE_ID} deleted\")\n",
    "except MVGAPIError:\n",
    "    print(f\"Source {SOURCE_ID} does not exist\")"
   ]
  },
  {
   "cell_type": "markdown",
   "id": "666c109a",
   "metadata": {},
   "source": [
    "## Build measurements\n",
    "\n",
    "Now we want to (re) build the source and the attached measurements from scratch. In this example, we have a json file with all the information needed to create each source."
   ]
  },
  {
   "cell_type": "code",
   "execution_count": 10,
   "id": "50658b55",
   "metadata": {
    "ExecuteTime": {
     "end_time": "2021-03-18T09:54:17.413080Z",
     "start_time": "2021-03-18T09:54:17.409985Z"
    },
    "execution": {
     "iopub.execute_input": "2021-12-14T10:55:19.996003Z",
     "iopub.status.busy": "2021-12-14T10:55:19.995269Z",
     "iopub.status.idle": "2021-12-14T10:55:19.998831Z",
     "shell.execute_reply": "2021-12-14T10:55:19.998494Z"
    }
   },
   "outputs": [
    {
     "name": "stdout",
     "output_type": "stream",
     "text": [
      "Creating meta info\n",
      "{'assetId': 'assetA', 'measPoint': 'mloc01', 'location': 'paris'}\n"
     ]
    }
   ],
   "source": [
    "src_path = REF_DB_PATH / SOURCE_ID\n",
    "m_file_name = REF_DB_PATH / SOURCE_ID / \"meta.json\"\n",
    "with open(m_file_name, \"r\") as json_file:\n",
    "    meta = json.load(json_file)\n",
    "print(\"Creating meta info\")\n",
    "print(meta)"
   ]
  },
  {
   "cell_type": "markdown",
   "id": "f37f6f9e",
   "metadata": {},
   "source": [
    "Create the source and check for it"
   ]
  },
  {
   "cell_type": "code",
   "execution_count": 11,
   "id": "464d3fd6",
   "metadata": {
    "ExecuteTime": {
     "end_time": "2021-03-18T09:54:17.688070Z",
     "start_time": "2021-03-18T09:54:17.414133Z"
    },
    "execution": {
     "iopub.execute_input": "2021-12-14T10:55:20.003523Z",
     "iopub.status.busy": "2021-12-14T10:55:20.002833Z",
     "iopub.status.idle": "2021-12-14T10:55:20.604890Z",
     "shell.execute_reply": "2021-12-14T10:55:20.604512Z"
    }
   },
   "outputs": [
    {
     "name": "stdout",
     "output_type": "stream",
     "text": [
      "Recreated source info:\n",
      "{'source_id': 'u0001', 'meta': {'assetId': 'assetA', 'measPoint': 'mloc01', 'location': 'paris'}, 'properties': {'data_class': 'waveform', 'channels': ['acc']}}\n"
     ]
    }
   ],
   "source": [
    "session.create_source(SOURCE_ID, meta, channels=[\"acc\"])  # create\n",
    "source = session.get_source(SOURCE_ID)\n",
    "print(\"Recreated source info:\")\n",
    "print(source)"
   ]
  },
  {
   "cell_type": "markdown",
   "id": "a717d414",
   "metadata": {},
   "source": [
    "Update the source"
   ]
  },
  {
   "cell_type": "code",
   "execution_count": 12,
   "id": "c514b9bd",
   "metadata": {
    "ExecuteTime": {
     "end_time": "2021-03-18T09:54:17.983670Z",
     "start_time": "2021-03-18T09:54:17.689219Z"
    },
    "execution": {
     "iopub.execute_input": "2021-12-14T10:55:20.609827Z",
     "iopub.status.busy": "2021-12-14T10:55:20.609168Z",
     "iopub.status.idle": "2021-12-14T10:55:21.210133Z",
     "shell.execute_reply": "2021-12-14T10:55:21.209446Z"
    }
   },
   "outputs": [
    {
     "name": "stdout",
     "output_type": "stream",
     "text": [
      "Updated source info\n",
      "{'source_id': 'u0001', 'meta': {'assetId': 'assetA', 'measPoint': 'mloc01', 'location': 'paris', 'updated': 'YES! I have been updated'}, 'properties': {'data_class': 'waveform', 'channels': ['acc']}}\n"
     ]
    }
   ],
   "source": [
    "meta['updated'] = \"YES! I have been updated\"\n",
    "session.update_source(SOURCE_ID, meta)  # update\n",
    "source = session.get_source(SOURCE_ID)\n",
    "print(\"Updated source info\")\n",
    "print(source)"
   ]
  },
  {
   "cell_type": "markdown",
   "id": "c18810c7",
   "metadata": {},
   "source": [
    "Upload measurements to source. Measurements are tied to sources, they consist of\n",
    "\n",
    "- an array of floating point values with a header indicating the channel name\n",
    "- timestamp when the values were sampled\n",
    "- a field for the duration of the measurement\n",
    "- meta information to be stored along the measurement"
   ]
  },
  {
   "cell_type": "code",
   "execution_count": 13,
   "id": "7f3fc3e6",
   "metadata": {
    "ExecuteTime": {
     "end_time": "2021-03-18T09:54:17.986967Z",
     "start_time": "2021-03-18T09:54:17.984640Z"
    },
    "execution": {
     "iopub.execute_input": "2021-12-14T10:55:21.214109Z",
     "iopub.status.busy": "2021-12-14T10:55:21.213714Z",
     "iopub.status.idle": "2021-12-14T10:55:21.217016Z",
     "shell.execute_reply": "2021-12-14T10:55:21.216650Z"
    }
   },
   "outputs": [],
   "source": [
    "meas = [f.stem for f in Path(src_path).glob(\"*.csv\")]"
   ]
  },
  {
   "cell_type": "markdown",
   "id": "f4e8e064",
   "metadata": {},
   "source": [
    "`meas` now contains a list of timestamps representing the measurements in our repo we upload from iterate over all of them."
   ]
  },
  {
   "cell_type": "code",
   "execution_count": 14,
   "id": "59ade8ee",
   "metadata": {
    "ExecuteTime": {
     "end_time": "2021-03-18T09:55:15.657580Z",
     "start_time": "2021-03-18T09:54:17.988134Z"
    },
    "execution": {
     "iopub.execute_input": "2021-12-14T10:55:21.222438Z",
     "iopub.status.busy": "2021-12-14T10:55:21.218589Z",
     "iopub.status.idle": "2021-12-14T10:56:06.813557Z",
     "shell.execute_reply": "2021-12-14T10:56:06.813089Z"
    }
   },
   "outputs": [
    {
     "name": "stdout",
     "output_type": "stream",
     "text": [
      "Uploading measurements to source u0001\n"
     ]
    },
    {
     "data": {
      "application/vnd.jupyter.widget-view+json": {
       "model_id": "d8ac56880f2c436abf6f486b0cd8216c",
       "version_major": 2,
       "version_minor": 0
      },
      "text/plain": [
       "  0%|          | 0/50 [00:00<?, ?it/s]"
      ]
     },
     "metadata": {},
     "output_type": "display_data"
    }
   ],
   "source": [
    "print(f\"Uploading measurements to source {SOURCE_ID}\")\n",
    "for m in tqdm(meas):\n",
    "\n",
    "    # samples file for one measurement\n",
    "    TS_MEAS = str(m) + \".csv\"  # filename\n",
    "    TS_MEAS = REF_DB_PATH / SOURCE_ID / TS_MEAS  # path to file\n",
    "    ts_df = pd.read_csv(TS_MEAS)  # read csv into df\n",
    "    accs = ts_df.iloc[:, 0].tolist()  # convert to list\n",
    "\n",
    "    # meta information file for one measurement\n",
    "    TS_META = str(m) + \".json\"  # filename\n",
    "    TS_META = REF_DB_PATH / SOURCE_ID / TS_META  # path\n",
    "    with open(TS_META, \"r\") as json_file:  # read json\n",
    "        meas_info = json.load(json_file)  # into dict\n",
    "\n",
    "    # get duration and other meta info\n",
    "    duration = meas_info['duration']\n",
    "    meta_info = meas_info['meta']\n",
    "    # add sampling rate, not required by vibration API\n",
    "    # but may be used on client side\n",
    "    # in general any information can be stored\n",
    "    # along the actual samples\n",
    "    meta_info['sampling_rate'] = len(accs)/duration\n",
    "    # <<< end of code specific for repo\n",
    "\n",
    "    try:\n",
    "        # see mvg for details on this call\n",
    "        session.create_measurement(sid=SOURCE_ID,\n",
    "                                   duration=duration,\n",
    "                                   timestamp=int(m),\n",
    "                                   data={\"acc\": accs},\n",
    "                                   meta=meta_info)\n",
    "    except MVGAPIError as exc:\n",
    "        print(exc)"
   ]
  },
  {
   "cell_type": "markdown",
   "id": "fd9bc59f",
   "metadata": {},
   "source": [
    "## Read the Measurements"
   ]
  },
  {
   "cell_type": "markdown",
   "id": "0e4b5945",
   "metadata": {},
   "source": [
    "Check if we actually created the measurements by reading them"
   ]
  },
  {
   "cell_type": "code",
   "execution_count": 15,
   "id": "a42acce1",
   "metadata": {
    "ExecuteTime": {
     "end_time": "2021-03-18T09:55:41.728688Z",
     "start_time": "2021-03-18T09:55:15.658652Z"
    },
    "execution": {
     "iopub.execute_input": "2021-12-14T10:56:06.819089Z",
     "iopub.status.busy": "2021-12-14T10:56:06.818600Z",
     "iopub.status.idle": "2021-12-14T10:56:07.118933Z",
     "shell.execute_reply": "2021-12-14T10:56:07.119239Z"
    }
   },
   "outputs": [
    {
     "name": "stdout",
     "output_type": "stream",
     "text": [
      "Read 50 stored measurements\n"
     ]
    }
   ],
   "source": [
    "m = session.list_measurements(SOURCE_ID)\n",
    "print(f\"Read {len(m)} stored measurements\")"
   ]
  },
  {
   "cell_type": "markdown",
   "id": "ebbbf296",
   "metadata": {},
   "source": [
    "It is also possible to read a specific measurement at a single timestamp.\n",
    "Let's get the timestamp of the first measurement."
   ]
  },
  {
   "cell_type": "code",
   "execution_count": 16,
   "id": "77c02509",
   "metadata": {
    "ExecuteTime": {
     "end_time": "2021-03-18T09:55:42.225546Z",
     "start_time": "2021-03-18T09:55:41.729876Z"
    },
    "execution": {
     "iopub.execute_input": "2021-12-14T10:56:07.125330Z",
     "iopub.status.busy": "2021-12-14T10:56:07.124925Z",
     "iopub.status.idle": "2021-12-14T10:56:08.038548Z",
     "shell.execute_reply": "2021-12-14T10:56:08.037833Z"
    }
   },
   "outputs": [
    {
     "name": "stdout",
     "output_type": "stream",
     "text": [
      "source_id: u0001\n",
      "timestamp: 1570186860\n",
      "duration:  2.8672073400507907\n",
      "meta:      {'sampling_rate': 13950.857142857141}\n",
      "data:      [0.63897705078125, -0.55078125]...\n"
     ]
    }
   ],
   "source": [
    "ts_0 = m[0]['timestamp']\n",
    "meas_0 = session.read_single_measurement(SOURCE_ID, ts_0)\n",
    "# we'll printout the returned measurement\n",
    "print(f\"source_id: {SOURCE_ID}\")\n",
    "print(f\"timestamp: {ts_0}\")\n",
    "print(f\"duration:  {meas_0['duration']}\")\n",
    "print(f\"meta:      {meas_0['meta']}\")\n",
    "print(f\"data:      {meas_0['data']['acc'][1:3]}...\")"
   ]
  },
  {
   "cell_type": "markdown",
   "id": "5de46694",
   "metadata": {},
   "source": [
    "We can update the meta information for a measurement at a single timestamp let's get the timestamp of the first measurement"
   ]
  },
  {
   "cell_type": "code",
   "execution_count": 17,
   "id": "7b8fbb39",
   "metadata": {
    "ExecuteTime": {
     "end_time": "2021-03-18T09:55:42.870908Z",
     "start_time": "2021-03-18T09:55:42.226689Z"
    },
    "execution": {
     "iopub.execute_input": "2021-12-14T10:56:08.044194Z",
     "iopub.status.busy": "2021-12-14T10:56:08.043793Z",
     "iopub.status.idle": "2021-12-14T10:56:09.333345Z",
     "shell.execute_reply": "2021-12-14T10:56:09.332753Z"
    }
   },
   "outputs": [
    {
     "name": "stdout",
     "output_type": "stream",
     "text": [
      "source_id: u0001\n",
      "timestamp: 1570186860\n",
      "duration:  2.8672073400507907\n",
      "meta:      {'sampling_rate': 13950.857142857141, 'updated': 'YES!'}\n",
      "data:      [0.63897705078125, -0.55078125]...\n"
     ]
    }
   ],
   "source": [
    "ts_0 = m[0]['timestamp']\n",
    "new_meta = meas_0['meta']\n",
    "new_meta['updated'] = \"YES!\"\n",
    "session.update_measurement(SOURCE_ID, ts_0, new_meta)\n",
    "meas_0_u = session.read_single_measurement(SOURCE_ID, ts_0)\n",
    "\n",
    "# we'll printout the returned measurement\n",
    "print(f\"source_id: {SOURCE_ID}\")\n",
    "print(f\"timestamp: {ts_0}\")\n",
    "print(f\"duration:  {meas_0_u['duration']}\")\n",
    "print(f\"meta:      {meas_0_u['meta']}\")\n",
    "print(f\"data:      {meas_0_u['data']['acc'][1:3]}...\")"
   ]
  },
  {
   "cell_type": "markdown",
   "id": "11f46b42",
   "metadata": {},
   "source": [
    "Finally we delete the measurement"
   ]
  },
  {
   "cell_type": "code",
   "execution_count": 18,
   "id": "0cf635f3",
   "metadata": {
    "ExecuteTime": {
     "end_time": "2021-03-18T09:55:43.023114Z",
     "start_time": "2021-03-18T09:55:42.872176Z"
    },
    "execution": {
     "iopub.execute_input": "2021-12-14T10:56:09.337867Z",
     "iopub.status.busy": "2021-12-14T10:56:09.336308Z",
     "iopub.status.idle": "2021-12-14T10:56:09.638736Z",
     "shell.execute_reply": "2021-12-14T10:56:09.638242Z"
    }
   },
   "outputs": [],
   "source": [
    "session.delete_measurement(SOURCE_ID, ts_0)"
   ]
  },
  {
   "cell_type": "markdown",
   "id": "1beb2ac8",
   "metadata": {},
   "source": [
    "We check if it's actually deleted"
   ]
  },
  {
   "cell_type": "code",
   "execution_count": 19,
   "id": "c754425b",
   "metadata": {
    "ExecuteTime": {
     "end_time": "2021-03-18T09:55:43.153589Z",
     "start_time": "2021-03-18T09:55:43.024498Z"
    },
    "execution": {
     "iopub.execute_input": "2021-12-14T10:56:09.644000Z",
     "iopub.status.busy": "2021-12-14T10:56:09.643252Z",
     "iopub.status.idle": "2021-12-14T10:56:09.944974Z",
     "shell.execute_reply": "2021-12-14T10:56:09.945346Z"
    }
   },
   "outputs": [
    {
     "name": "stdout",
     "output_type": "stream",
     "text": [
      "Previously deleted measurement does not exist\n"
     ]
    }
   ],
   "source": [
    "try:\n",
    "    meas_0 = session.read_single_measurement(SOURCE_ID, ts_0)\n",
    "except MVGAPIError:\n",
    "    print(\"Previously deleted measurement does not exist\")"
   ]
  },
  {
   "cell_type": "markdown",
   "id": "d6e7f462",
   "metadata": {},
   "source": [
    "If all went well we end up here now.\n",
    "The source u0001 is in the database along with a number of its measurements."
   ]
  },
  {
   "cell_type": "markdown",
   "id": "426acf28",
   "metadata": {},
   "source": [
    "## Uploading additional sources\n",
    "\n",
    "Here we show how to upload additional sources in a more compact way."
   ]
  },
  {
   "cell_type": "code",
   "execution_count": 20,
   "id": "efe3d60a",
   "metadata": {
    "ExecuteTime": {
     "end_time": "2021-03-18T09:56:43.305948Z",
     "start_time": "2021-03-18T09:55:43.154900Z"
    },
    "execution": {
     "iopub.execute_input": "2021-12-14T10:56:09.951042Z",
     "iopub.status.busy": "2021-12-14T10:56:09.950591Z",
     "iopub.status.idle": "2021-12-14T10:59:51.583217Z",
     "shell.execute_reply": "2021-12-14T10:59:51.583606Z"
    },
    "pycharm": {
     "name": "#%%\n"
    }
   },
   "outputs": [
    {
     "name": "stdout",
     "output_type": "stream",
     "text": [
      "Uploading sources u0002, u0003, u0004, u0005, u0006 from CharlieDb\n"
     ]
    },
    {
     "data": {
      "application/vnd.jupyter.widget-view+json": {
       "model_id": "e72a04b7c538445b96acf31e26c04df3",
       "version_major": 2,
       "version_minor": 0
      },
      "text/plain": [
       "  0%|          | 0/5 [00:00<?, ?it/s]"
      ]
     },
     "metadata": {},
     "output_type": "display_data"
    },
    {
     "name": "stdout",
     "output_type": "stream",
     "text": [
      "Creating source u0002\n",
      "Uploading measurements to source u0002\n"
     ]
    },
    {
     "data": {
      "application/vnd.jupyter.widget-view+json": {
       "model_id": "6eaa3323d6a44fc68b026358ce1bbea9",
       "version_major": 2,
       "version_minor": 0
      },
      "text/plain": [
       "  0%|          | 0/50 [00:00<?, ?it/s]"
      ]
     },
     "metadata": {},
     "output_type": "display_data"
    },
    {
     "name": "stdout",
     "output_type": "stream",
     "text": [
      "Creating source u0003\n",
      "Uploading measurements to source u0003\n"
     ]
    },
    {
     "data": {
      "application/vnd.jupyter.widget-view+json": {
       "model_id": "2aee287edd424f00b1995d27b5fe1f9d",
       "version_major": 2,
       "version_minor": 0
      },
      "text/plain": [
       "  0%|          | 0/50 [00:00<?, ?it/s]"
      ]
     },
     "metadata": {},
     "output_type": "display_data"
    },
    {
     "name": "stdout",
     "output_type": "stream",
     "text": [
      "Creating source u0004\n",
      "Uploading measurements to source u0004\n"
     ]
    },
    {
     "data": {
      "application/vnd.jupyter.widget-view+json": {
       "model_id": "ddadd8e5c6604f01908650adebbaf58e",
       "version_major": 2,
       "version_minor": 0
      },
      "text/plain": [
       "  0%|          | 0/50 [00:00<?, ?it/s]"
      ]
     },
     "metadata": {},
     "output_type": "display_data"
    },
    {
     "name": "stdout",
     "output_type": "stream",
     "text": [
      "Creating source u0005\n",
      "Uploading measurements to source u0005\n"
     ]
    },
    {
     "data": {
      "application/vnd.jupyter.widget-view+json": {
       "model_id": "5d02ed79d9d34270901f46a93ddcc191",
       "version_major": 2,
       "version_minor": 0
      },
      "text/plain": [
       "  0%|          | 0/50 [00:00<?, ?it/s]"
      ]
     },
     "metadata": {},
     "output_type": "display_data"
    },
    {
     "name": "stdout",
     "output_type": "stream",
     "text": [
      "Creating source u0006\n",
      "Uploading measurements to source u0006\n"
     ]
    },
    {
     "data": {
      "application/vnd.jupyter.widget-view+json": {
       "model_id": "912ee0cc4387443ea60decb64237210d",
       "version_major": 2,
       "version_minor": 0
      },
      "text/plain": [
       "  0%|          | 0/42 [00:00<?, ?it/s]"
      ]
     },
     "metadata": {},
     "output_type": "display_data"
    }
   ],
   "source": [
    "sources = SOURCE_IDS[1:]\n",
    "\n",
    "print(f\"Uploading sources {', '.join(sources)} from CharlieDb\")\n",
    "for source_id in tqdm(sources):\n",
    "\n",
    "    try:\n",
    "        session.delete_source(source_id)\n",
    "    except MVGAPIError as exc:\n",
    "        pass  # Source didnt exist\n",
    "\n",
    "    print(f\"Creating source {source_id}\")\n",
    "    src_path = REF_DB_PATH / source_id\n",
    "    m_file_name = REF_DB_PATH / source_id / \"meta.json\"\n",
    "    with open(m_file_name, \"r\") as json_file:\n",
    "        meta = json.load(json_file)\n",
    "    session.create_source(source_id, meta, channels=[\"acc\"])  # create\n",
    "\n",
    "    meas = [f.stem for f in Path(src_path).glob(\"*.csv\")]\n",
    "\n",
    "    print(f\"Uploading measurements to source {source_id}\")\n",
    "    for m in tqdm(meas):\n",
    "\n",
    "        # samples file for one measurement\n",
    "        TS_MEAS = str(m) + \".csv\"  # filename\n",
    "        TS_MEAS = REF_DB_PATH / source_id / TS_MEAS  # path to file\n",
    "        ts_df = pd.read_csv(TS_MEAS)  # read csv into df\n",
    "        accs = ts_df.iloc[:, 0].tolist()  # convert to list\n",
    "\n",
    "        # meta information file for one measurement\n",
    "        TS_META = str(m) + \".json\"  # filename\n",
    "        TS_META = REF_DB_PATH / source_id / TS_META  # path\n",
    "        with open(TS_META, \"r\") as json_file:  # read json\n",
    "            meas_info = json.load(json_file)  # into dict\n",
    "\n",
    "        duration = meas_info['duration']\n",
    "        meta_info = meas_info['meta']\n",
    "        meta_info['sampling_rate'] = len(accs)/duration\n",
    "\n",
    "        try:\n",
    "            # see mvg for details on this call\n",
    "            session.create_measurement(sid=source_id,\n",
    "                                       duration=duration,\n",
    "                                       timestamp=int(m),\n",
    "                                       data={\"acc\": accs},\n",
    "                                       meta=meta_info)\n",
    "        except MVGAPIError as exc:\n",
    "            print(exc)\n",
    "            raise"
   ]
  }
 ],
 "metadata": {
  "kernelspec": {
   "display_name": "Python 3",
   "language": "python",
   "name": "python3"
  },
  "language_info": {
   "codemirror_mode": {
    "name": "ipython",
    "version": 3
   },
   "file_extension": ".py",
   "mimetype": "text/x-python",
   "name": "python",
   "nbconvert_exporter": "python",
   "pygments_lexer": "ipython3",
   "version": "3.8.10"
  },
  "toc": {
   "base_numbering": 1,
   "nav_menu": {},
   "number_sections": true,
   "sideBar": true,
   "skip_h1_title": false,
   "title_cell": "Table of Contents",
   "title_sidebar": "Contents",
   "toc_cell": false,
   "toc_position": {
    "height": "calc(100% - 180px)",
    "left": "10px",
    "top": "150px",
    "width": "384px"
   },
   "toc_section_display": true,
   "toc_window_display": true
  },
  "varInspector": {
   "cols": {
    "lenName": 16,
    "lenType": 16,
    "lenVar": 40
   },
   "kernels_config": {
    "python": {
     "delete_cmd_postfix": "",
     "delete_cmd_prefix": "del ",
     "library": "var_list.py",
     "varRefreshCmd": "print(var_dic_list())"
    },
    "r": {
     "delete_cmd_postfix": ") ",
     "delete_cmd_prefix": "rm(",
     "library": "var_list.r",
     "varRefreshCmd": "cat(var_dic_list()) "
    }
   },
   "types_to_exclude": [
    "module",
    "function",
    "builtin_function_or_method",
    "instance",
    "_Feature"
   ],
   "window_display": false
  },
  "widgets": {
   "application/vnd.jupyter.widget-state+json": {
    "state": {
     "0090d8f75daf4aa0b5f5d0a8f14145c2": {
      "model_module": "@jupyter-widgets/controls",
      "model_module_version": "1.5.0",
      "model_name": "HTMLModel",
      "state": {
       "_dom_classes": [],
       "_model_module": "@jupyter-widgets/controls",
       "_model_module_version": "1.5.0",
       "_model_name": "HTMLModel",
       "_view_count": null,
       "_view_module": "@jupyter-widgets/controls",
       "_view_module_version": "1.5.0",
       "_view_name": "HTMLView",
       "description": "",
       "description_tooltip": null,
       "layout": "IPY_MODEL_c70f9e3ed2a44fff8ebf7ae29b5d43fd",
       "placeholder": "​",
       "style": "IPY_MODEL_e92598abc3474772bd88955e9a3b93c4",
       "value": "100%"
      }
     },
     "02a9404c5c3a4dc3a33183a7e8fadf44": {
      "model_module": "@jupyter-widgets/controls",
      "model_module_version": "1.5.0",
      "model_name": "HTMLModel",
      "state": {
       "_dom_classes": [],
       "_model_module": "@jupyter-widgets/controls",
       "_model_module_version": "1.5.0",
       "_model_name": "HTMLModel",
       "_view_count": null,
       "_view_module": "@jupyter-widgets/controls",
       "_view_module_version": "1.5.0",
       "_view_name": "HTMLView",
       "description": "",
       "description_tooltip": null,
       "layout": "IPY_MODEL_7963d7484fec41f4975d152eda5842a3",
       "placeholder": "​",
       "style": "IPY_MODEL_674515d229404a0b9c5e13ed0adb668d",
       "value": "100%"
      }
     },
     "0355f742c0c14f918c19c79428158fd1": {
      "model_module": "@jupyter-widgets/controls",
      "model_module_version": "1.5.0",
      "model_name": "FloatProgressModel",
      "state": {
       "_dom_classes": [],
       "_model_module": "@jupyter-widgets/controls",
       "_model_module_version": "1.5.0",
       "_model_name": "FloatProgressModel",
       "_view_count": null,
       "_view_module": "@jupyter-widgets/controls",
       "_view_module_version": "1.5.0",
       "_view_name": "ProgressView",
       "bar_style": "success",
       "description": "",
       "description_tooltip": null,
       "layout": "IPY_MODEL_4705d9ee7d374608a90fe839af4e67ae",
       "max": 5.0,
       "min": 0.0,
       "orientation": "horizontal",
       "style": "IPY_MODEL_8e086ec6e9d649b8b445f7130cd273e1",
       "value": 5.0
      }
     },
     "04455778fb0647399e43be4e73b587dc": {
      "model_module": "@jupyter-widgets/controls",
      "model_module_version": "1.5.0",
      "model_name": "HTMLModel",
      "state": {
       "_dom_classes": [],
       "_model_module": "@jupyter-widgets/controls",
       "_model_module_version": "1.5.0",
       "_model_name": "HTMLModel",
       "_view_count": null,
       "_view_module": "@jupyter-widgets/controls",
       "_view_module_version": "1.5.0",
       "_view_name": "HTMLView",
       "description": "",
       "description_tooltip": null,
       "layout": "IPY_MODEL_df244b34b3ae42b9a1a41c1ace374ae5",
       "placeholder": "​",
       "style": "IPY_MODEL_9b3e37e3b31e4c0a82dbbd0947c84569",
       "value": "100%"
      }
     },
     "0ccc2835b7a14ed882d6ced16cca5114": {
      "model_module": "@jupyter-widgets/controls",
      "model_module_version": "1.5.0",
      "model_name": "DescriptionStyleModel",
      "state": {
       "_model_module": "@jupyter-widgets/controls",
       "_model_module_version": "1.5.0",
       "_model_name": "DescriptionStyleModel",
       "_view_count": null,
       "_view_module": "@jupyter-widgets/base",
       "_view_module_version": "1.2.0",
       "_view_name": "StyleView",
       "description_width": ""
      }
     },
     "0fa7c402a1d14de0b2d6d133c61454ad": {
      "model_module": "@jupyter-widgets/base",
      "model_module_version": "1.2.0",
      "model_name": "LayoutModel",
      "state": {
       "_model_module": "@jupyter-widgets/base",
       "_model_module_version": "1.2.0",
       "_model_name": "LayoutModel",
       "_view_count": null,
       "_view_module": "@jupyter-widgets/base",
       "_view_module_version": "1.2.0",
       "_view_name": "LayoutView",
       "align_content": null,
       "align_items": null,
       "align_self": null,
       "border": null,
       "bottom": null,
       "display": null,
       "flex": null,
       "flex_flow": null,
       "grid_area": null,
       "grid_auto_columns": null,
       "grid_auto_flow": null,
       "grid_auto_rows": null,
       "grid_column": null,
       "grid_gap": null,
       "grid_row": null,
       "grid_template_areas": null,
       "grid_template_columns": null,
       "grid_template_rows": null,
       "height": null,
       "justify_content": null,
       "justify_items": null,
       "left": null,
       "margin": null,
       "max_height": null,
       "max_width": null,
       "min_height": null,
       "min_width": null,
       "object_fit": null,
       "object_position": null,
       "order": null,
       "overflow": null,
       "overflow_x": null,
       "overflow_y": null,
       "padding": null,
       "right": null,
       "top": null,
       "visibility": null,
       "width": null
      }
     },
     "1a7386586d25456bbddf5c894995853a": {
      "model_module": "@jupyter-widgets/controls",
      "model_module_version": "1.5.0",
      "model_name": "FloatProgressModel",
      "state": {
       "_dom_classes": [],
       "_model_module": "@jupyter-widgets/controls",
       "_model_module_version": "1.5.0",
       "_model_name": "FloatProgressModel",
       "_view_count": null,
       "_view_module": "@jupyter-widgets/controls",
       "_view_module_version": "1.5.0",
       "_view_name": "ProgressView",
       "bar_style": "success",
       "description": "",
       "description_tooltip": null,
       "layout": "IPY_MODEL_b1c2c1fd2cff475bb0aa22625752a8b2",
       "max": 50.0,
       "min": 0.0,
       "orientation": "horizontal",
       "style": "IPY_MODEL_bbb163d56213448f9d90ff5471d77077",
       "value": 50.0
      }
     },
     "2104e552b8714a49b110aaade671044e": {
      "model_module": "@jupyter-widgets/controls",
      "model_module_version": "1.5.0",
      "model_name": "HTMLModel",
      "state": {
       "_dom_classes": [],
       "_model_module": "@jupyter-widgets/controls",
       "_model_module_version": "1.5.0",
       "_model_name": "HTMLModel",
       "_view_count": null,
       "_view_module": "@jupyter-widgets/controls",
       "_view_module_version": "1.5.0",
       "_view_name": "HTMLView",
       "description": "",
       "description_tooltip": null,
       "layout": "IPY_MODEL_3f6bf1962a734b57be0dd3c0b3d57697",
       "placeholder": "​",
       "style": "IPY_MODEL_e3cee2f735d2425b8f07d365e36efd11",
       "value": " 50/50 [00:45&lt;00:00,  1.10it/s]"
      }
     },
     "26fd5e799d6d4a009b786cd3c89b1278": {
      "model_module": "@jupyter-widgets/base",
      "model_module_version": "1.2.0",
      "model_name": "LayoutModel",
      "state": {
       "_model_module": "@jupyter-widgets/base",
       "_model_module_version": "1.2.0",
       "_model_name": "LayoutModel",
       "_view_count": null,
       "_view_module": "@jupyter-widgets/base",
       "_view_module_version": "1.2.0",
       "_view_name": "LayoutView",
       "align_content": null,
       "align_items": null,
       "align_self": null,
       "border": null,
       "bottom": null,
       "display": null,
       "flex": null,
       "flex_flow": null,
       "grid_area": null,
       "grid_auto_columns": null,
       "grid_auto_flow": null,
       "grid_auto_rows": null,
       "grid_column": null,
       "grid_gap": null,
       "grid_row": null,
       "grid_template_areas": null,
       "grid_template_columns": null,
       "grid_template_rows": null,
       "height": null,
       "justify_content": null,
       "justify_items": null,
       "left": null,
       "margin": null,
       "max_height": null,
       "max_width": null,
       "min_height": null,
       "min_width": null,
       "object_fit": null,
       "object_position": null,
       "order": null,
       "overflow": null,
       "overflow_x": null,
       "overflow_y": null,
       "padding": null,
       "right": null,
       "top": null,
       "visibility": null,
       "width": null
      }
     },
     "2aee287edd424f00b1995d27b5fe1f9d": {
      "model_module": "@jupyter-widgets/controls",
      "model_module_version": "1.5.0",
      "model_name": "HBoxModel",
      "state": {
       "_dom_classes": [],
       "_model_module": "@jupyter-widgets/controls",
       "_model_module_version": "1.5.0",
       "_model_name": "HBoxModel",
       "_view_count": null,
       "_view_module": "@jupyter-widgets/controls",
       "_view_module_version": "1.5.0",
       "_view_name": "HBoxView",
       "box_style": "",
       "children": [
        "IPY_MODEL_0090d8f75daf4aa0b5f5d0a8f14145c2",
        "IPY_MODEL_e8156fef251a41b5a0f63bbeabcbb438",
        "IPY_MODEL_9165df555c774586a9dc439df8f5741d"
       ],
       "layout": "IPY_MODEL_a497ef5e4b464cc0bb5775ff8d0d1231"
      }
     },
     "3371a38afa484c0ea0074f4c688f573a": {
      "model_module": "@jupyter-widgets/controls",
      "model_module_version": "1.5.0",
      "model_name": "DescriptionStyleModel",
      "state": {
       "_model_module": "@jupyter-widgets/controls",
       "_model_module_version": "1.5.0",
       "_model_name": "DescriptionStyleModel",
       "_view_count": null,
       "_view_module": "@jupyter-widgets/base",
       "_view_module_version": "1.2.0",
       "_view_name": "StyleView",
       "description_width": ""
      }
     },
     "345c4a189bcf467fb31061fde45db798": {
      "model_module": "@jupyter-widgets/controls",
      "model_module_version": "1.5.0",
      "model_name": "FloatProgressModel",
      "state": {
       "_dom_classes": [],
       "_model_module": "@jupyter-widgets/controls",
       "_model_module_version": "1.5.0",
       "_model_name": "FloatProgressModel",
       "_view_count": null,
       "_view_module": "@jupyter-widgets/controls",
       "_view_module_version": "1.5.0",
       "_view_name": "ProgressView",
       "bar_style": "success",
       "description": "",
       "description_tooltip": null,
       "layout": "IPY_MODEL_eead5fc555b549018dba5f3504ea5145",
       "max": 50.0,
       "min": 0.0,
       "orientation": "horizontal",
       "style": "IPY_MODEL_594180a64eac46508531aedf7533d6f5",
       "value": 50.0
      }
     },
     "375b1f0082dd42ae84b571a5a61c13cb": {
      "model_module": "@jupyter-widgets/controls",
      "model_module_version": "1.5.0",
      "model_name": "FloatProgressModel",
      "state": {
       "_dom_classes": [],
       "_model_module": "@jupyter-widgets/controls",
       "_model_module_version": "1.5.0",
       "_model_name": "FloatProgressModel",
       "_view_count": null,
       "_view_module": "@jupyter-widgets/controls",
       "_view_module_version": "1.5.0",
       "_view_name": "ProgressView",
       "bar_style": "success",
       "description": "",
       "description_tooltip": null,
       "layout": "IPY_MODEL_b708d0df91d34db5a9923bc1983b3207",
       "max": 50.0,
       "min": 0.0,
       "orientation": "horizontal",
       "style": "IPY_MODEL_7c08daa2c3614e03812950ef08a4056a",
       "value": 50.0
      }
     },
     "398509560d27495383acc02f9f6da583": {
      "model_module": "@jupyter-widgets/controls",
      "model_module_version": "1.5.0",
      "model_name": "ProgressStyleModel",
      "state": {
       "_model_module": "@jupyter-widgets/controls",
       "_model_module_version": "1.5.0",
       "_model_name": "ProgressStyleModel",
       "_view_count": null,
       "_view_module": "@jupyter-widgets/base",
       "_view_module_version": "1.2.0",
       "_view_name": "StyleView",
       "bar_color": null,
       "description_width": ""
      }
     },
     "3e27918bc42b49e288c97a9ce426f083": {
      "model_module": "@jupyter-widgets/controls",
      "model_module_version": "1.5.0",
      "model_name": "DescriptionStyleModel",
      "state": {
       "_model_module": "@jupyter-widgets/controls",
       "_model_module_version": "1.5.0",
       "_model_name": "DescriptionStyleModel",
       "_view_count": null,
       "_view_module": "@jupyter-widgets/base",
       "_view_module_version": "1.2.0",
       "_view_name": "StyleView",
       "description_width": ""
      }
     },
     "3f6bf1962a734b57be0dd3c0b3d57697": {
      "model_module": "@jupyter-widgets/base",
      "model_module_version": "1.2.0",
      "model_name": "LayoutModel",
      "state": {
       "_model_module": "@jupyter-widgets/base",
       "_model_module_version": "1.2.0",
       "_model_name": "LayoutModel",
       "_view_count": null,
       "_view_module": "@jupyter-widgets/base",
       "_view_module_version": "1.2.0",
       "_view_name": "LayoutView",
       "align_content": null,
       "align_items": null,
       "align_self": null,
       "border": null,
       "bottom": null,
       "display": null,
       "flex": null,
       "flex_flow": null,
       "grid_area": null,
       "grid_auto_columns": null,
       "grid_auto_flow": null,
       "grid_auto_rows": null,
       "grid_column": null,
       "grid_gap": null,
       "grid_row": null,
       "grid_template_areas": null,
       "grid_template_columns": null,
       "grid_template_rows": null,
       "height": null,
       "justify_content": null,
       "justify_items": null,
       "left": null,
       "margin": null,
       "max_height": null,
       "max_width": null,
       "min_height": null,
       "min_width": null,
       "object_fit": null,
       "object_position": null,
       "order": null,
       "overflow": null,
       "overflow_x": null,
       "overflow_y": null,
       "padding": null,
       "right": null,
       "top": null,
       "visibility": null,
       "width": null
      }
     },
     "46b35754a9f64f30b2080242e8139ad2": {
      "model_module": "@jupyter-widgets/controls",
      "model_module_version": "1.5.0",
      "model_name": "HTMLModel",
      "state": {
       "_dom_classes": [],
       "_model_module": "@jupyter-widgets/controls",
       "_model_module_version": "1.5.0",
       "_model_name": "HTMLModel",
       "_view_count": null,
       "_view_module": "@jupyter-widgets/controls",
       "_view_module_version": "1.5.0",
       "_view_name": "HTMLView",
       "description": "",
       "description_tooltip": null,
       "layout": "IPY_MODEL_0fa7c402a1d14de0b2d6d133c61454ad",
       "placeholder": "​",
       "style": "IPY_MODEL_7744095304244d1d89e592a872538e84",
       "value": " 50/50 [00:45&lt;00:00,  1.10it/s]"
      }
     },
     "4705d9ee7d374608a90fe839af4e67ae": {
      "model_module": "@jupyter-widgets/base",
      "model_module_version": "1.2.0",
      "model_name": "LayoutModel",
      "state": {
       "_model_module": "@jupyter-widgets/base",
       "_model_module_version": "1.2.0",
       "_model_name": "LayoutModel",
       "_view_count": null,
       "_view_module": "@jupyter-widgets/base",
       "_view_module_version": "1.2.0",
       "_view_name": "LayoutView",
       "align_content": null,
       "align_items": null,
       "align_self": null,
       "border": null,
       "bottom": null,
       "display": null,
       "flex": null,
       "flex_flow": null,
       "grid_area": null,
       "grid_auto_columns": null,
       "grid_auto_flow": null,
       "grid_auto_rows": null,
       "grid_column": null,
       "grid_gap": null,
       "grid_row": null,
       "grid_template_areas": null,
       "grid_template_columns": null,
       "grid_template_rows": null,
       "height": null,
       "justify_content": null,
       "justify_items": null,
       "left": null,
       "margin": null,
       "max_height": null,
       "max_width": null,
       "min_height": null,
       "min_width": null,
       "object_fit": null,
       "object_position": null,
       "order": null,
       "overflow": null,
       "overflow_x": null,
       "overflow_y": null,
       "padding": null,
       "right": null,
       "top": null,
       "visibility": null,
       "width": null
      }
     },
     "4c72dffe74514d05952025f6935e781f": {
      "model_module": "@jupyter-widgets/controls",
      "model_module_version": "1.5.0",
      "model_name": "HTMLModel",
      "state": {
       "_dom_classes": [],
       "_model_module": "@jupyter-widgets/controls",
       "_model_module_version": "1.5.0",
       "_model_name": "HTMLModel",
       "_view_count": null,
       "_view_module": "@jupyter-widgets/controls",
       "_view_module_version": "1.5.0",
       "_view_name": "HTMLView",
       "description": "",
       "description_tooltip": null,
       "layout": "IPY_MODEL_b489f419c8fa4dd1982dd4ddc28e54b0",
       "placeholder": "​",
       "style": "IPY_MODEL_3e27918bc42b49e288c97a9ce426f083",
       "value": "100%"
      }
     },
     "4db9af8a82ed48819269d94520332eb0": {
      "model_module": "@jupyter-widgets/base",
      "model_module_version": "1.2.0",
      "model_name": "LayoutModel",
      "state": {
       "_model_module": "@jupyter-widgets/base",
       "_model_module_version": "1.2.0",
       "_model_name": "LayoutModel",
       "_view_count": null,
       "_view_module": "@jupyter-widgets/base",
       "_view_module_version": "1.2.0",
       "_view_name": "LayoutView",
       "align_content": null,
       "align_items": null,
       "align_self": null,
       "border": null,
       "bottom": null,
       "display": null,
       "flex": null,
       "flex_flow": null,
       "grid_area": null,
       "grid_auto_columns": null,
       "grid_auto_flow": null,
       "grid_auto_rows": null,
       "grid_column": null,
       "grid_gap": null,
       "grid_row": null,
       "grid_template_areas": null,
       "grid_template_columns": null,
       "grid_template_rows": null,
       "height": null,
       "justify_content": null,
       "justify_items": null,
       "left": null,
       "margin": null,
       "max_height": null,
       "max_width": null,
       "min_height": null,
       "min_width": null,
       "object_fit": null,
       "object_position": null,
       "order": null,
       "overflow": null,
       "overflow_x": null,
       "overflow_y": null,
       "padding": null,
       "right": null,
       "top": null,
       "visibility": null,
       "width": null
      }
     },
     "5179783621b8485fadddd1e1b6b7f190": {
      "model_module": "@jupyter-widgets/controls",
      "model_module_version": "1.5.0",
      "model_name": "ProgressStyleModel",
      "state": {
       "_model_module": "@jupyter-widgets/controls",
       "_model_module_version": "1.5.0",
       "_model_name": "ProgressStyleModel",
       "_view_count": null,
       "_view_module": "@jupyter-widgets/base",
       "_view_module_version": "1.2.0",
       "_view_name": "StyleView",
       "bar_color": null,
       "description_width": ""
      }
     },
     "58c28c36d02b4adba85d0c74b1cb9587": {
      "model_module": "@jupyter-widgets/base",
      "model_module_version": "1.2.0",
      "model_name": "LayoutModel",
      "state": {
       "_model_module": "@jupyter-widgets/base",
       "_model_module_version": "1.2.0",
       "_model_name": "LayoutModel",
       "_view_count": null,
       "_view_module": "@jupyter-widgets/base",
       "_view_module_version": "1.2.0",
       "_view_name": "LayoutView",
       "align_content": null,
       "align_items": null,
       "align_self": null,
       "border": null,
       "bottom": null,
       "display": null,
       "flex": null,
       "flex_flow": null,
       "grid_area": null,
       "grid_auto_columns": null,
       "grid_auto_flow": null,
       "grid_auto_rows": null,
       "grid_column": null,
       "grid_gap": null,
       "grid_row": null,
       "grid_template_areas": null,
       "grid_template_columns": null,
       "grid_template_rows": null,
       "height": null,
       "justify_content": null,
       "justify_items": null,
       "left": null,
       "margin": null,
       "max_height": null,
       "max_width": null,
       "min_height": null,
       "min_width": null,
       "object_fit": null,
       "object_position": null,
       "order": null,
       "overflow": null,
       "overflow_x": null,
       "overflow_y": null,
       "padding": null,
       "right": null,
       "top": null,
       "visibility": null,
       "width": null
      }
     },
     "594180a64eac46508531aedf7533d6f5": {
      "model_module": "@jupyter-widgets/controls",
      "model_module_version": "1.5.0",
      "model_name": "ProgressStyleModel",
      "state": {
       "_model_module": "@jupyter-widgets/controls",
       "_model_module_version": "1.5.0",
       "_model_name": "ProgressStyleModel",
       "_view_count": null,
       "_view_module": "@jupyter-widgets/base",
       "_view_module_version": "1.2.0",
       "_view_name": "StyleView",
       "bar_color": null,
       "description_width": ""
      }
     },
     "5b13337125134004b3fb264ad806e8f4": {
      "model_module": "@jupyter-widgets/controls",
      "model_module_version": "1.5.0",
      "model_name": "DescriptionStyleModel",
      "state": {
       "_model_module": "@jupyter-widgets/controls",
       "_model_module_version": "1.5.0",
       "_model_name": "DescriptionStyleModel",
       "_view_count": null,
       "_view_module": "@jupyter-widgets/base",
       "_view_module_version": "1.2.0",
       "_view_name": "StyleView",
       "description_width": ""
      }
     },
     "5d02ed79d9d34270901f46a93ddcc191": {
      "model_module": "@jupyter-widgets/controls",
      "model_module_version": "1.5.0",
      "model_name": "HBoxModel",
      "state": {
       "_dom_classes": [],
       "_model_module": "@jupyter-widgets/controls",
       "_model_module_version": "1.5.0",
       "_model_name": "HBoxModel",
       "_view_count": null,
       "_view_module": "@jupyter-widgets/controls",
       "_view_module_version": "1.5.0",
       "_view_name": "HBoxView",
       "box_style": "",
       "children": [
        "IPY_MODEL_04455778fb0647399e43be4e73b587dc",
        "IPY_MODEL_fb7489eff89a4ba785de78424a3bd4fb",
        "IPY_MODEL_ff20c13fe50a44179afc8634b8b5eb1b"
       ],
       "layout": "IPY_MODEL_b27c9dec46e642b083a99283ddddc6ec"
      }
     },
     "674515d229404a0b9c5e13ed0adb668d": {
      "model_module": "@jupyter-widgets/controls",
      "model_module_version": "1.5.0",
      "model_name": "DescriptionStyleModel",
      "state": {
       "_model_module": "@jupyter-widgets/controls",
       "_model_module_version": "1.5.0",
       "_model_name": "DescriptionStyleModel",
       "_view_count": null,
       "_view_module": "@jupyter-widgets/base",
       "_view_module_version": "1.2.0",
       "_view_name": "StyleView",
       "description_width": ""
      }
     },
     "6790662f31e54f518fa4379a4af30575": {
      "model_module": "@jupyter-widgets/controls",
      "model_module_version": "1.5.0",
      "model_name": "FloatProgressModel",
      "state": {
       "_dom_classes": [],
       "_model_module": "@jupyter-widgets/controls",
       "_model_module_version": "1.5.0",
       "_model_name": "FloatProgressModel",
       "_view_count": null,
       "_view_module": "@jupyter-widgets/controls",
       "_view_module_version": "1.5.0",
       "_view_name": "ProgressView",
       "bar_style": "success",
       "description": "",
       "description_tooltip": null,
       "layout": "IPY_MODEL_f65abd5a1ec34bae8563f6d0f7fa4bb3",
       "max": 42.0,
       "min": 0.0,
       "orientation": "horizontal",
       "style": "IPY_MODEL_f680c0ff8a2b4fd0b0aab390f589ffb3",
       "value": 42.0
      }
     },
     "6de9423e2c45499888e6330ee17e57e3": {
      "model_module": "@jupyter-widgets/controls",
      "model_module_version": "1.5.0",
      "model_name": "HTMLModel",
      "state": {
       "_dom_classes": [],
       "_model_module": "@jupyter-widgets/controls",
       "_model_module_version": "1.5.0",
       "_model_name": "HTMLModel",
       "_view_count": null,
       "_view_module": "@jupyter-widgets/controls",
       "_view_module_version": "1.5.0",
       "_view_name": "HTMLView",
       "description": "",
       "description_tooltip": null,
       "layout": "IPY_MODEL_db47382d1cb64e749cd2eaa1fbc3186f",
       "placeholder": "​",
       "style": "IPY_MODEL_0ccc2835b7a14ed882d6ced16cca5114",
       "value": "100%"
      }
     },
     "6eaa3323d6a44fc68b026358ce1bbea9": {
      "model_module": "@jupyter-widgets/controls",
      "model_module_version": "1.5.0",
      "model_name": "HBoxModel",
      "state": {
       "_dom_classes": [],
       "_model_module": "@jupyter-widgets/controls",
       "_model_module_version": "1.5.0",
       "_model_name": "HBoxModel",
       "_view_count": null,
       "_view_module": "@jupyter-widgets/controls",
       "_view_module_version": "1.5.0",
       "_view_name": "HBoxView",
       "box_style": "",
       "children": [
        "IPY_MODEL_de9147a311d14c2b8b5714ff88849587",
        "IPY_MODEL_375b1f0082dd42ae84b571a5a61c13cb",
        "IPY_MODEL_2104e552b8714a49b110aaade671044e"
       ],
       "layout": "IPY_MODEL_f28128819a7e4a068a513d4f2b4302d7"
      }
     },
     "6fb74d26074f40f6b8dd1fddf2168d0e": {
      "model_module": "@jupyter-widgets/base",
      "model_module_version": "1.2.0",
      "model_name": "LayoutModel",
      "state": {
       "_model_module": "@jupyter-widgets/base",
       "_model_module_version": "1.2.0",
       "_model_name": "LayoutModel",
       "_view_count": null,
       "_view_module": "@jupyter-widgets/base",
       "_view_module_version": "1.2.0",
       "_view_name": "LayoutView",
       "align_content": null,
       "align_items": null,
       "align_self": null,
       "border": null,
       "bottom": null,
       "display": null,
       "flex": null,
       "flex_flow": null,
       "grid_area": null,
       "grid_auto_columns": null,
       "grid_auto_flow": null,
       "grid_auto_rows": null,
       "grid_column": null,
       "grid_gap": null,
       "grid_row": null,
       "grid_template_areas": null,
       "grid_template_columns": null,
       "grid_template_rows": null,
       "height": null,
       "justify_content": null,
       "justify_items": null,
       "left": null,
       "margin": null,
       "max_height": null,
       "max_width": null,
       "min_height": null,
       "min_width": null,
       "object_fit": null,
       "object_position": null,
       "order": null,
       "overflow": null,
       "overflow_x": null,
       "overflow_y": null,
       "padding": null,
       "right": null,
       "top": null,
       "visibility": null,
       "width": null
      }
     },
     "75f5916138374daba88d46af4da01fa6": {
      "model_module": "@jupyter-widgets/base",
      "model_module_version": "1.2.0",
      "model_name": "LayoutModel",
      "state": {
       "_model_module": "@jupyter-widgets/base",
       "_model_module_version": "1.2.0",
       "_model_name": "LayoutModel",
       "_view_count": null,
       "_view_module": "@jupyter-widgets/base",
       "_view_module_version": "1.2.0",
       "_view_name": "LayoutView",
       "align_content": null,
       "align_items": null,
       "align_self": null,
       "border": null,
       "bottom": null,
       "display": null,
       "flex": null,
       "flex_flow": null,
       "grid_area": null,
       "grid_auto_columns": null,
       "grid_auto_flow": null,
       "grid_auto_rows": null,
       "grid_column": null,
       "grid_gap": null,
       "grid_row": null,
       "grid_template_areas": null,
       "grid_template_columns": null,
       "grid_template_rows": null,
       "height": null,
       "justify_content": null,
       "justify_items": null,
       "left": null,
       "margin": null,
       "max_height": null,
       "max_width": null,
       "min_height": null,
       "min_width": null,
       "object_fit": null,
       "object_position": null,
       "order": null,
       "overflow": null,
       "overflow_x": null,
       "overflow_y": null,
       "padding": null,
       "right": null,
       "top": null,
       "visibility": null,
       "width": null
      }
     },
     "7744095304244d1d89e592a872538e84": {
      "model_module": "@jupyter-widgets/controls",
      "model_module_version": "1.5.0",
      "model_name": "DescriptionStyleModel",
      "state": {
       "_model_module": "@jupyter-widgets/controls",
       "_model_module_version": "1.5.0",
       "_model_name": "DescriptionStyleModel",
       "_view_count": null,
       "_view_module": "@jupyter-widgets/base",
       "_view_module_version": "1.2.0",
       "_view_name": "StyleView",
       "description_width": ""
      }
     },
     "782431286d12496fad5e00910d03107e": {
      "model_module": "@jupyter-widgets/controls",
      "model_module_version": "1.5.0",
      "model_name": "HTMLModel",
      "state": {
       "_dom_classes": [],
       "_model_module": "@jupyter-widgets/controls",
       "_model_module_version": "1.5.0",
       "_model_name": "HTMLModel",
       "_view_count": null,
       "_view_module": "@jupyter-widgets/controls",
       "_view_module_version": "1.5.0",
       "_view_name": "HTMLView",
       "description": "",
       "description_tooltip": null,
       "layout": "IPY_MODEL_c3861d1a054c47dfa5d6565e5677b555",
       "placeholder": "​",
       "style": "IPY_MODEL_cc7aeb2d3c884fa2b014fb2f8c1cf983",
       "value": " 50/50 [00:45&lt;00:00,  1.07it/s]"
      }
     },
     "7963d7484fec41f4975d152eda5842a3": {
      "model_module": "@jupyter-widgets/base",
      "model_module_version": "1.2.0",
      "model_name": "LayoutModel",
      "state": {
       "_model_module": "@jupyter-widgets/base",
       "_model_module_version": "1.2.0",
       "_model_name": "LayoutModel",
       "_view_count": null,
       "_view_module": "@jupyter-widgets/base",
       "_view_module_version": "1.2.0",
       "_view_name": "LayoutView",
       "align_content": null,
       "align_items": null,
       "align_self": null,
       "border": null,
       "bottom": null,
       "display": null,
       "flex": null,
       "flex_flow": null,
       "grid_area": null,
       "grid_auto_columns": null,
       "grid_auto_flow": null,
       "grid_auto_rows": null,
       "grid_column": null,
       "grid_gap": null,
       "grid_row": null,
       "grid_template_areas": null,
       "grid_template_columns": null,
       "grid_template_rows": null,
       "height": null,
       "justify_content": null,
       "justify_items": null,
       "left": null,
       "margin": null,
       "max_height": null,
       "max_width": null,
       "min_height": null,
       "min_width": null,
       "object_fit": null,
       "object_position": null,
       "order": null,
       "overflow": null,
       "overflow_x": null,
       "overflow_y": null,
       "padding": null,
       "right": null,
       "top": null,
       "visibility": null,
       "width": null
      }
     },
     "7c08daa2c3614e03812950ef08a4056a": {
      "model_module": "@jupyter-widgets/controls",
      "model_module_version": "1.5.0",
      "model_name": "ProgressStyleModel",
      "state": {
       "_model_module": "@jupyter-widgets/controls",
       "_model_module_version": "1.5.0",
       "_model_name": "ProgressStyleModel",
       "_view_count": null,
       "_view_module": "@jupyter-widgets/base",
       "_view_module_version": "1.2.0",
       "_view_name": "StyleView",
       "bar_color": null,
       "description_width": ""
      }
     },
     "88bad076afe74017a277800e4d25bf16": {
      "model_module": "@jupyter-widgets/base",
      "model_module_version": "1.2.0",
      "model_name": "LayoutModel",
      "state": {
       "_model_module": "@jupyter-widgets/base",
       "_model_module_version": "1.2.0",
       "_model_name": "LayoutModel",
       "_view_count": null,
       "_view_module": "@jupyter-widgets/base",
       "_view_module_version": "1.2.0",
       "_view_name": "LayoutView",
       "align_content": null,
       "align_items": null,
       "align_self": null,
       "border": null,
       "bottom": null,
       "display": null,
       "flex": null,
       "flex_flow": null,
       "grid_area": null,
       "grid_auto_columns": null,
       "grid_auto_flow": null,
       "grid_auto_rows": null,
       "grid_column": null,
       "grid_gap": null,
       "grid_row": null,
       "grid_template_areas": null,
       "grid_template_columns": null,
       "grid_template_rows": null,
       "height": null,
       "justify_content": null,
       "justify_items": null,
       "left": null,
       "margin": null,
       "max_height": null,
       "max_width": null,
       "min_height": null,
       "min_width": null,
       "object_fit": null,
       "object_position": null,
       "order": null,
       "overflow": null,
       "overflow_x": null,
       "overflow_y": null,
       "padding": null,
       "right": null,
       "top": null,
       "visibility": null,
       "width": null
      }
     },
     "8e086ec6e9d649b8b445f7130cd273e1": {
      "model_module": "@jupyter-widgets/controls",
      "model_module_version": "1.5.0",
      "model_name": "ProgressStyleModel",
      "state": {
       "_model_module": "@jupyter-widgets/controls",
       "_model_module_version": "1.5.0",
       "_model_name": "ProgressStyleModel",
       "_view_count": null,
       "_view_module": "@jupyter-widgets/base",
       "_view_module_version": "1.2.0",
       "_view_name": "StyleView",
       "bar_color": null,
       "description_width": ""
      }
     },
     "912ee0cc4387443ea60decb64237210d": {
      "model_module": "@jupyter-widgets/controls",
      "model_module_version": "1.5.0",
      "model_name": "HBoxModel",
      "state": {
       "_dom_classes": [],
       "_model_module": "@jupyter-widgets/controls",
       "_model_module_version": "1.5.0",
       "_model_name": "HBoxModel",
       "_view_count": null,
       "_view_module": "@jupyter-widgets/controls",
       "_view_module_version": "1.5.0",
       "_view_name": "HBoxView",
       "box_style": "",
       "children": [
        "IPY_MODEL_6de9423e2c45499888e6330ee17e57e3",
        "IPY_MODEL_6790662f31e54f518fa4379a4af30575",
        "IPY_MODEL_ce40ea1df5404ef680c1ba9b4f6b7a68"
       ],
       "layout": "IPY_MODEL_be1814621a54430ba835b9761cc1a82d"
      }
     },
     "9165df555c774586a9dc439df8f5741d": {
      "model_module": "@jupyter-widgets/controls",
      "model_module_version": "1.5.0",
      "model_name": "HTMLModel",
      "state": {
       "_dom_classes": [],
       "_model_module": "@jupyter-widgets/controls",
       "_model_module_version": "1.5.0",
       "_model_name": "HTMLModel",
       "_view_count": null,
       "_view_module": "@jupyter-widgets/controls",
       "_view_module_version": "1.5.0",
       "_view_name": "HTMLView",
       "description": "",
       "description_tooltip": null,
       "layout": "IPY_MODEL_b9d46c91802c44c9884ab17b800b5487",
       "placeholder": "​",
       "style": "IPY_MODEL_e8741282071d433c82b69a676b404436",
       "value": " 50/50 [00:45&lt;00:00,  1.11it/s]"
      }
     },
     "93e804097b794e0cbbb7d5946f0ce262": {
      "model_module": "@jupyter-widgets/base",
      "model_module_version": "1.2.0",
      "model_name": "LayoutModel",
      "state": {
       "_model_module": "@jupyter-widgets/base",
       "_model_module_version": "1.2.0",
       "_model_name": "LayoutModel",
       "_view_count": null,
       "_view_module": "@jupyter-widgets/base",
       "_view_module_version": "1.2.0",
       "_view_name": "LayoutView",
       "align_content": null,
       "align_items": null,
       "align_self": null,
       "border": null,
       "bottom": null,
       "display": null,
       "flex": null,
       "flex_flow": null,
       "grid_area": null,
       "grid_auto_columns": null,
       "grid_auto_flow": null,
       "grid_auto_rows": null,
       "grid_column": null,
       "grid_gap": null,
       "grid_row": null,
       "grid_template_areas": null,
       "grid_template_columns": null,
       "grid_template_rows": null,
       "height": null,
       "justify_content": null,
       "justify_items": null,
       "left": null,
       "margin": null,
       "max_height": null,
       "max_width": null,
       "min_height": null,
       "min_width": null,
       "object_fit": null,
       "object_position": null,
       "order": null,
       "overflow": null,
       "overflow_x": null,
       "overflow_y": null,
       "padding": null,
       "right": null,
       "top": null,
       "visibility": null,
       "width": null
      }
     },
     "9b3e37e3b31e4c0a82dbbd0947c84569": {
      "model_module": "@jupyter-widgets/controls",
      "model_module_version": "1.5.0",
      "model_name": "DescriptionStyleModel",
      "state": {
       "_model_module": "@jupyter-widgets/controls",
       "_model_module_version": "1.5.0",
       "_model_name": "DescriptionStyleModel",
       "_view_count": null,
       "_view_module": "@jupyter-widgets/base",
       "_view_module_version": "1.2.0",
       "_view_name": "StyleView",
       "description_width": ""
      }
     },
     "9c73ec26dfe64fd3a348d488b91274e5": {
      "model_module": "@jupyter-widgets/controls",
      "model_module_version": "1.5.0",
      "model_name": "DescriptionStyleModel",
      "state": {
       "_model_module": "@jupyter-widgets/controls",
       "_model_module_version": "1.5.0",
       "_model_name": "DescriptionStyleModel",
       "_view_count": null,
       "_view_module": "@jupyter-widgets/base",
       "_view_module_version": "1.2.0",
       "_view_name": "StyleView",
       "description_width": ""
      }
     },
     "a190881ef96741c09a36046ee1f5b872": {
      "model_module": "@jupyter-widgets/controls",
      "model_module_version": "1.5.0",
      "model_name": "HTMLModel",
      "state": {
       "_dom_classes": [],
       "_model_module": "@jupyter-widgets/controls",
       "_model_module_version": "1.5.0",
       "_model_name": "HTMLModel",
       "_view_count": null,
       "_view_module": "@jupyter-widgets/controls",
       "_view_module_version": "1.5.0",
       "_view_name": "HTMLView",
       "description": "",
       "description_tooltip": null,
       "layout": "IPY_MODEL_88bad076afe74017a277800e4d25bf16",
       "placeholder": "​",
       "style": "IPY_MODEL_9c73ec26dfe64fd3a348d488b91274e5",
       "value": "100%"
      }
     },
     "a497ef5e4b464cc0bb5775ff8d0d1231": {
      "model_module": "@jupyter-widgets/base",
      "model_module_version": "1.2.0",
      "model_name": "LayoutModel",
      "state": {
       "_model_module": "@jupyter-widgets/base",
       "_model_module_version": "1.2.0",
       "_model_name": "LayoutModel",
       "_view_count": null,
       "_view_module": "@jupyter-widgets/base",
       "_view_module_version": "1.2.0",
       "_view_name": "LayoutView",
       "align_content": null,
       "align_items": null,
       "align_self": null,
       "border": null,
       "bottom": null,
       "display": null,
       "flex": null,
       "flex_flow": null,
       "grid_area": null,
       "grid_auto_columns": null,
       "grid_auto_flow": null,
       "grid_auto_rows": null,
       "grid_column": null,
       "grid_gap": null,
       "grid_row": null,
       "grid_template_areas": null,
       "grid_template_columns": null,
       "grid_template_rows": null,
       "height": null,
       "justify_content": null,
       "justify_items": null,
       "left": null,
       "margin": null,
       "max_height": null,
       "max_width": null,
       "min_height": null,
       "min_width": null,
       "object_fit": null,
       "object_position": null,
       "order": null,
       "overflow": null,
       "overflow_x": null,
       "overflow_y": null,
       "padding": null,
       "right": null,
       "top": null,
       "visibility": null,
       "width": null
      }
     },
     "a5f1a27bea2a41afbb03a456b5cb2eed": {
      "model_module": "@jupyter-widgets/base",
      "model_module_version": "1.2.0",
      "model_name": "LayoutModel",
      "state": {
       "_model_module": "@jupyter-widgets/base",
       "_model_module_version": "1.2.0",
       "_model_name": "LayoutModel",
       "_view_count": null,
       "_view_module": "@jupyter-widgets/base",
       "_view_module_version": "1.2.0",
       "_view_name": "LayoutView",
       "align_content": null,
       "align_items": null,
       "align_self": null,
       "border": null,
       "bottom": null,
       "display": null,
       "flex": null,
       "flex_flow": null,
       "grid_area": null,
       "grid_auto_columns": null,
       "grid_auto_flow": null,
       "grid_auto_rows": null,
       "grid_column": null,
       "grid_gap": null,
       "grid_row": null,
       "grid_template_areas": null,
       "grid_template_columns": null,
       "grid_template_rows": null,
       "height": null,
       "justify_content": null,
       "justify_items": null,
       "left": null,
       "margin": null,
       "max_height": null,
       "max_width": null,
       "min_height": null,
       "min_width": null,
       "object_fit": null,
       "object_position": null,
       "order": null,
       "overflow": null,
       "overflow_x": null,
       "overflow_y": null,
       "padding": null,
       "right": null,
       "top": null,
       "visibility": null,
       "width": null
      }
     },
     "b1c2c1fd2cff475bb0aa22625752a8b2": {
      "model_module": "@jupyter-widgets/base",
      "model_module_version": "1.2.0",
      "model_name": "LayoutModel",
      "state": {
       "_model_module": "@jupyter-widgets/base",
       "_model_module_version": "1.2.0",
       "_model_name": "LayoutModel",
       "_view_count": null,
       "_view_module": "@jupyter-widgets/base",
       "_view_module_version": "1.2.0",
       "_view_name": "LayoutView",
       "align_content": null,
       "align_items": null,
       "align_self": null,
       "border": null,
       "bottom": null,
       "display": null,
       "flex": null,
       "flex_flow": null,
       "grid_area": null,
       "grid_auto_columns": null,
       "grid_auto_flow": null,
       "grid_auto_rows": null,
       "grid_column": null,
       "grid_gap": null,
       "grid_row": null,
       "grid_template_areas": null,
       "grid_template_columns": null,
       "grid_template_rows": null,
       "height": null,
       "justify_content": null,
       "justify_items": null,
       "left": null,
       "margin": null,
       "max_height": null,
       "max_width": null,
       "min_height": null,
       "min_width": null,
       "object_fit": null,
       "object_position": null,
       "order": null,
       "overflow": null,
       "overflow_x": null,
       "overflow_y": null,
       "padding": null,
       "right": null,
       "top": null,
       "visibility": null,
       "width": null
      }
     },
     "b27c9dec46e642b083a99283ddddc6ec": {
      "model_module": "@jupyter-widgets/base",
      "model_module_version": "1.2.0",
      "model_name": "LayoutModel",
      "state": {
       "_model_module": "@jupyter-widgets/base",
       "_model_module_version": "1.2.0",
       "_model_name": "LayoutModel",
       "_view_count": null,
       "_view_module": "@jupyter-widgets/base",
       "_view_module_version": "1.2.0",
       "_view_name": "LayoutView",
       "align_content": null,
       "align_items": null,
       "align_self": null,
       "border": null,
       "bottom": null,
       "display": null,
       "flex": null,
       "flex_flow": null,
       "grid_area": null,
       "grid_auto_columns": null,
       "grid_auto_flow": null,
       "grid_auto_rows": null,
       "grid_column": null,
       "grid_gap": null,
       "grid_row": null,
       "grid_template_areas": null,
       "grid_template_columns": null,
       "grid_template_rows": null,
       "height": null,
       "justify_content": null,
       "justify_items": null,
       "left": null,
       "margin": null,
       "max_height": null,
       "max_width": null,
       "min_height": null,
       "min_width": null,
       "object_fit": null,
       "object_position": null,
       "order": null,
       "overflow": null,
       "overflow_x": null,
       "overflow_y": null,
       "padding": null,
       "right": null,
       "top": null,
       "visibility": null,
       "width": null
      }
     },
     "b489f419c8fa4dd1982dd4ddc28e54b0": {
      "model_module": "@jupyter-widgets/base",
      "model_module_version": "1.2.0",
      "model_name": "LayoutModel",
      "state": {
       "_model_module": "@jupyter-widgets/base",
       "_model_module_version": "1.2.0",
       "_model_name": "LayoutModel",
       "_view_count": null,
       "_view_module": "@jupyter-widgets/base",
       "_view_module_version": "1.2.0",
       "_view_name": "LayoutView",
       "align_content": null,
       "align_items": null,
       "align_self": null,
       "border": null,
       "bottom": null,
       "display": null,
       "flex": null,
       "flex_flow": null,
       "grid_area": null,
       "grid_auto_columns": null,
       "grid_auto_flow": null,
       "grid_auto_rows": null,
       "grid_column": null,
       "grid_gap": null,
       "grid_row": null,
       "grid_template_areas": null,
       "grid_template_columns": null,
       "grid_template_rows": null,
       "height": null,
       "justify_content": null,
       "justify_items": null,
       "left": null,
       "margin": null,
       "max_height": null,
       "max_width": null,
       "min_height": null,
       "min_width": null,
       "object_fit": null,
       "object_position": null,
       "order": null,
       "overflow": null,
       "overflow_x": null,
       "overflow_y": null,
       "padding": null,
       "right": null,
       "top": null,
       "visibility": null,
       "width": null
      }
     },
     "b708d0df91d34db5a9923bc1983b3207": {
      "model_module": "@jupyter-widgets/base",
      "model_module_version": "1.2.0",
      "model_name": "LayoutModel",
      "state": {
       "_model_module": "@jupyter-widgets/base",
       "_model_module_version": "1.2.0",
       "_model_name": "LayoutModel",
       "_view_count": null,
       "_view_module": "@jupyter-widgets/base",
       "_view_module_version": "1.2.0",
       "_view_name": "LayoutView",
       "align_content": null,
       "align_items": null,
       "align_self": null,
       "border": null,
       "bottom": null,
       "display": null,
       "flex": null,
       "flex_flow": null,
       "grid_area": null,
       "grid_auto_columns": null,
       "grid_auto_flow": null,
       "grid_auto_rows": null,
       "grid_column": null,
       "grid_gap": null,
       "grid_row": null,
       "grid_template_areas": null,
       "grid_template_columns": null,
       "grid_template_rows": null,
       "height": null,
       "justify_content": null,
       "justify_items": null,
       "left": null,
       "margin": null,
       "max_height": null,
       "max_width": null,
       "min_height": null,
       "min_width": null,
       "object_fit": null,
       "object_position": null,
       "order": null,
       "overflow": null,
       "overflow_x": null,
       "overflow_y": null,
       "padding": null,
       "right": null,
       "top": null,
       "visibility": null,
       "width": null
      }
     },
     "b9d46c91802c44c9884ab17b800b5487": {
      "model_module": "@jupyter-widgets/base",
      "model_module_version": "1.2.0",
      "model_name": "LayoutModel",
      "state": {
       "_model_module": "@jupyter-widgets/base",
       "_model_module_version": "1.2.0",
       "_model_name": "LayoutModel",
       "_view_count": null,
       "_view_module": "@jupyter-widgets/base",
       "_view_module_version": "1.2.0",
       "_view_name": "LayoutView",
       "align_content": null,
       "align_items": null,
       "align_self": null,
       "border": null,
       "bottom": null,
       "display": null,
       "flex": null,
       "flex_flow": null,
       "grid_area": null,
       "grid_auto_columns": null,
       "grid_auto_flow": null,
       "grid_auto_rows": null,
       "grid_column": null,
       "grid_gap": null,
       "grid_row": null,
       "grid_template_areas": null,
       "grid_template_columns": null,
       "grid_template_rows": null,
       "height": null,
       "justify_content": null,
       "justify_items": null,
       "left": null,
       "margin": null,
       "max_height": null,
       "max_width": null,
       "min_height": null,
       "min_width": null,
       "object_fit": null,
       "object_position": null,
       "order": null,
       "overflow": null,
       "overflow_x": null,
       "overflow_y": null,
       "padding": null,
       "right": null,
       "top": null,
       "visibility": null,
       "width": null
      }
     },
     "bbb163d56213448f9d90ff5471d77077": {
      "model_module": "@jupyter-widgets/controls",
      "model_module_version": "1.5.0",
      "model_name": "ProgressStyleModel",
      "state": {
       "_model_module": "@jupyter-widgets/controls",
       "_model_module_version": "1.5.0",
       "_model_name": "ProgressStyleModel",
       "_view_count": null,
       "_view_module": "@jupyter-widgets/base",
       "_view_module_version": "1.2.0",
       "_view_name": "StyleView",
       "bar_color": null,
       "description_width": ""
      }
     },
     "be1814621a54430ba835b9761cc1a82d": {
      "model_module": "@jupyter-widgets/base",
      "model_module_version": "1.2.0",
      "model_name": "LayoutModel",
      "state": {
       "_model_module": "@jupyter-widgets/base",
       "_model_module_version": "1.2.0",
       "_model_name": "LayoutModel",
       "_view_count": null,
       "_view_module": "@jupyter-widgets/base",
       "_view_module_version": "1.2.0",
       "_view_name": "LayoutView",
       "align_content": null,
       "align_items": null,
       "align_self": null,
       "border": null,
       "bottom": null,
       "display": null,
       "flex": null,
       "flex_flow": null,
       "grid_area": null,
       "grid_auto_columns": null,
       "grid_auto_flow": null,
       "grid_auto_rows": null,
       "grid_column": null,
       "grid_gap": null,
       "grid_row": null,
       "grid_template_areas": null,
       "grid_template_columns": null,
       "grid_template_rows": null,
       "height": null,
       "justify_content": null,
       "justify_items": null,
       "left": null,
       "margin": null,
       "max_height": null,
       "max_width": null,
       "min_height": null,
       "min_width": null,
       "object_fit": null,
       "object_position": null,
       "order": null,
       "overflow": null,
       "overflow_x": null,
       "overflow_y": null,
       "padding": null,
       "right": null,
       "top": null,
       "visibility": null,
       "width": null
      }
     },
     "c3861d1a054c47dfa5d6565e5677b555": {
      "model_module": "@jupyter-widgets/base",
      "model_module_version": "1.2.0",
      "model_name": "LayoutModel",
      "state": {
       "_model_module": "@jupyter-widgets/base",
       "_model_module_version": "1.2.0",
       "_model_name": "LayoutModel",
       "_view_count": null,
       "_view_module": "@jupyter-widgets/base",
       "_view_module_version": "1.2.0",
       "_view_name": "LayoutView",
       "align_content": null,
       "align_items": null,
       "align_self": null,
       "border": null,
       "bottom": null,
       "display": null,
       "flex": null,
       "flex_flow": null,
       "grid_area": null,
       "grid_auto_columns": null,
       "grid_auto_flow": null,
       "grid_auto_rows": null,
       "grid_column": null,
       "grid_gap": null,
       "grid_row": null,
       "grid_template_areas": null,
       "grid_template_columns": null,
       "grid_template_rows": null,
       "height": null,
       "justify_content": null,
       "justify_items": null,
       "left": null,
       "margin": null,
       "max_height": null,
       "max_width": null,
       "min_height": null,
       "min_width": null,
       "object_fit": null,
       "object_position": null,
       "order": null,
       "overflow": null,
       "overflow_x": null,
       "overflow_y": null,
       "padding": null,
       "right": null,
       "top": null,
       "visibility": null,
       "width": null
      }
     },
     "c70f9e3ed2a44fff8ebf7ae29b5d43fd": {
      "model_module": "@jupyter-widgets/base",
      "model_module_version": "1.2.0",
      "model_name": "LayoutModel",
      "state": {
       "_model_module": "@jupyter-widgets/base",
       "_model_module_version": "1.2.0",
       "_model_name": "LayoutModel",
       "_view_count": null,
       "_view_module": "@jupyter-widgets/base",
       "_view_module_version": "1.2.0",
       "_view_name": "LayoutView",
       "align_content": null,
       "align_items": null,
       "align_self": null,
       "border": null,
       "bottom": null,
       "display": null,
       "flex": null,
       "flex_flow": null,
       "grid_area": null,
       "grid_auto_columns": null,
       "grid_auto_flow": null,
       "grid_auto_rows": null,
       "grid_column": null,
       "grid_gap": null,
       "grid_row": null,
       "grid_template_areas": null,
       "grid_template_columns": null,
       "grid_template_rows": null,
       "height": null,
       "justify_content": null,
       "justify_items": null,
       "left": null,
       "margin": null,
       "max_height": null,
       "max_width": null,
       "min_height": null,
       "min_width": null,
       "object_fit": null,
       "object_position": null,
       "order": null,
       "overflow": null,
       "overflow_x": null,
       "overflow_y": null,
       "padding": null,
       "right": null,
       "top": null,
       "visibility": null,
       "width": null
      }
     },
     "cc7aeb2d3c884fa2b014fb2f8c1cf983": {
      "model_module": "@jupyter-widgets/controls",
      "model_module_version": "1.5.0",
      "model_name": "DescriptionStyleModel",
      "state": {
       "_model_module": "@jupyter-widgets/controls",
       "_model_module_version": "1.5.0",
       "_model_name": "DescriptionStyleModel",
       "_view_count": null,
       "_view_module": "@jupyter-widgets/base",
       "_view_module_version": "1.2.0",
       "_view_name": "StyleView",
       "description_width": ""
      }
     },
     "ccd4d4aba27e46e0b39f9c43704c845b": {
      "model_module": "@jupyter-widgets/controls",
      "model_module_version": "1.5.0",
      "model_name": "DescriptionStyleModel",
      "state": {
       "_model_module": "@jupyter-widgets/controls",
       "_model_module_version": "1.5.0",
       "_model_name": "DescriptionStyleModel",
       "_view_count": null,
       "_view_module": "@jupyter-widgets/base",
       "_view_module_version": "1.2.0",
       "_view_name": "StyleView",
       "description_width": ""
      }
     },
     "cdc80e05243e430594037f6fd032802e": {
      "model_module": "@jupyter-widgets/base",
      "model_module_version": "1.2.0",
      "model_name": "LayoutModel",
      "state": {
       "_model_module": "@jupyter-widgets/base",
       "_model_module_version": "1.2.0",
       "_model_name": "LayoutModel",
       "_view_count": null,
       "_view_module": "@jupyter-widgets/base",
       "_view_module_version": "1.2.0",
       "_view_name": "LayoutView",
       "align_content": null,
       "align_items": null,
       "align_self": null,
       "border": null,
       "bottom": null,
       "display": null,
       "flex": null,
       "flex_flow": null,
       "grid_area": null,
       "grid_auto_columns": null,
       "grid_auto_flow": null,
       "grid_auto_rows": null,
       "grid_column": null,
       "grid_gap": null,
       "grid_row": null,
       "grid_template_areas": null,
       "grid_template_columns": null,
       "grid_template_rows": null,
       "height": null,
       "justify_content": null,
       "justify_items": null,
       "left": null,
       "margin": null,
       "max_height": null,
       "max_width": null,
       "min_height": null,
       "min_width": null,
       "object_fit": null,
       "object_position": null,
       "order": null,
       "overflow": null,
       "overflow_x": null,
       "overflow_y": null,
       "padding": null,
       "right": null,
       "top": null,
       "visibility": null,
       "width": null
      }
     },
     "ce40ea1df5404ef680c1ba9b4f6b7a68": {
      "model_module": "@jupyter-widgets/controls",
      "model_module_version": "1.5.0",
      "model_name": "HTMLModel",
      "state": {
       "_dom_classes": [],
       "_model_module": "@jupyter-widgets/controls",
       "_model_module_version": "1.5.0",
       "_model_name": "HTMLModel",
       "_view_count": null,
       "_view_module": "@jupyter-widgets/controls",
       "_view_module_version": "1.5.0",
       "_view_name": "HTMLView",
       "description": "",
       "description_tooltip": null,
       "layout": "IPY_MODEL_f243cedc66694fe0bd8af01391c36282",
       "placeholder": "​",
       "style": "IPY_MODEL_3371a38afa484c0ea0074f4c688f573a",
       "value": " 42/42 [00:37&lt;00:00,  1.12it/s]"
      }
     },
     "d8ac56880f2c436abf6f486b0cd8216c": {
      "model_module": "@jupyter-widgets/controls",
      "model_module_version": "1.5.0",
      "model_name": "HBoxModel",
      "state": {
       "_dom_classes": [],
       "_model_module": "@jupyter-widgets/controls",
       "_model_module_version": "1.5.0",
       "_model_name": "HBoxModel",
       "_view_count": null,
       "_view_module": "@jupyter-widgets/controls",
       "_view_module_version": "1.5.0",
       "_view_name": "HBoxView",
       "box_style": "",
       "children": [
        "IPY_MODEL_02a9404c5c3a4dc3a33183a7e8fadf44",
        "IPY_MODEL_345c4a189bcf467fb31061fde45db798",
        "IPY_MODEL_782431286d12496fad5e00910d03107e"
       ],
       "layout": "IPY_MODEL_cdc80e05243e430594037f6fd032802e"
      }
     },
     "db47382d1cb64e749cd2eaa1fbc3186f": {
      "model_module": "@jupyter-widgets/base",
      "model_module_version": "1.2.0",
      "model_name": "LayoutModel",
      "state": {
       "_model_module": "@jupyter-widgets/base",
       "_model_module_version": "1.2.0",
       "_model_name": "LayoutModel",
       "_view_count": null,
       "_view_module": "@jupyter-widgets/base",
       "_view_module_version": "1.2.0",
       "_view_name": "LayoutView",
       "align_content": null,
       "align_items": null,
       "align_self": null,
       "border": null,
       "bottom": null,
       "display": null,
       "flex": null,
       "flex_flow": null,
       "grid_area": null,
       "grid_auto_columns": null,
       "grid_auto_flow": null,
       "grid_auto_rows": null,
       "grid_column": null,
       "grid_gap": null,
       "grid_row": null,
       "grid_template_areas": null,
       "grid_template_columns": null,
       "grid_template_rows": null,
       "height": null,
       "justify_content": null,
       "justify_items": null,
       "left": null,
       "margin": null,
       "max_height": null,
       "max_width": null,
       "min_height": null,
       "min_width": null,
       "object_fit": null,
       "object_position": null,
       "order": null,
       "overflow": null,
       "overflow_x": null,
       "overflow_y": null,
       "padding": null,
       "right": null,
       "top": null,
       "visibility": null,
       "width": null
      }
     },
     "dbfee4e517f340d19c274a584e57fdd3": {
      "model_module": "@jupyter-widgets/controls",
      "model_module_version": "1.5.0",
      "model_name": "HTMLModel",
      "state": {
       "_dom_classes": [],
       "_model_module": "@jupyter-widgets/controls",
       "_model_module_version": "1.5.0",
       "_model_name": "HTMLModel",
       "_view_count": null,
       "_view_module": "@jupyter-widgets/controls",
       "_view_module_version": "1.5.0",
       "_view_name": "HTMLView",
       "description": "",
       "description_tooltip": null,
       "layout": "IPY_MODEL_26fd5e799d6d4a009b786cd3c89b1278",
       "placeholder": "​",
       "style": "IPY_MODEL_5b13337125134004b3fb264ad806e8f4",
       "value": " 5/5 [03:41&lt;00:00, 43.13s/it]"
      }
     },
     "ddadd8e5c6604f01908650adebbaf58e": {
      "model_module": "@jupyter-widgets/controls",
      "model_module_version": "1.5.0",
      "model_name": "HBoxModel",
      "state": {
       "_dom_classes": [],
       "_model_module": "@jupyter-widgets/controls",
       "_model_module_version": "1.5.0",
       "_model_name": "HBoxModel",
       "_view_count": null,
       "_view_module": "@jupyter-widgets/controls",
       "_view_module_version": "1.5.0",
       "_view_name": "HBoxView",
       "box_style": "",
       "children": [
        "IPY_MODEL_4c72dffe74514d05952025f6935e781f",
        "IPY_MODEL_1a7386586d25456bbddf5c894995853a",
        "IPY_MODEL_46b35754a9f64f30b2080242e8139ad2"
       ],
       "layout": "IPY_MODEL_93e804097b794e0cbbb7d5946f0ce262"
      }
     },
     "de9147a311d14c2b8b5714ff88849587": {
      "model_module": "@jupyter-widgets/controls",
      "model_module_version": "1.5.0",
      "model_name": "HTMLModel",
      "state": {
       "_dom_classes": [],
       "_model_module": "@jupyter-widgets/controls",
       "_model_module_version": "1.5.0",
       "_model_name": "HTMLModel",
       "_view_count": null,
       "_view_module": "@jupyter-widgets/controls",
       "_view_module_version": "1.5.0",
       "_view_name": "HTMLView",
       "description": "",
       "description_tooltip": null,
       "layout": "IPY_MODEL_75f5916138374daba88d46af4da01fa6",
       "placeholder": "​",
       "style": "IPY_MODEL_ccd4d4aba27e46e0b39f9c43704c845b",
       "value": "100%"
      }
     },
     "df244b34b3ae42b9a1a41c1ace374ae5": {
      "model_module": "@jupyter-widgets/base",
      "model_module_version": "1.2.0",
      "model_name": "LayoutModel",
      "state": {
       "_model_module": "@jupyter-widgets/base",
       "_model_module_version": "1.2.0",
       "_model_name": "LayoutModel",
       "_view_count": null,
       "_view_module": "@jupyter-widgets/base",
       "_view_module_version": "1.2.0",
       "_view_name": "LayoutView",
       "align_content": null,
       "align_items": null,
       "align_self": null,
       "border": null,
       "bottom": null,
       "display": null,
       "flex": null,
       "flex_flow": null,
       "grid_area": null,
       "grid_auto_columns": null,
       "grid_auto_flow": null,
       "grid_auto_rows": null,
       "grid_column": null,
       "grid_gap": null,
       "grid_row": null,
       "grid_template_areas": null,
       "grid_template_columns": null,
       "grid_template_rows": null,
       "height": null,
       "justify_content": null,
       "justify_items": null,
       "left": null,
       "margin": null,
       "max_height": null,
       "max_width": null,
       "min_height": null,
       "min_width": null,
       "object_fit": null,
       "object_position": null,
       "order": null,
       "overflow": null,
       "overflow_x": null,
       "overflow_y": null,
       "padding": null,
       "right": null,
       "top": null,
       "visibility": null,
       "width": null
      }
     },
     "e3cee2f735d2425b8f07d365e36efd11": {
      "model_module": "@jupyter-widgets/controls",
      "model_module_version": "1.5.0",
      "model_name": "DescriptionStyleModel",
      "state": {
       "_model_module": "@jupyter-widgets/controls",
       "_model_module_version": "1.5.0",
       "_model_name": "DescriptionStyleModel",
       "_view_count": null,
       "_view_module": "@jupyter-widgets/base",
       "_view_module_version": "1.2.0",
       "_view_name": "StyleView",
       "description_width": ""
      }
     },
     "e700ad06cf8f49fd81306ff429b9080a": {
      "model_module": "@jupyter-widgets/controls",
      "model_module_version": "1.5.0",
      "model_name": "DescriptionStyleModel",
      "state": {
       "_model_module": "@jupyter-widgets/controls",
       "_model_module_version": "1.5.0",
       "_model_name": "DescriptionStyleModel",
       "_view_count": null,
       "_view_module": "@jupyter-widgets/base",
       "_view_module_version": "1.2.0",
       "_view_name": "StyleView",
       "description_width": ""
      }
     },
     "e72a04b7c538445b96acf31e26c04df3": {
      "model_module": "@jupyter-widgets/controls",
      "model_module_version": "1.5.0",
      "model_name": "HBoxModel",
      "state": {
       "_dom_classes": [],
       "_model_module": "@jupyter-widgets/controls",
       "_model_module_version": "1.5.0",
       "_model_name": "HBoxModel",
       "_view_count": null,
       "_view_module": "@jupyter-widgets/controls",
       "_view_module_version": "1.5.0",
       "_view_name": "HBoxView",
       "box_style": "",
       "children": [
        "IPY_MODEL_a190881ef96741c09a36046ee1f5b872",
        "IPY_MODEL_0355f742c0c14f918c19c79428158fd1",
        "IPY_MODEL_dbfee4e517f340d19c274a584e57fdd3"
       ],
       "layout": "IPY_MODEL_a5f1a27bea2a41afbb03a456b5cb2eed"
      }
     },
     "e8156fef251a41b5a0f63bbeabcbb438": {
      "model_module": "@jupyter-widgets/controls",
      "model_module_version": "1.5.0",
      "model_name": "FloatProgressModel",
      "state": {
       "_dom_classes": [],
       "_model_module": "@jupyter-widgets/controls",
       "_model_module_version": "1.5.0",
       "_model_name": "FloatProgressModel",
       "_view_count": null,
       "_view_module": "@jupyter-widgets/controls",
       "_view_module_version": "1.5.0",
       "_view_name": "ProgressView",
       "bar_style": "success",
       "description": "",
       "description_tooltip": null,
       "layout": "IPY_MODEL_6fb74d26074f40f6b8dd1fddf2168d0e",
       "max": 50.0,
       "min": 0.0,
       "orientation": "horizontal",
       "style": "IPY_MODEL_5179783621b8485fadddd1e1b6b7f190",
       "value": 50.0
      }
     },
     "e8741282071d433c82b69a676b404436": {
      "model_module": "@jupyter-widgets/controls",
      "model_module_version": "1.5.0",
      "model_name": "DescriptionStyleModel",
      "state": {
       "_model_module": "@jupyter-widgets/controls",
       "_model_module_version": "1.5.0",
       "_model_name": "DescriptionStyleModel",
       "_view_count": null,
       "_view_module": "@jupyter-widgets/base",
       "_view_module_version": "1.2.0",
       "_view_name": "StyleView",
       "description_width": ""
      }
     },
     "e92598abc3474772bd88955e9a3b93c4": {
      "model_module": "@jupyter-widgets/controls",
      "model_module_version": "1.5.0",
      "model_name": "DescriptionStyleModel",
      "state": {
       "_model_module": "@jupyter-widgets/controls",
       "_model_module_version": "1.5.0",
       "_model_name": "DescriptionStyleModel",
       "_view_count": null,
       "_view_module": "@jupyter-widgets/base",
       "_view_module_version": "1.2.0",
       "_view_name": "StyleView",
       "description_width": ""
      }
     },
     "eead5fc555b549018dba5f3504ea5145": {
      "model_module": "@jupyter-widgets/base",
      "model_module_version": "1.2.0",
      "model_name": "LayoutModel",
      "state": {
       "_model_module": "@jupyter-widgets/base",
       "_model_module_version": "1.2.0",
       "_model_name": "LayoutModel",
       "_view_count": null,
       "_view_module": "@jupyter-widgets/base",
       "_view_module_version": "1.2.0",
       "_view_name": "LayoutView",
       "align_content": null,
       "align_items": null,
       "align_self": null,
       "border": null,
       "bottom": null,
       "display": null,
       "flex": null,
       "flex_flow": null,
       "grid_area": null,
       "grid_auto_columns": null,
       "grid_auto_flow": null,
       "grid_auto_rows": null,
       "grid_column": null,
       "grid_gap": null,
       "grid_row": null,
       "grid_template_areas": null,
       "grid_template_columns": null,
       "grid_template_rows": null,
       "height": null,
       "justify_content": null,
       "justify_items": null,
       "left": null,
       "margin": null,
       "max_height": null,
       "max_width": null,
       "min_height": null,
       "min_width": null,
       "object_fit": null,
       "object_position": null,
       "order": null,
       "overflow": null,
       "overflow_x": null,
       "overflow_y": null,
       "padding": null,
       "right": null,
       "top": null,
       "visibility": null,
       "width": null
      }
     },
     "f243cedc66694fe0bd8af01391c36282": {
      "model_module": "@jupyter-widgets/base",
      "model_module_version": "1.2.0",
      "model_name": "LayoutModel",
      "state": {
       "_model_module": "@jupyter-widgets/base",
       "_model_module_version": "1.2.0",
       "_model_name": "LayoutModel",
       "_view_count": null,
       "_view_module": "@jupyter-widgets/base",
       "_view_module_version": "1.2.0",
       "_view_name": "LayoutView",
       "align_content": null,
       "align_items": null,
       "align_self": null,
       "border": null,
       "bottom": null,
       "display": null,
       "flex": null,
       "flex_flow": null,
       "grid_area": null,
       "grid_auto_columns": null,
       "grid_auto_flow": null,
       "grid_auto_rows": null,
       "grid_column": null,
       "grid_gap": null,
       "grid_row": null,
       "grid_template_areas": null,
       "grid_template_columns": null,
       "grid_template_rows": null,
       "height": null,
       "justify_content": null,
       "justify_items": null,
       "left": null,
       "margin": null,
       "max_height": null,
       "max_width": null,
       "min_height": null,
       "min_width": null,
       "object_fit": null,
       "object_position": null,
       "order": null,
       "overflow": null,
       "overflow_x": null,
       "overflow_y": null,
       "padding": null,
       "right": null,
       "top": null,
       "visibility": null,
       "width": null
      }
     },
     "f28128819a7e4a068a513d4f2b4302d7": {
      "model_module": "@jupyter-widgets/base",
      "model_module_version": "1.2.0",
      "model_name": "LayoutModel",
      "state": {
       "_model_module": "@jupyter-widgets/base",
       "_model_module_version": "1.2.0",
       "_model_name": "LayoutModel",
       "_view_count": null,
       "_view_module": "@jupyter-widgets/base",
       "_view_module_version": "1.2.0",
       "_view_name": "LayoutView",
       "align_content": null,
       "align_items": null,
       "align_self": null,
       "border": null,
       "bottom": null,
       "display": null,
       "flex": null,
       "flex_flow": null,
       "grid_area": null,
       "grid_auto_columns": null,
       "grid_auto_flow": null,
       "grid_auto_rows": null,
       "grid_column": null,
       "grid_gap": null,
       "grid_row": null,
       "grid_template_areas": null,
       "grid_template_columns": null,
       "grid_template_rows": null,
       "height": null,
       "justify_content": null,
       "justify_items": null,
       "left": null,
       "margin": null,
       "max_height": null,
       "max_width": null,
       "min_height": null,
       "min_width": null,
       "object_fit": null,
       "object_position": null,
       "order": null,
       "overflow": null,
       "overflow_x": null,
       "overflow_y": null,
       "padding": null,
       "right": null,
       "top": null,
       "visibility": null,
       "width": null
      }
     },
     "f65abd5a1ec34bae8563f6d0f7fa4bb3": {
      "model_module": "@jupyter-widgets/base",
      "model_module_version": "1.2.0",
      "model_name": "LayoutModel",
      "state": {
       "_model_module": "@jupyter-widgets/base",
       "_model_module_version": "1.2.0",
       "_model_name": "LayoutModel",
       "_view_count": null,
       "_view_module": "@jupyter-widgets/base",
       "_view_module_version": "1.2.0",
       "_view_name": "LayoutView",
       "align_content": null,
       "align_items": null,
       "align_self": null,
       "border": null,
       "bottom": null,
       "display": null,
       "flex": null,
       "flex_flow": null,
       "grid_area": null,
       "grid_auto_columns": null,
       "grid_auto_flow": null,
       "grid_auto_rows": null,
       "grid_column": null,
       "grid_gap": null,
       "grid_row": null,
       "grid_template_areas": null,
       "grid_template_columns": null,
       "grid_template_rows": null,
       "height": null,
       "justify_content": null,
       "justify_items": null,
       "left": null,
       "margin": null,
       "max_height": null,
       "max_width": null,
       "min_height": null,
       "min_width": null,
       "object_fit": null,
       "object_position": null,
       "order": null,
       "overflow": null,
       "overflow_x": null,
       "overflow_y": null,
       "padding": null,
       "right": null,
       "top": null,
       "visibility": null,
       "width": null
      }
     },
     "f680c0ff8a2b4fd0b0aab390f589ffb3": {
      "model_module": "@jupyter-widgets/controls",
      "model_module_version": "1.5.0",
      "model_name": "ProgressStyleModel",
      "state": {
       "_model_module": "@jupyter-widgets/controls",
       "_model_module_version": "1.5.0",
       "_model_name": "ProgressStyleModel",
       "_view_count": null,
       "_view_module": "@jupyter-widgets/base",
       "_view_module_version": "1.2.0",
       "_view_name": "StyleView",
       "bar_color": null,
       "description_width": ""
      }
     },
     "fb7489eff89a4ba785de78424a3bd4fb": {
      "model_module": "@jupyter-widgets/controls",
      "model_module_version": "1.5.0",
      "model_name": "FloatProgressModel",
      "state": {
       "_dom_classes": [],
       "_model_module": "@jupyter-widgets/controls",
       "_model_module_version": "1.5.0",
       "_model_name": "FloatProgressModel",
       "_view_count": null,
       "_view_module": "@jupyter-widgets/controls",
       "_view_module_version": "1.5.0",
       "_view_name": "ProgressView",
       "bar_style": "success",
       "description": "",
       "description_tooltip": null,
       "layout": "IPY_MODEL_58c28c36d02b4adba85d0c74b1cb9587",
       "max": 50.0,
       "min": 0.0,
       "orientation": "horizontal",
       "style": "IPY_MODEL_398509560d27495383acc02f9f6da583",
       "value": 50.0
      }
     },
     "ff20c13fe50a44179afc8634b8b5eb1b": {
      "model_module": "@jupyter-widgets/controls",
      "model_module_version": "1.5.0",
      "model_name": "HTMLModel",
      "state": {
       "_dom_classes": [],
       "_model_module": "@jupyter-widgets/controls",
       "_model_module_version": "1.5.0",
       "_model_name": "HTMLModel",
       "_view_count": null,
       "_view_module": "@jupyter-widgets/controls",
       "_view_module_version": "1.5.0",
       "_view_name": "HTMLView",
       "description": "",
       "description_tooltip": null,
       "layout": "IPY_MODEL_4db9af8a82ed48819269d94520332eb0",
       "placeholder": "​",
       "style": "IPY_MODEL_e700ad06cf8f49fd81306ff429b9080a",
       "value": " 50/50 [00:45&lt;00:00,  1.11it/s]"
      }
     }
    },
    "version_major": 2,
    "version_minor": 0
   }
  }
 },
 "nbformat": 4,
 "nbformat_minor": 5
}

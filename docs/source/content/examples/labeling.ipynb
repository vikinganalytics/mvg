{
 "cells": [
  {
   "cell_type": "markdown",
   "metadata": {},
   "source": [
    "# Labeling Measurements\n",
    "\n",
    "MVG comes with a labeling API that allows a user to store important information about a measurement. There are multiple reasons why you would want to label measurements and some of the benefits include\n",
    "\n",
    "- Additional information about modes. For example, a mode with multiple critical measurements is likely a failure mode\n",
    "- Improved mode detection\n",
    "- As personal notes for keeping track of interesting events in the data\n",
    "\n",
    "This example will go through how what a label is in MVG and how the labeling API functions. \n",
    "\n",
    "### Prerequisites\n",
    "\n",
    "To follow this example you need to have\n",
    "\n",
    "- Installed `mvg` package\n",
    "- A token for API access from Viking Analytics\n",
    "- The database needs to be populated with our example assets. This can be achieved by running the [\"Sources and Measurement\"](sources_and_measurements.ipynb) example."
   ]
  },
  {
   "cell_type": "markdown",
   "metadata": {},
   "source": [
    "## Import the required packages and functions"
   ]
  },
  {
   "cell_type": "code",
   "execution_count": 1,
   "metadata": {},
   "outputs": [],
   "source": [
    "import os\n",
    "from mvg import MVG\n",
    "from mvg.plotting import plot_labels_over_time"
   ]
  },
  {
   "cell_type": "markdown",
   "metadata": {},
   "source": [
    "## Create a session for API access\n",
    "\n",
    "Note that the `TOKEN` is used both for authorization and authentication. Thus, each unique token represents a unique user and each user has their own unique database on the Viking Analytics MultiViz Vibration service.\n",
    "\n",
    "**You need to insert your token received from Viking Analytics here:**"
   ]
  },
  {
   "cell_type": "code",
   "execution_count": 2,
   "metadata": {},
   "outputs": [
    {
     "data": {
      "text/plain": [
       "{'api_version': '0.2.4',\n",
       " 'mvg_highest_tested_version': '0.2.3',\n",
       " 'mvg_version': '0.9.4'}"
      ]
     },
     "execution_count": 2,
     "metadata": {},
     "output_type": "execute_result"
    }
   ],
   "source": [
    "TOKEN = os.environ[\"TEST_TOKEN\"]\n",
    "URL = \"https://api.beta.multiviz.com\"\n",
    "session = MVG(URL, TOKEN)\n",
    "\n",
    "session.check_version()"
   ]
  },
  {
   "cell_type": "markdown",
   "metadata": {},
   "source": [
    "## Adding labels\n",
    "\n",
    "Once the API session is live, we start by checking if the source `u0001` we will use is available in the database."
   ]
  },
  {
   "cell_type": "code",
   "execution_count": 3,
   "metadata": {},
   "outputs": [
    {
     "data": {
      "text/plain": [
       "{'source_id': 'u0001',\n",
       " 'meta': {'assetId': 'assetA', 'measPoint': 'mloc01', 'location': 'paris'},\n",
       " 'properties': {'data_class': 'waveform', 'channels': ['acc']}}"
      ]
     },
     "execution_count": 3,
     "metadata": {},
     "output_type": "execute_result"
    }
   ],
   "source": [
    "SOURCE_ID = \"u0001\"\n",
    "session.get_source(SOURCE_ID)"
   ]
  },
  {
   "cell_type": "markdown",
   "metadata": {},
   "source": [
    "Now that we know that the source exists we need to check it's measurements to know which ones to label"
   ]
  },
  {
   "cell_type": "code",
   "execution_count": 4,
   "metadata": {},
   "outputs": [
    {
     "data": {
      "text/plain": [
       "[{'timestamp': 1570186860, 'meta': {}, 'duration': 2.8672073400507907},\n",
       " {'timestamp': 1570273260, 'meta': {}, 'duration': 2.8672073400507907},\n",
       " {'timestamp': 1570359660, 'meta': {}, 'duration': 2.8672073400507907}]"
      ]
     },
     "execution_count": 4,
     "metadata": {},
     "output_type": "execute_result"
    }
   ],
   "source": [
    "measurements = session.list_measurements(SOURCE_ID)\n",
    "measurements[:3]"
   ]
  },
  {
   "cell_type": "markdown",
   "metadata": {},
   "source": [
    "For this example let us say that there was a bearing failure of the machine in the first few measurements, so we will add some labels to the afflicted measurements. To do so we use the `MVG.create_label()` method.\n",
    "\n",
    "A label in MVG relates to a specific measurement, which are identifiable by the source ID and the timestamp. Each measurement can only have one label. The label itself has three components\n",
    "\n",
    "- A label identification string\n",
    "- A severity level number\n",
    "- And notes\n",
    "\n",
    "The label identification string is unique for each label and is case and spelling sensitive, i.e. `\"failure\"` and `\"Failure\"` are not interpreted as the same label. The severity level is an integer where a larger number indicates a more severe problem. They do not need to be the same for different instances of the same label. The notes exist for the end user to add extra information to a certain label and is not used by MVG in any way."
   ]
  },
  {
   "cell_type": "code",
   "execution_count": 5,
   "metadata": {},
   "outputs": [],
   "source": [
    "for measurement in measurements[:3]:\n",
    "    session.create_label(\n",
    "        sid=SOURCE_ID,\n",
    "        timestamp=measurement[\"timestamp\"],\n",
    "        label=\"bearing_failure\",\n",
    "        severity=3,\n",
    "        notes=\"Imaginary bearing failure\"\n",
    "    )"
   ]
  },
  {
   "cell_type": "markdown",
   "metadata": {},
   "source": [
    "## Reading Labels\n",
    "\n",
    "To get a list of all the labels for a source we use the `MVG.list_labels()` method."
   ]
  },
  {
   "cell_type": "code",
   "execution_count": 6,
   "metadata": {},
   "outputs": [
    {
     "data": {
      "text/plain": [
       "[{'timestamp': 1570186860,\n",
       "  'label': 'bearing_failure',\n",
       "  'severity': 3,\n",
       "  'notes': 'Imaginary bearing failure',\n",
       "  'label_timestamp': '2021-10-15 09:46:51'},\n",
       " {'timestamp': 1570273260,\n",
       "  'label': 'bearing_failure',\n",
       "  'severity': 3,\n",
       "  'notes': 'Imaginary bearing failure',\n",
       "  'label_timestamp': '2021-10-15 09:46:51'},\n",
       " {'timestamp': 1570359660,\n",
       "  'label': 'bearing_failure',\n",
       "  'severity': 3,\n",
       "  'notes': 'Imaginary bearing failure',\n",
       "  'label_timestamp': '2021-10-15 09:46:51'}]"
      ]
     },
     "execution_count": 6,
     "metadata": {},
     "output_type": "execute_result"
    }
   ],
   "source": [
    "session.list_labels(SOURCE_ID)"
   ]
  },
  {
   "cell_type": "markdown",
   "metadata": {},
   "source": [
    "As you can see the measurements that we just added labels too show up. To inspect the label of a specific measurement we use `MVG.get_label()`"
   ]
  },
  {
   "cell_type": "code",
   "execution_count": 7,
   "metadata": {},
   "outputs": [
    {
     "data": {
      "text/plain": [
       "{'label': 'bearing_failure',\n",
       " 'severity': 3,\n",
       " 'notes': 'Imaginary bearing failure',\n",
       " 'label_timestamp': '2021-10-15 09:46:51'}"
      ]
     },
     "execution_count": 7,
     "metadata": {},
     "output_type": "execute_result"
    }
   ],
   "source": [
    "session.get_label(SOURCE_ID, measurements[0][\"timestamp\"])"
   ]
  },
  {
   "cell_type": "markdown",
   "metadata": {},
   "source": [
    "## Updating labels\n",
    "\n",
    "Maybe we realized that the problem did not actually occur until the third timestamp and we want to change the labels for the first two. Then we use the `session.update_label()` method."
   ]
  },
  {
   "cell_type": "code",
   "execution_count": 8,
   "metadata": {},
   "outputs": [
    {
     "data": {
      "text/plain": [
       "[{'timestamp': 1570186860,\n",
       "  'label': 'OK',\n",
       "  'severity': 0,\n",
       "  'notes': 'This was an OK measurement',\n",
       "  'label_timestamp': '2021-10-15 09:46:51'},\n",
       " {'timestamp': 1570273260,\n",
       "  'label': 'OK',\n",
       "  'severity': 0,\n",
       "  'notes': 'This was an OK measurement',\n",
       "  'label_timestamp': '2021-10-15 09:46:51'},\n",
       " {'timestamp': 1570359660,\n",
       "  'label': 'bearing_failure',\n",
       "  'severity': 3,\n",
       "  'notes': 'Imaginary bearing failure',\n",
       "  'label_timestamp': '2021-10-15 09:46:51'}]"
      ]
     },
     "execution_count": 8,
     "metadata": {},
     "output_type": "execute_result"
    }
   ],
   "source": [
    "for measurement in measurements[:2]:\n",
    "    session.update_label(\n",
    "        sid=SOURCE_ID,\n",
    "        timestamp=measurement[\"timestamp\"],\n",
    "        label=\"OK\",\n",
    "        severity=0,\n",
    "        notes=\"This was an OK measurement\"\n",
    "    )\n",
    "\n",
    "# List the labels again\n",
    "labels = session.list_labels(SOURCE_ID)\n",
    "labels"
   ]
  },
  {
   "cell_type": "markdown",
   "metadata": {},
   "source": [
    "## Plotting labels\n",
    "\n",
    "To get an overview of the data and labels it can be very good to plot the labels over time. The `plotting` module of `mvg` contains the function `plot_labels_over_time` that does just that. The plot is very similar to that of the ModeId plots, so it is easy to compare results. We can add the `include_unlabeled=True` keyword to plot the unlabeled measurements as well."
   ]
  },
  {
   "cell_type": "code",
   "execution_count": 9,
   "metadata": {},
   "outputs": [
    {
     "data": {
      "text/plain": [
       "[]"
      ]
     },
     "execution_count": 9,
     "metadata": {},
     "output_type": "execute_result"
    },
    {
     "data": {
      "image/png": "[encoded data removed]",
      "text/plain": [
       "<Figure size 720x216 with 1 Axes>"
      ]
     },
     "metadata": {
      "needs_background": "light"
     },
     "output_type": "display_data"
    }
   ],
   "source": [
    "labels = session.list_labels(SOURCE_ID, include_unlabeled=True)\n",
    "plot_labels_over_time(labels, SOURCE_ID)"
   ]
  },
  {
   "cell_type": "markdown",
   "metadata": {},
   "source": [
    "As you can see we only labeled a small subset of the data. The idea is not to label all the measurements, but to label a part and then use that information to make inference about the unlabeled measurements. "
   ]
  },
  {
   "cell_type": "markdown",
   "metadata": {},
   "source": [
    "## Deleting labels\n",
    "\n",
    "To delete labels we use the `MVG.delete_label()` method. Let's use that to remove our example labels to get back to a clean slate."
   ]
  },
  {
   "cell_type": "code",
   "execution_count": 10,
   "metadata": {},
   "outputs": [
    {
     "name": "stdout",
     "output_type": "stream",
     "text": [
      "Removed 3 labels\n"
     ]
    }
   ],
   "source": [
    "labels = session.list_labels(SOURCE_ID)\n",
    "for label in labels:\n",
    "    session.delete_label(SOURCE_ID, label[\"timestamp\"])\n",
    "print(f\"Removed {len(labels)} labels\")"
   ]
  }
 ],
 "metadata": {
  "interpreter": {
   "hash": "a44fa91c5dfe8381243a89b49ad51245e1b4984ebdbff837585626a5fdba33e0"
  },
  "kernelspec": {
   "display_name": "Python 3.8.5 64-bit ('env': venv)",
   "name": "python3"
  },
  "language_info": {
   "codemirror_mode": {
    "name": "ipython",
    "version": 3
   },
   "file_extension": ".py",
   "mimetype": "text/x-python",
   "name": "python",
   "nbconvert_exporter": "python",
   "pygments_lexer": "ipython3",
   "version": "3.8.5"
  },
  "orig_nbformat": 4
 },
 "nbformat": 4,
 "nbformat_minor": 2
}
